{
 "cells": [
  {
   "cell_type": "markdown",
   "metadata": {},
   "source": [
    "# PySpark: Data Exploratory\n",
    "Once a Spark session is created, its running jobs can be monitored at the address: [Spark UI](http://localhost:4040/jobs/)."
   ]
  },
  {
   "cell_type": "code",
   "execution_count": null,
   "metadata": {},
   "outputs": [],
   "source": [
    "import findspark; findspark.init()\n",
    "from pyspark.sql import SparkSession\n",
    "spark = SparkSession.builder.enableHiveSupport().getOrCreate()\n",
    "spark.conf.set('spark.sql.repl.eagerEval.enabled', True)\n",
    "\n",
    "import pyspark.sql.functions as F\n",
    "import pyspark.sql.types as T\n",
    "from pyspark.mllib.stat import Statistics\n",
    "\n",
    "import numpy as np\n",
    "import pandas as pd"
   ]
  },
  {
   "cell_type": "code",
   "execution_count": 2,
   "metadata": {
    "execution": {
     "iopub.execute_input": "2023-01-24T08:39:21.787239Z",
     "iopub.status.busy": "2023-01-24T08:39:21.786860Z",
     "iopub.status.idle": "2023-01-24T08:39:21.792225Z",
     "shell.execute_reply": "2023-01-24T08:39:21.791115Z",
     "shell.execute_reply.started": "2023-01-24T08:39:21.787212Z"
    },
    "tags": [
     "hide-cell"
    ]
   },
   "outputs": [
    {
     "data": {
      "text/html": [
       "<style>\n",
       "th {font-size:12px}\n",
       "td {font-size:12px}\n",
       "p {font-size:14px}\n",
       "div.highlight {font-size:14px}\n",
       "</style>\n"
      ],
      "text/plain": [
       "<IPython.core.display.HTML object>"
      ]
     },
     "metadata": {},
     "output_type": "display_data"
    }
   ],
   "source": [
    "%%html\n",
    "<style>\n",
    "th {font-size:12px}\n",
    "td {font-size:12px}\n",
    "p {font-size:14px}\n",
    "div.highlight {font-size:14px}\n",
    "</style>"
   ]
  },
  {
   "cell_type": "markdown",
   "metadata": {},
   "source": [
    "## 1. PySpark dataframes"
   ]
  },
  {
   "cell_type": "markdown",
   "metadata": {},
   "source": [
    "### 1.1. Creating dataframes"
   ]
  },
  {
   "cell_type": "code",
   "execution_count": 1,
   "metadata": {
    "tags": [
     "remove-cell"
    ]
   },
   "outputs": [],
   "source": [
    "import findspark; findspark.init()\n",
    "from pyspark.sql import SparkSession\n",
    "spark = SparkSession.builder.enableHiveSupport().getOrCreate()\n",
    "spark.conf.set('spark.sql.repl.eagerEval.enabled', True)\n",
    "\n",
    "import pyspark.sql.functions as F\n",
    "import pyspark.sql.types as T\n",
    "\n",
    "import numpy as np\n",
    "import pandas as pd"
   ]
  },
  {
   "cell_type": "markdown",
   "metadata": {},
   "source": [
    "#### Manually"
   ]
  },
  {
   "cell_type": "code",
   "execution_count": 2,
   "metadata": {},
   "outputs": [
    {
     "data": {
      "text/html": [
       "<table border='1'>\n",
       "<tr><th>product</th><th>price</th><th>stock</th></tr>\n",
       "<tr><td>Laptop</td><td>$1000</td><td>15</td></tr>\n",
       "<tr><td>Mouse</td><td>$20</td><td>100</td></tr>\n",
       "<tr><td>Headphone</td><td>$50</td><td>50</td></tr>\n",
       "<tr><td>USB</td><td>null</td><td>100</td></tr>\n",
       "</table>\n"
      ],
      "text/plain": [
       "+---------+-----+-----+\n",
       "|  product|price|stock|\n",
       "+---------+-----+-----+\n",
       "|   Laptop|$1000|   15|\n",
       "|    Mouse|  $20|  100|\n",
       "|Headphone|  $50|   50|\n",
       "|      USB| null|  100|\n",
       "+---------+-----+-----+"
      ]
     },
     "execution_count": 2,
     "metadata": {},
     "output_type": "execute_result"
    }
   ],
   "source": [
    "data = [\n",
    "    ('Laptop', '$1000', 15),\n",
    "    ('Mouse', '$20', 100),\n",
    "    ('Headphone', '$50', 50),\n",
    "    ('USB', None, 100)\n",
    "]\n",
    "\n",
    "schema = ['product', 'price', 'stock']\n",
    "\n",
    "spark.createDataFrame(data, schema)"
   ]
  },
  {
   "cell_type": "markdown",
   "metadata": {},
   "source": [
    "#### Reading CSV files"
   ]
  },
  {
   "cell_type": "code",
   "execution_count": 3,
   "metadata": {
    "tags": [
     "output_scroll"
    ]
   },
   "outputs": [
    {
     "data": {
      "text/html": [
       "<table border='1'>\n",
       "<tr><th>Date</th><th>AAPL.Open</th><th>AAPL.High</th><th>AAPL.Low</th><th>AAPL.Close</th><th>AAPL.Volume</th><th>AAPL.Adjusted</th><th>dn</th><th>mavg</th><th>up</th><th>direction</th></tr>\n",
       "<tr><td>2015-02-17</td><td>127.489998</td><td>128.880005</td><td>126.919998</td><td>127.830002</td><td>63152400</td><td>122.905254</td><td>106.7410523</td><td>117.9276669</td><td>129.1142814</td><td>Increasing</td></tr>\n",
       "<tr><td>2015-02-18</td><td>127.629997</td><td>128.779999</td><td>127.449997</td><td>128.720001</td><td>44891700</td><td>123.760965</td><td>107.842423</td><td>118.9403335</td><td>130.0382439</td><td>Increasing</td></tr>\n",
       "<tr><td>2015-02-19</td><td>128.479996</td><td>129.029999</td><td>128.330002</td><td>128.449997</td><td>37362400</td><td>123.501363</td><td>108.8942449</td><td>119.8891668</td><td>130.8840887</td><td>Decreasing</td></tr>\n",
       "<tr><td>2015-02-20</td><td>128.619995</td><td>129.5</td><td>128.050003</td><td>129.5</td><td>48948400</td><td>124.510914</td><td>109.7854494</td><td>120.7635001</td><td>131.7415509</td><td>Increasing</td></tr>\n",
       "<tr><td>2015-02-23</td><td>130.020004</td><td>133</td><td>129.660004</td><td>133</td><td>70974100</td><td>127.876074</td><td>110.3725162</td><td>121.7201668</td><td>133.0678174</td><td>Increasing</td></tr>\n",
       "</table>\n"
      ],
      "text/plain": [
       "+----------+----------+----------+----------+----------+-----------+-------------+-----------+-----------+-----------+----------+\n",
       "|      Date| AAPL.Open| AAPL.High|  AAPL.Low|AAPL.Close|AAPL.Volume|AAPL.Adjusted|         dn|       mavg|         up| direction|\n",
       "+----------+----------+----------+----------+----------+-----------+-------------+-----------+-----------+-----------+----------+\n",
       "|2015-02-17|127.489998|128.880005|126.919998|127.830002|   63152400|   122.905254|106.7410523|117.9276669|129.1142814|Increasing|\n",
       "|2015-02-18|127.629997|128.779999|127.449997|128.720001|   44891700|   123.760965| 107.842423|118.9403335|130.0382439|Increasing|\n",
       "|2015-02-19|128.479996|129.029999|128.330002|128.449997|   37362400|   123.501363|108.8942449|119.8891668|130.8840887|Decreasing|\n",
       "|2015-02-20|128.619995|     129.5|128.050003|     129.5|   48948400|   124.510914|109.7854494|120.7635001|131.7415509|Increasing|\n",
       "|2015-02-23|130.020004|       133|129.660004|       133|   70974100|   127.876074|110.3725162|121.7201668|133.0678174|Increasing|\n",
       "+----------+----------+----------+----------+----------+-----------+-------------+-----------+-----------+-----------+----------+"
      ]
     },
     "execution_count": 3,
     "metadata": {},
     "output_type": "execute_result"
    }
   ],
   "source": [
    "spark.read.csv('../data/finance_charts_apple.csv', header=True).limit(5)"
   ]
  },
  {
   "cell_type": "markdown",
   "metadata": {},
   "source": [
    "#### Reading Excel files\n",
    "PySpark does not support reading Excel files. This can only be done indirectly with some help from Pandas."
   ]
  },
  {
   "cell_type": "code",
   "execution_count": 4,
   "metadata": {},
   "outputs": [
    {
     "data": {
      "text/html": [
       "<table border='1'>\n",
       "<tr><th>year</th><th>country</th><th>population</th></tr>\n",
       "<tr><td>1960</td><td>Afghanistan</td><td>8996351</td></tr>\n",
       "<tr><td>1961</td><td>Afghanistan</td><td>9166764</td></tr>\n",
       "<tr><td>1962</td><td>Afghanistan</td><td>9345868</td></tr>\n",
       "<tr><td>1963</td><td>Afghanistan</td><td>9533954</td></tr>\n",
       "<tr><td>1964</td><td>Afghanistan</td><td>9731361</td></tr>\n",
       "</table>\n"
      ],
      "text/plain": [
       "+----+-----------+----------+\n",
       "|year|    country|population|\n",
       "+----+-----------+----------+\n",
       "|1960|Afghanistan|   8996351|\n",
       "|1961|Afghanistan|   9166764|\n",
       "|1962|Afghanistan|   9345868|\n",
       "|1963|Afghanistan|   9533954|\n",
       "|1964|Afghanistan|   9731361|\n",
       "+----+-----------+----------+"
      ]
     },
     "execution_count": 4,
     "metadata": {},
     "output_type": "execute_result"
    }
   ],
   "source": [
    "df = pd.read_excel('../data/world_population.xlsx')\n",
    "spark.createDataFrame(df.astype(str)).limit(5)"
   ]
  },
  {
   "cell_type": "markdown",
   "metadata": {},
   "source": [
    "#### From SQL query"
   ]
  },
  {
   "cell_type": "code",
   "execution_count": 5,
   "metadata": {},
   "outputs": [
    {
     "data": {
      "text/html": [
       "<table border='1'>\n",
       "<tr><th>number</th></tr>\n",
       "<tr><td>7</td></tr>\n",
       "</table>\n"
      ],
      "text/plain": [
       "+------+\n",
       "|number|\n",
       "+------+\n",
       "|     7|\n",
       "+------+"
      ]
     },
     "execution_count": 5,
     "metadata": {},
     "output_type": "execute_result"
    }
   ],
   "source": [
    "spark.sql('SELECT 7 AS number')"
   ]
  },
  {
   "cell_type": "markdown",
   "metadata": {},
   "source": [
    "### 1.2. Data types\n",
    "The `pyspark.sql.types` sub-module provides a various number of [data types](https://spark.apache.org/docs/latest/sql-ref-datatypes.html). The table below summarizes the most notable ones.\n",
    "\n",
    "|Function     |Alias          |Data type  |\n",
    "|-------------|---------------|-----------|\n",
    "|BooleanType  |`boolean`      |Boolean    |\n",
    "|IntegerType  |`int`          |Integer    |\n",
    "|FloatType    |`float`        |Decimal    |\n",
    "|LongType     |`long`         |Big integer|\n",
    "|DecimalType  |`decimal(10,2)`|Big decimal|\n",
    "|StringType   |`string`       |String     |\n",
    "|DateType     |`date`         |Date       |\n",
    "|TimestampType|`timestamp`    |Time       |"
   ]
  },
  {
   "cell_type": "code",
   "execution_count": 6,
   "metadata": {
    "tags": [
     "remove-cell"
    ]
   },
   "outputs": [],
   "source": [
    "import findspark; findspark.init()\n",
    "from pyspark.sql import SparkSession\n",
    "spark = SparkSession.builder.enableHiveSupport().getOrCreate()\n",
    "spark.conf.set('spark.sql.repl.eagerEval.enabled', True)\n",
    "\n",
    "import pyspark.sql.functions as F\n",
    "import pyspark.sql.types as T\n",
    "\n",
    "import numpy as np\n",
    "import pandas as pd"
   ]
  },
  {
   "cell_type": "code",
   "execution_count": 7,
   "metadata": {
    "tags": [
     "output_scroll"
    ]
   },
   "outputs": [
    {
     "data": {
      "text/html": [
       "<table border='1'>\n",
       "<tr><th>video_id</th><th>trending_date</th><th>channel_title</th><th>category_id</th><th>publish_time</th><th>views</th><th>likes</th><th>dislikes</th><th>comment_count</th><th>comments_disabled</th><th>ratings_disabled</th></tr>\n",
       "<tr><td>2kyS6SvSYSE</td><td>2017-11-14</td><td>CaseyNeistat</td><td>22</td><td>2017-11-13T17:13:...</td><td>748374</td><td>57527</td><td>2966</td><td>15954</td><td>False</td><td>False</td></tr>\n",
       "<tr><td>1ZAPwfrtAFY</td><td>2017-11-14</td><td>LastWeekTonight</td><td>24</td><td>2017-11-13T07:30:...</td><td>2418783</td><td>97185</td><td>6146</td><td>12703</td><td>False</td><td>False</td></tr>\n",
       "<tr><td>5qpjK5DgCt4</td><td>2017-11-14</td><td>Rudy Mancuso</td><td>23</td><td>2017-11-12T19:05:...</td><td>3191434</td><td>146033</td><td>5339</td><td>8181</td><td>False</td><td>False</td></tr>\n",
       "<tr><td>puqaWrEC7tY</td><td>2017-11-14</td><td>Good Mythical Mor...</td><td>24</td><td>2017-11-13T11:00:...</td><td>343168</td><td>10172</td><td>666</td><td>2146</td><td>False</td><td>False</td></tr>\n",
       "<tr><td>d380meD0W0M</td><td>2017-11-14</td><td>nigahiga</td><td>24</td><td>2017-11-12T18:01:...</td><td>2095731</td><td>132235</td><td>1989</td><td>17518</td><td>False</td><td>False</td></tr>\n",
       "</table>\n"
      ],
      "text/plain": [
       "+-----------+-------------+--------------------+-----------+--------------------+-------+------+--------+-------------+-----------------+----------------+\n",
       "|   video_id|trending_date|       channel_title|category_id|        publish_time|  views| likes|dislikes|comment_count|comments_disabled|ratings_disabled|\n",
       "+-----------+-------------+--------------------+-----------+--------------------+-------+------+--------+-------------+-----------------+----------------+\n",
       "|2kyS6SvSYSE|   2017-11-14|        CaseyNeistat|         22|2017-11-13T17:13:...| 748374| 57527|    2966|        15954|            False|           False|\n",
       "|1ZAPwfrtAFY|   2017-11-14|     LastWeekTonight|         24|2017-11-13T07:30:...|2418783| 97185|    6146|        12703|            False|           False|\n",
       "|5qpjK5DgCt4|   2017-11-14|        Rudy Mancuso|         23|2017-11-12T19:05:...|3191434|146033|    5339|         8181|            False|           False|\n",
       "|puqaWrEC7tY|   2017-11-14|Good Mythical Mor...|         24|2017-11-13T11:00:...| 343168| 10172|     666|         2146|            False|           False|\n",
       "|d380meD0W0M|   2017-11-14|            nigahiga|         24|2017-11-12T18:01:...|2095731|132235|    1989|        17518|            False|           False|\n",
       "+-----------+-------------+--------------------+-----------+--------------------+-------+------+--------+-------------+-----------------+----------------+"
      ]
     },
     "execution_count": 7,
     "metadata": {},
     "output_type": "execute_result"
    }
   ],
   "source": [
    "dfYoutube = spark.read.csv('../data/youtube_trending.csv', header=True)\n",
    "dfYoutube.limit(5)"
   ]
  },
  {
   "cell_type": "code",
   "execution_count": 8,
   "metadata": {},
   "outputs": [
    {
     "data": {
      "text/plain": [
       "[('video_id', 'string'),\n",
       " ('trending_date', 'string'),\n",
       " ('channel_title', 'string'),\n",
       " ('category_id', 'string'),\n",
       " ('publish_time', 'string'),\n",
       " ('views', 'string'),\n",
       " ('likes', 'string'),\n",
       " ('dislikes', 'string'),\n",
       " ('comment_count', 'string'),\n",
       " ('comments_disabled', 'string'),\n",
       " ('ratings_disabled', 'string')]"
      ]
     },
     "execution_count": 8,
     "metadata": {},
     "output_type": "execute_result"
    }
   ],
   "source": [
    "dfYoutube.dtypes"
   ]
  },
  {
   "cell_type": "markdown",
   "metadata": {},
   "source": [
    "#### String"
   ]
  },
  {
   "cell_type": "code",
   "execution_count": 9,
   "metadata": {},
   "outputs": [
    {
     "data": {
      "text/plain": [
       "[('video_id', 'string')]"
      ]
     },
     "execution_count": 9,
     "metadata": {},
     "output_type": "execute_result"
    }
   ],
   "source": [
    "dfYoutube.select(F.col('video_id').cast('string')).dtypes"
   ]
  },
  {
   "cell_type": "markdown",
   "metadata": {},
   "source": [
    "#### Numeric"
   ]
  },
  {
   "cell_type": "code",
   "execution_count": 10,
   "metadata": {},
   "outputs": [
    {
     "name": "stdout",
     "output_type": "stream",
     "text": [
      "root\n",
      " |-- views: integer (nullable = true)\n",
      " |-- likes: decimal(10,0) (nullable = true)\n",
      "\n"
     ]
    }
   ],
   "source": [
    "dfYoutube.select(\n",
    "    F.col('views').cast('int'),\n",
    "    F.col('likes').cast('decimal(10,0)')\n",
    ").printSchema()"
   ]
  },
  {
   "cell_type": "markdown",
   "metadata": {},
   "source": [
    "#### Boolean"
   ]
  },
  {
   "cell_type": "code",
   "execution_count": 11,
   "metadata": {},
   "outputs": [
    {
     "data": {
      "text/plain": [
       "[('comments_disabled', 'boolean')]"
      ]
     },
     "execution_count": 11,
     "metadata": {},
     "output_type": "execute_result"
    }
   ],
   "source": [
    "dfYoutube.select(F.col('comments_disabled').cast('boolean')).dtypes"
   ]
  },
  {
   "cell_type": "markdown",
   "metadata": {},
   "source": [
    "#### Date and time"
   ]
  },
  {
   "cell_type": "code",
   "execution_count": 12,
   "metadata": {},
   "outputs": [
    {
     "data": {
      "text/html": [
       "<table border='1'>\n",
       "<tr><th>trending_date</th><th>publish_time</th><th>unix</th></tr>\n",
       "<tr><td>2017-11-14</td><td>2017-11-14 00:13:01</td><td>1510592400</td></tr>\n",
       "<tr><td>2017-11-14</td><td>2017-11-13 14:30:00</td><td>1510592400</td></tr>\n",
       "<tr><td>2017-11-14</td><td>2017-11-13 02:05:24</td><td>1510592400</td></tr>\n",
       "</table>\n"
      ],
      "text/plain": [
       "+-------------+-------------------+----------+\n",
       "|trending_date|       publish_time|      unix|\n",
       "+-------------+-------------------+----------+\n",
       "|   2017-11-14|2017-11-14 00:13:01|1510592400|\n",
       "|   2017-11-14|2017-11-13 14:30:00|1510592400|\n",
       "|   2017-11-14|2017-11-13 02:05:24|1510592400|\n",
       "+-------------+-------------------+----------+"
      ]
     },
     "execution_count": 12,
     "metadata": {},
     "output_type": "execute_result"
    }
   ],
   "source": [
    "dfYoutube.select(\n",
    "    F.to_date('trending_date', 'yyyy-MM-dd').alias('trending_date'),\n",
    "    F.to_timestamp('publish_time').alias('publish_time'),\n",
    "    F.unix_timestamp('trending_date', 'yyyy-MM-dd').alias('unix')\n",
    ").limit(3)"
   ]
  },
  {
   "cell_type": "markdown",
   "metadata": {},
   "source": [
    "## 2. Data exploratory"
   ]
  },
  {
   "cell_type": "markdown",
   "metadata": {},
   "source": [
    "### 2.1. Overview"
   ]
  },
  {
   "cell_type": "code",
   "execution_count": 13,
   "metadata": {
    "tags": [
     "remove-cell"
    ]
   },
   "outputs": [],
   "source": [
    "import findspark; findspark.init()\n",
    "from pyspark.sql import SparkSession\n",
    "spark = SparkSession.builder.enableHiveSupport().getOrCreate()\n",
    "spark.conf.set('spark.sql.repl.eagerEval.enabled', True)\n",
    "\n",
    "import pyspark.sql.functions as F\n",
    "import pyspark.sql.types as T\n",
    "\n",
    "import numpy as np\n",
    "import pandas as pd"
   ]
  },
  {
   "cell_type": "code",
   "execution_count": 14,
   "metadata": {
    "tags": [
     "output_scroll"
    ]
   },
   "outputs": [
    {
     "data": {
      "text/html": [
       "<table border='1'>\n",
       "<tr><th>video_id</th><th>trending_date</th><th>channel_title</th><th>category_id</th><th>publish_time</th><th>views</th><th>likes</th><th>dislikes</th><th>comment_count</th><th>comments_disabled</th><th>ratings_disabled</th></tr>\n",
       "<tr><td>2kyS6SvSYSE</td><td>2017-11-14</td><td>CaseyNeistat</td><td>22</td><td>2017-11-13T17:13:...</td><td>748374</td><td>57527</td><td>2966</td><td>15954</td><td>False</td><td>False</td></tr>\n",
       "<tr><td>1ZAPwfrtAFY</td><td>2017-11-14</td><td>LastWeekTonight</td><td>24</td><td>2017-11-13T07:30:...</td><td>2418783</td><td>97185</td><td>6146</td><td>12703</td><td>False</td><td>False</td></tr>\n",
       "<tr><td>5qpjK5DgCt4</td><td>2017-11-14</td><td>Rudy Mancuso</td><td>23</td><td>2017-11-12T19:05:...</td><td>3191434</td><td>146033</td><td>5339</td><td>8181</td><td>False</td><td>False</td></tr>\n",
       "<tr><td>puqaWrEC7tY</td><td>2017-11-14</td><td>Good Mythical Mor...</td><td>24</td><td>2017-11-13T11:00:...</td><td>343168</td><td>10172</td><td>666</td><td>2146</td><td>False</td><td>False</td></tr>\n",
       "<tr><td>d380meD0W0M</td><td>2017-11-14</td><td>nigahiga</td><td>24</td><td>2017-11-12T18:01:...</td><td>2095731</td><td>132235</td><td>1989</td><td>17518</td><td>False</td><td>False</td></tr>\n",
       "</table>\n"
      ],
      "text/plain": [
       "+-----------+-------------+--------------------+-----------+--------------------+-------+------+--------+-------------+-----------------+----------------+\n",
       "|   video_id|trending_date|       channel_title|category_id|        publish_time|  views| likes|dislikes|comment_count|comments_disabled|ratings_disabled|\n",
       "+-----------+-------------+--------------------+-----------+--------------------+-------+------+--------+-------------+-----------------+----------------+\n",
       "|2kyS6SvSYSE|   2017-11-14|        CaseyNeistat|         22|2017-11-13T17:13:...| 748374| 57527|    2966|        15954|            False|           False|\n",
       "|1ZAPwfrtAFY|   2017-11-14|     LastWeekTonight|         24|2017-11-13T07:30:...|2418783| 97185|    6146|        12703|            False|           False|\n",
       "|5qpjK5DgCt4|   2017-11-14|        Rudy Mancuso|         23|2017-11-12T19:05:...|3191434|146033|    5339|         8181|            False|           False|\n",
       "|puqaWrEC7tY|   2017-11-14|Good Mythical Mor...|         24|2017-11-13T11:00:...| 343168| 10172|     666|         2146|            False|           False|\n",
       "|d380meD0W0M|   2017-11-14|            nigahiga|         24|2017-11-12T18:01:...|2095731|132235|    1989|        17518|            False|           False|\n",
       "+-----------+-------------+--------------------+-----------+--------------------+-------+------+--------+-------------+-----------------+----------------+"
      ]
     },
     "execution_count": 14,
     "metadata": {},
     "output_type": "execute_result"
    }
   ],
   "source": [
    "dfYoutube = spark.read.csv('../data/youtube_trending.csv', header=True)\n",
    "dfYoutube.limit(5)"
   ]
  },
  {
   "cell_type": "markdown",
   "metadata": {},
   "source": [
    "#### Features analysis"
   ]
  },
  {
   "cell_type": "code",
   "execution_count": 15,
   "metadata": {},
   "outputs": [
    {
     "data": {
      "text/plain": [
       "9881"
      ]
     },
     "execution_count": 15,
     "metadata": {},
     "output_type": "execute_result"
    }
   ],
   "source": [
    "dfYoutube.count()"
   ]
  },
  {
   "cell_type": "code",
   "execution_count": 16,
   "metadata": {},
   "outputs": [
    {
     "data": {
      "text/plain": [
       "['video_id',\n",
       " 'trending_date',\n",
       " 'channel_title',\n",
       " 'category_id',\n",
       " 'publish_time',\n",
       " 'views',\n",
       " 'likes',\n",
       " 'dislikes',\n",
       " 'comment_count',\n",
       " 'comments_disabled',\n",
       " 'ratings_disabled']"
      ]
     },
     "execution_count": 16,
     "metadata": {},
     "output_type": "execute_result"
    }
   ],
   "source": [
    "dfYoutube.columns"
   ]
  },
  {
   "cell_type": "code",
   "execution_count": 17,
   "metadata": {},
   "outputs": [
    {
     "data": {
      "text/plain": [
       "[('video_id', 'string'),\n",
       " ('trending_date', 'string'),\n",
       " ('channel_title', 'string'),\n",
       " ('category_id', 'string'),\n",
       " ('publish_time', 'string'),\n",
       " ('views', 'string'),\n",
       " ('likes', 'string'),\n",
       " ('dislikes', 'string'),\n",
       " ('comment_count', 'string'),\n",
       " ('comments_disabled', 'string'),\n",
       " ('ratings_disabled', 'string')]"
      ]
     },
     "execution_count": 17,
     "metadata": {},
     "output_type": "execute_result"
    }
   ],
   "source": [
    "dfYoutube.dtypes"
   ]
  },
  {
   "cell_type": "markdown",
   "metadata": {},
   "source": [
    "#### Statistical summary"
   ]
  },
  {
   "cell_type": "code",
   "execution_count": 18,
   "metadata": {
    "tags": [
     "output_scroll"
    ]
   },
   "outputs": [
    {
     "data": {
      "text/html": [
       "<table border='1'>\n",
       "<tr><th>summary</th><th>video_id</th><th>trending_date</th><th>channel_title</th><th>category_id</th><th>publish_time</th><th>views</th><th>likes</th><th>dislikes</th><th>comment_count</th><th>comments_disabled</th><th>ratings_disabled</th></tr>\n",
       "<tr><td>count</td><td>9791</td><td>9881</td><td>9881</td><td>9881</td><td>9881</td><td>9881</td><td>9881</td><td>9881</td><td>9881</td><td>9881</td><td>9881</td></tr>\n",
       "<tr><td>mean</td><td>null</td><td>null</td><td>null</td><td>19.9703471308572</td><td>null</td><td>1288899.8444489425</td><td>47460.885639105356</td><td>3066.993320514118</td><td>5817.3166683534055</td><td>null</td><td>null</td></tr>\n",
       "<tr><td>stddev</td><td>null</td><td>null</td><td>null</td><td>7.544083075116899</td><td>null</td><td>5110157.363651556</td><td>170513.18455936198</td><td>38892.08334635203</td><td>30624.86865832553</td><td>null</td><td>null</td></tr>\n",
       "<tr><td>min</td><td>-0NYY8cqdiQ</td><td>2017-11-14</td><td>12 News</td><td>1</td><td>2008-06-17T00:07:...</td><td>10001</td><td>0</td><td>0</td><td>0</td><td>False</td><td>False</td></tr>\n",
       "<tr><td>25%</td><td>null</td><td>null</td><td>null</td><td>17.0</td><td>null</td><td>89594.0</td><td>2031.0</td><td>85.0</td><td>273.0</td><td>null</td><td>null</td></tr>\n",
       "<tr><td>50%</td><td>null</td><td>null</td><td>null</td><td>24.0</td><td>null</td><td>311117.0</td><td>9002.0</td><td>324.0</td><td>1031.0</td><td>null</td><td>null</td></tr>\n",
       "<tr><td>75%</td><td>null</td><td>null</td><td>null</td><td>25.0</td><td>null</td><td>1000754.0</td><td>29424.0</td><td>1130.0</td><td>3374.0</td><td>null</td><td>null</td></tr>\n",
       "<tr><td>max</td><td>zy0b9e40tK8</td><td>2018-02-01</td><td>wdwmagic</td><td>43</td><td>2018-01-31T17:44:...</td><td>99999</td><td>99980</td><td>998</td><td>99980</td><td>True</td><td>True</td></tr>\n",
       "</table>\n"
      ],
      "text/plain": [
       "+-------+-----------+-------------+-------------+-----------------+--------------------+------------------+------------------+-----------------+------------------+-----------------+----------------+\n",
       "|summary|   video_id|trending_date|channel_title|      category_id|        publish_time|             views|             likes|         dislikes|     comment_count|comments_disabled|ratings_disabled|\n",
       "+-------+-----------+-------------+-------------+-----------------+--------------------+------------------+------------------+-----------------+------------------+-----------------+----------------+\n",
       "|  count|       9791|         9881|         9881|             9881|                9881|              9881|              9881|             9881|              9881|             9881|            9881|\n",
       "|   mean|       null|         null|         null| 19.9703471308572|                null|1288899.8444489425|47460.885639105356|3066.993320514118|5817.3166683534055|             null|            null|\n",
       "| stddev|       null|         null|         null|7.544083075116899|                null| 5110157.363651556|170513.18455936198|38892.08334635203| 30624.86865832553|             null|            null|\n",
       "|    min|-0NYY8cqdiQ|   2017-11-14|      12 News|                1|2008-06-17T00:07:...|             10001|                 0|                0|                 0|            False|           False|\n",
       "|    25%|       null|         null|         null|             17.0|                null|           89594.0|            2031.0|             85.0|             273.0|             null|            null|\n",
       "|    50%|       null|         null|         null|             24.0|                null|          311117.0|            9002.0|            324.0|            1031.0|             null|            null|\n",
       "|    75%|       null|         null|         null|             25.0|                null|         1000754.0|           29424.0|           1130.0|            3374.0|             null|            null|\n",
       "|    max|zy0b9e40tK8|   2018-02-01|     wdwmagic|               43|2018-01-31T17:44:...|             99999|             99980|              998|             99980|             True|            True|\n",
       "+-------+-----------+-------------+-------------+-----------------+--------------------+------------------+------------------+-----------------+------------------+-----------------+----------------+"
      ]
     },
     "execution_count": 18,
     "metadata": {},
     "output_type": "execute_result"
    }
   ],
   "source": [
    "dfYoutube.summary()"
   ]
  },
  {
   "cell_type": "code",
   "execution_count": 19,
   "metadata": {},
   "outputs": [
    {
     "data": {
      "text/plain": [
       "0.8804327774530825"
      ]
     },
     "execution_count": 19,
     "metadata": {},
     "output_type": "execute_result"
    }
   ],
   "source": [
    "dfYoutube = dfYoutube.withColumn('likes', F.col('likes').cast('int')).withColumn('views', F.col('views').cast('int'))\n",
    "dfYoutube.corr('likes', 'views')"
   ]
  },
  {
   "cell_type": "code",
   "execution_count": 20,
   "metadata": {},
   "outputs": [
    {
     "data": {
      "text/plain": [
       "array([[1.        , 0.77526237, 0.85024311, 0.75684277],\n",
       "       [0.77526237, 1.        , 0.88043278, 0.6734562 ],\n",
       "       [0.85024311, 0.88043278, 1.        , 0.53002173],\n",
       "       [0.75684277, 0.6734562 , 0.53002173, 1.        ]])"
      ]
     },
     "execution_count": 20,
     "metadata": {},
     "output_type": "execute_result"
    }
   ],
   "source": [
    "from pyspark.mllib.stat import Statistics\n",
    "x = dfYoutube.select('comment_count', 'views', 'likes', 'dislikes').rdd.map(lambda row: row[0:])\n",
    "Statistics.corr(x)"
   ]
  },
  {
   "cell_type": "code",
   "execution_count": 21,
   "metadata": {},
   "outputs": [],
   "source": [
    "from pyspark.mllib.stat import Statistics\n",
    "import pandas as pd\n",
    "\n",
    "def computeCorrelationMatrix(df, method='pearson'):\n",
    "    dfRdd = df.rdd.map(lambda row: row[0:])\n",
    "    corr_mat = Statistics.corr(dfRdd, method=method)\n",
    "    corr_mat_df = pd.DataFrame(corr_mat, columns=df.columns,  index=df.columns)\n",
    "    return corr_mat_df"
   ]
  },
  {
   "cell_type": "code",
   "execution_count": 22,
   "metadata": {},
   "outputs": [
    {
     "data": {
      "text/html": [
       "<div>\n",
       "<style scoped>\n",
       "    .dataframe tbody tr th:only-of-type {\n",
       "        vertical-align: middle;\n",
       "    }\n",
       "\n",
       "    .dataframe tbody tr th {\n",
       "        vertical-align: top;\n",
       "    }\n",
       "\n",
       "    .dataframe thead th {\n",
       "        text-align: right;\n",
       "    }\n",
       "</style>\n",
       "<table border=\"1\" class=\"dataframe\">\n",
       "  <thead>\n",
       "    <tr style=\"text-align: right;\">\n",
       "      <th></th>\n",
       "      <th>comment_count</th>\n",
       "      <th>views</th>\n",
       "      <th>likes</th>\n",
       "      <th>dislikes</th>\n",
       "    </tr>\n",
       "  </thead>\n",
       "  <tbody>\n",
       "    <tr>\n",
       "      <th>comment_count</th>\n",
       "      <td>1.000000</td>\n",
       "      <td>0.775262</td>\n",
       "      <td>0.850243</td>\n",
       "      <td>0.756843</td>\n",
       "    </tr>\n",
       "    <tr>\n",
       "      <th>views</th>\n",
       "      <td>0.775262</td>\n",
       "      <td>1.000000</td>\n",
       "      <td>0.880433</td>\n",
       "      <td>0.673456</td>\n",
       "    </tr>\n",
       "    <tr>\n",
       "      <th>likes</th>\n",
       "      <td>0.850243</td>\n",
       "      <td>0.880433</td>\n",
       "      <td>1.000000</td>\n",
       "      <td>0.530022</td>\n",
       "    </tr>\n",
       "    <tr>\n",
       "      <th>dislikes</th>\n",
       "      <td>0.756843</td>\n",
       "      <td>0.673456</td>\n",
       "      <td>0.530022</td>\n",
       "      <td>1.000000</td>\n",
       "    </tr>\n",
       "  </tbody>\n",
       "</table>\n",
       "</div>"
      ],
      "text/plain": [
       "               comment_count     views     likes  dislikes\n",
       "comment_count       1.000000  0.775262  0.850243  0.756843\n",
       "views               0.775262  1.000000  0.880433  0.673456\n",
       "likes               0.850243  0.880433  1.000000  0.530022\n",
       "dislikes            0.756843  0.673456  0.530022  1.000000"
      ]
     },
     "execution_count": 22,
     "metadata": {},
     "output_type": "execute_result"
    }
   ],
   "source": [
    "computeCorrelationMatrix(dfYoutube.select('comment_count', 'views', 'likes', 'dislikes'))"
   ]
  },
  {
   "cell_type": "markdown",
   "metadata": {},
   "source": [
    "#### Missing values"
   ]
  },
  {
   "cell_type": "code",
   "execution_count": 23,
   "metadata": {
    "tags": [
     "hide-cell"
    ]
   },
   "outputs": [],
   "source": [
    "data = [\n",
    "    ('Laptop', '$1000', None),\n",
    "    ('Mouse', '$20', 100),\n",
    "    ('Headphone', '$50', 50),\n",
    "    ('USB', None, None)\n",
    "]\n",
    "\n",
    "schema = ['product', 'price', 'stock']\n",
    "\n",
    "dfProduct = spark.createDataFrame(data, schema)"
   ]
  },
  {
   "cell_type": "code",
   "execution_count": 23,
   "metadata": {},
   "outputs": [
    {
     "data": {
      "text/html": [
       "<table border='1'>\n",
       "<tr><th>product</th><th>price</th><th>stock</th></tr>\n",
       "<tr><td>Laptop</td><td>$1000</td><td>null</td></tr>\n",
       "<tr><td>Mouse</td><td>$20</td><td>100</td></tr>\n",
       "<tr><td>Headphone</td><td>$50</td><td>50</td></tr>\n",
       "<tr><td>USB</td><td>null</td><td>null</td></tr>\n",
       "</table>\n"
      ],
      "text/plain": [
       "+---------+-----+-----+\n",
       "|  product|price|stock|\n",
       "+---------+-----+-----+\n",
       "|   Laptop|$1000| null|\n",
       "|    Mouse|  $20|  100|\n",
       "|Headphone|  $50|   50|\n",
       "|      USB| null| null|\n",
       "+---------+-----+-----+"
      ]
     },
     "execution_count": 23,
     "metadata": {},
     "output_type": "execute_result"
    }
   ],
   "source": [
    "dfProduct"
   ]
  },
  {
   "cell_type": "code",
   "execution_count": 24,
   "metadata": {},
   "outputs": [
    {
     "data": {
      "text/html": [
       "<table border='1'>\n",
       "<tr><th>product</th><th>price</th><th>stock</th></tr>\n",
       "<tr><td>Laptop</td><td>$1000</td><td>null</td></tr>\n",
       "<tr><td>USB</td><td>null</td><td>null</td></tr>\n",
       "</table>\n"
      ],
      "text/plain": [
       "+-------+-----+-----+\n",
       "|product|price|stock|\n",
       "+-------+-----+-----+\n",
       "| Laptop|$1000| null|\n",
       "|    USB| null| null|\n",
       "+-------+-----+-----+"
      ]
     },
     "execution_count": 24,
     "metadata": {},
     "output_type": "execute_result"
    }
   ],
   "source": [
    "dfProduct.where(F.col('stock').isNull())"
   ]
  },
  {
   "cell_type": "code",
   "execution_count": 25,
   "metadata": {},
   "outputs": [
    {
     "data": {
      "text/html": [
       "<table border='1'>\n",
       "<tr><th>product</th><th>price</th><th>stock</th></tr>\n",
       "<tr><td>0</td><td>1</td><td>2</td></tr>\n",
       "</table>\n"
      ],
      "text/plain": [
       "+-------+-----+-----+\n",
       "|product|price|stock|\n",
       "+-------+-----+-----+\n",
       "|      0|    1|    2|\n",
       "+-------+-----+-----+"
      ]
     },
     "execution_count": 25,
     "metadata": {},
     "output_type": "execute_result"
    }
   ],
   "source": [
    "dfProduct.select(*(F.sum(F.col(c).isNull().cast('int')).alias(c) for c in dfProduct.columns))"
   ]
  },
  {
   "cell_type": "markdown",
   "metadata": {},
   "source": [
    "### 2.2. In-depth exploring"
   ]
  },
  {
   "cell_type": "code",
   "execution_count": 26,
   "metadata": {
    "tags": [
     "remove-cell"
    ]
   },
   "outputs": [],
   "source": [
    "import findspark; findspark.init()\n",
    "from pyspark.sql import SparkSession\n",
    "spark = SparkSession.builder.enableHiveSupport().getOrCreate()\n",
    "spark.conf.set('spark.sql.repl.eagerEval.enabled', True)\n",
    "\n",
    "import pyspark.sql.functions as F\n",
    "import pyspark.sql.types as T\n",
    "\n",
    "import numpy as np\n",
    "import pandas as pd"
   ]
  },
  {
   "cell_type": "code",
   "execution_count": 27,
   "metadata": {
    "tags": [
     "output_scroll"
    ]
   },
   "outputs": [
    {
     "data": {
      "text/html": [
       "<table border='1'>\n",
       "<tr><th>video_id</th><th>trending_date</th><th>channel_title</th><th>category_id</th><th>publish_time</th><th>views</th><th>likes</th><th>dislikes</th><th>comment_count</th><th>comments_disabled</th><th>ratings_disabled</th></tr>\n",
       "<tr><td>2kyS6SvSYSE</td><td>2017-11-14</td><td>CaseyNeistat</td><td>22</td><td>2017-11-13T17:13:...</td><td>748374</td><td>57527</td><td>2966</td><td>15954</td><td>False</td><td>False</td></tr>\n",
       "<tr><td>1ZAPwfrtAFY</td><td>2017-11-14</td><td>LastWeekTonight</td><td>24</td><td>2017-11-13T07:30:...</td><td>2418783</td><td>97185</td><td>6146</td><td>12703</td><td>False</td><td>False</td></tr>\n",
       "<tr><td>5qpjK5DgCt4</td><td>2017-11-14</td><td>Rudy Mancuso</td><td>23</td><td>2017-11-12T19:05:...</td><td>3191434</td><td>146033</td><td>5339</td><td>8181</td><td>False</td><td>False</td></tr>\n",
       "<tr><td>puqaWrEC7tY</td><td>2017-11-14</td><td>Good Mythical Mor...</td><td>24</td><td>2017-11-13T11:00:...</td><td>343168</td><td>10172</td><td>666</td><td>2146</td><td>False</td><td>False</td></tr>\n",
       "<tr><td>d380meD0W0M</td><td>2017-11-14</td><td>nigahiga</td><td>24</td><td>2017-11-12T18:01:...</td><td>2095731</td><td>132235</td><td>1989</td><td>17518</td><td>False</td><td>False</td></tr>\n",
       "</table>\n"
      ],
      "text/plain": [
       "+-----------+-------------+--------------------+-----------+--------------------+-------+------+--------+-------------+-----------------+----------------+\n",
       "|   video_id|trending_date|       channel_title|category_id|        publish_time|  views| likes|dislikes|comment_count|comments_disabled|ratings_disabled|\n",
       "+-----------+-------------+--------------------+-----------+--------------------+-------+------+--------+-------------+-----------------+----------------+\n",
       "|2kyS6SvSYSE|   2017-11-14|        CaseyNeistat|         22|2017-11-13T17:13:...| 748374| 57527|    2966|        15954|            False|           False|\n",
       "|1ZAPwfrtAFY|   2017-11-14|     LastWeekTonight|         24|2017-11-13T07:30:...|2418783| 97185|    6146|        12703|            False|           False|\n",
       "|5qpjK5DgCt4|   2017-11-14|        Rudy Mancuso|         23|2017-11-12T19:05:...|3191434|146033|    5339|         8181|            False|           False|\n",
       "|puqaWrEC7tY|   2017-11-14|Good Mythical Mor...|         24|2017-11-13T11:00:...| 343168| 10172|     666|         2146|            False|           False|\n",
       "|d380meD0W0M|   2017-11-14|            nigahiga|         24|2017-11-12T18:01:...|2095731|132235|    1989|        17518|            False|           False|\n",
       "+-----------+-------------+--------------------+-----------+--------------------+-------+------+--------+-------------+-----------------+----------------+"
      ]
     },
     "execution_count": 27,
     "metadata": {},
     "output_type": "execute_result"
    }
   ],
   "source": [
    "dfYoutube = spark.read.csv('../data/youtube_trending.csv', header=True)\n",
    "dfYoutube.limit(5)"
   ]
  },
  {
   "cell_type": "markdown",
   "metadata": {},
   "source": [
    "#### Selection"
   ]
  },
  {
   "cell_type": "code",
   "execution_count": 28,
   "metadata": {},
   "outputs": [
    {
     "data": {
      "text/plain": [
       "Column<'likes'>"
      ]
     },
     "execution_count": 28,
     "metadata": {},
     "output_type": "execute_result"
    }
   ],
   "source": [
    "dfYoutube.likes"
   ]
  },
  {
   "cell_type": "code",
   "execution_count": 29,
   "metadata": {},
   "outputs": [
    {
     "data": {
      "text/html": [
       "<table border='1'>\n",
       "<tr><th>views</th></tr>\n",
       "<tr><td>748374</td></tr>\n",
       "<tr><td>2418783</td></tr>\n",
       "<tr><td>3191434</td></tr>\n",
       "</table>\n"
      ],
      "text/plain": [
       "+-------+\n",
       "|  views|\n",
       "+-------+\n",
       "| 748374|\n",
       "|2418783|\n",
       "|3191434|\n",
       "+-------+"
      ]
     },
     "execution_count": 29,
     "metadata": {},
     "output_type": "execute_result"
    }
   ],
   "source": [
    "dfYoutube.select(F.col('views')).limit(3)"
   ]
  },
  {
   "cell_type": "code",
   "execution_count": 30,
   "metadata": {},
   "outputs": [
    {
     "data": {
      "text/html": [
       "<table border='1'>\n",
       "<tr><th>likes</th><th>dislikes</th></tr>\n",
       "<tr><td>57527</td><td>2966</td></tr>\n",
       "<tr><td>97185</td><td>6146</td></tr>\n",
       "<tr><td>146033</td><td>5339</td></tr>\n",
       "</table>\n"
      ],
      "text/plain": [
       "+------+--------+\n",
       "| likes|dislikes|\n",
       "+------+--------+\n",
       "| 57527|    2966|\n",
       "| 97185|    6146|\n",
       "|146033|    5339|\n",
       "+------+--------+"
      ]
     },
     "execution_count": 30,
     "metadata": {},
     "output_type": "execute_result"
    }
   ],
   "source": [
    "dfYoutube.select('likes', 'dislikes').limit(3)"
   ]
  },
  {
   "cell_type": "code",
   "execution_count": 31,
   "metadata": {},
   "outputs": [
    {
     "data": {
      "text/html": [
       "<table border='1'>\n",
       "<tr><th>like_dislike_diff</th></tr>\n",
       "<tr><td>54561.0</td></tr>\n",
       "<tr><td>91039.0</td></tr>\n",
       "<tr><td>140694.0</td></tr>\n",
       "</table>\n"
      ],
      "text/plain": [
       "+-----------------+\n",
       "|like_dislike_diff|\n",
       "+-----------------+\n",
       "|          54561.0|\n",
       "|          91039.0|\n",
       "|         140694.0|\n",
       "+-----------------+"
      ]
     },
     "execution_count": 31,
     "metadata": {},
     "output_type": "execute_result"
    }
   ],
   "source": [
    "dfYoutube.selectExpr('likes - dislikes AS like_dislike_diff').limit(3)"
   ]
  },
  {
   "cell_type": "code",
   "execution_count": 32,
   "metadata": {},
   "outputs": [
    {
     "data": {
      "text/plain": [
       "Row(video_id='gHZ1Qz0KiKM', trending_date='2017-11-14', channel_title='iJustine', category_id='28', publish_time='2017-11-13T19:07:23.000Z', views='119180', likes='9763', dislikes='511', comment_count='1434', comments_disabled='False', ratings_disabled='False')"
      ]
     },
     "execution_count": 32,
     "metadata": {},
     "output_type": "execute_result"
    }
   ],
   "source": [
    "dfYoutube.collect()[5]"
   ]
  },
  {
   "cell_type": "code",
   "execution_count": 33,
   "metadata": {},
   "outputs": [
    {
     "data": {
      "text/plain": [
       "'Rudy Mancuso'"
      ]
     },
     "execution_count": 33,
     "metadata": {},
     "output_type": "execute_result"
    }
   ],
   "source": [
    "dfYoutube.collect()[2].channel_title"
   ]
  },
  {
   "cell_type": "markdown",
   "metadata": {},
   "source": [
    "#### Filtering"
   ]
  },
  {
   "cell_type": "code",
   "execution_count": 34,
   "metadata": {
    "tags": [
     "output_scroll"
    ]
   },
   "outputs": [
    {
     "data": {
      "text/html": [
       "<table border='1'>\n",
       "<tr><th>video_id</th><th>trending_date</th><th>channel_title</th><th>category_id</th><th>publish_time</th><th>views</th><th>likes</th><th>dislikes</th><th>comment_count</th><th>comments_disabled</th><th>ratings_disabled</th></tr>\n",
       "<tr><td>TyHvyGVs42U</td><td>2017-11-26</td><td>LuisFonsiVEVO</td><td>10</td><td>2017-11-17T05:00:...</td><td>102012605</td><td>2376636</td><td>117196</td><td>134224</td><td>False</td><td>False</td></tr>\n",
       "<tr><td>FlsCjmMhFmw</td><td>2017-12-10</td><td>YouTube Spotlight</td><td>24</td><td>2017-12-06T17:58:...</td><td>100911567</td><td>2656659</td><td>1353647</td><td>682890</td><td>False</td><td>False</td></tr>\n",
       "<tr><td>FlsCjmMhFmw</td><td>2017-12-11</td><td>YouTube Spotlight</td><td>24</td><td>2017-12-06T17:58:...</td><td>113874632</td><td>2811215</td><td>1470383</td><td>787174</td><td>False</td><td>False</td></tr>\n",
       "<tr><td>FlsCjmMhFmw</td><td>2017-12-12</td><td>YouTube Spotlight</td><td>24</td><td>2017-12-06T17:58:...</td><td>125432237</td><td>2912702</td><td>1545015</td><td>807558</td><td>False</td><td>False</td></tr>\n",
       "<tr><td>FlsCjmMhFmw</td><td>2017-12-13</td><td>YouTube Spotlight</td><td>24</td><td>2017-12-06T17:58:...</td><td>137843120</td><td>3014471</td><td>1602383</td><td>817582</td><td>False</td><td>False</td></tr>\n",
       "<tr><td>FlsCjmMhFmw</td><td>2017-12-14</td><td>YouTube Spotlight</td><td>24</td><td>2017-12-06T17:58:...</td><td>149376127</td><td>3093544</td><td>1643059</td><td>810698</td><td>False</td><td>False</td></tr>\n",
       "</table>\n"
      ],
      "text/plain": [
       "+-----------+-------------+-----------------+-----------+--------------------+---------+-------+--------+-------------+-----------------+----------------+\n",
       "|   video_id|trending_date|    channel_title|category_id|        publish_time|    views|  likes|dislikes|comment_count|comments_disabled|ratings_disabled|\n",
       "+-----------+-------------+-----------------+-----------+--------------------+---------+-------+--------+-------------+-----------------+----------------+\n",
       "|TyHvyGVs42U|   2017-11-26|    LuisFonsiVEVO|         10|2017-11-17T05:00:...|102012605|2376636|  117196|       134224|            False|           False|\n",
       "|FlsCjmMhFmw|   2017-12-10|YouTube Spotlight|         24|2017-12-06T17:58:...|100911567|2656659| 1353647|       682890|            False|           False|\n",
       "|FlsCjmMhFmw|   2017-12-11|YouTube Spotlight|         24|2017-12-06T17:58:...|113874632|2811215| 1470383|       787174|            False|           False|\n",
       "|FlsCjmMhFmw|   2017-12-12|YouTube Spotlight|         24|2017-12-06T17:58:...|125432237|2912702| 1545015|       807558|            False|           False|\n",
       "|FlsCjmMhFmw|   2017-12-13|YouTube Spotlight|         24|2017-12-06T17:58:...|137843120|3014471| 1602383|       817582|            False|           False|\n",
       "|FlsCjmMhFmw|   2017-12-14|YouTube Spotlight|         24|2017-12-06T17:58:...|149376127|3093544| 1643059|       810698|            False|           False|\n",
       "+-----------+-------------+-----------------+-----------+--------------------+---------+-------+--------+-------------+-----------------+----------------+"
      ]
     },
     "execution_count": 34,
     "metadata": {},
     "output_type": "execute_result"
    }
   ],
   "source": [
    "dfYoutube.filter(F.col('views').cast('int')>100e6)"
   ]
  },
  {
   "cell_type": "code",
   "execution_count": 35,
   "metadata": {
    "tags": [
     "output_scroll"
    ]
   },
   "outputs": [
    {
     "data": {
      "text/html": [
       "<table border='1'>\n",
       "<tr><th>video_id</th><th>trending_date</th><th>channel_title</th><th>category_id</th><th>publish_time</th><th>views</th><th>likes</th><th>dislikes</th><th>comment_count</th><th>comments_disabled</th><th>ratings_disabled</th></tr>\n",
       "<tr><td>TyHvyGVs42U</td><td>2017-11-24</td><td>LuisFonsiVEVO</td><td>10</td><td>2017-11-17T05:00:...</td><td>80605857</td><td>2173715</td><td>104121</td><td>122511</td><td>False</td><td>False</td></tr>\n",
       "<tr><td>TyHvyGVs42U</td><td>2017-11-25</td><td>LuisFonsiVEVO</td><td>10</td><td>2017-11-17T05:00:...</td><td>91552137</td><td>2277789</td><td>110752</td><td>128071</td><td>False</td><td>False</td></tr>\n",
       "<tr><td>TyHvyGVs42U</td><td>2017-11-26</td><td>LuisFonsiVEVO</td><td>10</td><td>2017-11-17T05:00:...</td><td>102012605</td><td>2376636</td><td>117196</td><td>134224</td><td>False</td><td>False</td></tr>\n",
       "</table>\n"
      ],
      "text/plain": [
       "+-----------+-------------+-------------+-----------+--------------------+---------+-------+--------+-------------+-----------------+----------------+\n",
       "|   video_id|trending_date|channel_title|category_id|        publish_time|    views|  likes|dislikes|comment_count|comments_disabled|ratings_disabled|\n",
       "+-----------+-------------+-------------+-----------+--------------------+---------+-------+--------+-------------+-----------------+----------------+\n",
       "|TyHvyGVs42U|   2017-11-24|LuisFonsiVEVO|         10|2017-11-17T05:00:...| 80605857|2173715|  104121|       122511|            False|           False|\n",
       "|TyHvyGVs42U|   2017-11-25|LuisFonsiVEVO|         10|2017-11-17T05:00:...| 91552137|2277789|  110752|       128071|            False|           False|\n",
       "|TyHvyGVs42U|   2017-11-26|LuisFonsiVEVO|         10|2017-11-17T05:00:...|102012605|2376636|  117196|       134224|            False|           False|\n",
       "+-----------+-------------+-------------+-----------+--------------------+---------+-------+--------+-------------+-----------------+----------------+"
      ]
     },
     "execution_count": 35,
     "metadata": {},
     "output_type": "execute_result"
    }
   ],
   "source": [
    "dfYoutube.filter(\n",
    "    F.col('channel_title').contains('VEVO') &\n",
    "    (F.col('views').cast('int')>80e6)\n",
    ")"
   ]
  },
  {
   "cell_type": "code",
   "execution_count": 36,
   "metadata": {
    "tags": [
     "output_scroll"
    ]
   },
   "outputs": [
    {
     "data": {
      "text/html": [
       "<table border='1'>\n",
       "<tr><th>video_id</th><th>trending_date</th><th>channel_title</th><th>category_id</th><th>publish_time</th><th>views</th><th>likes</th><th>dislikes</th><th>comment_count</th><th>comments_disabled</th><th>ratings_disabled</th></tr>\n",
       "<tr><td>TyHvyGVs42U</td><td>2017-11-24</td><td>LuisFonsiVEVO</td><td>10</td><td>2017-11-17T05:00:...</td><td>80605857</td><td>2173715</td><td>104121</td><td>122511</td><td>False</td><td>False</td></tr>\n",
       "<tr><td>TyHvyGVs42U</td><td>2017-11-25</td><td>LuisFonsiVEVO</td><td>10</td><td>2017-11-17T05:00:...</td><td>91552137</td><td>2277789</td><td>110752</td><td>128071</td><td>False</td><td>False</td></tr>\n",
       "<tr><td>TyHvyGVs42U</td><td>2017-11-26</td><td>LuisFonsiVEVO</td><td>10</td><td>2017-11-17T05:00:...</td><td>102012605</td><td>2376636</td><td>117196</td><td>134224</td><td>False</td><td>False</td></tr>\n",
       "</table>\n"
      ],
      "text/plain": [
       "+-----------+-------------+-------------+-----------+--------------------+---------+-------+--------+-------------+-----------------+----------------+\n",
       "|   video_id|trending_date|channel_title|category_id|        publish_time|    views|  likes|dislikes|comment_count|comments_disabled|ratings_disabled|\n",
       "+-----------+-------------+-------------+-----------+--------------------+---------+-------+--------+-------------+-----------------+----------------+\n",
       "|TyHvyGVs42U|   2017-11-24|LuisFonsiVEVO|         10|2017-11-17T05:00:...| 80605857|2173715|  104121|       122511|            False|           False|\n",
       "|TyHvyGVs42U|   2017-11-25|LuisFonsiVEVO|         10|2017-11-17T05:00:...| 91552137|2277789|  110752|       128071|            False|           False|\n",
       "|TyHvyGVs42U|   2017-11-26|LuisFonsiVEVO|         10|2017-11-17T05:00:...|102012605|2376636|  117196|       134224|            False|           False|\n",
       "+-----------+-------------+-------------+-----------+--------------------+---------+-------+--------+-------------+-----------------+----------------+"
      ]
     },
     "execution_count": 36,
     "metadata": {},
     "output_type": "execute_result"
    }
   ],
   "source": [
    "dfYoutube.filter('channel_title LIKE \"%VEVO%\" AND views > 80e6').limit(3)"
   ]
  },
  {
   "cell_type": "code",
   "execution_count": 37,
   "metadata": {
    "tags": [
     "output_scroll"
    ]
   },
   "outputs": [
    {
     "data": {
      "text/html": [
       "<table border='1'>\n",
       "<tr><th>video_id</th><th>trending_date</th><th>channel_title</th><th>category_id</th><th>publish_time</th><th>views</th><th>likes</th><th>dislikes</th><th>comment_count</th><th>comments_disabled</th><th>ratings_disabled</th></tr>\n",
       "<tr><td>null</td><td>2017-11-14</td><td>Animal Adventure ...</td><td>15</td><td>2017-11-12T00:18:...</td><td>45455</td><td>2282</td><td>35</td><td>17</td><td>False</td><td>False</td></tr>\n",
       "<tr><td>null</td><td>2017-11-15</td><td>Animal Adventure ...</td><td>15</td><td>2017-11-12T00:18:...</td><td>45965</td><td>2284</td><td>35</td><td>17</td><td>False</td><td>False</td></tr>\n",
       "<tr><td>null</td><td>2017-11-16</td><td>Mental Floss</td><td>27</td><td>2017-11-15T16:00:...</td><td>21740</td><td>979</td><td>5</td><td>93</td><td>False</td><td>False</td></tr>\n",
       "</table>\n"
      ],
      "text/plain": [
       "+--------+-------------+--------------------+-----------+--------------------+-----+-----+--------+-------------+-----------------+----------------+\n",
       "|video_id|trending_date|       channel_title|category_id|        publish_time|views|likes|dislikes|comment_count|comments_disabled|ratings_disabled|\n",
       "+--------+-------------+--------------------+-----------+--------------------+-----+-----+--------+-------------+-----------------+----------------+\n",
       "|    null|   2017-11-14|Animal Adventure ...|         15|2017-11-12T00:18:...|45455| 2282|      35|           17|            False|           False|\n",
       "|    null|   2017-11-15|Animal Adventure ...|         15|2017-11-12T00:18:...|45965| 2284|      35|           17|            False|           False|\n",
       "|    null|   2017-11-16|        Mental Floss|         27|2017-11-15T16:00:...|21740|  979|       5|           93|            False|           False|\n",
       "+--------+-------------+--------------------+-----------+--------------------+-----+-----+--------+-------------+-----------------+----------------+"
      ]
     },
     "execution_count": 37,
     "metadata": {},
     "output_type": "execute_result"
    }
   ],
   "source": [
    "dfYoutube.filter(F.col('video_id').isNull()).limit(3)"
   ]
  },
  {
   "cell_type": "markdown",
   "metadata": {},
   "source": [
    "#### Sorting"
   ]
  },
  {
   "cell_type": "code",
   "execution_count": 38,
   "metadata": {
    "tags": [
     "output_scroll"
    ]
   },
   "outputs": [
    {
     "data": {
      "text/html": [
       "<table border='1'>\n",
       "<tr><th>video_id</th><th>trending_date</th><th>channel_title</th><th>category_id</th><th>publish_time</th><th>views</th><th>likes</th><th>dislikes</th><th>comment_count</th><th>comments_disabled</th><th>ratings_disabled</th></tr>\n",
       "<tr><td>qg0GdM60syI</td><td>2017-11-14</td><td>90s Commercials</td><td>27</td><td>2017-03-31T21:46:...</td><td>773</td><td>2</td><td>0</td><td>0</td><td>False</td><td>False</td></tr>\n",
       "<tr><td>NZFhMSgbKKM</td><td>2017-11-14</td><td>Ben Rohrbach</td><td>17</td><td>2017-11-13T15:11:...</td><td>945</td><td>7</td><td>5</td><td>8</td><td>False</td><td>False</td></tr>\n",
       "<tr><td>4d07RXYLsJE</td><td>2017-11-14</td><td>Jenny Hanell</td><td>28</td><td>2017-11-04T20:48:...</td><td>1827</td><td>3</td><td>0</td><td>2</td><td>False</td><td>False</td></tr>\n",
       "<tr><td>wRGldR_SQAA</td><td>2017-11-14</td><td>Steve Kovach</td><td>22</td><td>2017-11-09T18:01:...</td><td>2259</td><td>0</td><td>0</td><td>0</td><td>False</td><td>False</td></tr>\n",
       "<tr><td>zNqCVTs38nU</td><td>2017-11-14</td><td>D3sports.com</td><td>17</td><td>2017-11-13T02:15:...</td><td>4569</td><td>35</td><td>18</td><td>19</td><td>False</td><td>False</td></tr>\n",
       "</table>\n"
      ],
      "text/plain": [
       "+-----------+-------------+---------------+-----------+--------------------+-----+-----+--------+-------------+-----------------+----------------+\n",
       "|   video_id|trending_date|  channel_title|category_id|        publish_time|views|likes|dislikes|comment_count|comments_disabled|ratings_disabled|\n",
       "+-----------+-------------+---------------+-----------+--------------------+-----+-----+--------+-------------+-----------------+----------------+\n",
       "|qg0GdM60syI|   2017-11-14|90s Commercials|         27|2017-03-31T21:46:...|  773|    2|       0|            0|            False|           False|\n",
       "|NZFhMSgbKKM|   2017-11-14|   Ben Rohrbach|         17|2017-11-13T15:11:...|  945|    7|       5|            8|            False|           False|\n",
       "|4d07RXYLsJE|   2017-11-14|   Jenny Hanell|         28|2017-11-04T20:48:...| 1827|    3|       0|            2|            False|           False|\n",
       "|wRGldR_SQAA|   2017-11-14|   Steve Kovach|         22|2017-11-09T18:01:...| 2259|    0|       0|            0|            False|           False|\n",
       "|zNqCVTs38nU|   2017-11-14|   D3sports.com|         17|2017-11-13T02:15:...| 4569|   35|      18|           19|            False|           False|\n",
       "+-----------+-------------+---------------+-----------+--------------------+-----+-----+--------+-------------+-----------------+----------------+"
      ]
     },
     "execution_count": 38,
     "metadata": {},
     "output_type": "execute_result"
    }
   ],
   "source": [
    "dfYoutube.sort(\n",
    "    F.col('trending_date').cast('date').asc(),\n",
    "    F.col('views').cast('int').asc()\n",
    ").limit(5)"
   ]
  },
  {
   "cell_type": "markdown",
   "metadata": {},
   "source": [
    "#### Unique values"
   ]
  },
  {
   "cell_type": "code",
   "execution_count": 39,
   "metadata": {},
   "outputs": [
    {
     "data": {
      "text/html": [
       "<table border='1'>\n",
       "<tr><th>comments_disabled</th><th>ratings_disabled</th></tr>\n",
       "<tr><td>False</td><td>True</td></tr>\n",
       "<tr><td>True</td><td>True</td></tr>\n",
       "<tr><td>True</td><td>False</td></tr>\n",
       "<tr><td>False</td><td>False</td></tr>\n",
       "</table>\n"
      ],
      "text/plain": [
       "+-----------------+----------------+\n",
       "|comments_disabled|ratings_disabled|\n",
       "+-----------------+----------------+\n",
       "|            False|            True|\n",
       "|             True|            True|\n",
       "|             True|           False|\n",
       "|            False|           False|\n",
       "+-----------------+----------------+"
      ]
     },
     "execution_count": 39,
     "metadata": {},
     "output_type": "execute_result"
    }
   ],
   "source": [
    "dfYoutube.select('comments_disabled', 'ratings_disabled').distinct()"
   ]
  },
  {
   "cell_type": "code",
   "execution_count": 40,
   "metadata": {},
   "outputs": [
    {
     "data": {
      "text/html": [
       "<table border='1'>\n",
       "<tr><th>count(DISTINCT comments_disabled, ratings_disabled)</th></tr>\n",
       "<tr><td>4</td></tr>\n",
       "</table>\n"
      ],
      "text/plain": [
       "+---------------------------------------------------+\n",
       "|count(DISTINCT comments_disabled, ratings_disabled)|\n",
       "+---------------------------------------------------+\n",
       "|                                                  4|\n",
       "+---------------------------------------------------+"
      ]
     },
     "execution_count": 40,
     "metadata": {},
     "output_type": "execute_result"
    }
   ],
   "source": [
    "dfYoutube.select(F.countDistinct('comments_disabled', 'ratings_disabled'))"
   ]
  },
  {
   "cell_type": "markdown",
   "metadata": {},
   "source": [
    "#### Data aggregation"
   ]
  },
  {
   "cell_type": "code",
   "execution_count": 41,
   "metadata": {
    "tags": [
     "output_scroll"
    ]
   },
   "outputs": [
    {
     "data": {
      "text/html": [
       "<table border='1'>\n",
       "<tr><th>video_id</th><th>trending_date</th><th>channel_title</th><th>category_id</th><th>publish_time</th><th>views</th><th>likes</th><th>dislikes</th><th>comment_count</th><th>comments_disabled</th><th>ratings_disabled</th></tr>\n",
       "<tr><td>2kyS6SvSYSE</td><td>2017-11-14</td><td>CaseyNeistat</td><td>22</td><td>2017-11-13T17:13:...</td><td>748374</td><td>57527</td><td>2966</td><td>15954</td><td>False</td><td>False</td></tr>\n",
       "<tr><td>1ZAPwfrtAFY</td><td>2017-11-14</td><td>LastWeekTonight</td><td>24</td><td>2017-11-13T07:30:...</td><td>2418783</td><td>97185</td><td>6146</td><td>12703</td><td>False</td><td>False</td></tr>\n",
       "<tr><td>5qpjK5DgCt4</td><td>2017-11-14</td><td>Rudy Mancuso</td><td>23</td><td>2017-11-12T19:05:...</td><td>3191434</td><td>146033</td><td>5339</td><td>8181</td><td>False</td><td>False</td></tr>\n",
       "<tr><td>puqaWrEC7tY</td><td>2017-11-14</td><td>Good Mythical Mor...</td><td>24</td><td>2017-11-13T11:00:...</td><td>343168</td><td>10172</td><td>666</td><td>2146</td><td>False</td><td>False</td></tr>\n",
       "<tr><td>d380meD0W0M</td><td>2017-11-14</td><td>nigahiga</td><td>24</td><td>2017-11-12T18:01:...</td><td>2095731</td><td>132235</td><td>1989</td><td>17518</td><td>False</td><td>False</td></tr>\n",
       "</table>\n"
      ],
      "text/plain": [
       "+-----------+-------------+--------------------+-----------+--------------------+-------+------+--------+-------------+-----------------+----------------+\n",
       "|   video_id|trending_date|       channel_title|category_id|        publish_time|  views| likes|dislikes|comment_count|comments_disabled|ratings_disabled|\n",
       "+-----------+-------------+--------------------+-----------+--------------------+-------+------+--------+-------------+-----------------+----------------+\n",
       "|2kyS6SvSYSE|   2017-11-14|        CaseyNeistat|         22|2017-11-13T17:13:...| 748374| 57527|    2966|        15954|            False|           False|\n",
       "|1ZAPwfrtAFY|   2017-11-14|     LastWeekTonight|         24|2017-11-13T07:30:...|2418783| 97185|    6146|        12703|            False|           False|\n",
       "|5qpjK5DgCt4|   2017-11-14|        Rudy Mancuso|         23|2017-11-12T19:05:...|3191434|146033|    5339|         8181|            False|           False|\n",
       "|puqaWrEC7tY|   2017-11-14|Good Mythical Mor...|         24|2017-11-13T11:00:...| 343168| 10172|     666|         2146|            False|           False|\n",
       "|d380meD0W0M|   2017-11-14|            nigahiga|         24|2017-11-12T18:01:...|2095731|132235|    1989|        17518|            False|           False|\n",
       "+-----------+-------------+--------------------+-----------+--------------------+-------+------+--------+-------------+-----------------+----------------+"
      ]
     },
     "execution_count": 41,
     "metadata": {},
     "output_type": "execute_result"
    }
   ],
   "source": [
    "dfYoutube.limit(5)"
   ]
  },
  {
   "cell_type": "code",
   "execution_count": 42,
   "metadata": {},
   "outputs": [],
   "source": [
    "columns = ['views', 'likes', 'dislikes', 'comment_count']\n",
    "for c in columns:\n",
    "    youtube = dfYoutube.withColumn(c, F.col(c).cast('int'))"
   ]
  },
  {
   "cell_type": "code",
   "execution_count": 43,
   "metadata": {},
   "outputs": [
    {
     "data": {
      "text/html": [
       "<table border='1'>\n",
       "<tr><th>category_id</th><th>count</th></tr>\n",
       "<tr><td>15</td><td>199</td></tr>\n",
       "<tr><td>29</td><td>15</td></tr>\n",
       "<tr><td>22</td><td>798</td></tr>\n",
       "<tr><td>28</td><td>546</td></tr>\n",
       "<tr><td>43</td><td>10</td></tr>\n",
       "</table>\n"
      ],
      "text/plain": [
       "+-----------+-----+\n",
       "|category_id|count|\n",
       "+-----------+-----+\n",
       "|         15|  199|\n",
       "|         29|   15|\n",
       "|         22|  798|\n",
       "|         28|  546|\n",
       "|         43|   10|\n",
       "+-----------+-----+"
      ]
     },
     "execution_count": 43,
     "metadata": {},
     "output_type": "execute_result"
    }
   ],
   "source": [
    "dfYoutube.groupby('category_id').count().limit(5)"
   ]
  },
  {
   "cell_type": "code",
   "execution_count": 44,
   "metadata": {
    "tags": [
     "output_scroll"
    ]
   },
   "outputs": [
    {
     "data": {
      "text/html": [
       "<table border='1'>\n",
       "<tr><th>category_id</th><th>avg(likes)</th><th>sum(likes)</th><th>max(likes)</th><th>stddev_samp(views)</th><th>var_samp(views)</th><th>skewness(views)</th><th>kurtosis(views)</th></tr>\n",
       "<tr><td>15</td><td>20438.45226130653</td><td>4067252.0</td><td>9939</td><td>1053910.929171636</td><td>1.110728246627421...</td><td>3.7439036440919358</td><td>14.581943331932447</td></tr>\n",
       "<tr><td>29</td><td>133141.86666666667</td><td>1997128.0</td><td>986</td><td>6267908.628900739</td><td>3.928667858024835E13</td><td>3.4743735320694227</td><td>10.071331820156791</td></tr>\n",
       "<tr><td>22</td><td>32485.075187969924</td><td>2.592309E7</td><td>9857</td><td>1536250.770096244</td><td>2.360066428621303E12</td><td>4.172345303282912</td><td>21.43860099370683</td></tr>\n",
       "<tr><td>28</td><td>25856.664835164836</td><td>1.4117739E7</td><td>99783</td><td>1611070.241800707</td><td>2.595547324015788...</td><td>4.020001503753627</td><td>18.471799408511846</td></tr>\n",
       "<tr><td>43</td><td>4410.8</td><td>44108.0</td><td>4739</td><td>21735.7763506774</td><td>4.724439735666669E8</td><td>-1.0559781645594817</td><td>0.12177982169667523</td></tr>\n",
       "</table>\n"
      ],
      "text/plain": [
       "+-----------+------------------+-----------+----------+------------------+--------------------+-------------------+-------------------+\n",
       "|category_id|        avg(likes)| sum(likes)|max(likes)|stddev_samp(views)|     var_samp(views)|    skewness(views)|    kurtosis(views)|\n",
       "+-----------+------------------+-----------+----------+------------------+--------------------+-------------------+-------------------+\n",
       "|         15| 20438.45226130653|  4067252.0|      9939| 1053910.929171636|1.110728246627421...| 3.7439036440919358| 14.581943331932447|\n",
       "|         29|133141.86666666667|  1997128.0|       986| 6267908.628900739|3.928667858024835E13| 3.4743735320694227| 10.071331820156791|\n",
       "|         22|32485.075187969924| 2.592309E7|      9857| 1536250.770096244|2.360066428621303E12|  4.172345303282912|  21.43860099370683|\n",
       "|         28|25856.664835164836|1.4117739E7|     99783| 1611070.241800707|2.595547324015788...|  4.020001503753627| 18.471799408511846|\n",
       "|         43|            4410.8|    44108.0|      4739|  21735.7763506774| 4.724439735666669E8|-1.0559781645594817|0.12177982169667523|\n",
       "+-----------+------------------+-----------+----------+------------------+--------------------+-------------------+-------------------+"
      ]
     },
     "execution_count": 44,
     "metadata": {},
     "output_type": "execute_result"
    }
   ],
   "source": [
    "dfYoutube.groupby('category_id').agg(\n",
    "    F.mean('likes'), F.sum('likes'), F.max('likes'),\n",
    "    F.stddev('views'), F.variance('views'), F.skewness('views'), F.kurtosis('views')\n",
    ").limit(5)"
   ]
  },
  {
   "cell_type": "code",
   "execution_count": 45,
   "metadata": {},
   "outputs": [
    {
     "data": {
      "text/html": [
       "<table border='1'>\n",
       "<tr><th>category_id</th><th>kurtosis(views)</th><th>max(likes)</th></tr>\n",
       "<tr><td>15</td><td>14.581943331932447</td><td>9939</td></tr>\n",
       "<tr><td>29</td><td>10.071331820156791</td><td>986</td></tr>\n",
       "<tr><td>22</td><td>21.43860099370683</td><td>9857</td></tr>\n",
       "<tr><td>28</td><td>18.471799408511846</td><td>99783</td></tr>\n",
       "<tr><td>43</td><td>0.12177982169667523</td><td>4739</td></tr>\n",
       "</table>\n"
      ],
      "text/plain": [
       "+-----------+-------------------+----------+\n",
       "|category_id|    kurtosis(views)|max(likes)|\n",
       "+-----------+-------------------+----------+\n",
       "|         15| 14.581943331932447|      9939|\n",
       "|         29| 10.071331820156791|       986|\n",
       "|         22|  21.43860099370683|      9857|\n",
       "|         28| 18.471799408511846|     99783|\n",
       "|         43|0.12177982169667523|      4739|\n",
       "+-----------+-------------------+----------+"
      ]
     },
     "execution_count": 45,
     "metadata": {},
     "output_type": "execute_result"
    }
   ],
   "source": [
    "dfYoutube.groupby('category_id').agg({\n",
    "    'likes': 'mean', 'likes': 'sum', 'likes': 'max',\n",
    "    'views': 'stddev', 'views': 'variance', 'views': 'skewness', 'views': 'kurtosis'\n",
    "}).limit(5)"
   ]
  },
  {
   "cell_type": "code",
   "execution_count": 46,
   "metadata": {
    "tags": [
     "output_scroll"
    ]
   },
   "outputs": [
    {
     "data": {
      "text/html": [
       "<table border='1'>\n",
       "<tr><th>comments_disabled</th><th>ratings_disabled</th><th>1</th><th>10</th><th>15</th><th>17</th><th>19</th><th>2</th><th>20</th><th>22</th><th>23</th><th>24</th><th>25</th><th>26</th><th>27</th><th>28</th><th>29</th><th>43</th></tr>\n",
       "<tr><td>False</td><td>True</td><td>null</td><td>null</td><td>null</td><td>null</td><td>null</td><td>7</td><td>null</td><td>10</td><td>null</td><td>null</td><td>null</td><td>null</td><td>null</td><td>null</td><td>null</td><td>null</td></tr>\n",
       "<tr><td>True</td><td>True</td><td>7</td><td>8</td><td>null</td><td>7</td><td>null</td><td>null</td><td>null</td><td>null</td><td>null</td><td>4</td><td>1</td><td>null</td><td>null</td><td>1</td><td>4</td><td>null</td></tr>\n",
       "<tr><td>True</td><td>False</td><td>null</td><td>null</td><td>null</td><td>null</td><td>null</td><td>null</td><td>7</td><td>24</td><td>2</td><td>43</td><td>57</td><td>null</td><td>5</td><td>21</td><td>null</td><td>null</td></tr>\n",
       "<tr><td>False</td><td>False</td><td>533</td><td>1606</td><td>199</td><td>475</td><td>98</td><td>102</td><td>78</td><td>764</td><td>925</td><td>2362</td><td>726</td><td>913</td><td>347</td><td>524</td><td>11</td><td>10</td></tr>\n",
       "</table>\n"
      ],
      "text/plain": [
       "+-----------------+----------------+----+----+----+----+----+----+----+----+----+----+----+----+----+----+----+----+\n",
       "|comments_disabled|ratings_disabled|   1|  10|  15|  17|  19|   2|  20|  22|  23|  24|  25|  26|  27|  28|  29|  43|\n",
       "+-----------------+----------------+----+----+----+----+----+----+----+----+----+----+----+----+----+----+----+----+\n",
       "|            False|            True|null|null|null|null|null|   7|null|  10|null|null|null|null|null|null|null|null|\n",
       "|             True|            True|   7|   8|null|   7|null|null|null|null|null|   4|   1|null|null|   1|   4|null|\n",
       "|             True|           False|null|null|null|null|null|null|   7|  24|   2|  43|  57|null|   5|  21|null|null|\n",
       "|            False|           False| 533|1606| 199| 475|  98| 102|  78| 764| 925|2362| 726| 913| 347| 524|  11|  10|\n",
       "+-----------------+----------------+----+----+----+----+----+----+----+----+----+----+----+----+----+----+----+----+"
      ]
     },
     "execution_count": 46,
     "metadata": {},
     "output_type": "execute_result"
    }
   ],
   "source": [
    "dfYoutube\\\n",
    "    .groupby('comments_disabled', 'ratings_disabled')\\\n",
    "    .pivot('category_id')\\\n",
    "    .count()"
   ]
  }
 ],
 "metadata": {
  "kernelspec": {
   "display_name": "Python 3",
   "language": "python",
   "name": "python3"
  },
  "language_info": {
   "codemirror_mode": {
    "name": "ipython",
    "version": 3
   },
   "file_extension": ".py",
   "mimetype": "text/x-python",
   "name": "python",
   "nbconvert_exporter": "python",
   "pygments_lexer": "ipython3",
   "version": "3.8.8"
  },
  "toc-autonumbering": false,
  "toc-showcode": false,
  "toc-showmarkdowntxt": false
 },
 "nbformat": 4,
 "nbformat_minor": 4
}
