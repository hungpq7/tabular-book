{
 "cells": [
  {
   "cell_type": "markdown",
   "id": "ef454fe2-bce0-4abc-8d2e-e7dd506507a5",
   "metadata": {},
   "source": [
    "# OpenCV: Image Processing"
   ]
  },
  {
   "cell_type": "markdown",
   "id": "35c85a9c-c42f-4354-8f86-17bee61638cc",
   "metadata": {},
   "source": [
    "## 1. Image manipulation"
   ]
  },
  {
   "cell_type": "markdown",
   "id": "e9ad83bf-40c4-4cba-9bb0-4b3599b20ed2",
   "metadata": {},
   "source": [
    "### 1.1. Color scales\n",
    "RGB, HSV, binary, grey scale"
   ]
  },
  {
   "cell_type": "markdown",
   "id": "3ca41523-f50b-4582-ac63-5157a5bd6970",
   "metadata": {},
   "source": [
    "### 1.2. Basic techniques"
   ]
  },
  {
   "cell_type": "markdown",
   "id": "da9ddb82-c942-463e-920c-53ef8e2b12c9",
   "metadata": {},
   "source": [
    "#### Resize"
   ]
  },
  {
   "cell_type": "markdown",
   "id": "f3ef8154-a9a7-4588-bac8-59d2162063e5",
   "metadata": {},
   "source": [
    "#### Cropping"
   ]
  },
  {
   "cell_type": "markdown",
   "id": "5019e7a0-b72b-496f-9148-5e8dc88cfb40",
   "metadata": {},
   "source": [
    "#### Rotating"
   ]
  },
  {
   "cell_type": "markdown",
   "id": "cc839157-32bc-4da2-96f6-1f17eaf78c84",
   "metadata": {},
   "source": [
    "#### Flipping"
   ]
  },
  {
   "cell_type": "markdown",
   "id": "a5136796-4f4a-4e36-b17d-64141785ae33",
   "metadata": {},
   "source": [
    "### 1.3. Image histogram\n",
    "https://docs.opencv.org/2.4/modules/imgproc/doc/histograms.html"
   ]
  },
  {
   "cell_type": "markdown",
   "id": "fa82c770-2413-4573-84c9-58558cf0106d",
   "metadata": {},
   "source": [
    "#### Histogram equalizer\n",
    "https://docs.opencv.org/2.4/modules/imgproc/doc/histograms.html#equalizehist"
   ]
  },
  {
   "cell_type": "markdown",
   "id": "7debe522-2abd-4129-b465-0ae3704719ca",
   "metadata": {},
   "source": [
    "## 2. Convolution\n",
    "- denoise, blur, sharpen (single conv)\n",
    "- filter2d\n",
    "- Edge detection: prewitt, sobel, robert, canny (multi conv)"
   ]
  }
 ],
 "metadata": {
  "kernelspec": {
   "display_name": "Python 3",
   "language": "python",
   "name": "python3"
  },
  "language_info": {
   "codemirror_mode": {
    "name": "ipython",
    "version": 3
   },
   "file_extension": ".py",
   "mimetype": "text/x-python",
   "name": "python",
   "nbconvert_exporter": "python",
   "pygments_lexer": "ipython3",
   "version": "3.8.8"
  }
 },
 "nbformat": 4,
 "nbformat_minor": 5
}
