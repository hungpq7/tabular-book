{
 "cells": [
  {
   "cell_type": "markdown",
   "metadata": {
    "datalore": {
     "hide_input_from_viewers": false,
     "hide_output_from_viewers": false,
     "type": "MD"
    }
   },
   "source": [
    "## Thinking process\n",
    "The database contains three pieces of information which answer these questions:\n",
    "- who are the users?\n",
    "- what device are they using?\n",
    "- how did they play the tutorial?\n",
    "- how much have they spent? (this data is not available for new users)\n",
    "\n",
    "The variable `total_spending` lets me know whether the users are likely to spend; and if they are, how much they are going to spend? The in-game packages should not be either too cheap or too expensive; in other words, their prices should attract users. I am going to build a model that predicts the potential score of new users who have just finished the tutorial. The target variable is `total_spending`. The working pipeline is as follow:\n",
    "1. Gather all three tables into one, then perform train-validation-test split. The split must be done before performing any preprocessing.\n",
    "2. Perform feature engineering techniques: handle missing values, encode categorical features and extract text data.\n",
    "3. Construct a function to transform the features. This function is going to be used on any set (train, valid, test) and even data of new users.\n",
    "4. Build a model to predict the target variable using input features."
   ]
  },
  {
   "cell_type": "code",
   "execution_count": 33,
   "metadata": {
    "datalore": {
     "hide_input_from_viewers": false,
     "hide_output_from_viewers": false,
     "type": "CODE"
    },
    "execution": {
     "iopub.execute_input": "2022-03-29T17:52:07.935083Z",
     "iopub.status.busy": "2022-03-29T17:52:07.934790Z",
     "iopub.status.idle": "2022-03-29T17:52:07.960888Z",
     "shell.execute_reply": "2022-03-29T17:52:07.959733Z",
     "shell.execute_reply.started": "2022-03-29T17:52:07.935055Z"
    },
    "tags": []
   },
   "outputs": [],
   "source": [
    "import scipy\n",
    "import numpy as np\n",
    "import pandas as pd\n",
    "import sqlite3\n",
    "import matplotlib.pyplot as plt\n",
    "import seaborn as sns\n",
    "import xgboost as xgb\n",
    "import lightgbm as lgb\n",
    "import warnings\n",
    "warnings.filterwarnings('ignore')\n",
    "plt.style.use(['seaborn', 'seaborn-whitegrid'])\n",
    "%config InlineBackend.figure_format = 'retina'\n",
    "\n",
    "from sklearn.model_selection import train_test_split\n",
    "from sklearn.preprocessing import StandardScaler, FunctionTransformer, MinMaxScaler, OrdinalEncoder, LabelEncoder\n",
    "from sklearn.pipeline import Pipeline, make_pipeline\n",
    "from sklearn.compose import ColumnTransformer\n",
    "from sklearn.impute import SimpleImputer, KNNImputer\n",
    "from sklearn.metrics import precision_score, recall_score, roc_auc_score\n",
    "from sklearn.metrics import r2_score, mean_squared_error\n",
    "from xgboost import XGBClassifier, XGBRegressor\n",
    "from lightgbm import LGBMClassifier, LGBMRegressor"
   ]
  },
  {
   "cell_type": "markdown",
   "metadata": {},
   "source": [
    "## Read data\n",
    "After reading 3 files to Pandas dataframe, I save all as parquet zip format so that the next time I read them is much more faster."
   ]
  },
  {
   "cell_type": "code",
   "execution_count": 140,
   "metadata": {
    "datalore": {
     "hide_input_from_viewers": false,
     "hide_output_from_viewers": false,
     "type": "CODE"
    },
    "execution": {
     "iopub.execute_input": "2022-03-29T20:51:21.235653Z",
     "iopub.status.busy": "2022-03-29T20:51:21.234754Z",
     "iopub.status.idle": "2022-03-29T20:51:47.379269Z",
     "shell.execute_reply": "2022-03-29T20:51:47.376596Z",
     "shell.execute_reply.started": "2022-03-29T20:51:21.235573Z"
    },
    "tags": []
   },
   "outputs": [],
   "source": [
    "db = 'ka_devices.db'\n",
    "conn = sqlite3.connect(db)\n",
    "cursor = conn.cursor()\n",
    "\n",
    "# print out table list\n",
    "# _ = [print(table[0]) for table in cursor.execute(\"SELECT name FROM sqlite_master WHERE type = 'table'\")]\n",
    "\n",
    "query = \"SELECT * FROM devices\"\n",
    "dfDevice = pd.read_sql_query(query, conn)\n",
    "conn.close()\n",
    "\n",
    "dfAction = pd.read_parquet('ka_actions.parquet')\n",
    "dfUser = pd.read_csv('ka_users.csv')"
   ]
  },
  {
   "cell_type": "code",
   "execution_count": null,
   "metadata": {},
   "outputs": [],
   "source": [
    "dfAction.to_parquet('ka_actions.parquet')\n",
    "dfUser.to_parquet('ka_users.parquet')"
   ]
  },
  {
   "cell_type": "code",
   "execution_count": 164,
   "metadata": {
    "datalore": {
     "hide_input_from_viewers": false,
     "hide_output_from_viewers": false,
     "type": "CODE"
    },
    "execution": {
     "iopub.execute_input": "2022-03-29T22:12:29.018062Z",
     "iopub.status.busy": "2022-03-29T22:12:29.017564Z",
     "iopub.status.idle": "2022-03-29T22:12:31.846296Z",
     "shell.execute_reply": "2022-03-29T22:12:31.845448Z",
     "shell.execute_reply.started": "2022-03-29T22:12:29.018019Z"
    },
    "tags": []
   },
   "outputs": [],
   "source": [
    "dfAction = pd.read_parquet('ka_actions.parquet')\n",
    "dfUser = pd.read_parquet('ka_users.parquet')\n",
    "dfDevice = pd.read_parquet('ka_devices.parquet').drop(columns='index')"
   ]
  },
  {
   "cell_type": "markdown",
   "metadata": {},
   "source": [
    "## EDA\n",
    "I perform some simple exploratory data analysis to understand about the data and think about feature engineering approaches."
   ]
  },
  {
   "cell_type": "markdown",
   "metadata": {
    "datalore": {
     "hide_input_from_viewers": false,
     "hide_output_from_viewers": false,
     "type": "MD"
    }
   },
   "source": [
    "#### ka_users\n",
    "\n",
    "- uid_s - unique user identifier\n",
    "- lang_s - language used on user's device\n",
    "- geo_s - country level location of the user\n",
    "- region_s - regional level location of the user\n",
    "- tz_i - time zone of the user \n",
    "- local_time_join_hour - hour of the day when the player first installed \n",
    "- local_time_join_dow - day of the week when the player first installed\n",
    "- total_spend - total in-game spend by the user "
   ]
  },
  {
   "cell_type": "code",
   "execution_count": 141,
   "metadata": {
    "execution": {
     "iopub.execute_input": "2022-03-29T21:17:06.890150Z",
     "iopub.status.busy": "2022-03-29T21:17:06.889676Z",
     "iopub.status.idle": "2022-03-29T21:17:06.914250Z",
     "shell.execute_reply": "2022-03-29T21:17:06.913454Z",
     "shell.execute_reply.started": "2022-03-29T21:17:06.890112Z"
    },
    "tags": []
   },
   "outputs": [
    {
     "data": {
      "text/html": [
       "<div>\n",
       "<style scoped>\n",
       "    .dataframe tbody tr th:only-of-type {\n",
       "        vertical-align: middle;\n",
       "    }\n",
       "\n",
       "    .dataframe tbody tr th {\n",
       "        vertical-align: top;\n",
       "    }\n",
       "\n",
       "    .dataframe thead th {\n",
       "        text-align: right;\n",
       "    }\n",
       "</style>\n",
       "<table border=\"1\" class=\"dataframe\">\n",
       "  <thead>\n",
       "    <tr style=\"text-align: right;\">\n",
       "      <th></th>\n",
       "      <th>uid_s</th>\n",
       "      <th>lang_s</th>\n",
       "      <th>geo_s</th>\n",
       "      <th>region_s</th>\n",
       "      <th>tz_i</th>\n",
       "      <th>local_time_join_hour</th>\n",
       "      <th>local_time_join_dow</th>\n",
       "      <th>total_spend</th>\n",
       "    </tr>\n",
       "  </thead>\n",
       "  <tbody>\n",
       "    <tr>\n",
       "      <th>0</th>\n",
       "      <td>0</td>\n",
       "      <td>EN</td>\n",
       "      <td>MY</td>\n",
       "      <td>asia</td>\n",
       "      <td>28800</td>\n",
       "      <td>14</td>\n",
       "      <td>3</td>\n",
       "      <td>0</td>\n",
       "    </tr>\n",
       "    <tr>\n",
       "      <th>1</th>\n",
       "      <td>1</td>\n",
       "      <td>ES</td>\n",
       "      <td>MX</td>\n",
       "      <td>americas</td>\n",
       "      <td>-18000</td>\n",
       "      <td>14</td>\n",
       "      <td>1</td>\n",
       "      <td>0</td>\n",
       "    </tr>\n",
       "    <tr>\n",
       "      <th>2</th>\n",
       "      <td>2</td>\n",
       "      <td>ZH-CN</td>\n",
       "      <td>CN</td>\n",
       "      <td>asia</td>\n",
       "      <td>28800</td>\n",
       "      <td>2</td>\n",
       "      <td>3</td>\n",
       "      <td>0</td>\n",
       "    </tr>\n",
       "    <tr>\n",
       "      <th>3</th>\n",
       "      <td>3</td>\n",
       "      <td>ZH-CN</td>\n",
       "      <td>CN</td>\n",
       "      <td>asia</td>\n",
       "      <td>28800</td>\n",
       "      <td>8</td>\n",
       "      <td>6</td>\n",
       "      <td>0</td>\n",
       "    </tr>\n",
       "    <tr>\n",
       "      <th>4</th>\n",
       "      <td>4</td>\n",
       "      <td>EN</td>\n",
       "      <td>IN</td>\n",
       "      <td>asia</td>\n",
       "      <td>19800</td>\n",
       "      <td>19</td>\n",
       "      <td>6</td>\n",
       "      <td>0</td>\n",
       "    </tr>\n",
       "  </tbody>\n",
       "</table>\n",
       "</div>"
      ],
      "text/plain": [
       "   uid_s lang_s geo_s  region_s   tz_i  local_time_join_hour  \\\n",
       "0      0     EN    MY      asia  28800                    14   \n",
       "1      1     ES    MX  americas -18000                    14   \n",
       "2      2  ZH-CN    CN      asia  28800                     2   \n",
       "3      3  ZH-CN    CN      asia  28800                     8   \n",
       "4      4     EN    IN      asia  19800                    19   \n",
       "\n",
       "   local_time_join_dow  total_spend  \n",
       "0                    3            0  \n",
       "1                    1            0  \n",
       "2                    3            0  \n",
       "3                    6            0  \n",
       "4                    6            0  "
      ]
     },
     "execution_count": 141,
     "metadata": {},
     "output_type": "execute_result"
    }
   ],
   "source": [
    "dfUser.head()"
   ]
  },
  {
   "cell_type": "code",
   "execution_count": 146,
   "metadata": {
    "execution": {
     "iopub.execute_input": "2022-03-29T21:26:57.430149Z",
     "iopub.status.busy": "2022-03-29T21:26:57.429847Z",
     "iopub.status.idle": "2022-03-29T21:26:57.892001Z",
     "shell.execute_reply": "2022-03-29T21:26:57.891206Z",
     "shell.execute_reply.started": "2022-03-29T21:26:57.430121Z"
    },
    "tags": []
   },
   "outputs": [
    {
     "data": {
      "text/html": [
       "<div>\n",
       "<style scoped>\n",
       "    .dataframe tbody tr th:only-of-type {\n",
       "        vertical-align: middle;\n",
       "    }\n",
       "\n",
       "    .dataframe tbody tr th {\n",
       "        vertical-align: top;\n",
       "    }\n",
       "\n",
       "    .dataframe thead th {\n",
       "        text-align: right;\n",
       "    }\n",
       "</style>\n",
       "<table border=\"1\" class=\"dataframe\">\n",
       "  <thead>\n",
       "    <tr style=\"text-align: right;\">\n",
       "      <th></th>\n",
       "      <th>uid_s</th>\n",
       "      <th>tz_i</th>\n",
       "      <th>local_time_join_hour</th>\n",
       "      <th>local_time_join_dow</th>\n",
       "      <th>total_spend</th>\n",
       "    </tr>\n",
       "  </thead>\n",
       "  <tbody>\n",
       "    <tr>\n",
       "      <th>count</th>\n",
       "      <td>2.845931e+06</td>\n",
       "      <td>2.845931e+06</td>\n",
       "      <td>2.845931e+06</td>\n",
       "      <td>2.845931e+06</td>\n",
       "      <td>2.845931e+06</td>\n",
       "    </tr>\n",
       "    <tr>\n",
       "      <th>mean</th>\n",
       "      <td>1.422965e+06</td>\n",
       "      <td>1.113074e+04</td>\n",
       "      <td>1.474042e+01</td>\n",
       "      <td>4.207324e+00</td>\n",
       "      <td>1.215356e+00</td>\n",
       "    </tr>\n",
       "    <tr>\n",
       "      <th>std</th>\n",
       "      <td>8.215497e+05</td>\n",
       "      <td>1.926607e+04</td>\n",
       "      <td>5.673928e+00</td>\n",
       "      <td>2.305829e+00</td>\n",
       "      <td>1.386070e+01</td>\n",
       "    </tr>\n",
       "    <tr>\n",
       "      <th>min</th>\n",
       "      <td>0.000000e+00</td>\n",
       "      <td>-3.960000e+04</td>\n",
       "      <td>0.000000e+00</td>\n",
       "      <td>1.000000e+00</td>\n",
       "      <td>0.000000e+00</td>\n",
       "    </tr>\n",
       "    <tr>\n",
       "      <th>25%</th>\n",
       "      <td>7.114825e+05</td>\n",
       "      <td>-1.080000e+04</td>\n",
       "      <td>1.100000e+01</td>\n",
       "      <td>2.000000e+00</td>\n",
       "      <td>0.000000e+00</td>\n",
       "    </tr>\n",
       "    <tr>\n",
       "      <th>50%</th>\n",
       "      <td>1.422965e+06</td>\n",
       "      <td>1.980000e+04</td>\n",
       "      <td>1.600000e+01</td>\n",
       "      <td>4.000000e+00</td>\n",
       "      <td>0.000000e+00</td>\n",
       "    </tr>\n",
       "    <tr>\n",
       "      <th>75%</th>\n",
       "      <td>2.134448e+06</td>\n",
       "      <td>2.880000e+04</td>\n",
       "      <td>1.900000e+01</td>\n",
       "      <td>6.000000e+00</td>\n",
       "      <td>0.000000e+00</td>\n",
       "    </tr>\n",
       "    <tr>\n",
       "      <th>max</th>\n",
       "      <td>2.845930e+06</td>\n",
       "      <td>4.140000e+04</td>\n",
       "      <td>2.300000e+01</td>\n",
       "      <td>7.000000e+00</td>\n",
       "      <td>4.500000e+02</td>\n",
       "    </tr>\n",
       "  </tbody>\n",
       "</table>\n",
       "</div>"
      ],
      "text/plain": [
       "              uid_s          tz_i  local_time_join_hour  local_time_join_dow  \\\n",
       "count  2.845931e+06  2.845931e+06          2.845931e+06         2.845931e+06   \n",
       "mean   1.422965e+06  1.113074e+04          1.474042e+01         4.207324e+00   \n",
       "std    8.215497e+05  1.926607e+04          5.673928e+00         2.305829e+00   \n",
       "min    0.000000e+00 -3.960000e+04          0.000000e+00         1.000000e+00   \n",
       "25%    7.114825e+05 -1.080000e+04          1.100000e+01         2.000000e+00   \n",
       "50%    1.422965e+06  1.980000e+04          1.600000e+01         4.000000e+00   \n",
       "75%    2.134448e+06  2.880000e+04          1.900000e+01         6.000000e+00   \n",
       "max    2.845930e+06  4.140000e+04          2.300000e+01         7.000000e+00   \n",
       "\n",
       "        total_spend  \n",
       "count  2.845931e+06  \n",
       "mean   1.215356e+00  \n",
       "std    1.386070e+01  \n",
       "min    0.000000e+00  \n",
       "25%    0.000000e+00  \n",
       "50%    0.000000e+00  \n",
       "75%    0.000000e+00  \n",
       "max    4.500000e+02  "
      ]
     },
     "execution_count": 146,
     "metadata": {},
     "output_type": "execute_result"
    }
   ],
   "source": [
    "dfUser.describe()"
   ]
  },
  {
   "cell_type": "markdown",
   "metadata": {},
   "source": [
    "I notice 3 columns: lang_s, geo_s, regions_s may some how relates to the others. For example, the categories in the region_s column is parents of categories in the lang_s column (the relationship between continents and nations)."
   ]
  },
  {
   "cell_type": "code",
   "execution_count": 143,
   "metadata": {
    "execution": {
     "iopub.execute_input": "2022-03-29T21:23:00.457770Z",
     "iopub.status.busy": "2022-03-29T21:23:00.457501Z",
     "iopub.status.idle": "2022-03-29T21:23:00.836571Z",
     "shell.execute_reply": "2022-03-29T21:23:00.835753Z",
     "shell.execute_reply.started": "2022-03-29T21:23:00.457746Z"
    },
    "tags": []
   },
   "outputs": [
    {
     "data": {
      "text/plain": [
       "(230, 2)"
      ]
     },
     "execution_count": 143,
     "metadata": {},
     "output_type": "execute_result"
    }
   ],
   "source": [
    "dfUser[['geo_s', 'region_s']].drop_duplicates().shape"
   ]
  },
  {
   "cell_type": "code",
   "execution_count": 145,
   "metadata": {
    "execution": {
     "iopub.execute_input": "2022-03-29T21:23:23.859209Z",
     "iopub.status.busy": "2022-03-29T21:23:23.858898Z",
     "iopub.status.idle": "2022-03-29T21:23:23.983827Z",
     "shell.execute_reply": "2022-03-29T21:23:23.982784Z",
     "shell.execute_reply.started": "2022-03-29T21:23:23.859176Z"
    },
    "tags": []
   },
   "outputs": [
    {
     "data": {
      "text/plain": [
       "(229,)"
      ]
     },
     "execution_count": 145,
     "metadata": {},
     "output_type": "execute_result"
    }
   ],
   "source": [
    "dfUser.geo_s.unique().shape"
   ]
  },
  {
   "cell_type": "code",
   "execution_count": 121,
   "metadata": {},
   "outputs": [
    {
     "data": {
      "text/plain": [
       "0.0"
      ]
     },
     "execution_count": 121,
     "metadata": {},
     "output_type": "execute_result"
    }
   ],
   "source": [
    "crt = pd.crosstab(dfUser.region_s, dfUser.geo_s)\n",
    "chi, pval, dof, _ = scipy.stats.chi2_contingency(crt)\n",
    "pval"
   ]
  },
  {
   "cell_type": "markdown",
   "metadata": {},
   "source": [
    "I have checked the relationship between geo and region, using Chi-square test and group by. It's clear that the lang_s column contains more information than region_s, so I can safely remove it."
   ]
  },
  {
   "cell_type": "code",
   "execution_count": 148,
   "metadata": {
    "execution": {
     "iopub.execute_input": "2022-03-29T21:28:39.304908Z",
     "iopub.status.busy": "2022-03-29T21:28:39.304629Z",
     "iopub.status.idle": "2022-03-29T21:28:39.338592Z",
     "shell.execute_reply": "2022-03-29T21:28:39.337696Z",
     "shell.execute_reply.started": "2022-03-29T21:28:39.304878Z"
    },
    "tags": []
   },
   "outputs": [
    {
     "data": {
      "text/plain": [
       "0      2813535\n",
       "100       1785\n",
       "50        1751\n",
       "30        1630\n",
       "20        1380\n",
       "        ...   \n",
       "405          7\n",
       "410          4\n",
       "430          3\n",
       "420          2\n",
       "450          2\n",
       "Name: total_spend, Length: 79, dtype: int64"
      ]
     },
     "execution_count": 148,
     "metadata": {},
     "output_type": "execute_result"
    }
   ],
   "source": [
    "dfUser.total_spend.value_counts()"
   ]
  },
  {
   "cell_type": "code",
   "execution_count": 162,
   "metadata": {},
   "outputs": [
    {
     "data": {
      "text/plain": [
       "<AxesSubplot:xlabel='total_spend', ylabel='Count'>"
      ]
     },
     "execution_count": 162,
     "metadata": {},
     "output_type": "execute_result"
    },
    {
     "data": {
      "image/png": "[encoded data removed]",
      "text/plain": [
       "<Figure size 576x396 with 1 Axes>"
      ]
     },
     "metadata": {
      "image/png": {
       "height": 343,
       "width": 504
      }
     },
     "output_type": "display_data"
    }
   ],
   "source": [
    "sns.histplot(dfUser.total_spend[dfUser.total_spend>0])"
   ]
  },
  {
   "cell_type": "markdown",
   "metadata": {
    "datalore": {
     "hide_input_from_viewers": false,
     "hide_output_from_viewers": false,
     "type": "MD"
    }
   },
   "source": [
    "#### ka_devices\n",
    "\n",
    "- uid_s - unique user identifier\n",
    "- platform_s - installation platform\n",
    "- device_mapped_s - common name for device used\n",
    "- device_manufacturer_s - device manufacturer\n",
    "- device_mem_i - main memory size for device\n",
    "- device_gmem_i - graphical memory size for device  \n",
    "- device_mem_grouping_i - grouping of the device based on memory size\n",
    "- device_gmem_grouping_i - grouping of the device based on graphical memory size\n",
    "- device_numcpu_i - number of cores in CPU\n",
    "- device_height_i - height of the device\n",
    "- device_gpu_s - chipset of the device\n",
    "- device_os_s - operating system of the device\n",
    "- device_model_s - model number of the device"
   ]
  },
  {
   "cell_type": "code",
   "execution_count": 149,
   "metadata": {
    "execution": {
     "iopub.execute_input": "2022-03-29T21:39:58.562162Z",
     "iopub.status.busy": "2022-03-29T21:39:58.561715Z",
     "iopub.status.idle": "2022-03-29T21:39:58.579785Z",
     "shell.execute_reply": "2022-03-29T21:39:58.578910Z",
     "shell.execute_reply.started": "2022-03-29T21:39:58.562115Z"
    },
    "tags": []
   },
   "outputs": [
    {
     "data": {
      "text/html": [
       "<div>\n",
       "<style scoped>\n",
       "    .dataframe tbody tr th:only-of-type {\n",
       "        vertical-align: middle;\n",
       "    }\n",
       "\n",
       "    .dataframe tbody tr th {\n",
       "        vertical-align: top;\n",
       "    }\n",
       "\n",
       "    .dataframe thead th {\n",
       "        text-align: right;\n",
       "    }\n",
       "</style>\n",
       "<table border=\"1\" class=\"dataframe\">\n",
       "  <thead>\n",
       "    <tr style=\"text-align: right;\">\n",
       "      <th></th>\n",
       "      <th>uid_s</th>\n",
       "      <th>platform_s</th>\n",
       "      <th>device_mapped_s</th>\n",
       "      <th>device_manufacturer_s</th>\n",
       "      <th>device_mem_i</th>\n",
       "      <th>device_gmem_i</th>\n",
       "      <th>device_mem_grouping_i</th>\n",
       "      <th>device_gmem_grouping_i</th>\n",
       "      <th>device_numcpu_i</th>\n",
       "      <th>device_height_i</th>\n",
       "      <th>device_gpu_s</th>\n",
       "      <th>device_os_s</th>\n",
       "      <th>device_model_s</th>\n",
       "    </tr>\n",
       "  </thead>\n",
       "  <tbody>\n",
       "    <tr>\n",
       "      <th>0</th>\n",
       "      <td>0</td>\n",
       "      <td>android</td>\n",
       "      <td>asus_x01ad</td>\n",
       "      <td>asus</td>\n",
       "      <td>3575.0</td>\n",
       "      <td>1024.0</td>\n",
       "      <td>3584.0</td>\n",
       "      <td>1024.0</td>\n",
       "      <td>8.0</td>\n",
       "      <td>720.0</td>\n",
       "      <td>adreno (tm) 506</td>\n",
       "      <td>android os 9 / api-28 (ww_phone-201905061022/1...</td>\n",
       "      <td>asus_x01ad</td>\n",
       "    </tr>\n",
       "    <tr>\n",
       "      <th>1</th>\n",
       "      <td>1</td>\n",
       "      <td>android</td>\n",
       "      <td>moto g (5)</td>\n",
       "      <td>motorola</td>\n",
       "      <td>1867.0</td>\n",
       "      <td>512.0</td>\n",
       "      <td>1920.0</td>\n",
       "      <td>512.0</td>\n",
       "      <td>8.0</td>\n",
       "      <td>1080.0</td>\n",
       "      <td>adreno (tm) 505</td>\n",
       "      <td>android os 8.1.0 / api-27 (opps28.85-13-6/04442)</td>\n",
       "      <td>moto g (5)</td>\n",
       "    </tr>\n",
       "    <tr>\n",
       "      <th>2</th>\n",
       "      <td>2</td>\n",
       "      <td>android</td>\n",
       "      <td>mi 6</td>\n",
       "      <td>xiaomi</td>\n",
       "      <td>3726.0</td>\n",
       "      <td>1024.0</td>\n",
       "      <td>3776.0</td>\n",
       "      <td>1024.0</td>\n",
       "      <td>8.0</td>\n",
       "      <td>1080.0</td>\n",
       "      <td>adreno (tm) 540</td>\n",
       "      <td>android os 8.0.0 / api-26 (opr1.170623.027/v10...</td>\n",
       "      <td>mi 6</td>\n",
       "    </tr>\n",
       "    <tr>\n",
       "      <th>3</th>\n",
       "      <td>3</td>\n",
       "      <td>android</td>\n",
       "      <td>oppo r7splus</td>\n",
       "      <td>oppo</td>\n",
       "      <td>3629.0</td>\n",
       "      <td>1024.0</td>\n",
       "      <td>3648.0</td>\n",
       "      <td>1024.0</td>\n",
       "      <td>8.0</td>\n",
       "      <td>1080.0</td>\n",
       "      <td>adreno (tm) 405</td>\n",
       "      <td>android os 5.1.1 / api-22 (lmy47v/eng.root.201...</td>\n",
       "      <td>oppo r7splus</td>\n",
       "    </tr>\n",
       "    <tr>\n",
       "      <th>4</th>\n",
       "      <td>4</td>\n",
       "      <td>android</td>\n",
       "      <td>cph1803</td>\n",
       "      <td>oppo</td>\n",
       "      <td>2816.0</td>\n",
       "      <td>1024.0</td>\n",
       "      <td>2816.0</td>\n",
       "      <td>1024.0</td>\n",
       "      <td>8.0</td>\n",
       "      <td>720.0</td>\n",
       "      <td>adreno (tm) 506</td>\n",
       "      <td>android os 8.1.0 / api-27 (opm1.171019.026/155...</td>\n",
       "      <td>cph1803</td>\n",
       "    </tr>\n",
       "  </tbody>\n",
       "</table>\n",
       "</div>"
      ],
      "text/plain": [
       "   uid_s platform_s device_mapped_s device_manufacturer_s  device_mem_i  \\\n",
       "0      0    android      asus_x01ad                  asus        3575.0   \n",
       "1      1    android      moto g (5)              motorola        1867.0   \n",
       "2      2    android            mi 6                xiaomi        3726.0   \n",
       "3      3    android    oppo r7splus                  oppo        3629.0   \n",
       "4      4    android         cph1803                  oppo        2816.0   \n",
       "\n",
       "   device_gmem_i  device_mem_grouping_i  device_gmem_grouping_i  \\\n",
       "0         1024.0                 3584.0                  1024.0   \n",
       "1          512.0                 1920.0                   512.0   \n",
       "2         1024.0                 3776.0                  1024.0   \n",
       "3         1024.0                 3648.0                  1024.0   \n",
       "4         1024.0                 2816.0                  1024.0   \n",
       "\n",
       "   device_numcpu_i  device_height_i     device_gpu_s  \\\n",
       "0              8.0            720.0  adreno (tm) 506   \n",
       "1              8.0           1080.0  adreno (tm) 505   \n",
       "2              8.0           1080.0  adreno (tm) 540   \n",
       "3              8.0           1080.0  adreno (tm) 405   \n",
       "4              8.0            720.0  adreno (tm) 506   \n",
       "\n",
       "                                         device_os_s device_model_s  \n",
       "0  android os 9 / api-28 (ww_phone-201905061022/1...     asus_x01ad  \n",
       "1   android os 8.1.0 / api-27 (opps28.85-13-6/04442)     moto g (5)  \n",
       "2  android os 8.0.0 / api-26 (opr1.170623.027/v10...           mi 6  \n",
       "3  android os 5.1.1 / api-22 (lmy47v/eng.root.201...   oppo r7splus  \n",
       "4  android os 8.1.0 / api-27 (opm1.171019.026/155...        cph1803  "
      ]
     },
     "execution_count": 149,
     "metadata": {},
     "output_type": "execute_result"
    }
   ],
   "source": [
    "dfDevice.head()"
   ]
  },
  {
   "cell_type": "code",
   "execution_count": 154,
   "metadata": {
    "execution": {
     "iopub.execute_input": "2022-03-29T21:53:24.319981Z",
     "iopub.status.busy": "2022-03-29T21:53:24.319636Z",
     "iopub.status.idle": "2022-03-29T21:53:25.257427Z",
     "shell.execute_reply": "2022-03-29T21:53:25.256732Z",
     "shell.execute_reply.started": "2022-03-29T21:53:24.319948Z"
    },
    "tags": []
   },
   "outputs": [
    {
     "data": {
      "text/html": [
       "<div>\n",
       "<style scoped>\n",
       "    .dataframe tbody tr th:only-of-type {\n",
       "        vertical-align: middle;\n",
       "    }\n",
       "\n",
       "    .dataframe tbody tr th {\n",
       "        vertical-align: top;\n",
       "    }\n",
       "\n",
       "    .dataframe thead th {\n",
       "        text-align: right;\n",
       "    }\n",
       "</style>\n",
       "<table border=\"1\" class=\"dataframe\">\n",
       "  <thead>\n",
       "    <tr style=\"text-align: right;\">\n",
       "      <th></th>\n",
       "      <th>uid_s</th>\n",
       "      <th>device_mem_i</th>\n",
       "      <th>device_gmem_i</th>\n",
       "      <th>device_mem_grouping_i</th>\n",
       "      <th>device_gmem_grouping_i</th>\n",
       "      <th>device_numcpu_i</th>\n",
       "      <th>device_height_i</th>\n",
       "    </tr>\n",
       "  </thead>\n",
       "  <tbody>\n",
       "    <tr>\n",
       "      <th>count</th>\n",
       "      <td>2.845931e+06</td>\n",
       "      <td>2.845930e+06</td>\n",
       "      <td>2.845930e+06</td>\n",
       "      <td>2.845930e+06</td>\n",
       "      <td>2.845930e+06</td>\n",
       "      <td>2.845930e+06</td>\n",
       "      <td>2.845930e+06</td>\n",
       "    </tr>\n",
       "    <tr>\n",
       "      <th>mean</th>\n",
       "      <td>1.422965e+06</td>\n",
       "      <td>2.668946e+03</td>\n",
       "      <td>8.180216e+02</td>\n",
       "      <td>2.701934e+03</td>\n",
       "      <td>8.180216e+02</td>\n",
       "      <td>5.814524e+00</td>\n",
       "      <td>8.908536e+02</td>\n",
       "    </tr>\n",
       "    <tr>\n",
       "      <th>std</th>\n",
       "      <td>8.215497e+05</td>\n",
       "      <td>2.870858e+03</td>\n",
       "      <td>5.216923e+02</td>\n",
       "      <td>2.871435e+03</td>\n",
       "      <td>5.216923e+02</td>\n",
       "      <td>2.426736e+00</td>\n",
       "      <td>2.548661e+02</td>\n",
       "    </tr>\n",
       "    <tr>\n",
       "      <th>min</th>\n",
       "      <td>0.000000e+00</td>\n",
       "      <td>3.410000e+02</td>\n",
       "      <td>1.280000e+02</td>\n",
       "      <td>3.840000e+02</td>\n",
       "      <td>1.280000e+02</td>\n",
       "      <td>1.000000e+00</td>\n",
       "      <td>2.400000e+02</td>\n",
       "    </tr>\n",
       "    <tr>\n",
       "      <th>25%</th>\n",
       "      <td>7.114825e+05</td>\n",
       "      <td>1.822000e+03</td>\n",
       "      <td>5.120000e+02</td>\n",
       "      <td>1.856000e+03</td>\n",
       "      <td>5.120000e+02</td>\n",
       "      <td>4.000000e+00</td>\n",
       "      <td>7.200000e+02</td>\n",
       "    </tr>\n",
       "    <tr>\n",
       "      <th>50%</th>\n",
       "      <td>1.422965e+06</td>\n",
       "      <td>2.753000e+03</td>\n",
       "      <td>1.024000e+03</td>\n",
       "      <td>2.816000e+03</td>\n",
       "      <td>1.024000e+03</td>\n",
       "      <td>8.000000e+00</td>\n",
       "      <td>8.000000e+02</td>\n",
       "    </tr>\n",
       "    <tr>\n",
       "      <th>75%</th>\n",
       "      <td>2.134448e+06</td>\n",
       "      <td>3.595000e+03</td>\n",
       "      <td>1.024000e+03</td>\n",
       "      <td>3.648000e+03</td>\n",
       "      <td>1.024000e+03</td>\n",
       "      <td>8.000000e+00</td>\n",
       "      <td>1.080000e+03</td>\n",
       "    </tr>\n",
       "    <tr>\n",
       "      <th>max</th>\n",
       "      <td>2.845930e+06</td>\n",
       "      <td>4.148139e+06</td>\n",
       "      <td>2.621440e+05</td>\n",
       "      <td>4.148160e+06</td>\n",
       "      <td>2.621440e+05</td>\n",
       "      <td>3.200000e+01</td>\n",
       "      <td>2.960000e+03</td>\n",
       "    </tr>\n",
       "  </tbody>\n",
       "</table>\n",
       "</div>"
      ],
      "text/plain": [
       "              uid_s  device_mem_i  device_gmem_i  device_mem_grouping_i  \\\n",
       "count  2.845931e+06  2.845930e+06   2.845930e+06           2.845930e+06   \n",
       "mean   1.422965e+06  2.668946e+03   8.180216e+02           2.701934e+03   \n",
       "std    8.215497e+05  2.870858e+03   5.216923e+02           2.871435e+03   \n",
       "min    0.000000e+00  3.410000e+02   1.280000e+02           3.840000e+02   \n",
       "25%    7.114825e+05  1.822000e+03   5.120000e+02           1.856000e+03   \n",
       "50%    1.422965e+06  2.753000e+03   1.024000e+03           2.816000e+03   \n",
       "75%    2.134448e+06  3.595000e+03   1.024000e+03           3.648000e+03   \n",
       "max    2.845930e+06  4.148139e+06   2.621440e+05           4.148160e+06   \n",
       "\n",
       "       device_gmem_grouping_i  device_numcpu_i  device_height_i  \n",
       "count            2.845930e+06     2.845930e+06     2.845930e+06  \n",
       "mean             8.180216e+02     5.814524e+00     8.908536e+02  \n",
       "std              5.216923e+02     2.426736e+00     2.548661e+02  \n",
       "min              1.280000e+02     1.000000e+00     2.400000e+02  \n",
       "25%              5.120000e+02     4.000000e+00     7.200000e+02  \n",
       "50%              1.024000e+03     8.000000e+00     8.000000e+02  \n",
       "75%              1.024000e+03     8.000000e+00     1.080000e+03  \n",
       "max              2.621440e+05     3.200000e+01     2.960000e+03  "
      ]
     },
     "execution_count": 154,
     "metadata": {},
     "output_type": "execute_result"
    }
   ],
   "source": [
    "dfDevice.describe()"
   ]
  },
  {
   "cell_type": "markdown",
   "metadata": {},
   "source": [
    "In this table, device_model and device_mapped have almost no difference. Also, the platform column contains parent categories of device_model, I will remove platform. The device_os column contains alot of information, but I will extract the number of the verion only.\n",
    "\n",
    "I notice that device_model and device_gpu have unlimited number of categories. So I decide to classify less popular categories to \"other\" as well as new gpus and models. I choose the threshold to be 99% to re-label less popular categories, meaning only 1% is classified \"other\". This reduces the information loss."
   ]
  },
  {
   "cell_type": "code",
   "execution_count": 150,
   "metadata": {
    "execution": {
     "iopub.execute_input": "2022-03-29T21:51:28.446569Z",
     "iopub.status.busy": "2022-03-29T21:51:28.446201Z",
     "iopub.status.idle": "2022-03-29T21:51:30.262953Z",
     "shell.execute_reply": "2022-03-29T21:51:30.262148Z",
     "shell.execute_reply.started": "2022-03-29T21:51:28.446535Z"
    },
    "tags": []
   },
   "outputs": [
    {
     "data": {
      "text/plain": [
       "iphone8,1     55530\n",
       "iphone7,2     51885\n",
       "iphone9,3     39602\n",
       "iphone11,8    34154\n",
       "oppo a57      30974\n",
       "              ...  \n",
       "c66               1\n",
       "ap-757g           1\n",
       "a101x             1\n",
       "p8 max            1\n",
       "quicktab          1\n",
       "Name: device_model_s, Length: 19084, dtype: int64"
      ]
     },
     "execution_count": 150,
     "metadata": {},
     "output_type": "execute_result"
    }
   ],
   "source": [
    "dfDevice.device_model_s.value_counts()"
   ]
  },
  {
   "cell_type": "code",
   "execution_count": 151,
   "metadata": {
    "execution": {
     "iopub.execute_input": "2022-03-29T21:51:41.364364Z",
     "iopub.status.busy": "2022-03-29T21:51:41.364009Z",
     "iopub.status.idle": "2022-03-29T21:51:42.026240Z",
     "shell.execute_reply": "2022-03-29T21:51:42.025254Z",
     "shell.execute_reply.started": "2022-03-29T21:51:41.364333Z"
    },
    "tags": []
   },
   "outputs": [
    {
     "data": {
      "text/plain": [
       "iphone8,1                        55530\n",
       "iphone 6                         51886\n",
       "iphone 5s                        40989\n",
       "iphone9,3                        39602\n",
       "iphone11,8                       34154\n",
       "                                 ...  \n",
       "5e2 lte                              1\n",
       "lg-d806                              1\n",
       "radio shack elite 5r                 1\n",
       "sm-a505x                             1\n",
       "aero j0101     j0101hc5amc1xx        1\n",
       "Name: device_mapped_s, Length: 18977, dtype: int64"
      ]
     },
     "execution_count": 151,
     "metadata": {},
     "output_type": "execute_result"
    }
   ],
   "source": [
    "dfDevice.device_mapped_s.value_counts()"
   ]
  },
  {
   "cell_type": "code",
   "execution_count": 152,
   "metadata": {
    "execution": {
     "iopub.execute_input": "2022-03-29T21:51:52.574509Z",
     "iopub.status.busy": "2022-03-29T21:51:52.574228Z",
     "iopub.status.idle": "2022-03-29T21:51:53.104332Z",
     "shell.execute_reply": "2022-03-29T21:51:53.103457Z",
     "shell.execute_reply.started": "2022-03-29T21:51:52.574470Z"
    },
    "tags": []
   },
   "outputs": [
    {
     "data": {
      "text/plain": [
       "apple           664025\n",
       "samsung         574271\n",
       "oppo            437369\n",
       "huawei          356579\n",
       "xiaomi          166686\n",
       "                 ...  \n",
       "km                   1\n",
       "mingzhuo             1\n",
       "jivi_mobiles         1\n",
       "sp                   1\n",
       "x-tigi_s1553         1\n",
       "Name: device_manufacturer_s, Length: 3029, dtype: int64"
      ]
     },
     "execution_count": 152,
     "metadata": {},
     "output_type": "execute_result"
    }
   ],
   "source": [
    "dfDevice.device_manufacturer_s.value_counts()"
   ]
  },
  {
   "cell_type": "code",
   "execution_count": 153,
   "metadata": {
    "execution": {
     "iopub.execute_input": "2022-03-29T21:52:12.915055Z",
     "iopub.status.busy": "2022-03-29T21:52:12.914775Z",
     "iopub.status.idle": "2022-03-29T21:52:13.497425Z",
     "shell.execute_reply": "2022-03-29T21:52:13.496691Z",
     "shell.execute_reply.started": "2022-03-29T21:52:12.915031Z"
    },
    "tags": []
   },
   "outputs": [
    {
     "data": {
      "text/plain": [
       "adreno (tm) 506                                                           210153\n",
       "mali-t720                                                                 192953\n",
       "mali-t830                                                                 192288\n",
       "mali-400 mp                                                               151918\n",
       "adreno (tm) 505                                                           141718\n",
       "                                                                           ...  \n",
       "gallium 0.4 on amd palm (drm 2.48.0 / 4.9.24-android-x86+, llvm 3.5.0)         1\n",
       "angle (amd radeon hd 6670 direct3d11 vs_5_0 ps_5_0)                            1\n",
       "mumu gl (amd radeon r5 235 direct3d11 vs_5_0 ps_5_0)                           1\n",
       "mumu gl (nvidia geforce gtx 950m       direct3d11 vs_5_0 ps_5_0)               1\n",
       "angle (amd radeon hd 7560d direct3d11 vs_5_0 ps_5_0)                           1\n",
       "Name: device_gpu_s, Length: 566, dtype: int64"
      ]
     },
     "execution_count": 153,
     "metadata": {},
     "output_type": "execute_result"
    }
   ],
   "source": [
    "dfDevice.device_gpu_s.value_counts()"
   ]
  },
  {
   "cell_type": "markdown",
   "metadata": {
    "datalore": {
     "hide_input_from_viewers": false,
     "hide_output_from_viewers": false,
     "type": "MD"
    }
   },
   "source": [
    "#### ka_actions\n",
    "\n",
    "- uid_s - unique user identifier\n",
    "- logins - number of logins since install\n",
    "- game_stats_tutorial_complete - whether user completed tutorial\n",
    "- game_stats_tutorial_complete_time - time (microseconds) to complete game tutorial\n",
    "- game_stats_xp - experience points accumulated by first time interval from install\n",
    "- game_stats_xp1 - experience points accumulated by second time interval from install\n",
    "- game_stats_xp2 - experience points accumulated by third time interval from install\n",
    "- game_stats_xp3 - experience points accumulated by fourth time interval from install\n",
    "- redeemer_actions - number of 'redeemer' actions since install (Note: 'redeemer' is a type of in-game action)\n",
    "- scribe_actions - number of 'scribe' actions since install (Note: 'scribe' is a type of in-game action)"
   ]
  },
  {
   "cell_type": "code",
   "execution_count": 155,
   "metadata": {
    "datalore": {
     "hide_input_from_viewers": false,
     "hide_output_from_viewers": false,
     "type": "CODE"
    },
    "execution": {
     "iopub.execute_input": "2022-03-29T21:53:36.673984Z",
     "iopub.status.busy": "2022-03-29T21:53:36.673614Z",
     "iopub.status.idle": "2022-03-29T21:53:36.690647Z",
     "shell.execute_reply": "2022-03-29T21:53:36.689935Z",
     "shell.execute_reply.started": "2022-03-29T21:53:36.673950Z"
    },
    "tags": []
   },
   "outputs": [
    {
     "data": {
      "text/html": [
       "<div>\n",
       "<style scoped>\n",
       "    .dataframe tbody tr th:only-of-type {\n",
       "        vertical-align: middle;\n",
       "    }\n",
       "\n",
       "    .dataframe tbody tr th {\n",
       "        vertical-align: top;\n",
       "    }\n",
       "\n",
       "    .dataframe thead th {\n",
       "        text-align: right;\n",
       "    }\n",
       "</style>\n",
       "<table border=\"1\" class=\"dataframe\">\n",
       "  <thead>\n",
       "    <tr style=\"text-align: right;\">\n",
       "      <th></th>\n",
       "      <th>uid_s</th>\n",
       "      <th>logins</th>\n",
       "      <th>game_stats_tutorial_complete</th>\n",
       "      <th>game_stats_tutorial_complete_time</th>\n",
       "      <th>game_stats_xp</th>\n",
       "      <th>game_stats_xp1</th>\n",
       "      <th>game_stats_xp2</th>\n",
       "      <th>game_stats_xp3</th>\n",
       "      <th>redeemer_actions</th>\n",
       "      <th>scribe_actions</th>\n",
       "    </tr>\n",
       "  </thead>\n",
       "  <tbody>\n",
       "    <tr>\n",
       "      <th>0</th>\n",
       "      <td>0</td>\n",
       "      <td>7.0</td>\n",
       "      <td>1.0</td>\n",
       "      <td>4.700000e+08</td>\n",
       "      <td>1693.0</td>\n",
       "      <td>592.0</td>\n",
       "      <td>0.0</td>\n",
       "      <td>429.0</td>\n",
       "      <td>446.0</td>\n",
       "      <td>364.0</td>\n",
       "    </tr>\n",
       "    <tr>\n",
       "      <th>1</th>\n",
       "      <td>1</td>\n",
       "      <td>2.0</td>\n",
       "      <td>1.0</td>\n",
       "      <td>6.120000e+08</td>\n",
       "      <td>197.0</td>\n",
       "      <td>197.0</td>\n",
       "      <td>0.0</td>\n",
       "      <td>0.0</td>\n",
       "      <td>60.0</td>\n",
       "      <td>125.0</td>\n",
       "    </tr>\n",
       "    <tr>\n",
       "      <th>2</th>\n",
       "      <td>2</td>\n",
       "      <td>2.0</td>\n",
       "      <td>1.0</td>\n",
       "      <td>3.900000e+08</td>\n",
       "      <td>313.0</td>\n",
       "      <td>313.0</td>\n",
       "      <td>0.0</td>\n",
       "      <td>0.0</td>\n",
       "      <td>89.0</td>\n",
       "      <td>129.0</td>\n",
       "    </tr>\n",
       "    <tr>\n",
       "      <th>3</th>\n",
       "      <td>3</td>\n",
       "      <td>3.0</td>\n",
       "      <td>1.0</td>\n",
       "      <td>6.610000e+08</td>\n",
       "      <td>1319.0</td>\n",
       "      <td>1319.0</td>\n",
       "      <td>0.0</td>\n",
       "      <td>0.0</td>\n",
       "      <td>275.0</td>\n",
       "      <td>200.0</td>\n",
       "    </tr>\n",
       "    <tr>\n",
       "      <th>4</th>\n",
       "      <td>4</td>\n",
       "      <td>4.0</td>\n",
       "      <td>1.0</td>\n",
       "      <td>3.147000e+09</td>\n",
       "      <td>148.0</td>\n",
       "      <td>148.0</td>\n",
       "      <td>0.0</td>\n",
       "      <td>0.0</td>\n",
       "      <td>58.0</td>\n",
       "      <td>138.0</td>\n",
       "    </tr>\n",
       "  </tbody>\n",
       "</table>\n",
       "</div>"
      ],
      "text/plain": [
       "   uid_s  logins  game_stats_tutorial_complete  \\\n",
       "0      0     7.0                           1.0   \n",
       "1      1     2.0                           1.0   \n",
       "2      2     2.0                           1.0   \n",
       "3      3     3.0                           1.0   \n",
       "4      4     4.0                           1.0   \n",
       "\n",
       "   game_stats_tutorial_complete_time  game_stats_xp  game_stats_xp1  \\\n",
       "0                       4.700000e+08         1693.0           592.0   \n",
       "1                       6.120000e+08          197.0           197.0   \n",
       "2                       3.900000e+08          313.0           313.0   \n",
       "3                       6.610000e+08         1319.0          1319.0   \n",
       "4                       3.147000e+09          148.0           148.0   \n",
       "\n",
       "   game_stats_xp2  game_stats_xp3  redeemer_actions  scribe_actions  \n",
       "0             0.0           429.0             446.0           364.0  \n",
       "1             0.0             0.0              60.0           125.0  \n",
       "2             0.0             0.0              89.0           129.0  \n",
       "3             0.0             0.0             275.0           200.0  \n",
       "4             0.0             0.0              58.0           138.0  "
      ]
     },
     "execution_count": 155,
     "metadata": {},
     "output_type": "execute_result"
    }
   ],
   "source": [
    "dfAction.head()"
   ]
  },
  {
   "cell_type": "code",
   "execution_count": 156,
   "metadata": {
    "execution": {
     "iopub.execute_input": "2022-03-29T21:53:53.032424Z",
     "iopub.status.busy": "2022-03-29T21:53:53.032044Z",
     "iopub.status.idle": "2022-03-29T21:53:54.428603Z",
     "shell.execute_reply": "2022-03-29T21:53:54.427944Z",
     "shell.execute_reply.started": "2022-03-29T21:53:53.032388Z"
    },
    "tags": []
   },
   "outputs": [
    {
     "data": {
      "text/html": [
       "<div>\n",
       "<style scoped>\n",
       "    .dataframe tbody tr th:only-of-type {\n",
       "        vertical-align: middle;\n",
       "    }\n",
       "\n",
       "    .dataframe tbody tr th {\n",
       "        vertical-align: top;\n",
       "    }\n",
       "\n",
       "    .dataframe thead th {\n",
       "        text-align: right;\n",
       "    }\n",
       "</style>\n",
       "<table border=\"1\" class=\"dataframe\">\n",
       "  <thead>\n",
       "    <tr style=\"text-align: right;\">\n",
       "      <th></th>\n",
       "      <th>uid_s</th>\n",
       "      <th>logins</th>\n",
       "      <th>game_stats_tutorial_complete</th>\n",
       "      <th>game_stats_tutorial_complete_time</th>\n",
       "      <th>game_stats_xp</th>\n",
       "      <th>game_stats_xp1</th>\n",
       "      <th>game_stats_xp2</th>\n",
       "      <th>game_stats_xp3</th>\n",
       "      <th>redeemer_actions</th>\n",
       "      <th>scribe_actions</th>\n",
       "    </tr>\n",
       "  </thead>\n",
       "  <tbody>\n",
       "    <tr>\n",
       "      <th>count</th>\n",
       "      <td>2.845931e+06</td>\n",
       "      <td>2.845894e+06</td>\n",
       "      <td>1.756997e+06</td>\n",
       "      <td>1.751748e+06</td>\n",
       "      <td>2.083043e+06</td>\n",
       "      <td>2.083043e+06</td>\n",
       "      <td>2.083043e+06</td>\n",
       "      <td>2.083043e+06</td>\n",
       "      <td>2.835649e+06</td>\n",
       "      <td>2.845930e+06</td>\n",
       "    </tr>\n",
       "    <tr>\n",
       "      <th>mean</th>\n",
       "      <td>1.422965e+06</td>\n",
       "      <td>2.961407e+00</td>\n",
       "      <td>9.970125e-01</td>\n",
       "      <td>1.750700e+09</td>\n",
       "      <td>8.966738e+02</td>\n",
       "      <td>4.481845e+02</td>\n",
       "      <td>1.290063e+02</td>\n",
       "      <td>7.907115e+01</td>\n",
       "      <td>1.312056e+02</td>\n",
       "      <td>1.332405e+02</td>\n",
       "    </tr>\n",
       "    <tr>\n",
       "      <th>std</th>\n",
       "      <td>8.215497e+05</td>\n",
       "      <td>2.254042e+00</td>\n",
       "      <td>5.457619e-02</td>\n",
       "      <td>3.818346e+09</td>\n",
       "      <td>7.353939e+03</td>\n",
       "      <td>6.952799e+03</td>\n",
       "      <td>5.728121e+02</td>\n",
       "      <td>5.018453e+02</td>\n",
       "      <td>2.295778e+02</td>\n",
       "      <td>9.406660e+01</td>\n",
       "    </tr>\n",
       "    <tr>\n",
       "      <th>min</th>\n",
       "      <td>0.000000e+00</td>\n",
       "      <td>1.000000e+00</td>\n",
       "      <td>0.000000e+00</td>\n",
       "      <td>2.280000e+08</td>\n",
       "      <td>5.000000e+00</td>\n",
       "      <td>0.000000e+00</td>\n",
       "      <td>0.000000e+00</td>\n",
       "      <td>0.000000e+00</td>\n",
       "      <td>1.000000e+00</td>\n",
       "      <td>3.000000e+00</td>\n",
       "    </tr>\n",
       "    <tr>\n",
       "      <th>25%</th>\n",
       "      <td>7.114825e+05</td>\n",
       "      <td>2.000000e+00</td>\n",
       "      <td>1.000000e+00</td>\n",
       "      <td>5.080000e+08</td>\n",
       "      <td>9.000000e+01</td>\n",
       "      <td>8.000000e+01</td>\n",
       "      <td>0.000000e+00</td>\n",
       "      <td>0.000000e+00</td>\n",
       "      <td>2.500000e+01</td>\n",
       "      <td>7.000000e+01</td>\n",
       "    </tr>\n",
       "    <tr>\n",
       "      <th>50%</th>\n",
       "      <td>1.422965e+06</td>\n",
       "      <td>2.000000e+00</td>\n",
       "      <td>1.000000e+00</td>\n",
       "      <td>6.370000e+08</td>\n",
       "      <td>3.130000e+02</td>\n",
       "      <td>3.090000e+02</td>\n",
       "      <td>0.000000e+00</td>\n",
       "      <td>0.000000e+00</td>\n",
       "      <td>5.300000e+01</td>\n",
       "      <td>1.290000e+02</td>\n",
       "    </tr>\n",
       "    <tr>\n",
       "      <th>75%</th>\n",
       "      <td>2.134448e+06</td>\n",
       "      <td>3.000000e+00</td>\n",
       "      <td>1.000000e+00</td>\n",
       "      <td>9.430000e+08</td>\n",
       "      <td>7.860000e+02</td>\n",
       "      <td>5.950000e+02</td>\n",
       "      <td>0.000000e+00</td>\n",
       "      <td>0.000000e+00</td>\n",
       "      <td>1.340000e+02</td>\n",
       "      <td>1.670000e+02</td>\n",
       "    </tr>\n",
       "    <tr>\n",
       "      <th>max</th>\n",
       "      <td>2.845930e+06</td>\n",
       "      <td>8.790000e+02</td>\n",
       "      <td>1.000000e+00</td>\n",
       "      <td>2.880000e+10</td>\n",
       "      <td>1.000023e+07</td>\n",
       "      <td>1.000023e+07</td>\n",
       "      <td>4.604800e+04</td>\n",
       "      <td>4.697300e+04</td>\n",
       "      <td>9.078000e+03</td>\n",
       "      <td>1.072000e+04</td>\n",
       "    </tr>\n",
       "  </tbody>\n",
       "</table>\n",
       "</div>"
      ],
      "text/plain": [
       "              uid_s        logins  game_stats_tutorial_complete  \\\n",
       "count  2.845931e+06  2.845894e+06                  1.756997e+06   \n",
       "mean   1.422965e+06  2.961407e+00                  9.970125e-01   \n",
       "std    8.215497e+05  2.254042e+00                  5.457619e-02   \n",
       "min    0.000000e+00  1.000000e+00                  0.000000e+00   \n",
       "25%    7.114825e+05  2.000000e+00                  1.000000e+00   \n",
       "50%    1.422965e+06  2.000000e+00                  1.000000e+00   \n",
       "75%    2.134448e+06  3.000000e+00                  1.000000e+00   \n",
       "max    2.845930e+06  8.790000e+02                  1.000000e+00   \n",
       "\n",
       "       game_stats_tutorial_complete_time  game_stats_xp  game_stats_xp1  \\\n",
       "count                       1.751748e+06   2.083043e+06    2.083043e+06   \n",
       "mean                        1.750700e+09   8.966738e+02    4.481845e+02   \n",
       "std                         3.818346e+09   7.353939e+03    6.952799e+03   \n",
       "min                         2.280000e+08   5.000000e+00    0.000000e+00   \n",
       "25%                         5.080000e+08   9.000000e+01    8.000000e+01   \n",
       "50%                         6.370000e+08   3.130000e+02    3.090000e+02   \n",
       "75%                         9.430000e+08   7.860000e+02    5.950000e+02   \n",
       "max                         2.880000e+10   1.000023e+07    1.000023e+07   \n",
       "\n",
       "       game_stats_xp2  game_stats_xp3  redeemer_actions  scribe_actions  \n",
       "count    2.083043e+06    2.083043e+06      2.835649e+06    2.845930e+06  \n",
       "mean     1.290063e+02    7.907115e+01      1.312056e+02    1.332405e+02  \n",
       "std      5.728121e+02    5.018453e+02      2.295778e+02    9.406660e+01  \n",
       "min      0.000000e+00    0.000000e+00      1.000000e+00    3.000000e+00  \n",
       "25%      0.000000e+00    0.000000e+00      2.500000e+01    7.000000e+01  \n",
       "50%      0.000000e+00    0.000000e+00      5.300000e+01    1.290000e+02  \n",
       "75%      0.000000e+00    0.000000e+00      1.340000e+02    1.670000e+02  \n",
       "max      4.604800e+04    4.697300e+04      9.078000e+03    1.072000e+04  "
      ]
     },
     "execution_count": 156,
     "metadata": {},
     "output_type": "execute_result"
    }
   ],
   "source": [
    "dfAction.describe()"
   ]
  },
  {
   "cell_type": "code",
   "execution_count": 160,
   "metadata": {
    "datalore": {
     "hide_input_from_viewers": false,
     "hide_output_from_viewers": false,
     "type": "CODE"
    },
    "execution": {
     "iopub.execute_input": "2022-03-29T21:55:59.442616Z",
     "iopub.status.busy": "2022-03-29T21:55:59.442265Z",
     "iopub.status.idle": "2022-03-29T21:56:00.462287Z",
     "shell.execute_reply": "2022-03-29T21:56:00.461639Z",
     "shell.execute_reply.started": "2022-03-29T21:55:59.442583Z"
    },
    "tags": []
   },
   "outputs": [
    {
     "data": {
      "text/html": [
       "<div>\n",
       "<style scoped>\n",
       "    .dataframe tbody tr th:only-of-type {\n",
       "        vertical-align: middle;\n",
       "    }\n",
       "\n",
       "    .dataframe tbody tr th {\n",
       "        vertical-align: top;\n",
       "    }\n",
       "\n",
       "    .dataframe thead th {\n",
       "        text-align: right;\n",
       "    }\n",
       "</style>\n",
       "<table border=\"1\" class=\"dataframe\">\n",
       "  <thead>\n",
       "    <tr style=\"text-align: right;\">\n",
       "      <th></th>\n",
       "      <th>uid_s</th>\n",
       "      <th>logins</th>\n",
       "      <th>game_stats_tutorial_complete</th>\n",
       "      <th>game_stats_tutorial_complete_time</th>\n",
       "      <th>game_stats_xp</th>\n",
       "      <th>game_stats_xp1</th>\n",
       "      <th>game_stats_xp2</th>\n",
       "      <th>game_stats_xp3</th>\n",
       "      <th>redeemer_actions</th>\n",
       "      <th>scribe_actions</th>\n",
       "    </tr>\n",
       "  </thead>\n",
       "  <tbody>\n",
       "    <tr>\n",
       "      <th>uid_s</th>\n",
       "      <td>1.000000</td>\n",
       "      <td>-0.027005</td>\n",
       "      <td>-0.010209</td>\n",
       "      <td>0.002955</td>\n",
       "      <td>-0.002488</td>\n",
       "      <td>-0.001827</td>\n",
       "      <td>-0.006516</td>\n",
       "      <td>-0.001061</td>\n",
       "      <td>-0.004261</td>\n",
       "      <td>-0.004763</td>\n",
       "    </tr>\n",
       "    <tr>\n",
       "      <th>logins</th>\n",
       "      <td>-0.027005</td>\n",
       "      <td>1.000000</td>\n",
       "      <td>0.013351</td>\n",
       "      <td>0.162022</td>\n",
       "      <td>0.066331</td>\n",
       "      <td>0.006486</td>\n",
       "      <td>0.136865</td>\n",
       "      <td>0.145196</td>\n",
       "      <td>0.248741</td>\n",
       "      <td>0.451776</td>\n",
       "    </tr>\n",
       "    <tr>\n",
       "      <th>game_stats_tutorial_complete</th>\n",
       "      <td>-0.010209</td>\n",
       "      <td>0.013351</td>\n",
       "      <td>1.000000</td>\n",
       "      <td>NaN</td>\n",
       "      <td>-0.007126</td>\n",
       "      <td>-0.011223</td>\n",
       "      <td>0.012847</td>\n",
       "      <td>0.009077</td>\n",
       "      <td>0.028180</td>\n",
       "      <td>0.041772</td>\n",
       "    </tr>\n",
       "    <tr>\n",
       "      <th>game_stats_tutorial_complete_time</th>\n",
       "      <td>0.002955</td>\n",
       "      <td>0.162022</td>\n",
       "      <td>NaN</td>\n",
       "      <td>1.000000</td>\n",
       "      <td>-0.048646</td>\n",
       "      <td>-0.222293</td>\n",
       "      <td>-0.042318</td>\n",
       "      <td>-0.011304</td>\n",
       "      <td>-0.066265</td>\n",
       "      <td>0.017229</td>\n",
       "    </tr>\n",
       "    <tr>\n",
       "      <th>game_stats_xp</th>\n",
       "      <td>-0.002488</td>\n",
       "      <td>0.066331</td>\n",
       "      <td>-0.007126</td>\n",
       "      <td>-0.048646</td>\n",
       "      <td>1.000000</td>\n",
       "      <td>0.954659</td>\n",
       "      <td>0.236963</td>\n",
       "      <td>0.240898</td>\n",
       "      <td>0.305165</td>\n",
       "      <td>0.231805</td>\n",
       "    </tr>\n",
       "    <tr>\n",
       "      <th>game_stats_xp1</th>\n",
       "      <td>-0.001827</td>\n",
       "      <td>0.006486</td>\n",
       "      <td>-0.011223</td>\n",
       "      <td>-0.222293</td>\n",
       "      <td>0.954659</td>\n",
       "      <td>1.000000</td>\n",
       "      <td>0.040261</td>\n",
       "      <td>0.023485</td>\n",
       "      <td>0.058600</td>\n",
       "      <td>0.052169</td>\n",
       "    </tr>\n",
       "    <tr>\n",
       "      <th>game_stats_xp2</th>\n",
       "      <td>-0.006516</td>\n",
       "      <td>0.136865</td>\n",
       "      <td>0.012847</td>\n",
       "      <td>-0.042318</td>\n",
       "      <td>0.236963</td>\n",
       "      <td>0.040261</td>\n",
       "      <td>1.000000</td>\n",
       "      <td>0.565179</td>\n",
       "      <td>0.691370</td>\n",
       "      <td>0.542336</td>\n",
       "    </tr>\n",
       "    <tr>\n",
       "      <th>game_stats_xp3</th>\n",
       "      <td>-0.001061</td>\n",
       "      <td>0.145196</td>\n",
       "      <td>0.009077</td>\n",
       "      <td>-0.011304</td>\n",
       "      <td>0.240898</td>\n",
       "      <td>0.023485</td>\n",
       "      <td>0.565179</td>\n",
       "      <td>1.000000</td>\n",
       "      <td>0.636875</td>\n",
       "      <td>0.465396</td>\n",
       "    </tr>\n",
       "    <tr>\n",
       "      <th>redeemer_actions</th>\n",
       "      <td>-0.004261</td>\n",
       "      <td>0.248741</td>\n",
       "      <td>0.028180</td>\n",
       "      <td>-0.066265</td>\n",
       "      <td>0.305165</td>\n",
       "      <td>0.058600</td>\n",
       "      <td>0.691370</td>\n",
       "      <td>0.636875</td>\n",
       "      <td>1.000000</td>\n",
       "      <td>0.811995</td>\n",
       "    </tr>\n",
       "    <tr>\n",
       "      <th>scribe_actions</th>\n",
       "      <td>-0.004763</td>\n",
       "      <td>0.451776</td>\n",
       "      <td>0.041772</td>\n",
       "      <td>0.017229</td>\n",
       "      <td>0.231805</td>\n",
       "      <td>0.052169</td>\n",
       "      <td>0.542336</td>\n",
       "      <td>0.465396</td>\n",
       "      <td>0.811995</td>\n",
       "      <td>1.000000</td>\n",
       "    </tr>\n",
       "  </tbody>\n",
       "</table>\n",
       "</div>"
      ],
      "text/plain": [
       "                                      uid_s    logins  \\\n",
       "uid_s                              1.000000 -0.027005   \n",
       "logins                            -0.027005  1.000000   \n",
       "game_stats_tutorial_complete      -0.010209  0.013351   \n",
       "game_stats_tutorial_complete_time  0.002955  0.162022   \n",
       "game_stats_xp                     -0.002488  0.066331   \n",
       "game_stats_xp1                    -0.001827  0.006486   \n",
       "game_stats_xp2                    -0.006516  0.136865   \n",
       "game_stats_xp3                    -0.001061  0.145196   \n",
       "redeemer_actions                  -0.004261  0.248741   \n",
       "scribe_actions                    -0.004763  0.451776   \n",
       "\n",
       "                                   game_stats_tutorial_complete  \\\n",
       "uid_s                                                 -0.010209   \n",
       "logins                                                 0.013351   \n",
       "game_stats_tutorial_complete                           1.000000   \n",
       "game_stats_tutorial_complete_time                           NaN   \n",
       "game_stats_xp                                         -0.007126   \n",
       "game_stats_xp1                                        -0.011223   \n",
       "game_stats_xp2                                         0.012847   \n",
       "game_stats_xp3                                         0.009077   \n",
       "redeemer_actions                                       0.028180   \n",
       "scribe_actions                                         0.041772   \n",
       "\n",
       "                                   game_stats_tutorial_complete_time  \\\n",
       "uid_s                                                       0.002955   \n",
       "logins                                                      0.162022   \n",
       "game_stats_tutorial_complete                                     NaN   \n",
       "game_stats_tutorial_complete_time                           1.000000   \n",
       "game_stats_xp                                              -0.048646   \n",
       "game_stats_xp1                                             -0.222293   \n",
       "game_stats_xp2                                             -0.042318   \n",
       "game_stats_xp3                                             -0.011304   \n",
       "redeemer_actions                                           -0.066265   \n",
       "scribe_actions                                              0.017229   \n",
       "\n",
       "                                   game_stats_xp  game_stats_xp1  \\\n",
       "uid_s                                  -0.002488       -0.001827   \n",
       "logins                                  0.066331        0.006486   \n",
       "game_stats_tutorial_complete           -0.007126       -0.011223   \n",
       "game_stats_tutorial_complete_time      -0.048646       -0.222293   \n",
       "game_stats_xp                           1.000000        0.954659   \n",
       "game_stats_xp1                          0.954659        1.000000   \n",
       "game_stats_xp2                          0.236963        0.040261   \n",
       "game_stats_xp3                          0.240898        0.023485   \n",
       "redeemer_actions                        0.305165        0.058600   \n",
       "scribe_actions                          0.231805        0.052169   \n",
       "\n",
       "                                   game_stats_xp2  game_stats_xp3  \\\n",
       "uid_s                                   -0.006516       -0.001061   \n",
       "logins                                   0.136865        0.145196   \n",
       "game_stats_tutorial_complete             0.012847        0.009077   \n",
       "game_stats_tutorial_complete_time       -0.042318       -0.011304   \n",
       "game_stats_xp                            0.236963        0.240898   \n",
       "game_stats_xp1                           0.040261        0.023485   \n",
       "game_stats_xp2                           1.000000        0.565179   \n",
       "game_stats_xp3                           0.565179        1.000000   \n",
       "redeemer_actions                         0.691370        0.636875   \n",
       "scribe_actions                           0.542336        0.465396   \n",
       "\n",
       "                                   redeemer_actions  scribe_actions  \n",
       "uid_s                                     -0.004261       -0.004763  \n",
       "logins                                     0.248741        0.451776  \n",
       "game_stats_tutorial_complete               0.028180        0.041772  \n",
       "game_stats_tutorial_complete_time         -0.066265        0.017229  \n",
       "game_stats_xp                              0.305165        0.231805  \n",
       "game_stats_xp1                             0.058600        0.052169  \n",
       "game_stats_xp2                             0.691370        0.542336  \n",
       "game_stats_xp3                             0.636875        0.465396  \n",
       "redeemer_actions                           1.000000        0.811995  \n",
       "scribe_actions                             0.811995        1.000000  "
      ]
     },
     "execution_count": 160,
     "metadata": {},
     "output_type": "execute_result"
    }
   ],
   "source": [
    "dfAction.corr()"
   ]
  },
  {
   "cell_type": "code",
   "execution_count": 157,
   "metadata": {
    "datalore": {
     "hide_input_from_viewers": false,
     "hide_output_from_viewers": false,
     "type": "CODE"
    },
    "execution": {
     "iopub.execute_input": "2022-03-29T21:54:41.660061Z",
     "iopub.status.busy": "2022-03-29T21:54:41.659648Z",
     "iopub.status.idle": "2022-03-29T21:54:41.766549Z",
     "shell.execute_reply": "2022-03-29T21:54:41.765855Z",
     "shell.execute_reply.started": "2022-03-29T21:54:41.660022Z"
    },
    "tags": []
   },
   "outputs": [
    {
     "data": {
      "text/plain": [
       "0.00       1.0\n",
       "0.05      12.0\n",
       "0.10      12.0\n",
       "0.20      13.0\n",
       "0.35      36.0\n",
       "0.50      53.0\n",
       "0.65      92.0\n",
       "0.80     169.0\n",
       "0.90     306.0\n",
       "0.95     521.0\n",
       "1.00    9078.0\n",
       "Name: redeemer_actions, dtype: float64"
      ]
     },
     "execution_count": 157,
     "metadata": {},
     "output_type": "execute_result"
    }
   ],
   "source": [
    "quantiles = [0, 0.05, 0.1, 0.2, 0.35, 0.5, 0.65, 0.8, 0.9, 0.95, 1]\n",
    "dfAction.redeemer_actions.quantile(quantiles)"
   ]
  },
  {
   "cell_type": "code",
   "execution_count": 159,
   "metadata": {
    "datalore": {
     "hide_input_from_viewers": false,
     "hide_output_from_viewers": false,
     "type": "CODE"
    },
    "execution": {
     "iopub.execute_input": "2022-03-29T21:55:34.132843Z",
     "iopub.status.busy": "2022-03-29T21:55:34.132489Z",
     "iopub.status.idle": "2022-03-29T21:55:34.247665Z",
     "shell.execute_reply": "2022-03-29T21:55:34.246961Z",
     "shell.execute_reply.started": "2022-03-29T21:55:34.132811Z"
    },
    "tags": []
   },
   "outputs": [
    {
     "data": {
      "text/plain": [
       "0.00        3.0\n",
       "0.05        9.0\n",
       "0.10       18.0\n",
       "0.20       50.0\n",
       "0.35      105.0\n",
       "0.50      129.0\n",
       "0.65      148.0\n",
       "0.80      183.0\n",
       "0.90      245.0\n",
       "0.95      313.0\n",
       "1.00    10720.0\n",
       "Name: scribe_actions, dtype: float64"
      ]
     },
     "execution_count": 159,
     "metadata": {},
     "output_type": "execute_result"
    }
   ],
   "source": [
    "quantiles = [0, 0.05, 0.1, 0.2, 0.35, 0.5, 0.65, 0.8, 0.9, 0.95, 1]\n",
    "dfAction.scribe_actions.quantile(quantiles)"
   ]
  },
  {
   "cell_type": "markdown",
   "metadata": {},
   "source": [
    "redeemer_actions and scribe_actions seems heavily right skewed. Log transform may be a considerable strategy."
   ]
  },
  {
   "cell_type": "code",
   "execution_count": 158,
   "metadata": {
    "datalore": {
     "hide_input_from_viewers": false,
     "hide_output_from_viewers": false,
     "type": "CODE"
    },
    "execution": {
     "iopub.execute_input": "2022-03-29T21:55:06.066017Z",
     "iopub.status.busy": "2022-03-29T21:55:06.065759Z",
     "iopub.status.idle": "2022-03-29T21:55:06.107815Z",
     "shell.execute_reply": "2022-03-29T21:55:06.107034Z",
     "shell.execute_reply.started": "2022-03-29T21:55:06.065994Z"
    },
    "tags": []
   },
   "outputs": [
    {
     "data": {
      "text/plain": [
       "1.0    1751748\n",
       "0.0       5249\n",
       "Name: game_stats_tutorial_complete, dtype: int64"
      ]
     },
     "execution_count": 158,
     "metadata": {},
     "output_type": "execute_result"
    }
   ],
   "source": [
    "dfAction.game_stats_tutorial_complete.value_counts()"
   ]
  },
  {
   "cell_type": "markdown",
   "metadata": {},
   "source": [
    "## Train, valid, test split"
   ]
  },
  {
   "cell_type": "code",
   "execution_count": 4,
   "metadata": {
    "datalore": {
     "hide_input_from_viewers": false,
     "hide_output_from_viewers": false,
     "type": "CODE"
    },
    "execution": {
     "iopub.execute_input": "2022-03-29T16:25:04.820940Z",
     "iopub.status.busy": "2022-03-29T16:25:04.820586Z",
     "iopub.status.idle": "2022-03-29T16:25:09.767133Z",
     "shell.execute_reply": "2022-03-29T16:25:09.766348Z",
     "shell.execute_reply.started": "2022-03-29T16:25:04.820913Z"
    },
    "tags": []
   },
   "outputs": [
    {
     "data": {
      "text/plain": [
       "uid_s                                 0.0000%\n",
       "logins                                0.0013%\n",
       "game_stats_tutorial_complete         38.2628%\n",
       "game_stats_tutorial_complete_time    38.4473%\n",
       "game_stats_xp                        26.8063%\n",
       "game_stats_xp1                       26.8063%\n",
       "game_stats_xp2                       26.8063%\n",
       "game_stats_xp3                       26.8063%\n",
       "redeemer_actions                      0.3613%\n",
       "scribe_actions                        0.0000%\n",
       "lang_s                                0.0000%\n",
       "geo_s                                 0.0044%\n",
       "region_s                              0.0000%\n",
       "tz_i                                  0.0000%\n",
       "local_time_join_hour                  0.0000%\n",
       "local_time_join_dow                   0.0000%\n",
       "total_spend                           0.0000%\n",
       "platform_s                            0.0000%\n",
       "device_mapped_s                       0.0002%\n",
       "device_manufacturer_s                 0.0002%\n",
       "device_mem_i                          0.0000%\n",
       "device_gmem_i                         0.0000%\n",
       "device_mem_grouping_i                 0.0000%\n",
       "device_gmem_grouping_i                0.0000%\n",
       "device_numcpu_i                       0.0000%\n",
       "device_height_i                       0.0000%\n",
       "device_gpu_s                          0.0000%\n",
       "device_os_s                           0.0000%\n",
       "device_model_s                        0.0002%\n",
       "dtype: object"
      ]
     },
     "execution_count": 4,
     "metadata": {},
     "output_type": "execute_result"
    }
   ],
   "source": [
    "dfGame = dfAction.merge(dfUser, on='uid_s', how='left')\n",
    "dfGame = dfGame.merge(dfDevice, on='uid_s', how='left')\n",
    "dfGame.isna().mean().map('{:.4%}'.format)"
   ]
  },
  {
   "cell_type": "code",
   "execution_count": 5,
   "metadata": {
    "datalore": {
     "hide_input_from_viewers": false,
     "hide_output_from_viewers": false,
     "type": "CODE"
    },
    "execution": {
     "iopub.execute_input": "2022-03-29T16:25:16.441053Z",
     "iopub.status.busy": "2022-03-29T16:25:16.440549Z",
     "iopub.status.idle": "2022-03-29T16:25:23.369260Z",
     "shell.execute_reply": "2022-03-29T16:25:23.368502Z",
     "shell.execute_reply.started": "2022-03-29T16:25:16.441009Z"
    },
    "tags": []
   },
   "outputs": [],
   "source": [
    "# spending information, which is not available for new users\n",
    "target = ['total_spend']\n",
    "\n",
    "xRaw = dfGame.drop(columns=target + ['uid_s'])\n",
    "yRaw = dfGame[target]\n",
    "\n",
    "seed = 7\n",
    "xRawTrain, xRawTest, yRawTrain, yRawTest = train_test_split(xRaw, yRaw, test_size=1/10, random_state=seed)\n",
    "xRawTrain, xRawValid, yRawTrain, yRawValid = train_test_split(xRawTrain, yRawTrain, test_size=1/9, random_state=seed)"
   ]
  },
  {
   "cell_type": "markdown",
   "metadata": {},
   "source": [
    "## Preprocessing"
   ]
  },
  {
   "cell_type": "code",
   "execution_count": 6,
   "metadata": {
    "execution": {
     "iopub.execute_input": "2022-03-29T16:25:38.564384Z",
     "iopub.status.busy": "2022-03-29T16:25:38.564077Z",
     "iopub.status.idle": "2022-03-29T16:25:39.328557Z",
     "shell.execute_reply": "2022-03-29T16:25:39.327138Z",
     "shell.execute_reply.started": "2022-03-29T16:25:38.564358Z"
    },
    "tags": []
   },
   "outputs": [],
   "source": [
    "threshold = 0.99\n",
    "\n",
    "countCumGpu = dfDevice.device_gpu_s.value_counts().cumsum()\n",
    "listMajorGpu = countCumGpu[countCumGpu < dfDevice.shape[0] * threshold].index.values.reshape(-1,1)\n",
    "encoderGpu = OrdinalEncoder(handle_unknown='use_encoded_value', unknown_value=-1)\n",
    "encoderGpu = encoderGpu.fit(listMajorGpu)\n",
    "\n",
    "countCumModel = dfDevice.device_model_s.value_counts().cumsum()\n",
    "listMajorModel = countCumModel[countCumModel < dfDevice.shape[0] * threshold].index.values.reshape(-1,1)\n",
    "encoderModel = OrdinalEncoder(handle_unknown='use_encoded_value', unknown_value=-1)\n",
    "encoderModel = encoderModel.fit(listMajorModel)\n",
    "\n",
    "encoderManufacturer = OrdinalEncoder(handle_unknown='use_encoded_value', unknown_value=-1)\n",
    "encoderManufacturer = encoderManufacturer.fit(dfDevice.device_manufacturer_s.unique().reshape(-1,1))\n",
    "\n",
    "encoderLanguage = OrdinalEncoder(handle_unknown='use_encoded_value', unknown_value=-1)\n",
    "encoderLanguage = encoderLanguage.fit(dfUser.lang_s.unique().reshape(-1,1))\n",
    "\n",
    "encoderGeo = OrdinalEncoder(handle_unknown='use_encoded_value', unknown_value=-1)\n",
    "encoderGeo = encoderGeo.fit(dfUser.geo_s.unique().reshape(-1,1))"
   ]
  },
  {
   "cell_type": "code",
   "execution_count": 9,
   "metadata": {
    "datalore": {
     "hide_input_from_viewers": false,
     "hide_output_from_viewers": false,
     "type": "CODE"
    },
    "execution": {
     "iopub.execute_input": "2022-03-29T16:26:35.713933Z",
     "iopub.status.busy": "2022-03-29T16:26:35.713404Z",
     "iopub.status.idle": "2022-03-29T16:26:35.724453Z",
     "shell.execute_reply": "2022-03-29T16:26:35.723560Z",
     "shell.execute_reply.started": "2022-03-29T16:26:35.713883Z"
    },
    "tags": []
   },
   "outputs": [],
   "source": [
    "def transform_features(xRaw:pd.DataFrame) -> np.array:\n",
    "    x = xRaw.copy()\n",
    "    \n",
    "    # action features\n",
    "    colsFillZero = ['game_stats_xp', 'game_stats_xp1', 'game_stats_xp2', 'game_stats_xp3']\n",
    "    colsFillOne = ['game_stats_tutorial_complete']\n",
    "    x[colsFillZero] = x[colsFillZero].fillna(0)\n",
    "    x[colsFillOne] = x[colsFillOne].fillna(1)\n",
    "    x['game_stats_tutorial_complete_time'] = x['game_stats_tutorial_complete_time'] / 1e6\n",
    "    \n",
    "    # device features\n",
    "    x['device_os_s'] = x.device_os_s.str.split(' / ').str[0]\n",
    "    x['os_version_s'] = x.device_os_s.str.split(' ').str[-1]\n",
    "    x['os_version_s'] = x.os_version_s.str.extract(r'(\\d+)').astype(float)\n",
    "    x['device_os_s'] = x.device_os_s.str.split(' ').str[0]\n",
    "    x = x.drop(columns=['platform_s', 'device_mapped_s', 'device_os_s'])\n",
    "    x['device_gpu_s'] = encoderGpu.transform(x[['device_gpu_s']].values)\n",
    "    x['device_model_s'] = encoderModel.transform(x[['device_model_s']].values)\n",
    "    x['device_manufacturer_s'] = encoderManufacturer.transform(x[['device_manufacturer_s']].values)\n",
    "    \n",
    "    # user features\n",
    "    x['tz_i'] = x['tz_i'] / 3600\n",
    "    x = x.drop(columns=['region_s'])\n",
    "    x['lang_s'] = encoderLanguage.transform(x[['lang_s']].values)\n",
    "    x['geo_s'] = encoderGeo.transform(x[['geo_s']].values)\n",
    "    \n",
    "    # pandas to numpy\n",
    "    x = x\n",
    "\n",
    "    return x\n",
    "\n",
    "def transform_label(yRaw:pd.DataFrame) -> np.array:\n",
    "    y = yRaw.copy()\n",
    "    \n",
    "    # pandas to numpy\n",
    "    y = y.values.flatten()\n",
    "    \n",
    "    return y"
   ]
  },
  {
   "cell_type": "code",
   "execution_count": 10,
   "metadata": {
    "execution": {
     "iopub.execute_input": "2022-03-29T16:26:55.988581Z",
     "iopub.status.busy": "2022-03-29T16:26:55.988255Z",
     "iopub.status.idle": "2022-03-29T16:27:29.363155Z",
     "shell.execute_reply": "2022-03-29T16:27:29.362231Z",
     "shell.execute_reply.started": "2022-03-29T16:26:55.988552Z"
    },
    "tags": []
   },
   "outputs": [],
   "source": [
    "xTrain, xValid, xTest = [transform_features(i) for i in [xRawTrain, xRawValid, xRawTest]]\n",
    "yTrain, yValid, yTest = [transform_label(i) for i in [yRawTrain, yRawValid, yRawTest]]"
   ]
  },
  {
   "cell_type": "code",
   "execution_count": 118,
   "metadata": {
    "execution": {
     "iopub.execute_input": "2022-03-29T20:30:17.006167Z",
     "iopub.status.busy": "2022-03-29T20:30:17.005836Z",
     "iopub.status.idle": "2022-03-29T20:30:17.010105Z",
     "shell.execute_reply": "2022-03-29T20:30:17.008936Z",
     "shell.execute_reply.started": "2022-03-29T20:30:17.006131Z"
    },
    "tags": []
   },
   "outputs": [],
   "source": [
    "listCategoricalFeature = [\n",
    "    'lang_s',\n",
    "    'geo_s',\n",
    "    'local_time_join_dow',\n",
    "    'device_manufacturer_s',\n",
    "    'device_gpu_s',\n",
    "    'device_model_s',\n",
    "]"
   ]
  },
  {
   "cell_type": "markdown",
   "metadata": {},
   "source": [
    "## Model approach 1\n",
    "Predict total_spend using LGBMRegressor. Since time and resources are limited I do not use grid search or randomized search, but change hyperparams one by one, thanks to my deep understanding about the alogrithm. The code here only shows the best model. Here is how I tune the model:\n",
    "- start with default hyperparams, the model is underfit (R2 is about 0.05)\n",
    "- specify categorical features, since LightGBM has an unique mechanic handling integer-encoded categorical features\n",
    "- sset the early stopping rounds to be 10% of n_estimators\n",
    "- increase the n_estimator and lower the learning_rate. I do this very slowly.\n",
    "- keep increasing n_estimator but now retain the learning_rate, and increase max_bin and num_leaves\n",
    "\n",
    "Since the performance on the valid set is not very good, I move to another solution."
   ]
  },
  {
   "cell_type": "code",
   "execution_count": 161,
   "metadata": {
    "execution": {
     "iopub.execute_input": "2022-03-29T22:04:04.491286Z",
     "iopub.status.busy": "2022-03-29T22:04:04.490906Z",
     "iopub.status.idle": "2022-03-29T22:05:34.224192Z",
     "shell.execute_reply": "2022-03-29T22:05:34.223124Z",
     "shell.execute_reply.started": "2022-03-29T22:04:04.491251Z"
    },
    "tags": []
   },
   "outputs": [
    {
     "name": "stdout",
     "output_type": "stream",
     "text": [
      "Training until validation scores don't improve for 500.0 rounds\n",
      "Early stopping, best iteration is:\n",
      "[725]\tvalid_0's l2: 175.735\n"
     ]
    }
   ],
   "source": [
    "listCategoricalFeature = [\n",
    "    'lang_s',\n",
    "    'geo_s',\n",
    "    'local_time_join_dow',\n",
    "    'device_manufacturer_s',\n",
    "    'device_gpu_s',\n",
    "    'device_model_s',\n",
    "]\n",
    "dataTrain = lgb.Dataset(xTrain, yTrain, categorical_feature=listCategoricalFeature)\n",
    "dataValid = lgb.Dataset(xValid, yValid, categorical_feature=listCategoricalFeature, reference=dataTrain)\n",
    "\n",
    "nTree = 5000\n",
    "params = {\n",
    "    'objective': 'regression',\n",
    "    'n_estimators': nTree,\n",
    "    'learning_rate': 0.03,\n",
    "    'max_bin': 2**10,\n",
    "    'num_leaves': 2**6,\n",
    "    'verbose': -1,\n",
    "    'force_col_wise': True,\n",
    "    'metric': 'mse',\n",
    "}\n",
    "\n",
    "model0 = lgb.train(\n",
    "    params=params,\n",
    "    train_set=dataTrain,\n",
    "    valid_sets=[dataValid],\n",
    "    callbacks=[lgb.early_stopping(0.1 * nTree)],\n",
    ")"
   ]
  },
  {
   "cell_type": "code",
   "execution_count": 166,
   "metadata": {
    "execution": {
     "iopub.execute_input": "2022-03-29T22:13:18.978121Z",
     "iopub.status.busy": "2022-03-29T22:13:18.977694Z",
     "iopub.status.idle": "2022-03-29T22:13:51.522053Z",
     "shell.execute_reply": "2022-03-29T22:13:51.520925Z",
     "shell.execute_reply.started": "2022-03-29T22:13:18.978080Z"
    },
    "tags": []
   },
   "outputs": [
    {
     "data": {
      "text/plain": [
       "0.19974283555154138"
      ]
     },
     "execution_count": 166,
     "metadata": {},
     "output_type": "execute_result"
    }
   ],
   "source": [
    "yTrainPred0 = model0.predict(xTrain, num_iteration=model0.best_iteration)\n",
    "r2_score(yTrain, yTrainPred0)"
   ]
  },
  {
   "cell_type": "code",
   "execution_count": 180,
   "metadata": {
    "execution": {
     "iopub.execute_input": "2022-03-29T22:33:07.032053Z",
     "iopub.status.busy": "2022-03-29T22:33:07.031614Z",
     "iopub.status.idle": "2022-03-29T22:33:09.997567Z",
     "shell.execute_reply": "2022-03-29T22:33:09.996582Z",
     "shell.execute_reply.started": "2022-03-29T22:33:07.032013Z"
    },
    "tags": []
   },
   "outputs": [
    {
     "data": {
      "text/plain": [
       "0.062174442619160386"
      ]
     },
     "execution_count": 180,
     "metadata": {},
     "output_type": "execute_result"
    }
   ],
   "source": [
    "yValidPred0 = model0.predict(xValid, num_iteration=model0.best_iteration)\n",
    "r2_score(yValid, yValidPred0)"
   ]
  },
  {
   "cell_type": "code",
   "execution_count": 181,
   "metadata": {
    "execution": {
     "iopub.execute_input": "2022-03-29T22:33:16.819920Z",
     "iopub.status.busy": "2022-03-29T22:33:16.819573Z",
     "iopub.status.idle": "2022-03-29T22:33:19.810530Z",
     "shell.execute_reply": "2022-03-29T22:33:19.809710Z",
     "shell.execute_reply.started": "2022-03-29T22:33:16.819890Z"
    },
    "tags": []
   },
   "outputs": [
    {
     "data": {
      "text/plain": [
       "0.0559916978792141"
      ]
     },
     "execution_count": 181,
     "metadata": {},
     "output_type": "execute_result"
    }
   ],
   "source": [
    "yTestPred0 = model0.predict(xTest, num_iteration=model0.best_iteration)\n",
    "r2_score(yTest, yTestPred0)"
   ]
  },
  {
   "cell_type": "markdown",
   "metadata": {},
   "source": [
    "## Model approach 2\n",
    "This time, I train 2 models:\n",
    "- a classifier to determine if the users spend. The hyperparams tuning is same as above, but this time the model is a little overfit (aucTrain=0.96, aucValid=0.88). I use some regularization (l1, l2) and use bagging to make two values closer.\n",
    "- a regressor to predict the amount spend on the positive part only. Unfortunately, this model is terrible (R2~0), same as using averge as the prediction for all observations."
   ]
  },
  {
   "cell_type": "code",
   "execution_count": 178,
   "metadata": {
    "execution": {
     "iopub.execute_input": "2022-03-29T22:32:04.544995Z",
     "iopub.status.busy": "2022-03-29T22:32:04.544624Z",
     "iopub.status.idle": "2022-03-29T22:32:04.569695Z",
     "shell.execute_reply": "2022-03-29T22:32:04.568776Z",
     "shell.execute_reply.started": "2022-03-29T22:32:04.544960Z"
    },
    "tags": []
   },
   "outputs": [],
   "source": [
    "yTrain1 = yTrain.copy()\n",
    "yTrain1[yTrain1 > 0] = 1\n",
    "\n",
    "yValid1 = yValid.copy()\n",
    "yValid1[yValid1 > 0] = 1\n",
    "\n",
    "yTest1 = yTest.copy()\n",
    "yTest1[yTest1 > 0] = 1"
   ]
  },
  {
   "cell_type": "code",
   "execution_count": 169,
   "metadata": {
    "execution": {
     "iopub.execute_input": "2022-03-29T22:23:19.524076Z",
     "iopub.status.busy": "2022-03-29T22:23:19.523754Z",
     "iopub.status.idle": "2022-03-29T22:26:05.799263Z",
     "shell.execute_reply": "2022-03-29T22:26:05.798180Z",
     "shell.execute_reply.started": "2022-03-29T22:23:19.524053Z"
    },
    "tags": []
   },
   "outputs": [
    {
     "name": "stdout",
     "output_type": "stream",
     "text": [
      "Training until validation scores don't improve for 500.0 rounds\n",
      "Early stopping, best iteration is:\n",
      "[1487]\tvalid_0's cross_entropy: 0.0474842\n"
     ]
    }
   ],
   "source": [
    "dataTrain1 = lgb.Dataset(xTrain, yTrain1, categorical_feature=listCategoricalFeature)\n",
    "dataValid1 = lgb.Dataset(xValid, yValid1, categorical_feature=listCategoricalFeature, reference=dataTrain)\n",
    "\n",
    "nTree = 5000\n",
    "params = {\n",
    "    'objective': 'binary',\n",
    "    'n_estimators': nTree,\n",
    "    'learning_rate': 0.03,\n",
    "    'max_bin': 2**9,\n",
    "    'num_leaves': 2**5,\n",
    "    'scale_pos_weight': 2,\n",
    "    'lambda_l1': 1,\n",
    "    'lambda_l2': 0.1,\n",
    "    'bagging_fraction': 0.5,\n",
    "    'feature_fraction': 0.5,\n",
    "    'verbose': -1,\n",
    "    'force_col_wise': True,\n",
    "    'metric': 'cross_entropy',\n",
    "}\n",
    "\n",
    "model1 = lgb.train(\n",
    "    params=params,\n",
    "    train_set=dataTrain1,\n",
    "    valid_sets=[dataValid1],\n",
    "    callbacks=[lgb.early_stopping(0.1 * nTree)],\n",
    ")"
   ]
  },
  {
   "cell_type": "code",
   "execution_count": 175,
   "metadata": {
    "execution": {
     "iopub.execute_input": "2022-03-29T22:28:38.746092Z",
     "iopub.status.busy": "2022-03-29T22:28:38.745771Z",
     "iopub.status.idle": "2022-03-29T22:30:28.222208Z",
     "shell.execute_reply": "2022-03-29T22:30:28.221295Z",
     "shell.execute_reply.started": "2022-03-29T22:28:38.746065Z"
    },
    "tags": []
   },
   "outputs": [
    {
     "data": {
      "text/plain": [
       "0.9539432414694646"
      ]
     },
     "execution_count": 175,
     "metadata": {},
     "output_type": "execute_result"
    }
   ],
   "source": [
    "yTrainPred1 = model1.predict(xTrain, num_iteration=model1.best_iteration)\n",
    "roc_auc_score(yTrain1, yTrainPred1)"
   ]
  },
  {
   "cell_type": "code",
   "execution_count": 176,
   "metadata": {
    "execution": {
     "iopub.execute_input": "2022-03-29T22:30:37.563386Z",
     "iopub.status.busy": "2022-03-29T22:30:37.562994Z",
     "iopub.status.idle": "2022-03-29T22:30:48.121577Z",
     "shell.execute_reply": "2022-03-29T22:30:48.120612Z",
     "shell.execute_reply.started": "2022-03-29T22:30:37.563351Z"
    },
    "tags": []
   },
   "outputs": [
    {
     "data": {
      "text/plain": [
       "0.8998312187062972"
      ]
     },
     "execution_count": 176,
     "metadata": {},
     "output_type": "execute_result"
    }
   ],
   "source": [
    "yValidPred1 = model1.predict(xValid, num_iteration=model1.best_iteration)\n",
    "roc_auc_score(yValid1, yValidPred1)"
   ]
  },
  {
   "cell_type": "code",
   "execution_count": 179,
   "metadata": {
    "execution": {
     "iopub.execute_input": "2022-03-29T22:32:07.415605Z",
     "iopub.status.busy": "2022-03-29T22:32:07.415301Z",
     "iopub.status.idle": "2022-03-29T22:32:18.130344Z",
     "shell.execute_reply": "2022-03-29T22:32:18.129404Z",
     "shell.execute_reply.started": "2022-03-29T22:32:07.415577Z"
    },
    "tags": []
   },
   "outputs": [
    {
     "data": {
      "text/plain": [
       "0.8997846047696433"
      ]
     },
     "execution_count": 179,
     "metadata": {},
     "output_type": "execute_result"
    }
   ],
   "source": [
    "yTestPred1 = model1.predict(xTest, num_iteration=model1.best_iteration)\n",
    "roc_auc_score(yTest1, yTestPred1)"
   ]
  },
  {
   "cell_type": "code",
   "execution_count": null,
   "metadata": {},
   "outputs": [],
   "source": []
  },
  {
   "cell_type": "code",
   "execution_count": null,
   "metadata": {},
   "outputs": [],
   "source": []
  },
  {
   "cell_type": "code",
   "execution_count": null,
   "metadata": {},
   "outputs": [],
   "source": []
  },
  {
   "cell_type": "code",
   "execution_count": 121,
   "metadata": {
    "execution": {
     "iopub.execute_input": "2022-03-29T20:34:21.917775Z",
     "iopub.status.busy": "2022-03-29T20:34:21.917456Z",
     "iopub.status.idle": "2022-03-29T20:34:22.028738Z",
     "shell.execute_reply": "2022-03-29T20:34:22.027223Z",
     "shell.execute_reply.started": "2022-03-29T20:34:21.917746Z"
    },
    "tags": []
   },
   "outputs": [],
   "source": [
    "maskTrain = yTrain > 0\n",
    "maskValid = yValid > 0\n",
    "\n",
    "yTrain2 = yTrain[maskTrain]\n",
    "xTrain2 = xTrain[maskTrain]\n",
    "\n",
    "yValid2 = yValid[maskValid]\n",
    "xValid2 = xValid[maskValid]"
   ]
  },
  {
   "cell_type": "code",
   "execution_count": 131,
   "metadata": {
    "execution": {
     "iopub.execute_input": "2022-03-29T20:45:14.724736Z",
     "iopub.status.busy": "2022-03-29T20:45:14.724416Z",
     "iopub.status.idle": "2022-03-29T20:45:20.596187Z",
     "shell.execute_reply": "2022-03-29T20:45:20.595385Z",
     "shell.execute_reply.started": "2022-03-29T20:45:14.724707Z"
    },
    "tags": []
   },
   "outputs": [
    {
     "name": "stdout",
     "output_type": "stream",
     "text": [
      "Training until validation scores don't improve for 1000.0 rounds\n",
      "Early stopping, best iteration is:\n",
      "[1]\tvalid_0's l2: 5368.22\n"
     ]
    }
   ],
   "source": [
    "dataTrain2 = lgb.Dataset(xTrain2, yTrain2, categorical_feature=listCategoricalFeature)\n",
    "dataValid2 = lgb.Dataset(xValid2, yValid2, categorical_feature=listCategoricalFeature, reference=dataTrain2)\n",
    "\n",
    "nTree = 10000\n",
    "params = {\n",
    "    'objective': 'regression',\n",
    "    'n_estimators': nTree,\n",
    "    'learning_rate': 0.01,\n",
    "    'max_bin': 2**10,\n",
    "    'num_leaves': 2**6,\n",
    "    'verbose': -1,\n",
    "    'force_col_wise': True,\n",
    "    'metric': 'mse',\n",
    "}\n",
    "\n",
    "model2 = lgb.train(\n",
    "    params=params,\n",
    "    train_set=dataTrain2,\n",
    "    valid_sets=[dataValid2],\n",
    "    callbacks=[lgb.early_stopping(0.1 * nTree)],\n",
    ")"
   ]
  },
  {
   "cell_type": "code",
   "execution_count": 132,
   "metadata": {
    "execution": {
     "iopub.execute_input": "2022-03-29T20:45:35.067144Z",
     "iopub.status.busy": "2022-03-29T20:45:35.066895Z",
     "iopub.status.idle": "2022-03-29T20:45:35.090263Z",
     "shell.execute_reply": "2022-03-29T20:45:35.088375Z",
     "shell.execute_reply.started": "2022-03-29T20:45:35.067122Z"
    },
    "tags": []
   },
   "outputs": [
    {
     "data": {
      "text/plain": [
       "0.000707557689440419"
      ]
     },
     "execution_count": 132,
     "metadata": {},
     "output_type": "execute_result"
    }
   ],
   "source": [
    "yTrainPred2 = model2.predict(xTrain2, num_iteration=model.best_iteration)\n",
    "r2_score(yTrain2, yTrainPred2)"
   ]
  },
  {
   "cell_type": "code",
   "execution_count": 133,
   "metadata": {
    "execution": {
     "iopub.execute_input": "2022-03-29T20:45:36.217631Z",
     "iopub.status.busy": "2022-03-29T20:45:36.217234Z",
     "iopub.status.idle": "2022-03-29T20:45:36.228609Z",
     "shell.execute_reply": "2022-03-29T20:45:36.227671Z",
     "shell.execute_reply.started": "2022-03-29T20:45:36.217593Z"
    },
    "tags": []
   },
   "outputs": [
    {
     "data": {
      "text/plain": [
       "-0.00014354173370789702"
      ]
     },
     "execution_count": 133,
     "metadata": {},
     "output_type": "execute_result"
    }
   ],
   "source": [
    "yValidPred2 = model2.predict(xValid2, num_iteration=model.best_iteration)\n",
    "r2_score(yValid2, yValidPred2)"
   ]
  },
  {
   "cell_type": "code",
   "execution_count": null,
   "metadata": {},
   "outputs": [],
   "source": []
  },
  {
   "cell_type": "markdown",
   "metadata": {},
   "source": [
    "Since the model2 cannot be used, I will stack model0 and model1 as the prediction for the spending amount."
   ]
  },
  {
   "cell_type": "code",
   "execution_count": 182,
   "metadata": {
    "execution": {
     "iopub.execute_input": "2022-03-29T22:35:13.268621Z",
     "iopub.status.busy": "2022-03-29T22:35:13.268299Z",
     "iopub.status.idle": "2022-03-29T22:35:13.416488Z",
     "shell.execute_reply": "2022-03-29T22:35:13.415555Z",
     "shell.execute_reply.started": "2022-03-29T22:35:13.268595Z"
    },
    "tags": []
   },
   "outputs": [
    {
     "data": {
      "text/plain": [
       "<lightgbm.basic.Booster at 0x7fc6f2f6afd0>"
      ]
     },
     "execution_count": 182,
     "metadata": {},
     "output_type": "execute_result"
    }
   ],
   "source": [
    "model0.save_model('model0.txt')"
   ]
  },
  {
   "cell_type": "code",
   "execution_count": 183,
   "metadata": {
    "execution": {
     "iopub.execute_input": "2022-03-29T22:35:40.531099Z",
     "iopub.status.busy": "2022-03-29T22:35:40.530606Z",
     "iopub.status.idle": "2022-03-29T22:35:40.724875Z",
     "shell.execute_reply": "2022-03-29T22:35:40.724038Z",
     "shell.execute_reply.started": "2022-03-29T22:35:40.531054Z"
    },
    "tags": []
   },
   "outputs": [
    {
     "data": {
      "text/plain": [
       "<lightgbm.basic.Booster at 0x7fc6f2f6af10>"
      ]
     },
     "execution_count": 183,
     "metadata": {},
     "output_type": "execute_result"
    }
   ],
   "source": [
    "model1.save_model('model1.txt')"
   ]
  },
  {
   "cell_type": "markdown",
   "metadata": {},
   "source": [
    "## Conclusion\n",
    "- model1 (classifier) is the model I use to predict if a user is going to spend. It achieved a pretty good auc at 0.8997 on the test set.\n",
    "- model0 (regressor) is for predicting the amount an user is going to spend. It achieved a r2 score of 0.0560, and is going to need further  feature engineering. In the case I must give a score reprensenting prices, the probability from model1 is an acceptable alternative."
   ]
  },
  {
   "cell_type": "code",
   "execution_count": null,
   "metadata": {},
   "outputs": [],
   "source": []
  },
  {
   "cell_type": "code",
   "execution_count": null,
   "metadata": {},
   "outputs": [],
   "source": []
  },
  {
   "cell_type": "code",
   "execution_count": null,
   "metadata": {},
   "outputs": [],
   "source": []
  },
  {
   "cell_type": "code",
   "execution_count": null,
   "metadata": {},
   "outputs": [],
   "source": []
  },
  {
   "cell_type": "code",
   "execution_count": null,
   "metadata": {},
   "outputs": [],
   "source": []
  },
  {
   "cell_type": "code",
   "execution_count": null,
   "metadata": {},
   "outputs": [],
   "source": []
  }
 ],
 "metadata": {
  "datalore": {
   "base_environment": "default",
   "computation_mode": "JUPYTER",
   "package_manager": "pip",
   "packages": [],
   "version": 1
  },
  "kernelspec": {
   "display_name": "Python 3",
   "language": "python",
   "name": "python3"
  },
  "language_info": {
   "codemirror_mode": {
    "name": "ipython",
    "version": 3
   },
   "file_extension": ".py",
   "mimetype": "text/x-python",
   "name": "python",
   "nbconvert_exporter": "python",
   "pygments_lexer": "ipython3",
   "version": "3.8.8"
  }
 },
 "nbformat": 4,
 "nbformat_minor": 4
}
