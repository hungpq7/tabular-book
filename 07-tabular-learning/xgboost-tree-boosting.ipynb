{
 "cells": [
  {
   "cell_type": "markdown",
   "id": "1afb87c5-6074-4c19-92c4-c7a5c77c8bfe",
   "metadata": {},
   "source": [
    "# XGBoost: Tree Boosting\n",
    "Continue from the previous topic *Ensemble Learning*, this topic goes deeper in the Gradient Boosting branch. We are going to learn about each of the trio XGBoost, LightGBM and CatBoost, which are considered state-of-the-art algorithms for tabular data."
   ]
  },
  {
   "cell_type": "code",
   "execution_count": null,
   "id": "b056b9ae-1284-4120-ac6c-b78c8b4ef8d2",
   "metadata": {
    "execution": {
     "iopub.execute_input": "2022-06-05T14:57:06.496390Z",
     "iopub.status.busy": "2022-06-05T14:57:06.496000Z",
     "iopub.status.idle": "2022-06-05T14:57:06.509535Z",
     "shell.execute_reply": "2022-06-05T14:57:06.508458Z",
     "shell.execute_reply.started": "2022-06-05T14:57:06.496354Z"
    },
    "tags": []
   },
   "outputs": [],
   "source": [
    "import datetime as dt\n",
    "import numpy as np\n",
    "import pandas as pd\n",
    "\n",
    "import matplotlib.pyplot as plt\n",
    "import seaborn as sns\n",
    "\n",
    "from sklearn.model_selection import train_test_split, GridSearchCV\n",
    "from sklearn.metrics import roc_auc_score as AUC, fbeta_score as FScore\n",
    "from sklearn.tree import DecisionTreeRegressor\n",
    "from flaml import AutoML\n",
    "import xgboost as xgb\n",
    "import lightgbm as lgb\n",
    "import catboost as cgb\n",
    "from ngboost.distns import Poisson, Bernoulli, k_categorical, ClassificationDistn\n",
    "from ngboost.distns import Normal, Laplace, Cauchy, Exponential, RegressionDistn\n",
    "from ngboost.scores import LogScore, CRPScore\n",
    "\n",
    "np.set_printoptions(precision=4, suppress=True)\n",
    "plt.style.use(['seaborn', 'seaborn-whitegrid'])\n",
    "%config InlineBackend.figure_format = 'retina'"
   ]
  },
  {
   "cell_type": "markdown",
   "id": "c1687ed4-9735-490b-94c6-ead3c0068386",
   "metadata": {
    "tags": []
   },
   "source": [
    "## 1. XGBoost\n",
    "[XGBoost](https://github.com/dmlc/xgboost) (eXtreme Gradient Boosting) is a variant of GBM released in 2014 and dominated competitions in 2015. XGBoost develops an unique tree mechanic using both [gradient](https://en.wikipedia.org/wiki/Gradient) and [hessian](https://en.wikipedia.org/wiki/Hessian_matrix) of the loss function (these two terms refer to the first and second order derivatives in the context of univariate Calculus), while inherits the boosting process from GBM. Until now, it is still widely used by Data Scientists to achive state-of-the-art performance on tabular datasets."
   ]
  },
  {
   "cell_type": "markdown",
   "id": "0f71e6d4-c099-4f4c-ae8c-bbb3c44ad1b6",
   "metadata": {},
   "source": [
    "### 1.1. Algorithm"
   ]
  },
  {
   "cell_type": "markdown",
   "id": "c3171388-ae6a-4be4-b3d1-588d8edaf8c7",
   "metadata": {
    "tags": []
   },
   "source": [
    "#### Objective function\n",
    "XGBoost's authors strongly emphasize the role of regularization, which is usually treated less carefully in other tree packages. The objective function at step $t$ is defined so that it consists of two components, the loss term $\\mathcal{L}$ and the regularization term $\\mathcal{R}$.\n",
    "\n",
    "*Loss term*. There are a lot of choices for loss functions, but let's start with the most friendly one, sum squared error. For each observation $\\mathbf{s}_n$, the corresponding gradient is $g_n=\\hat{y}_n-y_n$ (refers to the residual) and hessian is $h_n=1$ (refers to the size); the same idea can be applied to understand other loss functions. In general, due to the complexity of loss functions, XGBoost takes their second-order Taylor approximation. Notice that $\\mathcal{L}\\left(\\hat{y}_n^{(t-1)}\\right)$ is a constant and is not going to be considered when minimizing the loss term.\n",
    "\n",
    "$$\\begin{aligned}\n",
    "\\mathcal{L}\\left(\\hat{y}_n^{(t-1)}+f(\\mathbf{s}_n)\\right)\n",
    "\\approx\\mathcal{L}\\left(\\hat{y}_n^{(t-1)}\\right)+g_n^{(t)}f(\\mathbf{s}_n)+\\frac{1}{2}h_n^{(t)}f(\\mathbf{s}_n)^2\n",
    "\\end{aligned}$$\n",
    "\n",
    "*Regularization term*. We denote $M$ - the number of leaves and $w_m$ - the predicted value by $m^{th}$ leaf ($m=1,2,\\dots,M$). The regularization term is defined using tree complexity as follow:\n",
    "\n",
    "$$\\mathcal{R}(f)=\\gamma M+\\frac{1}{2}\\lambda\\sum_{m=1}^{M}{w_m^2}$$\n",
    "\n",
    "Now we have prepared $\\mathcal{L}$ and $\\mathcal{R}$, the next step is to adding them up. Unfortunately, these two term are indexed differently. Notice that all samples in a leaf get the same prediction, we change the index of $\\mathcal{L}$ by defining $G_m$ and $H_m$, the sum of sample gradients and sample hessians in the leaf $m^{th}$.\n",
    "\n",
    "$$\\begin{aligned}\n",
    "\\mathcal{O}^{(t)}\n",
    "&= \\mathcal{L}^{(t)}+\\mathcal{R}^{(t)} \\\\\n",
    "&= \\left(\\sum_{n=1}^{N}g_n f(\\mathbf{s}_n)+\\sum_{n=1}^{N}\\frac{1}{2}h_n f(\\mathbf{s}_n)^2\\right)+\n",
    "    \\left(\\gamma M+\\frac{1}{2}\\lambda\\sum_{m=1}^{M}{w_m^2}\\right) \\\\\n",
    "&= \\left(\\sum_{m=1}^M G_m w_m+\\frac{1}{2}\\sum_{m=1}^M H_m w_m^2\\right)+\n",
    "    \\left(\\gamma M+\\frac{1}{2}\\lambda\\sum_{m=1}^{M}{w_m^2}\\right) \\\\\n",
    "&= \\sum_{m=1}^M\\left(G_m w_m+\\frac{H_m+\\lambda}{2}w_m^2\\right)+\\gamma M\n",
    "\\end{aligned}$$"
   ]
  },
  {
   "cell_type": "markdown",
   "id": "bfb7cbe0-6fa0-41bd-9af6-0417f60938c0",
   "metadata": {},
   "source": [
    "#### XGBoost tree\n",
    "Using the objective function $\\mathcal{O}(w_m)$ constructed in the previous section, which is quadratic, we solve for $w_m$ to minimize $\\mathcal{O}$:\n",
    "\n",
    "$$w_m=\\arg\\min\\mathcal{O}(w_m)=-\\frac{G_m}{H_m+\\lambda}$$\n",
    "\n",
    "Plug the solution to $\\mathcal{O}(w_m)$, we have:\n",
    "\n",
    "$$\\mathcal{O}(w_m)=-\\frac{1}{2}\\sum_{m=1}^{M}\\frac{G_m^2}{H_m+\\lambda}+\\gamma M$$\n",
    "\n",
    "The second equation also measures the impurity of a node (lower is better) and shares the same functionality with Gini and Entropy formulas in traditional CART. Another difference in XGBoost tree is that it doesn't normalize impurity values of child nodes before calculating information gain. Now let's analyze the regularization effect of $\\lambda$ and $\\gamma$.\n",
    "- $\\lambda$ is intended to reduce the $G_m^2\\div H_m$ ratio: the higher $\\lambda$ is, the more reduction it makes in the impurity. Besides, $\\lambda$ is very sensitive to node sizes: it will pack a punch on a small leaf.\n",
    "- $\\gamma$ works as a threshold, forcing the information gain of a split must be greater than $\\gamma$ so that the split can be performed."
   ]
  },
  {
   "cell_type": "markdown",
   "id": "8383b371-4116-41d8-ad05-a57993331f7c",
   "metadata": {},
   "source": [
    "#### Key features\n",
    "- [Histogram-base split finding](https://xgboost.readthedocs.io/en/stable/treemethod.html#approximated-solutions). XGBoost uses an approximate solution based on histograms to find optimal candidate when constructing Decsision Trees.\n",
    "- [DART](https://xgboost.readthedocs.io/en/stable/tutorials/dart.html). XGBoost implements DART, a technique inspired by dropout from Deep Learning.\n",
    "- [Monotonic constraints](https://xgboost.readthedocs.io/en/stable/tutorials/monotonic.html). An interesting feature that allows specifying real-world constraints between features and target that obviously exists has but cannot be learned from data. For example, larger houses ($\\mathbf{x}_2$) should be more expensive ($\\mathbf{y}$) than smaller ones, then we write: `[0,1,0,0,...]` which means an increasing constrain on the second feature.\n",
    "By enforcing such a relationship, we are helping our model to learn patterns better.\n",
    "- [Feature interaction constraints](https://xgboost.readthedocs.io/en/stable/tutorials/feature_interaction_constraint.html). Another constraint but for features only. Features in a group we are specifying can only *interact* with other group members but with no other feature. The term *interact* refers to features who are in the same decision path.\n",
    "- [Categorical data support](https://xgboost.readthedocs.io/en/stable/tutorials/categorical.html)\n",
    "- [Multiple ouputs support](https://xgboost.readthedocs.io/en/stable/tutorials/multioutput.html)\n",
    "- [GPU support](https://xgboost.readthedocs.io/en/stable/gpu/index.html)\n",
    "- [Early stopping](https://xgboost.readthedocs.io/en/stable/prediction.html#early-stopping)"
   ]
  },
  {
   "cell_type": "markdown",
   "id": "75893778-b259-44dc-8723-414cb27db722",
   "metadata": {},
   "source": [
    "### 1.2. Hyperparameters\n",
    "XGBoost implementation has a huge number of [hyperparameters](https://xgboost.readthedocs.io/en/stable/parameter.html), devided into many types."
   ]
  },
  {
   "cell_type": "markdown",
   "id": "bcfdc993-3dd9-4528-87aa-c288b72e09a4",
   "metadata": {},
   "source": [
    "*Boosting parameters*. The configurations for boosting.\n",
    "- `n_estimators`: the number of boosting stages ($T$), defaults to *100*. Larger is usually better, but should go with a lower *learning_rate* and an *early_stopping_round* provided. Lower can speed up training.\n",
    "- `learning_rate`: the learning rate ($\\eta$), defaults to *0.3*. Same usage as in GBM.\n",
    "- `early_stopping_round`: the maximum number of iterations without improvements, defaults to *0* (disabled). Keeping a low enough value may make boosting stop earlier, thus reduces the overall training time. Usually be set around $10\\%\\,T$.\n",
    "- `booster`: the ensemble method, defaults to *gbtree* (traditional GBM). Other options are *gblinear* (using linear model as base learner) and *dart* (Dropouts meets Multiple Additive Regression Trees).\n",
    "- `tree_method`: the tree construction strategy, defaults to *auto* (heuristic selection). Other options are *approx* (quantile sketch and gradient histogram), *hist* (histogram-based split finding) and *gpu_hist* (GPU implementation of *hist*)."
   ]
  },
  {
   "cell_type": "markdown",
   "id": "458bcb85-8f35-4dfa-a9f8-db1fedf85195",
   "metadata": {},
   "source": [
    "*Bagging parameters*. XGBoost even includes more bagging parameters than Scikit-learn does.\n",
    "- `subsample`: the ratio of instances used in each tree, defaults to *1*. A lower value will increase the randomness between trees that deals with overfitting and may speed up training.\n",
    "- `sampling_method`: the sampling method, defaults to *uniform* (treats samples equally). The other value is *gradient_based* (sample weight is $\\sqrt{g_n^2+\\lambda h_n^2}$, only avaiable in GPU training)\n",
    "- `colsample_bytree`, `colsample_bylevel` and `colsample_bynode`: the ratio of features used in each tree/level/node, all default to *1.0* (enabled). These 3 hyperparameters can be stacked up."
   ]
  },
  {
   "cell_type": "markdown",
   "id": "2b7b792e-ad86-4284-bc95-8a9c56b5a883",
   "metadata": {},
   "source": [
    "*Tree learning parameters*. Most parameters in this group are for prunning trees in order to deal with overfitting. Due to the fact that pruned trees are shallower, the training is also faster.\n",
    "- `max_depth`: the maximum depth of each tree, defaults to *6*.\n",
    "- `max_leaves`: the maximum number of leaves of each tree, defaults to *0* (no limit).\n",
    "- `min_child_weight`: the minimum sum of sample hessian ($G$) a node must have, defaults to *1*.\n",
    "- `max_bin`: the maximum number of bins for histogram-based split finding, defaults to *256*.\n",
    "- `gamma`: $\\gamma$, the regularization term on number of leaves, defaults to *0.0*.\n",
    "- `reg_alpha` and `reg_lambda`: the $L_1$ and $L_2$ regularization terms, both default to *0*. Optimal values are $10^k$ where $k$ is around $0$.\n",
    "- `grow_policy`: the method of adding new nodes to a tree, defaults to *depthwise* (prefers nodes closer to the root). The other option is *lossguide* (prefers nodes with highest loss reduction)."
   ]
  },
  {
   "cell_type": "markdown",
   "id": "247e0e9c-fed3-441c-afa3-09c4fbe38068",
   "metadata": {},
   "source": [
    "*DART's parameters*\n",
    "- `rate_drop`: the fraction of previous trees to drop during the dropout, defaults to *0.0*.\n",
    "- `one_drop`: whether to use epsilon dropout, defaults to *0*. Setting this flag to *1* indicates allowing at least one tree is always droppped during dropout.\n",
    "- `skip_drop`: the probability of skipping the dropout procedure during a boosting iteration, defaults to *0.0*.\n",
    "- `sample_type`: the type of sampling, defaults to *uniform*. The other option is *weight*.\n",
    "- `normalize_type`: the type of normalization, defaults to *tree* (new trees have the same weight of each of dropped trees). The other option is *forest* (new trees have the same weight of sum of dropped trees)."
   ]
  },
  {
   "cell_type": "markdown",
   "id": "903a2225-7ea1-4565-bc78-70579de8d845",
   "metadata": {},
   "source": [
    "*Others*\n",
    "- `monotone_constraints`: whether to use monotonic constraints, defaults to *None*. Specify by a dictionary or a list using feature names or positions, along with type of monotonic (*0* for no constraint, *-1* for decreasing and *1* for increasing).\n",
    "- `interaction_constraints`: whether to use feature interaction constraints, defaults to *None*. Specify by a list of feature groups where features in each group have interation with the others.\n",
    "- `scale_pos_weight`: the weight attached to positive sample, defaults to *1*. Typical value is *nNegative/nPositive*, which is used to handle imbalanced classification data."
   ]
  },
  {
   "cell_type": "markdown",
   "id": "e4be85a9-3106-4849-bc17-d681e8934708",
   "metadata": {},
   "source": [
    "### 1.3. Implementation\n",
    "XGBoost supports a lot of customizations and useful features:\n",
    "- It accepts a [built-in loss function](https://xgboost.readthedocs.io/en/stable/parameter.html#learning-task-parameters), or a [user-defined loss funnction](https://xgboost.readthedocs.io/en/stable/tutorials/custom_metric_obj.html#customized-objective-function) with the signature: `loss(yPred, dTrain) -> (grad, hess)`.\n",
    "- You can provide XGBoost validation sets and evaluation metrics, it will print out evaluation results at each stage. XGBoost allows you to control the logging frequency.\n",
    "- It accepts either [built-in metrics](https://xgboost.readthedocs.io/en/stable/parameter.html#learning-task-parameters) or [user-defined metrics](https://xgboost.readthedocs.io/en/stable/tutorials/custom_metric_obj.html#customized-metric-function) with the signature: `eval(yPred, dTrain) -> (evalName, evalResult)`.\n",
    "- It accepts validation set(s) and their corresponding names.\n",
    "- You can create a [callback] that activates [early stopping](https://xgboost.readthedocs.io/en/stable/python/callbacks.html) if one of the metrics doesn't improve after a number of rounds. At least one validation set must be provided to active early stopping.\n",
    "- It can continue training if provided an existing model.\n",
    "- XGBoost supports 2 feature importances calculating strategies: *gain*, *weight* and *cover*.\n",
    "- XGBoost has an unique data type, [DMatrix].\n",
    "\n",
    "[callback]: https://en.wikipedia.org/wiki/Callback_(computer_programming)\n",
    "[DMatrix]: https://xgboost.readthedocs.io/en/stable/python/python_intro.html#data-interface"
   ]
  },
  {
   "cell_type": "code",
   "execution_count": 5,
   "id": "f28603e0-d9d7-4fcf-ae1e-731d8026308e",
   "metadata": {
    "execution": {
     "iopub.execute_input": "2023-01-25T03:53:16.294543Z",
     "iopub.status.busy": "2023-01-25T03:53:16.294187Z",
     "iopub.status.idle": "2023-01-25T03:53:16.307848Z",
     "shell.execute_reply": "2023-01-25T03:53:16.307011Z",
     "shell.execute_reply.started": "2023-01-25T03:53:16.294516Z"
    },
    "tags": [
     "remove-cell"
    ]
   },
   "outputs": [],
   "source": [
    "import datetime as dt\n",
    "import numpy as np\n",
    "import pandas as pd\n",
    "np.set_printoptions(precision=4, suppress=True)\n",
    "\n",
    "import matplotlib.pyplot as plt\n",
    "import seaborn as sns\n",
    "plt.style.use(['seaborn', 'seaborn-whitegrid'])\n",
    "%config InlineBackend.figure_format = 'retina'\n",
    "\n",
    "from sklearn.model_selection import train_test_split, GridSearchCV\n",
    "from sklearn.metrics import roc_auc_score as AUC, fbeta_score as FScore\n",
    "import xgboost as xgb"
   ]
  },
  {
   "cell_type": "code",
   "execution_count": 6,
   "id": "a4c623bb-7497-4572-a8e0-950abfa78840",
   "metadata": {
    "execution": {
     "iopub.execute_input": "2023-01-25T03:53:20.401304Z",
     "iopub.status.busy": "2023-01-25T03:53:20.400771Z",
     "iopub.status.idle": "2023-01-25T03:53:20.422419Z",
     "shell.execute_reply": "2023-01-25T03:53:20.421372Z",
     "shell.execute_reply.started": "2023-01-25T03:53:20.401263Z"
    },
    "tags": []
   },
   "outputs": [],
   "source": [
    "dfCancer = pd.read_csv('../data/breast_cancer.csv')\n",
    "x = dfCancer.drop(columns='target')\n",
    "y = dfCancer.target\n",
    "xTrain, xTest, yTrain, yTest = train_test_split(x, y, test_size=1/5, random_state=1)\n",
    "xTrain, xValid, yTrain, yValid = train_test_split(xTrain, yTrain, test_size=1/4, random_state=1)"
   ]
  },
  {
   "cell_type": "markdown",
   "id": "658b4491-74ad-4dc4-8250-d33e24d480a6",
   "metadata": {
    "tags": []
   },
   "source": [
    "#### Scikit-learn interface\n",
    "The algorithm initialization syntax using [`XGBClassifier`] and [`XGBRegressor`] classes is the same as in Scikit-learn. Most of XGBoost's useful features are accessed using the [`fit()`](https://xgboost.readthedocs.io/en/stable/python/python_api.html#xgboost.XGBClassifier.fit) method.\n",
    "\n",
    "[`XGBClassifier`]: https://xgboost.readthedocs.io/en/stable/python/python_api.html#xgboost.XGBClassifier\n",
    "[`XGBRegressor`]: https://xgboost.readthedocs.io/en/stable/python/python_api.html#xgboost.XGBRegressor"
   ]
  },
  {
   "cell_type": "code",
   "execution_count": 6,
   "id": "edea83d4-9283-483d-a1be-fa67cb26cb5f",
   "metadata": {
    "execution": {
     "iopub.execute_input": "2022-06-05T14:57:08.660136Z",
     "iopub.status.busy": "2022-06-05T14:57:08.659573Z",
     "iopub.status.idle": "2022-06-05T14:57:08.862181Z",
     "shell.execute_reply": "2022-06-05T14:57:08.860933Z",
     "shell.execute_reply.started": "2022-06-05T14:57:08.660090Z"
    },
    "tags": [
     "hide-output"
    ]
   },
   "outputs": [
    {
     "name": "stdout",
     "output_type": "stream",
     "text": [
      "[0]\tvalidation_0-logloss:0.65236\tvalidation_0-auc:0.97855\n",
      "[0]\tvalidation_0-logloss:0.65236\tvalidation_0-auc:0.97855\n",
      "[1]\tvalidation_0-logloss:0.45596\tvalidation_0-auc:0.98125\n",
      "[2]\tvalidation_0-logloss:0.33452\tvalidation_0-auc:0.99409\n",
      "[3]\tvalidation_0-logloss:0.25562\tvalidation_0-auc:0.99544\n",
      "[4]\tvalidation_0-logloss:0.20158\tvalidation_0-auc:0.99527\n",
      "[5]\tvalidation_0-logloss:0.16317\tvalidation_0-auc:0.99595\n",
      "[6]\tvalidation_0-logloss:0.13233\tvalidation_0-auc:0.99662\n",
      "[7]\tvalidation_0-logloss:0.10910\tvalidation_0-auc:0.99662\n",
      "[8]\tvalidation_0-logloss:0.09481\tvalidation_0-auc:0.99764\n",
      "[9]\tvalidation_0-logloss:0.08584\tvalidation_0-auc:0.99797\n",
      "[10]\tvalidation_0-logloss:0.07739\tvalidation_0-auc:0.99764\n",
      "[10]\tvalidation_0-logloss:0.07739\tvalidation_0-auc:0.99764\n",
      "[11]\tvalidation_0-logloss:0.07212\tvalidation_0-auc:0.99764\n",
      "[12]\tvalidation_0-logloss:0.06883\tvalidation_0-auc:0.99764\n",
      "[13]\tvalidation_0-logloss:0.06582\tvalidation_0-auc:0.99831\n",
      "[14]\tvalidation_0-logloss:0.06230\tvalidation_0-auc:0.99831\n",
      "[15]\tvalidation_0-logloss:0.06294\tvalidation_0-auc:0.99797\n",
      "[16]\tvalidation_0-logloss:0.05914\tvalidation_0-auc:0.99831\n",
      "[17]\tvalidation_0-logloss:0.05492\tvalidation_0-auc:0.99865\n",
      "[18]\tvalidation_0-logloss:0.05488\tvalidation_0-auc:0.99865\n",
      "[19]\tvalidation_0-logloss:0.05245\tvalidation_0-auc:0.99932\n",
      "[20]\tvalidation_0-logloss:0.05197\tvalidation_0-auc:0.99865\n",
      "[20]\tvalidation_0-logloss:0.05197\tvalidation_0-auc:0.99865\n",
      "[21]\tvalidation_0-logloss:0.04920\tvalidation_0-auc:0.99899\n",
      "[22]\tvalidation_0-logloss:0.04885\tvalidation_0-auc:0.99899\n",
      "[23]\tvalidation_0-logloss:0.05037\tvalidation_0-auc:0.99899\n",
      "[24]\tvalidation_0-logloss:0.04817\tvalidation_0-auc:0.99899\n",
      "[25]\tvalidation_0-logloss:0.04925\tvalidation_0-auc:0.99899\n",
      "[26]\tvalidation_0-logloss:0.04881\tvalidation_0-auc:0.99899\n",
      "[27]\tvalidation_0-logloss:0.04581\tvalidation_0-auc:0.99899\n",
      "[28]\tvalidation_0-logloss:0.04429\tvalidation_0-auc:0.99899\n",
      "[29]\tvalidation_0-logloss:0.04409\tvalidation_0-auc:0.99899\n",
      "[29]\tvalidation_0-logloss:0.04409\tvalidation_0-auc:0.99899\n",
      "0:00:00.194506\n"
     ]
    }
   ],
   "source": [
    "nIter = 200\n",
    "callbacks = [\n",
    "    xgb.callback.EarlyStopping(nIter*0.05),\n",
    "    xgb.callback.EvaluationMonitor(period=10),\n",
    "    xgb.callback.LearningRateScheduler(lambda i: 0.3+0.01*i),\n",
    "    xgb.callback.TrainingCheckPoint(directory='../output/xgboost', name='checkpoint', iterations=10),\n",
    "]\n",
    "\n",
    "start = dt.datetime.now()\n",
    "\n",
    "# create a model with 200 iterations\n",
    "algo = xgb.XGBClassifier(\n",
    "    # hyperparameters\n",
    "    num_leaves=2**5,\n",
    "    learning_rate=0.05,\n",
    "    n_estimators=nIter,\n",
    "    \n",
    "    # configurations\n",
    "    verbosity=0, silent=1,\n",
    "    importance_type='gain',\n",
    "    callbacks=callbacks,\n",
    "    eval_metric=['logloss', 'auc'],\n",
    ")\n",
    "\n",
    "# train the model with early stopping of 10% of number of trees\n",
    "model = algo.fit(\n",
    "    xTrain, yTrain,\n",
    "    # eval_set=[(xValid, yValid)],\n",
    ")\n",
    "\n",
    "print(dt.datetime.now() - start)"
   ]
  },
  {
   "cell_type": "code",
   "execution_count": 4,
   "id": "1835eb23-9a19-461a-9505-7b4599409135",
   "metadata": {
    "execution": {
     "iopub.execute_input": "2022-06-04T12:53:17.055305Z",
     "iopub.status.busy": "2022-06-04T12:53:17.054796Z",
     "iopub.status.idle": "2022-06-04T12:53:17.066278Z",
     "shell.execute_reply": "2022-06-04T12:53:17.065210Z",
     "shell.execute_reply.started": "2022-06-04T12:53:17.055271Z"
    },
    "tags": []
   },
   "outputs": [
    {
     "name": "stdout",
     "output_type": "stream",
     "text": [
      "AUC = 0.9807 [XGBClassifier]\n"
     ]
    }
   ],
   "source": [
    "yTestPred = model.predict_proba(xTest)[: ,1]\n",
    "auc = AUC(yTest, yTestPred)\n",
    "print(f'AUC = {auc:.4f} [{model.__class__.__name__}]')"
   ]
  },
  {
   "cell_type": "code",
   "execution_count": 5,
   "id": "63c5857c-f240-40e5-8dc1-9669592dc2ee",
   "metadata": {
    "execution": {
     "iopub.execute_input": "2022-06-04T12:53:19.343040Z",
     "iopub.status.busy": "2022-06-04T12:53:19.342677Z",
     "iopub.status.idle": "2022-06-04T12:53:19.350296Z",
     "shell.execute_reply": "2022-06-04T12:53:19.349412Z",
     "shell.execute_reply.started": "2022-06-04T12:53:19.343014Z"
    },
    "tags": []
   },
   "outputs": [
    {
     "data": {
      "text/plain": [
       "array([0.0026, 0.0205, 0.    , 0.    , 0.0046, 0.    , 0.0014, 0.0502,\n",
       "       0.0044, 0.0006, 0.0033, 0.0025, 0.    , 0.0062, 0.0002, 0.0297,\n",
       "       0.001 , 0.004 , 0.007 , 0.    , 0.1173, 0.0454, 0.5737, 0.0291,\n",
       "       0.0165, 0.0177, 0.0157, 0.038 , 0.0031, 0.0054], dtype=float32)"
      ]
     },
     "execution_count": 5,
     "metadata": {},
     "output_type": "execute_result"
    }
   ],
   "source": [
    "model.feature_importances_"
   ]
  },
  {
   "cell_type": "code",
   "execution_count": 6,
   "id": "68ace4c7-0a11-4de1-be15-b35a66891361",
   "metadata": {
    "execution": {
     "iopub.execute_input": "2022-06-04T12:53:27.368282Z",
     "iopub.status.busy": "2022-06-04T12:53:27.367858Z",
     "iopub.status.idle": "2022-06-04T12:53:27.380188Z",
     "shell.execute_reply": "2022-06-04T12:53:27.379360Z",
     "shell.execute_reply.started": "2022-06-04T12:53:27.368252Z"
    },
    "tags": []
   },
   "outputs": [
    {
     "name": "stderr",
     "output_type": "stream",
     "text": [
      "/opt/anaconda3/lib/python3.8/site-packages/xgboost/sklearn.py:722: UserWarning: callbacks is not saved in Scikit-Learn meta.\n",
      "  warnings.warn(str(k) + ' is not saved in Scikit-Learn meta.', UserWarning)\n"
     ]
    }
   ],
   "source": [
    "path = '../output/xgboost/model.json'\n",
    "model.save_model(path)\n",
    "\n",
    "modelLoaded = xgb.Booster()\n",
    "modelLoaded.load_model(path)"
   ]
  },
  {
   "cell_type": "code",
   "execution_count": 9,
   "id": "a4ae9cd8-6725-4734-8f03-6966428a300a",
   "metadata": {
    "render": {
     "image": {
      "align": "center",
      "scale": "50%"
     }
    },
    "tags": []
   },
   "outputs": [
    {
     "data": {
      "image/png": "[encoded data removed]",
      "text/plain": [
       "<Figure size 360x180 with 1 Axes>"
      ]
     },
     "metadata": {
      "image/png": {
       "height": 180,
       "width": 420
      }
     },
     "output_type": "display_data"
    }
   ],
   "source": [
    "nTop = 10\n",
    "\n",
    "df = pd.DataFrame({'name': model.feature_names_in_, 'importance': model.feature_importances_})\n",
    "df = df.sort_values('importance')\n",
    "df = df.query(\"importance > 0\")\n",
    "df = df.tail(nTop)\n",
    "\n",
    "fig, ax = plt.subplots(figsize=(5,2.5))\n",
    "sns.barplot(data=df, x='importance', y='name', color='teal')\n",
    "plt.show()"
   ]
  },
  {
   "cell_type": "code",
   "execution_count": 31,
   "id": "7749343c-e60e-4a69-a90b-2e58eb77a54d",
   "metadata": {
    "render": {
     "image": {
      "align": "center",
      "scale": "10%"
     }
    },
    "tags": [
     "hide-output"
    ]
   },
   "outputs": [
    {
     "data": {
      "image/png": "[encoded data removed]",
      "text/plain": [
       "<Figure size 6000x3000 with 1 Axes>"
      ]
     },
     "metadata": {
      "image/png": {
       "height": 1202,
       "width": 4690
      }
     },
     "output_type": "display_data"
    }
   ],
   "source": [
    "fig, ax = plt.subplots(figsize=(30,15), dpi=200)\n",
    "xgb.plot_tree(model, ax=ax)\n",
    "plt.show()"
   ]
  },
  {
   "cell_type": "markdown",
   "id": "6d20eb1c-de24-4e5e-8e03-2952875dcc50",
   "metadata": {},
   "source": [
    "#### XGBoost interface"
   ]
  },
  {
   "cell_type": "code",
   "execution_count": 17,
   "id": "6a0d9bd8-a40e-476d-abad-e33328084096",
   "metadata": {
    "execution": {
     "iopub.execute_input": "2022-06-05T03:19:01.958206Z",
     "iopub.status.busy": "2022-06-05T03:19:01.957712Z",
     "iopub.status.idle": "2022-06-05T03:19:01.976485Z",
     "shell.execute_reply": "2022-06-05T03:19:01.975605Z",
     "shell.execute_reply.started": "2022-06-05T03:19:01.958170Z"
    },
    "tags": []
   },
   "outputs": [],
   "source": [
    "dfCancer = pd.read_csv('../data/breast_cancer.csv')\n",
    "x = dfCancer.drop(columns='target')\n",
    "y = dfCancer.target\n",
    "xTrain, xTest, yTrain, yTest = train_test_split(x, y, test_size=1/5, random_state=1)\n",
    "xTrain, xValid, yTrain, yValid = train_test_split(xTrain, yTrain, test_size=1/4, random_state=1)"
   ]
  },
  {
   "cell_type": "code",
   "execution_count": 18,
   "id": "a0057d78-082f-4a56-952a-4924aa28fe5f",
   "metadata": {
    "execution": {
     "iopub.execute_input": "2022-06-05T03:19:02.825522Z",
     "iopub.status.busy": "2022-06-05T03:19:02.825119Z",
     "iopub.status.idle": "2022-06-05T03:19:02.841468Z",
     "shell.execute_reply": "2022-06-05T03:19:02.840485Z",
     "shell.execute_reply.started": "2022-06-05T03:19:02.825494Z"
    },
    "tags": []
   },
   "outputs": [],
   "source": [
    "dTrain = xgb.DMatrix(xTrain, yTrain)\n",
    "dValid = xgb.DMatrix(xValid, yValid)\n",
    "dTest = xgb.DMatrix(xTest, yTest)"
   ]
  },
  {
   "cell_type": "code",
   "execution_count": 19,
   "id": "ac512073-3949-4ff0-a2a0-ec2eb683179e",
   "metadata": {
    "execution": {
     "iopub.execute_input": "2022-06-05T03:19:03.797171Z",
     "iopub.status.busy": "2022-06-05T03:19:03.796765Z",
     "iopub.status.idle": "2022-06-05T03:19:03.862801Z",
     "shell.execute_reply": "2022-06-05T03:19:03.861818Z",
     "shell.execute_reply.started": "2022-06-05T03:19:03.797143Z"
    },
    "tags": []
   },
   "outputs": [
    {
     "name": "stdout",
     "output_type": "stream",
     "text": [
      "[0]\tvalid-logloss:0.47962\ttrain-logloss:0.46577\n",
      "[0]\tvalid-logloss:0.47962\ttrain-logloss:0.46577\n",
      "[1]\tvalid-logloss:0.35229\ttrain-logloss:0.33031\n",
      "[2]\tvalid-logloss:0.26789\ttrain-logloss:0.24432\n",
      "[3]\tvalid-logloss:0.21079\ttrain-logloss:0.18088\n",
      "[4]\tvalid-logloss:0.16759\ttrain-logloss:0.13642\n",
      "[5]\tvalid-logloss:0.13431\ttrain-logloss:0.10408\n",
      "[5]\tvalid-logloss:0.13431\ttrain-logloss:0.10408\n",
      "[6]\tvalid-logloss:0.11025\ttrain-logloss:0.08186\n",
      "[7]\tvalid-logloss:0.09418\ttrain-logloss:0.06435\n",
      "[8]\tvalid-logloss:0.08337\ttrain-logloss:0.05263\n",
      "[9]\tvalid-logloss:0.07342\ttrain-logloss:0.04346\n",
      "[9]\tvalid-logloss:0.07342\ttrain-logloss:0.04346\n"
     ]
    }
   ],
   "source": [
    "nIter = 10\n",
    "\n",
    "params = {\n",
    "    'objective': 'binary:logistic',\n",
    "    'learning_rate': 0.3,\n",
    "    'max_leaves': 2**5,\n",
    "}\n",
    "\n",
    "callbacks = [\n",
    "    xgb.callback.EarlyStopping(nIter*0.1),\n",
    "    xgb.callback.EvaluationMonitor(period=5),\n",
    "    xgb.callback.LearningRateScheduler(lambda i: 0.3+0.01*i),\n",
    "    xgb.callback.TrainingCheckPoint(directory='../output/xgboost', name='checkpoint', iterations=10),\n",
    "]\n",
    "\n",
    "model = xgb.train(\n",
    "    params, dTrain,\n",
    "    evals=[(dValid, 'valid'), (dTrain, 'train')],\n",
    "    num_boost_round=nIter,\n",
    "    callbacks=callbacks,\n",
    ")"
   ]
  },
  {
   "cell_type": "code",
   "execution_count": 20,
   "id": "e797fad0-5d3c-4c65-a040-382182800b3f",
   "metadata": {
    "execution": {
     "iopub.execute_input": "2022-06-05T03:19:04.805135Z",
     "iopub.status.busy": "2022-06-05T03:19:04.804741Z",
     "iopub.status.idle": "2022-06-05T03:19:04.813193Z",
     "shell.execute_reply": "2022-06-05T03:19:04.812032Z",
     "shell.execute_reply.started": "2022-06-05T03:19:04.805107Z"
    },
    "tags": []
   },
   "outputs": [
    {
     "name": "stdout",
     "output_type": "stream",
     "text": [
      "AUC = 0.9659 [Booster]\n"
     ]
    }
   ],
   "source": [
    "yTestPred = model.predict(dTest) # predict probability\n",
    "auc = AUC(yTest, yTestPred)\n",
    "print(f'AUC = {auc:.4f} [{model.__class__.__name__}]')"
   ]
  },
  {
   "cell_type": "markdown",
   "id": "3718af46-4a88-40fe-8c51-283c8b9805c3",
   "metadata": {},
   "source": [
    "#### Multilabel problem"
   ]
  },
  {
   "cell_type": "code",
   "execution_count": 6,
   "id": "2ffb4c5a-886a-42d9-935c-9c53acb52590",
   "metadata": {
    "execution": {
     "iopub.execute_input": "2023-01-17T18:24:15.244299Z",
     "iopub.status.busy": "2023-01-17T18:24:15.243939Z",
     "iopub.status.idle": "2023-01-17T18:24:15.273382Z",
     "shell.execute_reply": "2023-01-17T18:24:15.271989Z",
     "shell.execute_reply.started": "2023-01-17T18:24:15.244274Z"
    },
    "tags": []
   },
   "outputs": [
    {
     "name": "stdout",
     "output_type": "stream",
     "text": [
      "(391, 72) (391, 6)\n"
     ]
    }
   ],
   "source": [
    "dfEmotionTrain = pd.read_csv('../data/emotions_train.csv')\n",
    "dfEmotionTest = pd.read_csv('../data/emotions_test.csv')\n",
    "\n",
    "xTrain = dfEmotionTrain.iloc[:, :-6]\n",
    "yTrain = dfEmotionTrain.iloc[:, -6:]\n",
    "xTest = dfEmotionTest.iloc[:, :-6]\n",
    "yTest = dfEmotionTest.iloc[:, -6:]\n",
    "\n",
    "print(xTrain.shape, yTrain.shape)"
   ]
  },
  {
   "cell_type": "code",
   "execution_count": 38,
   "id": "74e574ee-f69d-4e99-9623-128cbfcac524",
   "metadata": {
    "execution": {
     "iopub.execute_input": "2022-06-05T11:41:13.055907Z",
     "iopub.status.busy": "2022-06-05T11:41:13.055534Z",
     "iopub.status.idle": "2022-06-05T11:41:17.499501Z",
     "shell.execute_reply": "2022-06-05T11:41:17.498373Z",
     "shell.execute_reply.started": "2022-06-05T11:41:13.055881Z"
    },
    "tags": []
   },
   "outputs": [
    {
     "name": "stdout",
     "output_type": "stream",
     "text": [
      "0:00:04.438000\n"
     ]
    }
   ],
   "source": [
    "start = dt.datetime.now()\n",
    "\n",
    "params = {\n",
    "    'criterion': ['gini', 'entropy'],\n",
    "    'max_depth': range(2,6),\n",
    "    'random_state': [2],\n",
    "}\n",
    "\n",
    "algo = xgb.XGBClassifier(\n",
    "    # hyperparameters\n",
    "    num_leaves=2**5,\n",
    "    learning_rate=0.05,\n",
    "    n_estimators=nIter,\n",
    "    \n",
    "    # configurations\n",
    "    verbosity=0, silent=1,\n",
    "    importance_type='gain',\n",
    "    # callbacks=callbacks,\n",
    "    eval_metric=['logloss', 'auc'],\n",
    ")\n",
    "model = algo.fit(\n",
    "    xTrain, yTrain, \n",
    ")\n",
    "\n",
    "print(dt.datetime.now() - start)"
   ]
  },
  {
   "cell_type": "code",
   "execution_count": 39,
   "id": "75303f56-e041-4e12-9dcc-ec32a41c926b",
   "metadata": {
    "execution": {
     "iopub.execute_input": "2022-06-05T11:41:17.501737Z",
     "iopub.status.busy": "2022-06-05T11:41:17.501311Z",
     "iopub.status.idle": "2022-06-05T11:41:17.521428Z",
     "shell.execute_reply": "2022-06-05T11:41:17.520379Z",
     "shell.execute_reply.started": "2022-06-05T11:41:17.501702Z"
    },
    "tags": []
   },
   "outputs": [
    {
     "name": "stdout",
     "output_type": "stream",
     "text": [
      "AUC = [0.8481, 0.6956, 0.815, 0.9551, 0.8248, 0.8852] [XGBClassifier]\n"
     ]
    }
   ],
   "source": [
    "yTestProb = model.predict_proba(xTest)\n",
    "listAuc = AUC(yTest, yTestProb, average=None)\n",
    "listAuc = listAuc.round(4).tolist()\n",
    "\n",
    "print(f'AUC = {listAuc} [{model.__class__.__name__}]')"
   ]
  },
  {
   "cell_type": "markdown",
   "id": "4c49cc83-e3de-4928-9be8-f0f71d191ca6",
   "metadata": {},
   "source": [
    "### 1.4. Auto XGBoost"
   ]
  },
  {
   "cell_type": "code",
   "execution_count": 4,
   "id": "8174d419-8daa-442b-acf6-ec7657a440d4",
   "metadata": {
    "execution": {
     "iopub.execute_input": "2022-06-07T17:01:56.900926Z",
     "iopub.status.busy": "2022-06-07T17:01:56.900402Z",
     "iopub.status.idle": "2022-06-07T17:01:56.919048Z",
     "shell.execute_reply": "2022-06-07T17:01:56.918110Z",
     "shell.execute_reply.started": "2022-06-07T17:01:56.900888Z"
    },
    "tags": [
     "remove-cell"
    ]
   },
   "outputs": [],
   "source": [
    "import datetime as dt\n",
    "import numpy as np\n",
    "import pandas as pd\n",
    "np.set_printoptions(precision=4, suppress=True)\n",
    "\n",
    "from sklearn.model_selection import train_test_split, GridSearchCV\n",
    "from sklearn.metrics import roc_auc_score as AUC, fbeta_score as FScore\n",
    "import xgboost as xgb\n",
    "from flaml import AutoML"
   ]
  },
  {
   "cell_type": "code",
   "execution_count": 5,
   "id": "7cde6cb2-4488-4706-a87b-1ca2a11c85ed",
   "metadata": {
    "execution": {
     "iopub.execute_input": "2022-06-07T17:01:57.641143Z",
     "iopub.status.busy": "2022-06-07T17:01:57.640811Z",
     "iopub.status.idle": "2022-06-07T17:01:57.659130Z",
     "shell.execute_reply": "2022-06-07T17:01:57.658455Z",
     "shell.execute_reply.started": "2022-06-07T17:01:57.641119Z"
    },
    "tags": []
   },
   "outputs": [],
   "source": [
    "dfCancer = pd.read_csv('../data/breast_cancer.csv')\n",
    "x = dfCancer.drop(columns='target')\n",
    "y = dfCancer.target\n",
    "xTrain, xTest, yTrain, yTest = train_test_split(x, y, test_size=1/5, random_state=1)\n",
    "xTrain, xValid, yTrain, yValid = train_test_split(xTrain, yTrain, test_size=1/4, random_state=1)"
   ]
  },
  {
   "cell_type": "code",
   "execution_count": 20,
   "id": "8c72491d-6494-4c6c-b96e-a7b004584abc",
   "metadata": {
    "execution": {
     "iopub.execute_input": "2022-06-07T17:17:29.034415Z",
     "iopub.status.busy": "2022-06-07T17:17:29.033881Z",
     "iopub.status.idle": "2022-06-07T17:17:59.759177Z",
     "shell.execute_reply": "2022-06-07T17:17:59.758245Z",
     "shell.execute_reply.started": "2022-06-07T17:17:29.034371Z"
    },
    "tags": []
   },
   "outputs": [
    {
     "name": "stdout",
     "output_type": "stream",
     "text": [
      "0:00:30.719410\n"
     ]
    }
   ],
   "source": [
    "start = dt.datetime.now()\n",
    "\n",
    "model = AutoML(\n",
    "    task='classification',\n",
    "    metric='roc_auc',\n",
    "    max_iter=100,\n",
    "    time_budget=60,\n",
    "    estimator_list=['xgboost'],\n",
    "    eval_method='cv',\n",
    "    n_splits=5,\n",
    "    verbose=0,\n",
    ")\n",
    "\n",
    "model.fit(xTrain, yTrain)\n",
    "\n",
    "print(dt.datetime.now() - start)"
   ]
  },
  {
   "cell_type": "code",
   "execution_count": 22,
   "id": "28ae9694-c9fa-45fb-b083-5b21bd235b39",
   "metadata": {
    "execution": {
     "iopub.execute_input": "2022-06-07T17:18:05.124382Z",
     "iopub.status.busy": "2022-06-07T17:18:05.123749Z",
     "iopub.status.idle": "2022-06-07T17:18:05.143694Z",
     "shell.execute_reply": "2022-06-07T17:18:05.142115Z",
     "shell.execute_reply.started": "2022-06-07T17:18:05.124336Z"
    },
    "tags": []
   },
   "outputs": [
    {
     "name": "stdout",
     "output_type": "stream",
     "text": [
      "AUC = 0.9750 [AutoML]\n"
     ]
    }
   ],
   "source": [
    "yTestPred = model.predict_proba(xTest)[: ,1]\n",
    "auc = AUC(yTest, yTestPred)\n",
    "print(f'AUC = {auc:.4f} [{model.__class__.__name__}]')"
   ]
  },
  {
   "cell_type": "markdown",
   "id": "c1e0d9af-219f-4418-971b-99b3f742bf84",
   "metadata": {},
   "source": [
    "## 2. LightGBM\n",
    "[LightGBM] (Light Gradient Boosting Machines) is an implementation of Gradient Boosting developed by Microsoft in 2016, in attempt to deal with large datasets. According to [LightGBM paper], the main cost in GBDT lies in learning the decision trees, and the most time-consuming part in learning a decision tree is to find the best split points. XGBoost has developed histogram-based split finding that reduces the complexity of the algorithm from $O(\\#instance \\times \\#feature)$ to $O(\\#bin \\times \\#feature)$ where $\\#bin\\ll \\#instance$, which outperforms other implementations in terms of memory consumption.\n",
    "\n",
    "However, XGBoost still does not meet the satisfactory of scalability when working on large datasets. To improve the performance of previous implementations, LightGBM introduces two novels techniques, GOSS (Gradient-based One-Side Sampling) for reducing data instances and EFB (Exclusive Feature Bundling) for reducing data dimensions.\n",
    "\n",
    "[LightGBM]: https://github.com/microsoft/LightGBM\n",
    "[LightGBM paper]: https://proceedings.neurips.cc/paper/2017/file/6449f44a102fde848669bdd9eb6b76fa-Paper.pdf"
   ]
  },
  {
   "cell_type": "markdown",
   "id": "ecdfac85-0bf9-4058-9d6f-c0e6131f066a",
   "metadata": {
    "tags": []
   },
   "source": [
    "### 2.1. Algorithm"
   ]
  },
  {
   "cell_type": "markdown",
   "id": "2e8ac7d2-ef95-41f8-a80d-07b3ceddf85d",
   "metadata": {},
   "source": [
    "#### One-side sampling\n",
    "As the purpose of GOSS is to smartly sample data, it requires sample weights to achieve this. Althought Gradient Boosting does not have any native weight as in Adaptive Boosting, we can use residuals (generally gradients) as pseudo-weights. The GOSS algorithm is implemented right before the training of each weak learner and is described as follows.\n",
    "\n",
    "*Input:*\n",
    "- A dataset of $N$ observations and their corresponding gradients computed from the most recent predictor\n",
    "- $a$ - the sampling ratio of large gradient data and $b$ - the sampling ratio of small gradient data ($a+b$ should not be greater than $1$)\n",
    "\n",
    "*Step 1:* Sort (in descending order) the observations by the absolute values of their gradients and select top $\\lfloor aN \\rfloor$ observations. This under-trained set is what the training of the next tree should focus on.\n",
    "\n",
    "*Step 2:* Perform random sampling $\\lfloor bN \\rfloor$ observations from the rest of the data. In order to compensate the information losses that affect data distribution, each instance in this well-trained set is amplified by a constant $\\dfrac{1-a}{b}>1$ when calculating information gain in the next tree. \"One-side sampling\" in fact means that sampling is done on the small gradient side.\n",
    "\n",
    "*Step 3:* Combine the under-trained set and the well-trained set above to form a single set to be used in learning the Decision Tree. By using this technique, *we put more focus on the under-trained instances without changing the original data distribution by much*."
   ]
  },
  {
   "cell_type": "markdown",
   "id": "a4c8a9c7-ad7f-41a1-bfe3-a881666d631d",
   "metadata": {},
   "source": [
    "#### Exclusive feature bundling\n",
    "One of the biggest problems that occur in high dimensional data is the sparsity. Sparse features spend A specific case is when some features *never* or *rarely* take non-zero values *simultaneously*; such features are called *mutually exclusive*. A typical situation is that features returned by an one-hot encoder are perfectly mutually exclusive. This situation is rarely met in real-world datasets, thus the EFB algorithm allows a small fraction of conflicts. To achieve this, two questions need to be answered: (1) *Which features should be bundled together?* and (2) *How to construct the bundles?*.\n",
    "\n",
    "*Step 1:* Greedy bundling.\n",
    "\n",
    "- Construct a graph whose weights correspond the total conflicts between features, then order the features by their degrees in the graph in the descending order. By using this ordered list, we are priortizing features with high probability of having conflicts. Another ordering strategy which further improves the efficiency is sorting by the number of non-zero values.\n",
    "\n",
    "- Check each feature in the ordered list, either assign it to an existing bundle if the conflict rate is smaller than a preconfigured constant, or create a new bundle.\n",
    "   \n",
    "*Step 2:* Merging exclusive features. The key is to ensure features' values do not overlap and can be identified after bundling. This can be achieve by adding an offset to the original values of each feature so that features reside in different bins. Assume a bundle has 3 features $\\mathbf{x}_1$, $\\mathbf{x}_2$ and $\\mathbf{x}_3$; their values ranges are $[0,20)$, $[10,15)$ and $[0,5)$. We add to these features consecutively offset values of $0$, $20$ and $35$, resulting in new feature ranges of $[0,20)$, $[30,35)$ and $[35,40)$. Now it's safe to merge all the three features into a single bundle with range $[0,40)$.\n",
    "\n",
    "The EFB algorithm is processed only once before training, however, because of having the complexity of $O(\\#feature^2)$, it may still suffer if there are millions of features."
   ]
  },
  {
   "cell_type": "markdown",
   "id": "1d0a157d-0688-4ac9-992e-8b5044948b06",
   "metadata": {},
   "source": [
    "#### Key features\n",
    "- [Optimization in speed and memory usage](https://lightgbm.readthedocs.io/en/latest/Features.html#optimization-in-speed-and-memory-usage). As in XGBoost, LightGBM also uses histogram-based split finding and histogram substraction to reduce calculation cost.\n",
    "- [Optimization in accuracy](https://lightgbm.readthedocs.io/en/latest/Features.html#optimization-in-accuracy). LightGBM grows trees leaf-wise instead of level-wise as in most Decision Tree learning algorithms. This strategy chooses the leaf with highest delta loss to grow. For the same amount of leaves, leaf-wise approach tends to achieve a lower bias. This may sometimes cause overfitting, but this issue can be address by decreasing the max depth or number of leaves of tress.\n",
    "- [Categorical features support](https://lightgbm.readthedocs.io/en/latest/Advanced-Topics.html#categorical-feature-support). LightGBM has a built-in mechanism to work with categorical features.\n",
    "- [Optimization in distributed learning](https://lightgbm.readthedocs.io/en/latest/Features.html#optimization-in-distributed-learning). LightGBM supports three parallelization algorithms which fit in different scenarios.\n",
    "\n",
    "||Small data|Large data|\n",
    "|:--|:--|:--|\n",
    "|**Small dimensional**|Feature parallel|Data parallel|\n",
    "|**High dimensional**|Feaure parallel|Voting parallel|\n",
    "\n",
    "- [Continued training](https://lightgbm.readthedocs.io/en/latest/Parameters.html#continued-training-with-input-score). LightGBM can continue training with initial scores.\n",
    "- [GPU support](https://lightgbm.readthedocs.io/en/latest/GPU-Tutorial.html). LightGBM supports GPU training for accelaration.\n",
    "- [DART](https://xgboost.readthedocs.io/en/stable/tutorials/dart.html). LightGBM also supports the DART boosting technique as XGBoost does.\n",
    "- [Piece-Wise Linear Regression Trees](https://lightgbm.readthedocs.io/en/latest/Parameters.html#linear_tree).\n",
    "- [Monotone constraints](https://lightgbm.readthedocs.io/en/latest/Parameters.html#monotone_constraints_method).\n",
    "- [Cost efficient gradient boosting](https://lightgbm.readthedocs.io/en/latest/Advanced-Topics.html#cost-efficient-gradient-boosting)."
   ]
  },
  {
   "cell_type": "markdown",
   "id": "df5ec163-6527-4c82-a9ea-c5e191cd939f",
   "metadata": {
    "tags": []
   },
   "source": [
    "### 2.2. Hyperparameters\n",
    "The LightGBM algorithm has a huge number of [hyperparameters](https://lightgbm.readthedocs.io/en/latest/Parameters.html), devided into many types. Some of them have aliases, which makes LightGBM compatible with other libraries. LightGBM has a [tuning guideline](https://lightgbm.readthedocs.io/en/latest/Parameters-Tuning.html) page."
   ]
  },
  {
   "cell_type": "markdown",
   "id": "6ba30537-a829-4002-b1d0-c6d885bc7ce6",
   "metadata": {
    "jp-MarkdownHeadingCollapsed": true,
    "tags": []
   },
   "source": [
    "*Boosting parameters*. The configurations for boosting.\n",
    "- `boosting`: the ensemble method, defaults to *gdbt* (traditional GBM). Other options are *rf* (Random Forest), *goss* (Gradient-based One-Side Sampling) and *dart* (Dropouts meets Multiple Additive Regression Trees).\n",
    "- `n_estimators`: the number of boosting stages ($T$), defaults to *100*. Larger is usually better, but should go with a lower *learning_rate* and an *early_stopping_round* provided. Lower can speed up training.\n",
    "- `learning_rate`: the learning rate ($\\eta$), defaults to *0.1*. Same usage as in GBM.\n",
    "- `early_stopping_round`: the maximum number of iterations without improvements, defaults to *0* (disabled). Keeping a low enough value may make boosting stop earlier, thus reduces the overall training time. Usually be set around $10\\%$ of *n_estimators*.\n",
    "- `tree_learner`: the parallelization strategy, defaults to *serial* (single machine, no parallel). Other options are *feature*, *data* and *voting*."
   ]
  },
  {
   "cell_type": "markdown",
   "id": "897c674f-156b-4330-87e3-0f28e2dd99b1",
   "metadata": {
    "jp-MarkdownHeadingCollapsed": true,
    "tags": []
   },
   "source": [
    "*Bagging parameters*. LightGBM even includes more bagging parameters compared to Scikit-learn.\n",
    "- `bagging_fraction`: the ratio of data (instances) used in each tree, defaults to *1*. A lower value will increase the randomness between trees that deals with overfitting and may speed up training.\n",
    "- `bagging_freq`: the iteration frequency to perform bagging, defaults to *0* (disable bagging). A positive value will decrease the randomness between trees.\n",
    "- `pos_bagging_fraction` and `neg_bagging_fraction`: the ratio of positive/negative samples used in each tree, both default to *1*. This pair of parameters should be used together to handle imbalance binary classification problems.\n",
    "- `feature_fraction`: the ratio of features used in each tree, defaults to *1*. A lower value will increase the randomness between trees that deals with overfitting and may speed up training.\n",
    "- `feature_fraction_bynode`: same as *feature_fraction*, but the sampling is done on tree nodes instead of trees; also defaults to *1*. A lower value can reduce overfitting but cannot speed up training.\n",
    "- `extra_trees`: whether to use Extremely Randomized Trees or not, defaults to *False*. This parameter increases the randomness, thus can deal with overfitting."
   ]
  },
  {
   "cell_type": "markdown",
   "id": "09f47fcd-8ca8-4981-b535-56580cef48ef",
   "metadata": {
    "jp-MarkdownHeadingCollapsed": true,
    "tags": []
   },
   "source": [
    "*Tree learning parameters*. Most parameters in this group are for prunning trees in order to deal with overfitting. Due to the fact that pruned trees are shallower, the training is also faster.\n",
    "- `num_leaves`: the maximum number of leaves in each tree, defaults to *31*. Since LightGBM grows trees leaf-wise, this is the main hyperparameter to control the complexity of trees. Optimal values range from $50\\%$ to $100\\%$ of $2^{\\text{max_depth}}$.\n",
    "- `min_samples_leaf`: the minimum number of data a leaf must have, defaults to *20*. The next important parameter to prevent overfitting, its optimal value depends on training data size and *num_leaves*. Practical values for large datasets range from hundreds to thousands.\n",
    "- `max_depth`: the maximum depth of each tree, defaults to *-1* (no depth limitation). Another important parameter that controls overfitting; however, it is less effective on leaf-wise compared to level-wise implementations. A value from 3 to 13 works well for most datasets.\n",
    "- `min_sum_hessian_in_leaf`: the minimum sum of Hessian (the second derivative of the objective function for each observation) of each leaf, defaults to *0.001*. When the loss function is MSE, its second derivative is $1$; the sum of Hessian in this case equals to the number of data. For other loss function, this parameter has different meanings and also has different optimal values. Thus, unless you know what you are doing, this parameter should be left alone.\n",
    "- `min_gain_to_split`: the minimum information gain required to perform a split, defaults to *0*. In practice, very small improvements in the training loss have no meaningful impact on the generalization error of the model. A small value of this parameter is enough if used.\n",
    "- `reg_alpha` and `reg_lambda`: the $L_1$ and $L_2$ regularization terms, both default to *0*. Optimal values are $10^k$ where $k$ is around $0$.\n",
    "- `linear_tree`: whether to use Piece-Wise Linear Regression Trees, defaults to *False*.\n",
    "- `linear_lambda`: the coefficient for linear tree regularization, defaults to *0*."
   ]
  },
  {
   "cell_type": "markdown",
   "id": "022b5807-a02c-4adc-89dc-cbff817d9dee",
   "metadata": {
    "jp-MarkdownHeadingCollapsed": true,
    "tags": []
   },
   "source": [
    "*Categorical split finding parameters*.\n",
    "- `categorical_feature`: specify categorical features, defaults to *auto*.\n",
    "- `min_data_per_group`: the minimum number of data per categorical group, defaults to *100*.\n",
    "- `cat_smooth`: the coefficient for categorical smoothing, defaults to *10*. Can reduce the effect of noises in categorical features, especially for ones with few data.\n",
    "- `max_cat_threshold`: the maximum number of splits considered for categorical features, defaults to *32*. Higher means more split points and larger search space. Lower reduces training time.\n",
    "- `cat_l2`: L2 regularization in categorical split, defaults to *10*.\n",
    "- `max_cat_to_onehot`: maximum number of categories of a feature to use one-hot encoding, otherwise the Fisher's split finding will be used, defaults to *4*."
   ]
  },
  {
   "cell_type": "markdown",
   "id": "51501f69-678a-4240-a9aa-70afea8bd120",
   "metadata": {
    "jp-MarkdownHeadingCollapsed": true,
    "tags": []
   },
   "source": [
    "*Histogram building parameters*.\n",
    "- `max_bin` and `max_bin_by_feature`: the maximum number of bins when building histograms, defaults to *255*. The later parameter takes a list of intergers to specify the max number of bins for each feature. Smaller reduces training time but may hurt the accuracy.\n",
    "- `min_data_in_bin`: the minimum bin size, defaults to *3*. This parameter prevents bins from having a small number of data, as using their boundaries as splits isn’t likely to change the final model very much. Higher value reduces training time.\n",
    "- `bin_construct_sample_cnt`: the number of observations being sampled to determine bins, defaults to *200,000*. LightGBM only uses a part of data to find histogram boundaries, thus this parameter should not be set to a lower value. A higher value obviously improves prediction power but also leads to a longer data loading time."
   ]
  },
  {
   "cell_type": "markdown",
   "id": "c5cb1fef-9bf3-46fd-96de-2627764f0b09",
   "metadata": {
    "jp-MarkdownHeadingCollapsed": true,
    "tags": []
   },
   "source": [
    "*DART's parameters*\n",
    "- `drop_rate`: the fraction of previous trees to drop during the dropout, defaults to *0.1*.\n",
    "- `max_drop`: the max number of dropped trees during one boosting iteration, defaults to *50*.\n",
    "- `skip_drop`: the probability of skipping the dropout procedure during a boosting iteration, defaults to *0.5*.\n",
    "- `uniform_drop`: whether to use uniform drop or not, defaults to *False*.\n",
    "- `xgboost_dart_mode`: whether to enable XGBoost DART mode, which uses a bit different shrinkage rate, defaults to *False*."
   ]
  },
  {
   "cell_type": "markdown",
   "id": "f5e27cb9-e2be-440b-bd05-eb965690c8f7",
   "metadata": {
    "jp-MarkdownHeadingCollapsed": true,
    "tags": []
   },
   "source": [
    "*GOSS's parameters*\n",
    "- `top_rate`: the sampling ratio of large gradient data, defaults to *0.2*.\n",
    "- `other_rate`: the sampling ratio of small gradient data, defaults to *0.1*."
   ]
  },
  {
   "cell_type": "markdown",
   "id": "19e1eb27-3318-4c46-b0e8-95581d093083",
   "metadata": {
    "jp-MarkdownHeadingCollapsed": true,
    "tags": []
   },
   "source": [
    "*Preprocessing parameteres*\n",
    "- `enable_bundle`: whether to use the EFB algorithm or not, defaults to *True*.\n",
    "- `enable_sparse`: whether to use sparse optimization, defaults to *True*.\n",
    "- `use_missing`: whether to use special handle of missing values, defaults to *True*.\n",
    "- `feature_pre_filter`: whether to ignore unsplittable features based on *min_samples_leaf*, defaults to *True*. As *min_samples_leaf* was set, some features will perform a split results in a leaf not having enough minimum number of data. Such features will be filtered out once before training. Also remember to tune *min_samples_leaf* before this parameter."
   ]
  },
  {
   "cell_type": "markdown",
   "id": "60cbf4fc-449c-4e68-bc0b-14cffa625325",
   "metadata": {},
   "source": [
    "### 2.3. Implementation\n",
    "LightGBM supports a lot of customizations and useful features:\n",
    "- It accepts a [built-in loss function](https://lightgbm.readthedocs.io/en/latest/Parameters.html#objective), or a user-defined one with the signature: `loss(yTrue, yPred) -> (grad, hess)`.\n",
    "- You can provide LightGBM validation sets and evaluation metrics, it will print out evaluation results at each stage. LightGBM allows you to control the logging frequency or even surpress it.\n",
    "- It accepts either [built-in metrics](https://lightgbm.readthedocs.io/en/latest/Parameters.html#metric) or user-defined metrics with the signature: `eval(yTrue, yPred) -> (evalName, evalResult, isHigherBetter)`.\n",
    "- It accepts validation set(s) and their corresponding names.\n",
    "- You can create a callback that activates [early stopping](https://lightgbm.readthedocs.io/en/latest/pythonapi/lightgbm.early_stopping.html) if one of the metrics doesn't improve after a number of rounds. At least one validation set must be provided to active early stopping.\n",
    "- It can continue training if provided an existing model.\n",
    "- LightGBM supports 2 feature importances calculating strategies: *split* (default) - the number of times a feature is used and *gain* - the total of information gain associated with a feature.\n",
    "- You can specify a list of integer-encoded categorical features, since LightGBM has a special mechanism to work with them."
   ]
  },
  {
   "cell_type": "code",
   "execution_count": 3,
   "id": "27e8df30-8a39-4e73-8d34-f1ebcfd4d7a6",
   "metadata": {
    "tags": [
     "remove-cell"
    ]
   },
   "outputs": [],
   "source": [
    "import numpy as np\n",
    "import pandas as pd\n",
    "np.set_printoptions(precision=4, suppress=True)\n",
    "\n",
    "from sklearn.model_selection import train_test_split\n",
    "from sklearn.metrics import roc_auc_score\n",
    "\n",
    "import lightgbm as lgb"
   ]
  },
  {
   "cell_type": "code",
   "execution_count": 2,
   "id": "8358dff3-2060-46b8-abe5-7e5aaaabc1cc",
   "metadata": {
    "tags": []
   },
   "outputs": [],
   "source": [
    "dfCancer = pd.read_csv('../data/breast_cancer.csv')\n",
    "x = dfCancer.drop(columns='target')\n",
    "y = dfCancer.target\n",
    "xTrain, xTest, yTrain, yTest = train_test_split(x, y, test_size=1/5, random_state=1)\n",
    "xTrain, xValid, yTrain, yValid = train_test_split(xTrain, yTrain, test_size=1/4, random_state=1)"
   ]
  },
  {
   "cell_type": "markdown",
   "id": "2ed0190a-31b2-4141-b0d9-196224e1b127",
   "metadata": {
    "tags": []
   },
   "source": [
    "#### Scikit-learn interface\n",
    "The algorithm initialization syntax using [`LGBMClassifier`] and [`LGBMRegressor`] classes is the same as in Scikit-learn. Most of LightGBM's useful features are accessed using the [`fit()`](https://lightgbm.readthedocs.io/en/latest/pythonapi/lightgbm.LGBMClassifier.html#lightgbm.LGBMClassifier.fit) method.\n",
    "\n",
    "[`LGBMClassifier`]: https://lightgbm.readthedocs.io/en/latest/pythonapi/lightgbm.LGBMClassifier.html\n",
    "[`LGBMRegressor`]: https://lightgbm.readthedocs.io/en/latest/pythonapi/lightgbm.LGBMRegressor.html"
   ]
  },
  {
   "cell_type": "code",
   "execution_count": 3,
   "id": "11c717e6-0ded-4b49-b608-dd38690261b5",
   "metadata": {
    "tags": []
   },
   "outputs": [
    {
     "name": "stdout",
     "output_type": "stream",
     "text": [
      "Training until validation scores don't improve for 20 rounds\n",
      "[20]\tValid's binary_logloss: 0.245227\tValid's auc: 0.996284\n",
      "[40]\tValid's binary_logloss: 0.129513\tValid's auc: 0.997635\n",
      "[60]\tValid's binary_logloss: 0.0819823\tValid's auc: 0.998649\n",
      "[80]\tValid's binary_logloss: 0.0640199\tValid's auc: 0.998986\n",
      "[100]\tValid's binary_logloss: 0.0622647\tValid's auc: 0.998649\n",
      "Early stopping, best iteration is:\n",
      "[97]\tValid's binary_logloss: 0.0609187\tValid's auc: 0.998986\n",
      "Evaluated only: binary_logloss\n"
     ]
    }
   ],
   "source": [
    "# create a model with 200 iterations\n",
    "algo = lgb.LGBMClassifier(\n",
    "    num_leaves=2**5,\n",
    "    learning_rate=0.05,\n",
    "    n_estimators=200,\n",
    "    \n",
    "    verbosity=-1,\n",
    "    importance_type='gain',\n",
    ")\n",
    "\n",
    "# train the model with early stopping of 10% of number of trees\n",
    "model = algo.fit(\n",
    "    xTrain, yTrain,\n",
    "    eval_set=[(xValid, yValid)],\n",
    "    eval_names=['Valid'],\n",
    "    eval_metric=['binary_logloss', 'auc'],\n",
    "    callbacks=[\n",
    "        lgb.early_stopping(20, first_metric_only=True),\n",
    "        lgb.log_evaluation(period=20),\n",
    "    ],\n",
    ")"
   ]
  },
  {
   "cell_type": "code",
   "execution_count": 4,
   "id": "c85eee66-1809-4c4c-9942-e5a3284a20d4",
   "metadata": {
    "tags": []
   },
   "outputs": [
    {
     "name": "stdout",
     "output_type": "stream",
     "text": [
      "AUC = 0.9835 [LGBMClassifier]\n"
     ]
    }
   ],
   "source": [
    "yTestPred = model.predict_proba(xTest)[: ,1]\n",
    "auc = roc_auc_score(yTest, yTestPred)\n",
    "print(f'AUC = {auc:.4f} [{model.__class__.__name__}]')"
   ]
  },
  {
   "cell_type": "code",
   "execution_count": 5,
   "id": "40fa3579-6f3b-4c56-a629-dd03c92fe01c",
   "metadata": {},
   "outputs": [
    {
     "data": {
      "text/plain": [
       "array([   2.7932,   61.9895,    0.7611,    0.3866,    3.8635,    0.4405,\n",
       "        117.783 ,   96.1331,    3.7455,    0.2102,   10.3477,    5.8531,\n",
       "         13.2454,   72.8923,    6.2065,    6.9134,    0.    ,   11.753 ,\n",
       "          3.9254,    8.9424,  449.2814,  157.9406, 1878.1435,  754.576 ,\n",
       "         44.5361,   43.9856,  241.9603,  494.7697,   21.146 ,    4.1357])"
      ]
     },
     "execution_count": 5,
     "metadata": {},
     "output_type": "execute_result"
    }
   ],
   "source": [
    "model.feature_importances_"
   ]
  },
  {
   "cell_type": "markdown",
   "id": "46a2d6ec-d1dc-4307-85a8-1b863e8185df",
   "metadata": {},
   "source": [
    "#### LightGBM interface\n",
    "Beside Scikit-learn API, LightGBM also provides its own training API via the [`train()`] function, which takes a [`Dataset`] object as input instead of NumPy arrays. The prediction step still takes NumPy arrays as input as in Scikit-learn. Learn more [here](https://github.com/microsoft/LightGBM/blob/master/examples/python-guide/advanced_example.py).\n",
    "\n",
    "[`train()`]: https://lightgbm.readthedocs.io/en/latest/pythonapi/lightgbm.train.html\n",
    "[`Dataset`]: https://lightgbm.readthedocs.io/en/latest/pythonapi/lightgbm.Dataset.html"
   ]
  },
  {
   "cell_type": "code",
   "execution_count": 10,
   "id": "a197c219-ec45-4cb5-ba13-3500cfdca551",
   "metadata": {
    "tags": []
   },
   "outputs": [],
   "source": [
    "listFeatureCategorical = []\n",
    "dataTrain = lgb.Dataset(xTrain, yTrain)\n",
    "dataValid = lgb.Dataset(xValid, yValid, reference=dataTrain)\n",
    "dataTest = lgb.Dataset(xTest, yTest, reference=dataTrain)"
   ]
  },
  {
   "cell_type": "code",
   "execution_count": 19,
   "id": "0145e158-413c-4415-8c3f-e01de275a40e",
   "metadata": {
    "tags": []
   },
   "outputs": [
    {
     "name": "stdout",
     "output_type": "stream",
     "text": [
      "Training until validation scores don't improve for 20 rounds\n",
      "[20]\tvalid_0's binary_logloss: 0.246778\tvalid_0's auc: 0.996622\n",
      "[40]\tvalid_0's binary_logloss: 0.139876\tvalid_0's auc: 0.997297\n",
      "[60]\tvalid_0's binary_logloss: 0.0911384\tvalid_0's auc: 0.997973\n",
      "Early stopping, best iteration is:\n",
      "[45]\tvalid_0's binary_logloss: 0.12314\tvalid_0's auc: 0.997973\n"
     ]
    }
   ],
   "source": [
    "params = {\n",
    "    'objective': 'binary',\n",
    "    'metric': ['binary_logloss', 'auc'],\n",
    "    \n",
    "    'n_estimators': 200,\n",
    "    'boosting_type': 'goss',\n",
    "    'num_leaves': 31,\n",
    "    'learning_rate': 0.05,\n",
    "    'feature_fraction': 0.9,\n",
    "    \n",
    "    'verbose': -1,\n",
    "    'force_col_wise': True\n",
    "}\n",
    "model = lgb.train(\n",
    "    params=params,\n",
    "    train_set=dataTrain,\n",
    "    valid_sets=dataValid,\n",
    "    callbacks=[\n",
    "        lgb.early_stopping(20, first_metric_only=False),\n",
    "        lgb.log_evaluation(period=20),\n",
    "    ],\n",
    ")"
   ]
  },
  {
   "cell_type": "code",
   "execution_count": 23,
   "id": "dab8ba49-7152-4621-904d-290a4453854d",
   "metadata": {
    "tags": []
   },
   "outputs": [
    {
     "name": "stdout",
     "output_type": "stream",
     "text": [
      "AUC = 0.9821 [Booster]\n"
     ]
    }
   ],
   "source": [
    "yTestPred = model.predict(xTest)\n",
    "auc = roc_auc_score(yTest, yTestPred)\n",
    "print(f'AUC = {auc:.4f} [{model.__class__.__name__}]')"
   ]
  },
  {
   "cell_type": "code",
   "execution_count": 27,
   "id": "86daf8bd-a70b-4e33-8148-cbb765f6ac72",
   "metadata": {},
   "outputs": [
    {
     "data": {
      "text/plain": [
       "array([ 3, 19,  4,  0,  9,  5, 12, 19,  3,  6, 10, 20,  7, 23,  5, 11,  2,\n",
       "        5,  4,  3, 17, 20, 17, 20,  5,  8, 17, 46, 10,  3])"
      ]
     },
     "execution_count": 27,
     "metadata": {},
     "output_type": "execute_result"
    }
   ],
   "source": [
    "model.feature_importance('split')"
   ]
  },
  {
   "cell_type": "markdown",
   "id": "b6cdbd60-1afe-4159-bc3a-a269b16adbe9",
   "metadata": {},
   "source": [
    "## 3. CatBoost\n",
    "[CatBoost](https://github.com/catboost/catboost) (Categorical Boosting) is a variant of Gradient Boosting developed by Yandex in 2017. CatBoost introduces *ordered encoding* and *ordered boosting*, two advanced algorithms to fight *prediction shift*, a special kind of target leakage presents in all other Graddient Boosting implementations. The implementation of CatBoost prepares default values for each hyperparameter carefully, which makes CatBoost works well without many effort in hyperparameter tuning."
   ]
  },
  {
   "cell_type": "markdown",
   "id": "cd16da3e-0845-4183-860f-314676dc8ae2",
   "metadata": {},
   "source": [
    "### 3.1. Algorithm"
   ]
  },
  {
   "cell_type": "markdown",
   "id": "74a9f6b6-a101-4618-9a21-3313f6cb4eea",
   "metadata": {},
   "source": [
    "#### Ordered encoding\n",
    "First, let's talk about a popular method in encoding categorical features: target encoding. This method simply replaces each category ($x_k$) of *a feature* $\\mathbf{x}$ by the mean of *the target* ($\\mathbf{y}$) of the corresponding *subset* ($\\mathbf{1}_{\\{x_n=x_k\\}}$). It is formally given by:\n",
    "\n",
    "$$x_k\\leftarrow\n",
    "\\frac\n",
    "  {\\sum_{n=1}^{N}\\mathbf{1}_{\\{x_n=x_k\\}}y_n+a\\bar{y}}\n",
    "  {\\sum_{n=1}^{N}\\mathbf{1}_{\\{x_n=x_k\\}}+a}$$\n",
    "\n",
    "Here, $a$ is a smoothing parameter that pushes the encoding value towards the target mean $\\bar{y}$. This encoding strategy easily leads to *target leakage*, when the distribution of $\\mathbf{x}$ given $\\mathbf{y}$ differs for training and test data.\n",
    "\n",
    "To handle this, CatBoost applies the above formula in an innovative way. It shuffles the dataset at each boosting iteration and uses the current order as an *artifical time*. Then, to encode a value $x_n$, CatBoost uses all available *historical data* $\\mathcal{D}_n=\\{x_i,y_i\\}_{i=1}^{n-1}$ to encode using the above formula. At first glance, this method looks wrong as it assigns different encoded values to the same category. That's why CatBoost uses different permutations at different steps of gradient boosting procedure. This also means ordered encoding principle only works in gradient boosting where there a lot of iterations, and it does not work well standalone."
   ]
  },
  {
   "cell_type": "markdown",
   "id": "786024cd-0de4-4225-9937-b036ba78d8f5",
   "metadata": {},
   "source": [
    "#### Ordered boosting\n",
    "In previous Gradient Boosting techniques, each weak model is built sequentially based on the same dataset. CatBoost authors argue that there is some kind of target leakage across iterations, which is called *prediction shift*.\n",
    "\n",
    "To combat this, CatBoost authors propose a variant called Ordered Boosting, a method using the same principle with Ordered Encoding. The main difference of this method is that the residual of each data point is calculated using a model fitted on *historical data*. CatBooost also prepares a number of random permutations used in split finding and choosing leaf values, in order to neutralize the variance in the final prediction."
   ]
  },
  {
   "cell_type": "markdown",
   "id": "563c9238-9dd1-4803-b685-c628b8ece5ab",
   "metadata": {},
   "source": [
    "#### Key features\n",
    "- [Categorical features transformation](https://catboost.ai/en/docs/concepts/algorithm-main-stages_cat-to-numberic). The most iconic feature of the algorithm.\n",
    "- [Text features transformation](https://catboost.ai/en/docs/concepts/algorithm-main-stages_text-to-numeric).\n",
    "- [Quantization](https://catboost.ai/en/docs/concepts/quantization). CatBoost also support histogram-based split finding like XGBoost and LightGBM do, but it goes one step further by supporting many choices of quantization modes.\n",
    "- [GPU support](https://catboost.ai/en/docs/features/training-on-gpu). Like XGBoost and LightGBM, CatBoost also supports GPU training.\n",
    "- [Overfitting detector](https://catboost.ai/en/docs/concepts/overfitting-detector). CatBoost has a built-in mechanism that can stop the training earlier if overfitting occurs.\n",
    "- [Proceed training](https://catboost.ai/en/docs/features/proceed-training).\n",
    "- [Bootstrap options](https://catboost.ai/en/docs/concepts/algorithm-main-stages_bootstrap-options). CatBoost supports different sampling options which gives regularization effect and speed up training.\n",
    "- [Symmetric trees](https://catboost.ai/en/docs/concepts/parameter-tuning#tree-growing-policy). An interesting feature that CatBoost supports. This type of tree gives regularization effect, boosts computational performance and reduces the need of pruning trees."
   ]
  },
  {
   "cell_type": "markdown",
   "id": "5c7b435c-aa76-4ec1-bdc7-9723ab6c4806",
   "metadata": {
    "tags": []
   },
   "source": [
    "### 3.2. Hyperparameters\n",
    "CatBoost has a huge number of [hyperparameters](https://catboost.ai/en/docs/references/training-parameters/), devided into many types. Some of them have aliases, which makes CatBoost compatible with other libraries. CatBoost has a [tuning guideline](https://catboost.ai/en/docs/concepts/parameter-tuning) page."
   ]
  },
  {
   "cell_type": "markdown",
   "id": "79d253a4-d432-4540-8402-0db5c4dc43b5",
   "metadata": {
    "jp-MarkdownHeadingCollapsed": true,
    "tags": []
   },
   "source": [
    "*Boosting parameters*. The configurations for boosting.\n",
    "- `boosting_type`: the boosting type, defaults to *plain* (normal gradient boosting). The other option is *ordered* (ordered boosting).\n",
    "- `n_estimators`: the number of boosting stages ($T$), defaults to *1000*. Larger is usually better, but should go with a lower *learning_rate*.\n",
    "- `learning_rate`: the learning rate ($\\eta$), defaults to *None* (automatically defined).\n",
    "- `early_stopping_rounds`: the maximum number of iterations without improvements, defaults to *False* (disabled). Keeping a low enough value may make boosting stop earlier, thus reduces the overall training time. Usually be set around $10\\%$ of *n_estimators*.\n",
    "- `od_type`: the type of overfitting detector to use, defaults to *IncToDec*. The other option is *Iter*."
   ]
  },
  {
   "cell_type": "markdown",
   "id": "b2e06408-32de-455a-9fbe-ce5da4c29deb",
   "metadata": {
    "jp-MarkdownHeadingCollapsed": true,
    "tags": []
   },
   "source": [
    "*Bagging parameters*.\n",
    "- `bootstrap_type`: strategy for sampling data, defaults to *None* (automatically defined). CatBoost supports *Bayesian*, *Bernoulli*, *MVS* and *Poisson*.\n",
    "- `subsample`: the ratio of data for sampling, defaults to *None* (automatically defined).\n",
    "- `sampling_frequency`: the frequency to sample when building trees, defaults to *PerTreeLevel*. The other option is *PerTree*."
   ]
  },
  {
   "cell_type": "markdown",
   "id": "dcadb876-8989-4a4a-b1e8-9f68186ee9d9",
   "metadata": {
    "jp-MarkdownHeadingCollapsed": true,
    "tags": []
   },
   "source": [
    "*Tree learning parameters*. Most parameters in this group are for prunning trees in order to deal with overfitting and increasing training speed. If symmetric tree is used, most parameters in this group are not neccessary.\n",
    "- `grow_policy`: the tree construction strategry, defaults to *SymmetricTree*. Other options are *Depthwise* and *Lossguide*.\n",
    "- `min_data_in_leaf`: the minimum number of data a leaf must have, defaults to *1*. Cannot be used with *SymmetricTree*.\n",
    "- `max_leaves`: the maximum number of leaves in each tree, defaults to *31*. Can only work with *Lossguide*.\n",
    "- `l2_leaf_reg`: the $L_2$ regularization term, defaults to *3*."
   ]
  },
  {
   "cell_type": "markdown",
   "id": "7c5af2b3-2bbb-4503-b125-dbcbc4ee2059",
   "metadata": {
    "jp-MarkdownHeadingCollapsed": true,
    "tags": []
   },
   "source": [
    "*Histogram building parameters*.\n",
    "- `border_count`: the maximum number of cut points when building histograms, defaults to *254*.\n",
    "- `feature_border_type`: the quantization mode for numerical features, defaults to *GreedyLogSum*. Other options are *Median*, *Uniform*, *UniformAndQuantiles*, *MaxLogSum* and *MinEntropy*.\n",
    "- `per_float_feature_quantization`: this parameter is used to specify *border_count* and *feature_border_type* for each feature."
   ]
  },
  {
   "cell_type": "markdown",
   "id": "18290ed0-5af5-45c7-92af-40761a999683",
   "metadata": {
    "jp-MarkdownHeadingCollapsed": true,
    "tags": []
   },
   "source": [
    "*Categorical handling parameters*.\n",
    "- `cat_features` and `text_features`:\n",
    "the list of indices or names of categorical/text features, default to *None*.\n",
    "- `one_hot_max_size`: the maximum number of categories of a feature to use one-hot encoding, otherwise use CatBoost's encoder, defaults to *None* (automatically defined).\n",
    "- `model_size_reg`: the [regularization](https://catboost.ai/en/docs/references/model-size-reg) term for the size of a model contributed by categorical features, defaults to *0.5*. Larger values reduce model size.\n",
    "- `max_ctr_complexity`: the maximum number of features that can be combined, defaults to *4*. Has to be less than *15*.\n",
    "- `simple_ctr` and `combinations_ctr`: settings for encoding a single/combination of categorical features. These are both complex parameters with a lot of settings, but they share the same format. Please refer to CatBoost's [documentation](https://catboost.ai/en/docs/references/training-parameters/ctr#simple_ctr) for detailed usage."
   ]
  },
  {
   "cell_type": "markdown",
   "id": "4715c521-2a16-4b17-aa02-009d65950a62",
   "metadata": {},
   "source": [
    "### 3.2. Implementation\n",
    "CatBoost support a lot of customizations and useful features. Please refer to CatBoost's [tutorials](https://github.com/catboost/catboost/tree/master/catboost/tutorials) for more details.\n",
    "- It accepts either a [built-in loss function](https://catboost.ai/en/docs/references/custom-metric__supported-metrics) or a [custom loss function](https://catboost.ai/en/docs/concepts/python-usages-examples#user-defined-loss-function) with the signature:\n",
    "`loss(yPred, yTrue) -> (grad, hess)`.\n",
    "- It accepts either a [built-in evaluation metric](https://catboost.ai/en/docs/references/eval-metric__supported-metrics) or a [custom metric](https://catboost.ai/en/docs/concepts/python-usages-examples#custom-loss-function-eval-metric).\n",
    "- It provides a lot of [model analysis](https://catboost.ai/en/docs/concepts/model-analysis) tools, including\n",
    "[feature importance](https://catboost.ai/en/docs/concepts/fstr) and\n",
    "[object importance](https://catboost.ai/en/docs/concepts/python-reference_catboostclassifier_get_object_importance).\n",
    "- It supports [snapshotting](https://catboost.ai/en/docs/features/snapshots), which periodically saves the current state of the model. This allows recovering training after an interuption by launching the training in the same folder with the same parameters."
   ]
  },
  {
   "cell_type": "code",
   "execution_count": 1,
   "id": "03cd2e75-5632-4ac3-8c36-d1b88dc6e78f",
   "metadata": {
    "execution": {
     "iopub.execute_input": "2022-09-02T16:39:23.601228Z",
     "iopub.status.busy": "2022-09-02T16:39:23.600872Z",
     "iopub.status.idle": "2022-09-02T16:39:25.187551Z",
     "shell.execute_reply": "2022-09-02T16:39:25.186882Z",
     "shell.execute_reply.started": "2022-09-02T16:39:23.601166Z"
    },
    "tags": [
     "remove-cell"
    ]
   },
   "outputs": [],
   "source": [
    "import datetime as dt\n",
    "import numpy as np\n",
    "import pandas as pd\n",
    "np.set_printoptions(precision=4, suppress=True)\n",
    "\n",
    "from sklearn.model_selection import train_test_split\n",
    "from sklearn.metrics import roc_auc_score as AUC\n",
    "import catboost as cgb"
   ]
  },
  {
   "cell_type": "code",
   "execution_count": 2,
   "id": "833713cf-dc80-4419-9eb3-600b4642843b",
   "metadata": {
    "execution": {
     "iopub.execute_input": "2022-09-02T16:39:25.189496Z",
     "iopub.status.busy": "2022-09-02T16:39:25.188839Z",
     "iopub.status.idle": "2022-09-02T16:39:25.204911Z",
     "shell.execute_reply": "2022-09-02T16:39:25.204203Z",
     "shell.execute_reply.started": "2022-09-02T16:39:25.189464Z"
    },
    "tags": []
   },
   "outputs": [],
   "source": [
    "dfCancer = pd.read_csv('../data/breast_cancer.csv')\n",
    "x = dfCancer.drop(columns='target')\n",
    "y = dfCancer.target\n",
    "xTrain, xTest, yTrain, yTest = train_test_split(x, y, test_size=1/5, random_state=1)\n",
    "xTrain, xValid, yTrain, yValid = train_test_split(xTrain, yTrain, test_size=1/4, random_state=1)"
   ]
  },
  {
   "cell_type": "markdown",
   "id": "7035265b-0579-4a56-95b5-077c740e0d52",
   "metadata": {
    "tags": []
   },
   "source": [
    "#### Scikit-learn interface\n",
    "The algorithm initialization syntax using [`CatBoostClassifier`] and [`CatBoostRegressor`] classes is the same as in Scikit-learn. Most of CatBoost's useful features are accessed using the [`fit()`](https://catboost.ai/en/docs/concepts/python-reference_catboostclassifier_fit) method.\n",
    "\n",
    "[`CatBoostClassifier`]: https://catboost.ai/en/docs/concepts/python-reference_catboostclassifier\n",
    "[`CatBoostRegressor`]: https://catboost.ai/en/docs/concepts/python-reference_catboostregressor"
   ]
  },
  {
   "cell_type": "code",
   "execution_count": 3,
   "id": "9abefd4a-07c5-499c-95db-df12cffe0802",
   "metadata": {
    "execution": {
     "iopub.execute_input": "2022-09-02T16:39:27.737162Z",
     "iopub.status.busy": "2022-09-02T16:39:27.736795Z",
     "iopub.status.idle": "2022-09-02T16:39:28.780447Z",
     "shell.execute_reply": "2022-09-02T16:39:28.779570Z",
     "shell.execute_reply.started": "2022-09-02T16:39:27.737135Z"
    },
    "tags": []
   },
   "outputs": [
    {
     "data": {
      "application/vnd.jupyter.widget-view+json": {
       "model_id": "33d977fbe2b04677ba5090bac026efa7",
       "version_major": 2,
       "version_minor": 0
      },
      "text/plain": [
       "MetricVisualizer(layout=Layout(align_self='stretch', height='500px'))"
      ]
     },
     "metadata": {},
     "output_type": "display_data"
    },
    {
     "name": "stdout",
     "output_type": "stream",
     "text": [
      "Learning rate set to 0.032843\n",
      "0:\tlearn: 0.6456139\ttest: 0.6406496\tbest: 0.6406496 (0)\ttotal: 64.3ms\tremaining: 32.1s\n",
      "100:\tlearn: 0.0687001\ttest: 0.0543116\tbest: 0.0543116 (100)\ttotal: 296ms\tremaining: 1.17s\n",
      "200:\tlearn: 0.0361472\ttest: 0.0392240\tbest: 0.0392240 (200)\ttotal: 497ms\tremaining: 740ms\n",
      "300:\tlearn: 0.0173880\ttest: 0.0336209\tbest: 0.0335770 (296)\ttotal: 724ms\tremaining: 479ms\n",
      "Stopped by overfitting detector  (50 iterations wait)\n",
      "\n",
      "bestTest = 0.03301641292\n",
      "bestIteration = 342\n",
      "\n",
      "Shrink model to first 343 iterations.\n"
     ]
    }
   ],
   "source": [
    "algo = cgb.CatBoostClassifier(\n",
    "    boosting_type='Ordered',\n",
    "    n_estimators=500,\n",
    "    max_depth=3,\n",
    "    early_stopping_rounds=50,\n",
    "    \n",
    "    # eval_metric='Logloss', # for evaluation\n",
    "    custom_metric=['AUC', 'F1', 'CrossEntropy'], # for displaying only\n",
    "    train_dir='../output/catboost',\n",
    "    save_snapshot=False,\n",
    "    snapshot_interval=600,\n",
    ")\n",
    "\n",
    "model = algo.fit(\n",
    "    xTrain, yTrain,\n",
    "    eval_set=[(xValid, yValid)],\n",
    "    verbose=100,\n",
    "    plot=True,\n",
    ")"
   ]
  },
  {
   "cell_type": "code",
   "execution_count": 74,
   "id": "2151346a-f0eb-46bd-bd5d-d9117f86a3fd",
   "metadata": {
    "execution": {
     "iopub.execute_input": "2022-08-06T16:28:19.150408Z",
     "iopub.status.busy": "2022-08-06T16:28:19.150071Z",
     "iopub.status.idle": "2022-08-06T16:28:19.156686Z",
     "shell.execute_reply": "2022-08-06T16:28:19.156003Z",
     "shell.execute_reply.started": "2022-08-06T16:28:19.150383Z"
    },
    "tags": []
   },
   "outputs": [
    {
     "name": "stdout",
     "output_type": "stream",
     "text": [
      "AUC = 0.9524 [CatBoostClassifier]\n"
     ]
    }
   ],
   "source": [
    "yPred = model.predict(xTest)\n",
    "auc = AUC(yTest, yPred)\n",
    "print(f'AUC = {auc:.4f} [{model.__class__.__name__}]')"
   ]
  },
  {
   "cell_type": "markdown",
   "id": "904fe84d-f28c-46ad-bfc5-72dcec3c6651",
   "metadata": {},
   "source": [
    "#### Model analysis"
   ]
  },
  {
   "cell_type": "code",
   "execution_count": 107,
   "id": "14542f5f-f33b-40d5-a018-e3c1b1f77435",
   "metadata": {
    "execution": {
     "iopub.execute_input": "2022-08-06T17:01:01.481597Z",
     "iopub.status.busy": "2022-08-06T17:01:01.481181Z",
     "iopub.status.idle": "2022-08-06T17:01:01.491790Z",
     "shell.execute_reply": "2022-08-06T17:01:01.490820Z",
     "shell.execute_reply.started": "2022-08-06T17:01:01.481568Z"
    },
    "tags": []
   },
   "outputs": [
    {
     "data": {
      "text/html": [
       "<div>\n",
       "<style scoped>\n",
       "    .dataframe tbody tr th:only-of-type {\n",
       "        vertical-align: middle;\n",
       "    }\n",
       "\n",
       "    .dataframe tbody tr th {\n",
       "        vertical-align: top;\n",
       "    }\n",
       "\n",
       "    .dataframe thead th {\n",
       "        text-align: right;\n",
       "    }\n",
       "</style>\n",
       "<table border=\"1\" class=\"dataframe\">\n",
       "  <thead>\n",
       "    <tr style=\"text-align: right;\">\n",
       "      <th></th>\n",
       "      <th>Feature Id</th>\n",
       "      <th>Importances</th>\n",
       "    </tr>\n",
       "  </thead>\n",
       "  <tbody>\n",
       "    <tr>\n",
       "      <th>0</th>\n",
       "      <td>worst_perimeter</td>\n",
       "      <td>11.716592</td>\n",
       "    </tr>\n",
       "    <tr>\n",
       "      <th>1</th>\n",
       "      <td>worst_area</td>\n",
       "      <td>10.885156</td>\n",
       "    </tr>\n",
       "    <tr>\n",
       "      <th>2</th>\n",
       "      <td>worst_concave_points</td>\n",
       "      <td>9.509133</td>\n",
       "    </tr>\n",
       "    <tr>\n",
       "      <th>3</th>\n",
       "      <td>mean_concave_points</td>\n",
       "      <td>8.031246</td>\n",
       "    </tr>\n",
       "    <tr>\n",
       "      <th>4</th>\n",
       "      <td>worst_concavity</td>\n",
       "      <td>6.975604</td>\n",
       "    </tr>\n",
       "  </tbody>\n",
       "</table>\n",
       "</div>"
      ],
      "text/plain": [
       "             Feature Id  Importances\n",
       "0       worst_perimeter    11.716592\n",
       "1            worst_area    10.885156\n",
       "2  worst_concave_points     9.509133\n",
       "3   mean_concave_points     8.031246\n",
       "4       worst_concavity     6.975604"
      ]
     },
     "execution_count": 107,
     "metadata": {},
     "output_type": "execute_result"
    }
   ],
   "source": [
    "dTrain = cgb.Pool(xTrain, yTrain)\n",
    "model.get_feature_importance(type='PredictionValuesChange', prettified=True).head()"
   ]
  },
  {
   "cell_type": "code",
   "execution_count": 106,
   "id": "1a9ca180-04c2-4649-aedb-7b87d8437c05",
   "metadata": {
    "execution": {
     "iopub.execute_input": "2022-08-06T17:00:56.160524Z",
     "iopub.status.busy": "2022-08-06T17:00:56.160083Z",
     "iopub.status.idle": "2022-08-06T17:00:56.179342Z",
     "shell.execute_reply": "2022-08-06T17:00:56.178620Z",
     "shell.execute_reply.started": "2022-08-06T17:00:56.160484Z"
    },
    "tags": []
   },
   "outputs": [
    {
     "data": {
      "text/html": [
       "<div>\n",
       "<style scoped>\n",
       "    .dataframe tbody tr th:only-of-type {\n",
       "        vertical-align: middle;\n",
       "    }\n",
       "\n",
       "    .dataframe tbody tr th {\n",
       "        vertical-align: top;\n",
       "    }\n",
       "\n",
       "    .dataframe thead th {\n",
       "        text-align: right;\n",
       "    }\n",
       "</style>\n",
       "<table border=\"1\" class=\"dataframe\">\n",
       "  <thead>\n",
       "    <tr style=\"text-align: right;\">\n",
       "      <th></th>\n",
       "      <th>Feature Id</th>\n",
       "      <th>Importances</th>\n",
       "    </tr>\n",
       "  </thead>\n",
       "  <tbody>\n",
       "    <tr>\n",
       "      <th>0</th>\n",
       "      <td>area_error</td>\n",
       "      <td>0.009007</td>\n",
       "    </tr>\n",
       "    <tr>\n",
       "      <th>1</th>\n",
       "      <td>worst_area</td>\n",
       "      <td>0.009000</td>\n",
       "    </tr>\n",
       "    <tr>\n",
       "      <th>2</th>\n",
       "      <td>worst_concavity</td>\n",
       "      <td>0.007121</td>\n",
       "    </tr>\n",
       "    <tr>\n",
       "      <th>3</th>\n",
       "      <td>worst_concave_points</td>\n",
       "      <td>0.006818</td>\n",
       "    </tr>\n",
       "    <tr>\n",
       "      <th>4</th>\n",
       "      <td>mean_concave_points</td>\n",
       "      <td>0.005860</td>\n",
       "    </tr>\n",
       "  </tbody>\n",
       "</table>\n",
       "</div>"
      ],
      "text/plain": [
       "             Feature Id  Importances\n",
       "0            area_error     0.009007\n",
       "1            worst_area     0.009000\n",
       "2       worst_concavity     0.007121\n",
       "3  worst_concave_points     0.006818\n",
       "4   mean_concave_points     0.005860"
      ]
     },
     "execution_count": 106,
     "metadata": {},
     "output_type": "execute_result"
    }
   ],
   "source": [
    "dTrain = cgb.Pool(xTrain, yTrain)\n",
    "model.get_feature_importance(data=dTrain, type='LossFunctionChange', prettified=True).head()"
   ]
  },
  {
   "cell_type": "code",
   "execution_count": 119,
   "id": "76ae1887-3ff9-4c27-a755-4b5619b58752",
   "metadata": {
    "execution": {
     "iopub.execute_input": "2022-08-06T17:06:26.078417Z",
     "iopub.status.busy": "2022-08-06T17:06:26.077946Z",
     "iopub.status.idle": "2022-08-06T17:06:26.088912Z",
     "shell.execute_reply": "2022-08-06T17:06:26.087992Z",
     "shell.execute_reply.started": "2022-08-06T17:06:26.078387Z"
    },
    "tags": []
   },
   "outputs": [
    {
     "data": {
      "text/html": [
       "<div>\n",
       "<style scoped>\n",
       "    .dataframe tbody tr th:only-of-type {\n",
       "        vertical-align: middle;\n",
       "    }\n",
       "\n",
       "    .dataframe tbody tr th {\n",
       "        vertical-align: top;\n",
       "    }\n",
       "\n",
       "    .dataframe thead th {\n",
       "        text-align: right;\n",
       "    }\n",
       "</style>\n",
       "<table border=\"1\" class=\"dataframe\">\n",
       "  <thead>\n",
       "    <tr style=\"text-align: right;\">\n",
       "      <th></th>\n",
       "      <th>First Feature Index</th>\n",
       "      <th>Second Feature Index</th>\n",
       "      <th>Interaction</th>\n",
       "    </tr>\n",
       "  </thead>\n",
       "  <tbody>\n",
       "    <tr>\n",
       "      <th>0</th>\n",
       "      <td>23</td>\n",
       "      <td>26</td>\n",
       "      <td>5.117987</td>\n",
       "    </tr>\n",
       "    <tr>\n",
       "      <th>1</th>\n",
       "      <td>13</td>\n",
       "      <td>24</td>\n",
       "      <td>5.069373</td>\n",
       "    </tr>\n",
       "    <tr>\n",
       "      <th>2</th>\n",
       "      <td>17</td>\n",
       "      <td>23</td>\n",
       "      <td>3.986848</td>\n",
       "    </tr>\n",
       "    <tr>\n",
       "      <th>3</th>\n",
       "      <td>23</td>\n",
       "      <td>27</td>\n",
       "      <td>3.222103</td>\n",
       "    </tr>\n",
       "    <tr>\n",
       "      <th>4</th>\n",
       "      <td>7</td>\n",
       "      <td>13</td>\n",
       "      <td>2.652889</td>\n",
       "    </tr>\n",
       "  </tbody>\n",
       "</table>\n",
       "</div>"
      ],
      "text/plain": [
       "   First Feature Index  Second Feature Index  Interaction\n",
       "0                   23                    26     5.117987\n",
       "1                   13                    24     5.069373\n",
       "2                   17                    23     3.986848\n",
       "3                   23                    27     3.222103\n",
       "4                    7                    13     2.652889"
      ]
     },
     "execution_count": 119,
     "metadata": {},
     "output_type": "execute_result"
    }
   ],
   "source": [
    "dTrain = cgb.Pool(xTrain, yTrain)\n",
    "model.get_feature_importance(data=dTrain, type='Interaction', prettified=True).head()"
   ]
  },
  {
   "cell_type": "code",
   "execution_count": 76,
   "id": "36fb1cc8-2c6f-4339-b5ba-8badde33e7d0",
   "metadata": {
    "execution": {
     "iopub.execute_input": "2022-08-06T16:28:22.101081Z",
     "iopub.status.busy": "2022-08-06T16:28:22.100654Z",
     "iopub.status.idle": "2022-08-06T16:28:22.416565Z",
     "shell.execute_reply": "2022-08-06T16:28:22.415644Z",
     "shell.execute_reply.started": "2022-08-06T16:28:22.101026Z"
    },
    "tags": []
   },
   "outputs": [
    {
     "data": {
      "image/svg+xml": [
       "<?xml version=\"1.0\" encoding=\"UTF-8\" standalone=\"no\"?>\n",
       "<!DOCTYPE svg PUBLIC \"-//W3C//DTD SVG 1.1//EN\"\n",
       " \"http://www.w3.org/Graphics/SVG/1.1/DTD/svg11.dtd\">\n",
       "<!-- Generated by graphviz version 3.0.0 (20220226.1711)\n",
       " -->\n",
       "<!-- Pages: 1 -->\n",
       "<svg width=\"790pt\" height=\"305pt\"\n",
       " viewBox=\"0.00 0.00 790.00 305.00\" xmlns=\"http://www.w3.org/2000/svg\" xmlns:xlink=\"http://www.w3.org/1999/xlink\">\n",
       "<g id=\"graph0\" class=\"graph\" transform=\"scale(1 1) rotate(0) translate(4 301)\">\n",
       "<polygon fill=\"white\" stroke=\"transparent\" points=\"-4,4 -4,-301 786,-301 786,4 -4,4\"/>\n",
       "<!-- 0 -->\n",
       "<g id=\"node1\" class=\"node\">\n",
       "<title>0</title>\n",
       "<ellipse fill=\"none\" stroke=\"black\" cx=\"388\" cy=\"-279\" rx=\"68.79\" ry=\"18\"/>\n",
       "<text text-anchor=\"middle\" x=\"388\" y=\"-275.3\" font-family=\"Times,serif\" font-size=\"14.00\">3, value&gt;808.05</text>\n",
       "</g>\n",
       "<!-- 1 -->\n",
       "<g id=\"node2\" class=\"node\">\n",
       "<title>1</title>\n",
       "<ellipse fill=\"none\" stroke=\"black\" cx=\"306\" cy=\"-192\" rx=\"73.39\" ry=\"18\"/>\n",
       "<text text-anchor=\"middle\" x=\"306\" y=\"-188.3\" font-family=\"Times,serif\" font-size=\"14.00\">11, value&gt;1.5095</text>\n",
       "</g>\n",
       "<!-- 0&#45;&gt;1 -->\n",
       "<g id=\"edge1\" class=\"edge\">\n",
       "<title>0&#45;&gt;1</title>\n",
       "<path fill=\"none\" stroke=\"black\" d=\"M371.8,-261.21C359.67,-248.63 342.9,-231.25 329.33,-217.18\"/>\n",
       "<polygon fill=\"black\" stroke=\"black\" points=\"331.63,-214.53 322.17,-209.76 326.59,-219.39 331.63,-214.53\"/>\n",
       "<text text-anchor=\"middle\" x=\"360.5\" y=\"-231.8\" font-family=\"Times,serif\" font-size=\"14.00\">No</text>\n",
       "</g>\n",
       "<!-- 2 -->\n",
       "<g id=\"node3\" class=\"node\">\n",
       "<title>2</title>\n",
       "<ellipse fill=\"none\" stroke=\"black\" cx=\"473\" cy=\"-192\" rx=\"73.39\" ry=\"18\"/>\n",
       "<text text-anchor=\"middle\" x=\"473\" y=\"-188.3\" font-family=\"Times,serif\" font-size=\"14.00\">11, value&gt;1.5095</text>\n",
       "</g>\n",
       "<!-- 0&#45;&gt;2 -->\n",
       "<g id=\"edge2\" class=\"edge\">\n",
       "<title>0&#45;&gt;2</title>\n",
       "<path fill=\"none\" stroke=\"black\" d=\"M404.79,-261.21C417.37,-248.63 434.75,-231.25 448.82,-217.18\"/>\n",
       "<polygon fill=\"black\" stroke=\"black\" points=\"451.65,-219.3 456.24,-209.76 446.7,-214.35 451.65,-219.3\"/>\n",
       "<text text-anchor=\"middle\" x=\"446.5\" y=\"-231.8\" font-family=\"Times,serif\" font-size=\"14.00\">Yes</text>\n",
       "</g>\n",
       "<!-- 3 -->\n",
       "<g id=\"node4\" class=\"node\">\n",
       "<title>3</title>\n",
       "<ellipse fill=\"none\" stroke=\"black\" cx=\"140\" cy=\"-105\" rx=\"73.39\" ry=\"18\"/>\n",
       "<text text-anchor=\"middle\" x=\"140\" y=\"-101.3\" font-family=\"Times,serif\" font-size=\"14.00\">22, value&gt;105.15</text>\n",
       "</g>\n",
       "<!-- 1&#45;&gt;3 -->\n",
       "<g id=\"edge3\" class=\"edge\">\n",
       "<title>1&#45;&gt;3</title>\n",
       "<path fill=\"none\" stroke=\"black\" d=\"M275.55,-175.41C248.53,-161.57 208.87,-141.26 179.43,-126.19\"/>\n",
       "<polygon fill=\"black\" stroke=\"black\" points=\"180.75,-122.93 170.25,-121.49 177.56,-129.16 180.75,-122.93\"/>\n",
       "<text text-anchor=\"middle\" x=\"241.5\" y=\"-144.8\" font-family=\"Times,serif\" font-size=\"14.00\">No</text>\n",
       "</g>\n",
       "<!-- 4 -->\n",
       "<g id=\"node5\" class=\"node\">\n",
       "<title>4</title>\n",
       "<ellipse fill=\"none\" stroke=\"black\" cx=\"306\" cy=\"-105\" rx=\"73.39\" ry=\"18\"/>\n",
       "<text text-anchor=\"middle\" x=\"306\" y=\"-101.3\" font-family=\"Times,serif\" font-size=\"14.00\">22, value&gt;105.15</text>\n",
       "</g>\n",
       "<!-- 1&#45;&gt;4 -->\n",
       "<g id=\"edge4\" class=\"edge\">\n",
       "<title>1&#45;&gt;4</title>\n",
       "<path fill=\"none\" stroke=\"black\" d=\"M306,-173.8C306,-162.16 306,-146.55 306,-133.24\"/>\n",
       "<polygon fill=\"black\" stroke=\"black\" points=\"309.5,-133.18 306,-123.18 302.5,-133.18 309.5,-133.18\"/>\n",
       "<text text-anchor=\"middle\" x=\"316.5\" y=\"-144.8\" font-family=\"Times,serif\" font-size=\"14.00\">Yes</text>\n",
       "</g>\n",
       "<!-- 5 -->\n",
       "<g id=\"node6\" class=\"node\">\n",
       "<title>5</title>\n",
       "<ellipse fill=\"none\" stroke=\"black\" cx=\"473\" cy=\"-105\" rx=\"73.39\" ry=\"18\"/>\n",
       "<text text-anchor=\"middle\" x=\"473\" y=\"-101.3\" font-family=\"Times,serif\" font-size=\"14.00\">22, value&gt;105.15</text>\n",
       "</g>\n",
       "<!-- 2&#45;&gt;5 -->\n",
       "<g id=\"edge5\" class=\"edge\">\n",
       "<title>2&#45;&gt;5</title>\n",
       "<path fill=\"none\" stroke=\"black\" d=\"M473,-173.8C473,-162.16 473,-146.55 473,-133.24\"/>\n",
       "<polygon fill=\"black\" stroke=\"black\" points=\"476.5,-133.18 473,-123.18 469.5,-133.18 476.5,-133.18\"/>\n",
       "<text text-anchor=\"middle\" x=\"481.5\" y=\"-144.8\" font-family=\"Times,serif\" font-size=\"14.00\">No</text>\n",
       "</g>\n",
       "<!-- 6 -->\n",
       "<g id=\"node7\" class=\"node\">\n",
       "<title>6</title>\n",
       "<ellipse fill=\"none\" stroke=\"black\" cx=\"640\" cy=\"-105\" rx=\"73.39\" ry=\"18\"/>\n",
       "<text text-anchor=\"middle\" x=\"640\" y=\"-101.3\" font-family=\"Times,serif\" font-size=\"14.00\">22, value&gt;105.15</text>\n",
       "</g>\n",
       "<!-- 2&#45;&gt;6 -->\n",
       "<g id=\"edge6\" class=\"edge\">\n",
       "<title>2&#45;&gt;6</title>\n",
       "<path fill=\"none\" stroke=\"black\" d=\"M503.63,-175.41C530.82,-161.57 570.71,-141.26 600.34,-126.19\"/>\n",
       "<polygon fill=\"black\" stroke=\"black\" points=\"602.24,-129.15 609.56,-121.49 599.06,-122.91 602.24,-129.15\"/>\n",
       "<text text-anchor=\"middle\" x=\"577.5\" y=\"-144.8\" font-family=\"Times,serif\" font-size=\"14.00\">Yes</text>\n",
       "</g>\n",
       "<!-- 7 -->\n",
       "<g id=\"node8\" class=\"node\">\n",
       "<title>7</title>\n",
       "<polygon fill=\"none\" stroke=\"red\" points=\"80,-36 0,-36 0,0 80,0 80,-36\"/>\n",
       "<text text-anchor=\"middle\" x=\"40\" y=\"-14.3\" font-family=\"Times,serif\" font-size=\"14.00\">val = 0.118</text>\n",
       "</g>\n",
       "<!-- 3&#45;&gt;7 -->\n",
       "<g id=\"edge7\" class=\"edge\">\n",
       "<title>3&#45;&gt;7</title>\n",
       "<path fill=\"none\" stroke=\"black\" d=\"M120.72,-87.61C105.79,-74.92 84.91,-57.17 68.12,-42.9\"/>\n",
       "<polygon fill=\"black\" stroke=\"black\" points=\"70.14,-40.02 60.25,-36.21 65.6,-45.36 70.14,-40.02\"/>\n",
       "<text text-anchor=\"middle\" x=\"104.5\" y=\"-57.8\" font-family=\"Times,serif\" font-size=\"14.00\">No</text>\n",
       "</g>\n",
       "<!-- 8 -->\n",
       "<g id=\"node9\" class=\"node\">\n",
       "<title>8</title>\n",
       "<polygon fill=\"none\" stroke=\"red\" points=\"182,-36 98,-36 98,0 182,0 182,-36\"/>\n",
       "<text text-anchor=\"middle\" x=\"140\" y=\"-14.3\" font-family=\"Times,serif\" font-size=\"14.00\">val = &#45;0.020</text>\n",
       "</g>\n",
       "<!-- 3&#45;&gt;8 -->\n",
       "<g id=\"edge8\" class=\"edge\">\n",
       "<title>3&#45;&gt;8</title>\n",
       "<path fill=\"none\" stroke=\"black\" d=\"M140,-86.8C140,-75.16 140,-59.55 140,-46.24\"/>\n",
       "<polygon fill=\"black\" stroke=\"black\" points=\"143.5,-46.18 140,-36.18 136.5,-46.18 143.5,-46.18\"/>\n",
       "<text text-anchor=\"middle\" x=\"150.5\" y=\"-57.8\" font-family=\"Times,serif\" font-size=\"14.00\">Yes</text>\n",
       "</g>\n",
       "<!-- 9 -->\n",
       "<g id=\"node10\" class=\"node\">\n",
       "<title>9</title>\n",
       "<polygon fill=\"none\" stroke=\"red\" points=\"280,-36 200,-36 200,0 280,0 280,-36\"/>\n",
       "<text text-anchor=\"middle\" x=\"240\" y=\"-14.3\" font-family=\"Times,serif\" font-size=\"14.00\">val = 0.073</text>\n",
       "</g>\n",
       "<!-- 4&#45;&gt;9 -->\n",
       "<g id=\"edge9\" class=\"edge\">\n",
       "<title>4&#45;&gt;9</title>\n",
       "<path fill=\"none\" stroke=\"black\" d=\"M292.96,-87.21C283.44,-74.95 270.37,-58.11 259.6,-44.24\"/>\n",
       "<polygon fill=\"black\" stroke=\"black\" points=\"262.14,-41.8 253.24,-36.05 256.61,-46.09 262.14,-41.8\"/>\n",
       "<text text-anchor=\"middle\" x=\"285.5\" y=\"-57.8\" font-family=\"Times,serif\" font-size=\"14.00\">No</text>\n",
       "</g>\n",
       "<!-- 10 -->\n",
       "<g id=\"node11\" class=\"node\">\n",
       "<title>10</title>\n",
       "<polygon fill=\"none\" stroke=\"red\" points=\"382,-36 298,-36 298,0 382,0 382,-36\"/>\n",
       "<text text-anchor=\"middle\" x=\"340\" y=\"-14.3\" font-family=\"Times,serif\" font-size=\"14.00\">val = &#45;0.065</text>\n",
       "</g>\n",
       "<!-- 4&#45;&gt;10 -->\n",
       "<g id=\"edge10\" class=\"edge\">\n",
       "<title>4&#45;&gt;10</title>\n",
       "<path fill=\"none\" stroke=\"black\" d=\"M312.88,-86.8C317.58,-75.05 323.9,-59.24 329.26,-45.84\"/>\n",
       "<polygon fill=\"black\" stroke=\"black\" points=\"332.67,-46.76 333.13,-36.18 326.17,-44.16 332.67,-46.76\"/>\n",
       "<text text-anchor=\"middle\" x=\"336.5\" y=\"-57.8\" font-family=\"Times,serif\" font-size=\"14.00\">Yes</text>\n",
       "</g>\n",
       "<!-- 11 -->\n",
       "<g id=\"node12\" class=\"node\">\n",
       "<title>11</title>\n",
       "<polygon fill=\"none\" stroke=\"red\" points=\"480,-36 400,-36 400,0 480,0 480,-36\"/>\n",
       "<text text-anchor=\"middle\" x=\"440\" y=\"-14.3\" font-family=\"Times,serif\" font-size=\"14.00\">val = 0.000</text>\n",
       "</g>\n",
       "<!-- 5&#45;&gt;11 -->\n",
       "<g id=\"edge11\" class=\"edge\">\n",
       "<title>5&#45;&gt;11</title>\n",
       "<path fill=\"none\" stroke=\"black\" d=\"M466.32,-86.8C461.76,-75.05 455.62,-59.24 450.42,-45.84\"/>\n",
       "<polygon fill=\"black\" stroke=\"black\" points=\"453.55,-44.23 446.67,-36.18 447.02,-46.76 453.55,-44.23\"/>\n",
       "<text text-anchor=\"middle\" x=\"467.5\" y=\"-57.8\" font-family=\"Times,serif\" font-size=\"14.00\">No</text>\n",
       "</g>\n",
       "<!-- 12 -->\n",
       "<g id=\"node13\" class=\"node\">\n",
       "<title>12</title>\n",
       "<polygon fill=\"none\" stroke=\"red\" points=\"582,-36 498,-36 498,0 582,0 582,-36\"/>\n",
       "<text text-anchor=\"middle\" x=\"540\" y=\"-14.3\" font-family=\"Times,serif\" font-size=\"14.00\">val = &#45;0.077</text>\n",
       "</g>\n",
       "<!-- 5&#45;&gt;12 -->\n",
       "<g id=\"edge12\" class=\"edge\">\n",
       "<title>5&#45;&gt;12</title>\n",
       "<path fill=\"none\" stroke=\"black\" d=\"M486.24,-87.21C495.9,-74.95 509.17,-58.11 520.11,-44.24\"/>\n",
       "<polygon fill=\"black\" stroke=\"black\" points=\"523.12,-46.07 526.56,-36.05 517.62,-41.74 523.12,-46.07\"/>\n",
       "<text text-anchor=\"middle\" x=\"521.5\" y=\"-57.8\" font-family=\"Times,serif\" font-size=\"14.00\">Yes</text>\n",
       "</g>\n",
       "<!-- 13 -->\n",
       "<g id=\"node14\" class=\"node\">\n",
       "<title>13</title>\n",
       "<polygon fill=\"none\" stroke=\"red\" points=\"680,-36 600,-36 600,0 680,0 680,-36\"/>\n",
       "<text text-anchor=\"middle\" x=\"640\" y=\"-14.3\" font-family=\"Times,serif\" font-size=\"14.00\">val = 0.000</text>\n",
       "</g>\n",
       "<!-- 6&#45;&gt;13 -->\n",
       "<g id=\"edge13\" class=\"edge\">\n",
       "<title>6&#45;&gt;13</title>\n",
       "<path fill=\"none\" stroke=\"black\" d=\"M640,-86.8C640,-75.16 640,-59.55 640,-46.24\"/>\n",
       "<polygon fill=\"black\" stroke=\"black\" points=\"643.5,-46.18 640,-36.18 636.5,-46.18 643.5,-46.18\"/>\n",
       "<text text-anchor=\"middle\" x=\"648.5\" y=\"-57.8\" font-family=\"Times,serif\" font-size=\"14.00\">No</text>\n",
       "</g>\n",
       "<!-- 14 -->\n",
       "<g id=\"node15\" class=\"node\">\n",
       "<title>14</title>\n",
       "<polygon fill=\"none\" stroke=\"red\" points=\"782,-36 698,-36 698,0 782,0 782,-36\"/>\n",
       "<text text-anchor=\"middle\" x=\"740\" y=\"-14.3\" font-family=\"Times,serif\" font-size=\"14.00\">val = &#45;0.067</text>\n",
       "</g>\n",
       "<!-- 6&#45;&gt;14 -->\n",
       "<g id=\"edge14\" class=\"edge\">\n",
       "<title>6&#45;&gt;14</title>\n",
       "<path fill=\"none\" stroke=\"black\" d=\"M659.28,-87.61C674.21,-74.92 695.09,-57.17 711.88,-42.9\"/>\n",
       "<polygon fill=\"black\" stroke=\"black\" points=\"714.4,-45.36 719.75,-36.21 709.86,-40.02 714.4,-45.36\"/>\n",
       "<text text-anchor=\"middle\" x=\"706.5\" y=\"-57.8\" font-family=\"Times,serif\" font-size=\"14.00\">Yes</text>\n",
       "</g>\n",
       "</g>\n",
       "</svg>\n"
      ],
      "text/plain": [
       "<graphviz.graphs.Digraph at 0x7fc83083dd00>"
      ]
     },
     "execution_count": 76,
     "metadata": {},
     "output_type": "execute_result"
    }
   ],
   "source": [
    "model.plot_tree(tree_idx=7)"
   ]
  },
  {
   "cell_type": "markdown",
   "id": "a1054818-ccdd-45a1-a3e7-6efedeaf7386",
   "metadata": {},
   "source": [
    "#### CatBoost interface"
   ]
  },
  {
   "cell_type": "code",
   "execution_count": 121,
   "id": "c1baa569-ea83-4948-bb89-71c1a12f8ac8",
   "metadata": {
    "execution": {
     "iopub.execute_input": "2022-08-06T17:09:42.896506Z",
     "iopub.status.busy": "2022-08-06T17:09:42.896099Z",
     "iopub.status.idle": "2022-08-06T17:09:42.902348Z",
     "shell.execute_reply": "2022-08-06T17:09:42.901313Z",
     "shell.execute_reply.started": "2022-08-06T17:09:42.896474Z"
    },
    "tags": []
   },
   "outputs": [],
   "source": [
    "dTrain = cgb.Pool(xTrain, yTrain)\n",
    "dValid = cgb.Pool(xValid, yValid)\n",
    "dTest = cgb.Pool(xTest, yTest)"
   ]
  },
  {
   "cell_type": "code",
   "execution_count": 133,
   "id": "652b646a-44dc-41e6-8651-38865498ff53",
   "metadata": {
    "execution": {
     "iopub.execute_input": "2022-08-06T17:28:11.097457Z",
     "iopub.status.busy": "2022-08-06T17:28:11.097037Z",
     "iopub.status.idle": "2022-08-06T17:28:11.942830Z",
     "shell.execute_reply": "2022-08-06T17:28:11.942213Z",
     "shell.execute_reply.started": "2022-08-06T17:28:11.097423Z"
    },
    "tags": []
   },
   "outputs": [
    {
     "name": "stdout",
     "output_type": "stream",
     "text": [
      "Learning rate set to 0.06564\n",
      "0:\tlearn: 0.4636810\ttest: 0.4538482\tbest: 0.4538482 (0)\ttotal: 2.75ms\tremaining: 1.37s\n",
      "100:\tlearn: 0.1374874\ttest: 0.1252798\tbest: 0.1252506 (99)\ttotal: 219ms\tremaining: 864ms\n",
      "200:\tlearn: 0.1025667\ttest: 0.1185282\tbest: 0.1185282 (200)\ttotal: 394ms\tremaining: 586ms\n",
      "300:\tlearn: 0.0868420\ttest: 0.1136188\tbest: 0.1136188 (300)\ttotal: 570ms\tremaining: 377ms\n",
      "400:\tlearn: 0.0736333\ttest: 0.1091781\tbest: 0.1090910 (395)\ttotal: 743ms\tremaining: 183ms\n",
      "Stopped by overfitting detector  (50 iterations wait)\n",
      "\n",
      "bestTest = 0.1090909577\n",
      "bestIteration = 395\n",
      "\n",
      "Shrink model to first 396 iterations.\n"
     ]
    }
   ],
   "source": [
    "params = {\n",
    "    'boosting_type': 'Ordered',\n",
    "    'n_estimators': 500,\n",
    "    'max_depth': 3,\n",
    "    'early_stopping_rounds': 50,\n",
    "    'allow_writing_files': False,\n",
    "}\n",
    "\n",
    "model = cgb.train(\n",
    "    pool=dTrain, evals=dValid,\n",
    "    params=params,\n",
    "    verbose=100,\n",
    ")"
   ]
  },
  {
   "cell_type": "code",
   "execution_count": 132,
   "id": "aa569957-a421-4909-ba26-e93eb241ccd0",
   "metadata": {
    "execution": {
     "iopub.execute_input": "2022-08-06T17:27:53.482704Z",
     "iopub.status.busy": "2022-08-06T17:27:53.482251Z",
     "iopub.status.idle": "2022-08-06T17:27:53.490795Z",
     "shell.execute_reply": "2022-08-06T17:27:53.489814Z",
     "shell.execute_reply.started": "2022-08-06T17:27:53.482671Z"
    },
    "tags": []
   },
   "outputs": [
    {
     "name": "stdout",
     "output_type": "stream",
     "text": [
      "AUC = 0.9901 [CatBoost]\n"
     ]
    }
   ],
   "source": [
    "yTestPred = model.predict(dTest) # predict probability\n",
    "auc = AUC(yTest, yTestPred)\n",
    "print(f'AUC = {auc:.4f} [{model.__class__.__name__}]')"
   ]
  },
  {
   "cell_type": "markdown",
   "id": "9065c661-bd6e-4bf1-94b8-659a2847d40d",
   "metadata": {},
   "source": [
    "#### Multilabel problem"
   ]
  },
  {
   "cell_type": "code",
   "execution_count": 17,
   "id": "b2d38b23-fdc6-4b59-bc14-255a413afa6a",
   "metadata": {
    "tags": []
   },
   "outputs": [
    {
     "name": "stdout",
     "output_type": "stream",
     "text": [
      "(391, 72) (391, 6)\n"
     ]
    }
   ],
   "source": [
    "dfEmotionTrain = pd.read_csv('../data/emotions_train.csv')\n",
    "dfEmotionTest = pd.read_csv('../data/emotions_test.csv')\n",
    "\n",
    "xTrain = dfEmotionTrain.iloc[:, :-6]\n",
    "yTrain = dfEmotionTrain.iloc[:, -6:]\n",
    "xTest = dfEmotionTest.iloc[:, :-6]\n",
    "yTest = dfEmotionTest.iloc[:, -6:]\n",
    "\n",
    "print(xTrain.shape, yTrain.shape)"
   ]
  },
  {
   "cell_type": "code",
   "execution_count": 35,
   "id": "ab3c02c7-4dd5-4a5e-ab42-e7255d693552",
   "metadata": {
    "tags": []
   },
   "outputs": [
    {
     "name": "stdout",
     "output_type": "stream",
     "text": [
      "Learning rate set to 0.030182\n",
      "0:\tlearn: 0.6783843\ttotal: 442ms\tremaining: 1m 28s\n",
      "50:\tlearn: 0.3692859\ttotal: 23.4s\tremaining: 1m 8s\n",
      "100:\tlearn: 0.2811259\ttotal: 49.9s\tremaining: 48.9s\n",
      "150:\tlearn: 0.2236028\ttotal: 1m 14s\tremaining: 24.3s\n",
      "199:\tlearn: 0.1837092\ttotal: 1m 38s\tremaining: 0us\n",
      "0:01:38.843101\n"
     ]
    }
   ],
   "source": [
    "start = dt.datetime.now()\n",
    "\n",
    "algo = cgb.CatBoostClassifier(\n",
    "    # hyperparameters\n",
    "    boosting_type='Ordered',\n",
    "    learning_rate=None,\n",
    "    n_estimators=200,\n",
    "    early_stopping_rounds=20,\n",
    "    \n",
    "#     # configurations\n",
    "    loss_function='MultiLogloss',\n",
    "    allow_writing_files=False,\n",
    "    verbose=50,\n",
    ")\n",
    "model = algo.fit(xTrain, yTrain)\n",
    "\n",
    "print(dt.datetime.now() - start)"
   ]
  },
  {
   "cell_type": "code",
   "execution_count": 36,
   "id": "5126c216-3682-4c70-9e80-145f5db775d4",
   "metadata": {
    "tags": []
   },
   "outputs": [
    {
     "name": "stdout",
     "output_type": "stream",
     "text": [
      "AUC = [0.8626, 0.7567, 0.8027, 0.9346, 0.843, 0.9159] [CatBoostClassifier]\n"
     ]
    }
   ],
   "source": [
    "yTestProb = model.predict_proba(xTest)\n",
    "listAuc = AUC(yTest, yTestProb, average=None)\n",
    "listAuc = listAuc.round(4).tolist()\n",
    "\n",
    "print(f'AUC = {listAuc} [{model.__class__.__name__}]')"
   ]
  },
  {
   "cell_type": "markdown",
   "id": "f4e0879f-932a-4700-ad70-d994ab252161",
   "metadata": {},
   "source": [
    "## 4. NGBoost\n",
    "[NGBoost] (Natural Gradient Boosting) is published in 2018 by Duan and Avati in order to add probabilistic *prediction interval* to point estimation which is typically seen in most regression algorithms. However, unlike XGBoost, LightGBM and CatBoost who integrate so many hyperparameters, optimizations, suppports and customizations; NGBoost's implementation is quite simple.\n",
    "\n",
    "[NGBoost]: https://github.com/stanfordmlgroup/ngboost"
   ]
  },
  {
   "cell_type": "markdown",
   "id": "594c7257-bf04-4fd4-87c8-75e29bbb53c3",
   "metadata": {},
   "source": [
    "### 4.1. Algorithm\n",
    "*Input*: mostly the same as other tree boosting algorithms, with some differences:\n",
    "- A *parametric distribution* $\\mathcal{P}$ (for example, normal distribution with two parameters mean and standard deviation) that you think our data follows.\n",
    "- A *scoring function* $\\mathcal{S}$ which evaluates the closeness between $\\mathcal{P}$ and the observed label (think of it as the alternative for loss function in normal gradient boosting). NGBoost currently supports two options for $\\mathcal{S}$, *log likelihood* and *continuous ranked probability*.\n",
    "\n",
    "*Algorithm*: Being a boosting algorithm, NGBoost uses the same behaviour as normal gradient boosting. But instead of updating directly the predicted values of weak learners, NGBoost fit a sequence of trees *for each parameter* of the distribution $\\mathcal{P}$ so that the scoring function is minimized at each step. However, according to NGBoost's paper, the *distance* between two parameter values does not correspond to an appropriate *distance* between the distributions that those parameters identify. This motivates the *natural gradient*, thus the name of the algorithm."
   ]
  },
  {
   "cell_type": "markdown",
   "id": "d56ac5eb-e1ba-4701-b335-6cf5037ba628",
   "metadata": {},
   "source": [
    "### 4.2. Implementation\n",
    "- `Dist`: the distribution to be used, defaults to *normal distribution* (for regression) and *categorical distribution* (for classification). Being a class provided by NGBoost.\n",
    "- `Score`: the scoring rule to be used, defaults to *log score*. Being a class provided by NGBoost.\n",
    "- `Base`: the base estimator, being \n",
    "- `natural_gradient`: whether to use natural gradient or not, defaults to *True*.\n",
    "- `n_estimators`: the number of boosting stages, defaults to *500*. Larger is usually better, but should go with a lower *learning_rate* and an *early_stopping_rounds* provided. Lower can speed up training.\n",
    "- `learning_rate`: the learning rate, defaults to 0.01. Same usage as in GBM.\n",
    "- `minibatch_frac` and `col_sample`: the ratio of instances/features used in each tree, both defaults to *1*. A lower value will increase the randomness between trees that deals with overfitting and may speed up training."
   ]
  },
  {
   "cell_type": "code",
   "execution_count": 2,
   "id": "ebbb5b5a-bd7b-4fa2-8066-38cb658f5885",
   "metadata": {
    "execution": {
     "iopub.execute_input": "2022-08-20T16:54:26.333807Z",
     "iopub.status.busy": "2022-08-20T16:54:26.333425Z",
     "iopub.status.idle": "2022-08-20T16:54:27.721104Z",
     "shell.execute_reply": "2022-08-20T16:54:27.720526Z",
     "shell.execute_reply.started": "2022-08-20T16:54:26.333775Z"
    },
    "tags": [
     "remove-cell"
    ]
   },
   "outputs": [],
   "source": [
    "import datetime as dt\n",
    "import numpy as np; np.set_printoptions(precision=4, suppress=True)\n",
    "import pandas as pd\n",
    "import matplotlib.pyplot as plt\n",
    "import seaborn as sns\n",
    "plt.style.use(['seaborn', 'seaborn-whitegrid'])\n",
    "%config InlineBackend.figure_format = 'retina'\n",
    "\n",
    "from sklearn.model_selection import train_test_split, GridSearchCV\n",
    "from sklearn.metrics import mean_squared_error as MSE, mean_absolute_error as MAE, r2_score as R2\n",
    "from sklearn.tree import DecisionTreeRegressor\n",
    "from ngboost import NGBRegressor, NGBClassifier\n",
    "from ngboost.distns import Poisson, Bernoulli, k_categorical, ClassificationDistn\n",
    "from ngboost.distns import Normal, Laplace, Cauchy, Exponential, RegressionDistn\n",
    "from ngboost.scores import LogScore, CRPScore"
   ]
  },
  {
   "cell_type": "code",
   "execution_count": 6,
   "id": "f9215c85-480d-464b-a92e-6705aa25f9e8",
   "metadata": {
    "execution": {
     "iopub.execute_input": "2022-08-20T16:58:07.500221Z",
     "iopub.status.busy": "2022-08-20T16:58:07.499857Z",
     "iopub.status.idle": "2022-08-20T16:58:07.524967Z",
     "shell.execute_reply": "2022-08-20T16:58:07.523808Z",
     "shell.execute_reply.started": "2022-08-20T16:58:07.500188Z"
    },
    "tags": [
     "output_scroll"
    ]
   },
   "outputs": [
    {
     "data": {
      "text/html": [
       "<div>\n",
       "<style scoped>\n",
       "    .dataframe tbody tr th:only-of-type {\n",
       "        vertical-align: middle;\n",
       "    }\n",
       "\n",
       "    .dataframe tbody tr th {\n",
       "        vertical-align: top;\n",
       "    }\n",
       "\n",
       "    .dataframe thead th {\n",
       "        text-align: right;\n",
       "    }\n",
       "</style>\n",
       "<table border=\"1\" class=\"dataframe\">\n",
       "  <thead>\n",
       "    <tr style=\"text-align: right;\">\n",
       "      <th></th>\n",
       "      <th>crime_rate</th>\n",
       "      <th>land_rate</th>\n",
       "      <th>indus</th>\n",
       "      <th>chas</th>\n",
       "      <th>nox</th>\n",
       "      <th>room</th>\n",
       "      <th>age</th>\n",
       "      <th>distance</th>\n",
       "      <th>radial</th>\n",
       "      <th>tax</th>\n",
       "      <th>ptratio</th>\n",
       "      <th>black</th>\n",
       "      <th>lstat</th>\n",
       "      <th>price</th>\n",
       "    </tr>\n",
       "  </thead>\n",
       "  <tbody>\n",
       "    <tr>\n",
       "      <th>0</th>\n",
       "      <td>0.00632</td>\n",
       "      <td>18.0</td>\n",
       "      <td>2.31</td>\n",
       "      <td>0</td>\n",
       "      <td>0.538</td>\n",
       "      <td>6.575</td>\n",
       "      <td>65.2</td>\n",
       "      <td>4.0900</td>\n",
       "      <td>1</td>\n",
       "      <td>296</td>\n",
       "      <td>15.3</td>\n",
       "      <td>396.90</td>\n",
       "      <td>4.98</td>\n",
       "      <td>24.0</td>\n",
       "    </tr>\n",
       "    <tr>\n",
       "      <th>1</th>\n",
       "      <td>0.02731</td>\n",
       "      <td>0.0</td>\n",
       "      <td>7.07</td>\n",
       "      <td>0</td>\n",
       "      <td>0.469</td>\n",
       "      <td>6.421</td>\n",
       "      <td>78.9</td>\n",
       "      <td>4.9671</td>\n",
       "      <td>2</td>\n",
       "      <td>242</td>\n",
       "      <td>17.8</td>\n",
       "      <td>396.90</td>\n",
       "      <td>9.14</td>\n",
       "      <td>21.6</td>\n",
       "    </tr>\n",
       "    <tr>\n",
       "      <th>2</th>\n",
       "      <td>0.02729</td>\n",
       "      <td>0.0</td>\n",
       "      <td>7.07</td>\n",
       "      <td>0</td>\n",
       "      <td>0.469</td>\n",
       "      <td>7.185</td>\n",
       "      <td>61.1</td>\n",
       "      <td>4.9671</td>\n",
       "      <td>2</td>\n",
       "      <td>242</td>\n",
       "      <td>17.8</td>\n",
       "      <td>392.83</td>\n",
       "      <td>4.03</td>\n",
       "      <td>34.7</td>\n",
       "    </tr>\n",
       "    <tr>\n",
       "      <th>3</th>\n",
       "      <td>0.03237</td>\n",
       "      <td>0.0</td>\n",
       "      <td>2.18</td>\n",
       "      <td>0</td>\n",
       "      <td>0.458</td>\n",
       "      <td>6.998</td>\n",
       "      <td>45.8</td>\n",
       "      <td>6.0622</td>\n",
       "      <td>3</td>\n",
       "      <td>222</td>\n",
       "      <td>18.7</td>\n",
       "      <td>394.63</td>\n",
       "      <td>2.94</td>\n",
       "      <td>33.4</td>\n",
       "    </tr>\n",
       "    <tr>\n",
       "      <th>4</th>\n",
       "      <td>0.06905</td>\n",
       "      <td>0.0</td>\n",
       "      <td>2.18</td>\n",
       "      <td>0</td>\n",
       "      <td>0.458</td>\n",
       "      <td>7.147</td>\n",
       "      <td>54.2</td>\n",
       "      <td>6.0622</td>\n",
       "      <td>3</td>\n",
       "      <td>222</td>\n",
       "      <td>18.7</td>\n",
       "      <td>396.90</td>\n",
       "      <td>5.33</td>\n",
       "      <td>36.2</td>\n",
       "    </tr>\n",
       "  </tbody>\n",
       "</table>\n",
       "</div>"
      ],
      "text/plain": [
       "   crime_rate  land_rate  indus  chas    nox   room   age  distance  radial  \\\n",
       "0     0.00632       18.0   2.31     0  0.538  6.575  65.2    4.0900       1   \n",
       "1     0.02731        0.0   7.07     0  0.469  6.421  78.9    4.9671       2   \n",
       "2     0.02729        0.0   7.07     0  0.469  7.185  61.1    4.9671       2   \n",
       "3     0.03237        0.0   2.18     0  0.458  6.998  45.8    6.0622       3   \n",
       "4     0.06905        0.0   2.18     0  0.458  7.147  54.2    6.0622       3   \n",
       "\n",
       "   tax  ptratio   black  lstat  price  \n",
       "0  296     15.3  396.90   4.98   24.0  \n",
       "1  242     17.8  396.90   9.14   21.6  \n",
       "2  242     17.8  392.83   4.03   34.7  \n",
       "3  222     18.7  394.63   2.94   33.4  \n",
       "4  222     18.7  396.90   5.33   36.2  "
      ]
     },
     "execution_count": 6,
     "metadata": {},
     "output_type": "execute_result"
    }
   ],
   "source": [
    "dfBoston = pd.read_csv('../data/boston.csv')\n",
    "dfBoston.head()"
   ]
  },
  {
   "cell_type": "code",
   "execution_count": 7,
   "id": "b7340ddd-44f0-43be-a870-6f9f0cc01499",
   "metadata": {
    "execution": {
     "iopub.execute_input": "2022-08-20T16:58:08.357878Z",
     "iopub.status.busy": "2022-08-20T16:58:08.357530Z",
     "iopub.status.idle": "2022-08-20T16:58:08.363366Z",
     "shell.execute_reply": "2022-08-20T16:58:08.362683Z",
     "shell.execute_reply.started": "2022-08-20T16:58:08.357856Z"
    },
    "tags": []
   },
   "outputs": [],
   "source": [
    "x = dfBoston.copy()\n",
    "y = x.pop('price')\n",
    "xTrain, xTest, yTrain, yTest = train_test_split(x, y, test_size=0.2, random_state=7)"
   ]
  },
  {
   "cell_type": "code",
   "execution_count": 8,
   "id": "7131430e-daf6-4d1c-b28b-3e2d161f2741",
   "metadata": {
    "execution": {
     "iopub.execute_input": "2022-08-20T16:58:09.195748Z",
     "iopub.status.busy": "2022-08-20T16:58:09.195411Z",
     "iopub.status.idle": "2022-08-20T16:58:16.517171Z",
     "shell.execute_reply": "2022-08-20T16:58:16.516121Z",
     "shell.execute_reply.started": "2022-08-20T16:58:09.195721Z"
    },
    "tags": []
   },
   "outputs": [
    {
     "name": "stdout",
     "output_type": "stream",
     "text": [
      "[iter 0] loss=3.6106 val_loss=3.6037 scale=1.0000 norm=6.7694\n",
      "[iter 200] loss=2.2211 val_loss=2.4719 scale=2.0000 norm=3.5080\n",
      "[iter 400] loss=1.9163 val_loss=2.6082 scale=1.0000 norm=1.5952\n",
      "[iter 600] loss=1.7287 val_loss=2.9839 scale=1.0000 norm=1.4241\n",
      "[iter 800] loss=1.6338 val_loss=3.4870 scale=1.0000 norm=1.3173\n",
      "0:00:07.316115\n"
     ]
    }
   ],
   "source": [
    "start = dt.datetime.now()\n",
    "\n",
    "nIter = 1000\n",
    "\n",
    "algo = NGBRegressor(\n",
    "    Dist=Normal,\n",
    "    Score=LogScore,\n",
    "    Base=DecisionTreeRegressor(criterion='friedman_mse', max_depth=3),\n",
    "    n_estimators=nIter,\n",
    "    learning_rate=0.01,\n",
    "    minibatch_frac=0.5,\n",
    "    col_sample=0.5,\n",
    "    \n",
    "    verbose_eval=nIter/5,\n",
    "    random_state=7,\n",
    ")\n",
    "\n",
    "model = algo.fit(\n",
    "    xTrain, yTrain,\n",
    "    xTest, yTest,\n",
    "    # early_stopping_rounds=int(nIter/5)\n",
    ")\n",
    "\n",
    "end = dt.datetime.now()\n",
    "print(end - start)"
   ]
  },
  {
   "cell_type": "code",
   "execution_count": 9,
   "id": "7425465a-d356-4a97-bcde-f3b4ab31b4c4",
   "metadata": {
    "execution": {
     "iopub.execute_input": "2022-08-20T16:58:16.559313Z",
     "iopub.status.busy": "2022-08-20T16:58:16.559051Z",
     "iopub.status.idle": "2022-08-20T16:58:16.758648Z",
     "shell.execute_reply": "2022-08-20T16:58:16.757986Z",
     "shell.execute_reply.started": "2022-08-20T16:58:16.559293Z"
    },
    "tags": []
   },
   "outputs": [
    {
     "name": "stdout",
     "output_type": "stream",
     "text": [
      "R2 = 0.8455 [NGBRegressor]\n"
     ]
    }
   ],
   "source": [
    "yTestPred = model.predict(xTest)\n",
    "r2Test = R2(yTest, yTestPred)\n",
    "modelName = model.__class__.__name__\n",
    "\n",
    "print(f'R2 = {r2Test:.4f} [{modelName}]')"
   ]
  },
  {
   "cell_type": "code",
   "execution_count": 10,
   "id": "bef1aa6e-c73a-4e9c-a5d3-895657bd87f4",
   "metadata": {
    "execution": {
     "iopub.execute_input": "2022-08-20T16:58:29.616195Z",
     "iopub.status.busy": "2022-08-20T16:58:29.615757Z",
     "iopub.status.idle": "2022-08-20T16:58:29.664574Z",
     "shell.execute_reply": "2022-08-20T16:58:29.663660Z",
     "shell.execute_reply.started": "2022-08-20T16:58:29.616159Z"
    },
    "tags": []
   },
   "outputs": [
    {
     "data": {
      "text/plain": [
       "array([[0.0927, 0.0091, 0.0445, 0.0088, 0.0669, 0.1906, 0.0847, 0.1422,\n",
       "        0.0255, 0.0529, 0.0441, 0.0823, 0.1556],\n",
       "       [0.0971, 0.0244, 0.0541, 0.0098, 0.0732, 0.1563, 0.1043, 0.1235,\n",
       "        0.024 , 0.0595, 0.0522, 0.0822, 0.1393]])"
      ]
     },
     "execution_count": 10,
     "metadata": {},
     "output_type": "execute_result"
    }
   ],
   "source": [
    "model.feature_importances_"
   ]
  },
  {
   "cell_type": "markdown",
   "id": "9ea9d63d-f13c-47df-a791-e3081c1cad04",
   "metadata": {},
   "source": [
    ":::{admonition} Case study\n",
    ":class: seealso\n",
    "\n",
    "For each house in the test set, use the distribution parameters (mean and standard deviation) returned by NGBoost to find:\n",
    "- The probability that house price lies within the range $(20,25)$\n",
    "- The interval of price with $95\\%$ confidence\n",
    "\n",
    ":::"
   ]
  },
  {
   "cell_type": "code",
   "execution_count": 6,
   "id": "f773cdd5-9d02-448b-8389-30f091240993",
   "metadata": {
    "execution": {
     "iopub.execute_input": "2022-08-20T16:43:22.672099Z",
     "iopub.status.busy": "2022-08-20T16:43:22.671991Z",
     "iopub.status.idle": "2022-08-20T16:43:23.114650Z",
     "shell.execute_reply": "2022-08-20T16:43:23.114472Z",
     "shell.execute_reply.started": "2022-08-20T16:43:22.672080Z"
    },
    "tags": []
   },
   "outputs": [],
   "source": [
    "from scipy import stats\n",
    "muTest, sigmaTest = model.pred_dist(xTest).params.values()\n",
    "dist = stats.norm(muTest, sigmaTest)"
   ]
  },
  {
   "cell_type": "code",
   "execution_count": 7,
   "id": "d87f0937-c89a-4fcb-a9c7-ead2d5e6dcd1",
   "metadata": {
    "execution": {
     "iopub.execute_input": "2022-08-20T16:43:24.227960Z",
     "iopub.status.busy": "2022-08-20T16:43:24.227875Z",
     "iopub.status.idle": "2022-08-20T16:43:24.262379Z",
     "shell.execute_reply": "2022-08-20T16:43:24.262244Z",
     "shell.execute_reply.started": "2022-08-20T16:43:24.227946Z"
    },
    "tags": []
   },
   "outputs": [
    {
     "data": {
      "text/html": [
       "<div>\n",
       "<style scoped>\n",
       "    .dataframe tbody tr th:only-of-type {\n",
       "        vertical-align: middle;\n",
       "    }\n",
       "\n",
       "    .dataframe tbody tr th {\n",
       "        vertical-align: top;\n",
       "    }\n",
       "\n",
       "    .dataframe thead th {\n",
       "        text-align: right;\n",
       "    }\n",
       "</style>\n",
       "<table border=\"1\" class=\"dataframe\">\n",
       "  <thead>\n",
       "    <tr style=\"text-align: right;\">\n",
       "      <th></th>\n",
       "      <th>True</th>\n",
       "      <th>MeanPredict</th>\n",
       "      <th>Proba(20,25)</th>\n",
       "      <th>Lower(95%)</th>\n",
       "      <th>Upper(95%)</th>\n",
       "    </tr>\n",
       "  </thead>\n",
       "  <tbody>\n",
       "    <tr>\n",
       "      <th>0</th>\n",
       "      <td>21.7</td>\n",
       "      <td>23.31</td>\n",
       "      <td>0.962086</td>\n",
       "      <td>21.45</td>\n",
       "      <td>25.17</td>\n",
       "    </tr>\n",
       "    <tr>\n",
       "      <th>1</th>\n",
       "      <td>18.5</td>\n",
       "      <td>19.26</td>\n",
       "      <td>0.192169</td>\n",
       "      <td>17.60</td>\n",
       "      <td>20.93</td>\n",
       "    </tr>\n",
       "    <tr>\n",
       "      <th>2</th>\n",
       "      <td>22.2</td>\n",
       "      <td>20.80</td>\n",
       "      <td>0.775838</td>\n",
       "      <td>18.74</td>\n",
       "      <td>22.85</td>\n",
       "    </tr>\n",
       "    <tr>\n",
       "      <th>3</th>\n",
       "      <td>20.4</td>\n",
       "      <td>19.91</td>\n",
       "      <td>0.467780</td>\n",
       "      <td>17.77</td>\n",
       "      <td>22.05</td>\n",
       "    </tr>\n",
       "    <tr>\n",
       "      <th>4</th>\n",
       "      <td>8.8</td>\n",
       "      <td>5.13</td>\n",
       "      <td>0.000000</td>\n",
       "      <td>2.93</td>\n",
       "      <td>7.33</td>\n",
       "    </tr>\n",
       "    <tr>\n",
       "      <th>...</th>\n",
       "      <td>...</td>\n",
       "      <td>...</td>\n",
       "      <td>...</td>\n",
       "      <td>...</td>\n",
       "      <td>...</td>\n",
       "    </tr>\n",
       "    <tr>\n",
       "      <th>97</th>\n",
       "      <td>16.3</td>\n",
       "      <td>11.41</td>\n",
       "      <td>0.000097</td>\n",
       "      <td>6.90</td>\n",
       "      <td>15.93</td>\n",
       "    </tr>\n",
       "    <tr>\n",
       "      <th>98</th>\n",
       "      <td>17.2</td>\n",
       "      <td>14.49</td>\n",
       "      <td>0.000018</td>\n",
       "      <td>11.87</td>\n",
       "      <td>17.10</td>\n",
       "    </tr>\n",
       "    <tr>\n",
       "      <th>99</th>\n",
       "      <td>28.0</td>\n",
       "      <td>27.11</td>\n",
       "      <td>0.003637</td>\n",
       "      <td>25.57</td>\n",
       "      <td>28.65</td>\n",
       "    </tr>\n",
       "    <tr>\n",
       "      <th>100</th>\n",
       "      <td>15.2</td>\n",
       "      <td>17.79</td>\n",
       "      <td>0.016172</td>\n",
       "      <td>15.77</td>\n",
       "      <td>19.81</td>\n",
       "    </tr>\n",
       "    <tr>\n",
       "      <th>101</th>\n",
       "      <td>16.6</td>\n",
       "      <td>16.90</td>\n",
       "      <td>0.000591</td>\n",
       "      <td>15.03</td>\n",
       "      <td>18.77</td>\n",
       "    </tr>\n",
       "  </tbody>\n",
       "</table>\n",
       "<p>102 rows × 5 columns</p>\n",
       "</div>"
      ],
      "text/plain": [
       "     True  MeanPredict  Proba(20,25)  Lower(95%)  Upper(95%)\n",
       "0    21.7        23.31      0.962086       21.45       25.17\n",
       "1    18.5        19.26      0.192169       17.60       20.93\n",
       "2    22.2        20.80      0.775838       18.74       22.85\n",
       "3    20.4        19.91      0.467780       17.77       22.05\n",
       "4     8.8         5.13      0.000000        2.93        7.33\n",
       "..    ...          ...           ...         ...         ...\n",
       "97   16.3        11.41      0.000097        6.90       15.93\n",
       "98   17.2        14.49      0.000018       11.87       17.10\n",
       "99   28.0        27.11      0.003637       25.57       28.65\n",
       "100  15.2        17.79      0.016172       15.77       19.81\n",
       "101  16.6        16.90      0.000591       15.03       18.77\n",
       "\n",
       "[102 rows x 5 columns]"
      ]
     },
     "execution_count": 7,
     "metadata": {},
     "output_type": "execute_result"
    }
   ],
   "source": [
    "alpha = 0.05\n",
    "\n",
    "pd.DataFrame({\n",
    "    'True': yTest.values,\n",
    "    'MeanPredict': muTest.round(2),\n",
    "    'Proba(20,25)': (dist.cdf(25) - dist.cdf(20)).round(6),\n",
    "    'Lower(95%)': dist.ppf(alpha/2).round(2),\n",
    "    'Upper(95%)': dist.isf(alpha/2).round(2),\n",
    "})"
   ]
  },
  {
   "cell_type": "markdown",
   "id": "57173963-ca21-4727-a1b5-e380f9e3e0b1",
   "metadata": {
    "tags": []
   },
   "source": [
    "## Resources\n",
    "- *xgboost.readthedocs.io - [XGBoost documentation](https://xgboost.readthedocs.io/en/stable/index.html)*\n",
    "- *lightgbm.readthedocs.io - [LightGBM documentation](https://lightgbm.readthedocs.io/en/latest/)*\n",
    "- *stanfordmlgroup.github.io - [NGBoost documentation](https://stanfordmlgroup.github.io/ngboost/intro.html)*\n",
    "- *catboost.ai - [CatBoost documentation](https://catboost.ai/en/docs/)*\n",
    "- *cs.columbia.edu - [A short introduction to Boosting](http://www.cs.columbia.edu/~jebara/6772/papers/IntroToBoosting.pdf)*\n",
    "- *arxiv.org - [XGBoost: A scalable tree boosting system](https://arxiv.org/pdf/1603.02754.pdf)*\n",
    "- *arxiv.org - [CatBoost: Unbiased Boosting with categorical features](https://arxiv.org/pdf/1706.09516.pdf)*\n",
    "- *arxiv.org - [NGBoost: Natural Gradient Boosting for probabilistic prediction](https://arxiv.org/pdf/1910.03225.pdf)*\n",
    "- *arxiv.org - [DART: Dropouts meet Multiple Additive Regression Trees](https://arxiv.org/pdf/1505.01866.pdf)*\n",
    "- *arxiv.org - [Gradient Boosting with Piece-Wise Linear Regression Trees](https://arxiv.org/pdf/1802.05640.pdf)*\n",
    "- *papers.nips.cc - [LightGBM: A highly efficient Gradient Boosting Decision Tree](https://papers.nips.cc/paper/2017/file/6449f44a102fde848669bdd9eb6b76fa-Paper.pdf)*\n",
    "- *papers.nips.cc - [Cost efficient gradient boosting](https://papers.nips.cc/paper/2017/file/4fac9ba115140ac4f1c22da82aa0bc7f-Paper.pdf)*\n",
    "- *deep-and-shallow.com - [The Gradient Booster IV(B): NGBoost](https://deep-and-shallow.com/2020/06/27/the-gradient-boosters-vib-ngboost/)*\n",
    "- *pub.towardsai.net - [State of the Art Models in Every Machine Learning Field 2021](https://pub.towardsai.net/state-of-the-art-models-in-every-machine-learning-field-2021-c7cf074da8b2)*"
   ]
  }
 ],
 "metadata": {
  "kernelspec": {
   "display_name": "Python 3",
   "language": "python",
   "name": "python3"
  },
  "language_info": {
   "codemirror_mode": {
    "name": "ipython",
    "version": 3
   },
   "file_extension": ".py",
   "mimetype": "text/x-python",
   "name": "python",
   "nbconvert_exporter": "python",
   "pygments_lexer": "ipython3",
   "version": "3.8.8"
  },
  "vscode": {
   "interpreter": {
    "hash": "aee8b7b246df8f9039afb4144a1f6fd8d2ca17a180786b69acc140d282b71a49"
   }
  }
 },
 "nbformat": 4,
 "nbformat_minor": 5
}
