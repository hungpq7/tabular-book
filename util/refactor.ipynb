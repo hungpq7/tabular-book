{
 "cells": [
  {
   "cell_type": "code",
   "execution_count": 13,
   "id": "50bb9a42-8342-4461-a936-36f0b9f99d4e",
   "metadata": {
    "execution": {
     "iopub.execute_input": "2023-01-25T16:51:44.149638Z",
     "iopub.status.busy": "2023-01-25T16:51:44.149248Z",
     "iopub.status.idle": "2023-01-25T16:51:44.159300Z",
     "shell.execute_reply": "2023-01-25T16:51:44.158336Z",
     "shell.execute_reply.started": "2023-01-25T16:51:44.149606Z"
    },
    "tags": []
   },
   "outputs": [],
   "source": [
    "# file = '../chapter-11/tidyverse-data-wrangling.ipynb'\n",
    "\n",
    "f = open(file,'r')\n",
    "filedata = f.read()\n",
    "f.close()\n",
    "\n",
    "newdata = (\n",
    "    filedata\n",
    "    # .replace(\"###\", \"####\")\n",
    "    .replace(\"# 1.\", \"## 1.\")\n",
    "    .replace(\"# 2.\", \"## 2.\")\n",
    "    .replace(\"# 3.\", \"## 3.\")\n",
    "    .replace(\"# 4.\", \"## 4.\")\n",
    "    .replace(\"# 5.\", \"## 5.\")\n",
    "    .replace(\"<code style='font-size:13px'>\", \"`\")\n",
    "    .replace(\"<code style='font-size:13px;'>\", \"`\")\n",
    "    .replace(\"<code style='font-size:13px; color:firebrick'>\", \"`\")\n",
    "    .replace(\"</code>\", \"`\")\n",
    ")\n",
    "\n",
    "f = open(file,'w')\n",
    "f.write(newdata)\n",
    "f.close()"
   ]
  }
 ],
 "metadata": {
  "kernelspec": {
   "display_name": "Python 3",
   "language": "python",
   "name": "python3"
  },
  "language_info": {
   "codemirror_mode": {
    "name": "ipython",
    "version": 3
   },
   "file_extension": ".py",
   "mimetype": "text/x-python",
   "name": "python",
   "nbconvert_exporter": "python",
   "pygments_lexer": "ipython3",
   "version": "3.8.8"
  }
 },
 "nbformat": 4,
 "nbformat_minor": 5
}
