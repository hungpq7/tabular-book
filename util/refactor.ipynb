{
 "cells": [
  {
   "cell_type": "code",
   "execution_count": 2,
   "id": "50bb9a42-8342-4461-a936-36f0b9f99d4e",
   "metadata": {
    "tags": []
   },
   "outputs": [],
   "source": [
    "file = '../chapter-06/pyspark-machine-learning.ipynb'\n",
    "\n",
    "f = open(file,'r')\n",
    "filedata = f.read()\n",
    "f.close()\n",
    "\n",
    "newdata = (\n",
    "    filedata\n",
    "    # .replace(\"###\", \"####\")\n",
    "    # .replace(\"# 1.\", \"## 1.\")\n",
    "    # .replace(\"# 2.\", \"## 2.\")\n",
    "    # .replace(\"# 3.\", \"## 3.\")\n",
    "    # .replace(\"# 4.\", \"## 4.\")\n",
    "    # .replace(\"# 5.\", \"## 5.\")\n",
    "    .replace(\"<code style='font-size:13px'>\", \"`\")\n",
    "    .replace(\"<code style='font-size:13px;'>\", \"`\")\n",
    "    .replace(\"<code style='font-size:13px; color:firebrick'>\", \"`\")\n",
    "    .replace(\"<code style='font-size:13px; color:firebrick;'>\", \"`\")\n",
    "    .replace(\"</code>\", \"`\")\n",
    ")\n",
    "\n",
    "f = open(file,'w')\n",
    "f.write(newdata)\n",
    "f.close()"
   ]
  },
  {
   "cell_type": "code",
   "execution_count": 2,
   "id": "b366e64f-576b-4721-b35f-dfbb61b6a086",
   "metadata": {
    "execution": {
     "iopub.execute_input": "2023-01-29T07:47:38.225786Z",
     "iopub.status.busy": "2023-01-29T07:47:38.225005Z",
     "iopub.status.idle": "2023-01-29T07:47:38.230925Z",
     "shell.execute_reply": "2023-01-29T07:47:38.229261Z",
     "shell.execute_reply.started": "2023-01-29T07:47:38.225731Z"
    },
    "tags": []
   },
   "outputs": [],
   "source": [
    "import glob\n",
    "import os"
   ]
  },
  {
   "cell_type": "code",
   "execution_count": 3,
   "id": "c6e728d2-f4dd-4042-893e-97e11a9d5831",
   "metadata": {
    "execution": {
     "iopub.execute_input": "2023-01-29T07:48:04.206085Z",
     "iopub.status.busy": "2023-01-29T07:48:04.205726Z",
     "iopub.status.idle": "2023-01-29T07:48:04.221680Z",
     "shell.execute_reply": "2023-01-29T07:48:04.220842Z",
     "shell.execute_reply.started": "2023-01-29T07:48:04.206056Z"
    },
    "tags": []
   },
   "outputs": [
    {
     "data": {
      "text/plain": [
       "'*/*'"
      ]
     },
     "execution_count": 3,
     "metadata": {},
     "output_type": "execute_result"
    }
   ],
   "source": [
    "os.path.join('*/*')"
   ]
  },
  {
   "cell_type": "code",
   "execution_count": 10,
   "id": "a1666c3e-ae21-40b8-aa54-7fceb3c280db",
   "metadata": {
    "execution": {
     "iopub.execute_input": "2023-01-29T07:52:07.315992Z",
     "iopub.status.busy": "2023-01-29T07:52:07.315568Z",
     "iopub.status.idle": "2023-01-29T07:52:07.674110Z",
     "shell.execute_reply": "2023-01-29T07:52:07.672999Z",
     "shell.execute_reply.started": "2023-01-29T07:52:07.315958Z"
    },
    "tags": []
   },
   "outputs": [],
   "source": [
    "for file in glob.glob('../*/*.ipynb'):\n",
    "    f = open(file,'r')\n",
    "    filedata = f.read()\n",
    "    f.close()\n",
    "\n",
    "    newdata = (\n",
    "        filedata\n",
    "        .replace(\"## References\", \"## Resources\")\n",
    "    )\n",
    "\n",
    "    f = open(file,'w')\n",
    "    f.write(newdata)\n",
    "    f.close()"
   ]
  }
 ],
 "metadata": {
  "kernelspec": {
   "display_name": "Python 3",
   "language": "python",
   "name": "python3"
  },
  "language_info": {
   "codemirror_mode": {
    "name": "ipython",
    "version": 3
   },
   "file_extension": ".py",
   "mimetype": "text/x-python",
   "name": "python",
   "nbconvert_exporter": "python",
   "pygments_lexer": "ipython3",
   "version": "3.8.8"
  }
 },
 "nbformat": 4,
 "nbformat_minor": 5
}
