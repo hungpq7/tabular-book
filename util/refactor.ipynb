{
 "cells": [
  {
   "cell_type": "code",
   "execution_count": 2,
   "id": "50bb9a42-8342-4461-a936-36f0b9f99d4e",
   "metadata": {
    "tags": []
   },
   "outputs": [],
   "source": [
    "# file = '../chapter-06/pyspark-machine-learning.ipynb'\n",
    "\n",
    "f = open(file,'r')\n",
    "filedata = f.read()\n",
    "f.close()\n",
    "\n",
    "newdata = (\n",
    "    filedata\n",
    "    # .replace(\"###\", \"####\")\n",
    "    # .replace(\"# 1.\", \"## 1.\")\n",
    "    # .replace(\"# 2.\", \"## 2.\")\n",
    "    # .replace(\"# 3.\", \"## 3.\")\n",
    "    # .replace(\"# 4.\", \"## 4.\")\n",
    "    # .replace(\"# 5.\", \"## 5.\")\n",
    "    .replace(\"<code style='font-size:13px'>\", \"`\")\n",
    "    .replace(\"<code style='font-size:13px;'>\", \"`\")\n",
    "    .replace(\"<code style='font-size:13px; color:firebrick'>\", \"`\")\n",
    "    .replace(\"<code style='font-size:13px; color:firebrick;'>\", \"`\")\n",
    "    .replace(\"</code>\", \"`\")\n",
    ")\n",
    "\n",
    "f = open(file,'w')\n",
    "f.write(newdata)\n",
    "f.close()"
   ]
  },
  {
   "cell_type": "code",
   "execution_count": 1,
   "id": "b366e64f-576b-4721-b35f-dfbb61b6a086",
   "metadata": {
    "execution": {
     "iopub.execute_input": "2023-01-31T13:51:10.323175Z",
     "iopub.status.busy": "2023-01-31T13:51:10.322665Z",
     "iopub.status.idle": "2023-01-31T13:51:10.327055Z",
     "shell.execute_reply": "2023-01-31T13:51:10.325869Z",
     "shell.execute_reply.started": "2023-01-31T13:51:10.323092Z"
    },
    "tags": []
   },
   "outputs": [],
   "source": [
    "import glob\n",
    "import os"
   ]
  },
  {
   "cell_type": "code",
   "execution_count": 2,
   "id": "c6e728d2-f4dd-4042-893e-97e11a9d5831",
   "metadata": {
    "collapsed": true,
    "execution": {
     "iopub.execute_input": "2023-01-31T13:51:44.449784Z",
     "iopub.status.busy": "2023-01-31T13:51:44.449406Z",
     "iopub.status.idle": "2023-01-31T13:51:44.473397Z",
     "shell.execute_reply": "2023-01-31T13:51:44.464659Z",
     "shell.execute_reply.started": "2023-01-31T13:51:44.449727Z"
    },
    "jupyter": {
     "outputs_hidden": true
    },
    "tags": []
   },
   "outputs": [
    {
     "data": {
      "text/plain": [
       "['../03-data-manipulation/numpy-arrays.ipynb',\n",
       " '../03-data-manipulation/pandas-data-transformation.ipynb',\n",
       " '../03-data-manipulation/pandas-data-exploratory.ipynb',\n",
       " '../03-data-manipulation/pandas-data-cleaning.ipynb',\n",
       " '../03-data-manipulation/janitor-pandas-extensions.ipynb',\n",
       " '../util/refactor.ipynb',\n",
       " '../01-python-programing/python-data-types.ipynb',\n",
       " '../01-python-programing/python-algorithms.ipynb',\n",
       " '../01-python-programing/python-data-containers.ipynb',\n",
       " '../01-python-programing/selenium-web-scraping.ipynb',\n",
       " '../01-python-programing/python-external-sources.ipynb',\n",
       " '../01-python-programing/python-basic-concepts.ipynb',\n",
       " '../01-python-programing/python-functions-objects.ipynb',\n",
       " '../05-data-visualization/plotly-interactive-visualization.ipynb',\n",
       " '../05-data-visualization/matplotlib-graph-construction.ipynb',\n",
       " '../05-data-visualization/seaborn-statistical-visualization.ipynb',\n",
       " '../09-unsupervised-learning/sklearn-clustering.ipynb',\n",
       " '../09-unsupervised-learning/pyod-anomaly-detection.ipynb',\n",
       " '../09-unsupervised-learning/sklearn-dimensional-reduction.ipynb',\n",
       " '../09-unsupervised-learning/mlxtend-association-rules.ipynb',\n",
       " '../02-mathematics/networkx-network-analysis.ipynb',\n",
       " '../02-mathematics/numpy-statistics.ipynb',\n",
       " '../02-mathematics/numpy-probability.ipynb',\n",
       " '../02-mathematics/scipy-hypothesis-testing.ipynb',\n",
       " '../02-mathematics/sympy-calculus.ipynb',\n",
       " '../02-mathematics/numpy-linear-algebra.ipynb',\n",
       " '../02-mathematics/numpy-applied-mathematics.ipynb',\n",
       " '../08-time-series/prophet-forecasting-algorithms.ipynb',\n",
       " '../08-time-series/statsmodels-temporal-analysis.ipynb',\n",
       " '../08-time-series/sktime-forecasting-pipeline.ipynb',\n",
       " '../08-time-series/darts-deep-forecasting.ipynb',\n",
       " '../04-big-data/pyspark-data-cleaning.ipynb',\n",
       " '../04-big-data/pyspark-data-exploratory.ipynb',\n",
       " '../04-big-data/pyspark-data-transformation.ipynb',\n",
       " '../04-big-data/hiveql-data-manipulation.ipynb',\n",
       " '../04-big-data/dask-parallelized-pandas.ipynb',\n",
       " '../07-tabular-learning/imblearn-targeted-modeling.ipynb',\n",
       " '../07-tabular-learning/shap-model-interpretation.ipynb',\n",
       " '../07-tabular-learning/sklearn-ensemble-learning.ipynb',\n",
       " '../07-tabular-learning/xgboost-tree-boosting.ipynb',\n",
       " '../07-tabular-learning/ray-hyperparameter-optimization.ipynb',\n",
       " '../06-machine-learning/sklearn-classification.ipynb',\n",
       " '../06-machine-learning/lenskit-recommendation.ipynb',\n",
       " '../06-machine-learning/pyspark-machine-learning.ipynb',\n",
       " '../06-machine-learning/sklearn-machine-learning.ipynb',\n",
       " '../06-machine-learning/sklearn-regression.ipynb',\n",
       " '../06-machine-learning/sklearn-feature-engineering.ipynb',\n",
       " '../10-deep-learning/keras-recurrent-networks.ipynb',\n",
       " '../10-deep-learning/keras-multilayer-perceptron.ipynb',\n",
       " '../10-deep-learning/keras-convolutional-networks.ipynb',\n",
       " '../10-deep-learning/numpy-gradient-descent.ipynb',\n",
       " '../10-deep-learning/pytorch-deep-learning.ipynb',\n",
       " '../10-deep-learning/opencv-image-processing.ipynb',\n",
       " '../10-deep-learning/gensim-text-mining.ipynb',\n",
       " '../11-r-programing/r-statistics.ipynb',\n",
       " '../11-r-programing/ggplot-data-visualization.ipynb',\n",
       " '../11-r-programing/tidyverse-data-wrangling.ipynb',\n",
       " '../11-r-programing/r-data-structures.ipynb',\n",
       " '../11-r-programing/r-basic-concepts.ipynb',\n",
       " '../11-r-programing/dplyr-data-cleaning.ipynb']"
      ]
     },
     "execution_count": 2,
     "metadata": {},
     "output_type": "execute_result"
    }
   ],
   "source": [
    "glob.glob('../*/*.ipynb')"
   ]
  },
  {
   "cell_type": "code",
   "execution_count": 10,
   "id": "a1666c3e-ae21-40b8-aa54-7fceb3c280db",
   "metadata": {
    "execution": {
     "iopub.execute_input": "2023-01-29T07:52:07.315992Z",
     "iopub.status.busy": "2023-01-29T07:52:07.315568Z",
     "iopub.status.idle": "2023-01-29T07:52:07.674110Z",
     "shell.execute_reply": "2023-01-29T07:52:07.672999Z",
     "shell.execute_reply.started": "2023-01-29T07:52:07.315958Z"
    },
    "tags": []
   },
   "outputs": [],
   "source": [
    "for file in glob.glob('../*/*.ipynb'):\n",
    "    f = open(file,'r')\n",
    "    filedata = f.read()\n",
    "    f.close()\n",
    "\n",
    "    newdata = (\n",
    "        filedata\n",
    "        .replace(\"## References\", \"## Resources\")\n",
    "    )\n",
    "\n",
    "    f = open(file,'w')\n",
    "    f.write(newdata)\n",
    "    f.close()"
   ]
  },
  {
   "cell_type": "code",
   "execution_count": null,
   "id": "db87d1f5-4dbd-4f70-8f90-15b8b518bbbc",
   "metadata": {},
   "outputs": [],
   "source": []
  },
  {
   "cell_type": "code",
   "execution_count": null,
   "id": "b5709f4a-810b-4bdd-a86c-9a1920a40478",
   "metadata": {},
   "outputs": [],
   "source": []
  },
  {
   "cell_type": "code",
   "execution_count": null,
   "id": "f1438a4f-f662-4558-9cda-cb6c034e985d",
   "metadata": {},
   "outputs": [],
   "source": []
  }
 ],
 "metadata": {
  "kernelspec": {
   "display_name": "Python 3",
   "language": "python",
   "name": "python3"
  },
  "language_info": {
   "codemirror_mode": {
    "name": "ipython",
    "version": 3
   },
   "file_extension": ".py",
   "mimetype": "text/x-python",
   "name": "python",
   "nbconvert_exporter": "python",
   "pygments_lexer": "ipython3",
   "version": "3.8.8"
  }
 },
 "nbformat": 4,
 "nbformat_minor": 5
}
