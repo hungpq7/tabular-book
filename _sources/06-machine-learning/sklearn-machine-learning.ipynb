{
 "cells": [
  {
   "cell_type": "markdown",
   "metadata": {},
   "source": [
    "# Sklearn: Machine Learning\n",
    "[Machine Learning](https://en.wikipedia.org/wiki/Machine_learning) is the study of computer algorithms that improve automatically through experience. Machine Learning algorithms build a [mathematical model](https://en.wikipedia.org/wiki/Mathematical_model) based on sample data in order to make predictions or decisions. In Data Analytics, Machine Learning is referred to as *predictive analysis* (supervised learning) and *data mining* (unsupervised learning). There are many libraries in Python designed for Machine Learning, but we'll start with the most basic one: [Scikit-learn](https://scikit-learn.org/stable/modules/classes.html)."
   ]
  },
  {
   "cell_type": "code",
   "execution_count": 1,
   "metadata": {
    "execution": {
     "iopub.execute_input": "2023-02-14T13:44:28.511168Z",
     "iopub.status.busy": "2023-02-14T13:44:28.510542Z",
     "iopub.status.idle": "2023-02-14T13:45:00.531354Z",
     "shell.execute_reply": "2023-02-14T13:45:00.530551Z",
     "shell.execute_reply.started": "2023-02-14T13:44:28.511063Z"
    },
    "tags": []
   },
   "outputs": [],
   "source": [
    "import numpy as np\n",
    "import pandas as pd\n",
    "\n",
    "from sklearn.linear_model import LinearRegression\n",
    "from sklearn.tree import DecisionTreeClassifier\n",
    "from sklearn.neighbors import KNeighborsClassifier\n",
    "from sklearn.model_selection import train_test_split, GridSearchCV\n",
    "from sklearn.metrics import fbeta_score, make_scorer\n",
    "from sklearn.metrics import accuracy_score, precision_score, recall_score\n",
    "from sklearn.metrics import roc_auc_score, classification_report, confusion_matrix\n",
    "from sklearn.metrics import mean_squared_error, mean_absolute_error, r2_score\n",
    "\n",
    "import matplotlib.pyplot as plt\n",
    "import seaborn as sns\n",
    "plt.style.use(['seaborn', 'seaborn-whitegrid'])\n",
    "%config InlineBackend.figure_format = 'retina'"
   ]
  },
  {
   "cell_type": "markdown",
   "metadata": {},
   "source": [
    ":::{note}\n",
    "\n",
    "Supervised Machine Learning refers to algorithms that learn a general *rule* from labeled data, then use that *rule* to predict labels for new, unlabeled data. The *rule* in this context can be understood as a function mapping input (features) to output (label). Supervised learning is all about predicting labels, containing:\n",
    "- Classification\n",
    "- Regression\n",
    "- Forecasting\n",
    "- Recommendation\n",
    "\n",
    "Unsupervised Machine Learning does not require known labels, it finds hidden data patterns on their own. However, unsupervised learning is less popular and harder to evaluate the performance, compared to supervised learning. Here are some important applications of unsupervised learning:\n",
    "- Clustering\n",
    "- Dimensionality reduction\n",
    "- Anomaly detection\n",
    "\n",
    ":::"
   ]
  },
  {
   "cell_type": "markdown",
   "metadata": {},
   "source": [
    "## 1. Terminology\n",
    "This section focuses on concepts that occur in supervised Machine Learning."
   ]
  },
  {
   "cell_type": "markdown",
   "metadata": {},
   "source": [
    "### 1.1. Training\n",
    "Training is the process of generating a particular model from an algorithm."
   ]
  },
  {
   "cell_type": "markdown",
   "metadata": {},
   "source": [
    "#### Algorithm and model\n",
    "A supervised Machine Learning *algorithm* is an instruction to the computer to *learn* a *model*. A *model* can be summarized into a map $f$ that maps input variables $\\mathbf{X}$ into the output variable $\\mathbf{y}$:\n",
    "\n",
    "$$f:\\mathbf{X}\\mapsto\\mathbf{y}$$\n",
    "\n",
    "In practice, two terms *algorithm* and *model* can be used interchangeably. A Machine Learning model $f$ can be either *parametric* or *non-parametric*.\n",
    "- *Parametric models* assume the relationship between $\\mathbf{X}$ and $\\mathbf{y}$ can be described using a mathematical function with a finite number of parameters, the function form remains unchanged when the data size grows. Models of this type are very much like narrow-minded people: the function form is fixed, it makes them look at every problem the same way. Parametric models are fast, but they are unlikely to match the underlying rules in practice.\n",
    "- *Non-parametric models*, in contrast, can use an infinite number of parameters to model data relationship. Due to the high complexity and flexibility, non-parametric models have more prediction power but are also slower when fitting to the data."
   ]
  },
  {
   "cell_type": "markdown",
   "metadata": {},
   "source": [
    "#### Model\n",
    "A model is the output of a Machine Learning algorithm has run on the data. For example, the Linear Regression algorithm results in a model being a vector of parameters (also known as weights). Machine Learning uses mathematical techniques to estimate those parameters.\n",
    "\n",
    "After the parameters have been calculated, the model is saved as a file and can be used on the data it hasn't seen before to make predictions."
   ]
  },
  {
   "cell_type": "markdown",
   "metadata": {},
   "source": [
    "#### Loss function\n",
    "Loss function is a function that maps a model to its associated cost. In Machine Learning, loss functions usually evaluate the error; for example, the difference between real values and predicted values. Each algorithm tries to minimize its own loss function to estimate the parameters."
   ]
  },
  {
   "cell_type": "markdown",
   "metadata": {},
   "source": [
    "#### Optimization\n",
    "In multivariate calculus, the gradient of a multivariable function $f(x,y,z,\\dots)$, denoted $\\nabla{f}$ is a vector that stores all partial derivatives.\n",
    "\n",
    "$$\\nabla{f} =\n",
    "\\begin{bmatrix}\n",
    "\\frac{\\partial{f}}{\\partial{x}} &\n",
    "\\frac{\\partial{f}}{\\partial{y}} &\n",
    "\\frac{\\partial{f}}{\\partial{z}} &\n",
    "\\cdots &\n",
    "\\end{bmatrix}^T$$\n",
    "\n",
    "At every local minimum or local maximum of the function $f(x,y,z,\\dots)$, the gradient $\\nabla{f}$ is $\\mathbf{0}$. By solving the linear system, we can find extreme points can be found and then compare them to find the minimum and maximum. The steps above show how to use gradient to find the minimum of a loss function and the associated values of parameters. However, for very large linear systems, solving them directly seems impossible.\n",
    "\n",
    "Therefore, an iterative method called gradient descent is commonly used as the optimization algorithm in Machine Learning. The algorithm begins at a point (initial value), moves in the opposite direction of the gradient and stops when $\\|\\nabla{f}\\|_2 \\approx 0$.\n",
    "\n",
    "Gradient descent has a parameter, $\\eta$ - the learning rate, represents how fast the algorithm goes down. A high learning rate means fewer iterations to perform, but we risk bypassing the lowest point. A low learning rate makes sure we can always reach the bottom, but it can take a very long time."
   ]
  },
  {
   "cell_type": "markdown",
   "metadata": {},
   "source": [
    "### 1.2. Validating\n",
    "Validating is the process of finding optimal hyperparameters. Also called hyperparameters tuning."
   ]
  },
  {
   "cell_type": "markdown",
   "metadata": {},
   "source": [
    "#### Hyperparameters\n",
    "A hyperparameter is a configuration that is external to the model. Hyperparameters cannot be estimated since they need to be set before fitting the algorithm. They are optimized using rules of thumb or trial and error."
   ]
  },
  {
   "cell_type": "markdown",
   "metadata": {},
   "source": [
    "#### Metrics\n",
    "Metrics are the formulas that evaluate the performance of Machine Learning models. The metrics are selected depend on the type of algorithm, which can be either regression, classification or clustering. Also notice that multiple metrics can be used on a single model; and the loss function can also be used as a metric."
   ]
  },
  {
   "cell_type": "markdown",
   "metadata": {},
   "source": [
    "#### Validation\n",
    "The final purpose of a Machine Learning model is to work well on completely new data. To achieve this, we perform validation:\n",
    "- Step 1: Randomly split the data into 3 sets: training set, validation set and test set. The ratio is usually 70:15:15 or 80:10:10.\n",
    "- Step 2: Fit the algorithm on the training data. Then use the output model to predict label for the validation set and evaluate the performance.\n",
    "- Step 3: Repeat step 2 with different values of hyperparameters to find the model with the best performance.\n",
    "- Step 4: Apply the model to the test data and calculate metrics."
   ]
  },
  {
   "cell_type": "markdown",
   "metadata": {},
   "source": [
    "#### Cross validation\n",
    "Considering validation, when the data is not large enough, the training set and the test set may not distribute the same way, which leads to bias. A technique called cross validation my be used to handle the situation.\n",
    "- Step 1: Randomly divide the entire dataset into $k$ equal folds ($k$ is usually from 5 to 10).\n",
    "- Step 2: Run a loop through each of the $k$ folds. In each iteration:\n",
    "    - Take the selected fold as the test set and take the $k-1$ remaining folds to form the training set\n",
    "    - Fit the algorithm on the training set and evaluate it on the test set\n",
    "    - Retain the metric and discard the model\n",
    "- Step 3: Fit the algorithm on the entire data to get the final model. Then calculate the average of the recorded scores as the overall performance metric for the model. The standard deviation of the scores should not be too high.\n",
    "\n",
    ":::{image} ../image/cross_validation.png\n",
    ":height: 300px\n",
    ":align: center\n",
    ":::"
   ]
  },
  {
   "cell_type": "markdown",
   "metadata": {},
   "source": [
    "### 1.3. Testing"
   ]
  },
  {
   "cell_type": "markdown",
   "metadata": {},
   "source": [
    "#### Goodness of fit\n",
    "Generalization is the ability of a model to give sensible output when given the data is has never seen before. A model generalizes well if it is neither *underfitting* nor *overfitting*.\n",
    "\n",
    ":::{image} ../image/goodness_of_fit.png\n",
    ":height: 250px\n",
    ":align: center\n",
    ":::\n",
    "<br>\n",
    "\n",
    "*Overfitting* refers to the situation that the performance of a model is very good on the training set but drops significantly over the test set. This can be explained that the model has learned the noises and random fluctuations from the training data, which do not occur on new data. *Early stopping* and *regularization* are two popular techniques to reduce overfitting.\n",
    "\n",
    "*Underfitting* can be recognized when the model performs poorly on both the test and the training set. The reason behind this is the model is not complex enough to capture patterns from the training data, so obviously there is no way it can work well on new data. The only thing that can be done to prevent underfitting is increasing the complexity of the model."
   ]
  },
  {
   "cell_type": "markdown",
   "metadata": {},
   "source": [
    "#### Data leakage\n",
    "Data leakage refers to the situation when information from the outside training dataset is used to create the model. This causes the result of the model unreliable, and when such a model is used on truly unseen data, performance will be much lower than expected. There are some common causes of data leakage:\n",
    "- *Preprocessing*: Make sure these transformations only have knowledge of the training set, even though they are applied to the test set as well. When using pre-processor, you must *fit* it to the training set instead of the entire dataset, and only use *transform* method on the testing data.\n",
    "- *Duplicates*: The training and testing set can contain the same data point if the dataset has duplicate values, data cleaning must be used before applying the model. In some cases, duplicate values must be kept, be careful when splitting train-test.\n",
    "- *Temporal data* (implicit data): Even when you are not explicitly leaking information, you may still experience data leakage if there are dependencies between the test and train set. This usually happens with time series data, for example, the training set contains $x_1$ and $x_3$ while the test set contains $x_2$. In this case, the model was trained on future knowledge, so its result will be unrealistic. In order to fix this problem, make sure that the test-train split is also split across time.\n",
    "\n",
    "According to the causes of data leakage, there are some methods to prevent it.\n",
    "- Using cross-validation, create validation set separately.\n",
    "- Apply preprocessors to train and test sets separately\n",
    "- Doing EDA carefully, such as dropping the features which have high correlation with the target and removing duplicated values.\n",
    "- Choose the cutting point with time-series data to prevent unrealistic prediction"
   ]
  },
  {
   "cell_type": "markdown",
   "metadata": {},
   "source": [
    "## 2. Evaluation\n",
    "This section discusses evaluation metrics for supervised tasks, specifically classification and regression, and [their implementations](https://scikit-learn.org/stable/modules/classes.html#sklearn-metrics-metrics) in Scikit-learn."
   ]
  },
  {
   "cell_type": "markdown",
   "metadata": {},
   "source": [
    "### 2.1. Classification metrics"
   ]
  },
  {
   "cell_type": "code",
   "execution_count": 24,
   "metadata": {
    "execution": {
     "iopub.execute_input": "2022-03-06T18:36:06.672393Z",
     "iopub.status.busy": "2022-03-06T18:36:06.672080Z",
     "iopub.status.idle": "2022-03-06T18:36:06.687408Z",
     "shell.execute_reply": "2022-03-06T18:36:06.686449Z",
     "shell.execute_reply.started": "2022-03-06T18:36:06.672366Z"
    },
    "tags": [
     "remove-cell"
    ]
   },
   "outputs": [],
   "source": [
    "import numpy as np\n",
    "import pandas as pd\n",
    "\n",
    "from sklearn.tree import DecisionTreeClassifier\n",
    "from sklearn.neighbors import KNeighborsClassifier\n",
    "from sklearn.metrics import accuracy_score, precision_score, recall_score, fbeta_score\n",
    "from sklearn.metrics import roc_auc_score, classification_report, confusion_matrix\n",
    "\n",
    "import matplotlib.pyplot as plt\n",
    "import seaborn as sns\n",
    "plt.style.use(['seaborn', 'seaborn-whitegrid'])\n",
    "%config InlineBackend.figure_format = 'retina'"
   ]
  },
  {
   "cell_type": "code",
   "execution_count": 57,
   "metadata": {
    "execution": {
     "iopub.execute_input": "2022-03-06T19:11:07.468316Z",
     "iopub.status.busy": "2022-03-06T19:11:07.468044Z",
     "iopub.status.idle": "2022-03-06T19:11:07.602345Z",
     "shell.execute_reply": "2022-03-06T19:11:07.601702Z",
     "shell.execute_reply.started": "2022-03-06T19:11:07.468294Z"
    },
    "tags": []
   },
   "outputs": [],
   "source": [
    "df = pd.read_csv('../data/credit_scoring.csv')\n",
    "df = df.fillna(0)\n",
    "x = df.drop(columns='bad_customer').values\n",
    "y = df.bad_customer.values"
   ]
  },
  {
   "cell_type": "code",
   "execution_count": 58,
   "metadata": {
    "execution": {
     "iopub.execute_input": "2022-03-06T19:11:08.306096Z",
     "iopub.status.busy": "2022-03-06T19:11:08.305784Z",
     "iopub.status.idle": "2022-03-06T19:11:09.136182Z",
     "shell.execute_reply": "2022-03-06T19:11:09.135564Z",
     "shell.execute_reply.started": "2022-03-06T19:11:08.306069Z"
    },
    "tags": []
   },
   "outputs": [],
   "source": [
    "algo = DecisionTreeClassifier(max_depth=15)\n",
    "model = algo.fit(x, y)\n",
    "\n",
    "yTrue = y.copy()\n",
    "yProb = model.predict_proba(x)[:, 1]\n",
    "yPred = model.predict(x)"
   ]
  },
  {
   "cell_type": "markdown",
   "metadata": {},
   "source": [
    "#### Confusion matrix\n",
    "[Confusion matrix](https://en.wikipedia.org/wiki/Confusion_matrix) is a visualization for the performance of classification algorithms. Each column represents the number of observations in an actual class and each row represents the number of observations in a predicted class.\n",
    "\n",
    ":::{image} ../image/confusion_matrix_binary.png\n",
    ":height: 250px\n",
    ":align: center\n",
    ":::\n",
    "<br>\n",
    "\n",
    "However, in real-world problems, sometimes a class is more important than the others. From the perspective of that class (orange, for example), an observation may have the following statuses:\n",
    "- Positive if the predicted class is orange, Negative if the predicted class is not orange\n",
    "- True if the predicted class is correct, False if the predicted class is incorrect\n",
    "\n",
    "The combination of the statuses above are: TP (True Positive), TN (True Negative), FP (False Positive) and FN (False Negative), which are used to calculate metrics for classification algorithms. These terms are arranged in a single table:\n",
    "\n",
    ":::{image} ../image/confusion_matrix_multiclass.png\n",
    ":height: 300px\n",
    ":align: center\n",
    ":::\n",
    "<br>"
   ]
  },
  {
   "cell_type": "code",
   "execution_count": 11,
   "metadata": {
    "execution": {
     "iopub.execute_input": "2022-03-06T18:25:41.777450Z",
     "iopub.status.busy": "2022-03-06T18:25:41.776968Z",
     "iopub.status.idle": "2022-03-06T18:25:41.799577Z",
     "shell.execute_reply": "2022-03-06T18:25:41.798431Z",
     "shell.execute_reply.started": "2022-03-06T18:25:41.777409Z"
    },
    "tags": []
   },
   "outputs": [
    {
     "data": {
      "text/plain": [
       "array([[139452,    522],\n",
       "       [  5664,   4362]])"
      ]
     },
     "execution_count": 11,
     "metadata": {},
     "output_type": "execute_result"
    }
   ],
   "source": [
    "confusion_matrix(yTrue, yPred)"
   ]
  },
  {
   "cell_type": "code",
   "execution_count": 12,
   "metadata": {
    "execution": {
     "iopub.execute_input": "2022-03-06T18:25:42.800359Z",
     "iopub.status.busy": "2022-03-06T18:25:42.800019Z",
     "iopub.status.idle": "2022-03-06T18:25:42.820316Z",
     "shell.execute_reply": "2022-03-06T18:25:42.819517Z",
     "shell.execute_reply.started": "2022-03-06T18:25:42.800313Z"
    },
    "tags": []
   },
   "outputs": [],
   "source": [
    "((tn, fp), (fn, tp)) = confusion_matrix(yTrue, yPred)"
   ]
  },
  {
   "cell_type": "markdown",
   "metadata": {},
   "source": [
    "#### Accuracy\n",
    "Accuracy treats all the classes equally, since it calculates the True rate, which is the number of correct predictions over the total of predictions made. Accuracy is the default classification metric used in Scikit-learn.\n",
    "\n",
    "$$\\mathrm{Accuracy} = \\frac{\\mathrm{T}}{\\mathrm{T}+\\mathrm{F}}$$\n",
    "\n",
    "Accuracy is a good measure when the classes are (nearly) balanced; however, it should never be used when the majority of the data falls into a single class. For example, there are 5 people have cancer out of 100 observations, and a predictive model classifies all 100 people have no cancer. So even it is very terrible at predicting cancer, such a bad model still has an Accuracy of 95%."
   ]
  },
  {
   "cell_type": "code",
   "execution_count": 59,
   "metadata": {
    "execution": {
     "iopub.execute_input": "2022-03-06T19:11:11.369958Z",
     "iopub.status.busy": "2022-03-06T19:11:11.369532Z",
     "iopub.status.idle": "2022-03-06T19:11:11.386650Z",
     "shell.execute_reply": "2022-03-06T19:11:11.385468Z",
     "shell.execute_reply.started": "2022-03-06T19:11:11.369918Z"
    },
    "tags": []
   },
   "outputs": [
    {
     "data": {
      "text/plain": [
       "0.9588466666666666"
      ]
     },
     "execution_count": 59,
     "metadata": {},
     "output_type": "execute_result"
    }
   ],
   "source": [
    "accuracy_score(yTrue, yPred)"
   ]
  },
  {
   "cell_type": "code",
   "execution_count": 60,
   "metadata": {
    "execution": {
     "iopub.execute_input": "2022-03-06T19:11:19.021452Z",
     "iopub.status.busy": "2022-03-06T19:11:19.021127Z",
     "iopub.status.idle": "2022-03-06T19:11:19.056211Z",
     "shell.execute_reply": "2022-03-06T19:11:19.055186Z",
     "shell.execute_reply.started": "2022-03-06T19:11:19.021418Z"
    },
    "tags": []
   },
   "outputs": [
    {
     "data": {
      "text/plain": [
       "0.9588466666666666"
      ]
     },
     "execution_count": 60,
     "metadata": {},
     "output_type": "execute_result"
    }
   ],
   "source": [
    "# accuracy is also the default metric\n",
    "model.score(x, y)"
   ]
  },
  {
   "cell_type": "markdown",
   "metadata": {},
   "source": [
    "#### Precision\n",
    "The Precision of a class shares the same meaning with Accuracy, but it considers only Positive predictions. It is calculated as the proportion of those Positive predictions are actually Positive.\n",
    "\n",
    "$$\\mathrm{Precision} = \\frac{\\mathrm{TP}}{\\mathrm{TP}+\\mathrm{FP}}$$\n",
    "\n",
    "Precision should be used when you want to make classification for one class as good as possible. For example, a video recommendation system classifies Positive for relevant videos and Negative for non-relevant ones. The recommended videos should be relevant to the users, so the system should have a high Precision."
   ]
  },
  {
   "cell_type": "code",
   "execution_count": 18,
   "metadata": {
    "execution": {
     "iopub.execute_input": "2022-03-06T18:32:06.674013Z",
     "iopub.status.busy": "2022-03-06T18:32:06.673754Z",
     "iopub.status.idle": "2022-03-06T18:32:06.715630Z",
     "shell.execute_reply": "2022-03-06T18:32:06.714771Z",
     "shell.execute_reply.started": "2022-03-06T18:32:06.673992Z"
    },
    "tags": []
   },
   "outputs": [
    {
     "data": {
      "text/plain": [
       "0.8912202077816256"
      ]
     },
     "execution_count": 18,
     "metadata": {},
     "output_type": "execute_result"
    }
   ],
   "source": [
    "precision_score(yTrue, yPred, pos_label=1)"
   ]
  },
  {
   "cell_type": "markdown",
   "metadata": {},
   "source": [
    "#### Recall\n",
    "The per-class Recall, also known as Sensitivity, measures the proportion of actual Positive observations that are correctly classified.\n",
    "\n",
    "$$\\mathrm{Recall} = \\frac{\\mathrm{TP}}{\\mathrm{TP}+\\mathrm{FN}}$$\n",
    "\n",
    "If you don't want to mispredict any real Positive case, then you need Recall. For example, a COVID-19 test kit must detect as many infected people (Positive) as possible, so it should have a high Recall."
   ]
  },
  {
   "cell_type": "code",
   "execution_count": 19,
   "metadata": {
    "execution": {
     "iopub.execute_input": "2022-03-06T18:32:15.303889Z",
     "iopub.status.busy": "2022-03-06T18:32:15.303245Z",
     "iopub.status.idle": "2022-03-06T18:32:15.348250Z",
     "shell.execute_reply": "2022-03-06T18:32:15.347394Z",
     "shell.execute_reply.started": "2022-03-06T18:32:15.303848Z"
    },
    "tags": []
   },
   "outputs": [
    {
     "data": {
      "text/plain": [
       "0.43636544983044084"
      ]
     },
     "execution_count": 19,
     "metadata": {},
     "output_type": "execute_result"
    }
   ],
   "source": [
    "recall_score(yTrue, yPred, pos_label=1)"
   ]
  },
  {
   "cell_type": "markdown",
   "metadata": {},
   "source": [
    "#### F-score\n",
    "Machine Learning is full of trade-offs, oftentimes your classifier does not have good Precision and good Recall at the same time. A single metric that summarizes both is needed, and that's where F-score is used.\n",
    "\n",
    "$$\n",
    "F_1 = \\left(\\frac{1}{2}\\cdot\\mathrm{Precision}^{-1}+\\frac{1}{2}\\cdot\\mathrm{Recall}^{-1}\\right)^{-1}\n",
    "$$\n",
    "\n",
    "To compute $F_1$ score, the harmonic mean is used instead of the usual arithmetic mean since this method gives a higher weight to the lower quantity of the two. For example, a classifier has a Precision of 10% and a Recall of 90%, then their harmonic mean is 18% while their arithmetic mean is 50%. So, a high $F_1$ score ensures that the Precision and Recall are both high.\n",
    "\n",
    "However, there is a disadvantage of $F_1$ score is that it treats both Precision and Recall equally. Sometimes it is required to include domain knowledge in the model, specifically more Recall or more Precision. To solve this, we add a weight to Recall, denoted $\\beta$, to control the trade-off between Precision and Recall. $\\beta$ implies how many times is Recall more important than Precision.\n",
    "\n",
    "$$\n",
    "F_{\\beta} = \\left(\\frac{1}{1+\\beta^2}\\cdot\\mathrm{Precision}^{-1} + \\frac{\\beta^2}{1+\\beta^2}\\cdot\\mathrm{Recall}^{-1}\\right)^{-1}\n",
    "$$"
   ]
  },
  {
   "cell_type": "code",
   "execution_count": 23,
   "metadata": {
    "execution": {
     "iopub.execute_input": "2022-03-06T18:34:19.184885Z",
     "iopub.status.busy": "2022-03-06T18:34:19.184590Z",
     "iopub.status.idle": "2022-03-06T18:34:19.226014Z",
     "shell.execute_reply": "2022-03-06T18:34:19.225105Z",
     "shell.execute_reply.started": "2022-03-06T18:34:19.184860Z"
    },
    "tags": []
   },
   "outputs": [
    {
     "data": {
      "text/plain": [
       "0.7374755579529363"
      ]
     },
     "execution_count": 23,
     "metadata": {},
     "output_type": "execute_result"
    }
   ],
   "source": [
    "fbeta_score(yTrue, yPred, beta=1/2, pos_label=1)"
   ]
  },
  {
   "cell_type": "markdown",
   "metadata": {},
   "source": [
    "#### AUROC\n",
    "AUROC stands for Area Under the ROC curve, the name shows how it is calculated. The value of AUROC is in the range $[0,1]$, where higher value means better ability in distinguishing the two classes. AUROC is a well-rounded metric and is widely used in real world classification problems."
   ]
  },
  {
   "cell_type": "code",
   "execution_count": 62,
   "metadata": {
    "execution": {
     "iopub.execute_input": "2022-03-06T19:12:20.236979Z",
     "iopub.status.busy": "2022-03-06T19:12:20.236700Z",
     "iopub.status.idle": "2022-03-06T19:12:20.273914Z",
     "shell.execute_reply": "2022-03-06T19:12:20.272716Z",
     "shell.execute_reply.started": "2022-03-06T19:12:20.236954Z"
    },
    "tags": []
   },
   "outputs": [
    {
     "data": {
      "text/plain": [
       "0.9201729303801544"
      ]
     },
     "execution_count": 62,
     "metadata": {},
     "output_type": "execute_result"
    }
   ],
   "source": [
    "roc_auc_score(yTrue, yProb)"
   ]
  },
  {
   "cell_type": "markdown",
   "metadata": {},
   "source": [
    "#### Multi-class metrics\n",
    "Notice that except for Accuracy, all the above metrics are defined for binary classification. In multi-class problems, they can only measure the performance of a class versus the rest. Here is how the overall metric of the model is calculated, let's take Precision as an example:\n",
    "- Micro Precision, by taking the average TP and FP for each class, then applying the same per-class formula.\n",
    "\n",
    "$$\\mathrm{MicroPrecision}=\\frac{\\sum{\\mathrm{TP}_c}}{\\sum{\\mathrm{TP}_c}+\\sum{\\mathrm{FP}_c}}$$\n",
    "\n",
    "- Macro Precision, by taking the arithmetic mean of Precision of all classes ($C$ is the number of classes).\n",
    "\n",
    "$$\\mathrm{MacroPrecision}=\\frac{1}{C}\\sum{\\mathrm{Precision}_c}$$\n",
    "\n",
    "- Weighted Precision, by taking the weighted sum of Precision of all classes. The weight $w_c$ is defined as the proportion of each class.\n",
    "\n",
    "$$\\mathrm{WeightedPrecision}=\\sum{w_c\\cdot\\mathrm{Precision}_c}$$\n",
    "\n",
    "The Scikit-learn library provides the `classification_report` function that calculates both per-class metrics and overall metrics."
   ]
  },
  {
   "cell_type": "code",
   "execution_count": 47,
   "metadata": {
    "execution": {
     "iopub.execute_input": "2022-03-06T19:04:22.385979Z",
     "iopub.status.busy": "2022-03-06T19:04:22.385584Z",
     "iopub.status.idle": "2022-03-06T19:04:22.555933Z",
     "shell.execute_reply": "2022-03-06T19:04:22.555140Z",
     "shell.execute_reply.started": "2022-03-06T19:04:22.385940Z"
    },
    "tags": []
   },
   "outputs": [
    {
     "name": "stdout",
     "output_type": "stream",
     "text": [
      "              precision    recall  f1-score   support\n",
      "\n",
      "           0       0.96      1.00      0.98    139974\n",
      "           1       0.89      0.44      0.59     10026\n",
      "\n",
      "    accuracy                           0.96    150000\n",
      "   macro avg       0.93      0.72      0.78    150000\n",
      "weighted avg       0.96      0.96      0.95    150000\n",
      "\n"
     ]
    }
   ],
   "source": [
    "report = classification_report(yTrue, yPred)\n",
    "print(report)"
   ]
  },
  {
   "cell_type": "markdown",
   "metadata": {},
   "source": [
    "#### Customized metrics\n",
    "The default metric used in Scikit-learn is Accuracy, however you can use another metric, or even a [customized one](https://scikit-learn.org/stable/modules/model_evaluation.html#the-scoring-parameter-defining-model-evaluation-rules) using the `scoring` parameter. It takes a string as input, where available options can be found in the reference. For a complex metric, the function requires to define it first."
   ]
  },
  {
   "cell_type": "code",
   "execution_count": 12,
   "metadata": {
    "tags": [
     "remove-cell"
    ]
   },
   "outputs": [],
   "source": [
    "import numpy as np\n",
    "from sklearn.model_selection import GridSearchCV\n",
    "from sklearn.metrics import make_scorer, fbeta_score\n",
    "from sklearn.neighbors import KNeighborsClassifier"
   ]
  },
  {
   "cell_type": "code",
   "execution_count": 13,
   "metadata": {},
   "outputs": [],
   "source": [
    "clf = KNeighborsClassifier()\n",
    "params_grid = {'n_neighbors': [3, 4, 5]}\n",
    "metric = make_scorer(fbeta_score, beta=4)"
   ]
  },
  {
   "cell_type": "code",
   "execution_count": 14,
   "metadata": {},
   "outputs": [],
   "source": [
    "cv = GridSearchCV(clf, params_grid, scoring='precision')\n",
    "cv = GridSearchCV(clf, params_grid, scoring=metric)"
   ]
  },
  {
   "cell_type": "markdown",
   "metadata": {},
   "source": [
    "### 2.2. Classification visualization\n",
    "This section visualizes the performance of binary classification problems."
   ]
  },
  {
   "cell_type": "code",
   "execution_count": 1,
   "metadata": {
    "tags": [
     "remove-cell"
    ]
   },
   "outputs": [],
   "source": [
    "import numpy as np\n",
    "import pandas as pd\n",
    "\n",
    "from xgboost import XGBClassifier\n",
    "from sklearn.tree import DecisionTreeClassifier\n",
    "from sklearn.neighbors import KNeighborsClassifier\n",
    "from sklearn.metrics import confusion_matrix\n",
    "\n",
    "import matplotlib.pyplot as plt\n",
    "import seaborn as sns\n",
    "\n",
    "plt.style.use(['seaborn', 'seaborn-whitegrid'])\n",
    "%config InlineBackend.figure_format = 'retina'"
   ]
  },
  {
   "cell_type": "code",
   "execution_count": 2,
   "metadata": {
    "tags": []
   },
   "outputs": [],
   "source": [
    "df = pd.read_csv('../data/credit_scoring.csv')\n",
    "df = df.fillna(0)\n",
    "x = df.drop(columns='bad_customer').values\n",
    "y = df.bad_customer.values"
   ]
  },
  {
   "cell_type": "code",
   "execution_count": 3,
   "metadata": {
    "tags": []
   },
   "outputs": [],
   "source": [
    "algo = XGBClassifier()\n",
    "model = algo.fit(x, y)\n",
    "\n",
    "yTrue = y.copy()\n",
    "yProb = model.predict_proba(x)[:, 1]\n",
    "yPred = model.predict(x)"
   ]
  },
  {
   "cell_type": "code",
   "execution_count": 4,
   "metadata": {
    "execution": {
     "iopub.execute_input": "2023-02-14T16:43:01.649870Z",
     "iopub.status.busy": "2023-02-14T16:43:01.649479Z",
     "iopub.status.idle": "2023-02-14T16:43:01.656042Z",
     "shell.execute_reply": "2023-02-14T16:43:01.655409Z",
     "shell.execute_reply.started": "2023-02-14T16:43:01.649833Z"
    },
    "tags": []
   },
   "outputs": [
    {
     "data": {
      "text/plain": [
       "(150000,)"
      ]
     },
     "execution_count": 4,
     "metadata": {},
     "output_type": "execute_result"
    }
   ],
   "source": [
    "yTrue.shape"
   ]
  },
  {
   "cell_type": "code",
   "execution_count": 5,
   "metadata": {
    "execution": {
     "iopub.execute_input": "2023-02-14T16:43:01.657857Z",
     "iopub.status.busy": "2023-02-14T16:43:01.657501Z",
     "iopub.status.idle": "2023-02-14T16:43:01.663839Z",
     "shell.execute_reply": "2023-02-14T16:43:01.662333Z",
     "shell.execute_reply.started": "2023-02-14T16:43:01.657827Z"
    },
    "tags": []
   },
   "outputs": [
    {
     "data": {
      "text/plain": [
       "(150000,)"
      ]
     },
     "execution_count": 5,
     "metadata": {},
     "output_type": "execute_result"
    }
   ],
   "source": [
    "yProb.shape"
   ]
  },
  {
   "cell_type": "markdown",
   "metadata": {},
   "source": [
    "#### Precision-Recall chart\n",
    "PR Chart plots the values of Precision and Recall at different thresholds. Looking at this graph allows Data Scientists to understand deeply about the trade-off between Precision and Recall and can select an optimal threshold."
   ]
  },
  {
   "cell_type": "code",
   "execution_count": 4,
   "metadata": {
    "render": {
     "image": {
      "align": "center",
      "scale": "50%"
     }
    },
    "tags": [
     "hide-input"
    ]
   },
   "outputs": [],
   "source": [
    "def plotPRChart(yTrue, yProb, beta=1, ax=None):\n",
    "    from sklearn.metrics import precision_recall_curve\n",
    "    precision, recall, threshold = precision_recall_curve(yTrue, yProb)\n",
    "    precision = precision[:-1]\n",
    "    recall = recall[:-1]\n",
    "    if beta is not None:\n",
    "        fbeta = 1 / (1/(1+beta**2)/precision + beta**2/(1+beta**2)/recall)\n",
    "\n",
    "    if ax is None:\n",
    "        ax = plt.gca()\n",
    "    ax.plot(threshold, precision, label='Precision')\n",
    "    ax.plot(threshold, recall, label='Recall')\n",
    "    ax.plot(threshold, fbeta, ls='--', label='F-beta')\n",
    "    ax.set_xlabel('Threshold')\n",
    "    ax.set_ylabel('Score')\n",
    "    ax.legend()\n",
    "    ax.axis('scaled')\n",
    "    return ax"
   ]
  },
  {
   "cell_type": "code",
   "execution_count": 5,
   "metadata": {
    "render": {
     "image": {
      "align": "center",
      "scale": "50%"
     }
    },
    "tags": []
   },
   "outputs": [
    {
     "data": {
      "image/png": "[encoded data removed]",
      "text/plain": [
       "<Figure size 576x396 with 1 Axes>"
      ]
     },
     "metadata": {
      "image/png": {
       "height": 343,
       "width": 344
      }
     },
     "output_type": "display_data"
    }
   ],
   "source": [
    "plotPRChart(yTrue, yProb, beta=1)\n",
    "plt.show()"
   ]
  },
  {
   "cell_type": "markdown",
   "metadata": {},
   "source": [
    "#### ROC curve\n",
    "The [Receiver Operating Characteristics](https://en.wikipedia.org/wiki/Receiver_operating_characteristic) (ROC) curve is plotted with TPR (True Positive Rate) against FPR (False Positive Rate) at different decision thresholds. It gives an overview about how well the model distinguishes between the two classes.\n",
    "\n",
    "$$\\mathrm{TPR}=\\mathrm{Recall}=\\mathrm{Sensitivity} = \n",
    "\\frac{\\mathrm{TP}}{\\mathrm{TP}+\\mathrm{FN}}$$\n",
    "\n",
    "$$\\mathrm{FPR}=1-\\mathrm{Specificity} = \n",
    "\\frac{\\mathrm{FP}}{\\mathrm{TN}+\\mathrm{FP}}$$\n",
    "\n",
    "In real world problems, there is always a trade-off between high Sensitivity and high Specificity. By looking at the ROC curve, there are many insights that can be read from it:\n",
    "- Comparing the quality of different models. The more convex the curve is, the more predictive power it has.\n",
    "- Determining the optimal threshold.\n",
    "- Calculating the AUROC (Area Under the ROC), which is a single value that summarizes the overall performance of the model."
   ]
  },
  {
   "cell_type": "code",
   "execution_count": 27,
   "metadata": {
    "execution": {
     "iopub.execute_input": "2023-02-15T00:48:09.852330Z",
     "iopub.status.busy": "2023-02-15T00:48:09.851999Z",
     "iopub.status.idle": "2023-02-15T00:48:09.857288Z",
     "shell.execute_reply": "2023-02-15T00:48:09.856472Z",
     "shell.execute_reply.started": "2023-02-15T00:48:09.852307Z"
    },
    "render": {
     "image": {
      "align": "center",
      "scale": "50%"
     }
    },
    "tags": [
     "hide-input"
    ]
   },
   "outputs": [],
   "source": [
    "def plotROC(yTrue, yProb, ax=None):\n",
    "    from sklearn.metrics import roc_curve, roc_auc_score\n",
    "    auc = roc_auc_score(yTrue, yProb)\n",
    "    fpr, tpr, _ = roc_curve(yTrue, yProb)\n",
    "    sensitivity = tpr\n",
    "    specificity = 1 - fpr\n",
    "    \n",
    "    if ax is None:\n",
    "        ax = plt.gca()\n",
    "    ax.plot([1, 0], [0, 1], color='k', linestyle='--')\n",
    "    ax.plot(specificity, sensitivity)\n",
    "    ax.set_xlabel('Specificity')\n",
    "    ax.set_ylabel('Sensitivity')\n",
    "    ax.axis('scaled')\n",
    "    ax.text(0.02, 0.02, f'AUC = {auc:.4f}', va='bottom', ha='left', size=12)\n",
    "    return ax"
   ]
  },
  {
   "cell_type": "code",
   "execution_count": 28,
   "metadata": {
    "execution": {
     "iopub.execute_input": "2023-02-15T00:48:11.604191Z",
     "iopub.status.busy": "2023-02-15T00:48:11.603740Z",
     "iopub.status.idle": "2023-02-15T00:48:11.790343Z",
     "shell.execute_reply": "2023-02-15T00:48:11.789607Z",
     "shell.execute_reply.started": "2023-02-15T00:48:11.604163Z"
    },
    "render": {
     "image": {
      "align": "center",
      "scale": "50%"
     }
    },
    "tags": []
   },
   "outputs": [
    {
     "data": {
      "image/png": "[encoded data removed]",
      "text/plain": [
       "<Figure size 576x396 with 1 Axes>"
      ]
     },
     "metadata": {
      "image/png": {
       "height": 343,
       "width": 348
      }
     },
     "output_type": "display_data"
    }
   ],
   "source": [
    "plotROC(yTrue, yProb)\n",
    "plt.show()"
   ]
  },
  {
   "cell_type": "markdown",
   "metadata": {},
   "source": [
    "#### Cumulative gains\n",
    "In many business problems, resources are limited, making only the most potential targets are visited. So it is really important for the model to cover a high ratio of positive instances only by visiting a small part of the dataset, and this is where Cumulative Gains is used.\n",
    "\n",
    "Cumulative Gains shows the overall positive percentage *gained* by targeting the top fraction of all observations. A popular method for determining the fractions of observations is *deciles* (10-quantiles). The diagonal in the chart represents the *baseline* model, which targets observations at random. A good model should have a high gain value at the very first deciles."
   ]
  },
  {
   "cell_type": "code",
   "execution_count": 31,
   "metadata": {
    "execution": {
     "iopub.execute_input": "2023-02-15T00:49:42.344322Z",
     "iopub.status.busy": "2023-02-15T00:49:42.343942Z",
     "iopub.status.idle": "2023-02-15T00:49:42.352523Z",
     "shell.execute_reply": "2023-02-15T00:49:42.350810Z",
     "shell.execute_reply.started": "2023-02-15T00:49:42.344296Z"
    },
    "tags": [
     "hide-input"
    ]
   },
   "outputs": [],
   "source": [
    "def plotCumulativeGains(yTrue, yProb, ax=None):\n",
    "    dfProb = pd.DataFrame({'yTrue': yTrue, 'yProb': yProb})\n",
    "    dfProb = dfProb.sort_values('yProb', ascending=False)\n",
    "    n = dfProb.shape[0]\n",
    "    nPositive = dfProb[dfProb.yTrue == 1].shape[0]\n",
    "    \n",
    "    deciles = np.linspace(0, 1, 11)\n",
    "    gains = []\n",
    "    \n",
    "    for decile in deciles:\n",
    "        nVisit = int(n * decile)\n",
    "        dfGain = dfProb.head(nVisit)\n",
    "        nGainPositive = dfGain[dfGain.yTrue == 1].shape[0]\n",
    "        gain = nGainPositive / nPositive\n",
    "        gains.append(gain)\n",
    "    \n",
    "    if ax is None:\n",
    "        ax = plt.gca()\n",
    "    ax.plot([0, 1], [0, 1], color='k', linestyle='--')\n",
    "    ax.plot(deciles, gains, marker='o')\n",
    "    ax.legend(['Baseline', 'Gains'], loc='best')\n",
    "    ax.set_xlabel('Deciles')\n",
    "    ax.set_ylabel('Gains')\n",
    "    ax.axis('scaled')\n",
    "    return ax"
   ]
  },
  {
   "cell_type": "code",
   "execution_count": 30,
   "metadata": {
    "execution": {
     "iopub.execute_input": "2023-02-15T00:49:06.060357Z",
     "iopub.status.busy": "2023-02-15T00:49:06.059848Z",
     "iopub.status.idle": "2023-02-15T00:49:06.250820Z",
     "shell.execute_reply": "2023-02-15T00:49:06.250163Z",
     "shell.execute_reply.started": "2023-02-15T00:49:06.060320Z"
    },
    "render": {
     "image": {
      "align": "center",
      "scale": "50%"
     }
    },
    "tags": []
   },
   "outputs": [
    {
     "data": {
      "image/png": "[encoded data removed]",
      "text/plain": [
       "<Figure size 576x396 with 1 Axes>"
      ]
     },
     "metadata": {
      "image/png": {
       "height": 343,
       "width": 348
      }
     },
     "output_type": "display_data"
    }
   ],
   "source": [
    "plotCumulativeGains(yTrue, yProb)\n",
    "plt.show()"
   ]
  },
  {
   "cell_type": "markdown",
   "metadata": {},
   "source": [
    "#### Lift curve\n",
    "Besides Cumulative Gains, Lift Curve is also a powerful tool being widely used in marketing campaigns. It helps analyze the overall positive percentage in each bin, compared to bin size. Notice that bin size represents the expected percent of positive instances if targeted randomly. For example, assume there is a total of 70 positive instances and the bin size is chosen of 10% (*deciles*), then each bin is expected to contain $70\\cdot 10\\%=7$ positive instances.\n",
    "\n",
    "The Lift Curve for an ideal model should have very high values at first, then drop significantly to the point that lift values are below the *baseline*. This proves that the vast majority of positive instances are in first bins."
   ]
  },
  {
   "cell_type": "code",
   "execution_count": 34,
   "metadata": {
    "execution": {
     "iopub.execute_input": "2023-02-15T00:50:11.204810Z",
     "iopub.status.busy": "2023-02-15T00:50:11.204473Z",
     "iopub.status.idle": "2023-02-15T00:50:11.211135Z",
     "shell.execute_reply": "2023-02-15T00:50:11.209980Z",
     "shell.execute_reply.started": "2023-02-15T00:50:11.204787Z"
    },
    "tags": [
     "hide-input"
    ]
   },
   "outputs": [],
   "source": [
    "def plotLiftCurve(yTrue, yProb, ax=None):\n",
    "    bin_size = 0.01\n",
    "    dfProb = pd.DataFrame({'yTrue': yTrue, 'yProb': yProb})\n",
    "    dfProb = dfProb.sort_values('yProb', ascending=False)\n",
    "    n = dfProb.shape[0]\n",
    "    nVisit = int(n * bin_size)\n",
    "    nPositive = dfProb[dfProb.yTrue == 1].shape[0]\n",
    "    \n",
    "    deciles = np.arange(1, 0, - bin_size)[::-1]\n",
    "    lifts = []\n",
    "    \n",
    "    for decile in deciles:\n",
    "        nTop = int(n * decile)\n",
    "        dfGain = dfProb.head(nTop).tail(nVisit)\n",
    "        nGainPositive = dfGain[dfGain.yTrue == 1].shape[0]\n",
    "        lift = nGainPositive / nPositive / bin_size\n",
    "        lifts.append(lift)\n",
    "    \n",
    "    if ax is None:\n",
    "        ax = plt.gca()\n",
    "    ax.plot([0, 1], [1, 1], color='k', linestyle='--')\n",
    "    ax.plot(deciles, lifts)\n",
    "    ax.set_xlabel('Deciles')\n",
    "    ax.set_ylabel('Lift')\n",
    "    return ax"
   ]
  },
  {
   "cell_type": "code",
   "execution_count": 33,
   "metadata": {
    "execution": {
     "iopub.execute_input": "2023-02-15T00:50:01.847656Z",
     "iopub.status.busy": "2023-02-15T00:50:01.847125Z",
     "iopub.status.idle": "2023-02-15T00:50:02.088905Z",
     "shell.execute_reply": "2023-02-15T00:50:02.088153Z",
     "shell.execute_reply.started": "2023-02-15T00:50:01.847608Z"
    },
    "render": {
     "image": {
      "align": "center",
      "scale": "50%"
     }
    },
    "tags": []
   },
   "outputs": [
    {
     "data": {
      "image/png": "[encoded data removed]",
      "text/plain": [
       "<Figure size 576x396 with 1 Axes>"
      ]
     },
     "metadata": {
      "image/png": {
       "height": 343,
       "width": 492
      }
     },
     "output_type": "display_data"
    }
   ],
   "source": [
    "plotLiftCurve(yTrue, yProb)\n",
    "plt.show()"
   ]
  },
  {
   "cell_type": "markdown",
   "metadata": {},
   "source": [
    "### 2.3. Regression metrics\n",
    "Let $\\mathbf{y}=(y_1,y_2,\\dots,y_N)$ is the vector of true data labels and $\\hat{\\mathbf{y}}=(\\hat{y}_1,\\hat{y}_2,\\dots,\\hat{y}_N)$ is the vector of predicted values."
   ]
  },
  {
   "cell_type": "code",
   "execution_count": 53,
   "metadata": {
    "execution": {
     "iopub.execute_input": "2022-03-06T19:10:17.669515Z",
     "iopub.status.busy": "2022-03-06T19:10:17.669209Z",
     "iopub.status.idle": "2022-03-06T19:10:17.680577Z",
     "shell.execute_reply": "2022-03-06T19:10:17.679759Z",
     "shell.execute_reply.started": "2022-03-06T19:10:17.669490Z"
    },
    "tags": [
     "remove-cell"
    ]
   },
   "outputs": [],
   "source": [
    "import numpy as np\n",
    "import pandas as pd\n",
    "import matplotlib.pyplot as plt\n",
    "plt.style.use(['seaborn', 'seaborn-whitegrid'])\n",
    "%config InlineBackend.figure_format = 'retina'\n",
    "\n",
    "from sklearn.model_selection import train_test_split, GridSearchCV\n",
    "from sklearn.linear_model import LinearRegression\n",
    "from sklearn.metrics import mean_squared_error, mean_absolute_error, r2_score"
   ]
  },
  {
   "cell_type": "code",
   "execution_count": 63,
   "metadata": {
    "execution": {
     "iopub.execute_input": "2022-03-06T19:12:34.211246Z",
     "iopub.status.busy": "2022-03-06T19:12:34.210961Z",
     "iopub.status.idle": "2022-03-06T19:12:34.290892Z",
     "shell.execute_reply": "2022-03-06T19:12:34.290210Z",
     "shell.execute_reply.started": "2022-03-06T19:12:34.211214Z"
    },
    "tags": []
   },
   "outputs": [],
   "source": [
    "df = pd.read_csv('../data/boston.csv')\n",
    "x = df.copy()\n",
    "y = x.pop('price')"
   ]
  },
  {
   "cell_type": "code",
   "execution_count": 64,
   "metadata": {
    "execution": {
     "iopub.execute_input": "2022-03-06T19:12:35.024061Z",
     "iopub.status.busy": "2022-03-06T19:12:35.023803Z",
     "iopub.status.idle": "2022-03-06T19:12:35.034695Z",
     "shell.execute_reply": "2022-03-06T19:12:35.033495Z",
     "shell.execute_reply.started": "2022-03-06T19:12:35.024040Z"
    },
    "tags": []
   },
   "outputs": [],
   "source": [
    "algo = LinearRegression()\n",
    "model = algo.fit(x, y)\n",
    "\n",
    "yTrue = y.copy()\n",
    "yPred = model.predict(x)"
   ]
  },
  {
   "cell_type": "markdown",
   "metadata": {},
   "source": [
    "#### R-squared\n",
    "[Coefficient of Determination], denoted $R^2$ $(R^2 \\leq 1)$, evaluates the scatter of data point around the fitted regression function. It is calculated using $\\text{SSE}$ (sum of squared errors) and $\\text{SST}$ (total sum of squares).\n",
    "\n",
    "$$R^2=1-\\dfrac{\\text{SSE}}{\\text{SST}}$$\n",
    "\n",
    "Look closely at $\\text{SSE}$ and $\\text{SST}$, if we divide both of them by $N$, then the ratio between them is the ratio between (1) the error of our Machine Learning model and (2) the error made by a naive model using mean as prediction.\n",
    "\n",
    "$$\\text{SSE}=\\sum_{n=1}^{N}(y_n-\\hat{y}_n)^2;\\quad\n",
    "\\text{SST}=\\sum_{n=1}^{N}(y_n-\\bar{y})^2$$\n",
    "\n",
    "[Coefficient of Determination]: https://en.wikipedia.org/wiki/Coefficient_of_determination"
   ]
  },
  {
   "cell_type": "code",
   "execution_count": 65,
   "metadata": {
    "execution": {
     "iopub.execute_input": "2022-03-06T19:12:35.988841Z",
     "iopub.status.busy": "2022-03-06T19:12:35.988597Z",
     "iopub.status.idle": "2022-03-06T19:12:35.993106Z",
     "shell.execute_reply": "2022-03-06T19:12:35.992471Z",
     "shell.execute_reply.started": "2022-03-06T19:12:35.988821Z"
    },
    "tags": []
   },
   "outputs": [
    {
     "data": {
      "text/plain": [
       "0.7406426641094095"
      ]
     },
     "execution_count": 65,
     "metadata": {},
     "output_type": "execute_result"
    }
   ],
   "source": [
    "r2_score(yTrue, yPred)"
   ]
  },
  {
   "cell_type": "code",
   "execution_count": 66,
   "metadata": {
    "execution": {
     "iopub.execute_input": "2022-03-06T19:12:37.988205Z",
     "iopub.status.busy": "2022-03-06T19:12:37.987904Z",
     "iopub.status.idle": "2022-03-06T19:12:37.996530Z",
     "shell.execute_reply": "2022-03-06T19:12:37.995500Z",
     "shell.execute_reply.started": "2022-03-06T19:12:37.988181Z"
    },
    "tags": []
   },
   "outputs": [
    {
     "data": {
      "text/plain": [
       "0.7406426641094095"
      ]
     },
     "execution_count": 66,
     "metadata": {},
     "output_type": "execute_result"
    }
   ],
   "source": [
    "# r2 is also the default score\n",
    "model.score(x, y)"
   ]
  },
  {
   "cell_type": "markdown",
   "metadata": {},
   "source": [
    "#### Mean Absolute Error\n",
    "MAE is simply the average distance between the real and the predicted values. The absolute value is taken to ensure they do not cancel each other out. MAE does not fall into any certain range, it itself cannot tell if the model is good enough, you can only use MAE to compare the performance of different models.\n",
    "\n",
    "$${\\mbox{MAE}}={\\frac{1}{N}}\\sum_{n=1}^{N}|y_n-\\hat{y}_n|$$"
   ]
  },
  {
   "cell_type": "code",
   "execution_count": 67,
   "metadata": {
    "execution": {
     "iopub.execute_input": "2022-03-06T19:13:02.865004Z",
     "iopub.status.busy": "2022-03-06T19:13:02.864737Z",
     "iopub.status.idle": "2022-03-06T19:13:02.870068Z",
     "shell.execute_reply": "2022-03-06T19:13:02.869174Z",
     "shell.execute_reply.started": "2022-03-06T19:13:02.864981Z"
    },
    "tags": []
   },
   "outputs": [
    {
     "data": {
      "text/plain": [
       "3.2708628109003164"
      ]
     },
     "execution_count": 67,
     "metadata": {},
     "output_type": "execute_result"
    }
   ],
   "source": [
    "mean_absolute_error(yTrue, yPred)"
   ]
  },
  {
   "cell_type": "markdown",
   "metadata": {},
   "source": [
    "#### Mean Squared Error\n",
    "MSE is quite similar to MAE, however MSE gives higher penalization to big error. In real world problems, RMSE (Root Mean Squared Error) is used more commonly since it brings MSE back to the same unit with MAE.\n",
    "\n",
    "$$\\mbox{MSE} = \\mbox{RMSE}^2 = {\\frac{1}{N}} \\sum_{n=1}^{N}(y_n-\\hat{y}_n)^{2}$$"
   ]
  },
  {
   "cell_type": "code",
   "execution_count": 69,
   "metadata": {
    "execution": {
     "iopub.execute_input": "2022-03-06T19:13:28.871504Z",
     "iopub.status.busy": "2022-03-06T19:13:28.871213Z",
     "iopub.status.idle": "2022-03-06T19:13:28.876631Z",
     "shell.execute_reply": "2022-03-06T19:13:28.875762Z",
     "shell.execute_reply.started": "2022-03-06T19:13:28.871478Z"
    },
    "tags": []
   },
   "outputs": [
    {
     "data": {
      "text/plain": [
       "21.894831181729202"
      ]
     },
     "execution_count": 69,
     "metadata": {},
     "output_type": "execute_result"
    }
   ],
   "source": [
    "# mse\n",
    "mean_squared_error(yTrue, yPred)"
   ]
  },
  {
   "cell_type": "code",
   "execution_count": 70,
   "metadata": {
    "execution": {
     "iopub.execute_input": "2022-03-06T19:13:37.687842Z",
     "iopub.status.busy": "2022-03-06T19:13:37.687538Z",
     "iopub.status.idle": "2022-03-06T19:13:37.693273Z",
     "shell.execute_reply": "2022-03-06T19:13:37.692363Z",
     "shell.execute_reply.started": "2022-03-06T19:13:37.687811Z"
    },
    "tags": []
   },
   "outputs": [
    {
     "data": {
      "text/plain": [
       "4.679191295697281"
      ]
     },
     "execution_count": 70,
     "metadata": {},
     "output_type": "execute_result"
    }
   ],
   "source": [
    "# rmse\n",
    "mean_squared_error(yTrue, yPred, squared=False)"
   ]
  }
 ],
 "metadata": {
  "kernelspec": {
   "display_name": "Python 3",
   "language": "python",
   "name": "python3"
  },
  "language_info": {
   "codemirror_mode": {
    "name": "ipython",
    "version": 3
   },
   "file_extension": ".py",
   "mimetype": "text/x-python",
   "name": "python",
   "nbconvert_exporter": "python",
   "pygments_lexer": "ipython3",
   "version": "3.8.8"
  },
  "toc-autonumbering": false,
  "toc-showcode": false,
  "toc-showmarkdowntxt": false,
  "toc-showtags": false
 },
 "nbformat": 4,
 "nbformat_minor": 4
}
