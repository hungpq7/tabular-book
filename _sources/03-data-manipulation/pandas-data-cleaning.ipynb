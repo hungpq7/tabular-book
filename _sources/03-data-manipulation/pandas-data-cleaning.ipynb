{
 "cells": [
  {
   "cell_type": "markdown",
   "metadata": {},
   "source": [
    "# Pandas: Data Cleaning"
   ]
  },
  {
   "cell_type": "code",
   "execution_count": 1,
   "metadata": {},
   "outputs": [],
   "source": [
    "import numpy as np\n",
    "import pandas as pd"
   ]
  },
  {
   "cell_type": "markdown",
   "metadata": {},
   "source": [
    "## 1. Methodology"
   ]
  },
  {
   "cell_type": "markdown",
   "metadata": {},
   "source": [
    "### 1.1. Data quality\n",
    "[Clean data](https://en.wikipedia.org/wiki/Data_cleansing) needs to pass some quality criteria. They are logical rules or constraints that are based on business knowledge. These constraints fall into the following categories:\n",
    "- Data-type constraints: Each column must be of a particular data type such as numeric, date or text.\n",
    "- Accuracy: Data Scientists have to verify that the data is close to the true values, sometimes by using external sources.\n",
    "- Range constraints: Typically, numbers or dates should fall within a certain range.\n",
    "- Set-membership constraints: Values of a column must come from a pre-defined set.\n",
    "- Pattern constraints: Certain text fields have to match regular expression patterns.\n",
    "- Cross-field validation: For example, in a dataset of sales contracts, the delivery date cannot be earlier than the signature date.\n",
    "- Uniqueness: A field or a combination of fields must be unique across the dataset. For example, two customers cannot have the same ID.\n",
    "- Consistency: For example, a customer is recorded in two different tables with two different addresses.\n",
    "- Completeness: Certain columns cannot be empty.\n",
    "- Uniformity: Each field can only have one unit of measure such as kg or lb, USD or EUR."
   ]
  },
  {
   "cell_type": "markdown",
   "metadata": {},
   "source": [
    "### 1.2. The workflow\n",
    "\n",
    "- Inspecting. The inspection can be done in the data exploration step. Here are the two most important methods to inspect the dataset:\n",
    "    - Data profiling: Calculating summary statistics is really helpful to give a general idea about the quality of the data. Some questions need to be answered are *How many values are missing?*, *Is this field has a constraint with another?* and *Which data type should this column be of?*.\n",
    "    - Data visualization: Visualization, especially when combined with statistical methods helps answering *How the data is distributed?* and *Which point is an outlier?*.\n",
    "- Cleaning. In this step, all the criteria mentioned above are taken into account. Overall, incorrect data will be either removed, corrected or imputed."
   ]
  },
  {
   "cell_type": "markdown",
   "metadata": {},
   "source": [
    "## 2. Basic data cleaning"
   ]
  },
  {
   "cell_type": "markdown",
   "metadata": {},
   "source": [
    "### 2.1. Common techniques"
   ]
  },
  {
   "cell_type": "code",
   "execution_count": 1,
   "metadata": {
    "tags": [
     "remove-cell"
    ]
   },
   "outputs": [],
   "source": [
    "import numpy as np\n",
    "import pandas as pd"
   ]
  },
  {
   "cell_type": "markdown",
   "metadata": {},
   "source": [
    "#### Selecting columns\n",
    "Two approaches: selecting the necessary columns only or removing unnecessary ones."
   ]
  },
  {
   "cell_type": "code",
   "execution_count": 2,
   "metadata": {
    "tags": [
     "hide-cell"
    ]
   },
   "outputs": [],
   "source": [
    "dfAqua = pd.DataFrame({\n",
    "    'year': pd.Series([2020, 2020, 2020, 2020, 2020, 2020]),\n",
    "    'month_name': pd.Series(['Jan', 'Jan', 'Jun', 'Jun', 'Jul', 'Jul']),\n",
    "    'month_number': pd.Series([1, 1, 6, 6, 7, 7]),\n",
    "    'commodity': pd.Series(['Fish', 'Shrimp', 'Fish', 'Shrimp', 'Fish', 'Shrimp']),\n",
    "    'profit': pd.Series([7415, 3239, 7280, 2007, 3574, 9285]),\n",
    "    'company': pd.Series(['Pandas', 'Pandas', 'Pandas', 'Pandas', 'Pandas', 'Pandas'])\n",
    "})"
   ]
  },
  {
   "cell_type": "code",
   "execution_count": 2,
   "metadata": {},
   "outputs": [
    {
     "data": {
      "text/html": [
       "<div>\n",
       "<style scoped>\n",
       "    .dataframe tbody tr th:only-of-type {\n",
       "        vertical-align: middle;\n",
       "    }\n",
       "\n",
       "    .dataframe tbody tr th {\n",
       "        vertical-align: top;\n",
       "    }\n",
       "\n",
       "    .dataframe thead th {\n",
       "        text-align: right;\n",
       "    }\n",
       "</style>\n",
       "<table border=\"1\" class=\"dataframe\">\n",
       "  <thead>\n",
       "    <tr style=\"text-align: right;\">\n",
       "      <th></th>\n",
       "      <th>year</th>\n",
       "      <th>month_name</th>\n",
       "      <th>month_number</th>\n",
       "      <th>commodity</th>\n",
       "      <th>profit</th>\n",
       "      <th>company</th>\n",
       "    </tr>\n",
       "  </thead>\n",
       "  <tbody>\n",
       "    <tr>\n",
       "      <th>0</th>\n",
       "      <td>2020</td>\n",
       "      <td>Jan</td>\n",
       "      <td>1</td>\n",
       "      <td>Fish</td>\n",
       "      <td>7415</td>\n",
       "      <td>Pandas</td>\n",
       "    </tr>\n",
       "    <tr>\n",
       "      <th>1</th>\n",
       "      <td>2020</td>\n",
       "      <td>Jan</td>\n",
       "      <td>1</td>\n",
       "      <td>Shrimp</td>\n",
       "      <td>3239</td>\n",
       "      <td>Pandas</td>\n",
       "    </tr>\n",
       "    <tr>\n",
       "      <th>2</th>\n",
       "      <td>2020</td>\n",
       "      <td>Jun</td>\n",
       "      <td>6</td>\n",
       "      <td>Fish</td>\n",
       "      <td>7280</td>\n",
       "      <td>Pandas</td>\n",
       "    </tr>\n",
       "    <tr>\n",
       "      <th>3</th>\n",
       "      <td>2020</td>\n",
       "      <td>Jun</td>\n",
       "      <td>6</td>\n",
       "      <td>Shrimp</td>\n",
       "      <td>2007</td>\n",
       "      <td>Pandas</td>\n",
       "    </tr>\n",
       "    <tr>\n",
       "      <th>4</th>\n",
       "      <td>2020</td>\n",
       "      <td>Jul</td>\n",
       "      <td>7</td>\n",
       "      <td>Fish</td>\n",
       "      <td>3574</td>\n",
       "      <td>Pandas</td>\n",
       "    </tr>\n",
       "    <tr>\n",
       "      <th>5</th>\n",
       "      <td>2020</td>\n",
       "      <td>Jul</td>\n",
       "      <td>7</td>\n",
       "      <td>Shrimp</td>\n",
       "      <td>9285</td>\n",
       "      <td>Pandas</td>\n",
       "    </tr>\n",
       "  </tbody>\n",
       "</table>\n",
       "</div>"
      ],
      "text/plain": [
       "   year month_name  month_number commodity  profit company\n",
       "0  2020        Jan             1      Fish    7415  Pandas\n",
       "1  2020        Jan             1    Shrimp    3239  Pandas\n",
       "2  2020        Jun             6      Fish    7280  Pandas\n",
       "3  2020        Jun             6    Shrimp    2007  Pandas\n",
       "4  2020        Jul             7      Fish    3574  Pandas\n",
       "5  2020        Jul             7    Shrimp    9285  Pandas"
      ]
     },
     "execution_count": 2,
     "metadata": {},
     "output_type": "execute_result"
    }
   ],
   "source": [
    "dfAqua"
   ]
  },
  {
   "cell_type": "code",
   "execution_count": 3,
   "metadata": {},
   "outputs": [
    {
     "data": {
      "text/html": [
       "<div>\n",
       "<style scoped>\n",
       "    .dataframe tbody tr th:only-of-type {\n",
       "        vertical-align: middle;\n",
       "    }\n",
       "\n",
       "    .dataframe tbody tr th {\n",
       "        vertical-align: top;\n",
       "    }\n",
       "\n",
       "    .dataframe thead th {\n",
       "        text-align: right;\n",
       "    }\n",
       "</style>\n",
       "<table border=\"1\" class=\"dataframe\">\n",
       "  <thead>\n",
       "    <tr style=\"text-align: right;\">\n",
       "      <th></th>\n",
       "      <th>year</th>\n",
       "      <th>month_number</th>\n",
       "      <th>commodity</th>\n",
       "      <th>profit</th>\n",
       "    </tr>\n",
       "  </thead>\n",
       "  <tbody>\n",
       "    <tr>\n",
       "      <th>0</th>\n",
       "      <td>2020</td>\n",
       "      <td>1</td>\n",
       "      <td>Fish</td>\n",
       "      <td>7415</td>\n",
       "    </tr>\n",
       "    <tr>\n",
       "      <th>1</th>\n",
       "      <td>2020</td>\n",
       "      <td>1</td>\n",
       "      <td>Shrimp</td>\n",
       "      <td>3239</td>\n",
       "    </tr>\n",
       "    <tr>\n",
       "      <th>2</th>\n",
       "      <td>2020</td>\n",
       "      <td>6</td>\n",
       "      <td>Fish</td>\n",
       "      <td>7280</td>\n",
       "    </tr>\n",
       "    <tr>\n",
       "      <th>3</th>\n",
       "      <td>2020</td>\n",
       "      <td>6</td>\n",
       "      <td>Shrimp</td>\n",
       "      <td>2007</td>\n",
       "    </tr>\n",
       "    <tr>\n",
       "      <th>4</th>\n",
       "      <td>2020</td>\n",
       "      <td>7</td>\n",
       "      <td>Fish</td>\n",
       "      <td>3574</td>\n",
       "    </tr>\n",
       "    <tr>\n",
       "      <th>5</th>\n",
       "      <td>2020</td>\n",
       "      <td>7</td>\n",
       "      <td>Shrimp</td>\n",
       "      <td>9285</td>\n",
       "    </tr>\n",
       "  </tbody>\n",
       "</table>\n",
       "</div>"
      ],
      "text/plain": [
       "   year  month_number commodity  profit\n",
       "0  2020             1      Fish    7415\n",
       "1  2020             1    Shrimp    3239\n",
       "2  2020             6      Fish    7280\n",
       "3  2020             6    Shrimp    2007\n",
       "4  2020             7      Fish    3574\n",
       "5  2020             7    Shrimp    9285"
      ]
     },
     "execution_count": 3,
     "metadata": {},
     "output_type": "execute_result"
    }
   ],
   "source": [
    "dfAqua[['year', 'month_number', 'commodity', 'profit']]"
   ]
  },
  {
   "cell_type": "code",
   "execution_count": 4,
   "metadata": {},
   "outputs": [
    {
     "data": {
      "text/html": [
       "<div>\n",
       "<style scoped>\n",
       "    .dataframe tbody tr th:only-of-type {\n",
       "        vertical-align: middle;\n",
       "    }\n",
       "\n",
       "    .dataframe tbody tr th {\n",
       "        vertical-align: top;\n",
       "    }\n",
       "\n",
       "    .dataframe thead th {\n",
       "        text-align: right;\n",
       "    }\n",
       "</style>\n",
       "<table border=\"1\" class=\"dataframe\">\n",
       "  <thead>\n",
       "    <tr style=\"text-align: right;\">\n",
       "      <th></th>\n",
       "      <th>year</th>\n",
       "      <th>month_number</th>\n",
       "      <th>commodity</th>\n",
       "      <th>profit</th>\n",
       "    </tr>\n",
       "  </thead>\n",
       "  <tbody>\n",
       "    <tr>\n",
       "      <th>0</th>\n",
       "      <td>2020</td>\n",
       "      <td>1</td>\n",
       "      <td>Fish</td>\n",
       "      <td>7415</td>\n",
       "    </tr>\n",
       "    <tr>\n",
       "      <th>1</th>\n",
       "      <td>2020</td>\n",
       "      <td>1</td>\n",
       "      <td>Shrimp</td>\n",
       "      <td>3239</td>\n",
       "    </tr>\n",
       "    <tr>\n",
       "      <th>2</th>\n",
       "      <td>2020</td>\n",
       "      <td>6</td>\n",
       "      <td>Fish</td>\n",
       "      <td>7280</td>\n",
       "    </tr>\n",
       "    <tr>\n",
       "      <th>3</th>\n",
       "      <td>2020</td>\n",
       "      <td>6</td>\n",
       "      <td>Shrimp</td>\n",
       "      <td>2007</td>\n",
       "    </tr>\n",
       "    <tr>\n",
       "      <th>4</th>\n",
       "      <td>2020</td>\n",
       "      <td>7</td>\n",
       "      <td>Fish</td>\n",
       "      <td>3574</td>\n",
       "    </tr>\n",
       "    <tr>\n",
       "      <th>5</th>\n",
       "      <td>2020</td>\n",
       "      <td>7</td>\n",
       "      <td>Shrimp</td>\n",
       "      <td>9285</td>\n",
       "    </tr>\n",
       "  </tbody>\n",
       "</table>\n",
       "</div>"
      ],
      "text/plain": [
       "   year  month_number commodity  profit\n",
       "0  2020             1      Fish    7415\n",
       "1  2020             1    Shrimp    3239\n",
       "2  2020             6      Fish    7280\n",
       "3  2020             6    Shrimp    2007\n",
       "4  2020             7      Fish    3574\n",
       "5  2020             7    Shrimp    9285"
      ]
     },
     "execution_count": 4,
     "metadata": {},
     "output_type": "execute_result"
    }
   ],
   "source": [
    "dfAqua.drop(columns=['month_name', 'company'])"
   ]
  },
  {
   "cell_type": "markdown",
   "metadata": {},
   "source": [
    "#### Renaming columns\n",
    "Column names should follow either `PascalCase`, `camelCase` or `snake_case`, but mostly `snake_case`."
   ]
  },
  {
   "cell_type": "code",
   "execution_count": 5,
   "metadata": {
    "tags": [
     "hide-cell"
    ]
   },
   "outputs": [],
   "source": [
    "dfAqua = pd.DataFrame({\n",
    "    'Year': pd.Series([2020, 2020, 2020, 2020, 2020, 2020]),\n",
    "    'Month name': pd.Series(['Jan', 'Jan', 'Jun', 'Jun', 'Jul', 'Jul']),\n",
    "    'Month number': pd.Series([1, 1, 6, 6, 7, 7]),\n",
    "    'Product name': pd.Series(['Fish', 'Shrimp', 'Fish', 'Shrimp', 'Fish', 'Shrimp']),\n",
    "    'Profit': pd.Series([7415, 3239, 7280, 2007, 3574, 9285]),\n",
    "    'Company name': pd.Series(['Pandas', 'Pandas', 'Pandas', 'Pandas', 'Pandas', 'Pandas'])\n",
    "})"
   ]
  },
  {
   "cell_type": "code",
   "execution_count": 5,
   "metadata": {},
   "outputs": [
    {
     "data": {
      "text/html": [
       "<div>\n",
       "<style scoped>\n",
       "    .dataframe tbody tr th:only-of-type {\n",
       "        vertical-align: middle;\n",
       "    }\n",
       "\n",
       "    .dataframe tbody tr th {\n",
       "        vertical-align: top;\n",
       "    }\n",
       "\n",
       "    .dataframe thead th {\n",
       "        text-align: right;\n",
       "    }\n",
       "</style>\n",
       "<table border=\"1\" class=\"dataframe\">\n",
       "  <thead>\n",
       "    <tr style=\"text-align: right;\">\n",
       "      <th></th>\n",
       "      <th>Year</th>\n",
       "      <th>Month name</th>\n",
       "      <th>Month number</th>\n",
       "      <th>Product name</th>\n",
       "      <th>Profit</th>\n",
       "      <th>Company name</th>\n",
       "    </tr>\n",
       "  </thead>\n",
       "  <tbody>\n",
       "    <tr>\n",
       "      <th>0</th>\n",
       "      <td>2020</td>\n",
       "      <td>Jan</td>\n",
       "      <td>1</td>\n",
       "      <td>Fish</td>\n",
       "      <td>7415</td>\n",
       "      <td>Pandas</td>\n",
       "    </tr>\n",
       "    <tr>\n",
       "      <th>1</th>\n",
       "      <td>2020</td>\n",
       "      <td>Jan</td>\n",
       "      <td>1</td>\n",
       "      <td>Shrimp</td>\n",
       "      <td>3239</td>\n",
       "      <td>Pandas</td>\n",
       "    </tr>\n",
       "    <tr>\n",
       "      <th>2</th>\n",
       "      <td>2020</td>\n",
       "      <td>Jun</td>\n",
       "      <td>6</td>\n",
       "      <td>Fish</td>\n",
       "      <td>7280</td>\n",
       "      <td>Pandas</td>\n",
       "    </tr>\n",
       "    <tr>\n",
       "      <th>3</th>\n",
       "      <td>2020</td>\n",
       "      <td>Jun</td>\n",
       "      <td>6</td>\n",
       "      <td>Shrimp</td>\n",
       "      <td>2007</td>\n",
       "      <td>Pandas</td>\n",
       "    </tr>\n",
       "    <tr>\n",
       "      <th>4</th>\n",
       "      <td>2020</td>\n",
       "      <td>Jul</td>\n",
       "      <td>7</td>\n",
       "      <td>Fish</td>\n",
       "      <td>3574</td>\n",
       "      <td>Pandas</td>\n",
       "    </tr>\n",
       "    <tr>\n",
       "      <th>5</th>\n",
       "      <td>2020</td>\n",
       "      <td>Jul</td>\n",
       "      <td>7</td>\n",
       "      <td>Shrimp</td>\n",
       "      <td>9285</td>\n",
       "      <td>Pandas</td>\n",
       "    </tr>\n",
       "  </tbody>\n",
       "</table>\n",
       "</div>"
      ],
      "text/plain": [
       "   Year Month name  Month number Product name  Profit Company name\n",
       "0  2020        Jan             1         Fish    7415       Pandas\n",
       "1  2020        Jan             1       Shrimp    3239       Pandas\n",
       "2  2020        Jun             6         Fish    7280       Pandas\n",
       "3  2020        Jun             6       Shrimp    2007       Pandas\n",
       "4  2020        Jul             7         Fish    3574       Pandas\n",
       "5  2020        Jul             7       Shrimp    9285       Pandas"
      ]
     },
     "execution_count": 5,
     "metadata": {},
     "output_type": "execute_result"
    }
   ],
   "source": [
    "dfAqua"
   ]
  },
  {
   "cell_type": "code",
   "execution_count": 6,
   "metadata": {},
   "outputs": [
    {
     "data": {
      "text/html": [
       "<div>\n",
       "<style scoped>\n",
       "    .dataframe tbody tr th:only-of-type {\n",
       "        vertical-align: middle;\n",
       "    }\n",
       "\n",
       "    .dataframe tbody tr th {\n",
       "        vertical-align: top;\n",
       "    }\n",
       "\n",
       "    .dataframe thead th {\n",
       "        text-align: right;\n",
       "    }\n",
       "</style>\n",
       "<table border=\"1\" class=\"dataframe\">\n",
       "  <thead>\n",
       "    <tr style=\"text-align: right;\">\n",
       "      <th></th>\n",
       "      <th>Year</th>\n",
       "      <th>MonthName</th>\n",
       "      <th>MonthNumber</th>\n",
       "      <th>ProductName</th>\n",
       "      <th>Profit</th>\n",
       "      <th>CompanyName</th>\n",
       "    </tr>\n",
       "  </thead>\n",
       "  <tbody>\n",
       "    <tr>\n",
       "      <th>0</th>\n",
       "      <td>2020</td>\n",
       "      <td>Jan</td>\n",
       "      <td>1</td>\n",
       "      <td>Fish</td>\n",
       "      <td>7415</td>\n",
       "      <td>Pandas</td>\n",
       "    </tr>\n",
       "    <tr>\n",
       "      <th>1</th>\n",
       "      <td>2020</td>\n",
       "      <td>Jan</td>\n",
       "      <td>1</td>\n",
       "      <td>Shrimp</td>\n",
       "      <td>3239</td>\n",
       "      <td>Pandas</td>\n",
       "    </tr>\n",
       "    <tr>\n",
       "      <th>2</th>\n",
       "      <td>2020</td>\n",
       "      <td>Jun</td>\n",
       "      <td>6</td>\n",
       "      <td>Fish</td>\n",
       "      <td>7280</td>\n",
       "      <td>Pandas</td>\n",
       "    </tr>\n",
       "    <tr>\n",
       "      <th>3</th>\n",
       "      <td>2020</td>\n",
       "      <td>Jun</td>\n",
       "      <td>6</td>\n",
       "      <td>Shrimp</td>\n",
       "      <td>2007</td>\n",
       "      <td>Pandas</td>\n",
       "    </tr>\n",
       "    <tr>\n",
       "      <th>4</th>\n",
       "      <td>2020</td>\n",
       "      <td>Jul</td>\n",
       "      <td>7</td>\n",
       "      <td>Fish</td>\n",
       "      <td>3574</td>\n",
       "      <td>Pandas</td>\n",
       "    </tr>\n",
       "    <tr>\n",
       "      <th>5</th>\n",
       "      <td>2020</td>\n",
       "      <td>Jul</td>\n",
       "      <td>7</td>\n",
       "      <td>Shrimp</td>\n",
       "      <td>9285</td>\n",
       "      <td>Pandas</td>\n",
       "    </tr>\n",
       "  </tbody>\n",
       "</table>\n",
       "</div>"
      ],
      "text/plain": [
       "   Year MonthName  MonthNumber ProductName  Profit CompanyName\n",
       "0  2020       Jan            1        Fish    7415      Pandas\n",
       "1  2020       Jan            1      Shrimp    3239      Pandas\n",
       "2  2020       Jun            6        Fish    7280      Pandas\n",
       "3  2020       Jun            6      Shrimp    2007      Pandas\n",
       "4  2020       Jul            7        Fish    3574      Pandas\n",
       "5  2020       Jul            7      Shrimp    9285      Pandas"
      ]
     },
     "execution_count": 6,
     "metadata": {},
     "output_type": "execute_result"
    }
   ],
   "source": [
    "# PascalCase\n",
    "dfAquaPascal = dfAqua.copy()\n",
    "\n",
    "dfAquaPascal.columns = dfAqua.columns.str.title().str.replace(' ', '')\n",
    "dfAquaPascal"
   ]
  },
  {
   "cell_type": "code",
   "execution_count": 7,
   "metadata": {},
   "outputs": [
    {
     "data": {
      "text/html": [
       "<div>\n",
       "<style scoped>\n",
       "    .dataframe tbody tr th:only-of-type {\n",
       "        vertical-align: middle;\n",
       "    }\n",
       "\n",
       "    .dataframe tbody tr th {\n",
       "        vertical-align: top;\n",
       "    }\n",
       "\n",
       "    .dataframe thead th {\n",
       "        text-align: right;\n",
       "    }\n",
       "</style>\n",
       "<table border=\"1\" class=\"dataframe\">\n",
       "  <thead>\n",
       "    <tr style=\"text-align: right;\">\n",
       "      <th></th>\n",
       "      <th>year</th>\n",
       "      <th>month_name</th>\n",
       "      <th>month_number</th>\n",
       "      <th>product_name</th>\n",
       "      <th>profit</th>\n",
       "      <th>company_name</th>\n",
       "    </tr>\n",
       "  </thead>\n",
       "  <tbody>\n",
       "    <tr>\n",
       "      <th>0</th>\n",
       "      <td>2020</td>\n",
       "      <td>Jan</td>\n",
       "      <td>1</td>\n",
       "      <td>Fish</td>\n",
       "      <td>7415</td>\n",
       "      <td>Pandas</td>\n",
       "    </tr>\n",
       "    <tr>\n",
       "      <th>1</th>\n",
       "      <td>2020</td>\n",
       "      <td>Jan</td>\n",
       "      <td>1</td>\n",
       "      <td>Shrimp</td>\n",
       "      <td>3239</td>\n",
       "      <td>Pandas</td>\n",
       "    </tr>\n",
       "    <tr>\n",
       "      <th>2</th>\n",
       "      <td>2020</td>\n",
       "      <td>Jun</td>\n",
       "      <td>6</td>\n",
       "      <td>Fish</td>\n",
       "      <td>7280</td>\n",
       "      <td>Pandas</td>\n",
       "    </tr>\n",
       "    <tr>\n",
       "      <th>3</th>\n",
       "      <td>2020</td>\n",
       "      <td>Jun</td>\n",
       "      <td>6</td>\n",
       "      <td>Shrimp</td>\n",
       "      <td>2007</td>\n",
       "      <td>Pandas</td>\n",
       "    </tr>\n",
       "    <tr>\n",
       "      <th>4</th>\n",
       "      <td>2020</td>\n",
       "      <td>Jul</td>\n",
       "      <td>7</td>\n",
       "      <td>Fish</td>\n",
       "      <td>3574</td>\n",
       "      <td>Pandas</td>\n",
       "    </tr>\n",
       "    <tr>\n",
       "      <th>5</th>\n",
       "      <td>2020</td>\n",
       "      <td>Jul</td>\n",
       "      <td>7</td>\n",
       "      <td>Shrimp</td>\n",
       "      <td>9285</td>\n",
       "      <td>Pandas</td>\n",
       "    </tr>\n",
       "  </tbody>\n",
       "</table>\n",
       "</div>"
      ],
      "text/plain": [
       "   year month_name  month_number product_name  profit company_name\n",
       "0  2020        Jan             1         Fish    7415       Pandas\n",
       "1  2020        Jan             1       Shrimp    3239       Pandas\n",
       "2  2020        Jun             6         Fish    7280       Pandas\n",
       "3  2020        Jun             6       Shrimp    2007       Pandas\n",
       "4  2020        Jul             7         Fish    3574       Pandas\n",
       "5  2020        Jul             7       Shrimp    9285       Pandas"
      ]
     },
     "execution_count": 7,
     "metadata": {},
     "output_type": "execute_result"
    }
   ],
   "source": [
    "# snake_case\n",
    "dfAquaSnake = dfAqua.copy()\n",
    "\n",
    "dfAquaSnake.columns = dfAqua.columns.str.lower().str.replace(' ', '_')\n",
    "dfAquaSnake"
   ]
  },
  {
   "cell_type": "markdown",
   "metadata": {},
   "source": [
    "The `rename()` method allows renaming specific columns."
   ]
  },
  {
   "cell_type": "code",
   "execution_count": 8,
   "metadata": {},
   "outputs": [
    {
     "data": {
      "text/html": [
       "<div>\n",
       "<style scoped>\n",
       "    .dataframe tbody tr th:only-of-type {\n",
       "        vertical-align: middle;\n",
       "    }\n",
       "\n",
       "    .dataframe tbody tr th {\n",
       "        vertical-align: top;\n",
       "    }\n",
       "\n",
       "    .dataframe thead th {\n",
       "        text-align: right;\n",
       "    }\n",
       "</style>\n",
       "<table border=\"1\" class=\"dataframe\">\n",
       "  <thead>\n",
       "    <tr style=\"text-align: right;\">\n",
       "      <th></th>\n",
       "      <th>year</th>\n",
       "      <th>month_name</th>\n",
       "      <th>month_number</th>\n",
       "      <th>commodity</th>\n",
       "      <th>profit</th>\n",
       "      <th>company</th>\n",
       "    </tr>\n",
       "  </thead>\n",
       "  <tbody>\n",
       "    <tr>\n",
       "      <th>0</th>\n",
       "      <td>2020</td>\n",
       "      <td>Jan</td>\n",
       "      <td>1</td>\n",
       "      <td>Fish</td>\n",
       "      <td>7415</td>\n",
       "      <td>Pandas</td>\n",
       "    </tr>\n",
       "    <tr>\n",
       "      <th>1</th>\n",
       "      <td>2020</td>\n",
       "      <td>Jan</td>\n",
       "      <td>1</td>\n",
       "      <td>Shrimp</td>\n",
       "      <td>3239</td>\n",
       "      <td>Pandas</td>\n",
       "    </tr>\n",
       "    <tr>\n",
       "      <th>2</th>\n",
       "      <td>2020</td>\n",
       "      <td>Jun</td>\n",
       "      <td>6</td>\n",
       "      <td>Fish</td>\n",
       "      <td>7280</td>\n",
       "      <td>Pandas</td>\n",
       "    </tr>\n",
       "    <tr>\n",
       "      <th>3</th>\n",
       "      <td>2020</td>\n",
       "      <td>Jun</td>\n",
       "      <td>6</td>\n",
       "      <td>Shrimp</td>\n",
       "      <td>2007</td>\n",
       "      <td>Pandas</td>\n",
       "    </tr>\n",
       "    <tr>\n",
       "      <th>4</th>\n",
       "      <td>2020</td>\n",
       "      <td>Jul</td>\n",
       "      <td>7</td>\n",
       "      <td>Fish</td>\n",
       "      <td>3574</td>\n",
       "      <td>Pandas</td>\n",
       "    </tr>\n",
       "    <tr>\n",
       "      <th>5</th>\n",
       "      <td>2020</td>\n",
       "      <td>Jul</td>\n",
       "      <td>7</td>\n",
       "      <td>Shrimp</td>\n",
       "      <td>9285</td>\n",
       "      <td>Pandas</td>\n",
       "    </tr>\n",
       "  </tbody>\n",
       "</table>\n",
       "</div>"
      ],
      "text/plain": [
       "   year month_name  month_number commodity  profit company\n",
       "0  2020        Jan             1      Fish    7415  Pandas\n",
       "1  2020        Jan             1    Shrimp    3239  Pandas\n",
       "2  2020        Jun             6      Fish    7280  Pandas\n",
       "3  2020        Jun             6    Shrimp    2007  Pandas\n",
       "4  2020        Jul             7      Fish    3574  Pandas\n",
       "5  2020        Jul             7    Shrimp    9285  Pandas"
      ]
     },
     "execution_count": 8,
     "metadata": {},
     "output_type": "execute_result"
    }
   ],
   "source": [
    "dfAquaSnake.rename(columns={\n",
    "    'product_name': 'commodity',\n",
    "    'company_name': 'company'\n",
    "})"
   ]
  },
  {
   "cell_type": "markdown",
   "metadata": {},
   "source": [
    "#### Correcting data types"
   ]
  },
  {
   "cell_type": "code",
   "execution_count": 9,
   "metadata": {
    "tags": [
     "hide-cell"
    ]
   },
   "outputs": [],
   "source": [
    "dfAthletes = pd.DataFrame({\n",
    "    'year': [2019, 2019, 2020., 2020, 2020, 2020],\n",
    "    'date': ['20191103', '20190812', '20200125', '20200129', '20200412', '20200220'],\n",
    "    'time': ['145509', '135433', '214412', '124254', '123349', '233517'],\n",
    "    'medal': ['Gold', 'Bronze', 'Silver', 'Bronze', 'Silver', 'Silver'],\n",
    "    'name': ['Wayne', 'Robert', 'Ashley', 'Jamie', 'Jessie', 'Sergio'],\n",
    "    'left_handed': [1, 0, 0, 0, 1, 0]\n",
    "})"
   ]
  },
  {
   "cell_type": "code",
   "execution_count": 9,
   "metadata": {},
   "outputs": [
    {
     "data": {
      "text/html": [
       "<div>\n",
       "<style scoped>\n",
       "    .dataframe tbody tr th:only-of-type {\n",
       "        vertical-align: middle;\n",
       "    }\n",
       "\n",
       "    .dataframe tbody tr th {\n",
       "        vertical-align: top;\n",
       "    }\n",
       "\n",
       "    .dataframe thead th {\n",
       "        text-align: right;\n",
       "    }\n",
       "</style>\n",
       "<table border=\"1\" class=\"dataframe\">\n",
       "  <thead>\n",
       "    <tr style=\"text-align: right;\">\n",
       "      <th></th>\n",
       "      <th>year</th>\n",
       "      <th>date</th>\n",
       "      <th>time</th>\n",
       "      <th>medal</th>\n",
       "      <th>name</th>\n",
       "      <th>left_handed</th>\n",
       "    </tr>\n",
       "  </thead>\n",
       "  <tbody>\n",
       "    <tr>\n",
       "      <th>0</th>\n",
       "      <td>2019.0</td>\n",
       "      <td>20191103</td>\n",
       "      <td>145509</td>\n",
       "      <td>Gold</td>\n",
       "      <td>Wayne</td>\n",
       "      <td>1</td>\n",
       "    </tr>\n",
       "    <tr>\n",
       "      <th>1</th>\n",
       "      <td>2019.0</td>\n",
       "      <td>20190812</td>\n",
       "      <td>135433</td>\n",
       "      <td>Bronze</td>\n",
       "      <td>Robert</td>\n",
       "      <td>0</td>\n",
       "    </tr>\n",
       "    <tr>\n",
       "      <th>2</th>\n",
       "      <td>2020.0</td>\n",
       "      <td>20200125</td>\n",
       "      <td>214412</td>\n",
       "      <td>Silver</td>\n",
       "      <td>Ashley</td>\n",
       "      <td>0</td>\n",
       "    </tr>\n",
       "    <tr>\n",
       "      <th>3</th>\n",
       "      <td>2020.0</td>\n",
       "      <td>20200129</td>\n",
       "      <td>124254</td>\n",
       "      <td>Bronze</td>\n",
       "      <td>Jamie</td>\n",
       "      <td>0</td>\n",
       "    </tr>\n",
       "    <tr>\n",
       "      <th>4</th>\n",
       "      <td>2020.0</td>\n",
       "      <td>20200412</td>\n",
       "      <td>123349</td>\n",
       "      <td>Silver</td>\n",
       "      <td>Jessie</td>\n",
       "      <td>1</td>\n",
       "    </tr>\n",
       "    <tr>\n",
       "      <th>5</th>\n",
       "      <td>2020.0</td>\n",
       "      <td>20200220</td>\n",
       "      <td>233517</td>\n",
       "      <td>Silver</td>\n",
       "      <td>Sergio</td>\n",
       "      <td>0</td>\n",
       "    </tr>\n",
       "  </tbody>\n",
       "</table>\n",
       "</div>"
      ],
      "text/plain": [
       "     year      date    time   medal    name  left_handed\n",
       "0  2019.0  20191103  145509    Gold   Wayne            1\n",
       "1  2019.0  20190812  135433  Bronze  Robert            0\n",
       "2  2020.0  20200125  214412  Silver  Ashley            0\n",
       "3  2020.0  20200129  124254  Bronze   Jamie            0\n",
       "4  2020.0  20200412  123349  Silver  Jessie            1\n",
       "5  2020.0  20200220  233517  Silver  Sergio            0"
      ]
     },
     "execution_count": 9,
     "metadata": {},
     "output_type": "execute_result"
    }
   ],
   "source": [
    "dfAthletes"
   ]
  },
  {
   "cell_type": "code",
   "execution_count": 10,
   "metadata": {},
   "outputs": [
    {
     "data": {
      "text/plain": [
       "year           float64\n",
       "date            object\n",
       "time            object\n",
       "medal           object\n",
       "name            object\n",
       "left_handed      int64\n",
       "dtype: object"
      ]
     },
     "execution_count": 10,
     "metadata": {},
     "output_type": "execute_result"
    }
   ],
   "source": [
    "dfAthletes.dtypes"
   ]
  },
  {
   "cell_type": "markdown",
   "metadata": {},
   "source": [
    "Simple data types (string or numeric) can easily be corrected using the `astype()` method."
   ]
  },
  {
   "cell_type": "code",
   "execution_count": 11,
   "metadata": {},
   "outputs": [
    {
     "data": {
      "text/html": [
       "<div>\n",
       "<style scoped>\n",
       "    .dataframe tbody tr th:only-of-type {\n",
       "        vertical-align: middle;\n",
       "    }\n",
       "\n",
       "    .dataframe tbody tr th {\n",
       "        vertical-align: top;\n",
       "    }\n",
       "\n",
       "    .dataframe thead th {\n",
       "        text-align: right;\n",
       "    }\n",
       "</style>\n",
       "<table border=\"1\" class=\"dataframe\">\n",
       "  <thead>\n",
       "    <tr style=\"text-align: right;\">\n",
       "      <th></th>\n",
       "      <th>year</th>\n",
       "      <th>date</th>\n",
       "      <th>time</th>\n",
       "      <th>medal</th>\n",
       "      <th>name</th>\n",
       "      <th>left_handed</th>\n",
       "    </tr>\n",
       "  </thead>\n",
       "  <tbody>\n",
       "    <tr>\n",
       "      <th>0</th>\n",
       "      <td>2019</td>\n",
       "      <td>20191103</td>\n",
       "      <td>145509</td>\n",
       "      <td>Gold</td>\n",
       "      <td>Wayne</td>\n",
       "      <td>True</td>\n",
       "    </tr>\n",
       "    <tr>\n",
       "      <th>1</th>\n",
       "      <td>2019</td>\n",
       "      <td>20190812</td>\n",
       "      <td>135433</td>\n",
       "      <td>Bronze</td>\n",
       "      <td>Robert</td>\n",
       "      <td>False</td>\n",
       "    </tr>\n",
       "    <tr>\n",
       "      <th>2</th>\n",
       "      <td>2020</td>\n",
       "      <td>20200125</td>\n",
       "      <td>214412</td>\n",
       "      <td>Silver</td>\n",
       "      <td>Ashley</td>\n",
       "      <td>False</td>\n",
       "    </tr>\n",
       "    <tr>\n",
       "      <th>3</th>\n",
       "      <td>2020</td>\n",
       "      <td>20200129</td>\n",
       "      <td>124254</td>\n",
       "      <td>Bronze</td>\n",
       "      <td>Jamie</td>\n",
       "      <td>False</td>\n",
       "    </tr>\n",
       "    <tr>\n",
       "      <th>4</th>\n",
       "      <td>2020</td>\n",
       "      <td>20200412</td>\n",
       "      <td>123349</td>\n",
       "      <td>Silver</td>\n",
       "      <td>Jessie</td>\n",
       "      <td>True</td>\n",
       "    </tr>\n",
       "    <tr>\n",
       "      <th>5</th>\n",
       "      <td>2020</td>\n",
       "      <td>20200220</td>\n",
       "      <td>233517</td>\n",
       "      <td>Silver</td>\n",
       "      <td>Sergio</td>\n",
       "      <td>False</td>\n",
       "    </tr>\n",
       "  </tbody>\n",
       "</table>\n",
       "</div>"
      ],
      "text/plain": [
       "   year      date    time   medal    name  left_handed\n",
       "0  2019  20191103  145509    Gold   Wayne         True\n",
       "1  2019  20190812  135433  Bronze  Robert        False\n",
       "2  2020  20200125  214412  Silver  Ashley        False\n",
       "3  2020  20200129  124254  Bronze   Jamie        False\n",
       "4  2020  20200412  123349  Silver  Jessie         True\n",
       "5  2020  20200220  233517  Silver  Sergio        False"
      ]
     },
     "execution_count": 11,
     "metadata": {},
     "output_type": "execute_result"
    }
   ],
   "source": [
    "dfAthletes = dfAthletes.astype({\n",
    "    'year': int,\n",
    "    'left_handed': bool\n",
    "})\n",
    "dfAthletes"
   ]
  },
  {
   "cell_type": "markdown",
   "metadata": {},
   "source": [
    "For more complex data types (date or categorical), the corresponding function has to be used."
   ]
  },
  {
   "cell_type": "code",
   "execution_count": 12,
   "metadata": {},
   "outputs": [
    {
     "data": {
      "text/plain": [
       "0   2019-11-03\n",
       "1   2019-08-12\n",
       "2   2020-01-25\n",
       "3   2020-01-29\n",
       "4   2020-04-12\n",
       "5   2020-02-20\n",
       "Name: date, dtype: datetime64[ns]"
      ]
     },
     "execution_count": 12,
     "metadata": {},
     "output_type": "execute_result"
    }
   ],
   "source": [
    "pd.to_datetime(dfAthletes.date, format='%Y%m%d')"
   ]
  },
  {
   "cell_type": "code",
   "execution_count": 13,
   "metadata": {},
   "outputs": [
    {
     "data": {
      "text/plain": [
       "0   2019-11-03 14:55:09\n",
       "1   2019-08-12 13:54:33\n",
       "2   2020-01-25 21:44:12\n",
       "3   2020-01-29 12:42:54\n",
       "4   2020-04-12 12:33:49\n",
       "5   2020-02-20 23:35:17\n",
       "dtype: datetime64[ns]"
      ]
     },
     "execution_count": 13,
     "metadata": {},
     "output_type": "execute_result"
    }
   ],
   "source": [
    "pd.to_datetime(dfAthletes.date + ' ' + dfAthletes.time, format='%Y%m%d %H%M%S')"
   ]
  },
  {
   "cell_type": "code",
   "execution_count": 14,
   "metadata": {},
   "outputs": [
    {
     "data": {
      "text/plain": [
       "['Gold', 'Bronze', 'Silver', 'Bronze', 'Silver', 'Silver']\n",
       "Categories (3, object): ['Bronze', 'Silver', 'Gold']"
      ]
     },
     "execution_count": 14,
     "metadata": {},
     "output_type": "execute_result"
    }
   ],
   "source": [
    "pd.Categorical(dfAthletes.medal, categories=['Bronze', 'Silver', 'Gold'])"
   ]
  },
  {
   "cell_type": "code",
   "execution_count": 15,
   "metadata": {},
   "outputs": [
    {
     "data": {
      "text/html": [
       "<div>\n",
       "<style scoped>\n",
       "    .dataframe tbody tr th:only-of-type {\n",
       "        vertical-align: middle;\n",
       "    }\n",
       "\n",
       "    .dataframe tbody tr th {\n",
       "        vertical-align: top;\n",
       "    }\n",
       "\n",
       "    .dataframe thead th {\n",
       "        text-align: right;\n",
       "    }\n",
       "</style>\n",
       "<table border=\"1\" class=\"dataframe\">\n",
       "  <thead>\n",
       "    <tr style=\"text-align: right;\">\n",
       "      <th></th>\n",
       "      <th>year</th>\n",
       "      <th>date</th>\n",
       "      <th>time</th>\n",
       "      <th>medal</th>\n",
       "      <th>name</th>\n",
       "      <th>left_handed</th>\n",
       "    </tr>\n",
       "  </thead>\n",
       "  <tbody>\n",
       "    <tr>\n",
       "      <th>0</th>\n",
       "      <td>2019</td>\n",
       "      <td>2019-11-03</td>\n",
       "      <td>145509</td>\n",
       "      <td>Gold</td>\n",
       "      <td>Wayne</td>\n",
       "      <td>True</td>\n",
       "    </tr>\n",
       "    <tr>\n",
       "      <th>1</th>\n",
       "      <td>2019</td>\n",
       "      <td>2019-08-12</td>\n",
       "      <td>135433</td>\n",
       "      <td>Bronze</td>\n",
       "      <td>Robert</td>\n",
       "      <td>False</td>\n",
       "    </tr>\n",
       "    <tr>\n",
       "      <th>2</th>\n",
       "      <td>2020</td>\n",
       "      <td>2020-01-25</td>\n",
       "      <td>214412</td>\n",
       "      <td>Silver</td>\n",
       "      <td>Ashley</td>\n",
       "      <td>False</td>\n",
       "    </tr>\n",
       "    <tr>\n",
       "      <th>3</th>\n",
       "      <td>2020</td>\n",
       "      <td>2020-01-29</td>\n",
       "      <td>124254</td>\n",
       "      <td>Bronze</td>\n",
       "      <td>Jamie</td>\n",
       "      <td>False</td>\n",
       "    </tr>\n",
       "    <tr>\n",
       "      <th>4</th>\n",
       "      <td>2020</td>\n",
       "      <td>2020-04-12</td>\n",
       "      <td>123349</td>\n",
       "      <td>Silver</td>\n",
       "      <td>Jessie</td>\n",
       "      <td>True</td>\n",
       "    </tr>\n",
       "    <tr>\n",
       "      <th>5</th>\n",
       "      <td>2020</td>\n",
       "      <td>2020-02-20</td>\n",
       "      <td>233517</td>\n",
       "      <td>Silver</td>\n",
       "      <td>Sergio</td>\n",
       "      <td>False</td>\n",
       "    </tr>\n",
       "  </tbody>\n",
       "</table>\n",
       "</div>"
      ],
      "text/plain": [
       "   year       date    time   medal    name  left_handed\n",
       "0  2019 2019-11-03  145509    Gold   Wayne         True\n",
       "1  2019 2019-08-12  135433  Bronze  Robert        False\n",
       "2  2020 2020-01-25  214412  Silver  Ashley        False\n",
       "3  2020 2020-01-29  124254  Bronze   Jamie        False\n",
       "4  2020 2020-04-12  123349  Silver  Jessie         True\n",
       "5  2020 2020-02-20  233517  Silver  Sergio        False"
      ]
     },
     "execution_count": 15,
     "metadata": {},
     "output_type": "execute_result"
    }
   ],
   "source": [
    "dfAthletes.date = pd.to_datetime(dfAthletes.date, format='%Y%m%d')\n",
    "dfAthletes.medal = pd.Categorical(dfAthletes.medal, categories=['Bronze', 'Silver', 'Gold'])\n",
    "dfAthletes"
   ]
  },
  {
   "cell_type": "code",
   "execution_count": 16,
   "metadata": {},
   "outputs": [
    {
     "data": {
      "text/html": [
       "<div>\n",
       "<style scoped>\n",
       "    .dataframe tbody tr th:only-of-type {\n",
       "        vertical-align: middle;\n",
       "    }\n",
       "\n",
       "    .dataframe tbody tr th {\n",
       "        vertical-align: top;\n",
       "    }\n",
       "\n",
       "    .dataframe thead th {\n",
       "        text-align: right;\n",
       "    }\n",
       "</style>\n",
       "<table border=\"1\" class=\"dataframe\">\n",
       "  <thead>\n",
       "    <tr style=\"text-align: right;\">\n",
       "      <th></th>\n",
       "      <th>year</th>\n",
       "      <th>date</th>\n",
       "      <th>time</th>\n",
       "      <th>medal</th>\n",
       "      <th>name</th>\n",
       "      <th>left_handed</th>\n",
       "    </tr>\n",
       "  </thead>\n",
       "  <tbody>\n",
       "    <tr>\n",
       "      <th>1</th>\n",
       "      <td>2019</td>\n",
       "      <td>2019-08-12</td>\n",
       "      <td>135433</td>\n",
       "      <td>Bronze</td>\n",
       "      <td>Robert</td>\n",
       "      <td>False</td>\n",
       "    </tr>\n",
       "    <tr>\n",
       "      <th>3</th>\n",
       "      <td>2020</td>\n",
       "      <td>2020-01-29</td>\n",
       "      <td>124254</td>\n",
       "      <td>Bronze</td>\n",
       "      <td>Jamie</td>\n",
       "      <td>False</td>\n",
       "    </tr>\n",
       "    <tr>\n",
       "      <th>2</th>\n",
       "      <td>2020</td>\n",
       "      <td>2020-01-25</td>\n",
       "      <td>214412</td>\n",
       "      <td>Silver</td>\n",
       "      <td>Ashley</td>\n",
       "      <td>False</td>\n",
       "    </tr>\n",
       "    <tr>\n",
       "      <th>4</th>\n",
       "      <td>2020</td>\n",
       "      <td>2020-04-12</td>\n",
       "      <td>123349</td>\n",
       "      <td>Silver</td>\n",
       "      <td>Jessie</td>\n",
       "      <td>True</td>\n",
       "    </tr>\n",
       "    <tr>\n",
       "      <th>5</th>\n",
       "      <td>2020</td>\n",
       "      <td>2020-02-20</td>\n",
       "      <td>233517</td>\n",
       "      <td>Silver</td>\n",
       "      <td>Sergio</td>\n",
       "      <td>False</td>\n",
       "    </tr>\n",
       "    <tr>\n",
       "      <th>0</th>\n",
       "      <td>2019</td>\n",
       "      <td>2019-11-03</td>\n",
       "      <td>145509</td>\n",
       "      <td>Gold</td>\n",
       "      <td>Wayne</td>\n",
       "      <td>True</td>\n",
       "    </tr>\n",
       "  </tbody>\n",
       "</table>\n",
       "</div>"
      ],
      "text/plain": [
       "   year       date    time   medal    name  left_handed\n",
       "1  2019 2019-08-12  135433  Bronze  Robert        False\n",
       "3  2020 2020-01-29  124254  Bronze   Jamie        False\n",
       "2  2020 2020-01-25  214412  Silver  Ashley        False\n",
       "4  2020 2020-04-12  123349  Silver  Jessie         True\n",
       "5  2020 2020-02-20  233517  Silver  Sergio        False\n",
       "0  2019 2019-11-03  145509    Gold   Wayne         True"
      ]
     },
     "execution_count": 16,
     "metadata": {},
     "output_type": "execute_result"
    }
   ],
   "source": [
    "dfAthletes.sort_values(by='medal')"
   ]
  },
  {
   "cell_type": "markdown",
   "metadata": {},
   "source": [
    "#### Filtering"
   ]
  },
  {
   "cell_type": "code",
   "execution_count": 17,
   "metadata": {
    "tags": [
     "hide-cell"
    ]
   },
   "outputs": [],
   "source": [
    "dfJob = pd.DataFrame({\n",
    "    'worker': [\n",
    "        'Wayne', 'Robert', 'Ashley',\n",
    "        'Jamie', 'Jessie', 'Sergio',\n",
    "        'Harry', 'Johnny', 'Aaron'\n",
    "    ],\n",
    "    'age': [8, 37, 25, 26, 80, 30, 20, 31, 28],\n",
    "    'job': [\n",
    "        'Student', 'Data Scientist', 'DATA ANALYST',\n",
    "        'data engineer', 'Retired', 'Business Intelligence',\n",
    "        'Student', 'Data Analyst', 'AI Engineer'\n",
    "    ],\n",
    "    'years_on_job': [0, 12, 2, 6, 0, 18, 12, 2, 8]\n",
    "})"
   ]
  },
  {
   "cell_type": "code",
   "execution_count": 17,
   "metadata": {},
   "outputs": [
    {
     "data": {
      "text/html": [
       "<div>\n",
       "<style scoped>\n",
       "    .dataframe tbody tr th:only-of-type {\n",
       "        vertical-align: middle;\n",
       "    }\n",
       "\n",
       "    .dataframe tbody tr th {\n",
       "        vertical-align: top;\n",
       "    }\n",
       "\n",
       "    .dataframe thead th {\n",
       "        text-align: right;\n",
       "    }\n",
       "</style>\n",
       "<table border=\"1\" class=\"dataframe\">\n",
       "  <thead>\n",
       "    <tr style=\"text-align: right;\">\n",
       "      <th></th>\n",
       "      <th>worker</th>\n",
       "      <th>age</th>\n",
       "      <th>job</th>\n",
       "      <th>years_on_job</th>\n",
       "    </tr>\n",
       "  </thead>\n",
       "  <tbody>\n",
       "    <tr>\n",
       "      <th>0</th>\n",
       "      <td>Wayne</td>\n",
       "      <td>8</td>\n",
       "      <td>Student</td>\n",
       "      <td>0</td>\n",
       "    </tr>\n",
       "    <tr>\n",
       "      <th>1</th>\n",
       "      <td>Robert</td>\n",
       "      <td>37</td>\n",
       "      <td>Data Scientist</td>\n",
       "      <td>12</td>\n",
       "    </tr>\n",
       "    <tr>\n",
       "      <th>2</th>\n",
       "      <td>Ashley</td>\n",
       "      <td>25</td>\n",
       "      <td>DATA ANALYST</td>\n",
       "      <td>2</td>\n",
       "    </tr>\n",
       "    <tr>\n",
       "      <th>3</th>\n",
       "      <td>Jamie</td>\n",
       "      <td>26</td>\n",
       "      <td>data engineer</td>\n",
       "      <td>6</td>\n",
       "    </tr>\n",
       "    <tr>\n",
       "      <th>4</th>\n",
       "      <td>Jessie</td>\n",
       "      <td>80</td>\n",
       "      <td>Retired</td>\n",
       "      <td>0</td>\n",
       "    </tr>\n",
       "    <tr>\n",
       "      <th>5</th>\n",
       "      <td>Sergio</td>\n",
       "      <td>30</td>\n",
       "      <td>Business Intelligence</td>\n",
       "      <td>18</td>\n",
       "    </tr>\n",
       "    <tr>\n",
       "      <th>6</th>\n",
       "      <td>Harry</td>\n",
       "      <td>20</td>\n",
       "      <td>Student</td>\n",
       "      <td>12</td>\n",
       "    </tr>\n",
       "    <tr>\n",
       "      <th>7</th>\n",
       "      <td>Johnny</td>\n",
       "      <td>31</td>\n",
       "      <td>Data Analyst</td>\n",
       "      <td>2</td>\n",
       "    </tr>\n",
       "    <tr>\n",
       "      <th>8</th>\n",
       "      <td>Aaron</td>\n",
       "      <td>28</td>\n",
       "      <td>AI Engineer</td>\n",
       "      <td>8</td>\n",
       "    </tr>\n",
       "  </tbody>\n",
       "</table>\n",
       "</div>"
      ],
      "text/plain": [
       "   worker  age                    job  years_on_job\n",
       "0   Wayne    8                Student             0\n",
       "1  Robert   37         Data Scientist            12\n",
       "2  Ashley   25           DATA ANALYST             2\n",
       "3   Jamie   26          data engineer             6\n",
       "4  Jessie   80                Retired             0\n",
       "5  Sergio   30  Business Intelligence            18\n",
       "6   Harry   20                Student            12\n",
       "7  Johnny   31           Data Analyst             2\n",
       "8   Aaron   28            AI Engineer             8"
      ]
     },
     "execution_count": 17,
     "metadata": {},
     "output_type": "execute_result"
    }
   ],
   "source": [
    "dfJob"
   ]
  },
  {
   "cell_type": "markdown",
   "metadata": {},
   "source": [
    "In the dataset above, consider only people who are of legal working age (15 to 60) and are working in the data industry. Notice that `age` minus `years_on_job` (which calculates how old is the worker when he/she starts working) cannot be smaller than 15."
   ]
  },
  {
   "cell_type": "code",
   "execution_count": 18,
   "metadata": {},
   "outputs": [
    {
     "data": {
      "text/html": [
       "<div>\n",
       "<style scoped>\n",
       "    .dataframe tbody tr th:only-of-type {\n",
       "        vertical-align: middle;\n",
       "    }\n",
       "\n",
       "    .dataframe tbody tr th {\n",
       "        vertical-align: top;\n",
       "    }\n",
       "\n",
       "    .dataframe thead th {\n",
       "        text-align: right;\n",
       "    }\n",
       "</style>\n",
       "<table border=\"1\" class=\"dataframe\">\n",
       "  <thead>\n",
       "    <tr style=\"text-align: right;\">\n",
       "      <th></th>\n",
       "      <th>worker</th>\n",
       "      <th>age</th>\n",
       "      <th>job</th>\n",
       "      <th>years_on_job</th>\n",
       "    </tr>\n",
       "  </thead>\n",
       "  <tbody>\n",
       "    <tr>\n",
       "      <th>1</th>\n",
       "      <td>Robert</td>\n",
       "      <td>37</td>\n",
       "      <td>Data Scientist</td>\n",
       "      <td>12</td>\n",
       "    </tr>\n",
       "    <tr>\n",
       "      <th>2</th>\n",
       "      <td>Ashley</td>\n",
       "      <td>25</td>\n",
       "      <td>DATA ANALYST</td>\n",
       "      <td>2</td>\n",
       "    </tr>\n",
       "    <tr>\n",
       "      <th>3</th>\n",
       "      <td>Jamie</td>\n",
       "      <td>26</td>\n",
       "      <td>data engineer</td>\n",
       "      <td>6</td>\n",
       "    </tr>\n",
       "    <tr>\n",
       "      <th>7</th>\n",
       "      <td>Johnny</td>\n",
       "      <td>31</td>\n",
       "      <td>Data Analyst</td>\n",
       "      <td>2</td>\n",
       "    </tr>\n",
       "  </tbody>\n",
       "</table>\n",
       "</div>"
      ],
      "text/plain": [
       "   worker  age             job  years_on_job\n",
       "1  Robert   37  Data Scientist            12\n",
       "2  Ashley   25    DATA ANALYST             2\n",
       "3   Jamie   26   data engineer             6\n",
       "7  Johnny   31    Data Analyst             2"
      ]
     },
     "execution_count": 18,
     "metadata": {},
     "output_type": "execute_result"
    }
   ],
   "source": [
    "dfJob[\n",
    "    (dfJob.job.str.lower().str.contains('data')) &\n",
    "    (dfJob.age >= 15) &\n",
    "    (dfJob.age <= 60) &\n",
    "    (dfJob.age - dfJob.years_on_job >= 15)\n",
    "]"
   ]
  },
  {
   "cell_type": "markdown",
   "metadata": {},
   "source": [
    "### 2.2. Text cleaning"
   ]
  },
  {
   "cell_type": "code",
   "execution_count": 19,
   "metadata": {
    "tags": [
     "remove-cell"
    ]
   },
   "outputs": [],
   "source": [
    "import numpy as np\n",
    "import pandas as pd"
   ]
  },
  {
   "cell_type": "markdown",
   "metadata": {},
   "source": [
    "#### Trimming\n",
    "Space and newline characters usually appear in text columns, because of user's habit."
   ]
  },
  {
   "cell_type": "code",
   "execution_count": 20,
   "metadata": {
    "tags": [
     "hide-cell"
    ]
   },
   "outputs": [],
   "source": [
    "dfTrade = pd.DataFrame({\n",
    "    'year': pd.Series([2017, 2018, 2019, 2020]),\n",
    "    'country': pd.Series([\n",
    "        'United\\nKingdom  ',\n",
    "        '  United\\nKingdom',\n",
    "        'United    Kingdom',\n",
    "        ' United Kingdom\\n']),\n",
    "    'export': pd.Series([5466, 8558, 8435, 8435]),\n",
    "    'import': pd.Series([1546, 3546, 2007, 3574])\n",
    "})"
   ]
  },
  {
   "cell_type": "code",
   "execution_count": 20,
   "metadata": {},
   "outputs": [
    {
     "data": {
      "text/html": [
       "<div>\n",
       "<style scoped>\n",
       "    .dataframe tbody tr th:only-of-type {\n",
       "        vertical-align: middle;\n",
       "    }\n",
       "\n",
       "    .dataframe tbody tr th {\n",
       "        vertical-align: top;\n",
       "    }\n",
       "\n",
       "    .dataframe thead th {\n",
       "        text-align: right;\n",
       "    }\n",
       "</style>\n",
       "<table border=\"1\" class=\"dataframe\">\n",
       "  <thead>\n",
       "    <tr style=\"text-align: right;\">\n",
       "      <th></th>\n",
       "      <th>year</th>\n",
       "      <th>country</th>\n",
       "      <th>export</th>\n",
       "      <th>import</th>\n",
       "    </tr>\n",
       "  </thead>\n",
       "  <tbody>\n",
       "    <tr>\n",
       "      <th>0</th>\n",
       "      <td>2017</td>\n",
       "      <td>United\\nKingdom</td>\n",
       "      <td>5466</td>\n",
       "      <td>1546</td>\n",
       "    </tr>\n",
       "    <tr>\n",
       "      <th>1</th>\n",
       "      <td>2018</td>\n",
       "      <td>United\\nKingdom</td>\n",
       "      <td>8558</td>\n",
       "      <td>3546</td>\n",
       "    </tr>\n",
       "    <tr>\n",
       "      <th>2</th>\n",
       "      <td>2019</td>\n",
       "      <td>United    Kingdom</td>\n",
       "      <td>8435</td>\n",
       "      <td>2007</td>\n",
       "    </tr>\n",
       "    <tr>\n",
       "      <th>3</th>\n",
       "      <td>2020</td>\n",
       "      <td>United Kingdom\\n</td>\n",
       "      <td>8435</td>\n",
       "      <td>3574</td>\n",
       "    </tr>\n",
       "  </tbody>\n",
       "</table>\n",
       "</div>"
      ],
      "text/plain": [
       "   year            country  export  import\n",
       "0  2017  United\\nKingdom      5466    1546\n",
       "1  2018    United\\nKingdom    8558    3546\n",
       "2  2019  United    Kingdom    8435    2007\n",
       "3  2020   United Kingdom\\n    8435    3574"
      ]
     },
     "execution_count": 20,
     "metadata": {},
     "output_type": "execute_result"
    }
   ],
   "source": [
    "dfTrade"
   ]
  },
  {
   "cell_type": "code",
   "execution_count": 21,
   "metadata": {},
   "outputs": [
    {
     "data": {
      "text/plain": [
       "array(['United\\nKingdom  ', '  United\\nKingdom', 'United    Kingdom',\n",
       "       ' United Kingdom\\n'], dtype=object)"
      ]
     },
     "execution_count": 21,
     "metadata": {},
     "output_type": "execute_result"
    }
   ],
   "source": [
    "dfTrade.country.unique()"
   ]
  },
  {
   "cell_type": "code",
   "execution_count": 22,
   "metadata": {},
   "outputs": [
    {
     "data": {
      "text/plain": [
       "0    United Kingdom\n",
       "1    United Kingdom\n",
       "2    United Kingdom\n",
       "3    United Kingdom\n",
       "Name: country, dtype: object"
      ]
     },
     "execution_count": 22,
     "metadata": {},
     "output_type": "execute_result"
    }
   ],
   "source": [
    "dfTrade.country.str.split().str.join(' ')"
   ]
  },
  {
   "cell_type": "code",
   "execution_count": 23,
   "metadata": {},
   "outputs": [
    {
     "data": {
      "text/plain": [
       "array(['United Kingdom'], dtype=object)"
      ]
     },
     "execution_count": 23,
     "metadata": {},
     "output_type": "execute_result"
    }
   ],
   "source": [
    "dfTrade.country = dfTrade.country.str.split().str.join(' ')\n",
    "dfTrade.country.unique()"
   ]
  },
  {
   "cell_type": "markdown",
   "metadata": {},
   "source": [
    "#### Standardization\n",
    "The approach is to translate different naming conventions, abbreviations or formats into one unique value."
   ]
  },
  {
   "cell_type": "code",
   "execution_count": 24,
   "metadata": {
    "tags": [
     "hide-cell"
    ]
   },
   "outputs": [],
   "source": [
    "dfShrimp = pd.DataFrame({\n",
    "    'date': ['2020-01-01', '2020-01-02', '2020-01-03'],\n",
    "    'commodity': ['Shrimp, frozen, chem free', 'Shrimp, frz, chemical-free', 'Prawn, frz, chemical-free'],\n",
    "    'price': [10, 13, 14],\n",
    "    'unit': ['usd/kg', 'USD/KG', 'USD/kg']\n",
    "})"
   ]
  },
  {
   "cell_type": "code",
   "execution_count": 24,
   "metadata": {},
   "outputs": [
    {
     "data": {
      "text/html": [
       "<div>\n",
       "<style scoped>\n",
       "    .dataframe tbody tr th:only-of-type {\n",
       "        vertical-align: middle;\n",
       "    }\n",
       "\n",
       "    .dataframe tbody tr th {\n",
       "        vertical-align: top;\n",
       "    }\n",
       "\n",
       "    .dataframe thead th {\n",
       "        text-align: right;\n",
       "    }\n",
       "</style>\n",
       "<table border=\"1\" class=\"dataframe\">\n",
       "  <thead>\n",
       "    <tr style=\"text-align: right;\">\n",
       "      <th></th>\n",
       "      <th>date</th>\n",
       "      <th>commodity</th>\n",
       "      <th>price</th>\n",
       "      <th>unit</th>\n",
       "    </tr>\n",
       "  </thead>\n",
       "  <tbody>\n",
       "    <tr>\n",
       "      <th>0</th>\n",
       "      <td>2020-01-01</td>\n",
       "      <td>Shrimp, frozen, chem free</td>\n",
       "      <td>10</td>\n",
       "      <td>usd/kg</td>\n",
       "    </tr>\n",
       "    <tr>\n",
       "      <th>1</th>\n",
       "      <td>2020-01-02</td>\n",
       "      <td>Shrimp, frz, chemical-free</td>\n",
       "      <td>13</td>\n",
       "      <td>USD/KG</td>\n",
       "    </tr>\n",
       "    <tr>\n",
       "      <th>2</th>\n",
       "      <td>2020-01-03</td>\n",
       "      <td>Prawn, frz, chemical-free</td>\n",
       "      <td>14</td>\n",
       "      <td>USD/kg</td>\n",
       "    </tr>\n",
       "  </tbody>\n",
       "</table>\n",
       "</div>"
      ],
      "text/plain": [
       "         date                   commodity  price    unit\n",
       "0  2020-01-01   Shrimp, frozen, chem free     10  usd/kg\n",
       "1  2020-01-02  Shrimp, frz, chemical-free     13  USD/KG\n",
       "2  2020-01-03   Prawn, frz, chemical-free     14  USD/kg"
      ]
     },
     "execution_count": 24,
     "metadata": {},
     "output_type": "execute_result"
    }
   ],
   "source": [
    "dfShrimp"
   ]
  },
  {
   "cell_type": "code",
   "execution_count": 25,
   "metadata": {},
   "outputs": [],
   "source": [
    "dfShrimp.commodity = dfShrimp.commodity.str.replace('Prawn', 'Shrimp')\n",
    "dfShrimp.commodity = dfShrimp.commodity.str.replace('frz', 'frozen')\n",
    "dfShrimp.commodity = dfShrimp.commodity.str.replace('chem free', 'chemical-free')\n",
    "dfShrimp.unit = dfShrimp.unit.str.replace('usd', 'USD')\n",
    "dfShrimp.unit = dfShrimp.unit.str.replace('KG', 'kg')"
   ]
  },
  {
   "cell_type": "code",
   "execution_count": 26,
   "metadata": {},
   "outputs": [
    {
     "data": {
      "text/html": [
       "<div>\n",
       "<style scoped>\n",
       "    .dataframe tbody tr th:only-of-type {\n",
       "        vertical-align: middle;\n",
       "    }\n",
       "\n",
       "    .dataframe tbody tr th {\n",
       "        vertical-align: top;\n",
       "    }\n",
       "\n",
       "    .dataframe thead th {\n",
       "        text-align: right;\n",
       "    }\n",
       "</style>\n",
       "<table border=\"1\" class=\"dataframe\">\n",
       "  <thead>\n",
       "    <tr style=\"text-align: right;\">\n",
       "      <th></th>\n",
       "      <th>date</th>\n",
       "      <th>commodity</th>\n",
       "      <th>price</th>\n",
       "      <th>unit</th>\n",
       "    </tr>\n",
       "  </thead>\n",
       "  <tbody>\n",
       "    <tr>\n",
       "      <th>0</th>\n",
       "      <td>2020-01-01</td>\n",
       "      <td>Shrimp, frozen, chemical-free</td>\n",
       "      <td>10</td>\n",
       "      <td>USD/kg</td>\n",
       "    </tr>\n",
       "    <tr>\n",
       "      <th>1</th>\n",
       "      <td>2020-01-02</td>\n",
       "      <td>Shrimp, frozen, chemical-free</td>\n",
       "      <td>13</td>\n",
       "      <td>USD/kg</td>\n",
       "    </tr>\n",
       "    <tr>\n",
       "      <th>2</th>\n",
       "      <td>2020-01-03</td>\n",
       "      <td>Shrimp, frozen, chemical-free</td>\n",
       "      <td>14</td>\n",
       "      <td>USD/kg</td>\n",
       "    </tr>\n",
       "  </tbody>\n",
       "</table>\n",
       "</div>"
      ],
      "text/plain": [
       "         date                      commodity  price    unit\n",
       "0  2020-01-01  Shrimp, frozen, chemical-free     10  USD/kg\n",
       "1  2020-01-02  Shrimp, frozen, chemical-free     13  USD/kg\n",
       "2  2020-01-03  Shrimp, frozen, chemical-free     14  USD/kg"
      ]
     },
     "execution_count": 26,
     "metadata": {},
     "output_type": "execute_result"
    }
   ],
   "source": [
    "dfShrimp"
   ]
  },
  {
   "cell_type": "markdown",
   "metadata": {},
   "source": [
    "#### Padding numbers"
   ]
  },
  {
   "cell_type": "code",
   "execution_count": 27,
   "metadata": {
    "tags": [
     "hide-cell"
    ]
   },
   "outputs": [],
   "source": [
    "dfInfo = pd.DataFrame({\n",
    "    'customer_id': [3, 423, 5464],\n",
    "    'phone': [363334444, 913334444, 123334444],\n",
    "    'name': ['Jack', 'James', 'Gabriel'],\n",
    "    'information': ['England Male', 'Colombia Male', 'France Female']\n",
    "})"
   ]
  },
  {
   "cell_type": "code",
   "execution_count": 27,
   "metadata": {},
   "outputs": [
    {
     "data": {
      "text/html": [
       "<div>\n",
       "<style scoped>\n",
       "    .dataframe tbody tr th:only-of-type {\n",
       "        vertical-align: middle;\n",
       "    }\n",
       "\n",
       "    .dataframe tbody tr th {\n",
       "        vertical-align: top;\n",
       "    }\n",
       "\n",
       "    .dataframe thead th {\n",
       "        text-align: right;\n",
       "    }\n",
       "</style>\n",
       "<table border=\"1\" class=\"dataframe\">\n",
       "  <thead>\n",
       "    <tr style=\"text-align: right;\">\n",
       "      <th></th>\n",
       "      <th>customer_id</th>\n",
       "      <th>phone</th>\n",
       "      <th>name</th>\n",
       "      <th>information</th>\n",
       "    </tr>\n",
       "  </thead>\n",
       "  <tbody>\n",
       "    <tr>\n",
       "      <th>0</th>\n",
       "      <td>3</td>\n",
       "      <td>363334444</td>\n",
       "      <td>Jack</td>\n",
       "      <td>England Male</td>\n",
       "    </tr>\n",
       "    <tr>\n",
       "      <th>1</th>\n",
       "      <td>423</td>\n",
       "      <td>913334444</td>\n",
       "      <td>James</td>\n",
       "      <td>Colombia Male</td>\n",
       "    </tr>\n",
       "    <tr>\n",
       "      <th>2</th>\n",
       "      <td>5464</td>\n",
       "      <td>123334444</td>\n",
       "      <td>Gabriel</td>\n",
       "      <td>France Female</td>\n",
       "    </tr>\n",
       "  </tbody>\n",
       "</table>\n",
       "</div>"
      ],
      "text/plain": [
       "   customer_id      phone     name    information\n",
       "0            3  363334444     Jack   England Male\n",
       "1          423  913334444    James  Colombia Male\n",
       "2         5464  123334444  Gabriel  France Female"
      ]
     },
     "execution_count": 27,
     "metadata": {},
     "output_type": "execute_result"
    }
   ],
   "source": [
    "dfInfo"
   ]
  },
  {
   "cell_type": "code",
   "execution_count": 28,
   "metadata": {},
   "outputs": [
    {
     "data": {
      "text/plain": [
       "customer_id    object\n",
       "phone          object\n",
       "name           object\n",
       "information    object\n",
       "dtype: object"
      ]
     },
     "execution_count": 28,
     "metadata": {},
     "output_type": "execute_result"
    }
   ],
   "source": [
    "dfInfo = dfInfo.astype(str)\n",
    "dfInfo.dtypes"
   ]
  },
  {
   "cell_type": "code",
   "execution_count": 29,
   "metadata": {},
   "outputs": [],
   "source": [
    "dfInfo.customer_id = dfInfo.customer_id.str.pad(width=4, fillchar='0')\n",
    "dfInfo.phone = dfInfo.phone.str.pad(width=10, fillchar='0')"
   ]
  },
  {
   "cell_type": "code",
   "execution_count": 30,
   "metadata": {},
   "outputs": [
    {
     "data": {
      "text/html": [
       "<div>\n",
       "<style scoped>\n",
       "    .dataframe tbody tr th:only-of-type {\n",
       "        vertical-align: middle;\n",
       "    }\n",
       "\n",
       "    .dataframe tbody tr th {\n",
       "        vertical-align: top;\n",
       "    }\n",
       "\n",
       "    .dataframe thead th {\n",
       "        text-align: right;\n",
       "    }\n",
       "</style>\n",
       "<table border=\"1\" class=\"dataframe\">\n",
       "  <thead>\n",
       "    <tr style=\"text-align: right;\">\n",
       "      <th></th>\n",
       "      <th>customer_id</th>\n",
       "      <th>phone</th>\n",
       "      <th>name</th>\n",
       "      <th>information</th>\n",
       "    </tr>\n",
       "  </thead>\n",
       "  <tbody>\n",
       "    <tr>\n",
       "      <th>0</th>\n",
       "      <td>0003</td>\n",
       "      <td>0363334444</td>\n",
       "      <td>Jack</td>\n",
       "      <td>England Male</td>\n",
       "    </tr>\n",
       "    <tr>\n",
       "      <th>1</th>\n",
       "      <td>0423</td>\n",
       "      <td>0913334444</td>\n",
       "      <td>James</td>\n",
       "      <td>Colombia Male</td>\n",
       "    </tr>\n",
       "    <tr>\n",
       "      <th>2</th>\n",
       "      <td>5464</td>\n",
       "      <td>0123334444</td>\n",
       "      <td>Gabriel</td>\n",
       "      <td>France Female</td>\n",
       "    </tr>\n",
       "  </tbody>\n",
       "</table>\n",
       "</div>"
      ],
      "text/plain": [
       "  customer_id       phone     name    information\n",
       "0        0003  0363334444     Jack   England Male\n",
       "1        0423  0913334444    James  Colombia Male\n",
       "2        5464  0123334444  Gabriel  France Female"
      ]
     },
     "execution_count": 30,
     "metadata": {},
     "output_type": "execute_result"
    }
   ],
   "source": [
    "dfInfo"
   ]
  },
  {
   "cell_type": "markdown",
   "metadata": {},
   "source": [
    "#### Spliting a column"
   ]
  },
  {
   "cell_type": "code",
   "execution_count": 31,
   "metadata": {
    "tags": [
     "hide-cell"
    ]
   },
   "outputs": [],
   "source": [
    "dfInfo = pd.DataFrame({\n",
    "    'customer_id': [3, 423, 5464],\n",
    "    'phone': [363334444, 913334444, 123334444],\n",
    "    'name': ['Jack', 'James', 'Gabriel'],\n",
    "    'information': ['England Male', 'Colombia Male', 'France Female']\n",
    "})"
   ]
  },
  {
   "cell_type": "code",
   "execution_count": 31,
   "metadata": {
    "tags": []
   },
   "outputs": [
    {
     "data": {
      "text/html": [
       "<div>\n",
       "<style scoped>\n",
       "    .dataframe tbody tr th:only-of-type {\n",
       "        vertical-align: middle;\n",
       "    }\n",
       "\n",
       "    .dataframe tbody tr th {\n",
       "        vertical-align: top;\n",
       "    }\n",
       "\n",
       "    .dataframe thead th {\n",
       "        text-align: right;\n",
       "    }\n",
       "</style>\n",
       "<table border=\"1\" class=\"dataframe\">\n",
       "  <thead>\n",
       "    <tr style=\"text-align: right;\">\n",
       "      <th></th>\n",
       "      <th>customer_id</th>\n",
       "      <th>phone</th>\n",
       "      <th>name</th>\n",
       "      <th>information</th>\n",
       "    </tr>\n",
       "  </thead>\n",
       "  <tbody>\n",
       "    <tr>\n",
       "      <th>0</th>\n",
       "      <td>3</td>\n",
       "      <td>363334444</td>\n",
       "      <td>Jack</td>\n",
       "      <td>England Male</td>\n",
       "    </tr>\n",
       "    <tr>\n",
       "      <th>1</th>\n",
       "      <td>423</td>\n",
       "      <td>913334444</td>\n",
       "      <td>James</td>\n",
       "      <td>Colombia Male</td>\n",
       "    </tr>\n",
       "    <tr>\n",
       "      <th>2</th>\n",
       "      <td>5464</td>\n",
       "      <td>123334444</td>\n",
       "      <td>Gabriel</td>\n",
       "      <td>France Female</td>\n",
       "    </tr>\n",
       "  </tbody>\n",
       "</table>\n",
       "</div>"
      ],
      "text/plain": [
       "   customer_id      phone     name    information\n",
       "0            3  363334444     Jack   England Male\n",
       "1          423  913334444    James  Colombia Male\n",
       "2         5464  123334444  Gabriel  France Female"
      ]
     },
     "execution_count": 31,
     "metadata": {},
     "output_type": "execute_result"
    }
   ],
   "source": [
    "dfInfo"
   ]
  },
  {
   "cell_type": "code",
   "execution_count": 32,
   "metadata": {
    "tags": []
   },
   "outputs": [
    {
     "data": {
      "text/plain": [
       "0     [England, Male]\n",
       "1    [Colombia, Male]\n",
       "2    [France, Female]\n",
       "Name: information, dtype: object"
      ]
     },
     "execution_count": 32,
     "metadata": {},
     "output_type": "execute_result"
    }
   ],
   "source": [
    "dfInfo['information'].str.split()"
   ]
  },
  {
   "cell_type": "code",
   "execution_count": 33,
   "metadata": {
    "tags": []
   },
   "outputs": [
    {
     "data": {
      "text/html": [
       "<div>\n",
       "<style scoped>\n",
       "    .dataframe tbody tr th:only-of-type {\n",
       "        vertical-align: middle;\n",
       "    }\n",
       "\n",
       "    .dataframe tbody tr th {\n",
       "        vertical-align: top;\n",
       "    }\n",
       "\n",
       "    .dataframe thead th {\n",
       "        text-align: right;\n",
       "    }\n",
       "</style>\n",
       "<table border=\"1\" class=\"dataframe\">\n",
       "  <thead>\n",
       "    <tr style=\"text-align: right;\">\n",
       "      <th></th>\n",
       "      <th>customer_id</th>\n",
       "      <th>phone</th>\n",
       "      <th>name</th>\n",
       "      <th>nationality</th>\n",
       "      <th>gender</th>\n",
       "    </tr>\n",
       "  </thead>\n",
       "  <tbody>\n",
       "    <tr>\n",
       "      <th>0</th>\n",
       "      <td>3</td>\n",
       "      <td>363334444</td>\n",
       "      <td>Jack</td>\n",
       "      <td>England</td>\n",
       "      <td>Male</td>\n",
       "    </tr>\n",
       "    <tr>\n",
       "      <th>1</th>\n",
       "      <td>423</td>\n",
       "      <td>913334444</td>\n",
       "      <td>James</td>\n",
       "      <td>Colombia</td>\n",
       "      <td>Male</td>\n",
       "    </tr>\n",
       "    <tr>\n",
       "      <th>2</th>\n",
       "      <td>5464</td>\n",
       "      <td>123334444</td>\n",
       "      <td>Gabriel</td>\n",
       "      <td>France</td>\n",
       "      <td>Female</td>\n",
       "    </tr>\n",
       "  </tbody>\n",
       "</table>\n",
       "</div>"
      ],
      "text/plain": [
       "   customer_id      phone     name nationality  gender\n",
       "0            3  363334444     Jack     England    Male\n",
       "1          423  913334444    James    Colombia    Male\n",
       "2         5464  123334444  Gabriel      France  Female"
      ]
     },
     "execution_count": 33,
     "metadata": {},
     "output_type": "execute_result"
    }
   ],
   "source": [
    "# unpacking\n",
    "dfInfo['nationality'] = dfInfo['information'].str.split().str[0]\n",
    "dfInfo['gender'] = dfInfo['information'].str.split().str[1]\n",
    "\n",
    "dfInfo.drop(columns=['information'])"
   ]
  },
  {
   "cell_type": "markdown",
   "metadata": {},
   "source": [
    "#### Concatenating columns"
   ]
  },
  {
   "cell_type": "code",
   "execution_count": 34,
   "metadata": {
    "tags": [
     "hide-cell"
    ]
   },
   "outputs": [],
   "source": [
    "dfFootball = pd.DataFrame({\n",
    "    'first_name': ['Wayne', 'Cristiano', 'Lionel'],\n",
    "    'last_name': ['Rooney', 'Ronaldo', 'Messi'],\n",
    "    'position': ['Second Striker', 'Left Winger', 'Right Winger']\n",
    "})"
   ]
  },
  {
   "cell_type": "code",
   "execution_count": 34,
   "metadata": {},
   "outputs": [
    {
     "data": {
      "text/html": [
       "<div>\n",
       "<style scoped>\n",
       "    .dataframe tbody tr th:only-of-type {\n",
       "        vertical-align: middle;\n",
       "    }\n",
       "\n",
       "    .dataframe tbody tr th {\n",
       "        vertical-align: top;\n",
       "    }\n",
       "\n",
       "    .dataframe thead th {\n",
       "        text-align: right;\n",
       "    }\n",
       "</style>\n",
       "<table border=\"1\" class=\"dataframe\">\n",
       "  <thead>\n",
       "    <tr style=\"text-align: right;\">\n",
       "      <th></th>\n",
       "      <th>first_name</th>\n",
       "      <th>last_name</th>\n",
       "      <th>position</th>\n",
       "    </tr>\n",
       "  </thead>\n",
       "  <tbody>\n",
       "    <tr>\n",
       "      <th>0</th>\n",
       "      <td>Wayne</td>\n",
       "      <td>Rooney</td>\n",
       "      <td>Second Striker</td>\n",
       "    </tr>\n",
       "    <tr>\n",
       "      <th>1</th>\n",
       "      <td>Cristiano</td>\n",
       "      <td>Ronaldo</td>\n",
       "      <td>Left Winger</td>\n",
       "    </tr>\n",
       "    <tr>\n",
       "      <th>2</th>\n",
       "      <td>Lionel</td>\n",
       "      <td>Messi</td>\n",
       "      <td>Right Winger</td>\n",
       "    </tr>\n",
       "  </tbody>\n",
       "</table>\n",
       "</div>"
      ],
      "text/plain": [
       "  first_name last_name        position\n",
       "0      Wayne    Rooney  Second Striker\n",
       "1  Cristiano   Ronaldo     Left Winger\n",
       "2     Lionel     Messi    Right Winger"
      ]
     },
     "execution_count": 34,
     "metadata": {},
     "output_type": "execute_result"
    }
   ],
   "source": [
    "dfFootball"
   ]
  },
  {
   "cell_type": "code",
   "execution_count": 35,
   "metadata": {},
   "outputs": [],
   "source": [
    "dfFootball['player'] = dfFootball.first_name + ' ' + dfFootball.last_name"
   ]
  },
  {
   "cell_type": "code",
   "execution_count": 36,
   "metadata": {},
   "outputs": [
    {
     "data": {
      "text/html": [
       "<div>\n",
       "<style scoped>\n",
       "    .dataframe tbody tr th:only-of-type {\n",
       "        vertical-align: middle;\n",
       "    }\n",
       "\n",
       "    .dataframe tbody tr th {\n",
       "        vertical-align: top;\n",
       "    }\n",
       "\n",
       "    .dataframe thead th {\n",
       "        text-align: right;\n",
       "    }\n",
       "</style>\n",
       "<table border=\"1\" class=\"dataframe\">\n",
       "  <thead>\n",
       "    <tr style=\"text-align: right;\">\n",
       "      <th></th>\n",
       "      <th>first_name</th>\n",
       "      <th>last_name</th>\n",
       "      <th>position</th>\n",
       "      <th>player</th>\n",
       "    </tr>\n",
       "  </thead>\n",
       "  <tbody>\n",
       "    <tr>\n",
       "      <th>0</th>\n",
       "      <td>Wayne</td>\n",
       "      <td>Rooney</td>\n",
       "      <td>Second Striker</td>\n",
       "      <td>Wayne Rooney</td>\n",
       "    </tr>\n",
       "    <tr>\n",
       "      <th>1</th>\n",
       "      <td>Cristiano</td>\n",
       "      <td>Ronaldo</td>\n",
       "      <td>Left Winger</td>\n",
       "      <td>Cristiano Ronaldo</td>\n",
       "    </tr>\n",
       "    <tr>\n",
       "      <th>2</th>\n",
       "      <td>Lionel</td>\n",
       "      <td>Messi</td>\n",
       "      <td>Right Winger</td>\n",
       "      <td>Lionel Messi</td>\n",
       "    </tr>\n",
       "  </tbody>\n",
       "</table>\n",
       "</div>"
      ],
      "text/plain": [
       "  first_name last_name        position             player\n",
       "0      Wayne    Rooney  Second Striker       Wayne Rooney\n",
       "1  Cristiano   Ronaldo     Left Winger  Cristiano Ronaldo\n",
       "2     Lionel     Messi    Right Winger       Lionel Messi"
      ]
     },
     "execution_count": 36,
     "metadata": {},
     "output_type": "execute_result"
    }
   ],
   "source": [
    "dfFootball"
   ]
  },
  {
   "cell_type": "markdown",
   "metadata": {},
   "source": [
    "## 3. Low quality data"
   ]
  },
  {
   "cell_type": "markdown",
   "metadata": {},
   "source": [
    "### 3.1. Handling missing data\n",
    "There are three reasons that cause missing data, illustrated in the example below. This table records the IQ score of 9 people at different ages, and we assume there are 3 missing values caused by each reason.\n",
    "\n",
    "|Age   |IQ     |MCAR|MAR|MNAR|\n",
    "|:----:|:-----:|:--:|:-:|:--:|\n",
    "|**20**|**120**|120 |   |120 |\n",
    "|**22**|**112**|    |   |112 |\n",
    "|**24**|**127**|127 |   |127 |\n",
    "|**29**|**97** |    |97 |    |\n",
    "|**30**|**103**|103 |103|103 |\n",
    "|**40**|**95** |95  |95 |    |\n",
    "|**45**|**141**|    |141|141 |\n",
    "|**47**|**92** |92  |92 |    |\n",
    "|**52**|**115**|115 |115|115 |\n",
    "\n",
    "::::{tab-set}\n",
    "\n",
    ":::{tab-item} MCAR\n",
    "\n",
    "MCAR (Missing Completely At Random): The name says it all, there's no actual reason behind the missing values. This type of missing does not lead to bias, therefore *deletion* and *imputation* are both suitable solutions.\n",
    ":::\n",
    "\n",
    ":::{tab-item} MAR\n",
    "\n",
    "MAR (Missing At Random): The missing values in a feature relate to another feature. In the example above, people under 25 years old miss their IQ score. Deleting these records causes bias, making *imputation* the best choice.\n",
    ":::\n",
    "\n",
    ":::{tab-item} MAR\n",
    "\n",
    "MNAR (Missing Not At Random): Assume people with IQ score of 100 or less tend to refuse to answer the survey. There is no way missing data can be inferred only by looking at collected data. Either *deletion* or *imputation* makes data biased, and Data Scientists may not even realize if they are facing a MNAR case.\n",
    ":::\n",
    "\n",
    "::::"
   ]
  },
  {
   "cell_type": "code",
   "execution_count": 37,
   "metadata": {
    "tags": [
     "remove-cell"
    ]
   },
   "outputs": [],
   "source": [
    "import numpy as np\n",
    "import pandas as pd"
   ]
  },
  {
   "cell_type": "code",
   "execution_count": 38,
   "metadata": {
    "tags": [
     "hide-input"
    ]
   },
   "outputs": [
    {
     "data": {
      "text/html": [
       "<div>\n",
       "<style scoped>\n",
       "    .dataframe tbody tr th:only-of-type {\n",
       "        vertical-align: middle;\n",
       "    }\n",
       "\n",
       "    .dataframe tbody tr th {\n",
       "        vertical-align: top;\n",
       "    }\n",
       "\n",
       "    .dataframe thead th {\n",
       "        text-align: right;\n",
       "    }\n",
       "</style>\n",
       "<table border=\"1\" class=\"dataframe\">\n",
       "  <thead>\n",
       "    <tr style=\"text-align: right;\">\n",
       "      <th></th>\n",
       "      <th>country</th>\n",
       "      <th>cases</th>\n",
       "      <th>deaths</th>\n",
       "      <th>recovered</th>\n",
       "      <th>area</th>\n",
       "    </tr>\n",
       "  </thead>\n",
       "  <tbody>\n",
       "    <tr>\n",
       "      <th>0</th>\n",
       "      <td>USA</td>\n",
       "      <td>4169991</td>\n",
       "      <td>147333</td>\n",
       "      <td>1979617</td>\n",
       "      <td>North America</td>\n",
       "    </tr>\n",
       "    <tr>\n",
       "      <th>1</th>\n",
       "      <td>Brazil</td>\n",
       "      <td>2289951</td>\n",
       "      <td>84207</td>\n",
       "      <td>1570237</td>\n",
       "      <td>South America</td>\n",
       "    </tr>\n",
       "    <tr>\n",
       "      <th>2</th>\n",
       "      <td>India</td>\n",
       "      <td>1288130</td>\n",
       "      <td>30645</td>\n",
       "      <td>817593</td>\n",
       "      <td>Asia</td>\n",
       "    </tr>\n",
       "    <tr>\n",
       "      <th>3</th>\n",
       "      <td>Russia</td>\n",
       "      <td>795038</td>\n",
       "      <td>12892</td>\n",
       "      <td>580330</td>\n",
       "      <td>Europe</td>\n",
       "    </tr>\n",
       "    <tr>\n",
       "      <th>4</th>\n",
       "      <td>South Africa</td>\n",
       "      <td>408052</td>\n",
       "      <td>6093</td>\n",
       "      <td>236260</td>\n",
       "      <td>Africa</td>\n",
       "    </tr>\n",
       "    <tr>\n",
       "      <th>5</th>\n",
       "      <td>Peru</td>\n",
       "      <td>371096</td>\n",
       "      <td>17645</td>\n",
       "      <td>255945</td>\n",
       "      <td>South America</td>\n",
       "    </tr>\n",
       "    <tr>\n",
       "      <th>6</th>\n",
       "      <td>Mexico</td>\n",
       "      <td>370712</td>\n",
       "      <td>41908</td>\n",
       "      <td>236209</td>\n",
       "      <td>North America</td>\n",
       "    </tr>\n",
       "    <tr>\n",
       "      <th>7</th>\n",
       "      <td>Chile</td>\n",
       "      <td>338759</td>\n",
       "      <td>8838</td>\n",
       "      <td>311431</td>\n",
       "      <td>South America</td>\n",
       "    </tr>\n",
       "    <tr>\n",
       "      <th>8</th>\n",
       "      <td>Iran</td>\n",
       "      <td>284034</td>\n",
       "      <td>15074</td>\n",
       "      <td>247230</td>\n",
       "      <td>Asia</td>\n",
       "    </tr>\n",
       "    <tr>\n",
       "      <th>9</th>\n",
       "      <td>Italy</td>\n",
       "      <td>245338</td>\n",
       "      <td>35029</td>\n",
       "      <td>197842</td>\n",
       "      <td>Europe</td>\n",
       "    </tr>\n",
       "  </tbody>\n",
       "</table>\n",
       "</div>"
      ],
      "text/plain": [
       "        country    cases  deaths  recovered           area\n",
       "0           USA  4169991  147333    1979617  North America\n",
       "1        Brazil  2289951   84207    1570237  South America\n",
       "2         India  1288130   30645     817593           Asia\n",
       "3        Russia   795038   12892     580330         Europe\n",
       "4  South Africa   408052    6093     236260         Africa\n",
       "5          Peru   371096   17645     255945  South America\n",
       "6        Mexico   370712   41908     236209  North America\n",
       "7         Chile   338759    8838     311431  South America\n",
       "8          Iran   284034   15074     247230           Asia\n",
       "9         Italy   245338   35029     197842         Europe"
      ]
     },
     "execution_count": 38,
     "metadata": {},
     "output_type": "execute_result"
    }
   ],
   "source": [
    "# COVID-19 data, complete data\n",
    "country = ['USA', 'Brazil', 'India', 'Russia', 'South Africa',\n",
    "           'Peru', 'Mexico', 'Chile', 'Iran', 'Italy']\n",
    "cases = [4169991, 2289951, 1288130, 795038, 408052, 371096, 370712, 338759, 284034, 245338]\n",
    "deaths = [147333, 84207, 30645, 12892, 6093, 17645, 41908, 8838, 15074, 35029]\n",
    "recovered = [1979617, 1570237, 817593, 580330, 236260, 255945, 236209, 311431, 247230, 197842]\n",
    "area = ['North America', 'South America', 'Asia', 'Europe', 'Africa',\n",
    "        'South America', 'North America', 'South America', 'Asia', 'Europe']\n",
    "\n",
    "pd.DataFrame({\n",
    "    'country': country,\n",
    "    'cases': cases,\n",
    "    'deaths': deaths,\n",
    "    'recovered': recovered,\n",
    "    'area': area\n",
    "})"
   ]
  },
  {
   "cell_type": "markdown",
   "metadata": {},
   "source": [
    "#### Columns removal\n",
    "A column having more than 50% of missing data can be dropped."
   ]
  },
  {
   "cell_type": "code",
   "execution_count": 39,
   "metadata": {
    "tags": [
     "remove-cell"
    ]
   },
   "outputs": [],
   "source": [
    "import numpy as np\n",
    "import pandas as pd"
   ]
  },
  {
   "cell_type": "code",
   "execution_count": 40,
   "metadata": {
    "tags": [
     "hide-cell"
    ]
   },
   "outputs": [],
   "source": [
    "country = ['USA', 'Brazil', 'India', 'Russia', 'South Africa', 'Peru', 'Mexico', 'Chile', 'Iran', 'Italy']\n",
    "cases = [4169991, 2289951, 1288130, 795038, 408052, 371096, 370712, 338759, 284034, 245338]\n",
    "deaths = [147333, 84207, 30645, 12892, 6093, 17645, 41908, 8838, 15074, 35029]\n",
    "recovered = [1979617, None, None, 580330, None, None, 236209, None, 247230, None]\n",
    "\n",
    "dfCovid = pd.DataFrame({\n",
    "    'country': country,\n",
    "    'cases': cases,\n",
    "    'deaths': deaths,\n",
    "    'recovered': recovered\n",
    "})"
   ]
  },
  {
   "cell_type": "code",
   "execution_count": 40,
   "metadata": {},
   "outputs": [
    {
     "data": {
      "text/html": [
       "<div>\n",
       "<style scoped>\n",
       "    .dataframe tbody tr th:only-of-type {\n",
       "        vertical-align: middle;\n",
       "    }\n",
       "\n",
       "    .dataframe tbody tr th {\n",
       "        vertical-align: top;\n",
       "    }\n",
       "\n",
       "    .dataframe thead th {\n",
       "        text-align: right;\n",
       "    }\n",
       "</style>\n",
       "<table border=\"1\" class=\"dataframe\">\n",
       "  <thead>\n",
       "    <tr style=\"text-align: right;\">\n",
       "      <th></th>\n",
       "      <th>country</th>\n",
       "      <th>cases</th>\n",
       "      <th>deaths</th>\n",
       "      <th>recovered</th>\n",
       "    </tr>\n",
       "  </thead>\n",
       "  <tbody>\n",
       "    <tr>\n",
       "      <th>0</th>\n",
       "      <td>USA</td>\n",
       "      <td>4169991</td>\n",
       "      <td>147333</td>\n",
       "      <td>1979617.0</td>\n",
       "    </tr>\n",
       "    <tr>\n",
       "      <th>1</th>\n",
       "      <td>Brazil</td>\n",
       "      <td>2289951</td>\n",
       "      <td>84207</td>\n",
       "      <td>NaN</td>\n",
       "    </tr>\n",
       "    <tr>\n",
       "      <th>2</th>\n",
       "      <td>India</td>\n",
       "      <td>1288130</td>\n",
       "      <td>30645</td>\n",
       "      <td>NaN</td>\n",
       "    </tr>\n",
       "    <tr>\n",
       "      <th>3</th>\n",
       "      <td>Russia</td>\n",
       "      <td>795038</td>\n",
       "      <td>12892</td>\n",
       "      <td>580330.0</td>\n",
       "    </tr>\n",
       "    <tr>\n",
       "      <th>4</th>\n",
       "      <td>South Africa</td>\n",
       "      <td>408052</td>\n",
       "      <td>6093</td>\n",
       "      <td>NaN</td>\n",
       "    </tr>\n",
       "    <tr>\n",
       "      <th>5</th>\n",
       "      <td>Peru</td>\n",
       "      <td>371096</td>\n",
       "      <td>17645</td>\n",
       "      <td>NaN</td>\n",
       "    </tr>\n",
       "    <tr>\n",
       "      <th>6</th>\n",
       "      <td>Mexico</td>\n",
       "      <td>370712</td>\n",
       "      <td>41908</td>\n",
       "      <td>236209.0</td>\n",
       "    </tr>\n",
       "    <tr>\n",
       "      <th>7</th>\n",
       "      <td>Chile</td>\n",
       "      <td>338759</td>\n",
       "      <td>8838</td>\n",
       "      <td>NaN</td>\n",
       "    </tr>\n",
       "    <tr>\n",
       "      <th>8</th>\n",
       "      <td>Iran</td>\n",
       "      <td>284034</td>\n",
       "      <td>15074</td>\n",
       "      <td>247230.0</td>\n",
       "    </tr>\n",
       "    <tr>\n",
       "      <th>9</th>\n",
       "      <td>Italy</td>\n",
       "      <td>245338</td>\n",
       "      <td>35029</td>\n",
       "      <td>NaN</td>\n",
       "    </tr>\n",
       "  </tbody>\n",
       "</table>\n",
       "</div>"
      ],
      "text/plain": [
       "        country    cases  deaths  recovered\n",
       "0           USA  4169991  147333  1979617.0\n",
       "1        Brazil  2289951   84207        NaN\n",
       "2         India  1288130   30645        NaN\n",
       "3        Russia   795038   12892   580330.0\n",
       "4  South Africa   408052    6093        NaN\n",
       "5          Peru   371096   17645        NaN\n",
       "6        Mexico   370712   41908   236209.0\n",
       "7         Chile   338759    8838        NaN\n",
       "8          Iran   284034   15074   247230.0\n",
       "9         Italy   245338   35029        NaN"
      ]
     },
     "execution_count": 40,
     "metadata": {},
     "output_type": "execute_result"
    }
   ],
   "source": [
    "dfCovid"
   ]
  },
  {
   "cell_type": "code",
   "execution_count": 41,
   "metadata": {},
   "outputs": [
    {
     "data": {
      "text/plain": [
       "country       0%\n",
       "cases         0%\n",
       "deaths        0%\n",
       "recovered    60%\n",
       "dtype: object"
      ]
     },
     "execution_count": 41,
     "metadata": {},
     "output_type": "execute_result"
    }
   ],
   "source": [
    "dfCovid.isna().mean().map('{:.0%}'.format)"
   ]
  },
  {
   "cell_type": "code",
   "execution_count": 42,
   "metadata": {},
   "outputs": [
    {
     "data": {
      "text/html": [
       "<div>\n",
       "<style scoped>\n",
       "    .dataframe tbody tr th:only-of-type {\n",
       "        vertical-align: middle;\n",
       "    }\n",
       "\n",
       "    .dataframe tbody tr th {\n",
       "        vertical-align: top;\n",
       "    }\n",
       "\n",
       "    .dataframe thead th {\n",
       "        text-align: right;\n",
       "    }\n",
       "</style>\n",
       "<table border=\"1\" class=\"dataframe\">\n",
       "  <thead>\n",
       "    <tr style=\"text-align: right;\">\n",
       "      <th></th>\n",
       "      <th>country</th>\n",
       "      <th>cases</th>\n",
       "      <th>deaths</th>\n",
       "    </tr>\n",
       "  </thead>\n",
       "  <tbody>\n",
       "    <tr>\n",
       "      <th>0</th>\n",
       "      <td>USA</td>\n",
       "      <td>4169991</td>\n",
       "      <td>147333</td>\n",
       "    </tr>\n",
       "    <tr>\n",
       "      <th>1</th>\n",
       "      <td>Brazil</td>\n",
       "      <td>2289951</td>\n",
       "      <td>84207</td>\n",
       "    </tr>\n",
       "    <tr>\n",
       "      <th>2</th>\n",
       "      <td>India</td>\n",
       "      <td>1288130</td>\n",
       "      <td>30645</td>\n",
       "    </tr>\n",
       "    <tr>\n",
       "      <th>3</th>\n",
       "      <td>Russia</td>\n",
       "      <td>795038</td>\n",
       "      <td>12892</td>\n",
       "    </tr>\n",
       "    <tr>\n",
       "      <th>4</th>\n",
       "      <td>South Africa</td>\n",
       "      <td>408052</td>\n",
       "      <td>6093</td>\n",
       "    </tr>\n",
       "    <tr>\n",
       "      <th>5</th>\n",
       "      <td>Peru</td>\n",
       "      <td>371096</td>\n",
       "      <td>17645</td>\n",
       "    </tr>\n",
       "    <tr>\n",
       "      <th>6</th>\n",
       "      <td>Mexico</td>\n",
       "      <td>370712</td>\n",
       "      <td>41908</td>\n",
       "    </tr>\n",
       "    <tr>\n",
       "      <th>7</th>\n",
       "      <td>Chile</td>\n",
       "      <td>338759</td>\n",
       "      <td>8838</td>\n",
       "    </tr>\n",
       "    <tr>\n",
       "      <th>8</th>\n",
       "      <td>Iran</td>\n",
       "      <td>284034</td>\n",
       "      <td>15074</td>\n",
       "    </tr>\n",
       "    <tr>\n",
       "      <th>9</th>\n",
       "      <td>Italy</td>\n",
       "      <td>245338</td>\n",
       "      <td>35029</td>\n",
       "    </tr>\n",
       "  </tbody>\n",
       "</table>\n",
       "</div>"
      ],
      "text/plain": [
       "        country    cases  deaths\n",
       "0           USA  4169991  147333\n",
       "1        Brazil  2289951   84207\n",
       "2         India  1288130   30645\n",
       "3        Russia   795038   12892\n",
       "4  South Africa   408052    6093\n",
       "5          Peru   371096   17645\n",
       "6        Mexico   370712   41908\n",
       "7         Chile   338759    8838\n",
       "8          Iran   284034   15074\n",
       "9         Italy   245338   35029"
      ]
     },
     "execution_count": 42,
     "metadata": {},
     "output_type": "execute_result"
    }
   ],
   "source": [
    "dfCovid.drop(columns='recovered')"
   ]
  },
  {
   "cell_type": "markdown",
   "metadata": {},
   "source": [
    "#### Rows removal"
   ]
  },
  {
   "cell_type": "code",
   "execution_count": 43,
   "metadata": {
    "tags": [
     "hide-cell"
    ]
   },
   "outputs": [],
   "source": [
    "country = ['USA', 'Brazil', 'India', 'Russia', 'South Africa', 'Peru', 'Mexico', 'Chile', 'Iran', 'Italy']\n",
    "cases = [4169991, 2289951, 1288130, 795038, 408052, 371096, 370712, 338759, 284034, 245338]\n",
    "deaths = [147333, 84207, 30645, 12892, 6093, 17645, 41908, 8838, 15074, 35029]\n",
    "recovered = [1979617, None, 817593, None, 236260, 255945, 236209, 311431, 247230, 197842]\n",
    "\n",
    "dfCovid = pd.DataFrame({\n",
    "    'country': country,\n",
    "    'cases': cases,\n",
    "    'deaths': deaths,\n",
    "    'recovered': recovered\n",
    "})"
   ]
  },
  {
   "cell_type": "code",
   "execution_count": 43,
   "metadata": {},
   "outputs": [
    {
     "data": {
      "text/html": [
       "<div>\n",
       "<style scoped>\n",
       "    .dataframe tbody tr th:only-of-type {\n",
       "        vertical-align: middle;\n",
       "    }\n",
       "\n",
       "    .dataframe tbody tr th {\n",
       "        vertical-align: top;\n",
       "    }\n",
       "\n",
       "    .dataframe thead th {\n",
       "        text-align: right;\n",
       "    }\n",
       "</style>\n",
       "<table border=\"1\" class=\"dataframe\">\n",
       "  <thead>\n",
       "    <tr style=\"text-align: right;\">\n",
       "      <th></th>\n",
       "      <th>country</th>\n",
       "      <th>cases</th>\n",
       "      <th>deaths</th>\n",
       "      <th>recovered</th>\n",
       "    </tr>\n",
       "  </thead>\n",
       "  <tbody>\n",
       "    <tr>\n",
       "      <th>0</th>\n",
       "      <td>USA</td>\n",
       "      <td>4169991</td>\n",
       "      <td>147333</td>\n",
       "      <td>1979617.0</td>\n",
       "    </tr>\n",
       "    <tr>\n",
       "      <th>1</th>\n",
       "      <td>Brazil</td>\n",
       "      <td>2289951</td>\n",
       "      <td>84207</td>\n",
       "      <td>NaN</td>\n",
       "    </tr>\n",
       "    <tr>\n",
       "      <th>2</th>\n",
       "      <td>India</td>\n",
       "      <td>1288130</td>\n",
       "      <td>30645</td>\n",
       "      <td>817593.0</td>\n",
       "    </tr>\n",
       "    <tr>\n",
       "      <th>3</th>\n",
       "      <td>Russia</td>\n",
       "      <td>795038</td>\n",
       "      <td>12892</td>\n",
       "      <td>NaN</td>\n",
       "    </tr>\n",
       "    <tr>\n",
       "      <th>4</th>\n",
       "      <td>South Africa</td>\n",
       "      <td>408052</td>\n",
       "      <td>6093</td>\n",
       "      <td>236260.0</td>\n",
       "    </tr>\n",
       "    <tr>\n",
       "      <th>5</th>\n",
       "      <td>Peru</td>\n",
       "      <td>371096</td>\n",
       "      <td>17645</td>\n",
       "      <td>255945.0</td>\n",
       "    </tr>\n",
       "    <tr>\n",
       "      <th>6</th>\n",
       "      <td>Mexico</td>\n",
       "      <td>370712</td>\n",
       "      <td>41908</td>\n",
       "      <td>236209.0</td>\n",
       "    </tr>\n",
       "    <tr>\n",
       "      <th>7</th>\n",
       "      <td>Chile</td>\n",
       "      <td>338759</td>\n",
       "      <td>8838</td>\n",
       "      <td>311431.0</td>\n",
       "    </tr>\n",
       "    <tr>\n",
       "      <th>8</th>\n",
       "      <td>Iran</td>\n",
       "      <td>284034</td>\n",
       "      <td>15074</td>\n",
       "      <td>247230.0</td>\n",
       "    </tr>\n",
       "    <tr>\n",
       "      <th>9</th>\n",
       "      <td>Italy</td>\n",
       "      <td>245338</td>\n",
       "      <td>35029</td>\n",
       "      <td>197842.0</td>\n",
       "    </tr>\n",
       "  </tbody>\n",
       "</table>\n",
       "</div>"
      ],
      "text/plain": [
       "        country    cases  deaths  recovered\n",
       "0           USA  4169991  147333  1979617.0\n",
       "1        Brazil  2289951   84207        NaN\n",
       "2         India  1288130   30645   817593.0\n",
       "3        Russia   795038   12892        NaN\n",
       "4  South Africa   408052    6093   236260.0\n",
       "5          Peru   371096   17645   255945.0\n",
       "6        Mexico   370712   41908   236209.0\n",
       "7         Chile   338759    8838   311431.0\n",
       "8          Iran   284034   15074   247230.0\n",
       "9         Italy   245338   35029   197842.0"
      ]
     },
     "execution_count": 43,
     "metadata": {},
     "output_type": "execute_result"
    }
   ],
   "source": [
    "dfCovid"
   ]
  },
  {
   "cell_type": "code",
   "execution_count": 44,
   "metadata": {},
   "outputs": [
    {
     "data": {
      "text/html": [
       "<div>\n",
       "<style scoped>\n",
       "    .dataframe tbody tr th:only-of-type {\n",
       "        vertical-align: middle;\n",
       "    }\n",
       "\n",
       "    .dataframe tbody tr th {\n",
       "        vertical-align: top;\n",
       "    }\n",
       "\n",
       "    .dataframe thead th {\n",
       "        text-align: right;\n",
       "    }\n",
       "</style>\n",
       "<table border=\"1\" class=\"dataframe\">\n",
       "  <thead>\n",
       "    <tr style=\"text-align: right;\">\n",
       "      <th></th>\n",
       "      <th>country</th>\n",
       "      <th>cases</th>\n",
       "      <th>deaths</th>\n",
       "      <th>recovered</th>\n",
       "    </tr>\n",
       "  </thead>\n",
       "  <tbody>\n",
       "    <tr>\n",
       "      <th>0</th>\n",
       "      <td>USA</td>\n",
       "      <td>4169991</td>\n",
       "      <td>147333</td>\n",
       "      <td>1979617.0</td>\n",
       "    </tr>\n",
       "    <tr>\n",
       "      <th>2</th>\n",
       "      <td>India</td>\n",
       "      <td>1288130</td>\n",
       "      <td>30645</td>\n",
       "      <td>817593.0</td>\n",
       "    </tr>\n",
       "    <tr>\n",
       "      <th>4</th>\n",
       "      <td>South Africa</td>\n",
       "      <td>408052</td>\n",
       "      <td>6093</td>\n",
       "      <td>236260.0</td>\n",
       "    </tr>\n",
       "    <tr>\n",
       "      <th>5</th>\n",
       "      <td>Peru</td>\n",
       "      <td>371096</td>\n",
       "      <td>17645</td>\n",
       "      <td>255945.0</td>\n",
       "    </tr>\n",
       "    <tr>\n",
       "      <th>6</th>\n",
       "      <td>Mexico</td>\n",
       "      <td>370712</td>\n",
       "      <td>41908</td>\n",
       "      <td>236209.0</td>\n",
       "    </tr>\n",
       "    <tr>\n",
       "      <th>7</th>\n",
       "      <td>Chile</td>\n",
       "      <td>338759</td>\n",
       "      <td>8838</td>\n",
       "      <td>311431.0</td>\n",
       "    </tr>\n",
       "    <tr>\n",
       "      <th>8</th>\n",
       "      <td>Iran</td>\n",
       "      <td>284034</td>\n",
       "      <td>15074</td>\n",
       "      <td>247230.0</td>\n",
       "    </tr>\n",
       "    <tr>\n",
       "      <th>9</th>\n",
       "      <td>Italy</td>\n",
       "      <td>245338</td>\n",
       "      <td>35029</td>\n",
       "      <td>197842.0</td>\n",
       "    </tr>\n",
       "  </tbody>\n",
       "</table>\n",
       "</div>"
      ],
      "text/plain": [
       "        country    cases  deaths  recovered\n",
       "0           USA  4169991  147333  1979617.0\n",
       "2         India  1288130   30645   817593.0\n",
       "4  South Africa   408052    6093   236260.0\n",
       "5          Peru   371096   17645   255945.0\n",
       "6        Mexico   370712   41908   236209.0\n",
       "7         Chile   338759    8838   311431.0\n",
       "8          Iran   284034   15074   247230.0\n",
       "9         Italy   245338   35029   197842.0"
      ]
     },
     "execution_count": 44,
     "metadata": {},
     "output_type": "execute_result"
    }
   ],
   "source": [
    "dfCovid.dropna(subset=['recovered'])"
   ]
  },
  {
   "cell_type": "markdown",
   "metadata": {},
   "source": [
    "#### Filling\n",
    "Some values may be used to fill missing date are mean, median, mode and zero."
   ]
  },
  {
   "cell_type": "code",
   "execution_count": 45,
   "metadata": {
    "tags": [
     "remove-cell"
    ]
   },
   "outputs": [],
   "source": [
    "import numpy as np\n",
    "import pandas as pd"
   ]
  },
  {
   "cell_type": "code",
   "execution_count": 46,
   "metadata": {
    "tags": [
     "hide-cell"
    ]
   },
   "outputs": [],
   "source": [
    "country = ['USA', 'Brazil', 'India', 'Russia', 'South Africa',\n",
    "           'Peru', 'Mexico', 'Chile', 'Iran', 'Italy']\n",
    "cases = [4169991, 2289951, 1288130, 795038, 408052, 371096, 370712, 338759, 284034, 245338]\n",
    "deaths = [147333, 84207, 30645, 12892, 6093, 17645, 41908, 8838, 15074, 35029]\n",
    "recovered = [1979617, None, 817593, None, 236260, 255945, 236209, 311431, 247230, 197842]\n",
    "area = ['North America', 'South America', 'Asia', np.nan, 'Africa',\n",
    "        'South America', 'North America', 'South America', np.nan, 'Europe']\n",
    "\n",
    "dfCovid = pd.DataFrame({\n",
    "    'country': country,\n",
    "    'cases': cases,\n",
    "    'deaths': deaths,\n",
    "    'recovered': recovered,\n",
    "    'area': area\n",
    "})"
   ]
  },
  {
   "cell_type": "code",
   "execution_count": 46,
   "metadata": {},
   "outputs": [
    {
     "data": {
      "text/html": [
       "<div>\n",
       "<style scoped>\n",
       "    .dataframe tbody tr th:only-of-type {\n",
       "        vertical-align: middle;\n",
       "    }\n",
       "\n",
       "    .dataframe tbody tr th {\n",
       "        vertical-align: top;\n",
       "    }\n",
       "\n",
       "    .dataframe thead th {\n",
       "        text-align: right;\n",
       "    }\n",
       "</style>\n",
       "<table border=\"1\" class=\"dataframe\">\n",
       "  <thead>\n",
       "    <tr style=\"text-align: right;\">\n",
       "      <th></th>\n",
       "      <th>country</th>\n",
       "      <th>cases</th>\n",
       "      <th>deaths</th>\n",
       "      <th>recovered</th>\n",
       "      <th>area</th>\n",
       "    </tr>\n",
       "  </thead>\n",
       "  <tbody>\n",
       "    <tr>\n",
       "      <th>0</th>\n",
       "      <td>USA</td>\n",
       "      <td>4169991</td>\n",
       "      <td>147333</td>\n",
       "      <td>1979617.0</td>\n",
       "      <td>North America</td>\n",
       "    </tr>\n",
       "    <tr>\n",
       "      <th>1</th>\n",
       "      <td>Brazil</td>\n",
       "      <td>2289951</td>\n",
       "      <td>84207</td>\n",
       "      <td>NaN</td>\n",
       "      <td>South America</td>\n",
       "    </tr>\n",
       "    <tr>\n",
       "      <th>2</th>\n",
       "      <td>India</td>\n",
       "      <td>1288130</td>\n",
       "      <td>30645</td>\n",
       "      <td>817593.0</td>\n",
       "      <td>Asia</td>\n",
       "    </tr>\n",
       "    <tr>\n",
       "      <th>3</th>\n",
       "      <td>Russia</td>\n",
       "      <td>795038</td>\n",
       "      <td>12892</td>\n",
       "      <td>NaN</td>\n",
       "      <td>NaN</td>\n",
       "    </tr>\n",
       "    <tr>\n",
       "      <th>4</th>\n",
       "      <td>South Africa</td>\n",
       "      <td>408052</td>\n",
       "      <td>6093</td>\n",
       "      <td>236260.0</td>\n",
       "      <td>Africa</td>\n",
       "    </tr>\n",
       "    <tr>\n",
       "      <th>5</th>\n",
       "      <td>Peru</td>\n",
       "      <td>371096</td>\n",
       "      <td>17645</td>\n",
       "      <td>255945.0</td>\n",
       "      <td>South America</td>\n",
       "    </tr>\n",
       "    <tr>\n",
       "      <th>6</th>\n",
       "      <td>Mexico</td>\n",
       "      <td>370712</td>\n",
       "      <td>41908</td>\n",
       "      <td>236209.0</td>\n",
       "      <td>North America</td>\n",
       "    </tr>\n",
       "    <tr>\n",
       "      <th>7</th>\n",
       "      <td>Chile</td>\n",
       "      <td>338759</td>\n",
       "      <td>8838</td>\n",
       "      <td>311431.0</td>\n",
       "      <td>South America</td>\n",
       "    </tr>\n",
       "    <tr>\n",
       "      <th>8</th>\n",
       "      <td>Iran</td>\n",
       "      <td>284034</td>\n",
       "      <td>15074</td>\n",
       "      <td>247230.0</td>\n",
       "      <td>NaN</td>\n",
       "    </tr>\n",
       "    <tr>\n",
       "      <th>9</th>\n",
       "      <td>Italy</td>\n",
       "      <td>245338</td>\n",
       "      <td>35029</td>\n",
       "      <td>197842.0</td>\n",
       "      <td>Europe</td>\n",
       "    </tr>\n",
       "  </tbody>\n",
       "</table>\n",
       "</div>"
      ],
      "text/plain": [
       "        country    cases  deaths  recovered           area\n",
       "0           USA  4169991  147333  1979617.0  North America\n",
       "1        Brazil  2289951   84207        NaN  South America\n",
       "2         India  1288130   30645   817593.0           Asia\n",
       "3        Russia   795038   12892        NaN            NaN\n",
       "4  South Africa   408052    6093   236260.0         Africa\n",
       "5          Peru   371096   17645   255945.0  South America\n",
       "6        Mexico   370712   41908   236209.0  North America\n",
       "7         Chile   338759    8838   311431.0  South America\n",
       "8          Iran   284034   15074   247230.0            NaN\n",
       "9         Italy   245338   35029   197842.0         Europe"
      ]
     },
     "execution_count": 46,
     "metadata": {},
     "output_type": "execute_result"
    }
   ],
   "source": [
    "dfCovid"
   ]
  },
  {
   "cell_type": "code",
   "execution_count": 47,
   "metadata": {},
   "outputs": [
    {
     "data": {
      "text/plain": [
       "535265.875"
      ]
     },
     "execution_count": 47,
     "metadata": {},
     "output_type": "execute_result"
    }
   ],
   "source": [
    "recovered_mean = dfCovid.recovered.mean()\n",
    "recovered_mean"
   ]
  },
  {
   "cell_type": "code",
   "execution_count": 48,
   "metadata": {},
   "outputs": [
    {
     "data": {
      "text/plain": [
       "'South America'"
      ]
     },
     "execution_count": 48,
     "metadata": {},
     "output_type": "execute_result"
    }
   ],
   "source": [
    "area_mode = dfCovid.area.mode()[0]\n",
    "area_mode"
   ]
  },
  {
   "cell_type": "code",
   "execution_count": 49,
   "metadata": {
    "tags": []
   },
   "outputs": [
    {
     "data": {
      "text/html": [
       "<div>\n",
       "<style scoped>\n",
       "    .dataframe tbody tr th:only-of-type {\n",
       "        vertical-align: middle;\n",
       "    }\n",
       "\n",
       "    .dataframe tbody tr th {\n",
       "        vertical-align: top;\n",
       "    }\n",
       "\n",
       "    .dataframe thead th {\n",
       "        text-align: right;\n",
       "    }\n",
       "</style>\n",
       "<table border=\"1\" class=\"dataframe\">\n",
       "  <thead>\n",
       "    <tr style=\"text-align: right;\">\n",
       "      <th></th>\n",
       "      <th>country</th>\n",
       "      <th>cases</th>\n",
       "      <th>deaths</th>\n",
       "      <th>recovered</th>\n",
       "      <th>area</th>\n",
       "    </tr>\n",
       "  </thead>\n",
       "  <tbody>\n",
       "    <tr>\n",
       "      <th>0</th>\n",
       "      <td>USA</td>\n",
       "      <td>4169991</td>\n",
       "      <td>147333</td>\n",
       "      <td>1979617.000</td>\n",
       "      <td>North America</td>\n",
       "    </tr>\n",
       "    <tr>\n",
       "      <th>1</th>\n",
       "      <td>Brazil</td>\n",
       "      <td>2289951</td>\n",
       "      <td>84207</td>\n",
       "      <td>535265.875</td>\n",
       "      <td>South America</td>\n",
       "    </tr>\n",
       "    <tr>\n",
       "      <th>2</th>\n",
       "      <td>India</td>\n",
       "      <td>1288130</td>\n",
       "      <td>30645</td>\n",
       "      <td>817593.000</td>\n",
       "      <td>Asia</td>\n",
       "    </tr>\n",
       "    <tr>\n",
       "      <th>3</th>\n",
       "      <td>Russia</td>\n",
       "      <td>795038</td>\n",
       "      <td>12892</td>\n",
       "      <td>535265.875</td>\n",
       "      <td>South America</td>\n",
       "    </tr>\n",
       "    <tr>\n",
       "      <th>4</th>\n",
       "      <td>South Africa</td>\n",
       "      <td>408052</td>\n",
       "      <td>6093</td>\n",
       "      <td>236260.000</td>\n",
       "      <td>Africa</td>\n",
       "    </tr>\n",
       "    <tr>\n",
       "      <th>5</th>\n",
       "      <td>Peru</td>\n",
       "      <td>371096</td>\n",
       "      <td>17645</td>\n",
       "      <td>255945.000</td>\n",
       "      <td>South America</td>\n",
       "    </tr>\n",
       "    <tr>\n",
       "      <th>6</th>\n",
       "      <td>Mexico</td>\n",
       "      <td>370712</td>\n",
       "      <td>41908</td>\n",
       "      <td>236209.000</td>\n",
       "      <td>North America</td>\n",
       "    </tr>\n",
       "    <tr>\n",
       "      <th>7</th>\n",
       "      <td>Chile</td>\n",
       "      <td>338759</td>\n",
       "      <td>8838</td>\n",
       "      <td>311431.000</td>\n",
       "      <td>South America</td>\n",
       "    </tr>\n",
       "    <tr>\n",
       "      <th>8</th>\n",
       "      <td>Iran</td>\n",
       "      <td>284034</td>\n",
       "      <td>15074</td>\n",
       "      <td>247230.000</td>\n",
       "      <td>South America</td>\n",
       "    </tr>\n",
       "    <tr>\n",
       "      <th>9</th>\n",
       "      <td>Italy</td>\n",
       "      <td>245338</td>\n",
       "      <td>35029</td>\n",
       "      <td>197842.000</td>\n",
       "      <td>Europe</td>\n",
       "    </tr>\n",
       "  </tbody>\n",
       "</table>\n",
       "</div>"
      ],
      "text/plain": [
       "        country    cases  deaths    recovered           area\n",
       "0           USA  4169991  147333  1979617.000  North America\n",
       "1        Brazil  2289951   84207   535265.875  South America\n",
       "2         India  1288130   30645   817593.000           Asia\n",
       "3        Russia   795038   12892   535265.875  South America\n",
       "4  South Africa   408052    6093   236260.000         Africa\n",
       "5          Peru   371096   17645   255945.000  South America\n",
       "6        Mexico   370712   41908   236209.000  North America\n",
       "7         Chile   338759    8838   311431.000  South America\n",
       "8          Iran   284034   15074   247230.000  South America\n",
       "9         Italy   245338   35029   197842.000         Europe"
      ]
     },
     "execution_count": 49,
     "metadata": {},
     "output_type": "execute_result"
    }
   ],
   "source": [
    "dfCovid.recovered = dfCovid.recovered.fillna(recovered_mean)\n",
    "dfCovid.area = dfCovid.area.fillna(area_mode)\n",
    "dfCovid"
   ]
  },
  {
   "cell_type": "markdown",
   "metadata": {},
   "source": [
    "#### Imputing\n",
    "k-NN (k-Nearest Neighbors) is one of the Machine Learning algorithms that can be used in imputing missing values. This algorithm considers $k$ nearest observations (according to some distance metrics) to predict missing values."
   ]
  },
  {
   "cell_type": "code",
   "execution_count": 50,
   "metadata": {
    "tags": [
     "remove-cell"
    ]
   },
   "outputs": [],
   "source": [
    "import numpy as np\n",
    "import pandas as pd"
   ]
  },
  {
   "cell_type": "code",
   "execution_count": 51,
   "metadata": {
    "tags": [
     "hide-cell"
    ]
   },
   "outputs": [],
   "source": [
    "country = ['USA', 'Brazil', 'India', 'Russia', 'South Africa',\n",
    "           'Peru', 'Mexico', 'Chile', 'Iran', 'Italy']\n",
    "cases = [4169991, 2289951, 1288130, 795038, 408052, 371096, 370712, 338759, 284034, 245338]\n",
    "deaths = [147333, 84207, 30645, 12892, 6093, 17645, 41908, 8838, 15074, 35029]\n",
    "recovered = [1979617, 1570237, 817593, 580330, 236260, 255945, 236209, 311431, 247230, 197842]\n",
    "area = ['America', 'America', 'Asia', np.nan, 'Africa',\n",
    "        'America', 'America', np.nan, 'Asia', 'Europe']\n",
    "\n",
    "dfCovid = pd.DataFrame({\n",
    "    'country': country,\n",
    "    'cases': cases,\n",
    "    'deaths': deaths,\n",
    "    'recovered': recovered,\n",
    "    'area': area\n",
    "})"
   ]
  },
  {
   "cell_type": "code",
   "execution_count": 51,
   "metadata": {},
   "outputs": [
    {
     "data": {
      "text/html": [
       "<div>\n",
       "<style scoped>\n",
       "    .dataframe tbody tr th:only-of-type {\n",
       "        vertical-align: middle;\n",
       "    }\n",
       "\n",
       "    .dataframe tbody tr th {\n",
       "        vertical-align: top;\n",
       "    }\n",
       "\n",
       "    .dataframe thead th {\n",
       "        text-align: right;\n",
       "    }\n",
       "</style>\n",
       "<table border=\"1\" class=\"dataframe\">\n",
       "  <thead>\n",
       "    <tr style=\"text-align: right;\">\n",
       "      <th></th>\n",
       "      <th>country</th>\n",
       "      <th>cases</th>\n",
       "      <th>deaths</th>\n",
       "      <th>recovered</th>\n",
       "      <th>area</th>\n",
       "    </tr>\n",
       "  </thead>\n",
       "  <tbody>\n",
       "    <tr>\n",
       "      <th>0</th>\n",
       "      <td>USA</td>\n",
       "      <td>4169991</td>\n",
       "      <td>147333</td>\n",
       "      <td>1979617</td>\n",
       "      <td>America</td>\n",
       "    </tr>\n",
       "    <tr>\n",
       "      <th>1</th>\n",
       "      <td>Brazil</td>\n",
       "      <td>2289951</td>\n",
       "      <td>84207</td>\n",
       "      <td>1570237</td>\n",
       "      <td>America</td>\n",
       "    </tr>\n",
       "    <tr>\n",
       "      <th>2</th>\n",
       "      <td>India</td>\n",
       "      <td>1288130</td>\n",
       "      <td>30645</td>\n",
       "      <td>817593</td>\n",
       "      <td>Asia</td>\n",
       "    </tr>\n",
       "    <tr>\n",
       "      <th>3</th>\n",
       "      <td>Russia</td>\n",
       "      <td>795038</td>\n",
       "      <td>12892</td>\n",
       "      <td>580330</td>\n",
       "      <td>NaN</td>\n",
       "    </tr>\n",
       "    <tr>\n",
       "      <th>4</th>\n",
       "      <td>South Africa</td>\n",
       "      <td>408052</td>\n",
       "      <td>6093</td>\n",
       "      <td>236260</td>\n",
       "      <td>Africa</td>\n",
       "    </tr>\n",
       "    <tr>\n",
       "      <th>5</th>\n",
       "      <td>Peru</td>\n",
       "      <td>371096</td>\n",
       "      <td>17645</td>\n",
       "      <td>255945</td>\n",
       "      <td>America</td>\n",
       "    </tr>\n",
       "    <tr>\n",
       "      <th>6</th>\n",
       "      <td>Mexico</td>\n",
       "      <td>370712</td>\n",
       "      <td>41908</td>\n",
       "      <td>236209</td>\n",
       "      <td>America</td>\n",
       "    </tr>\n",
       "    <tr>\n",
       "      <th>7</th>\n",
       "      <td>Chile</td>\n",
       "      <td>338759</td>\n",
       "      <td>8838</td>\n",
       "      <td>311431</td>\n",
       "      <td>NaN</td>\n",
       "    </tr>\n",
       "    <tr>\n",
       "      <th>8</th>\n",
       "      <td>Iran</td>\n",
       "      <td>284034</td>\n",
       "      <td>15074</td>\n",
       "      <td>247230</td>\n",
       "      <td>Asia</td>\n",
       "    </tr>\n",
       "    <tr>\n",
       "      <th>9</th>\n",
       "      <td>Italy</td>\n",
       "      <td>245338</td>\n",
       "      <td>35029</td>\n",
       "      <td>197842</td>\n",
       "      <td>Europe</td>\n",
       "    </tr>\n",
       "  </tbody>\n",
       "</table>\n",
       "</div>"
      ],
      "text/plain": [
       "        country    cases  deaths  recovered     area\n",
       "0           USA  4169991  147333    1979617  America\n",
       "1        Brazil  2289951   84207    1570237  America\n",
       "2         India  1288130   30645     817593     Asia\n",
       "3        Russia   795038   12892     580330      NaN\n",
       "4  South Africa   408052    6093     236260   Africa\n",
       "5          Peru   371096   17645     255945  America\n",
       "6        Mexico   370712   41908     236209  America\n",
       "7         Chile   338759    8838     311431      NaN\n",
       "8          Iran   284034   15074     247230     Asia\n",
       "9         Italy   245338   35029     197842   Europe"
      ]
     },
     "execution_count": 51,
     "metadata": {},
     "output_type": "execute_result"
    }
   ],
   "source": [
    "dfCovid"
   ]
  },
  {
   "cell_type": "code",
   "execution_count": 52,
   "metadata": {},
   "outputs": [],
   "source": [
    "dfTrain = dfCovid[~dfCovid.area.isna()]\n",
    "xTrain = dfTrain[['cases', 'deaths', 'recovered']]\n",
    "yTrain = dfTrain.area\n",
    "\n",
    "dfPredict = dfCovid[dfCovid.area.isna()]\n",
    "xPred = dfPredict[['cases', 'deaths', 'recovered']]"
   ]
  },
  {
   "cell_type": "code",
   "execution_count": 53,
   "metadata": {},
   "outputs": [
    {
     "data": {
      "text/plain": [
       "array(['America', 'America'], dtype=object)"
      ]
     },
     "execution_count": 53,
     "metadata": {},
     "output_type": "execute_result"
    }
   ],
   "source": [
    "from sklearn.neighbors import KNeighborsClassifier as knn\n",
    "clf = knn(3, weights='distance').fit(xTrain, yTrain)\n",
    "yPred = clf.predict(xPred)\n",
    "yPred"
   ]
  },
  {
   "cell_type": "code",
   "execution_count": 54,
   "metadata": {},
   "outputs": [
    {
     "data": {
      "text/html": [
       "<div>\n",
       "<style scoped>\n",
       "    .dataframe tbody tr th:only-of-type {\n",
       "        vertical-align: middle;\n",
       "    }\n",
       "\n",
       "    .dataframe tbody tr th {\n",
       "        vertical-align: top;\n",
       "    }\n",
       "\n",
       "    .dataframe thead th {\n",
       "        text-align: right;\n",
       "    }\n",
       "</style>\n",
       "<table border=\"1\" class=\"dataframe\">\n",
       "  <thead>\n",
       "    <tr style=\"text-align: right;\">\n",
       "      <th></th>\n",
       "      <th>country</th>\n",
       "      <th>cases</th>\n",
       "      <th>deaths</th>\n",
       "      <th>recovered</th>\n",
       "      <th>area</th>\n",
       "    </tr>\n",
       "  </thead>\n",
       "  <tbody>\n",
       "    <tr>\n",
       "      <th>9</th>\n",
       "      <td>Italy</td>\n",
       "      <td>245338</td>\n",
       "      <td>35029</td>\n",
       "      <td>197842</td>\n",
       "      <td>Europe</td>\n",
       "    </tr>\n",
       "    <tr>\n",
       "      <th>8</th>\n",
       "      <td>Iran</td>\n",
       "      <td>284034</td>\n",
       "      <td>15074</td>\n",
       "      <td>247230</td>\n",
       "      <td>Asia</td>\n",
       "    </tr>\n",
       "    <tr>\n",
       "      <th>7</th>\n",
       "      <td>Chile</td>\n",
       "      <td>338759</td>\n",
       "      <td>8838</td>\n",
       "      <td>311431</td>\n",
       "      <td>America</td>\n",
       "    </tr>\n",
       "    <tr>\n",
       "      <th>6</th>\n",
       "      <td>Mexico</td>\n",
       "      <td>370712</td>\n",
       "      <td>41908</td>\n",
       "      <td>236209</td>\n",
       "      <td>America</td>\n",
       "    </tr>\n",
       "    <tr>\n",
       "      <th>5</th>\n",
       "      <td>Peru</td>\n",
       "      <td>371096</td>\n",
       "      <td>17645</td>\n",
       "      <td>255945</td>\n",
       "      <td>America</td>\n",
       "    </tr>\n",
       "    <tr>\n",
       "      <th>4</th>\n",
       "      <td>South Africa</td>\n",
       "      <td>408052</td>\n",
       "      <td>6093</td>\n",
       "      <td>236260</td>\n",
       "      <td>Africa</td>\n",
       "    </tr>\n",
       "    <tr>\n",
       "      <th>3</th>\n",
       "      <td>Russia</td>\n",
       "      <td>795038</td>\n",
       "      <td>12892</td>\n",
       "      <td>580330</td>\n",
       "      <td>America</td>\n",
       "    </tr>\n",
       "    <tr>\n",
       "      <th>2</th>\n",
       "      <td>India</td>\n",
       "      <td>1288130</td>\n",
       "      <td>30645</td>\n",
       "      <td>817593</td>\n",
       "      <td>Asia</td>\n",
       "    </tr>\n",
       "    <tr>\n",
       "      <th>1</th>\n",
       "      <td>Brazil</td>\n",
       "      <td>2289951</td>\n",
       "      <td>84207</td>\n",
       "      <td>1570237</td>\n",
       "      <td>America</td>\n",
       "    </tr>\n",
       "    <tr>\n",
       "      <th>0</th>\n",
       "      <td>USA</td>\n",
       "      <td>4169991</td>\n",
       "      <td>147333</td>\n",
       "      <td>1979617</td>\n",
       "      <td>America</td>\n",
       "    </tr>\n",
       "  </tbody>\n",
       "</table>\n",
       "</div>"
      ],
      "text/plain": [
       "        country    cases  deaths  recovered     area\n",
       "9         Italy   245338   35029     197842   Europe\n",
       "8          Iran   284034   15074     247230     Asia\n",
       "7         Chile   338759    8838     311431  America\n",
       "6        Mexico   370712   41908     236209  America\n",
       "5          Peru   371096   17645     255945  America\n",
       "4  South Africa   408052    6093     236260   Africa\n",
       "3        Russia   795038   12892     580330  America\n",
       "2         India  1288130   30645     817593     Asia\n",
       "1        Brazil  2289951   84207    1570237  America\n",
       "0           USA  4169991  147333    1979617  America"
      ]
     },
     "execution_count": 54,
     "metadata": {},
     "output_type": "execute_result"
    }
   ],
   "source": [
    "dfTrain.append(dfPredict.assign(area=yPred)).sort_values('cases')"
   ]
  },
  {
   "cell_type": "markdown",
   "metadata": {},
   "source": [
    "### 3.2. Handling duplicated values\n",
    "Duplicated values are usually caused by unique contraints within a column or between a combination of columns. If duplicated values occur, there can only be no more than 1 true value.\n",
    "\n",
    "Depend on the context, there are many strategies to handle duplicated values:\n",
    "- List and sort all duplicated values, then manually remove incorrect records.\n",
    "- Remove duplicated values based on specific criteria, such as keeping the greatest value only.\n",
    "- Calculate a value such as sum or mean representing all duplicated records."
   ]
  },
  {
   "cell_type": "code",
   "execution_count": 55,
   "metadata": {
    "tags": [
     "remove-cell"
    ]
   },
   "outputs": [],
   "source": [
    "import numpy as np\n",
    "import pandas as pd"
   ]
  },
  {
   "cell_type": "code",
   "execution_count": 56,
   "metadata": {
    "tags": [
     "hide-cell"
    ]
   },
   "outputs": [],
   "source": [
    "dfReport = pd.DataFrame({\n",
    "    'year': pd.Series([2019, 2019, 2020, 2020, 2020, 2020]),\n",
    "    'company': pd.Series(['Pandas', 'Numpy', 'Pandas', 'Numpy', 'Numpy', 'Pandas']),\n",
    "    'sales': pd.Series([5466, 8558, 8435, 7280, 9285, 6650]),\n",
    "    'profit': pd.Series([1546, 3546, 3574, 3352, 4678, 2007])\n",
    "})"
   ]
  },
  {
   "cell_type": "code",
   "execution_count": 56,
   "metadata": {},
   "outputs": [
    {
     "data": {
      "text/html": [
       "<div>\n",
       "<style scoped>\n",
       "    .dataframe tbody tr th:only-of-type {\n",
       "        vertical-align: middle;\n",
       "    }\n",
       "\n",
       "    .dataframe tbody tr th {\n",
       "        vertical-align: top;\n",
       "    }\n",
       "\n",
       "    .dataframe thead th {\n",
       "        text-align: right;\n",
       "    }\n",
       "</style>\n",
       "<table border=\"1\" class=\"dataframe\">\n",
       "  <thead>\n",
       "    <tr style=\"text-align: right;\">\n",
       "      <th></th>\n",
       "      <th>year</th>\n",
       "      <th>company</th>\n",
       "      <th>sales</th>\n",
       "      <th>profit</th>\n",
       "    </tr>\n",
       "  </thead>\n",
       "  <tbody>\n",
       "    <tr>\n",
       "      <th>0</th>\n",
       "      <td>2019</td>\n",
       "      <td>Pandas</td>\n",
       "      <td>5466</td>\n",
       "      <td>1546</td>\n",
       "    </tr>\n",
       "    <tr>\n",
       "      <th>1</th>\n",
       "      <td>2019</td>\n",
       "      <td>Numpy</td>\n",
       "      <td>8558</td>\n",
       "      <td>3546</td>\n",
       "    </tr>\n",
       "    <tr>\n",
       "      <th>2</th>\n",
       "      <td>2020</td>\n",
       "      <td>Pandas</td>\n",
       "      <td>8435</td>\n",
       "      <td>3574</td>\n",
       "    </tr>\n",
       "    <tr>\n",
       "      <th>3</th>\n",
       "      <td>2020</td>\n",
       "      <td>Numpy</td>\n",
       "      <td>7280</td>\n",
       "      <td>3352</td>\n",
       "    </tr>\n",
       "    <tr>\n",
       "      <th>4</th>\n",
       "      <td>2020</td>\n",
       "      <td>Numpy</td>\n",
       "      <td>9285</td>\n",
       "      <td>4678</td>\n",
       "    </tr>\n",
       "    <tr>\n",
       "      <th>5</th>\n",
       "      <td>2020</td>\n",
       "      <td>Pandas</td>\n",
       "      <td>6650</td>\n",
       "      <td>2007</td>\n",
       "    </tr>\n",
       "  </tbody>\n",
       "</table>\n",
       "</div>"
      ],
      "text/plain": [
       "   year company  sales  profit\n",
       "0  2019  Pandas   5466    1546\n",
       "1  2019   Numpy   8558    3546\n",
       "2  2020  Pandas   8435    3574\n",
       "3  2020   Numpy   7280    3352\n",
       "4  2020   Numpy   9285    4678\n",
       "5  2020  Pandas   6650    2007"
      ]
     },
     "execution_count": 56,
     "metadata": {},
     "output_type": "execute_result"
    }
   ],
   "source": [
    "dfReport"
   ]
  },
  {
   "cell_type": "markdown",
   "metadata": {},
   "source": [
    "In this example, the combination of `year` and `company` creates a unique constraint: in each year, a company cannot have two values of sales and profit."
   ]
  },
  {
   "cell_type": "code",
   "execution_count": 57,
   "metadata": {},
   "outputs": [],
   "source": [
    "subset = ['year', 'company']"
   ]
  },
  {
   "cell_type": "markdown",
   "metadata": {},
   "source": [
    "#### Manual removal"
   ]
  },
  {
   "cell_type": "code",
   "execution_count": 58,
   "metadata": {},
   "outputs": [
    {
     "data": {
      "text/html": [
       "<div>\n",
       "<style scoped>\n",
       "    .dataframe tbody tr th:only-of-type {\n",
       "        vertical-align: middle;\n",
       "    }\n",
       "\n",
       "    .dataframe tbody tr th {\n",
       "        vertical-align: top;\n",
       "    }\n",
       "\n",
       "    .dataframe thead th {\n",
       "        text-align: right;\n",
       "    }\n",
       "</style>\n",
       "<table border=\"1\" class=\"dataframe\">\n",
       "  <thead>\n",
       "    <tr style=\"text-align: right;\">\n",
       "      <th></th>\n",
       "      <th>year</th>\n",
       "      <th>company</th>\n",
       "      <th>sales</th>\n",
       "      <th>profit</th>\n",
       "    </tr>\n",
       "  </thead>\n",
       "  <tbody>\n",
       "    <tr>\n",
       "      <th>3</th>\n",
       "      <td>2020</td>\n",
       "      <td>Numpy</td>\n",
       "      <td>7280</td>\n",
       "      <td>3352</td>\n",
       "    </tr>\n",
       "    <tr>\n",
       "      <th>4</th>\n",
       "      <td>2020</td>\n",
       "      <td>Numpy</td>\n",
       "      <td>9285</td>\n",
       "      <td>4678</td>\n",
       "    </tr>\n",
       "    <tr>\n",
       "      <th>2</th>\n",
       "      <td>2020</td>\n",
       "      <td>Pandas</td>\n",
       "      <td>8435</td>\n",
       "      <td>3574</td>\n",
       "    </tr>\n",
       "    <tr>\n",
       "      <th>5</th>\n",
       "      <td>2020</td>\n",
       "      <td>Pandas</td>\n",
       "      <td>6650</td>\n",
       "      <td>2007</td>\n",
       "    </tr>\n",
       "  </tbody>\n",
       "</table>\n",
       "</div>"
      ],
      "text/plain": [
       "   year company  sales  profit\n",
       "3  2020   Numpy   7280    3352\n",
       "4  2020   Numpy   9285    4678\n",
       "2  2020  Pandas   8435    3574\n",
       "5  2020  Pandas   6650    2007"
      ]
     },
     "execution_count": 58,
     "metadata": {},
     "output_type": "execute_result"
    }
   ],
   "source": [
    "dfReport[dfReport.duplicated(subset, keep=False)].sort_values(subset)"
   ]
  },
  {
   "cell_type": "code",
   "execution_count": 59,
   "metadata": {},
   "outputs": [
    {
     "data": {
      "text/html": [
       "<div>\n",
       "<style scoped>\n",
       "    .dataframe tbody tr th:only-of-type {\n",
       "        vertical-align: middle;\n",
       "    }\n",
       "\n",
       "    .dataframe tbody tr th {\n",
       "        vertical-align: top;\n",
       "    }\n",
       "\n",
       "    .dataframe thead th {\n",
       "        text-align: right;\n",
       "    }\n",
       "</style>\n",
       "<table border=\"1\" class=\"dataframe\">\n",
       "  <thead>\n",
       "    <tr style=\"text-align: right;\">\n",
       "      <th></th>\n",
       "      <th>year</th>\n",
       "      <th>company</th>\n",
       "      <th>sales</th>\n",
       "      <th>profit</th>\n",
       "    </tr>\n",
       "  </thead>\n",
       "  <tbody>\n",
       "    <tr>\n",
       "      <th>0</th>\n",
       "      <td>2019</td>\n",
       "      <td>Pandas</td>\n",
       "      <td>5466</td>\n",
       "      <td>1546</td>\n",
       "    </tr>\n",
       "    <tr>\n",
       "      <th>1</th>\n",
       "      <td>2019</td>\n",
       "      <td>Numpy</td>\n",
       "      <td>8558</td>\n",
       "      <td>3546</td>\n",
       "    </tr>\n",
       "    <tr>\n",
       "      <th>3</th>\n",
       "      <td>2020</td>\n",
       "      <td>Numpy</td>\n",
       "      <td>7280</td>\n",
       "      <td>3352</td>\n",
       "    </tr>\n",
       "    <tr>\n",
       "      <th>5</th>\n",
       "      <td>2020</td>\n",
       "      <td>Pandas</td>\n",
       "      <td>6650</td>\n",
       "      <td>2007</td>\n",
       "    </tr>\n",
       "  </tbody>\n",
       "</table>\n",
       "</div>"
      ],
      "text/plain": [
       "   year company  sales  profit\n",
       "0  2019  Pandas   5466    1546\n",
       "1  2019   Numpy   8558    3546\n",
       "3  2020   Numpy   7280    3352\n",
       "5  2020  Pandas   6650    2007"
      ]
     },
     "execution_count": 59,
     "metadata": {},
     "output_type": "execute_result"
    }
   ],
   "source": [
    "dfReport.drop(index=[4, 2])"
   ]
  },
  {
   "cell_type": "markdown",
   "metadata": {},
   "source": [
    "#### Conditional removal"
   ]
  },
  {
   "cell_type": "code",
   "execution_count": 60,
   "metadata": {},
   "outputs": [
    {
     "data": {
      "text/html": [
       "<div>\n",
       "<style scoped>\n",
       "    .dataframe tbody tr th:only-of-type {\n",
       "        vertical-align: middle;\n",
       "    }\n",
       "\n",
       "    .dataframe tbody tr th {\n",
       "        vertical-align: top;\n",
       "    }\n",
       "\n",
       "    .dataframe thead th {\n",
       "        text-align: right;\n",
       "    }\n",
       "</style>\n",
       "<table border=\"1\" class=\"dataframe\">\n",
       "  <thead>\n",
       "    <tr style=\"text-align: right;\">\n",
       "      <th></th>\n",
       "      <th>year</th>\n",
       "      <th>company</th>\n",
       "      <th>sales</th>\n",
       "      <th>profit</th>\n",
       "    </tr>\n",
       "  </thead>\n",
       "  <tbody>\n",
       "    <tr>\n",
       "      <th>1</th>\n",
       "      <td>2019</td>\n",
       "      <td>Numpy</td>\n",
       "      <td>8558</td>\n",
       "      <td>3546</td>\n",
       "    </tr>\n",
       "    <tr>\n",
       "      <th>0</th>\n",
       "      <td>2019</td>\n",
       "      <td>Pandas</td>\n",
       "      <td>5466</td>\n",
       "      <td>1546</td>\n",
       "    </tr>\n",
       "    <tr>\n",
       "      <th>4</th>\n",
       "      <td>2020</td>\n",
       "      <td>Numpy</td>\n",
       "      <td>9285</td>\n",
       "      <td>4678</td>\n",
       "    </tr>\n",
       "    <tr>\n",
       "      <th>2</th>\n",
       "      <td>2020</td>\n",
       "      <td>Pandas</td>\n",
       "      <td>8435</td>\n",
       "      <td>3574</td>\n",
       "    </tr>\n",
       "  </tbody>\n",
       "</table>\n",
       "</div>"
      ],
      "text/plain": [
       "   year company  sales  profit\n",
       "1  2019   Numpy   8558    3546\n",
       "0  2019  Pandas   5466    1546\n",
       "4  2020   Numpy   9285    4678\n",
       "2  2020  Pandas   8435    3574"
      ]
     },
     "execution_count": 60,
     "metadata": {},
     "output_type": "execute_result"
    }
   ],
   "source": [
    "# keep the biggest sales values only\n",
    "dfReport\\\n",
    "    .sort_values(by=['year', 'company', 'sales'])\\\n",
    "    .drop_duplicates(subset=subset, keep='last')"
   ]
  },
  {
   "cell_type": "markdown",
   "metadata": {},
   "source": [
    "#### Aggregating"
   ]
  },
  {
   "cell_type": "code",
   "execution_count": 61,
   "metadata": {},
   "outputs": [
    {
     "data": {
      "text/html": [
       "<div>\n",
       "<style scoped>\n",
       "    .dataframe tbody tr th:only-of-type {\n",
       "        vertical-align: middle;\n",
       "    }\n",
       "\n",
       "    .dataframe tbody tr th {\n",
       "        vertical-align: top;\n",
       "    }\n",
       "\n",
       "    .dataframe thead th {\n",
       "        text-align: right;\n",
       "    }\n",
       "</style>\n",
       "<table border=\"1\" class=\"dataframe\">\n",
       "  <thead>\n",
       "    <tr style=\"text-align: right;\">\n",
       "      <th></th>\n",
       "      <th>year</th>\n",
       "      <th>company</th>\n",
       "      <th>sales</th>\n",
       "      <th>profit</th>\n",
       "    </tr>\n",
       "  </thead>\n",
       "  <tbody>\n",
       "    <tr>\n",
       "      <th>0</th>\n",
       "      <td>2019</td>\n",
       "      <td>Numpy</td>\n",
       "      <td>8558</td>\n",
       "      <td>3546</td>\n",
       "    </tr>\n",
       "    <tr>\n",
       "      <th>1</th>\n",
       "      <td>2019</td>\n",
       "      <td>Pandas</td>\n",
       "      <td>5466</td>\n",
       "      <td>1546</td>\n",
       "    </tr>\n",
       "    <tr>\n",
       "      <th>2</th>\n",
       "      <td>2020</td>\n",
       "      <td>Numpy</td>\n",
       "      <td>16565</td>\n",
       "      <td>8030</td>\n",
       "    </tr>\n",
       "    <tr>\n",
       "      <th>3</th>\n",
       "      <td>2020</td>\n",
       "      <td>Pandas</td>\n",
       "      <td>15085</td>\n",
       "      <td>5581</td>\n",
       "    </tr>\n",
       "  </tbody>\n",
       "</table>\n",
       "</div>"
      ],
      "text/plain": [
       "   year company  sales  profit\n",
       "0  2019   Numpy   8558    3546\n",
       "1  2019  Pandas   5466    1546\n",
       "2  2020   Numpy  16565    8030\n",
       "3  2020  Pandas  15085    5581"
      ]
     },
     "execution_count": 61,
     "metadata": {},
     "output_type": "execute_result"
    }
   ],
   "source": [
    "dfReport.groupby(by=['year', 'company']).sum().reset_index()"
   ]
  }
 ],
 "metadata": {
  "colab": {
   "name": "lecture7.ipynb",
   "provenance": [],
   "version": "0.3.2"
  },
  "kernelspec": {
   "display_name": "Python 3",
   "language": "python",
   "name": "python3"
  },
  "language_info": {
   "codemirror_mode": {
    "name": "ipython",
    "version": 3
   },
   "file_extension": ".py",
   "mimetype": "text/x-python",
   "name": "python",
   "nbconvert_exporter": "python",
   "pygments_lexer": "ipython3",
   "version": "3.8.8"
  },
  "toc-autonumbering": false,
  "toc-showcode": false,
  "toc-showmarkdowntxt": false,
  "toc-showtags": false
 },
 "nbformat": 4,
 "nbformat_minor": 4
}
