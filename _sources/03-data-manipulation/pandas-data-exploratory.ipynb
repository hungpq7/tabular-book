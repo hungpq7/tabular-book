{
 "cells": [
  {
   "cell_type": "markdown",
   "metadata": {},
   "source": [
    "# Pandas: Data Exploratory"
   ]
  },
  {
   "cell_type": "code",
   "execution_count": 2,
   "metadata": {
    "colab": {},
    "colab_type": "code",
    "execution": {
     "iopub.execute_input": "2023-01-23T16:43:51.533063Z",
     "iopub.status.busy": "2023-01-23T16:43:51.532508Z",
     "iopub.status.idle": "2023-01-23T16:43:52.202354Z",
     "shell.execute_reply": "2023-01-23T16:43:52.201714Z",
     "shell.execute_reply.started": "2023-01-23T16:43:51.533017Z"
    },
    "id": "ccPGoBTheX-f",
    "tags": []
   },
   "outputs": [],
   "source": [
    "import numpy as np\n",
    "import pandas as pd"
   ]
  },
  {
   "cell_type": "markdown",
   "metadata": {
    "colab_type": "text",
    "id": "6oF50bcveX-c"
   },
   "source": [
    "## 1. Introduction to Pandas\n",
    "Pandas is a library specializing in data manipulation and analysis, using two powerful data structures: series and dataframe. Pandas is always used with NumPy."
   ]
  },
  {
   "cell_type": "markdown",
   "metadata": {
    "colab_type": "text",
    "id": "yXlNjdTAeX-e"
   },
   "source": [
    "### 1.1. Series\n",
    "Series can be thought as 1-dimensional arrays with index."
   ]
  },
  {
   "cell_type": "code",
   "execution_count": 1,
   "metadata": {
    "colab": {},
    "colab_type": "code",
    "id": "ccPGoBTheX-f",
    "tags": [
     "remove-cell"
    ]
   },
   "outputs": [],
   "source": [
    "import numpy as np\n",
    "import pandas as pd"
   ]
  },
  {
   "cell_type": "code",
   "execution_count": 2,
   "metadata": {
    "colab": {},
    "colab_type": "code",
    "id": "x-pmbBXyeX-m",
    "outputId": "44dd612b-0426-4442-d48f-b93ed5f8d450"
   },
   "outputs": [
    {
     "data": {
      "text/plain": [
       "0    a\n",
       "1    b\n",
       "2    c\n",
       "3    d\n",
       "4    e\n",
       "dtype: object"
      ]
     },
     "execution_count": 2,
     "metadata": {},
     "output_type": "execute_result"
    }
   ],
   "source": [
    "pd.Series(['a', 'b', 'c', 'd', 'e'])"
   ]
  },
  {
   "cell_type": "code",
   "execution_count": 3,
   "metadata": {
    "colab": {},
    "colab_type": "code",
    "id": "VaVJLrAVeX-s",
    "outputId": "72f08ec0-4275-43a1-fc3f-1fa8cbc8c5f1"
   },
   "outputs": [
    {
     "data": {
      "text/plain": [
       "0    0\n",
       "1    1\n",
       "2    2\n",
       "3    3\n",
       "4    4\n",
       "5    5\n",
       "6    6\n",
       "7    7\n",
       "8    8\n",
       "9    9\n",
       "Name: digits, dtype: int64"
      ]
     },
     "execution_count": 3,
     "metadata": {},
     "output_type": "execute_result"
    }
   ],
   "source": [
    "pd.Series(np.arange(5), name='digits')"
   ]
  },
  {
   "cell_type": "markdown",
   "metadata": {
    "colab_type": "text",
    "id": "UmUZyTNmeX-v"
   },
   "source": [
    "### 1.2. Data types\n",
    "Like array, series contains elements of homogeneous data types."
   ]
  },
  {
   "cell_type": "code",
   "execution_count": 4,
   "metadata": {
    "colab": {},
    "colab_type": "code",
    "id": "eVs6m3V6eX-v",
    "tags": [
     "remove-cell"
    ]
   },
   "outputs": [],
   "source": [
    "import numpy as np\n",
    "import pandas as pd"
   ]
  },
  {
   "cell_type": "markdown",
   "metadata": {
    "colab_type": "text",
    "id": "qjzEjOtbeX-y"
   },
   "source": [
    "#### String"
   ]
  },
  {
   "cell_type": "code",
   "execution_count": 5,
   "metadata": {
    "colab": {},
    "colab_type": "code",
    "id": "bRIlIzvReX-z",
    "outputId": "defc5b08-8918-4561-a39d-566b1ca66d3f"
   },
   "outputs": [
    {
     "data": {
      "text/plain": [
       "0    a\n",
       "1    b\n",
       "2    c\n",
       "dtype: object"
      ]
     },
     "execution_count": 5,
     "metadata": {},
     "output_type": "execute_result"
    }
   ],
   "source": [
    "pd.Series(['a', 'b', 'c'])"
   ]
  },
  {
   "cell_type": "code",
   "execution_count": 6,
   "metadata": {
    "colab": {},
    "colab_type": "code",
    "id": "aNDiaWFUeX-2",
    "outputId": "45ec869a-abf3-49e7-ad8d-6855b9fe32ac"
   },
   "outputs": [
    {
     "data": {
      "text/plain": [
       "0    1\n",
       "1    2\n",
       "2    3\n",
       "dtype: object"
      ]
     },
     "execution_count": 6,
     "metadata": {},
     "output_type": "execute_result"
    }
   ],
   "source": [
    "pd.Series([1, 2, 3]).astype(str)"
   ]
  },
  {
   "cell_type": "markdown",
   "metadata": {
    "colab_type": "text",
    "id": "kNak781AeX-6"
   },
   "source": [
    "#### Numeric"
   ]
  },
  {
   "cell_type": "code",
   "execution_count": 7,
   "metadata": {
    "colab": {},
    "colab_type": "code",
    "id": "dRK48s8-eX-6",
    "outputId": "f4c15659-d82e-4310-a96c-c429f253d797"
   },
   "outputs": [
    {
     "data": {
      "text/plain": [
       "0    1\n",
       "1    2\n",
       "2    3\n",
       "dtype: int64"
      ]
     },
     "execution_count": 7,
     "metadata": {},
     "output_type": "execute_result"
    }
   ],
   "source": [
    "pd.Series(['01', '02', '03']).astype(int)"
   ]
  },
  {
   "cell_type": "code",
   "execution_count": 8,
   "metadata": {
    "colab": {},
    "colab_type": "code",
    "id": "eVGJpP99eX--",
    "outputId": "3af8291b-f02a-4788-c88e-75124182049d"
   },
   "outputs": [
    {
     "data": {
      "text/plain": [
       "0    1.0\n",
       "1    2.0\n",
       "2    3.0\n",
       "dtype: float64"
      ]
     },
     "execution_count": 8,
     "metadata": {},
     "output_type": "execute_result"
    }
   ],
   "source": [
    "pd.Series(['01', '02', '03']).astype(float)"
   ]
  },
  {
   "cell_type": "markdown",
   "metadata": {
    "colab_type": "text",
    "id": "77zXyF2seX_B"
   },
   "source": [
    "#### Date and time"
   ]
  },
  {
   "cell_type": "code",
   "execution_count": 9,
   "metadata": {
    "colab": {},
    "colab_type": "code",
    "id": "pw144lYGeX_B",
    "outputId": "285ea414-956d-4310-f08e-a529596829a6"
   },
   "outputs": [
    {
     "data": {
      "text/plain": [
       "0   2020-01-01\n",
       "1   2020-01-02\n",
       "dtype: datetime64[ns]"
      ]
     },
     "execution_count": 9,
     "metadata": {},
     "output_type": "execute_result"
    }
   ],
   "source": [
    "pd.Series(['2020/01/01', '2020/01/02']).astype('datetime64')"
   ]
  },
  {
   "cell_type": "code",
   "execution_count": 10,
   "metadata": {
    "colab": {},
    "colab_type": "code",
    "id": "qtWfYdAGeX_E",
    "outputId": "6b39274f-14c9-47f2-9d67-e9d1a147c891"
   },
   "outputs": [
    {
     "data": {
      "text/plain": [
       "0   2020-01-01\n",
       "1   2020-01-02\n",
       "dtype: datetime64[ns]"
      ]
     },
     "execution_count": 10,
     "metadata": {},
     "output_type": "execute_result"
    }
   ],
   "source": [
    "pd.to_datetime(pd.Series(['Jan.01-2020', '20200102']))"
   ]
  },
  {
   "cell_type": "markdown",
   "metadata": {
    "colab_type": "text",
    "id": "MX92cEAxeX_H"
   },
   "source": [
    "#### Boolean"
   ]
  },
  {
   "cell_type": "code",
   "execution_count": 11,
   "metadata": {
    "colab": {},
    "colab_type": "code",
    "id": "RbGdE13aeX_I",
    "outputId": "5e5e79a9-7d69-42b8-cd13-848134200dd6"
   },
   "outputs": [
    {
     "data": {
      "text/plain": [
       "0     True\n",
       "1    False\n",
       "2    False\n",
       "3     True\n",
       "4     True\n",
       "dtype: bool"
      ]
     },
     "execution_count": 11,
     "metadata": {},
     "output_type": "execute_result"
    }
   ],
   "source": [
    "pd.Series([1, 0, 0, 1, 1]).astype(bool)"
   ]
  },
  {
   "cell_type": "markdown",
   "metadata": {
    "colab_type": "text",
    "id": "qBubGpCGeX_L"
   },
   "source": [
    "#### Categorical\n",
    "The categorical data type contains ordered items."
   ]
  },
  {
   "cell_type": "code",
   "execution_count": 12,
   "metadata": {
    "colab": {},
    "colab_type": "code",
    "id": "IoAvEEj8eX_L",
    "outputId": "59847f06-8466-43f8-e019-67ccee684b1e"
   },
   "outputs": [
    {
     "data": {
      "text/plain": [
       "['Bronze', 'Bronze', 'Bronze', 'Silver', 'Silver', 'Gold', 'Gold', 'Gold']\n",
       "Categories (3, object): ['Bronze', 'Silver', 'Gold']"
      ]
     },
     "execution_count": 12,
     "metadata": {},
     "output_type": "execute_result"
    }
   ],
   "source": [
    "medal = pd.Categorical(\n",
    "    values=['Gold', 'Bronze', 'Silver', 'Bronze', 'Gold', 'Gold', 'Bronze', 'Silver'],\n",
    "    categories=['Bronze', 'Silver', 'Gold']\n",
    ")\n",
    "\n",
    "medal.sort_values()"
   ]
  },
  {
   "cell_type": "markdown",
   "metadata": {
    "colab_type": "text",
    "id": "o05LbMMHeX_O"
   },
   "source": [
    "### 1.3. Dataframe\n",
    "Dataframe is a tabular data type, containing series placed side by side. A dataframe can be thought as a labeled matrix. Here is the dataframe axes convention:\n",
    "- Axis 0 is the vertical axis, contains row names; each row is called a record or an observation\n",
    "- Axis 1 is the horizontal axis, contains column names; each column is called an attribute, a field, a variable or a dimension."
   ]
  },
  {
   "cell_type": "code",
   "execution_count": 13,
   "metadata": {
    "colab": {},
    "colab_type": "code",
    "id": "v_xqDhlueX_O",
    "tags": [
     "remove-cell"
    ]
   },
   "outputs": [],
   "source": [
    "import numpy as np\n",
    "import pandas as pd"
   ]
  },
  {
   "cell_type": "markdown",
   "metadata": {
    "colab_type": "text",
    "id": "tjl26U-0eX_T"
   },
   "source": [
    "#### Initialization"
   ]
  },
  {
   "cell_type": "code",
   "execution_count": 8,
   "metadata": {
    "colab": {},
    "colab_type": "code",
    "execution": {
     "iopub.execute_input": "2023-01-23T15:29:28.226871Z",
     "iopub.status.busy": "2023-01-23T15:29:28.226520Z",
     "iopub.status.idle": "2023-01-23T15:29:28.237148Z",
     "shell.execute_reply": "2023-01-23T15:29:28.236156Z",
     "shell.execute_reply.started": "2023-01-23T15:29:28.226845Z"
    },
    "id": "66FQG6d_eX_U",
    "outputId": "f631c543-4076-4100-f08f-db30f5947318",
    "tags": []
   },
   "outputs": [
    {
     "data": {
      "text/html": [
       "<div>\n",
       "<style scoped>\n",
       "    .dataframe tbody tr th:only-of-type {\n",
       "        vertical-align: middle;\n",
       "    }\n",
       "\n",
       "    .dataframe tbody tr th {\n",
       "        vertical-align: top;\n",
       "    }\n",
       "\n",
       "    .dataframe thead th {\n",
       "        text-align: right;\n",
       "    }\n",
       "</style>\n",
       "<table border=\"1\" class=\"dataframe\">\n",
       "  <thead>\n",
       "    <tr style=\"text-align: right;\">\n",
       "      <th></th>\n",
       "      <th>product</th>\n",
       "      <th>price</th>\n",
       "      <th>stock</th>\n",
       "    </tr>\n",
       "  </thead>\n",
       "  <tbody>\n",
       "    <tr>\n",
       "      <th>0</th>\n",
       "      <td>Laptop</td>\n",
       "      <td>$1000</td>\n",
       "      <td>15</td>\n",
       "    </tr>\n",
       "    <tr>\n",
       "      <th>1</th>\n",
       "      <td>Mouse</td>\n",
       "      <td>$20</td>\n",
       "      <td>100</td>\n",
       "    </tr>\n",
       "    <tr>\n",
       "      <th>2</th>\n",
       "      <td>Headphone</td>\n",
       "      <td>$50</td>\n",
       "      <td>50</td>\n",
       "    </tr>\n",
       "    <tr>\n",
       "      <th>3</th>\n",
       "      <td>USB</td>\n",
       "      <td>NaN</td>\n",
       "      <td>100</td>\n",
       "    </tr>\n",
       "  </tbody>\n",
       "</table>\n",
       "</div>"
      ],
      "text/plain": [
       "     product  price  stock\n",
       "0     Laptop  $1000     15\n",
       "1      Mouse    $20    100\n",
       "2  Headphone    $50     50\n",
       "3        USB    NaN    100"
      ]
     },
     "execution_count": 8,
     "metadata": {},
     "output_type": "execute_result"
    }
   ],
   "source": [
    "dfTemp = {\n",
    "    'product': pd.Series(['Laptop', 'Mouse', 'Headphone', 'USB']),\n",
    "    'price': pd.Series(['$1000', '$20', '$50']),\n",
    "    'stock': pd.Series([15, 100, 50, 100])\n",
    "}\n",
    "pd.DataFrame(dfTemp)"
   ]
  },
  {
   "cell_type": "markdown",
   "metadata": {
    "colab_type": "text",
    "id": "DuFk-d8seX_W"
   },
   "source": [
    "#### Reading files"
   ]
  },
  {
   "cell_type": "markdown",
   "metadata": {},
   "source": [
    "#### Reading CSV files\n",
    "CSV (Comma-Separated Values) is a common type file format for storing tabular data."
   ]
  },
  {
   "cell_type": "markdown",
   "metadata": {},
   "source": [
    "#### Reading JSON files\n",
    "JSON (JavaScript Object Notation) files have the same structure as Python dictionaries. In Pandas, the `read_json()` function reads JSON files and the `DataFrame.from_dict()` function reads dictionaries."
   ]
  },
  {
   "cell_type": "code",
   "execution_count": 4,
   "metadata": {
    "colab": {},
    "colab_type": "code",
    "execution": {
     "iopub.execute_input": "2023-01-23T16:44:08.063359Z",
     "iopub.status.busy": "2023-01-23T16:44:08.062997Z",
     "iopub.status.idle": "2023-01-23T16:44:08.076044Z",
     "shell.execute_reply": "2023-01-23T16:44:08.075145Z",
     "shell.execute_reply.started": "2023-01-23T16:44:08.063334Z"
    },
    "id": "Ppp173rVeX_c",
    "outputId": "33e87330-cc61-4afc-bb25-1bdcefa634f8",
    "tags": [
     "output_scroll"
    ]
   },
   "outputs": [
    {
     "data": {
      "text/html": [
       "<div>\n",
       "<style scoped>\n",
       "    .dataframe tbody tr th:only-of-type {\n",
       "        vertical-align: middle;\n",
       "    }\n",
       "\n",
       "    .dataframe tbody tr th {\n",
       "        vertical-align: top;\n",
       "    }\n",
       "\n",
       "    .dataframe thead th {\n",
       "        text-align: right;\n",
       "    }\n",
       "</style>\n",
       "<table border=\"1\" class=\"dataframe\">\n",
       "  <thead>\n",
       "    <tr style=\"text-align: right;\">\n",
       "      <th></th>\n",
       "      <th>Date</th>\n",
       "      <th>AAPL.Open</th>\n",
       "      <th>AAPL.High</th>\n",
       "      <th>AAPL.Low</th>\n",
       "      <th>AAPL.Close</th>\n",
       "      <th>AAPL.Volume</th>\n",
       "    </tr>\n",
       "  </thead>\n",
       "  <tbody>\n",
       "    <tr>\n",
       "      <th>0</th>\n",
       "      <td>2015-02-17</td>\n",
       "      <td>127.489998</td>\n",
       "      <td>128.880005</td>\n",
       "      <td>126.919998</td>\n",
       "      <td>127.830002</td>\n",
       "      <td>63152400</td>\n",
       "    </tr>\n",
       "    <tr>\n",
       "      <th>1</th>\n",
       "      <td>2015-02-18</td>\n",
       "      <td>127.629997</td>\n",
       "      <td>128.779999</td>\n",
       "      <td>127.449997</td>\n",
       "      <td>128.720001</td>\n",
       "      <td>44891700</td>\n",
       "    </tr>\n",
       "    <tr>\n",
       "      <th>2</th>\n",
       "      <td>2015-02-19</td>\n",
       "      <td>128.479996</td>\n",
       "      <td>129.029999</td>\n",
       "      <td>128.330002</td>\n",
       "      <td>128.449997</td>\n",
       "      <td>37362400</td>\n",
       "    </tr>\n",
       "    <tr>\n",
       "      <th>3</th>\n",
       "      <td>2015-02-20</td>\n",
       "      <td>128.619995</td>\n",
       "      <td>129.500000</td>\n",
       "      <td>128.050003</td>\n",
       "      <td>129.500000</td>\n",
       "      <td>48948400</td>\n",
       "    </tr>\n",
       "    <tr>\n",
       "      <th>4</th>\n",
       "      <td>2015-02-23</td>\n",
       "      <td>130.020004</td>\n",
       "      <td>133.000000</td>\n",
       "      <td>129.660004</td>\n",
       "      <td>133.000000</td>\n",
       "      <td>70974100</td>\n",
       "    </tr>\n",
       "  </tbody>\n",
       "</table>\n",
       "</div>"
      ],
      "text/plain": [
       "         Date   AAPL.Open   AAPL.High    AAPL.Low  AAPL.Close  AAPL.Volume\n",
       "0  2015-02-17  127.489998  128.880005  126.919998  127.830002     63152400\n",
       "1  2015-02-18  127.629997  128.779999  127.449997  128.720001     44891700\n",
       "2  2015-02-19  128.479996  129.029999  128.330002  128.449997     37362400\n",
       "3  2015-02-20  128.619995  129.500000  128.050003  129.500000     48948400\n",
       "4  2015-02-23  130.020004  133.000000  129.660004  133.000000     70974100"
      ]
     },
     "execution_count": 4,
     "metadata": {},
     "output_type": "execute_result"
    }
   ],
   "source": [
    "columns = ['Date', 'AAPL.Open', 'AAPL.High', 'AAPL.Low', 'AAPL.Close', 'AAPL.Volume']\n",
    "pd.read_csv('../data/finance_charts_apple.csv', usecols=columns).head()"
   ]
  },
  {
   "cell_type": "code",
   "execution_count": 17,
   "metadata": {},
   "outputs": [
    {
     "data": {
      "text/html": [
       "<div>\n",
       "<style scoped>\n",
       "    .dataframe tbody tr th:only-of-type {\n",
       "        vertical-align: middle;\n",
       "    }\n",
       "\n",
       "    .dataframe tbody tr th {\n",
       "        vertical-align: top;\n",
       "    }\n",
       "\n",
       "    .dataframe thead th {\n",
       "        text-align: right;\n",
       "    }\n",
       "</style>\n",
       "<table border=\"1\" class=\"dataframe\">\n",
       "  <thead>\n",
       "    <tr style=\"text-align: right;\">\n",
       "      <th></th>\n",
       "      <th>word</th>\n",
       "      <th>length</th>\n",
       "    </tr>\n",
       "  </thead>\n",
       "  <tbody>\n",
       "    <tr>\n",
       "      <th>0</th>\n",
       "      <td>Python</td>\n",
       "      <td>6</td>\n",
       "    </tr>\n",
       "    <tr>\n",
       "      <th>1</th>\n",
       "      <td>Jupyter</td>\n",
       "      <td>7</td>\n",
       "    </tr>\n",
       "    <tr>\n",
       "      <th>2</th>\n",
       "      <td>Anaconda</td>\n",
       "      <td>8</td>\n",
       "    </tr>\n",
       "  </tbody>\n",
       "</table>\n",
       "</div>"
      ],
      "text/plain": [
       "       word  length\n",
       "0    Python       6\n",
       "1   Jupyter       7\n",
       "2  Anaconda       8"
      ]
     },
     "execution_count": 17,
     "metadata": {},
     "output_type": "execute_result"
    }
   ],
   "source": [
    "dfTemp = {\n",
    "    'word': {'0':'Python','1':'Jupyter','2':'Anaconda'},\n",
    "    'length': {'0':6,'1':7,'2':8}\n",
    "}\n",
    "pd.DataFrame.from_dict(dfTemp, orient='columns')"
   ]
  },
  {
   "cell_type": "code",
   "execution_count": 18,
   "metadata": {},
   "outputs": [
    {
     "data": {
      "text/html": [
       "<div>\n",
       "<style scoped>\n",
       "    .dataframe tbody tr th:only-of-type {\n",
       "        vertical-align: middle;\n",
       "    }\n",
       "\n",
       "    .dataframe tbody tr th {\n",
       "        vertical-align: top;\n",
       "    }\n",
       "\n",
       "    .dataframe thead th {\n",
       "        text-align: right;\n",
       "    }\n",
       "</style>\n",
       "<table border=\"1\" class=\"dataframe\">\n",
       "  <thead>\n",
       "    <tr style=\"text-align: right;\">\n",
       "      <th></th>\n",
       "      <th>word</th>\n",
       "      <th>length</th>\n",
       "    </tr>\n",
       "  </thead>\n",
       "  <tbody>\n",
       "    <tr>\n",
       "      <th>0</th>\n",
       "      <td>Python</td>\n",
       "      <td>6</td>\n",
       "    </tr>\n",
       "    <tr>\n",
       "      <th>1</th>\n",
       "      <td>Jupyter</td>\n",
       "      <td>7</td>\n",
       "    </tr>\n",
       "    <tr>\n",
       "      <th>2</th>\n",
       "      <td>Anaconda</td>\n",
       "      <td>8</td>\n",
       "    </tr>\n",
       "  </tbody>\n",
       "</table>\n",
       "</div>"
      ],
      "text/plain": [
       "       word  length\n",
       "0    Python       6\n",
       "1   Jupyter       7\n",
       "2  Anaconda       8"
      ]
     },
     "execution_count": 18,
     "metadata": {},
     "output_type": "execute_result"
    }
   ],
   "source": [
    "dfTemp = {\n",
    "    '0': {'word':'Python', 'length':6},\n",
    "    '1': {'word':'Jupyter', 'length':7},\n",
    "    '2': {'word':'Anaconda', 'length':8}\n",
    "}\n",
    "pd.DataFrame.from_dict(dfTemp, orient='index')"
   ]
  },
  {
   "cell_type": "markdown",
   "metadata": {
    "colab": {},
    "colab_type": "code",
    "id": "mJRmdWEyeX_r"
   },
   "source": [
    "### 1.4. Useful Pandas settings\n",
    "\n",
    "```python\n",
    "# float display of 2 decimal places\n",
    "pd.options.display.float_format = '{:,.2f}'.format\n",
    "\n",
    "# display up to 100 characters each cell\n",
    "pd.options.display.max_colwidth = 1000\n",
    "\n",
    "# display up to 500 columns\n",
    "pd.options.display.max_columns = 500\n",
    "\n",
    "# display up to 1000 rows\n",
    "pd.options.display.max_rows = 1000\n",
    "```"
   ]
  },
  {
   "cell_type": "markdown",
   "metadata": {
    "colab_type": "text",
    "id": "kdieSEgxeX_t"
   },
   "source": [
    "## 2. Data exploratory\n",
    "Data exploratory is an initial analysis step that summarizes the main characteristics to understand what is in the dataset. Data wrangling and data visualization are used for exploratory; however, this topic mentions only data wrangling using Pandas."
   ]
  },
  {
   "cell_type": "markdown",
   "metadata": {
    "colab_type": "text",
    "id": "m79jY-rFeX_u"
   },
   "source": [
    "### 2.1. Overview"
   ]
  },
  {
   "cell_type": "code",
   "execution_count": 2,
   "metadata": {
    "colab": {},
    "colab_type": "code",
    "execution": {
     "iopub.execute_input": "2023-01-23T06:14:21.800007Z",
     "iopub.status.busy": "2023-01-23T06:14:21.799681Z",
     "iopub.status.idle": "2023-01-23T06:14:22.732013Z",
     "shell.execute_reply": "2023-01-23T06:14:22.731387Z",
     "shell.execute_reply.started": "2023-01-23T06:14:21.799984Z"
    },
    "id": "aMIWcBbVeX_u",
    "tags": [
     "remove-cell"
    ]
   },
   "outputs": [],
   "source": [
    "import numpy as np\n",
    "import pandas as pd"
   ]
  },
  {
   "cell_type": "code",
   "execution_count": 29,
   "metadata": {
    "colab": {},
    "colab_type": "code",
    "execution": {
     "iopub.execute_input": "2023-01-23T06:18:06.519271Z",
     "iopub.status.busy": "2023-01-23T06:18:06.518937Z",
     "iopub.status.idle": "2023-01-23T06:18:06.539773Z",
     "shell.execute_reply": "2023-01-23T06:18:06.538862Z",
     "shell.execute_reply.started": "2023-01-23T06:18:06.519246Z"
    },
    "id": "jVZnDEFTeX_x",
    "tags": []
   },
   "outputs": [],
   "source": [
    "columns = ['video_id', 'trending_date', 'channel_title', 'category_id', 'views', 'likes', 'dislikes', 'ratings_disabled']\n",
    "dfYoutube = pd.read_csv('../data/youtube_trending.csv', usecols=columns)"
   ]
  },
  {
   "cell_type": "markdown",
   "metadata": {
    "colab_type": "text",
    "id": "RDg2csb-eX_2"
   },
   "source": [
    "#### Rows observing"
   ]
  },
  {
   "cell_type": "code",
   "execution_count": 30,
   "metadata": {
    "colab": {},
    "colab_type": "code",
    "execution": {
     "iopub.execute_input": "2023-01-23T06:18:08.162688Z",
     "iopub.status.busy": "2023-01-23T06:18:08.162322Z",
     "iopub.status.idle": "2023-01-23T06:18:08.173273Z",
     "shell.execute_reply": "2023-01-23T06:18:08.172191Z",
     "shell.execute_reply.started": "2023-01-23T06:18:08.162660Z"
    },
    "id": "4jAYSZ2meX_2",
    "outputId": "6451cb98-7608-4634-f05a-d3c2a4d20894",
    "tags": [
     "output_scroll"
    ]
   },
   "outputs": [
    {
     "data": {
      "text/html": [
       "<div>\n",
       "<style scoped>\n",
       "    .dataframe tbody tr th:only-of-type {\n",
       "        vertical-align: middle;\n",
       "    }\n",
       "\n",
       "    .dataframe tbody tr th {\n",
       "        vertical-align: top;\n",
       "    }\n",
       "\n",
       "    .dataframe thead th {\n",
       "        text-align: right;\n",
       "    }\n",
       "</style>\n",
       "<table border=\"1\" class=\"dataframe\">\n",
       "  <thead>\n",
       "    <tr style=\"text-align: right;\">\n",
       "      <th></th>\n",
       "      <th>video_id</th>\n",
       "      <th>trending_date</th>\n",
       "      <th>channel_title</th>\n",
       "      <th>category_id</th>\n",
       "      <th>views</th>\n",
       "      <th>likes</th>\n",
       "      <th>dislikes</th>\n",
       "      <th>ratings_disabled</th>\n",
       "    </tr>\n",
       "  </thead>\n",
       "  <tbody>\n",
       "    <tr>\n",
       "      <th>0</th>\n",
       "      <td>2kyS6SvSYSE</td>\n",
       "      <td>2017-11-14</td>\n",
       "      <td>CaseyNeistat</td>\n",
       "      <td>22</td>\n",
       "      <td>748374</td>\n",
       "      <td>57527</td>\n",
       "      <td>2966</td>\n",
       "      <td>False</td>\n",
       "    </tr>\n",
       "    <tr>\n",
       "      <th>1</th>\n",
       "      <td>1ZAPwfrtAFY</td>\n",
       "      <td>2017-11-14</td>\n",
       "      <td>LastWeekTonight</td>\n",
       "      <td>24</td>\n",
       "      <td>2418783</td>\n",
       "      <td>97185</td>\n",
       "      <td>6146</td>\n",
       "      <td>False</td>\n",
       "    </tr>\n",
       "    <tr>\n",
       "      <th>2</th>\n",
       "      <td>5qpjK5DgCt4</td>\n",
       "      <td>2017-11-14</td>\n",
       "      <td>Rudy Mancuso</td>\n",
       "      <td>23</td>\n",
       "      <td>3191434</td>\n",
       "      <td>146033</td>\n",
       "      <td>5339</td>\n",
       "      <td>False</td>\n",
       "    </tr>\n",
       "    <tr>\n",
       "      <th>3</th>\n",
       "      <td>puqaWrEC7tY</td>\n",
       "      <td>2017-11-14</td>\n",
       "      <td>Good Mythical Morning</td>\n",
       "      <td>24</td>\n",
       "      <td>343168</td>\n",
       "      <td>10172</td>\n",
       "      <td>666</td>\n",
       "      <td>False</td>\n",
       "    </tr>\n",
       "    <tr>\n",
       "      <th>4</th>\n",
       "      <td>d380meD0W0M</td>\n",
       "      <td>2017-11-14</td>\n",
       "      <td>nigahiga</td>\n",
       "      <td>24</td>\n",
       "      <td>2095731</td>\n",
       "      <td>132235</td>\n",
       "      <td>1989</td>\n",
       "      <td>False</td>\n",
       "    </tr>\n",
       "  </tbody>\n",
       "</table>\n",
       "</div>"
      ],
      "text/plain": [
       "      video_id trending_date          channel_title  category_id    views  \\\n",
       "0  2kyS6SvSYSE    2017-11-14           CaseyNeistat           22   748374   \n",
       "1  1ZAPwfrtAFY    2017-11-14        LastWeekTonight           24  2418783   \n",
       "2  5qpjK5DgCt4    2017-11-14           Rudy Mancuso           23  3191434   \n",
       "3  puqaWrEC7tY    2017-11-14  Good Mythical Morning           24   343168   \n",
       "4  d380meD0W0M    2017-11-14               nigahiga           24  2095731   \n",
       "\n",
       "    likes  dislikes  ratings_disabled  \n",
       "0   57527      2966             False  \n",
       "1   97185      6146             False  \n",
       "2  146033      5339             False  \n",
       "3   10172       666             False  \n",
       "4  132235      1989             False  "
      ]
     },
     "execution_count": 30,
     "metadata": {},
     "output_type": "execute_result"
    }
   ],
   "source": [
    "dfYoutube.head()"
   ]
  },
  {
   "cell_type": "code",
   "execution_count": 31,
   "metadata": {
    "colab": {},
    "colab_type": "code",
    "execution": {
     "iopub.execute_input": "2023-01-23T06:18:29.933116Z",
     "iopub.status.busy": "2023-01-23T06:18:29.932769Z",
     "iopub.status.idle": "2023-01-23T06:18:29.940914Z",
     "shell.execute_reply": "2023-01-23T06:18:29.940020Z",
     "shell.execute_reply.started": "2023-01-23T06:18:29.933092Z"
    },
    "id": "VZGm5cSAeX_5",
    "outputId": "4061df07-e53b-4e97-be80-e8a2c97cd849",
    "tags": [
     "output_scroll"
    ]
   },
   "outputs": [
    {
     "data": {
      "text/html": [
       "<div>\n",
       "<style scoped>\n",
       "    .dataframe tbody tr th:only-of-type {\n",
       "        vertical-align: middle;\n",
       "    }\n",
       "\n",
       "    .dataframe tbody tr th {\n",
       "        vertical-align: top;\n",
       "    }\n",
       "\n",
       "    .dataframe thead th {\n",
       "        text-align: right;\n",
       "    }\n",
       "</style>\n",
       "<table border=\"1\" class=\"dataframe\">\n",
       "  <thead>\n",
       "    <tr style=\"text-align: right;\">\n",
       "      <th></th>\n",
       "      <th>video_id</th>\n",
       "      <th>trending_date</th>\n",
       "      <th>channel_title</th>\n",
       "      <th>category_id</th>\n",
       "      <th>views</th>\n",
       "      <th>likes</th>\n",
       "      <th>dislikes</th>\n",
       "      <th>ratings_disabled</th>\n",
       "    </tr>\n",
       "  </thead>\n",
       "  <tbody>\n",
       "    <tr>\n",
       "      <th>9878</th>\n",
       "      <td>NEmFS50lsTw</td>\n",
       "      <td>2018-02-01</td>\n",
       "      <td>SKITTLESbrand</td>\n",
       "      <td>24</td>\n",
       "      <td>483127</td>\n",
       "      <td>3924</td>\n",
       "      <td>362</td>\n",
       "      <td>False</td>\n",
       "    </tr>\n",
       "    <tr>\n",
       "      <th>9879</th>\n",
       "      <td>NZ0ImXT1FZk</td>\n",
       "      <td>2018-02-01</td>\n",
       "      <td>Brave Wilderness</td>\n",
       "      <td>15</td>\n",
       "      <td>1417253</td>\n",
       "      <td>44358</td>\n",
       "      <td>893</td>\n",
       "      <td>False</td>\n",
       "    </tr>\n",
       "    <tr>\n",
       "      <th>9880</th>\n",
       "      <td>t3z_pdr6z8w</td>\n",
       "      <td>2018-02-01</td>\n",
       "      <td>Jackie Aina</td>\n",
       "      <td>26</td>\n",
       "      <td>877585</td>\n",
       "      <td>115391</td>\n",
       "      <td>1621</td>\n",
       "      <td>False</td>\n",
       "    </tr>\n",
       "  </tbody>\n",
       "</table>\n",
       "</div>"
      ],
      "text/plain": [
       "         video_id trending_date     channel_title  category_id    views  \\\n",
       "9878  NEmFS50lsTw    2018-02-01     SKITTLESbrand           24   483127   \n",
       "9879  NZ0ImXT1FZk    2018-02-01  Brave Wilderness           15  1417253   \n",
       "9880  t3z_pdr6z8w    2018-02-01       Jackie Aina           26   877585   \n",
       "\n",
       "       likes  dislikes  ratings_disabled  \n",
       "9878    3924       362             False  \n",
       "9879   44358       893             False  \n",
       "9880  115391      1621             False  "
      ]
     },
     "execution_count": 31,
     "metadata": {},
     "output_type": "execute_result"
    }
   ],
   "source": [
    "dfYoutube.tail(3)"
   ]
  },
  {
   "cell_type": "code",
   "execution_count": 32,
   "metadata": {
    "colab": {},
    "colab_type": "code",
    "execution": {
     "iopub.execute_input": "2023-01-23T06:18:33.613826Z",
     "iopub.status.busy": "2023-01-23T06:18:33.613495Z",
     "iopub.status.idle": "2023-01-23T06:18:33.624226Z",
     "shell.execute_reply": "2023-01-23T06:18:33.623575Z",
     "shell.execute_reply.started": "2023-01-23T06:18:33.613803Z"
    },
    "id": "luGwpBH-eX_8",
    "outputId": "0789cfd1-e072-4c21-ac0d-c75c4974feee",
    "tags": [
     "output_scroll"
    ]
   },
   "outputs": [
    {
     "data": {
      "text/html": [
       "<div>\n",
       "<style scoped>\n",
       "    .dataframe tbody tr th:only-of-type {\n",
       "        vertical-align: middle;\n",
       "    }\n",
       "\n",
       "    .dataframe tbody tr th {\n",
       "        vertical-align: top;\n",
       "    }\n",
       "\n",
       "    .dataframe thead th {\n",
       "        text-align: right;\n",
       "    }\n",
       "</style>\n",
       "<table border=\"1\" class=\"dataframe\">\n",
       "  <thead>\n",
       "    <tr style=\"text-align: right;\">\n",
       "      <th></th>\n",
       "      <th>video_id</th>\n",
       "      <th>trending_date</th>\n",
       "      <th>channel_title</th>\n",
       "      <th>category_id</th>\n",
       "      <th>views</th>\n",
       "      <th>likes</th>\n",
       "      <th>dislikes</th>\n",
       "      <th>ratings_disabled</th>\n",
       "    </tr>\n",
       "  </thead>\n",
       "  <tbody>\n",
       "    <tr>\n",
       "      <th>6103</th>\n",
       "      <td>FlsCjmMhFmw</td>\n",
       "      <td>2017-12-14</td>\n",
       "      <td>YouTube Spotlight</td>\n",
       "      <td>24</td>\n",
       "      <td>149376127</td>\n",
       "      <td>3093544</td>\n",
       "      <td>1643059</td>\n",
       "      <td>False</td>\n",
       "    </tr>\n",
       "    <tr>\n",
       "      <th>5860</th>\n",
       "      <td>FlsCjmMhFmw</td>\n",
       "      <td>2017-12-13</td>\n",
       "      <td>YouTube Spotlight</td>\n",
       "      <td>24</td>\n",
       "      <td>137843120</td>\n",
       "      <td>3014471</td>\n",
       "      <td>1602383</td>\n",
       "      <td>False</td>\n",
       "    </tr>\n",
       "    <tr>\n",
       "      <th>5629</th>\n",
       "      <td>FlsCjmMhFmw</td>\n",
       "      <td>2017-12-12</td>\n",
       "      <td>YouTube Spotlight</td>\n",
       "      <td>24</td>\n",
       "      <td>125432237</td>\n",
       "      <td>2912702</td>\n",
       "      <td>1545015</td>\n",
       "      <td>False</td>\n",
       "    </tr>\n",
       "    <tr>\n",
       "      <th>5386</th>\n",
       "      <td>FlsCjmMhFmw</td>\n",
       "      <td>2017-12-11</td>\n",
       "      <td>YouTube Spotlight</td>\n",
       "      <td>24</td>\n",
       "      <td>113874632</td>\n",
       "      <td>2811215</td>\n",
       "      <td>1470383</td>\n",
       "      <td>False</td>\n",
       "    </tr>\n",
       "    <tr>\n",
       "      <th>2558</th>\n",
       "      <td>TyHvyGVs42U</td>\n",
       "      <td>2017-11-26</td>\n",
       "      <td>LuisFonsiVEVO</td>\n",
       "      <td>10</td>\n",
       "      <td>102012605</td>\n",
       "      <td>2376636</td>\n",
       "      <td>117196</td>\n",
       "      <td>False</td>\n",
       "    </tr>\n",
       "  </tbody>\n",
       "</table>\n",
       "</div>"
      ],
      "text/plain": [
       "         video_id trending_date      channel_title  category_id      views  \\\n",
       "6103  FlsCjmMhFmw    2017-12-14  YouTube Spotlight           24  149376127   \n",
       "5860  FlsCjmMhFmw    2017-12-13  YouTube Spotlight           24  137843120   \n",
       "5629  FlsCjmMhFmw    2017-12-12  YouTube Spotlight           24  125432237   \n",
       "5386  FlsCjmMhFmw    2017-12-11  YouTube Spotlight           24  113874632   \n",
       "2558  TyHvyGVs42U    2017-11-26      LuisFonsiVEVO           10  102012605   \n",
       "\n",
       "        likes  dislikes  ratings_disabled  \n",
       "6103  3093544   1643059             False  \n",
       "5860  3014471   1602383             False  \n",
       "5629  2912702   1545015             False  \n",
       "5386  2811215   1470383             False  \n",
       "2558  2376636    117196             False  "
      ]
     },
     "execution_count": 32,
     "metadata": {},
     "output_type": "execute_result"
    }
   ],
   "source": [
    "dfYoutube.nlargest(n=5, columns='views')"
   ]
  },
  {
   "cell_type": "code",
   "execution_count": 33,
   "metadata": {
    "colab": {},
    "colab_type": "code",
    "execution": {
     "iopub.execute_input": "2023-01-23T06:18:34.714839Z",
     "iopub.status.busy": "2023-01-23T06:18:34.714512Z",
     "iopub.status.idle": "2023-01-23T06:18:34.727687Z",
     "shell.execute_reply": "2023-01-23T06:18:34.726956Z",
     "shell.execute_reply.started": "2023-01-23T06:18:34.714814Z"
    },
    "id": "iQo9o99qeX_-",
    "outputId": "87a23009-4e23-4f28-82aa-f350a6e3b0d6",
    "tags": [
     "output_scroll"
    ]
   },
   "outputs": [
    {
     "data": {
      "text/html": [
       "<div>\n",
       "<style scoped>\n",
       "    .dataframe tbody tr th:only-of-type {\n",
       "        vertical-align: middle;\n",
       "    }\n",
       "\n",
       "    .dataframe tbody tr th {\n",
       "        vertical-align: top;\n",
       "    }\n",
       "\n",
       "    .dataframe thead th {\n",
       "        text-align: right;\n",
       "    }\n",
       "</style>\n",
       "<table border=\"1\" class=\"dataframe\">\n",
       "  <thead>\n",
       "    <tr style=\"text-align: right;\">\n",
       "      <th></th>\n",
       "      <th>video_id</th>\n",
       "      <th>trending_date</th>\n",
       "      <th>channel_title</th>\n",
       "      <th>category_id</th>\n",
       "      <th>views</th>\n",
       "      <th>likes</th>\n",
       "      <th>dislikes</th>\n",
       "      <th>ratings_disabled</th>\n",
       "    </tr>\n",
       "  </thead>\n",
       "  <tbody>\n",
       "    <tr>\n",
       "      <th>1416</th>\n",
       "      <td>Kn5UgGQukYQ</td>\n",
       "      <td>2017-11-21</td>\n",
       "      <td>hudsonunionsociety</td>\n",
       "      <td>1</td>\n",
       "      <td>15058</td>\n",
       "      <td>0</td>\n",
       "      <td>0</td>\n",
       "      <td>True</td>\n",
       "    </tr>\n",
       "    <tr>\n",
       "      <th>1645</th>\n",
       "      <td>Kn5UgGQukYQ</td>\n",
       "      <td>2017-11-22</td>\n",
       "      <td>hudsonunionsociety</td>\n",
       "      <td>1</td>\n",
       "      <td>34207</td>\n",
       "      <td>0</td>\n",
       "      <td>0</td>\n",
       "      <td>True</td>\n",
       "    </tr>\n",
       "    <tr>\n",
       "      <th>1890</th>\n",
       "      <td>Kn5UgGQukYQ</td>\n",
       "      <td>2017-11-23</td>\n",
       "      <td>hudsonunionsociety</td>\n",
       "      <td>1</td>\n",
       "      <td>36137</td>\n",
       "      <td>0</td>\n",
       "      <td>0</td>\n",
       "      <td>True</td>\n",
       "    </tr>\n",
       "    <tr>\n",
       "      <th>2093</th>\n",
       "      <td>Kn5UgGQukYQ</td>\n",
       "      <td>2017-11-24</td>\n",
       "      <td>hudsonunionsociety</td>\n",
       "      <td>1</td>\n",
       "      <td>36579</td>\n",
       "      <td>0</td>\n",
       "      <td>0</td>\n",
       "      <td>True</td>\n",
       "    </tr>\n",
       "    <tr>\n",
       "      <th>2306</th>\n",
       "      <td>Kn5UgGQukYQ</td>\n",
       "      <td>2017-11-25</td>\n",
       "      <td>hudsonunionsociety</td>\n",
       "      <td>1</td>\n",
       "      <td>36931</td>\n",
       "      <td>0</td>\n",
       "      <td>0</td>\n",
       "      <td>True</td>\n",
       "    </tr>\n",
       "  </tbody>\n",
       "</table>\n",
       "</div>"
      ],
      "text/plain": [
       "         video_id trending_date       channel_title  category_id  views  \\\n",
       "1416  Kn5UgGQukYQ    2017-11-21  hudsonunionsociety            1  15058   \n",
       "1645  Kn5UgGQukYQ    2017-11-22  hudsonunionsociety            1  34207   \n",
       "1890  Kn5UgGQukYQ    2017-11-23  hudsonunionsociety            1  36137   \n",
       "2093  Kn5UgGQukYQ    2017-11-24  hudsonunionsociety            1  36579   \n",
       "2306  Kn5UgGQukYQ    2017-11-25  hudsonunionsociety            1  36931   \n",
       "\n",
       "      likes  dislikes  ratings_disabled  \n",
       "1416      0         0              True  \n",
       "1645      0         0              True  \n",
       "1890      0         0              True  \n",
       "2093      0         0              True  \n",
       "2306      0         0              True  "
      ]
     },
     "execution_count": 33,
     "metadata": {},
     "output_type": "execute_result"
    }
   ],
   "source": [
    "dfYoutube.nsmallest(n=5, columns=['category_id', 'likes'])"
   ]
  },
  {
   "cell_type": "markdown",
   "metadata": {
    "colab_type": "text",
    "id": "akE4LNAPeYAC"
   },
   "source": [
    "#### Features analysis"
   ]
  },
  {
   "cell_type": "code",
   "execution_count": 36,
   "metadata": {
    "colab": {},
    "colab_type": "code",
    "execution": {
     "iopub.execute_input": "2023-01-23T06:19:33.191251Z",
     "iopub.status.busy": "2023-01-23T06:19:33.190892Z",
     "iopub.status.idle": "2023-01-23T06:19:33.195790Z",
     "shell.execute_reply": "2023-01-23T06:19:33.194731Z",
     "shell.execute_reply.started": "2023-01-23T06:19:33.191226Z"
    },
    "id": "3KWdFnAQeYAD",
    "outputId": "b11cdd0f-ace1-4cdb-9114-0aca89c37b07",
    "tags": []
   },
   "outputs": [
    {
     "data": {
      "text/plain": [
       "(9881, 8)"
      ]
     },
     "execution_count": 36,
     "metadata": {},
     "output_type": "execute_result"
    }
   ],
   "source": [
    "dfYoutube.shape"
   ]
  },
  {
   "cell_type": "code",
   "execution_count": 35,
   "metadata": {
    "colab": {},
    "colab_type": "code",
    "execution": {
     "iopub.execute_input": "2023-01-23T06:19:32.094264Z",
     "iopub.status.busy": "2023-01-23T06:19:32.093904Z",
     "iopub.status.idle": "2023-01-23T06:19:32.098704Z",
     "shell.execute_reply": "2023-01-23T06:19:32.097900Z",
     "shell.execute_reply.started": "2023-01-23T06:19:32.094238Z"
    },
    "id": "GOqilcK6eYAG",
    "outputId": "e189d218-a36a-4861-9f22-f9d05c948573",
    "tags": []
   },
   "outputs": [
    {
     "data": {
      "text/plain": [
       "Index(['video_id', 'trending_date', 'channel_title', 'category_id', 'views',\n",
       "       'likes', 'dislikes', 'ratings_disabled'],\n",
       "      dtype='object')"
      ]
     },
     "execution_count": 35,
     "metadata": {},
     "output_type": "execute_result"
    }
   ],
   "source": [
    "dfYoutube.columns"
   ]
  },
  {
   "cell_type": "code",
   "execution_count": 34,
   "metadata": {
    "colab": {},
    "colab_type": "code",
    "execution": {
     "iopub.execute_input": "2023-01-23T06:19:30.346938Z",
     "iopub.status.busy": "2023-01-23T06:19:30.346582Z",
     "iopub.status.idle": "2023-01-23T06:19:30.352526Z",
     "shell.execute_reply": "2023-01-23T06:19:30.351603Z",
     "shell.execute_reply.started": "2023-01-23T06:19:30.346913Z"
    },
    "id": "DshdRlPVeYAJ",
    "outputId": "d6f37b5c-fb22-4340-8a5b-866851938430",
    "tags": []
   },
   "outputs": [
    {
     "data": {
      "text/plain": [
       "video_id            object\n",
       "trending_date       object\n",
       "channel_title       object\n",
       "category_id          int64\n",
       "views                int64\n",
       "likes                int64\n",
       "dislikes             int64\n",
       "ratings_disabled      bool\n",
       "dtype: object"
      ]
     },
     "execution_count": 34,
     "metadata": {},
     "output_type": "execute_result"
    }
   ],
   "source": [
    "# Pandas automatically detects the data type for each column.\n",
    "dfYoutube.dtypes"
   ]
  },
  {
   "cell_type": "markdown",
   "metadata": {
    "colab_type": "text",
    "id": "Fxjmu5LzeYAM"
   },
   "source": [
    "#### Statistical summary"
   ]
  },
  {
   "cell_type": "code",
   "execution_count": 37,
   "metadata": {
    "colab": {},
    "colab_type": "code",
    "execution": {
     "iopub.execute_input": "2023-01-23T06:19:36.897551Z",
     "iopub.status.busy": "2023-01-23T06:19:36.897119Z",
     "iopub.status.idle": "2023-01-23T06:19:36.915677Z",
     "shell.execute_reply": "2023-01-23T06:19:36.914722Z",
     "shell.execute_reply.started": "2023-01-23T06:19:36.897521Z"
    },
    "id": "xle3kIo7eYAM",
    "outputId": "a14d9b04-eb01-4c96-8136-859611f28121",
    "tags": [
     "output_scroll"
    ]
   },
   "outputs": [
    {
     "data": {
      "text/html": [
       "<div>\n",
       "<style scoped>\n",
       "    .dataframe tbody tr th:only-of-type {\n",
       "        vertical-align: middle;\n",
       "    }\n",
       "\n",
       "    .dataframe tbody tr th {\n",
       "        vertical-align: top;\n",
       "    }\n",
       "\n",
       "    .dataframe thead th {\n",
       "        text-align: right;\n",
       "    }\n",
       "</style>\n",
       "<table border=\"1\" class=\"dataframe\">\n",
       "  <thead>\n",
       "    <tr style=\"text-align: right;\">\n",
       "      <th></th>\n",
       "      <th>category_id</th>\n",
       "      <th>views</th>\n",
       "      <th>likes</th>\n",
       "      <th>dislikes</th>\n",
       "    </tr>\n",
       "  </thead>\n",
       "  <tbody>\n",
       "    <tr>\n",
       "      <th>count</th>\n",
       "      <td>9881.000000</td>\n",
       "      <td>9.881000e+03</td>\n",
       "      <td>9.881000e+03</td>\n",
       "      <td>9.881000e+03</td>\n",
       "    </tr>\n",
       "    <tr>\n",
       "      <th>mean</th>\n",
       "      <td>19.970347</td>\n",
       "      <td>1.288900e+06</td>\n",
       "      <td>4.746089e+04</td>\n",
       "      <td>3.066993e+03</td>\n",
       "    </tr>\n",
       "    <tr>\n",
       "      <th>std</th>\n",
       "      <td>7.544083</td>\n",
       "      <td>5.110157e+06</td>\n",
       "      <td>1.705132e+05</td>\n",
       "      <td>3.889208e+04</td>\n",
       "    </tr>\n",
       "    <tr>\n",
       "      <th>min</th>\n",
       "      <td>1.000000</td>\n",
       "      <td>6.870000e+02</td>\n",
       "      <td>0.000000e+00</td>\n",
       "      <td>0.000000e+00</td>\n",
       "    </tr>\n",
       "    <tr>\n",
       "      <th>25%</th>\n",
       "      <td>17.000000</td>\n",
       "      <td>8.960900e+04</td>\n",
       "      <td>2.031000e+03</td>\n",
       "      <td>8.500000e+01</td>\n",
       "    </tr>\n",
       "    <tr>\n",
       "      <th>50%</th>\n",
       "      <td>24.000000</td>\n",
       "      <td>3.116210e+05</td>\n",
       "      <td>9.003000e+03</td>\n",
       "      <td>3.250000e+02</td>\n",
       "    </tr>\n",
       "    <tr>\n",
       "      <th>75%</th>\n",
       "      <td>25.000000</td>\n",
       "      <td>1.001367e+06</td>\n",
       "      <td>2.942500e+04</td>\n",
       "      <td>1.131000e+03</td>\n",
       "    </tr>\n",
       "    <tr>\n",
       "      <th>max</th>\n",
       "      <td>43.000000</td>\n",
       "      <td>1.493761e+08</td>\n",
       "      <td>3.093544e+06</td>\n",
       "      <td>1.643059e+06</td>\n",
       "    </tr>\n",
       "  </tbody>\n",
       "</table>\n",
       "</div>"
      ],
      "text/plain": [
       "       category_id         views         likes      dislikes\n",
       "count  9881.000000  9.881000e+03  9.881000e+03  9.881000e+03\n",
       "mean     19.970347  1.288900e+06  4.746089e+04  3.066993e+03\n",
       "std       7.544083  5.110157e+06  1.705132e+05  3.889208e+04\n",
       "min       1.000000  6.870000e+02  0.000000e+00  0.000000e+00\n",
       "25%      17.000000  8.960900e+04  2.031000e+03  8.500000e+01\n",
       "50%      24.000000  3.116210e+05  9.003000e+03  3.250000e+02\n",
       "75%      25.000000  1.001367e+06  2.942500e+04  1.131000e+03\n",
       "max      43.000000  1.493761e+08  3.093544e+06  1.643059e+06"
      ]
     },
     "execution_count": 37,
     "metadata": {},
     "output_type": "execute_result"
    }
   ],
   "source": [
    "dfYoutube.describe()"
   ]
  },
  {
   "cell_type": "code",
   "execution_count": 38,
   "metadata": {
    "colab": {},
    "colab_type": "code",
    "execution": {
     "iopub.execute_input": "2023-01-23T06:19:38.199127Z",
     "iopub.status.busy": "2023-01-23T06:19:38.198806Z",
     "iopub.status.idle": "2023-01-23T06:19:38.208168Z",
     "shell.execute_reply": "2023-01-23T06:19:38.207509Z",
     "shell.execute_reply.started": "2023-01-23T06:19:38.199106Z"
    },
    "id": "XO1ZoCnkeYAP",
    "outputId": "8b616b99-1760-4a12-becd-5d30675bdc32",
    "tags": []
   },
   "outputs": [
    {
     "data": {
      "text/html": [
       "<div>\n",
       "<style scoped>\n",
       "    .dataframe tbody tr th:only-of-type {\n",
       "        vertical-align: middle;\n",
       "    }\n",
       "\n",
       "    .dataframe tbody tr th {\n",
       "        vertical-align: top;\n",
       "    }\n",
       "\n",
       "    .dataframe thead th {\n",
       "        text-align: right;\n",
       "    }\n",
       "</style>\n",
       "<table border=\"1\" class=\"dataframe\">\n",
       "  <thead>\n",
       "    <tr style=\"text-align: right;\">\n",
       "      <th></th>\n",
       "      <th>category_id</th>\n",
       "      <th>views</th>\n",
       "      <th>likes</th>\n",
       "      <th>dislikes</th>\n",
       "      <th>ratings_disabled</th>\n",
       "    </tr>\n",
       "  </thead>\n",
       "  <tbody>\n",
       "    <tr>\n",
       "      <th>category_id</th>\n",
       "      <td>1.000000</td>\n",
       "      <td>-0.068531</td>\n",
       "      <td>-0.092913</td>\n",
       "      <td>0.002402</td>\n",
       "      <td>-0.052243</td>\n",
       "    </tr>\n",
       "    <tr>\n",
       "      <th>views</th>\n",
       "      <td>-0.068531</td>\n",
       "      <td>1.000000</td>\n",
       "      <td>0.880433</td>\n",
       "      <td>0.673456</td>\n",
       "      <td>-0.010271</td>\n",
       "    </tr>\n",
       "    <tr>\n",
       "      <th>likes</th>\n",
       "      <td>-0.092913</td>\n",
       "      <td>0.880433</td>\n",
       "      <td>1.000000</td>\n",
       "      <td>0.530022</td>\n",
       "      <td>-0.019651</td>\n",
       "    </tr>\n",
       "    <tr>\n",
       "      <th>dislikes</th>\n",
       "      <td>0.002402</td>\n",
       "      <td>0.673456</td>\n",
       "      <td>0.530022</td>\n",
       "      <td>1.000000</td>\n",
       "      <td>-0.005567</td>\n",
       "    </tr>\n",
       "    <tr>\n",
       "      <th>ratings_disabled</th>\n",
       "      <td>-0.052243</td>\n",
       "      <td>-0.010271</td>\n",
       "      <td>-0.019651</td>\n",
       "      <td>-0.005567</td>\n",
       "      <td>1.000000</td>\n",
       "    </tr>\n",
       "  </tbody>\n",
       "</table>\n",
       "</div>"
      ],
      "text/plain": [
       "                  category_id     views     likes  dislikes  ratings_disabled\n",
       "category_id          1.000000 -0.068531 -0.092913  0.002402         -0.052243\n",
       "views               -0.068531  1.000000  0.880433  0.673456         -0.010271\n",
       "likes               -0.092913  0.880433  1.000000  0.530022         -0.019651\n",
       "dislikes             0.002402  0.673456  0.530022  1.000000         -0.005567\n",
       "ratings_disabled    -0.052243 -0.010271 -0.019651 -0.005567          1.000000"
      ]
     },
     "execution_count": 38,
     "metadata": {},
     "output_type": "execute_result"
    }
   ],
   "source": [
    "# correlation matrix\n",
    "dfYoutube.corr()"
   ]
  },
  {
   "cell_type": "markdown",
   "metadata": {
    "colab_type": "text",
    "id": "94WCKid-eYAT"
   },
   "source": [
    "#### Missing values\n",
    "Our approach is to calculate the rate of missing values in each column."
   ]
  },
  {
   "cell_type": "code",
   "execution_count": 39,
   "metadata": {
    "colab": {},
    "colab_type": "code",
    "execution": {
     "iopub.execute_input": "2023-01-23T06:19:42.106166Z",
     "iopub.status.busy": "2023-01-23T06:19:42.105827Z",
     "iopub.status.idle": "2023-01-23T06:19:42.115358Z",
     "shell.execute_reply": "2023-01-23T06:19:42.114739Z",
     "shell.execute_reply.started": "2023-01-23T06:19:42.106142Z"
    },
    "id": "aaGO_wNpeYAU",
    "outputId": "0c07bfdc-4350-4086-dc1b-1d0271485470",
    "tags": []
   },
   "outputs": [
    {
     "data": {
      "text/plain": [
       "video_id            90\n",
       "trending_date        0\n",
       "channel_title        0\n",
       "category_id          0\n",
       "views                0\n",
       "likes                0\n",
       "dislikes             0\n",
       "ratings_disabled     0\n",
       "dtype: int64"
      ]
     },
     "execution_count": 39,
     "metadata": {},
     "output_type": "execute_result"
    }
   ],
   "source": [
    "dfYoutube.isnull().sum()"
   ]
  },
  {
   "cell_type": "code",
   "execution_count": 40,
   "metadata": {
    "execution": {
     "iopub.execute_input": "2023-01-23T06:19:43.167933Z",
     "iopub.status.busy": "2023-01-23T06:19:43.167564Z",
     "iopub.status.idle": "2023-01-23T06:19:43.177996Z",
     "shell.execute_reply": "2023-01-23T06:19:43.177121Z",
     "shell.execute_reply.started": "2023-01-23T06:19:43.167906Z"
    },
    "tags": []
   },
   "outputs": [
    {
     "data": {
      "text/plain": [
       "video_id            1%\n",
       "trending_date       0%\n",
       "channel_title       0%\n",
       "category_id         0%\n",
       "views               0%\n",
       "likes               0%\n",
       "dislikes            0%\n",
       "ratings_disabled    0%\n",
       "dtype: object"
      ]
     },
     "execution_count": 40,
     "metadata": {},
     "output_type": "execute_result"
    }
   ],
   "source": [
    "dfYoutube.isna().mean().map('{:.0%}'.format)"
   ]
  },
  {
   "cell_type": "markdown",
   "metadata": {
    "colab_type": "text",
    "id": "7lPdUsjXeYAc"
   },
   "source": [
    "### 2.2. In-depth exploring"
   ]
  },
  {
   "cell_type": "code",
   "execution_count": 36,
   "metadata": {
    "colab": {},
    "colab_type": "code",
    "executionInfo": {
     "elapsed": 776,
     "status": "ok",
     "timestamp": 1597735816197,
     "user": {
      "displayName": "Phạm Quang Hưng",
      "photoUrl": "https://lh3.googleusercontent.com/a-/AOh14GjY138HZmN8_dU9tZZwSF551JsTnaeLlp_8-tPmsw=s64",
      "userId": "05531971174725887265"
     },
     "user_tz": -420
    },
    "id": "yJ_TYeyLeYAc",
    "tags": [
     "remove-cell"
    ]
   },
   "outputs": [],
   "source": [
    "import numpy as np\n",
    "import pandas as pd"
   ]
  },
  {
   "cell_type": "code",
   "execution_count": 41,
   "metadata": {
    "colab": {},
    "colab_type": "code",
    "execution": {
     "iopub.execute_input": "2023-01-23T06:20:51.355726Z",
     "iopub.status.busy": "2023-01-23T06:20:51.355389Z",
     "iopub.status.idle": "2023-01-23T06:20:51.380653Z",
     "shell.execute_reply": "2023-01-23T06:20:51.379657Z",
     "shell.execute_reply.started": "2023-01-23T06:20:51.355702Z"
    },
    "id": "jVZnDEFTeX_x",
    "tags": [
     "output_scroll"
    ]
   },
   "outputs": [
    {
     "data": {
      "text/html": [
       "<div>\n",
       "<style scoped>\n",
       "    .dataframe tbody tr th:only-of-type {\n",
       "        vertical-align: middle;\n",
       "    }\n",
       "\n",
       "    .dataframe tbody tr th {\n",
       "        vertical-align: top;\n",
       "    }\n",
       "\n",
       "    .dataframe thead th {\n",
       "        text-align: right;\n",
       "    }\n",
       "</style>\n",
       "<table border=\"1\" class=\"dataframe\">\n",
       "  <thead>\n",
       "    <tr style=\"text-align: right;\">\n",
       "      <th></th>\n",
       "      <th>video_id</th>\n",
       "      <th>trending_date</th>\n",
       "      <th>channel_title</th>\n",
       "      <th>category_id</th>\n",
       "      <th>views</th>\n",
       "      <th>likes</th>\n",
       "      <th>dislikes</th>\n",
       "      <th>ratings_disabled</th>\n",
       "    </tr>\n",
       "  </thead>\n",
       "  <tbody>\n",
       "    <tr>\n",
       "      <th>0</th>\n",
       "      <td>2kyS6SvSYSE</td>\n",
       "      <td>2017-11-14</td>\n",
       "      <td>CaseyNeistat</td>\n",
       "      <td>22</td>\n",
       "      <td>748374</td>\n",
       "      <td>57527</td>\n",
       "      <td>2966</td>\n",
       "      <td>False</td>\n",
       "    </tr>\n",
       "    <tr>\n",
       "      <th>1</th>\n",
       "      <td>1ZAPwfrtAFY</td>\n",
       "      <td>2017-11-14</td>\n",
       "      <td>LastWeekTonight</td>\n",
       "      <td>24</td>\n",
       "      <td>2418783</td>\n",
       "      <td>97185</td>\n",
       "      <td>6146</td>\n",
       "      <td>False</td>\n",
       "    </tr>\n",
       "    <tr>\n",
       "      <th>2</th>\n",
       "      <td>5qpjK5DgCt4</td>\n",
       "      <td>2017-11-14</td>\n",
       "      <td>Rudy Mancuso</td>\n",
       "      <td>23</td>\n",
       "      <td>3191434</td>\n",
       "      <td>146033</td>\n",
       "      <td>5339</td>\n",
       "      <td>False</td>\n",
       "    </tr>\n",
       "    <tr>\n",
       "      <th>3</th>\n",
       "      <td>puqaWrEC7tY</td>\n",
       "      <td>2017-11-14</td>\n",
       "      <td>Good Mythical Morning</td>\n",
       "      <td>24</td>\n",
       "      <td>343168</td>\n",
       "      <td>10172</td>\n",
       "      <td>666</td>\n",
       "      <td>False</td>\n",
       "    </tr>\n",
       "    <tr>\n",
       "      <th>4</th>\n",
       "      <td>d380meD0W0M</td>\n",
       "      <td>2017-11-14</td>\n",
       "      <td>nigahiga</td>\n",
       "      <td>24</td>\n",
       "      <td>2095731</td>\n",
       "      <td>132235</td>\n",
       "      <td>1989</td>\n",
       "      <td>False</td>\n",
       "    </tr>\n",
       "  </tbody>\n",
       "</table>\n",
       "</div>"
      ],
      "text/plain": [
       "      video_id trending_date          channel_title  category_id    views  \\\n",
       "0  2kyS6SvSYSE    2017-11-14           CaseyNeistat           22   748374   \n",
       "1  1ZAPwfrtAFY    2017-11-14        LastWeekTonight           24  2418783   \n",
       "2  5qpjK5DgCt4    2017-11-14           Rudy Mancuso           23  3191434   \n",
       "3  puqaWrEC7tY    2017-11-14  Good Mythical Morning           24   343168   \n",
       "4  d380meD0W0M    2017-11-14               nigahiga           24  2095731   \n",
       "\n",
       "    likes  dislikes  ratings_disabled  \n",
       "0   57527      2966             False  \n",
       "1   97185      6146             False  \n",
       "2  146033      5339             False  \n",
       "3   10172       666             False  \n",
       "4  132235      1989             False  "
      ]
     },
     "execution_count": 41,
     "metadata": {},
     "output_type": "execute_result"
    }
   ],
   "source": [
    "columns = ['video_id', 'trending_date', 'channel_title', 'category_id', 'views', 'likes', 'dislikes', 'ratings_disabled']\n",
    "dfYoutube = pd.read_csv('../data/youtube_trending.csv', usecols=columns)\n",
    "dfYoutube.head()"
   ]
  },
  {
   "cell_type": "markdown",
   "metadata": {
    "colab_type": "text",
    "id": "c_QpYJHkeYAo"
   },
   "source": [
    "#### Data selection"
   ]
  },
  {
   "cell_type": "code",
   "execution_count": 23,
   "metadata": {
    "colab": {},
    "colab_type": "code",
    "execution": {
     "iopub.execute_input": "2023-01-23T06:16:54.806475Z",
     "iopub.status.busy": "2023-01-23T06:16:54.806115Z",
     "iopub.status.idle": "2023-01-23T06:16:54.812263Z",
     "shell.execute_reply": "2023-01-23T06:16:54.811366Z",
     "shell.execute_reply.started": "2023-01-23T06:16:54.806447Z"
    },
    "id": "KSd7Q0T2eYAo",
    "outputId": "39b85038-7374-4aaf-f4fb-ec2777d529bc",
    "tags": []
   },
   "outputs": [
    {
     "data": {
      "text/plain": [
       "0       2kyS6SvSYSE\n",
       "1       1ZAPwfrtAFY\n",
       "2       5qpjK5DgCt4\n",
       "3       puqaWrEC7tY\n",
       "4       d380meD0W0M\n",
       "           ...     \n",
       "9876    OVnxBcS5qWo\n",
       "9877    ltzy5vRmN8Q\n",
       "9878    NEmFS50lsTw\n",
       "9879    NZ0ImXT1FZk\n",
       "9880    t3z_pdr6z8w\n",
       "Name: video_id, Length: 9881, dtype: object"
      ]
     },
     "execution_count": 23,
     "metadata": {},
     "output_type": "execute_result"
    }
   ],
   "source": [
    "dfYoutube.video_id"
   ]
  },
  {
   "cell_type": "code",
   "execution_count": 24,
   "metadata": {
    "colab": {},
    "colab_type": "code",
    "execution": {
     "iopub.execute_input": "2023-01-23T06:16:59.378199Z",
     "iopub.status.busy": "2023-01-23T06:16:59.377658Z",
     "iopub.status.idle": "2023-01-23T06:16:59.383865Z",
     "shell.execute_reply": "2023-01-23T06:16:59.383123Z",
     "shell.execute_reply.started": "2023-01-23T06:16:59.378149Z"
    },
    "id": "tYHLjWXOeYAr",
    "outputId": "c607fb97-de66-4eea-e0fb-84cce9c669f3",
    "tags": []
   },
   "outputs": [
    {
     "data": {
      "text/plain": [
       "0       2017-11-14\n",
       "1       2017-11-14\n",
       "2       2017-11-14\n",
       "3       2017-11-14\n",
       "4       2017-11-14\n",
       "           ...    \n",
       "9876    2018-02-01\n",
       "9877    2018-02-01\n",
       "9878    2018-02-01\n",
       "9879    2018-02-01\n",
       "9880    2018-02-01\n",
       "Name: trending_date, Length: 9881, dtype: object"
      ]
     },
     "execution_count": 24,
     "metadata": {},
     "output_type": "execute_result"
    }
   ],
   "source": [
    "dfYoutube['trending_date']"
   ]
  },
  {
   "cell_type": "code",
   "execution_count": 25,
   "metadata": {
    "colab": {},
    "colab_type": "code",
    "execution": {
     "iopub.execute_input": "2023-01-23T06:17:02.453589Z",
     "iopub.status.busy": "2023-01-23T06:17:02.453231Z",
     "iopub.status.idle": "2023-01-23T06:17:02.460700Z",
     "shell.execute_reply": "2023-01-23T06:17:02.459896Z",
     "shell.execute_reply.started": "2023-01-23T06:17:02.453565Z"
    },
    "id": "71f_XirteYAv",
    "outputId": "b1fce15d-1460-4378-bd19-438726068114",
    "tags": []
   },
   "outputs": [
    {
     "data": {
      "text/html": [
       "<div>\n",
       "<style scoped>\n",
       "    .dataframe tbody tr th:only-of-type {\n",
       "        vertical-align: middle;\n",
       "    }\n",
       "\n",
       "    .dataframe tbody tr th {\n",
       "        vertical-align: top;\n",
       "    }\n",
       "\n",
       "    .dataframe thead th {\n",
       "        text-align: right;\n",
       "    }\n",
       "</style>\n",
       "<table border=\"1\" class=\"dataframe\">\n",
       "  <thead>\n",
       "    <tr style=\"text-align: right;\">\n",
       "      <th></th>\n",
       "      <th>views</th>\n",
       "      <th>likes</th>\n",
       "      <th>dislikes</th>\n",
       "    </tr>\n",
       "  </thead>\n",
       "  <tbody>\n",
       "    <tr>\n",
       "      <th>0</th>\n",
       "      <td>748374</td>\n",
       "      <td>57527</td>\n",
       "      <td>2966</td>\n",
       "    </tr>\n",
       "    <tr>\n",
       "      <th>1</th>\n",
       "      <td>2418783</td>\n",
       "      <td>97185</td>\n",
       "      <td>6146</td>\n",
       "    </tr>\n",
       "    <tr>\n",
       "      <th>2</th>\n",
       "      <td>3191434</td>\n",
       "      <td>146033</td>\n",
       "      <td>5339</td>\n",
       "    </tr>\n",
       "    <tr>\n",
       "      <th>3</th>\n",
       "      <td>343168</td>\n",
       "      <td>10172</td>\n",
       "      <td>666</td>\n",
       "    </tr>\n",
       "    <tr>\n",
       "      <th>4</th>\n",
       "      <td>2095731</td>\n",
       "      <td>132235</td>\n",
       "      <td>1989</td>\n",
       "    </tr>\n",
       "  </tbody>\n",
       "</table>\n",
       "</div>"
      ],
      "text/plain": [
       "     views   likes  dislikes\n",
       "0   748374   57527      2966\n",
       "1  2418783   97185      6146\n",
       "2  3191434  146033      5339\n",
       "3   343168   10172       666\n",
       "4  2095731  132235      1989"
      ]
     },
     "execution_count": 25,
     "metadata": {},
     "output_type": "execute_result"
    }
   ],
   "source": [
    "# selecting multiple columns as a new dataframe\n",
    "dfYoutube[['views', 'likes', 'dislikes']].head()"
   ]
  },
  {
   "cell_type": "markdown",
   "metadata": {
    "colab_type": "text",
    "id": "5cwHlKpneYAy"
   },
   "source": [
    "The `iloc` and `loc` attributes turn a dataframe into a slicable object with 2 dimensions, like Numpy array. While `iloc` uses index, `loc` uses label on slicing. Notice that `loc` does not exclude the endpoint."
   ]
  },
  {
   "cell_type": "code",
   "execution_count": 42,
   "metadata": {
    "colab": {},
    "colab_type": "code",
    "execution": {
     "iopub.execute_input": "2023-01-23T06:20:58.419368Z",
     "iopub.status.busy": "2023-01-23T06:20:58.419046Z",
     "iopub.status.idle": "2023-01-23T06:20:58.426620Z",
     "shell.execute_reply": "2023-01-23T06:20:58.425929Z",
     "shell.execute_reply.started": "2023-01-23T06:20:58.419346Z"
    },
    "id": "7KGZyQXNeYA2",
    "outputId": "03443c75-1999-4db0-b216-201d11744a2b",
    "tags": [
     "output_scroll"
    ]
   },
   "outputs": [
    {
     "data": {
      "text/html": [
       "<div>\n",
       "<style scoped>\n",
       "    .dataframe tbody tr th:only-of-type {\n",
       "        vertical-align: middle;\n",
       "    }\n",
       "\n",
       "    .dataframe tbody tr th {\n",
       "        vertical-align: top;\n",
       "    }\n",
       "\n",
       "    .dataframe thead th {\n",
       "        text-align: right;\n",
       "    }\n",
       "</style>\n",
       "<table border=\"1\" class=\"dataframe\">\n",
       "  <thead>\n",
       "    <tr style=\"text-align: right;\">\n",
       "      <th></th>\n",
       "      <th>video_id</th>\n",
       "      <th>trending_date</th>\n",
       "      <th>channel_title</th>\n",
       "      <th>category_id</th>\n",
       "    </tr>\n",
       "  </thead>\n",
       "  <tbody>\n",
       "    <tr>\n",
       "      <th>2</th>\n",
       "      <td>5qpjK5DgCt4</td>\n",
       "      <td>2017-11-14</td>\n",
       "      <td>Rudy Mancuso</td>\n",
       "      <td>23</td>\n",
       "    </tr>\n",
       "    <tr>\n",
       "      <th>3</th>\n",
       "      <td>puqaWrEC7tY</td>\n",
       "      <td>2017-11-14</td>\n",
       "      <td>Good Mythical Morning</td>\n",
       "      <td>24</td>\n",
       "    </tr>\n",
       "    <tr>\n",
       "      <th>4</th>\n",
       "      <td>d380meD0W0M</td>\n",
       "      <td>2017-11-14</td>\n",
       "      <td>nigahiga</td>\n",
       "      <td>24</td>\n",
       "    </tr>\n",
       "    <tr>\n",
       "      <th>5</th>\n",
       "      <td>gHZ1Qz0KiKM</td>\n",
       "      <td>2017-11-14</td>\n",
       "      <td>iJustine</td>\n",
       "      <td>28</td>\n",
       "    </tr>\n",
       "    <tr>\n",
       "      <th>6</th>\n",
       "      <td>39idVpFF7NQ</td>\n",
       "      <td>2017-11-14</td>\n",
       "      <td>Saturday Night Live</td>\n",
       "      <td>24</td>\n",
       "    </tr>\n",
       "  </tbody>\n",
       "</table>\n",
       "</div>"
      ],
      "text/plain": [
       "      video_id trending_date          channel_title  category_id\n",
       "2  5qpjK5DgCt4    2017-11-14           Rudy Mancuso           23\n",
       "3  puqaWrEC7tY    2017-11-14  Good Mythical Morning           24\n",
       "4  d380meD0W0M    2017-11-14               nigahiga           24\n",
       "5  gHZ1Qz0KiKM    2017-11-14               iJustine           28\n",
       "6  39idVpFF7NQ    2017-11-14    Saturday Night Live           24"
      ]
     },
     "execution_count": 42,
     "metadata": {},
     "output_type": "execute_result"
    }
   ],
   "source": [
    "dfYoutube.iloc[2:7, :4]"
   ]
  },
  {
   "cell_type": "code",
   "execution_count": 43,
   "metadata": {
    "colab": {},
    "colab_type": "code",
    "execution": {
     "iopub.execute_input": "2023-01-23T06:21:02.314860Z",
     "iopub.status.busy": "2023-01-23T06:21:02.314523Z",
     "iopub.status.idle": "2023-01-23T06:21:02.321717Z",
     "shell.execute_reply": "2023-01-23T06:21:02.321031Z",
     "shell.execute_reply.started": "2023-01-23T06:21:02.314835Z"
    },
    "id": "NkErlBXaeYA4",
    "outputId": "f4716327-d9bf-4787-ee4a-6c0e38cf3c7e",
    "tags": []
   },
   "outputs": [
    {
     "data": {
      "text/html": [
       "<div>\n",
       "<style scoped>\n",
       "    .dataframe tbody tr th:only-of-type {\n",
       "        vertical-align: middle;\n",
       "    }\n",
       "\n",
       "    .dataframe tbody tr th {\n",
       "        vertical-align: top;\n",
       "    }\n",
       "\n",
       "    .dataframe thead th {\n",
       "        text-align: right;\n",
       "    }\n",
       "</style>\n",
       "<table border=\"1\" class=\"dataframe\">\n",
       "  <thead>\n",
       "    <tr style=\"text-align: right;\">\n",
       "      <th></th>\n",
       "      <th>category_id</th>\n",
       "      <th>trending_date</th>\n",
       "    </tr>\n",
       "  </thead>\n",
       "  <tbody>\n",
       "    <tr>\n",
       "      <th>0</th>\n",
       "      <td>22</td>\n",
       "      <td>2017-11-14</td>\n",
       "    </tr>\n",
       "    <tr>\n",
       "      <th>1</th>\n",
       "      <td>24</td>\n",
       "      <td>2017-11-14</td>\n",
       "    </tr>\n",
       "    <tr>\n",
       "      <th>2</th>\n",
       "      <td>23</td>\n",
       "      <td>2017-11-14</td>\n",
       "    </tr>\n",
       "    <tr>\n",
       "      <th>3</th>\n",
       "      <td>24</td>\n",
       "      <td>2017-11-14</td>\n",
       "    </tr>\n",
       "    <tr>\n",
       "      <th>4</th>\n",
       "      <td>24</td>\n",
       "      <td>2017-11-14</td>\n",
       "    </tr>\n",
       "    <tr>\n",
       "      <th>5</th>\n",
       "      <td>28</td>\n",
       "      <td>2017-11-14</td>\n",
       "    </tr>\n",
       "  </tbody>\n",
       "</table>\n",
       "</div>"
      ],
      "text/plain": [
       "   category_id trending_date\n",
       "0           22    2017-11-14\n",
       "1           24    2017-11-14\n",
       "2           23    2017-11-14\n",
       "3           24    2017-11-14\n",
       "4           24    2017-11-14\n",
       "5           28    2017-11-14"
      ]
     },
     "execution_count": 43,
     "metadata": {},
     "output_type": "execute_result"
    }
   ],
   "source": [
    "subset = ['category_id', 'trending_date']\n",
    "dfYoutube.loc[:5, subset]"
   ]
  },
  {
   "cell_type": "markdown",
   "metadata": {
    "colab_type": "text",
    "id": "C0JcOc5IeYBG"
   },
   "source": [
    "#### Filtering"
   ]
  },
  {
   "cell_type": "code",
   "execution_count": 44,
   "metadata": {
    "colab": {},
    "colab_type": "code",
    "execution": {
     "iopub.execute_input": "2023-01-23T06:21:04.855682Z",
     "iopub.status.busy": "2023-01-23T06:21:04.855349Z",
     "iopub.status.idle": "2023-01-23T06:21:04.864715Z",
     "shell.execute_reply": "2023-01-23T06:21:04.863908Z",
     "shell.execute_reply.started": "2023-01-23T06:21:04.855658Z"
    },
    "id": "xGyaVVMveYBH",
    "outputId": "0bfb112d-bacb-491e-f215-f8826a1494bf",
    "tags": [
     "output_scroll"
    ]
   },
   "outputs": [
    {
     "data": {
      "text/html": [
       "<div>\n",
       "<style scoped>\n",
       "    .dataframe tbody tr th:only-of-type {\n",
       "        vertical-align: middle;\n",
       "    }\n",
       "\n",
       "    .dataframe tbody tr th {\n",
       "        vertical-align: top;\n",
       "    }\n",
       "\n",
       "    .dataframe thead th {\n",
       "        text-align: right;\n",
       "    }\n",
       "</style>\n",
       "<table border=\"1\" class=\"dataframe\">\n",
       "  <thead>\n",
       "    <tr style=\"text-align: right;\">\n",
       "      <th></th>\n",
       "      <th>video_id</th>\n",
       "      <th>trending_date</th>\n",
       "      <th>channel_title</th>\n",
       "      <th>category_id</th>\n",
       "      <th>views</th>\n",
       "      <th>likes</th>\n",
       "      <th>dislikes</th>\n",
       "      <th>ratings_disabled</th>\n",
       "    </tr>\n",
       "  </thead>\n",
       "  <tbody>\n",
       "    <tr>\n",
       "      <th>2558</th>\n",
       "      <td>TyHvyGVs42U</td>\n",
       "      <td>2017-11-26</td>\n",
       "      <td>LuisFonsiVEVO</td>\n",
       "      <td>10</td>\n",
       "      <td>102012605</td>\n",
       "      <td>2376636</td>\n",
       "      <td>117196</td>\n",
       "      <td>False</td>\n",
       "    </tr>\n",
       "    <tr>\n",
       "      <th>5174</th>\n",
       "      <td>FlsCjmMhFmw</td>\n",
       "      <td>2017-12-10</td>\n",
       "      <td>YouTube Spotlight</td>\n",
       "      <td>24</td>\n",
       "      <td>100911567</td>\n",
       "      <td>2656659</td>\n",
       "      <td>1353647</td>\n",
       "      <td>False</td>\n",
       "    </tr>\n",
       "    <tr>\n",
       "      <th>5386</th>\n",
       "      <td>FlsCjmMhFmw</td>\n",
       "      <td>2017-12-11</td>\n",
       "      <td>YouTube Spotlight</td>\n",
       "      <td>24</td>\n",
       "      <td>113874632</td>\n",
       "      <td>2811215</td>\n",
       "      <td>1470383</td>\n",
       "      <td>False</td>\n",
       "    </tr>\n",
       "    <tr>\n",
       "      <th>5629</th>\n",
       "      <td>FlsCjmMhFmw</td>\n",
       "      <td>2017-12-12</td>\n",
       "      <td>YouTube Spotlight</td>\n",
       "      <td>24</td>\n",
       "      <td>125432237</td>\n",
       "      <td>2912702</td>\n",
       "      <td>1545015</td>\n",
       "      <td>False</td>\n",
       "    </tr>\n",
       "    <tr>\n",
       "      <th>5860</th>\n",
       "      <td>FlsCjmMhFmw</td>\n",
       "      <td>2017-12-13</td>\n",
       "      <td>YouTube Spotlight</td>\n",
       "      <td>24</td>\n",
       "      <td>137843120</td>\n",
       "      <td>3014471</td>\n",
       "      <td>1602383</td>\n",
       "      <td>False</td>\n",
       "    </tr>\n",
       "    <tr>\n",
       "      <th>6103</th>\n",
       "      <td>FlsCjmMhFmw</td>\n",
       "      <td>2017-12-14</td>\n",
       "      <td>YouTube Spotlight</td>\n",
       "      <td>24</td>\n",
       "      <td>149376127</td>\n",
       "      <td>3093544</td>\n",
       "      <td>1643059</td>\n",
       "      <td>False</td>\n",
       "    </tr>\n",
       "  </tbody>\n",
       "</table>\n",
       "</div>"
      ],
      "text/plain": [
       "         video_id trending_date      channel_title  category_id      views  \\\n",
       "2558  TyHvyGVs42U    2017-11-26      LuisFonsiVEVO           10  102012605   \n",
       "5174  FlsCjmMhFmw    2017-12-10  YouTube Spotlight           24  100911567   \n",
       "5386  FlsCjmMhFmw    2017-12-11  YouTube Spotlight           24  113874632   \n",
       "5629  FlsCjmMhFmw    2017-12-12  YouTube Spotlight           24  125432237   \n",
       "5860  FlsCjmMhFmw    2017-12-13  YouTube Spotlight           24  137843120   \n",
       "6103  FlsCjmMhFmw    2017-12-14  YouTube Spotlight           24  149376127   \n",
       "\n",
       "        likes  dislikes  ratings_disabled  \n",
       "2558  2376636    117196             False  \n",
       "5174  2656659   1353647             False  \n",
       "5386  2811215   1470383             False  \n",
       "5629  2912702   1545015             False  \n",
       "5860  3014471   1602383             False  \n",
       "6103  3093544   1643059             False  "
      ]
     },
     "execution_count": 44,
     "metadata": {},
     "output_type": "execute_result"
    }
   ],
   "source": [
    "dfYoutube[dfYoutube.views >= 100e6]"
   ]
  },
  {
   "cell_type": "code",
   "execution_count": 45,
   "metadata": {
    "colab": {},
    "colab_type": "code",
    "execution": {
     "iopub.execute_input": "2023-01-23T06:21:07.654897Z",
     "iopub.status.busy": "2023-01-23T06:21:07.654568Z",
     "iopub.status.idle": "2023-01-23T06:21:07.670645Z",
     "shell.execute_reply": "2023-01-23T06:21:07.669590Z",
     "shell.execute_reply.started": "2023-01-23T06:21:07.654872Z"
    },
    "id": "88Cpx3LfeYBM",
    "outputId": "e818326d-c3d4-45b6-a656-aaa1bd572150",
    "tags": [
     "output_scroll"
    ]
   },
   "outputs": [
    {
     "data": {
      "text/html": [
       "<div>\n",
       "<style scoped>\n",
       "    .dataframe tbody tr th:only-of-type {\n",
       "        vertical-align: middle;\n",
       "    }\n",
       "\n",
       "    .dataframe tbody tr th {\n",
       "        vertical-align: top;\n",
       "    }\n",
       "\n",
       "    .dataframe thead th {\n",
       "        text-align: right;\n",
       "    }\n",
       "</style>\n",
       "<table border=\"1\" class=\"dataframe\">\n",
       "  <thead>\n",
       "    <tr style=\"text-align: right;\">\n",
       "      <th></th>\n",
       "      <th>video_id</th>\n",
       "      <th>trending_date</th>\n",
       "      <th>channel_title</th>\n",
       "      <th>category_id</th>\n",
       "      <th>views</th>\n",
       "      <th>likes</th>\n",
       "      <th>dislikes</th>\n",
       "      <th>ratings_disabled</th>\n",
       "    </tr>\n",
       "  </thead>\n",
       "  <tbody>\n",
       "    <tr>\n",
       "      <th>32</th>\n",
       "      <td>n1WpP7iowLc</td>\n",
       "      <td>2017-11-14</td>\n",
       "      <td>EminemVEVO</td>\n",
       "      <td>10</td>\n",
       "      <td>17158531</td>\n",
       "      <td>787419</td>\n",
       "      <td>43420</td>\n",
       "      <td>False</td>\n",
       "    </tr>\n",
       "    <tr>\n",
       "      <th>40</th>\n",
       "      <td>PaJCFHXcWmM</td>\n",
       "      <td>2017-11-14</td>\n",
       "      <td>U2VEVO</td>\n",
       "      <td>10</td>\n",
       "      <td>60506</td>\n",
       "      <td>5389</td>\n",
       "      <td>106</td>\n",
       "      <td>False</td>\n",
       "    </tr>\n",
       "    <tr>\n",
       "      <th>52</th>\n",
       "      <td>9t9u_yPEidY</td>\n",
       "      <td>2017-11-14</td>\n",
       "      <td>JenniferLopezVEVO</td>\n",
       "      <td>10</td>\n",
       "      <td>9548677</td>\n",
       "      <td>190083</td>\n",
       "      <td>15015</td>\n",
       "      <td>False</td>\n",
       "    </tr>\n",
       "    <tr>\n",
       "      <th>62</th>\n",
       "      <td>ujyTQNNjjDU</td>\n",
       "      <td>2017-11-14</td>\n",
       "      <td>GEazyMusicVEVO</td>\n",
       "      <td>10</td>\n",
       "      <td>2642930</td>\n",
       "      <td>115795</td>\n",
       "      <td>3055</td>\n",
       "      <td>False</td>\n",
       "    </tr>\n",
       "    <tr>\n",
       "      <th>73</th>\n",
       "      <td>lY_0mkYDZDU</td>\n",
       "      <td>2017-11-14</td>\n",
       "      <td>fosterthepeopleVEVO</td>\n",
       "      <td>10</td>\n",
       "      <td>303956</td>\n",
       "      <td>18603</td>\n",
       "      <td>585</td>\n",
       "      <td>False</td>\n",
       "    </tr>\n",
       "  </tbody>\n",
       "</table>\n",
       "</div>"
      ],
      "text/plain": [
       "       video_id trending_date        channel_title  category_id     views  \\\n",
       "32  n1WpP7iowLc    2017-11-14           EminemVEVO           10  17158531   \n",
       "40  PaJCFHXcWmM    2017-11-14               U2VEVO           10     60506   \n",
       "52  9t9u_yPEidY    2017-11-14    JenniferLopezVEVO           10   9548677   \n",
       "62  ujyTQNNjjDU    2017-11-14       GEazyMusicVEVO           10   2642930   \n",
       "73  lY_0mkYDZDU    2017-11-14  fosterthepeopleVEVO           10    303956   \n",
       "\n",
       "     likes  dislikes  ratings_disabled  \n",
       "32  787419     43420             False  \n",
       "40    5389       106             False  \n",
       "52  190083     15015             False  \n",
       "62  115795      3055             False  \n",
       "73   18603       585             False  "
      ]
     },
     "execution_count": 45,
     "metadata": {},
     "output_type": "execute_result"
    }
   ],
   "source": [
    "dfYoutube[dfYoutube.channel_title.str.contains('VEVO')].head()"
   ]
  },
  {
   "cell_type": "code",
   "execution_count": 46,
   "metadata": {
    "colab": {},
    "colab_type": "code",
    "execution": {
     "iopub.execute_input": "2023-01-23T06:21:10.059336Z",
     "iopub.status.busy": "2023-01-23T06:21:10.058999Z",
     "iopub.status.idle": "2023-01-23T06:21:10.069513Z",
     "shell.execute_reply": "2023-01-23T06:21:10.068752Z",
     "shell.execute_reply.started": "2023-01-23T06:21:10.059313Z"
    },
    "id": "76tbh2jIeYBP",
    "outputId": "96422cab-5104-4752-d2cb-76d4026186d0",
    "tags": [
     "output_scroll"
    ]
   },
   "outputs": [
    {
     "data": {
      "text/html": [
       "<div>\n",
       "<style scoped>\n",
       "    .dataframe tbody tr th:only-of-type {\n",
       "        vertical-align: middle;\n",
       "    }\n",
       "\n",
       "    .dataframe tbody tr th {\n",
       "        vertical-align: top;\n",
       "    }\n",
       "\n",
       "    .dataframe thead th {\n",
       "        text-align: right;\n",
       "    }\n",
       "</style>\n",
       "<table border=\"1\" class=\"dataframe\">\n",
       "  <thead>\n",
       "    <tr style=\"text-align: right;\">\n",
       "      <th></th>\n",
       "      <th>video_id</th>\n",
       "      <th>trending_date</th>\n",
       "      <th>channel_title</th>\n",
       "      <th>category_id</th>\n",
       "      <th>views</th>\n",
       "      <th>likes</th>\n",
       "      <th>dislikes</th>\n",
       "      <th>ratings_disabled</th>\n",
       "    </tr>\n",
       "  </thead>\n",
       "  <tbody>\n",
       "    <tr>\n",
       "      <th>2</th>\n",
       "      <td>5qpjK5DgCt4</td>\n",
       "      <td>2017-11-14</td>\n",
       "      <td>Rudy Mancuso</td>\n",
       "      <td>23</td>\n",
       "      <td>3191434</td>\n",
       "      <td>146033</td>\n",
       "      <td>5339</td>\n",
       "      <td>False</td>\n",
       "    </tr>\n",
       "    <tr>\n",
       "      <th>4</th>\n",
       "      <td>d380meD0W0M</td>\n",
       "      <td>2017-11-14</td>\n",
       "      <td>nigahiga</td>\n",
       "      <td>24</td>\n",
       "      <td>2095731</td>\n",
       "      <td>132235</td>\n",
       "      <td>1989</td>\n",
       "      <td>False</td>\n",
       "    </tr>\n",
       "    <tr>\n",
       "      <th>12</th>\n",
       "      <td>5E4ZBSInqUU</td>\n",
       "      <td>2017-11-14</td>\n",
       "      <td>marshmello</td>\n",
       "      <td>10</td>\n",
       "      <td>687582</td>\n",
       "      <td>114188</td>\n",
       "      <td>1333</td>\n",
       "      <td>False</td>\n",
       "    </tr>\n",
       "    <tr>\n",
       "      <th>32</th>\n",
       "      <td>n1WpP7iowLc</td>\n",
       "      <td>2017-11-14</td>\n",
       "      <td>EminemVEVO</td>\n",
       "      <td>10</td>\n",
       "      <td>17158531</td>\n",
       "      <td>787419</td>\n",
       "      <td>43420</td>\n",
       "      <td>False</td>\n",
       "    </tr>\n",
       "    <tr>\n",
       "      <th>52</th>\n",
       "      <td>9t9u_yPEidY</td>\n",
       "      <td>2017-11-14</td>\n",
       "      <td>JenniferLopezVEVO</td>\n",
       "      <td>10</td>\n",
       "      <td>9548677</td>\n",
       "      <td>190083</td>\n",
       "      <td>15015</td>\n",
       "      <td>False</td>\n",
       "    </tr>\n",
       "  </tbody>\n",
       "</table>\n",
       "</div>"
      ],
      "text/plain": [
       "       video_id trending_date      channel_title  category_id     views  \\\n",
       "2   5qpjK5DgCt4    2017-11-14       Rudy Mancuso           23   3191434   \n",
       "4   d380meD0W0M    2017-11-14           nigahiga           24   2095731   \n",
       "12  5E4ZBSInqUU    2017-11-14         marshmello           10    687582   \n",
       "32  n1WpP7iowLc    2017-11-14         EminemVEVO           10  17158531   \n",
       "52  9t9u_yPEidY    2017-11-14  JenniferLopezVEVO           10   9548677   \n",
       "\n",
       "     likes  dislikes  ratings_disabled  \n",
       "2   146033      5339             False  \n",
       "4   132235      1989             False  \n",
       "12  114188      1333             False  \n",
       "32  787419     43420             False  \n",
       "52  190083     15015             False  "
      ]
     },
     "execution_count": 46,
     "metadata": {},
     "output_type": "execute_result"
    }
   ],
   "source": [
    "dfYoutube[(dfYoutube.views >= 1e7) | (dfYoutube.likes >= 1e5)].head()"
   ]
  },
  {
   "cell_type": "markdown",
   "metadata": {
    "colab_type": "text",
    "id": "CL56Voq3eYA8"
   },
   "source": [
    "#### Sorting"
   ]
  },
  {
   "cell_type": "code",
   "execution_count": 47,
   "metadata": {
    "colab": {},
    "colab_type": "code",
    "execution": {
     "iopub.execute_input": "2023-01-23T06:21:12.798931Z",
     "iopub.status.busy": "2023-01-23T06:21:12.798603Z",
     "iopub.status.idle": "2023-01-23T06:21:12.819189Z",
     "shell.execute_reply": "2023-01-23T06:21:12.818156Z",
     "shell.execute_reply.started": "2023-01-23T06:21:12.798908Z"
    },
    "id": "CjDwC0cneYA8",
    "outputId": "99eacc3f-af78-4361-f2af-64c96cacef49",
    "tags": [
     "output_scroll"
    ]
   },
   "outputs": [
    {
     "data": {
      "text/html": [
       "<div>\n",
       "<style scoped>\n",
       "    .dataframe tbody tr th:only-of-type {\n",
       "        vertical-align: middle;\n",
       "    }\n",
       "\n",
       "    .dataframe tbody tr th {\n",
       "        vertical-align: top;\n",
       "    }\n",
       "\n",
       "    .dataframe thead th {\n",
       "        text-align: right;\n",
       "    }\n",
       "</style>\n",
       "<table border=\"1\" class=\"dataframe\">\n",
       "  <thead>\n",
       "    <tr style=\"text-align: right;\">\n",
       "      <th></th>\n",
       "      <th>video_id</th>\n",
       "      <th>trending_date</th>\n",
       "      <th>channel_title</th>\n",
       "      <th>category_id</th>\n",
       "      <th>views</th>\n",
       "      <th>likes</th>\n",
       "      <th>dislikes</th>\n",
       "      <th>ratings_disabled</th>\n",
       "    </tr>\n",
       "  </thead>\n",
       "  <tbody>\n",
       "    <tr>\n",
       "      <th>69</th>\n",
       "      <td>2Vv-BfVoq4g</td>\n",
       "      <td>2017-11-14</td>\n",
       "      <td>Ed Sheeran</td>\n",
       "      <td>10</td>\n",
       "      <td>33523622</td>\n",
       "      <td>1634124</td>\n",
       "      <td>21082</td>\n",
       "      <td>False</td>\n",
       "    </tr>\n",
       "    <tr>\n",
       "      <th>32</th>\n",
       "      <td>n1WpP7iowLc</td>\n",
       "      <td>2017-11-14</td>\n",
       "      <td>EminemVEVO</td>\n",
       "      <td>10</td>\n",
       "      <td>17158531</td>\n",
       "      <td>787419</td>\n",
       "      <td>43420</td>\n",
       "      <td>False</td>\n",
       "    </tr>\n",
       "    <tr>\n",
       "      <th>148</th>\n",
       "      <td>9wg3v-01yKQ</td>\n",
       "      <td>2017-11-14</td>\n",
       "      <td>HarryStylesVEVO</td>\n",
       "      <td>10</td>\n",
       "      <td>9632678</td>\n",
       "      <td>810895</td>\n",
       "      <td>16139</td>\n",
       "      <td>False</td>\n",
       "    </tr>\n",
       "    <tr>\n",
       "      <th>52</th>\n",
       "      <td>9t9u_yPEidY</td>\n",
       "      <td>2017-11-14</td>\n",
       "      <td>JenniferLopezVEVO</td>\n",
       "      <td>10</td>\n",
       "      <td>9548677</td>\n",
       "      <td>190083</td>\n",
       "      <td>15015</td>\n",
       "      <td>False</td>\n",
       "    </tr>\n",
       "    <tr>\n",
       "      <th>68</th>\n",
       "      <td>Jw1Y-zhQURU</td>\n",
       "      <td>2017-11-14</td>\n",
       "      <td>John Lewis</td>\n",
       "      <td>26</td>\n",
       "      <td>7224515</td>\n",
       "      <td>55681</td>\n",
       "      <td>10247</td>\n",
       "      <td>False</td>\n",
       "    </tr>\n",
       "  </tbody>\n",
       "</table>\n",
       "</div>"
      ],
      "text/plain": [
       "        video_id trending_date      channel_title  category_id     views  \\\n",
       "69   2Vv-BfVoq4g    2017-11-14         Ed Sheeran           10  33523622   \n",
       "32   n1WpP7iowLc    2017-11-14         EminemVEVO           10  17158531   \n",
       "148  9wg3v-01yKQ    2017-11-14    HarryStylesVEVO           10   9632678   \n",
       "52   9t9u_yPEidY    2017-11-14  JenniferLopezVEVO           10   9548677   \n",
       "68   Jw1Y-zhQURU    2017-11-14         John Lewis           26   7224515   \n",
       "\n",
       "       likes  dislikes  ratings_disabled  \n",
       "69   1634124     21082             False  \n",
       "32    787419     43420             False  \n",
       "148   810895     16139             False  \n",
       "52    190083     15015             False  \n",
       "68     55681     10247             False  "
      ]
     },
     "execution_count": 47,
     "metadata": {},
     "output_type": "execute_result"
    }
   ],
   "source": [
    "dfYoutube.sort_values(by=['trending_date', 'views'], ascending=[True, False]).head()"
   ]
  },
  {
   "cell_type": "markdown",
   "metadata": {
    "colab_type": "text",
    "id": "-HozluLKeYBR"
   },
   "source": [
    "#### Unique values\n",
    "Unique/distinct values is the basis for many advanced data manipulation techniques."
   ]
  },
  {
   "cell_type": "code",
   "execution_count": 48,
   "metadata": {
    "colab": {},
    "colab_type": "code",
    "execution": {
     "iopub.execute_input": "2023-01-23T06:21:22.711033Z",
     "iopub.status.busy": "2023-01-23T06:21:22.710489Z",
     "iopub.status.idle": "2023-01-23T06:21:22.750129Z",
     "shell.execute_reply": "2023-01-23T06:21:22.748949Z",
     "shell.execute_reply.started": "2023-01-23T06:21:22.710991Z"
    },
    "id": "2Mp_pMjseYBU",
    "outputId": "c0c60ede-94d9-407f-ca8d-d21811f48c65",
    "tags": [
     "output_scroll"
    ]
   },
   "outputs": [
    {
     "data": {
      "text/html": [
       "<div>\n",
       "<style scoped>\n",
       "    .dataframe tbody tr th:only-of-type {\n",
       "        vertical-align: middle;\n",
       "    }\n",
       "\n",
       "    .dataframe tbody tr th {\n",
       "        vertical-align: top;\n",
       "    }\n",
       "\n",
       "    .dataframe thead th {\n",
       "        text-align: right;\n",
       "    }\n",
       "</style>\n",
       "<table border=\"1\" class=\"dataframe\">\n",
       "  <thead>\n",
       "    <tr style=\"text-align: right;\">\n",
       "      <th></th>\n",
       "      <th>Year</th>\n",
       "      <th>Month</th>\n",
       "      <th>Product Name</th>\n",
       "      <th>Country Name</th>\n",
       "      <th>Month number</th>\n",
       "      <th>Value</th>\n",
       "      <th>Feature</th>\n",
       "      <th>Unit</th>\n",
       "    </tr>\n",
       "  </thead>\n",
       "  <tbody>\n",
       "    <tr>\n",
       "      <th>0</th>\n",
       "      <td>2010</td>\n",
       "      <td>January</td>\n",
       "      <td>SABLEFISH FRESH</td>\n",
       "      <td>UNITED ARAB EMIRATES</td>\n",
       "      <td>1</td>\n",
       "      <td>2297</td>\n",
       "      <td>EXP Quantity</td>\n",
       "      <td>kg</td>\n",
       "    </tr>\n",
       "    <tr>\n",
       "      <th>1</th>\n",
       "      <td>2010</td>\n",
       "      <td>January</td>\n",
       "      <td>SABLEFISH FRESH</td>\n",
       "      <td>JAPAN</td>\n",
       "      <td>1</td>\n",
       "      <td>16025</td>\n",
       "      <td>EXP Quantity</td>\n",
       "      <td>kg</td>\n",
       "    </tr>\n",
       "    <tr>\n",
       "      <th>2</th>\n",
       "      <td>2010</td>\n",
       "      <td>January</td>\n",
       "      <td>SABLEFISH FRESH</td>\n",
       "      <td>JAPAN</td>\n",
       "      <td>1</td>\n",
       "      <td>63437</td>\n",
       "      <td>EXP Quantity</td>\n",
       "      <td>kg</td>\n",
       "    </tr>\n",
       "    <tr>\n",
       "      <th>3</th>\n",
       "      <td>2010</td>\n",
       "      <td>January</td>\n",
       "      <td>MONKFISH FRESH</td>\n",
       "      <td>CANADA</td>\n",
       "      <td>1</td>\n",
       "      <td>579</td>\n",
       "      <td>EXP Quantity</td>\n",
       "      <td>kg</td>\n",
       "    </tr>\n",
       "    <tr>\n",
       "      <th>4</th>\n",
       "      <td>2010</td>\n",
       "      <td>January</td>\n",
       "      <td>MONKFISH FRESH</td>\n",
       "      <td>CANADA</td>\n",
       "      <td>1</td>\n",
       "      <td>7975</td>\n",
       "      <td>EXP Quantity</td>\n",
       "      <td>kg</td>\n",
       "    </tr>\n",
       "  </tbody>\n",
       "</table>\n",
       "</div>"
      ],
      "text/plain": [
       "   Year    Month     Product Name          Country Name  Month number  Value  \\\n",
       "0  2010  January  SABLEFISH FRESH  UNITED ARAB EMIRATES             1   2297   \n",
       "1  2010  January  SABLEFISH FRESH                 JAPAN             1  16025   \n",
       "2  2010  January  SABLEFISH FRESH                 JAPAN             1  63437   \n",
       "3  2010  January   MONKFISH FRESH                CANADA             1    579   \n",
       "4  2010  January   MONKFISH FRESH                CANADA             1   7975   \n",
       "\n",
       "        Feature Unit  \n",
       "0  EXP Quantity   kg  \n",
       "1  EXP Quantity   kg  \n",
       "2  EXP Quantity   kg  \n",
       "3  EXP Quantity   kg  \n",
       "4  EXP Quantity   kg  "
      ]
     },
     "execution_count": 48,
     "metadata": {},
     "output_type": "execute_result"
    }
   ],
   "source": [
    "dfFish = pd.read_csv('../data/us_fishery_trade.csv')\n",
    "dfFish.head()"
   ]
  },
  {
   "cell_type": "code",
   "execution_count": 49,
   "metadata": {
    "colab": {},
    "colab_type": "code",
    "execution": {
     "iopub.execute_input": "2023-01-23T06:21:53.442763Z",
     "iopub.status.busy": "2023-01-23T06:21:53.442411Z",
     "iopub.status.idle": "2023-01-23T06:21:53.448512Z",
     "shell.execute_reply": "2023-01-23T06:21:53.447768Z",
     "shell.execute_reply.started": "2023-01-23T06:21:53.442737Z"
    },
    "id": "b8IEHq10eYBa",
    "outputId": "826bb431-ce9b-4e81-b625-9ffac1654ab5",
    "tags": []
   },
   "outputs": [
    {
     "data": {
      "text/plain": [
       "array(['SABLEFISH FRESH', 'MONKFISH FRESH', 'WHITEFISH FRESH',\n",
       "       'WHITEFISH FROZEN', 'MONKFISH FROZEN', 'BUTTERFISH FROZEN',\n",
       "       'SABLEFISH FROZEN', 'SCORPIONFISH (SCORPAENIDAE) FROZEN',\n",
       "       'WHITEFISH FILLET FRESH', 'WOLFFISH FILLET BLOCKS FROZEN > 4.5KG',\n",
       "       'WOLFFISH FILLET FROZEN', 'CRAWFISH FRESHWATER FROZEN',\n",
       "       'CRAWFISH FRESHWATER PEELED',\n",
       "       'SABLEFISH SCALED WHETHER OR NOT DRESS FRESH NOT > 6.8KG',\n",
       "       'WHITEFISH MEAT FROZEN > 6.8KG', 'SABLEFISH FRESH NOT > 6.8KG',\n",
       "       'WHITEFISH MEAT FRESH',\n",
       "       'JELLYFISH (RHOPILEMA SPP.) LIVE/FRESH/FROZEN/DRIED/SALTED/BRINE/SMOKED',\n",
       "       'JELLYFISH PREPARED/PRESERVED'], dtype=object)"
      ]
     },
     "execution_count": 49,
     "metadata": {},
     "output_type": "execute_result"
    }
   ],
   "source": [
    "dfFish['Product Name'].unique()"
   ]
  },
  {
   "cell_type": "code",
   "execution_count": 50,
   "metadata": {
    "colab": {},
    "colab_type": "code",
    "execution": {
     "iopub.execute_input": "2023-01-23T06:22:21.128215Z",
     "iopub.status.busy": "2023-01-23T06:22:21.127841Z",
     "iopub.status.idle": "2023-01-23T06:22:21.140659Z",
     "shell.execute_reply": "2023-01-23T06:22:21.139889Z",
     "shell.execute_reply.started": "2023-01-23T06:22:21.128189Z"
    },
    "id": "3LrREHfdeYBe",
    "outputId": "bb6b2086-6257-49e5-8627-d3bd1f91e137",
    "tags": []
   },
   "outputs": [
    {
     "data": {
      "text/html": [
       "<div>\n",
       "<style scoped>\n",
       "    .dataframe tbody tr th:only-of-type {\n",
       "        vertical-align: middle;\n",
       "    }\n",
       "\n",
       "    .dataframe tbody tr th {\n",
       "        vertical-align: top;\n",
       "    }\n",
       "\n",
       "    .dataframe thead th {\n",
       "        text-align: right;\n",
       "    }\n",
       "</style>\n",
       "<table border=\"1\" class=\"dataframe\">\n",
       "  <thead>\n",
       "    <tr style=\"text-align: right;\">\n",
       "      <th></th>\n",
       "      <th>Feature</th>\n",
       "      <th>Unit</th>\n",
       "    </tr>\n",
       "  </thead>\n",
       "  <tbody>\n",
       "    <tr>\n",
       "      <th>0</th>\n",
       "      <td>EXP Quantity</td>\n",
       "      <td>kg</td>\n",
       "    </tr>\n",
       "    <tr>\n",
       "      <th>17</th>\n",
       "      <td>IMP Quantity</td>\n",
       "      <td>kg</td>\n",
       "    </tr>\n",
       "    <tr>\n",
       "      <th>8737</th>\n",
       "      <td>EXP Value</td>\n",
       "      <td>USD</td>\n",
       "    </tr>\n",
       "    <tr>\n",
       "      <th>8754</th>\n",
       "      <td>IMP Value</td>\n",
       "      <td>USD</td>\n",
       "    </tr>\n",
       "  </tbody>\n",
       "</table>\n",
       "</div>"
      ],
      "text/plain": [
       "           Feature Unit\n",
       "0     EXP Quantity   kg\n",
       "17    IMP Quantity   kg\n",
       "8737     EXP Value  USD\n",
       "8754     IMP Value  USD"
      ]
     },
     "execution_count": 50,
     "metadata": {},
     "output_type": "execute_result"
    }
   ],
   "source": [
    "dfFish[['Feature', 'Unit']].drop_duplicates()"
   ]
  },
  {
   "cell_type": "markdown",
   "metadata": {
    "colab_type": "text",
    "id": "4ueJMElseYBg"
   },
   "source": [
    "#### Data aggregation\n",
    "Data aggregation is the process splitting the dataset into groups and applying an aggregate function (such as sum, mean, count) to each group."
   ]
  },
  {
   "cell_type": "code",
   "execution_count": 53,
   "metadata": {
    "colab": {},
    "colab_type": "code",
    "id": "AUCMOgO2eYBg",
    "outputId": "b4c3819d-96b9-4e8c-96da-27c29985b43e",
    "tags": [
     "output_scroll"
    ]
   },
   "outputs": [
    {
     "data": {
      "text/html": [
       "<div>\n",
       "<style scoped>\n",
       "    .dataframe tbody tr th:only-of-type {\n",
       "        vertical-align: middle;\n",
       "    }\n",
       "\n",
       "    .dataframe tbody tr th {\n",
       "        vertical-align: top;\n",
       "    }\n",
       "\n",
       "    .dataframe thead th {\n",
       "        text-align: right;\n",
       "    }\n",
       "</style>\n",
       "<table border=\"1\" class=\"dataframe\">\n",
       "  <thead>\n",
       "    <tr style=\"text-align: right;\">\n",
       "      <th></th>\n",
       "      <th>Year</th>\n",
       "      <th>Month</th>\n",
       "      <th>Product Name</th>\n",
       "      <th>Country Name</th>\n",
       "      <th>Month number</th>\n",
       "      <th>Value</th>\n",
       "      <th>Feature</th>\n",
       "      <th>Unit</th>\n",
       "    </tr>\n",
       "  </thead>\n",
       "  <tbody>\n",
       "    <tr>\n",
       "      <th>0</th>\n",
       "      <td>2010</td>\n",
       "      <td>January</td>\n",
       "      <td>SABLEFISH FRESH</td>\n",
       "      <td>UNITED ARAB EMIRATES</td>\n",
       "      <td>1</td>\n",
       "      <td>2297</td>\n",
       "      <td>EXP Quantity</td>\n",
       "      <td>kg</td>\n",
       "    </tr>\n",
       "    <tr>\n",
       "      <th>1</th>\n",
       "      <td>2010</td>\n",
       "      <td>January</td>\n",
       "      <td>SABLEFISH FRESH</td>\n",
       "      <td>JAPAN</td>\n",
       "      <td>1</td>\n",
       "      <td>16025</td>\n",
       "      <td>EXP Quantity</td>\n",
       "      <td>kg</td>\n",
       "    </tr>\n",
       "    <tr>\n",
       "      <th>2</th>\n",
       "      <td>2010</td>\n",
       "      <td>January</td>\n",
       "      <td>SABLEFISH FRESH</td>\n",
       "      <td>JAPAN</td>\n",
       "      <td>1</td>\n",
       "      <td>63437</td>\n",
       "      <td>EXP Quantity</td>\n",
       "      <td>kg</td>\n",
       "    </tr>\n",
       "    <tr>\n",
       "      <th>3</th>\n",
       "      <td>2010</td>\n",
       "      <td>January</td>\n",
       "      <td>MONKFISH FRESH</td>\n",
       "      <td>CANADA</td>\n",
       "      <td>1</td>\n",
       "      <td>579</td>\n",
       "      <td>EXP Quantity</td>\n",
       "      <td>kg</td>\n",
       "    </tr>\n",
       "    <tr>\n",
       "      <th>4</th>\n",
       "      <td>2010</td>\n",
       "      <td>January</td>\n",
       "      <td>MONKFISH FRESH</td>\n",
       "      <td>CANADA</td>\n",
       "      <td>1</td>\n",
       "      <td>7975</td>\n",
       "      <td>EXP Quantity</td>\n",
       "      <td>kg</td>\n",
       "    </tr>\n",
       "  </tbody>\n",
       "</table>\n",
       "</div>"
      ],
      "text/plain": [
       "   Year    Month     Product Name          Country Name  Month number  Value  \\\n",
       "0  2010  January  SABLEFISH FRESH  UNITED ARAB EMIRATES             1   2297   \n",
       "1  2010  January  SABLEFISH FRESH                 JAPAN             1  16025   \n",
       "2  2010  January  SABLEFISH FRESH                 JAPAN             1  63437   \n",
       "3  2010  January   MONKFISH FRESH                CANADA             1    579   \n",
       "4  2010  January   MONKFISH FRESH                CANADA             1   7975   \n",
       "\n",
       "        Feature Unit  \n",
       "0  EXP Quantity   kg  \n",
       "1  EXP Quantity   kg  \n",
       "2  EXP Quantity   kg  \n",
       "3  EXP Quantity   kg  \n",
       "4  EXP Quantity   kg  "
      ]
     },
     "execution_count": 53,
     "metadata": {},
     "output_type": "execute_result"
    }
   ],
   "source": [
    "dfFish.head()"
   ]
  },
  {
   "cell_type": "code",
   "execution_count": 54,
   "metadata": {
    "colab": {},
    "colab_type": "code",
    "id": "LkqiXgxmeYBk",
    "outputId": "75f374e7-588b-477d-b623-29bc7080f590"
   },
   "outputs": [
    {
     "data": {
      "text/plain": [
       "Product Name\n",
       "BUTTERFISH FROZEN                                                         1398\n",
       "CRAWFISH FRESHWATER FROZEN                                                1032\n",
       "CRAWFISH FRESHWATER PEELED                                                1826\n",
       "JELLYFISH (RHOPILEMA SPP.) LIVE/FRESH/FROZEN/DRIED/SALTED/BRINE/SMOKED     932\n",
       "JELLYFISH PREPARED/PRESERVED                                               920\n",
       "MONKFISH FRESH                                                            1816\n",
       "MONKFISH FROZEN                                                           1288\n",
       "SABLEFISH FRESH                                                            718\n",
       "SABLEFISH FRESH NOT > 6.8KG                                                392\n",
       "SABLEFISH FROZEN                                                          2978\n",
       "SABLEFISH SCALED WHETHER OR NOT DRESS FRESH NOT > 6.8KG                     44\n",
       "SCORPIONFISH (SCORPAENIDAE) FROZEN                                        1674\n",
       "WHITEFISH FILLET FRESH                                                     360\n",
       "WHITEFISH FRESH                                                            938\n",
       "WHITEFISH FROZEN                                                           752\n",
       "WHITEFISH MEAT FRESH                                                       288\n",
       "WHITEFISH MEAT FROZEN > 6.8KG                                               16\n",
       "WOLFFISH FILLET BLOCKS FROZEN > 4.5KG                                       34\n",
       "WOLFFISH FILLET FROZEN                                                      68\n",
       "dtype: int64"
      ]
     },
     "execution_count": 54,
     "metadata": {},
     "output_type": "execute_result"
    }
   ],
   "source": [
    "# number of rows\n",
    "dfFish.groupby('Product Name').size()"
   ]
  },
  {
   "cell_type": "code",
   "execution_count": 55,
   "metadata": {
    "colab": {},
    "colab_type": "code",
    "id": "8qOOhRQgeYBm",
    "outputId": "78514135-d97a-4a26-bfe3-cc70826554b0",
    "tags": [
     "output_scroll"
    ]
   },
   "outputs": [
    {
     "data": {
      "text/html": [
       "<div>\n",
       "<style scoped>\n",
       "    .dataframe tbody tr th:only-of-type {\n",
       "        vertical-align: middle;\n",
       "    }\n",
       "\n",
       "    .dataframe tbody tr th {\n",
       "        vertical-align: top;\n",
       "    }\n",
       "\n",
       "    .dataframe thead th {\n",
       "        text-align: right;\n",
       "    }\n",
       "</style>\n",
       "<table border=\"1\" class=\"dataframe\">\n",
       "  <thead>\n",
       "    <tr style=\"text-align: right;\">\n",
       "      <th></th>\n",
       "      <th>Year</th>\n",
       "      <th>Month</th>\n",
       "      <th>Country Name</th>\n",
       "      <th>Month number</th>\n",
       "      <th>Value</th>\n",
       "      <th>Feature</th>\n",
       "      <th>Unit</th>\n",
       "    </tr>\n",
       "    <tr>\n",
       "      <th>Product Name</th>\n",
       "      <th></th>\n",
       "      <th></th>\n",
       "      <th></th>\n",
       "      <th></th>\n",
       "      <th></th>\n",
       "      <th></th>\n",
       "      <th></th>\n",
       "    </tr>\n",
       "  </thead>\n",
       "  <tbody>\n",
       "    <tr>\n",
       "      <th>BUTTERFISH FROZEN</th>\n",
       "      <td>1398</td>\n",
       "      <td>1398</td>\n",
       "      <td>1398</td>\n",
       "      <td>1398</td>\n",
       "      <td>1398</td>\n",
       "      <td>1398</td>\n",
       "      <td>1398</td>\n",
       "    </tr>\n",
       "    <tr>\n",
       "      <th>CRAWFISH FRESHWATER FROZEN</th>\n",
       "      <td>1032</td>\n",
       "      <td>1032</td>\n",
       "      <td>1032</td>\n",
       "      <td>1032</td>\n",
       "      <td>1032</td>\n",
       "      <td>1032</td>\n",
       "      <td>1032</td>\n",
       "    </tr>\n",
       "    <tr>\n",
       "      <th>CRAWFISH FRESHWATER PEELED</th>\n",
       "      <td>1826</td>\n",
       "      <td>1826</td>\n",
       "      <td>1826</td>\n",
       "      <td>1826</td>\n",
       "      <td>1826</td>\n",
       "      <td>1826</td>\n",
       "      <td>1826</td>\n",
       "    </tr>\n",
       "    <tr>\n",
       "      <th>JELLYFISH (RHOPILEMA SPP.) LIVE/FRESH/FROZEN/DRIED/SALTED/BRINE/SMOKED</th>\n",
       "      <td>932</td>\n",
       "      <td>932</td>\n",
       "      <td>932</td>\n",
       "      <td>932</td>\n",
       "      <td>932</td>\n",
       "      <td>932</td>\n",
       "      <td>932</td>\n",
       "    </tr>\n",
       "    <tr>\n",
       "      <th>JELLYFISH PREPARED/PRESERVED</th>\n",
       "      <td>920</td>\n",
       "      <td>920</td>\n",
       "      <td>920</td>\n",
       "      <td>920</td>\n",
       "      <td>920</td>\n",
       "      <td>920</td>\n",
       "      <td>920</td>\n",
       "    </tr>\n",
       "    <tr>\n",
       "      <th>MONKFISH FRESH</th>\n",
       "      <td>1816</td>\n",
       "      <td>1816</td>\n",
       "      <td>1816</td>\n",
       "      <td>1816</td>\n",
       "      <td>1816</td>\n",
       "      <td>1816</td>\n",
       "      <td>1816</td>\n",
       "    </tr>\n",
       "    <tr>\n",
       "      <th>MONKFISH FROZEN</th>\n",
       "      <td>1288</td>\n",
       "      <td>1288</td>\n",
       "      <td>1288</td>\n",
       "      <td>1288</td>\n",
       "      <td>1288</td>\n",
       "      <td>1288</td>\n",
       "      <td>1288</td>\n",
       "    </tr>\n",
       "    <tr>\n",
       "      <th>SABLEFISH FRESH</th>\n",
       "      <td>718</td>\n",
       "      <td>718</td>\n",
       "      <td>718</td>\n",
       "      <td>718</td>\n",
       "      <td>718</td>\n",
       "      <td>718</td>\n",
       "      <td>718</td>\n",
       "    </tr>\n",
       "    <tr>\n",
       "      <th>SABLEFISH FRESH NOT &gt; 6.8KG</th>\n",
       "      <td>392</td>\n",
       "      <td>392</td>\n",
       "      <td>392</td>\n",
       "      <td>392</td>\n",
       "      <td>392</td>\n",
       "      <td>392</td>\n",
       "      <td>392</td>\n",
       "    </tr>\n",
       "    <tr>\n",
       "      <th>SABLEFISH FROZEN</th>\n",
       "      <td>2978</td>\n",
       "      <td>2978</td>\n",
       "      <td>2978</td>\n",
       "      <td>2978</td>\n",
       "      <td>2978</td>\n",
       "      <td>2978</td>\n",
       "      <td>2978</td>\n",
       "    </tr>\n",
       "    <tr>\n",
       "      <th>SABLEFISH SCALED WHETHER OR NOT DRESS FRESH NOT &gt; 6.8KG</th>\n",
       "      <td>44</td>\n",
       "      <td>44</td>\n",
       "      <td>44</td>\n",
       "      <td>44</td>\n",
       "      <td>44</td>\n",
       "      <td>44</td>\n",
       "      <td>44</td>\n",
       "    </tr>\n",
       "    <tr>\n",
       "      <th>SCORPIONFISH (SCORPAENIDAE) FROZEN</th>\n",
       "      <td>1674</td>\n",
       "      <td>1674</td>\n",
       "      <td>1674</td>\n",
       "      <td>1674</td>\n",
       "      <td>1674</td>\n",
       "      <td>1674</td>\n",
       "      <td>1674</td>\n",
       "    </tr>\n",
       "    <tr>\n",
       "      <th>WHITEFISH FILLET FRESH</th>\n",
       "      <td>360</td>\n",
       "      <td>360</td>\n",
       "      <td>360</td>\n",
       "      <td>360</td>\n",
       "      <td>360</td>\n",
       "      <td>360</td>\n",
       "      <td>360</td>\n",
       "    </tr>\n",
       "    <tr>\n",
       "      <th>WHITEFISH FRESH</th>\n",
       "      <td>938</td>\n",
       "      <td>938</td>\n",
       "      <td>938</td>\n",
       "      <td>938</td>\n",
       "      <td>938</td>\n",
       "      <td>938</td>\n",
       "      <td>938</td>\n",
       "    </tr>\n",
       "    <tr>\n",
       "      <th>WHITEFISH FROZEN</th>\n",
       "      <td>752</td>\n",
       "      <td>752</td>\n",
       "      <td>752</td>\n",
       "      <td>752</td>\n",
       "      <td>752</td>\n",
       "      <td>752</td>\n",
       "      <td>752</td>\n",
       "    </tr>\n",
       "    <tr>\n",
       "      <th>WHITEFISH MEAT FRESH</th>\n",
       "      <td>288</td>\n",
       "      <td>288</td>\n",
       "      <td>288</td>\n",
       "      <td>288</td>\n",
       "      <td>288</td>\n",
       "      <td>288</td>\n",
       "      <td>288</td>\n",
       "    </tr>\n",
       "    <tr>\n",
       "      <th>WHITEFISH MEAT FROZEN &gt; 6.8KG</th>\n",
       "      <td>16</td>\n",
       "      <td>16</td>\n",
       "      <td>16</td>\n",
       "      <td>16</td>\n",
       "      <td>16</td>\n",
       "      <td>16</td>\n",
       "      <td>16</td>\n",
       "    </tr>\n",
       "    <tr>\n",
       "      <th>WOLFFISH FILLET BLOCKS FROZEN &gt; 4.5KG</th>\n",
       "      <td>34</td>\n",
       "      <td>34</td>\n",
       "      <td>34</td>\n",
       "      <td>34</td>\n",
       "      <td>34</td>\n",
       "      <td>34</td>\n",
       "      <td>34</td>\n",
       "    </tr>\n",
       "    <tr>\n",
       "      <th>WOLFFISH FILLET FROZEN</th>\n",
       "      <td>68</td>\n",
       "      <td>68</td>\n",
       "      <td>68</td>\n",
       "      <td>68</td>\n",
       "      <td>68</td>\n",
       "      <td>68</td>\n",
       "      <td>68</td>\n",
       "    </tr>\n",
       "  </tbody>\n",
       "</table>\n",
       "</div>"
      ],
      "text/plain": [
       "                                                                        Year  \\\n",
       "Product Name                                                                   \n",
       "BUTTERFISH FROZEN                                                       1398   \n",
       "CRAWFISH FRESHWATER FROZEN                                              1032   \n",
       "CRAWFISH FRESHWATER PEELED                                              1826   \n",
       "JELLYFISH (RHOPILEMA SPP.) LIVE/FRESH/FROZEN/DRIED/SALTED/BRINE/SMOKED   932   \n",
       "JELLYFISH PREPARED/PRESERVED                                             920   \n",
       "MONKFISH FRESH                                                          1816   \n",
       "MONKFISH FROZEN                                                         1288   \n",
       "SABLEFISH FRESH                                                          718   \n",
       "SABLEFISH FRESH NOT > 6.8KG                                              392   \n",
       "SABLEFISH FROZEN                                                        2978   \n",
       "SABLEFISH SCALED WHETHER OR NOT DRESS FRESH NOT > 6.8KG                   44   \n",
       "SCORPIONFISH (SCORPAENIDAE) FROZEN                                      1674   \n",
       "WHITEFISH FILLET FRESH                                                   360   \n",
       "WHITEFISH FRESH                                                          938   \n",
       "WHITEFISH FROZEN                                                         752   \n",
       "WHITEFISH MEAT FRESH                                                     288   \n",
       "WHITEFISH MEAT FROZEN > 6.8KG                                             16   \n",
       "WOLFFISH FILLET BLOCKS FROZEN > 4.5KG                                     34   \n",
       "WOLFFISH FILLET FROZEN                                                    68   \n",
       "\n",
       "                                                                        Month  \\\n",
       "Product Name                                                                    \n",
       "BUTTERFISH FROZEN                                                        1398   \n",
       "CRAWFISH FRESHWATER FROZEN                                               1032   \n",
       "CRAWFISH FRESHWATER PEELED                                               1826   \n",
       "JELLYFISH (RHOPILEMA SPP.) LIVE/FRESH/FROZEN/DRIED/SALTED/BRINE/SMOKED    932   \n",
       "JELLYFISH PREPARED/PRESERVED                                              920   \n",
       "MONKFISH FRESH                                                           1816   \n",
       "MONKFISH FROZEN                                                          1288   \n",
       "SABLEFISH FRESH                                                           718   \n",
       "SABLEFISH FRESH NOT > 6.8KG                                               392   \n",
       "SABLEFISH FROZEN                                                         2978   \n",
       "SABLEFISH SCALED WHETHER OR NOT DRESS FRESH NOT > 6.8KG                    44   \n",
       "SCORPIONFISH (SCORPAENIDAE) FROZEN                                       1674   \n",
       "WHITEFISH FILLET FRESH                                                    360   \n",
       "WHITEFISH FRESH                                                           938   \n",
       "WHITEFISH FROZEN                                                          752   \n",
       "WHITEFISH MEAT FRESH                                                      288   \n",
       "WHITEFISH MEAT FROZEN > 6.8KG                                              16   \n",
       "WOLFFISH FILLET BLOCKS FROZEN > 4.5KG                                      34   \n",
       "WOLFFISH FILLET FROZEN                                                     68   \n",
       "\n",
       "                                                                        Country Name  \\\n",
       "Product Name                                                                           \n",
       "BUTTERFISH FROZEN                                                               1398   \n",
       "CRAWFISH FRESHWATER FROZEN                                                      1032   \n",
       "CRAWFISH FRESHWATER PEELED                                                      1826   \n",
       "JELLYFISH (RHOPILEMA SPP.) LIVE/FRESH/FROZEN/DRIED/SALTED/BRINE/SMOKED           932   \n",
       "JELLYFISH PREPARED/PRESERVED                                                     920   \n",
       "MONKFISH FRESH                                                                  1816   \n",
       "MONKFISH FROZEN                                                                 1288   \n",
       "SABLEFISH FRESH                                                                  718   \n",
       "SABLEFISH FRESH NOT > 6.8KG                                                      392   \n",
       "SABLEFISH FROZEN                                                                2978   \n",
       "SABLEFISH SCALED WHETHER OR NOT DRESS FRESH NOT > 6.8KG                           44   \n",
       "SCORPIONFISH (SCORPAENIDAE) FROZEN                                              1674   \n",
       "WHITEFISH FILLET FRESH                                                           360   \n",
       "WHITEFISH FRESH                                                                  938   \n",
       "WHITEFISH FROZEN                                                                 752   \n",
       "WHITEFISH MEAT FRESH                                                             288   \n",
       "WHITEFISH MEAT FROZEN > 6.8KG                                                     16   \n",
       "WOLFFISH FILLET BLOCKS FROZEN > 4.5KG                                             34   \n",
       "WOLFFISH FILLET FROZEN                                                            68   \n",
       "\n",
       "                                                                        Month number  \\\n",
       "Product Name                                                                           \n",
       "BUTTERFISH FROZEN                                                               1398   \n",
       "CRAWFISH FRESHWATER FROZEN                                                      1032   \n",
       "CRAWFISH FRESHWATER PEELED                                                      1826   \n",
       "JELLYFISH (RHOPILEMA SPP.) LIVE/FRESH/FROZEN/DRIED/SALTED/BRINE/SMOKED           932   \n",
       "JELLYFISH PREPARED/PRESERVED                                                     920   \n",
       "MONKFISH FRESH                                                                  1816   \n",
       "MONKFISH FROZEN                                                                 1288   \n",
       "SABLEFISH FRESH                                                                  718   \n",
       "SABLEFISH FRESH NOT > 6.8KG                                                      392   \n",
       "SABLEFISH FROZEN                                                                2978   \n",
       "SABLEFISH SCALED WHETHER OR NOT DRESS FRESH NOT > 6.8KG                           44   \n",
       "SCORPIONFISH (SCORPAENIDAE) FROZEN                                              1674   \n",
       "WHITEFISH FILLET FRESH                                                           360   \n",
       "WHITEFISH FRESH                                                                  938   \n",
       "WHITEFISH FROZEN                                                                 752   \n",
       "WHITEFISH MEAT FRESH                                                             288   \n",
       "WHITEFISH MEAT FROZEN > 6.8KG                                                     16   \n",
       "WOLFFISH FILLET BLOCKS FROZEN > 4.5KG                                             34   \n",
       "WOLFFISH FILLET FROZEN                                                            68   \n",
       "\n",
       "                                                                        Value  \\\n",
       "Product Name                                                                    \n",
       "BUTTERFISH FROZEN                                                        1398   \n",
       "CRAWFISH FRESHWATER FROZEN                                               1032   \n",
       "CRAWFISH FRESHWATER PEELED                                               1826   \n",
       "JELLYFISH (RHOPILEMA SPP.) LIVE/FRESH/FROZEN/DRIED/SALTED/BRINE/SMOKED    932   \n",
       "JELLYFISH PREPARED/PRESERVED                                              920   \n",
       "MONKFISH FRESH                                                           1816   \n",
       "MONKFISH FROZEN                                                          1288   \n",
       "SABLEFISH FRESH                                                           718   \n",
       "SABLEFISH FRESH NOT > 6.8KG                                               392   \n",
       "SABLEFISH FROZEN                                                         2978   \n",
       "SABLEFISH SCALED WHETHER OR NOT DRESS FRESH NOT > 6.8KG                    44   \n",
       "SCORPIONFISH (SCORPAENIDAE) FROZEN                                       1674   \n",
       "WHITEFISH FILLET FRESH                                                    360   \n",
       "WHITEFISH FRESH                                                           938   \n",
       "WHITEFISH FROZEN                                                          752   \n",
       "WHITEFISH MEAT FRESH                                                      288   \n",
       "WHITEFISH MEAT FROZEN > 6.8KG                                              16   \n",
       "WOLFFISH FILLET BLOCKS FROZEN > 4.5KG                                      34   \n",
       "WOLFFISH FILLET FROZEN                                                     68   \n",
       "\n",
       "                                                                        Feature  \\\n",
       "Product Name                                                                      \n",
       "BUTTERFISH FROZEN                                                          1398   \n",
       "CRAWFISH FRESHWATER FROZEN                                                 1032   \n",
       "CRAWFISH FRESHWATER PEELED                                                 1826   \n",
       "JELLYFISH (RHOPILEMA SPP.) LIVE/FRESH/FROZEN/DRIED/SALTED/BRINE/SMOKED      932   \n",
       "JELLYFISH PREPARED/PRESERVED                                                920   \n",
       "MONKFISH FRESH                                                             1816   \n",
       "MONKFISH FROZEN                                                            1288   \n",
       "SABLEFISH FRESH                                                             718   \n",
       "SABLEFISH FRESH NOT > 6.8KG                                                 392   \n",
       "SABLEFISH FROZEN                                                           2978   \n",
       "SABLEFISH SCALED WHETHER OR NOT DRESS FRESH NOT > 6.8KG                      44   \n",
       "SCORPIONFISH (SCORPAENIDAE) FROZEN                                         1674   \n",
       "WHITEFISH FILLET FRESH                                                      360   \n",
       "WHITEFISH FRESH                                                             938   \n",
       "WHITEFISH FROZEN                                                            752   \n",
       "WHITEFISH MEAT FRESH                                                        288   \n",
       "WHITEFISH MEAT FROZEN > 6.8KG                                                16   \n",
       "WOLFFISH FILLET BLOCKS FROZEN > 4.5KG                                        34   \n",
       "WOLFFISH FILLET FROZEN                                                       68   \n",
       "\n",
       "                                                                        Unit  \n",
       "Product Name                                                                  \n",
       "BUTTERFISH FROZEN                                                       1398  \n",
       "CRAWFISH FRESHWATER FROZEN                                              1032  \n",
       "CRAWFISH FRESHWATER PEELED                                              1826  \n",
       "JELLYFISH (RHOPILEMA SPP.) LIVE/FRESH/FROZEN/DRIED/SALTED/BRINE/SMOKED   932  \n",
       "JELLYFISH PREPARED/PRESERVED                                             920  \n",
       "MONKFISH FRESH                                                          1816  \n",
       "MONKFISH FROZEN                                                         1288  \n",
       "SABLEFISH FRESH                                                          718  \n",
       "SABLEFISH FRESH NOT > 6.8KG                                              392  \n",
       "SABLEFISH FROZEN                                                        2978  \n",
       "SABLEFISH SCALED WHETHER OR NOT DRESS FRESH NOT > 6.8KG                   44  \n",
       "SCORPIONFISH (SCORPAENIDAE) FROZEN                                      1674  \n",
       "WHITEFISH FILLET FRESH                                                   360  \n",
       "WHITEFISH FRESH                                                          938  \n",
       "WHITEFISH FROZEN                                                         752  \n",
       "WHITEFISH MEAT FRESH                                                     288  \n",
       "WHITEFISH MEAT FROZEN > 6.8KG                                             16  \n",
       "WOLFFISH FILLET BLOCKS FROZEN > 4.5KG                                     34  \n",
       "WOLFFISH FILLET FROZEN                                                    68  "
      ]
     },
     "execution_count": 55,
     "metadata": {},
     "output_type": "execute_result"
    }
   ],
   "source": [
    "# number of not null values\n",
    "dfFish.groupby('Product Name').count()"
   ]
  },
  {
   "cell_type": "code",
   "execution_count": 56,
   "metadata": {
    "colab": {},
    "colab_type": "code",
    "id": "0XtcsArOeYBp",
    "outputId": "a44d43ef-4829-4ca2-d6a2-c6ced68323ec",
    "tags": [
     "output_scroll"
    ]
   },
   "outputs": [
    {
     "data": {
      "text/html": [
       "<div>\n",
       "<style scoped>\n",
       "    .dataframe tbody tr th:only-of-type {\n",
       "        vertical-align: middle;\n",
       "    }\n",
       "\n",
       "    .dataframe tbody tr th {\n",
       "        vertical-align: top;\n",
       "    }\n",
       "\n",
       "    .dataframe thead th {\n",
       "        text-align: right;\n",
       "    }\n",
       "</style>\n",
       "<table border=\"1\" class=\"dataframe\">\n",
       "  <thead>\n",
       "    <tr style=\"text-align: right;\">\n",
       "      <th></th>\n",
       "      <th>Product Name</th>\n",
       "      <th>Value</th>\n",
       "    </tr>\n",
       "  </thead>\n",
       "  <tbody>\n",
       "    <tr>\n",
       "      <th>0</th>\n",
       "      <td>BUTTERFISH FROZEN</td>\n",
       "      <td>10604660</td>\n",
       "    </tr>\n",
       "    <tr>\n",
       "      <th>1</th>\n",
       "      <td>CRAWFISH FRESHWATER FROZEN</td>\n",
       "      <td>5393263</td>\n",
       "    </tr>\n",
       "    <tr>\n",
       "      <th>2</th>\n",
       "      <td>JELLYFISH (RHOPILEMA SPP.) LIVE/FRESH/FROZEN/DRIED/SALTED/BRINE/SMOKED</td>\n",
       "      <td>5489508</td>\n",
       "    </tr>\n",
       "    <tr>\n",
       "      <th>3</th>\n",
       "      <td>JELLYFISH PREPARED/PRESERVED</td>\n",
       "      <td>8198507</td>\n",
       "    </tr>\n",
       "    <tr>\n",
       "      <th>4</th>\n",
       "      <td>MONKFISH FRESH</td>\n",
       "      <td>32555268</td>\n",
       "    </tr>\n",
       "    <tr>\n",
       "      <th>5</th>\n",
       "      <td>MONKFISH FROZEN</td>\n",
       "      <td>93921677</td>\n",
       "    </tr>\n",
       "    <tr>\n",
       "      <th>6</th>\n",
       "      <td>SABLEFISH FRESH</td>\n",
       "      <td>66094664</td>\n",
       "    </tr>\n",
       "    <tr>\n",
       "      <th>7</th>\n",
       "      <td>SABLEFISH FROZEN</td>\n",
       "      <td>799896744</td>\n",
       "    </tr>\n",
       "    <tr>\n",
       "      <th>8</th>\n",
       "      <td>SCORPIONFISH (SCORPAENIDAE) FROZEN</td>\n",
       "      <td>73262535</td>\n",
       "    </tr>\n",
       "  </tbody>\n",
       "</table>\n",
       "</div>"
      ],
      "text/plain": [
       "                                                             Product Name  \\\n",
       "0                                                       BUTTERFISH FROZEN   \n",
       "1                                              CRAWFISH FRESHWATER FROZEN   \n",
       "2  JELLYFISH (RHOPILEMA SPP.) LIVE/FRESH/FROZEN/DRIED/SALTED/BRINE/SMOKED   \n",
       "3                                            JELLYFISH PREPARED/PRESERVED   \n",
       "4                                                          MONKFISH FRESH   \n",
       "5                                                         MONKFISH FROZEN   \n",
       "6                                                         SABLEFISH FRESH   \n",
       "7                                                        SABLEFISH FROZEN   \n",
       "8                                      SCORPIONFISH (SCORPAENIDAE) FROZEN   \n",
       "\n",
       "       Value  \n",
       "0   10604660  \n",
       "1    5393263  \n",
       "2    5489508  \n",
       "3    8198507  \n",
       "4   32555268  \n",
       "5   93921677  \n",
       "6   66094664  \n",
       "7  799896744  \n",
       "8   73262535  "
      ]
     },
     "execution_count": 56,
     "metadata": {},
     "output_type": "execute_result"
    }
   ],
   "source": [
    "# total export value of each product\n",
    "dfFish[dfFish['Feature']=='EXP Value']\\\n",
    "    .groupby('Product Name').sum()[['Value']].reset_index()"
   ]
  },
  {
   "cell_type": "code",
   "execution_count": 54,
   "metadata": {
    "colab": {},
    "colab_type": "code",
    "execution": {
     "iopub.execute_input": "2023-01-23T06:24:11.175278Z",
     "iopub.status.busy": "2023-01-23T06:24:11.174947Z",
     "iopub.status.idle": "2023-01-23T06:24:11.190665Z",
     "shell.execute_reply": "2023-01-23T06:24:11.189614Z",
     "shell.execute_reply.started": "2023-01-23T06:24:11.175254Z"
    },
    "id": "KgHySSl2eYBr",
    "outputId": "99f1c770-c813-46dc-bd95-4134cf6bd777",
    "tags": [
     "output_scroll"
    ]
   },
   "outputs": [
    {
     "data": {
      "text/html": [
       "<div>\n",
       "<style scoped>\n",
       "    .dataframe tbody tr th:only-of-type {\n",
       "        vertical-align: middle;\n",
       "    }\n",
       "\n",
       "    .dataframe tbody tr th {\n",
       "        vertical-align: top;\n",
       "    }\n",
       "\n",
       "    .dataframe thead th {\n",
       "        text-align: right;\n",
       "    }\n",
       "</style>\n",
       "<table border=\"1\" class=\"dataframe\">\n",
       "  <thead>\n",
       "    <tr style=\"text-align: right;\">\n",
       "      <th></th>\n",
       "      <th>Feature</th>\n",
       "      <th>Year</th>\n",
       "      <th>Unit</th>\n",
       "      <th>Value</th>\n",
       "    </tr>\n",
       "  </thead>\n",
       "  <tbody>\n",
       "    <tr>\n",
       "      <th>0</th>\n",
       "      <td>EXP Quantity</td>\n",
       "      <td>2010</td>\n",
       "      <td>kg</td>\n",
       "      <td>15578318</td>\n",
       "    </tr>\n",
       "    <tr>\n",
       "      <th>1</th>\n",
       "      <td>EXP Quantity</td>\n",
       "      <td>2011</td>\n",
       "      <td>kg</td>\n",
       "      <td>28106436</td>\n",
       "    </tr>\n",
       "    <tr>\n",
       "      <th>2</th>\n",
       "      <td>EXP Quantity</td>\n",
       "      <td>2012</td>\n",
       "      <td>kg</td>\n",
       "      <td>15054158</td>\n",
       "    </tr>\n",
       "    <tr>\n",
       "      <th>3</th>\n",
       "      <td>EXP Quantity</td>\n",
       "      <td>2013</td>\n",
       "      <td>kg</td>\n",
       "      <td>13856966</td>\n",
       "    </tr>\n",
       "    <tr>\n",
       "      <th>4</th>\n",
       "      <td>EXP Quantity</td>\n",
       "      <td>2014</td>\n",
       "      <td>kg</td>\n",
       "      <td>19607838</td>\n",
       "    </tr>\n",
       "    <tr>\n",
       "      <th>5</th>\n",
       "      <td>EXP Quantity</td>\n",
       "      <td>2015</td>\n",
       "      <td>kg</td>\n",
       "      <td>17477174</td>\n",
       "    </tr>\n",
       "    <tr>\n",
       "      <th>6</th>\n",
       "      <td>EXP Quantity</td>\n",
       "      <td>2016</td>\n",
       "      <td>kg</td>\n",
       "      <td>10759863</td>\n",
       "    </tr>\n",
       "    <tr>\n",
       "      <th>7</th>\n",
       "      <td>EXP Quantity</td>\n",
       "      <td>2017</td>\n",
       "      <td>kg</td>\n",
       "      <td>12236928</td>\n",
       "    </tr>\n",
       "    <tr>\n",
       "      <th>8</th>\n",
       "      <td>EXP Quantity</td>\n",
       "      <td>2018</td>\n",
       "      <td>kg</td>\n",
       "      <td>9972012</td>\n",
       "    </tr>\n",
       "    <tr>\n",
       "      <th>9</th>\n",
       "      <td>EXP Quantity</td>\n",
       "      <td>2019</td>\n",
       "      <td>kg</td>\n",
       "      <td>9990474</td>\n",
       "    </tr>\n",
       "    <tr>\n",
       "      <th>10</th>\n",
       "      <td>EXP Value</td>\n",
       "      <td>2010</td>\n",
       "      <td>USD</td>\n",
       "      <td>98236554</td>\n",
       "    </tr>\n",
       "    <tr>\n",
       "      <th>11</th>\n",
       "      <td>EXP Value</td>\n",
       "      <td>2011</td>\n",
       "      <td>USD</td>\n",
       "      <td>140983487</td>\n",
       "    </tr>\n",
       "    <tr>\n",
       "      <th>12</th>\n",
       "      <td>EXP Value</td>\n",
       "      <td>2012</td>\n",
       "      <td>USD</td>\n",
       "      <td>125953602</td>\n",
       "    </tr>\n",
       "    <tr>\n",
       "      <th>13</th>\n",
       "      <td>EXP Value</td>\n",
       "      <td>2013</td>\n",
       "      <td>USD</td>\n",
       "      <td>116650050</td>\n",
       "    </tr>\n",
       "    <tr>\n",
       "      <th>14</th>\n",
       "      <td>EXP Value</td>\n",
       "      <td>2014</td>\n",
       "      <td>USD</td>\n",
       "      <td>119094346</td>\n",
       "    </tr>\n",
       "    <tr>\n",
       "      <th>15</th>\n",
       "      <td>EXP Value</td>\n",
       "      <td>2015</td>\n",
       "      <td>USD</td>\n",
       "      <td>109798243</td>\n",
       "    </tr>\n",
       "    <tr>\n",
       "      <th>16</th>\n",
       "      <td>EXP Value</td>\n",
       "      <td>2016</td>\n",
       "      <td>USD</td>\n",
       "      <td>97552829</td>\n",
       "    </tr>\n",
       "    <tr>\n",
       "      <th>17</th>\n",
       "      <td>EXP Value</td>\n",
       "      <td>2017</td>\n",
       "      <td>USD</td>\n",
       "      <td>106999739</td>\n",
       "    </tr>\n",
       "    <tr>\n",
       "      <th>18</th>\n",
       "      <td>EXP Value</td>\n",
       "      <td>2018</td>\n",
       "      <td>USD</td>\n",
       "      <td>97991428</td>\n",
       "    </tr>\n",
       "    <tr>\n",
       "      <th>19</th>\n",
       "      <td>EXP Value</td>\n",
       "      <td>2019</td>\n",
       "      <td>USD</td>\n",
       "      <td>82156548</td>\n",
       "    </tr>\n",
       "    <tr>\n",
       "      <th>20</th>\n",
       "      <td>IMP Quantity</td>\n",
       "      <td>2010</td>\n",
       "      <td>kg</td>\n",
       "      <td>14032723</td>\n",
       "    </tr>\n",
       "    <tr>\n",
       "      <th>21</th>\n",
       "      <td>IMP Quantity</td>\n",
       "      <td>2011</td>\n",
       "      <td>kg</td>\n",
       "      <td>8011229</td>\n",
       "    </tr>\n",
       "    <tr>\n",
       "      <th>22</th>\n",
       "      <td>IMP Quantity</td>\n",
       "      <td>2012</td>\n",
       "      <td>kg</td>\n",
       "      <td>16405503</td>\n",
       "    </tr>\n",
       "    <tr>\n",
       "      <th>23</th>\n",
       "      <td>IMP Quantity</td>\n",
       "      <td>2013</td>\n",
       "      <td>kg</td>\n",
       "      <td>15075456</td>\n",
       "    </tr>\n",
       "    <tr>\n",
       "      <th>24</th>\n",
       "      <td>IMP Quantity</td>\n",
       "      <td>2014</td>\n",
       "      <td>kg</td>\n",
       "      <td>14610607</td>\n",
       "    </tr>\n",
       "    <tr>\n",
       "      <th>25</th>\n",
       "      <td>IMP Quantity</td>\n",
       "      <td>2015</td>\n",
       "      <td>kg</td>\n",
       "      <td>11491688</td>\n",
       "    </tr>\n",
       "    <tr>\n",
       "      <th>26</th>\n",
       "      <td>IMP Quantity</td>\n",
       "      <td>2016</td>\n",
       "      <td>kg</td>\n",
       "      <td>15642463</td>\n",
       "    </tr>\n",
       "    <tr>\n",
       "      <th>27</th>\n",
       "      <td>IMP Quantity</td>\n",
       "      <td>2017</td>\n",
       "      <td>kg</td>\n",
       "      <td>13913190</td>\n",
       "    </tr>\n",
       "    <tr>\n",
       "      <th>28</th>\n",
       "      <td>IMP Quantity</td>\n",
       "      <td>2018</td>\n",
       "      <td>kg</td>\n",
       "      <td>12914589</td>\n",
       "    </tr>\n",
       "    <tr>\n",
       "      <th>29</th>\n",
       "      <td>IMP Quantity</td>\n",
       "      <td>2019</td>\n",
       "      <td>kg</td>\n",
       "      <td>12607424</td>\n",
       "    </tr>\n",
       "    <tr>\n",
       "      <th>30</th>\n",
       "      <td>IMP Value</td>\n",
       "      <td>2010</td>\n",
       "      <td>USD</td>\n",
       "      <td>104418740</td>\n",
       "    </tr>\n",
       "    <tr>\n",
       "      <th>31</th>\n",
       "      <td>IMP Value</td>\n",
       "      <td>2011</td>\n",
       "      <td>USD</td>\n",
       "      <td>44629635</td>\n",
       "    </tr>\n",
       "    <tr>\n",
       "      <th>32</th>\n",
       "      <td>IMP Value</td>\n",
       "      <td>2012</td>\n",
       "      <td>USD</td>\n",
       "      <td>123932304</td>\n",
       "    </tr>\n",
       "    <tr>\n",
       "      <th>33</th>\n",
       "      <td>IMP Value</td>\n",
       "      <td>2013</td>\n",
       "      <td>USD</td>\n",
       "      <td>120527354</td>\n",
       "    </tr>\n",
       "    <tr>\n",
       "      <th>34</th>\n",
       "      <td>IMP Value</td>\n",
       "      <td>2014</td>\n",
       "      <td>USD</td>\n",
       "      <td>115837518</td>\n",
       "    </tr>\n",
       "    <tr>\n",
       "      <th>35</th>\n",
       "      <td>IMP Value</td>\n",
       "      <td>2015</td>\n",
       "      <td>USD</td>\n",
       "      <td>93715779</td>\n",
       "    </tr>\n",
       "    <tr>\n",
       "      <th>36</th>\n",
       "      <td>IMP Value</td>\n",
       "      <td>2016</td>\n",
       "      <td>USD</td>\n",
       "      <td>108972260</td>\n",
       "    </tr>\n",
       "    <tr>\n",
       "      <th>37</th>\n",
       "      <td>IMP Value</td>\n",
       "      <td>2017</td>\n",
       "      <td>USD</td>\n",
       "      <td>98563992</td>\n",
       "    </tr>\n",
       "    <tr>\n",
       "      <th>38</th>\n",
       "      <td>IMP Value</td>\n",
       "      <td>2018</td>\n",
       "      <td>USD</td>\n",
       "      <td>129315579</td>\n",
       "    </tr>\n",
       "    <tr>\n",
       "      <th>39</th>\n",
       "      <td>IMP Value</td>\n",
       "      <td>2019</td>\n",
       "      <td>USD</td>\n",
       "      <td>80650686</td>\n",
       "    </tr>\n",
       "  </tbody>\n",
       "</table>\n",
       "</div>"
      ],
      "text/plain": [
       "         Feature  Year Unit      Value\n",
       "0   EXP Quantity  2010   kg   15578318\n",
       "1   EXP Quantity  2011   kg   28106436\n",
       "2   EXP Quantity  2012   kg   15054158\n",
       "3   EXP Quantity  2013   kg   13856966\n",
       "4   EXP Quantity  2014   kg   19607838\n",
       "5   EXP Quantity  2015   kg   17477174\n",
       "6   EXP Quantity  2016   kg   10759863\n",
       "7   EXP Quantity  2017   kg   12236928\n",
       "8   EXP Quantity  2018   kg    9972012\n",
       "9   EXP Quantity  2019   kg    9990474\n",
       "10     EXP Value  2010  USD   98236554\n",
       "11     EXP Value  2011  USD  140983487\n",
       "12     EXP Value  2012  USD  125953602\n",
       "13     EXP Value  2013  USD  116650050\n",
       "14     EXP Value  2014  USD  119094346\n",
       "15     EXP Value  2015  USD  109798243\n",
       "16     EXP Value  2016  USD   97552829\n",
       "17     EXP Value  2017  USD  106999739\n",
       "18     EXP Value  2018  USD   97991428\n",
       "19     EXP Value  2019  USD   82156548\n",
       "20  IMP Quantity  2010   kg   14032723\n",
       "21  IMP Quantity  2011   kg    8011229\n",
       "22  IMP Quantity  2012   kg   16405503\n",
       "23  IMP Quantity  2013   kg   15075456\n",
       "24  IMP Quantity  2014   kg   14610607\n",
       "25  IMP Quantity  2015   kg   11491688\n",
       "26  IMP Quantity  2016   kg   15642463\n",
       "27  IMP Quantity  2017   kg   13913190\n",
       "28  IMP Quantity  2018   kg   12914589\n",
       "29  IMP Quantity  2019   kg   12607424\n",
       "30     IMP Value  2010  USD  104418740\n",
       "31     IMP Value  2011  USD   44629635\n",
       "32     IMP Value  2012  USD  123932304\n",
       "33     IMP Value  2013  USD  120527354\n",
       "34     IMP Value  2014  USD  115837518\n",
       "35     IMP Value  2015  USD   93715779\n",
       "36     IMP Value  2016  USD  108972260\n",
       "37     IMP Value  2017  USD   98563992\n",
       "38     IMP Value  2018  USD  129315579\n",
       "39     IMP Value  2019  USD   80650686"
      ]
     },
     "execution_count": 54,
     "metadata": {},
     "output_type": "execute_result"
    }
   ],
   "source": [
    "# total trade each year\n",
    "dfFish.groupby(['Feature', 'Year', 'Unit']).sum()['Value'].reset_index()"
   ]
  },
  {
   "cell_type": "code",
   "execution_count": 53,
   "metadata": {
    "colab": {},
    "colab_type": "code",
    "execution": {
     "iopub.execute_input": "2023-01-23T06:24:03.812525Z",
     "iopub.status.busy": "2023-01-23T06:24:03.812220Z",
     "iopub.status.idle": "2023-01-23T06:24:03.837120Z",
     "shell.execute_reply": "2023-01-23T06:24:03.836163Z",
     "shell.execute_reply.started": "2023-01-23T06:24:03.812504Z"
    },
    "id": "AxQYFjqJeYBt",
    "outputId": "1f866290-c26f-4262-855e-3422251cab08",
    "tags": [
     "output_scroll"
    ]
   },
   "outputs": [
    {
     "data": {
      "text/html": [
       "<div>\n",
       "<style scoped>\n",
       "    .dataframe tbody tr th:only-of-type {\n",
       "        vertical-align: middle;\n",
       "    }\n",
       "\n",
       "    .dataframe tbody tr th {\n",
       "        vertical-align: top;\n",
       "    }\n",
       "\n",
       "    .dataframe thead th {\n",
       "        text-align: right;\n",
       "    }\n",
       "</style>\n",
       "<table border=\"1\" class=\"dataframe\">\n",
       "  <thead>\n",
       "    <tr style=\"text-align: right;\">\n",
       "      <th></th>\n",
       "      <th>Feature</th>\n",
       "      <th>Month number</th>\n",
       "      <th>Value</th>\n",
       "    </tr>\n",
       "  </thead>\n",
       "  <tbody>\n",
       "    <tr>\n",
       "      <th>0</th>\n",
       "      <td>EXP Value</td>\n",
       "      <td>1</td>\n",
       "      <td>4210348.9</td>\n",
       "    </tr>\n",
       "    <tr>\n",
       "      <th>1</th>\n",
       "      <td>EXP Value</td>\n",
       "      <td>2</td>\n",
       "      <td>3185211.9</td>\n",
       "    </tr>\n",
       "    <tr>\n",
       "      <th>2</th>\n",
       "      <td>EXP Value</td>\n",
       "      <td>3</td>\n",
       "      <td>3465167.2</td>\n",
       "    </tr>\n",
       "    <tr>\n",
       "      <th>3</th>\n",
       "      <td>EXP Value</td>\n",
       "      <td>4</td>\n",
       "      <td>8694505.8</td>\n",
       "    </tr>\n",
       "    <tr>\n",
       "      <th>4</th>\n",
       "      <td>EXP Value</td>\n",
       "      <td>5</td>\n",
       "      <td>14953813.7</td>\n",
       "    </tr>\n",
       "    <tr>\n",
       "      <th>5</th>\n",
       "      <td>EXP Value</td>\n",
       "      <td>6</td>\n",
       "      <td>15216529.7</td>\n",
       "    </tr>\n",
       "    <tr>\n",
       "      <th>6</th>\n",
       "      <td>EXP Value</td>\n",
       "      <td>7</td>\n",
       "      <td>12062280.3</td>\n",
       "    </tr>\n",
       "    <tr>\n",
       "      <th>7</th>\n",
       "      <td>EXP Value</td>\n",
       "      <td>8</td>\n",
       "      <td>9735869.9</td>\n",
       "    </tr>\n",
       "    <tr>\n",
       "      <th>8</th>\n",
       "      <td>EXP Value</td>\n",
       "      <td>9</td>\n",
       "      <td>10347673.5</td>\n",
       "    </tr>\n",
       "    <tr>\n",
       "      <th>9</th>\n",
       "      <td>EXP Value</td>\n",
       "      <td>10</td>\n",
       "      <td>10211269.2</td>\n",
       "    </tr>\n",
       "    <tr>\n",
       "      <th>10</th>\n",
       "      <td>EXP Value</td>\n",
       "      <td>11</td>\n",
       "      <td>9573641.9</td>\n",
       "    </tr>\n",
       "    <tr>\n",
       "      <th>11</th>\n",
       "      <td>EXP Value</td>\n",
       "      <td>12</td>\n",
       "      <td>7885370.6</td>\n",
       "    </tr>\n",
       "    <tr>\n",
       "      <th>12</th>\n",
       "      <td>IMP Value</td>\n",
       "      <td>1</td>\n",
       "      <td>6113069.1</td>\n",
       "    </tr>\n",
       "    <tr>\n",
       "      <th>13</th>\n",
       "      <td>IMP Value</td>\n",
       "      <td>2</td>\n",
       "      <td>3873446.4</td>\n",
       "    </tr>\n",
       "    <tr>\n",
       "      <th>14</th>\n",
       "      <td>IMP Value</td>\n",
       "      <td>3</td>\n",
       "      <td>4268467.3</td>\n",
       "    </tr>\n",
       "    <tr>\n",
       "      <th>15</th>\n",
       "      <td>IMP Value</td>\n",
       "      <td>4</td>\n",
       "      <td>2933990.0</td>\n",
       "    </tr>\n",
       "    <tr>\n",
       "      <th>16</th>\n",
       "      <td>IMP Value</td>\n",
       "      <td>5</td>\n",
       "      <td>3245580.7</td>\n",
       "    </tr>\n",
       "    <tr>\n",
       "      <th>17</th>\n",
       "      <td>IMP Value</td>\n",
       "      <td>6</td>\n",
       "      <td>7536133.3</td>\n",
       "    </tr>\n",
       "    <tr>\n",
       "      <th>18</th>\n",
       "      <td>IMP Value</td>\n",
       "      <td>7</td>\n",
       "      <td>15308588.2</td>\n",
       "    </tr>\n",
       "    <tr>\n",
       "      <th>19</th>\n",
       "      <td>IMP Value</td>\n",
       "      <td>8</td>\n",
       "      <td>18397190.0</td>\n",
       "    </tr>\n",
       "    <tr>\n",
       "      <th>20</th>\n",
       "      <td>IMP Value</td>\n",
       "      <td>9</td>\n",
       "      <td>15130274.2</td>\n",
       "    </tr>\n",
       "    <tr>\n",
       "      <th>21</th>\n",
       "      <td>IMP Value</td>\n",
       "      <td>10</td>\n",
       "      <td>10958879.7</td>\n",
       "    </tr>\n",
       "    <tr>\n",
       "      <th>22</th>\n",
       "      <td>IMP Value</td>\n",
       "      <td>11</td>\n",
       "      <td>7294507.2</td>\n",
       "    </tr>\n",
       "    <tr>\n",
       "      <th>23</th>\n",
       "      <td>IMP Value</td>\n",
       "      <td>12</td>\n",
       "      <td>6996258.6</td>\n",
       "    </tr>\n",
       "  </tbody>\n",
       "</table>\n",
       "</div>"
      ],
      "text/plain": [
       "      Feature  Month number       Value\n",
       "0   EXP Value             1   4210348.9\n",
       "1   EXP Value             2   3185211.9\n",
       "2   EXP Value             3   3465167.2\n",
       "3   EXP Value             4   8694505.8\n",
       "4   EXP Value             5  14953813.7\n",
       "5   EXP Value             6  15216529.7\n",
       "6   EXP Value             7  12062280.3\n",
       "7   EXP Value             8   9735869.9\n",
       "8   EXP Value             9  10347673.5\n",
       "9   EXP Value            10  10211269.2\n",
       "10  EXP Value            11   9573641.9\n",
       "11  EXP Value            12   7885370.6\n",
       "12  IMP Value             1   6113069.1\n",
       "13  IMP Value             2   3873446.4\n",
       "14  IMP Value             3   4268467.3\n",
       "15  IMP Value             4   2933990.0\n",
       "16  IMP Value             5   3245580.7\n",
       "17  IMP Value             6   7536133.3\n",
       "18  IMP Value             7  15308588.2\n",
       "19  IMP Value             8  18397190.0\n",
       "20  IMP Value             9  15130274.2\n",
       "21  IMP Value            10  10958879.7\n",
       "22  IMP Value            11   7294507.2\n",
       "23  IMP Value            12   6996258.6"
      ]
     },
     "execution_count": 53,
     "metadata": {},
     "output_type": "execute_result"
    }
   ],
   "source": [
    "dfFish[dfFish.Feature.str.contains('Value')]\\\n",
    "    .groupby(['Feature', 'Year', 'Month number']).sum().reset_index()\\\n",
    "    .groupby(['Feature', 'Month number']).mean()['Value'].reset_index()"
   ]
  },
  {
   "cell_type": "code",
   "execution_count": 59,
   "metadata": {
    "colab": {},
    "colab_type": "code",
    "id": "WjiOcAySeYBv",
    "outputId": "e73702ad-2491-4f07-9956-788fd53c7ea2",
    "tags": [
     "output_scroll"
    ]
   },
   "outputs": [
    {
     "data": {
      "text/html": [
       "<div>\n",
       "<style scoped>\n",
       "    .dataframe tbody tr th:only-of-type {\n",
       "        vertical-align: middle;\n",
       "    }\n",
       "\n",
       "    .dataframe tbody tr th {\n",
       "        vertical-align: top;\n",
       "    }\n",
       "\n",
       "    .dataframe thead tr th {\n",
       "        text-align: left;\n",
       "    }\n",
       "</style>\n",
       "<table border=\"1\" class=\"dataframe\">\n",
       "  <thead>\n",
       "    <tr>\n",
       "      <th></th>\n",
       "      <th>Product Name</th>\n",
       "      <th colspan=\"3\" halign=\"left\">Value</th>\n",
       "    </tr>\n",
       "    <tr>\n",
       "      <th></th>\n",
       "      <th></th>\n",
       "      <th>sum</th>\n",
       "      <th>mean</th>\n",
       "      <th>size</th>\n",
       "    </tr>\n",
       "  </thead>\n",
       "  <tbody>\n",
       "    <tr>\n",
       "      <th>0</th>\n",
       "      <td>BUTTERFISH FROZEN</td>\n",
       "      <td>60432604</td>\n",
       "      <td>43,227.90</td>\n",
       "      <td>1398</td>\n",
       "    </tr>\n",
       "    <tr>\n",
       "      <th>1</th>\n",
       "      <td>CRAWFISH FRESHWATER FROZEN</td>\n",
       "      <td>136660222</td>\n",
       "      <td>132,422.70</td>\n",
       "      <td>1032</td>\n",
       "    </tr>\n",
       "    <tr>\n",
       "      <th>2</th>\n",
       "      <td>CRAWFISH FRESHWATER PEELED</td>\n",
       "      <td>677768550</td>\n",
       "      <td>371,176.64</td>\n",
       "      <td>1826</td>\n",
       "    </tr>\n",
       "    <tr>\n",
       "      <th>3</th>\n",
       "      <td>JELLYFISH (RHOPILEMA SPP.) LIVE/FRESH/FROZEN/DRIED/SALTED/BRINE/SMOKED</td>\n",
       "      <td>28905543</td>\n",
       "      <td>31,014.53</td>\n",
       "      <td>932</td>\n",
       "    </tr>\n",
       "    <tr>\n",
       "      <th>4</th>\n",
       "      <td>JELLYFISH PREPARED/PRESERVED</td>\n",
       "      <td>43337180</td>\n",
       "      <td>47,105.63</td>\n",
       "      <td>920</td>\n",
       "    </tr>\n",
       "    <tr>\n",
       "      <th>5</th>\n",
       "      <td>MONKFISH FRESH</td>\n",
       "      <td>38634548</td>\n",
       "      <td>21,274.53</td>\n",
       "      <td>1816</td>\n",
       "    </tr>\n",
       "    <tr>\n",
       "      <th>6</th>\n",
       "      <td>MONKFISH FROZEN</td>\n",
       "      <td>120627952</td>\n",
       "      <td>93,655.24</td>\n",
       "      <td>1288</td>\n",
       "    </tr>\n",
       "    <tr>\n",
       "      <th>7</th>\n",
       "      <td>SABLEFISH FRESH</td>\n",
       "      <td>84580465</td>\n",
       "      <td>117,800.09</td>\n",
       "      <td>718</td>\n",
       "    </tr>\n",
       "    <tr>\n",
       "      <th>8</th>\n",
       "      <td>SABLEFISH FRESH NOT &gt; 6.8KG</td>\n",
       "      <td>5882279</td>\n",
       "      <td>15,005.81</td>\n",
       "      <td>392</td>\n",
       "    </tr>\n",
       "    <tr>\n",
       "      <th>9</th>\n",
       "      <td>SABLEFISH FROZEN</td>\n",
       "      <td>895572564</td>\n",
       "      <td>300,729.54</td>\n",
       "      <td>2978</td>\n",
       "    </tr>\n",
       "    <tr>\n",
       "      <th>10</th>\n",
       "      <td>SABLEFISH SCALED WHETHER OR NOT DRESS FRESH NOT &gt; 6.8KG</td>\n",
       "      <td>316166</td>\n",
       "      <td>7,185.59</td>\n",
       "      <td>44</td>\n",
       "    </tr>\n",
       "    <tr>\n",
       "      <th>11</th>\n",
       "      <td>SCORPIONFISH (SCORPAENIDAE) FROZEN</td>\n",
       "      <td>110342888</td>\n",
       "      <td>65,915.70</td>\n",
       "      <td>1674</td>\n",
       "    </tr>\n",
       "    <tr>\n",
       "      <th>12</th>\n",
       "      <td>WHITEFISH FILLET FRESH</td>\n",
       "      <td>22307013</td>\n",
       "      <td>61,963.93</td>\n",
       "      <td>360</td>\n",
       "    </tr>\n",
       "    <tr>\n",
       "      <th>13</th>\n",
       "      <td>WHITEFISH FRESH</td>\n",
       "      <td>115985398</td>\n",
       "      <td>123,651.81</td>\n",
       "      <td>938</td>\n",
       "    </tr>\n",
       "    <tr>\n",
       "      <th>14</th>\n",
       "      <td>WHITEFISH FROZEN</td>\n",
       "      <td>39689306</td>\n",
       "      <td>52,778.33</td>\n",
       "      <td>752</td>\n",
       "    </tr>\n",
       "    <tr>\n",
       "      <th>15</th>\n",
       "      <td>WHITEFISH MEAT FRESH</td>\n",
       "      <td>18866787</td>\n",
       "      <td>65,509.68</td>\n",
       "      <td>288</td>\n",
       "    </tr>\n",
       "    <tr>\n",
       "      <th>16</th>\n",
       "      <td>WHITEFISH MEAT FROZEN &gt; 6.8KG</td>\n",
       "      <td>321536</td>\n",
       "      <td>20,096.00</td>\n",
       "      <td>16</td>\n",
       "    </tr>\n",
       "    <tr>\n",
       "      <th>17</th>\n",
       "      <td>WOLFFISH FILLET BLOCKS FROZEN &gt; 4.5KG</td>\n",
       "      <td>1718291</td>\n",
       "      <td>50,537.97</td>\n",
       "      <td>34</td>\n",
       "    </tr>\n",
       "    <tr>\n",
       "      <th>18</th>\n",
       "      <td>WOLFFISH FILLET FROZEN</td>\n",
       "      <td>1376420</td>\n",
       "      <td>20,241.47</td>\n",
       "      <td>68</td>\n",
       "    </tr>\n",
       "  </tbody>\n",
       "</table>\n",
       "</div>"
      ],
      "text/plain": [
       "                                                              Product Name  \\\n",
       "                                                                             \n",
       "0                                                        BUTTERFISH FROZEN   \n",
       "1                                               CRAWFISH FRESHWATER FROZEN   \n",
       "2                                               CRAWFISH FRESHWATER PEELED   \n",
       "3   JELLYFISH (RHOPILEMA SPP.) LIVE/FRESH/FROZEN/DRIED/SALTED/BRINE/SMOKED   \n",
       "4                                             JELLYFISH PREPARED/PRESERVED   \n",
       "5                                                           MONKFISH FRESH   \n",
       "6                                                          MONKFISH FROZEN   \n",
       "7                                                          SABLEFISH FRESH   \n",
       "8                                              SABLEFISH FRESH NOT > 6.8KG   \n",
       "9                                                         SABLEFISH FROZEN   \n",
       "10                 SABLEFISH SCALED WHETHER OR NOT DRESS FRESH NOT > 6.8KG   \n",
       "11                                      SCORPIONFISH (SCORPAENIDAE) FROZEN   \n",
       "12                                                  WHITEFISH FILLET FRESH   \n",
       "13                                                         WHITEFISH FRESH   \n",
       "14                                                        WHITEFISH FROZEN   \n",
       "15                                                    WHITEFISH MEAT FRESH   \n",
       "16                                           WHITEFISH MEAT FROZEN > 6.8KG   \n",
       "17                                   WOLFFISH FILLET BLOCKS FROZEN > 4.5KG   \n",
       "18                                                  WOLFFISH FILLET FROZEN   \n",
       "\n",
       "        Value                   \n",
       "          sum       mean  size  \n",
       "0    60432604  43,227.90  1398  \n",
       "1   136660222 132,422.70  1032  \n",
       "2   677768550 371,176.64  1826  \n",
       "3    28905543  31,014.53   932  \n",
       "4    43337180  47,105.63   920  \n",
       "5    38634548  21,274.53  1816  \n",
       "6   120627952  93,655.24  1288  \n",
       "7    84580465 117,800.09   718  \n",
       "8     5882279  15,005.81   392  \n",
       "9   895572564 300,729.54  2978  \n",
       "10     316166   7,185.59    44  \n",
       "11  110342888  65,915.70  1674  \n",
       "12   22307013  61,963.93   360  \n",
       "13  115985398 123,651.81   938  \n",
       "14   39689306  52,778.33   752  \n",
       "15   18866787  65,509.68   288  \n",
       "16     321536  20,096.00    16  \n",
       "17    1718291  50,537.97    34  \n",
       "18    1376420  20,241.47    68  "
      ]
     },
     "execution_count": 59,
     "metadata": {},
     "output_type": "execute_result"
    }
   ],
   "source": [
    "# apply multiple aggregate functions at once\n",
    "dfFish.groupby('Product Name').agg([sum, np.mean, np.size])[['Value']].reset_index()"
   ]
  }
 ],
 "metadata": {
  "colab": {
   "name": "Topic 08. Data exploration.ipynb",
   "provenance": []
  },
  "kernelspec": {
   "display_name": "Python 3",
   "language": "python",
   "name": "python3"
  },
  "language_info": {
   "codemirror_mode": {
    "name": "ipython",
    "version": 3
   },
   "file_extension": ".py",
   "mimetype": "text/x-python",
   "name": "python",
   "nbconvert_exporter": "python",
   "pygments_lexer": "ipython3",
   "version": "3.8.8"
  },
  "toc-autonumbering": false,
  "toc-showcode": false,
  "toc-showmarkdowntxt": false,
  "toc-showtags": false
 },
 "nbformat": 4,
 "nbformat_minor": 4
}
