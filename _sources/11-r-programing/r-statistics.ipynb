{
 "cells": [
  {
   "cell_type": "markdown",
   "metadata": {},
   "source": [
    "# R: Statistics"
   ]
  },
  {
   "cell_type": "markdown",
   "metadata": {},
   "source": [
    "## 1. Descriptive statistics"
   ]
  },
  {
   "cell_type": "markdown",
   "metadata": {},
   "source": [
    "### 1.1. Quantiles"
   ]
  },
  {
   "cell_type": "code",
   "execution_count": 1,
   "metadata": {
    "execution": {
     "iopub.execute_input": "2023-01-29T06:19:03.872639Z",
     "iopub.status.busy": "2023-01-29T06:19:03.869018Z",
     "iopub.status.idle": "2023-01-29T06:19:04.970757Z",
     "shell.execute_reply": "2023-01-29T06:19:04.968427Z"
    },
    "tags": []
   },
   "outputs": [
    {
     "name": "stderr",
     "output_type": "stream",
     "text": [
      "── \u001b[1mAttaching packages\u001b[22m ─────────────────────────────────────── tidyverse 1.3.1 ──\n",
      "\n",
      "\u001b[32m✔\u001b[39m \u001b[34mggplot2\u001b[39m 3.3.6     \u001b[32m✔\u001b[39m \u001b[34mpurrr  \u001b[39m 0.3.4\n",
      "\u001b[32m✔\u001b[39m \u001b[34mtibble \u001b[39m 3.1.7     \u001b[32m✔\u001b[39m \u001b[34mdplyr  \u001b[39m 1.0.9\n",
      "\u001b[32m✔\u001b[39m \u001b[34mtidyr  \u001b[39m 1.2.0     \u001b[32m✔\u001b[39m \u001b[34mstringr\u001b[39m 1.4.0\n",
      "\u001b[32m✔\u001b[39m \u001b[34mreadr  \u001b[39m 2.1.2     \u001b[32m✔\u001b[39m \u001b[34mforcats\u001b[39m 0.5.1\n",
      "\n",
      "── \u001b[1mConflicts\u001b[22m ────────────────────────────────────────── tidyverse_conflicts() ──\n",
      "\u001b[31m✖\u001b[39m \u001b[34mdplyr\u001b[39m::\u001b[32mfilter()\u001b[39m masks \u001b[34mstats\u001b[39m::filter()\n",
      "\u001b[31m✖\u001b[39m \u001b[34mdplyr\u001b[39m::\u001b[32mlag()\u001b[39m    masks \u001b[34mstats\u001b[39m::lag()\n",
      "\n"
     ]
    }
   ],
   "source": [
    "library(tidyverse)\n",
    "library(readxl)"
   ]
  },
  {
   "cell_type": "code",
   "execution_count": 13,
   "metadata": {},
   "outputs": [
    {
     "data": {
      "text/plain": [
       "      mpg             disp      \n",
       " Min.   :10.40   Min.   : 71.1  \n",
       " 1st Qu.:15.43   1st Qu.:120.8  \n",
       " Median :19.20   Median :196.3  \n",
       " Mean   :20.09   Mean   :230.7  \n",
       " 3rd Qu.:22.80   3rd Qu.:326.0  \n",
       " Max.   :33.90   Max.   :472.0  "
      ]
     },
     "metadata": {},
     "output_type": "display_data"
    }
   ],
   "source": [
    "mtcars %>% select(mpg, disp) %>% summary"
   ]
  },
  {
   "cell_type": "code",
   "execution_count": 14,
   "metadata": {},
   "outputs": [
    {
     "data": {
      "text/html": [
       "<style>\n",
       ".dl-inline {width: auto; margin:0; padding: 0}\n",
       ".dl-inline>dt, .dl-inline>dd {float: none; width: auto; display: inline-block}\n",
       ".dl-inline>dt::after {content: \":\\0020\"; padding-right: .5ex}\n",
       ".dl-inline>dt:not(:first-of-type) {padding-left: .5ex}\n",
       "</style><dl class=dl-inline><dt>0%</dt><dd>10.4</dd><dt>10%</dt><dd>14.34</dd><dt>20%</dt><dd>15.2</dd><dt>30%</dt><dd>15.98</dd><dt>40%</dt><dd>17.92</dd><dt>50%</dt><dd>19.2</dd><dt>60%</dt><dd>21</dd><dt>70%</dt><dd>21.47</dd><dt>80%</dt><dd>24.08</dd><dt>90%</dt><dd>30.09</dd><dt>100%</dt><dd>33.9</dd></dl>\n"
      ],
      "text/latex": [
       "\\begin{description*}\n",
       "\\item[0\\textbackslash{}\\%] 10.4\n",
       "\\item[10\\textbackslash{}\\%] 14.34\n",
       "\\item[20\\textbackslash{}\\%] 15.2\n",
       "\\item[30\\textbackslash{}\\%] 15.98\n",
       "\\item[40\\textbackslash{}\\%] 17.92\n",
       "\\item[50\\textbackslash{}\\%] 19.2\n",
       "\\item[60\\textbackslash{}\\%] 21\n",
       "\\item[70\\textbackslash{}\\%] 21.47\n",
       "\\item[80\\textbackslash{}\\%] 24.08\n",
       "\\item[90\\textbackslash{}\\%] 30.09\n",
       "\\item[100\\textbackslash{}\\%] 33.9\n",
       "\\end{description*}\n"
      ],
      "text/markdown": [
       "0%\n",
       ":   10.410%\n",
       ":   14.3420%\n",
       ":   15.230%\n",
       ":   15.9840%\n",
       ":   17.9250%\n",
       ":   19.260%\n",
       ":   2170%\n",
       ":   21.4780%\n",
       ":   24.0890%\n",
       ":   30.09100%\n",
       ":   33.9\n",
       "\n"
      ],
      "text/plain": [
       "   0%   10%   20%   30%   40%   50%   60%   70%   80%   90%  100% \n",
       "10.40 14.34 15.20 15.98 17.92 19.20 21.00 21.47 24.08 30.09 33.90 "
      ]
     },
     "metadata": {},
     "output_type": "display_data"
    }
   ],
   "source": [
    "mtcars$mpg %>% quantile(seq(0, 1, by=0.1))"
   ]
  },
  {
   "cell_type": "code",
   "execution_count": 15,
   "metadata": {},
   "outputs": [
    {
     "data": {
      "text/html": [
       "19.6961538461538"
      ],
      "text/latex": [
       "19.6961538461538"
      ],
      "text/markdown": [
       "19.6961538461538"
      ],
      "text/plain": [
       "[1] 19.69615"
      ]
     },
     "metadata": {},
     "output_type": "display_data"
    }
   ],
   "source": [
    "# mean of 90% center values\n",
    "mean(mtcars$mpg, trim=0.1)"
   ]
  },
  {
   "cell_type": "code",
   "execution_count": 16,
   "metadata": {},
   "outputs": [
    {
     "data": {
      "text/html": [
       "2.64019756290017"
      ],
      "text/latex": [
       "2.64019756290017"
      ],
      "text/markdown": [
       "2.64019756290017"
      ],
      "text/plain": [
       "[1] 2.640198"
      ]
     },
     "metadata": {},
     "output_type": "display_data"
    }
   ],
   "source": [
    "# interquantile range\n",
    "rnorm(1000, mean=0, sd=2) %>% IQR()"
   ]
  },
  {
   "cell_type": "code",
   "execution_count": 17,
   "metadata": {},
   "outputs": [
    {
     "data": {
      "text/html": [
       "2.98123515435572"
      ],
      "text/latex": [
       "2.98123515435572"
      ],
      "text/markdown": [
       "2.98123515435572"
      ],
      "text/plain": [
       "[1] 2.981235"
      ]
     },
     "metadata": {},
     "output_type": "display_data"
    }
   ],
   "source": [
    "# standard deviation\n",
    "rnorm(1000, 0, 3) %>% sd()"
   ]
  },
  {
   "cell_type": "markdown",
   "metadata": {},
   "source": [
    "### 1.2. Correlation"
   ]
  },
  {
   "cell_type": "code",
   "execution_count": 18,
   "metadata": {},
   "outputs": [],
   "source": [
    "library(tidyverse)\n",
    "library(readxl)"
   ]
  },
  {
   "cell_type": "markdown",
   "metadata": {},
   "source": [
    "#### Pearson coefficient\n",
    "Pearson's correlation assesses linear relationship between two variables."
   ]
  },
  {
   "cell_type": "code",
   "execution_count": 19,
   "metadata": {},
   "outputs": [
    {
     "data": {
      "text/html": [
       "<table>\n",
       "<caption>A matrix: 3 × 3 of type dbl</caption>\n",
       "<thead>\n",
       "\t<tr><th></th><th scope=col>drink</th><th scope=col>travel</th><th scope=col>restaurant</th></tr>\n",
       "</thead>\n",
       "<tbody>\n",
       "\t<tr><th scope=row>drink</th><td> 1.00000000</td><td>-0.02156269</td><td> 0.95176075</td></tr>\n",
       "\t<tr><th scope=row>travel</th><td>-0.02156269</td><td> 1.00000000</td><td>-0.01245761</td></tr>\n",
       "\t<tr><th scope=row>restaurant</th><td> 0.95176075</td><td>-0.01245761</td><td> 1.00000000</td></tr>\n",
       "</tbody>\n",
       "</table>\n"
      ],
      "text/latex": [
       "A matrix: 3 × 3 of type dbl\n",
       "\\begin{tabular}{r|lll}\n",
       "  & drink & travel & restaurant\\\\\n",
       "\\hline\n",
       "\tdrink &  1.00000000 & -0.02156269 &  0.95176075\\\\\n",
       "\ttravel & -0.02156269 &  1.00000000 & -0.01245761\\\\\n",
       "\trestaurant &  0.95176075 & -0.01245761 &  1.00000000\\\\\n",
       "\\end{tabular}\n"
      ],
      "text/markdown": [
       "\n",
       "A matrix: 3 × 3 of type dbl\n",
       "\n",
       "| <!--/--> | drink | travel | restaurant |\n",
       "|---|---|---|---|\n",
       "| drink |  1.00000000 | -0.02156269 |  0.95176075 |\n",
       "| travel | -0.02156269 |  1.00000000 | -0.01245761 |\n",
       "| restaurant |  0.95176075 | -0.01245761 |  1.00000000 |\n",
       "\n"
      ],
      "text/plain": [
       "           drink       travel      restaurant \n",
       "drink       1.00000000 -0.02156269  0.95176075\n",
       "travel     -0.02156269  1.00000000 -0.01245761\n",
       "restaurant  0.95176075 -0.01245761  1.00000000"
      ]
     },
     "metadata": {},
     "output_type": "display_data"
    }
   ],
   "source": [
    "correlation <- read.csv('../data/correlation.csv')\n",
    "cor(correlation)"
   ]
  },
  {
   "cell_type": "code",
   "execution_count": 20,
   "metadata": {
    "render": {
     "image": {
      "align": "center",
      "scale": "50%"
     }
    },
    "tags": []
   },
   "outputs": [
    {
     "name": "stderr",
     "output_type": "stream",
     "text": [
      "`geom_smooth()` using method = 'gam' and formula 'y ~ s(x, bs = \"cs\")'\n",
      "\n"
     ]
    },
    {
     "data": {
      "image/png": "[encoded data removed]",
      "text/plain": [
       "plot without title"
      ]
     },
     "metadata": {
      "image/png": {
       "height": 420,
       "width": 420
      },
      "text/plain": {
       "height": 420,
       "width": 420
      }
     },
     "output_type": "display_data"
    }
   ],
   "source": [
    "correlation %>% \n",
    "    pivot_longer(cols=c(travel, restaurant)) %>%\n",
    "    ggplot() +\n",
    "    aes(x=drink, y=value) +\n",
    "    geom_point(aes(color=name)) +\n",
    "    facet_wrap(~name) +\n",
    "    geom_smooth(color='black') +\n",
    "    theme_minimal()"
   ]
  },
  {
   "cell_type": "markdown",
   "metadata": {},
   "source": [
    "#### Spearman coefficient\n",
    "Spearman coefficient measures rank correlation instead of value correlation."
   ]
  },
  {
   "cell_type": "code",
   "execution_count": 21,
   "metadata": {},
   "outputs": [
    {
     "data": {
      "text/html": [
       "<table>\n",
       "<caption>A data.frame: 3 × 2</caption>\n",
       "<thead>\n",
       "\t<tr><th></th><th scope=col>hnx</th><th scope=col>hose</th></tr>\n",
       "\t<tr><th></th><th scope=col>&lt;dbl&gt;</th><th scope=col>&lt;dbl&gt;</th></tr>\n",
       "</thead>\n",
       "<tbody>\n",
       "\t<tr><th scope=row>1</th><td>220</td><td>151</td></tr>\n",
       "\t<tr><th scope=row>2</th><td>218</td><td>150</td></tr>\n",
       "\t<tr><th scope=row>3</th><td>216</td><td>148</td></tr>\n",
       "</tbody>\n",
       "</table>\n"
      ],
      "text/latex": [
       "A data.frame: 3 × 2\n",
       "\\begin{tabular}{r|ll}\n",
       "  & hnx & hose\\\\\n",
       "  & <dbl> & <dbl>\\\\\n",
       "\\hline\n",
       "\t1 & 220 & 151\\\\\n",
       "\t2 & 218 & 150\\\\\n",
       "\t3 & 216 & 148\\\\\n",
       "\\end{tabular}\n"
      ],
      "text/markdown": [
       "\n",
       "A data.frame: 3 × 2\n",
       "\n",
       "| <!--/--> | hnx &lt;dbl&gt; | hose &lt;dbl&gt; |\n",
       "|---|---|---|\n",
       "| 1 | 220 | 151 |\n",
       "| 2 | 218 | 150 |\n",
       "| 3 | 216 | 148 |\n",
       "\n"
      ],
      "text/plain": [
       "  hnx hose\n",
       "1 220 151 \n",
       "2 218 150 \n",
       "3 216 148 "
      ]
     },
     "metadata": {},
     "output_type": "display_data"
    }
   ],
   "source": [
    "hnx <- c(220,218,216,217,215,213,219,236,237,235)\n",
    "hose <- c(151,150,148,149,147,146,152,165,162,161)\n",
    "\n",
    "stock <- data.frame(hnx, hose)\n",
    "stock %>% head(3)"
   ]
  },
  {
   "cell_type": "code",
   "execution_count": 22,
   "metadata": {},
   "outputs": [
    {
     "data": {
      "text/html": [
       "<table>\n",
       "<caption>A matrix: 2 × 2 of type dbl</caption>\n",
       "<thead>\n",
       "\t<tr><th></th><th scope=col>hnx</th><th scope=col>hose</th></tr>\n",
       "</thead>\n",
       "<tbody>\n",
       "\t<tr><th scope=row>hnx</th><td>1.0000000</td><td>0.9757576</td></tr>\n",
       "\t<tr><th scope=row>hose</th><td>0.9757576</td><td>1.0000000</td></tr>\n",
       "</tbody>\n",
       "</table>\n"
      ],
      "text/latex": [
       "A matrix: 2 × 2 of type dbl\n",
       "\\begin{tabular}{r|ll}\n",
       "  & hnx & hose\\\\\n",
       "\\hline\n",
       "\thnx & 1.0000000 & 0.9757576\\\\\n",
       "\those & 0.9757576 & 1.0000000\\\\\n",
       "\\end{tabular}\n"
      ],
      "text/markdown": [
       "\n",
       "A matrix: 2 × 2 of type dbl\n",
       "\n",
       "| <!--/--> | hnx | hose |\n",
       "|---|---|---|\n",
       "| hnx | 1.0000000 | 0.9757576 |\n",
       "| hose | 0.9757576 | 1.0000000 |\n",
       "\n"
      ],
      "text/plain": [
       "     hnx       hose     \n",
       "hnx  1.0000000 0.9757576\n",
       "hose 0.9757576 1.0000000"
      ]
     },
     "metadata": {},
     "output_type": "display_data"
    }
   ],
   "source": [
    "cor(stock, method='spearman')"
   ]
  },
  {
   "cell_type": "markdown",
   "metadata": {},
   "source": [
    "## 2. Hypothesis testing\n",
    "Hypothesis testing is a method of statistical inference which is built upon distributions. The approach of this technique is to test the validity of a claim about the population using sample data. Hypothesis testing takes into account the following concepts:"
   ]
  },
  {
   "cell_type": "markdown",
   "metadata": {},
   "source": [
    "### 2.1. Terminology"
   ]
  },
  {
   "cell_type": "markdown",
   "metadata": {},
   "source": [
    "#### The hypotheses\n",
    "- The null hypothesis (denoted $\\mbox{H}_0$): the common view whose validity needs to be tested.\n",
    "- The alternative hypothesis (denoted $\\mbox{H}_1$): what will be believed if $\\mbox{H}_0$ is rejected. $H_1$ can be either $x\\neq x_0$, $x<x_0$ or $x>x_0$."
   ]
  },
  {
   "cell_type": "markdown",
   "metadata": {},
   "source": [
    "#### Significance level\n",
    "Significant level (denoted $\\alpha$) is the probability of rejecting the null hypothesis. Common values for significant level are $\\alpha=0.05$ or $\\alpha=0.01$. A related concept is the confidence level ($\\gamma=1-\\alpha$)."
   ]
  },
  {
   "cell_type": "markdown",
   "metadata": {},
   "source": [
    "#### Test statistic\n",
    "Test statistic is a number calculated from the data, which is used to perform the test. The math behind the computing of test statistic ensures it follows a specific dsitribution. Each test statistic is represented by a fraction where the numerator is the signal and the denominator is the noise."
   ]
  },
  {
   "cell_type": "markdown",
   "metadata": {},
   "source": [
    "#### p-value\n",
    "Using test statistic $t$ and its probability disribution function $f(x)$, p-value can be calculated as either $2P(x>|t|)$, $P(x<-t)$ or $P(x>t)$ depends on $\\mbox{H}_1$. p-value is the evidence against $\\mbox{H}_0$; the smaller the p-value is, the stronger evidence that you should reject $\\mbox{H}_0$.\n",
    "- A p-value less than 0.05 indicates the difference is significant, meaning there is a probability of less than 5% that the null hypothesis is correct. Therefore, we reject $\\mbox{H}_0$ and accept $\\mbox{H}_1$.\n",
    "- A p-value higher than 0.05 indicates the difference is not significant. This case we reject $\\mbox{H}_1$ and are failed to reject $\\mbox{H}_0$."
   ]
  },
  {
   "cell_type": "markdown",
   "metadata": {},
   "source": [
    "#### Descriptive statistics\n",
    "For populations:\n",
    "- $N$: population size\n",
    "- $\\mu$: population mean\n",
    "- $\\sigma$: population standard deviation\n",
    "- $\\sigma^2$: population variance\n",
    "- $p$: propotion of successes in population\n",
    "\n",
    "For samples:\n",
    "- $n$: sample size\n",
    "- $\\hat\\mu$ or $\\bar x$: sample mean\n",
    "- $\\hat\\sigma$: sample standard deviation\n",
    "- $\\hat\\sigma^2$: sample variance\n",
    "- $\\hat p$: propotion of successes in sample"
   ]
  },
  {
   "cell_type": "markdown",
   "metadata": {},
   "source": [
    "### 2.2. Z-test"
   ]
  },
  {
   "cell_type": "code",
   "execution_count": 23,
   "metadata": {},
   "outputs": [],
   "source": [
    "library(tidyverse)\n",
    "library(readxl)"
   ]
  },
  {
   "cell_type": "code",
   "execution_count": 24,
   "metadata": {
    "tags": [
     "output_scroll"
    ]
   },
   "outputs": [
    {
     "data": {
      "text/html": [
       "<table>\n",
       "<caption>A tibble: 6 × 23</caption>\n",
       "<thead>\n",
       "\t<tr><th scope=col>Code</th><th scope=col>area</th><th scope=col>gender</th><th scope=col>age</th><th scope=col>age_group</th><th scope=col>year_of_school</th><th scope=col>degree</th><th scope=col>job</th><th scope=col>know_english</th><th scope=col>know_france</th><th scope=col>...</th><th scope=col>flight_date</th><th scope=col>flight_status</th><th scope=col>professionally_staff</th><th scope=col>customer_service</th><th scope=col>diversity_product</th><th scope=col>good_price</th><th scope=col>easily_transaction</th><th scope=col>goodlooking_staff</th><th scope=col>diversity_flighttime</th><th scope=col>good_construction</th></tr>\n",
       "\t<tr><th scope=col>&lt;dbl&gt;</th><th scope=col>&lt;chr&gt;</th><th scope=col>&lt;chr&gt;</th><th scope=col>&lt;dbl&gt;</th><th scope=col>&lt;chr&gt;</th><th scope=col>&lt;dbl&gt;</th><th scope=col>&lt;chr&gt;</th><th scope=col>&lt;chr&gt;</th><th scope=col>&lt;dbl&gt;</th><th scope=col>&lt;dbl&gt;</th><th scope=col>...</th><th scope=col>&lt;chr&gt;</th><th scope=col>&lt;dbl&gt;</th><th scope=col>&lt;dbl&gt;</th><th scope=col>&lt;dbl&gt;</th><th scope=col>&lt;dbl&gt;</th><th scope=col>&lt;dbl&gt;</th><th scope=col>&lt;dbl&gt;</th><th scope=col>&lt;dbl&gt;</th><th scope=col>&lt;dbl&gt;</th><th scope=col>&lt;dbl&gt;</th></tr>\n",
       "</thead>\n",
       "<tbody>\n",
       "\t<tr><td>1</td><td>central </td><td>female</td><td>69</td><td>middle</td><td>16</td><td>master   </td><td>manager</td><td>1</td><td>1</td><td>...</td><td>01/05/2013</td><td>1</td><td>2</td><td>2</td><td>1</td><td>1</td><td>2</td><td>2</td><td>1</td><td>1</td></tr>\n",
       "\t<tr><td>2</td><td>southern</td><td>female</td><td>50</td><td>middle</td><td>12</td><td>highshool</td><td>officer</td><td>0</td><td>0</td><td>...</td><td>01/05/2013</td><td>1</td><td>3</td><td>3</td><td>3</td><td>2</td><td>3</td><td>3</td><td>2</td><td>3</td></tr>\n",
       "\t<tr><td>3</td><td>northern</td><td>male  </td><td>73</td><td>elder </td><td>12</td><td>highshool</td><td>officer</td><td>1</td><td>0</td><td>...</td><td>01/05/2013</td><td>1</td><td>2</td><td>2</td><td>1</td><td>2</td><td>3</td><td>5</td><td>1</td><td>1</td></tr>\n",
       "\t<tr><td>4</td><td>northern</td><td>female</td><td>73</td><td>elder </td><td>12</td><td>highshool</td><td>officer</td><td>0</td><td>0</td><td>...</td><td>01/05/2013</td><td>1</td><td>5</td><td>3</td><td>2</td><td>4</td><td>5</td><td>3</td><td>2</td><td>2</td></tr>\n",
       "\t<tr><td>5</td><td>central </td><td>male  </td><td>69</td><td>middle</td><td>16</td><td>master   </td><td>officer</td><td>1</td><td>0</td><td>...</td><td>01/05/2013</td><td>0</td><td>3</td><td>3</td><td>3</td><td>3</td><td>3</td><td>3</td><td>3</td><td>3</td></tr>\n",
       "\t<tr><td>6</td><td>northern</td><td>female</td><td>72</td><td>elder </td><td>12</td><td>highshool</td><td>sale   </td><td>0</td><td>0</td><td>...</td><td>01/05/2013</td><td>0</td><td>5</td><td>5</td><td>2</td><td>2</td><td>5</td><td>5</td><td>2</td><td>2</td></tr>\n",
       "</tbody>\n",
       "</table>\n"
      ],
      "text/latex": [
       "A tibble: 6 × 23\n",
       "\\begin{tabular}{lllllllllllllllllllll}\n",
       " Code & area & gender & age & age\\_group & year\\_of\\_school & degree & job & know\\_english & know\\_france & ... & flight\\_date & flight\\_status & professionally\\_staff & customer\\_service & diversity\\_product & good\\_price & easily\\_transaction & goodlooking\\_staff & diversity\\_flighttime & good\\_construction\\\\\n",
       " <dbl> & <chr> & <chr> & <dbl> & <chr> & <dbl> & <chr> & <chr> & <dbl> & <dbl> & ... & <chr> & <dbl> & <dbl> & <dbl> & <dbl> & <dbl> & <dbl> & <dbl> & <dbl> & <dbl>\\\\\n",
       "\\hline\n",
       "\t 1 & central  & female & 69 & middle & 16 & master    & manager & 1 & 1 & ... & 01/05/2013 & 1 & 2 & 2 & 1 & 1 & 2 & 2 & 1 & 1\\\\\n",
       "\t 2 & southern & female & 50 & middle & 12 & highshool & officer & 0 & 0 & ... & 01/05/2013 & 1 & 3 & 3 & 3 & 2 & 3 & 3 & 2 & 3\\\\\n",
       "\t 3 & northern & male   & 73 & elder  & 12 & highshool & officer & 1 & 0 & ... & 01/05/2013 & 1 & 2 & 2 & 1 & 2 & 3 & 5 & 1 & 1\\\\\n",
       "\t 4 & northern & female & 73 & elder  & 12 & highshool & officer & 0 & 0 & ... & 01/05/2013 & 1 & 5 & 3 & 2 & 4 & 5 & 3 & 2 & 2\\\\\n",
       "\t 5 & central  & male   & 69 & middle & 16 & master    & officer & 1 & 0 & ... & 01/05/2013 & 0 & 3 & 3 & 3 & 3 & 3 & 3 & 3 & 3\\\\\n",
       "\t 6 & northern & female & 72 & elder  & 12 & highshool & sale    & 0 & 0 & ... & 01/05/2013 & 0 & 5 & 5 & 2 & 2 & 5 & 5 & 2 & 2\\\\\n",
       "\\end{tabular}\n"
      ],
      "text/markdown": [
       "\n",
       "A tibble: 6 × 23\n",
       "\n",
       "| Code &lt;dbl&gt; | area &lt;chr&gt; | gender &lt;chr&gt; | age &lt;dbl&gt; | age_group &lt;chr&gt; | year_of_school &lt;dbl&gt; | degree &lt;chr&gt; | job &lt;chr&gt; | know_english &lt;dbl&gt; | know_france &lt;dbl&gt; | ... ... | flight_date &lt;chr&gt; | flight_status &lt;dbl&gt; | professionally_staff &lt;dbl&gt; | customer_service &lt;dbl&gt; | diversity_product &lt;dbl&gt; | good_price &lt;dbl&gt; | easily_transaction &lt;dbl&gt; | goodlooking_staff &lt;dbl&gt; | diversity_flighttime &lt;dbl&gt; | good_construction &lt;dbl&gt; |\n",
       "|---|---|---|---|---|---|---|---|---|---|---|---|---|---|---|---|---|---|---|---|---|\n",
       "| 1 | central  | female | 69 | middle | 16 | master    | manager | 1 | 1 | ... | 01/05/2013 | 1 | 2 | 2 | 1 | 1 | 2 | 2 | 1 | 1 |\n",
       "| 2 | southern | female | 50 | middle | 12 | highshool | officer | 0 | 0 | ... | 01/05/2013 | 1 | 3 | 3 | 3 | 2 | 3 | 3 | 2 | 3 |\n",
       "| 3 | northern | male   | 73 | elder  | 12 | highshool | officer | 1 | 0 | ... | 01/05/2013 | 1 | 2 | 2 | 1 | 2 | 3 | 5 | 1 | 1 |\n",
       "| 4 | northern | female | 73 | elder  | 12 | highshool | officer | 0 | 0 | ... | 01/05/2013 | 1 | 5 | 3 | 2 | 4 | 5 | 3 | 2 | 2 |\n",
       "| 5 | central  | male   | 69 | middle | 16 | master    | officer | 1 | 0 | ... | 01/05/2013 | 0 | 3 | 3 | 3 | 3 | 3 | 3 | 3 | 3 |\n",
       "| 6 | northern | female | 72 | elder  | 12 | highshool | sale    | 0 | 0 | ... | 01/05/2013 | 0 | 5 | 5 | 2 | 2 | 5 | 5 | 2 | 2 |\n",
       "\n"
      ],
      "text/plain": [
       "  Code area     gender age age_group year_of_school degree    job    \n",
       "1 1    central  female 69  middle    16             master    manager\n",
       "2 2    southern female 50  middle    12             highshool officer\n",
       "3 3    northern male   73  elder     12             highshool officer\n",
       "4 4    northern female 73  elder     12             highshool officer\n",
       "5 5    central  male   69  middle    16             master    officer\n",
       "6 6    northern female 72  elder     12             highshool sale   \n",
       "  know_english know_france ... flight_date flight_status professionally_staff\n",
       "1 1            1           ... 01/05/2013  1             2                   \n",
       "2 0            0           ... 01/05/2013  1             3                   \n",
       "3 1            0           ... 01/05/2013  1             2                   \n",
       "4 0            0           ... 01/05/2013  1             5                   \n",
       "5 1            0           ... 01/05/2013  0             3                   \n",
       "6 0            0           ... 01/05/2013  0             5                   \n",
       "  customer_service diversity_product good_price easily_transaction\n",
       "1 2                1                 1          2                 \n",
       "2 3                3                 2          3                 \n",
       "3 2                1                 2          3                 \n",
       "4 3                2                 4          5                 \n",
       "5 3                3                 3          3                 \n",
       "6 5                2                 2          5                 \n",
       "  goodlooking_staff diversity_flighttime good_construction\n",
       "1 2                 1                    1                \n",
       "2 3                 2                    3                \n",
       "3 5                 1                    1                \n",
       "4 3                 2                    2                \n",
       "5 3                 3                    3                \n",
       "6 5                 2                    2                "
      ]
     },
     "metadata": {},
     "output_type": "display_data"
    }
   ],
   "source": [
    "df <- read_excel('../data/hypothesis.xlsx')\n",
    "head(df)"
   ]
  },
  {
   "cell_type": "markdown",
   "metadata": {},
   "source": [
    "#### Mean z-test\n",
    "Usage: Comparing the mean of one or two populations.\n",
    "\n",
    "Assumptions:\n",
    "- Populations are normally distributed\n",
    "- Samples are random and have at least 30 observations\n",
    "- Population variances are known"
   ]
  },
  {
   "cell_type": "markdown",
   "metadata": {},
   "source": [
    "**Problem:** Given a random sample sized $n=500$ of people's income from a population having the standard deviation $\\sigma=5000$. With the significant level  $\\alpha=0.05$, can we conclude that the mean of the population $\\mu=A=14000$?\n",
    "\n",
    "First, state the hypotheses from the information:\n",
    "- $\\mbox{H}_0: \\mu = 14000$\n",
    "- $\\mbox{H}_1: \\mu \\neq 14000$\n",
    "\n",
    "Since we are doing a two-tailed test, the critical value will be $z_{\\alpha/2}=z_{0.025} = 1.96$. If $|Z|>1.96$, reject $\\mbox{H}_0$ and accept $\\mbox{H}_1$. However in this example, $|Z|=0.63$ and the corresponding p-value $=0.5287$, so $\\mbox{H}_0$ cannot be rejected. The formula for test statistic is:\n",
    "\n",
    "$$Z = \\frac{\\hat{\\mu}-A}{\\sigma/\\sqrt{n}}$$"
   ]
  },
  {
   "cell_type": "code",
   "execution_count": 25,
   "metadata": {},
   "outputs": [
    {
     "data": {
      "text/html": [
       "0.627798445362837"
      ],
      "text/latex": [
       "0.627798445362837"
      ],
      "text/markdown": [
       "0.627798445362837"
      ],
      "text/plain": [
       "[1] 0.6277984"
      ]
     },
     "metadata": {},
     "output_type": "display_data"
    }
   ],
   "source": [
    "sample = df$income\n",
    "\n",
    "n = sample %>% length\n",
    "mu = sample %>% mean\n",
    "sd = 5000\n",
    "\n",
    "z = (mu - 14000) / (sd / sqrt(n))\n",
    "z %>% abs"
   ]
  },
  {
   "cell_type": "markdown",
   "metadata": {},
   "source": [
    "**Problem:** The average income of male is $5000$ higher than female, true or false? Given $\\alpha = 0.05$, population standard deviations of income of male and female are $\\sigma_1=7000$ and $\\sigma_2=5000$, consecutively.\n",
    "\n",
    "The hypotheses:\n",
    "- $\\mbox{H}_0: \\mu_1 = \\mu_2+5000$\n",
    "- $\\mbox{H}_1: \\mu_1 > \\mu_2+5000$\n",
    "\n",
    "This is a right-tailed test, $z_{\\alpha}=z_{0.05} = 1.64$ will be taken. If $Z>1.64$, reject $\\mbox{H}_0$ and conclude that the average income of male is higher than female. In this example, $Z=2.57$ and the corresponding p-value is $0.0051$. The formula for test statistic is:\n",
    "\n",
    "$$Z = \\frac{\\hat{\\mu}_1-\\hat{\\mu}_2-A}{\\sqrt{\\sigma_1^2/n_1+\\sigma_2^2/n_2}}$$"
   ]
  },
  {
   "cell_type": "code",
   "execution_count": 26,
   "metadata": {},
   "outputs": [
    {
     "data": {
      "text/html": [
       "2.57347910582982"
      ],
      "text/latex": [
       "2.57347910582982"
      ],
      "text/markdown": [
       "2.57347910582982"
      ],
      "text/plain": [
       "[1] 2.573479"
      ]
     },
     "metadata": {},
     "output_type": "display_data"
    }
   ],
   "source": [
    "sample1 = (df %>% filter(gender=='male'))$income\n",
    "sample2 = (df %>% filter(gender=='female'))$income\n",
    "\n",
    "n1 = sample1 %>% length\n",
    "n2 = sample2 %>% length\n",
    "mu1 = sample1 %>% mean\n",
    "mu2 = sample2 %>% mean\n",
    "sd1 = 7000\n",
    "sd2 = 5000\n",
    "\n",
    "z = (mu1 - mu2 - 5000) / sqrt((sd1**2/n1) + (sd2**2/n2))\n",
    "z"
   ]
  },
  {
   "cell_type": "markdown",
   "metadata": {},
   "source": [
    "#### Proportion z-test\n",
    "Usage: Comparing the proportion of one or two populations.\n",
    "\n",
    "Assumptions:\n",
    "- Populations are normally distributed\n",
    "- Samples are random and have at least 30 observations"
   ]
  },
  {
   "cell_type": "markdown",
   "metadata": {},
   "source": [
    "**Problem:** In a large consignment of food packets, a random sample of $n=100$ packets revealed that 5 packets were leaking. Can we conclude that the population contains at least $A=10\\%$ of leaked packets at $\\alpha=0.05$?\n",
    "\n",
    "The hypotheses:\n",
    "- $\\mbox{H}_0: p\\geq0.1$\n",
    "- $\\mbox{H}_1: p<0.1$\n",
    "\n",
    "This is a left-tailed test, $\\mbox{H}_0$ will be rejected if $Z<-z_{0.05}=-1.64$. For $Z=-2.294$, the corresponding p-value is $0.011$ ($<0.05$). The formula for test statistic is:\n",
    "\n",
    "$$Z = \\frac{\\hat{p}-A}{\\sqrt{\\hat{p}(1-\\hat{p})/n}}$$"
   ]
  },
  {
   "cell_type": "code",
   "execution_count": 27,
   "metadata": {},
   "outputs": [
    {
     "data": {
      "text/html": [
       "-2.29415733870562"
      ],
      "text/latex": [
       "-2.29415733870562"
      ],
      "text/markdown": [
       "-2.29415733870562"
      ],
      "text/plain": [
       "[1] -2.294157"
      ]
     },
     "metadata": {},
     "output_type": "display_data"
    }
   ],
   "source": [
    "n = 100\n",
    "p = 5/100\n",
    "\n",
    "z = (p - 0.1) / sqrt(p * (1-p) / n)\n",
    "z"
   ]
  },
  {
   "cell_type": "markdown",
   "metadata": {},
   "source": [
    "**Problem:** A machine turns out 16 imperfect articles in a sample of $n_1=500$. After maintaining, it turns 3 imperfect articles in a sample of $n_2=100$. Has the machine improved after maintaining at significance level $\\alpha=0.05$?\n",
    "\n",
    "The hypotheses:\n",
    "- $\\mbox{H}_0: p_1=p_2$\n",
    "- $\\mbox{H}_1: p_1>p_2$\n",
    "\n",
    "If $Z>z_{0.05}=1.64$, reject $\\mbox{H}_0$. The formula for test statistic is:\n",
    "\n",
    "$$Z = \\frac{\\hat{p}_1-\\hat{p}_2-A}{\\sqrt{\\frac{\\hat{p}_1(1-\\hat{p}_1)}{n_1}+\\frac{\\hat{p}_2(1-\\hat{p}_2)}{n_2}}}$$"
   ]
  },
  {
   "cell_type": "code",
   "execution_count": 28,
   "metadata": {},
   "outputs": [
    {
     "data": {
      "text/html": [
       "0.106456497164033"
      ],
      "text/latex": [
       "0.106456497164033"
      ],
      "text/markdown": [
       "0.106456497164033"
      ],
      "text/plain": [
       "[1] 0.1064565"
      ]
     },
     "metadata": {},
     "output_type": "display_data"
    }
   ],
   "source": [
    "n1 = 500\n",
    "n2 = 100\n",
    "p1 = 16/500\n",
    "p2 = 3/100\n",
    "\n",
    "z = (p1 - p2) / sqrt(p1*(1-p1)/n1 + p2*(1-p2)/n2)\n",
    "z"
   ]
  },
  {
   "cell_type": "markdown",
   "metadata": {},
   "source": [
    "### 2.3. F-test\n",
    "\n",
    "Usage:\n",
    "- Comparing the variances of two populations\n",
    "- Being used in one-way ANOVA to compare means between groups (section 2.4)\n",
    "- Being used in multivariate linear regression to testing the significant of R-squared (section 3.2)\n",
    "\n",
    "Assumption:\n",
    "- Populations are normally distributed\n",
    "- Two random independent samples"
   ]
  },
  {
   "cell_type": "code",
   "execution_count": null,
   "metadata": {},
   "outputs": [],
   "source": [
    "library(tidyverse)\n",
    "library(readxl)"
   ]
  },
  {
   "cell_type": "code",
   "execution_count": null,
   "metadata": {},
   "outputs": [],
   "source": [
    "df <- read_excel('../data/hypothesis.xlsx')\n",
    "df %>% head"
   ]
  },
  {
   "cell_type": "markdown",
   "metadata": {},
   "source": [
    "**Problem:** With the significance level $\\alpha=0.05$, compare the population variances of income of male and female.\n",
    "\n",
    "The hypotheses:\n",
    "- $\\mbox{H}_0: \\sigma^2_1 = 5\\sigma^2_2$\n",
    "- $\\mbox{H}_1: \\sigma^2_1 > 5\\sigma^2_2$\n",
    "\n",
    "If p-value $<0.05$: reject $\\mbox{H}_0$. The formula for test statistic is:\n",
    "\n",
    "$$F = \\frac{1}{A}\\frac{\\hat{\\sigma}_1^2}{\\hat{\\sigma}_2^2}$$"
   ]
  },
  {
   "cell_type": "code",
   "execution_count": 31,
   "metadata": {},
   "outputs": [
    {
     "data": {
      "text/plain": [
       "\n",
       "\tF test to compare two variances\n",
       "\n",
       "data:  sample1 and sample2\n",
       "F = 1.2719, num df = 270, denom df = 228, p-value = 0.03028\n",
       "alternative hypothesis: true ratio of variances is greater than 5\n",
       "95 percent confidence interval:\n",
       " 5.151238      Inf\n",
       "sample estimates:\n",
       "ratio of variances \n",
       "          6.359427 \n"
      ]
     },
     "metadata": {},
     "output_type": "display_data"
    }
   ],
   "source": [
    "sample1 = (df %>% filter(gender=='male'))$income\n",
    "sample2 = (df %>% filter(gender=='female'))$income\n",
    "\n",
    "var.test(sample1, sample2, ratio=5, alternative='greater', conf.level=0.95)"
   ]
  },
  {
   "cell_type": "markdown",
   "metadata": {},
   "source": [
    "### 2.4. T-test"
   ]
  },
  {
   "cell_type": "code",
   "execution_count": 32,
   "metadata": {},
   "outputs": [],
   "source": [
    "library(tidyverse)\n",
    "library(readxl)"
   ]
  },
  {
   "cell_type": "code",
   "execution_count": 33,
   "metadata": {
    "tags": [
     "output_scroll"
    ]
   },
   "outputs": [
    {
     "data": {
      "text/html": [
       "<table>\n",
       "<caption>A tibble: 6 × 23</caption>\n",
       "<thead>\n",
       "\t<tr><th scope=col>Code</th><th scope=col>area</th><th scope=col>gender</th><th scope=col>age</th><th scope=col>age_group</th><th scope=col>year_of_school</th><th scope=col>degree</th><th scope=col>job</th><th scope=col>know_english</th><th scope=col>know_france</th><th scope=col>...</th><th scope=col>flight_date</th><th scope=col>flight_status</th><th scope=col>professionally_staff</th><th scope=col>customer_service</th><th scope=col>diversity_product</th><th scope=col>good_price</th><th scope=col>easily_transaction</th><th scope=col>goodlooking_staff</th><th scope=col>diversity_flighttime</th><th scope=col>good_construction</th></tr>\n",
       "\t<tr><th scope=col>&lt;dbl&gt;</th><th scope=col>&lt;chr&gt;</th><th scope=col>&lt;chr&gt;</th><th scope=col>&lt;dbl&gt;</th><th scope=col>&lt;chr&gt;</th><th scope=col>&lt;dbl&gt;</th><th scope=col>&lt;chr&gt;</th><th scope=col>&lt;chr&gt;</th><th scope=col>&lt;dbl&gt;</th><th scope=col>&lt;dbl&gt;</th><th scope=col>...</th><th scope=col>&lt;chr&gt;</th><th scope=col>&lt;dbl&gt;</th><th scope=col>&lt;dbl&gt;</th><th scope=col>&lt;dbl&gt;</th><th scope=col>&lt;dbl&gt;</th><th scope=col>&lt;dbl&gt;</th><th scope=col>&lt;dbl&gt;</th><th scope=col>&lt;dbl&gt;</th><th scope=col>&lt;dbl&gt;</th><th scope=col>&lt;dbl&gt;</th></tr>\n",
       "</thead>\n",
       "<tbody>\n",
       "\t<tr><td>1</td><td>central </td><td>female</td><td>69</td><td>middle</td><td>16</td><td>master   </td><td>manager</td><td>1</td><td>1</td><td>...</td><td>01/05/2013</td><td>1</td><td>2</td><td>2</td><td>1</td><td>1</td><td>2</td><td>2</td><td>1</td><td>1</td></tr>\n",
       "\t<tr><td>2</td><td>southern</td><td>female</td><td>50</td><td>middle</td><td>12</td><td>highshool</td><td>officer</td><td>0</td><td>0</td><td>...</td><td>01/05/2013</td><td>1</td><td>3</td><td>3</td><td>3</td><td>2</td><td>3</td><td>3</td><td>2</td><td>3</td></tr>\n",
       "\t<tr><td>3</td><td>northern</td><td>male  </td><td>73</td><td>elder </td><td>12</td><td>highshool</td><td>officer</td><td>1</td><td>0</td><td>...</td><td>01/05/2013</td><td>1</td><td>2</td><td>2</td><td>1</td><td>2</td><td>3</td><td>5</td><td>1</td><td>1</td></tr>\n",
       "\t<tr><td>4</td><td>northern</td><td>female</td><td>73</td><td>elder </td><td>12</td><td>highshool</td><td>officer</td><td>0</td><td>0</td><td>...</td><td>01/05/2013</td><td>1</td><td>5</td><td>3</td><td>2</td><td>4</td><td>5</td><td>3</td><td>2</td><td>2</td></tr>\n",
       "\t<tr><td>5</td><td>central </td><td>male  </td><td>69</td><td>middle</td><td>16</td><td>master   </td><td>officer</td><td>1</td><td>0</td><td>...</td><td>01/05/2013</td><td>0</td><td>3</td><td>3</td><td>3</td><td>3</td><td>3</td><td>3</td><td>3</td><td>3</td></tr>\n",
       "\t<tr><td>6</td><td>northern</td><td>female</td><td>72</td><td>elder </td><td>12</td><td>highshool</td><td>sale   </td><td>0</td><td>0</td><td>...</td><td>01/05/2013</td><td>0</td><td>5</td><td>5</td><td>2</td><td>2</td><td>5</td><td>5</td><td>2</td><td>2</td></tr>\n",
       "</tbody>\n",
       "</table>\n"
      ],
      "text/latex": [
       "A tibble: 6 × 23\n",
       "\\begin{tabular}{lllllllllllllllllllll}\n",
       " Code & area & gender & age & age\\_group & year\\_of\\_school & degree & job & know\\_english & know\\_france & ... & flight\\_date & flight\\_status & professionally\\_staff & customer\\_service & diversity\\_product & good\\_price & easily\\_transaction & goodlooking\\_staff & diversity\\_flighttime & good\\_construction\\\\\n",
       " <dbl> & <chr> & <chr> & <dbl> & <chr> & <dbl> & <chr> & <chr> & <dbl> & <dbl> & ... & <chr> & <dbl> & <dbl> & <dbl> & <dbl> & <dbl> & <dbl> & <dbl> & <dbl> & <dbl>\\\\\n",
       "\\hline\n",
       "\t 1 & central  & female & 69 & middle & 16 & master    & manager & 1 & 1 & ... & 01/05/2013 & 1 & 2 & 2 & 1 & 1 & 2 & 2 & 1 & 1\\\\\n",
       "\t 2 & southern & female & 50 & middle & 12 & highshool & officer & 0 & 0 & ... & 01/05/2013 & 1 & 3 & 3 & 3 & 2 & 3 & 3 & 2 & 3\\\\\n",
       "\t 3 & northern & male   & 73 & elder  & 12 & highshool & officer & 1 & 0 & ... & 01/05/2013 & 1 & 2 & 2 & 1 & 2 & 3 & 5 & 1 & 1\\\\\n",
       "\t 4 & northern & female & 73 & elder  & 12 & highshool & officer & 0 & 0 & ... & 01/05/2013 & 1 & 5 & 3 & 2 & 4 & 5 & 3 & 2 & 2\\\\\n",
       "\t 5 & central  & male   & 69 & middle & 16 & master    & officer & 1 & 0 & ... & 01/05/2013 & 0 & 3 & 3 & 3 & 3 & 3 & 3 & 3 & 3\\\\\n",
       "\t 6 & northern & female & 72 & elder  & 12 & highshool & sale    & 0 & 0 & ... & 01/05/2013 & 0 & 5 & 5 & 2 & 2 & 5 & 5 & 2 & 2\\\\\n",
       "\\end{tabular}\n"
      ],
      "text/markdown": [
       "\n",
       "A tibble: 6 × 23\n",
       "\n",
       "| Code &lt;dbl&gt; | area &lt;chr&gt; | gender &lt;chr&gt; | age &lt;dbl&gt; | age_group &lt;chr&gt; | year_of_school &lt;dbl&gt; | degree &lt;chr&gt; | job &lt;chr&gt; | know_english &lt;dbl&gt; | know_france &lt;dbl&gt; | ... ... | flight_date &lt;chr&gt; | flight_status &lt;dbl&gt; | professionally_staff &lt;dbl&gt; | customer_service &lt;dbl&gt; | diversity_product &lt;dbl&gt; | good_price &lt;dbl&gt; | easily_transaction &lt;dbl&gt; | goodlooking_staff &lt;dbl&gt; | diversity_flighttime &lt;dbl&gt; | good_construction &lt;dbl&gt; |\n",
       "|---|---|---|---|---|---|---|---|---|---|---|---|---|---|---|---|---|---|---|---|---|\n",
       "| 1 | central  | female | 69 | middle | 16 | master    | manager | 1 | 1 | ... | 01/05/2013 | 1 | 2 | 2 | 1 | 1 | 2 | 2 | 1 | 1 |\n",
       "| 2 | southern | female | 50 | middle | 12 | highshool | officer | 0 | 0 | ... | 01/05/2013 | 1 | 3 | 3 | 3 | 2 | 3 | 3 | 2 | 3 |\n",
       "| 3 | northern | male   | 73 | elder  | 12 | highshool | officer | 1 | 0 | ... | 01/05/2013 | 1 | 2 | 2 | 1 | 2 | 3 | 5 | 1 | 1 |\n",
       "| 4 | northern | female | 73 | elder  | 12 | highshool | officer | 0 | 0 | ... | 01/05/2013 | 1 | 5 | 3 | 2 | 4 | 5 | 3 | 2 | 2 |\n",
       "| 5 | central  | male   | 69 | middle | 16 | master    | officer | 1 | 0 | ... | 01/05/2013 | 0 | 3 | 3 | 3 | 3 | 3 | 3 | 3 | 3 |\n",
       "| 6 | northern | female | 72 | elder  | 12 | highshool | sale    | 0 | 0 | ... | 01/05/2013 | 0 | 5 | 5 | 2 | 2 | 5 | 5 | 2 | 2 |\n",
       "\n"
      ],
      "text/plain": [
       "  Code area     gender age age_group year_of_school degree    job    \n",
       "1 1    central  female 69  middle    16             master    manager\n",
       "2 2    southern female 50  middle    12             highshool officer\n",
       "3 3    northern male   73  elder     12             highshool officer\n",
       "4 4    northern female 73  elder     12             highshool officer\n",
       "5 5    central  male   69  middle    16             master    officer\n",
       "6 6    northern female 72  elder     12             highshool sale   \n",
       "  know_english know_france ... flight_date flight_status professionally_staff\n",
       "1 1            1           ... 01/05/2013  1             2                   \n",
       "2 0            0           ... 01/05/2013  1             3                   \n",
       "3 1            0           ... 01/05/2013  1             2                   \n",
       "4 0            0           ... 01/05/2013  1             5                   \n",
       "5 1            0           ... 01/05/2013  0             3                   \n",
       "6 0            0           ... 01/05/2013  0             5                   \n",
       "  customer_service diversity_product good_price easily_transaction\n",
       "1 2                1                 1          2                 \n",
       "2 3                3                 2          3                 \n",
       "3 2                1                 2          3                 \n",
       "4 3                2                 4          5                 \n",
       "5 3                3                 3          3                 \n",
       "6 5                2                 2          5                 \n",
       "  goodlooking_staff diversity_flighttime good_construction\n",
       "1 2                 1                    1                \n",
       "2 3                 2                    3                \n",
       "3 5                 1                    1                \n",
       "4 3                 2                    2                \n",
       "5 3                 3                    3                \n",
       "6 5                 2                    2                "
      ]
     },
     "metadata": {},
     "output_type": "display_data"
    }
   ],
   "source": [
    "df <- read_excel('../data/hypothesis.xlsx')\n",
    "df %>% head"
   ]
  },
  {
   "cell_type": "markdown",
   "metadata": {},
   "source": [
    "#### One-sample mean\n",
    "Usage: To compare the mean of a population when its variance is unknown.\n",
    "\n",
    "Assumption:\n",
    "- The population is normally distributed\n",
    "- The sample is random"
   ]
  },
  {
   "cell_type": "markdown",
   "metadata": {},
   "source": [
    "**Problem:** With the confidence level $\\alpha=0.05$, the mean of income is $13000$ or not?\n",
    "\n",
    "The hypotheses:\n",
    "- $\\mbox{H}_0: \\mu=13000$\n",
    "- $\\mbox{H}_1: \\mu\\neq13000$\n",
    "\n",
    "The formula for test statistic is:\n",
    "\n",
    "$$T = \\frac{\\hat{\\mu}-A}{\\hat\\sigma/\\sqrt{n}}$$"
   ]
  },
  {
   "cell_type": "code",
   "execution_count": 34,
   "metadata": {},
   "outputs": [
    {
     "data": {
      "text/plain": [
       "\n",
       "\tOne Sample t-test\n",
       "\n",
       "data:  sample\n",
       "t = 2.6905, df = 499, p-value = 0.007374\n",
       "alternative hypothesis: true mean is not equal to 13000\n",
       "95 percent confidence interval:\n",
       " 13231.88 14487.36\n",
       "sample estimates:\n",
       "mean of x \n",
       " 13859.62 \n"
      ]
     },
     "metadata": {},
     "output_type": "display_data"
    }
   ],
   "source": [
    "sample = df$income\n",
    "t.test(sample, mu=13000, alternative='two.sided')"
   ]
  },
  {
   "cell_type": "markdown",
   "metadata": {},
   "source": [
    "#### Independent samples\n",
    "Usage: To compare the means of two population using their independent samples. A f-test should be used first to check the equality of the two population variances.\n",
    "\n",
    "Assumptions:\n",
    "- Two populations are normally distributed\n",
    "- Two samples are independent and random\n",
    "- Two variances are equal"
   ]
  },
  {
   "cell_type": "markdown",
   "metadata": {},
   "source": [
    "**Problem:** With $\\alpha=0.05$, the average income of male and female are equal, true or false?\n",
    "\n",
    "The hypotheses:\n",
    "- $\\mbox{H}_0: \\mu_1 = \\mu_2$\n",
    "- $\\mbox{H}_1: \\mu_1 \\neq \\mu_2$\n",
    "\n",
    "If $\\sigma_1^2 \\neq \\sigma_2^2$ (this example - already tested in section 2.2), the formula for test statistic is:\n",
    "\n",
    "$$T = \\frac{\\hat{\\mu}_1-\\hat{\\mu}_2-A}{\\sqrt{\\frac{\\hat{\\sigma}_1^2}{n_1}+\\frac{\\hat{\\sigma}_2^2}{n_2}}}$$\n",
    "\n",
    "If $\\sigma_1^2 = \\sigma_2^2$, the test statistic is:\n",
    "\n",
    "$$T = \\frac{\\hat{\\mu}_1-\\hat{\\mu}_2-A}{\\hat\\sigma_p \\sqrt{\\frac{1}{n_1}+\\frac{1}{n_2}}}$$\n",
    "\n",
    "where\n",
    "\n",
    "$$\\hat\\sigma_p = \\sqrt{\\frac{(n_1-1)\\hat{\\sigma}_1^2 + (n_2-1)\\hat{\\sigma}_2^2}{n_1+n_2-2}}$$\n",
    "\n",
    "is the pooled standard deviation of the two samples."
   ]
  },
  {
   "cell_type": "code",
   "execution_count": 35,
   "metadata": {},
   "outputs": [
    {
     "data": {
      "text/plain": [
       "\n",
       "\tWelch Two Sample t-test\n",
       "\n",
       "data:  sample1 and sample2\n",
       "t = 11.817, df = 364.87, p-value < 2.2e-16\n",
       "alternative hypothesis: true difference in means is not equal to 0\n",
       "95 percent confidence interval:\n",
       " 5323.120 7448.517\n",
       "sample estimates:\n",
       "mean of x mean of y \n",
       " 16784.32  10398.51 \n"
      ]
     },
     "metadata": {},
     "output_type": "display_data"
    }
   ],
   "source": [
    "sample1 = (df %>% filter(gender=='male'))$income\n",
    "sample2 = (df %>% filter(gender=='female'))$income\n",
    "\n",
    "t.test(sample1, sample2, var.equal=FALSE)"
   ]
  },
  {
   "cell_type": "code",
   "execution_count": 36,
   "metadata": {},
   "outputs": [
    {
     "data": {
      "text/plain": [
       "\n",
       "\tWelch Two Sample t-test\n",
       "\n",
       "data:  df$income by df$gender\n",
       "t = -11.817, df = 364.87, p-value < 2.2e-16\n",
       "alternative hypothesis: true difference in means is not equal to 0\n",
       "95 percent confidence interval:\n",
       " -7448.517 -5323.120\n",
       "sample estimates:\n",
       "mean in group female   mean in group male \n",
       "            10398.51             16784.32 \n"
      ]
     },
     "metadata": {},
     "output_type": "display_data"
    }
   ],
   "source": [
    "t.test(df$income ~ df$gender, var.equal=FALSE)"
   ]
  },
  {
   "cell_type": "markdown",
   "metadata": {},
   "source": [
    "**Problem:** Compare the average income of higher education group (at least 15 years) over the other group."
   ]
  },
  {
   "cell_type": "code",
   "execution_count": 37,
   "metadata": {},
   "outputs": [
    {
     "data": {
      "text/plain": [
       "\n",
       "\tF test to compare two variances\n",
       "\n",
       "data:  df$income by df$year_of_school >= 15\n",
       "F = 0.068841, num df = 262, denom df = 236, p-value < 2.2e-16\n",
       "alternative hypothesis: true ratio of variances is not equal to 1\n",
       "95 percent confidence interval:\n",
       " 0.05360573 0.08826216\n",
       "sample estimates:\n",
       "ratio of variances \n",
       "        0.06884143 \n"
      ]
     },
     "metadata": {},
     "output_type": "display_data"
    }
   ],
   "source": [
    "var.test(df$income ~ (df$year_of_school>=15))"
   ]
  },
  {
   "cell_type": "code",
   "execution_count": 38,
   "metadata": {},
   "outputs": [
    {
     "data": {
      "text/plain": [
       "\n",
       "\tWelch Two Sample t-test\n",
       "\n",
       "data:  df$income by df$year_of_school >= 15\n",
       "t = -13.275, df = 265.27, p-value < 2.2e-16\n",
       "alternative hypothesis: true difference in means is less than 0\n",
       "95 percent confidence interval:\n",
       "      -Inf -6614.743\n",
       "sample estimates:\n",
       "mean in group FALSE  mean in group TRUE \n",
       "           10279.03            17833.02 \n"
      ]
     },
     "metadata": {},
     "output_type": "display_data"
    }
   ],
   "source": [
    "# sample 1 will be group FALSE, sample 2 will be group TRUE\n",
    "t.test(df$income ~ (df$year_of_school>=15), var.equal=FALSE, alternative='less')"
   ]
  },
  {
   "cell_type": "markdown",
   "metadata": {},
   "source": [
    "#### Paired samples\n",
    "Usage: Comparing two population means, given their dependent samples. A paired samples t-test calculates the diffrence between paired observation and then performs a one-sample t-test.\n",
    "\n",
    "Assumptions:\n",
    "- The two populations should be both normally distributed\n",
    "- The two random samples come in pairs (before and after data for example)\n",
    "- Same sample sizes"
   ]
  },
  {
   "cell_type": "code",
   "execution_count": 39,
   "metadata": {},
   "outputs": [],
   "source": [
    "weight = data.frame(\n",
    "    before = c(72,77,84,79,74,67,74,77,79,89),\n",
    "    after = c(65,68,77,73,66,61,66,71,71,78)\n",
    ")"
   ]
  },
  {
   "cell_type": "markdown",
   "metadata": {},
   "source": [
    "**Problem:** With $\\alpha=0.05$, the average weight after is 8 kg less than before, true or false?\n",
    "\n",
    "The hypotheses:\n",
    "- $\\mbox{H}_0: \\mu_1-\\mu_2\\geq8$\n",
    "- $\\mbox{H}_1: \\mu_1-\\mu_2<8$\n",
    "\n",
    "The test statistic is:\n",
    "\n",
    "$$F = \\frac{\\hat\\mu_1-\\hat\\mu_2-A}{\\hat\\sigma_d/\\sqrt n} = \\frac{\\hat\\mu_d-A}{\\hat\\sigma_d/\\sqrt n}$$\n",
    "where\n",
    "- $\\hat\\mu_d$ is the sample mean of the differences\n",
    "- $\\hat\\sigma_d$ is the sample standard deviation of the differences"
   ]
  },
  {
   "cell_type": "code",
   "execution_count": 40,
   "metadata": {},
   "outputs": [
    {
     "data": {
      "text/plain": [
       "\n",
       "\tPaired t-test\n",
       "\n",
       "data:  sample1 and sample2\n",
       "t = -0.80178, df = 9, p-value = 0.2217\n",
       "alternative hypothesis: true difference in means is less than 8\n",
       "95 percent confidence interval:\n",
       "     -Inf 8.514517\n",
       "sample estimates:\n",
       "mean of the differences \n",
       "                    7.6 \n"
      ]
     },
     "metadata": {},
     "output_type": "display_data"
    }
   ],
   "source": [
    "sample1 = weight$before\n",
    "sample2 = weight$after\n",
    "\n",
    "t.test(sample1, sample2, mu=8, pair=TRUE, alternative='less')"
   ]
  },
  {
   "cell_type": "markdown",
   "metadata": {},
   "source": [
    "### 2.5. Chi-squared test\n",
    "Usage:\n",
    "- Comparing the propotions of two or more populations\n",
    "- Independence testing between qualitative variables\n",
    "\n",
    "Assumptions:\n",
    "- Populations are normally distributed"
   ]
  },
  {
   "cell_type": "code",
   "execution_count": 41,
   "metadata": {},
   "outputs": [],
   "source": [
    "library(tidyverse)\n",
    "library(readxl)"
   ]
  },
  {
   "cell_type": "code",
   "execution_count": 42,
   "metadata": {
    "tags": [
     "output_scroll"
    ]
   },
   "outputs": [
    {
     "data": {
      "text/html": [
       "<table>\n",
       "<caption>A tibble: 6 × 23</caption>\n",
       "<thead>\n",
       "\t<tr><th scope=col>Code</th><th scope=col>area</th><th scope=col>gender</th><th scope=col>age</th><th scope=col>age_group</th><th scope=col>year_of_school</th><th scope=col>degree</th><th scope=col>job</th><th scope=col>know_english</th><th scope=col>know_france</th><th scope=col>...</th><th scope=col>flight_date</th><th scope=col>flight_status</th><th scope=col>professionally_staff</th><th scope=col>customer_service</th><th scope=col>diversity_product</th><th scope=col>good_price</th><th scope=col>easily_transaction</th><th scope=col>goodlooking_staff</th><th scope=col>diversity_flighttime</th><th scope=col>good_construction</th></tr>\n",
       "\t<tr><th scope=col>&lt;dbl&gt;</th><th scope=col>&lt;chr&gt;</th><th scope=col>&lt;chr&gt;</th><th scope=col>&lt;dbl&gt;</th><th scope=col>&lt;chr&gt;</th><th scope=col>&lt;dbl&gt;</th><th scope=col>&lt;chr&gt;</th><th scope=col>&lt;chr&gt;</th><th scope=col>&lt;dbl&gt;</th><th scope=col>&lt;dbl&gt;</th><th scope=col>...</th><th scope=col>&lt;chr&gt;</th><th scope=col>&lt;dbl&gt;</th><th scope=col>&lt;dbl&gt;</th><th scope=col>&lt;dbl&gt;</th><th scope=col>&lt;dbl&gt;</th><th scope=col>&lt;dbl&gt;</th><th scope=col>&lt;dbl&gt;</th><th scope=col>&lt;dbl&gt;</th><th scope=col>&lt;dbl&gt;</th><th scope=col>&lt;dbl&gt;</th></tr>\n",
       "</thead>\n",
       "<tbody>\n",
       "\t<tr><td>1</td><td>central </td><td>female</td><td>69</td><td>middle</td><td>16</td><td>master   </td><td>manager</td><td>1</td><td>1</td><td>...</td><td>01/05/2013</td><td>1</td><td>2</td><td>2</td><td>1</td><td>1</td><td>2</td><td>2</td><td>1</td><td>1</td></tr>\n",
       "\t<tr><td>2</td><td>southern</td><td>female</td><td>50</td><td>middle</td><td>12</td><td>highshool</td><td>officer</td><td>0</td><td>0</td><td>...</td><td>01/05/2013</td><td>1</td><td>3</td><td>3</td><td>3</td><td>2</td><td>3</td><td>3</td><td>2</td><td>3</td></tr>\n",
       "\t<tr><td>3</td><td>northern</td><td>male  </td><td>73</td><td>elder </td><td>12</td><td>highshool</td><td>officer</td><td>1</td><td>0</td><td>...</td><td>01/05/2013</td><td>1</td><td>2</td><td>2</td><td>1</td><td>2</td><td>3</td><td>5</td><td>1</td><td>1</td></tr>\n",
       "\t<tr><td>4</td><td>northern</td><td>female</td><td>73</td><td>elder </td><td>12</td><td>highshool</td><td>officer</td><td>0</td><td>0</td><td>...</td><td>01/05/2013</td><td>1</td><td>5</td><td>3</td><td>2</td><td>4</td><td>5</td><td>3</td><td>2</td><td>2</td></tr>\n",
       "\t<tr><td>5</td><td>central </td><td>male  </td><td>69</td><td>middle</td><td>16</td><td>master   </td><td>officer</td><td>1</td><td>0</td><td>...</td><td>01/05/2013</td><td>0</td><td>3</td><td>3</td><td>3</td><td>3</td><td>3</td><td>3</td><td>3</td><td>3</td></tr>\n",
       "\t<tr><td>6</td><td>northern</td><td>female</td><td>72</td><td>elder </td><td>12</td><td>highshool</td><td>sale   </td><td>0</td><td>0</td><td>...</td><td>01/05/2013</td><td>0</td><td>5</td><td>5</td><td>2</td><td>2</td><td>5</td><td>5</td><td>2</td><td>2</td></tr>\n",
       "</tbody>\n",
       "</table>\n"
      ],
      "text/latex": [
       "A tibble: 6 × 23\n",
       "\\begin{tabular}{lllllllllllllllllllll}\n",
       " Code & area & gender & age & age\\_group & year\\_of\\_school & degree & job & know\\_english & know\\_france & ... & flight\\_date & flight\\_status & professionally\\_staff & customer\\_service & diversity\\_product & good\\_price & easily\\_transaction & goodlooking\\_staff & diversity\\_flighttime & good\\_construction\\\\\n",
       " <dbl> & <chr> & <chr> & <dbl> & <chr> & <dbl> & <chr> & <chr> & <dbl> & <dbl> & ... & <chr> & <dbl> & <dbl> & <dbl> & <dbl> & <dbl> & <dbl> & <dbl> & <dbl> & <dbl>\\\\\n",
       "\\hline\n",
       "\t 1 & central  & female & 69 & middle & 16 & master    & manager & 1 & 1 & ... & 01/05/2013 & 1 & 2 & 2 & 1 & 1 & 2 & 2 & 1 & 1\\\\\n",
       "\t 2 & southern & female & 50 & middle & 12 & highshool & officer & 0 & 0 & ... & 01/05/2013 & 1 & 3 & 3 & 3 & 2 & 3 & 3 & 2 & 3\\\\\n",
       "\t 3 & northern & male   & 73 & elder  & 12 & highshool & officer & 1 & 0 & ... & 01/05/2013 & 1 & 2 & 2 & 1 & 2 & 3 & 5 & 1 & 1\\\\\n",
       "\t 4 & northern & female & 73 & elder  & 12 & highshool & officer & 0 & 0 & ... & 01/05/2013 & 1 & 5 & 3 & 2 & 4 & 5 & 3 & 2 & 2\\\\\n",
       "\t 5 & central  & male   & 69 & middle & 16 & master    & officer & 1 & 0 & ... & 01/05/2013 & 0 & 3 & 3 & 3 & 3 & 3 & 3 & 3 & 3\\\\\n",
       "\t 6 & northern & female & 72 & elder  & 12 & highshool & sale    & 0 & 0 & ... & 01/05/2013 & 0 & 5 & 5 & 2 & 2 & 5 & 5 & 2 & 2\\\\\n",
       "\\end{tabular}\n"
      ],
      "text/markdown": [
       "\n",
       "A tibble: 6 × 23\n",
       "\n",
       "| Code &lt;dbl&gt; | area &lt;chr&gt; | gender &lt;chr&gt; | age &lt;dbl&gt; | age_group &lt;chr&gt; | year_of_school &lt;dbl&gt; | degree &lt;chr&gt; | job &lt;chr&gt; | know_english &lt;dbl&gt; | know_france &lt;dbl&gt; | ... ... | flight_date &lt;chr&gt; | flight_status &lt;dbl&gt; | professionally_staff &lt;dbl&gt; | customer_service &lt;dbl&gt; | diversity_product &lt;dbl&gt; | good_price &lt;dbl&gt; | easily_transaction &lt;dbl&gt; | goodlooking_staff &lt;dbl&gt; | diversity_flighttime &lt;dbl&gt; | good_construction &lt;dbl&gt; |\n",
       "|---|---|---|---|---|---|---|---|---|---|---|---|---|---|---|---|---|---|---|---|---|\n",
       "| 1 | central  | female | 69 | middle | 16 | master    | manager | 1 | 1 | ... | 01/05/2013 | 1 | 2 | 2 | 1 | 1 | 2 | 2 | 1 | 1 |\n",
       "| 2 | southern | female | 50 | middle | 12 | highshool | officer | 0 | 0 | ... | 01/05/2013 | 1 | 3 | 3 | 3 | 2 | 3 | 3 | 2 | 3 |\n",
       "| 3 | northern | male   | 73 | elder  | 12 | highshool | officer | 1 | 0 | ... | 01/05/2013 | 1 | 2 | 2 | 1 | 2 | 3 | 5 | 1 | 1 |\n",
       "| 4 | northern | female | 73 | elder  | 12 | highshool | officer | 0 | 0 | ... | 01/05/2013 | 1 | 5 | 3 | 2 | 4 | 5 | 3 | 2 | 2 |\n",
       "| 5 | central  | male   | 69 | middle | 16 | master    | officer | 1 | 0 | ... | 01/05/2013 | 0 | 3 | 3 | 3 | 3 | 3 | 3 | 3 | 3 |\n",
       "| 6 | northern | female | 72 | elder  | 12 | highshool | sale    | 0 | 0 | ... | 01/05/2013 | 0 | 5 | 5 | 2 | 2 | 5 | 5 | 2 | 2 |\n",
       "\n"
      ],
      "text/plain": [
       "  Code area     gender age age_group year_of_school degree    job    \n",
       "1 1    central  female 69  middle    16             master    manager\n",
       "2 2    southern female 50  middle    12             highshool officer\n",
       "3 3    northern male   73  elder     12             highshool officer\n",
       "4 4    northern female 73  elder     12             highshool officer\n",
       "5 5    central  male   69  middle    16             master    officer\n",
       "6 6    northern female 72  elder     12             highshool sale   \n",
       "  know_english know_france ... flight_date flight_status professionally_staff\n",
       "1 1            1           ... 01/05/2013  1             2                   \n",
       "2 0            0           ... 01/05/2013  1             3                   \n",
       "3 1            0           ... 01/05/2013  1             2                   \n",
       "4 0            0           ... 01/05/2013  1             5                   \n",
       "5 1            0           ... 01/05/2013  0             3                   \n",
       "6 0            0           ... 01/05/2013  0             5                   \n",
       "  customer_service diversity_product good_price easily_transaction\n",
       "1 2                1                 1          2                 \n",
       "2 3                3                 2          3                 \n",
       "3 2                1                 2          3                 \n",
       "4 3                2                 4          5                 \n",
       "5 3                3                 3          3                 \n",
       "6 5                2                 2          5                 \n",
       "  goodlooking_staff diversity_flighttime good_construction\n",
       "1 2                 1                    1                \n",
       "2 3                 2                    3                \n",
       "3 5                 1                    1                \n",
       "4 3                 2                    2                \n",
       "5 3                 3                    3                \n",
       "6 5                 2                    2                "
      ]
     },
     "metadata": {},
     "output_type": "display_data"
    }
   ],
   "source": [
    "df <- read_excel('../data/hypothesis.xlsx')\n",
    "df %>% head"
   ]
  },
  {
   "cell_type": "markdown",
   "metadata": {},
   "source": [
    "#### Dependence test\n",
    "**Problem**: Is there a relationship between `age_group` and `degree`?\n",
    "\n",
    "The hypotheses:\n",
    "- $\\mbox{H}_0:$ The two variables are independent\n",
    "- $\\mbox{H}_1:$ The two variables are dependent\n",
    "\n",
    "`age_group` and `degree` are said to be strongly related if p-value $<0.05$."
   ]
  },
  {
   "cell_type": "code",
   "execution_count": 43,
   "metadata": {},
   "outputs": [
    {
     "data": {
      "text/plain": [
       "\n",
       "\tPearson's Chi-squared test\n",
       "\n",
       "data:  var1 and var2\n",
       "X-squared = 84.746, df = 4, p-value < 2.2e-16\n"
      ]
     },
     "metadata": {},
     "output_type": "display_data"
    }
   ],
   "source": [
    "var1 <- df$age_group\n",
    "var2 <- df$degree\n",
    "\n",
    "chisq.test(var1, var2)"
   ]
  },
  {
   "cell_type": "markdown",
   "metadata": {},
   "source": [
    "#### Propotion test\n",
    "**Problem**: The number of officer is equal to the number of salesperson and 5 times greater than the number of managers, true or false?\n",
    "\n",
    "- $\\mbox{H}_0: p_1=1/11, p_2=p_3=5/11$\n",
    "- $\\mbox{H}_1$: There is at least one incorrect equation.\n",
    "\n",
    "If p-value $<0.05$ then reject $\\mbox{H}_0$."
   ]
  },
  {
   "cell_type": "code",
   "execution_count": 44,
   "metadata": {},
   "outputs": [
    {
     "name": "stderr",
     "output_type": "stream",
     "text": [
      "`summarise()` ungrouping output (override with `.groups` argument)\n",
      "\n"
     ]
    },
    {
     "data": {
      "text/html": [
       "<table>\n",
       "<caption>A tibble: 3 × 2</caption>\n",
       "<thead>\n",
       "\t<tr><th scope=col>job</th><th scope=col>count</th></tr>\n",
       "\t<tr><th scope=col>&lt;chr&gt;</th><th scope=col>&lt;int&gt;</th></tr>\n",
       "</thead>\n",
       "<tbody>\n",
       "\t<tr><td>manager</td><td> 44</td></tr>\n",
       "\t<tr><td>officer</td><td>239</td></tr>\n",
       "\t<tr><td>sale   </td><td>217</td></tr>\n",
       "</tbody>\n",
       "</table>\n"
      ],
      "text/latex": [
       "A tibble: 3 × 2\n",
       "\\begin{tabular}{ll}\n",
       " job & count\\\\\n",
       " <chr> & <int>\\\\\n",
       "\\hline\n",
       "\t manager &  44\\\\\n",
       "\t officer & 239\\\\\n",
       "\t sale    & 217\\\\\n",
       "\\end{tabular}\n"
      ],
      "text/markdown": [
       "\n",
       "A tibble: 3 × 2\n",
       "\n",
       "| job &lt;chr&gt; | count &lt;int&gt; |\n",
       "|---|---|\n",
       "| manager |  44 |\n",
       "| officer | 239 |\n",
       "| sale    | 217 |\n",
       "\n"
      ],
      "text/plain": [
       "  job     count\n",
       "1 manager  44  \n",
       "2 officer 239  \n",
       "3 sale    217  "
      ]
     },
     "metadata": {},
     "output_type": "display_data"
    }
   ],
   "source": [
    "apr1 <- df %>% group_by(job) %>% summarise(count=n())\n",
    "apr1"
   ]
  },
  {
   "cell_type": "code",
   "execution_count": 45,
   "metadata": {},
   "outputs": [
    {
     "data": {
      "text/plain": [
       "\n",
       "\t3-sample test for given proportions without continuity correction\n",
       "\n",
       "data:  apr1$count out of c(500, 500, 500), null probabilities c(1/11, 5/11, 5/11)\n",
       "X-squared = 2.0119, df = 3, p-value = 0.5699\n",
       "alternative hypothesis: two.sided\n",
       "null values:\n",
       "    prop 1     prop 2     prop 3 \n",
       "0.09090909 0.45454545 0.45454545 \n",
       "sample estimates:\n",
       "prop 1 prop 2 prop 3 \n",
       " 0.088  0.478  0.434 \n"
      ]
     },
     "metadata": {},
     "output_type": "display_data"
    }
   ],
   "source": [
    "prop.test(\n",
    "    apr1$count,\n",
    "    n=c(500, 500, 500),\n",
    "    p=c(1/11, 5/11, 5/11))"
   ]
  },
  {
   "cell_type": "markdown",
   "metadata": {},
   "source": [
    "### 2.6. ANOVA\n",
    "ANOVA (Analysis of Variance) is a technique involving a collection of statistical tests analyzing the difference of the means of two or more groups. The means is calculated from a quantitative variable; the groups are determined using qualitative variables."
   ]
  },
  {
   "cell_type": "markdown",
   "metadata": {},
   "source": [
    "#### One-factor ANOVA\n",
    "Usage: Compare multiple population means when you have one categorical variable containing at least three categories.\n",
    "\n",
    "Assumptions:\n",
    "- Populations are normally distributed\n",
    "- Samples are random\n",
    "- Homogeneity of variances\n",
    "\n",
    "The work flow:\n",
    "1. Test the homogeneity of variances, using one of the following test:\n",
    "    - Bartlett test (`bartlett.test()` function)\n",
    "    - Levene test (`car::leveneTest()` function)\n",
    "    - Fligner-Killeen test (`fligner.test()` function)\n",
    "2. Test the equality of population means:\n",
    "    - If the variances are equal, use the `aov()` function\n",
    "    - If the variances are not equal, use the `oneway.test()` function\n",
    "3. Post-hoc test to compare pairwise population means, using the `userfriendlyscience::oneway()` function:\n",
    "    - If the variances are equal, use Tukey HSD test (`posthoc='tukey'`)\n",
    "    - If the variances are not equal, use Games-Howell test (`posthoc='games-howell'`)"
   ]
  },
  {
   "cell_type": "code",
   "execution_count": 46,
   "metadata": {},
   "outputs": [],
   "source": [
    "library(tidyverse)\n",
    "library(readxl)"
   ]
  },
  {
   "cell_type": "code",
   "execution_count": 47,
   "metadata": {
    "tags": [
     "output_scroll"
    ]
   },
   "outputs": [
    {
     "data": {
      "text/html": [
       "<table>\n",
       "<caption>A tibble: 6 × 23</caption>\n",
       "<thead>\n",
       "\t<tr><th scope=col>Code</th><th scope=col>area</th><th scope=col>gender</th><th scope=col>age</th><th scope=col>age_group</th><th scope=col>year_of_school</th><th scope=col>degree</th><th scope=col>job</th><th scope=col>know_english</th><th scope=col>know_france</th><th scope=col>...</th><th scope=col>flight_date</th><th scope=col>flight_status</th><th scope=col>professionally_staff</th><th scope=col>customer_service</th><th scope=col>diversity_product</th><th scope=col>good_price</th><th scope=col>easily_transaction</th><th scope=col>goodlooking_staff</th><th scope=col>diversity_flighttime</th><th scope=col>good_construction</th></tr>\n",
       "\t<tr><th scope=col>&lt;dbl&gt;</th><th scope=col>&lt;chr&gt;</th><th scope=col>&lt;chr&gt;</th><th scope=col>&lt;dbl&gt;</th><th scope=col>&lt;chr&gt;</th><th scope=col>&lt;dbl&gt;</th><th scope=col>&lt;chr&gt;</th><th scope=col>&lt;chr&gt;</th><th scope=col>&lt;dbl&gt;</th><th scope=col>&lt;dbl&gt;</th><th scope=col>...</th><th scope=col>&lt;chr&gt;</th><th scope=col>&lt;dbl&gt;</th><th scope=col>&lt;dbl&gt;</th><th scope=col>&lt;dbl&gt;</th><th scope=col>&lt;dbl&gt;</th><th scope=col>&lt;dbl&gt;</th><th scope=col>&lt;dbl&gt;</th><th scope=col>&lt;dbl&gt;</th><th scope=col>&lt;dbl&gt;</th><th scope=col>&lt;dbl&gt;</th></tr>\n",
       "</thead>\n",
       "<tbody>\n",
       "\t<tr><td>1</td><td>central </td><td>female</td><td>69</td><td>middle</td><td>16</td><td>master   </td><td>manager</td><td>1</td><td>1</td><td>...</td><td>01/05/2013</td><td>1</td><td>2</td><td>2</td><td>1</td><td>1</td><td>2</td><td>2</td><td>1</td><td>1</td></tr>\n",
       "\t<tr><td>2</td><td>southern</td><td>female</td><td>50</td><td>middle</td><td>12</td><td>highshool</td><td>officer</td><td>0</td><td>0</td><td>...</td><td>01/05/2013</td><td>1</td><td>3</td><td>3</td><td>3</td><td>2</td><td>3</td><td>3</td><td>2</td><td>3</td></tr>\n",
       "\t<tr><td>3</td><td>northern</td><td>male  </td><td>73</td><td>elder </td><td>12</td><td>highshool</td><td>officer</td><td>1</td><td>0</td><td>...</td><td>01/05/2013</td><td>1</td><td>2</td><td>2</td><td>1</td><td>2</td><td>3</td><td>5</td><td>1</td><td>1</td></tr>\n",
       "\t<tr><td>4</td><td>northern</td><td>female</td><td>73</td><td>elder </td><td>12</td><td>highshool</td><td>officer</td><td>0</td><td>0</td><td>...</td><td>01/05/2013</td><td>1</td><td>5</td><td>3</td><td>2</td><td>4</td><td>5</td><td>3</td><td>2</td><td>2</td></tr>\n",
       "\t<tr><td>5</td><td>central </td><td>male  </td><td>69</td><td>middle</td><td>16</td><td>master   </td><td>officer</td><td>1</td><td>0</td><td>...</td><td>01/05/2013</td><td>0</td><td>3</td><td>3</td><td>3</td><td>3</td><td>3</td><td>3</td><td>3</td><td>3</td></tr>\n",
       "\t<tr><td>6</td><td>northern</td><td>female</td><td>72</td><td>elder </td><td>12</td><td>highshool</td><td>sale   </td><td>0</td><td>0</td><td>...</td><td>01/05/2013</td><td>0</td><td>5</td><td>5</td><td>2</td><td>2</td><td>5</td><td>5</td><td>2</td><td>2</td></tr>\n",
       "</tbody>\n",
       "</table>\n"
      ],
      "text/latex": [
       "A tibble: 6 × 23\n",
       "\\begin{tabular}{lllllllllllllllllllll}\n",
       " Code & area & gender & age & age\\_group & year\\_of\\_school & degree & job & know\\_english & know\\_france & ... & flight\\_date & flight\\_status & professionally\\_staff & customer\\_service & diversity\\_product & good\\_price & easily\\_transaction & goodlooking\\_staff & diversity\\_flighttime & good\\_construction\\\\\n",
       " <dbl> & <chr> & <chr> & <dbl> & <chr> & <dbl> & <chr> & <chr> & <dbl> & <dbl> & ... & <chr> & <dbl> & <dbl> & <dbl> & <dbl> & <dbl> & <dbl> & <dbl> & <dbl> & <dbl>\\\\\n",
       "\\hline\n",
       "\t 1 & central  & female & 69 & middle & 16 & master    & manager & 1 & 1 & ... & 01/05/2013 & 1 & 2 & 2 & 1 & 1 & 2 & 2 & 1 & 1\\\\\n",
       "\t 2 & southern & female & 50 & middle & 12 & highshool & officer & 0 & 0 & ... & 01/05/2013 & 1 & 3 & 3 & 3 & 2 & 3 & 3 & 2 & 3\\\\\n",
       "\t 3 & northern & male   & 73 & elder  & 12 & highshool & officer & 1 & 0 & ... & 01/05/2013 & 1 & 2 & 2 & 1 & 2 & 3 & 5 & 1 & 1\\\\\n",
       "\t 4 & northern & female & 73 & elder  & 12 & highshool & officer & 0 & 0 & ... & 01/05/2013 & 1 & 5 & 3 & 2 & 4 & 5 & 3 & 2 & 2\\\\\n",
       "\t 5 & central  & male   & 69 & middle & 16 & master    & officer & 1 & 0 & ... & 01/05/2013 & 0 & 3 & 3 & 3 & 3 & 3 & 3 & 3 & 3\\\\\n",
       "\t 6 & northern & female & 72 & elder  & 12 & highshool & sale    & 0 & 0 & ... & 01/05/2013 & 0 & 5 & 5 & 2 & 2 & 5 & 5 & 2 & 2\\\\\n",
       "\\end{tabular}\n"
      ],
      "text/markdown": [
       "\n",
       "A tibble: 6 × 23\n",
       "\n",
       "| Code &lt;dbl&gt; | area &lt;chr&gt; | gender &lt;chr&gt; | age &lt;dbl&gt; | age_group &lt;chr&gt; | year_of_school &lt;dbl&gt; | degree &lt;chr&gt; | job &lt;chr&gt; | know_english &lt;dbl&gt; | know_france &lt;dbl&gt; | ... ... | flight_date &lt;chr&gt; | flight_status &lt;dbl&gt; | professionally_staff &lt;dbl&gt; | customer_service &lt;dbl&gt; | diversity_product &lt;dbl&gt; | good_price &lt;dbl&gt; | easily_transaction &lt;dbl&gt; | goodlooking_staff &lt;dbl&gt; | diversity_flighttime &lt;dbl&gt; | good_construction &lt;dbl&gt; |\n",
       "|---|---|---|---|---|---|---|---|---|---|---|---|---|---|---|---|---|---|---|---|---|\n",
       "| 1 | central  | female | 69 | middle | 16 | master    | manager | 1 | 1 | ... | 01/05/2013 | 1 | 2 | 2 | 1 | 1 | 2 | 2 | 1 | 1 |\n",
       "| 2 | southern | female | 50 | middle | 12 | highshool | officer | 0 | 0 | ... | 01/05/2013 | 1 | 3 | 3 | 3 | 2 | 3 | 3 | 2 | 3 |\n",
       "| 3 | northern | male   | 73 | elder  | 12 | highshool | officer | 1 | 0 | ... | 01/05/2013 | 1 | 2 | 2 | 1 | 2 | 3 | 5 | 1 | 1 |\n",
       "| 4 | northern | female | 73 | elder  | 12 | highshool | officer | 0 | 0 | ... | 01/05/2013 | 1 | 5 | 3 | 2 | 4 | 5 | 3 | 2 | 2 |\n",
       "| 5 | central  | male   | 69 | middle | 16 | master    | officer | 1 | 0 | ... | 01/05/2013 | 0 | 3 | 3 | 3 | 3 | 3 | 3 | 3 | 3 |\n",
       "| 6 | northern | female | 72 | elder  | 12 | highshool | sale    | 0 | 0 | ... | 01/05/2013 | 0 | 5 | 5 | 2 | 2 | 5 | 5 | 2 | 2 |\n",
       "\n"
      ],
      "text/plain": [
       "  Code area     gender age age_group year_of_school degree    job    \n",
       "1 1    central  female 69  middle    16             master    manager\n",
       "2 2    southern female 50  middle    12             highshool officer\n",
       "3 3    northern male   73  elder     12             highshool officer\n",
       "4 4    northern female 73  elder     12             highshool officer\n",
       "5 5    central  male   69  middle    16             master    officer\n",
       "6 6    northern female 72  elder     12             highshool sale   \n",
       "  know_english know_france ... flight_date flight_status professionally_staff\n",
       "1 1            1           ... 01/05/2013  1             2                   \n",
       "2 0            0           ... 01/05/2013  1             3                   \n",
       "3 1            0           ... 01/05/2013  1             2                   \n",
       "4 0            0           ... 01/05/2013  1             5                   \n",
       "5 1            0           ... 01/05/2013  0             3                   \n",
       "6 0            0           ... 01/05/2013  0             5                   \n",
       "  customer_service diversity_product good_price easily_transaction\n",
       "1 2                1                 1          2                 \n",
       "2 3                3                 2          3                 \n",
       "3 2                1                 2          3                 \n",
       "4 3                2                 4          5                 \n",
       "5 3                3                 3          3                 \n",
       "6 5                2                 2          5                 \n",
       "  goodlooking_staff diversity_flighttime good_construction\n",
       "1 2                 1                    1                \n",
       "2 3                 2                    3                \n",
       "3 5                 1                    1                \n",
       "4 3                 2                    2                \n",
       "5 3                 3                    3                \n",
       "6 5                 2                    2                "
      ]
     },
     "metadata": {},
     "output_type": "display_data"
    }
   ],
   "source": [
    "df <- read_excel('../data/hypothesis.xlsx')\n",
    "df %>% head"
   ]
  },
  {
   "cell_type": "markdown",
   "metadata": {},
   "source": [
    "**Problem:** Is there a difference in average income between 3 areas (Central, Southern and Northern)? If there is, which group differs from the others?"
   ]
  },
  {
   "cell_type": "markdown",
   "metadata": {},
   "source": [
    "**Step 1:** Check the equality of population variances. If p-value $<0.05$, then reject $\\mbox{H}_0$. The hypotheses:\n",
    "- $\\mbox{H}_0: \\sigma_1^2 = \\sigma_2^2 = \\dots = \\sigma_k^2$\n",
    "- $\\mbox{H}_1:$ Exist at least one pair $\\sigma_i^2 \\neq \\sigma_j^2 $ where $i \\neq j$"
   ]
  },
  {
   "cell_type": "code",
   "execution_count": 48,
   "metadata": {},
   "outputs": [
    {
     "data": {
      "text/plain": [
       "\n",
       "\tBartlett test of homogeneity of variances\n",
       "\n",
       "data:  income by area\n",
       "Bartlett's K-squared = 865.48, df = 2, p-value < 2.2e-16\n"
      ]
     },
     "metadata": {},
     "output_type": "display_data"
    }
   ],
   "source": [
    "bartlett.test(income ~ area, data=df)"
   ]
  },
  {
   "cell_type": "code",
   "execution_count": 49,
   "metadata": {},
   "outputs": [
    {
     "data": {
      "text/plain": [
       "\n",
       "\tFligner-Killeen test of homogeneity of variances\n",
       "\n",
       "data:  income by area\n",
       "Fligner-Killeen:med chi-squared = 243.66, df = 2, p-value < 2.2e-16\n"
      ]
     },
     "metadata": {},
     "output_type": "display_data"
    }
   ],
   "source": [
    "fligner.test(income ~ area, data=df)"
   ]
  },
  {
   "cell_type": "markdown",
   "metadata": {},
   "source": [
    "**Step 2:** Test wether the population means are equal or not. If p-value $<0.05$, then reject $\\mbox{H}_0$. The hypothese:\n",
    "- $\\mbox{H}_0: $\\mu_1 = \\mu_2 = \\dots = \\mu_k$\n",
    "- $\\mbox{H}_1: There is at least one pair $\\mu_i \\neq \\mu_j $ where $i \\neq j$"
   ]
  },
  {
   "cell_type": "code",
   "execution_count": 50,
   "metadata": {},
   "outputs": [
    {
     "data": {
      "text/plain": [
       "             Df    Sum Sq   Mean Sq F value Pr(>F)    \n",
       "area          2 1.202e+10 6.012e+09   222.2 <2e-16 ***\n",
       "Residuals   497 1.345e+10 2.705e+07                   \n",
       "---\n",
       "Signif. codes:  0 '***' 0.001 '**' 0.01 '*' 0.05 '.' 0.1 ' ' 1"
      ]
     },
     "metadata": {},
     "output_type": "display_data"
    }
   ],
   "source": [
    "aov(income ~ area, data=df) %>% summary"
   ]
  },
  {
   "cell_type": "code",
   "execution_count": 51,
   "metadata": {},
   "outputs": [
    {
     "data": {
      "text/plain": [
       "\n",
       "\tOne-way analysis of means (not assuming equal variances)\n",
       "\n",
       "data:  income and area\n",
       "F = 441.89, num df = 2.00, denom df = 283.47, p-value < 2.2e-16\n"
      ]
     },
     "metadata": {},
     "output_type": "display_data"
    }
   ],
   "source": [
    "oneway.test(income ~ area, data=df)"
   ]
  },
  {
   "cell_type": "markdown",
   "metadata": {},
   "source": [
    "**Step 3:** Post-hoc test to compare pairwise means. Any pair having p-value $<0.05$ can be considered significantly diffrerent in mean. Notice that the `oneway()` funtion from the `userfriendlyscience` library includes all neccessary tests for 3 steps."
   ]
  },
  {
   "cell_type": "code",
   "execution_count": 12,
   "metadata": {},
   "outputs": [
    {
     "data": {
      "text/plain": [
       "               _                           \n",
       "platform       x86_64-w64-mingw32          \n",
       "arch           x86_64                      \n",
       "os             mingw32                     \n",
       "system         x86_64, mingw32             \n",
       "status                                     \n",
       "major          3                           \n",
       "minor          6.1                         \n",
       "year           2019                        \n",
       "month          07                          \n",
       "day            05                          \n",
       "svn rev        76782                       \n",
       "language       R                           \n",
       "version.string R version 3.6.1 (2019-07-05)\n",
       "nickname       Action of the Toes          "
      ]
     },
     "metadata": {},
     "output_type": "display_data"
    }
   ],
   "source": [
    "version"
   ]
  },
  {
   "cell_type": "code",
   "execution_count": 5,
   "metadata": {},
   "outputs": [
    {
     "name": "stderr",
     "output_type": "stream",
     "text": [
      "Installing package into 'E:/Documents/R/win-library/3.6'\n",
      "(as 'lib' is unspecified)\n",
      "\n",
      "Warning message:\n",
      "\"dependency 'fBasics' is not available\"\n"
     ]
    },
    {
     "name": "stdout",
     "output_type": "stream",
     "text": [
      "package 'userfriendlyscience' successfully unpacked and MD5 sums checked\n",
      "\n",
      "The downloaded binary packages are in\n",
      "\tC:\\Users\\Admin\\AppData\\Local\\Temp\\RtmpwZEu7H\\downloaded_packages\n"
     ]
    }
   ],
   "source": [
    "install.packages('userfriendlyscience',\n",
    "                  contriburl='https://userfriendlyscience.com/src/contrib',\n",
    "                  type='win.binary', dependencies=TRUE)"
   ]
  },
  {
   "cell_type": "code",
   "execution_count": 7,
   "metadata": {},
   "outputs": [
    {
     "name": "stderr",
     "output_type": "stream",
     "text": [
      "Installing package into 'E:/Documents/R/win-library/3.6'\n",
      "(as 'lib' is unspecified)\n",
      "\n",
      "also installing the dependencies 'timeSeries', 'spatial', 'gss', 'stabledist'\n",
      "\n",
      "\n"
     ]
    },
    {
     "name": "stdout",
     "output_type": "stream",
     "text": [
      "package 'timeSeries' successfully unpacked and MD5 sums checked\n",
      "package 'spatial' successfully unpacked and MD5 sums checked\n",
      "package 'gss' successfully unpacked and MD5 sums checked\n",
      "package 'stabledist' successfully unpacked and MD5 sums checked\n",
      "package 'fBasics' successfully unpacked and MD5 sums checked\n",
      "\n",
      "The downloaded binary packages are in\n",
      "\tC:\\Users\\Admin\\AppData\\Local\\Temp\\RtmpwZEu7H\\downloaded_packages\n"
     ]
    }
   ],
   "source": [
    "install.packages('fBasics')"
   ]
  },
  {
   "cell_type": "code",
   "execution_count": 9,
   "metadata": {},
   "outputs": [
    {
     "name": "stderr",
     "output_type": "stream",
     "text": [
      "Installing package into 'E:/Documents/R/win-library/3.6'\n",
      "(as 'lib' is unspecified)\n",
      "\n",
      "Warning message:\n",
      "\"package 'foreign' is not available (for R version 3.6.1)\"\n"
     ]
    }
   ],
   "source": [
    "install.packages('foreign')"
   ]
  },
  {
   "cell_type": "code",
   "execution_count": 8,
   "metadata": {},
   "outputs": [
    {
     "ename": "ERROR",
     "evalue": "Error: package or namespace load failed for 'userfriendlyscience' in loadNamespace(j <- i[[1L]], c(lib.loc, .libPaths()), versionCheck = vI[[j]]):\n there is no package called 'foreign'\n",
     "output_type": "error",
     "traceback": [
      "Error: package or namespace load failed for 'userfriendlyscience' in loadNamespace(j <- i[[1L]], c(lib.loc, .libPaths()), versionCheck = vI[[j]]):\n there is no package called 'foreign'\nTraceback:\n",
      "1. library(userfriendlyscience)",
      "2. tryCatch({\n .     attr(package, \"LibPath\") <- which.lib.loc\n .     ns <- loadNamespace(package, lib.loc)\n .     env <- attachNamespace(ns, pos = pos, deps, exclude, include.only)\n . }, error = function(e) {\n .     P <- if (!is.null(cc <- conditionCall(e))) \n .         paste(\" in\", deparse(cc)[1L])\n .     else \"\"\n .     msg <- gettextf(\"package or namespace load failed for %s%s:\\n %s\", \n .         sQuote(package), P, conditionMessage(e))\n .     if (logical.return) \n .         message(paste(\"Error:\", msg), domain = NA)\n .     else stop(msg, call. = FALSE, domain = NA)\n . })",
      "3. tryCatchList(expr, classes, parentenv, handlers)",
      "4. tryCatchOne(expr, names, parentenv, handlers[[1L]])",
      "5. value[[3L]](cond)",
      "6. stop(msg, call. = FALSE, domain = NA)"
     ]
    }
   ],
   "source": [
    "library(userfriendlyscience)\n",
    "oneway(df$income, df$area, posthoc='games-howell', levene=TRUE)"
   ]
  },
  {
   "cell_type": "markdown",
   "metadata": {},
   "source": [
    "### 2.7. Distribution test\n",
    "The Kolmogorov-Smirnov test (KS test) is used to test whether a random variable follows a specific distribution or not. The test statistic is calculated as the difference between the empirical CDF of the observed variable and the CDF of the reference distribution. In R, the `ks.test()` function performs Kolmogorov-Smirnov test.\n",
    "\n",
    "Here are the popular distributions that `ks.test()` supports:\n",
    "\n",
    "Distribution|R function|Parameters         |\n",
    ":-----------|:---------|:------------------|\n",
    "Binomial    |`pbinom`  |`size`, `prob`     |\n",
    "Poisson     |`ppois`   |`lambda`           |\n",
    "Unifrom     |`punif`   |`min`, `max`       |\n",
    "Normal      |`pnorm`   |`mean`, `sd`       |\n",
    "Cauchy      |`pcauchy` |`location`, `scale`|\n",
    "T           |`pt`      |`df`               |\n",
    "F           |`pf`      |`df1`, `df2`       |\n",
    "Chi-squared |`pchisq`  |`df`               |\n",
    "Exponential |`pexp`    |`rate`             |\n",
    "Beta        |`pbeta`   |`shape1`, `shape2` |\n",
    "Gamma       |`pgamma`  |`shape`, `scale`   |"
   ]
  },
  {
   "cell_type": "code",
   "execution_count": null,
   "metadata": {},
   "outputs": [],
   "source": [
    "library(tidyverse)\n",
    "library(readxl)"
   ]
  },
  {
   "cell_type": "code",
   "execution_count": null,
   "metadata": {},
   "outputs": [],
   "source": [
    "x = rnorm(n=1000, mean=0, sd=2)\n",
    "ks.test(x, pnorm, mean=0, sd=2)"
   ]
  },
  {
   "cell_type": "markdown",
   "metadata": {},
   "source": [
    "## Summary\n",
    "Type  |Usage| Test statistic             \n",
    ":----------|:--------------|:--------------------------\n",
    "Z-test|1. Comparing the means of 1 or 2 populations <br> 2. Comparing the proportions of 1 or 2 populations|$Z$|\n",
    "F-test|Comparing the variances of 2 populations|$F$|\n",
    "T-test|Comparing the means of 1 or 2 populations|$T$|\n",
    "Chi-squared test|1. Comparing the propotions of 3 or more populations <br> 2. Testing of qualitative variables replationship|$\\chi^2$|\n",
    "ANOVA|Comparing the means of 3 population or more|$F$|\n",
    "KS test|Testing of distribution|$D$|"
   ]
  },
  {
   "cell_type": "markdown",
   "metadata": {},
   "source": [
    "## 3. Regression"
   ]
  },
  {
   "cell_type": "code",
   "execution_count": null,
   "metadata": {},
   "outputs": [],
   "source": [
    "library(tidyverse)\n",
    "library(readxl)"
   ]
  },
  {
   "cell_type": "code",
   "execution_count": null,
   "metadata": {},
   "outputs": [],
   "source": [
    "df <- read_excel('../data/hypothesis.xlsx')\n",
    "df %>% head"
   ]
  },
  {
   "cell_type": "markdown",
   "metadata": {},
   "source": [
    "### 3.1. Univariate"
   ]
  },
  {
   "cell_type": "code",
   "execution_count": null,
   "metadata": {},
   "outputs": [],
   "source": [
    "model <- lm(income ~ year_of_school, data=df)\n",
    "model %>% summary"
   ]
  },
  {
   "cell_type": "code",
   "execution_count": null,
   "metadata": {},
   "outputs": [],
   "source": [
    "# predict income for other years of school\n",
    "new.income <- data.frame(year_of_school=c(10, 16))\n",
    "predict(model, new.income)"
   ]
  },
  {
   "cell_type": "markdown",
   "metadata": {},
   "source": [
    "### 3.2. Multivariate"
   ]
  },
  {
   "cell_type": "markdown",
   "metadata": {},
   "source": [
    "**Problem:**\n",
    "1. Wrtie the regression function representing how the two variables `year_of_school` and `age` affect `income`.\n",
    "2. Predict income of a person who have 16 years of school and 40 years old"
   ]
  },
  {
   "cell_type": "code",
   "execution_count": null,
   "metadata": {},
   "outputs": [],
   "source": [
    "linear <- lm(income~year_of_school+age, data=df)\n",
    "linear %>% summary"
   ]
  },
  {
   "cell_type": "code",
   "execution_count": null,
   "metadata": {},
   "outputs": [],
   "source": [
    "linear %>% anova"
   ]
  },
  {
   "cell_type": "code",
   "execution_count": null,
   "metadata": {},
   "outputs": [],
   "source": [
    "res <- linear %>% residuals"
   ]
  },
  {
   "cell_type": "code",
   "execution_count": null,
   "metadata": {},
   "outputs": [],
   "source": [
    "# residuals isn't normally distributed\n",
    "ks.test(res,'pnorm')"
   ]
  },
  {
   "cell_type": "code",
   "execution_count": null,
   "metadata": {},
   "outputs": [],
   "source": [
    "# heteroskedasticity : the variance of the residuals isn't equal\n",
    "car::ncvTest(linear)"
   ]
  },
  {
   "cell_type": "code",
   "execution_count": null,
   "metadata": {},
   "outputs": [],
   "source": [
    "# multi co-linear: no multicollinearity\n",
    "car::vif(linear)"
   ]
  },
  {
   "cell_type": "code",
   "execution_count": null,
   "metadata": {},
   "outputs": [],
   "source": [
    "# residual are not autocorrelation\n",
    "car::durbinWatsonTest(linear)"
   ]
  },
  {
   "cell_type": "code",
   "execution_count": null,
   "metadata": {},
   "outputs": [],
   "source": [
    "# predict income with age = 40 and year of school = 16\n",
    "pred <- data.frame(year_of_school=16, age=40)\n",
    "predict(linear, pred)"
   ]
  }
 ],
 "metadata": {
  "kernelspec": {
   "display_name": "R",
   "language": "R",
   "name": "ir"
  },
  "language_info": {
   "codemirror_mode": "r",
   "file_extension": ".r",
   "mimetype": "text/x-r-source",
   "name": "R",
   "pygments_lexer": "r",
   "version": "4.1.3"
  },
  "toc-autonumbering": false,
  "toc-showtags": false
 },
 "nbformat": 4,
 "nbformat_minor": 4
}
