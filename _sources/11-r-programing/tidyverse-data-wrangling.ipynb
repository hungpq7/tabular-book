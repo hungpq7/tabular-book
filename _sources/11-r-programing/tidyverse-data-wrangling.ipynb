{
 "cells": [
  {
   "cell_type": "markdown",
   "metadata": {
    "execution": {
     "iopub.execute_input": "2023-01-25T16:52:20.229794Z",
     "iopub.status.busy": "2023-01-25T16:52:20.227845Z",
     "iopub.status.idle": "2023-01-25T16:52:20.304254Z",
     "shell.execute_reply": "2023-01-25T16:52:20.302454Z"
    },
    "tags": []
   },
   "source": [
    "# Tidyverse: Data Wrangling"
   ]
  },
  {
   "cell_type": "markdown",
   "metadata": {},
   "source": [
    "## 1. Introduction"
   ]
  },
  {
   "cell_type": "markdown",
   "metadata": {},
   "source": [
    "### 1.1. Tidyverse\n",
    "This topic introduces the [`tidyverse`] library, which is a collection of R packages desgined for Data Science. `library(tidyverse)` will load the following core packages:\n",
    "- `ggplot2` for data visualization,\n",
    "- `dplyr` for data manipulation,\n",
    "- `tidyr` for data tidying,\n",
    "- `readr` for data import,\n",
    "- `purrr` for functional programming,\n",
    "- `tibble` for tibbles, a modern re-imagining of data frames,\n",
    "- `stringr` for strings,\n",
    "- `forcats` for factors.\n",
    "\n",
    "Tidyverse also includes many other useful packages such as `lubridate` and `magrittr`, however each of them need to be loaded separately.\n",
    "\n",
    "[`tidyverse`]: https://www.tidyverse.org/packages/"
   ]
  },
  {
   "cell_type": "code",
   "execution_count": 1,
   "metadata": {},
   "outputs": [
    {
     "name": "stderr",
     "output_type": "stream",
     "text": [
      "Warning message:\n",
      "\"package 'tidyverse' was built under R version 3.6.3\"\n",
      "-- \u001b[1mAttaching packages\u001b[22m --------------------------------------- tidyverse 1.3.0 --\n",
      "\n",
      "\u001b[32mv\u001b[39m \u001b[34mggplot2\u001b[39m 3.3.2     \u001b[32mv\u001b[39m \u001b[34mpurrr  \u001b[39m 0.3.4\n",
      "\u001b[32mv\u001b[39m \u001b[34mtibble \u001b[39m 3.0.1     \u001b[32mv\u001b[39m \u001b[34mdplyr  \u001b[39m 1.0.0\n",
      "\u001b[32mv\u001b[39m \u001b[34mtidyr  \u001b[39m 1.1.0     \u001b[32mv\u001b[39m \u001b[34mstringr\u001b[39m 1.4.0\n",
      "\u001b[32mv\u001b[39m \u001b[34mreadr  \u001b[39m 1.3.1     \u001b[32mv\u001b[39m \u001b[34mforcats\u001b[39m 0.5.0\n",
      "\n",
      "Warning message:\n",
      "\"package 'ggplot2' was built under R version 3.6.3\"\n",
      "Warning message:\n",
      "\"package 'tibble' was built under R version 3.6.3\"\n",
      "Warning message:\n",
      "\"package 'tidyr' was built under R version 3.6.3\"\n",
      "Warning message:\n",
      "\"package 'readr' was built under R version 3.6.3\"\n",
      "Warning message:\n",
      "\"package 'purrr' was built under R version 3.6.3\"\n",
      "Warning message:\n",
      "\"package 'dplyr' was built under R version 3.6.3\"\n",
      "Warning message:\n",
      "\"package 'forcats' was built under R version 3.6.3\"\n",
      "-- \u001b[1mConflicts\u001b[22m ------------------------------------------ tidyverse_conflicts() --\n",
      "\u001b[31mx\u001b[39m \u001b[34mdplyr\u001b[39m::\u001b[32mfilter()\u001b[39m masks \u001b[34mstats\u001b[39m::filter()\n",
      "\u001b[31mx\u001b[39m \u001b[34mdplyr\u001b[39m::\u001b[32mlag()\u001b[39m    masks \u001b[34mstats\u001b[39m::lag()\n",
      "\n"
     ]
    }
   ],
   "source": [
    "library(tidyverse)"
   ]
  },
  {
   "cell_type": "markdown",
   "metadata": {},
   "source": [
    "### 1.2. The pipe\n",
    "The pipe `%>%` from the `magrittr` library provides a brand new way writing functions. It uses an object as the first argument of a function, allowing you to read code from left to right insted of from inside to outside. Packages in Tidyverse automatically load the pipe for you, so it's not required to use `magrittr` explicitly.\n",
    "\n"
   ]
  },
  {
   "cell_type": "code",
   "execution_count": null,
   "metadata": {},
   "outputs": [],
   "source": [
    "library(magrittr)"
   ]
  },
  {
   "cell_type": "code",
   "execution_count": 3,
   "metadata": {},
   "outputs": [
    {
     "data": {
      "text/html": [
       "3"
      ],
      "text/latex": [
       "3"
      ],
      "text/markdown": [
       "3"
      ],
      "text/plain": [
       "[1] 3"
      ]
     },
     "metadata": {},
     "output_type": "display_data"
    }
   ],
   "source": [
    "floor(sqrt(15))"
   ]
  },
  {
   "cell_type": "code",
   "execution_count": 4,
   "metadata": {},
   "outputs": [
    {
     "data": {
      "text/html": [
       "3"
      ],
      "text/latex": [
       "3"
      ],
      "text/markdown": [
       "3"
      ],
      "text/plain": [
       "[1] 3"
      ]
     },
     "metadata": {},
     "output_type": "display_data"
    }
   ],
   "source": [
    "15 %>% sqrt %>% floor"
   ]
  },
  {
   "cell_type": "markdown",
   "metadata": {},
   "source": [
    "## 2. Data exploring"
   ]
  },
  {
   "cell_type": "markdown",
   "metadata": {},
   "source": [
    "### 2.1. Analysis of observations"
   ]
  },
  {
   "cell_type": "code",
   "execution_count": 5,
   "metadata": {},
   "outputs": [],
   "source": [
    "library(dplyr)"
   ]
  },
  {
   "cell_type": "code",
   "execution_count": 6,
   "metadata": {},
   "outputs": [],
   "source": [
    "mtcars <- read.csv('../data/mtcars.csv')"
   ]
  },
  {
   "cell_type": "markdown",
   "metadata": {},
   "source": [
    "#### Top and bottom rows"
   ]
  },
  {
   "cell_type": "code",
   "execution_count": 7,
   "metadata": {},
   "outputs": [
    {
     "data": {
      "text/html": [
       "<table>\n",
       "<caption>A data.frame: 6 × 12</caption>\n",
       "<thead>\n",
       "\t<tr><th></th><th scope=col>model</th><th scope=col>mpg</th><th scope=col>cyl</th><th scope=col>disp</th><th scope=col>hp</th><th scope=col>drat</th><th scope=col>wt</th><th scope=col>qsec</th><th scope=col>vs</th><th scope=col>am</th><th scope=col>gear</th><th scope=col>carb</th></tr>\n",
       "\t<tr><th></th><th scope=col>&lt;fct&gt;</th><th scope=col>&lt;dbl&gt;</th><th scope=col>&lt;int&gt;</th><th scope=col>&lt;dbl&gt;</th><th scope=col>&lt;int&gt;</th><th scope=col>&lt;dbl&gt;</th><th scope=col>&lt;dbl&gt;</th><th scope=col>&lt;dbl&gt;</th><th scope=col>&lt;int&gt;</th><th scope=col>&lt;int&gt;</th><th scope=col>&lt;int&gt;</th><th scope=col>&lt;int&gt;</th></tr>\n",
       "</thead>\n",
       "<tbody>\n",
       "\t<tr><th scope=row>1</th><td>Mazda RX4        </td><td>21.0</td><td>6</td><td>160</td><td>110</td><td>3.90</td><td>2.620</td><td>16.46</td><td>0</td><td>1</td><td>4</td><td>4</td></tr>\n",
       "\t<tr><th scope=row>2</th><td>Mazda RX4 Wag    </td><td>21.0</td><td>6</td><td>160</td><td>110</td><td>3.90</td><td>2.875</td><td>17.02</td><td>0</td><td>1</td><td>4</td><td>4</td></tr>\n",
       "\t<tr><th scope=row>3</th><td>Datsun 710       </td><td>22.8</td><td>4</td><td>108</td><td> 93</td><td>3.85</td><td>2.320</td><td>18.61</td><td>1</td><td>1</td><td>4</td><td>1</td></tr>\n",
       "\t<tr><th scope=row>4</th><td>Hornet 4 Drive   </td><td>21.4</td><td>6</td><td>258</td><td>110</td><td>3.08</td><td>3.215</td><td>19.44</td><td>1</td><td>0</td><td>3</td><td>1</td></tr>\n",
       "\t<tr><th scope=row>5</th><td>Hornet Sportabout</td><td>18.7</td><td>8</td><td>360</td><td>175</td><td>3.15</td><td>3.440</td><td>17.02</td><td>0</td><td>0</td><td>3</td><td>2</td></tr>\n",
       "\t<tr><th scope=row>6</th><td>Valiant          </td><td>18.1</td><td>6</td><td>225</td><td>105</td><td>2.76</td><td>3.460</td><td>20.22</td><td>1</td><td>0</td><td>3</td><td>1</td></tr>\n",
       "</tbody>\n",
       "</table>\n"
      ],
      "text/latex": [
       "A data.frame: 6 × 12\n",
       "\\begin{tabular}{r|llllllllllll}\n",
       "  & model & mpg & cyl & disp & hp & drat & wt & qsec & vs & am & gear & carb\\\\\n",
       "  & <fct> & <dbl> & <int> & <dbl> & <int> & <dbl> & <dbl> & <dbl> & <int> & <int> & <int> & <int>\\\\\n",
       "\\hline\n",
       "\t1 & Mazda RX4         & 21.0 & 6 & 160 & 110 & 3.90 & 2.620 & 16.46 & 0 & 1 & 4 & 4\\\\\n",
       "\t2 & Mazda RX4 Wag     & 21.0 & 6 & 160 & 110 & 3.90 & 2.875 & 17.02 & 0 & 1 & 4 & 4\\\\\n",
       "\t3 & Datsun 710        & 22.8 & 4 & 108 &  93 & 3.85 & 2.320 & 18.61 & 1 & 1 & 4 & 1\\\\\n",
       "\t4 & Hornet 4 Drive    & 21.4 & 6 & 258 & 110 & 3.08 & 3.215 & 19.44 & 1 & 0 & 3 & 1\\\\\n",
       "\t5 & Hornet Sportabout & 18.7 & 8 & 360 & 175 & 3.15 & 3.440 & 17.02 & 0 & 0 & 3 & 2\\\\\n",
       "\t6 & Valiant           & 18.1 & 6 & 225 & 105 & 2.76 & 3.460 & 20.22 & 1 & 0 & 3 & 1\\\\\n",
       "\\end{tabular}\n"
      ],
      "text/markdown": [
       "\n",
       "A data.frame: 6 × 12\n",
       "\n",
       "| <!--/--> | model &lt;fct&gt; | mpg &lt;dbl&gt; | cyl &lt;int&gt; | disp &lt;dbl&gt; | hp &lt;int&gt; | drat &lt;dbl&gt; | wt &lt;dbl&gt; | qsec &lt;dbl&gt; | vs &lt;int&gt; | am &lt;int&gt; | gear &lt;int&gt; | carb &lt;int&gt; |\n",
       "|---|---|---|---|---|---|---|---|---|---|---|---|---|\n",
       "| 1 | Mazda RX4         | 21.0 | 6 | 160 | 110 | 3.90 | 2.620 | 16.46 | 0 | 1 | 4 | 4 |\n",
       "| 2 | Mazda RX4 Wag     | 21.0 | 6 | 160 | 110 | 3.90 | 2.875 | 17.02 | 0 | 1 | 4 | 4 |\n",
       "| 3 | Datsun 710        | 22.8 | 4 | 108 |  93 | 3.85 | 2.320 | 18.61 | 1 | 1 | 4 | 1 |\n",
       "| 4 | Hornet 4 Drive    | 21.4 | 6 | 258 | 110 | 3.08 | 3.215 | 19.44 | 1 | 0 | 3 | 1 |\n",
       "| 5 | Hornet Sportabout | 18.7 | 8 | 360 | 175 | 3.15 | 3.440 | 17.02 | 0 | 0 | 3 | 2 |\n",
       "| 6 | Valiant           | 18.1 | 6 | 225 | 105 | 2.76 | 3.460 | 20.22 | 1 | 0 | 3 | 1 |\n",
       "\n"
      ],
      "text/plain": [
       "  model             mpg  cyl disp hp  drat wt    qsec  vs am gear carb\n",
       "1 Mazda RX4         21.0 6   160  110 3.90 2.620 16.46 0  1  4    4   \n",
       "2 Mazda RX4 Wag     21.0 6   160  110 3.90 2.875 17.02 0  1  4    4   \n",
       "3 Datsun 710        22.8 4   108   93 3.85 2.320 18.61 1  1  4    1   \n",
       "4 Hornet 4 Drive    21.4 6   258  110 3.08 3.215 19.44 1  0  3    1   \n",
       "5 Hornet Sportabout 18.7 8   360  175 3.15 3.440 17.02 0  0  3    2   \n",
       "6 Valiant           18.1 6   225  105 2.76 3.460 20.22 1  0  3    1   "
      ]
     },
     "metadata": {},
     "output_type": "display_data"
    }
   ],
   "source": [
    "mtcars %>% head"
   ]
  },
  {
   "cell_type": "code",
   "execution_count": 8,
   "metadata": {},
   "outputs": [
    {
     "data": {
      "text/html": [
       "<table>\n",
       "<caption>A data.frame: 3 × 12</caption>\n",
       "<thead>\n",
       "\t<tr><th></th><th scope=col>model</th><th scope=col>mpg</th><th scope=col>cyl</th><th scope=col>disp</th><th scope=col>hp</th><th scope=col>drat</th><th scope=col>wt</th><th scope=col>qsec</th><th scope=col>vs</th><th scope=col>am</th><th scope=col>gear</th><th scope=col>carb</th></tr>\n",
       "\t<tr><th></th><th scope=col>&lt;fct&gt;</th><th scope=col>&lt;dbl&gt;</th><th scope=col>&lt;int&gt;</th><th scope=col>&lt;dbl&gt;</th><th scope=col>&lt;int&gt;</th><th scope=col>&lt;dbl&gt;</th><th scope=col>&lt;dbl&gt;</th><th scope=col>&lt;dbl&gt;</th><th scope=col>&lt;int&gt;</th><th scope=col>&lt;int&gt;</th><th scope=col>&lt;int&gt;</th><th scope=col>&lt;int&gt;</th></tr>\n",
       "</thead>\n",
       "<tbody>\n",
       "\t<tr><th scope=row>30</th><td>Ferrari Dino </td><td>19.7</td><td>6</td><td>145</td><td>175</td><td>3.62</td><td>2.77</td><td>15.5</td><td>0</td><td>1</td><td>5</td><td>6</td></tr>\n",
       "\t<tr><th scope=row>31</th><td>Maserati Bora</td><td>15.0</td><td>8</td><td>301</td><td>335</td><td>3.54</td><td>3.57</td><td>14.6</td><td>0</td><td>1</td><td>5</td><td>8</td></tr>\n",
       "\t<tr><th scope=row>32</th><td>Volvo 142E   </td><td>21.4</td><td>4</td><td>121</td><td>109</td><td>4.11</td><td>2.78</td><td>18.6</td><td>1</td><td>1</td><td>4</td><td>2</td></tr>\n",
       "</tbody>\n",
       "</table>\n"
      ],
      "text/latex": [
       "A data.frame: 3 × 12\n",
       "\\begin{tabular}{r|llllllllllll}\n",
       "  & model & mpg & cyl & disp & hp & drat & wt & qsec & vs & am & gear & carb\\\\\n",
       "  & <fct> & <dbl> & <int> & <dbl> & <int> & <dbl> & <dbl> & <dbl> & <int> & <int> & <int> & <int>\\\\\n",
       "\\hline\n",
       "\t30 & Ferrari Dino  & 19.7 & 6 & 145 & 175 & 3.62 & 2.77 & 15.5 & 0 & 1 & 5 & 6\\\\\n",
       "\t31 & Maserati Bora & 15.0 & 8 & 301 & 335 & 3.54 & 3.57 & 14.6 & 0 & 1 & 5 & 8\\\\\n",
       "\t32 & Volvo 142E    & 21.4 & 4 & 121 & 109 & 4.11 & 2.78 & 18.6 & 1 & 1 & 4 & 2\\\\\n",
       "\\end{tabular}\n"
      ],
      "text/markdown": [
       "\n",
       "A data.frame: 3 × 12\n",
       "\n",
       "| <!--/--> | model &lt;fct&gt; | mpg &lt;dbl&gt; | cyl &lt;int&gt; | disp &lt;dbl&gt; | hp &lt;int&gt; | drat &lt;dbl&gt; | wt &lt;dbl&gt; | qsec &lt;dbl&gt; | vs &lt;int&gt; | am &lt;int&gt; | gear &lt;int&gt; | carb &lt;int&gt; |\n",
       "|---|---|---|---|---|---|---|---|---|---|---|---|---|\n",
       "| 30 | Ferrari Dino  | 19.7 | 6 | 145 | 175 | 3.62 | 2.77 | 15.5 | 0 | 1 | 5 | 6 |\n",
       "| 31 | Maserati Bora | 15.0 | 8 | 301 | 335 | 3.54 | 3.57 | 14.6 | 0 | 1 | 5 | 8 |\n",
       "| 32 | Volvo 142E    | 21.4 | 4 | 121 | 109 | 4.11 | 2.78 | 18.6 | 1 | 1 | 4 | 2 |\n",
       "\n"
      ],
      "text/plain": [
       "   model         mpg  cyl disp hp  drat wt   qsec vs am gear carb\n",
       "30 Ferrari Dino  19.7 6   145  175 3.62 2.77 15.5 0  1  5    6   \n",
       "31 Maserati Bora 15.0 8   301  335 3.54 3.57 14.6 0  1  5    8   \n",
       "32 Volvo 142E    21.4 4   121  109 4.11 2.78 18.6 1  1  4    2   "
      ]
     },
     "metadata": {},
     "output_type": "display_data"
    }
   ],
   "source": [
    "mtcars %>% tail(3)"
   ]
  },
  {
   "cell_type": "markdown",
   "metadata": {},
   "source": [
    "#### Slicing specific rows"
   ]
  },
  {
   "cell_type": "code",
   "execution_count": 9,
   "metadata": {},
   "outputs": [
    {
     "data": {
      "text/html": [
       "<table>\n",
       "<caption>A data.frame: 4 × 12</caption>\n",
       "<thead>\n",
       "\t<tr><th scope=col>model</th><th scope=col>mpg</th><th scope=col>cyl</th><th scope=col>disp</th><th scope=col>hp</th><th scope=col>drat</th><th scope=col>wt</th><th scope=col>qsec</th><th scope=col>vs</th><th scope=col>am</th><th scope=col>gear</th><th scope=col>carb</th></tr>\n",
       "\t<tr><th scope=col>&lt;fct&gt;</th><th scope=col>&lt;dbl&gt;</th><th scope=col>&lt;int&gt;</th><th scope=col>&lt;dbl&gt;</th><th scope=col>&lt;int&gt;</th><th scope=col>&lt;dbl&gt;</th><th scope=col>&lt;dbl&gt;</th><th scope=col>&lt;dbl&gt;</th><th scope=col>&lt;int&gt;</th><th scope=col>&lt;int&gt;</th><th scope=col>&lt;int&gt;</th><th scope=col>&lt;int&gt;</th></tr>\n",
       "</thead>\n",
       "<tbody>\n",
       "\t<tr><td>Mazda RX4    </td><td>21.0</td><td>6</td><td>160</td><td>110</td><td>3.90</td><td>2.620</td><td>16.46</td><td>0</td><td>1</td><td>4</td><td>4</td></tr>\n",
       "\t<tr><td>Mazda RX4 Wag</td><td>21.0</td><td>6</td><td>160</td><td>110</td><td>3.90</td><td>2.875</td><td>17.02</td><td>0</td><td>1</td><td>4</td><td>4</td></tr>\n",
       "\t<tr><td>Datsun 710   </td><td>22.8</td><td>4</td><td>108</td><td> 93</td><td>3.85</td><td>2.320</td><td>18.61</td><td>1</td><td>1</td><td>4</td><td>1</td></tr>\n",
       "\t<tr><td>Valiant      </td><td>18.1</td><td>6</td><td>225</td><td>105</td><td>2.76</td><td>3.460</td><td>20.22</td><td>1</td><td>0</td><td>3</td><td>1</td></tr>\n",
       "</tbody>\n",
       "</table>\n"
      ],
      "text/latex": [
       "A data.frame: 4 × 12\n",
       "\\begin{tabular}{llllllllllll}\n",
       " model & mpg & cyl & disp & hp & drat & wt & qsec & vs & am & gear & carb\\\\\n",
       " <fct> & <dbl> & <int> & <dbl> & <int> & <dbl> & <dbl> & <dbl> & <int> & <int> & <int> & <int>\\\\\n",
       "\\hline\n",
       "\t Mazda RX4     & 21.0 & 6 & 160 & 110 & 3.90 & 2.620 & 16.46 & 0 & 1 & 4 & 4\\\\\n",
       "\t Mazda RX4 Wag & 21.0 & 6 & 160 & 110 & 3.90 & 2.875 & 17.02 & 0 & 1 & 4 & 4\\\\\n",
       "\t Datsun 710    & 22.8 & 4 & 108 &  93 & 3.85 & 2.320 & 18.61 & 1 & 1 & 4 & 1\\\\\n",
       "\t Valiant       & 18.1 & 6 & 225 & 105 & 2.76 & 3.460 & 20.22 & 1 & 0 & 3 & 1\\\\\n",
       "\\end{tabular}\n"
      ],
      "text/markdown": [
       "\n",
       "A data.frame: 4 × 12\n",
       "\n",
       "| model &lt;fct&gt; | mpg &lt;dbl&gt; | cyl &lt;int&gt; | disp &lt;dbl&gt; | hp &lt;int&gt; | drat &lt;dbl&gt; | wt &lt;dbl&gt; | qsec &lt;dbl&gt; | vs &lt;int&gt; | am &lt;int&gt; | gear &lt;int&gt; | carb &lt;int&gt; |\n",
       "|---|---|---|---|---|---|---|---|---|---|---|---|\n",
       "| Mazda RX4     | 21.0 | 6 | 160 | 110 | 3.90 | 2.620 | 16.46 | 0 | 1 | 4 | 4 |\n",
       "| Mazda RX4 Wag | 21.0 | 6 | 160 | 110 | 3.90 | 2.875 | 17.02 | 0 | 1 | 4 | 4 |\n",
       "| Datsun 710    | 22.8 | 4 | 108 |  93 | 3.85 | 2.320 | 18.61 | 1 | 1 | 4 | 1 |\n",
       "| Valiant       | 18.1 | 6 | 225 | 105 | 2.76 | 3.460 | 20.22 | 1 | 0 | 3 | 1 |\n",
       "\n"
      ],
      "text/plain": [
       "  model         mpg  cyl disp hp  drat wt    qsec  vs am gear carb\n",
       "1 Mazda RX4     21.0 6   160  110 3.90 2.620 16.46 0  1  4    4   \n",
       "2 Mazda RX4 Wag 21.0 6   160  110 3.90 2.875 17.02 0  1  4    4   \n",
       "3 Datsun 710    22.8 4   108   93 3.85 2.320 18.61 1  1  4    1   \n",
       "4 Valiant       18.1 6   225  105 2.76 3.460 20.22 1  0  3    1   "
      ]
     },
     "metadata": {},
     "output_type": "display_data"
    }
   ],
   "source": [
    "mtcars %>% slice(1:3, 6)"
   ]
  },
  {
   "cell_type": "markdown",
   "metadata": {},
   "source": [
    "### 1.2. Analysis of attributes"
   ]
  },
  {
   "cell_type": "code",
   "execution_count": 10,
   "metadata": {},
   "outputs": [],
   "source": [
    "library(dplyr)"
   ]
  },
  {
   "cell_type": "code",
   "execution_count": 11,
   "metadata": {},
   "outputs": [],
   "source": [
    "mtcars <- read.csv('../data/mtcars.csv')"
   ]
  },
  {
   "cell_type": "code",
   "execution_count": 12,
   "metadata": {},
   "outputs": [
    {
     "data": {
      "text/html": [
       "<style>\n",
       ".list-inline {list-style: none; margin:0; padding: 0}\n",
       ".list-inline>li {display: inline-block}\n",
       ".list-inline>li:not(:last-child)::after {content: \"\\00b7\"; padding: 0 .5ex}\n",
       "</style>\n",
       "<ol class=list-inline><li>'model'</li><li>'mpg'</li><li>'cyl'</li><li>'disp'</li><li>'hp'</li><li>'drat'</li><li>'wt'</li><li>'qsec'</li><li>'vs'</li><li>'am'</li><li>'gear'</li><li>'carb'</li></ol>\n"
      ],
      "text/latex": [
       "\\begin{enumerate*}\n",
       "\\item 'model'\n",
       "\\item 'mpg'\n",
       "\\item 'cyl'\n",
       "\\item 'disp'\n",
       "\\item 'hp'\n",
       "\\item 'drat'\n",
       "\\item 'wt'\n",
       "\\item 'qsec'\n",
       "\\item 'vs'\n",
       "\\item 'am'\n",
       "\\item 'gear'\n",
       "\\item 'carb'\n",
       "\\end{enumerate*}\n"
      ],
      "text/markdown": [
       "1. 'model'\n",
       "2. 'mpg'\n",
       "3. 'cyl'\n",
       "4. 'disp'\n",
       "5. 'hp'\n",
       "6. 'drat'\n",
       "7. 'wt'\n",
       "8. 'qsec'\n",
       "9. 'vs'\n",
       "10. 'am'\n",
       "11. 'gear'\n",
       "12. 'carb'\n",
       "\n",
       "\n"
      ],
      "text/plain": [
       " [1] \"model\" \"mpg\"   \"cyl\"   \"disp\"  \"hp\"    \"drat\"  \"wt\"    \"qsec\"  \"vs\"   \n",
       "[10] \"am\"    \"gear\"  \"carb\" "
      ]
     },
     "metadata": {},
     "output_type": "display_data"
    }
   ],
   "source": [
    "mtcars %>% names"
   ]
  },
  {
   "cell_type": "code",
   "execution_count": 13,
   "metadata": {},
   "outputs": [
    {
     "data": {
      "text/html": [
       "<style>\n",
       ".list-inline {list-style: none; margin:0; padding: 0}\n",
       ".list-inline>li {display: inline-block}\n",
       ".list-inline>li:not(:last-child)::after {content: \"\\00b7\"; padding: 0 .5ex}\n",
       "</style>\n",
       "<ol class=list-inline><li>32</li><li>12</li></ol>\n"
      ],
      "text/latex": [
       "\\begin{enumerate*}\n",
       "\\item 32\n",
       "\\item 12\n",
       "\\end{enumerate*}\n"
      ],
      "text/markdown": [
       "1. 32\n",
       "2. 12\n",
       "\n",
       "\n"
      ],
      "text/plain": [
       "[1] 32 12"
      ]
     },
     "metadata": {},
     "output_type": "display_data"
    }
   ],
   "source": [
    "mtcars %>% dim"
   ]
  },
  {
   "cell_type": "markdown",
   "metadata": {},
   "source": [
    "#### Selecting columns\n",
    "You can either select columns in a dataframe using their names or their indices."
   ]
  },
  {
   "cell_type": "code",
   "execution_count": 14,
   "metadata": {},
   "outputs": [
    {
     "data": {
      "text/html": [
       "<style>\n",
       ".list-inline {list-style: none; margin:0; padding: 0}\n",
       ".list-inline>li {display: inline-block}\n",
       ".list-inline>li:not(:last-child)::after {content: \"\\00b7\"; padding: 0 .5ex}\n",
       "</style>\n",
       "<ol class=list-inline><li>Mazda RX4</li><li>Mazda RX4 Wag</li><li>Datsun 710</li><li>Hornet 4 Drive</li><li>Hornet Sportabout</li><li>Valiant</li><li>Duster 360</li><li>Merc 240D</li><li>Merc 230</li><li>Merc 280</li><li>Merc 280C</li><li>Merc 450SE</li><li>Merc 450SL</li><li>Merc 450SLC</li><li>Cadillac Fleetwood</li><li>Lincoln Continental</li><li>Chrysler Imperial</li><li>Fiat 128</li><li>Honda Civic</li><li>Toyota Corolla</li><li>Toyota Corona</li><li>Dodge Challenger</li><li>AMC Javelin</li><li>Camaro Z28</li><li>Pontiac Firebird</li><li>Fiat X1-9</li><li>Porsche 914-2</li><li>Lotus Europa</li><li>Ford Pantera L</li><li>Ferrari Dino</li><li>Maserati Bora</li><li>Volvo 142E</li></ol>\n",
       "\n",
       "<details>\n",
       "\t<summary style=display:list-item;cursor:pointer>\n",
       "\t\t<strong>Levels</strong>:\n",
       "\t</summary>\n",
       "\t<style>\n",
       "\t.list-inline {list-style: none; margin:0; padding: 0}\n",
       "\t.list-inline>li {display: inline-block}\n",
       "\t.list-inline>li:not(:last-child)::after {content: \"\\00b7\"; padding: 0 .5ex}\n",
       "\t</style>\n",
       "\t<ol class=list-inline><li>'AMC Javelin'</li><li>'Cadillac Fleetwood'</li><li>'Camaro Z28'</li><li>'Chrysler Imperial'</li><li>'Datsun 710'</li><li>'Dodge Challenger'</li><li>'Duster 360'</li><li>'Ferrari Dino'</li><li>'Fiat 128'</li><li>'Fiat X1-9'</li><li>'Ford Pantera L'</li><li>'Honda Civic'</li><li>'Hornet 4 Drive'</li><li>'Hornet Sportabout'</li><li>'Lincoln Continental'</li><li>'Lotus Europa'</li><li>'Maserati Bora'</li><li>'Mazda RX4'</li><li>'Mazda RX4 Wag'</li><li>'Merc 230'</li><li>'Merc 240D'</li><li>'Merc 280'</li><li>'Merc 280C'</li><li>'Merc 450SE'</li><li>'Merc 450SL'</li><li>'Merc 450SLC'</li><li>'Pontiac Firebird'</li><li>'Porsche 914-2'</li><li>'Toyota Corolla'</li><li>'Toyota Corona'</li><li>'Valiant'</li><li>'Volvo 142E'</li></ol>\n",
       "</details>"
      ],
      "text/latex": [
       "\\begin{enumerate*}\n",
       "\\item Mazda RX4\n",
       "\\item Mazda RX4 Wag\n",
       "\\item Datsun 710\n",
       "\\item Hornet 4 Drive\n",
       "\\item Hornet Sportabout\n",
       "\\item Valiant\n",
       "\\item Duster 360\n",
       "\\item Merc 240D\n",
       "\\item Merc 230\n",
       "\\item Merc 280\n",
       "\\item Merc 280C\n",
       "\\item Merc 450SE\n",
       "\\item Merc 450SL\n",
       "\\item Merc 450SLC\n",
       "\\item Cadillac Fleetwood\n",
       "\\item Lincoln Continental\n",
       "\\item Chrysler Imperial\n",
       "\\item Fiat 128\n",
       "\\item Honda Civic\n",
       "\\item Toyota Corolla\n",
       "\\item Toyota Corona\n",
       "\\item Dodge Challenger\n",
       "\\item AMC Javelin\n",
       "\\item Camaro Z28\n",
       "\\item Pontiac Firebird\n",
       "\\item Fiat X1-9\n",
       "\\item Porsche 914-2\n",
       "\\item Lotus Europa\n",
       "\\item Ford Pantera L\n",
       "\\item Ferrari Dino\n",
       "\\item Maserati Bora\n",
       "\\item Volvo 142E\n",
       "\\end{enumerate*}\n",
       "\n",
       "\\emph{Levels}: \\begin{enumerate*}\n",
       "\\item 'AMC Javelin'\n",
       "\\item 'Cadillac Fleetwood'\n",
       "\\item 'Camaro Z28'\n",
       "\\item 'Chrysler Imperial'\n",
       "\\item 'Datsun 710'\n",
       "\\item 'Dodge Challenger'\n",
       "\\item 'Duster 360'\n",
       "\\item 'Ferrari Dino'\n",
       "\\item 'Fiat 128'\n",
       "\\item 'Fiat X1-9'\n",
       "\\item 'Ford Pantera L'\n",
       "\\item 'Honda Civic'\n",
       "\\item 'Hornet 4 Drive'\n",
       "\\item 'Hornet Sportabout'\n",
       "\\item 'Lincoln Continental'\n",
       "\\item 'Lotus Europa'\n",
       "\\item 'Maserati Bora'\n",
       "\\item 'Mazda RX4'\n",
       "\\item 'Mazda RX4 Wag'\n",
       "\\item 'Merc 230'\n",
       "\\item 'Merc 240D'\n",
       "\\item 'Merc 280'\n",
       "\\item 'Merc 280C'\n",
       "\\item 'Merc 450SE'\n",
       "\\item 'Merc 450SL'\n",
       "\\item 'Merc 450SLC'\n",
       "\\item 'Pontiac Firebird'\n",
       "\\item 'Porsche 914-2'\n",
       "\\item 'Toyota Corolla'\n",
       "\\item 'Toyota Corona'\n",
       "\\item 'Valiant'\n",
       "\\item 'Volvo 142E'\n",
       "\\end{enumerate*}\n"
      ],
      "text/markdown": [
       "1. Mazda RX4\n",
       "2. Mazda RX4 Wag\n",
       "3. Datsun 710\n",
       "4. Hornet 4 Drive\n",
       "5. Hornet Sportabout\n",
       "6. Valiant\n",
       "7. Duster 360\n",
       "8. Merc 240D\n",
       "9. Merc 230\n",
       "10. Merc 280\n",
       "11. Merc 280C\n",
       "12. Merc 450SE\n",
       "13. Merc 450SL\n",
       "14. Merc 450SLC\n",
       "15. Cadillac Fleetwood\n",
       "16. Lincoln Continental\n",
       "17. Chrysler Imperial\n",
       "18. Fiat 128\n",
       "19. Honda Civic\n",
       "20. Toyota Corolla\n",
       "21. Toyota Corona\n",
       "22. Dodge Challenger\n",
       "23. AMC Javelin\n",
       "24. Camaro Z28\n",
       "25. Pontiac Firebird\n",
       "26. Fiat X1-9\n",
       "27. Porsche 914-2\n",
       "28. Lotus Europa\n",
       "29. Ford Pantera L\n",
       "30. Ferrari Dino\n",
       "31. Maserati Bora\n",
       "32. Volvo 142E\n",
       "\n",
       "\n",
       "\n",
       "**Levels**: 1. 'AMC Javelin'\n",
       "2. 'Cadillac Fleetwood'\n",
       "3. 'Camaro Z28'\n",
       "4. 'Chrysler Imperial'\n",
       "5. 'Datsun 710'\n",
       "6. 'Dodge Challenger'\n",
       "7. 'Duster 360'\n",
       "8. 'Ferrari Dino'\n",
       "9. 'Fiat 128'\n",
       "10. 'Fiat X1-9'\n",
       "11. 'Ford Pantera L'\n",
       "12. 'Honda Civic'\n",
       "13. 'Hornet 4 Drive'\n",
       "14. 'Hornet Sportabout'\n",
       "15. 'Lincoln Continental'\n",
       "16. 'Lotus Europa'\n",
       "17. 'Maserati Bora'\n",
       "18. 'Mazda RX4'\n",
       "19. 'Mazda RX4 Wag'\n",
       "20. 'Merc 230'\n",
       "21. 'Merc 240D'\n",
       "22. 'Merc 280'\n",
       "23. 'Merc 280C'\n",
       "24. 'Merc 450SE'\n",
       "25. 'Merc 450SL'\n",
       "26. 'Merc 450SLC'\n",
       "27. 'Pontiac Firebird'\n",
       "28. 'Porsche 914-2'\n",
       "29. 'Toyota Corolla'\n",
       "30. 'Toyota Corona'\n",
       "31. 'Valiant'\n",
       "32. 'Volvo 142E'\n",
       "\n",
       "\n"
      ],
      "text/plain": [
       " [1] Mazda RX4           Mazda RX4 Wag       Datsun 710         \n",
       " [4] Hornet 4 Drive      Hornet Sportabout   Valiant            \n",
       " [7] Duster 360          Merc 240D           Merc 230           \n",
       "[10] Merc 280            Merc 280C           Merc 450SE         \n",
       "[13] Merc 450SL          Merc 450SLC         Cadillac Fleetwood \n",
       "[16] Lincoln Continental Chrysler Imperial   Fiat 128           \n",
       "[19] Honda Civic         Toyota Corolla      Toyota Corona      \n",
       "[22] Dodge Challenger    AMC Javelin         Camaro Z28         \n",
       "[25] Pontiac Firebird    Fiat X1-9           Porsche 914-2      \n",
       "[28] Lotus Europa        Ford Pantera L      Ferrari Dino       \n",
       "[31] Maserati Bora       Volvo 142E         \n",
       "32 Levels: AMC Javelin Cadillac Fleetwood Camaro Z28 ... Volvo 142E"
      ]
     },
     "metadata": {},
     "output_type": "display_data"
    }
   ],
   "source": [
    "mtcars$model"
   ]
  },
  {
   "cell_type": "code",
   "execution_count": 15,
   "metadata": {},
   "outputs": [
    {
     "data": {
      "text/html": [
       "<table>\n",
       "<caption>A data.frame: 3 × 4</caption>\n",
       "<thead>\n",
       "\t<tr><th></th><th scope=col>model</th><th scope=col>mpg</th><th scope=col>cyl</th><th scope=col>gear</th></tr>\n",
       "\t<tr><th></th><th scope=col>&lt;fct&gt;</th><th scope=col>&lt;dbl&gt;</th><th scope=col>&lt;int&gt;</th><th scope=col>&lt;int&gt;</th></tr>\n",
       "</thead>\n",
       "<tbody>\n",
       "\t<tr><th scope=row>1</th><td>Mazda RX4    </td><td>21.0</td><td>6</td><td>4</td></tr>\n",
       "\t<tr><th scope=row>2</th><td>Mazda RX4 Wag</td><td>21.0</td><td>6</td><td>4</td></tr>\n",
       "\t<tr><th scope=row>3</th><td>Datsun 710   </td><td>22.8</td><td>4</td><td>4</td></tr>\n",
       "</tbody>\n",
       "</table>\n"
      ],
      "text/latex": [
       "A data.frame: 3 × 4\n",
       "\\begin{tabular}{r|llll}\n",
       "  & model & mpg & cyl & gear\\\\\n",
       "  & <fct> & <dbl> & <int> & <int>\\\\\n",
       "\\hline\n",
       "\t1 & Mazda RX4     & 21.0 & 6 & 4\\\\\n",
       "\t2 & Mazda RX4 Wag & 21.0 & 6 & 4\\\\\n",
       "\t3 & Datsun 710    & 22.8 & 4 & 4\\\\\n",
       "\\end{tabular}\n"
      ],
      "text/markdown": [
       "\n",
       "A data.frame: 3 × 4\n",
       "\n",
       "| <!--/--> | model &lt;fct&gt; | mpg &lt;dbl&gt; | cyl &lt;int&gt; | gear &lt;int&gt; |\n",
       "|---|---|---|---|---|\n",
       "| 1 | Mazda RX4     | 21.0 | 6 | 4 |\n",
       "| 2 | Mazda RX4 Wag | 21.0 | 6 | 4 |\n",
       "| 3 | Datsun 710    | 22.8 | 4 | 4 |\n",
       "\n"
      ],
      "text/plain": [
       "  model         mpg  cyl gear\n",
       "1 Mazda RX4     21.0 6   4   \n",
       "2 Mazda RX4 Wag 21.0 6   4   \n",
       "3 Datsun 710    22.8 4   4   "
      ]
     },
     "metadata": {},
     "output_type": "display_data"
    }
   ],
   "source": [
    "# selecting specific columns\n",
    "mtcars %>% select(model:cyl, gear) %>% head(3)"
   ]
  },
  {
   "cell_type": "code",
   "execution_count": 16,
   "metadata": {},
   "outputs": [
    {
     "data": {
      "text/html": [
       "<table>\n",
       "<caption>A data.frame: 6 × 6</caption>\n",
       "<thead>\n",
       "\t<tr><th></th><th scope=col>model</th><th scope=col>mpg</th><th scope=col>cyl</th><th scope=col>disp</th><th scope=col>hp</th><th scope=col>gear</th></tr>\n",
       "\t<tr><th></th><th scope=col>&lt;fct&gt;</th><th scope=col>&lt;dbl&gt;</th><th scope=col>&lt;int&gt;</th><th scope=col>&lt;dbl&gt;</th><th scope=col>&lt;int&gt;</th><th scope=col>&lt;int&gt;</th></tr>\n",
       "</thead>\n",
       "<tbody>\n",
       "\t<tr><th scope=row>1</th><td>Mazda RX4        </td><td>21.0</td><td>6</td><td>160</td><td>110</td><td>4</td></tr>\n",
       "\t<tr><th scope=row>2</th><td>Mazda RX4 Wag    </td><td>21.0</td><td>6</td><td>160</td><td>110</td><td>4</td></tr>\n",
       "\t<tr><th scope=row>3</th><td>Datsun 710       </td><td>22.8</td><td>4</td><td>108</td><td> 93</td><td>4</td></tr>\n",
       "\t<tr><th scope=row>4</th><td>Hornet 4 Drive   </td><td>21.4</td><td>6</td><td>258</td><td>110</td><td>3</td></tr>\n",
       "\t<tr><th scope=row>5</th><td>Hornet Sportabout</td><td>18.7</td><td>8</td><td>360</td><td>175</td><td>3</td></tr>\n",
       "\t<tr><th scope=row>6</th><td>Valiant          </td><td>18.1</td><td>6</td><td>225</td><td>105</td><td>3</td></tr>\n",
       "</tbody>\n",
       "</table>\n"
      ],
      "text/latex": [
       "A data.frame: 6 × 6\n",
       "\\begin{tabular}{r|llllll}\n",
       "  & model & mpg & cyl & disp & hp & gear\\\\\n",
       "  & <fct> & <dbl> & <int> & <dbl> & <int> & <int>\\\\\n",
       "\\hline\n",
       "\t1 & Mazda RX4         & 21.0 & 6 & 160 & 110 & 4\\\\\n",
       "\t2 & Mazda RX4 Wag     & 21.0 & 6 & 160 & 110 & 4\\\\\n",
       "\t3 & Datsun 710        & 22.8 & 4 & 108 &  93 & 4\\\\\n",
       "\t4 & Hornet 4 Drive    & 21.4 & 6 & 258 & 110 & 3\\\\\n",
       "\t5 & Hornet Sportabout & 18.7 & 8 & 360 & 175 & 3\\\\\n",
       "\t6 & Valiant           & 18.1 & 6 & 225 & 105 & 3\\\\\n",
       "\\end{tabular}\n"
      ],
      "text/markdown": [
       "\n",
       "A data.frame: 6 × 6\n",
       "\n",
       "| <!--/--> | model &lt;fct&gt; | mpg &lt;dbl&gt; | cyl &lt;int&gt; | disp &lt;dbl&gt; | hp &lt;int&gt; | gear &lt;int&gt; |\n",
       "|---|---|---|---|---|---|---|\n",
       "| 1 | Mazda RX4         | 21.0 | 6 | 160 | 110 | 4 |\n",
       "| 2 | Mazda RX4 Wag     | 21.0 | 6 | 160 | 110 | 4 |\n",
       "| 3 | Datsun 710        | 22.8 | 4 | 108 |  93 | 4 |\n",
       "| 4 | Hornet 4 Drive    | 21.4 | 6 | 258 | 110 | 3 |\n",
       "| 5 | Hornet Sportabout | 18.7 | 8 | 360 | 175 | 3 |\n",
       "| 6 | Valiant           | 18.1 | 6 | 225 | 105 | 3 |\n",
       "\n"
      ],
      "text/plain": [
       "  model             mpg  cyl disp hp  gear\n",
       "1 Mazda RX4         21.0 6   160  110 4   \n",
       "2 Mazda RX4 Wag     21.0 6   160  110 4   \n",
       "3 Datsun 710        22.8 4   108   93 4   \n",
       "4 Hornet 4 Drive    21.4 6   258  110 3   \n",
       "5 Hornet Sportabout 18.7 8   360  175 3   \n",
       "6 Valiant           18.1 6   225  105 3   "
      ]
     },
     "metadata": {},
     "output_type": "display_data"
    }
   ],
   "source": [
    "# selecting specific columns\n",
    "mtcars %>% select(1:5, gear) %>% head"
   ]
  },
  {
   "cell_type": "markdown",
   "metadata": {},
   "source": [
    "#### Unique values"
   ]
  },
  {
   "cell_type": "code",
   "execution_count": 17,
   "metadata": {},
   "outputs": [
    {
     "data": {
      "text/html": [
       "<table>\n",
       "<caption>A data.frame: 3 × 1</caption>\n",
       "<thead>\n",
       "\t<tr><th scope=col>cyl</th></tr>\n",
       "\t<tr><th scope=col>&lt;int&gt;</th></tr>\n",
       "</thead>\n",
       "<tbody>\n",
       "\t<tr><td>4</td></tr>\n",
       "\t<tr><td>6</td></tr>\n",
       "\t<tr><td>8</td></tr>\n",
       "</tbody>\n",
       "</table>\n"
      ],
      "text/latex": [
       "A data.frame: 3 × 1\n",
       "\\begin{tabular}{l}\n",
       " cyl\\\\\n",
       " <int>\\\\\n",
       "\\hline\n",
       "\t 4\\\\\n",
       "\t 6\\\\\n",
       "\t 8\\\\\n",
       "\\end{tabular}\n"
      ],
      "text/markdown": [
       "\n",
       "A data.frame: 3 × 1\n",
       "\n",
       "| cyl &lt;int&gt; |\n",
       "|---|\n",
       "| 4 |\n",
       "| 6 |\n",
       "| 8 |\n",
       "\n"
      ],
      "text/plain": [
       "  cyl\n",
       "1 4  \n",
       "2 6  \n",
       "3 8  "
      ]
     },
     "metadata": {},
     "output_type": "display_data"
    }
   ],
   "source": [
    "mtcars %>% select(cyl) %>% unique %>% arrange(cyl)"
   ]
  },
  {
   "cell_type": "code",
   "execution_count": 18,
   "metadata": {},
   "outputs": [
    {
     "data": {
      "text/html": [
       "<table>\n",
       "<caption>A data.frame: 6 × 2</caption>\n",
       "<thead>\n",
       "\t<tr><th scope=col>cyl</th><th scope=col>am</th></tr>\n",
       "\t<tr><th scope=col>&lt;int&gt;</th><th scope=col>&lt;int&gt;</th></tr>\n",
       "</thead>\n",
       "<tbody>\n",
       "\t<tr><td>4</td><td>0</td></tr>\n",
       "\t<tr><td>6</td><td>0</td></tr>\n",
       "\t<tr><td>8</td><td>0</td></tr>\n",
       "\t<tr><td>4</td><td>1</td></tr>\n",
       "\t<tr><td>6</td><td>1</td></tr>\n",
       "\t<tr><td>8</td><td>1</td></tr>\n",
       "</tbody>\n",
       "</table>\n"
      ],
      "text/latex": [
       "A data.frame: 6 × 2\n",
       "\\begin{tabular}{ll}\n",
       " cyl & am\\\\\n",
       " <int> & <int>\\\\\n",
       "\\hline\n",
       "\t 4 & 0\\\\\n",
       "\t 6 & 0\\\\\n",
       "\t 8 & 0\\\\\n",
       "\t 4 & 1\\\\\n",
       "\t 6 & 1\\\\\n",
       "\t 8 & 1\\\\\n",
       "\\end{tabular}\n"
      ],
      "text/markdown": [
       "\n",
       "A data.frame: 6 × 2\n",
       "\n",
       "| cyl &lt;int&gt; | am &lt;int&gt; |\n",
       "|---|---|\n",
       "| 4 | 0 |\n",
       "| 6 | 0 |\n",
       "| 8 | 0 |\n",
       "| 4 | 1 |\n",
       "| 6 | 1 |\n",
       "| 8 | 1 |\n",
       "\n"
      ],
      "text/plain": [
       "  cyl am\n",
       "1 4   0 \n",
       "2 6   0 \n",
       "3 8   0 \n",
       "4 4   1 \n",
       "5 6   1 \n",
       "6 8   1 "
      ]
     },
     "metadata": {},
     "output_type": "display_data"
    }
   ],
   "source": [
    "mtcars %>% select(cyl, am) %>% unique %>% arrange(am, cyl)"
   ]
  },
  {
   "cell_type": "markdown",
   "metadata": {},
   "source": [
    "### 1.3. Basic statistics"
   ]
  },
  {
   "cell_type": "code",
   "execution_count": 19,
   "metadata": {},
   "outputs": [],
   "source": [
    "library(dplyr)"
   ]
  },
  {
   "cell_type": "code",
   "execution_count": 20,
   "metadata": {},
   "outputs": [],
   "source": [
    "mtcars <- read.csv('../data/mtcars.csv')"
   ]
  },
  {
   "cell_type": "code",
   "execution_count": 21,
   "metadata": {},
   "outputs": [
    {
     "data": {
      "text/plain": [
       "      mpg             cyl             disp             hp       \n",
       " Min.   :10.40   Min.   :4.000   Min.   : 71.1   Min.   : 52.0  \n",
       " 1st Qu.:15.43   1st Qu.:4.000   1st Qu.:120.8   1st Qu.: 96.5  \n",
       " Median :19.20   Median :6.000   Median :196.3   Median :123.0  \n",
       " Mean   :20.09   Mean   :6.188   Mean   :230.7   Mean   :146.7  \n",
       " 3rd Qu.:22.80   3rd Qu.:8.000   3rd Qu.:326.0   3rd Qu.:180.0  \n",
       " Max.   :33.90   Max.   :8.000   Max.   :472.0   Max.   :335.0  "
      ]
     },
     "metadata": {},
     "output_type": "display_data"
    }
   ],
   "source": [
    "mtcars %>% select(2:5) %>% summary"
   ]
  },
  {
   "cell_type": "code",
   "execution_count": 22,
   "metadata": {},
   "outputs": [
    {
     "data": {
      "text/html": [
       "20.090625"
      ],
      "text/latex": [
       "20.090625"
      ],
      "text/markdown": [
       "20.090625"
      ],
      "text/plain": [
       "[1] 20.09062"
      ]
     },
     "metadata": {},
     "output_type": "display_data"
    }
   ],
   "source": [
    "mtcars$mpg %>% mean"
   ]
  },
  {
   "cell_type": "code",
   "execution_count": 23,
   "metadata": {},
   "outputs": [
    {
     "data": {
      "text/html": [
       "<style>\n",
       ".dl-inline {width: auto; margin:0; padding: 0}\n",
       ".dl-inline>dt, .dl-inline>dd {float: none; width: auto; display: inline-block}\n",
       ".dl-inline>dt::after {content: \":\\0020\"; padding-right: .5ex}\n",
       ".dl-inline>dt:not(:first-of-type) {padding-left: .5ex}\n",
       "</style><dl class=dl-inline><dt>0%</dt><dd>10.4</dd><dt>25%</dt><dd>15.425</dd><dt>50%</dt><dd>19.2</dd><dt>75%</dt><dd>22.8</dd><dt>100%</dt><dd>33.9</dd></dl>\n"
      ],
      "text/latex": [
       "\\begin{description*}\n",
       "\\item[0\\textbackslash{}\\%] 10.4\n",
       "\\item[25\\textbackslash{}\\%] 15.425\n",
       "\\item[50\\textbackslash{}\\%] 19.2\n",
       "\\item[75\\textbackslash{}\\%] 22.8\n",
       "\\item[100\\textbackslash{}\\%] 33.9\n",
       "\\end{description*}\n"
      ],
      "text/markdown": [
       "0%\n",
       ":   10.425%\n",
       ":   15.42550%\n",
       ":   19.275%\n",
       ":   22.8100%\n",
       ":   33.9\n",
       "\n"
      ],
      "text/plain": [
       "    0%    25%    50%    75%   100% \n",
       "10.400 15.425 19.200 22.800 33.900 "
      ]
     },
     "metadata": {},
     "output_type": "display_data"
    }
   ],
   "source": [
    "mtcars$mpg %>% quantile"
   ]
  },
  {
   "cell_type": "markdown",
   "metadata": {},
   "source": [
    "The `describe()` function from the `Hmisc` library provides even more details about each column."
   ]
  },
  {
   "cell_type": "code",
   "execution_count": null,
   "metadata": {},
   "outputs": [],
   "source": [
    "Hmisc::describe(mtcars$mpg)"
   ]
  },
  {
   "cell_type": "code",
   "execution_count": null,
   "metadata": {},
   "outputs": [],
   "source": [
    "Hmisc::describe(mtcars$model)"
   ]
  },
  {
   "cell_type": "markdown",
   "metadata": {},
   "source": [
    "### 1.4. Sorting and filtering"
   ]
  },
  {
   "cell_type": "code",
   "execution_count": 28,
   "metadata": {},
   "outputs": [],
   "source": [
    "library(dplyr)"
   ]
  },
  {
   "cell_type": "code",
   "execution_count": 29,
   "metadata": {},
   "outputs": [],
   "source": [
    "mtcars <- read.csv('../data/mtcars.csv')"
   ]
  },
  {
   "cell_type": "markdown",
   "metadata": {},
   "source": [
    "#### Sorting"
   ]
  },
  {
   "cell_type": "code",
   "execution_count": 30,
   "metadata": {},
   "outputs": [
    {
     "data": {
      "text/html": [
       "<table>\n",
       "<caption>A data.frame: 6 × 12</caption>\n",
       "<thead>\n",
       "\t<tr><th></th><th scope=col>model</th><th scope=col>mpg</th><th scope=col>cyl</th><th scope=col>disp</th><th scope=col>hp</th><th scope=col>drat</th><th scope=col>wt</th><th scope=col>qsec</th><th scope=col>vs</th><th scope=col>am</th><th scope=col>gear</th><th scope=col>carb</th></tr>\n",
       "\t<tr><th></th><th scope=col>&lt;fct&gt;</th><th scope=col>&lt;dbl&gt;</th><th scope=col>&lt;int&gt;</th><th scope=col>&lt;dbl&gt;</th><th scope=col>&lt;int&gt;</th><th scope=col>&lt;dbl&gt;</th><th scope=col>&lt;dbl&gt;</th><th scope=col>&lt;dbl&gt;</th><th scope=col>&lt;int&gt;</th><th scope=col>&lt;int&gt;</th><th scope=col>&lt;int&gt;</th><th scope=col>&lt;int&gt;</th></tr>\n",
       "</thead>\n",
       "<tbody>\n",
       "\t<tr><th scope=row>1</th><td>Volvo 142E   </td><td>21.4</td><td>4</td><td>121.0</td><td>109</td><td>4.11</td><td>2.780</td><td>18.60</td><td>1</td><td>1</td><td>4</td><td>2</td></tr>\n",
       "\t<tr><th scope=row>2</th><td>Toyota Corona</td><td>21.5</td><td>4</td><td>120.1</td><td> 97</td><td>3.70</td><td>2.465</td><td>20.01</td><td>1</td><td>0</td><td>3</td><td>1</td></tr>\n",
       "\t<tr><th scope=row>3</th><td>Datsun 710   </td><td>22.8</td><td>4</td><td>108.0</td><td> 93</td><td>3.85</td><td>2.320</td><td>18.61</td><td>1</td><td>1</td><td>4</td><td>1</td></tr>\n",
       "\t<tr><th scope=row>4</th><td>Merc 230     </td><td>22.8</td><td>4</td><td>140.8</td><td> 95</td><td>3.92</td><td>3.150</td><td>22.90</td><td>1</td><td>0</td><td>4</td><td>2</td></tr>\n",
       "\t<tr><th scope=row>5</th><td>Merc 240D    </td><td>24.4</td><td>4</td><td>146.7</td><td> 62</td><td>3.69</td><td>3.190</td><td>20.00</td><td>1</td><td>0</td><td>4</td><td>2</td></tr>\n",
       "\t<tr><th scope=row>6</th><td>Porsche 914-2</td><td>26.0</td><td>4</td><td>120.3</td><td> 91</td><td>4.43</td><td>2.140</td><td>16.70</td><td>0</td><td>1</td><td>5</td><td>2</td></tr>\n",
       "</tbody>\n",
       "</table>\n"
      ],
      "text/latex": [
       "A data.frame: 6 × 12\n",
       "\\begin{tabular}{r|llllllllllll}\n",
       "  & model & mpg & cyl & disp & hp & drat & wt & qsec & vs & am & gear & carb\\\\\n",
       "  & <fct> & <dbl> & <int> & <dbl> & <int> & <dbl> & <dbl> & <dbl> & <int> & <int> & <int> & <int>\\\\\n",
       "\\hline\n",
       "\t1 & Volvo 142E    & 21.4 & 4 & 121.0 & 109 & 4.11 & 2.780 & 18.60 & 1 & 1 & 4 & 2\\\\\n",
       "\t2 & Toyota Corona & 21.5 & 4 & 120.1 &  97 & 3.70 & 2.465 & 20.01 & 1 & 0 & 3 & 1\\\\\n",
       "\t3 & Datsun 710    & 22.8 & 4 & 108.0 &  93 & 3.85 & 2.320 & 18.61 & 1 & 1 & 4 & 1\\\\\n",
       "\t4 & Merc 230      & 22.8 & 4 & 140.8 &  95 & 3.92 & 3.150 & 22.90 & 1 & 0 & 4 & 2\\\\\n",
       "\t5 & Merc 240D     & 24.4 & 4 & 146.7 &  62 & 3.69 & 3.190 & 20.00 & 1 & 0 & 4 & 2\\\\\n",
       "\t6 & Porsche 914-2 & 26.0 & 4 & 120.3 &  91 & 4.43 & 2.140 & 16.70 & 0 & 1 & 5 & 2\\\\\n",
       "\\end{tabular}\n"
      ],
      "text/markdown": [
       "\n",
       "A data.frame: 6 × 12\n",
       "\n",
       "| <!--/--> | model &lt;fct&gt; | mpg &lt;dbl&gt; | cyl &lt;int&gt; | disp &lt;dbl&gt; | hp &lt;int&gt; | drat &lt;dbl&gt; | wt &lt;dbl&gt; | qsec &lt;dbl&gt; | vs &lt;int&gt; | am &lt;int&gt; | gear &lt;int&gt; | carb &lt;int&gt; |\n",
       "|---|---|---|---|---|---|---|---|---|---|---|---|---|\n",
       "| 1 | Volvo 142E    | 21.4 | 4 | 121.0 | 109 | 4.11 | 2.780 | 18.60 | 1 | 1 | 4 | 2 |\n",
       "| 2 | Toyota Corona | 21.5 | 4 | 120.1 |  97 | 3.70 | 2.465 | 20.01 | 1 | 0 | 3 | 1 |\n",
       "| 3 | Datsun 710    | 22.8 | 4 | 108.0 |  93 | 3.85 | 2.320 | 18.61 | 1 | 1 | 4 | 1 |\n",
       "| 4 | Merc 230      | 22.8 | 4 | 140.8 |  95 | 3.92 | 3.150 | 22.90 | 1 | 0 | 4 | 2 |\n",
       "| 5 | Merc 240D     | 24.4 | 4 | 146.7 |  62 | 3.69 | 3.190 | 20.00 | 1 | 0 | 4 | 2 |\n",
       "| 6 | Porsche 914-2 | 26.0 | 4 | 120.3 |  91 | 4.43 | 2.140 | 16.70 | 0 | 1 | 5 | 2 |\n",
       "\n"
      ],
      "text/plain": [
       "  model         mpg  cyl disp  hp  drat wt    qsec  vs am gear carb\n",
       "1 Volvo 142E    21.4 4   121.0 109 4.11 2.780 18.60 1  1  4    2   \n",
       "2 Toyota Corona 21.5 4   120.1  97 3.70 2.465 20.01 1  0  3    1   \n",
       "3 Datsun 710    22.8 4   108.0  93 3.85 2.320 18.61 1  1  4    1   \n",
       "4 Merc 230      22.8 4   140.8  95 3.92 3.150 22.90 1  0  4    2   \n",
       "5 Merc 240D     24.4 4   146.7  62 3.69 3.190 20.00 1  0  4    2   \n",
       "6 Porsche 914-2 26.0 4   120.3  91 4.43 2.140 16.70 0  1  5    2   "
      ]
     },
     "metadata": {},
     "output_type": "display_data"
    }
   ],
   "source": [
    "mtcars %>% arrange(cyl, mpg) %>% head"
   ]
  },
  {
   "cell_type": "code",
   "execution_count": 31,
   "metadata": {},
   "outputs": [
    {
     "data": {
      "text/html": [
       "<table>\n",
       "<caption>A data.frame: 6 × 12</caption>\n",
       "<thead>\n",
       "\t<tr><th></th><th scope=col>model</th><th scope=col>mpg</th><th scope=col>cyl</th><th scope=col>disp</th><th scope=col>hp</th><th scope=col>drat</th><th scope=col>wt</th><th scope=col>qsec</th><th scope=col>vs</th><th scope=col>am</th><th scope=col>gear</th><th scope=col>carb</th></tr>\n",
       "\t<tr><th></th><th scope=col>&lt;fct&gt;</th><th scope=col>&lt;dbl&gt;</th><th scope=col>&lt;int&gt;</th><th scope=col>&lt;dbl&gt;</th><th scope=col>&lt;int&gt;</th><th scope=col>&lt;dbl&gt;</th><th scope=col>&lt;dbl&gt;</th><th scope=col>&lt;dbl&gt;</th><th scope=col>&lt;int&gt;</th><th scope=col>&lt;int&gt;</th><th scope=col>&lt;int&gt;</th><th scope=col>&lt;int&gt;</th></tr>\n",
       "</thead>\n",
       "<tbody>\n",
       "\t<tr><th scope=row>1</th><td>Toyota Corolla</td><td>33.9</td><td>4</td><td> 71.1</td><td> 65</td><td>4.22</td><td>1.835</td><td>19.90</td><td>1</td><td>1</td><td>4</td><td>1</td></tr>\n",
       "\t<tr><th scope=row>2</th><td>Fiat 128      </td><td>32.4</td><td>4</td><td> 78.7</td><td> 66</td><td>4.08</td><td>2.200</td><td>19.47</td><td>1</td><td>1</td><td>4</td><td>1</td></tr>\n",
       "\t<tr><th scope=row>3</th><td>Honda Civic   </td><td>30.4</td><td>4</td><td> 75.7</td><td> 52</td><td>4.93</td><td>1.615</td><td>18.52</td><td>1</td><td>1</td><td>4</td><td>2</td></tr>\n",
       "\t<tr><th scope=row>4</th><td>Lotus Europa  </td><td>30.4</td><td>4</td><td> 95.1</td><td>113</td><td>3.77</td><td>1.513</td><td>16.90</td><td>1</td><td>1</td><td>5</td><td>2</td></tr>\n",
       "\t<tr><th scope=row>5</th><td>Fiat X1-9     </td><td>27.3</td><td>4</td><td> 79.0</td><td> 66</td><td>4.08</td><td>1.935</td><td>18.90</td><td>1</td><td>1</td><td>4</td><td>1</td></tr>\n",
       "\t<tr><th scope=row>6</th><td>Porsche 914-2 </td><td>26.0</td><td>4</td><td>120.3</td><td> 91</td><td>4.43</td><td>2.140</td><td>16.70</td><td>0</td><td>1</td><td>5</td><td>2</td></tr>\n",
       "</tbody>\n",
       "</table>\n"
      ],
      "text/latex": [
       "A data.frame: 6 × 12\n",
       "\\begin{tabular}{r|llllllllllll}\n",
       "  & model & mpg & cyl & disp & hp & drat & wt & qsec & vs & am & gear & carb\\\\\n",
       "  & <fct> & <dbl> & <int> & <dbl> & <int> & <dbl> & <dbl> & <dbl> & <int> & <int> & <int> & <int>\\\\\n",
       "\\hline\n",
       "\t1 & Toyota Corolla & 33.9 & 4 &  71.1 &  65 & 4.22 & 1.835 & 19.90 & 1 & 1 & 4 & 1\\\\\n",
       "\t2 & Fiat 128       & 32.4 & 4 &  78.7 &  66 & 4.08 & 2.200 & 19.47 & 1 & 1 & 4 & 1\\\\\n",
       "\t3 & Honda Civic    & 30.4 & 4 &  75.7 &  52 & 4.93 & 1.615 & 18.52 & 1 & 1 & 4 & 2\\\\\n",
       "\t4 & Lotus Europa   & 30.4 & 4 &  95.1 & 113 & 3.77 & 1.513 & 16.90 & 1 & 1 & 5 & 2\\\\\n",
       "\t5 & Fiat X1-9      & 27.3 & 4 &  79.0 &  66 & 4.08 & 1.935 & 18.90 & 1 & 1 & 4 & 1\\\\\n",
       "\t6 & Porsche 914-2  & 26.0 & 4 & 120.3 &  91 & 4.43 & 2.140 & 16.70 & 0 & 1 & 5 & 2\\\\\n",
       "\\end{tabular}\n"
      ],
      "text/markdown": [
       "\n",
       "A data.frame: 6 × 12\n",
       "\n",
       "| <!--/--> | model &lt;fct&gt; | mpg &lt;dbl&gt; | cyl &lt;int&gt; | disp &lt;dbl&gt; | hp &lt;int&gt; | drat &lt;dbl&gt; | wt &lt;dbl&gt; | qsec &lt;dbl&gt; | vs &lt;int&gt; | am &lt;int&gt; | gear &lt;int&gt; | carb &lt;int&gt; |\n",
       "|---|---|---|---|---|---|---|---|---|---|---|---|---|\n",
       "| 1 | Toyota Corolla | 33.9 | 4 |  71.1 |  65 | 4.22 | 1.835 | 19.90 | 1 | 1 | 4 | 1 |\n",
       "| 2 | Fiat 128       | 32.4 | 4 |  78.7 |  66 | 4.08 | 2.200 | 19.47 | 1 | 1 | 4 | 1 |\n",
       "| 3 | Honda Civic    | 30.4 | 4 |  75.7 |  52 | 4.93 | 1.615 | 18.52 | 1 | 1 | 4 | 2 |\n",
       "| 4 | Lotus Europa   | 30.4 | 4 |  95.1 | 113 | 3.77 | 1.513 | 16.90 | 1 | 1 | 5 | 2 |\n",
       "| 5 | Fiat X1-9      | 27.3 | 4 |  79.0 |  66 | 4.08 | 1.935 | 18.90 | 1 | 1 | 4 | 1 |\n",
       "| 6 | Porsche 914-2  | 26.0 | 4 | 120.3 |  91 | 4.43 | 2.140 | 16.70 | 0 | 1 | 5 | 2 |\n",
       "\n"
      ],
      "text/plain": [
       "  model          mpg  cyl disp  hp  drat wt    qsec  vs am gear carb\n",
       "1 Toyota Corolla 33.9 4    71.1  65 4.22 1.835 19.90 1  1  4    1   \n",
       "2 Fiat 128       32.4 4    78.7  66 4.08 2.200 19.47 1  1  4    1   \n",
       "3 Honda Civic    30.4 4    75.7  52 4.93 1.615 18.52 1  1  4    2   \n",
       "4 Lotus Europa   30.4 4    95.1 113 3.77 1.513 16.90 1  1  5    2   \n",
       "5 Fiat X1-9      27.3 4    79.0  66 4.08 1.935 18.90 1  1  4    1   \n",
       "6 Porsche 914-2  26.0 4   120.3  91 4.43 2.140 16.70 0  1  5    2   "
      ]
     },
     "metadata": {},
     "output_type": "display_data"
    }
   ],
   "source": [
    "mtcars %>% arrange(cyl, desc(mpg)) %>% head"
   ]
  },
  {
   "cell_type": "code",
   "execution_count": 32,
   "metadata": {},
   "outputs": [
    {
     "data": {
      "text/html": [
       "<table>\n",
       "<caption>A data.frame: 6 × 12</caption>\n",
       "<thead>\n",
       "\t<tr><th></th><th scope=col>model</th><th scope=col>mpg</th><th scope=col>cyl</th><th scope=col>disp</th><th scope=col>hp</th><th scope=col>drat</th><th scope=col>wt</th><th scope=col>qsec</th><th scope=col>vs</th><th scope=col>am</th><th scope=col>gear</th><th scope=col>carb</th></tr>\n",
       "\t<tr><th></th><th scope=col>&lt;fct&gt;</th><th scope=col>&lt;dbl&gt;</th><th scope=col>&lt;int&gt;</th><th scope=col>&lt;dbl&gt;</th><th scope=col>&lt;int&gt;</th><th scope=col>&lt;dbl&gt;</th><th scope=col>&lt;dbl&gt;</th><th scope=col>&lt;dbl&gt;</th><th scope=col>&lt;int&gt;</th><th scope=col>&lt;int&gt;</th><th scope=col>&lt;int&gt;</th><th scope=col>&lt;int&gt;</th></tr>\n",
       "</thead>\n",
       "<tbody>\n",
       "\t<tr><th scope=row>1</th><td>Hornet Sportabout </td><td>18.7</td><td>8</td><td>360.0</td><td>175</td><td>3.15</td><td>3.44</td><td>17.02</td><td>0</td><td>0</td><td>3</td><td>2</td></tr>\n",
       "\t<tr><th scope=row>2</th><td>Duster 360        </td><td>14.3</td><td>8</td><td>360.0</td><td>245</td><td>3.21</td><td>3.57</td><td>15.84</td><td>0</td><td>0</td><td>3</td><td>4</td></tr>\n",
       "\t<tr><th scope=row>3</th><td>Merc 450SE        </td><td>16.4</td><td>8</td><td>275.8</td><td>180</td><td>3.07</td><td>4.07</td><td>17.40</td><td>0</td><td>0</td><td>3</td><td>3</td></tr>\n",
       "\t<tr><th scope=row>4</th><td>Merc 450SL        </td><td>17.3</td><td>8</td><td>275.8</td><td>180</td><td>3.07</td><td>3.73</td><td>17.60</td><td>0</td><td>0</td><td>3</td><td>3</td></tr>\n",
       "\t<tr><th scope=row>5</th><td>Merc 450SLC       </td><td>15.2</td><td>8</td><td>275.8</td><td>180</td><td>3.07</td><td>3.78</td><td>18.00</td><td>0</td><td>0</td><td>3</td><td>3</td></tr>\n",
       "\t<tr><th scope=row>6</th><td>Cadillac Fleetwood</td><td>10.4</td><td>8</td><td>472.0</td><td>205</td><td>2.93</td><td>5.25</td><td>17.98</td><td>0</td><td>0</td><td>3</td><td>4</td></tr>\n",
       "</tbody>\n",
       "</table>\n"
      ],
      "text/latex": [
       "A data.frame: 6 × 12\n",
       "\\begin{tabular}{r|llllllllllll}\n",
       "  & model & mpg & cyl & disp & hp & drat & wt & qsec & vs & am & gear & carb\\\\\n",
       "  & <fct> & <dbl> & <int> & <dbl> & <int> & <dbl> & <dbl> & <dbl> & <int> & <int> & <int> & <int>\\\\\n",
       "\\hline\n",
       "\t1 & Hornet Sportabout  & 18.7 & 8 & 360.0 & 175 & 3.15 & 3.44 & 17.02 & 0 & 0 & 3 & 2\\\\\n",
       "\t2 & Duster 360         & 14.3 & 8 & 360.0 & 245 & 3.21 & 3.57 & 15.84 & 0 & 0 & 3 & 4\\\\\n",
       "\t3 & Merc 450SE         & 16.4 & 8 & 275.8 & 180 & 3.07 & 4.07 & 17.40 & 0 & 0 & 3 & 3\\\\\n",
       "\t4 & Merc 450SL         & 17.3 & 8 & 275.8 & 180 & 3.07 & 3.73 & 17.60 & 0 & 0 & 3 & 3\\\\\n",
       "\t5 & Merc 450SLC        & 15.2 & 8 & 275.8 & 180 & 3.07 & 3.78 & 18.00 & 0 & 0 & 3 & 3\\\\\n",
       "\t6 & Cadillac Fleetwood & 10.4 & 8 & 472.0 & 205 & 2.93 & 5.25 & 17.98 & 0 & 0 & 3 & 4\\\\\n",
       "\\end{tabular}\n"
      ],
      "text/markdown": [
       "\n",
       "A data.frame: 6 × 12\n",
       "\n",
       "| <!--/--> | model &lt;fct&gt; | mpg &lt;dbl&gt; | cyl &lt;int&gt; | disp &lt;dbl&gt; | hp &lt;int&gt; | drat &lt;dbl&gt; | wt &lt;dbl&gt; | qsec &lt;dbl&gt; | vs &lt;int&gt; | am &lt;int&gt; | gear &lt;int&gt; | carb &lt;int&gt; |\n",
       "|---|---|---|---|---|---|---|---|---|---|---|---|---|\n",
       "| 1 | Hornet Sportabout  | 18.7 | 8 | 360.0 | 175 | 3.15 | 3.44 | 17.02 | 0 | 0 | 3 | 2 |\n",
       "| 2 | Duster 360         | 14.3 | 8 | 360.0 | 245 | 3.21 | 3.57 | 15.84 | 0 | 0 | 3 | 4 |\n",
       "| 3 | Merc 450SE         | 16.4 | 8 | 275.8 | 180 | 3.07 | 4.07 | 17.40 | 0 | 0 | 3 | 3 |\n",
       "| 4 | Merc 450SL         | 17.3 | 8 | 275.8 | 180 | 3.07 | 3.73 | 17.60 | 0 | 0 | 3 | 3 |\n",
       "| 5 | Merc 450SLC        | 15.2 | 8 | 275.8 | 180 | 3.07 | 3.78 | 18.00 | 0 | 0 | 3 | 3 |\n",
       "| 6 | Cadillac Fleetwood | 10.4 | 8 | 472.0 | 205 | 2.93 | 5.25 | 17.98 | 0 | 0 | 3 | 4 |\n",
       "\n"
      ],
      "text/plain": [
       "  model              mpg  cyl disp  hp  drat wt   qsec  vs am gear carb\n",
       "1 Hornet Sportabout  18.7 8   360.0 175 3.15 3.44 17.02 0  0  3    2   \n",
       "2 Duster 360         14.3 8   360.0 245 3.21 3.57 15.84 0  0  3    4   \n",
       "3 Merc 450SE         16.4 8   275.8 180 3.07 4.07 17.40 0  0  3    3   \n",
       "4 Merc 450SL         17.3 8   275.8 180 3.07 3.73 17.60 0  0  3    3   \n",
       "5 Merc 450SLC        15.2 8   275.8 180 3.07 3.78 18.00 0  0  3    3   \n",
       "6 Cadillac Fleetwood 10.4 8   472.0 205 2.93 5.25 17.98 0  0  3    4   "
      ]
     },
     "metadata": {},
     "output_type": "display_data"
    }
   ],
   "source": [
    "mtcars %>% arrange(desc(cyl, mpg)) %>% head"
   ]
  },
  {
   "cell_type": "markdown",
   "metadata": {},
   "source": [
    "#### Filtering data"
   ]
  },
  {
   "cell_type": "code",
   "execution_count": 33,
   "metadata": {},
   "outputs": [
    {
     "data": {
      "text/html": [
       "<table>\n",
       "<caption>A data.frame: 4 × 12</caption>\n",
       "<thead>\n",
       "\t<tr><th scope=col>model</th><th scope=col>mpg</th><th scope=col>cyl</th><th scope=col>disp</th><th scope=col>hp</th><th scope=col>drat</th><th scope=col>wt</th><th scope=col>qsec</th><th scope=col>vs</th><th scope=col>am</th><th scope=col>gear</th><th scope=col>carb</th></tr>\n",
       "\t<tr><th scope=col>&lt;fct&gt;</th><th scope=col>&lt;dbl&gt;</th><th scope=col>&lt;int&gt;</th><th scope=col>&lt;dbl&gt;</th><th scope=col>&lt;int&gt;</th><th scope=col>&lt;dbl&gt;</th><th scope=col>&lt;dbl&gt;</th><th scope=col>&lt;dbl&gt;</th><th scope=col>&lt;int&gt;</th><th scope=col>&lt;int&gt;</th><th scope=col>&lt;int&gt;</th><th scope=col>&lt;int&gt;</th></tr>\n",
       "</thead>\n",
       "<tbody>\n",
       "\t<tr><td>Fiat 128      </td><td>32.4</td><td>4</td><td>78.7</td><td> 66</td><td>4.08</td><td>2.200</td><td>19.47</td><td>1</td><td>1</td><td>4</td><td>1</td></tr>\n",
       "\t<tr><td>Honda Civic   </td><td>30.4</td><td>4</td><td>75.7</td><td> 52</td><td>4.93</td><td>1.615</td><td>18.52</td><td>1</td><td>1</td><td>4</td><td>2</td></tr>\n",
       "\t<tr><td>Toyota Corolla</td><td>33.9</td><td>4</td><td>71.1</td><td> 65</td><td>4.22</td><td>1.835</td><td>19.90</td><td>1</td><td>1</td><td>4</td><td>1</td></tr>\n",
       "\t<tr><td>Lotus Europa  </td><td>30.4</td><td>4</td><td>95.1</td><td>113</td><td>3.77</td><td>1.513</td><td>16.90</td><td>1</td><td>1</td><td>5</td><td>2</td></tr>\n",
       "</tbody>\n",
       "</table>\n"
      ],
      "text/latex": [
       "A data.frame: 4 × 12\n",
       "\\begin{tabular}{llllllllllll}\n",
       " model & mpg & cyl & disp & hp & drat & wt & qsec & vs & am & gear & carb\\\\\n",
       " <fct> & <dbl> & <int> & <dbl> & <int> & <dbl> & <dbl> & <dbl> & <int> & <int> & <int> & <int>\\\\\n",
       "\\hline\n",
       "\t Fiat 128       & 32.4 & 4 & 78.7 &  66 & 4.08 & 2.200 & 19.47 & 1 & 1 & 4 & 1\\\\\n",
       "\t Honda Civic    & 30.4 & 4 & 75.7 &  52 & 4.93 & 1.615 & 18.52 & 1 & 1 & 4 & 2\\\\\n",
       "\t Toyota Corolla & 33.9 & 4 & 71.1 &  65 & 4.22 & 1.835 & 19.90 & 1 & 1 & 4 & 1\\\\\n",
       "\t Lotus Europa   & 30.4 & 4 & 95.1 & 113 & 3.77 & 1.513 & 16.90 & 1 & 1 & 5 & 2\\\\\n",
       "\\end{tabular}\n"
      ],
      "text/markdown": [
       "\n",
       "A data.frame: 4 × 12\n",
       "\n",
       "| model &lt;fct&gt; | mpg &lt;dbl&gt; | cyl &lt;int&gt; | disp &lt;dbl&gt; | hp &lt;int&gt; | drat &lt;dbl&gt; | wt &lt;dbl&gt; | qsec &lt;dbl&gt; | vs &lt;int&gt; | am &lt;int&gt; | gear &lt;int&gt; | carb &lt;int&gt; |\n",
       "|---|---|---|---|---|---|---|---|---|---|---|---|\n",
       "| Fiat 128       | 32.4 | 4 | 78.7 |  66 | 4.08 | 2.200 | 19.47 | 1 | 1 | 4 | 1 |\n",
       "| Honda Civic    | 30.4 | 4 | 75.7 |  52 | 4.93 | 1.615 | 18.52 | 1 | 1 | 4 | 2 |\n",
       "| Toyota Corolla | 33.9 | 4 | 71.1 |  65 | 4.22 | 1.835 | 19.90 | 1 | 1 | 4 | 1 |\n",
       "| Lotus Europa   | 30.4 | 4 | 95.1 | 113 | 3.77 | 1.513 | 16.90 | 1 | 1 | 5 | 2 |\n",
       "\n"
      ],
      "text/plain": [
       "  model          mpg  cyl disp hp  drat wt    qsec  vs am gear carb\n",
       "1 Fiat 128       32.4 4   78.7  66 4.08 2.200 19.47 1  1  4    1   \n",
       "2 Honda Civic    30.4 4   75.7  52 4.93 1.615 18.52 1  1  4    2   \n",
       "3 Toyota Corolla 33.9 4   71.1  65 4.22 1.835 19.90 1  1  4    1   \n",
       "4 Lotus Europa   30.4 4   95.1 113 3.77 1.513 16.90 1  1  5    2   "
      ]
     },
     "metadata": {},
     "output_type": "display_data"
    }
   ],
   "source": [
    "mtcars %>% filter(mpg>=30)"
   ]
  },
  {
   "cell_type": "code",
   "execution_count": 34,
   "metadata": {},
   "outputs": [
    {
     "data": {
      "text/html": [
       "<table>\n",
       "<caption>A data.frame: 2 × 12</caption>\n",
       "<thead>\n",
       "\t<tr><th scope=col>model</th><th scope=col>mpg</th><th scope=col>cyl</th><th scope=col>disp</th><th scope=col>hp</th><th scope=col>drat</th><th scope=col>wt</th><th scope=col>qsec</th><th scope=col>vs</th><th scope=col>am</th><th scope=col>gear</th><th scope=col>carb</th></tr>\n",
       "\t<tr><th scope=col>&lt;fct&gt;</th><th scope=col>&lt;dbl&gt;</th><th scope=col>&lt;int&gt;</th><th scope=col>&lt;dbl&gt;</th><th scope=col>&lt;int&gt;</th><th scope=col>&lt;dbl&gt;</th><th scope=col>&lt;dbl&gt;</th><th scope=col>&lt;dbl&gt;</th><th scope=col>&lt;int&gt;</th><th scope=col>&lt;int&gt;</th><th scope=col>&lt;int&gt;</th><th scope=col>&lt;int&gt;</th></tr>\n",
       "</thead>\n",
       "<tbody>\n",
       "\t<tr><td>Honda Civic </td><td>30.4</td><td>4</td><td>75.7</td><td> 52</td><td>4.93</td><td>1.615</td><td>18.52</td><td>1</td><td>1</td><td>4</td><td>2</td></tr>\n",
       "\t<tr><td>Lotus Europa</td><td>30.4</td><td>4</td><td>95.1</td><td>113</td><td>3.77</td><td>1.513</td><td>16.90</td><td>1</td><td>1</td><td>5</td><td>2</td></tr>\n",
       "</tbody>\n",
       "</table>\n"
      ],
      "text/latex": [
       "A data.frame: 2 × 12\n",
       "\\begin{tabular}{llllllllllll}\n",
       " model & mpg & cyl & disp & hp & drat & wt & qsec & vs & am & gear & carb\\\\\n",
       " <fct> & <dbl> & <int> & <dbl> & <int> & <dbl> & <dbl> & <dbl> & <int> & <int> & <int> & <int>\\\\\n",
       "\\hline\n",
       "\t Honda Civic  & 30.4 & 4 & 75.7 &  52 & 4.93 & 1.615 & 18.52 & 1 & 1 & 4 & 2\\\\\n",
       "\t Lotus Europa & 30.4 & 4 & 95.1 & 113 & 3.77 & 1.513 & 16.90 & 1 & 1 & 5 & 2\\\\\n",
       "\\end{tabular}\n"
      ],
      "text/markdown": [
       "\n",
       "A data.frame: 2 × 12\n",
       "\n",
       "| model &lt;fct&gt; | mpg &lt;dbl&gt; | cyl &lt;int&gt; | disp &lt;dbl&gt; | hp &lt;int&gt; | drat &lt;dbl&gt; | wt &lt;dbl&gt; | qsec &lt;dbl&gt; | vs &lt;int&gt; | am &lt;int&gt; | gear &lt;int&gt; | carb &lt;int&gt; |\n",
       "|---|---|---|---|---|---|---|---|---|---|---|---|\n",
       "| Honda Civic  | 30.4 | 4 | 75.7 |  52 | 4.93 | 1.615 | 18.52 | 1 | 1 | 4 | 2 |\n",
       "| Lotus Europa | 30.4 | 4 | 95.1 | 113 | 3.77 | 1.513 | 16.90 | 1 | 1 | 5 | 2 |\n",
       "\n"
      ],
      "text/plain": [
       "  model        mpg  cyl disp hp  drat wt    qsec  vs am gear carb\n",
       "1 Honda Civic  30.4 4   75.7  52 4.93 1.615 18.52 1  1  4    2   \n",
       "2 Lotus Europa 30.4 4   95.1 113 3.77 1.513 16.90 1  1  5    2   "
      ]
     },
     "metadata": {},
     "output_type": "display_data"
    }
   ],
   "source": [
    "mtcars %>% filter(mpg>=30 & carb==2)"
   ]
  },
  {
   "cell_type": "code",
   "execution_count": 35,
   "metadata": {},
   "outputs": [
    {
     "data": {
      "text/html": [
       "<table>\n",
       "<caption>A data.frame: 5 × 12</caption>\n",
       "<thead>\n",
       "\t<tr><th scope=col>model</th><th scope=col>mpg</th><th scope=col>cyl</th><th scope=col>disp</th><th scope=col>hp</th><th scope=col>drat</th><th scope=col>wt</th><th scope=col>qsec</th><th scope=col>vs</th><th scope=col>am</th><th scope=col>gear</th><th scope=col>carb</th></tr>\n",
       "\t<tr><th scope=col>&lt;fct&gt;</th><th scope=col>&lt;dbl&gt;</th><th scope=col>&lt;int&gt;</th><th scope=col>&lt;dbl&gt;</th><th scope=col>&lt;int&gt;</th><th scope=col>&lt;dbl&gt;</th><th scope=col>&lt;dbl&gt;</th><th scope=col>&lt;dbl&gt;</th><th scope=col>&lt;int&gt;</th><th scope=col>&lt;int&gt;</th><th scope=col>&lt;int&gt;</th><th scope=col>&lt;int&gt;</th></tr>\n",
       "</thead>\n",
       "<tbody>\n",
       "\t<tr><td>Fiat 128      </td><td>32.4</td><td>4</td><td>78.7</td><td> 66</td><td>4.08</td><td>2.200</td><td>19.47</td><td>1</td><td>1</td><td>4</td><td>1</td></tr>\n",
       "\t<tr><td>Honda Civic   </td><td>30.4</td><td>4</td><td>75.7</td><td> 52</td><td>4.93</td><td>1.615</td><td>18.52</td><td>1</td><td>1</td><td>4</td><td>2</td></tr>\n",
       "\t<tr><td>Toyota Corolla</td><td>33.9</td><td>4</td><td>71.1</td><td> 65</td><td>4.22</td><td>1.835</td><td>19.90</td><td>1</td><td>1</td><td>4</td><td>1</td></tr>\n",
       "\t<tr><td>Fiat X1-9     </td><td>27.3</td><td>4</td><td>79.0</td><td> 66</td><td>4.08</td><td>1.935</td><td>18.90</td><td>1</td><td>1</td><td>4</td><td>1</td></tr>\n",
       "\t<tr><td>Lotus Europa  </td><td>30.4</td><td>4</td><td>95.1</td><td>113</td><td>3.77</td><td>1.513</td><td>16.90</td><td>1</td><td>1</td><td>5</td><td>2</td></tr>\n",
       "</tbody>\n",
       "</table>\n"
      ],
      "text/latex": [
       "A data.frame: 5 × 12\n",
       "\\begin{tabular}{llllllllllll}\n",
       " model & mpg & cyl & disp & hp & drat & wt & qsec & vs & am & gear & carb\\\\\n",
       " <fct> & <dbl> & <int> & <dbl> & <int> & <dbl> & <dbl> & <dbl> & <int> & <int> & <int> & <int>\\\\\n",
       "\\hline\n",
       "\t Fiat 128       & 32.4 & 4 & 78.7 &  66 & 4.08 & 2.200 & 19.47 & 1 & 1 & 4 & 1\\\\\n",
       "\t Honda Civic    & 30.4 & 4 & 75.7 &  52 & 4.93 & 1.615 & 18.52 & 1 & 1 & 4 & 2\\\\\n",
       "\t Toyota Corolla & 33.9 & 4 & 71.1 &  65 & 4.22 & 1.835 & 19.90 & 1 & 1 & 4 & 1\\\\\n",
       "\t Fiat X1-9      & 27.3 & 4 & 79.0 &  66 & 4.08 & 1.935 & 18.90 & 1 & 1 & 4 & 1\\\\\n",
       "\t Lotus Europa   & 30.4 & 4 & 95.1 & 113 & 3.77 & 1.513 & 16.90 & 1 & 1 & 5 & 2\\\\\n",
       "\\end{tabular}\n"
      ],
      "text/markdown": [
       "\n",
       "A data.frame: 5 × 12\n",
       "\n",
       "| model &lt;fct&gt; | mpg &lt;dbl&gt; | cyl &lt;int&gt; | disp &lt;dbl&gt; | hp &lt;int&gt; | drat &lt;dbl&gt; | wt &lt;dbl&gt; | qsec &lt;dbl&gt; | vs &lt;int&gt; | am &lt;int&gt; | gear &lt;int&gt; | carb &lt;int&gt; |\n",
       "|---|---|---|---|---|---|---|---|---|---|---|---|\n",
       "| Fiat 128       | 32.4 | 4 | 78.7 |  66 | 4.08 | 2.200 | 19.47 | 1 | 1 | 4 | 1 |\n",
       "| Honda Civic    | 30.4 | 4 | 75.7 |  52 | 4.93 | 1.615 | 18.52 | 1 | 1 | 4 | 2 |\n",
       "| Toyota Corolla | 33.9 | 4 | 71.1 |  65 | 4.22 | 1.835 | 19.90 | 1 | 1 | 4 | 1 |\n",
       "| Fiat X1-9      | 27.3 | 4 | 79.0 |  66 | 4.08 | 1.935 | 18.90 | 1 | 1 | 4 | 1 |\n",
       "| Lotus Europa   | 30.4 | 4 | 95.1 | 113 | 3.77 | 1.513 | 16.90 | 1 | 1 | 5 | 2 |\n",
       "\n"
      ],
      "text/plain": [
       "  model          mpg  cyl disp hp  drat wt    qsec  vs am gear carb\n",
       "1 Fiat 128       32.4 4   78.7  66 4.08 2.200 19.47 1  1  4    1   \n",
       "2 Honda Civic    30.4 4   75.7  52 4.93 1.615 18.52 1  1  4    2   \n",
       "3 Toyota Corolla 33.9 4   71.1  65 4.22 1.835 19.90 1  1  4    1   \n",
       "4 Fiat X1-9      27.3 4   79.0  66 4.08 1.935 18.90 1  1  4    1   \n",
       "5 Lotus Europa   30.4 4   95.1 113 3.77 1.513 16.90 1  1  5    2   "
      ]
     },
     "metadata": {},
     "output_type": "display_data"
    }
   ],
   "source": [
    "mtcars %>% filter(mpg>=30 | disp<=90)"
   ]
  },
  {
   "cell_type": "code",
   "execution_count": 36,
   "metadata": {},
   "outputs": [
    {
     "data": {
      "text/html": [
       "<table>\n",
       "<caption>A data.frame: 11 × 12</caption>\n",
       "<thead>\n",
       "\t<tr><th scope=col>model</th><th scope=col>mpg</th><th scope=col>cyl</th><th scope=col>disp</th><th scope=col>hp</th><th scope=col>drat</th><th scope=col>wt</th><th scope=col>qsec</th><th scope=col>vs</th><th scope=col>am</th><th scope=col>gear</th><th scope=col>carb</th></tr>\n",
       "\t<tr><th scope=col>&lt;fct&gt;</th><th scope=col>&lt;dbl&gt;</th><th scope=col>&lt;int&gt;</th><th scope=col>&lt;dbl&gt;</th><th scope=col>&lt;int&gt;</th><th scope=col>&lt;dbl&gt;</th><th scope=col>&lt;dbl&gt;</th><th scope=col>&lt;dbl&gt;</th><th scope=col>&lt;int&gt;</th><th scope=col>&lt;int&gt;</th><th scope=col>&lt;int&gt;</th><th scope=col>&lt;int&gt;</th></tr>\n",
       "</thead>\n",
       "<tbody>\n",
       "\t<tr><td>Hornet Sportabout  </td><td>18.7</td><td>8</td><td>360</td><td>175</td><td>3.15</td><td>3.440</td><td>17.02</td><td>0</td><td>0</td><td>3</td><td>2</td></tr>\n",
       "\t<tr><td>Duster 360         </td><td>14.3</td><td>8</td><td>360</td><td>245</td><td>3.21</td><td>3.570</td><td>15.84</td><td>0</td><td>0</td><td>3</td><td>4</td></tr>\n",
       "\t<tr><td>Cadillac Fleetwood </td><td>10.4</td><td>8</td><td>472</td><td>205</td><td>2.93</td><td>5.250</td><td>17.98</td><td>0</td><td>0</td><td>3</td><td>4</td></tr>\n",
       "\t<tr><td>Lincoln Continental</td><td>10.4</td><td>8</td><td>460</td><td>215</td><td>3.00</td><td>5.424</td><td>17.82</td><td>0</td><td>0</td><td>3</td><td>4</td></tr>\n",
       "\t<tr><td>Chrysler Imperial  </td><td>14.7</td><td>8</td><td>440</td><td>230</td><td>3.23</td><td>5.345</td><td>17.42</td><td>0</td><td>0</td><td>3</td><td>4</td></tr>\n",
       "\t<tr><td>Dodge Challenger   </td><td>15.5</td><td>8</td><td>318</td><td>150</td><td>2.76</td><td>3.520</td><td>16.87</td><td>0</td><td>0</td><td>3</td><td>2</td></tr>\n",
       "\t<tr><td>AMC Javelin        </td><td>15.2</td><td>8</td><td>304</td><td>150</td><td>3.15</td><td>3.435</td><td>17.30</td><td>0</td><td>0</td><td>3</td><td>2</td></tr>\n",
       "\t<tr><td>Camaro Z28         </td><td>13.3</td><td>8</td><td>350</td><td>245</td><td>3.73</td><td>3.840</td><td>15.41</td><td>0</td><td>0</td><td>3</td><td>4</td></tr>\n",
       "\t<tr><td>Pontiac Firebird   </td><td>19.2</td><td>8</td><td>400</td><td>175</td><td>3.08</td><td>3.845</td><td>17.05</td><td>0</td><td>0</td><td>3</td><td>2</td></tr>\n",
       "\t<tr><td>Ford Pantera L     </td><td>15.8</td><td>8</td><td>351</td><td>264</td><td>4.22</td><td>3.170</td><td>14.50</td><td>0</td><td>1</td><td>5</td><td>4</td></tr>\n",
       "\t<tr><td>Maserati Bora      </td><td>15.0</td><td>8</td><td>301</td><td>335</td><td>3.54</td><td>3.570</td><td>14.60</td><td>0</td><td>1</td><td>5</td><td>8</td></tr>\n",
       "</tbody>\n",
       "</table>\n"
      ],
      "text/latex": [
       "A data.frame: 11 × 12\n",
       "\\begin{tabular}{llllllllllll}\n",
       " model & mpg & cyl & disp & hp & drat & wt & qsec & vs & am & gear & carb\\\\\n",
       " <fct> & <dbl> & <int> & <dbl> & <int> & <dbl> & <dbl> & <dbl> & <int> & <int> & <int> & <int>\\\\\n",
       "\\hline\n",
       "\t Hornet Sportabout   & 18.7 & 8 & 360 & 175 & 3.15 & 3.440 & 17.02 & 0 & 0 & 3 & 2\\\\\n",
       "\t Duster 360          & 14.3 & 8 & 360 & 245 & 3.21 & 3.570 & 15.84 & 0 & 0 & 3 & 4\\\\\n",
       "\t Cadillac Fleetwood  & 10.4 & 8 & 472 & 205 & 2.93 & 5.250 & 17.98 & 0 & 0 & 3 & 4\\\\\n",
       "\t Lincoln Continental & 10.4 & 8 & 460 & 215 & 3.00 & 5.424 & 17.82 & 0 & 0 & 3 & 4\\\\\n",
       "\t Chrysler Imperial   & 14.7 & 8 & 440 & 230 & 3.23 & 5.345 & 17.42 & 0 & 0 & 3 & 4\\\\\n",
       "\t Dodge Challenger    & 15.5 & 8 & 318 & 150 & 2.76 & 3.520 & 16.87 & 0 & 0 & 3 & 2\\\\\n",
       "\t AMC Javelin         & 15.2 & 8 & 304 & 150 & 3.15 & 3.435 & 17.30 & 0 & 0 & 3 & 2\\\\\n",
       "\t Camaro Z28          & 13.3 & 8 & 350 & 245 & 3.73 & 3.840 & 15.41 & 0 & 0 & 3 & 4\\\\\n",
       "\t Pontiac Firebird    & 19.2 & 8 & 400 & 175 & 3.08 & 3.845 & 17.05 & 0 & 0 & 3 & 2\\\\\n",
       "\t Ford Pantera L      & 15.8 & 8 & 351 & 264 & 4.22 & 3.170 & 14.50 & 0 & 1 & 5 & 4\\\\\n",
       "\t Maserati Bora       & 15.0 & 8 & 301 & 335 & 3.54 & 3.570 & 14.60 & 0 & 1 & 5 & 8\\\\\n",
       "\\end{tabular}\n"
      ],
      "text/markdown": [
       "\n",
       "A data.frame: 11 × 12\n",
       "\n",
       "| model &lt;fct&gt; | mpg &lt;dbl&gt; | cyl &lt;int&gt; | disp &lt;dbl&gt; | hp &lt;int&gt; | drat &lt;dbl&gt; | wt &lt;dbl&gt; | qsec &lt;dbl&gt; | vs &lt;int&gt; | am &lt;int&gt; | gear &lt;int&gt; | carb &lt;int&gt; |\n",
       "|---|---|---|---|---|---|---|---|---|---|---|---|\n",
       "| Hornet Sportabout   | 18.7 | 8 | 360 | 175 | 3.15 | 3.440 | 17.02 | 0 | 0 | 3 | 2 |\n",
       "| Duster 360          | 14.3 | 8 | 360 | 245 | 3.21 | 3.570 | 15.84 | 0 | 0 | 3 | 4 |\n",
       "| Cadillac Fleetwood  | 10.4 | 8 | 472 | 205 | 2.93 | 5.250 | 17.98 | 0 | 0 | 3 | 4 |\n",
       "| Lincoln Continental | 10.4 | 8 | 460 | 215 | 3.00 | 5.424 | 17.82 | 0 | 0 | 3 | 4 |\n",
       "| Chrysler Imperial   | 14.7 | 8 | 440 | 230 | 3.23 | 5.345 | 17.42 | 0 | 0 | 3 | 4 |\n",
       "| Dodge Challenger    | 15.5 | 8 | 318 | 150 | 2.76 | 3.520 | 16.87 | 0 | 0 | 3 | 2 |\n",
       "| AMC Javelin         | 15.2 | 8 | 304 | 150 | 3.15 | 3.435 | 17.30 | 0 | 0 | 3 | 2 |\n",
       "| Camaro Z28          | 13.3 | 8 | 350 | 245 | 3.73 | 3.840 | 15.41 | 0 | 0 | 3 | 4 |\n",
       "| Pontiac Firebird    | 19.2 | 8 | 400 | 175 | 3.08 | 3.845 | 17.05 | 0 | 0 | 3 | 2 |\n",
       "| Ford Pantera L      | 15.8 | 8 | 351 | 264 | 4.22 | 3.170 | 14.50 | 0 | 1 | 5 | 4 |\n",
       "| Maserati Bora       | 15.0 | 8 | 301 | 335 | 3.54 | 3.570 | 14.60 | 0 | 1 | 5 | 8 |\n",
       "\n"
      ],
      "text/plain": [
       "   model               mpg  cyl disp hp  drat wt    qsec  vs am gear carb\n",
       "1  Hornet Sportabout   18.7 8   360  175 3.15 3.440 17.02 0  0  3    2   \n",
       "2  Duster 360          14.3 8   360  245 3.21 3.570 15.84 0  0  3    4   \n",
       "3  Cadillac Fleetwood  10.4 8   472  205 2.93 5.250 17.98 0  0  3    4   \n",
       "4  Lincoln Continental 10.4 8   460  215 3.00 5.424 17.82 0  0  3    4   \n",
       "5  Chrysler Imperial   14.7 8   440  230 3.23 5.345 17.42 0  0  3    4   \n",
       "6  Dodge Challenger    15.5 8   318  150 2.76 3.520 16.87 0  0  3    2   \n",
       "7  AMC Javelin         15.2 8   304  150 3.15 3.435 17.30 0  0  3    2   \n",
       "8  Camaro Z28          13.3 8   350  245 3.73 3.840 15.41 0  0  3    4   \n",
       "9  Pontiac Firebird    19.2 8   400  175 3.08 3.845 17.05 0  0  3    2   \n",
       "10 Ford Pantera L      15.8 8   351  264 4.22 3.170 14.50 0  1  5    4   \n",
       "11 Maserati Bora       15.0 8   301  335 3.54 3.570 14.60 0  1  5    8   "
      ]
     },
     "metadata": {},
     "output_type": "display_data"
    }
   ],
   "source": [
    "mtcars %>% \n",
    "    filter(disp>300) %>% \n",
    "    filter(cyl==6 | cyl==8)"
   ]
  },
  {
   "cell_type": "markdown",
   "metadata": {},
   "source": [
    "### 1.5. Adding columns"
   ]
  },
  {
   "cell_type": "code",
   "execution_count": 37,
   "metadata": {},
   "outputs": [],
   "source": [
    "library(dplyr)"
   ]
  },
  {
   "cell_type": "code",
   "execution_count": 38,
   "metadata": {},
   "outputs": [],
   "source": [
    "mtcars <- read.csv('../data/mtcars.csv')"
   ]
  },
  {
   "cell_type": "code",
   "execution_count": 39,
   "metadata": {},
   "outputs": [
    {
     "data": {
      "text/html": [
       "<table>\n",
       "<caption>A data.frame: 6 × 13</caption>\n",
       "<thead>\n",
       "\t<tr><th></th><th scope=col>model</th><th scope=col>mpg</th><th scope=col>cyl</th><th scope=col>disp</th><th scope=col>hp</th><th scope=col>drat</th><th scope=col>wt</th><th scope=col>qsec</th><th scope=col>vs</th><th scope=col>am</th><th scope=col>gear</th><th scope=col>carb</th><th scope=col>new</th></tr>\n",
       "\t<tr><th></th><th scope=col>&lt;fct&gt;</th><th scope=col>&lt;dbl&gt;</th><th scope=col>&lt;int&gt;</th><th scope=col>&lt;dbl&gt;</th><th scope=col>&lt;int&gt;</th><th scope=col>&lt;dbl&gt;</th><th scope=col>&lt;dbl&gt;</th><th scope=col>&lt;dbl&gt;</th><th scope=col>&lt;int&gt;</th><th scope=col>&lt;int&gt;</th><th scope=col>&lt;int&gt;</th><th scope=col>&lt;int&gt;</th><th scope=col>&lt;dbl&gt;</th></tr>\n",
       "</thead>\n",
       "<tbody>\n",
       "\t<tr><th scope=row>1</th><td>Mazda RX4        </td><td>21.0</td><td>6</td><td>160</td><td>110</td><td>3.90</td><td>2.620</td><td>16.46</td><td>0</td><td>1</td><td>4</td><td>4</td><td>0</td></tr>\n",
       "\t<tr><th scope=row>2</th><td>Mazda RX4 Wag    </td><td>21.0</td><td>6</td><td>160</td><td>110</td><td>3.90</td><td>2.875</td><td>17.02</td><td>0</td><td>1</td><td>4</td><td>4</td><td>0</td></tr>\n",
       "\t<tr><th scope=row>3</th><td>Datsun 710       </td><td>22.8</td><td>4</td><td>108</td><td> 93</td><td>3.85</td><td>2.320</td><td>18.61</td><td>1</td><td>1</td><td>4</td><td>1</td><td>0</td></tr>\n",
       "\t<tr><th scope=row>4</th><td>Hornet 4 Drive   </td><td>21.4</td><td>6</td><td>258</td><td>110</td><td>3.08</td><td>3.215</td><td>19.44</td><td>1</td><td>0</td><td>3</td><td>1</td><td>0</td></tr>\n",
       "\t<tr><th scope=row>5</th><td>Hornet Sportabout</td><td>18.7</td><td>8</td><td>360</td><td>175</td><td>3.15</td><td>3.440</td><td>17.02</td><td>0</td><td>0</td><td>3</td><td>2</td><td>0</td></tr>\n",
       "\t<tr><th scope=row>6</th><td>Valiant          </td><td>18.1</td><td>6</td><td>225</td><td>105</td><td>2.76</td><td>3.460</td><td>20.22</td><td>1</td><td>0</td><td>3</td><td>1</td><td>0</td></tr>\n",
       "</tbody>\n",
       "</table>\n"
      ],
      "text/latex": [
       "A data.frame: 6 × 13\n",
       "\\begin{tabular}{r|lllllllllllll}\n",
       "  & model & mpg & cyl & disp & hp & drat & wt & qsec & vs & am & gear & carb & new\\\\\n",
       "  & <fct> & <dbl> & <int> & <dbl> & <int> & <dbl> & <dbl> & <dbl> & <int> & <int> & <int> & <int> & <dbl>\\\\\n",
       "\\hline\n",
       "\t1 & Mazda RX4         & 21.0 & 6 & 160 & 110 & 3.90 & 2.620 & 16.46 & 0 & 1 & 4 & 4 & 0\\\\\n",
       "\t2 & Mazda RX4 Wag     & 21.0 & 6 & 160 & 110 & 3.90 & 2.875 & 17.02 & 0 & 1 & 4 & 4 & 0\\\\\n",
       "\t3 & Datsun 710        & 22.8 & 4 & 108 &  93 & 3.85 & 2.320 & 18.61 & 1 & 1 & 4 & 1 & 0\\\\\n",
       "\t4 & Hornet 4 Drive    & 21.4 & 6 & 258 & 110 & 3.08 & 3.215 & 19.44 & 1 & 0 & 3 & 1 & 0\\\\\n",
       "\t5 & Hornet Sportabout & 18.7 & 8 & 360 & 175 & 3.15 & 3.440 & 17.02 & 0 & 0 & 3 & 2 & 0\\\\\n",
       "\t6 & Valiant           & 18.1 & 6 & 225 & 105 & 2.76 & 3.460 & 20.22 & 1 & 0 & 3 & 1 & 0\\\\\n",
       "\\end{tabular}\n"
      ],
      "text/markdown": [
       "\n",
       "A data.frame: 6 × 13\n",
       "\n",
       "| <!--/--> | model &lt;fct&gt; | mpg &lt;dbl&gt; | cyl &lt;int&gt; | disp &lt;dbl&gt; | hp &lt;int&gt; | drat &lt;dbl&gt; | wt &lt;dbl&gt; | qsec &lt;dbl&gt; | vs &lt;int&gt; | am &lt;int&gt; | gear &lt;int&gt; | carb &lt;int&gt; | new &lt;dbl&gt; |\n",
       "|---|---|---|---|---|---|---|---|---|---|---|---|---|---|\n",
       "| 1 | Mazda RX4         | 21.0 | 6 | 160 | 110 | 3.90 | 2.620 | 16.46 | 0 | 1 | 4 | 4 | 0 |\n",
       "| 2 | Mazda RX4 Wag     | 21.0 | 6 | 160 | 110 | 3.90 | 2.875 | 17.02 | 0 | 1 | 4 | 4 | 0 |\n",
       "| 3 | Datsun 710        | 22.8 | 4 | 108 |  93 | 3.85 | 2.320 | 18.61 | 1 | 1 | 4 | 1 | 0 |\n",
       "| 4 | Hornet 4 Drive    | 21.4 | 6 | 258 | 110 | 3.08 | 3.215 | 19.44 | 1 | 0 | 3 | 1 | 0 |\n",
       "| 5 | Hornet Sportabout | 18.7 | 8 | 360 | 175 | 3.15 | 3.440 | 17.02 | 0 | 0 | 3 | 2 | 0 |\n",
       "| 6 | Valiant           | 18.1 | 6 | 225 | 105 | 2.76 | 3.460 | 20.22 | 1 | 0 | 3 | 1 | 0 |\n",
       "\n"
      ],
      "text/plain": [
       "  model             mpg  cyl disp hp  drat wt    qsec  vs am gear carb new\n",
       "1 Mazda RX4         21.0 6   160  110 3.90 2.620 16.46 0  1  4    4    0  \n",
       "2 Mazda RX4 Wag     21.0 6   160  110 3.90 2.875 17.02 0  1  4    4    0  \n",
       "3 Datsun 710        22.8 4   108   93 3.85 2.320 18.61 1  1  4    1    0  \n",
       "4 Hornet 4 Drive    21.4 6   258  110 3.08 3.215 19.44 1  0  3    1    0  \n",
       "5 Hornet Sportabout 18.7 8   360  175 3.15 3.440 17.02 0  0  3    2    0  \n",
       "6 Valiant           18.1 6   225  105 2.76 3.460 20.22 1  0  3    1    0  "
      ]
     },
     "metadata": {},
     "output_type": "display_data"
    }
   ],
   "source": [
    "mtcars %>% mutate(new=0) %>% head"
   ]
  },
  {
   "cell_type": "code",
   "execution_count": 40,
   "metadata": {},
   "outputs": [
    {
     "data": {
      "text/html": [
       "<table>\n",
       "<caption>A data.frame: 6 × 14</caption>\n",
       "<thead>\n",
       "\t<tr><th></th><th scope=col>model</th><th scope=col>mpg</th><th scope=col>cyl</th><th scope=col>disp</th><th scope=col>hp</th><th scope=col>drat</th><th scope=col>wt</th><th scope=col>qsec</th><th scope=col>vs</th><th scope=col>am</th><th scope=col>gear</th><th scope=col>carb</th><th scope=col>new1</th><th scope=col>new2</th></tr>\n",
       "\t<tr><th></th><th scope=col>&lt;fct&gt;</th><th scope=col>&lt;dbl&gt;</th><th scope=col>&lt;int&gt;</th><th scope=col>&lt;dbl&gt;</th><th scope=col>&lt;int&gt;</th><th scope=col>&lt;dbl&gt;</th><th scope=col>&lt;dbl&gt;</th><th scope=col>&lt;dbl&gt;</th><th scope=col>&lt;int&gt;</th><th scope=col>&lt;int&gt;</th><th scope=col>&lt;int&gt;</th><th scope=col>&lt;int&gt;</th><th scope=col>&lt;int&gt;</th><th scope=col>&lt;chr&gt;</th></tr>\n",
       "</thead>\n",
       "<tbody>\n",
       "\t<tr><th scope=row>1</th><td>Mazda RX4        </td><td>21.0</td><td>6</td><td>160</td><td>110</td><td>3.90</td><td>2.620</td><td>16.46</td><td>0</td><td>1</td><td>4</td><td>4</td><td>8</td><td>nothing</td></tr>\n",
       "\t<tr><th scope=row>2</th><td>Mazda RX4 Wag    </td><td>21.0</td><td>6</td><td>160</td><td>110</td><td>3.90</td><td>2.875</td><td>17.02</td><td>0</td><td>1</td><td>4</td><td>4</td><td>8</td><td>nothing</td></tr>\n",
       "\t<tr><th scope=row>3</th><td>Datsun 710       </td><td>22.8</td><td>4</td><td>108</td><td> 93</td><td>3.85</td><td>2.320</td><td>18.61</td><td>1</td><td>1</td><td>4</td><td>1</td><td>5</td><td>nothing</td></tr>\n",
       "\t<tr><th scope=row>4</th><td>Hornet 4 Drive   </td><td>21.4</td><td>6</td><td>258</td><td>110</td><td>3.08</td><td>3.215</td><td>19.44</td><td>1</td><td>0</td><td>3</td><td>1</td><td>4</td><td>nothing</td></tr>\n",
       "\t<tr><th scope=row>5</th><td>Hornet Sportabout</td><td>18.7</td><td>8</td><td>360</td><td>175</td><td>3.15</td><td>3.440</td><td>17.02</td><td>0</td><td>0</td><td>3</td><td>2</td><td>5</td><td>nothing</td></tr>\n",
       "\t<tr><th scope=row>6</th><td>Valiant          </td><td>18.1</td><td>6</td><td>225</td><td>105</td><td>2.76</td><td>3.460</td><td>20.22</td><td>1</td><td>0</td><td>3</td><td>1</td><td>4</td><td>nothing</td></tr>\n",
       "</tbody>\n",
       "</table>\n"
      ],
      "text/latex": [
       "A data.frame: 6 × 14\n",
       "\\begin{tabular}{r|llllllllllllll}\n",
       "  & model & mpg & cyl & disp & hp & drat & wt & qsec & vs & am & gear & carb & new1 & new2\\\\\n",
       "  & <fct> & <dbl> & <int> & <dbl> & <int> & <dbl> & <dbl> & <dbl> & <int> & <int> & <int> & <int> & <int> & <chr>\\\\\n",
       "\\hline\n",
       "\t1 & Mazda RX4         & 21.0 & 6 & 160 & 110 & 3.90 & 2.620 & 16.46 & 0 & 1 & 4 & 4 & 8 & nothing\\\\\n",
       "\t2 & Mazda RX4 Wag     & 21.0 & 6 & 160 & 110 & 3.90 & 2.875 & 17.02 & 0 & 1 & 4 & 4 & 8 & nothing\\\\\n",
       "\t3 & Datsun 710        & 22.8 & 4 & 108 &  93 & 3.85 & 2.320 & 18.61 & 1 & 1 & 4 & 1 & 5 & nothing\\\\\n",
       "\t4 & Hornet 4 Drive    & 21.4 & 6 & 258 & 110 & 3.08 & 3.215 & 19.44 & 1 & 0 & 3 & 1 & 4 & nothing\\\\\n",
       "\t5 & Hornet Sportabout & 18.7 & 8 & 360 & 175 & 3.15 & 3.440 & 17.02 & 0 & 0 & 3 & 2 & 5 & nothing\\\\\n",
       "\t6 & Valiant           & 18.1 & 6 & 225 & 105 & 2.76 & 3.460 & 20.22 & 1 & 0 & 3 & 1 & 4 & nothing\\\\\n",
       "\\end{tabular}\n"
      ],
      "text/markdown": [
       "\n",
       "A data.frame: 6 × 14\n",
       "\n",
       "| <!--/--> | model &lt;fct&gt; | mpg &lt;dbl&gt; | cyl &lt;int&gt; | disp &lt;dbl&gt; | hp &lt;int&gt; | drat &lt;dbl&gt; | wt &lt;dbl&gt; | qsec &lt;dbl&gt; | vs &lt;int&gt; | am &lt;int&gt; | gear &lt;int&gt; | carb &lt;int&gt; | new1 &lt;int&gt; | new2 &lt;chr&gt; |\n",
       "|---|---|---|---|---|---|---|---|---|---|---|---|---|---|---|\n",
       "| 1 | Mazda RX4         | 21.0 | 6 | 160 | 110 | 3.90 | 2.620 | 16.46 | 0 | 1 | 4 | 4 | 8 | nothing |\n",
       "| 2 | Mazda RX4 Wag     | 21.0 | 6 | 160 | 110 | 3.90 | 2.875 | 17.02 | 0 | 1 | 4 | 4 | 8 | nothing |\n",
       "| 3 | Datsun 710        | 22.8 | 4 | 108 |  93 | 3.85 | 2.320 | 18.61 | 1 | 1 | 4 | 1 | 5 | nothing |\n",
       "| 4 | Hornet 4 Drive    | 21.4 | 6 | 258 | 110 | 3.08 | 3.215 | 19.44 | 1 | 0 | 3 | 1 | 4 | nothing |\n",
       "| 5 | Hornet Sportabout | 18.7 | 8 | 360 | 175 | 3.15 | 3.440 | 17.02 | 0 | 0 | 3 | 2 | 5 | nothing |\n",
       "| 6 | Valiant           | 18.1 | 6 | 225 | 105 | 2.76 | 3.460 | 20.22 | 1 | 0 | 3 | 1 | 4 | nothing |\n",
       "\n"
      ],
      "text/plain": [
       "  model             mpg  cyl disp hp  drat wt    qsec  vs am gear carb new1\n",
       "1 Mazda RX4         21.0 6   160  110 3.90 2.620 16.46 0  1  4    4    8   \n",
       "2 Mazda RX4 Wag     21.0 6   160  110 3.90 2.875 17.02 0  1  4    4    8   \n",
       "3 Datsun 710        22.8 4   108   93 3.85 2.320 18.61 1  1  4    1    5   \n",
       "4 Hornet 4 Drive    21.4 6   258  110 3.08 3.215 19.44 1  0  3    1    4   \n",
       "5 Hornet Sportabout 18.7 8   360  175 3.15 3.440 17.02 0  0  3    2    5   \n",
       "6 Valiant           18.1 6   225  105 2.76 3.460 20.22 1  0  3    1    4   \n",
       "  new2   \n",
       "1 nothing\n",
       "2 nothing\n",
       "3 nothing\n",
       "4 nothing\n",
       "5 nothing\n",
       "6 nothing"
      ]
     },
     "metadata": {},
     "output_type": "display_data"
    }
   ],
   "source": [
    "mtcars %>% mutate(new1=gear+carb, new2='nothing') %>% head"
   ]
  },
  {
   "cell_type": "code",
   "execution_count": 41,
   "metadata": {},
   "outputs": [
    {
     "data": {
      "text/html": [
       "<table>\n",
       "<caption>A data.frame: 10 × 2</caption>\n",
       "<thead>\n",
       "\t<tr><th scope=col>number</th><th scope=col>group</th></tr>\n",
       "\t<tr><th scope=col>&lt;int&gt;</th><th scope=col>&lt;chr&gt;</th></tr>\n",
       "</thead>\n",
       "<tbody>\n",
       "\t<tr><td> 1</td><td>group 1</td></tr>\n",
       "\t<tr><td> 2</td><td>group 1</td></tr>\n",
       "\t<tr><td> 3</td><td>group 1</td></tr>\n",
       "\t<tr><td> 4</td><td>group 1</td></tr>\n",
       "\t<tr><td> 5</td><td>group 1</td></tr>\n",
       "\t<tr><td> 6</td><td>group 2</td></tr>\n",
       "\t<tr><td> 7</td><td>group 2</td></tr>\n",
       "\t<tr><td> 8</td><td>group 3</td></tr>\n",
       "\t<tr><td> 9</td><td>group 3</td></tr>\n",
       "\t<tr><td>10</td><td>group 3</td></tr>\n",
       "</tbody>\n",
       "</table>\n"
      ],
      "text/latex": [
       "A data.frame: 10 × 2\n",
       "\\begin{tabular}{ll}\n",
       " number & group\\\\\n",
       " <int> & <chr>\\\\\n",
       "\\hline\n",
       "\t  1 & group 1\\\\\n",
       "\t  2 & group 1\\\\\n",
       "\t  3 & group 1\\\\\n",
       "\t  4 & group 1\\\\\n",
       "\t  5 & group 1\\\\\n",
       "\t  6 & group 2\\\\\n",
       "\t  7 & group 2\\\\\n",
       "\t  8 & group 3\\\\\n",
       "\t  9 & group 3\\\\\n",
       "\t 10 & group 3\\\\\n",
       "\\end{tabular}\n"
      ],
      "text/markdown": [
       "\n",
       "A data.frame: 10 × 2\n",
       "\n",
       "| number &lt;int&gt; | group &lt;chr&gt; |\n",
       "|---|---|\n",
       "|  1 | group 1 |\n",
       "|  2 | group 1 |\n",
       "|  3 | group 1 |\n",
       "|  4 | group 1 |\n",
       "|  5 | group 1 |\n",
       "|  6 | group 2 |\n",
       "|  7 | group 2 |\n",
       "|  8 | group 3 |\n",
       "|  9 | group 3 |\n",
       "| 10 | group 3 |\n",
       "\n"
      ],
      "text/plain": [
       "   number group  \n",
       "1   1     group 1\n",
       "2   2     group 1\n",
       "3   3     group 1\n",
       "4   4     group 1\n",
       "5   5     group 1\n",
       "6   6     group 2\n",
       "7   7     group 2\n",
       "8   8     group 3\n",
       "9   9     group 3\n",
       "10 10     group 3"
      ]
     },
     "metadata": {},
     "output_type": "display_data"
    }
   ],
   "source": [
    "# mutate with case/when\n",
    "df <- data.frame(number=1:10)\n",
    "df %>%\n",
    "    mutate(\n",
    "        group = case_when(\n",
    "            number<=5 ~ 'group 1',\n",
    "            number>5 & number<8 ~ 'group 2',\n",
    "            TRUE ~ 'group 3'))"
   ]
  },
  {
   "cell_type": "markdown",
   "metadata": {},
   "source": [
    "## 2. Data tidying"
   ]
  },
  {
   "cell_type": "markdown",
   "metadata": {},
   "source": [
    "### 2.1. Data aggregation"
   ]
  },
  {
   "cell_type": "code",
   "execution_count": 42,
   "metadata": {},
   "outputs": [],
   "source": [
    "library(dplyr)"
   ]
  },
  {
   "cell_type": "markdown",
   "metadata": {},
   "source": [
    "#### Basic grouping"
   ]
  },
  {
   "cell_type": "code",
   "execution_count": 43,
   "metadata": {},
   "outputs": [
    {
     "data": {
      "text/html": [
       "<table>\n",
       "<caption>A data.frame: 6 × 7</caption>\n",
       "<thead>\n",
       "\t<tr><th></th><th scope=col>year</th><th scope=col>month</th><th scope=col>product</th><th scope=col>country</th><th scope=col>value</th><th scope=col>feature</th><th scope=col>unit</th></tr>\n",
       "\t<tr><th></th><th scope=col>&lt;int&gt;</th><th scope=col>&lt;int&gt;</th><th scope=col>&lt;fct&gt;</th><th scope=col>&lt;fct&gt;</th><th scope=col>&lt;int&gt;</th><th scope=col>&lt;fct&gt;</th><th scope=col>&lt;fct&gt;</th></tr>\n",
       "</thead>\n",
       "<tbody>\n",
       "\t<tr><th scope=row>1</th><td>2010</td><td>1</td><td>SABLEFISH FRESH</td><td>UNITED ARAB EMIRATES</td><td> 2297</td><td>EXP Quantity</td><td>kg</td></tr>\n",
       "\t<tr><th scope=row>2</th><td>2010</td><td>1</td><td>SABLEFISH FRESH</td><td>JAPAN               </td><td>16025</td><td>EXP Quantity</td><td>kg</td></tr>\n",
       "\t<tr><th scope=row>3</th><td>2010</td><td>1</td><td>SABLEFISH FRESH</td><td>JAPAN               </td><td>63437</td><td>EXP Quantity</td><td>kg</td></tr>\n",
       "\t<tr><th scope=row>4</th><td>2010</td><td>1</td><td>MONKFISH FRESH </td><td>CANADA              </td><td>  579</td><td>EXP Quantity</td><td>kg</td></tr>\n",
       "\t<tr><th scope=row>5</th><td>2010</td><td>1</td><td>MONKFISH FRESH </td><td>CANADA              </td><td> 7975</td><td>EXP Quantity</td><td>kg</td></tr>\n",
       "\t<tr><th scope=row>6</th><td>2010</td><td>1</td><td>MONKFISH FRESH </td><td>NETHERLANDS         </td><td>  389</td><td>EXP Quantity</td><td>kg</td></tr>\n",
       "</tbody>\n",
       "</table>\n"
      ],
      "text/latex": [
       "A data.frame: 6 × 7\n",
       "\\begin{tabular}{r|lllllll}\n",
       "  & year & month & product & country & value & feature & unit\\\\\n",
       "  & <int> & <int> & <fct> & <fct> & <int> & <fct> & <fct>\\\\\n",
       "\\hline\n",
       "\t1 & 2010 & 1 & SABLEFISH FRESH & UNITED ARAB EMIRATES &  2297 & EXP Quantity & kg\\\\\n",
       "\t2 & 2010 & 1 & SABLEFISH FRESH & JAPAN                & 16025 & EXP Quantity & kg\\\\\n",
       "\t3 & 2010 & 1 & SABLEFISH FRESH & JAPAN                & 63437 & EXP Quantity & kg\\\\\n",
       "\t4 & 2010 & 1 & MONKFISH FRESH  & CANADA               &   579 & EXP Quantity & kg\\\\\n",
       "\t5 & 2010 & 1 & MONKFISH FRESH  & CANADA               &  7975 & EXP Quantity & kg\\\\\n",
       "\t6 & 2010 & 1 & MONKFISH FRESH  & NETHERLANDS          &   389 & EXP Quantity & kg\\\\\n",
       "\\end{tabular}\n"
      ],
      "text/markdown": [
       "\n",
       "A data.frame: 6 × 7\n",
       "\n",
       "| <!--/--> | year &lt;int&gt; | month &lt;int&gt; | product &lt;fct&gt; | country &lt;fct&gt; | value &lt;int&gt; | feature &lt;fct&gt; | unit &lt;fct&gt; |\n",
       "|---|---|---|---|---|---|---|---|\n",
       "| 1 | 2010 | 1 | SABLEFISH FRESH | UNITED ARAB EMIRATES |  2297 | EXP Quantity | kg |\n",
       "| 2 | 2010 | 1 | SABLEFISH FRESH | JAPAN                | 16025 | EXP Quantity | kg |\n",
       "| 3 | 2010 | 1 | SABLEFISH FRESH | JAPAN                | 63437 | EXP Quantity | kg |\n",
       "| 4 | 2010 | 1 | MONKFISH FRESH  | CANADA               |   579 | EXP Quantity | kg |\n",
       "| 5 | 2010 | 1 | MONKFISH FRESH  | CANADA               |  7975 | EXP Quantity | kg |\n",
       "| 6 | 2010 | 1 | MONKFISH FRESH  | NETHERLANDS          |   389 | EXP Quantity | kg |\n",
       "\n"
      ],
      "text/plain": [
       "  year month product         country              value feature      unit\n",
       "1 2010 1     SABLEFISH FRESH UNITED ARAB EMIRATES  2297 EXP Quantity kg  \n",
       "2 2010 1     SABLEFISH FRESH JAPAN                16025 EXP Quantity kg  \n",
       "3 2010 1     SABLEFISH FRESH JAPAN                63437 EXP Quantity kg  \n",
       "4 2010 1     MONKFISH FRESH  CANADA                 579 EXP Quantity kg  \n",
       "5 2010 1     MONKFISH FRESH  CANADA                7975 EXP Quantity kg  \n",
       "6 2010 1     MONKFISH FRESH  NETHERLANDS            389 EXP Quantity kg  "
      ]
     },
     "metadata": {},
     "output_type": "display_data"
    }
   ],
   "source": [
    "fish <- read.csv('../data/us_fishery_foreign_trade.csv')\n",
    "fish %>% head"
   ]
  },
  {
   "cell_type": "code",
   "execution_count": 44,
   "metadata": {},
   "outputs": [
    {
     "name": "stderr",
     "output_type": "stream",
     "text": [
      "`summarise()` ungrouping output (override with `.groups` argument)\n",
      "\n"
     ]
    },
    {
     "data": {
      "text/html": [
       "<table>\n",
       "<caption>A tibble: 4 × 2</caption>\n",
       "<thead>\n",
       "\t<tr><th scope=col>feature</th><th scope=col>mean_value</th></tr>\n",
       "\t<tr><th scope=col>&lt;fct&gt;</th><th scope=col>&lt;dbl&gt;</th></tr>\n",
       "</thead>\n",
       "<tbody>\n",
       "\t<tr><td>EXP Quantity</td><td> 38093.38</td></tr>\n",
       "\t<tr><td>EXP Value   </td><td>273375.80</td></tr>\n",
       "\t<tr><td>IMP Quantity</td><td> 28478.83</td></tr>\n",
       "\t<tr><td>IMP Value   </td><td>215764.03</td></tr>\n",
       "</tbody>\n",
       "</table>\n"
      ],
      "text/latex": [
       "A tibble: 4 × 2\n",
       "\\begin{tabular}{ll}\n",
       " feature & mean\\_value\\\\\n",
       " <fct> & <dbl>\\\\\n",
       "\\hline\n",
       "\t EXP Quantity &  38093.38\\\\\n",
       "\t EXP Value    & 273375.80\\\\\n",
       "\t IMP Quantity &  28478.83\\\\\n",
       "\t IMP Value    & 215764.03\\\\\n",
       "\\end{tabular}\n"
      ],
      "text/markdown": [
       "\n",
       "A tibble: 4 × 2\n",
       "\n",
       "| feature &lt;fct&gt; | mean_value &lt;dbl&gt; |\n",
       "|---|---|\n",
       "| EXP Quantity |  38093.38 |\n",
       "| EXP Value    | 273375.80 |\n",
       "| IMP Quantity |  28478.83 |\n",
       "| IMP Value    | 215764.03 |\n",
       "\n"
      ],
      "text/plain": [
       "  feature      mean_value\n",
       "1 EXP Quantity  38093.38 \n",
       "2 EXP Value    273375.80 \n",
       "3 IMP Quantity  28478.83 \n",
       "4 IMP Value    215764.03 "
      ]
     },
     "metadata": {},
     "output_type": "display_data"
    }
   ],
   "source": [
    "fish %>% group_by(feature) %>% summarise(mean_value=mean(value))"
   ]
  },
  {
   "cell_type": "code",
   "execution_count": 45,
   "metadata": {},
   "outputs": [
    {
     "name": "stderr",
     "output_type": "stream",
     "text": [
      "`summarise()` regrouping output by 'feature' (override with `.groups` argument)\n",
      "\n"
     ]
    },
    {
     "data": {
      "text/html": [
       "<table>\n",
       "<caption>A grouped_df: 4 × 4</caption>\n",
       "<thead>\n",
       "\t<tr><th scope=col>feature</th><th scope=col>unit</th><th scope=col>count</th><th scope=col>sum_value</th></tr>\n",
       "\t<tr><th scope=col>&lt;fct&gt;</th><th scope=col>&lt;fct&gt;</th><th scope=col>&lt;int&gt;</th><th scope=col>&lt;int&gt;</th></tr>\n",
       "</thead>\n",
       "<tbody>\n",
       "\t<tr><td>EXP Quantity</td><td>kg </td><td>4007</td><td> 152640167</td></tr>\n",
       "\t<tr><td>EXP Value   </td><td>USD</td><td>4007</td><td>1095416826</td></tr>\n",
       "\t<tr><td>IMP Quantity</td><td>kg </td><td>4730</td><td> 134704872</td></tr>\n",
       "\t<tr><td>IMP Value   </td><td>USD</td><td>4730</td><td>1020563847</td></tr>\n",
       "</tbody>\n",
       "</table>\n"
      ],
      "text/latex": [
       "A grouped\\_df: 4 × 4\n",
       "\\begin{tabular}{llll}\n",
       " feature & unit & count & sum\\_value\\\\\n",
       " <fct> & <fct> & <int> & <int>\\\\\n",
       "\\hline\n",
       "\t EXP Quantity & kg  & 4007 &  152640167\\\\\n",
       "\t EXP Value    & USD & 4007 & 1095416826\\\\\n",
       "\t IMP Quantity & kg  & 4730 &  134704872\\\\\n",
       "\t IMP Value    & USD & 4730 & 1020563847\\\\\n",
       "\\end{tabular}\n"
      ],
      "text/markdown": [
       "\n",
       "A grouped_df: 4 × 4\n",
       "\n",
       "| feature &lt;fct&gt; | unit &lt;fct&gt; | count &lt;int&gt; | sum_value &lt;int&gt; |\n",
       "|---|---|---|---|\n",
       "| EXP Quantity | kg  | 4007 |  152640167 |\n",
       "| EXP Value    | USD | 4007 | 1095416826 |\n",
       "| IMP Quantity | kg  | 4730 |  134704872 |\n",
       "| IMP Value    | USD | 4730 | 1020563847 |\n",
       "\n"
      ],
      "text/plain": [
       "  feature      unit count sum_value \n",
       "1 EXP Quantity kg   4007   152640167\n",
       "2 EXP Value    USD  4007  1095416826\n",
       "3 IMP Quantity kg   4730   134704872\n",
       "4 IMP Value    USD  4730  1020563847"
      ]
     },
     "metadata": {},
     "output_type": "display_data"
    }
   ],
   "source": [
    "# number of rows each group\n",
    "fish %>%\n",
    "    group_by(feature, unit) %>%\n",
    "    summarise(count=n(), sum_value=sum(value))"
   ]
  },
  {
   "cell_type": "markdown",
   "metadata": {},
   "source": [
    "#### Advanced grouping"
   ]
  },
  {
   "cell_type": "code",
   "execution_count": 46,
   "metadata": {},
   "outputs": [
    {
     "data": {
      "text/html": [
       "<table>\n",
       "<caption>A data.frame: 6 × 12</caption>\n",
       "<thead>\n",
       "\t<tr><th></th><th scope=col>model</th><th scope=col>mpg</th><th scope=col>cyl</th><th scope=col>disp</th><th scope=col>hp</th><th scope=col>drat</th><th scope=col>wt</th><th scope=col>qsec</th><th scope=col>vs</th><th scope=col>am</th><th scope=col>gear</th><th scope=col>carb</th></tr>\n",
       "\t<tr><th></th><th scope=col>&lt;fct&gt;</th><th scope=col>&lt;dbl&gt;</th><th scope=col>&lt;int&gt;</th><th scope=col>&lt;dbl&gt;</th><th scope=col>&lt;int&gt;</th><th scope=col>&lt;dbl&gt;</th><th scope=col>&lt;dbl&gt;</th><th scope=col>&lt;dbl&gt;</th><th scope=col>&lt;int&gt;</th><th scope=col>&lt;int&gt;</th><th scope=col>&lt;int&gt;</th><th scope=col>&lt;int&gt;</th></tr>\n",
       "</thead>\n",
       "<tbody>\n",
       "\t<tr><th scope=row>1</th><td>Mazda RX4        </td><td>21.0</td><td>6</td><td>160</td><td>110</td><td>3.90</td><td>2.620</td><td>16.46</td><td>0</td><td>1</td><td>4</td><td>4</td></tr>\n",
       "\t<tr><th scope=row>2</th><td>Mazda RX4 Wag    </td><td>21.0</td><td>6</td><td>160</td><td>110</td><td>3.90</td><td>2.875</td><td>17.02</td><td>0</td><td>1</td><td>4</td><td>4</td></tr>\n",
       "\t<tr><th scope=row>3</th><td>Datsun 710       </td><td>22.8</td><td>4</td><td>108</td><td> 93</td><td>3.85</td><td>2.320</td><td>18.61</td><td>1</td><td>1</td><td>4</td><td>1</td></tr>\n",
       "\t<tr><th scope=row>4</th><td>Hornet 4 Drive   </td><td>21.4</td><td>6</td><td>258</td><td>110</td><td>3.08</td><td>3.215</td><td>19.44</td><td>1</td><td>0</td><td>3</td><td>1</td></tr>\n",
       "\t<tr><th scope=row>5</th><td>Hornet Sportabout</td><td>18.7</td><td>8</td><td>360</td><td>175</td><td>3.15</td><td>3.440</td><td>17.02</td><td>0</td><td>0</td><td>3</td><td>2</td></tr>\n",
       "\t<tr><th scope=row>6</th><td>Valiant          </td><td>18.1</td><td>6</td><td>225</td><td>105</td><td>2.76</td><td>3.460</td><td>20.22</td><td>1</td><td>0</td><td>3</td><td>1</td></tr>\n",
       "</tbody>\n",
       "</table>\n"
      ],
      "text/latex": [
       "A data.frame: 6 × 12\n",
       "\\begin{tabular}{r|llllllllllll}\n",
       "  & model & mpg & cyl & disp & hp & drat & wt & qsec & vs & am & gear & carb\\\\\n",
       "  & <fct> & <dbl> & <int> & <dbl> & <int> & <dbl> & <dbl> & <dbl> & <int> & <int> & <int> & <int>\\\\\n",
       "\\hline\n",
       "\t1 & Mazda RX4         & 21.0 & 6 & 160 & 110 & 3.90 & 2.620 & 16.46 & 0 & 1 & 4 & 4\\\\\n",
       "\t2 & Mazda RX4 Wag     & 21.0 & 6 & 160 & 110 & 3.90 & 2.875 & 17.02 & 0 & 1 & 4 & 4\\\\\n",
       "\t3 & Datsun 710        & 22.8 & 4 & 108 &  93 & 3.85 & 2.320 & 18.61 & 1 & 1 & 4 & 1\\\\\n",
       "\t4 & Hornet 4 Drive    & 21.4 & 6 & 258 & 110 & 3.08 & 3.215 & 19.44 & 1 & 0 & 3 & 1\\\\\n",
       "\t5 & Hornet Sportabout & 18.7 & 8 & 360 & 175 & 3.15 & 3.440 & 17.02 & 0 & 0 & 3 & 2\\\\\n",
       "\t6 & Valiant           & 18.1 & 6 & 225 & 105 & 2.76 & 3.460 & 20.22 & 1 & 0 & 3 & 1\\\\\n",
       "\\end{tabular}\n"
      ],
      "text/markdown": [
       "\n",
       "A data.frame: 6 × 12\n",
       "\n",
       "| <!--/--> | model &lt;fct&gt; | mpg &lt;dbl&gt; | cyl &lt;int&gt; | disp &lt;dbl&gt; | hp &lt;int&gt; | drat &lt;dbl&gt; | wt &lt;dbl&gt; | qsec &lt;dbl&gt; | vs &lt;int&gt; | am &lt;int&gt; | gear &lt;int&gt; | carb &lt;int&gt; |\n",
       "|---|---|---|---|---|---|---|---|---|---|---|---|---|\n",
       "| 1 | Mazda RX4         | 21.0 | 6 | 160 | 110 | 3.90 | 2.620 | 16.46 | 0 | 1 | 4 | 4 |\n",
       "| 2 | Mazda RX4 Wag     | 21.0 | 6 | 160 | 110 | 3.90 | 2.875 | 17.02 | 0 | 1 | 4 | 4 |\n",
       "| 3 | Datsun 710        | 22.8 | 4 | 108 |  93 | 3.85 | 2.320 | 18.61 | 1 | 1 | 4 | 1 |\n",
       "| 4 | Hornet 4 Drive    | 21.4 | 6 | 258 | 110 | 3.08 | 3.215 | 19.44 | 1 | 0 | 3 | 1 |\n",
       "| 5 | Hornet Sportabout | 18.7 | 8 | 360 | 175 | 3.15 | 3.440 | 17.02 | 0 | 0 | 3 | 2 |\n",
       "| 6 | Valiant           | 18.1 | 6 | 225 | 105 | 2.76 | 3.460 | 20.22 | 1 | 0 | 3 | 1 |\n",
       "\n"
      ],
      "text/plain": [
       "  model             mpg  cyl disp hp  drat wt    qsec  vs am gear carb\n",
       "1 Mazda RX4         21.0 6   160  110 3.90 2.620 16.46 0  1  4    4   \n",
       "2 Mazda RX4 Wag     21.0 6   160  110 3.90 2.875 17.02 0  1  4    4   \n",
       "3 Datsun 710        22.8 4   108   93 3.85 2.320 18.61 1  1  4    1   \n",
       "4 Hornet 4 Drive    21.4 6   258  110 3.08 3.215 19.44 1  0  3    1   \n",
       "5 Hornet Sportabout 18.7 8   360  175 3.15 3.440 17.02 0  0  3    2   \n",
       "6 Valiant           18.1 6   225  105 2.76 3.460 20.22 1  0  3    1   "
      ]
     },
     "metadata": {},
     "output_type": "display_data"
    }
   ],
   "source": [
    "mtcars <- read.csv('../data/mtcars.csv')\n",
    "mtcars %>% head"
   ]
  },
  {
   "cell_type": "code",
   "execution_count": 47,
   "metadata": {
    "tags": [
     "output_scroll"
    ]
   },
   "outputs": [
    {
     "data": {
      "text/html": [
       "<table>\n",
       "<caption>A grouped_df: 32 × 3</caption>\n",
       "<thead>\n",
       "\t<tr><th scope=col>vs</th><th scope=col>mpg</th><th scope=col>rank_mpg</th></tr>\n",
       "\t<tr><th scope=col>&lt;int&gt;</th><th scope=col>&lt;dbl&gt;</th><th scope=col>&lt;int&gt;</th></tr>\n",
       "</thead>\n",
       "<tbody>\n",
       "\t<tr><td>0</td><td>10.4</td><td> 1</td></tr>\n",
       "\t<tr><td>0</td><td>10.4</td><td> 1</td></tr>\n",
       "\t<tr><td>0</td><td>13.3</td><td> 2</td></tr>\n",
       "\t<tr><td>0</td><td>14.3</td><td> 3</td></tr>\n",
       "\t<tr><td>0</td><td>14.7</td><td> 4</td></tr>\n",
       "\t<tr><td>0</td><td>15.0</td><td> 5</td></tr>\n",
       "\t<tr><td>0</td><td>15.2</td><td> 6</td></tr>\n",
       "\t<tr><td>0</td><td>15.2</td><td> 6</td></tr>\n",
       "\t<tr><td>0</td><td>15.5</td><td> 7</td></tr>\n",
       "\t<tr><td>0</td><td>15.8</td><td> 8</td></tr>\n",
       "\t<tr><td>0</td><td>16.4</td><td> 9</td></tr>\n",
       "\t<tr><td>0</td><td>17.3</td><td>10</td></tr>\n",
       "\t<tr><td>0</td><td>18.7</td><td>11</td></tr>\n",
       "\t<tr><td>0</td><td>19.2</td><td>12</td></tr>\n",
       "\t<tr><td>0</td><td>19.7</td><td>13</td></tr>\n",
       "\t<tr><td>0</td><td>21.0</td><td>14</td></tr>\n",
       "\t<tr><td>0</td><td>21.0</td><td>14</td></tr>\n",
       "\t<tr><td>0</td><td>26.0</td><td>15</td></tr>\n",
       "\t<tr><td>1</td><td>17.8</td><td> 1</td></tr>\n",
       "\t<tr><td>1</td><td>18.1</td><td> 2</td></tr>\n",
       "\t<tr><td>1</td><td>19.2</td><td> 3</td></tr>\n",
       "\t<tr><td>1</td><td>21.4</td><td> 4</td></tr>\n",
       "\t<tr><td>1</td><td>21.4</td><td> 4</td></tr>\n",
       "\t<tr><td>1</td><td>21.5</td><td> 5</td></tr>\n",
       "\t<tr><td>1</td><td>22.8</td><td> 6</td></tr>\n",
       "\t<tr><td>1</td><td>22.8</td><td> 6</td></tr>\n",
       "\t<tr><td>1</td><td>24.4</td><td> 7</td></tr>\n",
       "\t<tr><td>1</td><td>27.3</td><td> 8</td></tr>\n",
       "\t<tr><td>1</td><td>30.4</td><td> 9</td></tr>\n",
       "\t<tr><td>1</td><td>30.4</td><td> 9</td></tr>\n",
       "\t<tr><td>1</td><td>32.4</td><td>10</td></tr>\n",
       "\t<tr><td>1</td><td>33.9</td><td>11</td></tr>\n",
       "</tbody>\n",
       "</table>\n"
      ],
      "text/latex": [
       "A grouped\\_df: 32 × 3\n",
       "\\begin{tabular}{lll}\n",
       " vs & mpg & rank\\_mpg\\\\\n",
       " <int> & <dbl> & <int>\\\\\n",
       "\\hline\n",
       "\t 0 & 10.4 &  1\\\\\n",
       "\t 0 & 10.4 &  1\\\\\n",
       "\t 0 & 13.3 &  2\\\\\n",
       "\t 0 & 14.3 &  3\\\\\n",
       "\t 0 & 14.7 &  4\\\\\n",
       "\t 0 & 15.0 &  5\\\\\n",
       "\t 0 & 15.2 &  6\\\\\n",
       "\t 0 & 15.2 &  6\\\\\n",
       "\t 0 & 15.5 &  7\\\\\n",
       "\t 0 & 15.8 &  8\\\\\n",
       "\t 0 & 16.4 &  9\\\\\n",
       "\t 0 & 17.3 & 10\\\\\n",
       "\t 0 & 18.7 & 11\\\\\n",
       "\t 0 & 19.2 & 12\\\\\n",
       "\t 0 & 19.7 & 13\\\\\n",
       "\t 0 & 21.0 & 14\\\\\n",
       "\t 0 & 21.0 & 14\\\\\n",
       "\t 0 & 26.0 & 15\\\\\n",
       "\t 1 & 17.8 &  1\\\\\n",
       "\t 1 & 18.1 &  2\\\\\n",
       "\t 1 & 19.2 &  3\\\\\n",
       "\t 1 & 21.4 &  4\\\\\n",
       "\t 1 & 21.4 &  4\\\\\n",
       "\t 1 & 21.5 &  5\\\\\n",
       "\t 1 & 22.8 &  6\\\\\n",
       "\t 1 & 22.8 &  6\\\\\n",
       "\t 1 & 24.4 &  7\\\\\n",
       "\t 1 & 27.3 &  8\\\\\n",
       "\t 1 & 30.4 &  9\\\\\n",
       "\t 1 & 30.4 &  9\\\\\n",
       "\t 1 & 32.4 & 10\\\\\n",
       "\t 1 & 33.9 & 11\\\\\n",
       "\\end{tabular}\n"
      ],
      "text/markdown": [
       "\n",
       "A grouped_df: 32 × 3\n",
       "\n",
       "| vs &lt;int&gt; | mpg &lt;dbl&gt; | rank_mpg &lt;int&gt; |\n",
       "|---|---|---|\n",
       "| 0 | 10.4 |  1 |\n",
       "| 0 | 10.4 |  1 |\n",
       "| 0 | 13.3 |  2 |\n",
       "| 0 | 14.3 |  3 |\n",
       "| 0 | 14.7 |  4 |\n",
       "| 0 | 15.0 |  5 |\n",
       "| 0 | 15.2 |  6 |\n",
       "| 0 | 15.2 |  6 |\n",
       "| 0 | 15.5 |  7 |\n",
       "| 0 | 15.8 |  8 |\n",
       "| 0 | 16.4 |  9 |\n",
       "| 0 | 17.3 | 10 |\n",
       "| 0 | 18.7 | 11 |\n",
       "| 0 | 19.2 | 12 |\n",
       "| 0 | 19.7 | 13 |\n",
       "| 0 | 21.0 | 14 |\n",
       "| 0 | 21.0 | 14 |\n",
       "| 0 | 26.0 | 15 |\n",
       "| 1 | 17.8 |  1 |\n",
       "| 1 | 18.1 |  2 |\n",
       "| 1 | 19.2 |  3 |\n",
       "| 1 | 21.4 |  4 |\n",
       "| 1 | 21.4 |  4 |\n",
       "| 1 | 21.5 |  5 |\n",
       "| 1 | 22.8 |  6 |\n",
       "| 1 | 22.8 |  6 |\n",
       "| 1 | 24.4 |  7 |\n",
       "| 1 | 27.3 |  8 |\n",
       "| 1 | 30.4 |  9 |\n",
       "| 1 | 30.4 |  9 |\n",
       "| 1 | 32.4 | 10 |\n",
       "| 1 | 33.9 | 11 |\n",
       "\n"
      ],
      "text/plain": [
       "   vs mpg  rank_mpg\n",
       "1  0  10.4  1      \n",
       "2  0  10.4  1      \n",
       "3  0  13.3  2      \n",
       "4  0  14.3  3      \n",
       "5  0  14.7  4      \n",
       "6  0  15.0  5      \n",
       "7  0  15.2  6      \n",
       "8  0  15.2  6      \n",
       "9  0  15.5  7      \n",
       "10 0  15.8  8      \n",
       "11 0  16.4  9      \n",
       "12 0  17.3 10      \n",
       "13 0  18.7 11      \n",
       "14 0  19.2 12      \n",
       "15 0  19.7 13      \n",
       "16 0  21.0 14      \n",
       "17 0  21.0 14      \n",
       "18 0  26.0 15      \n",
       "19 1  17.8  1      \n",
       "20 1  18.1  2      \n",
       "21 1  19.2  3      \n",
       "22 1  21.4  4      \n",
       "23 1  21.4  4      \n",
       "24 1  21.5  5      \n",
       "25 1  22.8  6      \n",
       "26 1  22.8  6      \n",
       "27 1  24.4  7      \n",
       "28 1  27.3  8      \n",
       "29 1  30.4  9      \n",
       "30 1  30.4  9      \n",
       "31 1  32.4 10      \n",
       "32 1  33.9 11      "
      ]
     },
     "metadata": {},
     "output_type": "display_data"
    }
   ],
   "source": [
    "# get the ranks for each group\n",
    "mtcars %>%\n",
    "    select(vs, mpg) %>%\n",
    "    group_by(vs) %>%\n",
    "    mutate(rank_mpg=dense_rank(mpg)) %>%\n",
    "    arrange(vs, mpg)"
   ]
  },
  {
   "cell_type": "code",
   "execution_count": 48,
   "metadata": {},
   "outputs": [
    {
     "name": "stderr",
     "output_type": "stream",
     "text": [
      "Warning message:\n",
      "\"`funs()` is deprecated as of dplyr 0.8.0.\n",
      "Please use a list of either functions or lambdas: \n",
      "\n",
      "  # Simple named list: \n",
      "  list(mean = mean, median = median)\n",
      "\n",
      "  # Auto named with `tibble::lst()`: \n",
      "  tibble::lst(mean, median)\n",
      "\n",
      "  # Using lambdas\n",
      "  list(~ mean(., trim = .2), ~ median(., na.rm = TRUE))\n",
      "\u001b[90mThis warning is displayed once every 8 hours.\u001b[39m\n",
      "\u001b[90mCall `lifecycle::last_warnings()` to see where this warning was generated.\u001b[39m\"\n"
     ]
    },
    {
     "data": {
      "text/html": [
       "<table>\n",
       "<caption>A tibble: 2 × 7</caption>\n",
       "<thead>\n",
       "\t<tr><th scope=col>vs</th><th scope=col>mpg_mean</th><th scope=col>hp_mean</th><th scope=col>mpg_max</th><th scope=col>hp_max</th><th scope=col>mpg_min</th><th scope=col>hp_min</th></tr>\n",
       "\t<tr><th scope=col>&lt;int&gt;</th><th scope=col>&lt;dbl&gt;</th><th scope=col>&lt;dbl&gt;</th><th scope=col>&lt;dbl&gt;</th><th scope=col>&lt;int&gt;</th><th scope=col>&lt;dbl&gt;</th><th scope=col>&lt;int&gt;</th></tr>\n",
       "</thead>\n",
       "<tbody>\n",
       "\t<tr><td>0</td><td>16.61667</td><td>189.72222</td><td>26.0</td><td>335</td><td>10.4</td><td>91</td></tr>\n",
       "\t<tr><td>1</td><td>24.55714</td><td> 91.35714</td><td>33.9</td><td>123</td><td>17.8</td><td>52</td></tr>\n",
       "</tbody>\n",
       "</table>\n"
      ],
      "text/latex": [
       "A tibble: 2 × 7\n",
       "\\begin{tabular}{lllllll}\n",
       " vs & mpg\\_mean & hp\\_mean & mpg\\_max & hp\\_max & mpg\\_min & hp\\_min\\\\\n",
       " <int> & <dbl> & <dbl> & <dbl> & <int> & <dbl> & <int>\\\\\n",
       "\\hline\n",
       "\t 0 & 16.61667 & 189.72222 & 26.0 & 335 & 10.4 & 91\\\\\n",
       "\t 1 & 24.55714 &  91.35714 & 33.9 & 123 & 17.8 & 52\\\\\n",
       "\\end{tabular}\n"
      ],
      "text/markdown": [
       "\n",
       "A tibble: 2 × 7\n",
       "\n",
       "| vs &lt;int&gt; | mpg_mean &lt;dbl&gt; | hp_mean &lt;dbl&gt; | mpg_max &lt;dbl&gt; | hp_max &lt;int&gt; | mpg_min &lt;dbl&gt; | hp_min &lt;int&gt; |\n",
       "|---|---|---|---|---|---|---|\n",
       "| 0 | 16.61667 | 189.72222 | 26.0 | 335 | 10.4 | 91 |\n",
       "| 1 | 24.55714 |  91.35714 | 33.9 | 123 | 17.8 | 52 |\n",
       "\n"
      ],
      "text/plain": [
       "  vs mpg_mean hp_mean   mpg_max hp_max mpg_min hp_min\n",
       "1 0  16.61667 189.72222 26.0    335    10.4    91    \n",
       "2 1  24.55714  91.35714 33.9    123    17.8    52    "
      ]
     },
     "metadata": {},
     "output_type": "display_data"
    }
   ],
   "source": [
    "# apply functions to multiple variables\n",
    "mtcars %>%\n",
    "    group_by(vs) %>%\n",
    "    summarise_at(\n",
    "        vars(mpg, hp),\n",
    "        funs(mean, max, min))"
   ]
  },
  {
   "cell_type": "code",
   "execution_count": 49,
   "metadata": {},
   "outputs": [
    {
     "data": {
      "text/html": [
       "<table>\n",
       "<caption>A tibble: 2 × 5</caption>\n",
       "<thead>\n",
       "\t<tr><th scope=col>vs</th><th scope=col>mpg_mean</th><th scope=col>hp_mean</th><th scope=col>mpg_median</th><th scope=col>hp_median</th></tr>\n",
       "\t<tr><th scope=col>&lt;int&gt;</th><th scope=col>&lt;dbl&gt;</th><th scope=col>&lt;dbl&gt;</th><th scope=col>&lt;dbl&gt;</th><th scope=col>&lt;dbl&gt;</th></tr>\n",
       "</thead>\n",
       "<tbody>\n",
       "\t<tr><td>0</td><td>16.61667</td><td>189.72222</td><td>15.65</td><td>180</td></tr>\n",
       "\t<tr><td>1</td><td>24.55714</td><td> 91.35714</td><td>22.80</td><td> 96</td></tr>\n",
       "</tbody>\n",
       "</table>\n"
      ],
      "text/latex": [
       "A tibble: 2 × 5\n",
       "\\begin{tabular}{lllll}\n",
       " vs & mpg\\_mean & hp\\_mean & mpg\\_median & hp\\_median\\\\\n",
       " <int> & <dbl> & <dbl> & <dbl> & <dbl>\\\\\n",
       "\\hline\n",
       "\t 0 & 16.61667 & 189.72222 & 15.65 & 180\\\\\n",
       "\t 1 & 24.55714 &  91.35714 & 22.80 &  96\\\\\n",
       "\\end{tabular}\n"
      ],
      "text/markdown": [
       "\n",
       "A tibble: 2 × 5\n",
       "\n",
       "| vs &lt;int&gt; | mpg_mean &lt;dbl&gt; | hp_mean &lt;dbl&gt; | mpg_median &lt;dbl&gt; | hp_median &lt;dbl&gt; |\n",
       "|---|---|---|---|---|\n",
       "| 0 | 16.61667 | 189.72222 | 15.65 | 180 |\n",
       "| 1 | 24.55714 |  91.35714 | 22.80 |  96 |\n",
       "\n"
      ],
      "text/plain": [
       "  vs mpg_mean hp_mean   mpg_median hp_median\n",
       "1 0  16.61667 189.72222 15.65      180      \n",
       "2 1  24.55714  91.35714 22.80       96      "
      ]
     },
     "metadata": {},
     "output_type": "display_data"
    }
   ],
   "source": [
    "# apply fucntions to variables that meets a given condition\n",
    "mtcars %>%\n",
    "    select(vs, mpg, hp, cyl) %>%\n",
    "    mutate(cyl = as.factor(cyl)) %>% \n",
    "    group_by(vs) %>%\n",
    "    summarise_if(\n",
    "        is.numeric,\n",
    "        funs(mean, median))"
   ]
  },
  {
   "cell_type": "markdown",
   "metadata": {},
   "source": [
    "### 2.2. Unpivoting"
   ]
  },
  {
   "cell_type": "code",
   "execution_count": 50,
   "metadata": {},
   "outputs": [],
   "source": [
    "library(tidyr)"
   ]
  },
  {
   "cell_type": "code",
   "execution_count": 51,
   "metadata": {},
   "outputs": [
    {
     "data": {
      "text/html": [
       "<table>\n",
       "<caption>A data.frame: 3 × 5</caption>\n",
       "<thead>\n",
       "\t<tr><th scope=col>Color</th><th scope=col>Q1.2020</th><th scope=col>Q2.2020</th><th scope=col>Q3.2020</th><th scope=col>Q4.2020</th></tr>\n",
       "\t<tr><th scope=col>&lt;fct&gt;</th><th scope=col>&lt;dbl&gt;</th><th scope=col>&lt;dbl&gt;</th><th scope=col>&lt;dbl&gt;</th><th scope=col>&lt;dbl&gt;</th></tr>\n",
       "</thead>\n",
       "<tbody>\n",
       "\t<tr><td>Red  </td><td>1000</td><td>1200</td><td>1500</td><td>1700</td></tr>\n",
       "\t<tr><td>Green</td><td>1500</td><td>1500</td><td>1575</td><td>1800</td></tr>\n",
       "\t<tr><td>Blue </td><td>2000</td><td>2200</td><td>2000</td><td>2800</td></tr>\n",
       "</tbody>\n",
       "</table>\n"
      ],
      "text/latex": [
       "A data.frame: 3 × 5\n",
       "\\begin{tabular}{lllll}\n",
       " Color & Q1.2020 & Q2.2020 & Q3.2020 & Q4.2020\\\\\n",
       " <fct> & <dbl> & <dbl> & <dbl> & <dbl>\\\\\n",
       "\\hline\n",
       "\t Red   & 1000 & 1200 & 1500 & 1700\\\\\n",
       "\t Green & 1500 & 1500 & 1575 & 1800\\\\\n",
       "\t Blue  & 2000 & 2200 & 2000 & 2800\\\\\n",
       "\\end{tabular}\n"
      ],
      "text/markdown": [
       "\n",
       "A data.frame: 3 × 5\n",
       "\n",
       "| Color &lt;fct&gt; | Q1.2020 &lt;dbl&gt; | Q2.2020 &lt;dbl&gt; | Q3.2020 &lt;dbl&gt; | Q4.2020 &lt;dbl&gt; |\n",
       "|---|---|---|---|---|\n",
       "| Red   | 1000 | 1200 | 1500 | 1700 |\n",
       "| Green | 1500 | 1500 | 1575 | 1800 |\n",
       "| Blue  | 2000 | 2200 | 2000 | 2800 |\n",
       "\n"
      ],
      "text/plain": [
       "  Color Q1.2020 Q2.2020 Q3.2020 Q4.2020\n",
       "1 Red   1000    1200    1500    1700   \n",
       "2 Green 1500    1500    1575    1800   \n",
       "3 Blue  2000    2200    2000    2800   "
      ]
     },
     "metadata": {},
     "output_type": "display_data"
    }
   ],
   "source": [
    "wide = data.frame(\n",
    "    Color= c('Red', 'Green', 'Blue'),\n",
    "    'Q1.2020'=c(1000, 1500, 2000),\n",
    "    'Q2.2020'=c(1200, 1500, 2200),\n",
    "    'Q3.2020'=c(1500, 1575, 2000),\n",
    "    'Q4.2020'=c(1700, 1800, 2800)\n",
    ")\n",
    "wide"
   ]
  },
  {
   "cell_type": "code",
   "execution_count": 52,
   "metadata": {},
   "outputs": [
    {
     "data": {
      "text/html": [
       "<table>\n",
       "<caption>A tibble: 12 × 3</caption>\n",
       "<thead>\n",
       "\t<tr><th scope=col>Color</th><th scope=col>Quarter</th><th scope=col>Sales</th></tr>\n",
       "\t<tr><th scope=col>&lt;fct&gt;</th><th scope=col>&lt;chr&gt;</th><th scope=col>&lt;dbl&gt;</th></tr>\n",
       "</thead>\n",
       "<tbody>\n",
       "\t<tr><td>Red  </td><td>Q1.2020</td><td>1000</td></tr>\n",
       "\t<tr><td>Red  </td><td>Q2.2020</td><td>1200</td></tr>\n",
       "\t<tr><td>Red  </td><td>Q3.2020</td><td>1500</td></tr>\n",
       "\t<tr><td>Red  </td><td>Q4.2020</td><td>1700</td></tr>\n",
       "\t<tr><td>Green</td><td>Q1.2020</td><td>1500</td></tr>\n",
       "\t<tr><td>Green</td><td>Q2.2020</td><td>1500</td></tr>\n",
       "\t<tr><td>Green</td><td>Q3.2020</td><td>1575</td></tr>\n",
       "\t<tr><td>Green</td><td>Q4.2020</td><td>1800</td></tr>\n",
       "\t<tr><td>Blue </td><td>Q1.2020</td><td>2000</td></tr>\n",
       "\t<tr><td>Blue </td><td>Q2.2020</td><td>2200</td></tr>\n",
       "\t<tr><td>Blue </td><td>Q3.2020</td><td>2000</td></tr>\n",
       "\t<tr><td>Blue </td><td>Q4.2020</td><td>2800</td></tr>\n",
       "</tbody>\n",
       "</table>\n"
      ],
      "text/latex": [
       "A tibble: 12 × 3\n",
       "\\begin{tabular}{lll}\n",
       " Color & Quarter & Sales\\\\\n",
       " <fct> & <chr> & <dbl>\\\\\n",
       "\\hline\n",
       "\t Red   & Q1.2020 & 1000\\\\\n",
       "\t Red   & Q2.2020 & 1200\\\\\n",
       "\t Red   & Q3.2020 & 1500\\\\\n",
       "\t Red   & Q4.2020 & 1700\\\\\n",
       "\t Green & Q1.2020 & 1500\\\\\n",
       "\t Green & Q2.2020 & 1500\\\\\n",
       "\t Green & Q3.2020 & 1575\\\\\n",
       "\t Green & Q4.2020 & 1800\\\\\n",
       "\t Blue  & Q1.2020 & 2000\\\\\n",
       "\t Blue  & Q2.2020 & 2200\\\\\n",
       "\t Blue  & Q3.2020 & 2000\\\\\n",
       "\t Blue  & Q4.2020 & 2800\\\\\n",
       "\\end{tabular}\n"
      ],
      "text/markdown": [
       "\n",
       "A tibble: 12 × 3\n",
       "\n",
       "| Color &lt;fct&gt; | Quarter &lt;chr&gt; | Sales &lt;dbl&gt; |\n",
       "|---|---|---|\n",
       "| Red   | Q1.2020 | 1000 |\n",
       "| Red   | Q2.2020 | 1200 |\n",
       "| Red   | Q3.2020 | 1500 |\n",
       "| Red   | Q4.2020 | 1700 |\n",
       "| Green | Q1.2020 | 1500 |\n",
       "| Green | Q2.2020 | 1500 |\n",
       "| Green | Q3.2020 | 1575 |\n",
       "| Green | Q4.2020 | 1800 |\n",
       "| Blue  | Q1.2020 | 2000 |\n",
       "| Blue  | Q2.2020 | 2200 |\n",
       "| Blue  | Q3.2020 | 2000 |\n",
       "| Blue  | Q4.2020 | 2800 |\n",
       "\n"
      ],
      "text/plain": [
       "   Color Quarter Sales\n",
       "1  Red   Q1.2020 1000 \n",
       "2  Red   Q2.2020 1200 \n",
       "3  Red   Q3.2020 1500 \n",
       "4  Red   Q4.2020 1700 \n",
       "5  Green Q1.2020 1500 \n",
       "6  Green Q2.2020 1500 \n",
       "7  Green Q3.2020 1575 \n",
       "8  Green Q4.2020 1800 \n",
       "9  Blue  Q1.2020 2000 \n",
       "10 Blue  Q2.2020 2200 \n",
       "11 Blue  Q3.2020 2000 \n",
       "12 Blue  Q4.2020 2800 "
      ]
     },
     "metadata": {},
     "output_type": "display_data"
    }
   ],
   "source": [
    "wide %>% pivot_longer(\n",
    "    cols=c(Q1.2020, Q2.2020, Q3.2020, Q4.2020),\n",
    "    names_to='Quarter',\n",
    "    values_to='Sales')"
   ]
  },
  {
   "cell_type": "markdown",
   "metadata": {},
   "source": [
    "### 2.3. Pivot table"
   ]
  },
  {
   "cell_type": "code",
   "execution_count": 53,
   "metadata": {},
   "outputs": [],
   "source": [
    "library(tidyr)"
   ]
  },
  {
   "cell_type": "code",
   "execution_count": 54,
   "metadata": {},
   "outputs": [
    {
     "data": {
      "text/html": [
       "<table>\n",
       "<caption>A data.frame: 8 × 5</caption>\n",
       "<thead>\n",
       "\t<tr><th scope=col>Market</th><th scope=col>Color</th><th scope=col>Size</th><th scope=col>Price</th><th scope=col>Sales</th></tr>\n",
       "\t<tr><th scope=col>&lt;fct&gt;</th><th scope=col>&lt;fct&gt;</th><th scope=col>&lt;fct&gt;</th><th scope=col>&lt;dbl&gt;</th><th scope=col>&lt;dbl&gt;</th></tr>\n",
       "</thead>\n",
       "<tbody>\n",
       "\t<tr><td>Asian </td><td>Red </td><td>Large</td><td>17</td><td>68000</td></tr>\n",
       "\t<tr><td>Asian </td><td>Red </td><td>Small</td><td>11</td><td>44000</td></tr>\n",
       "\t<tr><td>Asian </td><td>Blue</td><td>Large</td><td>19</td><td>57000</td></tr>\n",
       "\t<tr><td>Asian </td><td>Blue</td><td>Small</td><td>13</td><td>52000</td></tr>\n",
       "\t<tr><td>Europe</td><td>Red </td><td>Large</td><td>18</td><td>81000</td></tr>\n",
       "\t<tr><td>Europe</td><td>Red </td><td>Small</td><td>12</td><td>72000</td></tr>\n",
       "\t<tr><td>Europe</td><td>Blue</td><td>Large</td><td>20</td><td>90000</td></tr>\n",
       "\t<tr><td>Europe</td><td>Blue</td><td>Small</td><td>14</td><td>77000</td></tr>\n",
       "</tbody>\n",
       "</table>\n"
      ],
      "text/latex": [
       "A data.frame: 8 × 5\n",
       "\\begin{tabular}{lllll}\n",
       " Market & Color & Size & Price & Sales\\\\\n",
       " <fct> & <fct> & <fct> & <dbl> & <dbl>\\\\\n",
       "\\hline\n",
       "\t Asian  & Red  & Large & 17 & 68000\\\\\n",
       "\t Asian  & Red  & Small & 11 & 44000\\\\\n",
       "\t Asian  & Blue & Large & 19 & 57000\\\\\n",
       "\t Asian  & Blue & Small & 13 & 52000\\\\\n",
       "\t Europe & Red  & Large & 18 & 81000\\\\\n",
       "\t Europe & Red  & Small & 12 & 72000\\\\\n",
       "\t Europe & Blue & Large & 20 & 90000\\\\\n",
       "\t Europe & Blue & Small & 14 & 77000\\\\\n",
       "\\end{tabular}\n"
      ],
      "text/markdown": [
       "\n",
       "A data.frame: 8 × 5\n",
       "\n",
       "| Market &lt;fct&gt; | Color &lt;fct&gt; | Size &lt;fct&gt; | Price &lt;dbl&gt; | Sales &lt;dbl&gt; |\n",
       "|---|---|---|---|---|\n",
       "| Asian  | Red  | Large | 17 | 68000 |\n",
       "| Asian  | Red  | Small | 11 | 44000 |\n",
       "| Asian  | Blue | Large | 19 | 57000 |\n",
       "| Asian  | Blue | Small | 13 | 52000 |\n",
       "| Europe | Red  | Large | 18 | 81000 |\n",
       "| Europe | Red  | Small | 12 | 72000 |\n",
       "| Europe | Blue | Large | 20 | 90000 |\n",
       "| Europe | Blue | Small | 14 | 77000 |\n",
       "\n"
      ],
      "text/plain": [
       "  Market Color Size  Price Sales\n",
       "1 Asian  Red   Large 17    68000\n",
       "2 Asian  Red   Small 11    44000\n",
       "3 Asian  Blue  Large 19    57000\n",
       "4 Asian  Blue  Small 13    52000\n",
       "5 Europe Red   Large 18    81000\n",
       "6 Europe Red   Small 12    72000\n",
       "7 Europe Blue  Large 20    90000\n",
       "8 Europe Blue  Small 14    77000"
      ]
     },
     "metadata": {},
     "output_type": "display_data"
    }
   ],
   "source": [
    "long = data.frame(\n",
    "    Market=c('Asian', 'Asian', 'Asian', 'Asian', 'Europe', 'Europe', 'Europe', 'Europe'),\n",
    "    Color=c('Red', 'Red', 'Blue', 'Blue', 'Red', 'Red', 'Blue', 'Blue'),\n",
    "    Size=c('Large', 'Small', 'Large', 'Small','Large', 'Small', 'Large', 'Small'),\n",
    "    Price=c(17, 11, 19, 13, 18, 12, 20, 14),\n",
    "    Sales=c(68000, 44000, 57000, 52000, 81000, 72000, 90000, 77000)\n",
    ")\n",
    "long"
   ]
  },
  {
   "cell_type": "code",
   "execution_count": 55,
   "metadata": {},
   "outputs": [
    {
     "data": {
      "text/html": [
       "<table>\n",
       "<caption>A tibble: 4 × 4</caption>\n",
       "<thead>\n",
       "\t<tr><th scope=col>Market</th><th scope=col>Color</th><th scope=col>Large</th><th scope=col>Small</th></tr>\n",
       "\t<tr><th scope=col>&lt;fct&gt;</th><th scope=col>&lt;fct&gt;</th><th scope=col>&lt;dbl&gt;</th><th scope=col>&lt;dbl&gt;</th></tr>\n",
       "</thead>\n",
       "<tbody>\n",
       "\t<tr><td>Asian </td><td>Red </td><td>68000</td><td>44000</td></tr>\n",
       "\t<tr><td>Asian </td><td>Blue</td><td>57000</td><td>52000</td></tr>\n",
       "\t<tr><td>Europe</td><td>Red </td><td>81000</td><td>72000</td></tr>\n",
       "\t<tr><td>Europe</td><td>Blue</td><td>90000</td><td>77000</td></tr>\n",
       "</tbody>\n",
       "</table>\n"
      ],
      "text/latex": [
       "A tibble: 4 × 4\n",
       "\\begin{tabular}{llll}\n",
       " Market & Color & Large & Small\\\\\n",
       " <fct> & <fct> & <dbl> & <dbl>\\\\\n",
       "\\hline\n",
       "\t Asian  & Red  & 68000 & 44000\\\\\n",
       "\t Asian  & Blue & 57000 & 52000\\\\\n",
       "\t Europe & Red  & 81000 & 72000\\\\\n",
       "\t Europe & Blue & 90000 & 77000\\\\\n",
       "\\end{tabular}\n"
      ],
      "text/markdown": [
       "\n",
       "A tibble: 4 × 4\n",
       "\n",
       "| Market &lt;fct&gt; | Color &lt;fct&gt; | Large &lt;dbl&gt; | Small &lt;dbl&gt; |\n",
       "|---|---|---|---|\n",
       "| Asian  | Red  | 68000 | 44000 |\n",
       "| Asian  | Blue | 57000 | 52000 |\n",
       "| Europe | Red  | 81000 | 72000 |\n",
       "| Europe | Blue | 90000 | 77000 |\n",
       "\n"
      ],
      "text/plain": [
       "  Market Color Large Small\n",
       "1 Asian  Red   68000 44000\n",
       "2 Asian  Blue  57000 52000\n",
       "3 Europe Red   81000 72000\n",
       "4 Europe Blue  90000 77000"
      ]
     },
     "metadata": {},
     "output_type": "display_data"
    }
   ],
   "source": [
    "long %>% pivot_wider(\n",
    "    id_cols=c('Market', 'Color'),\n",
    "    names_from='Size',\n",
    "    values_from='Sales'\n",
    ")"
   ]
  },
  {
   "cell_type": "code",
   "execution_count": 56,
   "metadata": {},
   "outputs": [
    {
     "data": {
      "text/html": [
       "<table>\n",
       "<caption>A tibble: 2 × 3</caption>\n",
       "<thead>\n",
       "\t<tr><th scope=col>Market</th><th scope=col>Large</th><th scope=col>Small</th></tr>\n",
       "\t<tr><th scope=col>&lt;fct&gt;</th><th scope=col>&lt;dbl&gt;</th><th scope=col>&lt;dbl&gt;</th></tr>\n",
       "</thead>\n",
       "<tbody>\n",
       "\t<tr><td>Asian </td><td>18</td><td>12</td></tr>\n",
       "\t<tr><td>Europe</td><td>19</td><td>13</td></tr>\n",
       "</tbody>\n",
       "</table>\n"
      ],
      "text/latex": [
       "A tibble: 2 × 3\n",
       "\\begin{tabular}{lll}\n",
       " Market & Large & Small\\\\\n",
       " <fct> & <dbl> & <dbl>\\\\\n",
       "\\hline\n",
       "\t Asian  & 18 & 12\\\\\n",
       "\t Europe & 19 & 13\\\\\n",
       "\\end{tabular}\n"
      ],
      "text/markdown": [
       "\n",
       "A tibble: 2 × 3\n",
       "\n",
       "| Market &lt;fct&gt; | Large &lt;dbl&gt; | Small &lt;dbl&gt; |\n",
       "|---|---|---|\n",
       "| Asian  | 18 | 12 |\n",
       "| Europe | 19 | 13 |\n",
       "\n"
      ],
      "text/plain": [
       "  Market Large Small\n",
       "1 Asian  18    12   \n",
       "2 Europe 19    13   "
      ]
     },
     "metadata": {},
     "output_type": "display_data"
    }
   ],
   "source": [
    "long %>% pivot_wider(\n",
    "    id_cols='Market',\n",
    "    names_from='Size',\n",
    "    values_from='Price',\n",
    "    values_fn=mean\n",
    ")"
   ]
  },
  {
   "cell_type": "code",
   "execution_count": 57,
   "metadata": {},
   "outputs": [
    {
     "data": {
      "text/html": [
       "<table>\n",
       "<caption>A tibble: 2 × 5</caption>\n",
       "<thead>\n",
       "\t<tr><th scope=col>Market</th><th scope=col>Sales_Large</th><th scope=col>Sales_Small</th><th scope=col>Price_Large</th><th scope=col>Price_Small</th></tr>\n",
       "\t<tr><th scope=col>&lt;fct&gt;</th><th scope=col>&lt;dbl&gt;</th><th scope=col>&lt;dbl&gt;</th><th scope=col>&lt;dbl&gt;</th><th scope=col>&lt;dbl&gt;</th></tr>\n",
       "</thead>\n",
       "<tbody>\n",
       "\t<tr><td>Asian </td><td>125000</td><td> 96000</td><td>18</td><td>12</td></tr>\n",
       "\t<tr><td>Europe</td><td>171000</td><td>149000</td><td>19</td><td>13</td></tr>\n",
       "</tbody>\n",
       "</table>\n"
      ],
      "text/latex": [
       "A tibble: 2 × 5\n",
       "\\begin{tabular}{lllll}\n",
       " Market & Sales\\_Large & Sales\\_Small & Price\\_Large & Price\\_Small\\\\\n",
       " <fct> & <dbl> & <dbl> & <dbl> & <dbl>\\\\\n",
       "\\hline\n",
       "\t Asian  & 125000 &  96000 & 18 & 12\\\\\n",
       "\t Europe & 171000 & 149000 & 19 & 13\\\\\n",
       "\\end{tabular}\n"
      ],
      "text/markdown": [
       "\n",
       "A tibble: 2 × 5\n",
       "\n",
       "| Market &lt;fct&gt; | Sales_Large &lt;dbl&gt; | Sales_Small &lt;dbl&gt; | Price_Large &lt;dbl&gt; | Price_Small &lt;dbl&gt; |\n",
       "|---|---|---|---|---|\n",
       "| Asian  | 125000 |  96000 | 18 | 12 |\n",
       "| Europe | 171000 | 149000 | 19 | 13 |\n",
       "\n"
      ],
      "text/plain": [
       "  Market Sales_Large Sales_Small Price_Large Price_Small\n",
       "1 Asian  125000       96000      18          12         \n",
       "2 Europe 171000      149000      19          13         "
      ]
     },
     "metadata": {},
     "output_type": "display_data"
    }
   ],
   "source": [
    "long %>% pivot_wider(\n",
    "    id_cols='Market',\n",
    "    names_from='Size',\n",
    "    values_from=c('Sales', 'Price'),\n",
    "    values_fn=list('Sales'=sum, 'Price'=mean)\n",
    ")"
   ]
  },
  {
   "cell_type": "markdown",
   "metadata": {},
   "source": [
    "### 2.4. Appending data"
   ]
  },
  {
   "cell_type": "code",
   "execution_count": 58,
   "metadata": {},
   "outputs": [
    {
     "name": "stderr",
     "output_type": "stream",
     "text": [
      "Warning message:\n",
      "\"package 'readxl' was built under R version 3.6.3\"\n"
     ]
    }
   ],
   "source": [
    "library(dplyr)\n",
    "library(readxl)"
   ]
  },
  {
   "cell_type": "code",
   "execution_count": 59,
   "metadata": {},
   "outputs": [],
   "source": [
    "# remove all warnings\n",
    "options(warn=-1)"
   ]
  },
  {
   "cell_type": "code",
   "execution_count": 60,
   "metadata": {},
   "outputs": [
    {
     "data": {
      "text/html": [
       "<style>\n",
       ".list-inline {list-style: none; margin:0; padding: 0}\n",
       ".list-inline>li {display: inline-block}\n",
       ".list-inline>li:not(:last-child)::after {content: \"\\00b7\"; padding: 0 .5ex}\n",
       "</style>\n",
       "<ol class=list-inline><li>'1960s'</li><li>'1970s'</li><li>'1980s'</li><li>'1990s'</li><li>'2000s'</li><li>'2010s'</li></ol>\n"
      ],
      "text/latex": [
       "\\begin{enumerate*}\n",
       "\\item '1960s'\n",
       "\\item '1970s'\n",
       "\\item '1980s'\n",
       "\\item '1990s'\n",
       "\\item '2000s'\n",
       "\\item '2010s'\n",
       "\\end{enumerate*}\n"
      ],
      "text/markdown": [
       "1. '1960s'\n",
       "2. '1970s'\n",
       "3. '1980s'\n",
       "4. '1990s'\n",
       "5. '2000s'\n",
       "6. '2010s'\n",
       "\n",
       "\n"
      ],
      "text/plain": [
       "[1] \"1960s\" \"1970s\" \"1980s\" \"1990s\" \"2000s\" \"2010s\""
      ]
     },
     "metadata": {},
     "output_type": "display_data"
    }
   ],
   "source": [
    "path = '../data/world_population.xlsx'\n",
    "sheets = excel_sheets(path)\n",
    "sheets"
   ]
  },
  {
   "cell_type": "code",
   "execution_count": 61,
   "metadata": {},
   "outputs": [],
   "source": [
    "world1 = read_excel(path, sheet=sheets[1])\n",
    "world2 = read_excel(path, sheet=sheets[2])\n",
    "world3 = read_excel(path, sheet=sheets[3])\n",
    "world4 = read_excel(path, sheet=sheets[4])\n",
    "world5 = read_excel(path, sheet=sheets[5])\n",
    "world6 = read_excel(path, sheet=sheets[6])"
   ]
  },
  {
   "cell_type": "code",
   "execution_count": 62,
   "metadata": {},
   "outputs": [
    {
     "data": {
      "text/html": [
       "<style>\n",
       ".list-inline {list-style: none; margin:0; padding: 0}\n",
       ".list-inline>li {display: inline-block}\n",
       ".list-inline>li:not(:last-child)::after {content: \"\\00b7\"; padding: 0 .5ex}\n",
       "</style>\n",
       "<ol class=list-inline><li>12263</li><li>3</li></ol>\n"
      ],
      "text/latex": [
       "\\begin{enumerate*}\n",
       "\\item 12263\n",
       "\\item 3\n",
       "\\end{enumerate*}\n"
      ],
      "text/markdown": [
       "1. 12263\n",
       "2. 3\n",
       "\n",
       "\n"
      ],
      "text/plain": [
       "[1] 12263     3"
      ]
     },
     "metadata": {},
     "output_type": "display_data"
    }
   ],
   "source": [
    "world <- bind_rows(world1, world2, world3, world4, world5, world6)\n",
    "world %>% dim"
   ]
  },
  {
   "cell_type": "markdown",
   "metadata": {},
   "source": [
    "### 2.5. Joining dataframes"
   ]
  },
  {
   "cell_type": "code",
   "execution_count": 63,
   "metadata": {},
   "outputs": [],
   "source": [
    "library(dplyr)"
   ]
  },
  {
   "cell_type": "code",
   "execution_count": 64,
   "metadata": {},
   "outputs": [],
   "source": [
    "math <- data.frame(\n",
    "    student_id=seq(1, 5),\n",
    "    maths=c(10, 8, 7, 8.5, 9))\n",
    "\n",
    "physics <- data.frame(\n",
    "    student_id=seq(2, 10, 2),\n",
    "    physics=c(7, 3, 6, 8, 9.5)) %>% mutate(id=student_id)"
   ]
  },
  {
   "cell_type": "code",
   "execution_count": 65,
   "metadata": {},
   "outputs": [
    {
     "data": {
      "text/html": [
       "<table>\n",
       "<caption>A data.frame: 5 × 2</caption>\n",
       "<thead>\n",
       "\t<tr><th scope=col>student_id</th><th scope=col>maths</th></tr>\n",
       "\t<tr><th scope=col>&lt;int&gt;</th><th scope=col>&lt;dbl&gt;</th></tr>\n",
       "</thead>\n",
       "<tbody>\n",
       "\t<tr><td>1</td><td>10.0</td></tr>\n",
       "\t<tr><td>2</td><td> 8.0</td></tr>\n",
       "\t<tr><td>3</td><td> 7.0</td></tr>\n",
       "\t<tr><td>4</td><td> 8.5</td></tr>\n",
       "\t<tr><td>5</td><td> 9.0</td></tr>\n",
       "</tbody>\n",
       "</table>\n"
      ],
      "text/latex": [
       "A data.frame: 5 × 2\n",
       "\\begin{tabular}{ll}\n",
       " student\\_id & maths\\\\\n",
       " <int> & <dbl>\\\\\n",
       "\\hline\n",
       "\t 1 & 10.0\\\\\n",
       "\t 2 &  8.0\\\\\n",
       "\t 3 &  7.0\\\\\n",
       "\t 4 &  8.5\\\\\n",
       "\t 5 &  9.0\\\\\n",
       "\\end{tabular}\n"
      ],
      "text/markdown": [
       "\n",
       "A data.frame: 5 × 2\n",
       "\n",
       "| student_id &lt;int&gt; | maths &lt;dbl&gt; |\n",
       "|---|---|\n",
       "| 1 | 10.0 |\n",
       "| 2 |  8.0 |\n",
       "| 3 |  7.0 |\n",
       "| 4 |  8.5 |\n",
       "| 5 |  9.0 |\n",
       "\n"
      ],
      "text/plain": [
       "  student_id maths\n",
       "1 1          10.0 \n",
       "2 2           8.0 \n",
       "3 3           7.0 \n",
       "4 4           8.5 \n",
       "5 5           9.0 "
      ]
     },
     "metadata": {},
     "output_type": "display_data"
    }
   ],
   "source": [
    "math"
   ]
  },
  {
   "cell_type": "code",
   "execution_count": 66,
   "metadata": {},
   "outputs": [
    {
     "data": {
      "text/html": [
       "<table>\n",
       "<caption>A data.frame: 5 × 3</caption>\n",
       "<thead>\n",
       "\t<tr><th scope=col>student_id</th><th scope=col>physics</th><th scope=col>id</th></tr>\n",
       "\t<tr><th scope=col>&lt;dbl&gt;</th><th scope=col>&lt;dbl&gt;</th><th scope=col>&lt;dbl&gt;</th></tr>\n",
       "</thead>\n",
       "<tbody>\n",
       "\t<tr><td> 2</td><td>7.0</td><td> 2</td></tr>\n",
       "\t<tr><td> 4</td><td>3.0</td><td> 4</td></tr>\n",
       "\t<tr><td> 6</td><td>6.0</td><td> 6</td></tr>\n",
       "\t<tr><td> 8</td><td>8.0</td><td> 8</td></tr>\n",
       "\t<tr><td>10</td><td>9.5</td><td>10</td></tr>\n",
       "</tbody>\n",
       "</table>\n"
      ],
      "text/latex": [
       "A data.frame: 5 × 3\n",
       "\\begin{tabular}{lll}\n",
       " student\\_id & physics & id\\\\\n",
       " <dbl> & <dbl> & <dbl>\\\\\n",
       "\\hline\n",
       "\t  2 & 7.0 &  2\\\\\n",
       "\t  4 & 3.0 &  4\\\\\n",
       "\t  6 & 6.0 &  6\\\\\n",
       "\t  8 & 8.0 &  8\\\\\n",
       "\t 10 & 9.5 & 10\\\\\n",
       "\\end{tabular}\n"
      ],
      "text/markdown": [
       "\n",
       "A data.frame: 5 × 3\n",
       "\n",
       "| student_id &lt;dbl&gt; | physics &lt;dbl&gt; | id &lt;dbl&gt; |\n",
       "|---|---|---|\n",
       "|  2 | 7.0 |  2 |\n",
       "|  4 | 3.0 |  4 |\n",
       "|  6 | 6.0 |  6 |\n",
       "|  8 | 8.0 |  8 |\n",
       "| 10 | 9.5 | 10 |\n",
       "\n"
      ],
      "text/plain": [
       "  student_id physics id\n",
       "1  2         7.0      2\n",
       "2  4         3.0      4\n",
       "3  6         6.0      6\n",
       "4  8         8.0      8\n",
       "5 10         9.5     10"
      ]
     },
     "metadata": {},
     "output_type": "display_data"
    }
   ],
   "source": [
    "physics"
   ]
  },
  {
   "cell_type": "code",
   "execution_count": 67,
   "metadata": {},
   "outputs": [
    {
     "data": {
      "text/html": [
       "<table>\n",
       "<caption>A data.frame: 5 × 4</caption>\n",
       "<thead>\n",
       "\t<tr><th scope=col>student_id</th><th scope=col>maths</th><th scope=col>physics</th><th scope=col>id</th></tr>\n",
       "\t<tr><th scope=col>&lt;dbl&gt;</th><th scope=col>&lt;dbl&gt;</th><th scope=col>&lt;dbl&gt;</th><th scope=col>&lt;dbl&gt;</th></tr>\n",
       "</thead>\n",
       "<tbody>\n",
       "\t<tr><td>1</td><td>10.0</td><td>NA</td><td>NA</td></tr>\n",
       "\t<tr><td>2</td><td> 8.0</td><td> 7</td><td> 2</td></tr>\n",
       "\t<tr><td>3</td><td> 7.0</td><td>NA</td><td>NA</td></tr>\n",
       "\t<tr><td>4</td><td> 8.5</td><td> 3</td><td> 4</td></tr>\n",
       "\t<tr><td>5</td><td> 9.0</td><td>NA</td><td>NA</td></tr>\n",
       "</tbody>\n",
       "</table>\n"
      ],
      "text/latex": [
       "A data.frame: 5 × 4\n",
       "\\begin{tabular}{llll}\n",
       " student\\_id & maths & physics & id\\\\\n",
       " <dbl> & <dbl> & <dbl> & <dbl>\\\\\n",
       "\\hline\n",
       "\t 1 & 10.0 & NA & NA\\\\\n",
       "\t 2 &  8.0 &  7 &  2\\\\\n",
       "\t 3 &  7.0 & NA & NA\\\\\n",
       "\t 4 &  8.5 &  3 &  4\\\\\n",
       "\t 5 &  9.0 & NA & NA\\\\\n",
       "\\end{tabular}\n"
      ],
      "text/markdown": [
       "\n",
       "A data.frame: 5 × 4\n",
       "\n",
       "| student_id &lt;dbl&gt; | maths &lt;dbl&gt; | physics &lt;dbl&gt; | id &lt;dbl&gt; |\n",
       "|---|---|---|---|\n",
       "| 1 | 10.0 | NA | NA |\n",
       "| 2 |  8.0 |  7 |  2 |\n",
       "| 3 |  7.0 | NA | NA |\n",
       "| 4 |  8.5 |  3 |  4 |\n",
       "| 5 |  9.0 | NA | NA |\n",
       "\n"
      ],
      "text/plain": [
       "  student_id maths physics id\n",
       "1 1          10.0  NA      NA\n",
       "2 2           8.0   7       2\n",
       "3 3           7.0  NA      NA\n",
       "4 4           8.5   3       4\n",
       "5 5           9.0  NA      NA"
      ]
     },
     "metadata": {},
     "output_type": "display_data"
    }
   ],
   "source": [
    "math %>% left_join(physics, by='student_id' )"
   ]
  },
  {
   "cell_type": "code",
   "execution_count": 68,
   "metadata": {},
   "outputs": [
    {
     "data": {
      "text/html": [
       "<table>\n",
       "<caption>A data.frame: 2 × 4</caption>\n",
       "<thead>\n",
       "\t<tr><th scope=col>student_id</th><th scope=col>maths</th><th scope=col>physics</th><th scope=col>id</th></tr>\n",
       "\t<tr><th scope=col>&lt;dbl&gt;</th><th scope=col>&lt;dbl&gt;</th><th scope=col>&lt;dbl&gt;</th><th scope=col>&lt;dbl&gt;</th></tr>\n",
       "</thead>\n",
       "<tbody>\n",
       "\t<tr><td>2</td><td>8.0</td><td>7</td><td>2</td></tr>\n",
       "\t<tr><td>4</td><td>8.5</td><td>3</td><td>4</td></tr>\n",
       "</tbody>\n",
       "</table>\n"
      ],
      "text/latex": [
       "A data.frame: 2 × 4\n",
       "\\begin{tabular}{llll}\n",
       " student\\_id & maths & physics & id\\\\\n",
       " <dbl> & <dbl> & <dbl> & <dbl>\\\\\n",
       "\\hline\n",
       "\t 2 & 8.0 & 7 & 2\\\\\n",
       "\t 4 & 8.5 & 3 & 4\\\\\n",
       "\\end{tabular}\n"
      ],
      "text/markdown": [
       "\n",
       "A data.frame: 2 × 4\n",
       "\n",
       "| student_id &lt;dbl&gt; | maths &lt;dbl&gt; | physics &lt;dbl&gt; | id &lt;dbl&gt; |\n",
       "|---|---|---|---|\n",
       "| 2 | 8.0 | 7 | 2 |\n",
       "| 4 | 8.5 | 3 | 4 |\n",
       "\n"
      ],
      "text/plain": [
       "  student_id maths physics id\n",
       "1 2          8.0   7       2 \n",
       "2 4          8.5   3       4 "
      ]
     },
     "metadata": {},
     "output_type": "display_data"
    }
   ],
   "source": [
    "math %>% inner_join(physics, by='student_id' )"
   ]
  },
  {
   "cell_type": "code",
   "execution_count": 69,
   "metadata": {},
   "outputs": [
    {
     "data": {
      "text/html": [
       "<table>\n",
       "<caption>A data.frame: 5 × 4</caption>\n",
       "<thead>\n",
       "\t<tr><th scope=col>student_id</th><th scope=col>maths</th><th scope=col>student_id.y</th><th scope=col>physics</th></tr>\n",
       "\t<tr><th scope=col>&lt;dbl&gt;</th><th scope=col>&lt;dbl&gt;</th><th scope=col>&lt;dbl&gt;</th><th scope=col>&lt;dbl&gt;</th></tr>\n",
       "</thead>\n",
       "<tbody>\n",
       "\t<tr><td>1</td><td>10.0</td><td>NA</td><td>NA</td></tr>\n",
       "\t<tr><td>2</td><td> 8.0</td><td> 2</td><td> 7</td></tr>\n",
       "\t<tr><td>3</td><td> 7.0</td><td>NA</td><td>NA</td></tr>\n",
       "\t<tr><td>4</td><td> 8.5</td><td> 4</td><td> 3</td></tr>\n",
       "\t<tr><td>5</td><td> 9.0</td><td>NA</td><td>NA</td></tr>\n",
       "</tbody>\n",
       "</table>\n"
      ],
      "text/latex": [
       "A data.frame: 5 × 4\n",
       "\\begin{tabular}{llll}\n",
       " student\\_id & maths & student\\_id.y & physics\\\\\n",
       " <dbl> & <dbl> & <dbl> & <dbl>\\\\\n",
       "\\hline\n",
       "\t 1 & 10.0 & NA & NA\\\\\n",
       "\t 2 &  8.0 &  2 &  7\\\\\n",
       "\t 3 &  7.0 & NA & NA\\\\\n",
       "\t 4 &  8.5 &  4 &  3\\\\\n",
       "\t 5 &  9.0 & NA & NA\\\\\n",
       "\\end{tabular}\n"
      ],
      "text/markdown": [
       "\n",
       "A data.frame: 5 × 4\n",
       "\n",
       "| student_id &lt;dbl&gt; | maths &lt;dbl&gt; | student_id.y &lt;dbl&gt; | physics &lt;dbl&gt; |\n",
       "|---|---|---|---|\n",
       "| 1 | 10.0 | NA | NA |\n",
       "| 2 |  8.0 |  2 |  7 |\n",
       "| 3 |  7.0 | NA | NA |\n",
       "| 4 |  8.5 |  4 |  3 |\n",
       "| 5 |  9.0 | NA | NA |\n",
       "\n"
      ],
      "text/plain": [
       "  student_id maths student_id.y physics\n",
       "1 1          10.0  NA           NA     \n",
       "2 2           8.0   2            7     \n",
       "3 3           7.0  NA           NA     \n",
       "4 4           8.5   4            3     \n",
       "5 5           9.0  NA           NA     "
      ]
     },
     "metadata": {},
     "output_type": "display_data"
    }
   ],
   "source": [
    "math %>% left_join(physics, by=c('student_id'='id'))"
   ]
  },
  {
   "cell_type": "markdown",
   "metadata": {},
   "source": [
    "## Resources\n",
    "- *r4ds.had.co.nz - [R for Data Science](https://r4ds.had.co.nz/)*"
   ]
  }
 ],
 "metadata": {
  "kernelspec": {
   "display_name": "R",
   "language": "R",
   "name": "ir"
  },
  "language_info": {
   "codemirror_mode": "r",
   "file_extension": ".r",
   "mimetype": "text/x-r-source",
   "name": "R",
   "pygments_lexer": "r",
   "version": "4.1.3"
  },
  "toc-autonumbering": false
 },
 "nbformat": 4,
 "nbformat_minor": 4
}
