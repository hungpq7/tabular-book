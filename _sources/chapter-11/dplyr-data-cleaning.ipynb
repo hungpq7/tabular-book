{
 "cells": [
  {
   "cell_type": "markdown",
   "metadata": {},
   "source": [
    "# Dplyr: Data Cleaning"
   ]
  },
  {
   "cell_type": "markdown",
   "metadata": {},
   "source": [
    "## 1. Common techniques"
   ]
  },
  {
   "cell_type": "markdown",
   "metadata": {},
   "source": [
    "### 1.1. Selection of variables"
   ]
  },
  {
   "cell_type": "code",
   "execution_count": 1,
   "metadata": {},
   "outputs": [
    {
     "name": "stderr",
     "output_type": "stream",
     "text": [
      "Warning message:\n",
      "\"package 'dplyr' was built under R version 3.6.3\"\n",
      "\n",
      "Attaching package: 'dplyr'\n",
      "\n",
      "\n",
      "The following objects are masked from 'package:stats':\n",
      "\n",
      "    filter, lag\n",
      "\n",
      "\n",
      "The following objects are masked from 'package:base':\n",
      "\n",
      "    intersect, setdiff, setequal, union\n",
      "\n",
      "\n"
     ]
    }
   ],
   "source": [
    "library(dplyr)"
   ]
  },
  {
   "cell_type": "code",
   "execution_count": 2,
   "metadata": {},
   "outputs": [
    {
     "data": {
      "text/html": [
       "<table>\n",
       "<caption>A data.frame: 3 × 12</caption>\n",
       "<thead>\n",
       "\t<tr><th></th><th scope=col>model</th><th scope=col>mpg</th><th scope=col>cyl</th><th scope=col>disp</th><th scope=col>hp</th><th scope=col>drat</th><th scope=col>wt</th><th scope=col>qsec</th><th scope=col>vs</th><th scope=col>am</th><th scope=col>gear</th><th scope=col>carb</th></tr>\n",
       "\t<tr><th></th><th scope=col>&lt;fct&gt;</th><th scope=col>&lt;dbl&gt;</th><th scope=col>&lt;int&gt;</th><th scope=col>&lt;dbl&gt;</th><th scope=col>&lt;int&gt;</th><th scope=col>&lt;dbl&gt;</th><th scope=col>&lt;dbl&gt;</th><th scope=col>&lt;dbl&gt;</th><th scope=col>&lt;int&gt;</th><th scope=col>&lt;int&gt;</th><th scope=col>&lt;int&gt;</th><th scope=col>&lt;int&gt;</th></tr>\n",
       "</thead>\n",
       "<tbody>\n",
       "\t<tr><th scope=row>1</th><td>Mazda RX4    </td><td>21.0</td><td>6</td><td>160</td><td>110</td><td>3.90</td><td>2.620</td><td>16.46</td><td>0</td><td>1</td><td>4</td><td>4</td></tr>\n",
       "\t<tr><th scope=row>2</th><td>Mazda RX4 Wag</td><td>21.0</td><td>6</td><td>160</td><td>110</td><td>3.90</td><td>2.875</td><td>17.02</td><td>0</td><td>1</td><td>4</td><td>4</td></tr>\n",
       "\t<tr><th scope=row>3</th><td>Datsun 710   </td><td>22.8</td><td>4</td><td>108</td><td> 93</td><td>3.85</td><td>2.320</td><td>18.61</td><td>1</td><td>1</td><td>4</td><td>1</td></tr>\n",
       "</tbody>\n",
       "</table>\n"
      ],
      "text/latex": [
       "A data.frame: 3 × 12\n",
       "\\begin{tabular}{r|llllllllllll}\n",
       "  & model & mpg & cyl & disp & hp & drat & wt & qsec & vs & am & gear & carb\\\\\n",
       "  & <fct> & <dbl> & <int> & <dbl> & <int> & <dbl> & <dbl> & <dbl> & <int> & <int> & <int> & <int>\\\\\n",
       "\\hline\n",
       "\t1 & Mazda RX4     & 21.0 & 6 & 160 & 110 & 3.90 & 2.620 & 16.46 & 0 & 1 & 4 & 4\\\\\n",
       "\t2 & Mazda RX4 Wag & 21.0 & 6 & 160 & 110 & 3.90 & 2.875 & 17.02 & 0 & 1 & 4 & 4\\\\\n",
       "\t3 & Datsun 710    & 22.8 & 4 & 108 &  93 & 3.85 & 2.320 & 18.61 & 1 & 1 & 4 & 1\\\\\n",
       "\\end{tabular}\n"
      ],
      "text/markdown": [
       "\n",
       "A data.frame: 3 × 12\n",
       "\n",
       "| <!--/--> | model &lt;fct&gt; | mpg &lt;dbl&gt; | cyl &lt;int&gt; | disp &lt;dbl&gt; | hp &lt;int&gt; | drat &lt;dbl&gt; | wt &lt;dbl&gt; | qsec &lt;dbl&gt; | vs &lt;int&gt; | am &lt;int&gt; | gear &lt;int&gt; | carb &lt;int&gt; |\n",
       "|---|---|---|---|---|---|---|---|---|---|---|---|---|\n",
       "| 1 | Mazda RX4     | 21.0 | 6 | 160 | 110 | 3.90 | 2.620 | 16.46 | 0 | 1 | 4 | 4 |\n",
       "| 2 | Mazda RX4 Wag | 21.0 | 6 | 160 | 110 | 3.90 | 2.875 | 17.02 | 0 | 1 | 4 | 4 |\n",
       "| 3 | Datsun 710    | 22.8 | 4 | 108 |  93 | 3.85 | 2.320 | 18.61 | 1 | 1 | 4 | 1 |\n",
       "\n"
      ],
      "text/plain": [
       "  model         mpg  cyl disp hp  drat wt    qsec  vs am gear carb\n",
       "1 Mazda RX4     21.0 6   160  110 3.90 2.620 16.46 0  1  4    4   \n",
       "2 Mazda RX4 Wag 21.0 6   160  110 3.90 2.875 17.02 0  1  4    4   \n",
       "3 Datsun 710    22.8 4   108   93 3.85 2.320 18.61 1  1  4    1   "
      ]
     },
     "metadata": {},
     "output_type": "display_data"
    }
   ],
   "source": [
    "mtcars <- read.csv('data/mtcars.csv')\n",
    "mtcars %>% head(3)"
   ]
  },
  {
   "cell_type": "code",
   "execution_count": 3,
   "metadata": {},
   "outputs": [
    {
     "data": {
      "text/html": [
       "<table>\n",
       "<caption>A data.frame: 3 × 10</caption>\n",
       "<thead>\n",
       "\t<tr><th></th><th scope=col>model</th><th scope=col>disp</th><th scope=col>hp</th><th scope=col>drat</th><th scope=col>wt</th><th scope=col>qsec</th><th scope=col>vs</th><th scope=col>am</th><th scope=col>gear</th><th scope=col>carb</th></tr>\n",
       "\t<tr><th></th><th scope=col>&lt;fct&gt;</th><th scope=col>&lt;dbl&gt;</th><th scope=col>&lt;int&gt;</th><th scope=col>&lt;dbl&gt;</th><th scope=col>&lt;dbl&gt;</th><th scope=col>&lt;dbl&gt;</th><th scope=col>&lt;int&gt;</th><th scope=col>&lt;int&gt;</th><th scope=col>&lt;int&gt;</th><th scope=col>&lt;int&gt;</th></tr>\n",
       "</thead>\n",
       "<tbody>\n",
       "\t<tr><th scope=row>1</th><td>Mazda RX4    </td><td>160</td><td>110</td><td>3.90</td><td>2.620</td><td>16.46</td><td>0</td><td>1</td><td>4</td><td>4</td></tr>\n",
       "\t<tr><th scope=row>2</th><td>Mazda RX4 Wag</td><td>160</td><td>110</td><td>3.90</td><td>2.875</td><td>17.02</td><td>0</td><td>1</td><td>4</td><td>4</td></tr>\n",
       "\t<tr><th scope=row>3</th><td>Datsun 710   </td><td>108</td><td> 93</td><td>3.85</td><td>2.320</td><td>18.61</td><td>1</td><td>1</td><td>4</td><td>1</td></tr>\n",
       "</tbody>\n",
       "</table>\n"
      ],
      "text/latex": [
       "A data.frame: 3 × 10\n",
       "\\begin{tabular}{r|llllllllll}\n",
       "  & model & disp & hp & drat & wt & qsec & vs & am & gear & carb\\\\\n",
       "  & <fct> & <dbl> & <int> & <dbl> & <dbl> & <dbl> & <int> & <int> & <int> & <int>\\\\\n",
       "\\hline\n",
       "\t1 & Mazda RX4     & 160 & 110 & 3.90 & 2.620 & 16.46 & 0 & 1 & 4 & 4\\\\\n",
       "\t2 & Mazda RX4 Wag & 160 & 110 & 3.90 & 2.875 & 17.02 & 0 & 1 & 4 & 4\\\\\n",
       "\t3 & Datsun 710    & 108 &  93 & 3.85 & 2.320 & 18.61 & 1 & 1 & 4 & 1\\\\\n",
       "\\end{tabular}\n"
      ],
      "text/markdown": [
       "\n",
       "A data.frame: 3 × 10\n",
       "\n",
       "| <!--/--> | model &lt;fct&gt; | disp &lt;dbl&gt; | hp &lt;int&gt; | drat &lt;dbl&gt; | wt &lt;dbl&gt; | qsec &lt;dbl&gt; | vs &lt;int&gt; | am &lt;int&gt; | gear &lt;int&gt; | carb &lt;int&gt; |\n",
       "|---|---|---|---|---|---|---|---|---|---|---|\n",
       "| 1 | Mazda RX4     | 160 | 110 | 3.90 | 2.620 | 16.46 | 0 | 1 | 4 | 4 |\n",
       "| 2 | Mazda RX4 Wag | 160 | 110 | 3.90 | 2.875 | 17.02 | 0 | 1 | 4 | 4 |\n",
       "| 3 | Datsun 710    | 108 |  93 | 3.85 | 2.320 | 18.61 | 1 | 1 | 4 | 1 |\n",
       "\n"
      ],
      "text/plain": [
       "  model         disp hp  drat wt    qsec  vs am gear carb\n",
       "1 Mazda RX4     160  110 3.90 2.620 16.46 0  1  4    4   \n",
       "2 Mazda RX4 Wag 160  110 3.90 2.875 17.02 0  1  4    4   \n",
       "3 Datsun 710    108   93 3.85 2.320 18.61 1  1  4    1   "
      ]
     },
     "metadata": {},
     "output_type": "display_data"
    }
   ],
   "source": [
    "# drop columns 2 and 3\n",
    "mtcars %>% select(-c(2,3)) %>% head(3)"
   ]
  },
  {
   "cell_type": "code",
   "execution_count": 4,
   "metadata": {},
   "outputs": [
    {
     "data": {
      "text/html": [
       "<table>\n",
       "<caption>A data.frame: 3 × 9</caption>\n",
       "<thead>\n",
       "\t<tr><th></th><th scope=col>model</th><th scope=col>mpg</th><th scope=col>disp</th><th scope=col>hp</th><th scope=col>drat</th><th scope=col>wt</th><th scope=col>vs</th><th scope=col>am</th><th scope=col>gear</th></tr>\n",
       "\t<tr><th></th><th scope=col>&lt;fct&gt;</th><th scope=col>&lt;dbl&gt;</th><th scope=col>&lt;dbl&gt;</th><th scope=col>&lt;int&gt;</th><th scope=col>&lt;dbl&gt;</th><th scope=col>&lt;dbl&gt;</th><th scope=col>&lt;int&gt;</th><th scope=col>&lt;int&gt;</th><th scope=col>&lt;int&gt;</th></tr>\n",
       "</thead>\n",
       "<tbody>\n",
       "\t<tr><th scope=row>1</th><td>Mazda RX4    </td><td>21.0</td><td>160</td><td>110</td><td>3.90</td><td>2.620</td><td>0</td><td>1</td><td>4</td></tr>\n",
       "\t<tr><th scope=row>2</th><td>Mazda RX4 Wag</td><td>21.0</td><td>160</td><td>110</td><td>3.90</td><td>2.875</td><td>0</td><td>1</td><td>4</td></tr>\n",
       "\t<tr><th scope=row>3</th><td>Datsun 710   </td><td>22.8</td><td>108</td><td> 93</td><td>3.85</td><td>2.320</td><td>1</td><td>1</td><td>4</td></tr>\n",
       "</tbody>\n",
       "</table>\n"
      ],
      "text/latex": [
       "A data.frame: 3 × 9\n",
       "\\begin{tabular}{r|lllllllll}\n",
       "  & model & mpg & disp & hp & drat & wt & vs & am & gear\\\\\n",
       "  & <fct> & <dbl> & <dbl> & <int> & <dbl> & <dbl> & <int> & <int> & <int>\\\\\n",
       "\\hline\n",
       "\t1 & Mazda RX4     & 21.0 & 160 & 110 & 3.90 & 2.620 & 0 & 1 & 4\\\\\n",
       "\t2 & Mazda RX4 Wag & 21.0 & 160 & 110 & 3.90 & 2.875 & 0 & 1 & 4\\\\\n",
       "\t3 & Datsun 710    & 22.8 & 108 &  93 & 3.85 & 2.320 & 1 & 1 & 4\\\\\n",
       "\\end{tabular}\n"
      ],
      "text/markdown": [
       "\n",
       "A data.frame: 3 × 9\n",
       "\n",
       "| <!--/--> | model &lt;fct&gt; | mpg &lt;dbl&gt; | disp &lt;dbl&gt; | hp &lt;int&gt; | drat &lt;dbl&gt; | wt &lt;dbl&gt; | vs &lt;int&gt; | am &lt;int&gt; | gear &lt;int&gt; |\n",
       "|---|---|---|---|---|---|---|---|---|---|\n",
       "| 1 | Mazda RX4     | 21.0 | 160 | 110 | 3.90 | 2.620 | 0 | 1 | 4 |\n",
       "| 2 | Mazda RX4 Wag | 21.0 | 160 | 110 | 3.90 | 2.875 | 0 | 1 | 4 |\n",
       "| 3 | Datsun 710    | 22.8 | 108 |  93 | 3.85 | 2.320 | 1 | 1 | 4 |\n",
       "\n"
      ],
      "text/plain": [
       "  model         mpg  disp hp  drat wt    vs am gear\n",
       "1 Mazda RX4     21.0 160  110 3.90 2.620 0  1  4   \n",
       "2 Mazda RX4 Wag 21.0 160  110 3.90 2.875 0  1  4   \n",
       "3 Datsun 710    22.8 108   93 3.85 2.320 1  1  4   "
      ]
     },
     "metadata": {},
     "output_type": "display_data"
    }
   ],
   "source": [
    "# drop columns containing 'c'\n",
    "mtcars %>% select(-contains('c')) %>% head(3)"
   ]
  },
  {
   "cell_type": "markdown",
   "metadata": {},
   "source": [
    "### 1.2. Renaming columns"
   ]
  },
  {
   "cell_type": "code",
   "execution_count": 5,
   "metadata": {},
   "outputs": [],
   "source": [
    "library(dplyr)"
   ]
  },
  {
   "cell_type": "code",
   "execution_count": 6,
   "metadata": {},
   "outputs": [
    {
     "data": {
      "text/html": [
       "<table>\n",
       "<caption>A data.frame: 3 × 12</caption>\n",
       "<thead>\n",
       "\t<tr><th></th><th scope=col>model</th><th scope=col>mpg</th><th scope=col>cyl</th><th scope=col>disp</th><th scope=col>hp</th><th scope=col>drat</th><th scope=col>wt</th><th scope=col>qsec</th><th scope=col>vs</th><th scope=col>am</th><th scope=col>gear</th><th scope=col>carb</th></tr>\n",
       "\t<tr><th></th><th scope=col>&lt;fct&gt;</th><th scope=col>&lt;dbl&gt;</th><th scope=col>&lt;int&gt;</th><th scope=col>&lt;dbl&gt;</th><th scope=col>&lt;int&gt;</th><th scope=col>&lt;dbl&gt;</th><th scope=col>&lt;dbl&gt;</th><th scope=col>&lt;dbl&gt;</th><th scope=col>&lt;int&gt;</th><th scope=col>&lt;int&gt;</th><th scope=col>&lt;int&gt;</th><th scope=col>&lt;int&gt;</th></tr>\n",
       "</thead>\n",
       "<tbody>\n",
       "\t<tr><th scope=row>1</th><td>Mazda RX4    </td><td>21.0</td><td>6</td><td>160</td><td>110</td><td>3.90</td><td>2.620</td><td>16.46</td><td>0</td><td>1</td><td>4</td><td>4</td></tr>\n",
       "\t<tr><th scope=row>2</th><td>Mazda RX4 Wag</td><td>21.0</td><td>6</td><td>160</td><td>110</td><td>3.90</td><td>2.875</td><td>17.02</td><td>0</td><td>1</td><td>4</td><td>4</td></tr>\n",
       "\t<tr><th scope=row>3</th><td>Datsun 710   </td><td>22.8</td><td>4</td><td>108</td><td> 93</td><td>3.85</td><td>2.320</td><td>18.61</td><td>1</td><td>1</td><td>4</td><td>1</td></tr>\n",
       "</tbody>\n",
       "</table>\n"
      ],
      "text/latex": [
       "A data.frame: 3 × 12\n",
       "\\begin{tabular}{r|llllllllllll}\n",
       "  & model & mpg & cyl & disp & hp & drat & wt & qsec & vs & am & gear & carb\\\\\n",
       "  & <fct> & <dbl> & <int> & <dbl> & <int> & <dbl> & <dbl> & <dbl> & <int> & <int> & <int> & <int>\\\\\n",
       "\\hline\n",
       "\t1 & Mazda RX4     & 21.0 & 6 & 160 & 110 & 3.90 & 2.620 & 16.46 & 0 & 1 & 4 & 4\\\\\n",
       "\t2 & Mazda RX4 Wag & 21.0 & 6 & 160 & 110 & 3.90 & 2.875 & 17.02 & 0 & 1 & 4 & 4\\\\\n",
       "\t3 & Datsun 710    & 22.8 & 4 & 108 &  93 & 3.85 & 2.320 & 18.61 & 1 & 1 & 4 & 1\\\\\n",
       "\\end{tabular}\n"
      ],
      "text/markdown": [
       "\n",
       "A data.frame: 3 × 12\n",
       "\n",
       "| <!--/--> | model &lt;fct&gt; | mpg &lt;dbl&gt; | cyl &lt;int&gt; | disp &lt;dbl&gt; | hp &lt;int&gt; | drat &lt;dbl&gt; | wt &lt;dbl&gt; | qsec &lt;dbl&gt; | vs &lt;int&gt; | am &lt;int&gt; | gear &lt;int&gt; | carb &lt;int&gt; |\n",
       "|---|---|---|---|---|---|---|---|---|---|---|---|---|\n",
       "| 1 | Mazda RX4     | 21.0 | 6 | 160 | 110 | 3.90 | 2.620 | 16.46 | 0 | 1 | 4 | 4 |\n",
       "| 2 | Mazda RX4 Wag | 21.0 | 6 | 160 | 110 | 3.90 | 2.875 | 17.02 | 0 | 1 | 4 | 4 |\n",
       "| 3 | Datsun 710    | 22.8 | 4 | 108 |  93 | 3.85 | 2.320 | 18.61 | 1 | 1 | 4 | 1 |\n",
       "\n"
      ],
      "text/plain": [
       "  model         mpg  cyl disp hp  drat wt    qsec  vs am gear carb\n",
       "1 Mazda RX4     21.0 6   160  110 3.90 2.620 16.46 0  1  4    4   \n",
       "2 Mazda RX4 Wag 21.0 6   160  110 3.90 2.875 17.02 0  1  4    4   \n",
       "3 Datsun 710    22.8 4   108   93 3.85 2.320 18.61 1  1  4    1   "
      ]
     },
     "metadata": {},
     "output_type": "display_data"
    }
   ],
   "source": [
    "mtcars <- read.csv('data/mtcars.csv')\n",
    "mtcars %>% head(3)"
   ]
  },
  {
   "cell_type": "code",
   "execution_count": 7,
   "metadata": {},
   "outputs": [
    {
     "data": {
      "text/html": [
       "<table>\n",
       "<caption>A data.frame: 3 × 12</caption>\n",
       "<thead>\n",
       "\t<tr><th></th><th scope=col>model</th><th scope=col>mpg</th><th scope=col>cylinders</th><th scope=col>disp</th><th scope=col>hp</th><th scope=col>drat</th><th scope=col>weight</th><th scope=col>qsec</th><th scope=col>vs</th><th scope=col>am</th><th scope=col>gear</th><th scope=col>carb</th></tr>\n",
       "\t<tr><th></th><th scope=col>&lt;fct&gt;</th><th scope=col>&lt;dbl&gt;</th><th scope=col>&lt;int&gt;</th><th scope=col>&lt;dbl&gt;</th><th scope=col>&lt;int&gt;</th><th scope=col>&lt;dbl&gt;</th><th scope=col>&lt;dbl&gt;</th><th scope=col>&lt;dbl&gt;</th><th scope=col>&lt;int&gt;</th><th scope=col>&lt;int&gt;</th><th scope=col>&lt;int&gt;</th><th scope=col>&lt;int&gt;</th></tr>\n",
       "</thead>\n",
       "<tbody>\n",
       "\t<tr><th scope=row>1</th><td>Mazda RX4    </td><td>21.0</td><td>6</td><td>160</td><td>110</td><td>3.90</td><td>2.620</td><td>16.46</td><td>0</td><td>1</td><td>4</td><td>4</td></tr>\n",
       "\t<tr><th scope=row>2</th><td>Mazda RX4 Wag</td><td>21.0</td><td>6</td><td>160</td><td>110</td><td>3.90</td><td>2.875</td><td>17.02</td><td>0</td><td>1</td><td>4</td><td>4</td></tr>\n",
       "\t<tr><th scope=row>3</th><td>Datsun 710   </td><td>22.8</td><td>4</td><td>108</td><td> 93</td><td>3.85</td><td>2.320</td><td>18.61</td><td>1</td><td>1</td><td>4</td><td>1</td></tr>\n",
       "</tbody>\n",
       "</table>\n"
      ],
      "text/latex": [
       "A data.frame: 3 × 12\n",
       "\\begin{tabular}{r|llllllllllll}\n",
       "  & model & mpg & cylinders & disp & hp & drat & weight & qsec & vs & am & gear & carb\\\\\n",
       "  & <fct> & <dbl> & <int> & <dbl> & <int> & <dbl> & <dbl> & <dbl> & <int> & <int> & <int> & <int>\\\\\n",
       "\\hline\n",
       "\t1 & Mazda RX4     & 21.0 & 6 & 160 & 110 & 3.90 & 2.620 & 16.46 & 0 & 1 & 4 & 4\\\\\n",
       "\t2 & Mazda RX4 Wag & 21.0 & 6 & 160 & 110 & 3.90 & 2.875 & 17.02 & 0 & 1 & 4 & 4\\\\\n",
       "\t3 & Datsun 710    & 22.8 & 4 & 108 &  93 & 3.85 & 2.320 & 18.61 & 1 & 1 & 4 & 1\\\\\n",
       "\\end{tabular}\n"
      ],
      "text/markdown": [
       "\n",
       "A data.frame: 3 × 12\n",
       "\n",
       "| <!--/--> | model &lt;fct&gt; | mpg &lt;dbl&gt; | cylinders &lt;int&gt; | disp &lt;dbl&gt; | hp &lt;int&gt; | drat &lt;dbl&gt; | weight &lt;dbl&gt; | qsec &lt;dbl&gt; | vs &lt;int&gt; | am &lt;int&gt; | gear &lt;int&gt; | carb &lt;int&gt; |\n",
       "|---|---|---|---|---|---|---|---|---|---|---|---|---|\n",
       "| 1 | Mazda RX4     | 21.0 | 6 | 160 | 110 | 3.90 | 2.620 | 16.46 | 0 | 1 | 4 | 4 |\n",
       "| 2 | Mazda RX4 Wag | 21.0 | 6 | 160 | 110 | 3.90 | 2.875 | 17.02 | 0 | 1 | 4 | 4 |\n",
       "| 3 | Datsun 710    | 22.8 | 4 | 108 |  93 | 3.85 | 2.320 | 18.61 | 1 | 1 | 4 | 1 |\n",
       "\n"
      ],
      "text/plain": [
       "  model         mpg  cylinders disp hp  drat weight qsec  vs am gear carb\n",
       "1 Mazda RX4     21.0 6         160  110 3.90 2.620  16.46 0  1  4    4   \n",
       "2 Mazda RX4 Wag 21.0 6         160  110 3.90 2.875  17.02 0  1  4    4   \n",
       "3 Datsun 710    22.8 4         108   93 3.85 2.320  18.61 1  1  4    1   "
      ]
     },
     "metadata": {},
     "output_type": "display_data"
    }
   ],
   "source": [
    "mtcars %>% rename(weight=wt, cylinders=cyl) %>% head(3)"
   ]
  },
  {
   "cell_type": "markdown",
   "metadata": {},
   "source": [
    "### 1.3. Standardizing data types"
   ]
  },
  {
   "cell_type": "code",
   "execution_count": 8,
   "metadata": {},
   "outputs": [],
   "source": [
    "library(dplyr)"
   ]
  },
  {
   "cell_type": "code",
   "execution_count": 9,
   "metadata": {},
   "outputs": [
    {
     "data": {
      "text/html": [
       "<table>\n",
       "<caption>A data.frame: 6 × 5</caption>\n",
       "<thead>\n",
       "\t<tr><th scope=col>year</th><th scope=col>date</th><th scope=col>medal</th><th scope=col>name</th><th scope=col>left_handed</th></tr>\n",
       "\t<tr><th scope=col>&lt;dbl&gt;</th><th scope=col>&lt;dbl&gt;</th><th scope=col>&lt;fct&gt;</th><th scope=col>&lt;fct&gt;</th><th scope=col>&lt;dbl&gt;</th></tr>\n",
       "</thead>\n",
       "<tbody>\n",
       "\t<tr><td>2019</td><td>20191103</td><td>Gold  </td><td>Wayne </td><td>1</td></tr>\n",
       "\t<tr><td>2019</td><td>20190812</td><td>Bronze</td><td>Robert</td><td>0</td></tr>\n",
       "\t<tr><td>2020</td><td>20200125</td><td>Silver</td><td>Ashley</td><td>0</td></tr>\n",
       "\t<tr><td>2020</td><td>20200129</td><td>Bronze</td><td>Jamie </td><td>0</td></tr>\n",
       "\t<tr><td>2020</td><td>20200412</td><td>Silver</td><td>Jessie</td><td>1</td></tr>\n",
       "\t<tr><td>2020</td><td>20200220</td><td>Silver</td><td>Sergio</td><td>0</td></tr>\n",
       "</tbody>\n",
       "</table>\n"
      ],
      "text/latex": [
       "A data.frame: 6 × 5\n",
       "\\begin{tabular}{lllll}\n",
       " year & date & medal & name & left\\_handed\\\\\n",
       " <dbl> & <dbl> & <fct> & <fct> & <dbl>\\\\\n",
       "\\hline\n",
       "\t 2019 & 20191103 & Gold   & Wayne  & 1\\\\\n",
       "\t 2019 & 20190812 & Bronze & Robert & 0\\\\\n",
       "\t 2020 & 20200125 & Silver & Ashley & 0\\\\\n",
       "\t 2020 & 20200129 & Bronze & Jamie  & 0\\\\\n",
       "\t 2020 & 20200412 & Silver & Jessie & 1\\\\\n",
       "\t 2020 & 20200220 & Silver & Sergio & 0\\\\\n",
       "\\end{tabular}\n"
      ],
      "text/markdown": [
       "\n",
       "A data.frame: 6 × 5\n",
       "\n",
       "| year &lt;dbl&gt; | date &lt;dbl&gt; | medal &lt;fct&gt; | name &lt;fct&gt; | left_handed &lt;dbl&gt; |\n",
       "|---|---|---|---|---|\n",
       "| 2019 | 20191103 | Gold   | Wayne  | 1 |\n",
       "| 2019 | 20190812 | Bronze | Robert | 0 |\n",
       "| 2020 | 20200125 | Silver | Ashley | 0 |\n",
       "| 2020 | 20200129 | Bronze | Jamie  | 0 |\n",
       "| 2020 | 20200412 | Silver | Jessie | 1 |\n",
       "| 2020 | 20200220 | Silver | Sergio | 0 |\n",
       "\n"
      ],
      "text/plain": [
       "  year date     medal  name   left_handed\n",
       "1 2019 20191103 Gold   Wayne  1          \n",
       "2 2019 20190812 Bronze Robert 0          \n",
       "3 2020 20200125 Silver Ashley 0          \n",
       "4 2020 20200129 Bronze Jamie  0          \n",
       "5 2020 20200412 Silver Jessie 1          \n",
       "6 2020 20200220 Silver Sergio 0          "
      ]
     },
     "metadata": {},
     "output_type": "display_data"
    }
   ],
   "source": [
    "year <- c(2019, 2019, 2020., 2020, 2020, 2020)\n",
    "date <- c(20191103, 20190812, 20200125, 20200129, 20200412, 20200220)\n",
    "medal <- c('Gold', 'Bronze', 'Silver', 'Bronze', 'Silver', 'Silver')\n",
    "name <- c('Wayne', 'Robert', 'Ashley', 'Jamie', 'Jessie', 'Sergio')\n",
    "left_handed <- c(1, 0, 0, 0, 1, 0)\n",
    "\n",
    "athletes <- data.frame(year, date, medal, name, left_handed)\n",
    "athletes"
   ]
  },
  {
   "cell_type": "code",
   "execution_count": 10,
   "metadata": {},
   "outputs": [
    {
     "data": {
      "text/html": [
       "<style>\n",
       ".list-inline {list-style: none; margin:0; padding: 0}\n",
       ".list-inline>li {display: inline-block}\n",
       ".list-inline>li:not(:last-child)::after {content: \"\\00b7\"; padding: 0 .5ex}\n",
       "</style>\n",
       "<ol class=list-inline><li><time datetime=\"2019-11-03\">2019-11-03</time></li><li><time datetime=\"2019-08-12\">2019-08-12</time></li><li><time datetime=\"2020-01-25\">2020-01-25</time></li><li><time datetime=\"2020-01-29\">2020-01-29</time></li><li><time datetime=\"2020-04-12\">2020-04-12</time></li><li><time datetime=\"2020-02-20\">2020-02-20</time></li></ol>\n"
      ],
      "text/latex": [
       "\\begin{enumerate*}\n",
       "\\item 2019-11-03\n",
       "\\item 2019-08-12\n",
       "\\item 2020-01-25\n",
       "\\item 2020-01-29\n",
       "\\item 2020-04-12\n",
       "\\item 2020-02-20\n",
       "\\end{enumerate*}\n"
      ],
      "text/markdown": [
       "1. 2019-11-03\n",
       "2. 2019-08-12\n",
       "3. 2020-01-25\n",
       "4. 2020-01-29\n",
       "5. 2020-04-12\n",
       "6. 2020-02-20\n",
       "\n",
       "\n"
      ],
      "text/plain": [
       "[1] \"2019-11-03\" \"2019-08-12\" \"2020-01-25\" \"2020-01-29\" \"2020-04-12\"\n",
       "[6] \"2020-02-20\""
      ]
     },
     "metadata": {},
     "output_type": "display_data"
    }
   ],
   "source": [
    "athletes$date %>% as.character %>% as.Date(format='%Y%m%d')"
   ]
  },
  {
   "cell_type": "code",
   "execution_count": 11,
   "metadata": {},
   "outputs": [
    {
     "data": {
      "text/html": [
       "<style>\n",
       ".list-inline {list-style: none; margin:0; padding: 0}\n",
       ".list-inline>li {display: inline-block}\n",
       ".list-inline>li:not(:last-child)::after {content: \"\\00b7\"; padding: 0 .5ex}\n",
       "</style>\n",
       "<ol class=list-inline><li>TRUE</li><li>FALSE</li><li>FALSE</li><li>FALSE</li><li>TRUE</li><li>FALSE</li></ol>\n"
      ],
      "text/latex": [
       "\\begin{enumerate*}\n",
       "\\item TRUE\n",
       "\\item FALSE\n",
       "\\item FALSE\n",
       "\\item FALSE\n",
       "\\item TRUE\n",
       "\\item FALSE\n",
       "\\end{enumerate*}\n"
      ],
      "text/markdown": [
       "1. TRUE\n",
       "2. FALSE\n",
       "3. FALSE\n",
       "4. FALSE\n",
       "5. TRUE\n",
       "6. FALSE\n",
       "\n",
       "\n"
      ],
      "text/plain": [
       "[1]  TRUE FALSE FALSE FALSE  TRUE FALSE"
      ]
     },
     "metadata": {},
     "output_type": "display_data"
    }
   ],
   "source": [
    "athletes$left_handed %>% as.logical"
   ]
  },
  {
   "cell_type": "code",
   "execution_count": 12,
   "metadata": {},
   "outputs": [
    {
     "data": {
      "text/html": [
       "<style>\n",
       ".list-inline {list-style: none; margin:0; padding: 0}\n",
       ".list-inline>li {display: inline-block}\n",
       ".list-inline>li:not(:last-child)::after {content: \"\\00b7\"; padding: 0 .5ex}\n",
       "</style>\n",
       "<ol class=list-inline><li>Gold</li><li>Bronze</li><li>Silver</li><li>Bronze</li><li>Silver</li><li>Silver</li></ol>\n",
       "\n",
       "<details>\n",
       "\t<summary style=display:list-item;cursor:pointer>\n",
       "\t\t<strong>Levels</strong>:\n",
       "\t</summary>\n",
       "\t<style>\n",
       "\t.list-inline {list-style: none; margin:0; padding: 0}\n",
       "\t.list-inline>li {display: inline-block}\n",
       "\t.list-inline>li:not(:last-child)::after {content: \"\\00b7\"; padding: 0 .5ex}\n",
       "\t</style>\n",
       "\t<ol class=list-inline><li>'Bronze'</li><li>'Silver'</li><li>'Gold'</li></ol>\n",
       "</details>"
      ],
      "text/latex": [
       "\\begin{enumerate*}\n",
       "\\item Gold\n",
       "\\item Bronze\n",
       "\\item Silver\n",
       "\\item Bronze\n",
       "\\item Silver\n",
       "\\item Silver\n",
       "\\end{enumerate*}\n",
       "\n",
       "\\emph{Levels}: \\begin{enumerate*}\n",
       "\\item 'Bronze'\n",
       "\\item 'Silver'\n",
       "\\item 'Gold'\n",
       "\\end{enumerate*}\n"
      ],
      "text/markdown": [
       "1. Gold\n",
       "2. Bronze\n",
       "3. Silver\n",
       "4. Bronze\n",
       "5. Silver\n",
       "6. Silver\n",
       "\n",
       "\n",
       "\n",
       "**Levels**: 1. 'Bronze'\n",
       "2. 'Silver'\n",
       "3. 'Gold'\n",
       "\n",
       "\n"
      ],
      "text/plain": [
       "[1] Gold   Bronze Silver Bronze Silver Silver\n",
       "Levels: Bronze Silver Gold"
      ]
     },
     "metadata": {},
     "output_type": "display_data"
    }
   ],
   "source": [
    "athletes$medal %>% factor(levels=c('Bronze', 'Silver', 'Gold'))"
   ]
  },
  {
   "cell_type": "code",
   "execution_count": 13,
   "metadata": {},
   "outputs": [],
   "source": [
    "# modify the dataframe\n",
    "athletes$date <- athletes$date %>%\n",
    "    as.character %>%\n",
    "    as.Date(format='%Y%m%d')\n",
    "\n",
    "athletes$left_handed <- athletes$left_handed %>% as.logical\n",
    "athletes$medal <- athletes$medal %>% factor(levels=c('Bronze', 'Silver', 'Gold'))"
   ]
  },
  {
   "cell_type": "code",
   "execution_count": 14,
   "metadata": {},
   "outputs": [
    {
     "data": {
      "text/html": [
       "<table>\n",
       "<caption>A data.frame: 6 × 5</caption>\n",
       "<thead>\n",
       "\t<tr><th scope=col>year</th><th scope=col>date</th><th scope=col>medal</th><th scope=col>name</th><th scope=col>left_handed</th></tr>\n",
       "\t<tr><th scope=col>&lt;dbl&gt;</th><th scope=col>&lt;date&gt;</th><th scope=col>&lt;fct&gt;</th><th scope=col>&lt;fct&gt;</th><th scope=col>&lt;lgl&gt;</th></tr>\n",
       "</thead>\n",
       "<tbody>\n",
       "\t<tr><td>2019</td><td>2019-08-12</td><td>Bronze</td><td>Robert</td><td>FALSE</td></tr>\n",
       "\t<tr><td>2020</td><td>2020-01-29</td><td>Bronze</td><td>Jamie </td><td>FALSE</td></tr>\n",
       "\t<tr><td>2020</td><td>2020-01-25</td><td>Silver</td><td>Ashley</td><td>FALSE</td></tr>\n",
       "\t<tr><td>2020</td><td>2020-04-12</td><td>Silver</td><td>Jessie</td><td> TRUE</td></tr>\n",
       "\t<tr><td>2020</td><td>2020-02-20</td><td>Silver</td><td>Sergio</td><td>FALSE</td></tr>\n",
       "\t<tr><td>2019</td><td>2019-11-03</td><td>Gold  </td><td>Wayne </td><td> TRUE</td></tr>\n",
       "</tbody>\n",
       "</table>\n"
      ],
      "text/latex": [
       "A data.frame: 6 × 5\n",
       "\\begin{tabular}{lllll}\n",
       " year & date & medal & name & left\\_handed\\\\\n",
       " <dbl> & <date> & <fct> & <fct> & <lgl>\\\\\n",
       "\\hline\n",
       "\t 2019 & 2019-08-12 & Bronze & Robert & FALSE\\\\\n",
       "\t 2020 & 2020-01-29 & Bronze & Jamie  & FALSE\\\\\n",
       "\t 2020 & 2020-01-25 & Silver & Ashley & FALSE\\\\\n",
       "\t 2020 & 2020-04-12 & Silver & Jessie &  TRUE\\\\\n",
       "\t 2020 & 2020-02-20 & Silver & Sergio & FALSE\\\\\n",
       "\t 2019 & 2019-11-03 & Gold   & Wayne  &  TRUE\\\\\n",
       "\\end{tabular}\n"
      ],
      "text/markdown": [
       "\n",
       "A data.frame: 6 × 5\n",
       "\n",
       "| year &lt;dbl&gt; | date &lt;date&gt; | medal &lt;fct&gt; | name &lt;fct&gt; | left_handed &lt;lgl&gt; |\n",
       "|---|---|---|---|---|\n",
       "| 2019 | 2019-08-12 | Bronze | Robert | FALSE |\n",
       "| 2020 | 2020-01-29 | Bronze | Jamie  | FALSE |\n",
       "| 2020 | 2020-01-25 | Silver | Ashley | FALSE |\n",
       "| 2020 | 2020-04-12 | Silver | Jessie |  TRUE |\n",
       "| 2020 | 2020-02-20 | Silver | Sergio | FALSE |\n",
       "| 2019 | 2019-11-03 | Gold   | Wayne  |  TRUE |\n",
       "\n"
      ],
      "text/plain": [
       "  year date       medal  name   left_handed\n",
       "1 2019 2019-08-12 Bronze Robert FALSE      \n",
       "2 2020 2020-01-29 Bronze Jamie  FALSE      \n",
       "3 2020 2020-01-25 Silver Ashley FALSE      \n",
       "4 2020 2020-04-12 Silver Jessie  TRUE      \n",
       "5 2020 2020-02-20 Silver Sergio FALSE      \n",
       "6 2019 2019-11-03 Gold   Wayne   TRUE      "
      ]
     },
     "metadata": {},
     "output_type": "display_data"
    }
   ],
   "source": [
    "athletes %>% arrange(medal)"
   ]
  },
  {
   "cell_type": "markdown",
   "metadata": {},
   "source": [
    "### 1.4. Map"
   ]
  },
  {
   "cell_type": "code",
   "execution_count": 15,
   "metadata": {},
   "outputs": [
    {
     "name": "stderr",
     "output_type": "stream",
     "text": [
      "Warning message:\n",
      "\"package 'purrr' was built under R version 3.6.3\"\n"
     ]
    }
   ],
   "source": [
    "library(purrr)"
   ]
  },
  {
   "cell_type": "code",
   "execution_count": 16,
   "metadata": {},
   "outputs": [
    {
     "data": {
      "text/html": [
       "<table>\n",
       "<caption>A data.frame: 6 × 3</caption>\n",
       "<thead>\n",
       "\t<tr><th scope=col>student_id</th><th scope=col>grade</th><th scope=col>gender</th></tr>\n",
       "\t<tr><th scope=col>&lt;fct&gt;</th><th scope=col>&lt;dbl&gt;</th><th scope=col>&lt;fct&gt;</th></tr>\n",
       "</thead>\n",
       "<tbody>\n",
       "\t<tr><td>010001</td><td> 1</td><td>Male  </td></tr>\n",
       "\t<tr><td>030001</td><td> 3</td><td>Female</td></tr>\n",
       "\t<tr><td>070001</td><td> 7</td><td>Female</td></tr>\n",
       "\t<tr><td>080001</td><td> 8</td><td>Female</td></tr>\n",
       "\t<tr><td>110001</td><td>11</td><td>Male  </td></tr>\n",
       "\t<tr><td>120001</td><td>12</td><td>Female</td></tr>\n",
       "</tbody>\n",
       "</table>\n"
      ],
      "text/latex": [
       "A data.frame: 6 × 3\n",
       "\\begin{tabular}{lll}\n",
       " student\\_id & grade & gender\\\\\n",
       " <fct> & <dbl> & <fct>\\\\\n",
       "\\hline\n",
       "\t 010001 &  1 & Male  \\\\\n",
       "\t 030001 &  3 & Female\\\\\n",
       "\t 070001 &  7 & Female\\\\\n",
       "\t 080001 &  8 & Female\\\\\n",
       "\t 110001 & 11 & Male  \\\\\n",
       "\t 120001 & 12 & Female\\\\\n",
       "\\end{tabular}\n"
      ],
      "text/markdown": [
       "\n",
       "A data.frame: 6 × 3\n",
       "\n",
       "| student_id &lt;fct&gt; | grade &lt;dbl&gt; | gender &lt;fct&gt; |\n",
       "|---|---|---|\n",
       "| 010001 |  1 | Male   |\n",
       "| 030001 |  3 | Female |\n",
       "| 070001 |  7 | Female |\n",
       "| 080001 |  8 | Female |\n",
       "| 110001 | 11 | Male   |\n",
       "| 120001 | 12 | Female |\n",
       "\n"
      ],
      "text/plain": [
       "  student_id grade gender\n",
       "1 010001      1    Male  \n",
       "2 030001      3    Female\n",
       "3 070001      7    Female\n",
       "4 080001      8    Female\n",
       "5 110001     11    Male  \n",
       "6 120001     12    Female"
      ]
     },
     "metadata": {},
     "output_type": "display_data"
    }
   ],
   "source": [
    "student_id <- c('010001', '030001', '070001', '080001', '110001', '120001')\n",
    "grade <- c(1, 3, 7, 8, 11, 12)\n",
    "gender <- c('Male', 'Female', 'Female', 'Female', 'Male', 'Female')\n",
    "\n",
    "students <- data.frame(student_id, grade, gender)\n",
    "students"
   ]
  },
  {
   "cell_type": "code",
   "execution_count": 17,
   "metadata": {},
   "outputs": [],
   "source": [
    "stage <-function(grade){\n",
    "    if (grade >= 1 & grade <6)\n",
    "        return(stage='Primary')\n",
    "    if (grade >= 6 & grade <10)\n",
    "        return(stage='Secondary')\n",
    "    if (grade >= 10 & grade <13)\n",
    "        return(stage='High')\n",
    "}"
   ]
  },
  {
   "cell_type": "code",
   "execution_count": 18,
   "metadata": {},
   "outputs": [
    {
     "data": {
      "text/html": [
       "<ol>\n",
       "\t<li>'Primary'</li>\n",
       "\t<li>'Primary'</li>\n",
       "\t<li>'Secondary'</li>\n",
       "\t<li>'Secondary'</li>\n",
       "\t<li>'High'</li>\n",
       "\t<li>'High'</li>\n",
       "</ol>\n"
      ],
      "text/latex": [
       "\\begin{enumerate}\n",
       "\\item 'Primary'\n",
       "\\item 'Primary'\n",
       "\\item 'Secondary'\n",
       "\\item 'Secondary'\n",
       "\\item 'High'\n",
       "\\item 'High'\n",
       "\\end{enumerate}\n"
      ],
      "text/markdown": [
       "1. 'Primary'\n",
       "2. 'Primary'\n",
       "3. 'Secondary'\n",
       "4. 'Secondary'\n",
       "5. 'High'\n",
       "6. 'High'\n",
       "\n",
       "\n"
      ],
      "text/plain": [
       "[[1]]\n",
       "[1] \"Primary\"\n",
       "\n",
       "[[2]]\n",
       "[1] \"Primary\"\n",
       "\n",
       "[[3]]\n",
       "[1] \"Secondary\"\n",
       "\n",
       "[[4]]\n",
       "[1] \"Secondary\"\n",
       "\n",
       "[[5]]\n",
       "[1] \"High\"\n",
       "\n",
       "[[6]]\n",
       "[1] \"High\"\n"
      ]
     },
     "metadata": {},
     "output_type": "display_data"
    }
   ],
   "source": [
    "students$grade %>% map(stage)"
   ]
  },
  {
   "cell_type": "markdown",
   "metadata": {},
   "source": [
    "## 2. Handling abnormal data"
   ]
  },
  {
   "cell_type": "markdown",
   "metadata": {},
   "source": [
    "### 2.1. Missing data"
   ]
  },
  {
   "cell_type": "code",
   "execution_count": 19,
   "metadata": {},
   "outputs": [
    {
     "name": "stderr",
     "output_type": "stream",
     "text": [
      "Warning message:\n",
      "\"package 'tidyr' was built under R version 3.6.3\"\n"
     ]
    }
   ],
   "source": [
    "library(tidyr)"
   ]
  },
  {
   "cell_type": "code",
   "execution_count": 20,
   "metadata": {},
   "outputs": [
    {
     "data": {
      "text/html": [
       "<table>\n",
       "<caption>A data.frame: 10 × 4</caption>\n",
       "<thead>\n",
       "\t<tr><th scope=col>country</th><th scope=col>comfirmed</th><th scope=col>deaths</th><th scope=col>recovered</th></tr>\n",
       "\t<tr><th scope=col>&lt;fct&gt;</th><th scope=col>&lt;dbl&gt;</th><th scope=col>&lt;dbl&gt;</th><th scope=col>&lt;dbl&gt;</th></tr>\n",
       "</thead>\n",
       "<tbody>\n",
       "\t<tr><td>US     </td><td>1576</td><td>94</td><td>298</td></tr>\n",
       "\t<tr><td>Russia </td><td> 317</td><td> 3</td><td> NA</td></tr>\n",
       "\t<tr><td>Brazil </td><td> 310</td><td>20</td><td>125</td></tr>\n",
       "\t<tr><td>UK     </td><td> 252</td><td>36</td><td> NA</td></tr>\n",
       "\t<tr><td>Spain  </td><td> 233</td><td>27</td><td>150</td></tr>\n",
       "\t<tr><td>Italy  </td><td> 228</td><td>32</td><td>134</td></tr>\n",
       "\t<tr><td>France </td><td> 181</td><td>28</td><td> NA</td></tr>\n",
       "\t<tr><td>Germany</td><td> 179</td><td> 8</td><td> NA</td></tr>\n",
       "\t<tr><td>Turkey </td><td> 153</td><td> 4</td><td> NA</td></tr>\n",
       "\t<tr><td>Iran   </td><td> 129</td><td> 7</td><td> NA</td></tr>\n",
       "</tbody>\n",
       "</table>\n"
      ],
      "text/latex": [
       "A data.frame: 10 × 4\n",
       "\\begin{tabular}{llll}\n",
       " country & comfirmed & deaths & recovered\\\\\n",
       " <fct> & <dbl> & <dbl> & <dbl>\\\\\n",
       "\\hline\n",
       "\t US      & 1576 & 94 & 298\\\\\n",
       "\t Russia  &  317 &  3 &  NA\\\\\n",
       "\t Brazil  &  310 & 20 & 125\\\\\n",
       "\t UK      &  252 & 36 &  NA\\\\\n",
       "\t Spain   &  233 & 27 & 150\\\\\n",
       "\t Italy   &  228 & 32 & 134\\\\\n",
       "\t France  &  181 & 28 &  NA\\\\\n",
       "\t Germany &  179 &  8 &  NA\\\\\n",
       "\t Turkey  &  153 &  4 &  NA\\\\\n",
       "\t Iran    &  129 &  7 &  NA\\\\\n",
       "\\end{tabular}\n"
      ],
      "text/markdown": [
       "\n",
       "A data.frame: 10 × 4\n",
       "\n",
       "| country &lt;fct&gt; | comfirmed &lt;dbl&gt; | deaths &lt;dbl&gt; | recovered &lt;dbl&gt; |\n",
       "|---|---|---|---|\n",
       "| US      | 1576 | 94 | 298 |\n",
       "| Russia  |  317 |  3 |  NA |\n",
       "| Brazil  |  310 | 20 | 125 |\n",
       "| UK      |  252 | 36 |  NA |\n",
       "| Spain   |  233 | 27 | 150 |\n",
       "| Italy   |  228 | 32 | 134 |\n",
       "| France  |  181 | 28 |  NA |\n",
       "| Germany |  179 |  8 |  NA |\n",
       "| Turkey  |  153 |  4 |  NA |\n",
       "| Iran    |  129 |  7 |  NA |\n",
       "\n"
      ],
      "text/plain": [
       "   country comfirmed deaths recovered\n",
       "1  US      1576      94     298      \n",
       "2  Russia   317       3      NA      \n",
       "3  Brazil   310      20     125      \n",
       "4  UK       252      36      NA      \n",
       "5  Spain    233      27     150      \n",
       "6  Italy    228      32     134      \n",
       "7  France   181      28      NA      \n",
       "8  Germany  179       8      NA      \n",
       "9  Turkey   153       4      NA      \n",
       "10 Iran     129       7      NA      "
      ]
     },
     "metadata": {},
     "output_type": "display_data"
    }
   ],
   "source": [
    "country <- c('US', 'Russia', 'Brazil', 'UK', 'Spain', 'Italy', 'France', 'Germany', 'Turkey', 'Iran')\n",
    "comfirmed <- c(1576, 317, 310, 252, 233, 228, 181, 179, 153, 129)\n",
    "deaths <- c(94, 3, 20, 36, 27, 32, 28, 8, 4, 7)\n",
    "recovered <- c(298, NA, 125, NA, 150, 134, NA, NA, NA, NA)\n",
    "\n",
    "covid <- data.frame(country, comfirmed, deaths, recovered)\n",
    "covid"
   ]
  },
  {
   "cell_type": "markdown",
   "metadata": {},
   "source": [
    "#### Number of missing data"
   ]
  },
  {
   "cell_type": "code",
   "execution_count": 21,
   "metadata": {},
   "outputs": [
    {
     "data": {
      "text/html": [
       "<style>\n",
       ".dl-inline {width: auto; margin:0; padding: 0}\n",
       ".dl-inline>dt, .dl-inline>dd {float: none; width: auto; display: inline-block}\n",
       ".dl-inline>dt::after {content: \":\\0020\"; padding-right: .5ex}\n",
       ".dl-inline>dt:not(:first-of-type) {padding-left: .5ex}\n",
       "</style><dl class=dl-inline><dt>country</dt><dd>0</dd><dt>comfirmed</dt><dd>0</dd><dt>deaths</dt><dd>0</dd><dt>recovered</dt><dd>6</dd></dl>\n"
      ],
      "text/latex": [
       "\\begin{description*}\n",
       "\\item[country] 0\n",
       "\\item[comfirmed] 0\n",
       "\\item[deaths] 0\n",
       "\\item[recovered] 6\n",
       "\\end{description*}\n"
      ],
      "text/markdown": [
       "country\n",
       ":   0comfirmed\n",
       ":   0deaths\n",
       ":   0recovered\n",
       ":   6\n",
       "\n"
      ],
      "text/plain": [
       "  country comfirmed    deaths recovered \n",
       "        0         0         0         6 "
      ]
     },
     "metadata": {},
     "output_type": "display_data"
    }
   ],
   "source": [
    "covid %>% is.na %>% colSums"
   ]
  },
  {
   "cell_type": "code",
   "execution_count": 22,
   "metadata": {},
   "outputs": [
    {
     "data": {
      "text/html": [
       "<style>\n",
       ".dl-inline {width: auto; margin:0; padding: 0}\n",
       ".dl-inline>dt, .dl-inline>dd {float: none; width: auto; display: inline-block}\n",
       ".dl-inline>dt::after {content: \":\\0020\"; padding-right: .5ex}\n",
       ".dl-inline>dt:not(:first-of-type) {padding-left: .5ex}\n",
       "</style><dl class=dl-inline><dt>country</dt><dd>0</dd><dt>comfirmed</dt><dd>0</dd><dt>deaths</dt><dd>0</dd><dt>recovered</dt><dd>0.6</dd></dl>\n"
      ],
      "text/latex": [
       "\\begin{description*}\n",
       "\\item[country] 0\n",
       "\\item[comfirmed] 0\n",
       "\\item[deaths] 0\n",
       "\\item[recovered] 0.6\n",
       "\\end{description*}\n"
      ],
      "text/markdown": [
       "country\n",
       ":   0comfirmed\n",
       ":   0deaths\n",
       ":   0recovered\n",
       ":   0.6\n",
       "\n"
      ],
      "text/plain": [
       "  country comfirmed    deaths recovered \n",
       "      0.0       0.0       0.0       0.6 "
      ]
     },
     "metadata": {},
     "output_type": "display_data"
    }
   ],
   "source": [
    "x <- covid %>% is.na %>% colMeans\n",
    "x"
   ]
  },
  {
   "cell_type": "markdown",
   "metadata": {},
   "source": [
    "#### Removing missing values"
   ]
  },
  {
   "cell_type": "code",
   "execution_count": 23,
   "metadata": {},
   "outputs": [
    {
     "data": {
      "text/html": [
       "<table>\n",
       "<caption>A data.frame: 10 × 3</caption>\n",
       "<thead>\n",
       "\t<tr><th scope=col>country</th><th scope=col>comfirmed</th><th scope=col>deaths</th></tr>\n",
       "\t<tr><th scope=col>&lt;fct&gt;</th><th scope=col>&lt;dbl&gt;</th><th scope=col>&lt;dbl&gt;</th></tr>\n",
       "</thead>\n",
       "<tbody>\n",
       "\t<tr><td>US     </td><td>1576</td><td>94</td></tr>\n",
       "\t<tr><td>Russia </td><td> 317</td><td> 3</td></tr>\n",
       "\t<tr><td>Brazil </td><td> 310</td><td>20</td></tr>\n",
       "\t<tr><td>UK     </td><td> 252</td><td>36</td></tr>\n",
       "\t<tr><td>Spain  </td><td> 233</td><td>27</td></tr>\n",
       "\t<tr><td>Italy  </td><td> 228</td><td>32</td></tr>\n",
       "\t<tr><td>France </td><td> 181</td><td>28</td></tr>\n",
       "\t<tr><td>Germany</td><td> 179</td><td> 8</td></tr>\n",
       "\t<tr><td>Turkey </td><td> 153</td><td> 4</td></tr>\n",
       "\t<tr><td>Iran   </td><td> 129</td><td> 7</td></tr>\n",
       "</tbody>\n",
       "</table>\n"
      ],
      "text/latex": [
       "A data.frame: 10 × 3\n",
       "\\begin{tabular}{lll}\n",
       " country & comfirmed & deaths\\\\\n",
       " <fct> & <dbl> & <dbl>\\\\\n",
       "\\hline\n",
       "\t US      & 1576 & 94\\\\\n",
       "\t Russia  &  317 &  3\\\\\n",
       "\t Brazil  &  310 & 20\\\\\n",
       "\t UK      &  252 & 36\\\\\n",
       "\t Spain   &  233 & 27\\\\\n",
       "\t Italy   &  228 & 32\\\\\n",
       "\t France  &  181 & 28\\\\\n",
       "\t Germany &  179 &  8\\\\\n",
       "\t Turkey  &  153 &  4\\\\\n",
       "\t Iran    &  129 &  7\\\\\n",
       "\\end{tabular}\n"
      ],
      "text/markdown": [
       "\n",
       "A data.frame: 10 × 3\n",
       "\n",
       "| country &lt;fct&gt; | comfirmed &lt;dbl&gt; | deaths &lt;dbl&gt; |\n",
       "|---|---|---|\n",
       "| US      | 1576 | 94 |\n",
       "| Russia  |  317 |  3 |\n",
       "| Brazil  |  310 | 20 |\n",
       "| UK      |  252 | 36 |\n",
       "| Spain   |  233 | 27 |\n",
       "| Italy   |  228 | 32 |\n",
       "| France  |  181 | 28 |\n",
       "| Germany |  179 |  8 |\n",
       "| Turkey  |  153 |  4 |\n",
       "| Iran    |  129 |  7 |\n",
       "\n"
      ],
      "text/plain": [
       "   country comfirmed deaths\n",
       "1  US      1576      94    \n",
       "2  Russia   317       3    \n",
       "3  Brazil   310      20    \n",
       "4  UK       252      36    \n",
       "5  Spain    233      27    \n",
       "6  Italy    228      32    \n",
       "7  France   181      28    \n",
       "8  Germany  179       8    \n",
       "9  Turkey   153       4    \n",
       "10 Iran     129       7    "
      ]
     },
     "metadata": {},
     "output_type": "display_data"
    }
   ],
   "source": [
    "# drop columns having more than 50% of missing data\n",
    "covid %>% select(-'recovered')"
   ]
  },
  {
   "cell_type": "code",
   "execution_count": 24,
   "metadata": {},
   "outputs": [
    {
     "data": {
      "text/html": [
       "<table>\n",
       "<caption>A data.frame: 4 × 4</caption>\n",
       "<thead>\n",
       "\t<tr><th></th><th scope=col>country</th><th scope=col>comfirmed</th><th scope=col>deaths</th><th scope=col>recovered</th></tr>\n",
       "\t<tr><th></th><th scope=col>&lt;fct&gt;</th><th scope=col>&lt;dbl&gt;</th><th scope=col>&lt;dbl&gt;</th><th scope=col>&lt;dbl&gt;</th></tr>\n",
       "</thead>\n",
       "<tbody>\n",
       "\t<tr><th scope=row>1</th><td>US    </td><td>1576</td><td>94</td><td>298</td></tr>\n",
       "\t<tr><th scope=row>3</th><td>Brazil</td><td> 310</td><td>20</td><td>125</td></tr>\n",
       "\t<tr><th scope=row>5</th><td>Spain </td><td> 233</td><td>27</td><td>150</td></tr>\n",
       "\t<tr><th scope=row>6</th><td>Italy </td><td> 228</td><td>32</td><td>134</td></tr>\n",
       "</tbody>\n",
       "</table>\n"
      ],
      "text/latex": [
       "A data.frame: 4 × 4\n",
       "\\begin{tabular}{r|llll}\n",
       "  & country & comfirmed & deaths & recovered\\\\\n",
       "  & <fct> & <dbl> & <dbl> & <dbl>\\\\\n",
       "\\hline\n",
       "\t1 & US     & 1576 & 94 & 298\\\\\n",
       "\t3 & Brazil &  310 & 20 & 125\\\\\n",
       "\t5 & Spain  &  233 & 27 & 150\\\\\n",
       "\t6 & Italy  &  228 & 32 & 134\\\\\n",
       "\\end{tabular}\n"
      ],
      "text/markdown": [
       "\n",
       "A data.frame: 4 × 4\n",
       "\n",
       "| <!--/--> | country &lt;fct&gt; | comfirmed &lt;dbl&gt; | deaths &lt;dbl&gt; | recovered &lt;dbl&gt; |\n",
       "|---|---|---|---|---|\n",
       "| 1 | US     | 1576 | 94 | 298 |\n",
       "| 3 | Brazil |  310 | 20 | 125 |\n",
       "| 5 | Spain  |  233 | 27 | 150 |\n",
       "| 6 | Italy  |  228 | 32 | 134 |\n",
       "\n"
      ],
      "text/plain": [
       "  country comfirmed deaths recovered\n",
       "1 US      1576      94     298      \n",
       "3 Brazil   310      20     125      \n",
       "5 Spain    233      27     150      \n",
       "6 Italy    228      32     134      "
      ]
     },
     "metadata": {},
     "output_type": "display_data"
    }
   ],
   "source": [
    "# drop missing observation based on a specific column\n",
    "covid %>% na.omit(recovered)"
   ]
  },
  {
   "cell_type": "markdown",
   "metadata": {},
   "source": [
    "#### Filling missing data"
   ]
  },
  {
   "cell_type": "code",
   "execution_count": 25,
   "metadata": {},
   "outputs": [
    {
     "data": {
      "text/html": [
       "<table>\n",
       "<caption>A data.frame: 10 × 4</caption>\n",
       "<thead>\n",
       "\t<tr><th scope=col>country</th><th scope=col>comfirmed</th><th scope=col>deaths</th><th scope=col>recovered</th></tr>\n",
       "\t<tr><th scope=col>&lt;fct&gt;</th><th scope=col>&lt;dbl&gt;</th><th scope=col>&lt;dbl&gt;</th><th scope=col>&lt;dbl&gt;</th></tr>\n",
       "</thead>\n",
       "<tbody>\n",
       "\t<tr><td>US     </td><td>1576</td><td>94</td><td>298</td></tr>\n",
       "\t<tr><td>Russia </td><td> 317</td><td> 3</td><td>298</td></tr>\n",
       "\t<tr><td>Brazil </td><td> 310</td><td>20</td><td>125</td></tr>\n",
       "\t<tr><td>UK     </td><td> 252</td><td>36</td><td>125</td></tr>\n",
       "\t<tr><td>Spain  </td><td> 233</td><td>27</td><td>150</td></tr>\n",
       "\t<tr><td>Italy  </td><td> 228</td><td>32</td><td>134</td></tr>\n",
       "\t<tr><td>France </td><td> 181</td><td>28</td><td>134</td></tr>\n",
       "\t<tr><td>Germany</td><td> 179</td><td> 8</td><td>134</td></tr>\n",
       "\t<tr><td>Turkey </td><td> 153</td><td> 4</td><td>134</td></tr>\n",
       "\t<tr><td>Iran   </td><td> 129</td><td> 7</td><td>134</td></tr>\n",
       "</tbody>\n",
       "</table>\n"
      ],
      "text/latex": [
       "A data.frame: 10 × 4\n",
       "\\begin{tabular}{llll}\n",
       " country & comfirmed & deaths & recovered\\\\\n",
       " <fct> & <dbl> & <dbl> & <dbl>\\\\\n",
       "\\hline\n",
       "\t US      & 1576 & 94 & 298\\\\\n",
       "\t Russia  &  317 &  3 & 298\\\\\n",
       "\t Brazil  &  310 & 20 & 125\\\\\n",
       "\t UK      &  252 & 36 & 125\\\\\n",
       "\t Spain   &  233 & 27 & 150\\\\\n",
       "\t Italy   &  228 & 32 & 134\\\\\n",
       "\t France  &  181 & 28 & 134\\\\\n",
       "\t Germany &  179 &  8 & 134\\\\\n",
       "\t Turkey  &  153 &  4 & 134\\\\\n",
       "\t Iran    &  129 &  7 & 134\\\\\n",
       "\\end{tabular}\n"
      ],
      "text/markdown": [
       "\n",
       "A data.frame: 10 × 4\n",
       "\n",
       "| country &lt;fct&gt; | comfirmed &lt;dbl&gt; | deaths &lt;dbl&gt; | recovered &lt;dbl&gt; |\n",
       "|---|---|---|---|\n",
       "| US      | 1576 | 94 | 298 |\n",
       "| Russia  |  317 |  3 | 298 |\n",
       "| Brazil  |  310 | 20 | 125 |\n",
       "| UK      |  252 | 36 | 125 |\n",
       "| Spain   |  233 | 27 | 150 |\n",
       "| Italy   |  228 | 32 | 134 |\n",
       "| France  |  181 | 28 | 134 |\n",
       "| Germany |  179 |  8 | 134 |\n",
       "| Turkey  |  153 |  4 | 134 |\n",
       "| Iran    |  129 |  7 | 134 |\n",
       "\n"
      ],
      "text/plain": [
       "   country comfirmed deaths recovered\n",
       "1  US      1576      94     298      \n",
       "2  Russia   317       3     298      \n",
       "3  Brazil   310      20     125      \n",
       "4  UK       252      36     125      \n",
       "5  Spain    233      27     150      \n",
       "6  Italy    228      32     134      \n",
       "7  France   181      28     134      \n",
       "8  Germany  179       8     134      \n",
       "9  Turkey   153       4     134      \n",
       "10 Iran     129       7     134      "
      ]
     },
     "metadata": {},
     "output_type": "display_data"
    }
   ],
   "source": [
    "# forward fill\n",
    "covid %>% fill(recovered)"
   ]
  },
  {
   "cell_type": "code",
   "execution_count": 26,
   "metadata": {},
   "outputs": [
    {
     "data": {
      "text/html": [
       "<table>\n",
       "<caption>A data.frame: 10 × 4</caption>\n",
       "<thead>\n",
       "\t<tr><th scope=col>country</th><th scope=col>comfirmed</th><th scope=col>deaths</th><th scope=col>recovered</th></tr>\n",
       "\t<tr><th scope=col>&lt;fct&gt;</th><th scope=col>&lt;dbl&gt;</th><th scope=col>&lt;dbl&gt;</th><th scope=col>&lt;dbl&gt;</th></tr>\n",
       "</thead>\n",
       "<tbody>\n",
       "\t<tr><td>US     </td><td>1576</td><td>94</td><td>298</td></tr>\n",
       "\t<tr><td>Russia </td><td> 317</td><td> 3</td><td>125</td></tr>\n",
       "\t<tr><td>Brazil </td><td> 310</td><td>20</td><td>125</td></tr>\n",
       "\t<tr><td>UK     </td><td> 252</td><td>36</td><td>150</td></tr>\n",
       "\t<tr><td>Spain  </td><td> 233</td><td>27</td><td>150</td></tr>\n",
       "\t<tr><td>Italy  </td><td> 228</td><td>32</td><td>134</td></tr>\n",
       "\t<tr><td>France </td><td> 181</td><td>28</td><td> NA</td></tr>\n",
       "\t<tr><td>Germany</td><td> 179</td><td> 8</td><td> NA</td></tr>\n",
       "\t<tr><td>Turkey </td><td> 153</td><td> 4</td><td> NA</td></tr>\n",
       "\t<tr><td>Iran   </td><td> 129</td><td> 7</td><td> NA</td></tr>\n",
       "</tbody>\n",
       "</table>\n"
      ],
      "text/latex": [
       "A data.frame: 10 × 4\n",
       "\\begin{tabular}{llll}\n",
       " country & comfirmed & deaths & recovered\\\\\n",
       " <fct> & <dbl> & <dbl> & <dbl>\\\\\n",
       "\\hline\n",
       "\t US      & 1576 & 94 & 298\\\\\n",
       "\t Russia  &  317 &  3 & 125\\\\\n",
       "\t Brazil  &  310 & 20 & 125\\\\\n",
       "\t UK      &  252 & 36 & 150\\\\\n",
       "\t Spain   &  233 & 27 & 150\\\\\n",
       "\t Italy   &  228 & 32 & 134\\\\\n",
       "\t France  &  181 & 28 &  NA\\\\\n",
       "\t Germany &  179 &  8 &  NA\\\\\n",
       "\t Turkey  &  153 &  4 &  NA\\\\\n",
       "\t Iran    &  129 &  7 &  NA\\\\\n",
       "\\end{tabular}\n"
      ],
      "text/markdown": [
       "\n",
       "A data.frame: 10 × 4\n",
       "\n",
       "| country &lt;fct&gt; | comfirmed &lt;dbl&gt; | deaths &lt;dbl&gt; | recovered &lt;dbl&gt; |\n",
       "|---|---|---|---|\n",
       "| US      | 1576 | 94 | 298 |\n",
       "| Russia  |  317 |  3 | 125 |\n",
       "| Brazil  |  310 | 20 | 125 |\n",
       "| UK      |  252 | 36 | 150 |\n",
       "| Spain   |  233 | 27 | 150 |\n",
       "| Italy   |  228 | 32 | 134 |\n",
       "| France  |  181 | 28 |  NA |\n",
       "| Germany |  179 |  8 |  NA |\n",
       "| Turkey  |  153 |  4 |  NA |\n",
       "| Iran    |  129 |  7 |  NA |\n",
       "\n"
      ],
      "text/plain": [
       "   country comfirmed deaths recovered\n",
       "1  US      1576      94     298      \n",
       "2  Russia   317       3     125      \n",
       "3  Brazil   310      20     125      \n",
       "4  UK       252      36     150      \n",
       "5  Spain    233      27     150      \n",
       "6  Italy    228      32     134      \n",
       "7  France   181      28      NA      \n",
       "8  Germany  179       8      NA      \n",
       "9  Turkey   153       4      NA      \n",
       "10 Iran     129       7      NA      "
      ]
     },
     "metadata": {},
     "output_type": "display_data"
    }
   ],
   "source": [
    "# back fill\n",
    "covid %>% fill(recovered, .direction='up')"
   ]
  },
  {
   "cell_type": "code",
   "execution_count": 27,
   "metadata": {},
   "outputs": [
    {
     "data": {
      "text/html": [
       "<table>\n",
       "<caption>A data.frame: 10 × 4</caption>\n",
       "<thead>\n",
       "\t<tr><th scope=col>country</th><th scope=col>comfirmed</th><th scope=col>deaths</th><th scope=col>recovered</th></tr>\n",
       "\t<tr><th scope=col>&lt;fct&gt;</th><th scope=col>&lt;dbl&gt;</th><th scope=col>&lt;dbl&gt;</th><th scope=col>&lt;dbl&gt;</th></tr>\n",
       "</thead>\n",
       "<tbody>\n",
       "\t<tr><td>US     </td><td>1576</td><td>94</td><td>298</td></tr>\n",
       "\t<tr><td>Russia </td><td> 317</td><td> 3</td><td>  0</td></tr>\n",
       "\t<tr><td>Brazil </td><td> 310</td><td>20</td><td>125</td></tr>\n",
       "\t<tr><td>UK     </td><td> 252</td><td>36</td><td>  0</td></tr>\n",
       "\t<tr><td>Spain  </td><td> 233</td><td>27</td><td>150</td></tr>\n",
       "\t<tr><td>Italy  </td><td> 228</td><td>32</td><td>134</td></tr>\n",
       "\t<tr><td>France </td><td> 181</td><td>28</td><td>  0</td></tr>\n",
       "\t<tr><td>Germany</td><td> 179</td><td> 8</td><td>  0</td></tr>\n",
       "\t<tr><td>Turkey </td><td> 153</td><td> 4</td><td>  0</td></tr>\n",
       "\t<tr><td>Iran   </td><td> 129</td><td> 7</td><td>  0</td></tr>\n",
       "</tbody>\n",
       "</table>\n"
      ],
      "text/latex": [
       "A data.frame: 10 × 4\n",
       "\\begin{tabular}{llll}\n",
       " country & comfirmed & deaths & recovered\\\\\n",
       " <fct> & <dbl> & <dbl> & <dbl>\\\\\n",
       "\\hline\n",
       "\t US      & 1576 & 94 & 298\\\\\n",
       "\t Russia  &  317 &  3 &   0\\\\\n",
       "\t Brazil  &  310 & 20 & 125\\\\\n",
       "\t UK      &  252 & 36 &   0\\\\\n",
       "\t Spain   &  233 & 27 & 150\\\\\n",
       "\t Italy   &  228 & 32 & 134\\\\\n",
       "\t France  &  181 & 28 &   0\\\\\n",
       "\t Germany &  179 &  8 &   0\\\\\n",
       "\t Turkey  &  153 &  4 &   0\\\\\n",
       "\t Iran    &  129 &  7 &   0\\\\\n",
       "\\end{tabular}\n"
      ],
      "text/markdown": [
       "\n",
       "A data.frame: 10 × 4\n",
       "\n",
       "| country &lt;fct&gt; | comfirmed &lt;dbl&gt; | deaths &lt;dbl&gt; | recovered &lt;dbl&gt; |\n",
       "|---|---|---|---|\n",
       "| US      | 1576 | 94 | 298 |\n",
       "| Russia  |  317 |  3 |   0 |\n",
       "| Brazil  |  310 | 20 | 125 |\n",
       "| UK      |  252 | 36 |   0 |\n",
       "| Spain   |  233 | 27 | 150 |\n",
       "| Italy   |  228 | 32 | 134 |\n",
       "| France  |  181 | 28 |   0 |\n",
       "| Germany |  179 |  8 |   0 |\n",
       "| Turkey  |  153 |  4 |   0 |\n",
       "| Iran    |  129 |  7 |   0 |\n",
       "\n"
      ],
      "text/plain": [
       "   country comfirmed deaths recovered\n",
       "1  US      1576      94     298      \n",
       "2  Russia   317       3       0      \n",
       "3  Brazil   310      20     125      \n",
       "4  UK       252      36       0      \n",
       "5  Spain    233      27     150      \n",
       "6  Italy    228      32     134      \n",
       "7  France   181      28       0      \n",
       "8  Germany  179       8       0      \n",
       "9  Turkey   153       4       0      \n",
       "10 Iran     129       7       0      "
      ]
     },
     "metadata": {},
     "output_type": "display_data"
    }
   ],
   "source": [
    "# fill with specific values\n",
    "covid %>% replace_na(list(recovered=0))"
   ]
  },
  {
   "cell_type": "markdown",
   "metadata": {},
   "source": [
    "### 2.2. Duplicated values"
   ]
  },
  {
   "cell_type": "code",
   "execution_count": 28,
   "metadata": {},
   "outputs": [],
   "source": [
    "library(dplyr)"
   ]
  },
  {
   "cell_type": "code",
   "execution_count": 29,
   "metadata": {},
   "outputs": [
    {
     "data": {
      "text/html": [
       "<table>\n",
       "<caption>A data.frame: 6 × 7</caption>\n",
       "<thead>\n",
       "\t<tr><th></th><th scope=col>year</th><th scope=col>month</th><th scope=col>product</th><th scope=col>country</th><th scope=col>value</th><th scope=col>feature</th><th scope=col>unit</th></tr>\n",
       "\t<tr><th></th><th scope=col>&lt;int&gt;</th><th scope=col>&lt;int&gt;</th><th scope=col>&lt;fct&gt;</th><th scope=col>&lt;fct&gt;</th><th scope=col>&lt;int&gt;</th><th scope=col>&lt;fct&gt;</th><th scope=col>&lt;fct&gt;</th></tr>\n",
       "</thead>\n",
       "<tbody>\n",
       "\t<tr><th scope=row>1</th><td>2010</td><td>1</td><td>SABLEFISH FRESH</td><td>UNITED ARAB EMIRATES</td><td> 2297</td><td>EXP Quantity</td><td>kg</td></tr>\n",
       "\t<tr><th scope=row>2</th><td>2010</td><td>1</td><td>SABLEFISH FRESH</td><td>JAPAN               </td><td>16025</td><td>EXP Quantity</td><td>kg</td></tr>\n",
       "\t<tr><th scope=row>3</th><td>2010</td><td>1</td><td>SABLEFISH FRESH</td><td>JAPAN               </td><td>63437</td><td>EXP Quantity</td><td>kg</td></tr>\n",
       "\t<tr><th scope=row>4</th><td>2010</td><td>1</td><td>MONKFISH FRESH </td><td>CANADA              </td><td>  579</td><td>EXP Quantity</td><td>kg</td></tr>\n",
       "\t<tr><th scope=row>5</th><td>2010</td><td>1</td><td>MONKFISH FRESH </td><td>CANADA              </td><td> 7975</td><td>EXP Quantity</td><td>kg</td></tr>\n",
       "\t<tr><th scope=row>6</th><td>2010</td><td>1</td><td>MONKFISH FRESH </td><td>NETHERLANDS         </td><td>  389</td><td>EXP Quantity</td><td>kg</td></tr>\n",
       "</tbody>\n",
       "</table>\n"
      ],
      "text/latex": [
       "A data.frame: 6 × 7\n",
       "\\begin{tabular}{r|lllllll}\n",
       "  & year & month & product & country & value & feature & unit\\\\\n",
       "  & <int> & <int> & <fct> & <fct> & <int> & <fct> & <fct>\\\\\n",
       "\\hline\n",
       "\t1 & 2010 & 1 & SABLEFISH FRESH & UNITED ARAB EMIRATES &  2297 & EXP Quantity & kg\\\\\n",
       "\t2 & 2010 & 1 & SABLEFISH FRESH & JAPAN                & 16025 & EXP Quantity & kg\\\\\n",
       "\t3 & 2010 & 1 & SABLEFISH FRESH & JAPAN                & 63437 & EXP Quantity & kg\\\\\n",
       "\t4 & 2010 & 1 & MONKFISH FRESH  & CANADA               &   579 & EXP Quantity & kg\\\\\n",
       "\t5 & 2010 & 1 & MONKFISH FRESH  & CANADA               &  7975 & EXP Quantity & kg\\\\\n",
       "\t6 & 2010 & 1 & MONKFISH FRESH  & NETHERLANDS          &   389 & EXP Quantity & kg\\\\\n",
       "\\end{tabular}\n"
      ],
      "text/markdown": [
       "\n",
       "A data.frame: 6 × 7\n",
       "\n",
       "| <!--/--> | year &lt;int&gt; | month &lt;int&gt; | product &lt;fct&gt; | country &lt;fct&gt; | value &lt;int&gt; | feature &lt;fct&gt; | unit &lt;fct&gt; |\n",
       "|---|---|---|---|---|---|---|---|\n",
       "| 1 | 2010 | 1 | SABLEFISH FRESH | UNITED ARAB EMIRATES |  2297 | EXP Quantity | kg |\n",
       "| 2 | 2010 | 1 | SABLEFISH FRESH | JAPAN                | 16025 | EXP Quantity | kg |\n",
       "| 3 | 2010 | 1 | SABLEFISH FRESH | JAPAN                | 63437 | EXP Quantity | kg |\n",
       "| 4 | 2010 | 1 | MONKFISH FRESH  | CANADA               |   579 | EXP Quantity | kg |\n",
       "| 5 | 2010 | 1 | MONKFISH FRESH  | CANADA               |  7975 | EXP Quantity | kg |\n",
       "| 6 | 2010 | 1 | MONKFISH FRESH  | NETHERLANDS          |   389 | EXP Quantity | kg |\n",
       "\n"
      ],
      "text/plain": [
       "  year month product         country              value feature      unit\n",
       "1 2010 1     SABLEFISH FRESH UNITED ARAB EMIRATES  2297 EXP Quantity kg  \n",
       "2 2010 1     SABLEFISH FRESH JAPAN                16025 EXP Quantity kg  \n",
       "3 2010 1     SABLEFISH FRESH JAPAN                63437 EXP Quantity kg  \n",
       "4 2010 1     MONKFISH FRESH  CANADA                 579 EXP Quantity kg  \n",
       "5 2010 1     MONKFISH FRESH  CANADA                7975 EXP Quantity kg  \n",
       "6 2010 1     MONKFISH FRESH  NETHERLANDS            389 EXP Quantity kg  "
      ]
     },
     "metadata": {},
     "output_type": "display_data"
    }
   ],
   "source": [
    "fish <- read.csv('data/us_fishery_foreign_trade.csv')\n",
    "fish %>% head"
   ]
  },
  {
   "cell_type": "markdown",
   "metadata": {},
   "source": [
    "The `duplicated()` function determines the dulicated values; it keeps only one first or last observation and removes the others. The `fromLast` parameter indicates which values should be kept: `fromLast=FALSE` (default) means keeping the first values."
   ]
  },
  {
   "cell_type": "code",
   "execution_count": 30,
   "metadata": {},
   "outputs": [
    {
     "data": {
      "text/html": [
       "<table>\n",
       "<caption>A data.frame: 6 × 7</caption>\n",
       "<thead>\n",
       "\t<tr><th></th><th scope=col>year</th><th scope=col>month</th><th scope=col>product</th><th scope=col>country</th><th scope=col>value</th><th scope=col>feature</th><th scope=col>unit</th></tr>\n",
       "\t<tr><th></th><th scope=col>&lt;int&gt;</th><th scope=col>&lt;int&gt;</th><th scope=col>&lt;fct&gt;</th><th scope=col>&lt;fct&gt;</th><th scope=col>&lt;int&gt;</th><th scope=col>&lt;fct&gt;</th><th scope=col>&lt;fct&gt;</th></tr>\n",
       "</thead>\n",
       "<tbody>\n",
       "\t<tr><th scope=row>2</th><td>2010</td><td>1</td><td>MONKFISH FRESH</td><td>CANADA     </td><td>7975</td><td>EXP Quantity</td><td>kg</td></tr>\n",
       "\t<tr><th scope=row>5</th><td>2010</td><td>1</td><td>MONKFISH FRESH</td><td>FRANCE     </td><td>4170</td><td>EXP Quantity</td><td>kg</td></tr>\n",
       "\t<tr><th scope=row>8</th><td>2010</td><td>1</td><td>MONKFISH FRESH</td><td>ITALY      </td><td>6026</td><td>EXP Quantity</td><td>kg</td></tr>\n",
       "\t<tr><th scope=row>9</th><td>2010</td><td>1</td><td>MONKFISH FRESH</td><td>JAPAN      </td><td>1125</td><td>EXP Quantity</td><td>kg</td></tr>\n",
       "\t<tr><th scope=row>10</th><td>2010</td><td>1</td><td>MONKFISH FRESH</td><td>NETHERLANDS</td><td> 389</td><td>EXP Quantity</td><td>kg</td></tr>\n",
       "\t<tr><th scope=row>11</th><td>2010</td><td>1</td><td>MONKFISH FRESH</td><td>PORTUGAL   </td><td>1295</td><td>EXP Quantity</td><td>kg</td></tr>\n",
       "</tbody>\n",
       "</table>\n"
      ],
      "text/latex": [
       "A data.frame: 6 × 7\n",
       "\\begin{tabular}{r|lllllll}\n",
       "  & year & month & product & country & value & feature & unit\\\\\n",
       "  & <int> & <int> & <fct> & <fct> & <int> & <fct> & <fct>\\\\\n",
       "\\hline\n",
       "\t2 & 2010 & 1 & MONKFISH FRESH & CANADA      & 7975 & EXP Quantity & kg\\\\\n",
       "\t5 & 2010 & 1 & MONKFISH FRESH & FRANCE      & 4170 & EXP Quantity & kg\\\\\n",
       "\t8 & 2010 & 1 & MONKFISH FRESH & ITALY       & 6026 & EXP Quantity & kg\\\\\n",
       "\t9 & 2010 & 1 & MONKFISH FRESH & JAPAN       & 1125 & EXP Quantity & kg\\\\\n",
       "\t10 & 2010 & 1 & MONKFISH FRESH & NETHERLANDS &  389 & EXP Quantity & kg\\\\\n",
       "\t11 & 2010 & 1 & MONKFISH FRESH & PORTUGAL    & 1295 & EXP Quantity & kg\\\\\n",
       "\\end{tabular}\n"
      ],
      "text/markdown": [
       "\n",
       "A data.frame: 6 × 7\n",
       "\n",
       "| <!--/--> | year &lt;int&gt; | month &lt;int&gt; | product &lt;fct&gt; | country &lt;fct&gt; | value &lt;int&gt; | feature &lt;fct&gt; | unit &lt;fct&gt; |\n",
       "|---|---|---|---|---|---|---|---|\n",
       "| 2 | 2010 | 1 | MONKFISH FRESH | CANADA      | 7975 | EXP Quantity | kg |\n",
       "| 5 | 2010 | 1 | MONKFISH FRESH | FRANCE      | 4170 | EXP Quantity | kg |\n",
       "| 8 | 2010 | 1 | MONKFISH FRESH | ITALY       | 6026 | EXP Quantity | kg |\n",
       "| 9 | 2010 | 1 | MONKFISH FRESH | JAPAN       | 1125 | EXP Quantity | kg |\n",
       "| 10 | 2010 | 1 | MONKFISH FRESH | NETHERLANDS |  389 | EXP Quantity | kg |\n",
       "| 11 | 2010 | 1 | MONKFISH FRESH | PORTUGAL    | 1295 | EXP Quantity | kg |\n",
       "\n"
      ],
      "text/plain": [
       "   year month product        country     value feature      unit\n",
       "2  2010 1     MONKFISH FRESH CANADA      7975  EXP Quantity kg  \n",
       "5  2010 1     MONKFISH FRESH FRANCE      4170  EXP Quantity kg  \n",
       "8  2010 1     MONKFISH FRESH ITALY       6026  EXP Quantity kg  \n",
       "9  2010 1     MONKFISH FRESH JAPAN       1125  EXP Quantity kg  \n",
       "10 2010 1     MONKFISH FRESH NETHERLANDS  389  EXP Quantity kg  \n",
       "11 2010 1     MONKFISH FRESH PORTUGAL    1295  EXP Quantity kg  "
      ]
     },
     "metadata": {},
     "output_type": "display_data"
    }
   ],
   "source": [
    "# keep the highest value of each group\n",
    "fish = fish %>% arrange(year, month, feature, product, country, value)\n",
    "fish = fish[!(fish %>% select(year, month, feature, product, country) %>% duplicated(fromLast=TRUE)),]\n",
    "\n",
    "fish %>% head"
   ]
  },
  {
   "cell_type": "markdown",
   "metadata": {},
   "source": [
    "### 2.3. Outliers"
   ]
  },
  {
   "cell_type": "code",
   "execution_count": 31,
   "metadata": {},
   "outputs": [
    {
     "name": "stderr",
     "output_type": "stream",
     "text": [
      "Warning message:\n",
      "\"package 'readxl' was built under R version 3.6.3\"\n"
     ]
    }
   ],
   "source": [
    "library(dplyr)\n",
    "library(readxl)"
   ]
  },
  {
   "cell_type": "markdown",
   "metadata": {},
   "source": [
    "#### Using z-score"
   ]
  },
  {
   "cell_type": "code",
   "execution_count": 32,
   "metadata": {},
   "outputs": [],
   "source": [
    "outliers_zscore <- function(array, z){\n",
    "    array = as.vector(array)\n",
    "    mean = array %>% mean\n",
    "    std = array %>% sd\n",
    "    lower = mean - z*std\n",
    "    upper = mean + z*std\n",
    "    array[(array < lower) | (array > upper)] = NA\n",
    "    return(array)\n",
    "    \n",
    "}"
   ]
  },
  {
   "cell_type": "code",
   "execution_count": 33,
   "metadata": {},
   "outputs": [
    {
     "data": {
      "text/html": [
       "<table>\n",
       "<caption>A tibble: 6 × 12</caption>\n",
       "<thead>\n",
       "\t<tr><th scope=col>fixed_acidity</th><th scope=col>volatile_acidity</th><th scope=col>citric_acid</th><th scope=col>residual_sugar</th><th scope=col>chlorides</th><th scope=col>free_sulfur_dioxide</th><th scope=col>total_sulfur_dioxide</th><th scope=col>density</th><th scope=col>ph</th><th scope=col>sulphates</th><th scope=col>alcohol</th><th scope=col>quality</th></tr>\n",
       "\t<tr><th scope=col>&lt;dbl&gt;</th><th scope=col>&lt;dbl&gt;</th><th scope=col>&lt;dbl&gt;</th><th scope=col>&lt;dbl&gt;</th><th scope=col>&lt;dbl&gt;</th><th scope=col>&lt;dbl&gt;</th><th scope=col>&lt;dbl&gt;</th><th scope=col>&lt;dbl&gt;</th><th scope=col>&lt;dbl&gt;</th><th scope=col>&lt;dbl&gt;</th><th scope=col>&lt;dbl&gt;</th><th scope=col>&lt;dbl&gt;</th></tr>\n",
       "</thead>\n",
       "<tbody>\n",
       "\t<tr><td>7.0</td><td>0.27</td><td>0.36</td><td>20.7</td><td>0.045</td><td>45</td><td>170</td><td>1.0010</td><td>3.00</td><td>0.45</td><td> 8.8</td><td>6</td></tr>\n",
       "\t<tr><td>6.3</td><td>0.30</td><td>0.34</td><td> 1.6</td><td>0.049</td><td>14</td><td>132</td><td>0.9940</td><td>3.30</td><td>0.49</td><td> 9.5</td><td>6</td></tr>\n",
       "\t<tr><td>8.1</td><td>0.28</td><td>0.40</td><td> 6.9</td><td>0.050</td><td>30</td><td> 97</td><td>0.9951</td><td>3.26</td><td>0.44</td><td>10.1</td><td>6</td></tr>\n",
       "\t<tr><td>7.2</td><td>0.23</td><td>0.32</td><td> 8.5</td><td>0.058</td><td>47</td><td>186</td><td>0.9956</td><td>3.19</td><td>0.40</td><td> 9.9</td><td>6</td></tr>\n",
       "\t<tr><td>7.2</td><td>0.23</td><td>0.32</td><td> 8.5</td><td>0.058</td><td>47</td><td>186</td><td>0.9956</td><td>3.19</td><td>0.40</td><td> 9.9</td><td>6</td></tr>\n",
       "\t<tr><td>8.1</td><td>0.28</td><td>0.40</td><td> 6.9</td><td>0.050</td><td>30</td><td> 97</td><td>0.9951</td><td>3.26</td><td>0.44</td><td>10.1</td><td>6</td></tr>\n",
       "</tbody>\n",
       "</table>\n"
      ],
      "text/latex": [
       "A tibble: 6 × 12\n",
       "\\begin{tabular}{llllllllllll}\n",
       " fixed\\_acidity & volatile\\_acidity & citric\\_acid & residual\\_sugar & chlorides & free\\_sulfur\\_dioxide & total\\_sulfur\\_dioxide & density & ph & sulphates & alcohol & quality\\\\\n",
       " <dbl> & <dbl> & <dbl> & <dbl> & <dbl> & <dbl> & <dbl> & <dbl> & <dbl> & <dbl> & <dbl> & <dbl>\\\\\n",
       "\\hline\n",
       "\t 7.0 & 0.27 & 0.36 & 20.7 & 0.045 & 45 & 170 & 1.0010 & 3.00 & 0.45 &  8.8 & 6\\\\\n",
       "\t 6.3 & 0.30 & 0.34 &  1.6 & 0.049 & 14 & 132 & 0.9940 & 3.30 & 0.49 &  9.5 & 6\\\\\n",
       "\t 8.1 & 0.28 & 0.40 &  6.9 & 0.050 & 30 &  97 & 0.9951 & 3.26 & 0.44 & 10.1 & 6\\\\\n",
       "\t 7.2 & 0.23 & 0.32 &  8.5 & 0.058 & 47 & 186 & 0.9956 & 3.19 & 0.40 &  9.9 & 6\\\\\n",
       "\t 7.2 & 0.23 & 0.32 &  8.5 & 0.058 & 47 & 186 & 0.9956 & 3.19 & 0.40 &  9.9 & 6\\\\\n",
       "\t 8.1 & 0.28 & 0.40 &  6.9 & 0.050 & 30 &  97 & 0.9951 & 3.26 & 0.44 & 10.1 & 6\\\\\n",
       "\\end{tabular}\n"
      ],
      "text/markdown": [
       "\n",
       "A tibble: 6 × 12\n",
       "\n",
       "| fixed_acidity &lt;dbl&gt; | volatile_acidity &lt;dbl&gt; | citric_acid &lt;dbl&gt; | residual_sugar &lt;dbl&gt; | chlorides &lt;dbl&gt; | free_sulfur_dioxide &lt;dbl&gt; | total_sulfur_dioxide &lt;dbl&gt; | density &lt;dbl&gt; | ph &lt;dbl&gt; | sulphates &lt;dbl&gt; | alcohol &lt;dbl&gt; | quality &lt;dbl&gt; |\n",
       "|---|---|---|---|---|---|---|---|---|---|---|---|\n",
       "| 7.0 | 0.27 | 0.36 | 20.7 | 0.045 | 45 | 170 | 1.0010 | 3.00 | 0.45 |  8.8 | 6 |\n",
       "| 6.3 | 0.30 | 0.34 |  1.6 | 0.049 | 14 | 132 | 0.9940 | 3.30 | 0.49 |  9.5 | 6 |\n",
       "| 8.1 | 0.28 | 0.40 |  6.9 | 0.050 | 30 |  97 | 0.9951 | 3.26 | 0.44 | 10.1 | 6 |\n",
       "| 7.2 | 0.23 | 0.32 |  8.5 | 0.058 | 47 | 186 | 0.9956 | 3.19 | 0.40 |  9.9 | 6 |\n",
       "| 7.2 | 0.23 | 0.32 |  8.5 | 0.058 | 47 | 186 | 0.9956 | 3.19 | 0.40 |  9.9 | 6 |\n",
       "| 8.1 | 0.28 | 0.40 |  6.9 | 0.050 | 30 |  97 | 0.9951 | 3.26 | 0.44 | 10.1 | 6 |\n",
       "\n"
      ],
      "text/plain": [
       "  fixed_acidity volatile_acidity citric_acid residual_sugar chlorides\n",
       "1 7.0           0.27             0.36        20.7           0.045    \n",
       "2 6.3           0.30             0.34         1.6           0.049    \n",
       "3 8.1           0.28             0.40         6.9           0.050    \n",
       "4 7.2           0.23             0.32         8.5           0.058    \n",
       "5 7.2           0.23             0.32         8.5           0.058    \n",
       "6 8.1           0.28             0.40         6.9           0.050    \n",
       "  free_sulfur_dioxide total_sulfur_dioxide density ph   sulphates alcohol\n",
       "1 45                  170                  1.0010  3.00 0.45       8.8   \n",
       "2 14                  132                  0.9940  3.30 0.49       9.5   \n",
       "3 30                   97                  0.9951  3.26 0.44      10.1   \n",
       "4 47                  186                  0.9956  3.19 0.40       9.9   \n",
       "5 47                  186                  0.9956  3.19 0.40       9.9   \n",
       "6 30                   97                  0.9951  3.26 0.44      10.1   \n",
       "  quality\n",
       "1 6      \n",
       "2 6      \n",
       "3 6      \n",
       "4 6      \n",
       "5 6      \n",
       "6 6      "
      ]
     },
     "metadata": {},
     "output_type": "display_data"
    }
   ],
   "source": [
    "wine = readxl::read_excel('data/wine_quality.xlsx')\n",
    "wine %>% head"
   ]
  },
  {
   "cell_type": "code",
   "execution_count": 34,
   "metadata": {},
   "outputs": [],
   "source": [
    "for (i in names(wine)){\n",
    "    wine[i] = outliers_zscore(flatten_dbl(wine[i]), z=3)\n",
    "}"
   ]
  },
  {
   "cell_type": "code",
   "execution_count": 35,
   "metadata": {},
   "outputs": [
    {
     "data": {
      "text/html": [
       "<table>\n",
       "<caption>A data.frame: 12 × 2</caption>\n",
       "<thead>\n",
       "\t<tr><th></th><th scope=col>removed_count</th><th scope=col>removed_rate</th></tr>\n",
       "\t<tr><th></th><th scope=col>&lt;dbl&gt;</th><th scope=col>&lt;dbl&gt;</th></tr>\n",
       "</thead>\n",
       "<tbody>\n",
       "\t<tr><th scope=row>fixed_acidity</th><td> 46</td><td>0.93915884</td></tr>\n",
       "\t<tr><th scope=row>volatile_acidity</th><td> 81</td><td>1.65373622</td></tr>\n",
       "\t<tr><th scope=row>citric_acid</th><td> 85</td><td>1.73540220</td></tr>\n",
       "\t<tr><th scope=row>residual_sugar</th><td>  9</td><td>0.18374847</td></tr>\n",
       "\t<tr><th scope=row>chlorides</th><td>102</td><td>2.08248265</td></tr>\n",
       "\t<tr><th scope=row>free_sulfur_dioxide</th><td> 32</td><td>0.65332789</td></tr>\n",
       "\t<tr><th scope=row>total_sulfur_dioxide</th><td> 12</td><td>0.24499796</td></tr>\n",
       "\t<tr><th scope=row>density</th><td>  3</td><td>0.06124949</td></tr>\n",
       "\t<tr><th scope=row>ph</th><td> 32</td><td>0.65332789</td></tr>\n",
       "\t<tr><th scope=row>sulphates</th><td> 48</td><td>0.97999183</td></tr>\n",
       "\t<tr><th scope=row>alcohol</th><td>  0</td><td>0.00000000</td></tr>\n",
       "\t<tr><th scope=row>quality</th><td> 25</td><td>0.51041241</td></tr>\n",
       "</tbody>\n",
       "</table>\n"
      ],
      "text/latex": [
       "A data.frame: 12 × 2\n",
       "\\begin{tabular}{r|ll}\n",
       "  & removed\\_count & removed\\_rate\\\\\n",
       "  & <dbl> & <dbl>\\\\\n",
       "\\hline\n",
       "\tfixed\\_acidity &  46 & 0.93915884\\\\\n",
       "\tvolatile\\_acidity &  81 & 1.65373622\\\\\n",
       "\tcitric\\_acid &  85 & 1.73540220\\\\\n",
       "\tresidual\\_sugar &   9 & 0.18374847\\\\\n",
       "\tchlorides & 102 & 2.08248265\\\\\n",
       "\tfree\\_sulfur\\_dioxide &  32 & 0.65332789\\\\\n",
       "\ttotal\\_sulfur\\_dioxide &  12 & 0.24499796\\\\\n",
       "\tdensity &   3 & 0.06124949\\\\\n",
       "\tph &  32 & 0.65332789\\\\\n",
       "\tsulphates &  48 & 0.97999183\\\\\n",
       "\talcohol &   0 & 0.00000000\\\\\n",
       "\tquality &  25 & 0.51041241\\\\\n",
       "\\end{tabular}\n"
      ],
      "text/markdown": [
       "\n",
       "A data.frame: 12 × 2\n",
       "\n",
       "| <!--/--> | removed_count &lt;dbl&gt; | removed_rate &lt;dbl&gt; |\n",
       "|---|---|---|\n",
       "| fixed_acidity |  46 | 0.93915884 |\n",
       "| volatile_acidity |  81 | 1.65373622 |\n",
       "| citric_acid |  85 | 1.73540220 |\n",
       "| residual_sugar |   9 | 0.18374847 |\n",
       "| chlorides | 102 | 2.08248265 |\n",
       "| free_sulfur_dioxide |  32 | 0.65332789 |\n",
       "| total_sulfur_dioxide |  12 | 0.24499796 |\n",
       "| density |   3 | 0.06124949 |\n",
       "| ph |  32 | 0.65332789 |\n",
       "| sulphates |  48 | 0.97999183 |\n",
       "| alcohol |   0 | 0.00000000 |\n",
       "| quality |  25 | 0.51041241 |\n",
       "\n"
      ],
      "text/plain": [
       "                     removed_count removed_rate\n",
       "fixed_acidity         46           0.93915884  \n",
       "volatile_acidity      81           1.65373622  \n",
       "citric_acid           85           1.73540220  \n",
       "residual_sugar         9           0.18374847  \n",
       "chlorides            102           2.08248265  \n",
       "free_sulfur_dioxide   32           0.65332789  \n",
       "total_sulfur_dioxide  12           0.24499796  \n",
       "density                3           0.06124949  \n",
       "ph                    32           0.65332789  \n",
       "sulphates             48           0.97999183  \n",
       "alcohol                0           0.00000000  \n",
       "quality               25           0.51041241  "
      ]
     },
     "metadata": {},
     "output_type": "display_data"
    }
   ],
   "source": [
    "removed_count = wine %>% is.na %>% colSums\n",
    "removed_rate = wine %>% is.na %>% colMeans *100\n",
    "\n",
    "data.frame(removed_count, removed_rate)"
   ]
  },
  {
   "cell_type": "markdown",
   "metadata": {},
   "source": [
    "#### Using interquartile range"
   ]
  },
  {
   "cell_type": "code",
   "execution_count": 36,
   "metadata": {},
   "outputs": [],
   "source": [
    "outliers_iqr <- function(array){\n",
    "    array = as.vector(array)\n",
    "    Q1 =  quantile(array, 0.25)\n",
    "    Q3 =  quantile(array, 0.75)\n",
    "    IQR = Q3 - Q1\n",
    "    lower = Q1 - 1.5*IQR\n",
    "    upper = Q3 + 1.5*IQR\n",
    "    array[(array < lower) | (array > upper)] = NA\n",
    "    return(array)\n",
    "}"
   ]
  },
  {
   "cell_type": "code",
   "execution_count": 37,
   "metadata": {},
   "outputs": [
    {
     "data": {
      "text/html": [
       "<table>\n",
       "<caption>A tibble: 6 × 12</caption>\n",
       "<thead>\n",
       "\t<tr><th scope=col>fixed_acidity</th><th scope=col>volatile_acidity</th><th scope=col>citric_acid</th><th scope=col>residual_sugar</th><th scope=col>chlorides</th><th scope=col>free_sulfur_dioxide</th><th scope=col>total_sulfur_dioxide</th><th scope=col>density</th><th scope=col>ph</th><th scope=col>sulphates</th><th scope=col>alcohol</th><th scope=col>quality</th></tr>\n",
       "\t<tr><th scope=col>&lt;dbl&gt;</th><th scope=col>&lt;dbl&gt;</th><th scope=col>&lt;dbl&gt;</th><th scope=col>&lt;dbl&gt;</th><th scope=col>&lt;dbl&gt;</th><th scope=col>&lt;dbl&gt;</th><th scope=col>&lt;dbl&gt;</th><th scope=col>&lt;dbl&gt;</th><th scope=col>&lt;dbl&gt;</th><th scope=col>&lt;dbl&gt;</th><th scope=col>&lt;dbl&gt;</th><th scope=col>&lt;dbl&gt;</th></tr>\n",
       "</thead>\n",
       "<tbody>\n",
       "\t<tr><td>7.0</td><td>0.27</td><td>0.36</td><td>20.7</td><td>0.045</td><td>45</td><td>170</td><td>1.0010</td><td>3.00</td><td>0.45</td><td> 8.8</td><td>6</td></tr>\n",
       "\t<tr><td>6.3</td><td>0.30</td><td>0.34</td><td> 1.6</td><td>0.049</td><td>14</td><td>132</td><td>0.9940</td><td>3.30</td><td>0.49</td><td> 9.5</td><td>6</td></tr>\n",
       "\t<tr><td>8.1</td><td>0.28</td><td>0.40</td><td> 6.9</td><td>0.050</td><td>30</td><td> 97</td><td>0.9951</td><td>3.26</td><td>0.44</td><td>10.1</td><td>6</td></tr>\n",
       "\t<tr><td>7.2</td><td>0.23</td><td>0.32</td><td> 8.5</td><td>0.058</td><td>47</td><td>186</td><td>0.9956</td><td>3.19</td><td>0.40</td><td> 9.9</td><td>6</td></tr>\n",
       "\t<tr><td>7.2</td><td>0.23</td><td>0.32</td><td> 8.5</td><td>0.058</td><td>47</td><td>186</td><td>0.9956</td><td>3.19</td><td>0.40</td><td> 9.9</td><td>6</td></tr>\n",
       "\t<tr><td>8.1</td><td>0.28</td><td>0.40</td><td> 6.9</td><td>0.050</td><td>30</td><td> 97</td><td>0.9951</td><td>3.26</td><td>0.44</td><td>10.1</td><td>6</td></tr>\n",
       "</tbody>\n",
       "</table>\n"
      ],
      "text/latex": [
       "A tibble: 6 × 12\n",
       "\\begin{tabular}{llllllllllll}\n",
       " fixed\\_acidity & volatile\\_acidity & citric\\_acid & residual\\_sugar & chlorides & free\\_sulfur\\_dioxide & total\\_sulfur\\_dioxide & density & ph & sulphates & alcohol & quality\\\\\n",
       " <dbl> & <dbl> & <dbl> & <dbl> & <dbl> & <dbl> & <dbl> & <dbl> & <dbl> & <dbl> & <dbl> & <dbl>\\\\\n",
       "\\hline\n",
       "\t 7.0 & 0.27 & 0.36 & 20.7 & 0.045 & 45 & 170 & 1.0010 & 3.00 & 0.45 &  8.8 & 6\\\\\n",
       "\t 6.3 & 0.30 & 0.34 &  1.6 & 0.049 & 14 & 132 & 0.9940 & 3.30 & 0.49 &  9.5 & 6\\\\\n",
       "\t 8.1 & 0.28 & 0.40 &  6.9 & 0.050 & 30 &  97 & 0.9951 & 3.26 & 0.44 & 10.1 & 6\\\\\n",
       "\t 7.2 & 0.23 & 0.32 &  8.5 & 0.058 & 47 & 186 & 0.9956 & 3.19 & 0.40 &  9.9 & 6\\\\\n",
       "\t 7.2 & 0.23 & 0.32 &  8.5 & 0.058 & 47 & 186 & 0.9956 & 3.19 & 0.40 &  9.9 & 6\\\\\n",
       "\t 8.1 & 0.28 & 0.40 &  6.9 & 0.050 & 30 &  97 & 0.9951 & 3.26 & 0.44 & 10.1 & 6\\\\\n",
       "\\end{tabular}\n"
      ],
      "text/markdown": [
       "\n",
       "A tibble: 6 × 12\n",
       "\n",
       "| fixed_acidity &lt;dbl&gt; | volatile_acidity &lt;dbl&gt; | citric_acid &lt;dbl&gt; | residual_sugar &lt;dbl&gt; | chlorides &lt;dbl&gt; | free_sulfur_dioxide &lt;dbl&gt; | total_sulfur_dioxide &lt;dbl&gt; | density &lt;dbl&gt; | ph &lt;dbl&gt; | sulphates &lt;dbl&gt; | alcohol &lt;dbl&gt; | quality &lt;dbl&gt; |\n",
       "|---|---|---|---|---|---|---|---|---|---|---|---|\n",
       "| 7.0 | 0.27 | 0.36 | 20.7 | 0.045 | 45 | 170 | 1.0010 | 3.00 | 0.45 |  8.8 | 6 |\n",
       "| 6.3 | 0.30 | 0.34 |  1.6 | 0.049 | 14 | 132 | 0.9940 | 3.30 | 0.49 |  9.5 | 6 |\n",
       "| 8.1 | 0.28 | 0.40 |  6.9 | 0.050 | 30 |  97 | 0.9951 | 3.26 | 0.44 | 10.1 | 6 |\n",
       "| 7.2 | 0.23 | 0.32 |  8.5 | 0.058 | 47 | 186 | 0.9956 | 3.19 | 0.40 |  9.9 | 6 |\n",
       "| 7.2 | 0.23 | 0.32 |  8.5 | 0.058 | 47 | 186 | 0.9956 | 3.19 | 0.40 |  9.9 | 6 |\n",
       "| 8.1 | 0.28 | 0.40 |  6.9 | 0.050 | 30 |  97 | 0.9951 | 3.26 | 0.44 | 10.1 | 6 |\n",
       "\n"
      ],
      "text/plain": [
       "  fixed_acidity volatile_acidity citric_acid residual_sugar chlorides\n",
       "1 7.0           0.27             0.36        20.7           0.045    \n",
       "2 6.3           0.30             0.34         1.6           0.049    \n",
       "3 8.1           0.28             0.40         6.9           0.050    \n",
       "4 7.2           0.23             0.32         8.5           0.058    \n",
       "5 7.2           0.23             0.32         8.5           0.058    \n",
       "6 8.1           0.28             0.40         6.9           0.050    \n",
       "  free_sulfur_dioxide total_sulfur_dioxide density ph   sulphates alcohol\n",
       "1 45                  170                  1.0010  3.00 0.45       8.8   \n",
       "2 14                  132                  0.9940  3.30 0.49       9.5   \n",
       "3 30                   97                  0.9951  3.26 0.44      10.1   \n",
       "4 47                  186                  0.9956  3.19 0.40       9.9   \n",
       "5 47                  186                  0.9956  3.19 0.40       9.9   \n",
       "6 30                   97                  0.9951  3.26 0.44      10.1   \n",
       "  quality\n",
       "1 6      \n",
       "2 6      \n",
       "3 6      \n",
       "4 6      \n",
       "5 6      \n",
       "6 6      "
      ]
     },
     "metadata": {},
     "output_type": "display_data"
    }
   ],
   "source": [
    "wine = read_excel('data/wine_quality.xlsx')\n",
    "wine %>% head"
   ]
  },
  {
   "cell_type": "code",
   "execution_count": 38,
   "metadata": {},
   "outputs": [],
   "source": [
    "for (i in names(wine)){\n",
    "    wine[i] = outliers_iqr(flatten_dbl(wine[i]))\n",
    "}"
   ]
  },
  {
   "cell_type": "code",
   "execution_count": 39,
   "metadata": {},
   "outputs": [
    {
     "data": {
      "text/html": [
       "<table>\n",
       "<caption>A data.frame: 12 × 2</caption>\n",
       "<thead>\n",
       "\t<tr><th></th><th scope=col>removed_count</th><th scope=col>removed_rate</th></tr>\n",
       "\t<tr><th></th><th scope=col>&lt;dbl&gt;</th><th scope=col>&lt;dbl&gt;</th></tr>\n",
       "</thead>\n",
       "<tbody>\n",
       "\t<tr><th scope=row>fixed_acidity</th><td>119</td><td>2.4295631</td></tr>\n",
       "\t<tr><th scope=row>volatile_acidity</th><td>186</td><td>3.7974684</td></tr>\n",
       "\t<tr><th scope=row>citric_acid</th><td>270</td><td>5.5124541</td></tr>\n",
       "\t<tr><th scope=row>residual_sugar</th><td>  7</td><td>0.1429155</td></tr>\n",
       "\t<tr><th scope=row>chlorides</th><td>208</td><td>4.2466313</td></tr>\n",
       "\t<tr><th scope=row>free_sulfur_dioxide</th><td> 50</td><td>1.0208248</td></tr>\n",
       "\t<tr><th scope=row>total_sulfur_dioxide</th><td> 19</td><td>0.3879134</td></tr>\n",
       "\t<tr><th scope=row>density</th><td>  5</td><td>0.1020825</td></tr>\n",
       "\t<tr><th scope=row>ph</th><td> 75</td><td>1.5312372</td></tr>\n",
       "\t<tr><th scope=row>sulphates</th><td>124</td><td>2.5316456</td></tr>\n",
       "\t<tr><th scope=row>alcohol</th><td>  0</td><td>0.0000000</td></tr>\n",
       "\t<tr><th scope=row>quality</th><td>200</td><td>4.0832993</td></tr>\n",
       "</tbody>\n",
       "</table>\n"
      ],
      "text/latex": [
       "A data.frame: 12 × 2\n",
       "\\begin{tabular}{r|ll}\n",
       "  & removed\\_count & removed\\_rate\\\\\n",
       "  & <dbl> & <dbl>\\\\\n",
       "\\hline\n",
       "\tfixed\\_acidity & 119 & 2.4295631\\\\\n",
       "\tvolatile\\_acidity & 186 & 3.7974684\\\\\n",
       "\tcitric\\_acid & 270 & 5.5124541\\\\\n",
       "\tresidual\\_sugar &   7 & 0.1429155\\\\\n",
       "\tchlorides & 208 & 4.2466313\\\\\n",
       "\tfree\\_sulfur\\_dioxide &  50 & 1.0208248\\\\\n",
       "\ttotal\\_sulfur\\_dioxide &  19 & 0.3879134\\\\\n",
       "\tdensity &   5 & 0.1020825\\\\\n",
       "\tph &  75 & 1.5312372\\\\\n",
       "\tsulphates & 124 & 2.5316456\\\\\n",
       "\talcohol &   0 & 0.0000000\\\\\n",
       "\tquality & 200 & 4.0832993\\\\\n",
       "\\end{tabular}\n"
      ],
      "text/markdown": [
       "\n",
       "A data.frame: 12 × 2\n",
       "\n",
       "| <!--/--> | removed_count &lt;dbl&gt; | removed_rate &lt;dbl&gt; |\n",
       "|---|---|---|\n",
       "| fixed_acidity | 119 | 2.4295631 |\n",
       "| volatile_acidity | 186 | 3.7974684 |\n",
       "| citric_acid | 270 | 5.5124541 |\n",
       "| residual_sugar |   7 | 0.1429155 |\n",
       "| chlorides | 208 | 4.2466313 |\n",
       "| free_sulfur_dioxide |  50 | 1.0208248 |\n",
       "| total_sulfur_dioxide |  19 | 0.3879134 |\n",
       "| density |   5 | 0.1020825 |\n",
       "| ph |  75 | 1.5312372 |\n",
       "| sulphates | 124 | 2.5316456 |\n",
       "| alcohol |   0 | 0.0000000 |\n",
       "| quality | 200 | 4.0832993 |\n",
       "\n"
      ],
      "text/plain": [
       "                     removed_count removed_rate\n",
       "fixed_acidity        119           2.4295631   \n",
       "volatile_acidity     186           3.7974684   \n",
       "citric_acid          270           5.5124541   \n",
       "residual_sugar         7           0.1429155   \n",
       "chlorides            208           4.2466313   \n",
       "free_sulfur_dioxide   50           1.0208248   \n",
       "total_sulfur_dioxide  19           0.3879134   \n",
       "density                5           0.1020825   \n",
       "ph                    75           1.5312372   \n",
       "sulphates            124           2.5316456   \n",
       "alcohol                0           0.0000000   \n",
       "quality              200           4.0832993   "
      ]
     },
     "metadata": {},
     "output_type": "display_data"
    }
   ],
   "source": [
    "removed_count = wine %>% is.na %>% colSums\n",
    "removed_rate = wine %>% is.na %>% colMeans *100\n",
    "\n",
    "data.frame(removed_count, removed_rate)"
   ]
  },
  {
   "cell_type": "markdown",
   "metadata": {},
   "source": [
    "## 3. Text manipulation"
   ]
  },
  {
   "cell_type": "markdown",
   "metadata": {},
   "source": [
    "### 3.1. Space and punctuation"
   ]
  },
  {
   "cell_type": "code",
   "execution_count": 40,
   "metadata": {},
   "outputs": [],
   "source": [
    "library(stringr)"
   ]
  },
  {
   "cell_type": "code",
   "execution_count": 41,
   "metadata": {},
   "outputs": [
    {
     "data": {
      "text/html": [
       "<table>\n",
       "<caption>A data.frame: 4 × 4</caption>\n",
       "<thead>\n",
       "\t<tr><th scope=col>year</th><th scope=col>country</th><th scope=col>export</th><th scope=col>import</th></tr>\n",
       "\t<tr><th scope=col>&lt;dbl&gt;</th><th scope=col>&lt;fct&gt;</th><th scope=col>&lt;dbl&gt;</th><th scope=col>&lt;dbl&gt;</th></tr>\n",
       "</thead>\n",
       "<tbody>\n",
       "\t<tr><td>2017</td><td>United Kingdom_     </td><td>5466</td><td>1546</td></tr>\n",
       "\t<tr><td>2018</td><td>___  United\n",
       "Kingdom</td><td>8558</td><td>3546</td></tr>\n",
       "\t<tr><td>2019</td><td>_United   Kingdom   </td><td>8435</td><td>2007</td></tr>\n",
       "\t<tr><td>2020</td><td>United Kingdom ____ </td><td>8435</td><td>3574</td></tr>\n",
       "</tbody>\n",
       "</table>\n"
      ],
      "text/latex": [
       "A data.frame: 4 × 4\n",
       "\\begin{tabular}{llll}\n",
       " year & country & export & import\\\\\n",
       " <dbl> & <fct> & <dbl> & <dbl>\\\\\n",
       "\\hline\n",
       "\t 2017 & United Kingdom\\_      & 5466 & 1546\\\\\n",
       "\t 2018 & \\_\\_\\_  United\n",
       "Kingdom & 8558 & 3546\\\\\n",
       "\t 2019 & \\_United   Kingdom    & 8435 & 2007\\\\\n",
       "\t 2020 & United Kingdom \\_\\_\\_\\_  & 8435 & 3574\\\\\n",
       "\\end{tabular}\n"
      ],
      "text/markdown": [
       "\n",
       "A data.frame: 4 × 4\n",
       "\n",
       "| year &lt;dbl&gt; | country &lt;fct&gt; | export &lt;dbl&gt; | import &lt;dbl&gt; |\n",
       "|---|---|---|---|\n",
       "| 2017 | United Kingdom_      | 5466 | 1546 |\n",
       "| 2018 | ___  United\n",
       "Kingdom | 8558 | 3546 |\n",
       "| 2019 | _United   Kingdom    | 8435 | 2007 |\n",
       "| 2020 | United Kingdom ____  | 8435 | 3574 |\n",
       "\n"
      ],
      "text/plain": [
       "  year country              export import\n",
       "1 2017 United Kingdom_      5466   1546  \n",
       "2 2018 ___  United\\nKingdom 8558   3546  \n",
       "3 2019 _United   Kingdom    8435   2007  \n",
       "4 2020 United Kingdom ____  8435   3574  "
      ]
     },
     "metadata": {},
     "output_type": "display_data"
    }
   ],
   "source": [
    "year<- c(2017, 2018, 2019, 2020)\n",
    "country <- c('United Kingdom_','___  United\\nKingdom','_United   Kingdom','United Kingdom ____')\n",
    "export <- c(5466, 8558, 8435, 8435)\n",
    "import <- c(1546, 3546, 2007, 3574)\n",
    "\n",
    "trade <- data.frame(year, country, export, import)\n",
    "trade"
   ]
  },
  {
   "cell_type": "code",
   "execution_count": 42,
   "metadata": {},
   "outputs": [
    {
     "data": {
      "text/html": [
       "<style>\n",
       ".list-inline {list-style: none; margin:0; padding: 0}\n",
       ".list-inline>li {display: inline-block}\n",
       ".list-inline>li:not(:last-child)::after {content: \"\\00b7\"; padding: 0 .5ex}\n",
       "</style>\n",
       "<ol class=list-inline><li>United Kingdom_</li><li><span style=white-space:pre-wrap>___  United\\nKingdom</span></li><li><span style=white-space:pre-wrap>_United   Kingdom</span></li><li>United Kingdom ____</li></ol>\n",
       "\n",
       "<details>\n",
       "\t<summary style=display:list-item;cursor:pointer>\n",
       "\t\t<strong>Levels</strong>:\n",
       "\t</summary>\n",
       "\t<style>\n",
       "\t.list-inline {list-style: none; margin:0; padding: 0}\n",
       "\t.list-inline>li {display: inline-block}\n",
       "\t.list-inline>li:not(:last-child)::after {content: \"\\00b7\"; padding: 0 .5ex}\n",
       "\t</style>\n",
       "\t<ol class=list-inline><li><span style=white-space:pre-wrap>'___  United\\nKingdom'</span></li><li><span style=white-space:pre-wrap>'_United   Kingdom'</span></li><li>'United Kingdom ____'</li><li>'United Kingdom_'</li></ol>\n",
       "</details>"
      ],
      "text/latex": [
       "\\begin{enumerate*}\n",
       "\\item United Kingdom\\_\n",
       "\\item \\_\\_\\_  United\\textbackslash{}nKingdom\n",
       "\\item \\_United   Kingdom\n",
       "\\item United Kingdom \\_\\_\\_\\_\n",
       "\\end{enumerate*}\n",
       "\n",
       "\\emph{Levels}: \\begin{enumerate*}\n",
       "\\item '\\_\\_\\_  United\\textbackslash{}nKingdom'\n",
       "\\item '\\_United   Kingdom'\n",
       "\\item 'United Kingdom \\_\\_\\_\\_'\n",
       "\\item 'United Kingdom\\_'\n",
       "\\end{enumerate*}\n"
      ],
      "text/markdown": [
       "1. United Kingdom_\n",
       "2. <span style=white-space:pre-wrap>___  United\\nKingdom</span>\n",
       "3. <span style=white-space:pre-wrap>_United   Kingdom</span>\n",
       "4. United Kingdom ____\n",
       "\n",
       "\n",
       "\n",
       "**Levels**: 1. <span style=white-space:pre-wrap>'___  United\\nKingdom'</span>\n",
       "2. <span style=white-space:pre-wrap>'_United   Kingdom'</span>\n",
       "3. 'United Kingdom ____'\n",
       "4. 'United Kingdom_'\n",
       "\n",
       "\n"
      ],
      "text/plain": [
       "[1] United Kingdom_      ___  United\\nKingdom _United   Kingdom   \n",
       "[4] United Kingdom ____ \n",
       "4 Levels: ___  United\\nKingdom _United   Kingdom ... United Kingdom_"
      ]
     },
     "metadata": {},
     "output_type": "display_data"
    }
   ],
   "source": [
    "trade$country %>% unique"
   ]
  },
  {
   "cell_type": "markdown",
   "metadata": {},
   "source": [
    "#### Removing punctuation"
   ]
  },
  {
   "cell_type": "code",
   "execution_count": 43,
   "metadata": {},
   "outputs": [],
   "source": [
    "trade$country = trade$country %>% str_replace_all(\"[[:punct:]]\", \"\")"
   ]
  },
  {
   "cell_type": "markdown",
   "metadata": {},
   "source": [
    "#### Removing space, tab, new line"
   ]
  },
  {
   "cell_type": "code",
   "execution_count": 44,
   "metadata": {},
   "outputs": [],
   "source": [
    "trade$country = trade$country %>%\n",
    "    str_replace_all(\" {1,}\", \" \") %>%\n",
    "    str_replace_all('[[:space:]]', ' ') %>%\n",
    "    str_trim() %>%\n",
    "    unique"
   ]
  },
  {
   "cell_type": "markdown",
   "metadata": {},
   "source": [
    "### 3.2. Standardization"
   ]
  },
  {
   "cell_type": "code",
   "execution_count": 45,
   "metadata": {},
   "outputs": [],
   "source": [
    "library(stringr)"
   ]
  },
  {
   "cell_type": "code",
   "execution_count": 46,
   "metadata": {},
   "outputs": [
    {
     "data": {
      "text/html": [
       "<table>\n",
       "<caption>A data.frame: 3 × 4</caption>\n",
       "<thead>\n",
       "\t<tr><th scope=col>date</th><th scope=col>commodity</th><th scope=col>price</th><th scope=col>unit</th></tr>\n",
       "\t<tr><th scope=col>&lt;fct&gt;</th><th scope=col>&lt;fct&gt;</th><th scope=col>&lt;dbl&gt;</th><th scope=col>&lt;fct&gt;</th></tr>\n",
       "</thead>\n",
       "<tbody>\n",
       "\t<tr><td>2020-01-01</td><td>Shrimp, frozen, chem free </td><td>10</td><td>usd/kg</td></tr>\n",
       "\t<tr><td>2020-01-02</td><td>Shrimp, frz, chemical-free</td><td>13</td><td>USD/KG</td></tr>\n",
       "\t<tr><td>2020-01-03</td><td>Prawn, frz, chemical-free </td><td>14</td><td>USD/kg</td></tr>\n",
       "</tbody>\n",
       "</table>\n"
      ],
      "text/latex": [
       "A data.frame: 3 × 4\n",
       "\\begin{tabular}{llll}\n",
       " date & commodity & price & unit\\\\\n",
       " <fct> & <fct> & <dbl> & <fct>\\\\\n",
       "\\hline\n",
       "\t 2020-01-01 & Shrimp, frozen, chem free  & 10 & usd/kg\\\\\n",
       "\t 2020-01-02 & Shrimp, frz, chemical-free & 13 & USD/KG\\\\\n",
       "\t 2020-01-03 & Prawn, frz, chemical-free  & 14 & USD/kg\\\\\n",
       "\\end{tabular}\n"
      ],
      "text/markdown": [
       "\n",
       "A data.frame: 3 × 4\n",
       "\n",
       "| date &lt;fct&gt; | commodity &lt;fct&gt; | price &lt;dbl&gt; | unit &lt;fct&gt; |\n",
       "|---|---|---|---|\n",
       "| 2020-01-01 | Shrimp, frozen, chem free  | 10 | usd/kg |\n",
       "| 2020-01-02 | Shrimp, frz, chemical-free | 13 | USD/KG |\n",
       "| 2020-01-03 | Prawn, frz, chemical-free  | 14 | USD/kg |\n",
       "\n"
      ],
      "text/plain": [
       "  date       commodity                  price unit  \n",
       "1 2020-01-01 Shrimp, frozen, chem free  10    usd/kg\n",
       "2 2020-01-02 Shrimp, frz, chemical-free 13    USD/KG\n",
       "3 2020-01-03 Prawn, frz, chemical-free  14    USD/kg"
      ]
     },
     "metadata": {},
     "output_type": "display_data"
    }
   ],
   "source": [
    "date <- c('2020-01-01', '2020-01-02', '2020-01-03')\n",
    "commodity <- c('Shrimp, frozen, chem free', 'Shrimp, frz, chemical-free', 'Prawn, frz, chemical-free')\n",
    "price <- c(10, 13, 14)\n",
    "unit <- c('usd/kg', 'USD/KG', 'USD/kg')\n",
    "\n",
    "shrimp <- data.frame(date, commodity, price, unit)\n",
    "shrimp"
   ]
  },
  {
   "cell_type": "code",
   "execution_count": 47,
   "metadata": {},
   "outputs": [
    {
     "data": {
      "text/html": [
       "<table>\n",
       "<caption>A data.frame: 3 × 4</caption>\n",
       "<thead>\n",
       "\t<tr><th scope=col>date</th><th scope=col>commodity</th><th scope=col>price</th><th scope=col>unit</th></tr>\n",
       "\t<tr><th scope=col>&lt;fct&gt;</th><th scope=col>&lt;chr&gt;</th><th scope=col>&lt;dbl&gt;</th><th scope=col>&lt;chr&gt;</th></tr>\n",
       "</thead>\n",
       "<tbody>\n",
       "\t<tr><td>2020-01-01</td><td>Shrimp, frozen, chemical-free</td><td>10</td><td>USD/kg</td></tr>\n",
       "\t<tr><td>2020-01-02</td><td>Shrimp, frozen, chemical-free</td><td>13</td><td>USD/kg</td></tr>\n",
       "\t<tr><td>2020-01-03</td><td>Shrimp, frozen, chemical-free</td><td>14</td><td>USD/kg</td></tr>\n",
       "</tbody>\n",
       "</table>\n"
      ],
      "text/latex": [
       "A data.frame: 3 × 4\n",
       "\\begin{tabular}{llll}\n",
       " date & commodity & price & unit\\\\\n",
       " <fct> & <chr> & <dbl> & <chr>\\\\\n",
       "\\hline\n",
       "\t 2020-01-01 & Shrimp, frozen, chemical-free & 10 & USD/kg\\\\\n",
       "\t 2020-01-02 & Shrimp, frozen, chemical-free & 13 & USD/kg\\\\\n",
       "\t 2020-01-03 & Shrimp, frozen, chemical-free & 14 & USD/kg\\\\\n",
       "\\end{tabular}\n"
      ],
      "text/markdown": [
       "\n",
       "A data.frame: 3 × 4\n",
       "\n",
       "| date &lt;fct&gt; | commodity &lt;chr&gt; | price &lt;dbl&gt; | unit &lt;chr&gt; |\n",
       "|---|---|---|---|\n",
       "| 2020-01-01 | Shrimp, frozen, chemical-free | 10 | USD/kg |\n",
       "| 2020-01-02 | Shrimp, frozen, chemical-free | 13 | USD/kg |\n",
       "| 2020-01-03 | Shrimp, frozen, chemical-free | 14 | USD/kg |\n",
       "\n"
      ],
      "text/plain": [
       "  date       commodity                     price unit  \n",
       "1 2020-01-01 Shrimp, frozen, chemical-free 10    USD/kg\n",
       "2 2020-01-02 Shrimp, frozen, chemical-free 13    USD/kg\n",
       "3 2020-01-03 Shrimp, frozen, chemical-free 14    USD/kg"
      ]
     },
     "metadata": {},
     "output_type": "display_data"
    }
   ],
   "source": [
    "# working on the \"commodity\" column\n",
    "shrimp$commodity = shrimp$commodity %>% str_replace('Prawn','Shrimp')\n",
    "shrimp$commodity = shrimp$commodity %>% str_replace('frz', 'frozen')\n",
    "shrimp$commodity = shrimp$commodity %>% str_replace('chem free', 'chemical-free')\n",
    "\n",
    "# working on the \"unit\" column\n",
    "shrimp$unit = shrimp$unit %>% str_replace('usd','USD')\n",
    "shrimp$unit = shrimp$unit %>% str_replace('KG','kg')\n",
    "\n",
    "shrimp"
   ]
  },
  {
   "cell_type": "markdown",
   "metadata": {},
   "source": [
    "### 3.3. Padding"
   ]
  },
  {
   "cell_type": "code",
   "execution_count": 48,
   "metadata": {},
   "outputs": [],
   "source": [
    "library(stringr)"
   ]
  },
  {
   "cell_type": "code",
   "execution_count": 49,
   "metadata": {},
   "outputs": [
    {
     "data": {
      "text/html": [
       "<table>\n",
       "<caption>A data.frame: 3 × 4</caption>\n",
       "<thead>\n",
       "\t<tr><th scope=col>customer_id</th><th scope=col>phone</th><th scope=col>name</th><th scope=col>information</th></tr>\n",
       "\t<tr><th scope=col>&lt;dbl&gt;</th><th scope=col>&lt;dbl&gt;</th><th scope=col>&lt;fct&gt;</th><th scope=col>&lt;fct&gt;</th></tr>\n",
       "</thead>\n",
       "<tbody>\n",
       "\t<tr><td>   3</td><td>363334444</td><td>Jack   </td><td>England Male </td></tr>\n",
       "\t<tr><td> 423</td><td>913334444</td><td>James  </td><td>Colombia Male</td></tr>\n",
       "\t<tr><td>5464</td><td>123334444</td><td>Gabriel</td><td>France Female</td></tr>\n",
       "</tbody>\n",
       "</table>\n"
      ],
      "text/latex": [
       "A data.frame: 3 × 4\n",
       "\\begin{tabular}{llll}\n",
       " customer\\_id & phone & name & information\\\\\n",
       " <dbl> & <dbl> & <fct> & <fct>\\\\\n",
       "\\hline\n",
       "\t    3 & 363334444 & Jack    & England Male \\\\\n",
       "\t  423 & 913334444 & James   & Colombia Male\\\\\n",
       "\t 5464 & 123334444 & Gabriel & France Female\\\\\n",
       "\\end{tabular}\n"
      ],
      "text/markdown": [
       "\n",
       "A data.frame: 3 × 4\n",
       "\n",
       "| customer_id &lt;dbl&gt; | phone &lt;dbl&gt; | name &lt;fct&gt; | information &lt;fct&gt; |\n",
       "|---|---|---|---|\n",
       "|    3 | 363334444 | Jack    | England Male  |\n",
       "|  423 | 913334444 | James   | Colombia Male |\n",
       "| 5464 | 123334444 | Gabriel | France Female |\n",
       "\n"
      ],
      "text/plain": [
       "  customer_id phone     name    information  \n",
       "1    3        363334444 Jack    England Male \n",
       "2  423        913334444 James   Colombia Male\n",
       "3 5464        123334444 Gabriel France Female"
      ]
     },
     "metadata": {},
     "output_type": "display_data"
    }
   ],
   "source": [
    "customer_id <- c(3, 423, 5464)\n",
    "phone <- c(363334444, 913334444, 123334444)\n",
    "name <- c('Jack', 'James', 'Gabriel')\n",
    "information <- c('England Male', 'Colombia Male', 'France Female')\n",
    "\n",
    "info <- data.frame(customer_id, phone, name, information)\n",
    "info"
   ]
  },
  {
   "cell_type": "code",
   "execution_count": 50,
   "metadata": {},
   "outputs": [
    {
     "data": {
      "text/html": [
       "<table>\n",
       "<caption>A data.frame: 3 × 4</caption>\n",
       "<thead>\n",
       "\t<tr><th scope=col>customer_id</th><th scope=col>phone</th><th scope=col>name</th><th scope=col>information</th></tr>\n",
       "\t<tr><th scope=col>&lt;chr&gt;</th><th scope=col>&lt;dbl&gt;</th><th scope=col>&lt;fct&gt;</th><th scope=col>&lt;fct&gt;</th></tr>\n",
       "</thead>\n",
       "<tbody>\n",
       "\t<tr><td>0003</td><td>363334444</td><td>Jack   </td><td>England Male </td></tr>\n",
       "\t<tr><td>0423</td><td>913334444</td><td>James  </td><td>Colombia Male</td></tr>\n",
       "\t<tr><td>5464</td><td>123334444</td><td>Gabriel</td><td>France Female</td></tr>\n",
       "</tbody>\n",
       "</table>\n"
      ],
      "text/latex": [
       "A data.frame: 3 × 4\n",
       "\\begin{tabular}{llll}\n",
       " customer\\_id & phone & name & information\\\\\n",
       " <chr> & <dbl> & <fct> & <fct>\\\\\n",
       "\\hline\n",
       "\t 0003 & 363334444 & Jack    & England Male \\\\\n",
       "\t 0423 & 913334444 & James   & Colombia Male\\\\\n",
       "\t 5464 & 123334444 & Gabriel & France Female\\\\\n",
       "\\end{tabular}\n"
      ],
      "text/markdown": [
       "\n",
       "A data.frame: 3 × 4\n",
       "\n",
       "| customer_id &lt;chr&gt; | phone &lt;dbl&gt; | name &lt;fct&gt; | information &lt;fct&gt; |\n",
       "|---|---|---|---|\n",
       "| 0003 | 363334444 | Jack    | England Male  |\n",
       "| 0423 | 913334444 | James   | Colombia Male |\n",
       "| 5464 | 123334444 | Gabriel | France Female |\n",
       "\n"
      ],
      "text/plain": [
       "  customer_id phone     name    information  \n",
       "1 0003        363334444 Jack    England Male \n",
       "2 0423        913334444 James   Colombia Male\n",
       "3 5464        123334444 Gabriel France Female"
      ]
     },
     "metadata": {},
     "output_type": "display_data"
    }
   ],
   "source": [
    "info$customer_id <- info$customer_id %>% \n",
    "    as.character() %>%\n",
    "    str_pad(width=4, pad='0')\n",
    "\n",
    "info"
   ]
  },
  {
   "cell_type": "markdown",
   "metadata": {},
   "source": [
    "### 3.4. Splitting a column"
   ]
  },
  {
   "cell_type": "code",
   "execution_count": 51,
   "metadata": {},
   "outputs": [],
   "source": [
    "library(tidyr)"
   ]
  },
  {
   "cell_type": "code",
   "execution_count": 52,
   "metadata": {},
   "outputs": [
    {
     "data": {
      "text/html": [
       "<table>\n",
       "<caption>A data.frame: 3 × 4</caption>\n",
       "<thead>\n",
       "\t<tr><th scope=col>customer_id</th><th scope=col>phone</th><th scope=col>name</th><th scope=col>information</th></tr>\n",
       "\t<tr><th scope=col>&lt;dbl&gt;</th><th scope=col>&lt;dbl&gt;</th><th scope=col>&lt;fct&gt;</th><th scope=col>&lt;fct&gt;</th></tr>\n",
       "</thead>\n",
       "<tbody>\n",
       "\t<tr><td>   3</td><td>363334444</td><td>Jack   </td><td>England Male </td></tr>\n",
       "\t<tr><td> 423</td><td>913334444</td><td>James  </td><td>Colombia Male</td></tr>\n",
       "\t<tr><td>5464</td><td>123334444</td><td>Gabriel</td><td>France Female</td></tr>\n",
       "</tbody>\n",
       "</table>\n"
      ],
      "text/latex": [
       "A data.frame: 3 × 4\n",
       "\\begin{tabular}{llll}\n",
       " customer\\_id & phone & name & information\\\\\n",
       " <dbl> & <dbl> & <fct> & <fct>\\\\\n",
       "\\hline\n",
       "\t    3 & 363334444 & Jack    & England Male \\\\\n",
       "\t  423 & 913334444 & James   & Colombia Male\\\\\n",
       "\t 5464 & 123334444 & Gabriel & France Female\\\\\n",
       "\\end{tabular}\n"
      ],
      "text/markdown": [
       "\n",
       "A data.frame: 3 × 4\n",
       "\n",
       "| customer_id &lt;dbl&gt; | phone &lt;dbl&gt; | name &lt;fct&gt; | information &lt;fct&gt; |\n",
       "|---|---|---|---|\n",
       "|    3 | 363334444 | Jack    | England Male  |\n",
       "|  423 | 913334444 | James   | Colombia Male |\n",
       "| 5464 | 123334444 | Gabriel | France Female |\n",
       "\n"
      ],
      "text/plain": [
       "  customer_id phone     name    information  \n",
       "1    3        363334444 Jack    England Male \n",
       "2  423        913334444 James   Colombia Male\n",
       "3 5464        123334444 Gabriel France Female"
      ]
     },
     "metadata": {},
     "output_type": "display_data"
    }
   ],
   "source": [
    "customer_id <- c(3, 423, 5464)\n",
    "phone <- c(363334444, 913334444, 123334444)\n",
    "name <- c('Jack', 'James', 'Gabriel')\n",
    "information <- c('England Male', 'Colombia Male', 'France Female')\n",
    "\n",
    "info <- data.frame(customer_id, phone, name, information)\n",
    "info"
   ]
  },
  {
   "cell_type": "code",
   "execution_count": 53,
   "metadata": {},
   "outputs": [
    {
     "data": {
      "text/html": [
       "<table>\n",
       "<caption>A data.frame: 3 × 5</caption>\n",
       "<thead>\n",
       "\t<tr><th scope=col>customer_id</th><th scope=col>phone</th><th scope=col>name</th><th scope=col>country</th><th scope=col>gender</th></tr>\n",
       "\t<tr><th scope=col>&lt;dbl&gt;</th><th scope=col>&lt;dbl&gt;</th><th scope=col>&lt;fct&gt;</th><th scope=col>&lt;chr&gt;</th><th scope=col>&lt;chr&gt;</th></tr>\n",
       "</thead>\n",
       "<tbody>\n",
       "\t<tr><td>   3</td><td>363334444</td><td>Jack   </td><td>England </td><td>Male  </td></tr>\n",
       "\t<tr><td> 423</td><td>913334444</td><td>James  </td><td>Colombia</td><td>Male  </td></tr>\n",
       "\t<tr><td>5464</td><td>123334444</td><td>Gabriel</td><td>France  </td><td>Female</td></tr>\n",
       "</tbody>\n",
       "</table>\n"
      ],
      "text/latex": [
       "A data.frame: 3 × 5\n",
       "\\begin{tabular}{lllll}\n",
       " customer\\_id & phone & name & country & gender\\\\\n",
       " <dbl> & <dbl> & <fct> & <chr> & <chr>\\\\\n",
       "\\hline\n",
       "\t    3 & 363334444 & Jack    & England  & Male  \\\\\n",
       "\t  423 & 913334444 & James   & Colombia & Male  \\\\\n",
       "\t 5464 & 123334444 & Gabriel & France   & Female\\\\\n",
       "\\end{tabular}\n"
      ],
      "text/markdown": [
       "\n",
       "A data.frame: 3 × 5\n",
       "\n",
       "| customer_id &lt;dbl&gt; | phone &lt;dbl&gt; | name &lt;fct&gt; | country &lt;chr&gt; | gender &lt;chr&gt; |\n",
       "|---|---|---|---|---|\n",
       "|    3 | 363334444 | Jack    | England  | Male   |\n",
       "|  423 | 913334444 | James   | Colombia | Male   |\n",
       "| 5464 | 123334444 | Gabriel | France   | Female |\n",
       "\n"
      ],
      "text/plain": [
       "  customer_id phone     name    country  gender\n",
       "1    3        363334444 Jack    England  Male  \n",
       "2  423        913334444 James   Colombia Male  \n",
       "3 5464        123334444 Gabriel France   Female"
      ]
     },
     "metadata": {},
     "output_type": "display_data"
    }
   ],
   "source": [
    "info %>% separate(col=information, into=c('country', 'gender'), sep=' ' )"
   ]
  },
  {
   "cell_type": "markdown",
   "metadata": {},
   "source": [
    "### 3.5. Concatenating columns"
   ]
  },
  {
   "cell_type": "code",
   "execution_count": 54,
   "metadata": {},
   "outputs": [],
   "source": [
    "library(tidyr)"
   ]
  },
  {
   "cell_type": "code",
   "execution_count": 55,
   "metadata": {},
   "outputs": [
    {
     "data": {
      "text/html": [
       "<table>\n",
       "<caption>A data.frame: 3 × 3</caption>\n",
       "<thead>\n",
       "\t<tr><th scope=col>first_name</th><th scope=col>last_name</th><th scope=col>position</th></tr>\n",
       "\t<tr><th scope=col>&lt;fct&gt;</th><th scope=col>&lt;fct&gt;</th><th scope=col>&lt;fct&gt;</th></tr>\n",
       "</thead>\n",
       "<tbody>\n",
       "\t<tr><td>Wayne    </td><td>Rooney </td><td>Second Striker</td></tr>\n",
       "\t<tr><td>Cristiano</td><td>Ronaldo</td><td>Left Winger   </td></tr>\n",
       "\t<tr><td>Lionel   </td><td>Messi  </td><td>Right Winger  </td></tr>\n",
       "</tbody>\n",
       "</table>\n"
      ],
      "text/latex": [
       "A data.frame: 3 × 3\n",
       "\\begin{tabular}{lll}\n",
       " first\\_name & last\\_name & position\\\\\n",
       " <fct> & <fct> & <fct>\\\\\n",
       "\\hline\n",
       "\t Wayne     & Rooney  & Second Striker\\\\\n",
       "\t Cristiano & Ronaldo & Left Winger   \\\\\n",
       "\t Lionel    & Messi   & Right Winger  \\\\\n",
       "\\end{tabular}\n"
      ],
      "text/markdown": [
       "\n",
       "A data.frame: 3 × 3\n",
       "\n",
       "| first_name &lt;fct&gt; | last_name &lt;fct&gt; | position &lt;fct&gt; |\n",
       "|---|---|---|\n",
       "| Wayne     | Rooney  | Second Striker |\n",
       "| Cristiano | Ronaldo | Left Winger    |\n",
       "| Lionel    | Messi   | Right Winger   |\n",
       "\n"
      ],
      "text/plain": [
       "  first_name last_name position      \n",
       "1 Wayne      Rooney    Second Striker\n",
       "2 Cristiano  Ronaldo   Left Winger   \n",
       "3 Lionel     Messi     Right Winger  "
      ]
     },
     "metadata": {},
     "output_type": "display_data"
    }
   ],
   "source": [
    "first_name <- c('Wayne', 'Cristiano', 'Lionel')\n",
    "last_name <- c('Rooney', 'Ronaldo', 'Messi')\n",
    "position <- c('Second Striker', 'Left Winger', 'Right Winger')\n",
    "\n",
    "football <- data.frame(first_name, last_name, position)\n",
    "football"
   ]
  },
  {
   "cell_type": "code",
   "execution_count": 56,
   "metadata": {},
   "outputs": [
    {
     "data": {
      "text/html": [
       "<table>\n",
       "<caption>A data.frame: 3 × 2</caption>\n",
       "<thead>\n",
       "\t<tr><th scope=col>name</th><th scope=col>position</th></tr>\n",
       "\t<tr><th scope=col>&lt;chr&gt;</th><th scope=col>&lt;fct&gt;</th></tr>\n",
       "</thead>\n",
       "<tbody>\n",
       "\t<tr><td>Wayne Rooney     </td><td>Second Striker</td></tr>\n",
       "\t<tr><td>Cristiano Ronaldo</td><td>Left Winger   </td></tr>\n",
       "\t<tr><td>Lionel Messi     </td><td>Right Winger  </td></tr>\n",
       "</tbody>\n",
       "</table>\n"
      ],
      "text/latex": [
       "A data.frame: 3 × 2\n",
       "\\begin{tabular}{ll}\n",
       " name & position\\\\\n",
       " <chr> & <fct>\\\\\n",
       "\\hline\n",
       "\t Wayne Rooney      & Second Striker\\\\\n",
       "\t Cristiano Ronaldo & Left Winger   \\\\\n",
       "\t Lionel Messi      & Right Winger  \\\\\n",
       "\\end{tabular}\n"
      ],
      "text/markdown": [
       "\n",
       "A data.frame: 3 × 2\n",
       "\n",
       "| name &lt;chr&gt; | position &lt;fct&gt; |\n",
       "|---|---|\n",
       "| Wayne Rooney      | Second Striker |\n",
       "| Cristiano Ronaldo | Left Winger    |\n",
       "| Lionel Messi      | Right Winger   |\n",
       "\n"
      ],
      "text/plain": [
       "  name              position      \n",
       "1 Wayne Rooney      Second Striker\n",
       "2 Cristiano Ronaldo Left Winger   \n",
       "3 Lionel Messi      Right Winger  "
      ]
     },
     "metadata": {},
     "output_type": "display_data"
    }
   ],
   "source": [
    "football %>% unite(col=name, first_name, last_name, sep=' ')"
   ]
  },
  {
   "cell_type": "markdown",
   "metadata": {},
   "source": [
    "## 4. Date and time "
   ]
  },
  {
   "cell_type": "code",
   "execution_count": 57,
   "metadata": {},
   "outputs": [
    {
     "name": "stderr",
     "output_type": "stream",
     "text": [
      "Warning message:\n",
      "\"package 'lubridate' was built under R version 3.6.3\"\n",
      "\n",
      "Attaching package: 'lubridate'\n",
      "\n",
      "\n",
      "The following objects are masked from 'package:base':\n",
      "\n",
      "    date, intersect, setdiff, union\n",
      "\n",
      "\n"
     ]
    }
   ],
   "source": [
    "library(lubridate)"
   ]
  },
  {
   "cell_type": "code",
   "execution_count": 58,
   "metadata": {},
   "outputs": [
    {
     "data": {
      "text/html": [
       "<time datetime=\"2020-10-08\">2020-10-08</time>"
      ],
      "text/latex": [
       "2020-10-08"
      ],
      "text/markdown": [
       "2020-10-08"
      ],
      "text/plain": [
       "[1] \"2020-10-08\""
      ]
     },
     "metadata": {},
     "output_type": "display_data"
    }
   ],
   "source": [
    "today()"
   ]
  },
  {
   "cell_type": "code",
   "execution_count": 59,
   "metadata": {},
   "outputs": [
    {
     "data": {
      "text/plain": [
       "[1] \"2020-10-08 11:11:18 +07\""
      ]
     },
     "metadata": {},
     "output_type": "display_data"
    }
   ],
   "source": [
    "now()"
   ]
  },
  {
   "cell_type": "markdown",
   "metadata": {},
   "source": [
    "### 4.1. Converting to datetime"
   ]
  },
  {
   "cell_type": "code",
   "execution_count": 60,
   "metadata": {},
   "outputs": [],
   "source": [
    "library(lubridate)"
   ]
  },
  {
   "cell_type": "code",
   "execution_count": 61,
   "metadata": {},
   "outputs": [
    {
     "data": {
      "text/html": [
       "<style>\n",
       ".list-inline {list-style: none; margin:0; padding: 0}\n",
       ".list-inline>li {display: inline-block}\n",
       ".list-inline>li:not(:last-child)::after {content: \"\\00b7\"; padding: 0 .5ex}\n",
       "</style>\n",
       "<ol class=list-inline><li><time datetime=\"2020-01-01\">2020-01-01</time></li><li><time datetime=\"2020-01-02\">2020-01-02</time></li><li><time datetime=\"2020-01-03\">2020-01-03</time></li></ol>\n"
      ],
      "text/latex": [
       "\\begin{enumerate*}\n",
       "\\item 2020-01-01\n",
       "\\item 2020-01-02\n",
       "\\item 2020-01-03\n",
       "\\end{enumerate*}\n"
      ],
      "text/markdown": [
       "1. 2020-01-01\n",
       "2. 2020-01-02\n",
       "3. 2020-01-03\n",
       "\n",
       "\n"
      ],
      "text/plain": [
       "[1] \"2020-01-01\" \"2020-01-02\" \"2020-01-03\""
      ]
     },
     "metadata": {},
     "output_type": "display_data"
    }
   ],
   "source": [
    "date <- c('2020.01.01', '2020.01.02', '2020.01.03')\n",
    "date %>% ymd"
   ]
  },
  {
   "cell_type": "code",
   "execution_count": 62,
   "metadata": {},
   "outputs": [
    {
     "data": {
      "text/html": [
       "<style>\n",
       ".list-inline {list-style: none; margin:0; padding: 0}\n",
       ".list-inline>li {display: inline-block}\n",
       ".list-inline>li:not(:last-child)::after {content: \"\\00b7\"; padding: 0 .5ex}\n",
       "</style>\n",
       "<ol class=list-inline><li><time datetime=\"2005-01-01\">2005-01-01</time></li><li><time datetime=\"2009-02-13\">2009-02-13</time></li><li><time datetime=\"2007-06-01\">2007-06-01</time></li></ol>\n"
      ],
      "text/latex": [
       "\\begin{enumerate*}\n",
       "\\item 2005-01-01\n",
       "\\item 2009-02-13\n",
       "\\item 2007-06-01\n",
       "\\end{enumerate*}\n"
      ],
      "text/markdown": [
       "1. 2005-01-01\n",
       "2. 2009-02-13\n",
       "3. 2007-06-01\n",
       "\n",
       "\n"
      ],
      "text/plain": [
       "[1] \"2005-01-01\" \"2009-02-13\" \"2007-06-01\""
      ]
     },
     "metadata": {},
     "output_type": "display_data"
    }
   ],
   "source": [
    "date <- c('1/1/2005', '13-02/2009', '01-Jun-2007')\n",
    "date %>% dmy"
   ]
  },
  {
   "cell_type": "markdown",
   "metadata": {},
   "source": [
    "### 4.2. Extracting date part"
   ]
  },
  {
   "cell_type": "code",
   "execution_count": 63,
   "metadata": {},
   "outputs": [],
   "source": [
    "library(lubridate)"
   ]
  },
  {
   "cell_type": "code",
   "execution_count": 64,
   "metadata": {},
   "outputs": [
    {
     "data": {
      "text/html": [
       "<style>\n",
       ".list-inline {list-style: none; margin:0; padding: 0}\n",
       ".list-inline>li {display: inline-block}\n",
       ".list-inline>li:not(:last-child)::after {content: \"\\00b7\"; padding: 0 .5ex}\n",
       "</style>\n",
       "<ol class=list-inline><li><time datetime=\"2020-01-01\">2020-01-01</time></li><li><time datetime=\"2020-02-01\">2020-02-01</time></li><li><time datetime=\"2020-03-01\">2020-03-01</time></li><li><time datetime=\"2020-04-01\">2020-04-01</time></li><li><time datetime=\"2020-05-01\">2020-05-01</time></li><li><time datetime=\"2020-06-01\">2020-06-01</time></li><li><time datetime=\"2020-07-01\">2020-07-01</time></li><li><time datetime=\"2020-08-01\">2020-08-01</time></li><li><time datetime=\"2020-09-01\">2020-09-01</time></li><li><time datetime=\"2020-10-01\">2020-10-01</time></li><li><time datetime=\"2020-11-01\">2020-11-01</time></li><li><time datetime=\"2020-12-01\">2020-12-01</time></li></ol>\n"
      ],
      "text/latex": [
       "\\begin{enumerate*}\n",
       "\\item 2020-01-01\n",
       "\\item 2020-02-01\n",
       "\\item 2020-03-01\n",
       "\\item 2020-04-01\n",
       "\\item 2020-05-01\n",
       "\\item 2020-06-01\n",
       "\\item 2020-07-01\n",
       "\\item 2020-08-01\n",
       "\\item 2020-09-01\n",
       "\\item 2020-10-01\n",
       "\\item 2020-11-01\n",
       "\\item 2020-12-01\n",
       "\\end{enumerate*}\n"
      ],
      "text/markdown": [
       "1. 2020-01-01\n",
       "2. 2020-02-01\n",
       "3. 2020-03-01\n",
       "4. 2020-04-01\n",
       "5. 2020-05-01\n",
       "6. 2020-06-01\n",
       "7. 2020-07-01\n",
       "8. 2020-08-01\n",
       "9. 2020-09-01\n",
       "10. 2020-10-01\n",
       "11. 2020-11-01\n",
       "12. 2020-12-01\n",
       "\n",
       "\n"
      ],
      "text/plain": [
       " [1] \"2020-01-01\" \"2020-02-01\" \"2020-03-01\" \"2020-04-01\" \"2020-05-01\"\n",
       " [6] \"2020-06-01\" \"2020-07-01\" \"2020-08-01\" \"2020-09-01\" \"2020-10-01\"\n",
       "[11] \"2020-11-01\" \"2020-12-01\""
      ]
     },
     "metadata": {},
     "output_type": "display_data"
    }
   ],
   "source": [
    "date <- seq(as.Date('2020-01-01'), as.Date('2020-12-01'), by='month')\n",
    "date"
   ]
  },
  {
   "cell_type": "code",
   "execution_count": 65,
   "metadata": {},
   "outputs": [
    {
     "data": {
      "text/html": [
       "<style>\n",
       ".list-inline {list-style: none; margin:0; padding: 0}\n",
       ".list-inline>li {display: inline-block}\n",
       ".list-inline>li:not(:last-child)::after {content: \"\\00b7\"; padding: 0 .5ex}\n",
       "</style>\n",
       "<ol class=list-inline><li>2020</li><li>2020</li><li>2020</li><li>2020</li><li>2020</li><li>2020</li><li>2020</li><li>2020</li><li>2020</li><li>2020</li><li>2020</li><li>2020</li></ol>\n"
      ],
      "text/latex": [
       "\\begin{enumerate*}\n",
       "\\item 2020\n",
       "\\item 2020\n",
       "\\item 2020\n",
       "\\item 2020\n",
       "\\item 2020\n",
       "\\item 2020\n",
       "\\item 2020\n",
       "\\item 2020\n",
       "\\item 2020\n",
       "\\item 2020\n",
       "\\item 2020\n",
       "\\item 2020\n",
       "\\end{enumerate*}\n"
      ],
      "text/markdown": [
       "1. 2020\n",
       "2. 2020\n",
       "3. 2020\n",
       "4. 2020\n",
       "5. 2020\n",
       "6. 2020\n",
       "7. 2020\n",
       "8. 2020\n",
       "9. 2020\n",
       "10. 2020\n",
       "11. 2020\n",
       "12. 2020\n",
       "\n",
       "\n"
      ],
      "text/plain": [
       " [1] 2020 2020 2020 2020 2020 2020 2020 2020 2020 2020 2020 2020"
      ]
     },
     "metadata": {},
     "output_type": "display_data"
    }
   ],
   "source": [
    "date %>% year"
   ]
  },
  {
   "cell_type": "code",
   "execution_count": 66,
   "metadata": {},
   "outputs": [
    {
     "data": {
      "text/html": [
       "<style>\n",
       ".list-inline {list-style: none; margin:0; padding: 0}\n",
       ".list-inline>li {display: inline-block}\n",
       ".list-inline>li:not(:last-child)::after {content: \"\\00b7\"; padding: 0 .5ex}\n",
       "</style>\n",
       "<ol class=list-inline><li>1</li><li>1</li><li>1</li><li>2</li><li>2</li><li>2</li><li>3</li><li>3</li><li>3</li><li>4</li><li>4</li><li>4</li></ol>\n"
      ],
      "text/latex": [
       "\\begin{enumerate*}\n",
       "\\item 1\n",
       "\\item 1\n",
       "\\item 1\n",
       "\\item 2\n",
       "\\item 2\n",
       "\\item 2\n",
       "\\item 3\n",
       "\\item 3\n",
       "\\item 3\n",
       "\\item 4\n",
       "\\item 4\n",
       "\\item 4\n",
       "\\end{enumerate*}\n"
      ],
      "text/markdown": [
       "1. 1\n",
       "2. 1\n",
       "3. 1\n",
       "4. 2\n",
       "5. 2\n",
       "6. 2\n",
       "7. 3\n",
       "8. 3\n",
       "9. 3\n",
       "10. 4\n",
       "11. 4\n",
       "12. 4\n",
       "\n",
       "\n"
      ],
      "text/plain": [
       " [1] 1 1 1 2 2 2 3 3 3 4 4 4"
      ]
     },
     "metadata": {},
     "output_type": "display_data"
    }
   ],
   "source": [
    "# quarter of year\n",
    "date %>% quarter"
   ]
  },
  {
   "cell_type": "code",
   "execution_count": 67,
   "metadata": {},
   "outputs": [
    {
     "data": {
      "text/html": [
       "<style>\n",
       ".list-inline {list-style: none; margin:0; padding: 0}\n",
       ".list-inline>li {display: inline-block}\n",
       ".list-inline>li:not(:last-child)::after {content: \"\\00b7\"; padding: 0 .5ex}\n",
       "</style>\n",
       "<ol class=list-inline><li>1</li><li>2</li><li>3</li><li>4</li><li>5</li><li>6</li><li>7</li><li>8</li><li>9</li><li>10</li><li>11</li><li>12</li></ol>\n"
      ],
      "text/latex": [
       "\\begin{enumerate*}\n",
       "\\item 1\n",
       "\\item 2\n",
       "\\item 3\n",
       "\\item 4\n",
       "\\item 5\n",
       "\\item 6\n",
       "\\item 7\n",
       "\\item 8\n",
       "\\item 9\n",
       "\\item 10\n",
       "\\item 11\n",
       "\\item 12\n",
       "\\end{enumerate*}\n"
      ],
      "text/markdown": [
       "1. 1\n",
       "2. 2\n",
       "3. 3\n",
       "4. 4\n",
       "5. 5\n",
       "6. 6\n",
       "7. 7\n",
       "8. 8\n",
       "9. 9\n",
       "10. 10\n",
       "11. 11\n",
       "12. 12\n",
       "\n",
       "\n"
      ],
      "text/plain": [
       " [1]  1  2  3  4  5  6  7  8  9 10 11 12"
      ]
     },
     "metadata": {},
     "output_type": "display_data"
    }
   ],
   "source": [
    "date %>% month"
   ]
  },
  {
   "cell_type": "code",
   "execution_count": 68,
   "metadata": {},
   "outputs": [
    {
     "data": {
      "text/html": [
       "<style>\n",
       ".list-inline {list-style: none; margin:0; padding: 0}\n",
       ".list-inline>li {display: inline-block}\n",
       ".list-inline>li:not(:last-child)::after {content: \"\\00b7\"; padding: 0 .5ex}\n",
       "</style>\n",
       "<ol class=list-inline><li>1</li><li>5</li><li>9</li><li>14</li><li>18</li><li>22</li><li>27</li><li>31</li><li>35</li><li>40</li><li>44</li><li>48</li></ol>\n"
      ],
      "text/latex": [
       "\\begin{enumerate*}\n",
       "\\item 1\n",
       "\\item 5\n",
       "\\item 9\n",
       "\\item 14\n",
       "\\item 18\n",
       "\\item 22\n",
       "\\item 27\n",
       "\\item 31\n",
       "\\item 35\n",
       "\\item 40\n",
       "\\item 44\n",
       "\\item 48\n",
       "\\end{enumerate*}\n"
      ],
      "text/markdown": [
       "1. 1\n",
       "2. 5\n",
       "3. 9\n",
       "4. 14\n",
       "5. 18\n",
       "6. 22\n",
       "7. 27\n",
       "8. 31\n",
       "9. 35\n",
       "10. 40\n",
       "11. 44\n",
       "12. 48\n",
       "\n",
       "\n"
      ],
      "text/plain": [
       " [1]  1  5  9 14 18 22 27 31 35 40 44 48"
      ]
     },
     "metadata": {},
     "output_type": "display_data"
    }
   ],
   "source": [
    "# week in year\n",
    "date %>% week"
   ]
  },
  {
   "cell_type": "code",
   "execution_count": 69,
   "metadata": {},
   "outputs": [
    {
     "data": {
      "text/html": [
       "<style>\n",
       ".list-inline {list-style: none; margin:0; padding: 0}\n",
       ".list-inline>li {display: inline-block}\n",
       ".list-inline>li:not(:last-child)::after {content: \"\\00b7\"; padding: 0 .5ex}\n",
       "</style>\n",
       "<ol class=list-inline><li>1</li><li>1</li><li>1</li><li>1</li><li>1</li><li>1</li><li>1</li><li>1</li><li>1</li><li>1</li><li>1</li><li>1</li></ol>\n"
      ],
      "text/latex": [
       "\\begin{enumerate*}\n",
       "\\item 1\n",
       "\\item 1\n",
       "\\item 1\n",
       "\\item 1\n",
       "\\item 1\n",
       "\\item 1\n",
       "\\item 1\n",
       "\\item 1\n",
       "\\item 1\n",
       "\\item 1\n",
       "\\item 1\n",
       "\\item 1\n",
       "\\end{enumerate*}\n"
      ],
      "text/markdown": [
       "1. 1\n",
       "2. 1\n",
       "3. 1\n",
       "4. 1\n",
       "5. 1\n",
       "6. 1\n",
       "7. 1\n",
       "8. 1\n",
       "9. 1\n",
       "10. 1\n",
       "11. 1\n",
       "12. 1\n",
       "\n",
       "\n"
      ],
      "text/plain": [
       " [1] 1 1 1 1 1 1 1 1 1 1 1 1"
      ]
     },
     "metadata": {},
     "output_type": "display_data"
    }
   ],
   "source": [
    "date %>% day"
   ]
  },
  {
   "cell_type": "code",
   "execution_count": 70,
   "metadata": {},
   "outputs": [
    {
     "data": {
      "text/html": [
       "<style>\n",
       ".list-inline {list-style: none; margin:0; padding: 0}\n",
       ".list-inline>li {display: inline-block}\n",
       ".list-inline>li:not(:last-child)::after {content: \"\\00b7\"; padding: 0 .5ex}\n",
       "</style>\n",
       "<ol class=list-inline><li>1</li><li>32</li><li>61</li><li>92</li><li>122</li><li>153</li><li>183</li><li>214</li><li>245</li><li>275</li><li>306</li><li>336</li></ol>\n"
      ],
      "text/latex": [
       "\\begin{enumerate*}\n",
       "\\item 1\n",
       "\\item 32\n",
       "\\item 61\n",
       "\\item 92\n",
       "\\item 122\n",
       "\\item 153\n",
       "\\item 183\n",
       "\\item 214\n",
       "\\item 245\n",
       "\\item 275\n",
       "\\item 306\n",
       "\\item 336\n",
       "\\end{enumerate*}\n"
      ],
      "text/markdown": [
       "1. 1\n",
       "2. 32\n",
       "3. 61\n",
       "4. 92\n",
       "5. 122\n",
       "6. 153\n",
       "7. 183\n",
       "8. 214\n",
       "9. 245\n",
       "10. 275\n",
       "11. 306\n",
       "12. 336\n",
       "\n",
       "\n"
      ],
      "text/plain": [
       " [1]   1  32  61  92 122 153 183 214 245 275 306 336"
      ]
     },
     "metadata": {},
     "output_type": "display_data"
    }
   ],
   "source": [
    "# day of year\n",
    "date %>% yday"
   ]
  },
  {
   "cell_type": "code",
   "execution_count": 71,
   "metadata": {},
   "outputs": [
    {
     "data": {
      "text/html": [
       "<style>\n",
       ".list-inline {list-style: none; margin:0; padding: 0}\n",
       ".list-inline>li {display: inline-block}\n",
       ".list-inline>li:not(:last-child)::after {content: \"\\00b7\"; padding: 0 .5ex}\n",
       "</style>\n",
       "<ol class=list-inline><li>1</li><li>32</li><li>61</li><li>1</li><li>31</li><li>62</li><li>1</li><li>32</li><li>63</li><li>1</li><li>32</li><li>62</li></ol>\n"
      ],
      "text/latex": [
       "\\begin{enumerate*}\n",
       "\\item 1\n",
       "\\item 32\n",
       "\\item 61\n",
       "\\item 1\n",
       "\\item 31\n",
       "\\item 62\n",
       "\\item 1\n",
       "\\item 32\n",
       "\\item 63\n",
       "\\item 1\n",
       "\\item 32\n",
       "\\item 62\n",
       "\\end{enumerate*}\n"
      ],
      "text/markdown": [
       "1. 1\n",
       "2. 32\n",
       "3. 61\n",
       "4. 1\n",
       "5. 31\n",
       "6. 62\n",
       "7. 1\n",
       "8. 32\n",
       "9. 63\n",
       "10. 1\n",
       "11. 32\n",
       "12. 62\n",
       "\n",
       "\n"
      ],
      "text/plain": [
       " [1]  1 32 61  1 31 62  1 32 63  1 32 62"
      ]
     },
     "metadata": {},
     "output_type": "display_data"
    }
   ],
   "source": [
    "# day of quarter\n",
    "date %>% qday"
   ]
  },
  {
   "cell_type": "code",
   "execution_count": 72,
   "metadata": {},
   "outputs": [
    {
     "data": {
      "text/html": [
       "<style>\n",
       ".list-inline {list-style: none; margin:0; padding: 0}\n",
       ".list-inline>li {display: inline-block}\n",
       ".list-inline>li:not(:last-child)::after {content: \"\\00b7\"; padding: 0 .5ex}\n",
       "</style>\n",
       "<ol class=list-inline><li>Wed</li><li>Sat</li><li>Sun</li><li>Wed</li><li>Fri</li><li>Mon</li><li>Wed</li><li>Sat</li><li>Tue</li><li>Thu</li><li>Sun</li><li>Tue</li></ol>\n",
       "\n",
       "<details>\n",
       "\t<summary style=display:list-item;cursor:pointer>\n",
       "\t\t<strong>Levels</strong>:\n",
       "\t</summary>\n",
       "\t<style>\n",
       "\t.list-inline {list-style: none; margin:0; padding: 0}\n",
       "\t.list-inline>li {display: inline-block}\n",
       "\t.list-inline>li:not(:last-child)::after {content: \"\\00b7\"; padding: 0 .5ex}\n",
       "\t</style>\n",
       "\t<ol class=list-inline><li>'Mon'</li><li>'Tue'</li><li>'Wed'</li><li>'Thu'</li><li>'Fri'</li><li>'Sat'</li><li>'Sun'</li></ol>\n",
       "</details>"
      ],
      "text/latex": [
       "\\begin{enumerate*}\n",
       "\\item Wed\n",
       "\\item Sat\n",
       "\\item Sun\n",
       "\\item Wed\n",
       "\\item Fri\n",
       "\\item Mon\n",
       "\\item Wed\n",
       "\\item Sat\n",
       "\\item Tue\n",
       "\\item Thu\n",
       "\\item Sun\n",
       "\\item Tue\n",
       "\\end{enumerate*}\n",
       "\n",
       "\\emph{Levels}: \\begin{enumerate*}\n",
       "\\item 'Mon'\n",
       "\\item 'Tue'\n",
       "\\item 'Wed'\n",
       "\\item 'Thu'\n",
       "\\item 'Fri'\n",
       "\\item 'Sat'\n",
       "\\item 'Sun'\n",
       "\\end{enumerate*}\n"
      ],
      "text/markdown": [
       "1. Wed\n",
       "2. Sat\n",
       "3. Sun\n",
       "4. Wed\n",
       "5. Fri\n",
       "6. Mon\n",
       "7. Wed\n",
       "8. Sat\n",
       "9. Tue\n",
       "10. Thu\n",
       "11. Sun\n",
       "12. Tue\n",
       "\n",
       "\n",
       "\n",
       "**Levels**: 1. 'Mon'\n",
       "2. 'Tue'\n",
       "3. 'Wed'\n",
       "4. 'Thu'\n",
       "5. 'Fri'\n",
       "6. 'Sat'\n",
       "7. 'Sun'\n",
       "\n",
       "\n"
      ],
      "text/plain": [
       " [1] Wed Sat Sun Wed Fri Mon Wed Sat Tue Thu Sun Tue\n",
       "Levels: Mon < Tue < Wed < Thu < Fri < Sat < Sun"
      ]
     },
     "metadata": {},
     "output_type": "display_data"
    }
   ],
   "source": [
    "# weekday\n",
    "date %>% wday(label=T, abbr=T, week_start=1)"
   ]
  },
  {
   "cell_type": "markdown",
   "metadata": {},
   "source": [
    "### 4.3. Timedelta"
   ]
  },
  {
   "cell_type": "code",
   "execution_count": 73,
   "metadata": {},
   "outputs": [],
   "source": [
    "library(lubridate)"
   ]
  },
  {
   "cell_type": "code",
   "execution_count": 74,
   "metadata": {},
   "outputs": [
    {
     "data": {
      "text/html": [
       "<table>\n",
       "<caption>A data.frame: 11 × 2</caption>\n",
       "<thead>\n",
       "\t<tr><th scope=col>date1</th><th scope=col>date2</th></tr>\n",
       "\t<tr><th scope=col>&lt;date&gt;</th><th scope=col>&lt;date&gt;</th></tr>\n",
       "</thead>\n",
       "<tbody>\n",
       "\t<tr><td>2020-01-01</td><td>2020-01-02</td></tr>\n",
       "\t<tr><td>2020-01-04</td><td>2020-01-09</td></tr>\n",
       "\t<tr><td>2020-01-07</td><td>2020-01-16</td></tr>\n",
       "\t<tr><td>2020-01-10</td><td>2020-01-23</td></tr>\n",
       "\t<tr><td>2020-01-13</td><td>2020-01-30</td></tr>\n",
       "\t<tr><td>2020-01-16</td><td>2020-02-06</td></tr>\n",
       "\t<tr><td>2020-01-19</td><td>2020-02-13</td></tr>\n",
       "\t<tr><td>2020-01-22</td><td>2020-02-20</td></tr>\n",
       "\t<tr><td>2020-01-25</td><td>2020-02-27</td></tr>\n",
       "\t<tr><td>2020-01-28</td><td>2020-03-05</td></tr>\n",
       "\t<tr><td>2020-01-31</td><td>2020-03-12</td></tr>\n",
       "</tbody>\n",
       "</table>\n"
      ],
      "text/latex": [
       "A data.frame: 11 × 2\n",
       "\\begin{tabular}{ll}\n",
       " date1 & date2\\\\\n",
       " <date> & <date>\\\\\n",
       "\\hline\n",
       "\t 2020-01-01 & 2020-01-02\\\\\n",
       "\t 2020-01-04 & 2020-01-09\\\\\n",
       "\t 2020-01-07 & 2020-01-16\\\\\n",
       "\t 2020-01-10 & 2020-01-23\\\\\n",
       "\t 2020-01-13 & 2020-01-30\\\\\n",
       "\t 2020-01-16 & 2020-02-06\\\\\n",
       "\t 2020-01-19 & 2020-02-13\\\\\n",
       "\t 2020-01-22 & 2020-02-20\\\\\n",
       "\t 2020-01-25 & 2020-02-27\\\\\n",
       "\t 2020-01-28 & 2020-03-05\\\\\n",
       "\t 2020-01-31 & 2020-03-12\\\\\n",
       "\\end{tabular}\n"
      ],
      "text/markdown": [
       "\n",
       "A data.frame: 11 × 2\n",
       "\n",
       "| date1 &lt;date&gt; | date2 &lt;date&gt; |\n",
       "|---|---|\n",
       "| 2020-01-01 | 2020-01-02 |\n",
       "| 2020-01-04 | 2020-01-09 |\n",
       "| 2020-01-07 | 2020-01-16 |\n",
       "| 2020-01-10 | 2020-01-23 |\n",
       "| 2020-01-13 | 2020-01-30 |\n",
       "| 2020-01-16 | 2020-02-06 |\n",
       "| 2020-01-19 | 2020-02-13 |\n",
       "| 2020-01-22 | 2020-02-20 |\n",
       "| 2020-01-25 | 2020-02-27 |\n",
       "| 2020-01-28 | 2020-03-05 |\n",
       "| 2020-01-31 | 2020-03-12 |\n",
       "\n"
      ],
      "text/plain": [
       "   date1      date2     \n",
       "1  2020-01-01 2020-01-02\n",
       "2  2020-01-04 2020-01-09\n",
       "3  2020-01-07 2020-01-16\n",
       "4  2020-01-10 2020-01-23\n",
       "5  2020-01-13 2020-01-30\n",
       "6  2020-01-16 2020-02-06\n",
       "7  2020-01-19 2020-02-13\n",
       "8  2020-01-22 2020-02-20\n",
       "9  2020-01-25 2020-02-27\n",
       "10 2020-01-28 2020-03-05\n",
       "11 2020-01-31 2020-03-12"
      ]
     },
     "metadata": {},
     "output_type": "display_data"
    }
   ],
   "source": [
    "date1 <- seq(as.Date('2020-01-01'),as.Date('2020-01-31'), by=3)\n",
    "date2 <- seq(as.Date('2020-01-02'),as.Date('2020-03-15'), by='week')\n",
    "\n",
    "delta <- data.frame(date1, date2)\n",
    "delta"
   ]
  },
  {
   "cell_type": "code",
   "execution_count": 75,
   "metadata": {},
   "outputs": [],
   "source": [
    "delta$timedelta = delta$date2 - delta$date1"
   ]
  },
  {
   "cell_type": "code",
   "execution_count": 76,
   "metadata": {},
   "outputs": [
    {
     "data": {
      "text/html": [
       "<table>\n",
       "<caption>A data.frame: 11 × 4</caption>\n",
       "<thead>\n",
       "\t<tr><th scope=col>date1</th><th scope=col>date2</th><th scope=col>timedelta</th><th scope=col>date3</th></tr>\n",
       "\t<tr><th scope=col>&lt;date&gt;</th><th scope=col>&lt;date&gt;</th><th scope=col>&lt;drtn&gt;</th><th scope=col>&lt;date&gt;</th></tr>\n",
       "</thead>\n",
       "<tbody>\n",
       "\t<tr><td>2020-01-01</td><td>2020-01-02</td><td> 1 days</td><td>2020-01-16</td></tr>\n",
       "\t<tr><td>2020-01-04</td><td>2020-01-09</td><td> 5 days</td><td>2020-01-19</td></tr>\n",
       "\t<tr><td>2020-01-07</td><td>2020-01-16</td><td> 9 days</td><td>2020-01-22</td></tr>\n",
       "\t<tr><td>2020-01-10</td><td>2020-01-23</td><td>13 days</td><td>2020-01-25</td></tr>\n",
       "\t<tr><td>2020-01-13</td><td>2020-01-30</td><td>17 days</td><td>2020-01-28</td></tr>\n",
       "\t<tr><td>2020-01-16</td><td>2020-02-06</td><td>21 days</td><td>2020-01-31</td></tr>\n",
       "\t<tr><td>2020-01-19</td><td>2020-02-13</td><td>25 days</td><td>2020-02-03</td></tr>\n",
       "\t<tr><td>2020-01-22</td><td>2020-02-20</td><td>29 days</td><td>2020-02-06</td></tr>\n",
       "\t<tr><td>2020-01-25</td><td>2020-02-27</td><td>33 days</td><td>2020-02-09</td></tr>\n",
       "\t<tr><td>2020-01-28</td><td>2020-03-05</td><td>37 days</td><td>2020-02-12</td></tr>\n",
       "\t<tr><td>2020-01-31</td><td>2020-03-12</td><td>41 days</td><td>2020-02-15</td></tr>\n",
       "</tbody>\n",
       "</table>\n"
      ],
      "text/latex": [
       "A data.frame: 11 × 4\n",
       "\\begin{tabular}{llll}\n",
       " date1 & date2 & timedelta & date3\\\\\n",
       " <date> & <date> & <drtn> & <date>\\\\\n",
       "\\hline\n",
       "\t 2020-01-01 & 2020-01-02 &  1 days & 2020-01-16\\\\\n",
       "\t 2020-01-04 & 2020-01-09 &  5 days & 2020-01-19\\\\\n",
       "\t 2020-01-07 & 2020-01-16 &  9 days & 2020-01-22\\\\\n",
       "\t 2020-01-10 & 2020-01-23 & 13 days & 2020-01-25\\\\\n",
       "\t 2020-01-13 & 2020-01-30 & 17 days & 2020-01-28\\\\\n",
       "\t 2020-01-16 & 2020-02-06 & 21 days & 2020-01-31\\\\\n",
       "\t 2020-01-19 & 2020-02-13 & 25 days & 2020-02-03\\\\\n",
       "\t 2020-01-22 & 2020-02-20 & 29 days & 2020-02-06\\\\\n",
       "\t 2020-01-25 & 2020-02-27 & 33 days & 2020-02-09\\\\\n",
       "\t 2020-01-28 & 2020-03-05 & 37 days & 2020-02-12\\\\\n",
       "\t 2020-01-31 & 2020-03-12 & 41 days & 2020-02-15\\\\\n",
       "\\end{tabular}\n"
      ],
      "text/markdown": [
       "\n",
       "A data.frame: 11 × 4\n",
       "\n",
       "| date1 &lt;date&gt; | date2 &lt;date&gt; | timedelta &lt;drtn&gt; | date3 &lt;date&gt; |\n",
       "|---|---|---|---|\n",
       "| 2020-01-01 | 2020-01-02 |  1 days | 2020-01-16 |\n",
       "| 2020-01-04 | 2020-01-09 |  5 days | 2020-01-19 |\n",
       "| 2020-01-07 | 2020-01-16 |  9 days | 2020-01-22 |\n",
       "| 2020-01-10 | 2020-01-23 | 13 days | 2020-01-25 |\n",
       "| 2020-01-13 | 2020-01-30 | 17 days | 2020-01-28 |\n",
       "| 2020-01-16 | 2020-02-06 | 21 days | 2020-01-31 |\n",
       "| 2020-01-19 | 2020-02-13 | 25 days | 2020-02-03 |\n",
       "| 2020-01-22 | 2020-02-20 | 29 days | 2020-02-06 |\n",
       "| 2020-01-25 | 2020-02-27 | 33 days | 2020-02-09 |\n",
       "| 2020-01-28 | 2020-03-05 | 37 days | 2020-02-12 |\n",
       "| 2020-01-31 | 2020-03-12 | 41 days | 2020-02-15 |\n",
       "\n"
      ],
      "text/plain": [
       "   date1      date2      timedelta date3     \n",
       "1  2020-01-01 2020-01-02  1 days   2020-01-16\n",
       "2  2020-01-04 2020-01-09  5 days   2020-01-19\n",
       "3  2020-01-07 2020-01-16  9 days   2020-01-22\n",
       "4  2020-01-10 2020-01-23 13 days   2020-01-25\n",
       "5  2020-01-13 2020-01-30 17 days   2020-01-28\n",
       "6  2020-01-16 2020-02-06 21 days   2020-01-31\n",
       "7  2020-01-19 2020-02-13 25 days   2020-02-03\n",
       "8  2020-01-22 2020-02-20 29 days   2020-02-06\n",
       "9  2020-01-25 2020-02-27 33 days   2020-02-09\n",
       "10 2020-01-28 2020-03-05 37 days   2020-02-12\n",
       "11 2020-01-31 2020-03-12 41 days   2020-02-15"
      ]
     },
     "metadata": {},
     "output_type": "display_data"
    }
   ],
   "source": [
    "delta$date3 = delta$date1 + days(15)\n",
    "delta"
   ]
  }
 ],
 "metadata": {
  "kernelspec": {
   "display_name": "R",
   "language": "R",
   "name": "ir"
  },
  "language_info": {
   "codemirror_mode": "r",
   "file_extension": ".r",
   "mimetype": "text/x-r-source",
   "name": "R",
   "pygments_lexer": "r",
   "version": "4.1.3"
  },
  "toc-autonumbering": false
 },
 "nbformat": 4,
 "nbformat_minor": 4
}
