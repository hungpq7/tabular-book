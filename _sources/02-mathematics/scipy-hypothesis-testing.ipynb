{
 "cells": [
  {
   "cell_type": "markdown",
   "metadata": {},
   "source": [
    "# SciPy: Hypothesis Testing"
   ]
  },
  {
   "cell_type": "code",
   "execution_count": 1,
   "metadata": {
    "colab": {
     "base_uri": "https://localhost:8080/"
    },
    "id": "5aGY_tGzipDo",
    "outputId": "bbbdb553-91da-4702-b87c-ede2a9346878"
   },
   "outputs": [],
   "source": [
    "import warnings\n",
    "warnings.filterwarnings(\"ignore\")\n",
    "\n",
    "import numpy as np\n",
    "import pandas as pd\n",
    "from scipy import stats\n",
    "import pingouin as pg"
   ]
  },
  {
   "cell_type": "markdown",
   "metadata": {},
   "source": [
    "## 1. Overview"
   ]
  },
  {
   "cell_type": "markdown",
   "metadata": {},
   "source": [
    "### 1.1. Basic concepts\n",
    "[Hypothesis testing](https://en.wikipedia.org/wiki/Statistical_hypothesis_testing) is a method of statistical inference that tests the validity of a claim about the population, using sample data. It makes use of the following concepts."
   ]
  },
  {
   "cell_type": "markdown",
   "metadata": {},
   "source": [
    "#### Hypotheses\n",
    "- The [null hypothesis] (denoted $H_0$): a common view whose validity needs to be tested.\n",
    "- The [alternative hypothesis] (denoted $H_1$): what will be believed if $H_0$ is rejected.\n",
    "\n",
    "[null hypothesis]: https://en.wikipedia.org/wiki/Null_hypothesis\n",
    "[alternative hypothesis]: https://en.wikipedia.org/wiki/Alternative_hypothesis"
   ]
  },
  {
   "cell_type": "markdown",
   "metadata": {},
   "source": [
    "#### Significance level\n",
    "[Significance level] (denoted $\\alpha$) is a pre-selected number ranges from $0$ to $1$, indicates the probability of rejecting the null hypothesis. Common values of $\\alpha$ is $0.05$ and $0.01$. A related concept to significance level is [confidence level] (denoted $\\gamma=1-\\alpha$). Each significance level corresponds to a critical value ($c$).\n",
    "\n",
    "[Significance level]: https://en.wikipedia.org/wiki/Statistical_significance\n",
    "[confidence level]: https://en.wikipedia.org/wiki/Confidence_interval"
   ]
  },
  {
   "cell_type": "markdown",
   "metadata": {},
   "source": [
    "#### Test statistic\n",
    "Being one of the most important factors, [test statistic](https://en.wikipedia.org/wiki/Test_statistic) (denoted $T$) is the transformed data that follows a theoretical distribution. Since the probability distribution function is known, it allows calculating the probability value, telling which hypothesis is more likely to happen. Each test statistic is represented by a fraction where:\n",
    "- The numerator is the power of signal\n",
    "- The denominator is the power of noise\n",
    "\n",
    "[test statistic]: https://en.wikipedia.org/wiki/Test_statistic"
   ]
  },
  {
   "cell_type": "markdown",
   "metadata": {},
   "source": [
    "#### p-value\n",
    "[p-value] is the probability of making [type I error] - rejecting $H_0$ when it's true. It represents the probability of $H_0$ being true, and when this probability is less than $\\alpha$, $H_0$ should be rejected. The smaller the p-value is, the stronger the evidence that $H_0$ should be rejected.\n",
    "- A p-value less than $0.05$ indicates the difference is significant, meaning there is a probability of less than $5\\%$ that the null hypothesis is correct. Therefore, $H_0$ is rejected and $H_1$ is accepted.\n",
    "- A p-value higher than $0.05$ indicates the difference is not significant. In this case, $H_1$ is rejected but $H_0$ is failed to be rejected.\n",
    "\n",
    "[p-value]: https://en.wikipedia.org/wiki/P-value\n",
    "[type I error]: https://en.wikipedia.org/wiki/Type_I_and_type_II_errors"
   ]
  },
  {
   "cell_type": "code",
   "execution_count": 36,
   "metadata": {
    "tags": [
     "remove-cell"
    ]
   },
   "outputs": [],
   "source": [
    "from scipy import stats\n",
    "import numpy as np"
   ]
  },
  {
   "cell_type": "code",
   "execution_count": 36,
   "metadata": {},
   "outputs": [],
   "source": [
    "mu, std = 0, 1\n",
    "dist = stats.norm(mu, std)"
   ]
  },
  {
   "cell_type": "code",
   "execution_count": 28,
   "metadata": {},
   "outputs": [
    {
     "data": {
      "text/plain": [
       "1.9599639845400545"
      ]
     },
     "execution_count": 28,
     "metadata": {},
     "output_type": "execute_result"
    }
   ],
   "source": [
    "# compute critical value (c) given a significance level (alpha)\n",
    "# 2-tailed test\n",
    "alpha = 0.05\n",
    "crit = dist.isf(alpha/2)\n",
    "crit"
   ]
  },
  {
   "cell_type": "code",
   "execution_count": 35,
   "metadata": {},
   "outputs": [
    {
     "data": {
      "text/plain": [
       "0.04999579029644087"
      ]
     },
     "execution_count": 35,
     "metadata": {},
     "output_type": "execute_result"
    }
   ],
   "source": [
    "# compute p-value (p) given a test statistic (t)\n",
    "# 2-tailed test\n",
    "test = 1.96\n",
    "test = np.abs(test)\n",
    "pval = dist.cdf(-test) + dist.sf(test)\n",
    "pval"
   ]
  },
  {
   "cell_type": "markdown",
   "metadata": {},
   "source": [
    "#### Descriptive statistics\n",
    "For populations:\n",
    "- $N$: population size\n",
    "- $\\mu$: population mean\n",
    "- $\\sigma$: population standard deviation\n",
    "- $\\sigma^2$: population variance\n",
    "- $p$: proportion of successes in population\n",
    "\n",
    "For samples:\n",
    "- $n$: sample size\n",
    "- $\\hat\\mu$ or $\\bar x$: sample mean\n",
    "- $\\hat\\sigma$ or $\\mbox{SD}$: sample standard deviation\n",
    "- $\\hat\\sigma^2$ or $s^2$: sample variance\n",
    "- $\\hat p$: proportion of successes in sample\n",
    "- $\\mbox{SE}_{\\mu}$: standard error of mean\n",
    "- $\\mbox{SE}_p$: standard error of proportion"
   ]
  },
  {
   "cell_type": "markdown",
   "metadata": {},
   "source": [
    "### 1.2. Hypothesis testing summary\n",
    "Type  |Usage\n",
    ":----------|:--------------\n",
    "Z-test|Comparing population means or proportions\n",
    "F-test|Comparing the variances of 2 populations\n",
    "t-test|Comparing the means of 1 or 2 populations\n",
    "Chi-squared test|Testing of qualitative variables replationship\n",
    "ANOVA|Comparing the means of 3 population or more\n",
    "KS test|Testing of distribution"
   ]
  },
  {
   "cell_type": "markdown",
   "metadata": {
    "id": "ug6QBWgviuiz"
   },
   "source": [
    "## 1. Z-test\n",
    "The usage of [Z-test]:\n",
    "- Comparing the mean of a population with a specific number or comparing the means of two populations\n",
    "- Comparing the proportion of a population with a specific number or comparing the proportions of two populations\n",
    "\n",
    "Assumptions:\n",
    "- Populations are normally distributed\n",
    "- Samples are random and must have more than 30 observations\n",
    "- Population variances are already known (only in mean Z-test)\n",
    "\n",
    "[Z-test]: https://en.wikipedia.org/wiki/Z-test"
   ]
  },
  {
   "cell_type": "code",
   "execution_count": 2,
   "metadata": {
    "colab": {
     "base_uri": "https://localhost:8080/"
    },
    "execution": {
     "iopub.execute_input": "2023-01-21T02:23:50.541623Z",
     "iopub.status.busy": "2023-01-21T02:23:50.541141Z",
     "iopub.status.idle": "2023-01-21T02:23:50.545460Z",
     "shell.execute_reply": "2023-01-21T02:23:50.544727Z",
     "shell.execute_reply.started": "2023-01-21T02:23:50.541596Z"
    },
    "id": "5aGY_tGzipDo",
    "outputId": "bbbdb553-91da-4702-b87c-ede2a9346878",
    "tags": [
     "remove-cell"
    ]
   },
   "outputs": [],
   "source": [
    "import numpy as np\n",
    "import pandas as pd\n",
    "from scipy import stats"
   ]
  },
  {
   "cell_type": "code",
   "execution_count": 4,
   "metadata": {
    "colab": {
     "base_uri": "https://localhost:8080/",
     "height": 224
    },
    "execution": {
     "iopub.execute_input": "2023-01-21T02:23:57.055958Z",
     "iopub.status.busy": "2023-01-21T02:23:57.055614Z",
     "iopub.status.idle": "2023-01-21T02:23:57.069102Z",
     "shell.execute_reply": "2023-01-21T02:23:57.068135Z",
     "shell.execute_reply.started": "2023-01-21T02:23:57.055933Z"
    },
    "id": "fs_rCPNBP-UF",
    "outputId": "df4e484a-2a39-46ef-a887-5a2e09ee2c1e",
    "tags": []
   },
   "outputs": [
    {
     "data": {
      "text/html": [
       "<div>\n",
       "<style scoped>\n",
       "    .dataframe tbody tr th:only-of-type {\n",
       "        vertical-align: middle;\n",
       "    }\n",
       "\n",
       "    .dataframe tbody tr th {\n",
       "        vertical-align: top;\n",
       "    }\n",
       "\n",
       "    .dataframe thead th {\n",
       "        text-align: right;\n",
       "    }\n",
       "</style>\n",
       "<table border=\"1\" class=\"dataframe\">\n",
       "  <thead>\n",
       "    <tr style=\"text-align: right;\">\n",
       "      <th></th>\n",
       "      <th>id</th>\n",
       "      <th>area</th>\n",
       "      <th>gender</th>\n",
       "      <th>age</th>\n",
       "      <th>age_group</th>\n",
       "      <th>degree</th>\n",
       "      <th>job</th>\n",
       "      <th>income</th>\n",
       "    </tr>\n",
       "  </thead>\n",
       "  <tbody>\n",
       "    <tr>\n",
       "      <th>0</th>\n",
       "      <td>1</td>\n",
       "      <td>central</td>\n",
       "      <td>female</td>\n",
       "      <td>69</td>\n",
       "      <td>middle</td>\n",
       "      <td>master</td>\n",
       "      <td>manager</td>\n",
       "      <td>33250</td>\n",
       "    </tr>\n",
       "    <tr>\n",
       "      <th>1</th>\n",
       "      <td>2</td>\n",
       "      <td>southern</td>\n",
       "      <td>female</td>\n",
       "      <td>50</td>\n",
       "      <td>middle</td>\n",
       "      <td>highshool</td>\n",
       "      <td>officer</td>\n",
       "      <td>6960</td>\n",
       "    </tr>\n",
       "    <tr>\n",
       "      <th>2</th>\n",
       "      <td>3</td>\n",
       "      <td>northern</td>\n",
       "      <td>male</td>\n",
       "      <td>73</td>\n",
       "      <td>elder</td>\n",
       "      <td>highshool</td>\n",
       "      <td>officer</td>\n",
       "      <td>11100</td>\n",
       "    </tr>\n",
       "    <tr>\n",
       "      <th>3</th>\n",
       "      <td>4</td>\n",
       "      <td>northern</td>\n",
       "      <td>female</td>\n",
       "      <td>73</td>\n",
       "      <td>elder</td>\n",
       "      <td>highshool</td>\n",
       "      <td>officer</td>\n",
       "      <td>11100</td>\n",
       "    </tr>\n",
       "    <tr>\n",
       "      <th>4</th>\n",
       "      <td>5</td>\n",
       "      <td>central</td>\n",
       "      <td>male</td>\n",
       "      <td>69</td>\n",
       "      <td>middle</td>\n",
       "      <td>master</td>\n",
       "      <td>officer</td>\n",
       "      <td>16140</td>\n",
       "    </tr>\n",
       "  </tbody>\n",
       "</table>\n",
       "</div>"
      ],
      "text/plain": [
       "   id      area  gender  age age_group     degree      job  income\n",
       "0   1   central  female   69    middle     master  manager   33250\n",
       "1   2  southern  female   50    middle  highshool  officer    6960\n",
       "2   3  northern    male   73     elder  highshool  officer   11100\n",
       "3   4  northern  female   73     elder  highshool  officer   11100\n",
       "4   5   central    male   69    middle     master  officer   16140"
      ]
     },
     "execution_count": 4,
     "metadata": {},
     "output_type": "execute_result"
    }
   ],
   "source": [
    "columns = ['age', 'gender', 'income', 'age_group', 'degree', 'area', 'id', 'job']\n",
    "df = pd.read_csv('../data/hypothesis.csv', usecols=columns)\n",
    "df.head()"
   ]
  },
  {
   "cell_type": "code",
   "execution_count": 47,
   "metadata": {
    "tags": [
     "hide-cell"
    ]
   },
   "outputs": [],
   "source": [
    "def compute_pvalue(testStat, distribution, alternative):\n",
    "    if alternative in ['two-sided', '2s', 'other than']:\n",
    "        signH1 = '!='\n",
    "        pValue = distribution.sf(np.abs(testStat)) * 2\n",
    "    elif alternative in ['larger', 'right']:\n",
    "        signH1 = '>'\n",
    "        pValue = distribution.sf(testStat)\n",
    "    elif alternative in ['smaller', 'left']:\n",
    "        signH1 = '<'\n",
    "        pValue = distribution.cdf(testStat)\n",
    "    return signH1, pValue\n",
    "\n",
    "def process_decision(pValue, alpha):\n",
    "    if pValue <= alpha:\n",
    "        signTest = '<'\n",
    "        mess = 'reject Null Hypothesis'\n",
    "    elif pValue > alpha:\n",
    "        signTest = '>'\n",
    "        mess = 'fail to reject Null Hypothesis'\n",
    "    return signTest, mess"
   ]
  },
  {
   "cell_type": "code",
   "execution_count": 50,
   "metadata": {},
   "outputs": [],
   "source": [
    "def ZTestMean(x1, var1, x2=None, var2=None, A=0, alternative='two-sided', alpha=0.05):\n",
    "    # compute x1 statistics\n",
    "    x1 = np.array(x1)\n",
    "    mu1, n1 = x1.mean(), x1.size\n",
    "    \n",
    "    # compute x2 statistics\n",
    "    if x2 is not None and var2 is not None:\n",
    "        x2 = np.array(x2)\n",
    "        mu2, n2 = x2.mean(), x2.size\n",
    "        objective = 'mean1 - mean2'\n",
    "    elif x2 is None and var2 is None:\n",
    "        var2 = 0\n",
    "        mu2, n2 = 0, np.inf\n",
    "        objective = 'mean'\n",
    "    \n",
    "    # compute test statistic\n",
    "    se = np.sqrt(var1/n1 + var2/n2)\n",
    "    testStat = (mu1-mu2-A) / se\n",
    "    \n",
    "    # compute p-value\n",
    "    signH1, pValue = compute_pvalue(testStat, stats.norm, alternative)\n",
    "    \n",
    "    # make decision\n",
    "    signTest, mess = process_decision(pValue, alpha)\n",
    "    \n",
    "    print(\n",
    "        f'Alternative Hypothesis: {objective} {signH1} {A}' '\\n'\n",
    "        f'p-value = {pValue:.4f} {signTest} {alpha} --> {mess}'\n",
    "    )"
   ]
  },
  {
   "cell_type": "code",
   "execution_count": 51,
   "metadata": {},
   "outputs": [],
   "source": [
    "def ZTestProportion(p1, n1, p2=None, n2=None, A=0, alternative='two-sided', alpha=0.05):\n",
    "    # compute x2 statistics\n",
    "    if p2 is not None and n2 is not None:\n",
    "        objective = 'p1 - p2'\n",
    "    elif p2 is None and n2 is None:\n",
    "        p2, n2 = 0, np.inf\n",
    "        objective = 'p'\n",
    "    \n",
    "    # compute test statistic\n",
    "    se = np.sqrt(p1*(1-p1)/n1 + p2*(1-p2)/n2)\n",
    "    testStat = (p1-p2-A) / se\n",
    "        \n",
    "    # compute p-value\n",
    "    signH1, pValue = compute_pvalue(testStat, stats.norm, alternative)\n",
    "    \n",
    "    # make decision\n",
    "    signTest, mess = process_decision(pValue, alpha)\n",
    "    \n",
    "    print(\n",
    "        f'Alternative Hypothesis: {objective} {signH1} {A}' '\\n'\n",
    "        f'p-value = {pValue:.4f} {signTest} {alpha} --> {mess}'\n",
    "    )"
   ]
  },
  {
   "cell_type": "markdown",
   "metadata": {
    "id": "ho6WereOi18h"
   },
   "source": [
    "### 1.1. One-sample mean\n",
    ":::{admonition} Case study\n",
    ":class: seealso\n",
    "\n",
    "Given a random sample sized $N=500$ of people's income from a population having the standard deviation $\\sigma=5000$. With the significant level $\\alpha=0.05$, can we conclude that the mean of the population $\\mu=A=14000$?\n",
    "\n",
    "First, state the hypotheses from the information:\n",
    "- $H_0: \\mu = 14000$\n",
    "- $H_1: \\mu \\neq 14000$\n",
    "\n",
    "Since it is a two-tailed test, the critical value will be $z_{\\alpha/2}=z_{0.025} = 1.96$. If $|T|>1.96$, reject $H_0$ and accept $H_1$. However, in this example, $|T|=0.63$ and the corresponding p-value is $0.2643$, so $H_0$ cannot be rejected. The formula for the test statistic is:\n",
    "\n",
    "$$T = \\frac{\\hat{\\mu}-A}{\\mbox{SE}_{\\mu}}\\quad\\text{for } \\text{SE}_\\mu = \\sqrt{\\frac{\\sigma^2}{N}}$$\n",
    "\n",
    ":::"
   ]
  },
  {
   "cell_type": "code",
   "execution_count": 39,
   "metadata": {},
   "outputs": [
    {
     "name": "stdout",
     "output_type": "stream",
     "text": [
      "Alternative Hypothesis: mean != 59\n",
      "p-value = 0.1384 > 0.05 --> fail to reject Null Hypothesis\n"
     ]
    }
   ],
   "source": [
    "ZTestMean(df.age, var1=140, A=59)"
   ]
  },
  {
   "cell_type": "markdown",
   "metadata": {},
   "source": [
    "### 1.2. Two-sample mean\n",
    ":::{admonition} Case study\n",
    ":class: seealso\n",
    "\n",
    "The average income of male is $5000$ higher than female, true or false? Given $\\alpha = 0.05$, population standard deviations of income of male and female are $\\sigma_1=7000$ and $\\sigma_2=5000$, consecutively.\n",
    "\n",
    "The hypotheses:\n",
    "- $H_0: \\mu_1 = \\mu_2+5000$\n",
    "- $H_1: \\mu_1 > \\mu_2+5000$\n",
    "\n",
    "This is a right-tailed test, $z_{\\alpha}=z_{0.05} = 1.64$ will be taken. If $T>1.64$, reject $H_0$ and conclude that the average income of male is higher than female. In this example, $T=2.57$ and the corresponding p-value is $0.0051$. The formula for the test statistic is:\n",
    "\n",
    "$$T=\\frac{(\\hat{\\mu}_1-\\hat{\\mu}_2)-A}{\\mbox{SE}_{\\mu}}\n",
    "\\quad\\text{for }\\text{SE}_\\mu=\\sqrt{\\frac{\\sigma_1^2}{N_1}+\\frac{\\sigma_2^2}{N_2}}$$\n",
    "\n",
    ":::"
   ]
  },
  {
   "cell_type": "code",
   "execution_count": 32,
   "metadata": {},
   "outputs": [
    {
     "name": "stdout",
     "output_type": "stream",
     "text": [
      "Alternative Hypothesis: mean1 - mean2 != 5000\n",
      "p-value = 0.0101 < 0.05 --> reject Null Hypothesis\n"
     ]
    }
   ],
   "source": [
    "x1 = df.query('gender==\"male\"').income\n",
    "x2 = df.query('gender==\"female\"').income\n",
    "\n",
    "ZTestMean(x1=x1, x2=x2, var1=7000**2, var2=5000**2, A=5000, alternative='2s')"
   ]
  },
  {
   "cell_type": "markdown",
   "metadata": {},
   "source": [
    "### 1.3. One-sample proportion\n",
    ":::{admonition} Case study\n",
    ":class: seealso\n",
    "\n",
    "In a large consignment of food packets, a random sample of $n=100$ packets revealed that 5 packets were leaking. Can we conclude that the population contains at least $A=10\\%$ of leaked packets at $\\alpha=0.05$?\n",
    "\n",
    "The hypotheses:\n",
    "- $H_0: p\\geq0.1$\n",
    "- $H_1: p<0.1$\n",
    "\n",
    "This is a left-tailed test, $H_0$ will be rejected if $T<-z_{0.05}=-1.64$. For $T=-2.294$, the corresponding p-value is $0.011$ ($<0.05$). The formula for the test statistic is:\n",
    "\n",
    "$$T = \\frac{\\hat{p}-A}{\\mbox{SE}_p}\n",
    "\\quad\\text{for }\\text{SE}_p=\\sqrt{\\frac{\\hat{p}(1-\\hat{p})}{N}}$$\n",
    "\n",
    ":::"
   ]
  },
  {
   "cell_type": "code",
   "execution_count": 45,
   "metadata": {},
   "outputs": [
    {
     "name": "stdout",
     "output_type": "stream",
     "text": [
      "Alternative Hypothesis: p != 0.1\n",
      "p-value = 0.0218 < 0.05 --> reject Null Hypothesis\n"
     ]
    }
   ],
   "source": [
    "ZTestProportion(p1=5/100, n1=100, A=0.1)"
   ]
  },
  {
   "cell_type": "markdown",
   "metadata": {},
   "source": [
    "### 1.4. Two-sample proportion\n",
    ":::{admonition} Case study\n",
    ":class: seealso\n",
    "\n",
    "A machine turns out 16 imperfect articles in a sample of $n_1=500$. After maintaining, it turns 3 imperfect articles in a sample of $n_2=100$. Has the machine improved after maintaining at the significance level of $\\alpha=0.05$?\n",
    "\n",
    "The hypotheses:\n",
    "- $H_0: p_1=p_2$\n",
    "- $H_1: p_1>p_2$\n",
    "\n",
    "If $T>z_{0.05}=1.64$, reject $H_0$. The formula for the test statistic is:\n",
    "\n",
    "$$T = \\frac{(\\hat{p}_1-\\hat{p}_2)-A}{\\mbox{SE}_p}\n",
    "\\quad\\text{for }\\text{SE}_p=\\sqrt{\\frac{\\hat{p}_1(1-\\hat{p}_1)}{N_1}+\\frac{\\hat{p}_2(1-\\hat{p}_2)}{N_2}}$$\n",
    "\n",
    ":::"
   ]
  },
  {
   "cell_type": "code",
   "execution_count": 46,
   "metadata": {},
   "outputs": [
    {
     "name": "stdout",
     "output_type": "stream",
     "text": [
      "Alternative Hypothesis: p1 - p2 != 0\n",
      "p-value = 0.9152 > 0.05 --> fail to reject Null Hypothesis\n"
     ]
    }
   ],
   "source": [
    "ZTestProportion(p1=16/500, n1=500, p2=3/100, n2=100, A=0)"
   ]
  },
  {
   "cell_type": "markdown",
   "metadata": {
    "id": "MXqDiiiJfVEv"
   },
   "source": [
    "## 2. F-test\n",
    "The usage of [F-test]:\n",
    "- Comparing the variances of two populations\n",
    "- Being used in one-way ANOVA to compare the means between groups (section 2.4)\n",
    "- Being used in multivariate linear regression to testing the significant of R-squared (section 3.2)\n",
    "\n",
    "Assumption:\n",
    "- Populations are normally distributed\n",
    "- The two random samples are independent\n",
    "\n",
    "[F-test]: https://en.wikipedia.org/wiki/F-test"
   ]
  },
  {
   "cell_type": "code",
   "execution_count": 10,
   "metadata": {
    "colab": {
     "base_uri": "https://localhost:8080/"
    },
    "id": "5aGY_tGzipDo",
    "outputId": "bbbdb553-91da-4702-b87c-ede2a9346878",
    "tags": [
     "remove-cell"
    ]
   },
   "outputs": [],
   "source": [
    "import numpy as np\n",
    "import pandas as pd\n",
    "from scipy import stats"
   ]
  },
  {
   "cell_type": "code",
   "execution_count": 4,
   "metadata": {
    "colab": {
     "base_uri": "https://localhost:8080/",
     "height": 224
    },
    "execution": {
     "iopub.execute_input": "2023-01-21T02:23:57.055958Z",
     "iopub.status.busy": "2023-01-21T02:23:57.055614Z",
     "iopub.status.idle": "2023-01-21T02:23:57.069102Z",
     "shell.execute_reply": "2023-01-21T02:23:57.068135Z",
     "shell.execute_reply.started": "2023-01-21T02:23:57.055933Z"
    },
    "id": "fs_rCPNBP-UF",
    "outputId": "df4e484a-2a39-46ef-a887-5a2e09ee2c1e",
    "tags": []
   },
   "outputs": [
    {
     "data": {
      "text/html": [
       "<div>\n",
       "<style scoped>\n",
       "    .dataframe tbody tr th:only-of-type {\n",
       "        vertical-align: middle;\n",
       "    }\n",
       "\n",
       "    .dataframe tbody tr th {\n",
       "        vertical-align: top;\n",
       "    }\n",
       "\n",
       "    .dataframe thead th {\n",
       "        text-align: right;\n",
       "    }\n",
       "</style>\n",
       "<table border=\"1\" class=\"dataframe\">\n",
       "  <thead>\n",
       "    <tr style=\"text-align: right;\">\n",
       "      <th></th>\n",
       "      <th>id</th>\n",
       "      <th>area</th>\n",
       "      <th>gender</th>\n",
       "      <th>age</th>\n",
       "      <th>age_group</th>\n",
       "      <th>degree</th>\n",
       "      <th>job</th>\n",
       "      <th>income</th>\n",
       "    </tr>\n",
       "  </thead>\n",
       "  <tbody>\n",
       "    <tr>\n",
       "      <th>0</th>\n",
       "      <td>1</td>\n",
       "      <td>central</td>\n",
       "      <td>female</td>\n",
       "      <td>69</td>\n",
       "      <td>middle</td>\n",
       "      <td>master</td>\n",
       "      <td>manager</td>\n",
       "      <td>33250</td>\n",
       "    </tr>\n",
       "    <tr>\n",
       "      <th>1</th>\n",
       "      <td>2</td>\n",
       "      <td>southern</td>\n",
       "      <td>female</td>\n",
       "      <td>50</td>\n",
       "      <td>middle</td>\n",
       "      <td>highshool</td>\n",
       "      <td>officer</td>\n",
       "      <td>6960</td>\n",
       "    </tr>\n",
       "    <tr>\n",
       "      <th>2</th>\n",
       "      <td>3</td>\n",
       "      <td>northern</td>\n",
       "      <td>male</td>\n",
       "      <td>73</td>\n",
       "      <td>elder</td>\n",
       "      <td>highshool</td>\n",
       "      <td>officer</td>\n",
       "      <td>11100</td>\n",
       "    </tr>\n",
       "    <tr>\n",
       "      <th>3</th>\n",
       "      <td>4</td>\n",
       "      <td>northern</td>\n",
       "      <td>female</td>\n",
       "      <td>73</td>\n",
       "      <td>elder</td>\n",
       "      <td>highshool</td>\n",
       "      <td>officer</td>\n",
       "      <td>11100</td>\n",
       "    </tr>\n",
       "    <tr>\n",
       "      <th>4</th>\n",
       "      <td>5</td>\n",
       "      <td>central</td>\n",
       "      <td>male</td>\n",
       "      <td>69</td>\n",
       "      <td>middle</td>\n",
       "      <td>master</td>\n",
       "      <td>officer</td>\n",
       "      <td>16140</td>\n",
       "    </tr>\n",
       "  </tbody>\n",
       "</table>\n",
       "</div>"
      ],
      "text/plain": [
       "   id      area  gender  age age_group     degree      job  income\n",
       "0   1   central  female   69    middle     master  manager   33250\n",
       "1   2  southern  female   50    middle  highshool  officer    6960\n",
       "2   3  northern    male   73     elder  highshool  officer   11100\n",
       "3   4  northern  female   73     elder  highshool  officer   11100\n",
       "4   5   central    male   69    middle     master  officer   16140"
      ]
     },
     "execution_count": 4,
     "metadata": {},
     "output_type": "execute_result"
    }
   ],
   "source": [
    "columns = ['age', 'gender', 'income', 'age_group', 'degree', 'area', 'id', 'job']\n",
    "df = pd.read_csv('../data/hypothesis.csv', usecols=columns)\n",
    "df.head()"
   ]
  },
  {
   "cell_type": "code",
   "execution_count": 37,
   "metadata": {
    "tags": [
     "hide-cell"
    ]
   },
   "outputs": [],
   "source": [
    "def compute_pvalue(testStat, distribution, alternative):\n",
    "    if alternative in ['two-sided', '2s', 'other than']:\n",
    "        signH1 = '!='\n",
    "        pValue = distribution.sf(np.abs(testStat)) * 2\n",
    "    elif alternative in ['larger', 'right']:\n",
    "        signH1 = '>'\n",
    "        pValue = distribution.sf(testStat)\n",
    "    elif alternative in ['smaller', 'left']:\n",
    "        signH1 = '<'\n",
    "        pValue = distribution.cdf(testStat)\n",
    "    return signH1, pValue\n",
    "\n",
    "def process_decision(pValue, alpha):\n",
    "    if pValue <= alpha:\n",
    "        signTest = '<'\n",
    "        mess = 'reject Null Hypothesis'\n",
    "    elif pValue > alpha:\n",
    "        signTest = '>'\n",
    "        mess = 'fail to reject Null Hypothesis'\n",
    "    return signTest, mess"
   ]
  },
  {
   "cell_type": "code",
   "execution_count": 65,
   "metadata": {},
   "outputs": [],
   "source": [
    "def FTest(x1, x2=None, A=0, alternative='two-sided', alpha=0.05):\n",
    "    objective = 'var1 / var2'\n",
    "    \n",
    "    # compute x1 statistics\n",
    "    x1 = np.array(x1)\n",
    "    var1, dof1 = x1.var(), x1.size-1\n",
    "    \n",
    "    # compute x2 statistics\n",
    "    x2 = np.array(x2)\n",
    "    var2, dof2 = x2.var(), x2.size-1\n",
    "    \n",
    "    # compute test statistic\n",
    "    testStat = var1 / var2 / A\n",
    "    \n",
    "    # compute p-value\n",
    "    signH1, pValue = compute_pvalue(testStat, stats.f(dof1, dof2), alternative)\n",
    "    \n",
    "    # make decision\n",
    "    signTest, mess = process_decision(pValue, alpha)\n",
    "    \n",
    "    print(\n",
    "        f'Alternative Hypothesis: var1 {signH1} {A}*var2' '\\n'\n",
    "        f'p-value = {pValue:.4f} {signTest} {alpha} --> {mess}'\n",
    "    )"
   ]
  },
  {
   "cell_type": "markdown",
   "metadata": {},
   "source": [
    ":::{admonition} Case study\n",
    ":class: seealso\n",
    "\n",
    "With the significance level $\\alpha=0.05$, compare the population variances of income of male and female.\n",
    "\n",
    "The hypotheses:\n",
    "- $H_0: \\sigma^2_1 = 5\\sigma^2_2$\n",
    "- $H_1: \\sigma^2_1 > 5\\sigma^2_2$\n",
    "\n",
    "If p-value $<0.05$: reject $H_0$. The formula for the test statistic is:\n",
    "\n",
    "$$T = \\frac{1}{A}\\frac{\\hat{\\sigma}_1^2}{\\hat{\\sigma}_2^2}$$\n",
    "\n",
    ":::"
   ]
  },
  {
   "cell_type": "code",
   "execution_count": 53,
   "metadata": {
    "id": "DMl7oRn2R2S5"
   },
   "outputs": [],
   "source": [
    "x1 = df[df['gender']=='male'].income\n",
    "x2 = df[df['gender']=='female'].income"
   ]
  },
  {
   "cell_type": "code",
   "execution_count": 66,
   "metadata": {},
   "outputs": [
    {
     "name": "stdout",
     "output_type": "stream",
     "text": [
      "Alternative Hypothesis: var1 > 5*var2\n",
      "p-value = 0.0299 < 0.05 --> reject Null Hypothesis\n"
     ]
    }
   ],
   "source": [
    "FTest(x1, x2, A=5, alternative='larger')"
   ]
  },
  {
   "cell_type": "markdown",
   "metadata": {
    "id": "noChU7MAw0f-"
   },
   "source": [
    "## 3. t-test\n",
    "The [t-test] is any statistical hypothesis test in which the test statistic follows a Student's t-distribution under the null hypothesis.\n",
    "\n",
    "[t-test]: https://en.wikipedia.org/wiki/Student%27s_t-test"
   ]
  },
  {
   "cell_type": "code",
   "execution_count": 15,
   "metadata": {
    "colab": {
     "base_uri": "https://localhost:8080/"
    },
    "id": "5aGY_tGzipDo",
    "outputId": "bbbdb553-91da-4702-b87c-ede2a9346878",
    "tags": [
     "remove-cell"
    ]
   },
   "outputs": [],
   "source": [
    "import numpy as np\n",
    "import pandas as pd\n",
    "from scipy import stats\n",
    "import pingouin as pg"
   ]
  },
  {
   "cell_type": "code",
   "execution_count": 4,
   "metadata": {
    "colab": {
     "base_uri": "https://localhost:8080/",
     "height": 224
    },
    "execution": {
     "iopub.execute_input": "2023-01-21T02:23:57.055958Z",
     "iopub.status.busy": "2023-01-21T02:23:57.055614Z",
     "iopub.status.idle": "2023-01-21T02:23:57.069102Z",
     "shell.execute_reply": "2023-01-21T02:23:57.068135Z",
     "shell.execute_reply.started": "2023-01-21T02:23:57.055933Z"
    },
    "id": "fs_rCPNBP-UF",
    "outputId": "df4e484a-2a39-46ef-a887-5a2e09ee2c1e",
    "tags": []
   },
   "outputs": [
    {
     "data": {
      "text/html": [
       "<div>\n",
       "<style scoped>\n",
       "    .dataframe tbody tr th:only-of-type {\n",
       "        vertical-align: middle;\n",
       "    }\n",
       "\n",
       "    .dataframe tbody tr th {\n",
       "        vertical-align: top;\n",
       "    }\n",
       "\n",
       "    .dataframe thead th {\n",
       "        text-align: right;\n",
       "    }\n",
       "</style>\n",
       "<table border=\"1\" class=\"dataframe\">\n",
       "  <thead>\n",
       "    <tr style=\"text-align: right;\">\n",
       "      <th></th>\n",
       "      <th>id</th>\n",
       "      <th>area</th>\n",
       "      <th>gender</th>\n",
       "      <th>age</th>\n",
       "      <th>age_group</th>\n",
       "      <th>degree</th>\n",
       "      <th>job</th>\n",
       "      <th>income</th>\n",
       "    </tr>\n",
       "  </thead>\n",
       "  <tbody>\n",
       "    <tr>\n",
       "      <th>0</th>\n",
       "      <td>1</td>\n",
       "      <td>central</td>\n",
       "      <td>female</td>\n",
       "      <td>69</td>\n",
       "      <td>middle</td>\n",
       "      <td>master</td>\n",
       "      <td>manager</td>\n",
       "      <td>33250</td>\n",
       "    </tr>\n",
       "    <tr>\n",
       "      <th>1</th>\n",
       "      <td>2</td>\n",
       "      <td>southern</td>\n",
       "      <td>female</td>\n",
       "      <td>50</td>\n",
       "      <td>middle</td>\n",
       "      <td>highshool</td>\n",
       "      <td>officer</td>\n",
       "      <td>6960</td>\n",
       "    </tr>\n",
       "    <tr>\n",
       "      <th>2</th>\n",
       "      <td>3</td>\n",
       "      <td>northern</td>\n",
       "      <td>male</td>\n",
       "      <td>73</td>\n",
       "      <td>elder</td>\n",
       "      <td>highshool</td>\n",
       "      <td>officer</td>\n",
       "      <td>11100</td>\n",
       "    </tr>\n",
       "    <tr>\n",
       "      <th>3</th>\n",
       "      <td>4</td>\n",
       "      <td>northern</td>\n",
       "      <td>female</td>\n",
       "      <td>73</td>\n",
       "      <td>elder</td>\n",
       "      <td>highshool</td>\n",
       "      <td>officer</td>\n",
       "      <td>11100</td>\n",
       "    </tr>\n",
       "    <tr>\n",
       "      <th>4</th>\n",
       "      <td>5</td>\n",
       "      <td>central</td>\n",
       "      <td>male</td>\n",
       "      <td>69</td>\n",
       "      <td>middle</td>\n",
       "      <td>master</td>\n",
       "      <td>officer</td>\n",
       "      <td>16140</td>\n",
       "    </tr>\n",
       "  </tbody>\n",
       "</table>\n",
       "</div>"
      ],
      "text/plain": [
       "   id      area  gender  age age_group     degree      job  income\n",
       "0   1   central  female   69    middle     master  manager   33250\n",
       "1   2  southern  female   50    middle  highshool  officer    6960\n",
       "2   3  northern    male   73     elder  highshool  officer   11100\n",
       "3   4  northern  female   73     elder  highshool  officer   11100\n",
       "4   5   central    male   69    middle     master  officer   16140"
      ]
     },
     "execution_count": 4,
     "metadata": {},
     "output_type": "execute_result"
    }
   ],
   "source": [
    "columns = ['age', 'gender', 'income', 'age_group', 'degree', 'area', 'id', 'job']\n",
    "df = pd.read_csv('../data/hypothesis.csv', usecols=columns)\n",
    "df.head()"
   ]
  },
  {
   "cell_type": "markdown",
   "metadata": {
    "id": "F2nLvouNw2X0"
   },
   "source": [
    "### 3.1. One-sample\n",
    "The usage of [one-sample t-test]: To compare the mean of a population with a number, when the population variance is unknown.\n",
    "\n",
    "Assumption:\n",
    "- The population is normally distributed\n",
    "- The sample is random\n",
    "\n",
    "[one-sample t-test]: https://en.wikipedia.org/wiki/Student%27s_t-test#One-sample_t-test"
   ]
  },
  {
   "cell_type": "markdown",
   "metadata": {},
   "source": [
    ":::{admonition} Case study\n",
    ":class: seealso\n",
    "\n",
    "With the confidence level of $\\alpha=0.05$, the mean of income is $13000$ or not?\n",
    "\n",
    "The hypotheses:\n",
    "- $H_0: \\mu=13000$\n",
    "- $H_1: \\mu\\neq13000$\n",
    "\n",
    "The formula for the test statistic is:\n",
    "\n",
    "$$T = \\frac{\\hat{\\mu}-A}{\\hat\\sigma/\\sqrt{n}}$$\n",
    "\n",
    ":::"
   ]
  },
  {
   "cell_type": "code",
   "execution_count": 17,
   "metadata": {
    "colab": {
     "base_uri": "https://localhost:8080/"
    },
    "id": "iqKZVHctw4Kd",
    "outputId": "7ef46252-c20e-4b12-974c-1f96b1b0ef4c"
   },
   "outputs": [
    {
     "data": {
      "text/plain": [
       "Ttest_1sampResult(statistic=2.6904932307376574, pvalue=0.007373867945841888)"
      ]
     },
     "execution_count": 17,
     "metadata": {},
     "output_type": "execute_result"
    }
   ],
   "source": [
    "# new in scipy version 1.6.0\n",
    "stats.ttest_1samp(df.income, 13000, alternative='two-sided')"
   ]
  },
  {
   "cell_type": "code",
   "execution_count": 18,
   "metadata": {},
   "outputs": [
    {
     "data": {
      "text/html": [
       "<div>\n",
       "<style scoped>\n",
       "    .dataframe tbody tr th:only-of-type {\n",
       "        vertical-align: middle;\n",
       "    }\n",
       "\n",
       "    .dataframe tbody tr th {\n",
       "        vertical-align: top;\n",
       "    }\n",
       "\n",
       "    .dataframe thead th {\n",
       "        text-align: right;\n",
       "    }\n",
       "</style>\n",
       "<table border=\"1\" class=\"dataframe\">\n",
       "  <thead>\n",
       "    <tr style=\"text-align: right;\">\n",
       "      <th></th>\n",
       "      <th>T</th>\n",
       "      <th>dof</th>\n",
       "      <th>tail</th>\n",
       "      <th>p-val</th>\n",
       "      <th>CI95%</th>\n",
       "      <th>cohen-d</th>\n",
       "      <th>BF10</th>\n",
       "      <th>power</th>\n",
       "    </tr>\n",
       "  </thead>\n",
       "  <tbody>\n",
       "    <tr>\n",
       "      <th>T-test</th>\n",
       "      <td>2.690493</td>\n",
       "      <td>499</td>\n",
       "      <td>two-sided</td>\n",
       "      <td>0.007374</td>\n",
       "      <td>[13231.88, 14487.36]</td>\n",
       "      <td>0.120323</td>\n",
       "      <td>1.79</td>\n",
       "      <td>0.765882</td>\n",
       "    </tr>\n",
       "  </tbody>\n",
       "</table>\n",
       "</div>"
      ],
      "text/plain": [
       "               T  dof       tail     p-val                 CI95%   cohen-d  \\\n",
       "T-test  2.690493  499  two-sided  0.007374  [13231.88, 14487.36]  0.120323   \n",
       "\n",
       "        BF10     power  \n",
       "T-test  1.79  0.765882  "
      ]
     },
     "execution_count": 18,
     "metadata": {},
     "output_type": "execute_result"
    }
   ],
   "source": [
    "pg.ttest(x = df.income, y = 13000.0, tail='two-sided')"
   ]
  },
  {
   "cell_type": "markdown",
   "metadata": {
    "id": "TcvltzAoyBo1"
   },
   "source": [
    "### 3.2. Independent two-sample\n",
    "The usage of [independent two_sample t-test]: to compare the means of two populations using their independent samples. A F-test should be used first to check the equality of the two population variances.\n",
    "\n",
    "Assumptions:\n",
    "- Two populations are normally distributed\n",
    "- Two samples are independent and random\n",
    "- Two variances are equal\n",
    "\n",
    "[independent two_sample t-test]: https://en.wikipedia.org/wiki/Student%27s_t-test#Independent_two-sample_t-test"
   ]
  },
  {
   "cell_type": "markdown",
   "metadata": {},
   "source": [
    ":::{admonition} Case study\n",
    ":class: seealso\n",
    "\n",
    "With $\\alpha=0.05$, the average income of male and female are equal, true or false?\n",
    "\n",
    "The hypotheses:\n",
    "- $H_0: \\mu_1 = \\mu_2$\n",
    "- $H_1: \\mu_1 \\neq \\mu_2$\n",
    "\n",
    "If $\\sigma_1^2 \\neq \\sigma_2^2$ (this example - already tested in section 2.2), the formula for the test statistic is:\n",
    "\n",
    "$$T = \\frac{\\hat{\\mu}_1-\\hat{\\mu}_2-A}{\\sqrt{\\dfrac{\\hat{\\sigma}_1^2}{n_1}+\\dfrac{\\hat{\\sigma}_2^2}{n_2}}}$$\n",
    "\n",
    "If $\\sigma_1^2 = \\sigma_2^2$, the test statistic is:\n",
    "\n",
    "$$T = \\frac{\\hat{\\mu}_1-\\hat{\\mu}_2-A}{\\hat\\sigma_p \\sqrt{\\dfrac{1}{n_1}+\\dfrac{1}{n_2}}}$$\n",
    "\n",
    "where\n",
    "\n",
    "$$\\hat\\sigma_p = \\sqrt{\\frac{(n_1-1)\\hat{\\sigma}_1^2 + (n_2-1)\\hat{\\sigma}_2^2}{n_1+n_2-2}}$$\n",
    "\n",
    "is the pooled standard deviation of the two samples.\n",
    "\n",
    ":::"
   ]
  },
  {
   "cell_type": "code",
   "execution_count": 19,
   "metadata": {
    "id": "ZDJrDUbdyQOl"
   },
   "outputs": [],
   "source": [
    "x1 = df[df['gender']=='male'].income\n",
    "x2 = df[df['gender']=='female'].income"
   ]
  },
  {
   "cell_type": "code",
   "execution_count": 20,
   "metadata": {
    "colab": {
     "base_uri": "https://localhost:8080/"
    },
    "id": "VtrXitghyFYV",
    "outputId": "065d852b-4d6f-49f1-c5ca-4b1fd342a308"
   },
   "outputs": [
    {
     "data": {
      "text/plain": [
       "Ttest_indResult(statistic=11.816737235568048, pvalue=1.6702963183174312e-27)"
      ]
     },
     "execution_count": 20,
     "metadata": {},
     "output_type": "execute_result"
    }
   ],
   "source": [
    "stats.ttest_ind(x1, x2, equal_var=False, alternative='two-sided')"
   ]
  },
  {
   "cell_type": "code",
   "execution_count": 21,
   "metadata": {},
   "outputs": [
    {
     "data": {
      "text/html": [
       "<div>\n",
       "<style scoped>\n",
       "    .dataframe tbody tr th:only-of-type {\n",
       "        vertical-align: middle;\n",
       "    }\n",
       "\n",
       "    .dataframe tbody tr th {\n",
       "        vertical-align: top;\n",
       "    }\n",
       "\n",
       "    .dataframe thead th {\n",
       "        text-align: right;\n",
       "    }\n",
       "</style>\n",
       "<table border=\"1\" class=\"dataframe\">\n",
       "  <thead>\n",
       "    <tr style=\"text-align: right;\">\n",
       "      <th></th>\n",
       "      <th>T</th>\n",
       "      <th>dof</th>\n",
       "      <th>tail</th>\n",
       "      <th>p-val</th>\n",
       "      <th>CI95%</th>\n",
       "      <th>cohen-d</th>\n",
       "      <th>BF10</th>\n",
       "      <th>power</th>\n",
       "    </tr>\n",
       "  </thead>\n",
       "  <tbody>\n",
       "    <tr>\n",
       "      <th>T-test</th>\n",
       "      <td>11.816737</td>\n",
       "      <td>364.874101</td>\n",
       "      <td>two-sided</td>\n",
       "      <td>1.670296e-27</td>\n",
       "      <td>[5323.12, 7448.52]</td>\n",
       "      <td>0.997539</td>\n",
       "      <td>1.904e+25</td>\n",
       "      <td>1.0</td>\n",
       "    </tr>\n",
       "  </tbody>\n",
       "</table>\n",
       "</div>"
      ],
      "text/plain": [
       "                T         dof       tail         p-val               CI95%  \\\n",
       "T-test  11.816737  364.874101  two-sided  1.670296e-27  [5323.12, 7448.52]   \n",
       "\n",
       "         cohen-d       BF10  power  \n",
       "T-test  0.997539  1.904e+25    1.0  "
      ]
     },
     "execution_count": 21,
     "metadata": {},
     "output_type": "execute_result"
    }
   ],
   "source": [
    "pg.ttest(x=x1, y=x2, correction=True, tail='two-sided')"
   ]
  },
  {
   "cell_type": "markdown",
   "metadata": {
    "id": "LTAMsih_yjfu"
   },
   "source": [
    "### 3.3. Dependent paired samples\n",
    "The usage of [dependent paired samples t-test]: to compare two population means, given their dependent samples. A paired samples t-test calculates the diffrence between paired observation and then performs a one-sample t-test.\n",
    "\n",
    "Assumptions:\n",
    "- The two populations should be both normally distributed\n",
    "- The two random samples come in pairs (before and after data for example)\n",
    "- Same sample sizes\n",
    "\n",
    "[dependent paired samples t-test]: https://en.wikipedia.org/wiki/Student%27s_t-test#Dependent_t-test_for_paired_samples"
   ]
  },
  {
   "cell_type": "code",
   "execution_count": 22,
   "metadata": {
    "id": "G1mNuQGmzLr0"
   },
   "outputs": [],
   "source": [
    "x1 = [72,77,84,79,74,67,74,77,79,89]\n",
    "x2 = [65,68,77,73,66,61,66,71,71,78]"
   ]
  },
  {
   "cell_type": "markdown",
   "metadata": {},
   "source": [
    ":::{admonition} Case study\n",
    ":class: seealso\n",
    "\n",
    "With $\\alpha=0.05$, the average weight after is 8 kg less than before, true or false?\n",
    "\n",
    "The hypotheses:\n",
    "- $H_0: \\mu_1-\\mu_2\\geq8$\n",
    "- $H_1: \\mu_1-\\mu_2<8$\n",
    "\n",
    "The test statistic is:\n",
    "\n",
    "$$T = \\frac{\\hat\\mu_1-\\hat\\mu_2-A}{\\hat\\sigma_d/\\sqrt n} = \\frac{\\hat\\mu_d-A}{\\hat\\sigma_d/\\sqrt n}$$\n",
    "where\n",
    "- $\\hat\\mu_d$ is the sample mean of the differences\n",
    "- $\\hat\\sigma_d$ is the sample standard deviation of the differences\n",
    "\n",
    ":::"
   ]
  },
  {
   "cell_type": "code",
   "execution_count": 23,
   "metadata": {
    "colab": {
     "base_uri": "https://localhost:8080/"
    },
    "id": "NytVpMf3Y5Lo",
    "outputId": "5ef0041a-a2f3-44d4-afb7-a0c06c8e9274"
   },
   "outputs": [
    {
     "data": {
      "text/plain": [
       "Ttest_relResult(statistic=15.23389078900819, pvalue=9.86181308406675e-08)"
      ]
     },
     "execution_count": 23,
     "metadata": {},
     "output_type": "execute_result"
    }
   ],
   "source": [
    "# using scipy and pg can not change the mu value\n",
    "stats.ttest_rel(x1, x2, alternative='two-sided')"
   ]
  },
  {
   "cell_type": "code",
   "execution_count": 24,
   "metadata": {},
   "outputs": [
    {
     "data": {
      "text/html": [
       "<div>\n",
       "<style scoped>\n",
       "    .dataframe tbody tr th:only-of-type {\n",
       "        vertical-align: middle;\n",
       "    }\n",
       "\n",
       "    .dataframe tbody tr th {\n",
       "        vertical-align: top;\n",
       "    }\n",
       "\n",
       "    .dataframe thead th {\n",
       "        text-align: right;\n",
       "    }\n",
       "</style>\n",
       "<table border=\"1\" class=\"dataframe\">\n",
       "  <thead>\n",
       "    <tr style=\"text-align: right;\">\n",
       "      <th></th>\n",
       "      <th>T</th>\n",
       "      <th>dof</th>\n",
       "      <th>tail</th>\n",
       "      <th>p-val</th>\n",
       "      <th>CI95%</th>\n",
       "      <th>cohen-d</th>\n",
       "      <th>BF10</th>\n",
       "      <th>power</th>\n",
       "    </tr>\n",
       "  </thead>\n",
       "  <tbody>\n",
       "    <tr>\n",
       "      <th>T-test</th>\n",
       "      <td>15.233891</td>\n",
       "      <td>9</td>\n",
       "      <td>two-sided</td>\n",
       "      <td>9.861813e-08</td>\n",
       "      <td>[6.47, 8.73]</td>\n",
       "      <td>1.30767</td>\n",
       "      <td>1.176e+05</td>\n",
       "      <td>0.955888</td>\n",
       "    </tr>\n",
       "  </tbody>\n",
       "</table>\n",
       "</div>"
      ],
      "text/plain": [
       "                T  dof       tail         p-val         CI95%  cohen-d  \\\n",
       "T-test  15.233891    9  two-sided  9.861813e-08  [6.47, 8.73]  1.30767   \n",
       "\n",
       "             BF10     power  \n",
       "T-test  1.176e+05  0.955888  "
      ]
     },
     "execution_count": 24,
     "metadata": {},
     "output_type": "execute_result"
    }
   ],
   "source": [
    "pg.ttest(x=x1, y=x2, paired=True, tail='two-sided')"
   ]
  },
  {
   "cell_type": "code",
   "execution_count": 25,
   "metadata": {
    "id": "rpZg_iWstzyM"
   },
   "outputs": [],
   "source": [
    "def pair_ttest(data1, data2, mu=0, alternative='two-sided'):\n",
    "    x1 = np.array(data1)\n",
    "    x2 = np.array(data2)\n",
    "    x1_mean = x1.mean()\n",
    "    x2_mean = x2.mean()\n",
    "    d = np.sum(x1 - x2)**2\n",
    "    D = np.sum((x1 - x2)**2)\n",
    "    n = len(x1)\n",
    "    df = len(x1) - 1\n",
    "    var_d = np.sqrt((n*D-d)/df)/ np.sqrt(n)\n",
    "    tstat = (x1_mean - x2_mean - mu)/(var_d/np.sqrt(n))\n",
    "    if alternative in [\"two-sided\", \"2-sided\", \"2s\"]:\n",
    "        pvalue = stats.t.sf(np.abs(tstat), df) * 2\n",
    "    elif alternative in [\"larger\", \"l\"]:\n",
    "        pvalue = stats.t.sf(tstat, df)\n",
    "    elif alternative in [\"smaller\", \"s\"]:\n",
    "        pvalue = stats.t.cdf(tstat, df)\n",
    "    else:\n",
    "        raise ValueError(\"invalid alternative\")\n",
    "    return tstat, pvalue"
   ]
  },
  {
   "cell_type": "code",
   "execution_count": 26,
   "metadata": {},
   "outputs": [
    {
     "data": {
      "text/plain": [
       "(-0.8017837257372562, 0.22166592508483474)"
      ]
     },
     "execution_count": 26,
     "metadata": {},
     "output_type": "execute_result"
    }
   ],
   "source": [
    "pair_ttest(x1, x2, mu=8, alternative='smaller')"
   ]
  },
  {
   "cell_type": "markdown",
   "metadata": {
    "id": "bsTPkMpJljOS"
   },
   "source": [
    "## 4. Chi-squared test\n",
    "The usage of [chi-square test]:\n",
    "- Comparing the propotions of two or more populations\n",
    "- Independence testing between qualitative variables\n",
    "\n",
    "Assumptions:\n",
    "- Populations are normally distributed\n",
    "\n",
    "[chi-square test]: https://en.wikipedia.org/wiki/Chi-squared_test"
   ]
  },
  {
   "cell_type": "code",
   "execution_count": 10,
   "metadata": {
    "colab": {
     "base_uri": "https://localhost:8080/"
    },
    "execution": {
     "iopub.execute_input": "2021-12-06T06:35:04.125585Z",
     "iopub.status.busy": "2021-12-06T06:35:04.125585Z",
     "iopub.status.idle": "2021-12-06T06:35:04.131569Z",
     "shell.execute_reply": "2021-12-06T06:35:04.130571Z",
     "shell.execute_reply.started": "2021-12-06T06:35:04.125585Z"
    },
    "id": "5aGY_tGzipDo",
    "outputId": "bbbdb553-91da-4702-b87c-ede2a9346878",
    "tags": [
     "remove-cell"
    ]
   },
   "outputs": [],
   "source": [
    "import numpy as np\n",
    "import pandas as pd\n",
    "from scipy import stats\n",
    "import pingouin as pg\n",
    "import warnings\n",
    "warnings.filterwarnings(\"ignore\")"
   ]
  },
  {
   "cell_type": "code",
   "execution_count": 4,
   "metadata": {
    "colab": {
     "base_uri": "https://localhost:8080/",
     "height": 224
    },
    "execution": {
     "iopub.execute_input": "2023-01-21T02:23:57.055958Z",
     "iopub.status.busy": "2023-01-21T02:23:57.055614Z",
     "iopub.status.idle": "2023-01-21T02:23:57.069102Z",
     "shell.execute_reply": "2023-01-21T02:23:57.068135Z",
     "shell.execute_reply.started": "2023-01-21T02:23:57.055933Z"
    },
    "id": "fs_rCPNBP-UF",
    "outputId": "df4e484a-2a39-46ef-a887-5a2e09ee2c1e",
    "tags": []
   },
   "outputs": [
    {
     "data": {
      "text/html": [
       "<div>\n",
       "<style scoped>\n",
       "    .dataframe tbody tr th:only-of-type {\n",
       "        vertical-align: middle;\n",
       "    }\n",
       "\n",
       "    .dataframe tbody tr th {\n",
       "        vertical-align: top;\n",
       "    }\n",
       "\n",
       "    .dataframe thead th {\n",
       "        text-align: right;\n",
       "    }\n",
       "</style>\n",
       "<table border=\"1\" class=\"dataframe\">\n",
       "  <thead>\n",
       "    <tr style=\"text-align: right;\">\n",
       "      <th></th>\n",
       "      <th>id</th>\n",
       "      <th>area</th>\n",
       "      <th>gender</th>\n",
       "      <th>age</th>\n",
       "      <th>age_group</th>\n",
       "      <th>degree</th>\n",
       "      <th>job</th>\n",
       "      <th>income</th>\n",
       "    </tr>\n",
       "  </thead>\n",
       "  <tbody>\n",
       "    <tr>\n",
       "      <th>0</th>\n",
       "      <td>1</td>\n",
       "      <td>central</td>\n",
       "      <td>female</td>\n",
       "      <td>69</td>\n",
       "      <td>middle</td>\n",
       "      <td>master</td>\n",
       "      <td>manager</td>\n",
       "      <td>33250</td>\n",
       "    </tr>\n",
       "    <tr>\n",
       "      <th>1</th>\n",
       "      <td>2</td>\n",
       "      <td>southern</td>\n",
       "      <td>female</td>\n",
       "      <td>50</td>\n",
       "      <td>middle</td>\n",
       "      <td>highshool</td>\n",
       "      <td>officer</td>\n",
       "      <td>6960</td>\n",
       "    </tr>\n",
       "    <tr>\n",
       "      <th>2</th>\n",
       "      <td>3</td>\n",
       "      <td>northern</td>\n",
       "      <td>male</td>\n",
       "      <td>73</td>\n",
       "      <td>elder</td>\n",
       "      <td>highshool</td>\n",
       "      <td>officer</td>\n",
       "      <td>11100</td>\n",
       "    </tr>\n",
       "    <tr>\n",
       "      <th>3</th>\n",
       "      <td>4</td>\n",
       "      <td>northern</td>\n",
       "      <td>female</td>\n",
       "      <td>73</td>\n",
       "      <td>elder</td>\n",
       "      <td>highshool</td>\n",
       "      <td>officer</td>\n",
       "      <td>11100</td>\n",
       "    </tr>\n",
       "    <tr>\n",
       "      <th>4</th>\n",
       "      <td>5</td>\n",
       "      <td>central</td>\n",
       "      <td>male</td>\n",
       "      <td>69</td>\n",
       "      <td>middle</td>\n",
       "      <td>master</td>\n",
       "      <td>officer</td>\n",
       "      <td>16140</td>\n",
       "    </tr>\n",
       "  </tbody>\n",
       "</table>\n",
       "</div>"
      ],
      "text/plain": [
       "   id      area  gender  age age_group     degree      job  income\n",
       "0   1   central  female   69    middle     master  manager   33250\n",
       "1   2  southern  female   50    middle  highshool  officer    6960\n",
       "2   3  northern    male   73     elder  highshool  officer   11100\n",
       "3   4  northern  female   73     elder  highshool  officer   11100\n",
       "4   5   central    male   69    middle     master  officer   16140"
      ]
     },
     "execution_count": 4,
     "metadata": {},
     "output_type": "execute_result"
    }
   ],
   "source": [
    "columns = ['age', 'gender', 'income', 'age_group', 'degree', 'area', 'id', 'job']\n",
    "df = pd.read_csv('../data/hypothesis.csv', usecols=columns)\n",
    "df.head()"
   ]
  },
  {
   "cell_type": "markdown",
   "metadata": {},
   "source": [
    "### 4.1. Dependence test\n",
    ":::{admonition} Case study\n",
    ":class: seealso\n",
    "\n",
    "Is there a relationship between `age_group` and `degree`?\n",
    "\n",
    "The hypotheses:\n",
    "- $H_0:$ The two variables are independent\n",
    "- $H_1:$ The two variables are dependent\n",
    "\n",
    "`age_group` and `degree` are said to be strongly related if p-value $<0.05$.\n",
    "\n",
    ":::"
   ]
  },
  {
   "cell_type": "code",
   "execution_count": 6,
   "metadata": {
    "execution": {
     "iopub.execute_input": "2021-12-06T06:33:59.800170Z",
     "iopub.status.busy": "2021-12-06T06:33:59.799202Z",
     "iopub.status.idle": "2021-12-06T06:33:59.868018Z",
     "shell.execute_reply": "2021-12-06T06:33:59.868018Z",
     "shell.execute_reply.started": "2021-12-06T06:33:59.800170Z"
    },
    "id": "PuK0T79VosB2",
    "tags": []
   },
   "outputs": [],
   "source": [
    "table = pd.crosstab(df.age_group,df.degree)"
   ]
  },
  {
   "cell_type": "code",
   "execution_count": 7,
   "metadata": {
    "colab": {
     "base_uri": "https://localhost:8080/"
    },
    "execution": {
     "iopub.execute_input": "2021-12-06T06:34:01.049390Z",
     "iopub.status.busy": "2021-12-06T06:34:01.048392Z",
     "iopub.status.idle": "2021-12-06T06:34:01.058364Z",
     "shell.execute_reply": "2021-12-06T06:34:01.057367Z",
     "shell.execute_reply.started": "2021-12-06T06:34:01.049390Z"
    },
    "id": "unZg2Mv3Y5PO",
    "outputId": "c395f30d-ad89-4426-8542-2268932d3ba1",
    "tags": []
   },
   "outputs": [
    {
     "name": "stdout",
     "output_type": "stream",
     "text": [
      "chi stats: 84.7456748205155\n",
      "p-value: 1.717625046407707e-17\n"
     ]
    }
   ],
   "source": [
    "chi, pvalue, dof, _ = stats.chi2_contingency(table)\n",
    "print(\"chi stats:\", chi)\n",
    "print('p-value:', pvalue)"
   ]
  },
  {
   "cell_type": "code",
   "execution_count": 11,
   "metadata": {
    "execution": {
     "iopub.execute_input": "2021-12-06T06:35:07.515863Z",
     "iopub.status.busy": "2021-12-06T06:35:07.515863Z",
     "iopub.status.idle": "2021-12-06T06:35:07.535846Z",
     "shell.execute_reply": "2021-12-06T06:35:07.534825Z",
     "shell.execute_reply.started": "2021-12-06T06:35:07.515863Z"
    },
    "tags": []
   },
   "outputs": [],
   "source": [
    "expected, observed, summary = pg.chi2_independence(data=df, x='age_group', y='degree')"
   ]
  },
  {
   "cell_type": "code",
   "execution_count": 9,
   "metadata": {
    "execution": {
     "iopub.execute_input": "2021-12-06T06:34:05.417653Z",
     "iopub.status.busy": "2021-12-06T06:34:05.417653Z",
     "iopub.status.idle": "2021-12-06T06:34:05.425645Z",
     "shell.execute_reply": "2021-12-06T06:34:05.424634Z",
     "shell.execute_reply.started": "2021-12-06T06:34:05.417653Z"
    },
    "tags": []
   },
   "outputs": [
    {
     "data": {
      "text/html": [
       "<div>\n",
       "<style scoped>\n",
       "    .dataframe tbody tr th:only-of-type {\n",
       "        vertical-align: middle;\n",
       "    }\n",
       "\n",
       "    .dataframe tbody tr th {\n",
       "        vertical-align: top;\n",
       "    }\n",
       "\n",
       "    .dataframe thead th {\n",
       "        text-align: right;\n",
       "    }\n",
       "</style>\n",
       "<table border=\"1\" class=\"dataframe\">\n",
       "  <thead>\n",
       "    <tr style=\"text-align: right;\">\n",
       "      <th>degree</th>\n",
       "      <th>bachelor</th>\n",
       "      <th>highshool</th>\n",
       "      <th>master</th>\n",
       "    </tr>\n",
       "    <tr>\n",
       "      <th>age_group</th>\n",
       "      <th></th>\n",
       "      <th></th>\n",
       "      <th></th>\n",
       "    </tr>\n",
       "  </thead>\n",
       "  <tbody>\n",
       "    <tr>\n",
       "      <th>elder</th>\n",
       "      <td>25.542</td>\n",
       "      <td>50.886</td>\n",
       "      <td>22.572</td>\n",
       "    </tr>\n",
       "    <tr>\n",
       "      <th>middle</th>\n",
       "      <td>91.074</td>\n",
       "      <td>181.442</td>\n",
       "      <td>80.484</td>\n",
       "    </tr>\n",
       "    <tr>\n",
       "      <th>youth</th>\n",
       "      <td>12.384</td>\n",
       "      <td>24.672</td>\n",
       "      <td>10.944</td>\n",
       "    </tr>\n",
       "  </tbody>\n",
       "</table>\n",
       "</div>"
      ],
      "text/plain": [
       "degree     bachelor  highshool  master\n",
       "age_group                             \n",
       "elder        25.542     50.886  22.572\n",
       "middle       91.074    181.442  80.484\n",
       "youth        12.384     24.672  10.944"
      ]
     },
     "execution_count": 9,
     "metadata": {},
     "output_type": "execute_result"
    }
   ],
   "source": [
    "expected"
   ]
  },
  {
   "cell_type": "code",
   "execution_count": 33,
   "metadata": {},
   "outputs": [
    {
     "data": {
      "text/html": [
       "<div>\n",
       "<style scoped>\n",
       "    .dataframe tbody tr th:only-of-type {\n",
       "        vertical-align: middle;\n",
       "    }\n",
       "\n",
       "    .dataframe tbody tr th {\n",
       "        vertical-align: top;\n",
       "    }\n",
       "\n",
       "    .dataframe thead th {\n",
       "        text-align: right;\n",
       "    }\n",
       "</style>\n",
       "<table border=\"1\" class=\"dataframe\">\n",
       "  <thead>\n",
       "    <tr style=\"text-align: right;\">\n",
       "      <th></th>\n",
       "      <th>test</th>\n",
       "      <th>lambda</th>\n",
       "      <th>chi2</th>\n",
       "      <th>dof</th>\n",
       "      <th>pval</th>\n",
       "      <th>cramer</th>\n",
       "      <th>power</th>\n",
       "    </tr>\n",
       "  </thead>\n",
       "  <tbody>\n",
       "    <tr>\n",
       "      <th>0</th>\n",
       "      <td>pearson</td>\n",
       "      <td>1.000000</td>\n",
       "      <td>84.745675</td>\n",
       "      <td>4.0</td>\n",
       "      <td>1.717625e-17</td>\n",
       "      <td>0.291111</td>\n",
       "      <td>0.999915</td>\n",
       "    </tr>\n",
       "    <tr>\n",
       "      <th>1</th>\n",
       "      <td>cressie-read</td>\n",
       "      <td>0.666667</td>\n",
       "      <td>89.164397</td>\n",
       "      <td>4.0</td>\n",
       "      <td>1.981493e-18</td>\n",
       "      <td>0.298604</td>\n",
       "      <td>0.999956</td>\n",
       "    </tr>\n",
       "    <tr>\n",
       "      <th>2</th>\n",
       "      <td>log-likelihood</td>\n",
       "      <td>0.000000</td>\n",
       "      <td>108.047053</td>\n",
       "      <td>4.0</td>\n",
       "      <td>1.898580e-22</td>\n",
       "      <td>0.328705</td>\n",
       "      <td>0.999998</td>\n",
       "    </tr>\n",
       "    <tr>\n",
       "      <th>3</th>\n",
       "      <td>freeman-tukey</td>\n",
       "      <td>-0.500000</td>\n",
       "      <td>NaN</td>\n",
       "      <td>4.0</td>\n",
       "      <td>NaN</td>\n",
       "      <td>NaN</td>\n",
       "      <td>NaN</td>\n",
       "    </tr>\n",
       "    <tr>\n",
       "      <th>4</th>\n",
       "      <td>mod-log-likelihood</td>\n",
       "      <td>-1.000000</td>\n",
       "      <td>inf</td>\n",
       "      <td>4.0</td>\n",
       "      <td>0.000000e+00</td>\n",
       "      <td>inf</td>\n",
       "      <td>1.000000</td>\n",
       "    </tr>\n",
       "    <tr>\n",
       "      <th>5</th>\n",
       "      <td>neyman</td>\n",
       "      <td>-2.000000</td>\n",
       "      <td>NaN</td>\n",
       "      <td>4.0</td>\n",
       "      <td>NaN</td>\n",
       "      <td>NaN</td>\n",
       "      <td>NaN</td>\n",
       "    </tr>\n",
       "  </tbody>\n",
       "</table>\n",
       "</div>"
      ],
      "text/plain": [
       "                 test    lambda        chi2  dof          pval    cramer  \\\n",
       "0             pearson  1.000000   84.745675  4.0  1.717625e-17  0.291111   \n",
       "1        cressie-read  0.666667   89.164397  4.0  1.981493e-18  0.298604   \n",
       "2      log-likelihood  0.000000  108.047053  4.0  1.898580e-22  0.328705   \n",
       "3       freeman-tukey -0.500000         NaN  4.0           NaN       NaN   \n",
       "4  mod-log-likelihood -1.000000         inf  4.0  0.000000e+00       inf   \n",
       "5              neyman -2.000000         NaN  4.0           NaN       NaN   \n",
       "\n",
       "      power  \n",
       "0  0.999915  \n",
       "1  0.999956  \n",
       "2  0.999998  \n",
       "3       NaN  \n",
       "4  1.000000  \n",
       "5       NaN  "
      ]
     },
     "execution_count": 33,
     "metadata": {},
     "output_type": "execute_result"
    }
   ],
   "source": [
    "summary"
   ]
  },
  {
   "cell_type": "markdown",
   "metadata": {
    "id": "3YxYCVbio8iM"
   },
   "source": [
    "### 4.2. Proportion test\n",
    "In R, Yate's correction chi-squared test is used for the `prop.test()` function. A Pearson's chi-squared is upward bias for 2x2 contingency table - an upwards bias tends to make results larger than they should be so Yate's correction is a regularization term in the formula of chi-squared statistic. However, Yate correction shouldn't be used because the correction is too strict for making the decision on data. In that case, `stats.chisquare()` function can be used for proportion chi-squared."
   ]
  },
  {
   "cell_type": "markdown",
   "metadata": {},
   "source": [
    ":::{admonition} Case study\n",
    ":class: seealso\n",
    "\n",
    "The number of officers is equal to the number of salespersons and is 5 times greater than the number of managers, true or false?\n",
    "\n",
    "- $H_0: p_1=1/11, p_2=p_3=5/11$\n",
    "- $H_1$: There is at least one incorrect equation.\n",
    "\n",
    ":::"
   ]
  },
  {
   "cell_type": "code",
   "execution_count": 34,
   "metadata": {},
   "outputs": [],
   "source": [
    "dfChi = df.groupby('job').count()[['id']].reset_index()\n",
    "\n",
    "dfChi['obs'] = dfChi.id/len(df)\n",
    "dfChi['exp'] = [1/11,5/11,5/11]"
   ]
  },
  {
   "cell_type": "code",
   "execution_count": 35,
   "metadata": {},
   "outputs": [
    {
     "data": {
      "text/html": [
       "<div>\n",
       "<style scoped>\n",
       "    .dataframe tbody tr th:only-of-type {\n",
       "        vertical-align: middle;\n",
       "    }\n",
       "\n",
       "    .dataframe tbody tr th {\n",
       "        vertical-align: top;\n",
       "    }\n",
       "\n",
       "    .dataframe thead th {\n",
       "        text-align: right;\n",
       "    }\n",
       "</style>\n",
       "<table border=\"1\" class=\"dataframe\">\n",
       "  <thead>\n",
       "    <tr style=\"text-align: right;\">\n",
       "      <th></th>\n",
       "      <th>job</th>\n",
       "      <th>id</th>\n",
       "      <th>obs</th>\n",
       "      <th>exp</th>\n",
       "    </tr>\n",
       "  </thead>\n",
       "  <tbody>\n",
       "    <tr>\n",
       "      <th>0</th>\n",
       "      <td>manager</td>\n",
       "      <td>44</td>\n",
       "      <td>0.088</td>\n",
       "      <td>0.090909</td>\n",
       "    </tr>\n",
       "    <tr>\n",
       "      <th>1</th>\n",
       "      <td>officer</td>\n",
       "      <td>239</td>\n",
       "      <td>0.478</td>\n",
       "      <td>0.454545</td>\n",
       "    </tr>\n",
       "    <tr>\n",
       "      <th>2</th>\n",
       "      <td>sale</td>\n",
       "      <td>217</td>\n",
       "      <td>0.434</td>\n",
       "      <td>0.454545</td>\n",
       "    </tr>\n",
       "  </tbody>\n",
       "</table>\n",
       "</div>"
      ],
      "text/plain": [
       "       job   id    obs       exp\n",
       "0  manager   44  0.088  0.090909\n",
       "1  officer  239  0.478  0.454545\n",
       "2     sale  217  0.434  0.454545"
      ]
     },
     "execution_count": 35,
     "metadata": {},
     "output_type": "execute_result"
    }
   ],
   "source": [
    "dfChi"
   ]
  },
  {
   "cell_type": "code",
   "execution_count": 36,
   "metadata": {},
   "outputs": [
    {
     "data": {
      "text/plain": [
       "Power_divergenceResult(statistic=0.0022319999999999987, pvalue=0.9988846224964097)"
      ]
     },
     "execution_count": 36,
     "metadata": {},
     "output_type": "execute_result"
    }
   ],
   "source": [
    "stats.chisquare(dfChi.obs,dfChi.exp)"
   ]
  },
  {
   "cell_type": "markdown",
   "metadata": {},
   "source": [
    "## 5. ANOVA\n",
    "[ANOVA] (Analysis of Variance) is a technique involving a collection of statistical tests analyzing the difference of the means of two or more groups. The means is calculated from a quantitative variable; the groups are determined using qualitative variables.\n",
    "\n",
    "[ANOVA]: https://en.wikipedia.org/wiki/Analysis_of_variance"
   ]
  },
  {
   "cell_type": "markdown",
   "metadata": {},
   "source": [
    "### 5.1. One-way ANOVA\n",
    "Usage: Compare multiple population means when there is a categorical variable containing at least three categories.\n",
    "\n",
    "Assumptions:\n",
    "- Populations are normally distributed\n",
    "- Samples are random\n",
    "- Homogeneity of variances\n",
    "\n",
    "The work flow:\n",
    "1. Test the homogeneity of variances, using one of the following tests:\n",
    "    - [Bartlett's test], implemented via [`stats.bartlett()`]\n",
    "    - [Levene's test], implemented via [`stats.levene()`]\n",
    "    - Fligner-Killeen test, implemented via [`stats.fligner()`]\n",
    "2. Test the equality of population means:\n",
    "    - If the variances are equal, use [`stats.f_oneway()`] or [`pg.anova()`]\n",
    "    - If the variances are not equal, use [`pg.welch_anova()`]\n",
    "3. Post-hoc test to compare pairwise population means:\n",
    "    - If the variances are equal, use [Tukey's HSD test], implemented via [`pg.pairwise_tukey()`]\n",
    "    - If the variances are not equal, use Games-Howell test, implemented via [`pg.pairwise_gameshowell()`]\n",
    "    \n",
    "[Bartlett's test]: https://en.wikipedia.org/wiki/Bartlett%27s_test\n",
    "[`stats.bartlett()`]: https://docs.scipy.org/doc/scipy/reference/generated/scipy.stats.bartlett.html\n",
    "[Levene's test]: https://en.wikipedia.org/wiki/Levene%27s_test\n",
    "[`stats.levene()`]: https://docs.scipy.org/doc/scipy/reference/generated/scipy.stats.levene.html\n",
    "[`stats.fligner()`]: https://docs.scipy.org/doc/scipy/reference/generated/scipy.stats.fligner.html\n",
    "[`stats.f_oneway()`]: https://docs.scipy.org/doc/scipy/reference/generated/scipy.stats.f_oneway.html\n",
    "[`pg.anova()`]: https://pingouin-stats.org/build/html/generated/pingouin.anova.html\n",
    "[`pg.welch_anova()`]: https://pingouin-stats.org/build/html/generated/pingouin.welch_anova.html\n",
    "[Tukey's HSD test]: https://en.wikipedia.org/wiki/Tukey%27s_range_test\n",
    "[`pg.pairwise_tukey()`]: https://pingouin-stats.org/build/html/generated/pingouin.pairwise_tukey.html\n",
    "[`pg.pairwise_gameshowell()`]: https://pingouin-stats.org/build/html/generated/pingouin.pairwise_gameshowell.html"
   ]
  },
  {
   "cell_type": "code",
   "execution_count": 37,
   "metadata": {
    "colab": {
     "base_uri": "https://localhost:8080/"
    },
    "id": "5aGY_tGzipDo",
    "outputId": "bbbdb553-91da-4702-b87c-ede2a9346878",
    "tags": [
     "remove-cell"
    ]
   },
   "outputs": [],
   "source": [
    "import numpy as np\n",
    "import pandas as pd\n",
    "from scipy import stats\n",
    "import pingouin as pg"
   ]
  },
  {
   "cell_type": "code",
   "execution_count": 4,
   "metadata": {
    "colab": {
     "base_uri": "https://localhost:8080/",
     "height": 224
    },
    "execution": {
     "iopub.execute_input": "2023-01-21T02:23:57.055958Z",
     "iopub.status.busy": "2023-01-21T02:23:57.055614Z",
     "iopub.status.idle": "2023-01-21T02:23:57.069102Z",
     "shell.execute_reply": "2023-01-21T02:23:57.068135Z",
     "shell.execute_reply.started": "2023-01-21T02:23:57.055933Z"
    },
    "id": "fs_rCPNBP-UF",
    "outputId": "df4e484a-2a39-46ef-a887-5a2e09ee2c1e",
    "tags": []
   },
   "outputs": [
    {
     "data": {
      "text/html": [
       "<div>\n",
       "<style scoped>\n",
       "    .dataframe tbody tr th:only-of-type {\n",
       "        vertical-align: middle;\n",
       "    }\n",
       "\n",
       "    .dataframe tbody tr th {\n",
       "        vertical-align: top;\n",
       "    }\n",
       "\n",
       "    .dataframe thead th {\n",
       "        text-align: right;\n",
       "    }\n",
       "</style>\n",
       "<table border=\"1\" class=\"dataframe\">\n",
       "  <thead>\n",
       "    <tr style=\"text-align: right;\">\n",
       "      <th></th>\n",
       "      <th>id</th>\n",
       "      <th>area</th>\n",
       "      <th>gender</th>\n",
       "      <th>age</th>\n",
       "      <th>age_group</th>\n",
       "      <th>degree</th>\n",
       "      <th>job</th>\n",
       "      <th>income</th>\n",
       "    </tr>\n",
       "  </thead>\n",
       "  <tbody>\n",
       "    <tr>\n",
       "      <th>0</th>\n",
       "      <td>1</td>\n",
       "      <td>central</td>\n",
       "      <td>female</td>\n",
       "      <td>69</td>\n",
       "      <td>middle</td>\n",
       "      <td>master</td>\n",
       "      <td>manager</td>\n",
       "      <td>33250</td>\n",
       "    </tr>\n",
       "    <tr>\n",
       "      <th>1</th>\n",
       "      <td>2</td>\n",
       "      <td>southern</td>\n",
       "      <td>female</td>\n",
       "      <td>50</td>\n",
       "      <td>middle</td>\n",
       "      <td>highshool</td>\n",
       "      <td>officer</td>\n",
       "      <td>6960</td>\n",
       "    </tr>\n",
       "    <tr>\n",
       "      <th>2</th>\n",
       "      <td>3</td>\n",
       "      <td>northern</td>\n",
       "      <td>male</td>\n",
       "      <td>73</td>\n",
       "      <td>elder</td>\n",
       "      <td>highshool</td>\n",
       "      <td>officer</td>\n",
       "      <td>11100</td>\n",
       "    </tr>\n",
       "    <tr>\n",
       "      <th>3</th>\n",
       "      <td>4</td>\n",
       "      <td>northern</td>\n",
       "      <td>female</td>\n",
       "      <td>73</td>\n",
       "      <td>elder</td>\n",
       "      <td>highshool</td>\n",
       "      <td>officer</td>\n",
       "      <td>11100</td>\n",
       "    </tr>\n",
       "    <tr>\n",
       "      <th>4</th>\n",
       "      <td>5</td>\n",
       "      <td>central</td>\n",
       "      <td>male</td>\n",
       "      <td>69</td>\n",
       "      <td>middle</td>\n",
       "      <td>master</td>\n",
       "      <td>officer</td>\n",
       "      <td>16140</td>\n",
       "    </tr>\n",
       "  </tbody>\n",
       "</table>\n",
       "</div>"
      ],
      "text/plain": [
       "   id      area  gender  age age_group     degree      job  income\n",
       "0   1   central  female   69    middle     master  manager   33250\n",
       "1   2  southern  female   50    middle  highshool  officer    6960\n",
       "2   3  northern    male   73     elder  highshool  officer   11100\n",
       "3   4  northern  female   73     elder  highshool  officer   11100\n",
       "4   5   central    male   69    middle     master  officer   16140"
      ]
     },
     "execution_count": 4,
     "metadata": {},
     "output_type": "execute_result"
    }
   ],
   "source": [
    "columns = ['age', 'gender', 'income', 'age_group', 'degree', 'area', 'id', 'job']\n",
    "df = pd.read_csv('../data/hypothesis.csv', usecols=columns)\n",
    "df.head()"
   ]
  },
  {
   "cell_type": "markdown",
   "metadata": {},
   "source": [
    ":::{admonition} Case study\n",
    ":class: seealso\n",
    "\n",
    "Is there a difference in average income between 3 areas (Central, Southern and Northern)? If there is, which group differs from the others?\n",
    "\n",
    ":::"
   ]
  },
  {
   "cell_type": "markdown",
   "metadata": {},
   "source": [
    "*Step 1*: Check the equality of population variances. If p-value $<0.05$, then reject $H_0$. The hypotheses:\n",
    "- $H_0: \\sigma_1^2 = \\sigma_2^2 = \\dots = \\sigma_k^2$\n",
    "- $H_1$: Exist at least one pair $\\sigma_i^2 \\neq \\sigma_j^2 $ where $i \\neq j$"
   ]
  },
  {
   "cell_type": "code",
   "execution_count": 39,
   "metadata": {},
   "outputs": [],
   "source": [
    "central = df[df['area'] =='central']['income']\n",
    "northern = df[df['area'] =='northern']['income']\n",
    "southern = df[df['area'] =='southern']['income']"
   ]
  },
  {
   "cell_type": "code",
   "execution_count": 40,
   "metadata": {},
   "outputs": [
    {
     "data": {
      "text/plain": [
       "BartlettResult(statistic=865.4773139975722, pvalue=1.1587484312813138e-188)"
      ]
     },
     "execution_count": 40,
     "metadata": {},
     "output_type": "execute_result"
    }
   ],
   "source": [
    "stats.bartlett(central, northern, southern)"
   ]
  },
  {
   "cell_type": "markdown",
   "metadata": {},
   "source": [
    "*Step 2*: Test whether the population means are equal or not. If p-value $<0.05$, then reject $H_0$. The hypotheses:\n",
    "- $H_0$: $\\mu_1 = \\mu_2 = \\dots = \\mu_k$\n",
    "- $H_1$: There is at least one pair $\\mu_i \\neq \\mu_j $ where $i \\neq j$"
   ]
  },
  {
   "cell_type": "code",
   "execution_count": 41,
   "metadata": {},
   "outputs": [
    {
     "data": {
      "text/plain": [
       "F_onewayResult(statistic=222.22364903952098, pvalue=1.1382909390301103e-69)"
      ]
     },
     "execution_count": 41,
     "metadata": {},
     "output_type": "execute_result"
    }
   ],
   "source": [
    "stats.f_oneway(central, northern, southern)"
   ]
  },
  {
   "cell_type": "code",
   "execution_count": 42,
   "metadata": {},
   "outputs": [
    {
     "data": {
      "text/html": [
       "<div>\n",
       "<style scoped>\n",
       "    .dataframe tbody tr th:only-of-type {\n",
       "        vertical-align: middle;\n",
       "    }\n",
       "\n",
       "    .dataframe tbody tr th {\n",
       "        vertical-align: top;\n",
       "    }\n",
       "\n",
       "    .dataframe thead th {\n",
       "        text-align: right;\n",
       "    }\n",
       "</style>\n",
       "<table border=\"1\" class=\"dataframe\">\n",
       "  <thead>\n",
       "    <tr style=\"text-align: right;\">\n",
       "      <th></th>\n",
       "      <th>Source</th>\n",
       "      <th>ddof1</th>\n",
       "      <th>ddof2</th>\n",
       "      <th>F</th>\n",
       "      <th>p-unc</th>\n",
       "      <th>np2</th>\n",
       "    </tr>\n",
       "  </thead>\n",
       "  <tbody>\n",
       "    <tr>\n",
       "      <th>0</th>\n",
       "      <td>area</td>\n",
       "      <td>2</td>\n",
       "      <td>497</td>\n",
       "      <td>222.223649</td>\n",
       "      <td>1.138291e-69</td>\n",
       "      <td>0.472089</td>\n",
       "    </tr>\n",
       "  </tbody>\n",
       "</table>\n",
       "</div>"
      ],
      "text/plain": [
       "  Source  ddof1  ddof2           F         p-unc       np2\n",
       "0   area      2    497  222.223649  1.138291e-69  0.472089"
      ]
     },
     "execution_count": 42,
     "metadata": {},
     "output_type": "execute_result"
    }
   ],
   "source": [
    "pg.anova(data=df, dv='income', between='area')"
   ]
  },
  {
   "cell_type": "code",
   "execution_count": 43,
   "metadata": {},
   "outputs": [
    {
     "data": {
      "text/html": [
       "<div>\n",
       "<style scoped>\n",
       "    .dataframe tbody tr th:only-of-type {\n",
       "        vertical-align: middle;\n",
       "    }\n",
       "\n",
       "    .dataframe tbody tr th {\n",
       "        vertical-align: top;\n",
       "    }\n",
       "\n",
       "    .dataframe thead th {\n",
       "        text-align: right;\n",
       "    }\n",
       "</style>\n",
       "<table border=\"1\" class=\"dataframe\">\n",
       "  <thead>\n",
       "    <tr style=\"text-align: right;\">\n",
       "      <th></th>\n",
       "      <th>Source</th>\n",
       "      <th>ddof1</th>\n",
       "      <th>ddof2</th>\n",
       "      <th>F</th>\n",
       "      <th>p-unc</th>\n",
       "      <th>np2</th>\n",
       "    </tr>\n",
       "  </thead>\n",
       "  <tbody>\n",
       "    <tr>\n",
       "      <th>0</th>\n",
       "      <td>area</td>\n",
       "      <td>2</td>\n",
       "      <td>283.472665</td>\n",
       "      <td>441.890825</td>\n",
       "      <td>7.605951e-88</td>\n",
       "      <td>0.472089</td>\n",
       "    </tr>\n",
       "  </tbody>\n",
       "</table>\n",
       "</div>"
      ],
      "text/plain": [
       "  Source  ddof1       ddof2           F         p-unc       np2\n",
       "0   area      2  283.472665  441.890825  7.605951e-88  0.472089"
      ]
     },
     "execution_count": 43,
     "metadata": {},
     "output_type": "execute_result"
    }
   ],
   "source": [
    "pg.welch_anova(data=df, dv='income', between='area')"
   ]
  },
  {
   "cell_type": "markdown",
   "metadata": {},
   "source": [
    "*Step 3*: Post-hoc test to compare pairwise means. Any pair having p-value $<0.05$ can be considered significantly different in mean. "
   ]
  },
  {
   "cell_type": "code",
   "execution_count": 44,
   "metadata": {
    "tags": [
     "output_scroll"
    ]
   },
   "outputs": [
    {
     "data": {
      "text/html": [
       "<div>\n",
       "<style scoped>\n",
       "    .dataframe tbody tr th:only-of-type {\n",
       "        vertical-align: middle;\n",
       "    }\n",
       "\n",
       "    .dataframe tbody tr th {\n",
       "        vertical-align: top;\n",
       "    }\n",
       "\n",
       "    .dataframe thead th {\n",
       "        text-align: right;\n",
       "    }\n",
       "</style>\n",
       "<table border=\"1\" class=\"dataframe\">\n",
       "  <thead>\n",
       "    <tr style=\"text-align: right;\">\n",
       "      <th></th>\n",
       "      <th>A</th>\n",
       "      <th>B</th>\n",
       "      <th>mean(A)</th>\n",
       "      <th>mean(B)</th>\n",
       "      <th>diff</th>\n",
       "      <th>se</th>\n",
       "      <th>T</th>\n",
       "      <th>p-tukey</th>\n",
       "      <th>hedges</th>\n",
       "    </tr>\n",
       "  </thead>\n",
       "  <tbody>\n",
       "    <tr>\n",
       "      <th>0</th>\n",
       "      <td>central</td>\n",
       "      <td>northern</td>\n",
       "      <td>19586.096618</td>\n",
       "      <td>10750.421622</td>\n",
       "      <td>8835.674997</td>\n",
       "      <td>526.240020</td>\n",
       "      <td>16.790200</td>\n",
       "      <td>0.001</td>\n",
       "      <td>1.695475</td>\n",
       "    </tr>\n",
       "    <tr>\n",
       "      <th>1</th>\n",
       "      <td>central</td>\n",
       "      <td>southern</td>\n",
       "      <td>19586.096618</td>\n",
       "      <td>8209.814815</td>\n",
       "      <td>11376.281804</td>\n",
       "      <td>617.404943</td>\n",
       "      <td>18.425965</td>\n",
       "      <td>0.001</td>\n",
       "      <td>2.181955</td>\n",
       "    </tr>\n",
       "    <tr>\n",
       "      <th>2</th>\n",
       "      <td>northern</td>\n",
       "      <td>southern</td>\n",
       "      <td>10750.421622</td>\n",
       "      <td>8209.814815</td>\n",
       "      <td>2540.606807</td>\n",
       "      <td>629.865678</td>\n",
       "      <td>4.033569</td>\n",
       "      <td>0.001</td>\n",
       "      <td>0.487196</td>\n",
       "    </tr>\n",
       "  </tbody>\n",
       "</table>\n",
       "</div>"
      ],
      "text/plain": [
       "          A         B       mean(A)       mean(B)          diff          se  \\\n",
       "0   central  northern  19586.096618  10750.421622   8835.674997  526.240020   \n",
       "1   central  southern  19586.096618   8209.814815  11376.281804  617.404943   \n",
       "2  northern  southern  10750.421622   8209.814815   2540.606807  629.865678   \n",
       "\n",
       "           T  p-tukey    hedges  \n",
       "0  16.790200    0.001  1.695475  \n",
       "1  18.425965    0.001  2.181955  \n",
       "2   4.033569    0.001  0.487196  "
      ]
     },
     "execution_count": 44,
     "metadata": {},
     "output_type": "execute_result"
    }
   ],
   "source": [
    "pg.pairwise_tukey(data=df, dv='income', between='area')"
   ]
  },
  {
   "cell_type": "code",
   "execution_count": 45,
   "metadata": {
    "tags": [
     "output_scroll"
    ]
   },
   "outputs": [
    {
     "data": {
      "text/html": [
       "<div>\n",
       "<style scoped>\n",
       "    .dataframe tbody tr th:only-of-type {\n",
       "        vertical-align: middle;\n",
       "    }\n",
       "\n",
       "    .dataframe tbody tr th {\n",
       "        vertical-align: top;\n",
       "    }\n",
       "\n",
       "    .dataframe thead th {\n",
       "        text-align: right;\n",
       "    }\n",
       "</style>\n",
       "<table border=\"1\" class=\"dataframe\">\n",
       "  <thead>\n",
       "    <tr style=\"text-align: right;\">\n",
       "      <th></th>\n",
       "      <th>A</th>\n",
       "      <th>B</th>\n",
       "      <th>mean(A)</th>\n",
       "      <th>mean(B)</th>\n",
       "      <th>diff</th>\n",
       "      <th>se</th>\n",
       "      <th>T</th>\n",
       "      <th>df</th>\n",
       "      <th>pval</th>\n",
       "      <th>hedges</th>\n",
       "    </tr>\n",
       "  </thead>\n",
       "  <tbody>\n",
       "    <tr>\n",
       "      <th>0</th>\n",
       "      <td>central</td>\n",
       "      <td>northern</td>\n",
       "      <td>19586.096618</td>\n",
       "      <td>10750.421622</td>\n",
       "      <td>8835.674997</td>\n",
       "      <td>560.507528</td>\n",
       "      <td>15.763704</td>\n",
       "      <td>211.211292</td>\n",
       "      <td>0.001</td>\n",
       "      <td>1.591819</td>\n",
       "    </tr>\n",
       "    <tr>\n",
       "      <th>1</th>\n",
       "      <td>central</td>\n",
       "      <td>southern</td>\n",
       "      <td>19586.096618</td>\n",
       "      <td>8209.814815</td>\n",
       "      <td>11376.281804</td>\n",
       "      <td>563.372921</td>\n",
       "      <td>20.193164</td>\n",
       "      <td>215.382039</td>\n",
       "      <td>0.001</td>\n",
       "      <td>2.391222</td>\n",
       "    </tr>\n",
       "    <tr>\n",
       "      <th>2</th>\n",
       "      <td>northern</td>\n",
       "      <td>southern</td>\n",
       "      <td>10750.421622</td>\n",
       "      <td>8209.814815</td>\n",
       "      <td>2540.606807</td>\n",
       "      <td>105.242773</td>\n",
       "      <td>24.140440</td>\n",
       "      <td>218.527723</td>\n",
       "      <td>0.001</td>\n",
       "      <td>2.915812</td>\n",
       "    </tr>\n",
       "  </tbody>\n",
       "</table>\n",
       "</div>"
      ],
      "text/plain": [
       "          A         B       mean(A)       mean(B)          diff          se  \\\n",
       "0   central  northern  19586.096618  10750.421622   8835.674997  560.507528   \n",
       "1   central  southern  19586.096618   8209.814815  11376.281804  563.372921   \n",
       "2  northern  southern  10750.421622   8209.814815   2540.606807  105.242773   \n",
       "\n",
       "           T          df   pval    hedges  \n",
       "0  15.763704  211.211292  0.001  1.591819  \n",
       "1  20.193164  215.382039  0.001  2.391222  \n",
       "2  24.140440  218.527723  0.001  2.915812  "
      ]
     },
     "execution_count": 45,
     "metadata": {},
     "output_type": "execute_result"
    }
   ],
   "source": [
    "pg.pairwise_gameshowell(data=df, dv='income', between='area')"
   ]
  },
  {
   "cell_type": "markdown",
   "metadata": {},
   "source": [
    "## 6. Distribution test\n",
    "The [Kolmogorov-Smirnov test](https://en.wikipedia.org/wiki/Kolmogorov%E2%80%93Smirnov_test) (KS test) is used to test whether a random variable follows a specific distribution or not. The test statistic is calculated as the difference between the empirical CDF of the observed variable and the CDF of the reference distribution. In SciPy, the `stats.ks()` function performs Kolmogorov-Smirnov test. Here are the popular distributions it supports:\n",
    "\n",
    "Distribution|function|Parameters         |\n",
    ":-----------|:---------|:------------------|\n",
    "Binomial    |`binom`  |`size`, `prob`     |\n",
    "Poisson     |`poisson`   |`lambda`           |\n",
    "Unifrom     |`uniform`   |`min`, `max`       |\n",
    "Normal      |`norm`   |`mean`, `sd`       |\n",
    "Cauchy      |`cauchy` |`location`, `scale`|\n",
    "T           |`t`      |`df`               |\n",
    "F           |`f`      |`df1`, `df2`       |\n",
    "Chi-squared |`chi`  |`df`               |\n",
    "Beta        |`beta`   |`shape1`, `shape2` |\n",
    "Gamma       |`gamma`  |`shape`, `scale`   |"
   ]
  },
  {
   "cell_type": "code",
   "execution_count": 46,
   "metadata": {
    "colab": {
     "base_uri": "https://localhost:8080/"
    },
    "id": "5aGY_tGzipDo",
    "outputId": "bbbdb553-91da-4702-b87c-ede2a9346878",
    "tags": [
     "remove-cell"
    ]
   },
   "outputs": [],
   "source": [
    "import numpy as np\n",
    "import pandas as pd\n",
    "from scipy import stats"
   ]
  },
  {
   "cell_type": "code",
   "execution_count": 4,
   "metadata": {
    "colab": {
     "base_uri": "https://localhost:8080/",
     "height": 224
    },
    "execution": {
     "iopub.execute_input": "2023-01-21T02:23:57.055958Z",
     "iopub.status.busy": "2023-01-21T02:23:57.055614Z",
     "iopub.status.idle": "2023-01-21T02:23:57.069102Z",
     "shell.execute_reply": "2023-01-21T02:23:57.068135Z",
     "shell.execute_reply.started": "2023-01-21T02:23:57.055933Z"
    },
    "id": "fs_rCPNBP-UF",
    "outputId": "df4e484a-2a39-46ef-a887-5a2e09ee2c1e",
    "tags": []
   },
   "outputs": [
    {
     "data": {
      "text/html": [
       "<div>\n",
       "<style scoped>\n",
       "    .dataframe tbody tr th:only-of-type {\n",
       "        vertical-align: middle;\n",
       "    }\n",
       "\n",
       "    .dataframe tbody tr th {\n",
       "        vertical-align: top;\n",
       "    }\n",
       "\n",
       "    .dataframe thead th {\n",
       "        text-align: right;\n",
       "    }\n",
       "</style>\n",
       "<table border=\"1\" class=\"dataframe\">\n",
       "  <thead>\n",
       "    <tr style=\"text-align: right;\">\n",
       "      <th></th>\n",
       "      <th>id</th>\n",
       "      <th>area</th>\n",
       "      <th>gender</th>\n",
       "      <th>age</th>\n",
       "      <th>age_group</th>\n",
       "      <th>degree</th>\n",
       "      <th>job</th>\n",
       "      <th>income</th>\n",
       "    </tr>\n",
       "  </thead>\n",
       "  <tbody>\n",
       "    <tr>\n",
       "      <th>0</th>\n",
       "      <td>1</td>\n",
       "      <td>central</td>\n",
       "      <td>female</td>\n",
       "      <td>69</td>\n",
       "      <td>middle</td>\n",
       "      <td>master</td>\n",
       "      <td>manager</td>\n",
       "      <td>33250</td>\n",
       "    </tr>\n",
       "    <tr>\n",
       "      <th>1</th>\n",
       "      <td>2</td>\n",
       "      <td>southern</td>\n",
       "      <td>female</td>\n",
       "      <td>50</td>\n",
       "      <td>middle</td>\n",
       "      <td>highshool</td>\n",
       "      <td>officer</td>\n",
       "      <td>6960</td>\n",
       "    </tr>\n",
       "    <tr>\n",
       "      <th>2</th>\n",
       "      <td>3</td>\n",
       "      <td>northern</td>\n",
       "      <td>male</td>\n",
       "      <td>73</td>\n",
       "      <td>elder</td>\n",
       "      <td>highshool</td>\n",
       "      <td>officer</td>\n",
       "      <td>11100</td>\n",
       "    </tr>\n",
       "    <tr>\n",
       "      <th>3</th>\n",
       "      <td>4</td>\n",
       "      <td>northern</td>\n",
       "      <td>female</td>\n",
       "      <td>73</td>\n",
       "      <td>elder</td>\n",
       "      <td>highshool</td>\n",
       "      <td>officer</td>\n",
       "      <td>11100</td>\n",
       "    </tr>\n",
       "    <tr>\n",
       "      <th>4</th>\n",
       "      <td>5</td>\n",
       "      <td>central</td>\n",
       "      <td>male</td>\n",
       "      <td>69</td>\n",
       "      <td>middle</td>\n",
       "      <td>master</td>\n",
       "      <td>officer</td>\n",
       "      <td>16140</td>\n",
       "    </tr>\n",
       "  </tbody>\n",
       "</table>\n",
       "</div>"
      ],
      "text/plain": [
       "   id      area  gender  age age_group     degree      job  income\n",
       "0   1   central  female   69    middle     master  manager   33250\n",
       "1   2  southern  female   50    middle  highshool  officer    6960\n",
       "2   3  northern    male   73     elder  highshool  officer   11100\n",
       "3   4  northern  female   73     elder  highshool  officer   11100\n",
       "4   5   central    male   69    middle     master  officer   16140"
      ]
     },
     "execution_count": 4,
     "metadata": {},
     "output_type": "execute_result"
    }
   ],
   "source": [
    "columns = ['age', 'gender', 'income', 'age_group', 'degree', 'area', 'id', 'job']\n",
    "df = pd.read_csv('../data/hypothesis.csv', usecols=columns)\n",
    "df.head()"
   ]
  },
  {
   "cell_type": "code",
   "execution_count": 48,
   "metadata": {},
   "outputs": [
    {
     "data": {
      "text/plain": [
       "KstestResult(statistic=1.0, pvalue=0.0)"
      ]
     },
     "execution_count": 48,
     "metadata": {},
     "output_type": "execute_result"
    }
   ],
   "source": [
    "stats.kstest(df.age, cdf = 'norm', args=(24, 0.05))"
   ]
  }
 ],
 "metadata": {
  "colab": {
   "collapsed_sections": [],
   "name": "Hypothesis testingg.ipynb",
   "provenance": []
  },
  "kernelspec": {
   "display_name": "Python 3 (ipykernel)",
   "language": "python",
   "name": "python3"
  },
  "language_info": {
   "codemirror_mode": {
    "name": "ipython",
    "version": 3
   },
   "file_extension": ".py",
   "mimetype": "text/x-python",
   "name": "python",
   "nbconvert_exporter": "python",
   "pygments_lexer": "ipython3",
   "version": "3.8.8"
  },
  "toc-autonumbering": false,
  "toc-showcode": false,
  "toc-showmarkdowntxt": false,
  "toc-showtags": false
 },
 "nbformat": 4,
 "nbformat_minor": 4
}
