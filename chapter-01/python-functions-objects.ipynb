{
 "cells": [
  {
   "cell_type": "markdown",
   "metadata": {},
   "source": [
    "# Python: Functions and Objects"
   ]
  },
  {
   "cell_type": "code",
   "execution_count": 1,
   "metadata": {
    "execution": {
     "iopub.execute_input": "2023-01-24T08:23:51.003397Z",
     "iopub.status.busy": "2023-01-24T08:23:51.002918Z",
     "iopub.status.idle": "2023-01-24T08:23:51.015815Z",
     "shell.execute_reply": "2023-01-24T08:23:51.014966Z",
     "shell.execute_reply.started": "2023-01-24T08:23:51.003303Z"
    },
    "tags": [
     "hide-cell"
    ]
   },
   "outputs": [
    {
     "data": {
      "text/html": [
       "<style>\n",
       "th {font-size:12px}\n",
       "td {font-size:12px}\n",
       "p {font-size:14px}\n",
       "div.highlight {font-size:14px}\n",
       "</style>\n"
      ],
      "text/plain": [
       "<IPython.core.display.HTML object>"
      ]
     },
     "metadata": {},
     "output_type": "display_data"
    }
   ],
   "source": [
    "%%html\n",
    "<style>\n",
    "th {font-size:12px}\n",
    "td {font-size:12px}\n",
    "p {font-size:14px}\n",
    "div.highlight {font-size:14px}\n",
    "</style>"
   ]
  },
  {
   "cell_type": "markdown",
   "metadata": {},
   "source": [
    "## 1. Functions\n",
    "There are two types of function in Python:\n",
    "- Built-in: functions that are pre-defined and always available for use.\n",
    "- User-defined: functions that are created by users to make code blocks reusable and more readable."
   ]
  },
  {
   "cell_type": "markdown",
   "metadata": {},
   "source": [
    "### 1.1. Function as object"
   ]
  },
  {
   "cell_type": "code",
   "execution_count": 25,
   "metadata": {},
   "outputs": [
    {
     "data": {
      "text/plain": [
       "'print'"
      ]
     },
     "execution_count": 25,
     "metadata": {},
     "output_type": "execute_result"
    }
   ],
   "source": [
    "print.__name__"
   ]
  },
  {
   "cell_type": "markdown",
   "metadata": {},
   "source": [
    "Now give an alias `pr` to the `print()` function, let's see its behaviours."
   ]
  },
  {
   "cell_type": "code",
   "execution_count": 28,
   "metadata": {},
   "outputs": [
    {
     "name": "stdout",
     "output_type": "stream",
     "text": [
      "Lion\n"
     ]
    }
   ],
   "source": [
    "pr = print\n",
    "pr('Lion')"
   ]
  },
  {
   "cell_type": "code",
   "execution_count": 29,
   "metadata": {},
   "outputs": [
    {
     "data": {
      "text/plain": [
       "'print'"
      ]
     },
     "execution_count": 29,
     "metadata": {},
     "output_type": "execute_result"
    }
   ],
   "source": [
    "pr.__name__"
   ]
  },
  {
   "cell_type": "markdown",
   "metadata": {},
   "source": [
    "### 1.2. User-defined functions\n",
    "A new function can be created by using the `def` statement. Arguments passed to a function are the input. The output of the function is indicated using the `return` statement, otherwise the function outputs `None`."
   ]
  },
  {
   "cell_type": "markdown",
   "metadata": {},
   "source": [
    ":::{tip}\n",
    "\n",
    "- A function should only do a single task.\n",
    "- Always include a string at the start of the function body (called the *docstring*) that describes what the function does.\n",
    "- Use `:` and `->` to annotate the type of input and output, respectively. They have no actual syntactical effect, only for information and is optional.\n",
    "\n",
    ":::"
   ]
  },
  {
   "cell_type": "code",
   "execution_count": 39,
   "metadata": {},
   "outputs": [],
   "source": [
    "def exp(base:float, power:int) -> float:\n",
    "    'A function that computes exponentials.'\n",
    "    return base**power"
   ]
  },
  {
   "cell_type": "code",
   "execution_count": 41,
   "metadata": {},
   "outputs": [
    {
     "data": {
      "text/plain": [
       "8"
      ]
     },
     "execution_count": 41,
     "metadata": {},
     "output_type": "execute_result"
    }
   ],
   "source": [
    "exp(2, 3)"
   ]
  },
  {
   "cell_type": "code",
   "execution_count": 42,
   "metadata": {},
   "outputs": [
    {
     "data": {
      "text/plain": [
       "25"
      ]
     },
     "execution_count": 42,
     "metadata": {},
     "output_type": "execute_result"
    }
   ],
   "source": [
    "exp(base=-5, power=2)"
   ]
  },
  {
   "cell_type": "code",
   "execution_count": 43,
   "metadata": {},
   "outputs": [
    {
     "data": {
      "text/plain": [
       "'A function that computes exponentials.'"
      ]
     },
     "execution_count": 43,
     "metadata": {},
     "output_type": "execute_result"
    }
   ],
   "source": [
    "exp.__doc__"
   ]
  },
  {
   "cell_type": "markdown",
   "metadata": {},
   "source": [
    "#### Default values"
   ]
  },
  {
   "cell_type": "code",
   "execution_count": 1,
   "metadata": {},
   "outputs": [
    {
     "data": {
      "text/plain": [
       "25"
      ]
     },
     "execution_count": 1,
     "metadata": {},
     "output_type": "execute_result"
    }
   ],
   "source": [
    "def exp(base, power=2):\n",
    "    return base**power\n",
    "exp(base=5)"
   ]
  },
  {
   "cell_type": "code",
   "execution_count": 9,
   "metadata": {},
   "outputs": [
    {
     "data": {
      "text/plain": [
       "81"
      ]
     },
     "execution_count": 9,
     "metadata": {},
     "output_type": "execute_result"
    }
   ],
   "source": [
    "exp(base=3, power=4)"
   ]
  },
  {
   "cell_type": "code",
   "execution_count": 10,
   "metadata": {},
   "outputs": [
    {
     "data": {
      "text/plain": [
       "9"
      ]
     },
     "execution_count": 10,
     "metadata": {},
     "output_type": "execute_result"
    }
   ],
   "source": [
    "exp(3)"
   ]
  },
  {
   "cell_type": "markdown",
   "metadata": {
    "colab_type": "text",
    "id": "N3Xaj2Lhcsv1"
   },
   "source": [
    "#### Variable scope\n",
    "Variables are only available in the scope where they are defined. Python currently supports *local* and *global* variables. By default, all variables declared in functions are local, and the `global` statement can be used to change the scope of the variable."
   ]
  },
  {
   "cell_type": "code",
   "execution_count": 20,
   "metadata": {},
   "outputs": [
    {
     "name": "stdout",
     "output_type": "stream",
     "text": [
      "17\n",
      "100\n"
     ]
    }
   ],
   "source": [
    "y = 100\n",
    "\n",
    "def f(x):\n",
    "    y = x + 7\n",
    "    return y\n",
    "\n",
    "print(f(10))\n",
    "print(y)"
   ]
  },
  {
   "cell_type": "code",
   "execution_count": 21,
   "metadata": {},
   "outputs": [
    {
     "name": "stdout",
     "output_type": "stream",
     "text": [
      "17\n",
      "17\n"
     ]
    }
   ],
   "source": [
    "y = 100\n",
    "\n",
    "def f(x):\n",
    "    global y\n",
    "    y = x + 7\n",
    "    return y\n",
    "\n",
    "print(f(10))\n",
    "print(y)"
   ]
  },
  {
   "cell_type": "markdown",
   "metadata": {},
   "source": [
    "#### Multiple outputs"
   ]
  },
  {
   "cell_type": "code",
   "execution_count": 1,
   "metadata": {
    "execution": {
     "iopub.execute_input": "2022-11-30T16:09:34.219836Z",
     "iopub.status.busy": "2022-11-30T16:09:34.219410Z",
     "iopub.status.idle": "2022-11-30T16:09:34.223906Z",
     "shell.execute_reply": "2022-11-30T16:09:34.222946Z",
     "shell.execute_reply.started": "2022-11-30T16:09:34.219754Z"
    },
    "tags": []
   },
   "outputs": [],
   "source": [
    "def rectangle(width, length):\n",
    "    perimeter = 2 * (width + length)\n",
    "    area = width * length\n",
    "    return perimeter, area\n",
    "\n",
    "# unpacking the output\n",
    "perimeter, area = rectangle(10, 15)"
   ]
  },
  {
   "cell_type": "markdown",
   "metadata": {},
   "source": [
    "#### Multiple arguments\n",
    "To define a function that takes multiple arguments, Python supports two special syntaxes, `*` and `**`. By convention, they are usually wirtten as `*args` (*arguments*) and `**kwargs` (*keyworded arguments*).\n",
    "- `*args` represents a variable number of arguments being passed to the function. The `args` variable is a tuple.\n",
    "- `**kwargs` represents a variable number of keyworded arguments (or named arguments) being passed to the function. The `kwargs` variable is a dictionary."
   ]
  },
  {
   "cell_type": "code",
   "execution_count": 33,
   "metadata": {},
   "outputs": [
    {
     "data": {
      "text/plain": [
       "4.0"
      ]
     },
     "execution_count": 33,
     "metadata": {},
     "output_type": "execute_result"
    }
   ],
   "source": [
    "def mean(*args):\n",
    "    mean = sum(args) / len(args)\n",
    "    return mean\n",
    "mean(1, 3, 5, 7)"
   ]
  },
  {
   "cell_type": "code",
   "execution_count": 35,
   "metadata": {},
   "outputs": [
    {
     "data": {
      "text/plain": [
       "4.0"
      ]
     },
     "execution_count": 35,
     "metadata": {},
     "output_type": "execute_result"
    }
   ],
   "source": [
    "def mean(**kwargs):\n",
    "    mean = sum(kwargs.values()) / len(kwargs)\n",
    "    return mean\n",
    "mean(a=1, b=3, c=5, d=7)"
   ]
  },
  {
   "cell_type": "markdown",
   "metadata": {
    "colab_type": "text",
    "id": "2s1ed5Z2csyK"
   },
   "source": [
    "#### Lambda functions\n",
    "Python also provides a shorter way to declare a function, making use of the `lambda` statement instead of using `def`. Since a *lambda functions* have no name by default, they are also called *anonymous functions*. The advantage of *lambda functions* are their ability to be written inline, thus are useful to quickly create temporary functions."
   ]
  },
  {
   "cell_type": "code",
   "execution_count": null,
   "metadata": {},
   "outputs": [],
   "source": [
    "lambda x: x*x"
   ]
  },
  {
   "cell_type": "code",
   "execution_count": null,
   "metadata": {},
   "outputs": [],
   "source": [
    "def square(x):\n",
    "    return x*x"
   ]
  },
  {
   "cell_type": "code",
   "execution_count": null,
   "metadata": {},
   "outputs": [],
   "source": [
    "# give the lambda function a name\n",
    "square = lambda x: x*x\n",
    "square(5)"
   ]
  },
  {
   "cell_type": "code",
   "execution_count": 38,
   "metadata": {},
   "outputs": [
    {
     "data": {
      "text/plain": [
       "30"
      ]
     },
     "execution_count": 38,
     "metadata": {},
     "output_type": "execute_result"
    }
   ],
   "source": [
    "product = lambda a, b: a*b\n",
    "product(5, 6)"
   ]
  },
  {
   "cell_type": "code",
   "execution_count": 39,
   "metadata": {},
   "outputs": [
    {
     "data": {
      "text/plain": [
       "25"
      ]
     },
     "execution_count": 39,
     "metadata": {},
     "output_type": "execute_result"
    }
   ],
   "source": [
    "(lambda a, b: a**2 + b**2)(3, 4)"
   ]
  },
  {
   "cell_type": "markdown",
   "metadata": {},
   "source": [
    "### 1.3. Function as argument\n",
    "*Higher-order functions* such as `map()`, `sorted()`, `filter()` may take other functions as arguments."
   ]
  },
  {
   "cell_type": "markdown",
   "metadata": {},
   "source": [
    "#### Mapping"
   ]
  },
  {
   "cell_type": "code",
   "execution_count": 38,
   "metadata": {},
   "outputs": [
    {
     "data": {
      "text/plain": [
       "[5, 4, 7, 7, 4, 6, 7]"
      ]
     },
     "execution_count": 38,
     "metadata": {},
     "output_type": "execute_result"
    }
   ],
   "source": [
    "# map from each word to its length\n",
    "cats = ['tiger', 'lion', 'panther', 'cheetah', 'puma', 'jaguar', 'leopard']\n",
    "list(map(len, cats))"
   ]
  },
  {
   "cell_type": "code",
   "execution_count": 45,
   "metadata": {},
   "outputs": [
    {
     "data": {
      "text/plain": [
       "[25, 16, 9, 4, 1, 1, 4, 9, 16, 25]"
      ]
     },
     "execution_count": 45,
     "metadata": {},
     "output_type": "execute_result"
    }
   ],
   "source": [
    "# map from each number to its square\n",
    "numbers = [-5, -4, -3, -2, -1, 1, 2, 3, 4, 5]\n",
    "list(map(lambda x: x**2, numbers))"
   ]
  },
  {
   "cell_type": "markdown",
   "metadata": {},
   "source": [
    "#### Sorting"
   ]
  },
  {
   "cell_type": "code",
   "execution_count": 37,
   "metadata": {},
   "outputs": [
    {
     "data": {
      "text/plain": [
       "['lion', 'puma', 'tiger', 'jaguar', 'panther', 'cheetah', 'leopard']"
      ]
     },
     "execution_count": 37,
     "metadata": {},
     "output_type": "execute_result"
    }
   ],
   "source": [
    "# sort by item's length\n",
    "cats = ['tiger', 'lion', 'panther', 'cheetah', 'puma', 'jaguar', 'leopard']\n",
    "sorted(cats, key=len)"
   ]
  },
  {
   "cell_type": "code",
   "execution_count": 43,
   "metadata": {},
   "outputs": [
    {
     "data": {
      "text/plain": [
       "[-1, -2, -3, -4, -5, 5, 4, 3, 2, 1]"
      ]
     },
     "execution_count": 43,
     "metadata": {},
     "output_type": "execute_result"
    }
   ],
   "source": [
    "# sort by the reciprocal of each number\n",
    "numbers = [-5, -4, -3, -2, -1, 1, 2, 3, 4, 5]\n",
    "sorted(numbers, key=lambda x: 1/x)"
   ]
  },
  {
   "cell_type": "markdown",
   "metadata": {},
   "source": [
    "#### Filtering"
   ]
  },
  {
   "cell_type": "code",
   "execution_count": 50,
   "metadata": {},
   "outputs": [
    {
     "data": {
      "text/plain": [
       "['tiger', 'panther', 'cheetah', 'leopard']"
      ]
     },
     "execution_count": 50,
     "metadata": {},
     "output_type": "execute_result"
    }
   ],
   "source": [
    "# filter out words containing 'e'\n",
    "cats = ['tiger', 'lion', 'panther', 'cheetah', 'puma', 'jaguar', 'leopard']\n",
    "list(filter(lambda x: 'e' in x, cats))"
   ]
  },
  {
   "cell_type": "code",
   "execution_count": 12,
   "metadata": {},
   "outputs": [
    {
     "data": {
      "text/plain": [
       "[-4, -2, 2, 4]"
      ]
     },
     "execution_count": 12,
     "metadata": {},
     "output_type": "execute_result"
    }
   ],
   "source": [
    "# filter out even numbers\n",
    "numbers = [-5, -4, -3, -2, -1, 1, 2, 3, 4, 5]\n",
    "list(filter(lambda x: x%2==0, numbers))"
   ]
  },
  {
   "cell_type": "markdown",
   "metadata": {},
   "source": [
    "### 1.4. Decorator functions\n",
    "A *dectorator function* in Python is a higher-order function that take an *inner function* as input and extends its functionality. People also call it the wrapper function, due to its behaviour that *wraps* around another function. This concept, in my opinion is quite abstract, so we will learn its usage first, then learn how to create a custom one later."
   ]
  },
  {
   "cell_type": "markdown",
   "metadata": {},
   "source": [
    "#### Practical usage\n",
    "Let's say we want to apply the ReLU function $f(x)=\\max(x,0)$ to a list of numbers. We break this problem into two steps, (1) write the `relu` function that processes a single number and (2) applies it to the entire list. The second step will be implemented using the Numpy's [`vectorize()`] function, as it is faster and more readable that loops.\n",
    "\n",
    "In this program, `vectorize` is the decorator function and `relu` is the inner function. It is written in two equivalent ways, notice that the second way provides a convinient syntax using the `@` symbol.\n",
    "\n",
    "[`vectorize`]: https://numpy.org/doc/stable/reference/generated/numpy.vectorize.html"
   ]
  },
  {
   "cell_type": "code",
   "execution_count": 2,
   "metadata": {},
   "outputs": [],
   "source": [
    "from numpy import vectorize\n",
    "x = range(-4, 5)"
   ]
  },
  {
   "cell_type": "code",
   "execution_count": 3,
   "metadata": {},
   "outputs": [
    {
     "data": {
      "text/plain": [
       "array([0, 0, 0, 0, 0, 1, 2, 3, 4])"
      ]
     },
     "execution_count": 3,
     "metadata": {},
     "output_type": "execute_result"
    }
   ],
   "source": [
    "def relu(x):\n",
    "    return x if x > 0 else 0\n",
    "relu = vectorize(relu)\n",
    "\n",
    "relu(x)"
   ]
  },
  {
   "cell_type": "code",
   "execution_count": 25,
   "metadata": {},
   "outputs": [
    {
     "data": {
      "text/plain": [
       "array([0, 0, 0, 0, 0, 1, 2, 3, 4])"
      ]
     },
     "execution_count": 25,
     "metadata": {},
     "output_type": "execute_result"
    }
   ],
   "source": [
    "@vectorize\n",
    "def relu(x):\n",
    "    return x if x > 0 else 0\n",
    "\n",
    "relu(x)"
   ]
  },
  {
   "cell_type": "markdown",
   "metadata": {},
   "source": [
    "#### Custom decorators\n",
    "In this section we are going to write, from scratch, some useful decorators. A convenience function `wraps` is used to retain the original attributes of the inner function, but does not change the logic."
   ]
  },
  {
   "cell_type": "code",
   "execution_count": 5,
   "metadata": {
    "execution": {
     "iopub.execute_input": "2022-12-03T07:34:30.029902Z",
     "iopub.status.busy": "2022-12-03T07:34:30.029489Z",
     "iopub.status.idle": "2022-12-03T07:34:30.035099Z",
     "shell.execute_reply": "2022-12-03T07:34:30.033895Z",
     "shell.execute_reply.started": "2022-12-03T07:34:30.029876Z"
    },
    "tags": []
   },
   "outputs": [],
   "source": [
    "import logging\n",
    "import datetime as dt\n",
    "import functools\n",
    "\n",
    "def timer(inner):\n",
    "    @functools.wraps(inner)\n",
    "    def _wrapper(*args, **kwargs):\n",
    "        start = dt.datetime.now()\n",
    "        \n",
    "        # call the inner function\n",
    "        output = inner(*args, **kwargs)\n",
    "        \n",
    "        end = dt.datetime.now()\n",
    "        logging.warning(f'Elapsed time {end-start}')\n",
    "        return output\n",
    "    \n",
    "    return _wrapper"
   ]
  },
  {
   "cell_type": "code",
   "execution_count": 6,
   "metadata": {
    "execution": {
     "iopub.execute_input": "2022-12-03T07:34:31.324182Z",
     "iopub.status.busy": "2022-12-03T07:34:31.323674Z",
     "iopub.status.idle": "2022-12-03T07:34:31.837693Z",
     "shell.execute_reply": "2022-12-03T07:34:31.836179Z",
     "shell.execute_reply.started": "2022-12-03T07:34:31.324153Z"
    },
    "tags": []
   },
   "outputs": [
    {
     "name": "stderr",
     "output_type": "stream",
     "text": [
      "WARNING:root:Elapsed time 0:00:00.503537\n"
     ]
    },
    {
     "data": {
      "text/plain": [
       "9"
      ]
     },
     "execution_count": 6,
     "metadata": {},
     "output_type": "execute_result"
    }
   ],
   "source": [
    "import time\n",
    "\n",
    "@timer\n",
    "def exp(base, power=2):\n",
    "    'The exponential function'\n",
    "    time.sleep(0.5)\n",
    "    return base**power\n",
    "\n",
    "exp(3)"
   ]
  },
  {
   "cell_type": "code",
   "execution_count": 8,
   "metadata": {
    "execution": {
     "iopub.execute_input": "2022-12-03T07:34:38.895022Z",
     "iopub.status.busy": "2022-12-03T07:34:38.894586Z",
     "iopub.status.idle": "2022-12-03T07:34:38.899847Z",
     "shell.execute_reply": "2022-12-03T07:34:38.898823Z",
     "shell.execute_reply.started": "2022-12-03T07:34:38.894996Z"
    },
    "tags": []
   },
   "outputs": [
    {
     "data": {
      "text/plain": [
       "'The exponential function'"
      ]
     },
     "execution_count": 8,
     "metadata": {},
     "output_type": "execute_result"
    }
   ],
   "source": [
    "exp.__doc__"
   ]
  },
  {
   "cell_type": "code",
   "execution_count": 25,
   "metadata": {},
   "outputs": [],
   "source": [
    "import time\n",
    "def retry(nRetry):\n",
    "    def retry_decorator(func):\n",
    "        def _wrapper(*args, **kwargs):\n",
    "            for _ in range(nRetry):\n",
    "                try:\n",
    "                    func(*args, **kwargs)\n",
    "                except:\n",
    "                    time.sleep(0.1)\n",
    "        return _wrapper\n",
    "    return retry_decorator"
   ]
  },
  {
   "cell_type": "code",
   "execution_count": 26,
   "metadata": {},
   "outputs": [],
   "source": [
    "@retry(3)\n",
    "def might_fail():\n",
    "    print('Failed')\n",
    "    return 1/0"
   ]
  },
  {
   "cell_type": "code",
   "execution_count": 27,
   "metadata": {},
   "outputs": [
    {
     "name": "stdout",
     "output_type": "stream",
     "text": [
      "Failed\n",
      "Failed\n",
      "Failed\n"
     ]
    }
   ],
   "source": [
    "might_fail()"
   ]
  },
  {
   "cell_type": "markdown",
   "metadata": {},
   "source": [
    "## 2. Classes\n",
    "Python is an [object-oriented programming] (OOP) language, meaning everything in Python is an *object*. On the other hand, objects are *instances* of *classes*, the blueprints for creating objects. In this section, we learn how to invent our own classes to move to the next step of code reproducibility\n",
    "\n",
    "[object-oriented programming]: https://en.wikipedia.org/wiki/Object-oriented_programming"
   ]
  },
  {
   "cell_type": "markdown",
   "metadata": {},
   "source": [
    "### 2.1. Initialization\n",
    "We use the statement `class` to define a new class, followed by any name we want. According to [PEP 8] convention, class names should be capitalized, such as MyClass. The next thing must be done after naming is defining the constructor via the\n",
    "`__init__()`\n",
    "special method. The first argument of this method is always a `self` keyword that represent the *instance* itself.\n",
    "\n",
    "[PEP 8]: https://peps.python.org/pep-0008/"
   ]
  },
  {
   "cell_type": "code",
   "execution_count": 11,
   "metadata": {
    "tags": []
   },
   "outputs": [],
   "source": [
    "class Rectangle:\n",
    "    'This class only stores sizes'\n",
    "    def __init__(self, width, length):\n",
    "        pass"
   ]
  },
  {
   "cell_type": "code",
   "execution_count": 3,
   "metadata": {
    "execution": {
     "iopub.execute_input": "2022-11-30T16:26:43.278631Z",
     "iopub.status.busy": "2022-11-30T16:26:43.278154Z",
     "iopub.status.idle": "2022-11-30T16:26:43.289168Z",
     "shell.execute_reply": "2022-11-30T16:26:43.287871Z",
     "shell.execute_reply.started": "2022-11-30T16:26:43.278593Z"
    },
    "tags": []
   },
   "outputs": [
    {
     "data": {
      "text/plain": [
       "'This class only stores sizes'"
      ]
     },
     "execution_count": 3,
     "metadata": {},
     "output_type": "execute_result"
    }
   ],
   "source": [
    "Rectangle(3, 4).__doc__"
   ]
  },
  {
   "cell_type": "markdown",
   "metadata": {},
   "source": [
    "#### Attributes\n",
    "We start adding to our class some attributes, which are variables defined inside of classes. There are three types of attributes you may see in practice:\n",
    "- *Normal attributes* such as `width_` and `length`. They can be easily manipulated (accessed, modified and deleted). Some libraries such as Scikit-learn name attributes with a trailing underscore to distinguish them with methods.\n",
    "- *Private attributes* with double leading underscore like `__nEdges` indicate *strong* internal use. They attributes invoke *name mangling*, which protects themselves from being modified. In practice, it is recommended by PEP 8 to write private attributes using a leading underscore like `_nCorners` (*weak* internal use). These ones work exactly the same as normal attributes, but people understand the convention and take double care when dealing with such stuff.\n",
    "- *Magical attributes* with double leading and trailing underscore like `__doc__` and `__name__` are special ones that Python create for you. You are free to override those to change the behaviour of your class, but should never make up such names."
   ]
  },
  {
   "cell_type": "code",
   "execution_count": 9,
   "metadata": {
    "execution": {
     "iopub.execute_input": "2022-12-03T07:41:21.818165Z",
     "iopub.status.busy": "2022-12-03T07:41:21.817738Z",
     "iopub.status.idle": "2022-12-03T07:41:21.822837Z",
     "shell.execute_reply": "2022-12-03T07:41:21.821589Z",
     "shell.execute_reply.started": "2022-12-03T07:41:21.818135Z"
    },
    "tags": []
   },
   "outputs": [],
   "source": [
    "class Rectangle:\n",
    "    _nCorners = 4\n",
    "    __nEdges = 4\n",
    "    \n",
    "    def __init__(self, width, length):\n",
    "        self.width_ = width\n",
    "        self.length = length\n",
    "        \n",
    "rec = Rectangle(3, 8)"
   ]
  },
  {
   "cell_type": "code",
   "execution_count": 12,
   "metadata": {},
   "outputs": [
    {
     "data": {
      "text/plain": [
       "3"
      ]
     },
     "execution_count": 12,
     "metadata": {},
     "output_type": "execute_result"
    }
   ],
   "source": [
    "rec.width_"
   ]
  },
  {
   "cell_type": "code",
   "execution_count": 13,
   "metadata": {
    "tags": []
   },
   "outputs": [
    {
     "data": {
      "text/plain": [
       "4"
      ]
     },
     "execution_count": 13,
     "metadata": {},
     "output_type": "execute_result"
    }
   ],
   "source": [
    "rec._nCorners"
   ]
  },
  {
   "cell_type": "code",
   "execution_count": 14,
   "metadata": {
    "tags": []
   },
   "outputs": [
    {
     "data": {
      "text/plain": [
       "4"
      ]
     },
     "execution_count": 14,
     "metadata": {},
     "output_type": "execute_result"
    }
   ],
   "source": [
    "# name mangling\n",
    "rec._Rectangle__nEdges"
   ]
  },
  {
   "cell_type": "code",
   "execution_count": 9,
   "metadata": {
    "execution": {
     "iopub.execute_input": "2022-12-03T07:41:21.818165Z",
     "iopub.status.busy": "2022-12-03T07:41:21.817738Z",
     "iopub.status.idle": "2022-12-03T07:41:21.822837Z",
     "shell.execute_reply": "2022-12-03T07:41:21.821589Z",
     "shell.execute_reply.started": "2022-12-03T07:41:21.818135Z"
    },
    "tags": []
   },
   "outputs": [],
   "source": [
    "class Rectangle:\n",
    "    _nCorners = 4\n",
    "    __nEdges = 4\n",
    "    \n",
    "    def __init__(self, width, length):\n",
    "        self.width_ = width\n",
    "        self.length = length\n",
    "        \n",
    "rec = Rectangle(3, 8)"
   ]
  },
  {
   "cell_type": "code",
   "execution_count": 19,
   "metadata": {
    "execution": {
     "iopub.execute_input": "2022-12-03T08:07:52.994913Z",
     "iopub.status.busy": "2022-12-03T08:07:52.994228Z",
     "iopub.status.idle": "2022-12-03T08:07:52.999473Z",
     "shell.execute_reply": "2022-12-03T08:07:52.997848Z",
     "shell.execute_reply.started": "2022-12-03T08:07:52.994872Z"
    },
    "tags": []
   },
   "outputs": [],
   "source": [
    "import datetime as dt"
   ]
  },
  {
   "cell_type": "code",
   "execution_count": 20,
   "metadata": {
    "execution": {
     "iopub.execute_input": "2022-12-03T08:08:07.943551Z",
     "iopub.status.busy": "2022-12-03T08:08:07.942991Z",
     "iopub.status.idle": "2022-12-03T08:08:07.948795Z",
     "shell.execute_reply": "2022-12-03T08:08:07.947199Z",
     "shell.execute_reply.started": "2022-12-03T08:08:07.943497Z"
    },
    "tags": []
   },
   "outputs": [],
   "source": [
    "now = dt.datetime.now()"
   ]
  },
  {
   "cell_type": "code",
   "execution_count": 21,
   "metadata": {
    "execution": {
     "iopub.execute_input": "2022-12-03T08:08:11.152896Z",
     "iopub.status.busy": "2022-12-03T08:08:11.152338Z",
     "iopub.status.idle": "2022-12-03T08:08:11.158611Z",
     "shell.execute_reply": "2022-12-03T08:08:11.157082Z",
     "shell.execute_reply.started": "2022-12-03T08:08:11.152860Z"
    },
    "tags": []
   },
   "outputs": [
    {
     "data": {
      "text/plain": [
       "datetime.datetime(2022, 12, 3, 15, 8, 7, 945067)"
      ]
     },
     "execution_count": 21,
     "metadata": {},
     "output_type": "execute_result"
    }
   ],
   "source": [
    "now"
   ]
  },
  {
   "cell_type": "code",
   "execution_count": 22,
   "metadata": {
    "execution": {
     "iopub.execute_input": "2022-12-03T08:08:17.524284Z",
     "iopub.status.busy": "2022-12-03T08:08:17.523710Z",
     "iopub.status.idle": "2022-12-03T08:08:17.529272Z",
     "shell.execute_reply": "2022-12-03T08:08:17.528140Z",
     "shell.execute_reply.started": "2022-12-03T08:08:17.524239Z"
    },
    "tags": []
   },
   "outputs": [
    {
     "name": "stdout",
     "output_type": "stream",
     "text": [
      "2022-12-03 15:08:07.945067\n"
     ]
    }
   ],
   "source": [
    "print(now)"
   ]
  },
  {
   "cell_type": "code",
   "execution_count": 24,
   "metadata": {
    "execution": {
     "iopub.execute_input": "2022-12-03T08:08:27.304540Z",
     "iopub.status.busy": "2022-12-03T08:08:27.304159Z",
     "iopub.status.idle": "2022-12-03T08:08:27.308924Z",
     "shell.execute_reply": "2022-12-03T08:08:27.307964Z",
     "shell.execute_reply.started": "2022-12-03T08:08:27.304513Z"
    },
    "tags": []
   },
   "outputs": [
    {
     "data": {
      "text/plain": [
       "'2022-12-03 15:08:07.945067'"
      ]
     },
     "execution_count": 24,
     "metadata": {},
     "output_type": "execute_result"
    }
   ],
   "source": [
    "now.__str__()"
   ]
  },
  {
   "cell_type": "code",
   "execution_count": 25,
   "metadata": {
    "execution": {
     "iopub.execute_input": "2022-12-03T08:08:39.022529Z",
     "iopub.status.busy": "2022-12-03T08:08:39.022174Z",
     "iopub.status.idle": "2022-12-03T08:08:39.027715Z",
     "shell.execute_reply": "2022-12-03T08:08:39.026498Z",
     "shell.execute_reply.started": "2022-12-03T08:08:39.022504Z"
    },
    "tags": []
   },
   "outputs": [
    {
     "data": {
      "text/plain": [
       "'datetime.datetime(2022, 12, 3, 15, 8, 7, 945067)'"
      ]
     },
     "execution_count": 25,
     "metadata": {},
     "output_type": "execute_result"
    }
   ],
   "source": [
    "now.__repr__()"
   ]
  },
  {
   "cell_type": "markdown",
   "metadata": {},
   "source": [
    "#### Methods\n",
    "Methods are functions defined inside of classes, with the first argument also being `self`. This allows methods to access attributes assigned during the initialization. There are also some special methods that we can override:\n",
    "- `__call__()` makes instances callable.\n",
    "- `__str__()` alters the string to be printed of instances.\n",
    "- `__repr__()` (abbreviated for *representation*) controls how instances are displayed. For IPython only, it provides some overloading methods for [rich representation] of objects.\n",
    "\n",
    "[rich representation]: https://ipython.readthedocs.io/en/stable/config/integrating.html#custom-methods"
   ]
  },
  {
   "cell_type": "code",
   "execution_count": 14,
   "metadata": {
    "execution": {
     "iopub.execute_input": "2022-12-04T16:08:49.857978Z",
     "iopub.status.busy": "2022-12-04T16:08:49.857635Z",
     "iopub.status.idle": "2022-12-04T16:08:49.863125Z",
     "shell.execute_reply": "2022-12-04T16:08:49.861960Z",
     "shell.execute_reply.started": "2022-12-04T16:08:49.857955Z"
    },
    "tags": []
   },
   "outputs": [],
   "source": [
    "class Rectangle:\n",
    "    def __init__(self, width, length):\n",
    "        self.width = width\n",
    "        self.length = length\n",
    "        \n",
    "    def compute_area(self):\n",
    "        return self.width * self.length\n",
    "    \n",
    "    def compute_perimeter(self):\n",
    "        return 2 * (self.width + self.length)\n",
    "    \n",
    "    def __call__(self):\n",
    "        print(f'A rectangle size {self.width} x {self.length}')\n",
    "        \n",
    "    def __repr__(self):\n",
    "        return f'Rec({self.width}x{self.length})'\n",
    "    \n",
    "    def __str__(self):\n",
    "        return 'This is a rectangle'\n",
    "        \n",
    "rec = Rectangle(4, 6)"
   ]
  },
  {
   "cell_type": "code",
   "execution_count": 15,
   "metadata": {
    "execution": {
     "iopub.execute_input": "2022-12-04T16:08:51.390586Z",
     "iopub.status.busy": "2022-12-04T16:08:51.390251Z",
     "iopub.status.idle": "2022-12-04T16:08:51.394059Z",
     "shell.execute_reply": "2022-12-04T16:08:51.392909Z",
     "shell.execute_reply.started": "2022-12-04T16:08:51.390562Z"
    },
    "tags": []
   },
   "outputs": [
    {
     "name": "stdout",
     "output_type": "stream",
     "text": [
      "This is a rectangle\n"
     ]
    }
   ],
   "source": [
    "print(rec)"
   ]
  },
  {
   "cell_type": "code",
   "execution_count": 13,
   "metadata": {
    "execution": {
     "iopub.execute_input": "2022-12-04T15:56:59.279784Z",
     "iopub.status.busy": "2022-12-04T15:56:59.279319Z",
     "iopub.status.idle": "2022-12-04T15:56:59.284472Z",
     "shell.execute_reply": "2022-12-04T15:56:59.283344Z",
     "shell.execute_reply.started": "2022-12-04T15:56:59.279752Z"
    },
    "tags": []
   },
   "outputs": [
    {
     "data": {
      "text/plain": [
       "Rec(4x6)"
      ]
     },
     "execution_count": 13,
     "metadata": {},
     "output_type": "execute_result"
    }
   ],
   "source": [
    "rec"
   ]
  },
  {
   "cell_type": "code",
   "execution_count": 8,
   "metadata": {},
   "outputs": [
    {
     "data": {
      "text/plain": [
       "24"
      ]
     },
     "execution_count": 8,
     "metadata": {},
     "output_type": "execute_result"
    }
   ],
   "source": [
    "rec.compute_area()"
   ]
  },
  {
   "cell_type": "code",
   "execution_count": 9,
   "metadata": {},
   "outputs": [
    {
     "data": {
      "text/plain": [
       "20"
      ]
     },
     "execution_count": 9,
     "metadata": {},
     "output_type": "execute_result"
    }
   ],
   "source": [
    "rec.compute_perimeter()"
   ]
  },
  {
   "cell_type": "code",
   "execution_count": 10,
   "metadata": {},
   "outputs": [
    {
     "name": "stdout",
     "output_type": "stream",
     "text": [
      "A rectangle size 4 x 6\n"
     ]
    }
   ],
   "source": [
    "rec()"
   ]
  },
  {
   "cell_type": "markdown",
   "metadata": {},
   "source": [
    "### 2.2. Special decorators"
   ]
  },
  {
   "cell_type": "markdown",
   "metadata": {},
   "source": [
    "#### Class method\n",
    "Class methods are methods you can use on the class rather than an instance, i.e., you can write something like\n",
    "`Class.class_method()`\n",
    "while normal behaviour will be\n",
    "`instance.normal_method()`.\n",
    "In order to write one, use\n",
    "`@classmethod`\n",
    "as the decorator to wrap around a method, who always takes\n",
    "`cls`\n",
    "(abbreviated for *class*) as the first argument.\n",
    "\n",
    "So in which case a standalone class is useful for? Well, a popular use case is to provide addition ways to initialize instances. For example, instead of following exactly the blueprint of a rectangle by specifying width and length, we give our class more flexibility by allowing it to accept and process a string containing sizes. We can see this kind of method appears in Pandas's [`DataFrame.from_dict()`] method.\n",
    "\n",
    "[`DataFrame.from_dict()`]: https://pandas.pydata.org/docs/reference/api/pandas.DataFrame.from_dict.html"
   ]
  },
  {
   "cell_type": "code",
   "execution_count": 42,
   "metadata": {},
   "outputs": [],
   "source": [
    "class Rectangle:\n",
    "    def __init__(self, width, length):\n",
    "        self.width = width\n",
    "        self.length = length\n",
    "    \n",
    "    @classmethod\n",
    "    def from_string(cls, argString):\n",
    "        width, length = [float(edge) for edge in argString.split(',')]\n",
    "        return cls(width, length)\n",
    "    \n",
    "    @classmethod\n",
    "    def from_total_diff(cls, total, diff):\n",
    "        width = (total - diff) / 2\n",
    "        length = (total + diff) / 2\n",
    "        return cls(width, length)\n",
    "    \n",
    "    def compute_area(self):\n",
    "        return self.width * self.length\n",
    "    \n",
    "    def compute_perimeter(self):\n",
    "        return 2 * (self.width + self.length)"
   ]
  },
  {
   "cell_type": "code",
   "execution_count": 43,
   "metadata": {},
   "outputs": [
    {
     "data": {
      "text/plain": [
       "13.0"
      ]
     },
     "execution_count": 43,
     "metadata": {},
     "output_type": "execute_result"
    }
   ],
   "source": [
    "Rectangle.from_string('2.5, 4').compute_perimeter()"
   ]
  },
  {
   "cell_type": "code",
   "execution_count": 44,
   "metadata": {},
   "outputs": [
    {
     "data": {
      "text/plain": [
       "15.0"
      ]
     },
     "execution_count": 44,
     "metadata": {},
     "output_type": "execute_result"
    }
   ],
   "source": [
    "Rectangle.from_total_diff(8, 2).compute_area()"
   ]
  },
  {
   "cell_type": "markdown",
   "metadata": {},
   "source": [
    "#### Static method\n",
    "Static methods, like class methods, are also defined for classes, but they don't require the class being passed to them. Because of this, they work the same as normal functions (defined outside of classes) and are only useful in very few situations such as when a function is semantically related to a class. You can create one with the decorator `@staticmethod`, but they are rarely seen in practice."
   ]
  },
  {
   "cell_type": "markdown",
   "metadata": {},
   "source": [
    "#### Property\n",
    "A property is a special attribute that gives developers maximum access over three basic methods: *getter*, *setter* and *deleter*. There are two use cases that involve properties being (1) logging, which is useful for setter as well as deleter and (2) adding constraints to the setter method. The second use case enables *data validation*, an ordinary task in Data Science projects. In this section, we are going to create a property *radius* for the class *Circle* using several syntaxes of the [`@property`] decorator.\n",
    "- First syntax: we define three methods getter, setter and deleter separately. Then we pass three to the `property()` function that returns a `property` object, which will become an attribute for instances of this class.\n",
    "- Second syntax: instead of passing all three methods to the constructor, we use the `@property` decorator along with `setter()` and `deleter()` to add each the corresponding methods one-by-one. The advantage of this syntax is we don't need to worry about inventing new method names, thus improves code readability.\n",
    "\n",
    "[`@property`]: https://docs.python.org/3/library/functions.html#property"
   ]
  },
  {
   "cell_type": "code",
   "execution_count": 1,
   "metadata": {
    "execution": {
     "iopub.execute_input": "2022-12-11T07:56:17.517014Z",
     "iopub.status.busy": "2022-12-11T07:56:17.516365Z",
     "iopub.status.idle": "2022-12-11T07:56:17.739561Z",
     "shell.execute_reply": "2022-12-11T07:56:17.738836Z",
     "shell.execute_reply.started": "2022-12-11T07:56:17.516890Z"
    },
    "tags": []
   },
   "outputs": [],
   "source": [
    "import logging\n",
    "import numpy as np"
   ]
  },
  {
   "cell_type": "code",
   "execution_count": 2,
   "metadata": {
    "execution": {
     "iopub.execute_input": "2022-12-11T07:56:18.387284Z",
     "iopub.status.busy": "2022-12-11T07:56:18.386844Z",
     "iopub.status.idle": "2022-12-11T07:56:18.393525Z",
     "shell.execute_reply": "2022-12-11T07:56:18.392239Z",
     "shell.execute_reply.started": "2022-12-11T07:56:18.387256Z"
    },
    "tags": []
   },
   "outputs": [],
   "source": [
    "class Circle:\n",
    "    def __init__(self, radius=0):\n",
    "        self._radius = radius\n",
    "    \n",
    "    def _get_radius(self):\n",
    "        return self._radius\n",
    "    \n",
    "    def _set_radius(self, value):\n",
    "        if value < 0:\n",
    "            logging.error('Radius should be positive')\n",
    "        self._radius = value\n",
    "    \n",
    "    def _del_radius(self):\n",
    "        logging.warning('Attribute radius deleted')\n",
    "        del self._radius\n",
    "    \n",
    "    radius = property(_get_radius, _set_radius, _del_radius)\n",
    "    \n",
    "    def compute_area(self):\n",
    "        return np.pi * self.radius**2"
   ]
  },
  {
   "cell_type": "code",
   "execution_count": 2,
   "metadata": {},
   "outputs": [],
   "source": [
    "class Circle:\n",
    "    def __init__(self, radius=0):\n",
    "        self._radius = radius\n",
    "    \n",
    "    @property\n",
    "    def radius(self):\n",
    "        return self._radius\n",
    "    \n",
    "    @radius.setter\n",
    "    def radius(self, value):\n",
    "        if value < 0:\n",
    "            logging.error('Radius should be positive')\n",
    "        self._radius = value\n",
    "    \n",
    "    @radius.deleter\n",
    "    def radius(self):\n",
    "        logging.warning('Attribute radius deleted')\n",
    "        del self._radius\n",
    "    \n",
    "    def compute_area(self):\n",
    "        return np.pi * self.radius**2"
   ]
  },
  {
   "cell_type": "code",
   "execution_count": 3,
   "metadata": {
    "execution": {
     "iopub.execute_input": "2022-12-11T07:56:19.783953Z",
     "iopub.status.busy": "2022-12-11T07:56:19.783476Z",
     "iopub.status.idle": "2022-12-11T07:56:19.792735Z",
     "shell.execute_reply": "2022-12-11T07:56:19.791963Z",
     "shell.execute_reply.started": "2022-12-11T07:56:19.783915Z"
    },
    "tags": []
   },
   "outputs": [
    {
     "data": {
      "text/plain": [
       "0"
      ]
     },
     "execution_count": 3,
     "metadata": {},
     "output_type": "execute_result"
    }
   ],
   "source": [
    "circle = Circle()\n",
    "circle.radius"
   ]
  },
  {
   "cell_type": "code",
   "execution_count": 4,
   "metadata": {
    "execution": {
     "iopub.execute_input": "2022-12-11T07:56:22.448353Z",
     "iopub.status.busy": "2022-12-11T07:56:22.447970Z",
     "iopub.status.idle": "2022-12-11T07:56:22.452475Z",
     "shell.execute_reply": "2022-12-11T07:56:22.451708Z",
     "shell.execute_reply.started": "2022-12-11T07:56:22.448324Z"
    },
    "tags": []
   },
   "outputs": [
    {
     "name": "stderr",
     "output_type": "stream",
     "text": [
      "WARNING:root:Attribute radius deleted\n"
     ]
    }
   ],
   "source": [
    "del circle.radius"
   ]
  },
  {
   "cell_type": "code",
   "execution_count": 5,
   "metadata": {
    "execution": {
     "iopub.execute_input": "2022-12-11T07:56:34.825095Z",
     "iopub.status.busy": "2022-12-11T07:56:34.824567Z",
     "iopub.status.idle": "2022-12-11T07:56:34.830789Z",
     "shell.execute_reply": "2022-12-11T07:56:34.829407Z",
     "shell.execute_reply.started": "2022-12-11T07:56:34.825058Z"
    },
    "tags": []
   },
   "outputs": [
    {
     "name": "stderr",
     "output_type": "stream",
     "text": [
      "ERROR:root:Radius should be positive\n"
     ]
    }
   ],
   "source": [
    "circle.radius = -1"
   ]
  },
  {
   "cell_type": "code",
   "execution_count": 6,
   "metadata": {
    "execution": {
     "iopub.execute_input": "2022-12-11T07:56:45.522833Z",
     "iopub.status.busy": "2022-12-11T07:56:45.522206Z",
     "iopub.status.idle": "2022-12-11T07:56:45.528530Z",
     "shell.execute_reply": "2022-12-11T07:56:45.527604Z",
     "shell.execute_reply.started": "2022-12-11T07:56:45.522787Z"
    },
    "tags": []
   },
   "outputs": [
    {
     "data": {
      "text/plain": [
       "314.1592653589793"
      ]
     },
     "execution_count": 6,
     "metadata": {},
     "output_type": "execute_result"
    }
   ],
   "source": [
    "circle.radius = 10\n",
    "circle.compute_area()"
   ]
  },
  {
   "cell_type": "markdown",
   "metadata": {},
   "source": [
    "### 2.3. The four pillars\n",
    "In this section we will go over four pillars of OOP and examples in Python."
   ]
  },
  {
   "cell_type": "markdown",
   "metadata": {},
   "source": [
    "#### Abstraction\n",
    "Abstraction is the concept of hiding the real implementation and showing only necessary information of an application. For example, when solving a quadratic equation, we do not care about the discriminant ($\\Delta$) as well as complicated conditions and formulas, only need to know what the solutions are. In the below script, abstraction is represented via *internal* methods and attributes, which can be recognized with a trailing underscore."
   ]
  },
  {
   "cell_type": "code",
   "execution_count": 7,
   "metadata": {
    "execution": {
     "iopub.execute_input": "2022-12-11T08:03:59.648568Z",
     "iopub.status.busy": "2022-12-11T08:03:59.648192Z",
     "iopub.status.idle": "2022-12-11T08:03:59.655816Z",
     "shell.execute_reply": "2022-12-11T08:03:59.654567Z",
     "shell.execute_reply.started": "2022-12-11T08:03:59.648539Z"
    },
    "tags": []
   },
   "outputs": [],
   "source": [
    "import numpy as np\n",
    "\n",
    "class Quadratic:\n",
    "    def __init__(self, a, b, c):\n",
    "        self._a = a\n",
    "        self._b = b\n",
    "        self._c = c\n",
    "        self._discriminant = b**2 - 4*a*c\n",
    "    \n",
    "    def _repr_latex_(self):\n",
    "        return f'${self._a}x^2 + {self._b}x + {self._c}$'\n",
    "    \n",
    "    def _solution_formula_1(self, a, b, discriminant):\n",
    "        return (-b - np.sqrt(discriminant)) / (2*a)\n",
    "    \n",
    "    def _solution_formula_2(self, a, b, discriminant):\n",
    "        return (-b + np.sqrt(discriminant)) / (2*a)\n",
    "    \n",
    "    def solve(self):\n",
    "        if self._discriminant < 0:\n",
    "            return False\n",
    "        if self._discriminant == 0:\n",
    "            sol = self._solution_formula_1(self._a, self._b, self._discriminant)\n",
    "            return sol\n",
    "        if self._discriminant > 0:\n",
    "            sol1 = self._solution_formula_1(self._a, self._b, self._discriminant)\n",
    "            sol2 = self._solution_formula_2(self._a, self._b, self._discriminant)\n",
    "            return sol1, sol2"
   ]
  },
  {
   "cell_type": "code",
   "execution_count": 4,
   "metadata": {
    "tags": []
   },
   "outputs": [
    {
     "data": {
      "text/latex": [
       "$1x^2 + -4x + 3$"
      ],
      "text/plain": [
       "<__main__.Quadratic at 0x1bce85aa610>"
      ]
     },
     "execution_count": 4,
     "metadata": {},
     "output_type": "execute_result"
    }
   ],
   "source": [
    "eq = Quadratic(1,-4,3)\n",
    "eq"
   ]
  },
  {
   "cell_type": "code",
   "execution_count": 5,
   "metadata": {
    "tags": []
   },
   "outputs": [
    {
     "data": {
      "text/plain": [
       "(1.0, 3.0)"
      ]
     },
     "execution_count": 5,
     "metadata": {},
     "output_type": "execute_result"
    }
   ],
   "source": [
    "eq.solve()"
   ]
  },
  {
   "cell_type": "markdown",
   "metadata": {},
   "source": [
    "#### Encapsulation\n",
    "Encapsulation is the manipulation of class privacy. I.e., you can remove access completely for specific attributes (by making them private), or limit others to be read-only (by designing properties with only the getter method). For example, a triangle always has 3 edges, this is a constant and should be read-only. It will be implemented as a property with the getter method only."
   ]
  },
  {
   "cell_type": "code",
   "execution_count": 9,
   "metadata": {
    "execution": {
     "iopub.execute_input": "2022-12-11T08:07:05.480588Z",
     "iopub.status.busy": "2022-12-11T08:07:05.480216Z",
     "iopub.status.idle": "2022-12-11T08:07:05.574628Z",
     "shell.execute_reply": "2022-12-11T08:07:05.573472Z",
     "shell.execute_reply.started": "2022-12-11T08:07:05.480562Z"
    },
    "tags": []
   },
   "outputs": [
    {
     "ename": "AttributeError",
     "evalue": "can't set attribute",
     "output_type": "error",
     "traceback": [
      "\u001b[0;31m---------------------------------------------------------------------------\u001b[0m",
      "\u001b[0;31mAttributeError\u001b[0m                            Traceback (most recent call last)",
      "\u001b[0;32m<ipython-input-9-25b84d800a35>\u001b[0m in \u001b[0;36m<module>\u001b[0;34m\u001b[0m\n\u001b[1;32m     13\u001b[0m \u001b[0;34m\u001b[0m\u001b[0m\n\u001b[1;32m     14\u001b[0m \u001b[0mtriangle\u001b[0m \u001b[0;34m=\u001b[0m \u001b[0mTriangle\u001b[0m\u001b[0;34m(\u001b[0m\u001b[0;36m3\u001b[0m\u001b[0;34m,\u001b[0m\u001b[0;36m4\u001b[0m\u001b[0;34m,\u001b[0m\u001b[0;36m5\u001b[0m\u001b[0;34m)\u001b[0m\u001b[0;34m\u001b[0m\u001b[0;34m\u001b[0m\u001b[0m\n\u001b[0;32m---> 15\u001b[0;31m \u001b[0mtriangle\u001b[0m\u001b[0;34m.\u001b[0m\u001b[0m_nEdge\u001b[0m \u001b[0;34m=\u001b[0m \u001b[0;36m4\u001b[0m\u001b[0;34m\u001b[0m\u001b[0;34m\u001b[0m\u001b[0m\n\u001b[0m",
      "\u001b[0;31mAttributeError\u001b[0m: can't set attribute"
     ]
    }
   ],
   "source": [
    "class Triangle:\n",
    "    @property\n",
    "    def _nEdge(self):\n",
    "        return 3\n",
    "    \n",
    "    def __init__(self, *args):\n",
    "        if len(args) != self._nEdge:\n",
    "            raise ValueError(f'A triangle should have exactly {self._nEdge} edges. Got {len(args)}.')\n",
    "        self.edges = args\n",
    "    \n",
    "    def compute_perimeter(self):\n",
    "        return sum(self.edges)\n",
    "\n",
    "triangle = Triangle(3,4,5)\n",
    "triangle._nEdge = 4"
   ]
  },
  {
   "cell_type": "markdown",
   "metadata": {},
   "source": [
    "#### Inheritance\n",
    "Inheritance refers to the situation that a child class inherits all methods and attributes of a parent class. This pillar is used when a class is a special case of a more general one, written in Python with the syntax\n",
    "`Child(Parent)`.\n",
    "For example, square is a special case of rectangle, where the width and length are equal. So we declare the Square class that inherits everything from the Rectangle class, with a small change in during the intialization. The\n",
    "`super()`\n",
    "function is used to call the parent class, allowing us to flexibly modify its behaviour.\n",
    "\n",
    "There are also more complicated strategies: *multiple inheritance* with the syntax\n",
    "`Child(Father, Mother)`\n",
    "and *hierachy inheritance* with the syntax\n",
    "`Child(Father(Grandpa))`.\n",
    "But they are advanced topics and will not be discuss in this section."
   ]
  },
  {
   "cell_type": "code",
   "execution_count": 33,
   "metadata": {},
   "outputs": [
    {
     "data": {
      "text/plain": [
       "20"
      ]
     },
     "execution_count": 33,
     "metadata": {},
     "output_type": "execute_result"
    }
   ],
   "source": [
    "class Rectangle:\n",
    "    def __init__(self, width, length):\n",
    "        self.width = width\n",
    "        self.length = length\n",
    "        \n",
    "    def compute_area(self):\n",
    "        return self.width * self.length\n",
    "    \n",
    "    def compute_perimeter(self):\n",
    "        return 2 * (self.width + self.length)\n",
    "\n",
    "class Square(Rectangle):\n",
    "    def __init__(self, size):\n",
    "        super().__init__(size, size)\n",
    "\n",
    "Square(5).compute_perimeter()"
   ]
  },
  {
   "cell_type": "markdown",
   "metadata": {},
   "source": [
    "#### Polymorphism\n",
    "Polymorphism is the concept that an operator or a function can accept different types of input. For example:\n",
    "- the `+` operator can be used to add either strings or numbers\n",
    "- the `len()` function can be used to measure the size of lists or dictionaries"
   ]
  },
  {
   "cell_type": "code",
   "execution_count": 38,
   "metadata": {},
   "outputs": [
    {
     "data": {
      "text/plain": [
       "5"
      ]
     },
     "execution_count": 38,
     "metadata": {},
     "output_type": "execute_result"
    }
   ],
   "source": [
    "1 + 4"
   ]
  },
  {
   "cell_type": "code",
   "execution_count": 39,
   "metadata": {},
   "outputs": [
    {
     "data": {
      "text/plain": [
       "'python'"
      ]
     },
     "execution_count": 39,
     "metadata": {},
     "output_type": "execute_result"
    }
   ],
   "source": [
    "'py' + 'thon'"
   ]
  },
  {
   "cell_type": "code",
   "execution_count": 43,
   "metadata": {},
   "outputs": [
    {
     "data": {
      "text/plain": [
       "5"
      ]
     },
     "execution_count": 43,
     "metadata": {},
     "output_type": "execute_result"
    }
   ],
   "source": [
    "len([1,2,3,4,5])"
   ]
  },
  {
   "cell_type": "code",
   "execution_count": 42,
   "metadata": {},
   "outputs": [
    {
     "data": {
      "text/plain": [
       "3"
      ]
     },
     "execution_count": 42,
     "metadata": {},
     "output_type": "execute_result"
    }
   ],
   "source": [
    "len(dict(a=1, b=2, c=3))"
   ]
  },
  {
   "cell_type": "markdown",
   "metadata": {},
   "source": [
    "## References\n",
    "- *bas.codes - [Understanding decorators in Python](https://bas.codes/posts/python-decorators)*\n",
    "- *towardsdatascience.com - [Python: Decorators in OOP](https://towardsdatascience.com/python-decorators-in-oop-3189c526ead6)*"
   ]
  }
 ],
 "metadata": {
  "colab": {
   "name": "Lecture 4.ipynb",
   "provenance": [],
   "version": "0.3.2"
  },
  "kernelspec": {
   "display_name": "Python 3",
   "language": "python",
   "name": "python3"
  },
  "language_info": {
   "codemirror_mode": {
    "name": "ipython",
    "version": 3
   },
   "file_extension": ".py",
   "mimetype": "text/x-python",
   "name": "python",
   "nbconvert_exporter": "python",
   "pygments_lexer": "ipython3",
   "version": "3.8.8"
  },
  "toc-autonumbering": false
 },
 "nbformat": 4,
 "nbformat_minor": 4
}
