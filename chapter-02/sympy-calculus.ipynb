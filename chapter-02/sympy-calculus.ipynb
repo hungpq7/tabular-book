{
 "cells": [
  {
   "cell_type": "markdown",
   "id": "c2f45e20-454d-4f5b-8902-ec48051e6d2c",
   "metadata": {},
   "source": [
    "# Sympy: Calculus"
   ]
  },
  {
   "cell_type": "code",
   "execution_count": 2,
   "id": "6335a8e4-7055-418c-b5e4-b62363b851b6",
   "metadata": {
    "execution": {
     "iopub.execute_input": "2022-10-08T16:10:50.760126Z",
     "iopub.status.busy": "2022-10-08T16:10:50.759486Z",
     "iopub.status.idle": "2022-10-08T16:10:52.730015Z",
     "shell.execute_reply": "2022-10-08T16:10:52.729239Z",
     "shell.execute_reply.started": "2022-10-08T16:10:50.760085Z"
    },
    "tags": []
   },
   "outputs": [],
   "source": [
    "from sspipe import p, px\n",
    "import sympy as sym\n",
    "import numpy as np\n",
    "import matplotlib.pyplot as plt\n",
    "\n",
    "plt.style.use(['seaborn', 'seaborn-whitegrid'])\n",
    "%config InlineBackend.figure_format = 'retina'"
   ]
  },
  {
   "cell_type": "code",
   "execution_count": 1,
   "id": "a5ae2679-c2d3-4c0e-9872-9070546ab25a",
   "metadata": {
    "execution": {
     "iopub.execute_input": "2023-01-23T15:18:41.105841Z",
     "iopub.status.busy": "2023-01-23T15:18:41.105281Z",
     "iopub.status.idle": "2023-01-23T15:18:41.121452Z",
     "shell.execute_reply": "2023-01-23T15:18:41.119821Z",
     "shell.execute_reply.started": "2023-01-23T15:18:41.105724Z"
    },
    "tags": [
     "hide-cell"
    ]
   },
   "outputs": [
    {
     "data": {
      "text/html": [
       "<style>\n",
       ".dataframe th {\n",
       "    font-size: 11px;\n",
       "}\n",
       ".dataframe td {\n",
       "    font-size: 11px;\n",
       "}\n",
       "</style>\n"
      ],
      "text/plain": [
       "<IPython.core.display.HTML object>"
      ]
     },
     "metadata": {},
     "output_type": "display_data"
    }
   ],
   "source": [
    "%%html\n",
    "<style>\n",
    ".dataframe th {\n",
    "    font-size: 11px;\n",
    "}\n",
    ".dataframe td {\n",
    "    font-size: 11px;\n",
    "}\n",
    "</style>"
   ]
  },
  {
   "cell_type": "markdown",
   "id": "ae8e44f1-7b88-49ca-b4ab-f08732e9b081",
   "metadata": {},
   "source": [
    "## 1. SymPy\n",
    "[SymPy] is a exclusive and native library to Python, designed for [symbolic computation]. This mean mathematical expressions will be left in their symbolic forms and represented exactly, not approximately. SymPy can do this for all kinds of computations such as simplication, limits, derivatives and solving equations.\n",
    "\n",
    "[SymPy]: https://github.com/sympy/sympy\n",
    "[symbolic computation]: https://docs.sympy.org/latest/tutorials/intro-tutorial/intro.html#what-is-symbolic-computation"
   ]
  },
  {
   "cell_type": "markdown",
   "id": "f8d1e760-90c2-47ff-82d2-8d32399d9a4a",
   "metadata": {},
   "source": [
    "### 1.1. Expression\n",
    "Expression is the most basic concept in Mathematics. We are going to use SymPy to create symbolic variables (distiguish them with Python variables), write expressions and substitute numbers to make ealuation."
   ]
  },
  {
   "cell_type": "code",
   "execution_count": 2,
   "id": "7922ac4f-53e2-4c79-a4be-d021bf5c7c77",
   "metadata": {
    "execution": {
     "iopub.execute_input": "2022-10-08T16:10:50.760126Z",
     "iopub.status.busy": "2022-10-08T16:10:50.759486Z",
     "iopub.status.idle": "2022-10-08T16:10:52.730015Z",
     "shell.execute_reply": "2022-10-08T16:10:52.729239Z",
     "shell.execute_reply.started": "2022-10-08T16:10:50.760085Z"
    },
    "tags": [
     "remove-cell"
    ]
   },
   "outputs": [],
   "source": [
    "import sympy as sym\n",
    "from sspipe import p, px"
   ]
  },
  {
   "cell_type": "code",
   "execution_count": 3,
   "id": "6476ab69-e0e8-4648-859e-b1ba93d1bcde",
   "metadata": {
    "execution": {
     "iopub.execute_input": "2022-10-08T16:10:52.731553Z",
     "iopub.status.busy": "2022-10-08T16:10:52.731227Z",
     "iopub.status.idle": "2022-10-08T16:10:52.734274Z",
     "shell.execute_reply": "2022-10-08T16:10:52.733605Z",
     "shell.execute_reply.started": "2022-10-08T16:10:52.731533Z"
    },
    "tags": []
   },
   "outputs": [],
   "source": [
    "# create some variables\n",
    "x, y, z = sym.symbols('x,y,z')"
   ]
  },
  {
   "cell_type": "code",
   "execution_count": 38,
   "id": "9e220e6e-037e-49f7-92c8-22df916573ce",
   "metadata": {
    "execution": {
     "iopub.execute_input": "2022-10-09T10:11:39.572809Z",
     "iopub.status.busy": "2022-10-09T10:11:39.572442Z",
     "iopub.status.idle": "2022-10-09T10:11:39.580550Z",
     "shell.execute_reply": "2022-10-09T10:11:39.579603Z",
     "shell.execute_reply.started": "2022-10-09T10:11:39.572784Z"
    },
    "tags": []
   },
   "outputs": [
    {
     "data": {
      "text/latex": [
       "$\\displaystyle x^{2} + \\cos{\\left(z \\right)} + \\frac{3 \\left(x^{2} - 4\\right)}{x - 2}$"
      ],
      "text/plain": [
       "x**2 + cos(z) + 3*(x**2 - 4)/(x - 2)"
      ]
     },
     "execution_count": 38,
     "metadata": {},
     "output_type": "execute_result"
    }
   ],
   "source": [
    "# write an expression\n",
    "expr = x**2 + 3*y + sym.cos(z)\n",
    "expr"
   ]
  },
  {
   "cell_type": "code",
   "execution_count": 42,
   "id": "890940b0-ea6e-41e0-8ede-2d9cc84b77c4",
   "metadata": {},
   "outputs": [
    {
     "data": {
      "text/latex": [
       "$\\displaystyle \\cos{\\left(z \\right)} + 7$"
      ],
      "text/plain": [
       "cos(z) + 7"
      ]
     },
     "execution_count": 42,
     "metadata": {},
     "output_type": "execute_result"
    }
   ],
   "source": [
    "# substitute numbers, partially or fully\n",
    "expr.subs({x: 2, y: 1})"
   ]
  },
  {
   "cell_type": "code",
   "execution_count": 45,
   "id": "22615874-87ad-4b3d-9965-058622e569e4",
   "metadata": {
    "execution": {
     "iopub.execute_input": "2022-10-09T10:14:15.351076Z",
     "iopub.status.busy": "2022-10-09T10:14:15.350633Z",
     "iopub.status.idle": "2022-10-09T10:14:15.356018Z",
     "shell.execute_reply": "2022-10-09T10:14:15.354955Z",
     "shell.execute_reply.started": "2022-10-09T10:14:15.351045Z"
    },
    "tags": []
   },
   "outputs": [
    {
     "data": {
      "text/latex": [
       "$\\displaystyle 3.14159265358979$"
      ],
      "text/plain": [
       "3.14159265358979"
      ]
     },
     "execution_count": 45,
     "metadata": {},
     "output_type": "execute_result"
    }
   ],
   "source": [
    "# by default, sympy will only evaluate non-decimal numbers once calling evalf()\n",
    "sym.pi.evalf()"
   ]
  },
  {
   "cell_type": "markdown",
   "id": "3445c5d5-b2f2-40e6-b065-0bba9829d55b",
   "metadata": {},
   "source": [
    "### 1.2. Simplification\n",
    "[Simplification] is one of the most interesting parts in Mathematics. SymPy provides\n",
    "`simplify()`, a general but slow simplifier and a number of faster simplifiers dedicated to specific cases.\n",
    "\n",
    "[Simplification]: https://docs.sympy.org/latest/tutorials/intro-tutorial/simplification.html#"
   ]
  },
  {
   "cell_type": "code",
   "execution_count": 1,
   "id": "02473911-133e-484c-8adb-4b4e1d7793b5",
   "metadata": {
    "execution": {
     "iopub.execute_input": "2022-10-17T17:28:04.382156Z",
     "iopub.status.busy": "2022-10-17T17:28:04.381743Z",
     "iopub.status.idle": "2022-10-17T17:28:10.410246Z",
     "shell.execute_reply": "2022-10-17T17:28:10.409432Z",
     "shell.execute_reply.started": "2022-10-17T17:28:04.382082Z"
    },
    "tags": [
     "remove-cell"
    ]
   },
   "outputs": [],
   "source": [
    "import sympy as sym\n",
    "from sspipe import p, px"
   ]
  },
  {
   "cell_type": "code",
   "execution_count": 2,
   "id": "6c2e11df-81ba-43dd-8e44-dee660e498b0",
   "metadata": {
    "execution": {
     "iopub.execute_input": "2022-10-17T17:28:10.411881Z",
     "iopub.status.busy": "2022-10-17T17:28:10.411569Z",
     "iopub.status.idle": "2022-10-17T17:28:10.415909Z",
     "shell.execute_reply": "2022-10-17T17:28:10.414898Z",
     "shell.execute_reply.started": "2022-10-17T17:28:10.411861Z"
    },
    "tags": []
   },
   "outputs": [],
   "source": [
    "x, y, z = sym.symbols('x:z')"
   ]
  },
  {
   "cell_type": "code",
   "execution_count": 3,
   "id": "6213ba09-593a-4c37-b042-d5505d0e97da",
   "metadata": {
    "execution": {
     "iopub.execute_input": "2022-10-17T17:28:16.594699Z",
     "iopub.status.busy": "2022-10-17T17:28:16.594228Z",
     "iopub.status.idle": "2022-10-17T17:28:16.883380Z",
     "shell.execute_reply": "2022-10-17T17:28:16.882812Z",
     "shell.execute_reply.started": "2022-10-17T17:28:16.594665Z"
    },
    "tags": []
   },
   "outputs": [
    {
     "data": {
      "text/latex": [
       "$\\displaystyle \\frac{\\Gamma\\left(x\\right)}{\\Gamma\\left(x - 2\\right)} = \\left(x - 2\\right) \\left(x - 1\\right)$"
      ],
      "text/plain": [
       "Eq(gamma(x)/gamma(x - 2), (x - 2)*(x - 1))"
      ]
     },
     "execution_count": 3,
     "metadata": {},
     "output_type": "execute_result"
    }
   ],
   "source": [
    "lhs = sym.gamma(x) / sym.gamma(x-2)\n",
    "rhs = lhs.simplify()\n",
    "sym.Eq(lhs, rhs)"
   ]
  },
  {
   "cell_type": "markdown",
   "id": "fc6827f4-28a7-46be-a6fe-1c2fa41887b4",
   "metadata": {},
   "source": [
    "#### Polynomials\n",
    "In polynomials, expansion and factorization are two opposite tasks, one prefers sum form of monomials and the other prefer product form of irreducible factors. Sometimes, we also want to collect monomials with the same degree."
   ]
  },
  {
   "cell_type": "code",
   "execution_count": 4,
   "id": "92a558fb-7c1c-41dd-800c-55494d71be43",
   "metadata": {
    "execution": {
     "iopub.execute_input": "2022-10-17T17:28:30.049557Z",
     "iopub.status.busy": "2022-10-17T17:28:30.049198Z",
     "iopub.status.idle": "2022-10-17T17:28:30.073114Z",
     "shell.execute_reply": "2022-10-17T17:28:30.072226Z",
     "shell.execute_reply.started": "2022-10-17T17:28:30.049533Z"
    },
    "tags": []
   },
   "outputs": [
    {
     "data": {
      "text/latex": [
       "$\\displaystyle \\left(x + 1\\right) \\left(x + 2\\right) \\left(x + 3\\right) = x^{3} + 6 x^{2} + 11 x + 6$"
      ],
      "text/plain": [
       "Eq((x + 1)*(x + 2)*(x + 3), x**3 + 6*x**2 + 11*x + 6)"
      ]
     },
     "execution_count": 4,
     "metadata": {},
     "output_type": "execute_result"
    }
   ],
   "source": [
    "lhs = (x+1) * (x+2) * (x+3)\n",
    "rhs = lhs.expand()\n",
    "sym.Eq(lhs, rhs)"
   ]
  },
  {
   "cell_type": "code",
   "execution_count": 5,
   "id": "475a0f48-af1f-4177-a42c-b5dd4a5b350d",
   "metadata": {
    "execution": {
     "iopub.execute_input": "2022-10-17T17:28:37.708233Z",
     "iopub.status.busy": "2022-10-17T17:28:37.707894Z",
     "iopub.status.idle": "2022-10-17T17:28:37.756445Z",
     "shell.execute_reply": "2022-10-17T17:28:37.755651Z",
     "shell.execute_reply.started": "2022-10-17T17:28:37.708211Z"
    },
    "tags": []
   },
   "outputs": [
    {
     "data": {
      "text/latex": [
       "$\\displaystyle x^{10} + x^{2} + 1 = \\left(x^{2} - x + 1\\right) \\left(x^{2} + x + 1\\right) \\left(x^{6} - x^{4} + 1\\right)$"
      ],
      "text/plain": [
       "Eq(x**10 + x**2 + 1, (x**2 - x + 1)*(x**2 + x + 1)*(x**6 - x**4 + 1))"
      ]
     },
     "execution_count": 5,
     "metadata": {},
     "output_type": "execute_result"
    }
   ],
   "source": [
    "lhs = x**10 + x**2 + 1\n",
    "rhs = lhs.factor()\n",
    "sym.Eq(lhs, rhs)"
   ]
  },
  {
   "cell_type": "code",
   "execution_count": 6,
   "id": "6975221c-d59b-4008-9218-e5f3afb7cb56",
   "metadata": {
    "execution": {
     "iopub.execute_input": "2022-10-17T17:28:44.387797Z",
     "iopub.status.busy": "2022-10-17T17:28:44.387420Z",
     "iopub.status.idle": "2022-10-17T17:28:44.415520Z",
     "shell.execute_reply": "2022-10-17T17:28:44.414833Z",
     "shell.execute_reply.started": "2022-10-17T17:28:44.387773Z"
    },
    "tags": []
   },
   "outputs": [
    {
     "data": {
      "text/latex": [
       "$\\displaystyle x^{2} z + 4 x y z + 4 y^{2} z = z \\left(x + 2 y\\right)^{2}$"
      ],
      "text/plain": [
       "Eq(x**2*z + 4*x*y*z + 4*y**2*z, z*(x + 2*y)**2)"
      ]
     },
     "execution_count": 6,
     "metadata": {},
     "output_type": "execute_result"
    }
   ],
   "source": [
    "lhs = x**2*z + 4*x*y*z + 4*y**2*z\n",
    "rhs = lhs.factor()\n",
    "sym.Eq(lhs, rhs)"
   ]
  },
  {
   "cell_type": "code",
   "execution_count": 7,
   "id": "31857c1a-7847-48af-8fe7-3b0e74228fc4",
   "metadata": {
    "execution": {
     "iopub.execute_input": "2022-10-17T17:28:50.474246Z",
     "iopub.status.busy": "2022-10-17T17:28:50.473863Z",
     "iopub.status.idle": "2022-10-17T17:28:50.493927Z",
     "shell.execute_reply": "2022-10-17T17:28:50.493036Z",
     "shell.execute_reply.started": "2022-10-17T17:28:50.474218Z"
    },
    "tags": []
   },
   "outputs": [
    {
     "data": {
      "text/latex": [
       "$\\displaystyle x^{2} z + 2 x^{2} + x y + x + 3 = x^{2} \\left(z + 2\\right) + x \\left(y + 1\\right) + 3$"
      ],
      "text/plain": [
       "Eq(x**2*z + 2*x**2 + x*y + x + 3, x**2*(z + 2) + x*(y + 1) + 3)"
      ]
     },
     "execution_count": 7,
     "metadata": {},
     "output_type": "execute_result"
    }
   ],
   "source": [
    "lhs = x*y + x + 3 + 2*x**2 + z*x**2\n",
    "rhs = lhs.collect(x)\n",
    "sym.Eq(lhs, rhs)"
   ]
  },
  {
   "cell_type": "markdown",
   "id": "3803843a-f61c-40e9-ae4f-2c89c0ca950e",
   "metadata": {},
   "source": [
    "#### Trigonimetric functions"
   ]
  },
  {
   "cell_type": "code",
   "execution_count": 8,
   "id": "8d5895bc-ffd3-4aa2-bf39-af6a155e65aa",
   "metadata": {
    "execution": {
     "iopub.execute_input": "2022-10-17T17:28:59.418543Z",
     "iopub.status.busy": "2022-10-17T17:28:59.418197Z",
     "iopub.status.idle": "2022-10-17T17:28:59.464464Z",
     "shell.execute_reply": "2022-10-17T17:28:59.463112Z",
     "shell.execute_reply.started": "2022-10-17T17:28:59.418519Z"
    },
    "tags": []
   },
   "outputs": [
    {
     "data": {
      "text/latex": [
       "$\\displaystyle \\sin^{2}{\\left(x \\right)} + \\cos^{2}{\\left(x \\right)} = 1$"
      ],
      "text/plain": [
       "Eq(sin(x)**2 + cos(x)**2, 1)"
      ]
     },
     "execution_count": 8,
     "metadata": {},
     "output_type": "execute_result"
    }
   ],
   "source": [
    "expr = sym.sin(x)**2 + sym.cos(x)**2\n",
    "result = expr.trigsimp()\n",
    "sym.Eq(expr, result)"
   ]
  },
  {
   "cell_type": "code",
   "execution_count": 10,
   "id": "d4a25168-13da-4894-b172-c8187215fd92",
   "metadata": {
    "execution": {
     "iopub.execute_input": "2022-10-17T17:29:24.746316Z",
     "iopub.status.busy": "2022-10-17T17:29:24.745934Z",
     "iopub.status.idle": "2022-10-17T17:29:24.758651Z",
     "shell.execute_reply": "2022-10-17T17:29:24.757750Z",
     "shell.execute_reply.started": "2022-10-17T17:29:24.746289Z"
    },
    "tags": []
   },
   "outputs": [
    {
     "data": {
      "text/latex": [
       "$\\displaystyle \\sin{\\left(2 x \\right)} = 2 \\sin{\\left(x \\right)} \\cos{\\left(x \\right)}$"
      ],
      "text/plain": [
       "Eq(sin(2*x), 2*sin(x)*cos(x))"
      ]
     },
     "execution_count": 10,
     "metadata": {},
     "output_type": "execute_result"
    }
   ],
   "source": [
    "expr = sym.sin(2*x)\n",
    "result = sym.expand_trig(expr)\n",
    "sym.Eq(expr, result)"
   ]
  },
  {
   "cell_type": "markdown",
   "id": "1be3e781-ab78-443f-84f3-0e13342c5abd",
   "metadata": {},
   "source": [
    "#### Rewrite\n",
    "A common way to deal with special functions is to *rewrite* them in terms of one another."
   ]
  },
  {
   "cell_type": "code",
   "execution_count": null,
   "id": "dcc741fe-4e96-476f-9c8d-d59c07570370",
   "metadata": {
    "execution": {
     "iopub.execute_input": "2022-10-17T17:29:45.043393Z",
     "iopub.status.busy": "2022-10-17T17:29:45.042864Z",
     "iopub.status.idle": "2022-10-17T17:29:45.064292Z",
     "shell.execute_reply": "2022-10-17T17:29:45.063317Z",
     "shell.execute_reply.started": "2022-10-17T17:29:45.043359Z"
    },
    "tags": []
   },
   "outputs": [
    {
     "data": {
      "text/latex": [
       "$\\displaystyle \\tan{\\left(x \\right)} = \\frac{\\cos{\\left(x - \\frac{\\pi}{2} \\right)}}{\\cos{\\left(x \\right)}}$"
      ],
      "text/plain": [
       "Eq(tan(x), cos(x - pi/2)/cos(x))"
      ]
     },
     "execution_count": 11,
     "metadata": {},
     "output_type": "execute_result"
    }
   ],
   "source": [
    "expr = sym.tan(x)\n",
    "result = expr.rewrite(sym.cos)\n",
    "sym.Eq(expr, result)"
   ]
  },
  {
   "cell_type": "code",
   "execution_count": 25,
   "id": "553af9ed-fdc0-4d96-b297-4c62eb3233ff",
   "metadata": {},
   "outputs": [
    {
     "data": {
      "text/latex": [
       "$\\displaystyle \\Gamma\\left(x\\right) = \\left(x - 1\\right)!$"
      ],
      "text/plain": [
       "Eq(gamma(x), factorial(x - 1))"
      ]
     },
     "execution_count": 25,
     "metadata": {},
     "output_type": "execute_result"
    }
   ],
   "source": [
    "lhs = sym.gamma(x)\n",
    "rhs = lhs.rewrite(sym.factorial)\n",
    "sym.Eq(lhs, rhs)"
   ]
  },
  {
   "cell_type": "markdown",
   "id": "14ae8980-1fcb-4081-821e-b850051d46e8",
   "metadata": {},
   "source": [
    "### 1.3. Solvers\n",
    "A quick review of number sets in Mathematics: $\\mathbb{N}$ (naturals), $\\mathbb{Z}$ (integers), $\\mathbb{Q}$ (rationals), $\\mathbb{R}$ (reals) and $\\mathbb{C}$ (complexes). They serve an important role of defining scope of the input."
   ]
  },
  {
   "cell_type": "code",
   "execution_count": 21,
   "id": "32d95679-f5c0-485c-840d-7761da63ba76",
   "metadata": {
    "execution": {
     "iopub.execute_input": "2022-10-07T15:05:32.707437Z",
     "iopub.status.busy": "2022-10-07T15:05:32.706984Z",
     "iopub.status.idle": "2022-10-07T15:05:32.711205Z",
     "shell.execute_reply": "2022-10-07T15:05:32.709941Z",
     "shell.execute_reply.started": "2022-10-07T15:05:32.707403Z"
    },
    "tags": [
     "remove-cell"
    ]
   },
   "outputs": [],
   "source": [
    "import sympy as sym\n",
    "from sspipe import p, px"
   ]
  },
  {
   "cell_type": "code",
   "execution_count": 22,
   "id": "fcdae8bb-bb68-473c-9702-cd8ff35f113d",
   "metadata": {
    "execution": {
     "iopub.execute_input": "2022-10-07T15:05:33.407075Z",
     "iopub.status.busy": "2022-10-07T15:05:33.406639Z",
     "iopub.status.idle": "2022-10-07T15:05:33.412144Z",
     "shell.execute_reply": "2022-10-07T15:05:33.411259Z",
     "shell.execute_reply.started": "2022-10-07T15:05:33.407045Z"
    },
    "tags": []
   },
   "outputs": [],
   "source": [
    "x, y, z = sym.symbols('x:z')"
   ]
  },
  {
   "cell_type": "markdown",
   "id": "719a5670-8e51-4e9d-965c-0614a6a624a7",
   "metadata": {},
   "source": [
    "#### Equation solver\n",
    "The function [`solveset()`] solves an equation for one variable and returns a set of solutions. When an expression is passed in, it is automatically assumed to equal $0$. We can also change the equation domain to get appropriate solutions.\n",
    "\n",
    "[`solveset()`]: https://docs.sympy.org/latest/modules/solvers/solveset.html"
   ]
  },
  {
   "cell_type": "code",
   "execution_count": 71,
   "id": "665ddbdc-de77-4eaa-aa7d-846908ba9141",
   "metadata": {},
   "outputs": [
    {
     "data": {
      "text/latex": [
       "$\\displaystyle \\left\\{-1, 1\\right\\}$"
      ],
      "text/plain": [
       "{-1, 1}"
      ]
     },
     "execution_count": 71,
     "metadata": {},
     "output_type": "execute_result"
    }
   ],
   "source": [
    "sym.Eq(x**2, 1) | p(sym.solveset, x)"
   ]
  },
  {
   "cell_type": "code",
   "execution_count": 85,
   "id": "3ae7b13b-ed03-4e9c-9b3e-cb868f6633ad",
   "metadata": {},
   "outputs": [
    {
     "data": {
      "text/latex": [
       "$\\displaystyle \\left\\{-1 - 2 i, -1 + 2 i\\right\\}$"
      ],
      "text/plain": [
       "{-1 - 2*I, -1 + 2*I}"
      ]
     },
     "execution_count": 85,
     "metadata": {},
     "output_type": "execute_result"
    }
   ],
   "source": [
    "'x^2 + 2*x + 5' | p(sym.solveset, x)"
   ]
  },
  {
   "cell_type": "code",
   "execution_count": 86,
   "id": "da367565-2b9f-4e3e-a9bc-00212f4bde7f",
   "metadata": {},
   "outputs": [
    {
     "data": {
      "text/latex": [
       "$\\displaystyle \\emptyset$"
      ],
      "text/plain": [
       "EmptySet"
      ]
     },
     "execution_count": 86,
     "metadata": {},
     "output_type": "execute_result"
    }
   ],
   "source": [
    "'x^2 + 2*x + 5' | p(sym.solveset, x, domain=sym.S.Reals)"
   ]
  },
  {
   "cell_type": "markdown",
   "id": "ec0dab23-c9b5-46c9-82ec-11e4ab930b9f",
   "metadata": {},
   "source": [
    "#### Linear system solver\n",
    "We can solve systems of equations by specifying each equation explicitly or using agumented matrix."
   ]
  },
  {
   "cell_type": "code",
   "execution_count": 88,
   "id": "77a4aacc-dc99-4226-9c83-963d0c1cd9c9",
   "metadata": {},
   "outputs": [
    {
     "data": {
      "text/latex": [
       "$\\displaystyle \\left\\{\\left( 1, \\  2, \\  3\\right)\\right\\}$"
      ],
      "text/plain": [
       "{(1, 2, 3)}"
      ]
     },
     "execution_count": 88,
     "metadata": {},
     "output_type": "execute_result"
    }
   ],
   "source": [
    "eqSys = [\n",
    "    sym.Eq(x + y + z, 6),\n",
    "    sym.Eq(x + 2*y + z, 8),\n",
    "    sym.Eq(x + y + 2*z, 9)\n",
    "]\n",
    "\n",
    "sym.linsolve(eqSys, [x, y, z])"
   ]
  },
  {
   "cell_type": "code",
   "execution_count": 58,
   "id": "7c0e4c97-104b-408f-8863-f0f779ea19d9",
   "metadata": {
    "execution": {
     "iopub.execute_input": "2022-10-09T10:29:52.246429Z",
     "iopub.status.busy": "2022-10-09T10:29:52.245863Z",
     "iopub.status.idle": "2022-10-09T10:29:52.264132Z",
     "shell.execute_reply": "2022-10-09T10:29:52.262480Z",
     "shell.execute_reply.started": "2022-10-09T10:29:52.246393Z"
    },
    "tags": []
   },
   "outputs": [],
   "source": [
    "matAgumented = sym.Matrix([\n",
    "    [1, 1, 1, 6],\n",
    "    [1, 2, 1, 8],\n",
    "    [1, 1, 2, 9]\n",
    "])\n",
    "\n",
    "sym.linsolve(matAgumented, (x, y, z))"
   ]
  },
  {
   "cell_type": "markdown",
   "id": "d38b99fb-3d3e-4c87-82b8-e051d49db277",
   "metadata": {},
   "source": [
    "#### Inequality solver\n",
    "SymPy [solves inequalities] via a number of functions adapt to various cases.\n",
    "\n",
    "[solves inequalities]: https://docs.sympy.org/latest/modules/solvers/inequalities.html"
   ]
  },
  {
   "cell_type": "code",
   "execution_count": 33,
   "id": "148f6889-328d-48d8-829b-9654b9ad6c13",
   "metadata": {
    "execution": {
     "iopub.execute_input": "2022-10-07T15:19:01.057098Z",
     "iopub.status.busy": "2022-10-07T15:19:01.056725Z",
     "iopub.status.idle": "2022-10-07T15:19:01.114072Z",
     "shell.execute_reply": "2022-10-07T15:19:01.113173Z",
     "shell.execute_reply.started": "2022-10-07T15:19:01.057072Z"
    },
    "tags": []
   },
   "outputs": [
    {
     "data": {
      "text/latex": [
       "$\\displaystyle \\left(2 \\leq x \\wedge x < \\infty\\right) \\vee \\left(x \\leq -2 \\wedge -\\infty < x\\right)$"
      ],
      "text/plain": [
       "((2 <= x) & (x < oo)) | ((x <= -2) & (-oo < x))"
      ]
     },
     "execution_count": 33,
     "metadata": {},
     "output_type": "execute_result"
    }
   ],
   "source": [
    "ineq = x**2 >= 4\n",
    "sym.solve_univariate_inequality(ineq, x)"
   ]
  },
  {
   "cell_type": "markdown",
   "id": "9309587e-3785-4fc9-a981-993a040e1e2e",
   "metadata": {},
   "source": [
    "## 2. Limits"
   ]
  },
  {
   "cell_type": "markdown",
   "id": "b0d03b58-fe5d-42e1-a785-d62c44c378aa",
   "metadata": {},
   "source": [
    "### 2.1. Preview"
   ]
  },
  {
   "cell_type": "code",
   "execution_count": 1,
   "id": "ced685bc-a754-45d1-b045-9d7bc94fdc88",
   "metadata": {
    "execution": {
     "iopub.execute_input": "2022-10-02T16:16:07.945284Z",
     "iopub.status.busy": "2022-10-02T16:16:07.944842Z",
     "iopub.status.idle": "2022-10-02T16:16:08.803311Z",
     "shell.execute_reply": "2022-10-02T16:16:08.802651Z",
     "shell.execute_reply.started": "2022-10-02T16:16:07.945209Z"
    },
    "tags": []
   },
   "outputs": [],
   "source": [
    "import numpy as np\n",
    "import matplotlib.pyplot as plt\n",
    "plt.style.use(['seaborn', 'seaborn-whitegrid'])\n",
    "%config InlineBackend.figure_format = 'retina'"
   ]
  },
  {
   "cell_type": "markdown",
   "id": "67f0da81-2070-45ae-add2-57f796438775",
   "metadata": {},
   "source": [
    "#### The velocity problem\n",
    "[Rate of change] or instantaneous [velocity] is an important concept in Data Science and Machine Learning. It is expressed as the [slope] $m$ of a line $y=mx+c$. However, in a non-linear function (which is very popular), the velocity changes as $x$ changes. To measure the instantaneous velocity at any given point, an visual approach is trying to draw a [tangent] then find its slope by computing $\\Delta{y}/\\Delta{x}$.\n",
    "\n",
    ":::{image} ../image/velocity_problem.png\n",
    ":height: 180px\n",
    ":align: center\n",
    ":::\n",
    "<br>\n",
    "\n",
    "Let's an this example, we want to draw the tangent of the parabola at the blue point, $a$. It is the blue line, but we will have a hard time finding it. It would be more reasonable for us to approximate the tangent by drawing a [secant], like the red one.\n",
    "\n",
    "$$m_a\\approx\\frac{f(x)-f(a)}{x-a}$$\n",
    "\n",
    "We also observe that the orange secant is less accurate, as the orange $x$ is further from the $a$, compared to red $x$. In other words, we would want to move $x$ as close to $a$ as possible, but never let them overlap to make sure the secant can always be drawn. We say that $x$ approaches $a$, denoted $x\\rightarrow a$. Such a process is mathematically written as:\n",
    "\n",
    "$$m_a=\\lim_{x\\rightarrow a}\\frac{f(x)-f(a)}{x-a}$$\n",
    "\n",
    "[Rate of change]: https://en.wikipedia.org/wiki/Time_derivative\n",
    "[velocity]: https://en.wikipedia.org/wiki/Velocity\n",
    "[slope]: https://en.wikipedia.org/wiki/Slope\n",
    "[tangent]: https://en.wikipedia.org/wiki/Tangent\n",
    "[secant]: https://en.wikipedia.org/wiki/Secant_line"
   ]
  },
  {
   "cell_type": "markdown",
   "id": "c4344ad8-273c-41e3-8c78-c4b1b7598c7b",
   "metadata": {},
   "source": [
    "#### The area problem\n",
    "Another popular problem in Calculus is evaluating the area under a curve over an interval. Same as the velocity problem, we cannot compute it exactly, but can try to approximate it.\n",
    "\n",
    ":::{image} ../image/area_problem.png\n",
    ":height: 300px\n",
    ":align: center\n",
    ":::\n",
    "<br>\n",
    "\n",
    "One way to do this is dividing up the interval $[a,b]$ into $N$ small bins, each has a width of $h$ and is represented by a point $x_n$. This point is usually placed at the center or at one of the two boundaries of a bin. For each bin $n$, draw a rectangular having width of $h$ and height of $f(x_n)$. The area can be approximated by summing up the areas of all rectangulars:\n",
    "\n",
    "$$S\\approx\\sum_{n=1}^{N}{hf(x_n)}$$\n",
    "\n",
    "It's obvious that, the smaller $h$ is, the more accurate of our approximation. So we would want to reduce $h$ to be as close to $0$ as possible, but never equal to $0$ because at this point we cannot *draw* rectangulars. This is formally written as:\n",
    "\n",
    "$$S=\\lim_{h\\rightarrow0}\\sum_{n=1}^{N}{hf(x_n)}$$"
   ]
  },
  {
   "cell_type": "markdown",
   "id": "772c4699-3ed4-4c1f-9892-7a504fbf74fd",
   "metadata": {},
   "source": [
    "### 2.2. Limits\n",
    "[Limit] (of a function) is an essential building block in Calculus. This section will takes a deeper look at function limits to explain what limits are, but avoid the Mathematical definition. We also discuss of how to estimate them using SymPy instead of Mathematical approaches.\n",
    "\n",
    "[Limit]: https://en.wikipedia.org/wiki/Limit_of_a_function"
   ]
  },
  {
   "cell_type": "markdown",
   "id": "30ac9e76-94ab-43af-92f1-8333cc49de05",
   "metadata": {},
   "source": [
    "#### Cases of limit\n",
    ":::{image} ../image/limit_types.png\n",
    ":height: 250px\n",
    ":align: center\n",
    ":::\n",
    "<br>\n",
    "\n",
    "The images above show the behaviours of different functions around $x=2$. It summrizes most popular cases you may face when finding a limit:\n",
    "- *Constant limits*. This is the easiest one to understand, shown in the first image. Even the function is not defined at $x=2$, it still has a limit:\n",
    "\n",
    "$$\\lim_{x\\rightarrow2}\\frac{x^2-4}{x-2}=4$$\n",
    "\n",
    "- *One-sided limits*. In the second image, $y$ approaches different values when $x$ comes in different directions. The previous function in fact is a special case of one-sided limits, where limits of a function from both sides are equal. In this case:\n",
    "\n",
    "$$\\lim_{x\\rightarrow2^-}\\frac{|x-2|}{x-2}=-1;\\qquad\\lim_{x\\rightarrow2^+}\\frac{|x-2|}{x-2}=1$$\n",
    "\n",
    "- *Infinite limits*. Limits are not constrained to be a number. If $f(x)$ increases or decrease without bound as $x\\rightarrow a$, then the limit is said to be positive/negative infinite.\n",
    "\n",
    "$$\\lim_{x\\rightarrow2}\\frac{1}{(x-2)^2}=+\\infty$$\n",
    "\n",
    "- *Non-existant limits*. Sometimes, limits don't exist. For example, consider the function $y=\\sin(x)$. When $x\\rightarrow+\\infty$, $y$ oscillates between $-1$ and $1$ and never converges. Limit in this case does not exist."
   ]
  },
  {
   "cell_type": "markdown",
   "id": "5cfa71b2-c8a2-4ebb-bf9f-c4a7a7b22d5f",
   "metadata": {},
   "source": [
    "#### Limits evaluation\n",
    "Limits can be evaluated by looking at graphs or by constructing tables of function values. For more complex function, we cannot rely on these methods. Using a number of basic laws, here are some techniques we can use to evaluate limits: direct substitution, factorization, rationalization, conjugate multiplication, [L'Hospital's rule] and [squeeze theorem].\n",
    "\n",
    "However, this topic is not a Calculus textbook, so instead of diving into these techniques, we are going to use SymPy. It provides us the function `limit()` evaluates the limit and the `Limit` class to store the unevaluated expression. Both take following arguments, in that order:\n",
    "- The function you want to evaluate limit\n",
    "- The variable in the limit\n",
    "- The value which the variable tends towards\n",
    "- The direction of the limit\n",
    "\n",
    "[L'Hospital's rule]: https://en.wikipedia.org/wiki/L%27H%C3%B4pital%27s_rule\n",
    "[squeeze theorem]: https://en.wikipedia.org/wiki/Squeeze_theorem"
   ]
  },
  {
   "cell_type": "code",
   "execution_count": 34,
   "id": "98b17947-afd4-4f03-998e-1b340d79928b",
   "metadata": {
    "execution": {
     "iopub.execute_input": "2022-10-09T10:10:35.480327Z",
     "iopub.status.busy": "2022-10-09T10:10:35.479977Z",
     "iopub.status.idle": "2022-10-09T10:10:35.483537Z",
     "shell.execute_reply": "2022-10-09T10:10:35.482523Z",
     "shell.execute_reply.started": "2022-10-09T10:10:35.480302Z"
    },
    "tags": [
     "remove-cell"
    ]
   },
   "outputs": [],
   "source": [
    "import sympy as sym\n",
    "from sspipe import p, px"
   ]
  },
  {
   "cell_type": "code",
   "execution_count": 35,
   "id": "2628d1cc-5268-46bb-a009-855ee5f2bc2d",
   "metadata": {
    "execution": {
     "iopub.execute_input": "2022-10-09T10:10:36.344442Z",
     "iopub.status.busy": "2022-10-09T10:10:36.344073Z",
     "iopub.status.idle": "2022-10-09T10:10:36.415345Z",
     "shell.execute_reply": "2022-10-09T10:10:36.414538Z",
     "shell.execute_reply.started": "2022-10-09T10:10:36.344416Z"
    },
    "tags": []
   },
   "outputs": [
    {
     "data": {
      "text/latex": [
       "$\\displaystyle \\lim_{x \\to 2}\\left(\\frac{x^{2} - 4}{x - 2}\\right) = 4$"
      ],
      "text/plain": [
       "Eq(Limit((x**2 - 4)/(x - 2), x, 2, dir='+-'), 4)"
      ]
     },
     "execution_count": 35,
     "metadata": {},
     "output_type": "execute_result"
    }
   ],
   "source": [
    "x = sym.Symbol('x')\n",
    "y = (x**2 - 4) / (x -2)\n",
    "\n",
    "lim = sym.Limit(y, x, 2, dir='+-')\n",
    "sym.Eq(lim, lim.doit())"
   ]
  },
  {
   "cell_type": "code",
   "execution_count": 44,
   "id": "244dc822-544b-4b72-b081-8e625e35d694",
   "metadata": {
    "execution": {
     "iopub.execute_input": "2022-10-07T16:44:39.690962Z",
     "iopub.status.busy": "2022-10-07T16:44:39.690605Z",
     "iopub.status.idle": "2022-10-07T16:44:39.701701Z",
     "shell.execute_reply": "2022-10-07T16:44:39.700830Z",
     "shell.execute_reply.started": "2022-10-07T16:44:39.690938Z"
    },
    "tags": []
   },
   "outputs": [
    {
     "data": {
      "text/latex": [
       "$\\displaystyle \\lim_{x \\to 2} \\frac{1}{\\left(x - 2\\right)^{2}} = \\infty$"
      ],
      "text/plain": [
       "Eq(Limit((x - 2)**(-2), x, 2, dir='+-'), oo)"
      ]
     },
     "execution_count": 44,
     "metadata": {},
     "output_type": "execute_result"
    }
   ],
   "source": [
    "x = sym.Symbol('x')\n",
    "y = 1 / (x -2)**2\n",
    "\n",
    "lim = sym.Limit(y, x, 2, dir='+-')\n",
    "sym.Eq(lim, lim.doit())"
   ]
  },
  {
   "cell_type": "code",
   "execution_count": 17,
   "id": "0bd5b0de-07bb-4657-a667-45206c332516",
   "metadata": {
    "execution": {
     "iopub.execute_input": "2022-10-17T17:31:59.159785Z",
     "iopub.status.busy": "2022-10-17T17:31:59.159459Z",
     "iopub.status.idle": "2022-10-17T17:31:59.165234Z",
     "shell.execute_reply": "2022-10-17T17:31:59.164365Z",
     "shell.execute_reply.started": "2022-10-17T17:31:59.159762Z"
    },
    "tags": []
   },
   "outputs": [
    {
     "data": {
      "text/latex": [
       "$\\displaystyle \\left\\langle -1, 1\\right\\rangle$"
      ],
      "text/plain": [
       "AccumBounds(-1, 1)"
      ]
     },
     "execution_count": 17,
     "metadata": {},
     "output_type": "execute_result"
    }
   ],
   "source": [
    "x = sym.Symbol('x')\n",
    "y = sym.sin(1/x)\n",
    "\n",
    "y.limit(x, 0, '+')"
   ]
  },
  {
   "cell_type": "markdown",
   "id": "5993bb8a-8b9b-4287-8e31-362bfb9597a0",
   "metadata": {},
   "source": [
    "#### Euler's number\n",
    "Imagine you are lending $1$ dollar at the [compound interest] rate of $100\\%$ a year. How much money will you have after a year, if the compounding frequency $n$ keeps increasing? This problem leads directly to the definition of the [Euler's number], $e$:\n",
    "\n",
    "$$e=\\lim_{n\\rightarrow\\infty}\\left(1+\\frac{1}{n}\\right)^n$$\n",
    "\n",
    "Euler's number is one of the most important concepts in Mathematics and Calculus.\n",
    "\n",
    "[Euler's number]: <https://en.wikipedia.org/wiki/E_(mathematical_constant)>\n",
    "[compound interest]: https://en.wikipedia.org/wiki/Compound_interest"
   ]
  },
  {
   "cell_type": "markdown",
   "id": "aca3f07d-7e7d-4091-8d1b-36b3433f33bb",
   "metadata": {},
   "source": [
    "## 3. Derivatives\n",
    "The [derivative] of a function $f$ is a function $f'$ describes velocities at different points. The process of finding a derivative is called [differentiation]. In Data Science, the most recognizable application of Differential Calculus is solving optimization problems.\n",
    "\n",
    "[derivative]: https://en.wikipedia.org/wiki/Derivative\n",
    "[differentiation]: https://en.wikipedia.org/wiki/Differential_calculus"
   ]
  },
  {
   "cell_type": "markdown",
   "id": "770b4b77-1124-4c0b-9eaf-aef2a1a48d19",
   "metadata": {},
   "source": [
    "### 3.1. Definition\n",
    "Let's $y=f(x)$ be a function. The *derivative function*, denoted $f'(x)$, is a set of points that the following limit exists:\n",
    "\n",
    "$$f'(x)=\\frac{dy}{dx}=\\lim_{\\Delta{x}\\rightarrow0}\\frac{f(x+\\Delta{x})-f(x)}{\\Delta{x}} $$\n",
    "\n",
    "Using this definition, we can find the derivatives of basic functions, for example:\n",
    "\n",
    "$$\\begin{aligned}\n",
    "\\frac{d}{dx}x^2\n",
    "&= \\lim_{h\\rightarrow0}\\frac{(x+h)^2-x^2}{h} \\\\\n",
    "&= \\lim_{h\\rightarrow0}\\frac{2hx+h^2}{h} \\\\\n",
    "&= \\lim_{h\\rightarrow0}(2x+h) \\\\\n",
    "&= 2x \\\\\n",
    "\\end{aligned}$$"
   ]
  },
  {
   "cell_type": "markdown",
   "id": "f20d1fb0-75a2-487b-b136-49bdba8bdab9",
   "metadata": {},
   "source": [
    "#### Leibniz's notation\n",
    "The expression $dy/dx$, [Leibniz's notation](https://en.wikipedia.org/wiki/Leibniz's_notation), is a more versatile way to write derivatives and is highly recommended. Here is how we write higher order derivatives:\n",
    "\n",
    "$$\n",
    "f''(x)=\\frac{d^2}{dx^2}f(x);\\qquad f'''(x)=f^{(3)}=\\frac{d^3}{dx^3}f(x)\n",
    "$$"
   ]
  },
  {
   "cell_type": "markdown",
   "id": "4ad254e3-d8e7-4038-a55b-3e7fd8724353",
   "metadata": {},
   "source": [
    "### 3.2. Differentiability\n",
    "Sometimes, derivatives at some points of a function $f$ cannot be evaluated, such a function is said to be non-[differentiable]. This happens when there is at least one point $x=a$ the derivative does not exist. Here are some common cases:\n",
    "- $f$ is not [continuous] at $a$ over its [domain].\n",
    "- $f$ is continuous but is not [smooth] at $a$. Formally, the limits differ when $x$ aproaches $a$ from two sides. Example: $f(x)=|x|$ at $x=0$.\n",
    "- $f$ has an infinite limit at $a$. In other words, the tangent at $a$ is a vertical line. Example: $f(x)=\\sqrt[3]{x}$ at $x=0$.\n",
    "- The limit at $a$ of $f$ does not exist. For example: $f(x)=\\sin(1/x)$ at $x=0$.\n",
    "\n",
    "[differentiable]: https://en.wikipedia.org/wiki/Differentiable_function\n",
    "[continuous]: https://en.wikipedia.org/wiki/Continuous_function\n",
    "[domain]: https://en.wikipedia.org/wiki/Domain_of_a_function\n",
    "[smooth]: https://en.wikipedia.org/wiki/Smoothness"
   ]
  },
  {
   "cell_type": "code",
   "execution_count": 1,
   "id": "4c312b6c-5c7e-4d93-8e14-0a7d9f803f7a",
   "metadata": {
    "execution": {
     "iopub.execute_input": "2022-10-10T16:43:46.229746Z",
     "iopub.status.busy": "2022-10-10T16:43:46.229312Z",
     "iopub.status.idle": "2022-10-10T16:43:49.726906Z",
     "shell.execute_reply": "2022-10-10T16:43:49.726203Z",
     "shell.execute_reply.started": "2022-10-10T16:43:46.229674Z"
    },
    "tags": [
     "remove-cell"
    ]
   },
   "outputs": [],
   "source": [
    "import numpy as np\n",
    "import matplotlib.pyplot as plt\n",
    "plt.style.use(['seaborn', 'seaborn-white'])\n",
    "%config InlineBackend.figure_format = 'retina'\n",
    "\n",
    "import sympy as sym\n",
    "from sspipe import p, px"
   ]
  },
  {
   "cell_type": "code",
   "execution_count": 1,
   "id": "310c7eaa-72df-45b8-92f1-f4b4c0814208",
   "metadata": {
    "execution": {
     "iopub.execute_input": "2022-10-10T16:43:46.229746Z",
     "iopub.status.busy": "2022-10-10T16:43:46.229312Z",
     "iopub.status.idle": "2022-10-10T16:43:49.726906Z",
     "shell.execute_reply": "2022-10-10T16:43:49.726203Z",
     "shell.execute_reply.started": "2022-10-10T16:43:46.229674Z"
    },
    "tags": []
   },
   "outputs": [],
   "source": [
    "x, y, z = sym.symbols('x,y,z')"
   ]
  },
  {
   "cell_type": "code",
   "execution_count": 31,
   "id": "c0905c15-73dd-445e-a6e6-cf0e873a4b40",
   "metadata": {
    "render": {
     "image": {
      "align": "center",
      "scale": "50%"
     }
    },
    "tags": []
   },
   "outputs": [
    {
     "data": {
      "image/png": "[encoded data removed]",
      "text/plain": [
       "<Figure size 360x360 with 1 Axes>"
      ]
     },
     "metadata": {
      "image/png": {
       "height": 215,
       "width": 356
      }
     },
     "output_type": "display_data"
    }
   ],
   "source": [
    "_ = sym.plot(\n",
    "    (sym.Abs(x), (x, -2, 2)),\n",
    "    show=True, aspect_ratio=(1,1), legend=True, size=(5,5)\n",
    ")"
   ]
  },
  {
   "cell_type": "code",
   "execution_count": 60,
   "id": "8183d318-c951-40b7-9a39-07cef57eecc5",
   "metadata": {
    "render": {
     "image": {
      "align": "center",
      "scale": "50%"
     }
    },
    "tags": []
   },
   "outputs": [
    {
     "data": {
      "image/png": "[encoded data removed]",
      "text/plain": [
       "<Figure size 360x360 with 1 Axes>"
      ]
     },
     "metadata": {
      "image/png": {
       "height": 242,
       "width": 353
      }
     },
     "output_type": "display_data"
    }
   ],
   "source": [
    "_ = sym.plot(\n",
    "    (sym.cbrt(x), (x, 0, 2)),\n",
    "    show=True, aspect_ratio=(1,1), legend=True, size=(5,5)\n",
    ")"
   ]
  },
  {
   "cell_type": "code",
   "execution_count": 64,
   "id": "6d386a96-78d8-4b8e-b399-6a1b6b9aefac",
   "metadata": {
    "render": {
     "image": {
      "align": "center",
      "scale": "50%"
     }
    },
    "tags": []
   },
   "outputs": [
    {
     "data": {
      "image/png": "[encoded data removed]",
      "text/plain": [
       "<Figure size 360x360 with 1 Axes>"
      ]
     },
     "metadata": {
      "image/png": {
       "height": 192,
       "width": 356
      }
     },
     "output_type": "display_data"
    }
   ],
   "source": [
    "_ = sym.plot(\n",
    "    (sym.sin(1/x), (x, -2, 2)),\n",
    "    show=True, aspect_ratio=(1,1), legend=True, size=(5,5)\n",
    ")"
   ]
  },
  {
   "cell_type": "markdown",
   "id": "50b00aef-e39e-4856-84f1-ddb1f0117adb",
   "metadata": {},
   "source": [
    "### 3.3. Derivatives evaluation"
   ]
  },
  {
   "cell_type": "markdown",
   "id": "9fb4f0f0-2aad-4266-abd4-361281402a97",
   "metadata": {},
   "source": [
    "#### Basic derivatives\n",
    "These basic derivatives are found easily using the definition.\n",
    "- Constants: $\\dfrac{d}{dx}c=0 $\n",
    "\n",
    "- Power functions: $\\dfrac{d}{dx}x^n=nx^{n-1}$\n",
    "\n",
    "- Exponential functions: $\\dfrac{d}{dx}a^x=a^x\\log{a}$\n",
    "\n",
    "- Logarithm functions: $\\dfrac{d}{dx}\\log_ax=\\dfrac{1}{x\\log{a}}$\n",
    "\n",
    "- Trigonometric functions: $\\dfrac{d}{dx}\\sin{x}=\\cos{x},\\;\\dfrac{d}{dx}\\cos{x}=\\sin{x},\\;\\dfrac{d}{dx}\\tan{x}=1+\\tan^2x$"
   ]
  },
  {
   "cell_type": "markdown",
   "id": "2d9b1b25-f219-4990-a783-e2bc29f104b7",
   "metadata": {},
   "source": [
    "#### Derivative rules\n",
    "- Sum rule: $\\dfrac{d}{dx}(f(x)+g(x))=\\dfrac{d}{dx}f(x)+\\dfrac{d}{dx}g(x)$\n",
    "\n",
    "- Product rule: $\\dfrac{d}{dx}(f(x)\\cdot g(x))=\\dfrac{df(x)}{dx}g(x)+\\dfrac{dg(x)}{dx}f(x)$\n",
    "\n",
    "- Chain rule: $\\dfrac{d}{dx}f(g(x))=\\dfrac{df(g(x))}{dg(x)}\\dfrac{dg(x)}{dx}$"
   ]
  },
  {
   "cell_type": "markdown",
   "id": "e6d7afdf-8553-4390-b62d-1d8375674526",
   "metadata": {},
   "source": [
    "#### Taylor series\n",
    "Sometimes, we need to solve a [differential equation], in which both a function and its derivatives exist. One way to solve this kind of function is using [Taylor series], an approximation of the function $f(x)$ using derivatives at a specific point $a$:\n",
    "\n",
    "$$f(x)\n",
    "\\approx \\lim_{N\\rightarrow\\infty}\\sum_{n=1}^{N}\\frac{f^{(n)}(a)}{n!}(x-a)^n\n",
    "= f(a)+f'(a)(x-a)+\\frac{f''(a)}{2!}(x-a)^2+\\dots\n",
    "$$\n",
    "\n",
    "$N$ is called the order of the Taylor series. The higher $N$ is, the more accurate the approximation is.\n",
    "\n",
    "[differential equation]: https://en.wikipedia.org/wiki/Differential_equation\n",
    "[Taylor series]: https://en.wikipedia.org/wiki/Taylor_series"
   ]
  },
  {
   "cell_type": "markdown",
   "id": "866b5459-6db4-46a6-8a74-9c690faa0f9c",
   "metadata": {},
   "source": [
    "#### Implementation"
   ]
  },
  {
   "cell_type": "markdown",
   "id": "a372aea5-b1d3-4385-b706-fe6ce443fabb",
   "metadata": {},
   "source": [
    ":::{admonition} Case study\n",
    ":class: seealso\n",
    "\n",
    "Given the function $y=\\log(x^2)$ . Find the derivative of $y$ at $x=1$ using derivative rules and check it again with SymPy.\n",
    "\n",
    "Let $y=f(u)=\\log(u)$ and $u=g(x)=x^2$. Using the chain rule:\n",
    "\n",
    "$$\\frac{dy}{dx} = \\frac{dy}{du}\\cdot\\frac{du}{dx} = \\frac{1}{u}\\cdot2x = \\frac{2x}{x^2} = \\frac{2}{x}$$\n",
    "\n",
    "So, at $x=1$, the rate of change of $y$ with respect to $x$ is $2$.\n",
    "\n",
    ":::"
   ]
  },
  {
   "cell_type": "code",
   "execution_count": 4,
   "id": "b06cb4bf-de2c-4854-9eb4-cacf2f5ebaf1",
   "metadata": {
    "execution": {
     "iopub.execute_input": "2022-10-10T16:44:09.778408Z",
     "iopub.status.busy": "2022-10-10T16:44:09.778087Z",
     "iopub.status.idle": "2022-10-10T16:44:09.781699Z",
     "shell.execute_reply": "2022-10-10T16:44:09.780764Z",
     "shell.execute_reply.started": "2022-10-10T16:44:09.778386Z"
    },
    "tags": [
     "remove-cell"
    ]
   },
   "outputs": [],
   "source": [
    "import sympy as sym\n",
    "from sspipe import p, px"
   ]
  },
  {
   "cell_type": "code",
   "execution_count": 4,
   "id": "2c6bbb23-e1c4-4643-a986-471d9df0bbbc",
   "metadata": {
    "execution": {
     "iopub.execute_input": "2022-10-10T16:44:09.778408Z",
     "iopub.status.busy": "2022-10-10T16:44:09.778087Z",
     "iopub.status.idle": "2022-10-10T16:44:09.781699Z",
     "shell.execute_reply": "2022-10-10T16:44:09.780764Z",
     "shell.execute_reply.started": "2022-10-10T16:44:09.778386Z"
    },
    "tags": []
   },
   "outputs": [],
   "source": [
    "x, y, z = sym.symbols('x:z')"
   ]
  },
  {
   "cell_type": "code",
   "execution_count": 18,
   "id": "9daa2065-8df6-46c7-bf37-60bd3bb81cb1",
   "metadata": {
    "execution": {
     "iopub.execute_input": "2022-10-17T17:32:52.083139Z",
     "iopub.status.busy": "2022-10-17T17:32:52.082766Z",
     "iopub.status.idle": "2022-10-17T17:32:52.096593Z",
     "shell.execute_reply": "2022-10-17T17:32:52.095755Z",
     "shell.execute_reply.started": "2022-10-17T17:32:52.083112Z"
    },
    "tags": []
   },
   "outputs": [
    {
     "data": {
      "text/latex": [
       "$\\displaystyle \\frac{d}{d x} \\log{\\left(x^{2} \\right)} = \\frac{2}{x}$"
      ],
      "text/plain": [
       "Eq(Derivative(log(x**2), x), 2/x)"
      ]
     },
     "execution_count": 18,
     "metadata": {},
     "output_type": "execute_result"
    }
   ],
   "source": [
    "expr = sym.log(x**2)\n",
    "lhs = sym.Derivative(expr)\n",
    "rhs = expr.diff()\n",
    "sym.Eq(lhs, rhs)"
   ]
  },
  {
   "cell_type": "code",
   "execution_count": 40,
   "id": "59ef083f-42d2-407d-90a8-05c7aadcfc73",
   "metadata": {
    "execution": {
     "iopub.execute_input": "2022-10-10T17:01:29.509169Z",
     "iopub.status.busy": "2022-10-10T17:01:29.508643Z",
     "iopub.status.idle": "2022-10-10T17:01:29.514235Z",
     "shell.execute_reply": "2022-10-10T17:01:29.513314Z",
     "shell.execute_reply.started": "2022-10-10T17:01:29.509123Z"
    },
    "tags": []
   },
   "outputs": [
    {
     "data": {
      "text/latex": [
       "$\\displaystyle 2$"
      ],
      "text/plain": [
       "2"
      ]
     },
     "execution_count": 40,
     "metadata": {},
     "output_type": "execute_result"
    }
   ],
   "source": [
    "rhs.subs({x: 1})"
   ]
  },
  {
   "cell_type": "markdown",
   "id": "1e3329a0-81eb-4c4a-8a5d-3a6ec3733958",
   "metadata": {},
   "source": [
    "### 3.4. Multivariate derivatives"
   ]
  },
  {
   "cell_type": "markdown",
   "id": "d83b2a68-9fb2-4665-873d-946c7f851a76",
   "metadata": {},
   "source": [
    "#### Partial derivative\n",
    "[Partial derivative] is a concept defined for [multivariate functions], it is the derivative of the function with respect to each variable with the others held constant. For instance, the partial derivatives of $y=f(x_1,x_2)=x_1^2+\\log{x_2}+x_1x_2$ are:\n",
    "\n",
    "$$\\begin{aligned}\n",
    "\\frac{\\partial{y}}{\\partial{x_1}} &= 2x_1+x_2 \\\\\n",
    "\\frac{\\partial{y}}{\\partial{x_2}} &= \\frac{1}{x_2}+x_1\n",
    "\\end{aligned}$$\n",
    "\n",
    "[Partial derivative]: https://en.wikipedia.org/wiki/Partial_derivative\n",
    "[multivariate functions]: https://en.wikipedia.org/wiki/Function_of_several_real_variables"
   ]
  },
  {
   "cell_type": "markdown",
   "id": "c7a44ff1-5893-48a4-9c2e-bcfefc78a580",
   "metadata": {},
   "source": [
    "#### Gradient\n",
    "The partial derivative reppresents the rate of change in a specific direction. If we use a column vector $\\mathbf{x}$ to denote the input, then the set of all partial derivatives of $y=f(\\mathbf{x})$ is called the [gradient], denoted $\\nabla{y}$. The gradient is also written as a column vector, thus it has the same size with the input vector.\n",
    "\n",
    "$$\\mathbf{g}_f=\\nabla{y}=\\begin{bmatrix}\n",
    "    \\dfrac{\\partial{y}}{\\partial{x_1}} &\n",
    "    \\dfrac{\\partial{y}}{\\partial{x_2}}\n",
    "\\end{bmatrix}^\\text{T} $$\n",
    "\n",
    "[gradient]: https://en.wikipedia.org/wiki/Gradient"
   ]
  },
  {
   "cell_type": "markdown",
   "id": "c6c8ea6d-09ba-45e7-b9c8-19cece34a742",
   "metadata": {},
   "source": [
    "#### Hessian\n",
    "Becasue this is the most popular case in [matrix calculus] (scalar-by-vector derivatives), we are moving to a more complicated concept: second-order derivatives. It is written as a matrix, called the [Hessian matrix] as follows:\n",
    "\n",
    "$$\\mathbf{H}_f=\\begin{bmatrix}\n",
    "    \\dfrac{\\partial^2{f}}{\\partial{x_1}^2} & \\dfrac{\\partial^2{f}}{\\partial{x_1x_2}} \\\\\n",
    "    \\dfrac{\\partial^2{f}}{\\partial{x_2x_1}} & \\dfrac{\\partial^2{f}}{\\partial{x_2}^2} \\\\\n",
    "\\end{bmatrix} $$\n",
    "\n",
    "[matrix calculus]: https://en.wikipedia.org/wiki/Matrix_calculus\n",
    "[Hessian matrix]: https://en.wikipedia.org/wiki/Hessian_matrix"
   ]
  },
  {
   "cell_type": "markdown",
   "id": "0f9e3327-faa0-435c-b842-024a4bad67f9",
   "metadata": {},
   "source": [
    "## 4. Integrals\n",
    "The [integral] of a function $f$ is a function $F$ describes areas under the curve up to different points. The process of finding an integral is call [integration]. In Data Science, the most recognizable application of Integral Calculus is defining probabilities.\n",
    "\n",
    "[integral]: https://en.wikipedia.org/wiki/Antiderivative\n",
    "[integration]: https://en.wikipedia.org/wiki/Integral"
   ]
  },
  {
   "cell_type": "markdown",
   "id": "f6eeb802-a7cf-486a-8dcc-35214c2bbc92",
   "metadata": {},
   "source": [
    "### 4.1. Definition\n",
    "The problem of area under the curve exmained when we start learning about limits gives us the definition of *definite integral*. The term *area* here is loosely understood, as it can be negative when the curve is under the $x$-axis. It is defined within an interval $[a,b]$ given by:\n",
    "\n",
    "$$\\int_a^bf(x)dx=\\lim_{\\Delta{x}\\rightarrow0}\\sum_{n=1}^{N}{f(x_n)\\Delta{x}}$$\n",
    "\n",
    "The term $dx$ refers to a very small $\\Delta{x}$ is called an [infinitesimal]. When using integral as a function, we use the concept *finite integral* or [anti-derivative] written as a function $F$ where $F'(x)=f(x)$. This is a more general concept as we can use it to compute definite integral:\n",
    "\n",
    "$$\\int_a^bf(x)dx=F(b)-F(a)=\\int f(b)dx-\\int f(a)dx$$\n",
    "\n",
    "Notice that if $F'(x)=f(x)$ then $(F(x)+c)'=f(x)$ for any constant $c$. So basically there are a countless number of anti-derivatives, but they are all related. For simplification purpose, we only write $F(x)$.\n",
    "\n",
    "[infinitesimal]: https://en.wikipedia.org/wiki/Infinitesimal\n",
    "[anti-derivative]: https://en.wikipedia.org/wiki/Antiderivative"
   ]
  },
  {
   "cell_type": "markdown",
   "id": "5b693355-addc-447d-a81c-0b865ffb5965",
   "metadata": {},
   "source": [
    "### 4.2. Integration rules\n",
    "This section summaries most popular anti-derivatives.\n",
    "- Constant: $\\displaystyle{\\int cdx=cx}$\n",
    "\n",
    "- Power functions: $\\displaystyle{\\int x^ndx=\\dfrac{x^{n+1}}{n+1}}$\n",
    "\n",
    "- Exponential functions: $\\displaystyle{\\int a^xdx=\\frac{a^x}{\\log a}}$\n",
    "\n",
    "- Trigonometric functions:\n",
    "$\\displaystyle{\n",
    "    \\int\\sin(x)dx=-\\cos{x},\\;\n",
    "    \\int\\cos(x)dx=\\sin{x},\\;\n",
    "    \\int\\tan(x)dx=-\\log|\\cos(x)|\n",
    "}$"
   ]
  },
  {
   "cell_type": "markdown",
   "id": "9755330e-9176-4fbb-8865-9e06a4cbecaf",
   "metadata": {},
   "source": [
    "### 4.3. Implementation"
   ]
  },
  {
   "cell_type": "code",
   "execution_count": 1,
   "id": "2897f568-25db-4a24-bdb6-542be285bfcd",
   "metadata": {
    "tags": [
     "remove-cell"
    ]
   },
   "outputs": [],
   "source": [
    "import sympy as sym\n",
    "from sspipe import p, px"
   ]
  },
  {
   "cell_type": "code",
   "execution_count": 1,
   "id": "d22f3c65-56f0-4ae4-9d42-3a12f8baca7c",
   "metadata": {
    "tags": []
   },
   "outputs": [],
   "source": [
    "x, y, z = sym.symbols('x:z')"
   ]
  },
  {
   "cell_type": "code",
   "execution_count": 7,
   "id": "c7887192-2ed3-4f60-8cdd-b1647578e668",
   "metadata": {
    "tags": []
   },
   "outputs": [
    {
     "data": {
      "text/latex": [
       "$\\displaystyle x \\log{\\left(x \\right)} - x$"
      ],
      "text/plain": [
       "x*log(x) - x"
      ]
     },
     "execution_count": 7,
     "metadata": {},
     "output_type": "execute_result"
    }
   ],
   "source": [
    "x, y, z = sym.symbols('x:z')\n",
    "y = sym.log(x)\n",
    "y.integrate()"
   ]
  },
  {
   "cell_type": "code",
   "execution_count": 12,
   "id": "bb06ef26-39c9-406e-9b9c-3d432bd6e725",
   "metadata": {
    "tags": []
   },
   "outputs": [
    {
     "data": {
      "text/latex": [
       "$\\displaystyle 25.7947686930944$"
      ],
      "text/plain": [
       "25.7947686930944"
      ]
     },
     "execution_count": 12,
     "metadata": {},
     "output_type": "execute_result"
    }
   ],
   "source": [
    "x, y, z = sym.symbols('x:z')\n",
    "z = 3**x + y**2\n",
    "z.integrate((x, 1, 2), (y, 4, 5)).evalf()"
   ]
  },
  {
   "cell_type": "markdown",
   "id": "9a42a567-f0ba-4176-bbf3-ce3139dc5685",
   "metadata": {},
   "source": [
    "## 5. Optimization\n",
    "[Optimization] is the problem of finding *global* [extrema] of a function. It is solved using [Fermat's theorem], saying that the derivative of a function at a local maximum or local minimum must be zero.\n",
    "\n",
    "[Optimization]: https://en.wikipedia.org/wiki/Mathematical_optimization\n",
    "[extrema]: https://en.wikipedia.org/wiki/Maxima_and_minima\n",
    "[Fermat's theorem]: <https://en.wikipedia.org/wiki/Fermat%27s_theorem_(stationary_points)>"
   ]
  },
  {
   "cell_type": "markdown",
   "id": "99e1ca51-35ed-44c9-b098-d742436a5f76",
   "metadata": {},
   "source": [
    "### 5.1. Derivative test\n",
    "[Derivative test] is an application of derivative for examining important properties of a function. Two commonly used derivatives are:\n",
    "- first-order derivative, to describe the [monotonicity] and to locate [stationary points]\n",
    "- second-order derivative, to describe the [concavity] and to locate [inflection points]\n",
    "\n",
    "Combined together, the two tests enable the capacity of finding *local minima* and *local maxima*. In this section, we are going to analyze the results of derivative tests of the function:\n",
    "\n",
    "$$y=(2x^5-x^4-10x^3)/16$$\n",
    "\n",
    "[Derivative test]: https://en.wikipedia.org/wiki/Derivative_test\n",
    "[monotonicity]: https://en.wikipedia.org/wiki/Monotonic_function\n",
    "[stationary points]: https://en.wikipedia.org/wiki/Stationary_point\n",
    "[concavity]: https://en.wikipedia.org/wiki/Concave_function\n",
    "[inflection points]: https://en.wikipedia.org/wiki/Inflection_point"
   ]
  },
  {
   "cell_type": "code",
   "execution_count": 23,
   "id": "64847228-ffbe-4fb5-8990-0a2016f6d9bb",
   "metadata": {
    "execution": {
     "iopub.execute_input": "2022-10-15T18:09:27.725119Z",
     "iopub.status.busy": "2022-10-15T18:09:27.724718Z",
     "iopub.status.idle": "2022-10-15T18:09:27.737045Z",
     "shell.execute_reply": "2022-10-15T18:09:27.736213Z",
     "shell.execute_reply.started": "2022-10-15T18:09:27.725067Z"
    },
    "tags": [
     "remove-cell"
    ]
   },
   "outputs": [],
   "source": [
    "import numpy as np\n",
    "import matplotlib.pyplot as plt\n",
    "plt.style.use(['seaborn', 'seaborn-whitegrid'])\n",
    "%config InlineBackend.figure_format = 'retina'\n",
    "\n",
    "import sympy as sym\n",
    "from sspipe import p, px"
   ]
  },
  {
   "cell_type": "code",
   "execution_count": 90,
   "id": "e5141785-e80a-44e8-bf6d-5ee134e76fe5",
   "metadata": {
    "execution": {
     "iopub.execute_input": "2022-10-16T12:27:15.590754Z",
     "iopub.status.busy": "2022-10-16T12:27:15.590308Z",
     "iopub.status.idle": "2022-10-16T12:27:15.600474Z",
     "shell.execute_reply": "2022-10-16T12:27:15.599318Z",
     "shell.execute_reply.started": "2022-10-16T12:27:15.590729Z"
    },
    "tags": []
   },
   "outputs": [],
   "source": [
    "f = lambda x: 0.125*x**5 - 0.0625*x**4 - 0.625*x**3\n",
    "f1 = lambda x: 0.625*x**4 - 0.25*x**3 - 1.875*x**2\n",
    "boundLeft, boundRight = -2.2, 2.6\n",
    "\n",
    "x = sym.Symbol('x')\n",
    "y = f(x)\n",
    "\n",
    "mapSignToColor = {\n",
    "    'negative': 'indianred',\n",
    "    'positive': 'royalblue',\n",
    "    '-': 'indianred',\n",
    "    '+': 'royalblue',\n",
    "}"
   ]
  },
  {
   "cell_type": "markdown",
   "id": "f4a48e26-eab6-45f4-9fca-8deecdc750a2",
   "metadata": {},
   "source": [
    "#### First-derivative test\n",
    "So far, we have known the derivative at a point implies the *instantaneous velocity* of the function. So, if we could solve for the sign of the derivative in all possible intervals, we also know when the function is *increasing* or *decreasing*. Below are the table of sign for $f'(x)$ and its relationship with the graph of $f(x)$. The graph is partially colored so that the red intervals indicate $f'(x)<0$ and blue intervals indicate $f'(x)>0$.\n",
    "\n",
    "|$x$    |   |$-\\infty$|   |$-1.544$|   |$0$|   |$1.944$|   |$\\infty$|\n",
    "|:-----:|:-:|:-------:|:-:|:------:|:-:|:-:|:-:|:-----:|:-:|:------:|\n",
    "|$f'(x)$|   |         |$+$|$0$     |$-$|$0$|$-$|$0$    |$+$|        |\n",
    "\n",
    ":::{image} ../output/function_monotonicity.png\n",
    ":height: 300px\n",
    ":align: center\n",
    ":::\n",
    "<br>\n",
    "\n",
    "The black points are where the derivative is zero, we generally call them *stationary points*. However, the behaviours of the function around them are quite different. The first stationary point, $x\\approx-1.544$, we witness that $y$ is switching from increasing to decreasing when going through it. This indicates $x\\approx-1.544$ is a *relative*, or *local* maximum. Likewise, $x\\approx-1.944$ is a local minimum. But $x=0$ is different, the function does not change its monotonicity after going through this point, so it is not a maximum neither a minimum. Points like this are called *saddle points*."
   ]
  },
  {
   "cell_type": "code",
   "execution_count": 155,
   "id": "1830c562-7ff8-4062-9d63-73cf1ebe3290",
   "metadata": {
    "execution": {
     "iopub.execute_input": "2022-10-16T17:45:18.530473Z",
     "iopub.status.busy": "2022-10-16T17:45:18.530106Z",
     "iopub.status.idle": "2022-10-16T17:45:18.547955Z",
     "shell.execute_reply": "2022-10-16T17:45:18.546731Z",
     "shell.execute_reply.started": "2022-10-16T17:45:18.530447Z"
    },
    "tags": [
     "hide-cell"
    ]
   },
   "outputs": [],
   "source": [
    "listStationary = [float(i) for i in y.diff() | p(sym.solveset, x) | p(list) | p(sorted)]\n",
    "listInterval = [\n",
    "    np.linspace(boundLeft, listStationary[0], 1000),\n",
    "    np.linspace(listStationary[0], listStationary[1], 1000),\n",
    "    np.linspace(listStationary[1], listStationary[2], 1000),\n",
    "    np.linspace(listStationary[2], boundRight, 1000),\n",
    "]"
   ]
  },
  {
   "cell_type": "code",
   "execution_count": 156,
   "id": "eb33661c-f530-47f5-9017-9cce9899a0d1",
   "metadata": {
    "execution": {
     "iopub.execute_input": "2022-10-16T17:45:19.682286Z",
     "iopub.status.busy": "2022-10-16T17:45:19.681944Z",
     "iopub.status.idle": "2022-10-16T17:45:20.246637Z",
     "shell.execute_reply": "2022-10-16T17:45:20.245874Z",
     "shell.execute_reply.started": "2022-10-16T17:45:19.682261Z"
    },
    "tags": [
     "hide-cell"
    ]
   },
   "outputs": [],
   "source": [
    "fig, ax = plt.subplots()\n",
    "ax.axhline(0, c='grey')\n",
    "\n",
    "ax.plot(listInterval[0], f(listInterval[0]), color=mapSignToColor['+'], label='Increasing (velocity > 0)')\n",
    "ax.plot(listInterval[1], f(listInterval[1]), color=mapSignToColor['-'], label='Decreasing (velocity < 0)')\n",
    "ax.plot(listInterval[2], f(listInterval[2]), color=mapSignToColor['-'])\n",
    "ax.plot(listInterval[3], f(listInterval[3]), color=mapSignToColor['+'])\n",
    "\n",
    "for stationary in listStationary:\n",
    "    ax.plot(stationary, f(stationary), 'ok')\n",
    "    ax.axvline(stationary, ls='--', c='grey', alpha=0.5)\n",
    "\n",
    "ax.legend()\n",
    "ax.axis('scaled')\n",
    "ax.grid(False)\n",
    "ax.set_xticks(listStationary)\n",
    "ax.set_yticks([])\n",
    "\n",
    "fig.savefig('../output/function_monotonicity.png', dpi=500, bbox_inches='tight')\n",
    "plt.close(fig)"
   ]
  },
  {
   "cell_type": "markdown",
   "id": "0d922168-2689-4d5e-af4f-ec392618bfac",
   "metadata": {},
   "source": [
    "#### Second-derivative test\n",
    "We first talk about the meaning of [second derivative]. Because it is computed by taking the rate of change of velocity, it describes how the velocity is changing itself. In other words, second derivative is the representation of *instantaneous acceleration*. Below is the table of sign for $f''(x)$ and how it affects $f(x)$ and $f'(x)$:\n",
    "\n",
    "|$x$     |   |$-\\infty$|   |$-1.084$|   |$0$|   |$1.384$|   |$\\infty$|\n",
    "|:------:|:-:|:-------:|:-:|:------:|:-:|:-:|:-:|:-----:|:-:|:------:|\n",
    "|$f''(x)$|   |         |$-$|$0$     |$+$|$0$|$-$|$0$    |$+$|        |\n",
    "\n",
    ":::{image} ../output/function_concavity.png\n",
    ":height: 300px\n",
    ":align: center\n",
    ":::\n",
    "<br>\n",
    "\n",
    "When the second derivative is negative (red sections), which means the velocity is decreasing, we witness that the function is *concave*. In contrast, the function is *convex* in blue sections. This is the main result of the second derivative test, it pairs with first-derivative test to conclude if a stationary point is whether a local minimum, a local maxium or a saddle point:\n",
    "- If $f'(a)=0$ and $f''(a)>0$ then $x=a$ is a local minimum of $f(x)$\n",
    "- If $f'(a)=0$ and $f''(a)<0$ then $x=a$ is a local maximum of $f(x)$\n",
    "- If $f'(a)=f''(a)=0$ then $x=a$ is a saddle point\n",
    "\n",
    "We also observe that at black points, the function *switches* between concave and convex. Such a point is called an *inflection point*. This is another benefit of second-derivative test. Also note that some resources refer to concave/convex as concave down/up.\n",
    "\n",
    "[second derivative]: https://en.wikipedia.org/wiki/Second_derivative"
   ]
  },
  {
   "cell_type": "code",
   "execution_count": 149,
   "id": "b0d9fe9a-5c96-48c5-ac79-34bc3605a45f",
   "metadata": {
    "execution": {
     "iopub.execute_input": "2022-10-16T17:29:40.842690Z",
     "iopub.status.busy": "2022-10-16T17:29:40.842309Z",
     "iopub.status.idle": "2022-10-16T17:29:40.859059Z",
     "shell.execute_reply": "2022-10-16T17:29:40.858136Z",
     "shell.execute_reply.started": "2022-10-16T17:29:40.842663Z"
    },
    "tags": [
     "hide-cell"
    ]
   },
   "outputs": [],
   "source": [
    "listInflection = [float(i) for i in y.diff().diff() | p(sym.solveset, x) | p(list) | p(sorted)]\n",
    "listInterval = [\n",
    "    np.linspace(boundLeft, listInflection[0], 1000),\n",
    "    np.linspace(listInflection[0], listInflection[1], 1000),\n",
    "    np.linspace(listInflection[1], listInflection[2], 1000),\n",
    "    np.linspace(listInflection[2], boundRight, 1000),\n",
    "]"
   ]
  },
  {
   "cell_type": "code",
   "execution_count": 154,
   "id": "77fb7803-caf7-4ea9-b92b-624cbaeac7b7",
   "metadata": {
    "execution": {
     "iopub.execute_input": "2022-10-16T17:33:39.791873Z",
     "iopub.status.busy": "2022-10-16T17:33:39.791510Z",
     "iopub.status.idle": "2022-10-16T17:33:40.253346Z",
     "shell.execute_reply": "2022-10-16T17:33:40.252377Z",
     "shell.execute_reply.started": "2022-10-16T17:33:39.791844Z"
    },
    "tags": [
     "hide-cell"
    ]
   },
   "outputs": [],
   "source": [
    "xPlot = np.linspace(boundLeft+0.5, boundRight-0.5, 1000)\n",
    "\n",
    "fig, ax = plt.subplots()\n",
    "ax.axhline(0, c='grey')\n",
    "\n",
    "ax.plot(xPlot, f1(xPlot), c='grey', label='Velocity')\n",
    "\n",
    "ax.plot(listInterval[0], f(listInterval[0]), color=mapSignToColor['-'], label='Concave (acceleration < 0)')\n",
    "ax.plot(listInterval[1], f(listInterval[1]), color=mapSignToColor['+'], label='Convex (acceleration > 0)')\n",
    "ax.plot(listInterval[2], f(listInterval[2]), color=mapSignToColor['-'])\n",
    "ax.plot(listInterval[3], f(listInterval[3]), color=mapSignToColor['+'])\n",
    "\n",
    "for inflection in listInflection:\n",
    "    ax.plot(inflection, f(inflection), 'ok')\n",
    "    ax.plot(inflection, f1(inflection), 'ok')\n",
    "    ax.axvline(inflection, ls='--', c='grey', alpha=0.5)\n",
    "\n",
    "ax.legend()\n",
    "ax.axis('scaled')\n",
    "ax.grid(False)\n",
    "ax.set_xticks(listInflection)\n",
    "ax.set_yticks([])\n",
    "\n",
    "fig.savefig('../output/function_concavity.png', dpi=500, bbox_inches='tight')\n",
    "plt.close(fig)"
   ]
  },
  {
   "cell_type": "markdown",
   "id": "ca30311f-b788-46a4-93ef-4500bc60afc1",
   "metadata": {},
   "source": [
    "### 5.2. Constrained optimization\n",
    "[Constrained optimization] is the extension of the normal optimization problem, in which the solution must satisfy specific contraints. This type of otimization is very popular in real world problems.\n",
    "\n",
    "$$\\begin{array}{rll}\n",
    "\\min              & f(\\mathbf{x}) \\\\\n",
    "\\text{subject to} & g_i(\\mathbf{x})=0    & \\text{for }i=1,2,\\dots \\\\\n",
    "                  & h_j(\\mathbf{x})\\geq0 & \\text{for }j=1,2,\\dots\n",
    "\\end{array}$$\n",
    "\n",
    "Here, $g=0$ refers to equality constraints and $h=0$ refers to non-equality constraints. The indices $i$ and $j$ are added to imply that there can be an unlimited number of constraints. Also note that this is the most general form of an optimization problem, as other scenarios such as maximizing, non-zero right hand side and \"less than\" constraints can be easily converted to this form.\n",
    "\n",
    "[Constrained optimization]: https://en.wikipedia.org/wiki/Constrained_optimization"
   ]
  },
  {
   "cell_type": "markdown",
   "id": "0ac15662-b799-44cc-b9e4-cdac3d8e7571",
   "metadata": {},
   "source": [
    "#### Lagrange multiplier\n",
    "[Lagrange multiplier] is a theorem for optimizing a function with equality constraints only. Intuitively, it says that at an optimal point $\\mathbf{x}^*=(x_1^*,x_2^*,\\dots)$, the gradient of $f$ has the same direction with the gradient of $g$. Mathematically, the theorem states that there always exists a real number $\\lambda$, called the Lagrange multiplier, such that:\n",
    "\n",
    "$$\\nabla f(\\mathbf{x}^*)=-\\lambda\\nabla g(\\mathbf{x}^*)$$\n",
    "\n",
    "The solution $\\mathbf{x}^*$ and $\\lambda$ that satisfies the above equation, interestingly, is the saddle point of\n",
    "$\\mathcal{L}(\\mathbf{x},\\lambda)=f(\\mathbf{x})+\\lambda g(\\mathbf{x})$, also known as the *Lagrange function*. Solving for $\\mathbf{x}^*$ and $\\lambda$ yields the system of equations:\n",
    "\n",
    "$$\\begin{array}{ll}\n",
    "\\text{Stationarity:} & \\nabla\\mathcal{L}(\\mathbf{x},\\lambda)=\\mathbf{0} \\\\\n",
    "\\text{Feasibility:}  & g(\\mathbf{x})=0\n",
    "\\end{array}$$\n",
    "\n",
    "One thing to notice, is that solving this yields only a [necessary condition] and still requires some sufficient conditions to confirm if a solution is an extremum. And even that, the extrema we have found so far are local ones, we still need to compare them to get the global optima. \n",
    "\n",
    "[Lagrange multiplier]: https://en.wikipedia.org/wiki/Lagrange_multiplier\n",
    "[necessary condition]: https://en.wikipedia.org/wiki/Necessity_and_sufficiency"
   ]
  },
  {
   "cell_type": "markdown",
   "id": "8d15f722-2138-4638-a752-85a77f4316c9",
   "metadata": {},
   "source": [
    ":::{admonition} Case study\n",
    ":class: seealso\n",
    "\n",
    "Find the minimum value of $f(x_1,x_2)=x_1^2+2x_2^2$ subject to the constraint $g(x_1,x_2)=2x_1+x_2-9=0$, using Lagrange multiplier.\n",
    "\n",
    "First, calculate the gradients of $f$ and $g$. Here, $\\mathbf{i}_1$ and $\\mathbf{i}_2$ are the unit vectors of the respective input dimensions.\n",
    "\n",
    "$$\\begin{aligned}\n",
    "\\nabla f &= 2x_1\\mathbf{i}_1+4x_2\\mathbf{i}_2 \\\\\n",
    "\\nabla g &= \\mathbf{i}_1+2\\mathbf{i}_2 \\\\\n",
    "\\end{aligned}$$\n",
    "\n",
    "According to the method of Lagrange multiplier, $\\nabla f=\\lambda\\nabla g$, along with the constraint give us the system:\n",
    "\n",
    "$$\\begin{aligned}\n",
    "2x_1 &= 2\\lambda \\\\\n",
    "4x_2 &= \\lambda \\\\\n",
    "2x_1+x_2 &= 9 \\\\\n",
    "\\end{aligned}$$\n",
    "\n",
    "Solving it gives us $(x_1^*,x_2^*)=(4,1)$ and $\\lambda=4$.\n",
    "\n",
    ":::"
   ]
  },
  {
   "cell_type": "markdown",
   "id": "c3817b7a-e432-4dad-aae4-917eb97cb2fd",
   "metadata": {},
   "source": [
    "#### Multiple constraints\n",
    "Starting simple let us understand Lagrange multiplier in an intuitive way. Now, it's time to extend the method a little, by considering more than one equality constraints: $g_1(\\mathbf{x})=g_2(\\mathbf{x})=\\ldots=0$, or shortly: $\\mathbf{g}(\\mathbf{x})=\\mathbf{0}$. In this case, our Lagrange function will be:\n",
    "\n",
    "$$\n",
    "\\mathcal{L}(\\mathbf{x},\\boldsymbol{\\lambda})\n",
    "= f(\\mathbf{x})+\\boldsymbol{\\lambda}^\\text{T}\\mathbf{g}(\\mathbf{x})\n",
    "= f(\\mathbf{x})+\\sum{\\lambda_ig_i(\\mathbf{x})}\n",
    "$$\n",
    "\n",
    "Solving this more general problem is the same as in the case of a single constraint. Notice the system of equations will be equal to the total number of elements in $\\mathbf{x}$ and $\\boldsymbol{\\lambda}$."
   ]
  },
  {
   "cell_type": "markdown",
   "id": "5e49d2bd-8407-4a12-b014-e36abea2762e",
   "metadata": {},
   "source": [
    "#### KKT conditions\n",
    "[Karush-Kuhn-Tucker conditions] (KKT conditions) is a technique extending Lagrange multiplier to adapt non-equality constraints. Let's say, we are optimizing a simple problem with one equality and one non-equality constraints:\n",
    "\n",
    "$$\\begin{array}{rll}\n",
    "\\min              & f(\\mathbf{x}) \\\\\n",
    "\\text{subject to} & \\mathbf{g}(\\mathbf{x})=\\mathbf{0}\\text{ and }\\mathbf{h}(\\mathbf{x})\\leq\\mathbf{0} \\\\\n",
    "\\end{array}$$\n",
    "\n",
    "With the introduction of KTT multipliers, $\\boldsymbol{\\lambda}$ and $\\boldsymbol{\\mu}$, we construct the KKT function which is very close to the Lagrange function:\n",
    "\n",
    "$$\\mathcal{L}(\\mathbf{x},\\boldsymbol{\\lambda},\\boldsymbol\\mu)\n",
    "=f(\\mathbf{x})+\\boldsymbol\\lambda^\\text{T}\\mathbf{g}(\\mathbf{x})+\\boldsymbol{\\mu}^\\text{T}\\mathbf{h}(\\mathbf{x})\n",
    "$$\n",
    "\n",
    "KKT theorem states that the optimal solution of this problem must satisfies all these 4 conditions:\n",
    "\n",
    "$$\\begin{array}{ll}\n",
    "\\text{Stationarity:}             & \\nabla\\mathcal{L}(\\mathbf{x},\\boldsymbol{\\lambda},\\boldsymbol{\\mu})=\\mathbf{0} \\\\\n",
    "\\text{Primal feasibility:}       & \\mathbf{g}(\\mathbf{x})=\\mathbf{0}\\text{ and }\\mathbf{h}(\\mathbf{x})\\leq\\mathbf{0} \\\\\n",
    "\\text{Dual feasibility:}         & \\boldsymbol\\mu\\geq\\mathbf{0} \\\\\n",
    "\\text{Complementary slackness:}  & \\boldsymbol\\mu^\\text{T}\\mathbf{h}(\\mathbf{x})=\\mathbf{0} \\\\\n",
    "\\end{array}$$\n",
    "\n",
    "As being a generalization of Lagrange multiplier, KKT conditions are also necessary conditions. The method is applied popularly in economics, especially in [profit maximization].\n",
    "\n",
    "[Karush-Kuhn-Tucker conditions]: https://en.wikipedia.org/wiki/Karush%E2%80%93Kuhn%E2%80%93Tucker_conditions\n",
    "[profit maximization]: https://en.wikipedia.org/wiki/Profit_maximization"
   ]
  },
  {
   "cell_type": "markdown",
   "id": "e4fd39e6-3014-4b80-ab0d-17af74dae90d",
   "metadata": {},
   "source": [
    "#### Interpretation\n",
    "\n",
    ":::{image} ../image/lagrange_multiplier.png\n",
    ":height: 300px\n",
    ":align: center\n",
    ":::\n",
    "<br>\n",
    "\n",
    "The image above shows the geometric meaning of Lagrange multiplier: at the optimal point, $\\nabla f$ and $\\nabla g$ are two parallel vectors. Imagine we know the function $f$ measuring the *distance* ($y$) to the *treasure* ($\\mathbf{x}^*$) with respect to the *location* ($\\mathbf{x}$). We also have a *compass* always points to the treasure, shown in black arrows, which is a casual way to talk about the gradient. The treasure is in the forest, so we must follow a *trail* (red line, representing the constraint $g=0$). The red arrows represent the gradient of $g$.\n",
    "\n",
    "The optimization problem in this example is: which point on the trail is closest to the treasure? Lagrange multiplier gives us the solution for this problem: it is the point at which the black arrow is parallel to the red arrow, or in other words, the compass points perpendicularly to the trail. The ratio between two arrows, $\\lambda$ can be interpreted as the *rate of change* of the objective function with respect to the constraint at the optimal solution:\n",
    "\n",
    "$$\\lambda=\\frac{df}{dx}\\div\\frac{dg}{dx}=\\frac{df}{dg}$$\n",
    "\n",
    "In economics, the Lagrange multiplier (in the case of non-equality contraints) represents the [shadow price]. For example, a working day is limited to be 8 hours, and the manager of a company wants to hire an employee for an additional hour. Then, the Lagrange multiplier is marginal cost, showing the maximum price the manager would be willing to pay, based on the benefits he would get from this change.\n",
    "\n",
    "The increase of time for a working day from 8 to 9 hours is known as the concept of *constraint relaxtion*. In economics, constraint relaxation can occur in a lot of situations, such as bribery and overtime hiring. Thus, Lagrange multiplier can help improve decision making by analyzing the marginal utility of breaking the rule.\n",
    "\n",
    "[shadow price]: https://en.wikipedia.org/wiki/Shadow_price"
   ]
  },
  {
   "cell_type": "markdown",
   "id": "f830dac0-750c-44eb-8c8d-ca682d153615",
   "metadata": {},
   "source": [
    "### 5.3. Duality\n",
    "The [duality principle] states that any optimization problem can be viewed in either of two perspective, the *primal problem* and the *dual problem*. The set of solutions of the two problems are not always the same (we refer to it as [duality gap]), but the dual problem is sometimes easier to solve and can express interesting properties of the optimization problem. In this section, we are going to learn about two common special forms with most applications of duality, *dual linear optimization* and *Lagrangean duality*.\n",
    "\n",
    "[duality principle]: https://en.wikipedia.org/wiki/Duality_(optimization)\n",
    "[duality gap]: https://en.wikipedia.org/wiki/Duality_gap"
   ]
  },
  {
   "cell_type": "markdown",
   "id": "e519cc39-36e8-4f37-a578-eaed4e786515",
   "metadata": {},
   "source": [
    "#### Linear optimization\n",
    "[Linear optimization] is a special case of optimization problems, in which the function to optimize and the constraints are all linear functions. The canonical form of a linear program is given by:\n",
    "\n",
    "$$\\begin{array}{rl}\n",
    "\\max              & y=\\mathbf{c}^\\text{T}\\mathbf{x} \\\\\n",
    "\\text{subject to} & \\mathbf{A}\\mathbf{x}\\leq\\mathbf{b}\\text{ and }\\mathbf{x}\\geq\\mathbf{0} \\\\\n",
    "\\end{array}$$\n",
    "\n",
    "In the first constraint, the term $\\mathbf{A}\\mathbf{x}$ represents multipler linear constraints. The second constraint can always be transformed to, simply by changing the sign of the coefficients. The above problem is known as the *primal* form of the optimization problem, which has a *dual* problem given by:\n",
    "\n",
    "$$\\begin{array}{rl}\n",
    "\\min              & z=\\mathbf{b}^\\text{T}\\mathbf{t} \\\\\n",
    "\\text{subject to} & \\mathbf{A}^\\text{T}\\mathbf{t}\\geq\\mathbf{c}\\text{ and }\\mathbf{t}\\geq\\mathbf{0} \\\\\n",
    "\\end{array}$$\n",
    "\n",
    "There are two important theorems about [linear duality] we need to take a look at:\n",
    "- Weak duality theorem, states that the property $y\\leq z$ is always true at any *feasible solution* to the the two problems\n",
    "- Strong duality theorem, states that the optimal values of the two problems are the same, written formally as $\\max{y}=\\min{z}$\n",
    "\n",
    "[Linear optimization]: https://en.wikipedia.org/wiki/Linear_programming\n",
    "[linear duality]: https://en.wikipedia.org/wiki/Dual_linear_program"
   ]
  },
  {
   "cell_type": "markdown",
   "id": "0b5d6ee4-5678-4979-8a86-b20f60f97404",
   "metadata": {},
   "source": [
    ":::{admonition} Case study\n",
    ":class: seealso\n",
    "\n",
    "A rancher is preparing for a flea market sale in which he intends to sell three types of clothing that are all comprised of wool from his sheep: peacoats, hats, and scarves. As the market is in high demand, the rancher is likely to sell out all of his products. With the limited materials and time, the rancher needs to determine how he should use his resources to maximize the profit. The following table show the rancher's total resources and how much resources each product requires.\n",
    "\n",
    "|Material|Peacoat|Hat|Scarve|Resource|Unit|\n",
    "|:-|:-:|:-:|:-:|:-:|:-:|\n",
    "|Wool|9|2|4|50|foot|\n",
    "|Fabric|80|40|20|460|inch|\n",
    "|**Profit**|**175**|**25**|**21**||dollar|\n",
    "\n",
    "Denote $x_1,x_2,x_3$ the *quantity* of each product to produce, we write the *profit* formula ($y$) as the objective function and write each *resource limitation* as a constraint ($\\mathbf{b}$). This maximization problem gives us the primal form.\n",
    "\n",
    "$$\\begin{array}{rll}\n",
    "\\max   & y=175x_1+25x_2+21x_3 \\\\\n",
    "\\text{subject to} & 9x_1+2x_2+4x_3\\leq50\\,(\\text{ft}^2) \\\\\n",
    "                  & 80x_1+40x_2+20x_3\\leq460\\,(\\text{in}) \\\\\n",
    "                  & x_1,x_2,x_3\\geq0 \\\\\n",
    "\\end{array}$$\n",
    "\n",
    "Now, imagine we are a clothing store who want to buy wool and fabric of the rancher at the *unit price* $t_1,t_2$, respectively. To persuade the rancher, the total *material price* we offer for each product must be at least equal to its *selling price* ($\\mathbf{c}$). Being a purchasing department, we would want to minimize the total *expenditure* ($z$). This problem yields the dual form.\n",
    "\n",
    "$$\\begin{array}{rll}\n",
    "\\min              & z=50t_1+460t_2 \\\\\n",
    "\\text{subject to} & 9t_1+80t_2\\geq175\\,(\\$) \\\\\n",
    "                  & 2t_1+40t_2\\geq25\\,(\\$) \\\\\n",
    "                  & 4t_1+20t_2\\geq21\\,(\\$) \\\\\n",
    "                  & t_1,t_2\\geq0 \\\\\n",
    "\\end{array}$$\n",
    "\n",
    "Here is a summarization of economical interpretation of duality. In the primal problem, we are a manufacturing company dealing with quantities to maximize revenue, constrained by limited resources. In the dual problem, we are a retail company dealing with prices to minimize costs, constrained by price floors.\n",
    "\n",
    ":::"
   ]
  },
  {
   "cell_type": "markdown",
   "id": "d13b493b-332a-4c32-87c5-372e73902ac4",
   "metadata": {},
   "source": [
    "#### Lagrangean duality\n",
    "Lagrangean duality is a more general form of linear duality, being capable of solving non-linear optimization problems. When talking about duality, it usually refers to Lagrangean duality. It is strongly related to Lagrange multiplier and KKT conditions, the extension of Lagrange multiplier. Consider the general form of an unconstrained optimization problem:\n",
    "\n",
    "$$\\begin{array}{rll}\n",
    "\\min              & f(\\mathbf{x}) \\\\\n",
    "\\text{subject to} & \\mathbf{g}(\\mathbf{x})=\\mathbf{0}\\text{ and }\\mathbf{h}(\\mathbf{x})\\leq\\mathbf{0} \\\\\n",
    "\\end{array}$$\n",
    "\n",
    "The dual problem is:\n",
    "\n",
    "$$\\begin{array}{rll}\n",
    "\\max_{\\lambda,\\mu}\\;\\min_x & \\mathcal{L}(\\mathbf{x},\\boldsymbol{\\lambda},\\boldsymbol\\mu) \\\\\n",
    "\\text{subject to}          & \\boldsymbol\\mu\\geq\\mathbf{0} \\\\\n",
    "\\end{array}$$\n",
    "\n",
    "In this problem, weak duality always holds. If [Slater's condition] is satisfied, then strong duality holds. Also when strong duality holds, we have the optimal solution satisfies complementary slackness: $\\mu_h=0$ for every non-equality constrain. This leads to two cases, $\\mu=0$ or $h=0$. To interpret this economically, think about the constraint $h\\leq0$ as the limitation of a resource.\n",
    "- If the Lagrange multiplier is zero ($\\mu=0$), then we get an optimal objective even when this resource did not reach its limit ($h<0$). The resource in this case is redundant and does not help improving our objective.\n",
    "- If the constraint is [binding] ($h=0$), it means we are running out of this resource. Its shadow price (Lagrange multiplier) is positive ($\\mu>0$) indicating this is a valuable resource. Hence, if we can find a way to relax the limitation of this resource ($h\\leq\\epsilon>0$) at a reasonable cost (less than shadow price), do it.\n",
    "\n",
    "[Slater's condition]: https://en.wikipedia.org/wiki/Slater%27s_condition\n",
    "[binding]: <https://en.wikipedia.org/wiki/Constraint_(mathematics)#Terminology>"
   ]
  },
  {
   "cell_type": "markdown",
   "id": "ba9884e0-c62b-4807-9623-1300fa2c8e48",
   "metadata": {},
   "source": [
    "## References\n",
    "- *openstax.org - [Calculus Volume 1](https://openstax.org/books/calculus-volume-1/pages/1-introduction)*\n",
    "- *openstax.org - [Calculus Volume 2](https://openstax.org/books/calculus-volume-2/pages/1-introduction)*\n",
    "- *openstax.org - [Calculus Volume 3](https://openstax.org/books/calculus-volume-3/pages/1-introduction)*\n",
    "- *rodrigopacios.github.io - [Thomas' Calculus](https://rodrigopacios.github.io/mrpacios/download/Thomas_Calculus.pdf)*\n",
    "- *quora.com - [Can you explain Lagrange Multipliers without using any mathematical notation?](https://qr.ae/pvxTdc)*\n",
    "- *optimization.cbe.cornell.edu - [Duality](https://optimization.cbe.cornell.edu/index.php?title=Duality)*\n",
    "- *optimization.cbe.cornell.edu - [Lagrangean duality](https://optimization.cbe.cornell.edu/index.php?title=Lagrangean_duality)*\n",
    "- *math.ucdenver.edu - [Lagranrian duality](http://math.ucdenver.edu/~sborgwardt/wiki/index.php/Lagrangian_Duality)*\n",
    "- *towardsdatascience.com - [Optimization stories: KKT conditions](https://towardsdatascience.com/optimization-stories-kkt-conditions-f86aea4fb6c2)*\n",
    "- *mjo.osborne.economics.utoronto.ca - [Interpretation of Lagrange multipliers](https://mjo.osborne.economics.utoronto.ca/index.php/tutorial/index/1/ilm/t)*\n",
    "- *optimization.mccormick.northwestern.edu - [Lagrangean duality](https://optimization.mccormick.northwestern.edu/index.php/Lagrangean_duality)*"
   ]
  }
 ],
 "metadata": {
  "kernelspec": {
   "display_name": "Python 3",
   "language": "python",
   "name": "python3"
  },
  "language_info": {
   "codemirror_mode": {
    "name": "ipython",
    "version": 3
   },
   "file_extension": ".py",
   "mimetype": "text/x-python",
   "name": "python",
   "nbconvert_exporter": "python",
   "pygments_lexer": "ipython3",
   "version": "3.8.8"
  }
 },
 "nbformat": 4,
 "nbformat_minor": 5
}
