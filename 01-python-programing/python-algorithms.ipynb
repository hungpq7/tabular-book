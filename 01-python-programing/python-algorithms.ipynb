{
 "cells": [
  {
   "cell_type": "markdown",
   "id": "ce9cbaed-7fff-4b01-ba06-5f84d938dadc",
   "metadata": {},
   "source": [
    "# Python: Algorithms"
   ]
  }
 ],
 "metadata": {
  "kernelspec": {
   "display_name": "Python 3",
   "language": "python",
   "name": "python3"
  },
  "language_info": {
   "codemirror_mode": {
    "name": "ipython",
    "version": 3
   },
   "file_extension": ".py",
   "mimetype": "text/x-python",
   "name": "python",
   "nbconvert_exporter": "python",
   "pygments_lexer": "ipython3",
   "version": "3.8.8"
  }
 },
 "nbformat": 4,
 "nbformat_minor": 5
}
