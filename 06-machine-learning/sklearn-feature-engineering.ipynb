{
 "cells": [
  {
   "attachments": {},
   "cell_type": "markdown",
   "metadata": {},
   "source": [
    "# Featuretools: Feature Engineering\n",
    "As introducted in the topic *[Pandas] Data Cleaning*, clean data is used as the input for analytical tasks. However, to build a good predictive model (in both performance and computation), a lot more works need to be done in order to improve data quality. These kind of tasks are called [feature engineering](https://en.wikipedia.org/wiki/Feature_engineering), they get data into the appropriate format and reveal hidden insights. Feature engineering tasks are technically simple, but they do require some domain knowledge. This makes feature engineering more of an art than a science."
   ]
  },
  {
   "cell_type": "code",
   "execution_count": null,
   "metadata": {},
   "outputs": [],
   "source": [
    "import numpy as np\n",
    "import pandas as pd\n",
    "import janitor\n",
    "from scipy import stats\n",
    "import matplotlib.pyplot as plt\n",
    "import seaborn as sns\n",
    "\n",
    "from sklearn.preprocessing import MinMaxScaler, Normalizer, StandardScaler\n",
    "from sklearn.preprocessing import FunctionTransformer, OneHotEncoder, OrdinalEncoder\n",
    "from sklearn.model_selection import train_test_split, GridSearchCV \n",
    "from sklearn.pipeline import Pipeline, make_pipeline\n",
    "from sklearn.cluster import KMeans\n",
    "from sklearn.impute import SimpleImputer, KNNImputer\n",
    "from sklearn.compose import ColumnTransformer\n",
    "from sklearn.base import BaseEstimator\n",
    "from sklearn.tree import DecisionTreeClassifier\n",
    "from sklearn.ensemble import RandomForestClassifier, HistGradientBoostingClassifier\n",
    "from sklearn.metrics import roc_auc_score as AUC\n",
    "\n",
    "from feature_engine.transformation import LogCpTransformer, PowerTransformer\n",
    "from feature_engine.transformation import BoxCoxTransformer, YeoJohnsonTransformer\n",
    "from feature_engine.wrappers import SklearnTransformerWrapper\n",
    "from feature_engine.encoding import RareLabelEncoder\n",
    "\n",
    "import category_encoders as ce\n",
    "import featuretools as ft\n",
    "\n",
    "np.set_printoptions(precision=4, suppress=True)\n",
    "plt.style.use(['seaborn', 'seaborn-whitegrid'])\n",
    "%config InlineBackend.figure_format = 'retina'"
   ]
  },
  {
   "cell_type": "markdown",
   "metadata": {},
   "source": [
    "## 1. Data preprocessing"
   ]
  },
  {
   "cell_type": "markdown",
   "metadata": {},
   "source": [
    "### 1.1. Scaling\n",
    "Scaling is a preprocessing technique defined only on numerical variables, where the scaled variable distributes the same as the original one but does have specific properties.\n",
    "- *Min-max scaling*: to have the min of $0$ and max of $1$\n",
    "- *Standardization*: to have the mean of $0$ and standard deviation of $1$\n",
    "- *Manhattan normalization*: to have the absolute values sum up to $1$\n",
    "- *Euclidean normalization*: to have the squared values sum up to $1$"
   ]
  },
  {
   "cell_type": "code",
   "execution_count": 1,
   "metadata": {
    "execution": {
     "iopub.execute_input": "2022-05-14T13:59:06.545261Z",
     "iopub.status.busy": "2022-05-14T13:59:06.544673Z",
     "iopub.status.idle": "2022-05-14T13:59:24.530109Z",
     "shell.execute_reply": "2022-05-14T13:59:24.529313Z",
     "shell.execute_reply.started": "2022-05-14T13:59:06.545149Z"
    },
    "tags": [
     "remove-cell"
    ]
   },
   "outputs": [],
   "source": [
    "import numpy as np\n",
    "import pandas as pd\n",
    "np.set_printoptions(precision=4, suppress=True)\n",
    "\n",
    "from sklearn.preprocessing import MinMaxScaler, Normalizer, StandardScaler"
   ]
  },
  {
   "cell_type": "markdown",
   "metadata": {},
   "source": [
    "#### Min-max scaling\n",
    "Many Machine Learning algorithms assume all variables are on the same scale, typically $[0;1]$. The formula for rescaling to $[a;b]$ is:\n",
    "\n",
    "$$\\mathbf{x}'=\\frac{\\mathbf{x}-\\mathbf{x}_{min}}{\\mathbf{x}_{max}-\\mathbf{x}_{min}}(b-a)+a$$"
   ]
  },
  {
   "cell_type": "code",
   "execution_count": 7,
   "metadata": {},
   "outputs": [
    {
     "data": {
      "text/html": [
       "<div>\n",
       "<style scoped>\n",
       "    .dataframe tbody tr th:only-of-type {\n",
       "        vertical-align: middle;\n",
       "    }\n",
       "\n",
       "    .dataframe tbody tr th {\n",
       "        vertical-align: top;\n",
       "    }\n",
       "\n",
       "    .dataframe thead th {\n",
       "        text-align: right;\n",
       "    }\n",
       "</style>\n",
       "<table border=\"1\" class=\"dataframe\">\n",
       "  <thead>\n",
       "    <tr style=\"text-align: right;\">\n",
       "      <th></th>\n",
       "      <th>x</th>\n",
       "      <th>y</th>\n",
       "      <th>x_scaled</th>\n",
       "      <th>y_scaled</th>\n",
       "    </tr>\n",
       "  </thead>\n",
       "  <tbody>\n",
       "    <tr>\n",
       "      <th>0</th>\n",
       "      <td>17</td>\n",
       "      <td>75</td>\n",
       "      <td>0.000000</td>\n",
       "      <td>0.896552</td>\n",
       "    </tr>\n",
       "    <tr>\n",
       "      <th>1</th>\n",
       "      <td>22</td>\n",
       "      <td>81</td>\n",
       "      <td>0.238095</td>\n",
       "      <td>1.000000</td>\n",
       "    </tr>\n",
       "    <tr>\n",
       "      <th>2</th>\n",
       "      <td>25</td>\n",
       "      <td>32</td>\n",
       "      <td>0.380952</td>\n",
       "      <td>0.155172</td>\n",
       "    </tr>\n",
       "    <tr>\n",
       "      <th>3</th>\n",
       "      <td>30</td>\n",
       "      <td>23</td>\n",
       "      <td>0.619048</td>\n",
       "      <td>0.000000</td>\n",
       "    </tr>\n",
       "    <tr>\n",
       "      <th>4</th>\n",
       "      <td>38</td>\n",
       "      <td>55</td>\n",
       "      <td>1.000000</td>\n",
       "      <td>0.551724</td>\n",
       "    </tr>\n",
       "  </tbody>\n",
       "</table>\n",
       "</div>"
      ],
      "text/plain": [
       "    x   y  x_scaled  y_scaled\n",
       "0  17  75  0.000000  0.896552\n",
       "1  22  81  0.238095  1.000000\n",
       "2  25  32  0.380952  0.155172\n",
       "3  30  23  0.619048  0.000000\n",
       "4  38  55  1.000000  0.551724"
      ]
     },
     "execution_count": 7,
     "metadata": {},
     "output_type": "execute_result"
    }
   ],
   "source": [
    "df = pd.DataFrame({\n",
    "    'x': [17, 22, 25, 30, 38],\n",
    "    'y': [75, 81, 32, 23, 55]\n",
    "})\n",
    "\n",
    "scaler = MinMaxScaler(feature_range=(0,1))\n",
    "dataScaled = scaler.fit_transform(df.values)\n",
    "dfScaled = pd.DataFrame(dataScaled, columns=['x_scaled', 'y_scaled'])\n",
    "\n",
    "df.join(dfScaled)"
   ]
  },
  {
   "cell_type": "markdown",
   "metadata": {},
   "source": [
    "#### Standardization\n",
    "Also called *z-score* scaling, it is a technique that transforms a variable so that it has a mean of $0$ and a standard deviation of $1$. Standardization is strongly recommended as the default method for data preprocessing. The formula for standardizing $x$ is:\n",
    "\n",
    "$$\\mathbf{x}'=\\frac{\\mathbf{x}-\\mu_\\mathbf{x}}{\\sigma_\\mathbf{x}}$$"
   ]
  },
  {
   "cell_type": "code",
   "execution_count": 9,
   "metadata": {},
   "outputs": [
    {
     "data": {
      "text/html": [
       "<div>\n",
       "<style scoped>\n",
       "    .dataframe tbody tr th:only-of-type {\n",
       "        vertical-align: middle;\n",
       "    }\n",
       "\n",
       "    .dataframe tbody tr th {\n",
       "        vertical-align: top;\n",
       "    }\n",
       "\n",
       "    .dataframe thead th {\n",
       "        text-align: right;\n",
       "    }\n",
       "</style>\n",
       "<table border=\"1\" class=\"dataframe\">\n",
       "  <thead>\n",
       "    <tr style=\"text-align: right;\">\n",
       "      <th></th>\n",
       "      <th>x</th>\n",
       "      <th>y</th>\n",
       "      <th>x_scaled</th>\n",
       "      <th>y_scaled</th>\n",
       "    </tr>\n",
       "  </thead>\n",
       "  <tbody>\n",
       "    <tr>\n",
       "      <th>0</th>\n",
       "      <td>17</td>\n",
       "      <td>75</td>\n",
       "      <td>-1.310622</td>\n",
       "      <td>0.953649</td>\n",
       "    </tr>\n",
       "    <tr>\n",
       "      <th>1</th>\n",
       "      <td>22</td>\n",
       "      <td>81</td>\n",
       "      <td>-0.613483</td>\n",
       "      <td>1.216121</td>\n",
       "    </tr>\n",
       "    <tr>\n",
       "      <th>2</th>\n",
       "      <td>25</td>\n",
       "      <td>32</td>\n",
       "      <td>-0.195199</td>\n",
       "      <td>-0.927401</td>\n",
       "    </tr>\n",
       "    <tr>\n",
       "      <th>3</th>\n",
       "      <td>30</td>\n",
       "      <td>23</td>\n",
       "      <td>0.501940</td>\n",
       "      <td>-1.321110</td>\n",
       "    </tr>\n",
       "    <tr>\n",
       "      <th>4</th>\n",
       "      <td>38</td>\n",
       "      <td>55</td>\n",
       "      <td>1.617363</td>\n",
       "      <td>0.078742</td>\n",
       "    </tr>\n",
       "  </tbody>\n",
       "</table>\n",
       "</div>"
      ],
      "text/plain": [
       "    x   y  x_scaled  y_scaled\n",
       "0  17  75 -1.310622  0.953649\n",
       "1  22  81 -0.613483  1.216121\n",
       "2  25  32 -0.195199 -0.927401\n",
       "3  30  23  0.501940 -1.321110\n",
       "4  38  55  1.617363  0.078742"
      ]
     },
     "execution_count": 9,
     "metadata": {},
     "output_type": "execute_result"
    }
   ],
   "source": [
    "df = pd.DataFrame({\n",
    "    'x': [17, 22, 25, 30, 38],\n",
    "    'y': [75, 81, 32, 23, 55]\n",
    "})\n",
    "\n",
    "scaler = StandardScaler()\n",
    "dataScaled = scaler.fit_transform(df.values)\n",
    "dfScaled = pd.DataFrame(dataScaled, columns=['x_scaled', 'y_scaled'])\n",
    "\n",
    "df.join(dfScaled)"
   ]
  },
  {
   "cell_type": "markdown",
   "metadata": {},
   "source": [
    "#### Normalizing\n",
    "This technique ensures the vector has a total length of 1. The length can be either Manhattan distance ($L_1$) $\\|\\mathbf{x}\\|_1 = |x_1|+|x_2|+\\dots+|x_n|$ or Euclidean distance ($L_2$) $\\|\\mathbf{x}\\|_2 = \\sqrt{x_1^2+x_2^2+\\dots+x_n^2}$. The formula for normalizing is:\n",
    "\n",
    "$$\\mathbf{x}'=\\frac{\\mathbf{x}}{\\|\\mathbf{x}\\|}$$"
   ]
  },
  {
   "cell_type": "code",
   "execution_count": 12,
   "metadata": {},
   "outputs": [
    {
     "data": {
      "text/html": [
       "<div>\n",
       "<style scoped>\n",
       "    .dataframe tbody tr th:only-of-type {\n",
       "        vertical-align: middle;\n",
       "    }\n",
       "\n",
       "    .dataframe tbody tr th {\n",
       "        vertical-align: top;\n",
       "    }\n",
       "\n",
       "    .dataframe thead th {\n",
       "        text-align: right;\n",
       "    }\n",
       "</style>\n",
       "<table border=\"1\" class=\"dataframe\">\n",
       "  <thead>\n",
       "    <tr style=\"text-align: right;\">\n",
       "      <th></th>\n",
       "      <th>x</th>\n",
       "      <th>y</th>\n",
       "      <th>x_scaled</th>\n",
       "      <th>y_scaled</th>\n",
       "    </tr>\n",
       "  </thead>\n",
       "  <tbody>\n",
       "    <tr>\n",
       "      <th>0</th>\n",
       "      <td>17</td>\n",
       "      <td>75</td>\n",
       "      <td>0.128788</td>\n",
       "      <td>0.281955</td>\n",
       "    </tr>\n",
       "    <tr>\n",
       "      <th>1</th>\n",
       "      <td>22</td>\n",
       "      <td>81</td>\n",
       "      <td>0.166667</td>\n",
       "      <td>0.304511</td>\n",
       "    </tr>\n",
       "    <tr>\n",
       "      <th>2</th>\n",
       "      <td>25</td>\n",
       "      <td>32</td>\n",
       "      <td>0.189394</td>\n",
       "      <td>0.120301</td>\n",
       "    </tr>\n",
       "    <tr>\n",
       "      <th>3</th>\n",
       "      <td>30</td>\n",
       "      <td>23</td>\n",
       "      <td>0.227273</td>\n",
       "      <td>0.086466</td>\n",
       "    </tr>\n",
       "    <tr>\n",
       "      <th>4</th>\n",
       "      <td>38</td>\n",
       "      <td>55</td>\n",
       "      <td>0.287879</td>\n",
       "      <td>0.206767</td>\n",
       "    </tr>\n",
       "  </tbody>\n",
       "</table>\n",
       "</div>"
      ],
      "text/plain": [
       "    x   y  x_scaled  y_scaled\n",
       "0  17  75  0.128788  0.281955\n",
       "1  22  81  0.166667  0.304511\n",
       "2  25  32  0.189394  0.120301\n",
       "3  30  23  0.227273  0.086466\n",
       "4  38  55  0.287879  0.206767"
      ]
     },
     "execution_count": 12,
     "metadata": {},
     "output_type": "execute_result"
    }
   ],
   "source": [
    "df = pd.DataFrame({\n",
    "    'x': [17, 22, 25, 30, 38],\n",
    "    'y': [75, 81, 32, 23, 55]\n",
    "})\n",
    "\n",
    "scaler = Normalizer(norm='l1')\n",
    "dataScaled = scaler.fit_transform(df.values.T).T\n",
    "dfScaled = pd.DataFrame(dataScaled, columns=['x_scaled', 'y_scaled'])\n",
    "\n",
    "df.join(dfScaled)"
   ]
  },
  {
   "cell_type": "markdown",
   "metadata": {},
   "source": [
    "### 1.2. Transformation\n",
    "Sometimes real world data distribute not very nice, while most transformation techiniques do not affect the distribution. Imagine the label in a regression problem is mostly small values, then Machine Learning algorithms will have a hard time *learning* higher values. By taking advantage of mathematical functions, Data Scientists can control the distribution of data to make them more *nature*."
   ]
  },
  {
   "cell_type": "code",
   "execution_count": 58,
   "metadata": {
    "tags": [
     "remove-cell"
    ]
   },
   "outputs": [],
   "source": [
    "import numpy as np\n",
    "import pandas as pd\n",
    "from scipy import stats\n",
    "import matplotlib.pyplot as plt\n",
    "import seaborn as sns\n",
    "\n",
    "from sklearn.preprocessing import MinMaxScaler\n",
    "from sklearn.pipeline import make_pipeline\n",
    "from feature_engine.transformation import LogCpTransformer, PowerTransformer\n",
    "from feature_engine.transformation import BoxCoxTransformer, YeoJohnsonTransformer\n",
    "from feature_engine.wrappers import SklearnTransformerWrapper\n",
    "\n",
    "np.set_printoptions(precision=4, suppress=True)\n",
    "plt.style.use(['seaborn', 'seaborn-whitegrid'])\n",
    "%config InlineBackend.figure_format = 'retina'"
   ]
  },
  {
   "cell_type": "markdown",
   "metadata": {},
   "source": [
    "#### Logarithm\n",
    "This popular technique has the ability to make right skewed data distribute normally. The formula of the transformation is:\n",
    "\n",
    "$$\\mathbf{x}'=\\log_b{(\\mathbf{x}+c)}$$\n",
    "\n",
    "Some notable tips when using [`LogCpTransformer`]:\n",
    "- It works only on features contain all postive values.\n",
    "- Different base values $b$ can be used, the most common ones are: $e$, $2$ and $10$.\n",
    "- The term $c$ (usually $c=1$) is added to $\\mathbf{x}$ to make sure the transformed values are all positive, since $\\log{(x+1)}>\\log1=0$.\n",
    "- If the input values are very large, log transformation will not work. Thus, I insert a min-max scaler before it.\n",
    "\n",
    "[`LogCpTransformer`]: https://feature-engine.readthedocs.io/en/latest/api_doc/transformation/LogCpTransformer.html"
   ]
  },
  {
   "cell_type": "code",
   "execution_count": 88,
   "metadata": {
    "tags": []
   },
   "outputs": [],
   "source": [
    "np.random.seed(7)\n",
    "x = stats.skewnorm.rvs(a=4, loc=1, size=10000)\n",
    "df = pd.DataFrame({'x': x})\n",
    "\n",
    "transformer = make_pipeline(\n",
    "    SklearnTransformerWrapper(MinMaxScaler()),\n",
    "    LogCpTransformer(base='10', C=1),\n",
    ")\n",
    "dfTransformed = transformer.fit_transform(df)"
   ]
  },
  {
   "cell_type": "code",
   "execution_count": 89,
   "metadata": {},
   "outputs": [
    {
     "data": {
      "image/png": "[encoded data removed]",
      "text/plain": [
       "<Figure size 864x288 with 2 Axes>"
      ]
     },
     "metadata": {
      "image/png": {
       "height": 248,
       "width": 721
      }
     },
     "output_type": "display_data"
    }
   ],
   "source": [
    "fig, ax = plt.subplots(1, 2, figsize=(12,4), sharey=True)\n",
    "sns.histplot(df, ax=ax[0], kde=True, edgecolor='w')\n",
    "sns.histplot(dfTransformed, ax=ax[1], kde=True, edgecolor='w')\n",
    "plt.show()"
   ]
  },
  {
   "cell_type": "markdown",
   "metadata": {},
   "source": [
    "#### Box-Cox\n",
    "[Box-Cox transform] is a member of [power transform] family. It has the effect of making data more normal distribution-like. The transformation is given by a [piecewise function] as below:\n",
    "\n",
    "$$\n",
    "\\mathbf{x}'=\n",
    "\\begin{cases}\n",
    "    {\\dfrac {\\mathbf{x}^{\\lambda}-1}{\\lambda}}&{\\text{if }}\\lambda\\neq 0\\\\\n",
    "    \\log\\mathbf{x}&{\\text{if }}\\lambda=0\n",
    "\\end{cases}\n",
    "$$\n",
    "\n",
    "We implement this transformation via the class [`BoxCoxTransformer`]. It wraps the function [`boxcox()`] which estimates the value of $\\lambda$ that maximizes log-likelihood.\n",
    "\n",
    "[Box-Cox transform]: https://en.wikipedia.org/wiki/Power_transform#Box–Cox_transformation\n",
    "[power transform]: https://en.wikipedia.org/wiki/Power_transform\n",
    "[piecewise function]: https://en.wikipedia.org/wiki/Piecewise\n",
    "[`BoxCoxTransformer`]: https://feature-engine.readthedocs.io/en/latest/api_doc/transformation/BoxCoxTransformer.html\n",
    "[`boxcox()`]: https://docs.scipy.org/doc/scipy/reference/generated/scipy.stats.boxcox.html"
   ]
  },
  {
   "cell_type": "code",
   "execution_count": 90,
   "metadata": {
    "tags": []
   },
   "outputs": [],
   "source": [
    "np.random.seed(7)\n",
    "x = stats.skewnorm.rvs(a=4, loc=1, size=10000)\n",
    "df = pd.DataFrame({'x': x})\n",
    "\n",
    "transformer = BoxCoxTransformer()\n",
    "dfTransformed = transformer.fit_transform(df)"
   ]
  },
  {
   "cell_type": "code",
   "execution_count": 92,
   "metadata": {},
   "outputs": [
    {
     "data": {
      "image/png": "[encoded data removed]",
      "text/plain": [
       "<Figure size 864x288 with 2 Axes>"
      ]
     },
     "metadata": {
      "image/png": {
       "height": 248,
       "width": 721
      }
     },
     "output_type": "display_data"
    }
   ],
   "source": [
    "fig, ax = plt.subplots(1, 2, figsize=(12,4), sharey=True)\n",
    "sns.histplot(df, ax=ax[0], kde=True, edgecolor='w')\n",
    "sns.histplot(dfTransformed, ax=ax[1], kde=True, edgecolor='w')\n",
    "plt.show()"
   ]
  },
  {
   "cell_type": "markdown",
   "metadata": {},
   "source": [
    "#### Yeo-Johnson\n",
    "[Yeo-Johnson transform] is another member of power transform family. It extends Box-Cox transform to handle nagative input data, using the following function:\n",
    "\n",
    "$$\n",
    "\\mathbf{x}'=\n",
    "\\begin{cases}\n",
    "    \\dfrac{(\\mathbf{x}+1)^{\\lambda}-1}{\\lambda}       & \\text{if }\\lambda\\neq 0\\text{ and }\\mathbf{x}\\geq 0 \\\\\n",
    "    \\log(\\mathbf{x}+1)                                & \\text{if }\\lambda=    0\\text{ and }\\mathbf{x}\\geq 0 \\\\\n",
    "    -\\dfrac{(-\\mathbf{x}+1)^{2-\\lambda}-1}{2-\\lambda} & \\text{if }\\lambda\\neq 2\\text{ and }\\mathbf{x}\\leq 0 \\\\\n",
    "    -\\log(-\\mathbf{x}+1)                              & \\text{if }\\lambda=    0\\text{ and }\\mathbf{x}\\geq 0 \\\\\n",
    "\\end{cases}\n",
    "$$\n",
    "\n",
    "It can be implemented via the class [`YeoJohnsonTransformer`].\n",
    "\n",
    "[Yeo-Johnson transform]: https://en.wikipedia.org/wiki/Power_transform#Yeo–Johnson_transformation\n",
    "[`YeoJohnsonTransformer`]: https://feature-engine.readthedocs.io/en/latest/api_doc/transformation/YeoJohnsonTransformer.html"
   ]
  },
  {
   "cell_type": "code",
   "execution_count": 93,
   "metadata": {
    "tags": []
   },
   "outputs": [],
   "source": [
    "np.random.seed(7)\n",
    "x = stats.skewnorm.rvs(a=4, loc=1, size=10000)\n",
    "df = pd.DataFrame({'x': x})\n",
    "\n",
    "transformer = YeoJohnsonTransformer()\n",
    "dfTransformed = transformer.fit_transform(df)"
   ]
  },
  {
   "cell_type": "code",
   "execution_count": 94,
   "metadata": {},
   "outputs": [
    {
     "data": {
      "image/png": "[encoded data removed]",
      "text/plain": [
       "<Figure size 864x288 with 2 Axes>"
      ]
     },
     "metadata": {
      "image/png": {
       "height": 248,
       "width": 721
      }
     },
     "output_type": "display_data"
    }
   ],
   "source": [
    "fig, ax = plt.subplots(1, 2, figsize=(12,4), sharey=True)\n",
    "sns.histplot(df, ax=ax[0], kde=True, edgecolor='w')\n",
    "sns.histplot(dfTransformed, ax=ax[1], kde=True, edgecolor='w')\n",
    "plt.show()"
   ]
  },
  {
   "cell_type": "markdown",
   "metadata": {},
   "source": [
    "### 1.2. Bucketizing\n",
    "Bucketizing (or binning) refers to the tasks that put data into larger bins. Doing bucketizing means sacrifying information, however it makes data more regularized and thus prevents overfitting. Either numerical and categorical variables can be binned."
   ]
  },
  {
   "cell_type": "code",
   "execution_count": 1,
   "metadata": {
    "tags": [
     "remove-cell"
    ]
   },
   "outputs": [],
   "source": [
    "import numpy as np\n",
    "import pandas as pd\n",
    "from sklearn.cluster import KMeans"
   ]
  },
  {
   "cell_type": "markdown",
   "metadata": {},
   "source": [
    "#### Discretizating"
   ]
  },
  {
   "cell_type": "code",
   "execution_count": 34,
   "metadata": {},
   "outputs": [
    {
     "data": {
      "text/html": [
       "<div>\n",
       "<style scoped>\n",
       "    .dataframe tbody tr th:only-of-type {\n",
       "        vertical-align: middle;\n",
       "    }\n",
       "\n",
       "    .dataframe tbody tr th {\n",
       "        vertical-align: top;\n",
       "    }\n",
       "\n",
       "    .dataframe thead th {\n",
       "        text-align: right;\n",
       "    }\n",
       "</style>\n",
       "<table border=\"1\" class=\"dataframe\">\n",
       "  <thead>\n",
       "    <tr style=\"text-align: right;\">\n",
       "      <th></th>\n",
       "      <th>x</th>\n",
       "      <th>group</th>\n",
       "    </tr>\n",
       "  </thead>\n",
       "  <tbody>\n",
       "    <tr>\n",
       "      <th>0</th>\n",
       "      <td>17</td>\n",
       "      <td>A</td>\n",
       "    </tr>\n",
       "    <tr>\n",
       "      <th>1</th>\n",
       "      <td>22</td>\n",
       "      <td>B</td>\n",
       "    </tr>\n",
       "    <tr>\n",
       "      <th>2</th>\n",
       "      <td>25</td>\n",
       "      <td>B</td>\n",
       "    </tr>\n",
       "    <tr>\n",
       "      <th>3</th>\n",
       "      <td>30</td>\n",
       "      <td>C</td>\n",
       "    </tr>\n",
       "    <tr>\n",
       "      <th>4</th>\n",
       "      <td>38</td>\n",
       "      <td>C</td>\n",
       "    </tr>\n",
       "  </tbody>\n",
       "</table>\n",
       "</div>"
      ],
      "text/plain": [
       "    x group\n",
       "0  17     A\n",
       "1  22     B\n",
       "2  25     B\n",
       "3  30     C\n",
       "4  38     C"
      ]
     },
     "execution_count": 34,
     "metadata": {},
     "output_type": "execute_result"
    }
   ],
   "source": [
    "df = pd.DataFrame({'x': [17, 22, 25, 30, 38]})\n",
    "\n",
    "group = pd.cut(\n",
    "    df.x,\n",
    "    bins=[0, 20, 30, 100],\n",
    "    right=False,\n",
    "    labels=['A', 'B', 'C'])\n",
    "\n",
    "df.assign(group=group)"
   ]
  },
  {
   "cell_type": "markdown",
   "metadata": {},
   "source": [
    "#### Clustering"
   ]
  },
  {
   "cell_type": "code",
   "execution_count": 48,
   "metadata": {},
   "outputs": [
    {
     "data": {
      "text/html": [
       "<div>\n",
       "<style scoped>\n",
       "    .dataframe tbody tr th:only-of-type {\n",
       "        vertical-align: middle;\n",
       "    }\n",
       "\n",
       "    .dataframe tbody tr th {\n",
       "        vertical-align: top;\n",
       "    }\n",
       "\n",
       "    .dataframe thead th {\n",
       "        text-align: right;\n",
       "    }\n",
       "</style>\n",
       "<table border=\"1\" class=\"dataframe\">\n",
       "  <thead>\n",
       "    <tr style=\"text-align: right;\">\n",
       "      <th></th>\n",
       "      <th>x</th>\n",
       "      <th>y</th>\n",
       "      <th>group</th>\n",
       "    </tr>\n",
       "  </thead>\n",
       "  <tbody>\n",
       "    <tr>\n",
       "      <th>0</th>\n",
       "      <td>47</td>\n",
       "      <td>86</td>\n",
       "      <td>2</td>\n",
       "    </tr>\n",
       "    <tr>\n",
       "      <th>1</th>\n",
       "      <td>22</td>\n",
       "      <td>81</td>\n",
       "      <td>2</td>\n",
       "    </tr>\n",
       "    <tr>\n",
       "      <th>2</th>\n",
       "      <td>82</td>\n",
       "      <td>16</td>\n",
       "      <td>1</td>\n",
       "    </tr>\n",
       "    <tr>\n",
       "      <th>3</th>\n",
       "      <td>19</td>\n",
       "      <td>35</td>\n",
       "      <td>0</td>\n",
       "    </tr>\n",
       "    <tr>\n",
       "      <th>4</th>\n",
       "      <td>85</td>\n",
       "      <td>60</td>\n",
       "      <td>1</td>\n",
       "    </tr>\n",
       "    <tr>\n",
       "      <th>5</th>\n",
       "      <td>15</td>\n",
       "      <td>30</td>\n",
       "      <td>0</td>\n",
       "    </tr>\n",
       "    <tr>\n",
       "      <th>6</th>\n",
       "      <td>89</td>\n",
       "      <td>28</td>\n",
       "      <td>1</td>\n",
       "    </tr>\n",
       "    <tr>\n",
       "      <th>7</th>\n",
       "      <td>74</td>\n",
       "      <td>94</td>\n",
       "      <td>2</td>\n",
       "    </tr>\n",
       "    <tr>\n",
       "      <th>8</th>\n",
       "      <td>26</td>\n",
       "      <td>21</td>\n",
       "      <td>0</td>\n",
       "    </tr>\n",
       "    <tr>\n",
       "      <th>9</th>\n",
       "      <td>11</td>\n",
       "      <td>38</td>\n",
       "      <td>0</td>\n",
       "    </tr>\n",
       "  </tbody>\n",
       "</table>\n",
       "</div>"
      ],
      "text/plain": [
       "    x   y  group\n",
       "0  47  86      2\n",
       "1  22  81      2\n",
       "2  82  16      1\n",
       "3  19  35      0\n",
       "4  85  60      1\n",
       "5  15  30      0\n",
       "6  89  28      1\n",
       "7  74  94      2\n",
       "8  26  21      0\n",
       "9  11  38      0"
      ]
     },
     "execution_count": 48,
     "metadata": {},
     "output_type": "execute_result"
    }
   ],
   "source": [
    "np.random.seed(1)\n",
    "df = pd.DataFrame({\n",
    "    'x': np.random.randint(10, 100, size=10),\n",
    "    'y': np.random.randint(10, 100, size=10)\n",
    "})\n",
    "\n",
    "clusterer = KMeans(3, random_state=0)\n",
    "group = clusterer.fit_predict(df.values)\n",
    "\n",
    "df.assign(group=group)"
   ]
  },
  {
   "cell_type": "markdown",
   "metadata": {},
   "source": [
    "#### Mapping"
   ]
  },
  {
   "cell_type": "code",
   "execution_count": 2,
   "metadata": {},
   "outputs": [
    {
     "data": {
      "text/html": [
       "<div>\n",
       "<style scoped>\n",
       "    .dataframe tbody tr th:only-of-type {\n",
       "        vertical-align: middle;\n",
       "    }\n",
       "\n",
       "    .dataframe tbody tr th {\n",
       "        vertical-align: top;\n",
       "    }\n",
       "\n",
       "    .dataframe thead th {\n",
       "        text-align: right;\n",
       "    }\n",
       "</style>\n",
       "<table border=\"1\" class=\"dataframe\">\n",
       "  <thead>\n",
       "    <tr style=\"text-align: right;\">\n",
       "      <th></th>\n",
       "      <th>x</th>\n",
       "      <th>x_map</th>\n",
       "    </tr>\n",
       "  </thead>\n",
       "  <tbody>\n",
       "    <tr>\n",
       "      <th>0</th>\n",
       "      <td>England</td>\n",
       "      <td>Europe</td>\n",
       "    </tr>\n",
       "    <tr>\n",
       "      <th>1</th>\n",
       "      <td>France</td>\n",
       "      <td>Europe</td>\n",
       "    </tr>\n",
       "    <tr>\n",
       "      <th>2</th>\n",
       "      <td>Germany</td>\n",
       "      <td>Europe</td>\n",
       "    </tr>\n",
       "    <tr>\n",
       "      <th>3</th>\n",
       "      <td>Korea</td>\n",
       "      <td>Asia</td>\n",
       "    </tr>\n",
       "    <tr>\n",
       "      <th>4</th>\n",
       "      <td>Japan</td>\n",
       "      <td>Asia</td>\n",
       "    </tr>\n",
       "  </tbody>\n",
       "</table>\n",
       "</div>"
      ],
      "text/plain": [
       "         x   x_map\n",
       "0  England  Europe\n",
       "1   France  Europe\n",
       "2  Germany  Europe\n",
       "3    Korea    Asia\n",
       "4    Japan    Asia"
      ]
     },
     "execution_count": 2,
     "metadata": {},
     "output_type": "execute_result"
    }
   ],
   "source": [
    "df = pd.DataFrame({'x': ['England', 'France', 'Germany', 'Korea', 'Japan']})\n",
    "\n",
    "x_map = df.x.map({\n",
    "    'England': 'Europe', 'France': 'Europe', 'Germany': 'Europe',\n",
    "    'Korea': 'Asia', 'Japan': 'Asia'\n",
    "})\n",
    "\n",
    "df.assign(x_map=x_map)"
   ]
  },
  {
   "cell_type": "markdown",
   "metadata": {},
   "source": [
    "### 1.3. Encoding\n",
    "Encoding is the technique that transforms a categorical variable to numerical variable(s). This is important because most modern Machine Learning algorithms require input features to be numerical."
   ]
  },
  {
   "cell_type": "code",
   "execution_count": 9,
   "metadata": {
    "tags": [
     "remove-cell"
    ]
   },
   "outputs": [],
   "source": [
    "import numpy as np\n",
    "import pandas as pd\n",
    "import category_encoders as ce"
   ]
  },
  {
   "cell_type": "markdown",
   "metadata": {
    "tags": []
   },
   "source": [
    "#### Ordinal encoding\n",
    "[`OrdinalEncoder`](https://contrib.scikit-learn.org/category_encoders/ordinal.html)\n",
    "transforms categorical columns into unique numbers starting from 0. The disadvantage is that the categories are ordered randomly, which can add unexpected noises that hurt model performance. It also provides an option to pass a dictionary for custom order."
   ]
  },
  {
   "cell_type": "code",
   "execution_count": 10,
   "metadata": {
    "tags": []
   },
   "outputs": [],
   "source": [
    "df = pd.DataFrame({\n",
    "    'education': ['Highschool', 'Bachelor', 'Master', 'PhD']\n",
    "})"
   ]
  },
  {
   "cell_type": "code",
   "execution_count": 11,
   "metadata": {
    "tags": []
   },
   "outputs": [
    {
     "data": {
      "text/html": [
       "<div>\n",
       "<style scoped>\n",
       "    .dataframe tbody tr th:only-of-type {\n",
       "        vertical-align: middle;\n",
       "    }\n",
       "\n",
       "    .dataframe tbody tr th {\n",
       "        vertical-align: top;\n",
       "    }\n",
       "\n",
       "    .dataframe thead th {\n",
       "        text-align: right;\n",
       "    }\n",
       "</style>\n",
       "<table border=\"1\" class=\"dataframe\">\n",
       "  <thead>\n",
       "    <tr style=\"text-align: right;\">\n",
       "      <th></th>\n",
       "      <th>education</th>\n",
       "      <th>encodeEdu</th>\n",
       "    </tr>\n",
       "  </thead>\n",
       "  <tbody>\n",
       "    <tr>\n",
       "      <th>0</th>\n",
       "      <td>Highschool</td>\n",
       "      <td>1</td>\n",
       "    </tr>\n",
       "    <tr>\n",
       "      <th>1</th>\n",
       "      <td>Bachelor</td>\n",
       "      <td>2</td>\n",
       "    </tr>\n",
       "    <tr>\n",
       "      <th>2</th>\n",
       "      <td>Master</td>\n",
       "      <td>3</td>\n",
       "    </tr>\n",
       "    <tr>\n",
       "      <th>3</th>\n",
       "      <td>PhD</td>\n",
       "      <td>4</td>\n",
       "    </tr>\n",
       "  </tbody>\n",
       "</table>\n",
       "</div>"
      ],
      "text/plain": [
       "    education  encodeEdu\n",
       "0  Highschool          1\n",
       "1    Bachelor          2\n",
       "2      Master          3\n",
       "3         PhD          4"
      ]
     },
     "execution_count": 11,
     "metadata": {},
     "output_type": "execute_result"
    }
   ],
   "source": [
    "encoder = ce.OrdinalEncoder()\n",
    "df['encodeEdu'] = encoder.fit_transform(df.education)\n",
    "df"
   ]
  },
  {
   "cell_type": "markdown",
   "metadata": {},
   "source": [
    "#### One-hot encoding\n",
    "[`OneHotEncoder`](https://contrib.scikit-learn.org/category_encoders/onehot.html)\n",
    "generates a binary feature for each category. This technique will expand the dataset which can lead to curse of dimensionality and over memory because of storing sparse data. A variant is sometimes used, call Dummy Encoding which cuts the last feature and encode the corresponding class using vectors of $0$."
   ]
  },
  {
   "cell_type": "code",
   "execution_count": 12,
   "metadata": {
    "tags": []
   },
   "outputs": [],
   "source": [
    "df = pd.DataFrame({\n",
    "    'fruit': ['Apple', 'Apple', 'Orange', 'Mango', 'Mango']\n",
    "})"
   ]
  },
  {
   "cell_type": "code",
   "execution_count": 13,
   "metadata": {
    "tags": []
   },
   "outputs": [
    {
     "data": {
      "text/html": [
       "<div>\n",
       "<style scoped>\n",
       "    .dataframe tbody tr th:only-of-type {\n",
       "        vertical-align: middle;\n",
       "    }\n",
       "\n",
       "    .dataframe tbody tr th {\n",
       "        vertical-align: top;\n",
       "    }\n",
       "\n",
       "    .dataframe thead th {\n",
       "        text-align: right;\n",
       "    }\n",
       "</style>\n",
       "<table border=\"1\" class=\"dataframe\">\n",
       "  <thead>\n",
       "    <tr style=\"text-align: right;\">\n",
       "      <th></th>\n",
       "      <th>fruit</th>\n",
       "      <th>fruit_Apple</th>\n",
       "      <th>fruit_Orange</th>\n",
       "      <th>fruit_Mango</th>\n",
       "    </tr>\n",
       "  </thead>\n",
       "  <tbody>\n",
       "    <tr>\n",
       "      <th>0</th>\n",
       "      <td>Apple</td>\n",
       "      <td>1</td>\n",
       "      <td>0</td>\n",
       "      <td>0</td>\n",
       "    </tr>\n",
       "    <tr>\n",
       "      <th>1</th>\n",
       "      <td>Apple</td>\n",
       "      <td>1</td>\n",
       "      <td>0</td>\n",
       "      <td>0</td>\n",
       "    </tr>\n",
       "    <tr>\n",
       "      <th>2</th>\n",
       "      <td>Orange</td>\n",
       "      <td>0</td>\n",
       "      <td>1</td>\n",
       "      <td>0</td>\n",
       "    </tr>\n",
       "    <tr>\n",
       "      <th>3</th>\n",
       "      <td>Mango</td>\n",
       "      <td>0</td>\n",
       "      <td>0</td>\n",
       "      <td>1</td>\n",
       "    </tr>\n",
       "    <tr>\n",
       "      <th>4</th>\n",
       "      <td>Mango</td>\n",
       "      <td>0</td>\n",
       "      <td>0</td>\n",
       "      <td>1</td>\n",
       "    </tr>\n",
       "  </tbody>\n",
       "</table>\n",
       "</div>"
      ],
      "text/plain": [
       "    fruit  fruit_Apple  fruit_Orange  fruit_Mango\n",
       "0   Apple            1             0            0\n",
       "1   Apple            1             0            0\n",
       "2  Orange            0             1            0\n",
       "3   Mango            0             0            1\n",
       "4   Mango            0             0            1"
      ]
     },
     "execution_count": 13,
     "metadata": {},
     "output_type": "execute_result"
    }
   ],
   "source": [
    "encoder = ce.OneHotEncoder(use_cat_names=True)\n",
    "xEncoded = encoder.fit_transform(df.fruit)\n",
    "\n",
    "df.join(xEncoded)"
   ]
  },
  {
   "cell_type": "markdown",
   "metadata": {},
   "source": [
    "#### Rare encoding\n",
    "[`RareLabelEncoder`](https://feature-engine.readthedocs.io/en/1.0.x/encoding/RareLabelEncoder.html)\n",
    "is more of a preprocessing technique than an encoder, as it does not returns a numerical value, which is what we are expecting. However, it is still an useful method to gather rare categories into a single group to reduces noises.\n",
    "\n",
    "In this example, the data is about what phone operating system people are using. Beside popular Android and iOS, there are also low market share ones. As these observations are definitely not crucial to our model, and we want to focus on large categories (make more money, larger market), it would be better to group them into a single group."
   ]
  },
  {
   "cell_type": "code",
   "execution_count": 4,
   "metadata": {},
   "outputs": [
    {
     "data": {
      "text/html": [
       "<div>\n",
       "<style scoped>\n",
       "    .dataframe tbody tr th:only-of-type {\n",
       "        vertical-align: middle;\n",
       "    }\n",
       "\n",
       "    .dataframe tbody tr th {\n",
       "        vertical-align: top;\n",
       "    }\n",
       "\n",
       "    .dataframe thead th {\n",
       "        text-align: right;\n",
       "    }\n",
       "</style>\n",
       "<table border=\"1\" class=\"dataframe\">\n",
       "  <thead>\n",
       "    <tr style=\"text-align: right;\">\n",
       "      <th></th>\n",
       "      <th>osPhone</th>\n",
       "      <th>count</th>\n",
       "    </tr>\n",
       "  </thead>\n",
       "  <tbody>\n",
       "    <tr>\n",
       "      <th>0</th>\n",
       "      <td>Android</td>\n",
       "      <td>408</td>\n",
       "    </tr>\n",
       "    <tr>\n",
       "      <th>1</th>\n",
       "      <td>iOS</td>\n",
       "      <td>309</td>\n",
       "    </tr>\n",
       "    <tr>\n",
       "      <th>2</th>\n",
       "      <td>Windows</td>\n",
       "      <td>130</td>\n",
       "    </tr>\n",
       "    <tr>\n",
       "      <th>3</th>\n",
       "      <td>Blackberry</td>\n",
       "      <td>99</td>\n",
       "    </tr>\n",
       "    <tr>\n",
       "      <th>4</th>\n",
       "      <td>Bada</td>\n",
       "      <td>30</td>\n",
       "    </tr>\n",
       "    <tr>\n",
       "      <th>5</th>\n",
       "      <td>Symbian</td>\n",
       "      <td>17</td>\n",
       "    </tr>\n",
       "    <tr>\n",
       "      <th>6</th>\n",
       "      <td>Meego</td>\n",
       "      <td>7</td>\n",
       "    </tr>\n",
       "  </tbody>\n",
       "</table>\n",
       "</div>"
      ],
      "text/plain": [
       "      osPhone  count\n",
       "0     Android    408\n",
       "1         iOS    309\n",
       "2     Windows    130\n",
       "3  Blackberry     99\n",
       "4        Bada     30\n",
       "5     Symbian     17\n",
       "6       Meego      7"
      ]
     },
     "execution_count": 4,
     "metadata": {},
     "output_type": "execute_result"
    }
   ],
   "source": [
    "np.random.seed(7)\n",
    "df = pd.DataFrame({\n",
    "    'osPhone': np.random.choice(\n",
    "        ['Android', 'iOS', 'Windows', 'Blackberry', 'Bada', 'Symbian', 'Meego'],\n",
    "        size=1000, p=[.4, .32, .12, .10, .03, .02, .01]\n",
    "    )\n",
    "})\n",
    "df.value_counts().rename('count').to_frame().reset_index()"
   ]
  },
  {
   "cell_type": "code",
   "execution_count": 5,
   "metadata": {},
   "outputs": [
    {
     "data": {
      "text/html": [
       "<div>\n",
       "<style scoped>\n",
       "    .dataframe tbody tr th:only-of-type {\n",
       "        vertical-align: middle;\n",
       "    }\n",
       "\n",
       "    .dataframe tbody tr th {\n",
       "        vertical-align: top;\n",
       "    }\n",
       "\n",
       "    .dataframe thead th {\n",
       "        text-align: right;\n",
       "    }\n",
       "</style>\n",
       "<table border=\"1\" class=\"dataframe\">\n",
       "  <thead>\n",
       "    <tr style=\"text-align: right;\">\n",
       "      <th></th>\n",
       "      <th>osPhone</th>\n",
       "      <th>count</th>\n",
       "    </tr>\n",
       "  </thead>\n",
       "  <tbody>\n",
       "    <tr>\n",
       "      <th>0</th>\n",
       "      <td>Android</td>\n",
       "      <td>408</td>\n",
       "    </tr>\n",
       "    <tr>\n",
       "      <th>1</th>\n",
       "      <td>iOS</td>\n",
       "      <td>309</td>\n",
       "    </tr>\n",
       "    <tr>\n",
       "      <th>2</th>\n",
       "      <td>Windows</td>\n",
       "      <td>130</td>\n",
       "    </tr>\n",
       "    <tr>\n",
       "      <th>3</th>\n",
       "      <td>Blackberry</td>\n",
       "      <td>99</td>\n",
       "    </tr>\n",
       "    <tr>\n",
       "      <th>4</th>\n",
       "      <td>Rare</td>\n",
       "      <td>54</td>\n",
       "    </tr>\n",
       "  </tbody>\n",
       "</table>\n",
       "</div>"
      ],
      "text/plain": [
       "      osPhone  count\n",
       "0     Android    408\n",
       "1         iOS    309\n",
       "2     Windows    130\n",
       "3  Blackberry     99\n",
       "4        Rare     54"
      ]
     },
     "execution_count": 5,
     "metadata": {},
     "output_type": "execute_result"
    }
   ],
   "source": [
    "from feature_engine.encoding import RareLabelEncoder\n",
    "encoder = RareLabelEncoder(tol=0.05, n_categories=5)\n",
    "encoder.fit_transform(df).value_counts().rename('count').to_frame().reset_index()"
   ]
  },
  {
   "cell_type": "markdown",
   "metadata": {},
   "source": [
    "#### Helmert encoding\n",
    "[`HelmertEncoder`](https://contrib.scikit-learn.org/category_encoders/helmert.html)\n",
    "uses the occuring order of categories in a feature to performce encoding. It ignores the first category, and for each category starting from the second one, it create a feature so that:\n",
    "- Equals $-1$ for all previous categories\n",
    "- Equals a category's own rank for itself\n",
    "- Equals $0$ elsewhere"
   ]
  },
  {
   "cell_type": "code",
   "execution_count": 15,
   "metadata": {
    "tags": []
   },
   "outputs": [],
   "source": [
    "df = pd.DataFrame({\n",
    "    'education': ['Highschool', 'Bachelor', 'Master', 'PhD'],\n",
    "    'target': [5, 7, 3, 4]\n",
    "})"
   ]
  },
  {
   "cell_type": "code",
   "execution_count": 16,
   "metadata": {
    "tags": []
   },
   "outputs": [
    {
     "data": {
      "text/html": [
       "<div>\n",
       "<style scoped>\n",
       "    .dataframe tbody tr th:only-of-type {\n",
       "        vertical-align: middle;\n",
       "    }\n",
       "\n",
       "    .dataframe tbody tr th {\n",
       "        vertical-align: top;\n",
       "    }\n",
       "\n",
       "    .dataframe thead th {\n",
       "        text-align: right;\n",
       "    }\n",
       "</style>\n",
       "<table border=\"1\" class=\"dataframe\">\n",
       "  <thead>\n",
       "    <tr style=\"text-align: right;\">\n",
       "      <th></th>\n",
       "      <th>intercept</th>\n",
       "      <th>education_0</th>\n",
       "      <th>education_1</th>\n",
       "      <th>education_2</th>\n",
       "      <th>education</th>\n",
       "      <th>target</th>\n",
       "    </tr>\n",
       "  </thead>\n",
       "  <tbody>\n",
       "    <tr>\n",
       "      <th>0</th>\n",
       "      <td>1</td>\n",
       "      <td>-1.0</td>\n",
       "      <td>-1.0</td>\n",
       "      <td>-1.0</td>\n",
       "      <td>Highschool</td>\n",
       "      <td>5</td>\n",
       "    </tr>\n",
       "    <tr>\n",
       "      <th>1</th>\n",
       "      <td>1</td>\n",
       "      <td>1.0</td>\n",
       "      <td>-1.0</td>\n",
       "      <td>-1.0</td>\n",
       "      <td>Bachelor</td>\n",
       "      <td>7</td>\n",
       "    </tr>\n",
       "    <tr>\n",
       "      <th>2</th>\n",
       "      <td>1</td>\n",
       "      <td>0.0</td>\n",
       "      <td>2.0</td>\n",
       "      <td>-1.0</td>\n",
       "      <td>Master</td>\n",
       "      <td>3</td>\n",
       "    </tr>\n",
       "    <tr>\n",
       "      <th>3</th>\n",
       "      <td>1</td>\n",
       "      <td>0.0</td>\n",
       "      <td>0.0</td>\n",
       "      <td>3.0</td>\n",
       "      <td>PhD</td>\n",
       "      <td>4</td>\n",
       "    </tr>\n",
       "  </tbody>\n",
       "</table>\n",
       "</div>"
      ],
      "text/plain": [
       "   intercept  education_0  education_1  education_2   education  target\n",
       "0          1         -1.0         -1.0         -1.0  Highschool       5\n",
       "1          1          1.0         -1.0         -1.0    Bachelor       7\n",
       "2          1          0.0          2.0         -1.0      Master       3\n",
       "3          1          0.0          0.0          3.0         PhD       4"
      ]
     },
     "execution_count": 16,
     "metadata": {},
     "output_type": "execute_result"
    }
   ],
   "source": [
    "encoder = ce.HelmertEncoder()\n",
    "dfEncode = encoder.fit_transform(df[['education']], df.target)\n",
    "dfEncode.join(df)"
   ]
  },
  {
   "cell_type": "markdown",
   "metadata": {},
   "source": [
    "#### Count encoding\n",
    "[`CountEncoder`](https://contrib.scikit-learn.org/category_encoders/count.html) encodes each category using an integer of how many times or a float of how frequently it occurs in the dataset."
   ]
  },
  {
   "cell_type": "code",
   "execution_count": 17,
   "metadata": {
    "tags": []
   },
   "outputs": [],
   "source": [
    "df = pd.DataFrame({\n",
    "    'fruit': ['Apple', 'Apple', 'Mango', 'Mango', 'Mango']\n",
    "})"
   ]
  },
  {
   "cell_type": "code",
   "execution_count": 18,
   "metadata": {},
   "outputs": [
    {
     "data": {
      "text/html": [
       "<div>\n",
       "<style scoped>\n",
       "    .dataframe tbody tr th:only-of-type {\n",
       "        vertical-align: middle;\n",
       "    }\n",
       "\n",
       "    .dataframe tbody tr th {\n",
       "        vertical-align: top;\n",
       "    }\n",
       "\n",
       "    .dataframe thead th {\n",
       "        text-align: right;\n",
       "    }\n",
       "</style>\n",
       "<table border=\"1\" class=\"dataframe\">\n",
       "  <thead>\n",
       "    <tr style=\"text-align: right;\">\n",
       "      <th></th>\n",
       "      <th>fruit</th>\n",
       "    </tr>\n",
       "  </thead>\n",
       "  <tbody>\n",
       "    <tr>\n",
       "      <th>0</th>\n",
       "      <td>0.4</td>\n",
       "    </tr>\n",
       "    <tr>\n",
       "      <th>1</th>\n",
       "      <td>0.4</td>\n",
       "    </tr>\n",
       "    <tr>\n",
       "      <th>2</th>\n",
       "      <td>0.6</td>\n",
       "    </tr>\n",
       "    <tr>\n",
       "      <th>3</th>\n",
       "      <td>0.6</td>\n",
       "    </tr>\n",
       "    <tr>\n",
       "      <th>4</th>\n",
       "      <td>0.6</td>\n",
       "    </tr>\n",
       "  </tbody>\n",
       "</table>\n",
       "</div>"
      ],
      "text/plain": [
       "   fruit\n",
       "0    0.4\n",
       "1    0.4\n",
       "2    0.6\n",
       "3    0.6\n",
       "4    0.6"
      ]
     },
     "execution_count": 18,
     "metadata": {},
     "output_type": "execute_result"
    }
   ],
   "source": [
    "encoder = ce.CountEncoder(normalize=True)\n",
    "encoder.fit_transform(df.fruit)"
   ]
  },
  {
   "cell_type": "markdown",
   "metadata": {},
   "source": [
    "#### Target encoding\n",
    "[`TargetEncoder`](https://contrib.scikit-learn.org/category_encoders/targetencoder.html)\n",
    "is the most popular encoder used in Kaggle competitions. The main idea is to replace each category $c$ of a categorial feature $\\mathbf{x}$ with the mean of target associated with that category, $y_c$. However, this encoding strategy suffers from *data leakage*, as we are kind of *leaking the answer before teaching our machinary student*. This is a significant disadvantage which leads to overfitting. To solve this, we smooth the encoded values by pushing it towards the population mean $\\bar{y}$:\n",
    "\n",
    "$$x_c=wy_c+(1-w)\\bar{y}$$\n",
    "\n",
    "Here, $w$ follows a logistic distribution parameterized by the category size $n_c$, so that our encoder assigns more credit to $y_c$ when $n_c$ is large and prefer population mean $\\bar{y}$ for small categories. The smoothing effect is controled via two hyperparameters, min samples leaf $k$ and smoothing coefficient $f$, given as:\n",
    "\n",
    "$$w=\\frac{1}{1+\\exp\\left(-\\dfrac{n_c-k}{f}\\right)}$$\n",
    "\n",
    "We can see that, the weight of a very small category (when $n_c\\ll k$) is approximately $0$. In the simple example below, our categories have only 2 or 3 observations; so if we set $k=10$, they will uniformally replaced with $\\bar{y}=0.6$. And a higher value of $f$ indicates a flatter logistic curve as well as stronger regularization effect.\n",
    "\n",
    "Another strategy to tackle *data leakage* is excluding the current row from the calculation of mean target, implemented via \n",
    "[`LeaveOneOutEncoder`](https://contrib.scikit-learn.org/category_encoders/leaveoneout.html)\n",
    ". Notice this will return different encoding values within a category."
   ]
  },
  {
   "cell_type": "code",
   "execution_count": 21,
   "metadata": {
    "tags": [
     "hide-input"
    ]
   },
   "outputs": [
    {
     "data": {
      "text/html": [
       "<div>\n",
       "<style scoped>\n",
       "    .dataframe tbody tr th:only-of-type {\n",
       "        vertical-align: middle;\n",
       "    }\n",
       "\n",
       "    .dataframe tbody tr th {\n",
       "        vertical-align: top;\n",
       "    }\n",
       "\n",
       "    .dataframe thead th {\n",
       "        text-align: right;\n",
       "    }\n",
       "</style>\n",
       "<table border=\"1\" class=\"dataframe\">\n",
       "  <thead>\n",
       "    <tr style=\"text-align: right;\">\n",
       "      <th></th>\n",
       "      <th>education</th>\n",
       "      <th>target</th>\n",
       "      <th>noSmooth</th>\n",
       "      <th>veryHardPenalty</th>\n",
       "      <th>weakPush</th>\n",
       "      <th>strongPushWithK</th>\n",
       "      <th>strongPushWithF</th>\n",
       "      <th>leaveOneOut</th>\n",
       "    </tr>\n",
       "  </thead>\n",
       "  <tbody>\n",
       "    <tr>\n",
       "      <th>0</th>\n",
       "      <td>Highschool</td>\n",
       "      <td>0</td>\n",
       "      <td>0.333333</td>\n",
       "      <td>0.599757</td>\n",
       "      <td>0.365121</td>\n",
       "      <td>0.405051</td>\n",
       "      <td>0.453378</td>\n",
       "      <td>0.5</td>\n",
       "    </tr>\n",
       "    <tr>\n",
       "      <th>1</th>\n",
       "      <td>Highschool</td>\n",
       "      <td>1</td>\n",
       "      <td>0.333333</td>\n",
       "      <td>0.599757</td>\n",
       "      <td>0.365121</td>\n",
       "      <td>0.405051</td>\n",
       "      <td>0.453378</td>\n",
       "      <td>0.0</td>\n",
       "    </tr>\n",
       "    <tr>\n",
       "      <th>2</th>\n",
       "      <td>Highschool</td>\n",
       "      <td>0</td>\n",
       "      <td>0.333333</td>\n",
       "      <td>0.599757</td>\n",
       "      <td>0.365121</td>\n",
       "      <td>0.405051</td>\n",
       "      <td>0.453378</td>\n",
       "      <td>0.5</td>\n",
       "    </tr>\n",
       "    <tr>\n",
       "      <th>3</th>\n",
       "      <td>Bachelor</td>\n",
       "      <td>0</td>\n",
       "      <td>0.500000</td>\n",
       "      <td>0.599966</td>\n",
       "      <td>0.526894</td>\n",
       "      <td>0.550000</td>\n",
       "      <td>0.547502</td>\n",
       "      <td>1.0</td>\n",
       "    </tr>\n",
       "    <tr>\n",
       "      <th>4</th>\n",
       "      <td>Bachelor</td>\n",
       "      <td>1</td>\n",
       "      <td>0.500000</td>\n",
       "      <td>0.599966</td>\n",
       "      <td>0.526894</td>\n",
       "      <td>0.550000</td>\n",
       "      <td>0.547502</td>\n",
       "      <td>0.0</td>\n",
       "    </tr>\n",
       "    <tr>\n",
       "      <th>5</th>\n",
       "      <td>Master</td>\n",
       "      <td>1</td>\n",
       "      <td>0.666667</td>\n",
       "      <td>0.600061</td>\n",
       "      <td>0.658720</td>\n",
       "      <td>0.648737</td>\n",
       "      <td>0.636656</td>\n",
       "      <td>0.5</td>\n",
       "    </tr>\n",
       "    <tr>\n",
       "      <th>6</th>\n",
       "      <td>Master</td>\n",
       "      <td>1</td>\n",
       "      <td>0.666667</td>\n",
       "      <td>0.600061</td>\n",
       "      <td>0.658720</td>\n",
       "      <td>0.648737</td>\n",
       "      <td>0.636656</td>\n",
       "      <td>0.5</td>\n",
       "    </tr>\n",
       "    <tr>\n",
       "      <th>7</th>\n",
       "      <td>Master</td>\n",
       "      <td>0</td>\n",
       "      <td>0.666667</td>\n",
       "      <td>0.600061</td>\n",
       "      <td>0.658720</td>\n",
       "      <td>0.648737</td>\n",
       "      <td>0.636656</td>\n",
       "      <td>1.0</td>\n",
       "    </tr>\n",
       "    <tr>\n",
       "      <th>8</th>\n",
       "      <td>PhD</td>\n",
       "      <td>1</td>\n",
       "      <td>1.000000</td>\n",
       "      <td>0.600134</td>\n",
       "      <td>0.892423</td>\n",
       "      <td>0.800000</td>\n",
       "      <td>0.809992</td>\n",
       "      <td>1.0</td>\n",
       "    </tr>\n",
       "    <tr>\n",
       "      <th>9</th>\n",
       "      <td>PhD</td>\n",
       "      <td>1</td>\n",
       "      <td>1.000000</td>\n",
       "      <td>0.600134</td>\n",
       "      <td>0.892423</td>\n",
       "      <td>0.800000</td>\n",
       "      <td>0.809992</td>\n",
       "      <td>1.0</td>\n",
       "    </tr>\n",
       "  </tbody>\n",
       "</table>\n",
       "</div>"
      ],
      "text/plain": [
       "    education  target  noSmooth  veryHardPenalty  weakPush  strongPushWithK  \\\n",
       "0  Highschool       0  0.333333         0.599757  0.365121         0.405051   \n",
       "1  Highschool       1  0.333333         0.599757  0.365121         0.405051   \n",
       "2  Highschool       0  0.333333         0.599757  0.365121         0.405051   \n",
       "3    Bachelor       0  0.500000         0.599966  0.526894         0.550000   \n",
       "4    Bachelor       1  0.500000         0.599966  0.526894         0.550000   \n",
       "5      Master       1  0.666667         0.600061  0.658720         0.648737   \n",
       "6      Master       1  0.666667         0.600061  0.658720         0.648737   \n",
       "7      Master       0  0.666667         0.600061  0.658720         0.648737   \n",
       "8         PhD       1  1.000000         0.600134  0.892423         0.800000   \n",
       "9         PhD       1  1.000000         0.600134  0.892423         0.800000   \n",
       "\n",
       "   strongPushWithF  leaveOneOut  \n",
       "0         0.453378          0.5  \n",
       "1         0.453378          0.0  \n",
       "2         0.453378          0.5  \n",
       "3         0.547502          1.0  \n",
       "4         0.547502          0.0  \n",
       "5         0.636656          0.5  \n",
       "6         0.636656          0.5  \n",
       "7         0.636656          1.0  \n",
       "8         0.809992          1.0  \n",
       "9         0.809992          1.0  "
      ]
     },
     "execution_count": 21,
     "metadata": {},
     "output_type": "execute_result"
    }
   ],
   "source": [
    "df = pd.DataFrame({\n",
    "    'education': ['Highschool']*3 + ['Bachelor']*2 + ['Master']*3 + ['PhD']*2,\n",
    "    'target': [0,1,0] + [0,1] + [1,1,0] + [1,1]\n",
    "})\n",
    "\n",
    "encoder1 = ce.TargetEncoder(smoothing=0, min_samples_leaf=0)\n",
    "encoder2 = ce.TargetEncoder(smoothing=1, min_samples_leaf=10)\n",
    "encoder3 = ce.TargetEncoder(smoothing=1, min_samples_leaf=1)\n",
    "encoder4 = ce.TargetEncoder(smoothing=1, min_samples_leaf=2)\n",
    "encoder5 = ce.TargetEncoder(smoothing=10, min_samples_leaf=1)\n",
    "encoder6 = ce.LeaveOneOutEncoder()\n",
    "\n",
    "dfEncode1 = encoder1.fit_transform(df.education, df.target)\n",
    "dfEncode2 = encoder2.fit_transform(df.education, df.target)\n",
    "dfEncode3 = encoder3.fit_transform(df.education, df.target)\n",
    "dfEncode4 = encoder4.fit_transform(df.education, df.target)\n",
    "dfEncode5 = encoder5.fit_transform(df.education, df.target)\n",
    "dfEncode6 = encoder6.fit_transform(df.education, df.target)\n",
    "\n",
    "df.assign(\n",
    "    noSmooth = dfEncode1.education,\n",
    "    veryHardPenalty = dfEncode2.education,\n",
    "    weakPush = dfEncode3.education,\n",
    "    strongPushWithK = dfEncode4.education,\n",
    "    strongPushWithF = dfEncode5.education,\n",
    "    leaveOneOut = dfEncode6.education\n",
    ")"
   ]
  },
  {
   "cell_type": "markdown",
   "metadata": {},
   "source": [
    "#### M-estimate encoding\n",
    "[`MEstimateEncoder`] is a simplified version of Target Encoder with same functionality but has only a tunable hyperparameter $m$, smoothing factor. We first define a mask vector that activates category $c$: $\\mathbf{i}_c(n)=\\mathbf{1}[x_n=x_c]$, the encoding formula is given as:\n",
    "\n",
    "$$x_c=\\frac\n",
    "{\\mathbf{i}_c^\\text{T}\\mathbf{y} + m\\bar{y}}\n",
    "{\\mathbf{i}_c^\\text{T}\\mathbf{1} + m}\n",
    "$$\n",
    "\n",
    "Now let's explain what do these ugly things mean. First, $\\mathbf{i}_c^\\text{T}\\mathbf{y}$ is the [dot product] of the mask vector and the target, it computes the sum of target associated with category $c$. The part $\\mathbf{i}_c^\\text{T}\\mathbf{1}$ is another dot product, it counts the number of observations of category $c$. We can also add a small normal distributed noise into training data\n",
    "\n",
    "[dot product]: https://en.wikipedia.org/wiki/Dot_product\n",
    "[`MEstimateEncoder`]: https://contrib.scikit-learn.org/category_encoders/mestimate.html"
   ]
  },
  {
   "cell_type": "code",
   "execution_count": 24,
   "metadata": {
    "tags": [
     "hide-input"
    ]
   },
   "outputs": [
    {
     "data": {
      "text/html": [
       "<div>\n",
       "<style scoped>\n",
       "    .dataframe tbody tr th:only-of-type {\n",
       "        vertical-align: middle;\n",
       "    }\n",
       "\n",
       "    .dataframe tbody tr th {\n",
       "        vertical-align: top;\n",
       "    }\n",
       "\n",
       "    .dataframe thead th {\n",
       "        text-align: right;\n",
       "    }\n",
       "</style>\n",
       "<table border=\"1\" class=\"dataframe\">\n",
       "  <thead>\n",
       "    <tr style=\"text-align: right;\">\n",
       "      <th></th>\n",
       "      <th>education</th>\n",
       "      <th>noSmooth</th>\n",
       "      <th>weekSmooth</th>\n",
       "      <th>strongSmooth</th>\n",
       "    </tr>\n",
       "  </thead>\n",
       "  <tbody>\n",
       "    <tr>\n",
       "      <th>0</th>\n",
       "      <td>Highschool</td>\n",
       "      <td>0.333333</td>\n",
       "      <td>0.400000</td>\n",
       "      <td>0.538462</td>\n",
       "    </tr>\n",
       "    <tr>\n",
       "      <th>3</th>\n",
       "      <td>Bachelor</td>\n",
       "      <td>0.500000</td>\n",
       "      <td>0.533333</td>\n",
       "      <td>0.583333</td>\n",
       "    </tr>\n",
       "    <tr>\n",
       "      <th>5</th>\n",
       "      <td>Master</td>\n",
       "      <td>0.666667</td>\n",
       "      <td>0.650000</td>\n",
       "      <td>0.615385</td>\n",
       "    </tr>\n",
       "    <tr>\n",
       "      <th>8</th>\n",
       "      <td>PhD</td>\n",
       "      <td>1.000000</td>\n",
       "      <td>0.866667</td>\n",
       "      <td>0.666667</td>\n",
       "    </tr>\n",
       "  </tbody>\n",
       "</table>\n",
       "</div>"
      ],
      "text/plain": [
       "    education  noSmooth  weekSmooth  strongSmooth\n",
       "0  Highschool  0.333333    0.400000      0.538462\n",
       "3    Bachelor  0.500000    0.533333      0.583333\n",
       "5      Master  0.666667    0.650000      0.615385\n",
       "8         PhD  1.000000    0.866667      0.666667"
      ]
     },
     "execution_count": 24,
     "metadata": {},
     "output_type": "execute_result"
    }
   ],
   "source": [
    "df = pd.DataFrame({\n",
    "    'education': ['Highschool']*3 + ['Bachelor']*2 + ['Master']*3 + ['PhD']*2,\n",
    "    'target': [0,1,0] + [0,1] + [1,1,0] + [1,1]\n",
    "})\n",
    "\n",
    "encoder1 = ce.MEstimateEncoder(m=0)\n",
    "encoder2 = ce.MEstimateEncoder(m=1)\n",
    "encoder3 = ce.MEstimateEncoder(m=10)\n",
    "\n",
    "dfEncode1 = encoder1.fit_transform(df.education, df.target)\n",
    "dfEncode2 = encoder2.fit_transform(df.education, df.target)\n",
    "dfEncode3 = encoder3.fit_transform(df.education, df.target)\n",
    "\n",
    "df.assign(\n",
    "    noSmooth = dfEncode1.education,\n",
    "    weekSmooth = dfEncode2.education,\n",
    "    strongSmooth = dfEncode3.education,\n",
    ").drop(columns='target').drop_duplicates()"
   ]
  },
  {
   "cell_type": "markdown",
   "metadata": {
    "tags": []
   },
   "source": [
    "#### Weight of Evidence\n",
    "Weight of Evidence is a concept exists in credit scoring and risk management, being generally described as a measure of separation between good and bad things. When applied in Machine Learning, this method is used exclusively on binary target, implemented as [`WOEEncoder`]. It has the following formula:\n",
    "\n",
    "$$x_c=\\log\\frac{\\text{P}(x=x_c|y=1)}{\\text{P}(x=x_c|y=0)}$$\n",
    "\n",
    "It's clear to see in this equation, the numerator is the probability of observing category $c$ considering only postitive labeled data, and thus it refers to *good things*. The same inference can also be applied to the denominator. One thing to notice is that when calculating these probabilities, a small quantity is add to the denominators to (1) prevent zero division error and (2) add regularization effect.\n",
    "\n",
    "A great advantage that WoE has, is that it makes our categorical feature resemble log-odds, and is thus well suited for Logistic Regression. This encoding strategy returns a positive value when a category is *better than average*, negative value when a category is *worse than average*. Let's see how it works in action.\n",
    "\n",
    "[`WOEEncoder`]: https://contrib.scikit-learn.org/category_encoders/woe.html"
   ]
  },
  {
   "cell_type": "code",
   "execution_count": 25,
   "metadata": {},
   "outputs": [],
   "source": [
    "df = pd.DataFrame({\n",
    "    'education': ['Highschool']*3 + ['Bachelor']*2 + ['Master']*3 + ['PhD']*2,\n",
    "    'target': [0,1,0] + [0,1] + [1,1,0] + [1,1]\n",
    "})"
   ]
  },
  {
   "cell_type": "code",
   "execution_count": 27,
   "metadata": {},
   "outputs": [],
   "source": [
    "encoder = ce.WOEEncoder(regularization=1)\n",
    "dfEncode = encoder.fit_transform(df.education, df.target)"
   ]
  },
  {
   "cell_type": "code",
   "execution_count": 28,
   "metadata": {},
   "outputs": [
    {
     "data": {
      "text/html": [
       "<div>\n",
       "<style scoped>\n",
       "    .dataframe tbody tr th:only-of-type {\n",
       "        vertical-align: middle;\n",
       "    }\n",
       "\n",
       "    .dataframe tbody tr th {\n",
       "        vertical-align: top;\n",
       "    }\n",
       "\n",
       "    .dataframe thead th {\n",
       "        text-align: right;\n",
       "    }\n",
       "</style>\n",
       "<table border=\"1\" class=\"dataframe\">\n",
       "  <thead>\n",
       "    <tr style=\"text-align: right;\">\n",
       "      <th></th>\n",
       "      <th>education</th>\n",
       "      <th>woe</th>\n",
       "    </tr>\n",
       "  </thead>\n",
       "  <tbody>\n",
       "    <tr>\n",
       "      <th>0</th>\n",
       "      <td>Highschool</td>\n",
       "      <td>-0.693147</td>\n",
       "    </tr>\n",
       "    <tr>\n",
       "      <th>3</th>\n",
       "      <td>Bachelor</td>\n",
       "      <td>-0.287682</td>\n",
       "    </tr>\n",
       "    <tr>\n",
       "      <th>5</th>\n",
       "      <td>Master</td>\n",
       "      <td>0.117783</td>\n",
       "    </tr>\n",
       "    <tr>\n",
       "      <th>8</th>\n",
       "      <td>PhD</td>\n",
       "      <td>0.810930</td>\n",
       "    </tr>\n",
       "  </tbody>\n",
       "</table>\n",
       "</div>"
      ],
      "text/plain": [
       "    education       woe\n",
       "0  Highschool -0.693147\n",
       "3    Bachelor -0.287682\n",
       "5      Master  0.117783\n",
       "8         PhD  0.810930"
      ]
     },
     "execution_count": 28,
     "metadata": {},
     "output_type": "execute_result"
    }
   ],
   "source": [
    "df[['education']].assign(woe=dfEncode.education).drop_duplicates()"
   ]
  },
  {
   "cell_type": "markdown",
   "metadata": {},
   "source": [
    "## 2. Feature synthesis\n",
    "We have already known many techniques to transform a single feature, but how about their combinations? Of course Data Scientists can use their domain knowledge in a creative way to create new ones, but there are still many combinations we would never even think about. To effectively do this, we need to (1) create so many features and (2) select the best ones from them.\n",
    "\n",
    "The first problem is exactly what [Featuretools] solves, via an algorithm called [Deep Feature Synthesis] (DFS). It has the abiliy to generate new features from a single table or from a number of related tables, automatically and efficiency.\n",
    "\n",
    "[Featuretools]: https://featuretools.alteryx.com/en/stable/index.html\n",
    "[Deep Feature Synthesis]: https://featuretools.alteryx.com/en/stable/getting_started/afe.html"
   ]
  },
  {
   "cell_type": "code",
   "execution_count": 1,
   "metadata": {
    "tags": [
     "remove-cell"
    ]
   },
   "outputs": [],
   "source": [
    "import numpy as np\n",
    "import pandas as pd\n",
    "import janitor\n",
    "import featuretools as ft\n",
    "from sspipe import p, px"
   ]
  },
  {
   "cell_type": "code",
   "execution_count": 2,
   "metadata": {
    "tags": []
   },
   "outputs": [],
   "source": [
    "ft.list_primitives()\\\n",
    "    .remove_columns(['spark_compatible', 'dask_compatible'])\\\n",
    "    .to_csv('../output/featuretools_primitives.csv', index=False)"
   ]
  },
  {
   "cell_type": "markdown",
   "metadata": {
    "tags": []
   },
   "source": [
    "### 2.1. Transform within a table\n",
    "In the most basic level of DFS, it allows us to specify a list of transformations (by class or string identifier), each can automatically find valid columns and transform them. Transformations in Featuretools can process one or many input columns."
   ]
  },
  {
   "cell_type": "code",
   "execution_count": 3,
   "metadata": {
    "execution": {
     "iopub.execute_input": "2022-10-03T16:48:31.803975Z",
     "iopub.status.busy": "2022-10-03T16:48:31.803615Z",
     "iopub.status.idle": "2022-10-03T16:48:31.854263Z",
     "shell.execute_reply": "2022-10-03T16:48:31.853554Z",
     "shell.execute_reply.started": "2022-10-03T16:48:31.803948Z"
    },
    "tags": []
   },
   "outputs": [
    {
     "data": {
      "text/plain": [
       "video_id                     object\n",
       "trending_date        datetime64[ns]\n",
       "publish_time         datetime64[ns]\n",
       "views                         int64\n",
       "likes                         int64\n",
       "dislikes                      int64\n",
       "comment_count                 int64\n",
       "comments_disabled              bool\n",
       "ratings_disabled               bool\n",
       "dtype: object"
      ]
     },
     "execution_count": 3,
     "metadata": {},
     "output_type": "execute_result"
    }
   ],
   "source": [
    "dfYoutube = pd.read_csv('../data/youtube_trending.csv')\n",
    "dfYoutube = (dfYoutube\n",
    "    .to_datetime('trending_date', format='%Y-%m-%d')\n",
    "    .to_datetime('publish_time', format='%Y-%m-%dT%H:%M:%S.%fZ')\n",
    "    .drop_duplicates(subset='video_id')\n",
    "    .remove_columns(['channel_title', 'category_id'])\n",
    "    .dropna(subset='video_id')\n",
    ")\n",
    "dfYoutube.dtypes"
   ]
  },
  {
   "cell_type": "code",
   "execution_count": 4,
   "metadata": {
    "execution": {
     "iopub.execute_input": "2022-10-03T16:48:34.046007Z",
     "iopub.status.busy": "2022-10-03T16:48:34.045688Z",
     "iopub.status.idle": "2022-10-03T16:48:34.103968Z",
     "shell.execute_reply": "2022-10-03T16:48:34.103217Z",
     "shell.execute_reply.started": "2022-10-03T16:48:34.045985Z"
    },
    "tags": []
   },
   "outputs": [],
   "source": [
    "es = ft.EntitySet()\n",
    "es = es.add_dataframe(\n",
    "    dataframe=dfYoutube,\n",
    "    dataframe_name='dfYoutube',\n",
    "    index='video_id',\n",
    "    time_index='publish_time',\n",
    ")"
   ]
  },
  {
   "cell_type": "code",
   "execution_count": 5,
   "metadata": {
    "execution": {
     "iopub.execute_input": "2022-10-03T16:48:35.971010Z",
     "iopub.status.busy": "2022-10-03T16:48:35.970529Z",
     "iopub.status.idle": "2022-10-03T16:48:36.101672Z",
     "shell.execute_reply": "2022-10-03T16:48:36.100657Z",
     "shell.execute_reply.started": "2022-10-03T16:48:35.970971Z"
    },
    "tags": [
     "output_scroll"
    ]
   },
   "outputs": [
    {
     "data": {
      "text/html": [
       "<div>\n",
       "<style scoped>\n",
       "    .dataframe tbody tr th:only-of-type {\n",
       "        vertical-align: middle;\n",
       "    }\n",
       "\n",
       "    .dataframe tbody tr th {\n",
       "        vertical-align: top;\n",
       "    }\n",
       "\n",
       "    .dataframe thead th {\n",
       "        text-align: right;\n",
       "    }\n",
       "</style>\n",
       "<table border=\"1\" class=\"dataframe\">\n",
       "  <thead>\n",
       "    <tr style=\"text-align: right;\">\n",
       "      <th></th>\n",
       "      <th>views</th>\n",
       "      <th>likes</th>\n",
       "      <th>dislikes</th>\n",
       "      <th>comment_count</th>\n",
       "      <th>comments_disabled</th>\n",
       "      <th>ratings_disabled</th>\n",
       "      <th>comment_count + dislikes</th>\n",
       "      <th>comment_count + likes</th>\n",
       "      <th>comment_count + views</th>\n",
       "      <th>dislikes + likes</th>\n",
       "      <th>...</th>\n",
       "      <th>comment_count + 2</th>\n",
       "      <th>dislikes + 2</th>\n",
       "      <th>likes + 2</th>\n",
       "      <th>views + 2</th>\n",
       "      <th>HOUR(publish_time)</th>\n",
       "      <th>HOUR(trending_date)</th>\n",
       "      <th>SQUARE_ROOT(comment_count)</th>\n",
       "      <th>SQUARE_ROOT(dislikes)</th>\n",
       "      <th>SQUARE_ROOT(likes)</th>\n",
       "      <th>SQUARE_ROOT(views)</th>\n",
       "    </tr>\n",
       "    <tr>\n",
       "      <th>video_id</th>\n",
       "      <th></th>\n",
       "      <th></th>\n",
       "      <th></th>\n",
       "      <th></th>\n",
       "      <th></th>\n",
       "      <th></th>\n",
       "      <th></th>\n",
       "      <th></th>\n",
       "      <th></th>\n",
       "      <th></th>\n",
       "      <th></th>\n",
       "      <th></th>\n",
       "      <th></th>\n",
       "      <th></th>\n",
       "      <th></th>\n",
       "      <th></th>\n",
       "      <th></th>\n",
       "      <th></th>\n",
       "      <th></th>\n",
       "      <th></th>\n",
       "      <th></th>\n",
       "    </tr>\n",
       "  </thead>\n",
       "  <tbody>\n",
       "    <tr>\n",
       "      <th>wFEAoF7RC7Y</th>\n",
       "      <td>86744</td>\n",
       "      <td>469</td>\n",
       "      <td>4</td>\n",
       "      <td>105</td>\n",
       "      <td>False</td>\n",
       "      <td>False</td>\n",
       "      <td>109.0</td>\n",
       "      <td>574.0</td>\n",
       "      <td>86849.0</td>\n",
       "      <td>473.0</td>\n",
       "      <td>...</td>\n",
       "      <td>107.0</td>\n",
       "      <td>6.0</td>\n",
       "      <td>471.0</td>\n",
       "      <td>86746.0</td>\n",
       "      <td>0</td>\n",
       "      <td>0</td>\n",
       "      <td>10.246951</td>\n",
       "      <td>2.0</td>\n",
       "      <td>21.656408</td>\n",
       "      <td>294.523344</td>\n",
       "    </tr>\n",
       "    <tr>\n",
       "      <th>Y8JGfi4MJ8k</th>\n",
       "      <td>26482</td>\n",
       "      <td>78</td>\n",
       "      <td>1</td>\n",
       "      <td>7</td>\n",
       "      <td>False</td>\n",
       "      <td>False</td>\n",
       "      <td>8.0</td>\n",
       "      <td>85.0</td>\n",
       "      <td>26489.0</td>\n",
       "      <td>79.0</td>\n",
       "      <td>...</td>\n",
       "      <td>9.0</td>\n",
       "      <td>3.0</td>\n",
       "      <td>80.0</td>\n",
       "      <td>26484.0</td>\n",
       "      <td>12</td>\n",
       "      <td>0</td>\n",
       "      <td>2.645751</td>\n",
       "      <td>1.0</td>\n",
       "      <td>8.831761</td>\n",
       "      <td>162.732910</td>\n",
       "    </tr>\n",
       "    <tr>\n",
       "      <th>rO_mAQC9bv0</th>\n",
       "      <td>15382</td>\n",
       "      <td>33</td>\n",
       "      <td>1</td>\n",
       "      <td>10</td>\n",
       "      <td>False</td>\n",
       "      <td>False</td>\n",
       "      <td>11.0</td>\n",
       "      <td>43.0</td>\n",
       "      <td>15392.0</td>\n",
       "      <td>34.0</td>\n",
       "      <td>...</td>\n",
       "      <td>12.0</td>\n",
       "      <td>3.0</td>\n",
       "      <td>35.0</td>\n",
       "      <td>15384.0</td>\n",
       "      <td>0</td>\n",
       "      <td>0</td>\n",
       "      <td>3.162278</td>\n",
       "      <td>1.0</td>\n",
       "      <td>5.744563</td>\n",
       "      <td>124.024191</td>\n",
       "    </tr>\n",
       "    <tr>\n",
       "      <th>2vQ_fnlvvr8</th>\n",
       "      <td>45096</td>\n",
       "      <td>287</td>\n",
       "      <td>9</td>\n",
       "      <td>59</td>\n",
       "      <td>False</td>\n",
       "      <td>False</td>\n",
       "      <td>68.0</td>\n",
       "      <td>346.0</td>\n",
       "      <td>45155.0</td>\n",
       "      <td>296.0</td>\n",
       "      <td>...</td>\n",
       "      <td>61.0</td>\n",
       "      <td>11.0</td>\n",
       "      <td>289.0</td>\n",
       "      <td>45098.0</td>\n",
       "      <td>1</td>\n",
       "      <td>0</td>\n",
       "      <td>7.681146</td>\n",
       "      <td>3.0</td>\n",
       "      <td>16.941074</td>\n",
       "      <td>212.358188</td>\n",
       "    </tr>\n",
       "    <tr>\n",
       "      <th>-37nIo_tLnk</th>\n",
       "      <td>2863</td>\n",
       "      <td>2</td>\n",
       "      <td>0</td>\n",
       "      <td>0</td>\n",
       "      <td>False</td>\n",
       "      <td>False</td>\n",
       "      <td>0.0</td>\n",
       "      <td>2.0</td>\n",
       "      <td>2863.0</td>\n",
       "      <td>2.0</td>\n",
       "      <td>...</td>\n",
       "      <td>2.0</td>\n",
       "      <td>2.0</td>\n",
       "      <td>4.0</td>\n",
       "      <td>2865.0</td>\n",
       "      <td>23</td>\n",
       "      <td>0</td>\n",
       "      <td>0.000000</td>\n",
       "      <td>0.0</td>\n",
       "      <td>1.414214</td>\n",
       "      <td>53.507009</td>\n",
       "    </tr>\n",
       "  </tbody>\n",
       "</table>\n",
       "<p>5 rows × 22 columns</p>\n",
       "</div>"
      ],
      "text/plain": [
       "             views  likes  dislikes  comment_count  comments_disabled  \\\n",
       "video_id                                                                \n",
       "wFEAoF7RC7Y  86744    469         4            105              False   \n",
       "Y8JGfi4MJ8k  26482     78         1              7              False   \n",
       "rO_mAQC9bv0  15382     33         1             10              False   \n",
       "2vQ_fnlvvr8  45096    287         9             59              False   \n",
       "-37nIo_tLnk   2863      2         0              0              False   \n",
       "\n",
       "             ratings_disabled  comment_count + dislikes  \\\n",
       "video_id                                                  \n",
       "wFEAoF7RC7Y             False                     109.0   \n",
       "Y8JGfi4MJ8k             False                       8.0   \n",
       "rO_mAQC9bv0             False                      11.0   \n",
       "2vQ_fnlvvr8             False                      68.0   \n",
       "-37nIo_tLnk             False                       0.0   \n",
       "\n",
       "             comment_count + likes  comment_count + views  dislikes + likes  \\\n",
       "video_id                                                                      \n",
       "wFEAoF7RC7Y                  574.0                86849.0             473.0   \n",
       "Y8JGfi4MJ8k                   85.0                26489.0              79.0   \n",
       "rO_mAQC9bv0                   43.0                15392.0              34.0   \n",
       "2vQ_fnlvvr8                  346.0                45155.0             296.0   \n",
       "-37nIo_tLnk                    2.0                 2863.0               2.0   \n",
       "\n",
       "             ...  comment_count + 2  dislikes + 2  likes + 2  views + 2  \\\n",
       "video_id     ...                                                          \n",
       "wFEAoF7RC7Y  ...              107.0           6.0      471.0    86746.0   \n",
       "Y8JGfi4MJ8k  ...                9.0           3.0       80.0    26484.0   \n",
       "rO_mAQC9bv0  ...               12.0           3.0       35.0    15384.0   \n",
       "2vQ_fnlvvr8  ...               61.0          11.0      289.0    45098.0   \n",
       "-37nIo_tLnk  ...                2.0           2.0        4.0     2865.0   \n",
       "\n",
       "             HOUR(publish_time)  HOUR(trending_date)  \\\n",
       "video_id                                               \n",
       "wFEAoF7RC7Y                   0                    0   \n",
       "Y8JGfi4MJ8k                  12                    0   \n",
       "rO_mAQC9bv0                   0                    0   \n",
       "2vQ_fnlvvr8                   1                    0   \n",
       "-37nIo_tLnk                  23                    0   \n",
       "\n",
       "            SQUARE_ROOT(comment_count) SQUARE_ROOT(dislikes)  \\\n",
       "video_id                                                       \n",
       "wFEAoF7RC7Y                  10.246951                   2.0   \n",
       "Y8JGfi4MJ8k                   2.645751                   1.0   \n",
       "rO_mAQC9bv0                   3.162278                   1.0   \n",
       "2vQ_fnlvvr8                   7.681146                   3.0   \n",
       "-37nIo_tLnk                   0.000000                   0.0   \n",
       "\n",
       "             SQUARE_ROOT(likes)  SQUARE_ROOT(views)  \n",
       "video_id                                             \n",
       "wFEAoF7RC7Y           21.656408          294.523344  \n",
       "Y8JGfi4MJ8k            8.831761          162.732910  \n",
       "rO_mAQC9bv0            5.744563          124.024191  \n",
       "2vQ_fnlvvr8           16.941074          212.358188  \n",
       "-37nIo_tLnk            1.414214           53.507009  \n",
       "\n",
       "[5 rows x 22 columns]"
      ]
     },
     "execution_count": 5,
     "metadata": {},
     "output_type": "execute_result"
    }
   ],
   "source": [
    "dfRich, definitions = ft.dfs(\n",
    "    entityset=es,\n",
    "    target_dataframe_name='dfYoutube',\n",
    "    trans_primitives=['hour', 'square_root', ft.primitives.AddNumericScalar(2), 'add_numeric'],\n",
    "    max_depth=1,\n",
    "    ignore_columns = {'transactions': ['comments_disabled', 'comments_disabled']}\n",
    ")\n",
    "dfRich.head()"
   ]
  },
  {
   "cell_type": "code",
   "execution_count": 6,
   "metadata": {},
   "outputs": [
    {
     "name": "stdout",
     "output_type": "stream",
     "text": [
      "The \"views\".\n",
      "The \"likes\".\n",
      "The \"dislikes\".\n",
      "The \"comment_count\".\n",
      "The \"comments_disabled\".\n",
      "The \"ratings_disabled\".\n",
      "The sum of the \"comment_count\" and the \"dislikes\".\n",
      "The sum of the \"comment_count\" and the \"likes\".\n",
      "The sum of the \"comment_count\" and the \"views\".\n",
      "The sum of the \"dislikes\" and the \"likes\".\n",
      "The sum of the \"dislikes\" and the \"views\".\n",
      "The sum of the \"likes\" and the \"views\".\n",
      "The sum of the \"comment_count\" and 2.\n",
      "The sum of the \"dislikes\" and 2.\n",
      "The sum of the \"likes\" and 2.\n",
      "The sum of the \"views\" and 2.\n",
      "The hour value of the \"publish_time\".\n",
      "The hour value of the \"trending_date\".\n",
      "The square root of the \"comment_count\".\n",
      "The square root of the \"dislikes\".\n",
      "The square root of the \"likes\".\n",
      "The square root of the \"views\".\n"
     ]
    }
   ],
   "source": [
    "_ = [ft.describe_feature(feature) | p(print) for feature in definitions]"
   ]
  },
  {
   "cell_type": "markdown",
   "metadata": {},
   "source": [
    "### 2.2. Aggregating across tables\n",
    "This is the true power of DFS, working on multiple tables in a relation database to create features. We are going through all concepts to get this done: entity set and transmitives."
   ]
  },
  {
   "cell_type": "markdown",
   "metadata": {},
   "source": [
    "#### Entity set\n",
    "[Entity set] is how Featuretools represents a relation database, in which each dataframe is an entity. The best practice to work with [`EntitySet`] is to first create an empty one, then add dataframes and relationships once at a time. Here are some notices when calling [`add_dataframe()`] and [`add_relationship()`] methods:\n",
    "- Each entity must have a name (id), an index column (primary key), and can optionally have a datetime index column.\n",
    "- Relationships between entities are expected to be one-to-many, or parent-child. For example, a customer (parent) may have many transactions (children).\n",
    "\n",
    "[Entity set]: https://featuretools.alteryx.com/en/stable/getting_started/using_entitysets.html\n",
    "[`EntitySet`]: https://featuretools.alteryx.com/en/stable/generated/featuretools.EntitySet.html\n",
    "[`add_dataframe()`]: https://featuretools.alteryx.com/en/stable/generated/featuretools.EntitySet.add_dataframe.html\n",
    "[`add_relationship()`]: https://featuretools.alteryx.com/en/stable/generated/featuretools.EntitySet.add_relationship.html"
   ]
  },
  {
   "cell_type": "code",
   "execution_count": 2,
   "metadata": {
    "tags": []
   },
   "outputs": [],
   "source": [
    "data = ft.demo.load_mock_customer()\n",
    "dfCustomer, dfSession, dfTransaction, dfProduct = data.values()"
   ]
  },
  {
   "cell_type": "code",
   "execution_count": 3,
   "metadata": {
    "tags": []
   },
   "outputs": [
    {
     "data": {
      "text/html": [
       "<div>\n",
       "<style scoped>\n",
       "    .dataframe tbody tr th:only-of-type {\n",
       "        vertical-align: middle;\n",
       "    }\n",
       "\n",
       "    .dataframe tbody tr th {\n",
       "        vertical-align: top;\n",
       "    }\n",
       "\n",
       "    .dataframe thead th {\n",
       "        text-align: right;\n",
       "    }\n",
       "</style>\n",
       "<table border=\"1\" class=\"dataframe\">\n",
       "  <thead>\n",
       "    <tr style=\"text-align: right;\">\n",
       "      <th></th>\n",
       "      <th>customer_id</th>\n",
       "      <th>zip_code</th>\n",
       "      <th>join_date</th>\n",
       "      <th>birthday</th>\n",
       "    </tr>\n",
       "  </thead>\n",
       "  <tbody>\n",
       "    <tr>\n",
       "      <th>0</th>\n",
       "      <td>1</td>\n",
       "      <td>60091</td>\n",
       "      <td>2011-04-17 10:48:33</td>\n",
       "      <td>1994-07-18</td>\n",
       "    </tr>\n",
       "    <tr>\n",
       "      <th>1</th>\n",
       "      <td>2</td>\n",
       "      <td>13244</td>\n",
       "      <td>2012-04-15 23:31:04</td>\n",
       "      <td>1986-08-18</td>\n",
       "    </tr>\n",
       "    <tr>\n",
       "      <th>2</th>\n",
       "      <td>3</td>\n",
       "      <td>13244</td>\n",
       "      <td>2011-08-13 15:42:34</td>\n",
       "      <td>2003-11-21</td>\n",
       "    </tr>\n",
       "  </tbody>\n",
       "</table>\n",
       "</div>"
      ],
      "text/plain": [
       "   customer_id zip_code           join_date   birthday\n",
       "0            1    60091 2011-04-17 10:48:33 1994-07-18\n",
       "1            2    13244 2012-04-15 23:31:04 1986-08-18\n",
       "2            3    13244 2011-08-13 15:42:34 2003-11-21"
      ]
     },
     "execution_count": 3,
     "metadata": {},
     "output_type": "execute_result"
    }
   ],
   "source": [
    "dfCustomer.head(3)"
   ]
  },
  {
   "cell_type": "code",
   "execution_count": 4,
   "metadata": {
    "tags": []
   },
   "outputs": [
    {
     "data": {
      "text/html": [
       "<div>\n",
       "<style scoped>\n",
       "    .dataframe tbody tr th:only-of-type {\n",
       "        vertical-align: middle;\n",
       "    }\n",
       "\n",
       "    .dataframe tbody tr th {\n",
       "        vertical-align: top;\n",
       "    }\n",
       "\n",
       "    .dataframe thead th {\n",
       "        text-align: right;\n",
       "    }\n",
       "</style>\n",
       "<table border=\"1\" class=\"dataframe\">\n",
       "  <thead>\n",
       "    <tr style=\"text-align: right;\">\n",
       "      <th></th>\n",
       "      <th>session_id</th>\n",
       "      <th>customer_id</th>\n",
       "      <th>device</th>\n",
       "      <th>session_start</th>\n",
       "    </tr>\n",
       "  </thead>\n",
       "  <tbody>\n",
       "    <tr>\n",
       "      <th>0</th>\n",
       "      <td>1</td>\n",
       "      <td>2</td>\n",
       "      <td>desktop</td>\n",
       "      <td>2014-01-01 00:00:00</td>\n",
       "    </tr>\n",
       "    <tr>\n",
       "      <th>1</th>\n",
       "      <td>2</td>\n",
       "      <td>5</td>\n",
       "      <td>mobile</td>\n",
       "      <td>2014-01-01 00:17:20</td>\n",
       "    </tr>\n",
       "    <tr>\n",
       "      <th>2</th>\n",
       "      <td>3</td>\n",
       "      <td>4</td>\n",
       "      <td>mobile</td>\n",
       "      <td>2014-01-01 00:28:10</td>\n",
       "    </tr>\n",
       "  </tbody>\n",
       "</table>\n",
       "</div>"
      ],
      "text/plain": [
       "   session_id  customer_id   device       session_start\n",
       "0           1            2  desktop 2014-01-01 00:00:00\n",
       "1           2            5   mobile 2014-01-01 00:17:20\n",
       "2           3            4   mobile 2014-01-01 00:28:10"
      ]
     },
     "execution_count": 4,
     "metadata": {},
     "output_type": "execute_result"
    }
   ],
   "source": [
    "dfSession.head(3)"
   ]
  },
  {
   "cell_type": "code",
   "execution_count": 15,
   "metadata": {
    "execution": {
     "iopub.execute_input": "2022-10-03T16:51:22.139603Z",
     "iopub.status.busy": "2022-10-03T16:51:22.139113Z",
     "iopub.status.idle": "2022-10-03T16:51:22.149137Z",
     "shell.execute_reply": "2022-10-03T16:51:22.148274Z",
     "shell.execute_reply.started": "2022-10-03T16:51:22.139568Z"
    },
    "tags": []
   },
   "outputs": [
    {
     "data": {
      "text/html": [
       "<div>\n",
       "<style scoped>\n",
       "    .dataframe tbody tr th:only-of-type {\n",
       "        vertical-align: middle;\n",
       "    }\n",
       "\n",
       "    .dataframe tbody tr th {\n",
       "        vertical-align: top;\n",
       "    }\n",
       "\n",
       "    .dataframe thead th {\n",
       "        text-align: right;\n",
       "    }\n",
       "</style>\n",
       "<table border=\"1\" class=\"dataframe\">\n",
       "  <thead>\n",
       "    <tr style=\"text-align: right;\">\n",
       "      <th></th>\n",
       "      <th>transaction_id</th>\n",
       "      <th>session_id</th>\n",
       "      <th>transaction_time</th>\n",
       "      <th>product_id</th>\n",
       "      <th>amount</th>\n",
       "    </tr>\n",
       "  </thead>\n",
       "  <tbody>\n",
       "    <tr>\n",
       "      <th>298</th>\n",
       "      <td>298</td>\n",
       "      <td>1</td>\n",
       "      <td>2014-01-01 00:00:00</td>\n",
       "      <td>5</td>\n",
       "      <td>127.64</td>\n",
       "    </tr>\n",
       "    <tr>\n",
       "      <th>2</th>\n",
       "      <td>2</td>\n",
       "      <td>1</td>\n",
       "      <td>2014-01-01 00:01:05</td>\n",
       "      <td>2</td>\n",
       "      <td>109.48</td>\n",
       "    </tr>\n",
       "    <tr>\n",
       "      <th>308</th>\n",
       "      <td>308</td>\n",
       "      <td>1</td>\n",
       "      <td>2014-01-01 00:02:10</td>\n",
       "      <td>3</td>\n",
       "      <td>95.06</td>\n",
       "    </tr>\n",
       "  </tbody>\n",
       "</table>\n",
       "</div>"
      ],
      "text/plain": [
       "     transaction_id  session_id    transaction_time product_id  amount\n",
       "298             298           1 2014-01-01 00:00:00          5  127.64\n",
       "2                 2           1 2014-01-01 00:01:05          2  109.48\n",
       "308             308           1 2014-01-01 00:02:10          3   95.06"
      ]
     },
     "execution_count": 15,
     "metadata": {},
     "output_type": "execute_result"
    }
   ],
   "source": [
    "dfTransaction.head(3)"
   ]
  },
  {
   "cell_type": "code",
   "execution_count": 5,
   "metadata": {
    "tags": []
   },
   "outputs": [
    {
     "data": {
      "text/plain": [
       "Entityset: CustomerProfile\n",
       "  DataFrames:\n",
       "    dfCustomer [Rows: 5, Columns: 4]\n",
       "    dfSession [Rows: 35, Columns: 4]\n",
       "    dfTransaction [Rows: 500, Columns: 5]\n",
       "    dfProduct [Rows: 5, Columns: 2]\n",
       "  Relationships:\n",
       "    dfSession.customer_id -> dfCustomer.customer_id\n",
       "    dfTransaction.session_id -> dfSession.session_id\n",
       "    dfTransaction.product_id -> dfProduct.product_id"
      ]
     },
     "execution_count": 5,
     "metadata": {},
     "output_type": "execute_result"
    }
   ],
   "source": [
    "es = ft.EntitySet('CustomerProfile')\n",
    "\n",
    "es.add_dataframe(dataframe=dfCustomer, dataframe_name='dfCustomer', index='customer_id')\n",
    "es.add_dataframe(dataframe=dfSession, dataframe_name='dfSession', index='session_id')\n",
    "es.add_dataframe(dataframe=dfTransaction, dataframe_name='dfTransaction', index='transaction_id')\n",
    "es.add_dataframe(dataframe=dfProduct, dataframe_name='dfProduct', index='product_id')\n",
    "\n",
    "es.add_relationship('dfCustomer', 'customer_id', 'dfSession', 'customer_id')\n",
    "es.add_relationship('dfSession', 'session_id', 'dfTransaction', 'session_id')\n",
    "es.add_relationship('dfProduct', 'product_id', 'dfTransaction', 'product_id')"
   ]
  },
  {
   "cell_type": "markdown",
   "metadata": {},
   "source": [
    "#### Primitives\n",
    "[Primitives] are building blocks of Featuretools, they define individual computations that can be applied to raw datasets to create new features. There are two types of primitive, transformation and aggregation, they are both a function but have different signatures:\n",
    "- $\\text{Transformation}:\\text{scalar}\\rightarrow\\text{scalar}$\n",
    "- $\\text{Aggregation}:\\text{vector}\\rightarrow\\text{scalar}$\n",
    "\n",
    "We can see their applications here: transformations process one or more existing columns and return a new one, while aggregations handle one-to-many relationships by grouping children then return a representative statistic for the parent. The full documentation of primitives can be found in [Featurelabs] or [API reference].\n",
    "\n",
    "During implementation via the function [`dfs()`], we specify a maximum depth to control how many primitives can be stacked.\n",
    "\n",
    "[Primitives]: https://featuretools.alteryx.com/en/stable/getting_started/primitives.html\n",
    "[Featurelabs]: https://primitives.featurelabs.com/\n",
    "[API reference]: https://featuretools.alteryx.com/en/stable/api_reference.html#feature-primitives\n",
    "[`dfs()`]: https://featuretools.alteryx.com/en/stable/generated/featuretools.dfs.html"
   ]
  },
  {
   "cell_type": "code",
   "execution_count": 16,
   "metadata": {},
   "outputs": [
    {
     "data": {
      "text/plain": [
       "135"
      ]
     },
     "execution_count": 16,
     "metadata": {},
     "output_type": "execute_result"
    }
   ],
   "source": [
    "dfRich, definitions = ft.dfs(\n",
    "    entityset=es,\n",
    "    target_dataframe_name='dfCustomer',\n",
    "    trans_primitives=['hour', 'cum_mean'],\n",
    "    agg_primitives=['sum', 'mean', 'count', 'std'],\n",
    "    max_depth=4,\n",
    "    ignore_columns = {'dfTransaction': ['session_id','customer_id','zip_code']}\n",
    ")\n",
    "\n",
    "definitions | p(len)"
   ]
  },
  {
   "cell_type": "code",
   "execution_count": 11,
   "metadata": {},
   "outputs": [
    {
     "data": {
      "text/plain": [
       "<Feature: SUM(dfSession.STD(dfTransaction.dfProduct.COUNT(dfTransaction)))>"
      ]
     },
     "execution_count": 11,
     "metadata": {},
     "output_type": "execute_result"
    }
   ],
   "source": [
    "definitions[100]"
   ]
  },
  {
   "cell_type": "code",
   "execution_count": 10,
   "metadata": {},
   "outputs": [
    {
     "data": {
      "text/plain": [
       "'The sum of the standard deviation of the number of all instances of \"dfTransaction\" for each \"product_id\" in \"dfProduct\" for the instance of \"dfProduct\" associated with this instance of \"dfTransaction\" of all instances of \"dfTransaction\" for each \"session_id\" in \"dfSession\" of all instances of \"dfSession\" for each \"customer_id\" in \"dfCustomer\".'"
      ]
     },
     "execution_count": 10,
     "metadata": {},
     "output_type": "execute_result"
    }
   ],
   "source": [
    "ft.describe_feature(definitions[100])"
   ]
  },
  {
   "cell_type": "markdown",
   "metadata": {},
   "source": [
    "## 3. Pipeline\n",
    "A data science project has multiple steps of getting data, cleaning, transforming, modeling and evalutating. To make the complicated process to become easier, Scikit-learn provides the [pipeline](https://scikit-learn.org/stable/modules/compose.html) module. The purpose of the pipeline is to assemble several steps sequentially and can be reused for different datasets in the future."
   ]
  },
  {
   "cell_type": "markdown",
   "metadata": {},
   "source": [
    "### 3.1. Data preprocessing"
   ]
  },
  {
   "cell_type": "code",
   "execution_count": 1,
   "metadata": {
    "execution": {
     "iopub.execute_input": "2022-08-17T17:30:40.036304Z",
     "iopub.status.busy": "2022-08-17T17:30:40.035788Z",
     "iopub.status.idle": "2022-08-17T17:30:41.693661Z",
     "shell.execute_reply": "2022-08-17T17:30:41.692950Z",
     "shell.execute_reply.started": "2022-08-17T17:30:40.036231Z"
    },
    "tags": [
     "remove-cell"
    ]
   },
   "outputs": [],
   "source": [
    "import numpy as np\n",
    "import pandas as pd\n",
    "from scipy import stats\n",
    "np.set_printoptions(precision=4, suppress=True)\n",
    "\n",
    "from sklearn.model_selection import train_test_split, GridSearchCV \n",
    "from sklearn.impute import SimpleImputer, KNNImputer\n",
    "from sklearn.compose import ColumnTransformer\n",
    "from sklearn.pipeline import Pipeline, make_pipeline\n",
    "from sklearn.preprocessing import StandardScaler, MinMaxScaler, FunctionTransformer, OneHotEncoder, OrdinalEncoder\n",
    "from sklearn.tree import DecisionTreeClassifier"
   ]
  },
  {
   "cell_type": "code",
   "execution_count": 2,
   "metadata": {
    "execution": {
     "iopub.execute_input": "2022-08-17T17:30:41.695259Z",
     "iopub.status.busy": "2022-08-17T17:30:41.694909Z",
     "iopub.status.idle": "2022-08-17T17:30:41.706134Z",
     "shell.execute_reply": "2022-08-17T17:30:41.705366Z",
     "shell.execute_reply.started": "2022-08-17T17:30:41.695235Z"
    },
    "tags": []
   },
   "outputs": [],
   "source": [
    "dfTitanic = pd.read_csv('../data/titanic_train.csv')\n",
    "\n",
    "x = dfTitanic.drop(columns='Survived')\n",
    "y = dfTitanic.Survived\n",
    "\n",
    "xTrain, xTest, yTrain, yTest = train_test_split(x, y, test_size=0.2, random_state=7)"
   ]
  },
  {
   "cell_type": "code",
   "execution_count": 3,
   "metadata": {
    "execution": {
     "iopub.execute_input": "2022-08-17T17:30:41.708422Z",
     "iopub.status.busy": "2022-08-17T17:30:41.707886Z",
     "iopub.status.idle": "2022-08-17T17:30:41.737498Z",
     "shell.execute_reply": "2022-08-17T17:30:41.736116Z",
     "shell.execute_reply.started": "2022-08-17T17:30:41.708373Z"
    },
    "tags": []
   },
   "outputs": [
    {
     "data": {
      "text/html": [
       "<div>\n",
       "<style scoped>\n",
       "    .dataframe tbody tr th:only-of-type {\n",
       "        vertical-align: middle;\n",
       "    }\n",
       "\n",
       "    .dataframe tbody tr th {\n",
       "        vertical-align: top;\n",
       "    }\n",
       "\n",
       "    .dataframe thead th {\n",
       "        text-align: right;\n",
       "    }\n",
       "</style>\n",
       "<table border=\"1\" class=\"dataframe\">\n",
       "  <thead>\n",
       "    <tr style=\"text-align: right;\">\n",
       "      <th></th>\n",
       "      <th>PassengerId</th>\n",
       "      <th>Pclass</th>\n",
       "      <th>Name</th>\n",
       "      <th>Sex</th>\n",
       "      <th>Age</th>\n",
       "      <th>SibSp</th>\n",
       "      <th>Parch</th>\n",
       "      <th>Ticket</th>\n",
       "      <th>Fare</th>\n",
       "      <th>Cabin</th>\n",
       "      <th>Embarked</th>\n",
       "    </tr>\n",
       "  </thead>\n",
       "  <tbody>\n",
       "    <tr>\n",
       "      <th>205</th>\n",
       "      <td>206</td>\n",
       "      <td>3</td>\n",
       "      <td>Strom, Miss. Telma Matilda</td>\n",
       "      <td>female</td>\n",
       "      <td>2.0</td>\n",
       "      <td>0</td>\n",
       "      <td>1</td>\n",
       "      <td>347054</td>\n",
       "      <td>10.4625</td>\n",
       "      <td>G6</td>\n",
       "      <td>S</td>\n",
       "    </tr>\n",
       "    <tr>\n",
       "      <th>718</th>\n",
       "      <td>719</td>\n",
       "      <td>3</td>\n",
       "      <td>McEvoy, Mr. Michael</td>\n",
       "      <td>male</td>\n",
       "      <td>NaN</td>\n",
       "      <td>0</td>\n",
       "      <td>0</td>\n",
       "      <td>36568</td>\n",
       "      <td>15.5000</td>\n",
       "      <td>NaN</td>\n",
       "      <td>Q</td>\n",
       "    </tr>\n",
       "    <tr>\n",
       "      <th>835</th>\n",
       "      <td>836</td>\n",
       "      <td>1</td>\n",
       "      <td>Compton, Miss. Sara Rebecca</td>\n",
       "      <td>female</td>\n",
       "      <td>39.0</td>\n",
       "      <td>1</td>\n",
       "      <td>1</td>\n",
       "      <td>PC 17756</td>\n",
       "      <td>83.1583</td>\n",
       "      <td>E49</td>\n",
       "      <td>C</td>\n",
       "    </tr>\n",
       "    <tr>\n",
       "      <th>851</th>\n",
       "      <td>852</td>\n",
       "      <td>3</td>\n",
       "      <td>Svensson, Mr. Johan</td>\n",
       "      <td>male</td>\n",
       "      <td>74.0</td>\n",
       "      <td>0</td>\n",
       "      <td>0</td>\n",
       "      <td>347060</td>\n",
       "      <td>7.7750</td>\n",
       "      <td>NaN</td>\n",
       "      <td>S</td>\n",
       "    </tr>\n",
       "    <tr>\n",
       "      <th>773</th>\n",
       "      <td>774</td>\n",
       "      <td>3</td>\n",
       "      <td>Elias, Mr. Dibo</td>\n",
       "      <td>male</td>\n",
       "      <td>NaN</td>\n",
       "      <td>0</td>\n",
       "      <td>0</td>\n",
       "      <td>2674</td>\n",
       "      <td>7.2250</td>\n",
       "      <td>NaN</td>\n",
       "      <td>C</td>\n",
       "    </tr>\n",
       "  </tbody>\n",
       "</table>\n",
       "</div>"
      ],
      "text/plain": [
       "     PassengerId  Pclass                         Name     Sex   Age  SibSp  \\\n",
       "205          206       3   Strom, Miss. Telma Matilda  female   2.0      0   \n",
       "718          719       3          McEvoy, Mr. Michael    male   NaN      0   \n",
       "835          836       1  Compton, Miss. Sara Rebecca  female  39.0      1   \n",
       "851          852       3          Svensson, Mr. Johan    male  74.0      0   \n",
       "773          774       3              Elias, Mr. Dibo    male   NaN      0   \n",
       "\n",
       "     Parch    Ticket     Fare Cabin Embarked  \n",
       "205      1    347054  10.4625    G6        S  \n",
       "718      0     36568  15.5000   NaN        Q  \n",
       "835      1  PC 17756  83.1583   E49        C  \n",
       "851      0    347060   7.7750   NaN        S  \n",
       "773      0      2674   7.2250   NaN        C  "
      ]
     },
     "execution_count": 3,
     "metadata": {},
     "output_type": "execute_result"
    }
   ],
   "source": [
    "xTrain.head()"
   ]
  },
  {
   "cell_type": "markdown",
   "metadata": {},
   "source": [
    "#### Simple pipeline\n",
    "A simple preprocesing pipeline applies transformers to all columns. Provided via the class [`Pipeline`], the main component we would care about is the steps, which is constructed using a list of tuples with the signature\n",
    "`(name, transformer)`.\n",
    "\n",
    "[`Pipeline`]: https://scikit-learn.org/stable/modules/generated/sklearn.pipeline.Pipeline.html"
   ]
  },
  {
   "cell_type": "code",
   "execution_count": 4,
   "metadata": {
    "execution": {
     "iopub.execute_input": "2022-08-17T17:30:41.740002Z",
     "iopub.status.busy": "2022-08-17T17:30:41.739599Z",
     "iopub.status.idle": "2022-08-17T17:30:41.750605Z",
     "shell.execute_reply": "2022-08-17T17:30:41.749899Z",
     "shell.execute_reply.started": "2022-08-17T17:30:41.739975Z"
    }
   },
   "outputs": [
    {
     "data": {
      "text/plain": [
       "array([[-2.1265, -0.431 ],\n",
       "       [-0.    , -0.3352],\n",
       "       [ 0.7519,  0.951 ],\n",
       "       ...,\n",
       "       [ 0.0518,  1.3934],\n",
       "       [-0.    , -0.4826],\n",
       "       [-0.8818, -0.4806]])"
      ]
     },
     "execution_count": 4,
     "metadata": {},
     "output_type": "execute_result"
    }
   ],
   "source": [
    "trans = Pipeline([\n",
    "    ('Impute', SimpleImputer(strategy='mean')),\n",
    "    ('Scale', StandardScaler()),\n",
    "])\n",
    "\n",
    "trans.fit_transform(xTrain[['Age', 'Fare']])"
   ]
  },
  {
   "cell_type": "markdown",
   "metadata": {},
   "source": [
    "#### Column transformer\n",
    "The problem arises when we would probably want to apply diffrent pipelines to different subsets of features such as categorical and numerical. To tackle this, Scikit-learn provides the class [`ColumnTransformer`] which accepts a list of tuples with the signature `(name, transformer, columns)`.\n",
    "\n",
    "We can use any Scikit-learn's transformer stand alone as well as a pipeline. To specify columns, the best practice is using column names, but the class also accepts column indices. Also note that if a feature appears in different steps, only the first step takes effect.\n",
    "\n",
    "[`ColumnTransformer`]: https://scikit-learn.org/stable/modules/generated/sklearn.compose.ColumnTransformer.html"
   ]
  },
  {
   "cell_type": "code",
   "execution_count": 5,
   "metadata": {
    "execution": {
     "iopub.execute_input": "2022-08-17T17:30:41.751927Z",
     "iopub.status.busy": "2022-08-17T17:30:41.751654Z",
     "iopub.status.idle": "2022-08-17T17:30:41.758227Z",
     "shell.execute_reply": "2022-08-17T17:30:41.757456Z",
     "shell.execute_reply.started": "2022-08-17T17:30:41.751904Z"
    },
    "tags": [
     "hide-cell"
    ]
   },
   "outputs": [],
   "source": [
    "name1 = 'Categorical1'\n",
    "cols1 = ['Ticket', 'Cabin']\n",
    "trans1 = Pipeline([\n",
    "    ('Impute', SimpleImputer(strategy='constant')),\n",
    "    ('Encode', OrdinalEncoder(handle_unknown='use_encoded_value', unknown_value=-1))\n",
    "])\n",
    "\n",
    "name2 = 'Categorical2'\n",
    "cols2 = ['Sex', 'Embarked']\n",
    "trans2 = OneHotEncoder(handle_unknown='ignore')\n",
    "\n",
    "name3 = 'Numerical'\n",
    "cols3 = ['Age', 'Fare']\n",
    "trans3 = Pipeline([\n",
    "    ('Impute', KNNImputer(n_neighbors=5)),\n",
    "    ('Scale', StandardScaler()),\n",
    "    ('Transform', FunctionTransformer(lambda x: np.exp(x)))\n",
    "])\n",
    "\n",
    "name4 = 'Integer'\n",
    "cols4 = ['Pclass', 'SibSp', 'Parch']\n",
    "trans4 = 'passthrough'\n",
    "\n",
    "name5 = 'Unique'\n",
    "cols5 = ['PassengerId', 'Name']\n",
    "trans5 = 'drop'"
   ]
  },
  {
   "cell_type": "code",
   "execution_count": 6,
   "metadata": {
    "execution": {
     "iopub.execute_input": "2022-08-17T17:30:41.759846Z",
     "iopub.status.busy": "2022-08-17T17:30:41.759546Z",
     "iopub.status.idle": "2022-08-17T17:30:41.832283Z",
     "shell.execute_reply": "2022-08-17T17:30:41.831163Z",
     "shell.execute_reply.started": "2022-08-17T17:30:41.759822Z"
    }
   },
   "outputs": [
    {
     "data": {
      "text/html": [
       "<style>#sk-container-id-1 {color: black;background-color: white;}#sk-container-id-1 pre{padding: 0;}#sk-container-id-1 div.sk-toggleable {background-color: white;}#sk-container-id-1 label.sk-toggleable__label {cursor: pointer;display: block;width: 100%;margin-bottom: 0;padding: 0.3em;box-sizing: border-box;text-align: center;}#sk-container-id-1 label.sk-toggleable__label-arrow:before {content: \"▸\";float: left;margin-right: 0.25em;color: #696969;}#sk-container-id-1 label.sk-toggleable__label-arrow:hover:before {color: black;}#sk-container-id-1 div.sk-estimator:hover label.sk-toggleable__label-arrow:before {color: black;}#sk-container-id-1 div.sk-toggleable__content {max-height: 0;max-width: 0;overflow: hidden;text-align: left;background-color: #f0f8ff;}#sk-container-id-1 div.sk-toggleable__content pre {margin: 0.2em;color: black;border-radius: 0.25em;background-color: #f0f8ff;}#sk-container-id-1 input.sk-toggleable__control:checked~div.sk-toggleable__content {max-height: 200px;max-width: 100%;overflow: auto;}#sk-container-id-1 input.sk-toggleable__control:checked~label.sk-toggleable__label-arrow:before {content: \"▾\";}#sk-container-id-1 div.sk-estimator input.sk-toggleable__control:checked~label.sk-toggleable__label {background-color: #d4ebff;}#sk-container-id-1 div.sk-label input.sk-toggleable__control:checked~label.sk-toggleable__label {background-color: #d4ebff;}#sk-container-id-1 input.sk-hidden--visually {border: 0;clip: rect(1px 1px 1px 1px);clip: rect(1px, 1px, 1px, 1px);height: 1px;margin: -1px;overflow: hidden;padding: 0;position: absolute;width: 1px;}#sk-container-id-1 div.sk-estimator {font-family: monospace;background-color: #f0f8ff;border: 1px dotted black;border-radius: 0.25em;box-sizing: border-box;margin-bottom: 0.5em;}#sk-container-id-1 div.sk-estimator:hover {background-color: #d4ebff;}#sk-container-id-1 div.sk-parallel-item::after {content: \"\";width: 100%;border-bottom: 1px solid gray;flex-grow: 1;}#sk-container-id-1 div.sk-label:hover label.sk-toggleable__label {background-color: #d4ebff;}#sk-container-id-1 div.sk-serial::before {content: \"\";position: absolute;border-left: 1px solid gray;box-sizing: border-box;top: 0;bottom: 0;left: 50%;z-index: 0;}#sk-container-id-1 div.sk-serial {display: flex;flex-direction: column;align-items: center;background-color: white;padding-right: 0.2em;padding-left: 0.2em;position: relative;}#sk-container-id-1 div.sk-item {position: relative;z-index: 1;}#sk-container-id-1 div.sk-parallel {display: flex;align-items: stretch;justify-content: center;background-color: white;position: relative;}#sk-container-id-1 div.sk-item::before, #sk-container-id-1 div.sk-parallel-item::before {content: \"\";position: absolute;border-left: 1px solid gray;box-sizing: border-box;top: 0;bottom: 0;left: 50%;z-index: -1;}#sk-container-id-1 div.sk-parallel-item {display: flex;flex-direction: column;z-index: 1;position: relative;background-color: white;}#sk-container-id-1 div.sk-parallel-item:first-child::after {align-self: flex-end;width: 50%;}#sk-container-id-1 div.sk-parallel-item:last-child::after {align-self: flex-start;width: 50%;}#sk-container-id-1 div.sk-parallel-item:only-child::after {width: 0;}#sk-container-id-1 div.sk-dashed-wrapped {border: 1px dashed gray;margin: 0 0.4em 0.5em 0.4em;box-sizing: border-box;padding-bottom: 0.4em;background-color: white;}#sk-container-id-1 div.sk-label label {font-family: monospace;font-weight: bold;display: inline-block;line-height: 1.2em;}#sk-container-id-1 div.sk-label-container {text-align: center;}#sk-container-id-1 div.sk-container {/* jupyter's `normalize.less` sets `[hidden] { display: none; }` but bootstrap.min.css set `[hidden] { display: none !important; }` so we also need the `!important` here to be able to override the default hidden behavior on the sphinx rendered scikit-learn.org. See: https://github.com/scikit-learn/scikit-learn/issues/21755 */display: inline-block !important;position: relative;}#sk-container-id-1 div.sk-text-repr-fallback {display: none;}</style><div id=\"sk-container-id-1\" class=\"sk-top-container\"><div class=\"sk-text-repr-fallback\"><pre>ColumnTransformer(transformers=[(&#x27;Categorical1&#x27;,\n",
       "                                 Pipeline(steps=[(&#x27;Impute&#x27;,\n",
       "                                                  SimpleImputer(strategy=&#x27;constant&#x27;)),\n",
       "                                                 (&#x27;Encode&#x27;,\n",
       "                                                  OrdinalEncoder(handle_unknown=&#x27;use_encoded_value&#x27;,\n",
       "                                                                 unknown_value=-1))]),\n",
       "                                 [&#x27;Ticket&#x27;, &#x27;Cabin&#x27;]),\n",
       "                                (&#x27;Categorical2&#x27;,\n",
       "                                 OneHotEncoder(handle_unknown=&#x27;ignore&#x27;),\n",
       "                                 [&#x27;Sex&#x27;, &#x27;Embarked&#x27;]),\n",
       "                                (&#x27;Numerical&#x27;,\n",
       "                                 Pipeline(steps=[(&#x27;Impute&#x27;, KNNImputer()),\n",
       "                                                 (&#x27;Scale&#x27;, StandardScaler()),\n",
       "                                                 (&#x27;Transform&#x27;,\n",
       "                                                  FunctionTransformer(func=&lt;function &lt;lambda&gt; at 0x7fd2ee59ed30&gt;))]),\n",
       "                                 [&#x27;Age&#x27;, &#x27;Fare&#x27;]),\n",
       "                                (&#x27;Integer&#x27;, &#x27;passthrough&#x27;,\n",
       "                                 [&#x27;Pclass&#x27;, &#x27;SibSp&#x27;, &#x27;Parch&#x27;]),\n",
       "                                (&#x27;Unique&#x27;, &#x27;drop&#x27;, [&#x27;PassengerId&#x27;, &#x27;Name&#x27;])])</pre><b>In a Jupyter environment, please rerun this cell to show the HTML representation or trust the notebook. <br />On GitHub, the HTML representation is unable to render, please try loading this page with nbviewer.org.</b></div><div class=\"sk-container\" hidden><div class=\"sk-item sk-dashed-wrapped\"><div class=\"sk-label-container\"><div class=\"sk-label sk-toggleable\"><input class=\"sk-toggleable__control sk-hidden--visually\" id=\"sk-estimator-id-1\" type=\"checkbox\" ><label for=\"sk-estimator-id-1\" class=\"sk-toggleable__label sk-toggleable__label-arrow\">ColumnTransformer</label><div class=\"sk-toggleable__content\"><pre>ColumnTransformer(transformers=[(&#x27;Categorical1&#x27;,\n",
       "                                 Pipeline(steps=[(&#x27;Impute&#x27;,\n",
       "                                                  SimpleImputer(strategy=&#x27;constant&#x27;)),\n",
       "                                                 (&#x27;Encode&#x27;,\n",
       "                                                  OrdinalEncoder(handle_unknown=&#x27;use_encoded_value&#x27;,\n",
       "                                                                 unknown_value=-1))]),\n",
       "                                 [&#x27;Ticket&#x27;, &#x27;Cabin&#x27;]),\n",
       "                                (&#x27;Categorical2&#x27;,\n",
       "                                 OneHotEncoder(handle_unknown=&#x27;ignore&#x27;),\n",
       "                                 [&#x27;Sex&#x27;, &#x27;Embarked&#x27;]),\n",
       "                                (&#x27;Numerical&#x27;,\n",
       "                                 Pipeline(steps=[(&#x27;Impute&#x27;, KNNImputer()),\n",
       "                                                 (&#x27;Scale&#x27;, StandardScaler()),\n",
       "                                                 (&#x27;Transform&#x27;,\n",
       "                                                  FunctionTransformer(func=&lt;function &lt;lambda&gt; at 0x7fd2ee59ed30&gt;))]),\n",
       "                                 [&#x27;Age&#x27;, &#x27;Fare&#x27;]),\n",
       "                                (&#x27;Integer&#x27;, &#x27;passthrough&#x27;,\n",
       "                                 [&#x27;Pclass&#x27;, &#x27;SibSp&#x27;, &#x27;Parch&#x27;]),\n",
       "                                (&#x27;Unique&#x27;, &#x27;drop&#x27;, [&#x27;PassengerId&#x27;, &#x27;Name&#x27;])])</pre></div></div></div><div class=\"sk-parallel\"><div class=\"sk-parallel-item\"><div class=\"sk-item\"><div class=\"sk-label-container\"><div class=\"sk-label sk-toggleable\"><input class=\"sk-toggleable__control sk-hidden--visually\" id=\"sk-estimator-id-2\" type=\"checkbox\" ><label for=\"sk-estimator-id-2\" class=\"sk-toggleable__label sk-toggleable__label-arrow\">Categorical1</label><div class=\"sk-toggleable__content\"><pre>[&#x27;Ticket&#x27;, &#x27;Cabin&#x27;]</pre></div></div></div><div class=\"sk-serial\"><div class=\"sk-item\"><div class=\"sk-serial\"><div class=\"sk-item\"><div class=\"sk-estimator sk-toggleable\"><input class=\"sk-toggleable__control sk-hidden--visually\" id=\"sk-estimator-id-3\" type=\"checkbox\" ><label for=\"sk-estimator-id-3\" class=\"sk-toggleable__label sk-toggleable__label-arrow\">SimpleImputer</label><div class=\"sk-toggleable__content\"><pre>SimpleImputer(strategy=&#x27;constant&#x27;)</pre></div></div></div><div class=\"sk-item\"><div class=\"sk-estimator sk-toggleable\"><input class=\"sk-toggleable__control sk-hidden--visually\" id=\"sk-estimator-id-4\" type=\"checkbox\" ><label for=\"sk-estimator-id-4\" class=\"sk-toggleable__label sk-toggleable__label-arrow\">OrdinalEncoder</label><div class=\"sk-toggleable__content\"><pre>OrdinalEncoder(handle_unknown=&#x27;use_encoded_value&#x27;, unknown_value=-1)</pre></div></div></div></div></div></div></div></div><div class=\"sk-parallel-item\"><div class=\"sk-item\"><div class=\"sk-label-container\"><div class=\"sk-label sk-toggleable\"><input class=\"sk-toggleable__control sk-hidden--visually\" id=\"sk-estimator-id-5\" type=\"checkbox\" ><label for=\"sk-estimator-id-5\" class=\"sk-toggleable__label sk-toggleable__label-arrow\">Categorical2</label><div class=\"sk-toggleable__content\"><pre>[&#x27;Sex&#x27;, &#x27;Embarked&#x27;]</pre></div></div></div><div class=\"sk-serial\"><div class=\"sk-item\"><div class=\"sk-estimator sk-toggleable\"><input class=\"sk-toggleable__control sk-hidden--visually\" id=\"sk-estimator-id-6\" type=\"checkbox\" ><label for=\"sk-estimator-id-6\" class=\"sk-toggleable__label sk-toggleable__label-arrow\">OneHotEncoder</label><div class=\"sk-toggleable__content\"><pre>OneHotEncoder(handle_unknown=&#x27;ignore&#x27;)</pre></div></div></div></div></div></div><div class=\"sk-parallel-item\"><div class=\"sk-item\"><div class=\"sk-label-container\"><div class=\"sk-label sk-toggleable\"><input class=\"sk-toggleable__control sk-hidden--visually\" id=\"sk-estimator-id-7\" type=\"checkbox\" ><label for=\"sk-estimator-id-7\" class=\"sk-toggleable__label sk-toggleable__label-arrow\">Numerical</label><div class=\"sk-toggleable__content\"><pre>[&#x27;Age&#x27;, &#x27;Fare&#x27;]</pre></div></div></div><div class=\"sk-serial\"><div class=\"sk-item\"><div class=\"sk-serial\"><div class=\"sk-item\"><div class=\"sk-estimator sk-toggleable\"><input class=\"sk-toggleable__control sk-hidden--visually\" id=\"sk-estimator-id-8\" type=\"checkbox\" ><label for=\"sk-estimator-id-8\" class=\"sk-toggleable__label sk-toggleable__label-arrow\">KNNImputer</label><div class=\"sk-toggleable__content\"><pre>KNNImputer()</pre></div></div></div><div class=\"sk-item\"><div class=\"sk-estimator sk-toggleable\"><input class=\"sk-toggleable__control sk-hidden--visually\" id=\"sk-estimator-id-9\" type=\"checkbox\" ><label for=\"sk-estimator-id-9\" class=\"sk-toggleable__label sk-toggleable__label-arrow\">StandardScaler</label><div class=\"sk-toggleable__content\"><pre>StandardScaler()</pre></div></div></div><div class=\"sk-item\"><div class=\"sk-estimator sk-toggleable\"><input class=\"sk-toggleable__control sk-hidden--visually\" id=\"sk-estimator-id-10\" type=\"checkbox\" ><label for=\"sk-estimator-id-10\" class=\"sk-toggleable__label sk-toggleable__label-arrow\">FunctionTransformer</label><div class=\"sk-toggleable__content\"><pre>FunctionTransformer(func=&lt;function &lt;lambda&gt; at 0x7fd2ee59ed30&gt;)</pre></div></div></div></div></div></div></div></div><div class=\"sk-parallel-item\"><div class=\"sk-item\"><div class=\"sk-label-container\"><div class=\"sk-label sk-toggleable\"><input class=\"sk-toggleable__control sk-hidden--visually\" id=\"sk-estimator-id-11\" type=\"checkbox\" ><label for=\"sk-estimator-id-11\" class=\"sk-toggleable__label sk-toggleable__label-arrow\">Integer</label><div class=\"sk-toggleable__content\"><pre>[&#x27;Pclass&#x27;, &#x27;SibSp&#x27;, &#x27;Parch&#x27;]</pre></div></div></div><div class=\"sk-serial\"><div class=\"sk-item\"><div class=\"sk-estimator sk-toggleable\"><input class=\"sk-toggleable__control sk-hidden--visually\" id=\"sk-estimator-id-12\" type=\"checkbox\" ><label for=\"sk-estimator-id-12\" class=\"sk-toggleable__label sk-toggleable__label-arrow\">passthrough</label><div class=\"sk-toggleable__content\"><pre>passthrough</pre></div></div></div></div></div></div><div class=\"sk-parallel-item\"><div class=\"sk-item\"><div class=\"sk-label-container\"><div class=\"sk-label sk-toggleable\"><input class=\"sk-toggleable__control sk-hidden--visually\" id=\"sk-estimator-id-13\" type=\"checkbox\" ><label for=\"sk-estimator-id-13\" class=\"sk-toggleable__label sk-toggleable__label-arrow\">Unique</label><div class=\"sk-toggleable__content\"><pre>[&#x27;PassengerId&#x27;, &#x27;Name&#x27;]</pre></div></div></div><div class=\"sk-serial\"><div class=\"sk-item\"><div class=\"sk-estimator sk-toggleable\"><input class=\"sk-toggleable__control sk-hidden--visually\" id=\"sk-estimator-id-14\" type=\"checkbox\" ><label for=\"sk-estimator-id-14\" class=\"sk-toggleable__label sk-toggleable__label-arrow\">drop</label><div class=\"sk-toggleable__content\"><pre>drop</pre></div></div></div></div></div></div></div></div></div></div>"
      ],
      "text/plain": [
       "ColumnTransformer(transformers=[('Categorical1',\n",
       "                                 Pipeline(steps=[('Impute',\n",
       "                                                  SimpleImputer(strategy='constant')),\n",
       "                                                 ('Encode',\n",
       "                                                  OrdinalEncoder(handle_unknown='use_encoded_value',\n",
       "                                                                 unknown_value=-1))]),\n",
       "                                 ['Ticket', 'Cabin']),\n",
       "                                ('Categorical2',\n",
       "                                 OneHotEncoder(handle_unknown='ignore'),\n",
       "                                 ['Sex', 'Embarked']),\n",
       "                                ('Numerical',\n",
       "                                 Pipeline(steps=[('Impute', KNNImputer()),\n",
       "                                                 ('Scale', StandardScaler()),\n",
       "                                                 ('Transform',\n",
       "                                                  FunctionTransformer(func=<function <lambda> at 0x7fd2ee59ed30>))]),\n",
       "                                 ['Age', 'Fare']),\n",
       "                                ('Integer', 'passthrough',\n",
       "                                 ['Pclass', 'SibSp', 'Parch']),\n",
       "                                ('Unique', 'drop', ['PassengerId', 'Name'])])"
      ]
     },
     "execution_count": 6,
     "metadata": {},
     "output_type": "execute_result"
    }
   ],
   "source": [
    "trans = ColumnTransformer([\n",
    "    (name1, trans1, cols1),\n",
    "    (name2, trans2, cols2),\n",
    "    (name3, trans3, cols3),\n",
    "    (name4, trans4, cols4),\n",
    "    (name5, trans5, cols5),\n",
    "])\n",
    "\n",
    "trans.fit(xTrain)\n",
    "trans"
   ]
  },
  {
   "cell_type": "code",
   "execution_count": 7,
   "metadata": {
    "execution": {
     "iopub.execute_input": "2022-08-17T17:30:41.833815Z",
     "iopub.status.busy": "2022-08-17T17:30:41.833548Z",
     "iopub.status.idle": "2022-08-17T17:30:41.852498Z",
     "shell.execute_reply": "2022-08-17T17:30:41.851695Z",
     "shell.execute_reply.started": "2022-08-17T17:30:41.833793Z"
    }
   },
   "outputs": [
    {
     "data": {
      "text/plain": [
       "array([[ -1., 126.,   0., ...,   3.,   0.,   0.],\n",
       "       [ -1., 126.,   0., ...,   2.,   1.,   0.],\n",
       "       [ -1., 126.,   0., ...,   3.,   0.,   0.],\n",
       "       ...,\n",
       "       [ -1., 126.,   0., ...,   3.,   0.,   0.],\n",
       "       [ -1., 126.,   0., ...,   3.,   0.,   0.],\n",
       "       [475., 126.,   1., ...,   2.,   1.,   0.]])"
      ]
     },
     "execution_count": 7,
     "metadata": {},
     "output_type": "execute_result"
    }
   ],
   "source": [
    "trans.transform(xTest)"
   ]
  },
  {
   "cell_type": "markdown",
   "metadata": {},
   "source": [
    "### 3.2. Modeling\n",
    "A `Pipeline` is very useful for data preprocessing, but it can also be used for modeling."
   ]
  },
  {
   "cell_type": "code",
   "execution_count": 8,
   "metadata": {
    "execution": {
     "iopub.execute_input": "2022-08-17T17:30:41.855337Z",
     "iopub.status.busy": "2022-08-17T17:30:41.854958Z",
     "iopub.status.idle": "2022-08-17T17:30:45.836867Z",
     "shell.execute_reply": "2022-08-17T17:30:45.836268Z",
     "shell.execute_reply.started": "2022-08-17T17:30:41.855312Z"
    },
    "tags": [
     "remove-cell"
    ]
   },
   "outputs": [],
   "source": [
    "import datetime as dt\n",
    "import numpy as np\n",
    "import pandas as pd\n",
    "from scipy import stats\n",
    "np.set_printoptions(precision=4, suppress=True)\n",
    "\n",
    "from sklearn.model_selection import train_test_split, GridSearchCV \n",
    "from sklearn.impute import SimpleImputer, KNNImputer\n",
    "from sklearn.compose import ColumnTransformer\n",
    "from sklearn.pipeline import Pipeline, make_pipeline\n",
    "from sklearn.preprocessing import StandardScaler, MinMaxScaler, FunctionTransformer, OneHotEncoder, OrdinalEncoder\n",
    "from sklearn.base import BaseEstimator\n",
    "from sklearn.tree import DecisionTreeClassifier\n",
    "from sklearn.ensemble import RandomForestClassifier, HistGradientBoostingClassifier\n",
    "from sklearn.metrics import roc_auc_score as AUC"
   ]
  },
  {
   "cell_type": "code",
   "execution_count": 9,
   "metadata": {
    "execution": {
     "iopub.execute_input": "2022-08-17T17:30:45.838937Z",
     "iopub.status.busy": "2022-08-17T17:30:45.838517Z",
     "iopub.status.idle": "2022-08-17T17:30:45.850157Z",
     "shell.execute_reply": "2022-08-17T17:30:45.849224Z",
     "shell.execute_reply.started": "2022-08-17T17:30:45.838903Z"
    },
    "tags": []
   },
   "outputs": [],
   "source": [
    "dfTitanic = pd.read_csv('../data/titanic_train.csv')\n",
    "\n",
    "x = dfTitanic.drop(columns='Survived')\n",
    "y = dfTitanic.Survived\n",
    "\n",
    "xTrain, xTest, yTrain, yTest = train_test_split(x, y, test_size=0.2, random_state=7)"
   ]
  },
  {
   "cell_type": "code",
   "execution_count": 10,
   "metadata": {
    "execution": {
     "iopub.execute_input": "2022-08-17T17:30:45.852467Z",
     "iopub.status.busy": "2022-08-17T17:30:45.851974Z",
     "iopub.status.idle": "2022-08-17T17:30:45.869665Z",
     "shell.execute_reply": "2022-08-17T17:30:45.868562Z",
     "shell.execute_reply.started": "2022-08-17T17:30:45.852426Z"
    },
    "tags": []
   },
   "outputs": [
    {
     "data": {
      "text/html": [
       "<div>\n",
       "<style scoped>\n",
       "    .dataframe tbody tr th:only-of-type {\n",
       "        vertical-align: middle;\n",
       "    }\n",
       "\n",
       "    .dataframe tbody tr th {\n",
       "        vertical-align: top;\n",
       "    }\n",
       "\n",
       "    .dataframe thead th {\n",
       "        text-align: right;\n",
       "    }\n",
       "</style>\n",
       "<table border=\"1\" class=\"dataframe\">\n",
       "  <thead>\n",
       "    <tr style=\"text-align: right;\">\n",
       "      <th></th>\n",
       "      <th>PassengerId</th>\n",
       "      <th>Pclass</th>\n",
       "      <th>Name</th>\n",
       "      <th>Sex</th>\n",
       "      <th>Age</th>\n",
       "      <th>SibSp</th>\n",
       "      <th>Parch</th>\n",
       "      <th>Ticket</th>\n",
       "      <th>Fare</th>\n",
       "      <th>Cabin</th>\n",
       "      <th>Embarked</th>\n",
       "    </tr>\n",
       "  </thead>\n",
       "  <tbody>\n",
       "    <tr>\n",
       "      <th>205</th>\n",
       "      <td>206</td>\n",
       "      <td>3</td>\n",
       "      <td>Strom, Miss. Telma Matilda</td>\n",
       "      <td>female</td>\n",
       "      <td>2.0</td>\n",
       "      <td>0</td>\n",
       "      <td>1</td>\n",
       "      <td>347054</td>\n",
       "      <td>10.4625</td>\n",
       "      <td>G6</td>\n",
       "      <td>S</td>\n",
       "    </tr>\n",
       "    <tr>\n",
       "      <th>718</th>\n",
       "      <td>719</td>\n",
       "      <td>3</td>\n",
       "      <td>McEvoy, Mr. Michael</td>\n",
       "      <td>male</td>\n",
       "      <td>NaN</td>\n",
       "      <td>0</td>\n",
       "      <td>0</td>\n",
       "      <td>36568</td>\n",
       "      <td>15.5000</td>\n",
       "      <td>NaN</td>\n",
       "      <td>Q</td>\n",
       "    </tr>\n",
       "    <tr>\n",
       "      <th>835</th>\n",
       "      <td>836</td>\n",
       "      <td>1</td>\n",
       "      <td>Compton, Miss. Sara Rebecca</td>\n",
       "      <td>female</td>\n",
       "      <td>39.0</td>\n",
       "      <td>1</td>\n",
       "      <td>1</td>\n",
       "      <td>PC 17756</td>\n",
       "      <td>83.1583</td>\n",
       "      <td>E49</td>\n",
       "      <td>C</td>\n",
       "    </tr>\n",
       "    <tr>\n",
       "      <th>851</th>\n",
       "      <td>852</td>\n",
       "      <td>3</td>\n",
       "      <td>Svensson, Mr. Johan</td>\n",
       "      <td>male</td>\n",
       "      <td>74.0</td>\n",
       "      <td>0</td>\n",
       "      <td>0</td>\n",
       "      <td>347060</td>\n",
       "      <td>7.7750</td>\n",
       "      <td>NaN</td>\n",
       "      <td>S</td>\n",
       "    </tr>\n",
       "    <tr>\n",
       "      <th>773</th>\n",
       "      <td>774</td>\n",
       "      <td>3</td>\n",
       "      <td>Elias, Mr. Dibo</td>\n",
       "      <td>male</td>\n",
       "      <td>NaN</td>\n",
       "      <td>0</td>\n",
       "      <td>0</td>\n",
       "      <td>2674</td>\n",
       "      <td>7.2250</td>\n",
       "      <td>NaN</td>\n",
       "      <td>C</td>\n",
       "    </tr>\n",
       "  </tbody>\n",
       "</table>\n",
       "</div>"
      ],
      "text/plain": [
       "     PassengerId  Pclass                         Name     Sex   Age  SibSp  \\\n",
       "205          206       3   Strom, Miss. Telma Matilda  female   2.0      0   \n",
       "718          719       3          McEvoy, Mr. Michael    male   NaN      0   \n",
       "835          836       1  Compton, Miss. Sara Rebecca  female  39.0      1   \n",
       "851          852       3          Svensson, Mr. Johan    male  74.0      0   \n",
       "773          774       3              Elias, Mr. Dibo    male   NaN      0   \n",
       "\n",
       "     Parch    Ticket     Fare Cabin Embarked  \n",
       "205      1    347054  10.4625    G6        S  \n",
       "718      0     36568  15.5000   NaN        Q  \n",
       "835      1  PC 17756  83.1583   E49        C  \n",
       "851      0    347060   7.7750   NaN        S  \n",
       "773      0      2674   7.2250   NaN        C  "
      ]
     },
     "execution_count": 10,
     "metadata": {},
     "output_type": "execute_result"
    }
   ],
   "source": [
    "xTrain.head()"
   ]
  },
  {
   "cell_type": "code",
   "execution_count": 11,
   "metadata": {
    "execution": {
     "iopub.execute_input": "2022-08-17T17:30:45.871162Z",
     "iopub.status.busy": "2022-08-17T17:30:45.870773Z",
     "iopub.status.idle": "2022-08-17T17:30:45.876537Z",
     "shell.execute_reply": "2022-08-17T17:30:45.875730Z",
     "shell.execute_reply.started": "2022-08-17T17:30:45.871137Z"
    },
    "tags": [
     "hide-cell"
    ]
   },
   "outputs": [],
   "source": [
    "name1 = 'Categorical1'\n",
    "cols1 = ['Ticket', 'Cabin']\n",
    "trans1 = Pipeline([\n",
    "    ('Impute', SimpleImputer(strategy='constant')),\n",
    "    ('Encode', OrdinalEncoder(handle_unknown='use_encoded_value', unknown_value=-1))\n",
    "])\n",
    "\n",
    "name2 = 'Categorical2'\n",
    "cols2 = ['Sex', 'Embarked']\n",
    "trans2 = OneHotEncoder(handle_unknown='ignore')\n",
    "\n",
    "name3 = 'Numerical'\n",
    "cols3 = ['Age', 'Fare']\n",
    "trans3 = Pipeline([\n",
    "    ('Impute', KNNImputer(n_neighbors=5)),\n",
    "    ('Scale', StandardScaler()),\n",
    "])\n",
    "\n",
    "name4 = 'Integer'\n",
    "cols4 = ['Pclass', 'SibSp', 'Parch']\n",
    "trans4 = 'passthrough'\n",
    "\n",
    "name5 = 'Unique'\n",
    "cols5 = ['PassengerId', 'Name']\n",
    "trans5 = 'drop'"
   ]
  },
  {
   "cell_type": "markdown",
   "metadata": {},
   "source": [
    "#### Grid search"
   ]
  },
  {
   "cell_type": "code",
   "execution_count": 12,
   "metadata": {
    "execution": {
     "iopub.execute_input": "2022-08-17T17:30:45.878164Z",
     "iopub.status.busy": "2022-08-17T17:30:45.877871Z",
     "iopub.status.idle": "2022-08-17T17:30:45.941233Z",
     "shell.execute_reply": "2022-08-17T17:30:45.940016Z",
     "shell.execute_reply.started": "2022-08-17T17:30:45.878141Z"
    }
   },
   "outputs": [
    {
     "data": {
      "text/html": [
       "<style>#sk-container-id-2 {color: black;background-color: white;}#sk-container-id-2 pre{padding: 0;}#sk-container-id-2 div.sk-toggleable {background-color: white;}#sk-container-id-2 label.sk-toggleable__label {cursor: pointer;display: block;width: 100%;margin-bottom: 0;padding: 0.3em;box-sizing: border-box;text-align: center;}#sk-container-id-2 label.sk-toggleable__label-arrow:before {content: \"▸\";float: left;margin-right: 0.25em;color: #696969;}#sk-container-id-2 label.sk-toggleable__label-arrow:hover:before {color: black;}#sk-container-id-2 div.sk-estimator:hover label.sk-toggleable__label-arrow:before {color: black;}#sk-container-id-2 div.sk-toggleable__content {max-height: 0;max-width: 0;overflow: hidden;text-align: left;background-color: #f0f8ff;}#sk-container-id-2 div.sk-toggleable__content pre {margin: 0.2em;color: black;border-radius: 0.25em;background-color: #f0f8ff;}#sk-container-id-2 input.sk-toggleable__control:checked~div.sk-toggleable__content {max-height: 200px;max-width: 100%;overflow: auto;}#sk-container-id-2 input.sk-toggleable__control:checked~label.sk-toggleable__label-arrow:before {content: \"▾\";}#sk-container-id-2 div.sk-estimator input.sk-toggleable__control:checked~label.sk-toggleable__label {background-color: #d4ebff;}#sk-container-id-2 div.sk-label input.sk-toggleable__control:checked~label.sk-toggleable__label {background-color: #d4ebff;}#sk-container-id-2 input.sk-hidden--visually {border: 0;clip: rect(1px 1px 1px 1px);clip: rect(1px, 1px, 1px, 1px);height: 1px;margin: -1px;overflow: hidden;padding: 0;position: absolute;width: 1px;}#sk-container-id-2 div.sk-estimator {font-family: monospace;background-color: #f0f8ff;border: 1px dotted black;border-radius: 0.25em;box-sizing: border-box;margin-bottom: 0.5em;}#sk-container-id-2 div.sk-estimator:hover {background-color: #d4ebff;}#sk-container-id-2 div.sk-parallel-item::after {content: \"\";width: 100%;border-bottom: 1px solid gray;flex-grow: 1;}#sk-container-id-2 div.sk-label:hover label.sk-toggleable__label {background-color: #d4ebff;}#sk-container-id-2 div.sk-serial::before {content: \"\";position: absolute;border-left: 1px solid gray;box-sizing: border-box;top: 0;bottom: 0;left: 50%;z-index: 0;}#sk-container-id-2 div.sk-serial {display: flex;flex-direction: column;align-items: center;background-color: white;padding-right: 0.2em;padding-left: 0.2em;position: relative;}#sk-container-id-2 div.sk-item {position: relative;z-index: 1;}#sk-container-id-2 div.sk-parallel {display: flex;align-items: stretch;justify-content: center;background-color: white;position: relative;}#sk-container-id-2 div.sk-item::before, #sk-container-id-2 div.sk-parallel-item::before {content: \"\";position: absolute;border-left: 1px solid gray;box-sizing: border-box;top: 0;bottom: 0;left: 50%;z-index: -1;}#sk-container-id-2 div.sk-parallel-item {display: flex;flex-direction: column;z-index: 1;position: relative;background-color: white;}#sk-container-id-2 div.sk-parallel-item:first-child::after {align-self: flex-end;width: 50%;}#sk-container-id-2 div.sk-parallel-item:last-child::after {align-self: flex-start;width: 50%;}#sk-container-id-2 div.sk-parallel-item:only-child::after {width: 0;}#sk-container-id-2 div.sk-dashed-wrapped {border: 1px dashed gray;margin: 0 0.4em 0.5em 0.4em;box-sizing: border-box;padding-bottom: 0.4em;background-color: white;}#sk-container-id-2 div.sk-label label {font-family: monospace;font-weight: bold;display: inline-block;line-height: 1.2em;}#sk-container-id-2 div.sk-label-container {text-align: center;}#sk-container-id-2 div.sk-container {/* jupyter's `normalize.less` sets `[hidden] { display: none; }` but bootstrap.min.css set `[hidden] { display: none !important; }` so we also need the `!important` here to be able to override the default hidden behavior on the sphinx rendered scikit-learn.org. See: https://github.com/scikit-learn/scikit-learn/issues/21755 */display: inline-block !important;position: relative;}#sk-container-id-2 div.sk-text-repr-fallback {display: none;}</style><div id=\"sk-container-id-2\" class=\"sk-top-container\"><div class=\"sk-text-repr-fallback\"><pre>Pipeline(steps=[(&#x27;Transformer&#x27;,\n",
       "                 ColumnTransformer(transformers=[(&#x27;Categorical1&#x27;,\n",
       "                                                  Pipeline(steps=[(&#x27;Impute&#x27;,\n",
       "                                                                   SimpleImputer(strategy=&#x27;constant&#x27;)),\n",
       "                                                                  (&#x27;Encode&#x27;,\n",
       "                                                                   OrdinalEncoder(handle_unknown=&#x27;use_encoded_value&#x27;,\n",
       "                                                                                  unknown_value=-1))]),\n",
       "                                                  [&#x27;Ticket&#x27;, &#x27;Cabin&#x27;]),\n",
       "                                                 (&#x27;Categorical2&#x27;,\n",
       "                                                  OneHotEncoder(handle_unknown=&#x27;ignore&#x27;),\n",
       "                                                  [&#x27;Sex&#x27;, &#x27;Embarked&#x27;]),\n",
       "                                                 (&#x27;Numerical&#x27;,\n",
       "                                                  Pipeline(steps=[(&#x27;Impute&#x27;,\n",
       "                                                                   KNNImputer()),\n",
       "                                                                  (&#x27;Scale&#x27;,\n",
       "                                                                   StandardScaler())]),\n",
       "                                                  [&#x27;Age&#x27;, &#x27;Fare&#x27;]),\n",
       "                                                 (&#x27;Integer&#x27;, &#x27;passthrough&#x27;,\n",
       "                                                  [&#x27;Pclass&#x27;, &#x27;SibSp&#x27;, &#x27;Parch&#x27;]),\n",
       "                                                 (&#x27;Unique&#x27;, &#x27;drop&#x27;,\n",
       "                                                  [&#x27;PassengerId&#x27;, &#x27;Name&#x27;])])),\n",
       "                (&#x27;ModelRF&#x27;, RandomForestClassifier(random_state=7))])</pre><b>In a Jupyter environment, please rerun this cell to show the HTML representation or trust the notebook. <br />On GitHub, the HTML representation is unable to render, please try loading this page with nbviewer.org.</b></div><div class=\"sk-container\" hidden><div class=\"sk-item sk-dashed-wrapped\"><div class=\"sk-label-container\"><div class=\"sk-label sk-toggleable\"><input class=\"sk-toggleable__control sk-hidden--visually\" id=\"sk-estimator-id-15\" type=\"checkbox\" ><label for=\"sk-estimator-id-15\" class=\"sk-toggleable__label sk-toggleable__label-arrow\">Pipeline</label><div class=\"sk-toggleable__content\"><pre>Pipeline(steps=[(&#x27;Transformer&#x27;,\n",
       "                 ColumnTransformer(transformers=[(&#x27;Categorical1&#x27;,\n",
       "                                                  Pipeline(steps=[(&#x27;Impute&#x27;,\n",
       "                                                                   SimpleImputer(strategy=&#x27;constant&#x27;)),\n",
       "                                                                  (&#x27;Encode&#x27;,\n",
       "                                                                   OrdinalEncoder(handle_unknown=&#x27;use_encoded_value&#x27;,\n",
       "                                                                                  unknown_value=-1))]),\n",
       "                                                  [&#x27;Ticket&#x27;, &#x27;Cabin&#x27;]),\n",
       "                                                 (&#x27;Categorical2&#x27;,\n",
       "                                                  OneHotEncoder(handle_unknown=&#x27;ignore&#x27;),\n",
       "                                                  [&#x27;Sex&#x27;, &#x27;Embarked&#x27;]),\n",
       "                                                 (&#x27;Numerical&#x27;,\n",
       "                                                  Pipeline(steps=[(&#x27;Impute&#x27;,\n",
       "                                                                   KNNImputer()),\n",
       "                                                                  (&#x27;Scale&#x27;,\n",
       "                                                                   StandardScaler())]),\n",
       "                                                  [&#x27;Age&#x27;, &#x27;Fare&#x27;]),\n",
       "                                                 (&#x27;Integer&#x27;, &#x27;passthrough&#x27;,\n",
       "                                                  [&#x27;Pclass&#x27;, &#x27;SibSp&#x27;, &#x27;Parch&#x27;]),\n",
       "                                                 (&#x27;Unique&#x27;, &#x27;drop&#x27;,\n",
       "                                                  [&#x27;PassengerId&#x27;, &#x27;Name&#x27;])])),\n",
       "                (&#x27;ModelRF&#x27;, RandomForestClassifier(random_state=7))])</pre></div></div></div><div class=\"sk-serial\"><div class=\"sk-item sk-dashed-wrapped\"><div class=\"sk-label-container\"><div class=\"sk-label sk-toggleable\"><input class=\"sk-toggleable__control sk-hidden--visually\" id=\"sk-estimator-id-16\" type=\"checkbox\" ><label for=\"sk-estimator-id-16\" class=\"sk-toggleable__label sk-toggleable__label-arrow\">Transformer: ColumnTransformer</label><div class=\"sk-toggleable__content\"><pre>ColumnTransformer(transformers=[(&#x27;Categorical1&#x27;,\n",
       "                                 Pipeline(steps=[(&#x27;Impute&#x27;,\n",
       "                                                  SimpleImputer(strategy=&#x27;constant&#x27;)),\n",
       "                                                 (&#x27;Encode&#x27;,\n",
       "                                                  OrdinalEncoder(handle_unknown=&#x27;use_encoded_value&#x27;,\n",
       "                                                                 unknown_value=-1))]),\n",
       "                                 [&#x27;Ticket&#x27;, &#x27;Cabin&#x27;]),\n",
       "                                (&#x27;Categorical2&#x27;,\n",
       "                                 OneHotEncoder(handle_unknown=&#x27;ignore&#x27;),\n",
       "                                 [&#x27;Sex&#x27;, &#x27;Embarked&#x27;]),\n",
       "                                (&#x27;Numerical&#x27;,\n",
       "                                 Pipeline(steps=[(&#x27;Impute&#x27;, KNNImputer()),\n",
       "                                                 (&#x27;Scale&#x27;, StandardScaler())]),\n",
       "                                 [&#x27;Age&#x27;, &#x27;Fare&#x27;]),\n",
       "                                (&#x27;Integer&#x27;, &#x27;passthrough&#x27;,\n",
       "                                 [&#x27;Pclass&#x27;, &#x27;SibSp&#x27;, &#x27;Parch&#x27;]),\n",
       "                                (&#x27;Unique&#x27;, &#x27;drop&#x27;, [&#x27;PassengerId&#x27;, &#x27;Name&#x27;])])</pre></div></div></div><div class=\"sk-parallel\"><div class=\"sk-parallel-item\"><div class=\"sk-item\"><div class=\"sk-label-container\"><div class=\"sk-label sk-toggleable\"><input class=\"sk-toggleable__control sk-hidden--visually\" id=\"sk-estimator-id-17\" type=\"checkbox\" ><label for=\"sk-estimator-id-17\" class=\"sk-toggleable__label sk-toggleable__label-arrow\">Categorical1</label><div class=\"sk-toggleable__content\"><pre>[&#x27;Ticket&#x27;, &#x27;Cabin&#x27;]</pre></div></div></div><div class=\"sk-serial\"><div class=\"sk-item\"><div class=\"sk-serial\"><div class=\"sk-item\"><div class=\"sk-estimator sk-toggleable\"><input class=\"sk-toggleable__control sk-hidden--visually\" id=\"sk-estimator-id-18\" type=\"checkbox\" ><label for=\"sk-estimator-id-18\" class=\"sk-toggleable__label sk-toggleable__label-arrow\">SimpleImputer</label><div class=\"sk-toggleable__content\"><pre>SimpleImputer(strategy=&#x27;constant&#x27;)</pre></div></div></div><div class=\"sk-item\"><div class=\"sk-estimator sk-toggleable\"><input class=\"sk-toggleable__control sk-hidden--visually\" id=\"sk-estimator-id-19\" type=\"checkbox\" ><label for=\"sk-estimator-id-19\" class=\"sk-toggleable__label sk-toggleable__label-arrow\">OrdinalEncoder</label><div class=\"sk-toggleable__content\"><pre>OrdinalEncoder(handle_unknown=&#x27;use_encoded_value&#x27;, unknown_value=-1)</pre></div></div></div></div></div></div></div></div><div class=\"sk-parallel-item\"><div class=\"sk-item\"><div class=\"sk-label-container\"><div class=\"sk-label sk-toggleable\"><input class=\"sk-toggleable__control sk-hidden--visually\" id=\"sk-estimator-id-20\" type=\"checkbox\" ><label for=\"sk-estimator-id-20\" class=\"sk-toggleable__label sk-toggleable__label-arrow\">Categorical2</label><div class=\"sk-toggleable__content\"><pre>[&#x27;Sex&#x27;, &#x27;Embarked&#x27;]</pre></div></div></div><div class=\"sk-serial\"><div class=\"sk-item\"><div class=\"sk-estimator sk-toggleable\"><input class=\"sk-toggleable__control sk-hidden--visually\" id=\"sk-estimator-id-21\" type=\"checkbox\" ><label for=\"sk-estimator-id-21\" class=\"sk-toggleable__label sk-toggleable__label-arrow\">OneHotEncoder</label><div class=\"sk-toggleable__content\"><pre>OneHotEncoder(handle_unknown=&#x27;ignore&#x27;)</pre></div></div></div></div></div></div><div class=\"sk-parallel-item\"><div class=\"sk-item\"><div class=\"sk-label-container\"><div class=\"sk-label sk-toggleable\"><input class=\"sk-toggleable__control sk-hidden--visually\" id=\"sk-estimator-id-22\" type=\"checkbox\" ><label for=\"sk-estimator-id-22\" class=\"sk-toggleable__label sk-toggleable__label-arrow\">Numerical</label><div class=\"sk-toggleable__content\"><pre>[&#x27;Age&#x27;, &#x27;Fare&#x27;]</pre></div></div></div><div class=\"sk-serial\"><div class=\"sk-item\"><div class=\"sk-serial\"><div class=\"sk-item\"><div class=\"sk-estimator sk-toggleable\"><input class=\"sk-toggleable__control sk-hidden--visually\" id=\"sk-estimator-id-23\" type=\"checkbox\" ><label for=\"sk-estimator-id-23\" class=\"sk-toggleable__label sk-toggleable__label-arrow\">KNNImputer</label><div class=\"sk-toggleable__content\"><pre>KNNImputer()</pre></div></div></div><div class=\"sk-item\"><div class=\"sk-estimator sk-toggleable\"><input class=\"sk-toggleable__control sk-hidden--visually\" id=\"sk-estimator-id-24\" type=\"checkbox\" ><label for=\"sk-estimator-id-24\" class=\"sk-toggleable__label sk-toggleable__label-arrow\">StandardScaler</label><div class=\"sk-toggleable__content\"><pre>StandardScaler()</pre></div></div></div></div></div></div></div></div><div class=\"sk-parallel-item\"><div class=\"sk-item\"><div class=\"sk-label-container\"><div class=\"sk-label sk-toggleable\"><input class=\"sk-toggleable__control sk-hidden--visually\" id=\"sk-estimator-id-25\" type=\"checkbox\" ><label for=\"sk-estimator-id-25\" class=\"sk-toggleable__label sk-toggleable__label-arrow\">Integer</label><div class=\"sk-toggleable__content\"><pre>[&#x27;Pclass&#x27;, &#x27;SibSp&#x27;, &#x27;Parch&#x27;]</pre></div></div></div><div class=\"sk-serial\"><div class=\"sk-item\"><div class=\"sk-estimator sk-toggleable\"><input class=\"sk-toggleable__control sk-hidden--visually\" id=\"sk-estimator-id-26\" type=\"checkbox\" ><label for=\"sk-estimator-id-26\" class=\"sk-toggleable__label sk-toggleable__label-arrow\">passthrough</label><div class=\"sk-toggleable__content\"><pre>passthrough</pre></div></div></div></div></div></div><div class=\"sk-parallel-item\"><div class=\"sk-item\"><div class=\"sk-label-container\"><div class=\"sk-label sk-toggleable\"><input class=\"sk-toggleable__control sk-hidden--visually\" id=\"sk-estimator-id-27\" type=\"checkbox\" ><label for=\"sk-estimator-id-27\" class=\"sk-toggleable__label sk-toggleable__label-arrow\">Unique</label><div class=\"sk-toggleable__content\"><pre>[&#x27;PassengerId&#x27;, &#x27;Name&#x27;]</pre></div></div></div><div class=\"sk-serial\"><div class=\"sk-item\"><div class=\"sk-estimator sk-toggleable\"><input class=\"sk-toggleable__control sk-hidden--visually\" id=\"sk-estimator-id-28\" type=\"checkbox\" ><label for=\"sk-estimator-id-28\" class=\"sk-toggleable__label sk-toggleable__label-arrow\">drop</label><div class=\"sk-toggleable__content\"><pre>drop</pre></div></div></div></div></div></div></div></div><div class=\"sk-item\"><div class=\"sk-estimator sk-toggleable\"><input class=\"sk-toggleable__control sk-hidden--visually\" id=\"sk-estimator-id-29\" type=\"checkbox\" ><label for=\"sk-estimator-id-29\" class=\"sk-toggleable__label sk-toggleable__label-arrow\">RandomForestClassifier</label><div class=\"sk-toggleable__content\"><pre>RandomForestClassifier(random_state=7)</pre></div></div></div></div></div></div></div>"
      ],
      "text/plain": [
       "Pipeline(steps=[('Transformer',\n",
       "                 ColumnTransformer(transformers=[('Categorical1',\n",
       "                                                  Pipeline(steps=[('Impute',\n",
       "                                                                   SimpleImputer(strategy='constant')),\n",
       "                                                                  ('Encode',\n",
       "                                                                   OrdinalEncoder(handle_unknown='use_encoded_value',\n",
       "                                                                                  unknown_value=-1))]),\n",
       "                                                  ['Ticket', 'Cabin']),\n",
       "                                                 ('Categorical2',\n",
       "                                                  OneHotEncoder(handle_unknown='ignore'),\n",
       "                                                  ['Sex', 'Embarked']),\n",
       "                                                 ('Numerical',\n",
       "                                                  Pipeline(steps=[('Impute',\n",
       "                                                                   KNNImputer()),\n",
       "                                                                  ('Scale',\n",
       "                                                                   StandardScaler())]),\n",
       "                                                  ['Age', 'Fare']),\n",
       "                                                 ('Integer', 'passthrough',\n",
       "                                                  ['Pclass', 'SibSp', 'Parch']),\n",
       "                                                 ('Unique', 'drop',\n",
       "                                                  ['PassengerId', 'Name'])])),\n",
       "                ('ModelRF', RandomForestClassifier(random_state=7))])"
      ]
     },
     "execution_count": 12,
     "metadata": {},
     "output_type": "execute_result"
    }
   ],
   "source": [
    "trans = ColumnTransformer([\n",
    "    (name1, trans1, cols1),\n",
    "    (name2, trans2, cols2),\n",
    "    (name3, trans3, cols3),\n",
    "    (name4, trans4, cols4),\n",
    "    (name5, trans5, cols5),\n",
    "])\n",
    "\n",
    "modelRf = RandomForestClassifier(random_state=7)\n",
    "\n",
    "pipe = Pipeline([\n",
    "    ('Transformer', trans),\n",
    "    ('ModelRF', modelRf)\n",
    "])\n",
    "pipe"
   ]
  },
  {
   "cell_type": "markdown",
   "metadata": {},
   "source": [
    "Now we have prepare a pipeline, let's see how to use it with grid search. We have already known grid search is used to find the best hyperparameters of a model, but when coming with pipeline, it can also be used to search for the best configurations of preprocessing steps."
   ]
  },
  {
   "cell_type": "code",
   "execution_count": 13,
   "metadata": {
    "execution": {
     "iopub.execute_input": "2022-08-17T17:30:45.943730Z",
     "iopub.status.busy": "2022-08-17T17:30:45.942739Z",
     "iopub.status.idle": "2022-08-17T17:31:02.181006Z",
     "shell.execute_reply": "2022-08-17T17:31:02.180272Z",
     "shell.execute_reply.started": "2022-08-17T17:30:45.943691Z"
    }
   },
   "outputs": [
    {
     "name": "stdout",
     "output_type": "stream",
     "text": [
      "0:00:16.232052\n"
     ]
    }
   ],
   "source": [
    "start = dt.datetime.now()\n",
    "\n",
    "params = {\n",
    "    'Transformer__Numerical__Impute__n_neighbors': [3, 5, 7],\n",
    "    'ModelRF__n_estimators': [30, 50, 70],\n",
    "    'ModelRF__max_features': [0.4, 0.6],\n",
    "    'ModelRF__max_samples': [0.4, 0.6],\n",
    "}\n",
    "validator = GridSearchCV(pipe, params, cv=5, scoring='roc_auc')\n",
    "validator = validator.fit(xTrain, yTrain)\n",
    "\n",
    "print(dt.datetime.now() - start)"
   ]
  },
  {
   "cell_type": "code",
   "execution_count": 14,
   "metadata": {
    "execution": {
     "iopub.execute_input": "2022-08-17T17:31:02.182514Z",
     "iopub.status.busy": "2022-08-17T17:31:02.182174Z",
     "iopub.status.idle": "2022-08-17T17:31:02.187355Z",
     "shell.execute_reply": "2022-08-17T17:31:02.186408Z",
     "shell.execute_reply.started": "2022-08-17T17:31:02.182486Z"
    }
   },
   "outputs": [
    {
     "data": {
      "text/plain": [
       "{'ModelRF__max_features': 0.4,\n",
       " 'ModelRF__max_samples': 0.4,\n",
       " 'ModelRF__n_estimators': 70,\n",
       " 'Transformer__Numerical__Impute__n_neighbors': 5}"
      ]
     },
     "execution_count": 14,
     "metadata": {},
     "output_type": "execute_result"
    }
   ],
   "source": [
    "validator.best_params_"
   ]
  },
  {
   "cell_type": "code",
   "execution_count": 15,
   "metadata": {
    "execution": {
     "iopub.execute_input": "2022-08-17T17:31:02.189141Z",
     "iopub.status.busy": "2022-08-17T17:31:02.188720Z",
     "iopub.status.idle": "2022-08-17T17:31:02.217509Z",
     "shell.execute_reply": "2022-08-17T17:31:02.216284Z",
     "shell.execute_reply.started": "2022-08-17T17:31:02.189108Z"
    }
   },
   "outputs": [
    {
     "name": "stdout",
     "output_type": "stream",
     "text": [
      "AUC = 0.7995 [RandomForestClassifier]\n"
     ]
    }
   ],
   "source": [
    "yTestPred = validator.predict_proba(xTest)[:, 1]\n",
    "auc = AUC(yTest, yTestPred)\n",
    "modelName = validator.best_estimator_.steps[1][1].__class__.__name__\n",
    "print(f'AUC = {auc:.4f} [{modelName}]')"
   ]
  },
  {
   "cell_type": "markdown",
   "metadata": {},
   "source": [
    "#### Model selection\n",
    "To adapt pipeline to select among multiple Machine Learning algorithms, we need some tricks."
   ]
  },
  {
   "cell_type": "code",
   "execution_count": 16,
   "metadata": {
    "execution": {
     "iopub.execute_input": "2022-08-17T17:31:02.219845Z",
     "iopub.status.busy": "2022-08-17T17:31:02.219022Z",
     "iopub.status.idle": "2022-08-17T17:31:02.225434Z",
     "shell.execute_reply": "2022-08-17T17:31:02.224309Z",
     "shell.execute_reply.started": "2022-08-17T17:31:02.219797Z"
    }
   },
   "outputs": [],
   "source": [
    "trans = ColumnTransformer([\n",
    "    (name1, trans1, cols1),\n",
    "    (name2, trans2, cols2),\n",
    "    (name3, trans3, cols3),\n",
    "    (name4, trans4, cols4),\n",
    "    (name5, trans5, cols5),\n",
    "])\n",
    "\n",
    "pipe = Pipeline([\n",
    "    ('Transformer', trans),\n",
    "    ('Model', RandomForestClassifier())\n",
    "])"
   ]
  },
  {
   "cell_type": "code",
   "execution_count": 17,
   "metadata": {
    "execution": {
     "iopub.execute_input": "2022-08-17T17:31:02.227428Z",
     "iopub.status.busy": "2022-08-17T17:31:02.226923Z",
     "iopub.status.idle": "2022-08-17T17:31:23.276771Z",
     "shell.execute_reply": "2022-08-17T17:31:23.275857Z",
     "shell.execute_reply.started": "2022-08-17T17:31:02.227389Z"
    }
   },
   "outputs": [
    {
     "name": "stdout",
     "output_type": "stream",
     "text": [
      "0:00:21.043318\n"
     ]
    }
   ],
   "source": [
    "start = dt.datetime.now()\n",
    "\n",
    "params = [\n",
    "    {\n",
    "        'Transformer__Numerical__Impute__n_neighbors': [5, 7],\n",
    "        'Model': [RandomForestClassifier()],\n",
    "        'Model__n_estimators': [80, 100],\n",
    "        'Model__max_samples': [0.3, 0.5],\n",
    "    },\n",
    "    {\n",
    "        'Transformer__Numerical__Impute__n_neighbors': [5, 7],\n",
    "        'Model': [HistGradientBoostingClassifier()],\n",
    "        'Model__max_iter': [80, 100],\n",
    "        'Model__learning_rate': [0.1, 0.05],\n",
    "    }\n",
    "]\n",
    "\n",
    "validator = GridSearchCV(pipe, params, cv=5, scoring='roc_auc')\n",
    "validator = validator.fit(xTrain, yTrain)\n",
    "\n",
    "print(dt.datetime.now() - start)"
   ]
  },
  {
   "cell_type": "code",
   "execution_count": 18,
   "metadata": {
    "execution": {
     "iopub.execute_input": "2022-08-17T17:31:23.279224Z",
     "iopub.status.busy": "2022-08-17T17:31:23.278659Z",
     "iopub.status.idle": "2022-08-17T17:31:23.285539Z",
     "shell.execute_reply": "2022-08-17T17:31:23.284297Z",
     "shell.execute_reply.started": "2022-08-17T17:31:23.279181Z"
    }
   },
   "outputs": [
    {
     "data": {
      "text/plain": [
       "{'Model': HistGradientBoostingClassifier(learning_rate=0.05),\n",
       " 'Model__learning_rate': 0.05,\n",
       " 'Model__max_iter': 100,\n",
       " 'Transformer__Numerical__Impute__n_neighbors': 5}"
      ]
     },
     "execution_count": 18,
     "metadata": {},
     "output_type": "execute_result"
    }
   ],
   "source": [
    "validator.best_params_"
   ]
  },
  {
   "cell_type": "code",
   "execution_count": 19,
   "metadata": {
    "execution": {
     "iopub.execute_input": "2022-08-17T17:31:23.287552Z",
     "iopub.status.busy": "2022-08-17T17:31:23.286971Z",
     "iopub.status.idle": "2022-08-17T17:31:23.338965Z",
     "shell.execute_reply": "2022-08-17T17:31:23.337997Z",
     "shell.execute_reply.started": "2022-08-17T17:31:23.287516Z"
    },
    "tags": []
   },
   "outputs": [
    {
     "name": "stdout",
     "output_type": "stream",
     "text": [
      "AUC = 0.8102 [HistGradientBoostingClassifier]\n"
     ]
    }
   ],
   "source": [
    "yTestPred = validator.predict_proba(xTest)[:, 1]\n",
    "auc = AUC(yTest, yTestPred)\n",
    "modelName = validator.best_estimator_.steps[1][1].__class__.__name__\n",
    "print(f'AUC = {auc:.4f} [{modelName}]')"
   ]
  },
  {
   "attachments": {},
   "cell_type": "markdown",
   "metadata": {},
   "source": [
    "#### Saving a model\n",
    "The built-in package [Pickle](https://docs.python.org/3/library/pickle.html) in python let us save the model into a file and load it again to make prediction. This helps us saving the time to train the model from the begin each time we use it. In case the model is too big, [Joblib](https://joblib.readthedocs.io/en/latest/) is a good alternative. The extension of pickle files can be anything, but is usually `.p`, `.pkl`, `.pickle` as Pickle uses Pickle protocol to read the data inside the file and ignores the extension. "
   ]
  },
  {
   "cell_type": "code",
   "execution_count": 20,
   "metadata": {
    "execution": {
     "iopub.execute_input": "2022-08-17T17:31:23.340530Z",
     "iopub.status.busy": "2022-08-17T17:31:23.340197Z",
     "iopub.status.idle": "2022-08-17T17:31:23.385959Z",
     "shell.execute_reply": "2022-08-17T17:31:23.385142Z",
     "shell.execute_reply.started": "2022-08-17T17:31:23.340502Z"
    },
    "tags": []
   },
   "outputs": [
    {
     "name": "stdout",
     "output_type": "stream",
     "text": [
      "AUC = 0.8102 [HistGradientBoostingClassifier]\n"
     ]
    }
   ],
   "source": [
    "import pickle\n",
    "filename = '../output/pipeline_model.pkl'\n",
    "\n",
    "pickle.dump(validator, open(filename, 'wb'))\n",
    "\n",
    "modelLoaded = pickle.load(open(filename, 'rb'))\n",
    "\n",
    "yTestPred = modelLoaded.predict_proba(xTest)[:, 1]\n",
    "auc = AUC(yTest, yTestPred)\n",
    "modelName = modelLoaded.best_estimator_.steps[1][1].__class__.__name__\n",
    "print(f'AUC = {auc:.4f} [{modelName}]')"
   ]
  },
  {
   "cell_type": "code",
   "execution_count": 22,
   "metadata": {
    "execution": {
     "iopub.execute_input": "2022-08-17T17:31:44.608037Z",
     "iopub.status.busy": "2022-08-17T17:31:44.607448Z",
     "iopub.status.idle": "2022-08-17T17:31:44.692320Z",
     "shell.execute_reply": "2022-08-17T17:31:44.691473Z",
     "shell.execute_reply.started": "2022-08-17T17:31:44.607988Z"
    },
    "tags": []
   },
   "outputs": [
    {
     "name": "stdout",
     "output_type": "stream",
     "text": [
      "AUC = 0.8102 [HistGradientBoostingClassifier]\n"
     ]
    }
   ],
   "source": [
    "import joblib\n",
    "filename = '../output/pipeline_model.joblib'\n",
    "\n",
    "joblib.dump(validator, filename)\n",
    "\n",
    "modelLoaded = joblib.load(filename)\n",
    "\n",
    "yTestPred = modelLoaded.predict_proba(xTest)[:, 1]\n",
    "auc = AUC(yTest, yTestPred)\n",
    "modelName = modelLoaded.best_estimator_.steps[1][1].__class__.__name__\n",
    "print(f'AUC = {auc:.4f} [{modelName}]')"
   ]
  },
  {
   "cell_type": "markdown",
   "metadata": {},
   "source": [
    "## Resources\n",
    "- *featuretools.alteryx.com - [Documentation](https://featuretools.alteryx.com/en/stable/)*\n",
    "- *contrib.scikit-learn.org - [Category encoders](https://contrib.scikit-learn.org/category_encoders/)*\n",
    "- *helios.mm.di.uoa.gr - [A processing scheme for high-cardinality categorical attributes in classification and prediction problems](http://helios.mm.di.uoa.gr/~rouvas/ssi/sigkdd/sigkdd.vol3.1/barreca.pdf)*\n",
    "- *kaggle.com - [11 categorical encoders and benchmarks](https://www.kaggle.com/code/subinium/11-categorical-encoders-and-benchmark)*\n",
    "- *kaggle.com - [Automated feature engineering basics](https://www.kaggle.com/code/willkoehrsen/automated-feature-engineering-basics/notebook#Deep-Feature-Synthesis)*\n",
    "- *towardsdatascience.com - [Benchmarking categorical encoders](https://towardsdatascience.com/benchmarking-categorical-encoders-9c322bd77ee8)*\n",
    "- *towardsdatascience.com - [Automated feature engineering in Python](https://towardsdatascience.com/automated-feature-engineering-in-python-99baf11cc219)*\n",
    "- *towardsdatascience.com - [All about categorical variable encoding](https://towardsdatascience.com/all-about-categorical-variable-encoding-305f3361fd02)*\n",
    "- *listendata.com - [Weight of Evidence and Information value explained](https://www.listendata.com/2015/03/weight-of-evidence-woe-and-information.html)*"
   ]
  }
 ],
 "metadata": {
  "kernelspec": {
   "display_name": "Python 3",
   "language": "python",
   "name": "python3"
  },
  "language_info": {
   "codemirror_mode": {
    "name": "ipython",
    "version": 3
   },
   "file_extension": ".py",
   "mimetype": "text/x-python",
   "name": "python",
   "nbconvert_exporter": "python",
   "pygments_lexer": "ipython3",
   "version": "3.8.8"
  }
 },
 "nbformat": 4,
 "nbformat_minor": 4
}
